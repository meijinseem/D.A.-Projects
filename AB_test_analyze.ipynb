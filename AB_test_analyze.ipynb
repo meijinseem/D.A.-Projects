{
 "cells": [
  {
   "cell_type": "markdown",
   "metadata": {},
   "source": [
    "<h1>Описание проекта</h1>"
   ]
  },
  {
   "cell_type": "markdown",
   "metadata": {},
   "source": [
    "Я — аналитик крупного интернет-магазина. Вместе с отделом маркетинга я подготовил список гипотез для увеличения выручки.\n",
    "Наша задача: Приоритизировать гипотезы, запустить A/B-тест и проанализировать его результаты."
   ]
  },
  {
   "cell_type": "markdown",
   "metadata": {},
   "source": [
    "<h2>Часть 1. Приоритизация гипотез.</h2>"
   ]
  },
  {
   "cell_type": "markdown",
   "metadata": {},
   "source": [
    "<strong>Задача</strong>\n",
    "\n",
    "В файле /datasets/hypothesis.csv 9 гипотез по увеличению выручки интернет-магазина с указанными параметрами Reach, Impact, Confidence, Effort.\n",
    "<ul>\n",
    "<li>Примените фреймворк ICE для приоритизации гипотез. Отсортируйте их по убыванию приоритета.</li>\n",
    "<li>Примените фреймворк RICE для приоритизации гипотез. Отсортируйте их по убыванию приоритета.</li>\n",
    "<li>Укажите, как изменилась приоритизация гипотез при применении RICE вместо ICE. Объясните, почему так произошло.</li>\n",
    "</ul>"
   ]
  },
  {
   "cell_type": "markdown",
   "metadata": {},
   "source": [
    "<strong>Описание данных</strong>"
   ]
  },
  {
   "cell_type": "markdown",
   "metadata": {},
   "source": [
    "<ul>\n",
    "<li>Hypothesis — краткое описание гипотезы;</li>\n",
    "<li>Reach  — охват пользователей по 10-балльной шкале;</li>\n",
    "<li>Impact — влияние на пользователей по 10-балльной шкале;</li>\n",
    "<li>Confidence — уверенность в гипотезе по 10-балльной шкале;</li>\n",
    "<li>Efforts  —  затраты ресурсов на проверку гипотезы по 10-балльной шкале. Чем больше значение Efforts, тем дороже проверка гипотезы.</li>\n",
    "</ul>"
   ]
  },
  {
   "cell_type": "code",
   "execution_count": 107,
   "metadata": {},
   "outputs": [],
   "source": [
    "import pandas as pd\n",
    "import datetime as dt\n",
    "import numpy as np\n",
    "import matplotlib.pyplot as plt\n",
    "from pandas.plotting import register_matplotlib_converters\n",
    "import warnings\n",
    "import scipy.stats as stats"
   ]
  },
  {
   "cell_type": "code",
   "execution_count": 108,
   "metadata": {},
   "outputs": [],
   "source": [
    "data = pd.read_csv('/datasets/hypothesis.csv')"
   ]
  },
  {
   "cell_type": "code",
   "execution_count": 109,
   "metadata": {},
   "outputs": [
    {
     "data": {
      "text/html": [
       "<div>\n",
       "<style scoped>\n",
       "    .dataframe tbody tr th:only-of-type {\n",
       "        vertical-align: middle;\n",
       "    }\n",
       "\n",
       "    .dataframe tbody tr th {\n",
       "        vertical-align: top;\n",
       "    }\n",
       "\n",
       "    .dataframe thead th {\n",
       "        text-align: right;\n",
       "    }\n",
       "</style>\n",
       "<table border=\"1\" class=\"dataframe\">\n",
       "  <thead>\n",
       "    <tr style=\"text-align: right;\">\n",
       "      <th></th>\n",
       "      <th>Hypothesis</th>\n",
       "      <th>Reach</th>\n",
       "      <th>Impact</th>\n",
       "      <th>Confidence</th>\n",
       "      <th>Efforts</th>\n",
       "    </tr>\n",
       "  </thead>\n",
       "  <tbody>\n",
       "    <tr>\n",
       "      <th>0</th>\n",
       "      <td>Добавить два новых канала привлечения трафика, что позволит привлекать на 30% больше пользователей</td>\n",
       "      <td>3</td>\n",
       "      <td>10</td>\n",
       "      <td>8</td>\n",
       "      <td>6</td>\n",
       "    </tr>\n",
       "    <tr>\n",
       "      <th>1</th>\n",
       "      <td>Запустить собственную службу доставки, что сократит срок доставки заказов</td>\n",
       "      <td>2</td>\n",
       "      <td>5</td>\n",
       "      <td>4</td>\n",
       "      <td>10</td>\n",
       "    </tr>\n",
       "    <tr>\n",
       "      <th>2</th>\n",
       "      <td>Добавить блоки рекомендаций товаров на сайт интернет магазина, чтобы повысить конверсию и средний чек заказа</td>\n",
       "      <td>8</td>\n",
       "      <td>3</td>\n",
       "      <td>7</td>\n",
       "      <td>3</td>\n",
       "    </tr>\n",
       "    <tr>\n",
       "      <th>3</th>\n",
       "      <td>Изменить структура категорий, что увеличит конверсию, т.к. пользователи быстрее найдут нужный товар</td>\n",
       "      <td>8</td>\n",
       "      <td>3</td>\n",
       "      <td>3</td>\n",
       "      <td>8</td>\n",
       "    </tr>\n",
       "    <tr>\n",
       "      <th>4</th>\n",
       "      <td>Изменить цвет фона главной страницы, чтобы увеличить вовлеченность пользователей</td>\n",
       "      <td>3</td>\n",
       "      <td>1</td>\n",
       "      <td>1</td>\n",
       "      <td>1</td>\n",
       "    </tr>\n",
       "    <tr>\n",
       "      <th>5</th>\n",
       "      <td>Добавить страницу отзывов клиентов о магазине, что позволит увеличить количество заказов</td>\n",
       "      <td>3</td>\n",
       "      <td>2</td>\n",
       "      <td>2</td>\n",
       "      <td>3</td>\n",
       "    </tr>\n",
       "    <tr>\n",
       "      <th>6</th>\n",
       "      <td>Показать на главной странице баннеры с актуальными акциями и распродажами, чтобы увеличить конверсию</td>\n",
       "      <td>5</td>\n",
       "      <td>3</td>\n",
       "      <td>8</td>\n",
       "      <td>3</td>\n",
       "    </tr>\n",
       "    <tr>\n",
       "      <th>7</th>\n",
       "      <td>Добавить форму подписки на все основные страницы, чтобы собрать базу клиентов для email-рассылок</td>\n",
       "      <td>10</td>\n",
       "      <td>7</td>\n",
       "      <td>8</td>\n",
       "      <td>5</td>\n",
       "    </tr>\n",
       "    <tr>\n",
       "      <th>8</th>\n",
       "      <td>Запустить акцию, дающую скидку на товар в день рождения</td>\n",
       "      <td>1</td>\n",
       "      <td>9</td>\n",
       "      <td>9</td>\n",
       "      <td>5</td>\n",
       "    </tr>\n",
       "  </tbody>\n",
       "</table>\n",
       "</div>"
      ],
      "text/plain": [
       "                                                                                                     Hypothesis  \\\n",
       "0            Добавить два новых канала привлечения трафика, что позволит привлекать на 30% больше пользователей   \n",
       "1                                     Запустить собственную службу доставки, что сократит срок доставки заказов   \n",
       "2  Добавить блоки рекомендаций товаров на сайт интернет магазина, чтобы повысить конверсию и средний чек заказа   \n",
       "3           Изменить структура категорий, что увеличит конверсию, т.к. пользователи быстрее найдут нужный товар   \n",
       "4                              Изменить цвет фона главной страницы, чтобы увеличить вовлеченность пользователей   \n",
       "5                      Добавить страницу отзывов клиентов о магазине, что позволит увеличить количество заказов   \n",
       "6          Показать на главной странице баннеры с актуальными акциями и распродажами, чтобы увеличить конверсию   \n",
       "7              Добавить форму подписки на все основные страницы, чтобы собрать базу клиентов для email-рассылок   \n",
       "8                                                       Запустить акцию, дающую скидку на товар в день рождения   \n",
       "\n",
       "   Reach  Impact  Confidence  Efforts  \n",
       "0      3      10           8        6  \n",
       "1      2       5           4       10  \n",
       "2      8       3           7        3  \n",
       "3      8       3           3        8  \n",
       "4      3       1           1        1  \n",
       "5      3       2           2        3  \n",
       "6      5       3           8        3  \n",
       "7     10       7           8        5  \n",
       "8      1       9           9        5  "
      ]
     },
     "execution_count": 109,
     "metadata": {},
     "output_type": "execute_result"
    }
   ],
   "source": [
    "pd.set_option('display.max_colwidth', None)\n",
    "data.head(10)"
   ]
  },
  {
   "cell_type": "code",
   "execution_count": 110,
   "metadata": {},
   "outputs": [],
   "source": [
    "data.columns = data.columns.str.lower()"
   ]
  },
  {
   "cell_type": "markdown",
   "metadata": {},
   "source": [
    "Считаем ICE"
   ]
  },
  {
   "cell_type": "code",
   "execution_count": 111,
   "metadata": {},
   "outputs": [
    {
     "name": "stdout",
     "output_type": "stream",
     "text": [
      "                                                                                                     hypothesis  \\\n",
      "8                                                       Запустить акцию, дающую скидку на товар в день рождения   \n",
      "0            Добавить два новых канала привлечения трафика, что позволит привлекать на 30% больше пользователей   \n",
      "7              Добавить форму подписки на все основные страницы, чтобы собрать базу клиентов для email-рассылок   \n",
      "6          Показать на главной странице баннеры с актуальными акциями и распродажами, чтобы увеличить конверсию   \n",
      "2  Добавить блоки рекомендаций товаров на сайт интернет магазина, чтобы повысить конверсию и средний чек заказа   \n",
      "1                                     Запустить собственную службу доставки, что сократит срок доставки заказов   \n",
      "5                      Добавить страницу отзывов клиентов о магазине, что позволит увеличить количество заказов   \n",
      "3           Изменить структура категорий, что увеличит конверсию, т.к. пользователи быстрее найдут нужный товар   \n",
      "4                              Изменить цвет фона главной страницы, чтобы увеличить вовлеченность пользователей   \n",
      "\n",
      "     ICE  \n",
      "8  16.20  \n",
      "0  13.33  \n",
      "7  11.20  \n",
      "6   8.00  \n",
      "2   7.00  \n",
      "1   2.00  \n",
      "5   1.33  \n",
      "3   1.12  \n",
      "4   1.00  \n"
     ]
    }
   ],
   "source": [
    "data['ICE'] = round(data['impact']*data['confidence']/data['efforts'],2)\n",
    "\n",
    "print(data[['hypothesis','ICE']].sort_values(by = 'ICE', ascending = False))"
   ]
  },
  {
   "cell_type": "markdown",
   "metadata": {},
   "source": [
    "Считаем RICE"
   ]
  },
  {
   "cell_type": "code",
   "execution_count": 112,
   "metadata": {},
   "outputs": [
    {
     "name": "stdout",
     "output_type": "stream",
     "text": [
      "                                                                                                     hypothesis  \\\n",
      "7              Добавить форму подписки на все основные страницы, чтобы собрать базу клиентов для email-рассылок   \n",
      "2  Добавить блоки рекомендаций товаров на сайт интернет магазина, чтобы повысить конверсию и средний чек заказа   \n",
      "0            Добавить два новых канала привлечения трафика, что позволит привлекать на 30% больше пользователей   \n",
      "6          Показать на главной странице баннеры с актуальными акциями и распродажами, чтобы увеличить конверсию   \n",
      "8                                                       Запустить акцию, дающую скидку на товар в день рождения   \n",
      "3           Изменить структура категорий, что увеличит конверсию, т.к. пользователи быстрее найдут нужный товар   \n",
      "1                                     Запустить собственную службу доставки, что сократит срок доставки заказов   \n",
      "5                      Добавить страницу отзывов клиентов о магазине, что позволит увеличить количество заказов   \n",
      "4                              Изменить цвет фона главной страницы, чтобы увеличить вовлеченность пользователей   \n",
      "\n",
      "    RICE  \n",
      "7  112.0  \n",
      "2   56.0  \n",
      "0   40.0  \n",
      "6   40.0  \n",
      "8   16.2  \n",
      "3    9.0  \n",
      "1    4.0  \n",
      "5    4.0  \n",
      "4    3.0  \n"
     ]
    }
   ],
   "source": [
    "data['RICE'] = round(data['reach']*data['impact']*data['confidence']/data['efforts'],2)\n",
    "\n",
    "print(data[['hypothesis','RICE']].sort_values(by = 'RICE', ascending = False))"
   ]
  },
  {
   "cell_type": "markdown",
   "metadata": {},
   "source": [
    "При применении фреймворка 'ICE' лидерами стали 8, 0, 7 гипотезы. Наименее приоритетными оказались 5 и 4.\n",
    "При применении фреймворка 'RICE' лидеры поменялись на 7, 2 и 0. Гипотезе 2 удалось стать приоритетнее, потому что у нее высокий показатель reach, который домножился в начале формулы. Гипотеза 8 стала менее приоритетной как раз из-за того, что у нее показтель reach равен 1, что при умножении не дает никакого результата. Наименее приоритетная гипотеза 4 осталась в самом низу, так как все остальные ее показатели равны равны 1."
   ]
  },
  {
   "cell_type": "markdown",
   "metadata": {},
   "source": [
    "<h2>Часть 2. Анализ A/B-теста.</h2>"
   ]
  },
  {
   "cell_type": "markdown",
   "metadata": {},
   "source": [
    "<strong>Задача</strong>\n",
    "\n",
    "Вы провели A/B-тест и получили результаты, которые описаны в файлах /datasets/orders.csv и /datasets/visitors.csv.\n",
    "\n",
    "Проанализируйте A/B-тест:\n",
    "<ol>\n",
    "<li>Постройте график кумулятивной выручки по группам. Сделайте выводы и предположения.</li>\n",
    "<li>Постройте график кумулятивного среднего чека по группам. Сделайте выводы и предположения.</li>\n",
    "<li>Постройте график относительного изменения кумулятивного среднего чека группы B к группе A. Сделайте выводы и предположения.</li>\n",
    "<li>Постройте график кумулятивного среднего количества заказов по группам. Сделайте выводы и предположения.</li>\n",
    "<li>Постройте график относительного изменения кумулятивного среднего количества заказов группы B к группе A. Сделайте выводы и предположения.</li>\n",
    "    <li>Постройте точечный график количества заказов по пользователям. Сделайте выводы и предположения.</li>\n",
    "    <li>Посчитайте 95-й и 99-й перцентили количества заказов на пользователя. Выберите границу для определения аномальных пользователей.</li>\n",
    "    <li>Постройте точечный график стоимостей заказов. Сделайте выводы и предположения.</li>\n",
    "    <li>Посчитайте 95-й и 99-й перцентили стоимости заказов. Выберите границу для определения аномальных заказов.</li>\n",
    "    <li>Посчитайте статистическую значимость различий в среднем количестве заказов между группами по «сырым» данным. Сделайте выводы и предположения.</li>\n",
    "    <li>Посчитайте статистическую значимость различий в среднем чеке заказа между группами по «сырым» данным. Сделайте выводы и предположения.</li>\n",
    "    <li>Посчитайте статистическую значимость различий в среднем количестве заказов между группами по «очищенным» данным. Сделайте выводы и предположения.</li>\n",
    "    <li>Посчитайте статистическую значимость различий в среднем чеке заказа между группами по «очищенным» данным. Сделайте выводы и предположения.</li>\n",
    "    <li>Примите решение по результатам теста и объясните его. Варианты решений: 1. Остановить тест, зафиксировать победу одной из групп. 2. Остановить тест, зафиксировать отсутствие различий между группами. 3. Продолжить тест.</li>\n",
    "</ol>"
   ]
  },
  {
   "cell_type": "code",
   "execution_count": 113,
   "metadata": {},
   "outputs": [],
   "source": [
    "orders = pd.read_csv('/datasets/orders.csv')"
   ]
  },
  {
   "cell_type": "code",
   "execution_count": 114,
   "metadata": {},
   "outputs": [],
   "source": [
    "visitors = pd.read_csv('/datasets/visitors.csv')"
   ]
  },
  {
   "cell_type": "code",
   "execution_count": 115,
   "metadata": {},
   "outputs": [
    {
     "data": {
      "text/html": [
       "<div>\n",
       "<style scoped>\n",
       "    .dataframe tbody tr th:only-of-type {\n",
       "        vertical-align: middle;\n",
       "    }\n",
       "\n",
       "    .dataframe tbody tr th {\n",
       "        vertical-align: top;\n",
       "    }\n",
       "\n",
       "    .dataframe thead th {\n",
       "        text-align: right;\n",
       "    }\n",
       "</style>\n",
       "<table border=\"1\" class=\"dataframe\">\n",
       "  <thead>\n",
       "    <tr style=\"text-align: right;\">\n",
       "      <th></th>\n",
       "      <th>transactionId</th>\n",
       "      <th>visitorId</th>\n",
       "      <th>date</th>\n",
       "      <th>revenue</th>\n",
       "      <th>group</th>\n",
       "    </tr>\n",
       "  </thead>\n",
       "  <tbody>\n",
       "    <tr>\n",
       "      <th>0</th>\n",
       "      <td>3667963787</td>\n",
       "      <td>3312258926</td>\n",
       "      <td>2019-08-15</td>\n",
       "      <td>1650</td>\n",
       "      <td>B</td>\n",
       "    </tr>\n",
       "    <tr>\n",
       "      <th>1</th>\n",
       "      <td>2804400009</td>\n",
       "      <td>3642806036</td>\n",
       "      <td>2019-08-15</td>\n",
       "      <td>730</td>\n",
       "      <td>B</td>\n",
       "    </tr>\n",
       "    <tr>\n",
       "      <th>2</th>\n",
       "      <td>2961555356</td>\n",
       "      <td>4069496402</td>\n",
       "      <td>2019-08-15</td>\n",
       "      <td>400</td>\n",
       "      <td>A</td>\n",
       "    </tr>\n",
       "    <tr>\n",
       "      <th>3</th>\n",
       "      <td>3797467345</td>\n",
       "      <td>1196621759</td>\n",
       "      <td>2019-08-15</td>\n",
       "      <td>9759</td>\n",
       "      <td>B</td>\n",
       "    </tr>\n",
       "    <tr>\n",
       "      <th>4</th>\n",
       "      <td>2282983706</td>\n",
       "      <td>2322279887</td>\n",
       "      <td>2019-08-15</td>\n",
       "      <td>2308</td>\n",
       "      <td>B</td>\n",
       "    </tr>\n",
       "  </tbody>\n",
       "</table>\n",
       "</div>"
      ],
      "text/plain": [
       "   transactionId   visitorId        date  revenue group\n",
       "0     3667963787  3312258926  2019-08-15     1650     B\n",
       "1     2804400009  3642806036  2019-08-15      730     B\n",
       "2     2961555356  4069496402  2019-08-15      400     A\n",
       "3     3797467345  1196621759  2019-08-15     9759     B\n",
       "4     2282983706  2322279887  2019-08-15     2308     B"
      ]
     },
     "execution_count": 115,
     "metadata": {},
     "output_type": "execute_result"
    }
   ],
   "source": [
    "orders.head()"
   ]
  },
  {
   "cell_type": "code",
   "execution_count": 116,
   "metadata": {},
   "outputs": [
    {
     "name": "stdout",
     "output_type": "stream",
     "text": [
      "<class 'pandas.core.frame.DataFrame'>\n",
      "RangeIndex: 1197 entries, 0 to 1196\n",
      "Data columns (total 5 columns):\n",
      " #   Column         Non-Null Count  Dtype \n",
      "---  ------         --------------  ----- \n",
      " 0   transactionId  1197 non-null   int64 \n",
      " 1   visitorId      1197 non-null   int64 \n",
      " 2   date           1197 non-null   object\n",
      " 3   revenue        1197 non-null   int64 \n",
      " 4   group          1197 non-null   object\n",
      "dtypes: int64(3), object(2)\n",
      "memory usage: 46.9+ KB\n"
     ]
    }
   ],
   "source": [
    "orders.info()"
   ]
  },
  {
   "cell_type": "code",
   "execution_count": 117,
   "metadata": {},
   "outputs": [
    {
     "name": "stdout",
     "output_type": "stream",
     "text": [
      "Кол-во дубликатов: 0\n"
     ]
    }
   ],
   "source": [
    "print(f'Кол-во дубликатов: {orders.duplicated().sum()}')"
   ]
  },
  {
   "cell_type": "code",
   "execution_count": 118,
   "metadata": {},
   "outputs": [
    {
     "data": {
      "text/html": [
       "<div>\n",
       "<style scoped>\n",
       "    .dataframe tbody tr th:only-of-type {\n",
       "        vertical-align: middle;\n",
       "    }\n",
       "\n",
       "    .dataframe tbody tr th {\n",
       "        vertical-align: top;\n",
       "    }\n",
       "\n",
       "    .dataframe thead th {\n",
       "        text-align: right;\n",
       "    }\n",
       "</style>\n",
       "<table border=\"1\" class=\"dataframe\">\n",
       "  <thead>\n",
       "    <tr style=\"text-align: right;\">\n",
       "      <th></th>\n",
       "      <th>date</th>\n",
       "      <th>group</th>\n",
       "      <th>visitors</th>\n",
       "    </tr>\n",
       "  </thead>\n",
       "  <tbody>\n",
       "    <tr>\n",
       "      <th>0</th>\n",
       "      <td>2019-08-01</td>\n",
       "      <td>A</td>\n",
       "      <td>719</td>\n",
       "    </tr>\n",
       "    <tr>\n",
       "      <th>1</th>\n",
       "      <td>2019-08-02</td>\n",
       "      <td>A</td>\n",
       "      <td>619</td>\n",
       "    </tr>\n",
       "    <tr>\n",
       "      <th>2</th>\n",
       "      <td>2019-08-03</td>\n",
       "      <td>A</td>\n",
       "      <td>507</td>\n",
       "    </tr>\n",
       "    <tr>\n",
       "      <th>3</th>\n",
       "      <td>2019-08-04</td>\n",
       "      <td>A</td>\n",
       "      <td>717</td>\n",
       "    </tr>\n",
       "    <tr>\n",
       "      <th>4</th>\n",
       "      <td>2019-08-05</td>\n",
       "      <td>A</td>\n",
       "      <td>756</td>\n",
       "    </tr>\n",
       "  </tbody>\n",
       "</table>\n",
       "</div>"
      ],
      "text/plain": [
       "         date group  visitors\n",
       "0  2019-08-01     A       719\n",
       "1  2019-08-02     A       619\n",
       "2  2019-08-03     A       507\n",
       "3  2019-08-04     A       717\n",
       "4  2019-08-05     A       756"
      ]
     },
     "execution_count": 118,
     "metadata": {},
     "output_type": "execute_result"
    }
   ],
   "source": [
    "visitors.head()"
   ]
  },
  {
   "cell_type": "code",
   "execution_count": 119,
   "metadata": {},
   "outputs": [
    {
     "name": "stdout",
     "output_type": "stream",
     "text": [
      "<class 'pandas.core.frame.DataFrame'>\n",
      "RangeIndex: 62 entries, 0 to 61\n",
      "Data columns (total 3 columns):\n",
      " #   Column    Non-Null Count  Dtype \n",
      "---  ------    --------------  ----- \n",
      " 0   date      62 non-null     object\n",
      " 1   group     62 non-null     object\n",
      " 2   visitors  62 non-null     int64 \n",
      "dtypes: int64(1), object(2)\n",
      "memory usage: 1.6+ KB\n"
     ]
    }
   ],
   "source": [
    "visitors.info()"
   ]
  },
  {
   "cell_type": "code",
   "execution_count": 120,
   "metadata": {},
   "outputs": [
    {
     "name": "stdout",
     "output_type": "stream",
     "text": [
      "Кол-во дубликатов: 0\n"
     ]
    }
   ],
   "source": [
    "print(f'Кол-во дубликатов: {visitors.duplicated().sum()}')"
   ]
  },
  {
   "cell_type": "markdown",
   "metadata": {},
   "source": [
    "Все данные в порядке за исключением типа даты. Преобразуем его."
   ]
  },
  {
   "cell_type": "code",
   "execution_count": 121,
   "metadata": {},
   "outputs": [],
   "source": [
    "orders['date'] = pd.to_datetime(orders['date'])"
   ]
  },
  {
   "cell_type": "code",
   "execution_count": 122,
   "metadata": {},
   "outputs": [],
   "source": [
    "visitors['date'] = pd.to_datetime(visitors['date'])"
   ]
  },
  {
   "cell_type": "markdown",
   "metadata": {},
   "source": [
    "Проверим, есть ли пользователи, которые одновременно попали в группу 'A' и в 'B'"
   ]
  },
  {
   "cell_type": "code",
   "execution_count": 123,
   "metadata": {},
   "outputs": [
    {
     "data": {
      "text/plain": [
       "array([3957174400, 3984495233, 2780786433, 1294878855, 1648269707,\n",
       "       1614305549, 4120364173,  232979603,  199603092, 4266935830,\n",
       "       2712142231, 2587333274, 2716752286, 3891541246, 1668030113,\n",
       "       2654030115, 3234906277, 1230306981, 1404934699, 3803269165,\n",
       "       2949041841,  237748145,  457167155, 2927087541, 1738359350,\n",
       "       3062433592, 3656415546,  818047933,  393266494,  963407295,\n",
       "        471551937, 2579882178, 3202540741, 2686716486, 1333886533,\n",
       "       2044997962, 3941795274, 1801183820, 2378935119, 4256040402,\n",
       "       4069496402, 3766097110,    8300375,  351125977, 1602967004,\n",
       "        276558944, 2038680547, 3951559397, 3963646447, 4186807279,\n",
       "       3717692402, 1959144690, 2458001652, 2600415354, 2954449915,\n",
       "       1316129916,  477780734, 3972127743])"
      ]
     },
     "execution_count": 123,
     "metadata": {},
     "output_type": "execute_result"
    }
   ],
   "source": [
    "duplicates_visits = pd.Series(list(set(orders.query('group == \"A\"')['visitorId']).intersection(set(orders.query('group == \"B\"')['visitorId']))))\n",
    "duplicates_visits.values"
   ]
  },
  {
   "cell_type": "code",
   "execution_count": 124,
   "metadata": {},
   "outputs": [],
   "source": [
    "#Создадим переменную в виде массива с данными, которые пересекаются\n",
    "duplicates_list = list(duplicates_visits.values)"
   ]
  },
  {
   "cell_type": "code",
   "execution_count": 125,
   "metadata": {},
   "outputs": [],
   "source": [
    "#Перезапишем датафрейм, но уже без данных значений\n",
    "orders = orders.query('visitorId != @duplicates_list')"
   ]
  },
  {
   "cell_type": "markdown",
   "metadata": {},
   "source": [
    "Проверим, есть ли пересечения теперь"
   ]
  },
  {
   "cell_type": "code",
   "execution_count": 126,
   "metadata": {},
   "outputs": [
    {
     "name": "stderr",
     "output_type": "stream",
     "text": [
      "/tmp/ipykernel_64/1964881769.py:1: DeprecationWarning: The default dtype for empty Series will be 'object' instead of 'float64' in a future version. Specify a dtype explicitly to silence this warning.\n",
      "  duplicates_visits2 = pd.Series(list(set(orders.query('group == \"A\"')['visitorId']).intersection(set(orders.query('group == \"B\"')['visitorId']))))\n"
     ]
    },
    {
     "data": {
      "text/plain": [
       "array([], dtype=float64)"
      ]
     },
     "execution_count": 126,
     "metadata": {},
     "output_type": "execute_result"
    }
   ],
   "source": [
    "duplicates_visits2 = pd.Series(list(set(orders.query('group == \"A\"')['visitorId']).intersection(set(orders.query('group == \"B\"')['visitorId']))))\n",
    "duplicates_visits2.values"
   ]
  },
  {
   "cell_type": "markdown",
   "metadata": {},
   "source": [
    "Не смотря на ошибку, мы видим, что список пустой, а это значит нам удалось удалить пересекающихся пользователей"
   ]
  },
  {
   "cell_type": "markdown",
   "metadata": {},
   "source": [
    "<strong>1 Постройте график кумулятивной выручки по группам. Сделайте выводы и предположения.</strong>"
   ]
  },
  {
   "cell_type": "markdown",
   "metadata": {},
   "source": [
    "Для этого нам необходимо сделать из наших датафреймов кумулятивные таблицы с накоплением."
   ]
  },
  {
   "cell_type": "code",
   "execution_count": 127,
   "metadata": {},
   "outputs": [],
   "source": [
    "datesGroups = orders[['date','group']].drop_duplicates()"
   ]
  },
  {
   "cell_type": "code",
   "execution_count": 128,
   "metadata": {},
   "outputs": [],
   "source": [
    "ordersAggregated = datesGroups.apply(lambda x: orders[np.logical_and(orders['date'] <= x['date'], orders['group'] == x['group'])]\\\n",
    ".agg({'date' : 'max',\n",
    "      'group' : 'max',\n",
    "      'transactionId' : 'nunique',\n",
    "      'visitorId' : 'nunique',\n",
    "      'revenue' : 'sum'}), axis=1).sort_values(by=['date','group'])\n",
    "\n",
    "visitorsAggregated = datesGroups.apply(lambda x: visitors[np.logical_and(visitors['date'] <= x['date'], visitors['group'] == x['group'])]\n",
    ".agg({'date' : 'max', 'group' : 'max', 'visitors' : 'sum'}), axis=1).sort_values(by=['date','group'])\n",
    "\n",
    "\n",
    "cumulativeData = ordersAggregated.merge(visitorsAggregated, left_on=['date', 'group'], right_on=['date', 'group'])\n",
    "\n",
    "\n",
    "cumulativeData.columns = ['date', 'group', 'orders', 'buyers', 'revenue', 'visitors']"
   ]
  },
  {
   "cell_type": "code",
   "execution_count": 129,
   "metadata": {},
   "outputs": [
    {
     "name": "stdout",
     "output_type": "stream",
     "text": [
      "Кол-во дубликатов: 0\n"
     ]
    }
   ],
   "source": [
    "print(f'Кол-во дубликатов: {cumulativeData.duplicated().sum()}')"
   ]
  },
  {
   "cell_type": "code",
   "execution_count": 130,
   "metadata": {},
   "outputs": [
    {
     "name": "stdout",
     "output_type": "stream",
     "text": [
      "Кол-во пропусков: \n"
     ]
    },
    {
     "data": {
      "text/html": [
       "<style  type=\"text/css\" >\n",
       "#T_d0bba_row0_col0,#T_d0bba_row1_col0,#T_d0bba_row2_col0,#T_d0bba_row3_col0,#T_d0bba_row4_col0,#T_d0bba_row5_col0{\n",
       "            background-color:  #3b4cc0;\n",
       "            color:  #f1f1f1;\n",
       "        }</style><table id=\"T_d0bba_\" ><thead>    <tr>        <th class=\"blank level0\" ></th>        <th class=\"col_heading level0 col0\" >0</th>    </tr></thead><tbody>\n",
       "                <tr>\n",
       "                        <th id=\"T_d0bba_level0_row0\" class=\"row_heading level0 row0\" >date</th>\n",
       "                        <td id=\"T_d0bba_row0_col0\" class=\"data row0 col0\" >0.000000</td>\n",
       "            </tr>\n",
       "            <tr>\n",
       "                        <th id=\"T_d0bba_level0_row1\" class=\"row_heading level0 row1\" >group</th>\n",
       "                        <td id=\"T_d0bba_row1_col0\" class=\"data row1 col0\" >0.000000</td>\n",
       "            </tr>\n",
       "            <tr>\n",
       "                        <th id=\"T_d0bba_level0_row2\" class=\"row_heading level0 row2\" >orders</th>\n",
       "                        <td id=\"T_d0bba_row2_col0\" class=\"data row2 col0\" >0.000000</td>\n",
       "            </tr>\n",
       "            <tr>\n",
       "                        <th id=\"T_d0bba_level0_row3\" class=\"row_heading level0 row3\" >buyers</th>\n",
       "                        <td id=\"T_d0bba_row3_col0\" class=\"data row3 col0\" >0.000000</td>\n",
       "            </tr>\n",
       "            <tr>\n",
       "                        <th id=\"T_d0bba_level0_row4\" class=\"row_heading level0 row4\" >revenue</th>\n",
       "                        <td id=\"T_d0bba_row4_col0\" class=\"data row4 col0\" >0.000000</td>\n",
       "            </tr>\n",
       "            <tr>\n",
       "                        <th id=\"T_d0bba_level0_row5\" class=\"row_heading level0 row5\" >visitors</th>\n",
       "                        <td id=\"T_d0bba_row5_col0\" class=\"data row5 col0\" >0.000000</td>\n",
       "            </tr>\n",
       "    </tbody></table>"
      ],
      "text/plain": [
       "<pandas.io.formats.style.Styler at 0x7fd2c26d11f0>"
      ]
     },
     "execution_count": 130,
     "metadata": {},
     "output_type": "execute_result"
    }
   ],
   "source": [
    "print('Кол-во пропусков: ')\n",
    "pd.DataFrame(round(cumulativeData.isna().mean()*100,)).style.background_gradient('coolwarm')"
   ]
  },
  {
   "cell_type": "code",
   "execution_count": 131,
   "metadata": {},
   "outputs": [
    {
     "name": "stdout",
     "output_type": "stream",
     "text": [
      "Групп в тестировании 2\n",
      "['B' 'A']\n"
     ]
    }
   ],
   "source": [
    "print('Групп в тестировании 2')\n",
    "print(orders['group'].unique())"
   ]
  },
  {
   "cell_type": "code",
   "execution_count": 132,
   "metadata": {},
   "outputs": [
    {
     "name": "stdout",
     "output_type": "stream",
     "text": [
      "Дата начала тестирования:\n",
      "2019-08-01 00:00:00\n",
      "Дата окончания тестирования:\n",
      "2019-08-31 00:00:00\n"
     ]
    }
   ],
   "source": [
    "print('Дата начала тестирования:')\n",
    "print(cumulativeData['date'].min())\n",
    "\n",
    "print('Дата окончания тестирования:')\n",
    "print(cumulativeData['date'].max())"
   ]
  },
  {
   "cell_type": "markdown",
   "metadata": {},
   "source": [
    "Тестирование у нас проходит 31 день."
   ]
  },
  {
   "cell_type": "code",
   "execution_count": 133,
   "metadata": {},
   "outputs": [
    {
     "data": {
      "text/html": [
       "<div>\n",
       "<style scoped>\n",
       "    .dataframe tbody tr th:only-of-type {\n",
       "        vertical-align: middle;\n",
       "    }\n",
       "\n",
       "    .dataframe tbody tr th {\n",
       "        vertical-align: top;\n",
       "    }\n",
       "\n",
       "    .dataframe thead th {\n",
       "        text-align: right;\n",
       "    }\n",
       "</style>\n",
       "<table border=\"1\" class=\"dataframe\">\n",
       "  <thead>\n",
       "    <tr style=\"text-align: right;\">\n",
       "      <th></th>\n",
       "      <th>visitorId</th>\n",
       "    </tr>\n",
       "    <tr>\n",
       "      <th>group</th>\n",
       "      <th></th>\n",
       "    </tr>\n",
       "  </thead>\n",
       "  <tbody>\n",
       "    <tr>\n",
       "      <th>A</th>\n",
       "      <td>445</td>\n",
       "    </tr>\n",
       "    <tr>\n",
       "      <th>B</th>\n",
       "      <td>528</td>\n",
       "    </tr>\n",
       "  </tbody>\n",
       "</table>\n",
       "</div>"
      ],
      "text/plain": [
       "       visitorId\n",
       "group           \n",
       "A            445\n",
       "B            528"
      ]
     },
     "execution_count": 133,
     "metadata": {},
     "output_type": "execute_result"
    }
   ],
   "source": [
    "orders.groupby('group').agg({'visitorId': 'nunique'})"
   ]
  },
  {
   "cell_type": "markdown",
   "metadata": {},
   "source": [
    "В группе 'B' у нас 528 пользователей, а в группе 'А' 445."
   ]
  },
  {
   "cell_type": "code",
   "execution_count": 134,
   "metadata": {},
   "outputs": [
    {
     "data": {
      "text/plain": [
       "Text(0, 0.5, 'Выручка')"
      ]
     },
     "execution_count": 134,
     "metadata": {},
     "output_type": "execute_result"
    },
    {
     "data": {
      "image/png": "[encoded data removed]",
      "text/plain": [
       "<Figure size 864x360 with 1 Axes>"
      ]
     },
     "metadata": {
      "needs_background": "light"
     },
     "output_type": "display_data"
    }
   ],
   "source": [
    "cumulativeRevenueA = cumulativeData[cumulativeData['group']=='A'][['date','revenue', 'orders']]\n",
    "\n",
    "cumulativeRevenueB = cumulativeData[cumulativeData['group']=='B'][['date','revenue', 'orders']]\n",
    "\n",
    "plt.figure(figsize=(12, 5))\n",
    "# Строим график выручки группы А\n",
    "plt.plot(cumulativeRevenueA['date'], cumulativeRevenueA['revenue'], label='A')\n",
    "\n",
    "# Строим график выручки группы B\n",
    "plt.plot(cumulativeRevenueB['date'], cumulativeRevenueB['revenue'], label='B')\n",
    "plt.title(\"Кумулятивная выручка\")\n",
    "plt.legend()\n",
    "plt.xlabel('Дата', fontsize=14)\n",
    "plt.ylabel('Выручка', fontsize=14)\n"
   ]
  },
  {
   "cell_type": "markdown",
   "metadata": {},
   "source": [
    "Сегмент 'B' опережал сегмент 'А' почти на протяжении всего тестирования. В середине теста  выручка группы 'B' резко возосла. Это может быть связанно с аномальным ростом среднего чека либо среднегокол-ва заказов.  "
   ]
  },
  {
   "cell_type": "markdown",
   "metadata": {},
   "source": [
    "<strong>2 Постройте график кумулятивного среднего чека по группам. Сделайте выводы и предположения.</strong>"
   ]
  },
  {
   "cell_type": "code",
   "execution_count": 135,
   "metadata": {},
   "outputs": [
    {
     "data": {
      "text/plain": [
       "Text(0, 0.5, 'Сумма среднего чека')"
      ]
     },
     "execution_count": 135,
     "metadata": {},
     "output_type": "execute_result"
    },
    {
     "data": {
      "image/png": "[encoded data removed]",
      "text/plain": [
       "<Figure size 864x360 with 1 Axes>"
      ]
     },
     "metadata": {
      "needs_background": "light"
     },
     "output_type": "display_data"
    }
   ],
   "source": [
    "cumulativeRevenueA = cumulativeData[cumulativeData['group']=='A'][['date','revenue', 'orders']]\n",
    "\n",
    "cumulativeRevenueB = cumulativeData[cumulativeData['group']=='B'][['date','revenue', 'orders']]\n",
    "plt.figure(figsize=(12, 5))\n",
    "plt.plot(cumulativeRevenueA['date'], cumulativeRevenueA['revenue']/cumulativeRevenueA['orders'], label='A')\n",
    "plt.plot(cumulativeRevenueB['date'], cumulativeRevenueB['revenue']/cumulativeRevenueB['orders'], label='B')\n",
    "plt.title(\"Кумулятивный средний чек\")\n",
    "plt.legend()\n",
    "plt.xlabel('Дата', fontsize=14)\n",
    "plt.ylabel('Сумма среднего чека', fontsize=14)"
   ]
  },
  {
   "cell_type": "markdown",
   "metadata": {},
   "source": [
    "Ближе к середине тестирования сегменту 'А' удалось опередить сегмент 'В', но далее мы видим резкий рост среднего чека. Это может быть связанно с аномальными значениями в сегменте 'B'."
   ]
  },
  {
   "cell_type": "markdown",
   "metadata": {},
   "source": [
    "<strong>3 Постройте график относительного изменения кумулятивного среднего чека группы B к группе A. Сделайте выводы и предположения.</strong>"
   ]
  },
  {
   "cell_type": "code",
   "execution_count": 136,
   "metadata": {},
   "outputs": [
    {
     "data": {
      "text/plain": [
       "Text(0, 0.5, 'Изменение соотношения среднего чека')"
      ]
     },
     "execution_count": 136,
     "metadata": {},
     "output_type": "execute_result"
    },
    {
     "data": {
      "image/png": "[encoded data removed]",
      "text/plain": [
       "<Figure size 864x360 with 1 Axes>"
      ]
     },
     "metadata": {
      "needs_background": "light"
     },
     "output_type": "display_data"
    }
   ],
   "source": [
    "mergedCumulativeRevenue = cumulativeRevenueA.merge(cumulativeRevenueB, left_on='date', right_on='date', how='left', suffixes=['A', 'B'])\n",
    "\n",
    "plt.figure(figsize=(12, 5))\n",
    "# cтроим отношение средних чеков\n",
    "plt.plot(mergedCumulativeRevenue['date'], (mergedCumulativeRevenue['revenueB']/mergedCumulativeRevenue['ordersB'])/(mergedCumulativeRevenue['revenueA']/mergedCumulativeRevenue['ordersA'])-1)\n",
    "plt.title(\"Изменение среднего чека относительно двух групп\")\n",
    "# добавляем ось X\n",
    "plt.axhline(y=0, color='black', linestyle='--')\n",
    "plt.xlabel('Дата', fontsize=14)\n",
    "plt.ylabel('Изменение соотношения среднего чека', fontsize=14)"
   ]
  },
  {
   "cell_type": "markdown",
   "metadata": {},
   "source": [
    "Видим, что результаты теста значитель поменялись в середине тестирования."
   ]
  },
  {
   "cell_type": "markdown",
   "metadata": {},
   "source": [
    "<strong>4 Постройте график кумулятивного среднего количества заказов по группам. Сделайте выводы и предположения.</strong>"
   ]
  },
  {
   "cell_type": "code",
   "execution_count": 137,
   "metadata": {},
   "outputs": [
    {
     "data": {
      "text/plain": [
       "Text(0, 0.5, 'Чило заказов')"
      ]
     },
     "execution_count": 137,
     "metadata": {},
     "output_type": "execute_result"
    },
    {
     "data": {
      "image/png": "[encoded data removed]",
      "text/plain": [
       "<Figure size 864x360 with 1 Axes>"
      ]
     },
     "metadata": {
      "needs_background": "light"
     },
     "output_type": "display_data"
    }
   ],
   "source": [
    "cumulativeRevenueA = cumulativeData[cumulativeData['group']=='A'][['date','revenue', 'orders']]\n",
    "\n",
    "cumulativeRevenueB = cumulativeData[cumulativeData['group']=='B'][['date','revenue', 'orders']]\n",
    "plt.figure(figsize=(12, 5))\n",
    "plt.plot(cumulativeRevenueA['date'], cumulativeRevenueA['orders'], label='A')\n",
    "plt.plot(cumulativeRevenueB['date'], cumulativeRevenueB['orders'], label='B')\n",
    "plt.title(\"Кумулятивное число заказов\")\n",
    "plt.legend()\n",
    "plt.xlabel('Дата', fontsize=14)\n",
    "plt.ylabel('Чило заказов', fontsize=14)"
   ]
  },
  {
   "cell_type": "markdown",
   "metadata": {},
   "source": [
    "Теперь мы еще раз убедились, что аномальный рост выручки связан с изменением среднего чека в сегменте 'B'"
   ]
  },
  {
   "cell_type": "markdown",
   "metadata": {},
   "source": [
    "<strong>5 Постройте график относительного изменения кумулятивного среднего количества заказов группы B к группе A. Сделайте выводы и предположения.</strong>"
   ]
  },
  {
   "cell_type": "code",
   "execution_count": 138,
   "metadata": {},
   "outputs": [
    {
     "data": {
      "text/plain": [
       "Text(0, 0.5, 'Изменение соотношения закзазов')"
      ]
     },
     "execution_count": 138,
     "metadata": {},
     "output_type": "execute_result"
    },
    {
     "data": {
      "image/png": "[encoded data removed]",
      "text/plain": [
       "<Figure size 864x360 with 1 Axes>"
      ]
     },
     "metadata": {
      "needs_background": "light"
     },
     "output_type": "display_data"
    }
   ],
   "source": [
    "# cтроим отношение средних чеков\n",
    "plt.figure(figsize=(12, 5))\n",
    "plt.plot(mergedCumulativeRevenue['date'], (mergedCumulativeRevenue['ordersB'])/(mergedCumulativeRevenue['ordersA'])-1)\n",
    "plt.title(\"Изменение среднего числа заказов относительно двух групп\")\n",
    "# добавляем ось X\n",
    "plt.axhline(y=0, color='black', linestyle='--')\n",
    "plt.xlabel('Дата', fontsize=14)\n",
    "plt.ylabel('Изменение соотношения закзазов', fontsize=14)"
   ]
  },
  {
   "cell_type": "markdown",
   "metadata": {},
   "source": [
    "Сначла заказов в сегменте 'В' было меньше чем в 'А', но потом группа 'В' вырвалась вперед."
   ]
  },
  {
   "cell_type": "markdown",
   "metadata": {},
   "source": [
    "<strong>6 Постройте точечный график количества заказов по пользователям. Сделайте выводы и предположения.</strong>"
   ]
  },
  {
   "cell_type": "code",
   "execution_count": 139,
   "metadata": {},
   "outputs": [
    {
     "data": {
      "text/plain": [
       "Text(0, 0.5, 'Число заказов')"
      ]
     },
     "execution_count": 139,
     "metadata": {},
     "output_type": "execute_result"
    },
    {
     "data": {
      "image/png": "[encoded data removed]",
      "text/plain": [
       "<Figure size 432x288 with 1 Axes>"
      ]
     },
     "metadata": {
      "needs_background": "light"
     },
     "output_type": "display_data"
    }
   ],
   "source": [
    "ordersByUsers = (\n",
    "    orders.groupby('visitorId', as_index=False)\n",
    "    .agg({'transactionId': 'nunique'})\n",
    ")\n",
    "ordersByUsers.columns = ['userId', 'orders']\n",
    "\n",
    "x_values = pd.Series(range(0, len(ordersByUsers)))\n",
    "\n",
    "plt.scatter(x_values, ordersByUsers['orders'],alpha=0.3)\n",
    "plt.title(\"Кол-во заказов пользователей\")\n",
    "plt.xlabel('Число пользователей', fontsize=14)\n",
    "plt.ylabel('Число заказов', fontsize=14)"
   ]
  },
  {
   "cell_type": "markdown",
   "metadata": {},
   "source": [
    "Пользователей заказавших больше 2-х заказов уже  мало. Заказы боее 4 можно отнести к аномальным."
   ]
  },
  {
   "cell_type": "markdown",
   "metadata": {},
   "source": [
    "<strong>7 Посчитайте 95-й и 99-й перцентили количества заказов на пользователя. Выберите границу для определения аномальных пользователей.</strong>"
   ]
  },
  {
   "cell_type": "code",
   "execution_count": 140,
   "metadata": {},
   "outputs": [
    {
     "name": "stdout",
     "output_type": "stream",
     "text": [
      "[1. 2.]\n"
     ]
    }
   ],
   "source": [
    "print(np.percentile(ordersByUsers['orders'], [95, 99]))"
   ]
  },
  {
   "cell_type": "markdown",
   "metadata": {},
   "source": [
    "Не более 5% Пользователей совершали  больше чем 2 заказа и не более 1% пользователей совершали больше чем 4 заказа."
   ]
  },
  {
   "cell_type": "markdown",
   "metadata": {},
   "source": [
    "<strong>8 Постройте точечный график стоимостей заказов. Сделайте выводы и предположения.</strong>"
   ]
  },
  {
   "cell_type": "code",
   "execution_count": 141,
   "metadata": {},
   "outputs": [
    {
     "data": {
      "text/plain": [
       "Text(0, 0.5, 'Стоимость заказа')"
      ]
     },
     "execution_count": 141,
     "metadata": {},
     "output_type": "execute_result"
    },
    {
     "data": {
      "image/png": "[encoded data removed]",
      "text/plain": [
       "<Figure size 432x288 with 1 Axes>"
      ]
     },
     "metadata": {
      "needs_background": "light"
     },
     "output_type": "display_data"
    }
   ],
   "source": [
    "x_values = pd.Series(range(0, len(orders['revenue'])))\n",
    "\n",
    "plt.scatter(x_values, orders['revenue'],alpha=0.3)\n",
    "plt.title(\"Стоимость заказов пользователей\")\n",
    "plt.xlabel('Число пользователей', fontsize=14)\n",
    "plt.ylabel('Стоимость заказа', fontsize=14)"
   ]
  },
  {
   "cell_type": "markdown",
   "metadata": {},
   "source": [
    "Уберем из выборки аномальные значениия и посмотрим на график еще раз."
   ]
  },
  {
   "cell_type": "code",
   "execution_count": 142,
   "metadata": {},
   "outputs": [
    {
     "data": {
      "text/plain": [
       "Text(0, 0.5, 'Стоимость заказа')"
      ]
     },
     "execution_count": 142,
     "metadata": {},
     "output_type": "execute_result"
    },
    {
     "data": {
      "image/png": "[encoded data removed]",
      "text/plain": [
       "<Figure size 432x288 with 1 Axes>"
      ]
     },
     "metadata": {
      "needs_background": "light"
     },
     "output_type": "display_data"
    }
   ],
   "source": [
    "x_values = pd.Series(range(0, len(orders.query('revenue < 200000')['revenue'])))\n",
    "\n",
    "plt.scatter(x_values, orders.query('revenue < 200000')['revenue'],alpha=0.3)\n",
    "plt.title(\"Стоимость заказов пользователей\")\n",
    "plt.xlabel('Число пользователей', fontsize=14)\n",
    "plt.ylabel('Стоимость заказа', fontsize=14)"
   ]
  },
  {
   "cell_type": "markdown",
   "metadata": {},
   "source": [
    "Большая часть пользователей платят за заказ до 50 000 у.е После, заказы можно отнести к аномальным. Чтобы точно понять, где мы можем обрезать аномальные значения, обратимся к процентилями ниже:"
   ]
  },
  {
   "cell_type": "markdown",
   "metadata": {},
   "source": [
    "<strong>9 Посчитайте 95-й и 99-й перцентили стоимости заказов. Выберите границу для определения аномальных заказов.</strong>"
   ]
  },
  {
   "cell_type": "code",
   "execution_count": 143,
   "metadata": {},
   "outputs": [
    {
     "name": "stdout",
     "output_type": "stream",
     "text": [
      "[26785. 53904.]\n"
     ]
    }
   ],
   "source": [
    "print(np.percentile(orders['revenue'], [95, 99]))"
   ]
  },
  {
   "cell_type": "markdown",
   "metadata": {},
   "source": [
    "Не болеее чем у 5% пользователей чек дороже 28 000 у.е. И не больше чем у  1% чек дороже 58 233 у.е"
   ]
  },
  {
   "cell_type": "markdown",
   "metadata": {},
   "source": [
    "<strong>10 Посчитайте статистическую значимость различий в среднем количестве заказов между группами по «сырым» данным. Сделайте выводы и предположения.</strong>"
   ]
  },
  {
   "cell_type": "code",
   "execution_count": 144,
   "metadata": {},
   "outputs": [
    {
     "data": {
      "text/html": [
       "<div>\n",
       "<style scoped>\n",
       "    .dataframe tbody tr th:only-of-type {\n",
       "        vertical-align: middle;\n",
       "    }\n",
       "\n",
       "    .dataframe tbody tr th {\n",
       "        vertical-align: top;\n",
       "    }\n",
       "\n",
       "    .dataframe thead th {\n",
       "        text-align: right;\n",
       "    }\n",
       "</style>\n",
       "<table border=\"1\" class=\"dataframe\">\n",
       "  <thead>\n",
       "    <tr style=\"text-align: right;\">\n",
       "      <th></th>\n",
       "      <th>transactionId</th>\n",
       "      <th>visitorId</th>\n",
       "      <th>date</th>\n",
       "      <th>revenue</th>\n",
       "      <th>group</th>\n",
       "    </tr>\n",
       "  </thead>\n",
       "  <tbody>\n",
       "    <tr>\n",
       "      <th>0</th>\n",
       "      <td>3667963787</td>\n",
       "      <td>3312258926</td>\n",
       "      <td>2019-08-15</td>\n",
       "      <td>1650</td>\n",
       "      <td>B</td>\n",
       "    </tr>\n",
       "  </tbody>\n",
       "</table>\n",
       "</div>"
      ],
      "text/plain": [
       "   transactionId   visitorId       date  revenue group\n",
       "0     3667963787  3312258926 2019-08-15     1650     B"
      ]
     },
     "execution_count": 144,
     "metadata": {},
     "output_type": "execute_result"
    }
   ],
   "source": [
    "orders.head(1)"
   ]
  },
  {
   "cell_type": "code",
   "execution_count": 145,
   "metadata": {},
   "outputs": [
    {
     "data": {
      "text/html": [
       "<div>\n",
       "<style scoped>\n",
       "    .dataframe tbody tr th:only-of-type {\n",
       "        vertical-align: middle;\n",
       "    }\n",
       "\n",
       "    .dataframe tbody tr th {\n",
       "        vertical-align: top;\n",
       "    }\n",
       "\n",
       "    .dataframe thead th {\n",
       "        text-align: right;\n",
       "    }\n",
       "</style>\n",
       "<table border=\"1\" class=\"dataframe\">\n",
       "  <thead>\n",
       "    <tr style=\"text-align: right;\">\n",
       "      <th></th>\n",
       "      <th>date</th>\n",
       "      <th>group</th>\n",
       "      <th>visitors</th>\n",
       "    </tr>\n",
       "  </thead>\n",
       "  <tbody>\n",
       "    <tr>\n",
       "      <th>0</th>\n",
       "      <td>2019-08-01</td>\n",
       "      <td>A</td>\n",
       "      <td>719</td>\n",
       "    </tr>\n",
       "  </tbody>\n",
       "</table>\n",
       "</div>"
      ],
      "text/plain": [
       "        date group  visitors\n",
       "0 2019-08-01     A       719"
      ]
     },
     "execution_count": 145,
     "metadata": {},
     "output_type": "execute_result"
    }
   ],
   "source": [
    "visitors.head(1)"
   ]
  },
  {
   "cell_type": "markdown",
   "metadata": {},
   "source": [
    "Для начала соберем общую таблицу с кумулятивными значениями."
   ]
  },
  {
   "cell_type": "code",
   "execution_count": 146,
   "metadata": {},
   "outputs": [],
   "source": [
    "visitorsADaily = visitors[visitors['group'] == 'A'][['date', 'visitors']]\n",
    "visitorsADaily.columns = ['date', 'visitorsPerDateA']\n",
    "\n",
    "visitorsACummulative = visitorsADaily.apply(\n",
    "    lambda x: visitorsADaily[visitorsADaily['date'] <= x['date']].agg(\n",
    "        {'date': 'max', 'visitorsPerDateA': 'sum'}\n",
    "    ),\n",
    "    axis=1,\n",
    ")\n",
    "visitorsACummulative.columns = ['date', 'visitorsCummulativeA']"
   ]
  },
  {
   "cell_type": "code",
   "execution_count": 147,
   "metadata": {},
   "outputs": [],
   "source": [
    "visitorsBDaily = visitors[visitors['group'] == 'B'][['date', 'visitors']]\n",
    "visitorsBDaily.columns = ['date', 'visitorsPerDateB']\n",
    "\n",
    "visitorsBCummulative = visitorsBDaily.apply(\n",
    "    lambda x: visitorsBDaily[visitorsBDaily['date'] <= x['date']].agg(\n",
    "        {'date': 'max', 'visitorsPerDateB': 'sum'}\n",
    "    ),\n",
    "    axis=1,\n",
    ")\n",
    "visitorsBCummulative.columns = ['date', 'visitorsCummulativeB']\n"
   ]
  },
  {
   "cell_type": "code",
   "execution_count": 148,
   "metadata": {},
   "outputs": [],
   "source": [
    "ordersADaily = (\n",
    "    orders[orders['group'] == 'A'][['date', 'transactionId', 'visitorId', 'revenue']]\n",
    "    .groupby('date', as_index=False)\n",
    "    .agg({'transactionId': pd.Series.nunique, 'revenue': 'sum'})\n",
    ")\n",
    "ordersADaily.columns = ['date', 'ordersPerDateA', 'revenuePerDateA']\n",
    "\n",
    "ordersACummulative = ordersADaily.apply(\n",
    "    lambda x: ordersADaily[ordersADaily['date'] <= x['date']].agg(\n",
    "        {'date': 'max', 'ordersPerDateA': 'sum', 'revenuePerDateA': 'sum'}\n",
    "    ),\n",
    "    axis=1,\n",
    ").sort_values(by=['date'])\n",
    "ordersACummulative.columns = [\n",
    "    'date',\n",
    "    'ordersCummulativeA',\n",
    "    'revenueCummulativeA',\n",
    "]\n"
   ]
  },
  {
   "cell_type": "code",
   "execution_count": 149,
   "metadata": {},
   "outputs": [],
   "source": [
    "ordersBDaily = (\n",
    "    orders[orders['group'] == 'B'][['date', 'transactionId', 'visitorId', 'revenue']]\n",
    "    .groupby('date', as_index=False)\n",
    "    .agg({'transactionId': pd.Series.nunique, 'revenue': 'sum'})\n",
    ")\n",
    "ordersBDaily.columns = ['date', 'ordersPerDateB', 'revenuePerDateB']\n",
    "\n",
    "ordersBCummulative = ordersBDaily.apply(\n",
    "    lambda x: ordersBDaily[ordersBDaily['date'] <= x['date']].agg(\n",
    "        {'date': 'max', 'ordersPerDateB': 'sum', 'revenuePerDateB': 'sum'}\n",
    "    ),\n",
    "    axis=1,\n",
    ").sort_values(by=['date'])\n",
    "ordersBCummulative.columns = [\n",
    "    'date',\n",
    "    'ordersCummulativeB',\n",
    "    'revenueCummulativeB',\n",
    "]\n"
   ]
  },
  {
   "cell_type": "code",
   "execution_count": 150,
   "metadata": {},
   "outputs": [],
   "source": [
    "df = (\n",
    "    ordersADaily.merge(\n",
    "        ordersBDaily, left_on='date', right_on='date', how='left'\n",
    "    )\n",
    "    .merge(ordersACummulative, left_on='date', right_on='date', how='left')\n",
    "    .merge(ordersBCummulative, left_on='date', right_on='date', how='left')\n",
    "    .merge(visitorsADaily, left_on='date', right_on='date', how='left')\n",
    "    .merge(visitorsBDaily, left_on='date', right_on='date', how='left')\n",
    "    .merge(visitorsACummulative, left_on='date', right_on='date', how='left')\n",
    "    .merge(visitorsBCummulative, left_on='date', right_on='date', how='left')\n",
    ")\n"
   ]
  },
  {
   "cell_type": "code",
   "execution_count": 151,
   "metadata": {},
   "outputs": [
    {
     "data": {
      "text/html": [
       "<div>\n",
       "<style scoped>\n",
       "    .dataframe tbody tr th:only-of-type {\n",
       "        vertical-align: middle;\n",
       "    }\n",
       "\n",
       "    .dataframe tbody tr th {\n",
       "        vertical-align: top;\n",
       "    }\n",
       "\n",
       "    .dataframe thead th {\n",
       "        text-align: right;\n",
       "    }\n",
       "</style>\n",
       "<table border=\"1\" class=\"dataframe\">\n",
       "  <thead>\n",
       "    <tr style=\"text-align: right;\">\n",
       "      <th></th>\n",
       "      <th>date</th>\n",
       "      <th>ordersPerDateA</th>\n",
       "      <th>revenuePerDateA</th>\n",
       "      <th>ordersPerDateB</th>\n",
       "      <th>revenuePerDateB</th>\n",
       "      <th>ordersCummulativeA</th>\n",
       "      <th>revenueCummulativeA</th>\n",
       "      <th>ordersCummulativeB</th>\n",
       "      <th>revenueCummulativeB</th>\n",
       "      <th>visitorsPerDateA</th>\n",
       "      <th>visitorsPerDateB</th>\n",
       "      <th>visitorsCummulativeA</th>\n",
       "      <th>visitorsCummulativeB</th>\n",
       "    </tr>\n",
       "  </thead>\n",
       "  <tbody>\n",
       "    <tr>\n",
       "      <th>0</th>\n",
       "      <td>2019-08-01</td>\n",
       "      <td>23</td>\n",
       "      <td>142779</td>\n",
       "      <td>17</td>\n",
       "      <td>59758</td>\n",
       "      <td>23</td>\n",
       "      <td>142779</td>\n",
       "      <td>17</td>\n",
       "      <td>59758</td>\n",
       "      <td>719</td>\n",
       "      <td>713</td>\n",
       "      <td>719</td>\n",
       "      <td>713</td>\n",
       "    </tr>\n",
       "    <tr>\n",
       "      <th>1</th>\n",
       "      <td>2019-08-02</td>\n",
       "      <td>19</td>\n",
       "      <td>91602</td>\n",
       "      <td>23</td>\n",
       "      <td>162043</td>\n",
       "      <td>42</td>\n",
       "      <td>234381</td>\n",
       "      <td>40</td>\n",
       "      <td>221801</td>\n",
       "      <td>619</td>\n",
       "      <td>581</td>\n",
       "      <td>1338</td>\n",
       "      <td>1294</td>\n",
       "    </tr>\n",
       "    <tr>\n",
       "      <th>2</th>\n",
       "      <td>2019-08-03</td>\n",
       "      <td>24</td>\n",
       "      <td>112473</td>\n",
       "      <td>14</td>\n",
       "      <td>67049</td>\n",
       "      <td>66</td>\n",
       "      <td>346854</td>\n",
       "      <td>54</td>\n",
       "      <td>288850</td>\n",
       "      <td>507</td>\n",
       "      <td>509</td>\n",
       "      <td>1845</td>\n",
       "      <td>1803</td>\n",
       "    </tr>\n",
       "    <tr>\n",
       "      <th>3</th>\n",
       "      <td>2019-08-04</td>\n",
       "      <td>11</td>\n",
       "      <td>41176</td>\n",
       "      <td>14</td>\n",
       "      <td>96890</td>\n",
       "      <td>77</td>\n",
       "      <td>388030</td>\n",
       "      <td>68</td>\n",
       "      <td>385740</td>\n",
       "      <td>717</td>\n",
       "      <td>770</td>\n",
       "      <td>2562</td>\n",
       "      <td>2573</td>\n",
       "    </tr>\n",
       "    <tr>\n",
       "      <th>4</th>\n",
       "      <td>2019-08-05</td>\n",
       "      <td>22</td>\n",
       "      <td>86383</td>\n",
       "      <td>21</td>\n",
       "      <td>89908</td>\n",
       "      <td>99</td>\n",
       "      <td>474413</td>\n",
       "      <td>89</td>\n",
       "      <td>475648</td>\n",
       "      <td>756</td>\n",
       "      <td>707</td>\n",
       "      <td>3318</td>\n",
       "      <td>3280</td>\n",
       "    </tr>\n",
       "  </tbody>\n",
       "</table>\n",
       "</div>"
      ],
      "text/plain": [
       "        date  ordersPerDateA  revenuePerDateA  ordersPerDateB  \\\n",
       "0 2019-08-01              23           142779              17   \n",
       "1 2019-08-02              19            91602              23   \n",
       "2 2019-08-03              24           112473              14   \n",
       "3 2019-08-04              11            41176              14   \n",
       "4 2019-08-05              22            86383              21   \n",
       "\n",
       "   revenuePerDateB  ordersCummulativeA  revenueCummulativeA  \\\n",
       "0            59758                  23               142779   \n",
       "1           162043                  42               234381   \n",
       "2            67049                  66               346854   \n",
       "3            96890                  77               388030   \n",
       "4            89908                  99               474413   \n",
       "\n",
       "   ordersCummulativeB  revenueCummulativeB  visitorsPerDateA  \\\n",
       "0                  17                59758               719   \n",
       "1                  40               221801               619   \n",
       "2                  54               288850               507   \n",
       "3                  68               385740               717   \n",
       "4                  89               475648               756   \n",
       "\n",
       "   visitorsPerDateB  visitorsCummulativeA  visitorsCummulativeB  \n",
       "0               713                   719                   713  \n",
       "1               581                  1338                  1294  \n",
       "2               509                  1845                  1803  \n",
       "3               770                  2562                  2573  \n",
       "4               707                  3318                  3280  "
      ]
     },
     "execution_count": 151,
     "metadata": {},
     "output_type": "execute_result"
    }
   ],
   "source": [
    "df.head()"
   ]
  },
  {
   "cell_type": "code",
   "execution_count": 152,
   "metadata": {},
   "outputs": [],
   "source": [
    "ordersByUsersA = (\n",
    "    orders[orders['group'] == 'A']\n",
    "    .groupby('visitorId', as_index=False)\n",
    "    .agg({'transactionId': pd.Series.nunique})\n",
    ")\n",
    "ordersByUsersA.columns = ['visitorId', 'orders']\n",
    "\n",
    "ordersByUsersB = (\n",
    "    orders[orders['group'] == 'B']\n",
    "    .groupby('visitorId', as_index=False)\n",
    "    .agg({'transactionId': pd.Series.nunique})\n",
    ")\n",
    "ordersByUsersB.columns = ['visitorId', 'orders']"
   ]
  },
  {
   "cell_type": "markdown",
   "metadata": {},
   "source": [
    "Создадим переменные sampleA и sampleB, в которых будет кол-во заказов пользователей с разных групп."
   ]
  },
  {
   "cell_type": "code",
   "execution_count": 153,
   "metadata": {},
   "outputs": [],
   "source": [
    "sampleA = pd.concat(\n",
    "    [\n",
    "        ordersByUsersA['orders'],\n",
    "        pd.Series(\n",
    "            0,\n",
    "            index=np.arange(\n",
    "                df['visitorsPerDateA'].sum() - len(ordersByUsersA['orders'])\n",
    "            ),\n",
    "            name='orders',\n",
    "        ),\n",
    "    ],\n",
    "    axis=0,\n",
    ")\n",
    "\n",
    "sampleB = pd.concat(\n",
    "    [\n",
    "        ordersByUsersB['orders'],\n",
    "        pd.Series(\n",
    "            0,\n",
    "            index=np.arange(\n",
    "                df['visitorsPerDateB'].sum() - len(ordersByUsersB['orders'])\n",
    "            ),\n",
    "            name='orders',\n",
    "        ),\n",
    "    ],\n",
    "    axis=0,\n",
    ")"
   ]
  },
  {
   "cell_type": "markdown",
   "metadata": {},
   "source": [
    "Из-за присутсвия выбросов в выборке целесообразно для проверки стат. значимости применить «U-критерий Манна-Уитни».\n",
    "Сформулируем нулевую и альтернативную гипотезу:"
   ]
  },
  {
   "cell_type": "markdown",
   "metadata": {},
   "source": [
    "<b>H0:</b> Срднее кол-во заказов из группы 'А' = среднему кол-ву заказов из группы 'B'.\n",
    "\n",
    "<b>H1:</b> Срднее кол-во заказов из группы 'А' ≠  среднему кол-ву заказов из группы 'B'."
   ]
  },
  {
   "cell_type": "code",
   "execution_count": 154,
   "metadata": {},
   "outputs": [
    {
     "name": "stdout",
     "output_type": "stream",
     "text": [
      "alpha = 0.05\n",
      "p-value: 0.01102\n",
      "Относительный прирост заказов: 0.160\n"
     ]
    }
   ],
   "source": [
    "print('alpha = 0.05')\n",
    "print(\"p-value: {0:.5f}\".format(stats.mannwhitneyu(sampleA, sampleB)[1]))\n",
    "print(\"Относительный прирост заказов: {0:.3f}\".format((df['ordersPerDateB'].sum()/df['visitorsPerDateB'].sum())/(df['ordersPerDateA'].sum()/df['visitorsPerDateA'].sum())-1))"
   ]
  },
  {
   "cell_type": "markdown",
   "metadata": {},
   "source": [
    "Анализ показал, что в среднем кол-ве заказов между группой 'А' и группой 'B' есть статистические значимые различия. Значение p-value меньше допустимого порога alpha. Это значит, что мы отвергаем нулевую гипотезу. \n",
    "Относительный прирост стреднего от группы 'B' к группе 'А' равен 16 %"
   ]
  },
  {
   "cell_type": "markdown",
   "metadata": {},
   "source": [
    "<strong>11 Посчитайте статистическую значимость различий в среднем чеке заказа между группами по «сырым» данным. Сделайте выводы и предположения.</strong>"
   ]
  },
  {
   "cell_type": "markdown",
   "metadata": {},
   "source": [
    "Так как данные уже готовы, нам остается сформулировать гипотезы и проверить их."
   ]
  },
  {
   "cell_type": "markdown",
   "metadata": {},
   "source": [
    "<b>H0:</b> Средний чек у пользователей из группы 'А' = среднему чеку пользователей из группы 'B'.\n",
    "\n",
    "<b>H1:</b> Средний чек у пользователей из группы 'А' ≠  среднему чеку пользователей из группы 'B'."
   ]
  },
  {
   "cell_type": "code",
   "execution_count": 155,
   "metadata": {},
   "outputs": [
    {
     "name": "stdout",
     "output_type": "stream",
     "text": [
      "alpha = 0.05\n",
      "p-value: 0.829\n",
      "Относительный прирост среднего чека: 0.287\n"
     ]
    }
   ],
   "source": [
    "print('alpha = 0.05')\n",
    "print('p-value: {0:.3f}'.format(stats.mannwhitneyu(orders[orders['group']=='A']['revenue'], orders[orders['group']=='B']['revenue'])[1]))\n",
    "print('Относительный прирост среднего чека: {0:.3f}'.format(orders[orders['group']=='B']['revenue'].mean()/orders[orders['group']=='A']['revenue'].mean()-1))"
   ]
  },
  {
   "cell_type": "markdown",
   "metadata": {},
   "source": [
    "p-value больше 0.05 — статистически значимых отличий в среднем чеке между группами нет. Относительный прирост среднего чека между сегментами равен 28,7%"
   ]
  },
  {
   "cell_type": "markdown",
   "metadata": {},
   "source": [
    "<strong>12 Посчитайте статистическую значимость различий в среднем количестве заказов между группами по «очищенным» данным. Сделайте выводы и предположения.</strong>"
   ]
  },
  {
   "cell_type": "markdown",
   "metadata": {},
   "source": [
    "Ранее мы приняли решение о аномалиях в которых у пользователей:\n",
    "<ul>\n",
    "    <li>Стоимость заказа выше - 58 233.2 у.е </li>\n",
    "    <li>Кол-во заказа у одного пользователя выше - 4 </li>\n",
    "</ul>\n",
    "Это аномальные зачения которые могут повлиять на резултататы тестирования, поэтому мы избавимся от них."
   ]
  },
  {
   "cell_type": "code",
   "execution_count": 156,
   "metadata": {},
   "outputs": [],
   "source": [
    "#объявим процентили как переменные\n",
    "percentile_revenue = int(np.percentile(orders['revenue'], [99]))\n",
    "percentile_orders = int(np.percentile(ordersByUsers['orders'], [99]))"
   ]
  },
  {
   "cell_type": "code",
   "execution_count": 157,
   "metadata": {},
   "outputs": [
    {
     "name": "stdout",
     "output_type": "stream",
     "text": [
      "53904\n",
      "2\n"
     ]
    }
   ],
   "source": [
    "print(percentile_revenue)\n",
    "print(percentile_orders)"
   ]
  },
  {
   "cell_type": "code",
   "execution_count": 163,
   "metadata": {},
   "outputs": [],
   "source": [
    "usersWithManyOrders = pd.concat(\n",
    "    [\n",
    "        ordersByUsersA[ordersByUsersA['orders'] > percentile_orders]['visitorId'],\n",
    "        ordersByUsersB[ordersByUsersB['orders'] > percentile_orders]['visitorId'],\n",
    "    ],\n",
    "    axis=0,\n",
    ")\n",
    "usersWithExpensiveOrders = orders[orders['revenue'] > percentile_revenue]['visitorId']\n",
    "abnormalUsers = (\n",
    "    pd.concat([usersWithManyOrders, usersWithExpensiveOrders], axis=0)\n",
    "    .drop_duplicates()\n",
    "    .sort_values()\n",
    ")"
   ]
  },
  {
   "cell_type": "code",
   "execution_count": 169,
   "metadata": {},
   "outputs": [
    {
     "data": {
      "text/plain": [
       "58      611059232\n",
       "211    2108163459\n",
       "310    2988190573\n",
       "409    3908431265\n",
       "416    3967698036\n",
       "33      249864742\n",
       "347    2742574263\n",
       "Name: visitorId, dtype: int64"
      ]
     },
     "execution_count": 169,
     "metadata": {},
     "output_type": "execute_result"
    }
   ],
   "source": [
    "usersWithManyOrders"
   ]
  },
  {
   "cell_type": "markdown",
   "metadata": {},
   "source": [
    "Отфильтруем выборки без данных ID пользователей (аномальных)"
   ]
  },
  {
   "cell_type": "code",
   "execution_count": 170,
   "metadata": {},
   "outputs": [],
   "source": [
    "sampleAFiltered = pd.concat(\n",
    "    [\n",
    "        ordersByUsersA[\n",
    "            np.logical_not(ordersByUsersA['visitorId'].isin(abnormalUsers))\n",
    "        ]['orders'],\n",
    "        pd.Series(\n",
    "            0,\n",
    "            index=np.arange(\n",
    "                df['visitorsPerDateA'].sum() - len(ordersByUsersA['orders'])\n",
    "            ),\n",
    "            name='orders',\n",
    "        ),\n",
    "    ],\n",
    "    axis=0,\n",
    ")\n",
    "\n",
    "sampleBFiltered = pd.concat(\n",
    "    [\n",
    "        ordersByUsersB[\n",
    "            np.logical_not(ordersByUsersB['visitorId'].isin(abnormalUsers))\n",
    "        ]['orders'],\n",
    "        pd.Series(\n",
    "            0,\n",
    "            index=np.arange(\n",
    "                df['visitorsPerDateB'].sum() - len(ordersByUsersB['orders'])\n",
    "            ),\n",
    "            name='orders',\n",
    "        ),\n",
    "    ],\n",
    "    axis=0,\n",
    ")"
   ]
  },
  {
   "cell_type": "markdown",
   "metadata": {},
   "source": [
    "<b>H0:</b> Срднее кол-во заказов из группы 'А' = среднему кол-ву заказов из группы 'B' (После фильтрации от аномалий).\n",
    "\n",
    "<b>H1:</b> Срднее кол-во заказов из группы 'А' ≠  среднему кол-ву заказов из группы 'B' (После фильтрации от аномалий)."
   ]
  },
  {
   "cell_type": "code",
   "execution_count": 171,
   "metadata": {},
   "outputs": [
    {
     "name": "stdout",
     "output_type": "stream",
     "text": [
      "alpha = 0.05\n",
      "p-value: 0.00702\n",
      "Относительный прирост заказов: 0.189\n"
     ]
    }
   ],
   "source": [
    "print('alpha = 0.05')\n",
    "print('p-value: {0:.5f}'.format(stats.mannwhitneyu(sampleAFiltered, sampleBFiltered)[1]))\n",
    "print('Относительный прирост заказов: {0:.3f}'.format(sampleBFiltered.mean()/sampleAFiltered.mean()-1)) "
   ]
  },
  {
   "cell_type": "markdown",
   "metadata": {},
   "source": [
    "После фильтрации относительный прирос сегмента'B' к сегменту 'А' вырос с 16% до 19%. P-value меньше порогового значения alpha, а это значит, что у выборок есть статистически значимые различия и мы отвергаем нулевую гипотезу."
   ]
  },
  {
   "cell_type": "markdown",
   "metadata": {},
   "source": [
    "<strong>13 Посчитайте статистическую значимость различий в среднем чеке заказа между группами по «очищенным» данным. Сделайте выводы и предположения.</strong>"
   ]
  },
  {
   "cell_type": "markdown",
   "metadata": {},
   "source": [
    "Мы уже офильтровали пользователей, которые имеют отношение к аномалиям в данных. Поэтому сформулируем гипотезы и проведем тестирование."
   ]
  },
  {
   "cell_type": "markdown",
   "metadata": {},
   "source": [
    "<b>H0:</b> Средний чек у пользователей из группы 'А' = среднему чеку пользователей из группы 'B' (После фильтрации от аномалий).\n",
    "\n",
    "<b>H1:</b> Средний чек у пользователей из группы 'А' ≠  среднему чеку пользователей из группы 'B'  (После фильтрации от аномалий)."
   ]
  },
  {
   "cell_type": "code",
   "execution_count": 167,
   "metadata": {},
   "outputs": [
    {
     "name": "stdout",
     "output_type": "stream",
     "text": [
      "alpha = 0.05\n",
      "p-value: 0.788\n",
      "Относительный прирост среднего чека: -0.032\n"
     ]
    }
   ],
   "source": [
    "print('alpha = 0.05')\n",
    "print(\n",
    "    'p-value: {0:.3f}'.format(\n",
    "        stats.mannwhitneyu(\n",
    "            orders[\n",
    "                np.logical_and(\n",
    "                    orders['group'] == 'A',\n",
    "                    np.logical_not(orders['visitorId'].isin(abnormalUsers)),\n",
    "                )\n",
    "            ]['revenue'],\n",
    "            orders[\n",
    "                np.logical_and(\n",
    "                    orders['group'] == 'B',\n",
    "                    np.logical_not(orders['visitorId'].isin(abnormalUsers)),\n",
    "                )\n",
    "            ]['revenue'],\n",
    "        )[1]\n",
    "    )\n",
    ")\n",
    "\n",
    "print(\n",
    "    \"Относительный прирост среднего чека: {0:.3f}\".format(\n",
    "        orders[\n",
    "            np.logical_and(\n",
    "                orders['group'] == 'B',\n",
    "                np.logical_not(orders['visitorId'].isin(abnormalUsers)),\n",
    "            )\n",
    "        ]['revenue'].mean()\n",
    "        / orders[\n",
    "            np.logical_and(\n",
    "                orders['group'] == 'A',\n",
    "                np.logical_not(orders['visitorId'].isin(abnormalUsers)),\n",
    "            )\n",
    "        ]['revenue'].mean()\n",
    "        - 1\n",
    "    )\n",
    ")"
   ]
  },
  {
   "cell_type": "markdown",
   "metadata": {},
   "source": [
    "P-value больше 0.05. Поэтому нам не удалось отвергнуть нулевую гипотезу, это значит что в среднем чеке нет различий. Также относитльный прирост среднего чека группы 'В' ниже среднего чека группы 'A' на 3 %. Стоит также отметить, что до фильтрации аномальных заказов, сегмент 'В' превосходил 'A' на 28%. Таким образом, нам удалось провести тестирование в равных условиях."
   ]
  },
  {
   "cell_type": "markdown",
   "metadata": {},
   "source": [
    "<strong>14 Примите решение по результатам теста и объясните его. Варианты решений: 1. Остановить тест, зафиксировать победу одной из групп. 2. Остановить тест, зафиксировать отсутствие различий между группами. 3. Продолжить тест.</strong>"
   ]
  },
  {
   "cell_type": "markdown",
   "metadata": {},
   "source": [
    "<b>Для начала чтоит подвести небольшие итоги по тестированию. В нашем исследовании мы выяснили, что:</b>\n",
    "<ul>\n",
    "<li>Относительный прирост стреднего числа заказов от группы 'B' к группе 'А' равен <b>16 %</b>  (Сырые данные)</li>\n",
    "\n",
    "<li>Относительный прирост среднего чека от группы 'B' к группе 'А' равен <b>28% </b>(Сырые данные)</li>\n",
    "<p></p>\n",
    "    \n",
    "<li>Относительный прирост стреднего числа заказов от группы 'B' к группе 'А' равен <b>19 %</b>  (Отфильтрованные данные)</li>\n",
    "\n",
    "<li>Относительный прирост среднего чека от группы 'B' к группе 'А' равен <b> -3% </b>(Отфильтрованные данные)</li>    \n",
    "    \n",
    "</ul>\n",
    "\n",
    "Тестирование с сырыми и отфильтрованными данными среднего числа заказов подтвердили, что у выборок есть статистически значимые различия в пользу группы 'B'. Это позволет сделать вывод о том, что в тестировании по чилу заказов победил сегмент 'B'.\n",
    "<p></p>\n",
    "Тестирование с сырыми и отфильтрованными данными среднего чека заказов подтвердили, что у выборок нет статистически значимых различий. Но при тестировании сырых данных сегмент 'B' опередил  сегмент 'А' на 28%, а уже после филтрации аномальных значений,'B' стал меньше  'А' на 3%.\n",
    "<p></p>\n",
    "<p></p>\n",
    "<strong>Заключитлельный вывод: </strong>  Остановить тест. Зафиксировать победу в пользу сегмент 'B' по числу заказов."
   ]
  },
  {
   "cell_type": "markdown",
   "metadata": {},
   "source": [
    "<h1>Общий вывод</h1>"
   ]
  },
  {
   "cell_type": "markdown",
   "metadata": {},
   "source": [
    "<b> Наиболее приоритетные гипотезы по рассчетам ICE:</b>\n",
    "    <ul>\n",
    "    <li>8 -я</li>\n",
    "    <li>0 -я</li>\n",
    "    <li>7 -я</li>\n",
    "    </ul>\n",
    "<b> Наиболее приоритетные гипотезы по рассчетам RICE:</b>\n",
    "    <ul>\n",
    "    <li>7 -я</li>\n",
    "    <li>0 -я</li>\n",
    "    <li>2 -я</li>\n",
    "    </ul>\n",
    "<b> Наименее приоритетная гипотеза по рассчетам RICE и ICE:</b>\n",
    "    <ul>\n",
    "    <li>4 -я</li>\n",
    "    </ul>\n",
    "<b>Для начала чтоит подвести небольшие итоги по тестированию. В нашем исследовании мы выяснили, что:</b>\n",
    "<ul>\n",
    "<li>Относительный прирост стреднего числа заказов от группы 'B' к группе 'А' равен <b>16 %</b>  (Сырые данные)</li>\n",
    "\n",
    "<li>Относительный прирост среднего чека от группы 'B' к группе 'А' равен <b>28% </b>(Сырые данные)</li>\n",
    "<p></p>\n",
    "    \n",
    "<li>Относительный прирост стреднего числа заказов от группы 'B' к группе 'А' равен <b>19 %</b>  (Отфильтрованные данные)</li>\n",
    "\n",
    "<li>Относительный прирост среднего чека от группы 'B' к группе 'А' равен <b> -3% </b>(Отфильтрованные данные)</li>    \n",
    "    \n",
    "</ul>\n",
    "\n",
    "Тестирование с сырыми и отфильтрованными данными среднего числа заказов подтвердили, что у выборок есть статистически значимые различия в пользу группы 'B'. Это позволет сделать вывод о том, что в тестировании по чилу заказов победил сегмент 'B'.\n",
    "<p></p>\n",
    "Тестирование с сырыми и отфильтрованными данными среднего чека заказов подтвердили, что у выборок нет статистически значимых различий. Но при тестировании сырых данных сегмент 'B' опередил  сегмент 'А' на 28%, а уже после филтрации аномальных значений,'B' стал меньше  'А' на 3%.\n",
    "<p></p>\n",
    "<p></p>"
   ]
  },
  {
   "cell_type": "markdown",
   "metadata": {},
   "source": [
    "<strong>Отчет о проделаных шагах:</strong>\n",
    "<ul>\n",
    "<li>1. Датасет изначально был оценен на наличие: Дубликатов, формата значений. </li>\n",
    "<li>2. Пропуски значений и дубликатов в датасете не было </li>\n",
    "<li>3. Формат значений был изменен со строчных на дату.</li>\n",
    "<li>4. Датасеты были объеденены в один для удобства работы с ним</li>\n",
    "<li>5. Были выявлены наиболее приоритетные гипотезы с помощью фреймворков ICE и RICE.</li>\n",
    "<li>6. Был построен график кумулятивной выручки для групп 'А' и 'B'</li>\n",
    "<li>7. Сравнили кумулятивные средние значения по закзаам и выручке среди групп.</li>\n",
    "<li>8. Посчитали процентили и выявили аномальные значения.</li>\n",
    "<li>9. Провели тестирование двух групп и рассчет статистической значимости, приянто решение по поводу тестирования</li>\n",
    "<li>10. На основе всех наблюдений был составлен общий вывод.</li>\n",
    "</ul>"
   ]
  }
 ],
 "metadata": {
  "ExecuteTimeLog": [
   {
    "duration": 9,
    "start_time": "2022-11-07T08:42:32.939Z"
   },
   {
    "duration": 79,
    "start_time": "2022-11-07T09:20:55.093Z"
   },
   {
    "duration": 80,
    "start_time": "2022-11-07T09:25:07.762Z"
   },
   {
    "duration": 416,
    "start_time": "2022-11-07T09:29:12.366Z"
   },
   {
    "duration": 79,
    "start_time": "2022-11-07T09:29:43.823Z"
   },
   {
    "duration": 14,
    "start_time": "2022-11-07T09:29:51.793Z"
   },
   {
    "duration": 8,
    "start_time": "2022-11-07T09:33:25.742Z"
   },
   {
    "duration": 5,
    "start_time": "2022-11-07T09:35:57.405Z"
   },
   {
    "duration": 3,
    "start_time": "2022-11-07T09:36:13.356Z"
   },
   {
    "duration": 4,
    "start_time": "2022-11-07T09:36:19.012Z"
   },
   {
    "duration": 9,
    "start_time": "2022-11-07T09:36:26.757Z"
   },
   {
    "duration": 8,
    "start_time": "2022-11-07T09:36:31.159Z"
   },
   {
    "duration": 3,
    "start_time": "2022-11-07T09:36:33.414Z"
   },
   {
    "duration": 10,
    "start_time": "2022-11-07T09:36:37.343Z"
   },
   {
    "duration": 9,
    "start_time": "2022-11-07T09:40:03.818Z"
   },
   {
    "duration": 74,
    "start_time": "2022-11-07T09:40:51.112Z"
   },
   {
    "duration": 89,
    "start_time": "2022-11-07T09:41:07.235Z"
   },
   {
    "duration": 12,
    "start_time": "2022-11-07T09:44:20.080Z"
   },
   {
    "duration": 76,
    "start_time": "2022-11-07T10:12:41.497Z"
   },
   {
    "duration": 45,
    "start_time": "2022-11-08T12:59:02.177Z"
   },
   {
    "duration": 383,
    "start_time": "2022-11-08T12:59:09.857Z"
   },
   {
    "duration": 75,
    "start_time": "2022-11-08T12:59:10.242Z"
   },
   {
    "duration": 16,
    "start_time": "2022-11-08T12:59:10.318Z"
   },
   {
    "duration": 3,
    "start_time": "2022-11-08T12:59:10.363Z"
   },
   {
    "duration": 11,
    "start_time": "2022-11-08T12:59:10.689Z"
   },
   {
    "duration": 8,
    "start_time": "2022-11-08T12:59:11.033Z"
   },
   {
    "duration": 93,
    "start_time": "2022-11-08T12:59:11.737Z"
   },
   {
    "duration": 68,
    "start_time": "2022-11-08T12:59:33.698Z"
   },
   {
    "duration": 43,
    "start_time": "2022-11-08T12:59:36.289Z"
   },
   {
    "duration": 17,
    "start_time": "2022-11-08T12:59:36.472Z"
   },
   {
    "duration": 785,
    "start_time": "2022-11-08T13:04:56.802Z"
   },
   {
    "duration": 27,
    "start_time": "2022-11-08T13:04:57.589Z"
   },
   {
    "duration": 8,
    "start_time": "2022-11-08T13:04:57.618Z"
   },
   {
    "duration": 3,
    "start_time": "2022-11-08T13:04:57.827Z"
   },
   {
    "duration": 9,
    "start_time": "2022-11-08T13:04:58.493Z"
   },
   {
    "duration": 8,
    "start_time": "2022-11-08T13:04:58.964Z"
   },
   {
    "duration": 44,
    "start_time": "2022-11-08T13:05:00.398Z"
   },
   {
    "duration": 15,
    "start_time": "2022-11-08T13:05:00.804Z"
   },
   {
    "duration": 9,
    "start_time": "2022-11-08T13:05:17.803Z"
   },
   {
    "duration": 11,
    "start_time": "2022-11-08T13:05:24.354Z"
   },
   {
    "duration": 11,
    "start_time": "2022-11-08T13:05:31.690Z"
   },
   {
    "duration": 9,
    "start_time": "2022-11-08T13:05:38.021Z"
   },
   {
    "duration": 5,
    "start_time": "2022-11-08T13:10:39.398Z"
   },
   {
    "duration": 3,
    "start_time": "2022-11-08T13:10:45.450Z"
   },
   {
    "duration": 5,
    "start_time": "2022-11-08T13:11:00.956Z"
   },
   {
    "duration": 64,
    "start_time": "2022-11-08T13:12:09.645Z"
   },
   {
    "duration": 161,
    "start_time": "2022-11-08T13:12:39.360Z"
   },
   {
    "duration": 120,
    "start_time": "2022-11-08T13:13:05.204Z"
   },
   {
    "duration": 6,
    "start_time": "2022-11-08T13:13:09.404Z"
   },
   {
    "duration": 181,
    "start_time": "2022-11-08T13:13:09.740Z"
   },
   {
    "duration": 274,
    "start_time": "2022-11-08T13:13:48.229Z"
   },
   {
    "duration": 273,
    "start_time": "2022-11-08T13:13:54.978Z"
   },
   {
    "duration": 188,
    "start_time": "2022-11-08T13:14:27.343Z"
   },
   {
    "duration": 75,
    "start_time": "2022-11-08T13:14:38.120Z"
   },
   {
    "duration": 312,
    "start_time": "2022-11-08T13:15:16.574Z"
   },
   {
    "duration": 54,
    "start_time": "2022-11-08T13:15:31.599Z"
   },
   {
    "duration": 59,
    "start_time": "2022-11-08T13:15:47.890Z"
   },
   {
    "duration": 171,
    "start_time": "2022-11-08T13:15:59.980Z"
   },
   {
    "duration": 253,
    "start_time": "2022-11-08T13:16:39.371Z"
   },
   {
    "duration": 79,
    "start_time": "2022-11-08T13:16:52.088Z"
   },
   {
    "duration": 49,
    "start_time": "2022-11-08T13:17:12.092Z"
   },
   {
    "duration": 125,
    "start_time": "2022-11-08T13:17:24.509Z"
   },
   {
    "duration": 4,
    "start_time": "2022-11-08T13:19:31.829Z"
   },
   {
    "duration": 53,
    "start_time": "2022-11-08T13:20:01.481Z"
   },
   {
    "duration": 155,
    "start_time": "2022-11-08T13:20:25.133Z"
   },
   {
    "duration": 46,
    "start_time": "2022-11-08T13:20:36.614Z"
   },
   {
    "duration": 217,
    "start_time": "2022-11-08T13:20:50.680Z"
   },
   {
    "duration": 145,
    "start_time": "2022-11-08T13:21:17.553Z"
   },
   {
    "duration": 134,
    "start_time": "2022-11-08T13:22:29.501Z"
   },
   {
    "duration": 3,
    "start_time": "2022-11-08T13:22:42.457Z"
   },
   {
    "duration": 47,
    "start_time": "2022-11-08T13:22:52.479Z"
   },
   {
    "duration": 7,
    "start_time": "2022-11-08T13:23:26.276Z"
   },
   {
    "duration": 9,
    "start_time": "2022-11-08T13:23:33.484Z"
   },
   {
    "duration": 51,
    "start_time": "2022-11-08T13:23:46.271Z"
   },
   {
    "duration": 46,
    "start_time": "2022-11-08T13:23:55.704Z"
   },
   {
    "duration": 50,
    "start_time": "2022-11-08T13:24:04.393Z"
   },
   {
    "duration": 59,
    "start_time": "2022-11-08T13:24:11.274Z"
   },
   {
    "duration": 58,
    "start_time": "2022-11-08T13:24:18.131Z"
   },
   {
    "duration": 19,
    "start_time": "2022-11-08T13:24:24.750Z"
   },
   {
    "duration": 10,
    "start_time": "2022-11-08T13:24:30.892Z"
   },
   {
    "duration": 164,
    "start_time": "2022-11-08T13:24:41.637Z"
   },
   {
    "duration": 70,
    "start_time": "2022-11-08T13:24:51.039Z"
   },
   {
    "duration": 848,
    "start_time": "2022-11-08T13:26:57.864Z"
   },
   {
    "duration": 45,
    "start_time": "2022-11-08T13:32:23.165Z"
   },
   {
    "duration": 9,
    "start_time": "2022-11-08T13:32:26.921Z"
   },
   {
    "duration": 1194,
    "start_time": "2022-11-08T13:32:33.338Z"
   },
   {
    "duration": 50,
    "start_time": "2022-11-08T13:32:34.534Z"
   },
   {
    "duration": 12,
    "start_time": "2022-11-08T13:32:34.585Z"
   },
   {
    "duration": 3,
    "start_time": "2022-11-08T13:32:34.598Z"
   },
   {
    "duration": 11,
    "start_time": "2022-11-08T13:32:34.603Z"
   },
   {
    "duration": 7,
    "start_time": "2022-11-08T13:32:34.615Z"
   },
   {
    "duration": 58,
    "start_time": "2022-11-08T13:32:34.623Z"
   },
   {
    "duration": 48,
    "start_time": "2022-11-08T13:32:34.682Z"
   },
   {
    "duration": 7,
    "start_time": "2022-11-08T13:32:34.731Z"
   },
   {
    "duration": 12,
    "start_time": "2022-11-08T13:32:34.740Z"
   },
   {
    "duration": 20,
    "start_time": "2022-11-08T13:32:34.753Z"
   },
   {
    "duration": 18,
    "start_time": "2022-11-08T13:32:34.775Z"
   },
   {
    "duration": 9,
    "start_time": "2022-11-08T13:32:34.794Z"
   },
   {
    "duration": 27,
    "start_time": "2022-11-08T13:32:34.804Z"
   },
   {
    "duration": 27,
    "start_time": "2022-11-08T13:32:34.832Z"
   },
   {
    "duration": 268,
    "start_time": "2022-11-08T13:32:34.861Z"
   },
   {
    "duration": 240,
    "start_time": "2022-11-08T13:32:35.131Z"
   },
   {
    "duration": 169,
    "start_time": "2022-11-08T13:32:35.372Z"
   },
   {
    "duration": 330,
    "start_time": "2022-11-08T13:32:35.542Z"
   },
   {
    "duration": 162,
    "start_time": "2022-11-08T13:32:35.873Z"
   },
   {
    "duration": 260,
    "start_time": "2022-11-08T13:32:36.036Z"
   },
   {
    "duration": 139,
    "start_time": "2022-11-08T13:32:36.297Z"
   },
   {
    "duration": 4,
    "start_time": "2022-11-08T13:32:36.437Z"
   },
   {
    "duration": 159,
    "start_time": "2022-11-08T13:32:36.443Z"
   },
   {
    "duration": 145,
    "start_time": "2022-11-08T13:32:36.603Z"
   },
   {
    "duration": 4,
    "start_time": "2022-11-08T13:32:36.749Z"
   },
   {
    "duration": 27,
    "start_time": "2022-11-08T13:32:36.754Z"
   },
   {
    "duration": 16,
    "start_time": "2022-11-08T13:32:36.783Z"
   },
   {
    "duration": 129,
    "start_time": "2022-11-08T13:32:36.800Z"
   },
   {
    "duration": 59,
    "start_time": "2022-11-08T13:32:36.932Z"
   },
   {
    "duration": 82,
    "start_time": "2022-11-08T13:32:36.993Z"
   },
   {
    "duration": 66,
    "start_time": "2022-11-08T13:32:37.077Z"
   },
   {
    "duration": 34,
    "start_time": "2022-11-08T13:32:37.145Z"
   },
   {
    "duration": 17,
    "start_time": "2022-11-08T13:32:37.181Z"
   },
   {
    "duration": 168,
    "start_time": "2022-11-08T13:32:37.200Z"
   },
   {
    "duration": 6,
    "start_time": "2022-11-08T13:32:37.370Z"
   },
   {
    "duration": 6,
    "start_time": "2022-11-08T13:32:49.869Z"
   },
   {
    "duration": 1181,
    "start_time": "2022-11-08T13:33:02.092Z"
   },
   {
    "duration": 20,
    "start_time": "2022-11-08T13:33:21.435Z"
   },
   {
    "duration": 9,
    "start_time": "2022-11-08T13:33:21.933Z"
   },
   {
    "duration": 133,
    "start_time": "2022-11-08T13:33:22.378Z"
   },
   {
    "duration": 7,
    "start_time": "2022-11-08T13:33:23.191Z"
   },
   {
    "duration": 1114,
    "start_time": "2022-11-08T13:33:24.270Z"
   },
   {
    "duration": 1196,
    "start_time": "2022-11-08T13:33:50.282Z"
   },
   {
    "duration": 1121,
    "start_time": "2022-11-08T13:33:52.771Z"
   },
   {
    "duration": 21,
    "start_time": "2022-11-08T13:33:58.691Z"
   },
   {
    "duration": 26,
    "start_time": "2022-11-08T13:34:19.590Z"
   },
   {
    "duration": 71,
    "start_time": "2022-11-08T13:34:29.833Z"
   },
   {
    "duration": 456,
    "start_time": "2022-11-08T13:35:11.679Z"
   },
   {
    "duration": 83,
    "start_time": "2022-11-08T13:35:23.246Z"
   },
   {
    "duration": 11,
    "start_time": "2022-11-08T13:35:42.972Z"
   },
   {
    "duration": 80,
    "start_time": "2022-11-08T13:35:54.531Z"
   },
   {
    "duration": 73,
    "start_time": "2022-11-08T13:36:11.223Z"
   },
   {
    "duration": 101,
    "start_time": "2022-11-08T13:36:32.511Z"
   },
   {
    "duration": 69,
    "start_time": "2022-11-08T13:36:53.115Z"
   },
   {
    "duration": 9,
    "start_time": "2022-11-08T13:38:18.926Z"
   },
   {
    "duration": 4,
    "start_time": "2022-11-08T13:38:26.654Z"
   },
   {
    "duration": 94,
    "start_time": "2022-11-08T13:38:33.057Z"
   },
   {
    "duration": 1128,
    "start_time": "2022-11-08T13:38:44.078Z"
   },
   {
    "duration": 9,
    "start_time": "2022-11-08T13:39:00.085Z"
   },
   {
    "duration": 66,
    "start_time": "2022-11-08T13:39:07.912Z"
   },
   {
    "duration": 22,
    "start_time": "2022-11-08T13:39:17.367Z"
   },
   {
    "duration": 12,
    "start_time": "2022-11-08T13:40:20.953Z"
   },
   {
    "duration": 73,
    "start_time": "2022-11-08T13:40:33.839Z"
   },
   {
    "duration": 71,
    "start_time": "2022-11-08T14:03:02.202Z"
   },
   {
    "duration": 89,
    "start_time": "2022-11-08T14:05:28.272Z"
   },
   {
    "duration": 999,
    "start_time": "2022-11-08T14:11:04.832Z"
   },
   {
    "duration": 20,
    "start_time": "2022-11-08T14:11:05.832Z"
   },
   {
    "duration": 11,
    "start_time": "2022-11-08T14:11:05.854Z"
   },
   {
    "duration": 2,
    "start_time": "2022-11-08T14:11:05.867Z"
   },
   {
    "duration": 11,
    "start_time": "2022-11-08T14:11:05.871Z"
   },
   {
    "duration": 7,
    "start_time": "2022-11-08T14:11:05.886Z"
   },
   {
    "duration": 28,
    "start_time": "2022-11-08T14:11:05.894Z"
   },
   {
    "duration": 11,
    "start_time": "2022-11-08T14:11:05.924Z"
   },
   {
    "duration": 10,
    "start_time": "2022-11-08T14:11:05.936Z"
   },
   {
    "duration": 21,
    "start_time": "2022-11-08T14:11:05.948Z"
   },
   {
    "duration": 13,
    "start_time": "2022-11-08T14:11:05.971Z"
   },
   {
    "duration": 11,
    "start_time": "2022-11-08T14:11:05.985Z"
   },
   {
    "duration": 7,
    "start_time": "2022-11-08T14:11:05.998Z"
   },
   {
    "duration": 4,
    "start_time": "2022-11-08T14:11:06.007Z"
   },
   {
    "duration": 10,
    "start_time": "2022-11-08T14:11:06.013Z"
   },
   {
    "duration": 258,
    "start_time": "2022-11-08T14:11:06.024Z"
   },
   {
    "duration": 235,
    "start_time": "2022-11-08T14:11:06.286Z"
   },
   {
    "duration": 169,
    "start_time": "2022-11-08T14:11:06.522Z"
   },
   {
    "duration": 280,
    "start_time": "2022-11-08T14:11:06.693Z"
   },
   {
    "duration": 192,
    "start_time": "2022-11-08T14:11:06.975Z"
   },
   {
    "duration": 332,
    "start_time": "2022-11-08T14:11:07.169Z"
   },
   {
    "duration": 143,
    "start_time": "2022-11-08T14:11:07.503Z"
   },
   {
    "duration": 4,
    "start_time": "2022-11-08T14:11:07.648Z"
   },
   {
    "duration": 143,
    "start_time": "2022-11-08T14:11:07.653Z"
   },
   {
    "duration": 133,
    "start_time": "2022-11-08T14:11:07.797Z"
   },
   {
    "duration": 5,
    "start_time": "2022-11-08T14:11:07.931Z"
   },
   {
    "duration": 10,
    "start_time": "2022-11-08T14:11:07.937Z"
   },
   {
    "duration": 11,
    "start_time": "2022-11-08T14:11:07.950Z"
   },
   {
    "duration": 116,
    "start_time": "2022-11-08T14:11:07.963Z"
   },
   {
    "duration": 42,
    "start_time": "2022-11-08T14:11:08.086Z"
   },
   {
    "duration": 67,
    "start_time": "2022-11-08T14:11:08.129Z"
   },
   {
    "duration": 51,
    "start_time": "2022-11-08T14:11:08.198Z"
   },
   {
    "duration": 34,
    "start_time": "2022-11-08T14:11:08.251Z"
   },
   {
    "duration": 11,
    "start_time": "2022-11-08T14:11:08.287Z"
   },
   {
    "duration": 147,
    "start_time": "2022-11-08T14:11:08.299Z"
   },
   {
    "duration": 6,
    "start_time": "2022-11-08T14:11:08.448Z"
   },
   {
    "duration": 44,
    "start_time": "2022-11-08T14:11:08.455Z"
   },
   {
    "duration": 11,
    "start_time": "2022-11-08T14:11:08.500Z"
   },
   {
    "duration": 26,
    "start_time": "2022-11-08T14:11:08.513Z"
   },
   {
    "duration": 22,
    "start_time": "2022-11-08T14:11:08.541Z"
   },
   {
    "duration": 13,
    "start_time": "2022-11-08T14:11:08.565Z"
   },
   {
    "duration": 36,
    "start_time": "2022-11-08T14:11:08.580Z"
   },
   {
    "duration": 14,
    "start_time": "2022-11-08T14:11:08.617Z"
   },
   {
    "duration": 3,
    "start_time": "2022-11-08T14:11:21.897Z"
   },
   {
    "duration": 32,
    "start_time": "2022-11-08T14:11:21.901Z"
   },
   {
    "duration": 8,
    "start_time": "2022-11-08T14:11:21.934Z"
   },
   {
    "duration": 6,
    "start_time": "2022-11-08T14:11:21.943Z"
   },
   {
    "duration": 8,
    "start_time": "2022-11-08T14:11:21.951Z"
   },
   {
    "duration": 10,
    "start_time": "2022-11-08T14:11:21.961Z"
   },
   {
    "duration": 29,
    "start_time": "2022-11-08T14:11:21.972Z"
   },
   {
    "duration": 12,
    "start_time": "2022-11-08T14:11:22.002Z"
   },
   {
    "duration": 8,
    "start_time": "2022-11-08T14:11:22.015Z"
   },
   {
    "duration": 14,
    "start_time": "2022-11-08T14:11:22.024Z"
   },
   {
    "duration": 9,
    "start_time": "2022-11-08T14:11:22.041Z"
   },
   {
    "duration": 14,
    "start_time": "2022-11-08T14:11:22.052Z"
   },
   {
    "duration": 11,
    "start_time": "2022-11-08T14:11:22.068Z"
   },
   {
    "duration": 10,
    "start_time": "2022-11-08T14:11:22.081Z"
   },
   {
    "duration": 17,
    "start_time": "2022-11-08T14:11:22.093Z"
   },
   {
    "duration": 259,
    "start_time": "2022-11-08T14:11:22.112Z"
   },
   {
    "duration": 183,
    "start_time": "2022-11-08T14:11:22.372Z"
   },
   {
    "duration": 175,
    "start_time": "2022-11-08T14:11:22.557Z"
   },
   {
    "duration": 239,
    "start_time": "2022-11-08T14:11:22.733Z"
   },
   {
    "duration": 174,
    "start_time": "2022-11-08T14:11:22.973Z"
   },
   {
    "duration": 263,
    "start_time": "2022-11-08T14:11:23.149Z"
   },
   {
    "duration": 129,
    "start_time": "2022-11-08T14:11:23.413Z"
   },
   {
    "duration": 3,
    "start_time": "2022-11-08T14:11:23.544Z"
   },
   {
    "duration": 149,
    "start_time": "2022-11-08T14:11:23.549Z"
   },
   {
    "duration": 141,
    "start_time": "2022-11-08T14:11:23.699Z"
   },
   {
    "duration": 4,
    "start_time": "2022-11-08T14:11:23.842Z"
   },
   {
    "duration": 11,
    "start_time": "2022-11-08T14:11:23.847Z"
   },
   {
    "duration": 8,
    "start_time": "2022-11-08T14:11:23.859Z"
   },
   {
    "duration": 46,
    "start_time": "2022-11-08T14:11:23.886Z"
   },
   {
    "duration": 62,
    "start_time": "2022-11-08T14:11:23.933Z"
   },
   {
    "duration": 66,
    "start_time": "2022-11-08T14:11:23.997Z"
   },
   {
    "duration": 75,
    "start_time": "2022-11-08T14:11:24.065Z"
   },
   {
    "duration": 22,
    "start_time": "2022-11-08T14:11:24.142Z"
   },
   {
    "duration": 23,
    "start_time": "2022-11-08T14:11:24.166Z"
   },
   {
    "duration": 133,
    "start_time": "2022-11-08T14:11:24.191Z"
   },
   {
    "duration": 7,
    "start_time": "2022-11-08T14:11:24.326Z"
   },
   {
    "duration": 27,
    "start_time": "2022-11-08T14:11:24.334Z"
   },
   {
    "duration": 27,
    "start_time": "2022-11-08T14:11:24.363Z"
   },
   {
    "duration": 7,
    "start_time": "2022-11-08T14:11:24.392Z"
   },
   {
    "duration": 10,
    "start_time": "2022-11-08T14:11:24.400Z"
   },
   {
    "duration": 15,
    "start_time": "2022-11-08T14:11:24.411Z"
   },
   {
    "duration": 24,
    "start_time": "2022-11-08T14:11:24.427Z"
   },
   {
    "duration": 32,
    "start_time": "2022-11-08T14:11:24.453Z"
   },
   {
    "duration": 2,
    "start_time": "2022-11-08T14:11:39.482Z"
   },
   {
    "duration": 3,
    "start_time": "2022-11-08T14:11:44.698Z"
   },
   {
    "duration": 24,
    "start_time": "2022-11-08T14:11:44.703Z"
   },
   {
    "duration": 9,
    "start_time": "2022-11-08T14:11:44.728Z"
   },
   {
    "duration": 10,
    "start_time": "2022-11-08T14:11:44.738Z"
   },
   {
    "duration": 12,
    "start_time": "2022-11-08T14:11:44.750Z"
   },
   {
    "duration": 15,
    "start_time": "2022-11-08T14:11:44.764Z"
   },
   {
    "duration": 33,
    "start_time": "2022-11-08T14:11:44.781Z"
   },
   {
    "duration": 14,
    "start_time": "2022-11-08T14:11:44.816Z"
   },
   {
    "duration": 42,
    "start_time": "2022-11-08T14:11:44.833Z"
   },
   {
    "duration": 14,
    "start_time": "2022-11-08T14:11:44.877Z"
   },
   {
    "duration": 11,
    "start_time": "2022-11-08T14:11:44.893Z"
   },
   {
    "duration": 12,
    "start_time": "2022-11-08T14:11:44.906Z"
   },
   {
    "duration": 7,
    "start_time": "2022-11-08T14:11:44.919Z"
   },
   {
    "duration": 7,
    "start_time": "2022-11-08T14:11:44.927Z"
   },
   {
    "duration": 7,
    "start_time": "2022-11-08T14:11:44.935Z"
   },
   {
    "duration": 295,
    "start_time": "2022-11-08T14:11:44.943Z"
   },
   {
    "duration": 175,
    "start_time": "2022-11-08T14:11:45.240Z"
   },
   {
    "duration": 176,
    "start_time": "2022-11-08T14:11:45.416Z"
   },
   {
    "duration": 280,
    "start_time": "2022-11-08T14:11:45.594Z"
   },
   {
    "duration": 185,
    "start_time": "2022-11-08T14:11:45.876Z"
   },
   {
    "duration": 370,
    "start_time": "2022-11-08T14:11:46.063Z"
   },
   {
    "duration": 135,
    "start_time": "2022-11-08T14:11:46.434Z"
   },
   {
    "duration": 16,
    "start_time": "2022-11-08T14:11:46.570Z"
   },
   {
    "duration": 151,
    "start_time": "2022-11-08T14:11:46.589Z"
   },
   {
    "duration": 178,
    "start_time": "2022-11-08T14:11:46.742Z"
   },
   {
    "duration": 9,
    "start_time": "2022-11-08T14:11:46.922Z"
   },
   {
    "duration": 20,
    "start_time": "2022-11-08T14:11:46.933Z"
   },
   {
    "duration": 16,
    "start_time": "2022-11-08T14:11:46.955Z"
   },
   {
    "duration": 46,
    "start_time": "2022-11-08T14:11:46.973Z"
   },
   {
    "duration": 48,
    "start_time": "2022-11-08T14:11:47.021Z"
   },
   {
    "duration": 70,
    "start_time": "2022-11-08T14:11:47.071Z"
   },
   {
    "duration": 64,
    "start_time": "2022-11-08T14:11:47.143Z"
   },
   {
    "duration": 20,
    "start_time": "2022-11-08T14:11:47.209Z"
   },
   {
    "duration": 13,
    "start_time": "2022-11-08T14:11:47.231Z"
   },
   {
    "duration": 167,
    "start_time": "2022-11-08T14:11:47.246Z"
   },
   {
    "duration": 7,
    "start_time": "2022-11-08T14:11:47.414Z"
   },
   {
    "duration": 41,
    "start_time": "2022-11-08T14:11:47.422Z"
   },
   {
    "duration": 9,
    "start_time": "2022-11-08T14:11:47.465Z"
   },
   {
    "duration": 11,
    "start_time": "2022-11-08T14:11:47.476Z"
   },
   {
    "duration": 9,
    "start_time": "2022-11-08T14:11:47.489Z"
   },
   {
    "duration": 18,
    "start_time": "2022-11-08T14:11:47.499Z"
   },
   {
    "duration": 26,
    "start_time": "2022-11-08T14:11:47.518Z"
   },
   {
    "duration": 14,
    "start_time": "2022-11-08T14:11:47.545Z"
   },
   {
    "duration": 1011,
    "start_time": "2022-11-08T14:12:17.720Z"
   },
   {
    "duration": 21,
    "start_time": "2022-11-08T14:12:18.733Z"
   },
   {
    "duration": 20,
    "start_time": "2022-11-08T14:12:18.756Z"
   },
   {
    "duration": 21,
    "start_time": "2022-11-08T14:12:18.778Z"
   },
   {
    "duration": 35,
    "start_time": "2022-11-08T14:12:18.801Z"
   },
   {
    "duration": 25,
    "start_time": "2022-11-08T14:12:18.837Z"
   },
   {
    "duration": 54,
    "start_time": "2022-11-08T14:12:18.864Z"
   },
   {
    "duration": 13,
    "start_time": "2022-11-08T14:12:18.920Z"
   },
   {
    "duration": 21,
    "start_time": "2022-11-08T14:12:18.935Z"
   },
   {
    "duration": 36,
    "start_time": "2022-11-08T14:12:18.959Z"
   },
   {
    "duration": 40,
    "start_time": "2022-11-08T14:12:18.997Z"
   },
   {
    "duration": 51,
    "start_time": "2022-11-08T14:12:19.039Z"
   },
   {
    "duration": 36,
    "start_time": "2022-11-08T14:12:19.092Z"
   },
   {
    "duration": 34,
    "start_time": "2022-11-08T14:12:19.129Z"
   },
   {
    "duration": 29,
    "start_time": "2022-11-08T14:12:19.165Z"
   },
   {
    "duration": 284,
    "start_time": "2022-11-08T14:12:19.195Z"
   },
   {
    "duration": 241,
    "start_time": "2022-11-08T14:12:19.480Z"
   },
   {
    "duration": 169,
    "start_time": "2022-11-08T14:12:19.722Z"
   },
   {
    "duration": 268,
    "start_time": "2022-11-08T14:12:19.892Z"
   },
   {
    "duration": 171,
    "start_time": "2022-11-08T14:12:20.162Z"
   },
   {
    "duration": 243,
    "start_time": "2022-11-08T14:12:20.334Z"
   },
   {
    "duration": 121,
    "start_time": "2022-11-08T14:12:20.584Z"
   },
   {
    "duration": 3,
    "start_time": "2022-11-08T14:12:20.707Z"
   },
   {
    "duration": 174,
    "start_time": "2022-11-08T14:12:20.711Z"
   },
   {
    "duration": 146,
    "start_time": "2022-11-08T14:12:20.886Z"
   },
   {
    "duration": 4,
    "start_time": "2022-11-08T14:12:21.033Z"
   },
   {
    "duration": 45,
    "start_time": "2022-11-08T14:12:21.039Z"
   },
   {
    "duration": 41,
    "start_time": "2022-11-08T14:12:21.087Z"
   },
   {
    "duration": 127,
    "start_time": "2022-11-08T14:12:21.130Z"
   },
   {
    "duration": 72,
    "start_time": "2022-11-08T14:12:21.258Z"
   },
   {
    "duration": 89,
    "start_time": "2022-11-08T14:12:21.333Z"
   },
   {
    "duration": 99,
    "start_time": "2022-11-08T14:12:21.423Z"
   },
   {
    "duration": 18,
    "start_time": "2022-11-08T14:12:21.524Z"
   },
   {
    "duration": 33,
    "start_time": "2022-11-08T14:12:21.544Z"
   },
   {
    "duration": 158,
    "start_time": "2022-11-08T14:12:21.579Z"
   },
   {
    "duration": 6,
    "start_time": "2022-11-08T14:12:21.738Z"
   },
   {
    "duration": 64,
    "start_time": "2022-11-08T14:12:21.745Z"
   },
   {
    "duration": 20,
    "start_time": "2022-11-08T14:12:21.810Z"
   },
   {
    "duration": 30,
    "start_time": "2022-11-08T14:12:21.832Z"
   },
   {
    "duration": 42,
    "start_time": "2022-11-08T14:12:21.864Z"
   },
   {
    "duration": 40,
    "start_time": "2022-11-08T14:12:21.907Z"
   },
   {
    "duration": 54,
    "start_time": "2022-11-08T14:12:21.948Z"
   },
   {
    "duration": 26,
    "start_time": "2022-11-08T14:12:22.003Z"
   },
   {
    "duration": 49,
    "start_time": "2022-11-09T07:58:11.747Z"
   },
   {
    "duration": 1309,
    "start_time": "2022-11-09T07:58:19.610Z"
   },
   {
    "duration": 55,
    "start_time": "2022-11-09T07:58:20.921Z"
   },
   {
    "duration": 3,
    "start_time": "2022-11-09T07:58:20.978Z"
   },
   {
    "duration": 3,
    "start_time": "2022-11-09T07:58:29.005Z"
   },
   {
    "duration": 13,
    "start_time": "2022-11-09T07:58:35.845Z"
   },
   {
    "duration": 9,
    "start_time": "2022-11-09T07:58:42.089Z"
   },
   {
    "duration": 9,
    "start_time": "2022-11-09T07:59:23.476Z"
   },
   {
    "duration": 23,
    "start_time": "2022-11-09T07:59:28.275Z"
   },
   {
    "duration": 12,
    "start_time": "2022-11-09T07:59:28.690Z"
   },
   {
    "duration": 72,
    "start_time": "2022-11-09T07:59:43.469Z"
   },
   {
    "duration": 1233,
    "start_time": "2022-11-09T08:00:27.379Z"
   },
   {
    "duration": 4,
    "start_time": "2022-11-09T08:00:34.946Z"
   },
   {
    "duration": 10,
    "start_time": "2022-11-09T08:00:35.821Z"
   },
   {
    "duration": 8,
    "start_time": "2022-11-09T08:00:53.414Z"
   },
   {
    "duration": 8,
    "start_time": "2022-11-09T08:00:55.023Z"
   },
   {
    "duration": 3,
    "start_time": "2022-11-09T08:00:59.486Z"
   },
   {
    "duration": 11,
    "start_time": "2022-11-09T08:01:00.321Z"
   },
   {
    "duration": 9,
    "start_time": "2022-11-09T08:01:05.968Z"
   },
   {
    "duration": 16,
    "start_time": "2022-11-09T08:01:19.636Z"
   },
   {
    "duration": 10,
    "start_time": "2022-11-09T08:01:21.958Z"
   },
   {
    "duration": 8,
    "start_time": "2022-11-09T08:01:26.914Z"
   },
   {
    "duration": 9,
    "start_time": "2022-11-09T08:01:41.233Z"
   },
   {
    "duration": 8,
    "start_time": "2022-11-09T08:02:38.860Z"
   },
   {
    "duration": 10,
    "start_time": "2022-11-09T08:02:50.944Z"
   },
   {
    "duration": 4,
    "start_time": "2022-11-09T08:03:03.151Z"
   },
   {
    "duration": 8,
    "start_time": "2022-11-09T08:03:15.922Z"
   },
   {
    "duration": 9,
    "start_time": "2022-11-09T08:03:19.492Z"
   },
   {
    "duration": 86,
    "start_time": "2022-11-09T08:03:34.163Z"
   },
   {
    "duration": 8,
    "start_time": "2022-11-09T08:03:47.300Z"
   },
   {
    "duration": 9,
    "start_time": "2022-11-09T08:03:52.619Z"
   },
   {
    "duration": 9,
    "start_time": "2022-11-09T08:03:58.924Z"
   },
   {
    "duration": 8,
    "start_time": "2022-11-09T08:04:03.585Z"
   },
   {
    "duration": 9,
    "start_time": "2022-11-09T08:04:17.698Z"
   },
   {
    "duration": 10,
    "start_time": "2022-11-09T08:05:34.240Z"
   },
   {
    "duration": 9,
    "start_time": "2022-11-09T08:05:46.414Z"
   },
   {
    "duration": 9,
    "start_time": "2022-11-09T08:05:49.498Z"
   },
   {
    "duration": 12,
    "start_time": "2022-11-09T08:06:23.458Z"
   },
   {
    "duration": 8,
    "start_time": "2022-11-09T08:08:50.729Z"
   },
   {
    "duration": 8,
    "start_time": "2022-11-09T08:09:17.155Z"
   },
   {
    "duration": 8,
    "start_time": "2022-11-09T08:09:42.812Z"
   },
   {
    "duration": 3,
    "start_time": "2022-11-09T08:09:57.077Z"
   },
   {
    "duration": 23,
    "start_time": "2022-11-09T08:09:57.083Z"
   },
   {
    "duration": 9,
    "start_time": "2022-11-09T08:09:57.108Z"
   },
   {
    "duration": 8,
    "start_time": "2022-11-09T08:09:57.119Z"
   },
   {
    "duration": 11,
    "start_time": "2022-11-09T08:09:57.128Z"
   },
   {
    "duration": 9,
    "start_time": "2022-11-09T08:10:09.415Z"
   },
   {
    "duration": 8,
    "start_time": "2022-11-09T08:10:21.949Z"
   },
   {
    "duration": 12,
    "start_time": "2022-11-09T08:10:24.848Z"
   },
   {
    "duration": 9,
    "start_time": "2022-11-09T08:12:42.989Z"
   },
   {
    "duration": 8,
    "start_time": "2022-11-09T08:12:51.334Z"
   },
   {
    "duration": 8,
    "start_time": "2022-11-09T08:12:51.625Z"
   },
   {
    "duration": 78,
    "start_time": "2022-11-09T08:13:00.238Z"
   },
   {
    "duration": 54,
    "start_time": "2022-11-09T08:13:00.497Z"
   },
   {
    "duration": 9,
    "start_time": "2022-11-09T08:13:00.862Z"
   },
   {
    "duration": 12,
    "start_time": "2022-11-09T08:13:01.244Z"
   },
   {
    "duration": 8,
    "start_time": "2022-11-09T08:13:01.694Z"
   },
   {
    "duration": 10,
    "start_time": "2022-11-09T08:13:02.131Z"
   },
   {
    "duration": 5,
    "start_time": "2022-11-09T08:13:03.002Z"
   },
   {
    "duration": 5,
    "start_time": "2022-11-09T08:13:03.551Z"
   },
   {
    "duration": 5,
    "start_time": "2022-11-09T08:13:05.410Z"
   },
   {
    "duration": 281,
    "start_time": "2022-11-09T08:13:05.784Z"
   },
   {
    "duration": 8,
    "start_time": "2022-11-09T08:13:07.472Z"
   },
   {
    "duration": 7,
    "start_time": "2022-11-09T08:14:38.548Z"
   },
   {
    "duration": 5,
    "start_time": "2022-11-09T08:14:42.026Z"
   },
   {
    "duration": 5,
    "start_time": "2022-11-09T08:15:39.580Z"
   },
   {
    "duration": 51,
    "start_time": "2022-11-09T08:16:11.386Z"
   },
   {
    "duration": 6,
    "start_time": "2022-11-09T08:17:26.050Z"
   },
   {
    "duration": 5,
    "start_time": "2022-11-09T08:17:40.005Z"
   },
   {
    "duration": 11,
    "start_time": "2022-11-09T08:17:42.880Z"
   },
   {
    "duration": 5,
    "start_time": "2022-11-09T08:17:43.159Z"
   },
   {
    "duration": 9,
    "start_time": "2022-11-09T08:17:43.525Z"
   },
   {
    "duration": 11,
    "start_time": "2022-11-09T08:17:43.923Z"
   },
   {
    "duration": 6,
    "start_time": "2022-11-09T08:17:44.379Z"
   },
   {
    "duration": 6,
    "start_time": "2022-11-09T08:17:46.089Z"
   },
   {
    "duration": 4,
    "start_time": "2022-11-09T08:17:46.444Z"
   },
   {
    "duration": 6,
    "start_time": "2022-11-09T08:17:48.605Z"
   },
   {
    "duration": 272,
    "start_time": "2022-11-09T08:17:49.104Z"
   },
   {
    "duration": 18,
    "start_time": "2022-11-09T08:19:19.192Z"
   },
   {
    "duration": 9,
    "start_time": "2022-11-09T08:22:36.356Z"
   },
   {
    "duration": 8,
    "start_time": "2022-11-09T08:22:40.475Z"
   },
   {
    "duration": 10,
    "start_time": "2022-11-09T08:22:47.772Z"
   },
   {
    "duration": 10,
    "start_time": "2022-11-09T08:23:43.372Z"
   },
   {
    "duration": 11,
    "start_time": "2022-11-09T08:23:48.531Z"
   },
   {
    "duration": 17,
    "start_time": "2022-11-09T08:23:57.806Z"
   },
   {
    "duration": 14,
    "start_time": "2022-11-09T08:24:03.822Z"
   },
   {
    "duration": 10,
    "start_time": "2022-11-09T08:24:15.699Z"
   },
   {
    "duration": 9,
    "start_time": "2022-11-09T08:27:11.767Z"
   },
   {
    "duration": 11,
    "start_time": "2022-11-09T08:29:29.682Z"
   },
   {
    "duration": 16,
    "start_time": "2022-11-09T08:29:49.532Z"
   },
   {
    "duration": 13,
    "start_time": "2022-11-09T08:29:52.891Z"
   },
   {
    "duration": 9,
    "start_time": "2022-11-09T08:29:57.016Z"
   },
   {
    "duration": 13,
    "start_time": "2022-11-09T08:30:08.933Z"
   },
   {
    "duration": 10,
    "start_time": "2022-11-09T08:30:13.941Z"
   },
   {
    "duration": 21,
    "start_time": "2022-11-09T08:33:40.519Z"
   },
   {
    "duration": 9,
    "start_time": "2022-11-09T08:34:00.420Z"
   },
   {
    "duration": 9,
    "start_time": "2022-11-09T08:34:47.988Z"
   },
   {
    "duration": 12,
    "start_time": "2022-11-09T08:43:00.275Z"
   },
   {
    "duration": 9,
    "start_time": "2022-11-09T08:43:28.509Z"
   },
   {
    "duration": 8,
    "start_time": "2022-11-09T08:43:39.330Z"
   },
   {
    "duration": 8,
    "start_time": "2022-11-09T08:43:40.916Z"
   },
   {
    "duration": 9,
    "start_time": "2022-11-09T08:43:41.819Z"
   },
   {
    "duration": 9,
    "start_time": "2022-11-09T08:43:45.514Z"
   },
   {
    "duration": 11,
    "start_time": "2022-11-09T08:43:52.369Z"
   },
   {
    "duration": 9,
    "start_time": "2022-11-09T08:44:09.780Z"
   },
   {
    "duration": 8,
    "start_time": "2022-11-09T08:44:11.925Z"
   },
   {
    "duration": 10,
    "start_time": "2022-11-09T08:44:14.102Z"
   },
   {
    "duration": 5,
    "start_time": "2022-11-09T08:44:27.302Z"
   },
   {
    "duration": 11,
    "start_time": "2022-11-09T08:44:31.582Z"
   },
   {
    "duration": 10,
    "start_time": "2022-11-09T08:44:34.880Z"
   },
   {
    "duration": 7,
    "start_time": "2022-11-09T08:44:35.312Z"
   },
   {
    "duration": 12,
    "start_time": "2022-11-09T08:44:38.727Z"
   },
   {
    "duration": 6,
    "start_time": "2022-11-09T08:44:38.975Z"
   },
   {
    "duration": 6,
    "start_time": "2022-11-09T08:44:43.775Z"
   },
   {
    "duration": 4,
    "start_time": "2022-11-09T08:44:43.936Z"
   },
   {
    "duration": 11,
    "start_time": "2022-11-09T08:44:44.516Z"
   },
   {
    "duration": 5,
    "start_time": "2022-11-09T08:44:44.722Z"
   },
   {
    "duration": 10,
    "start_time": "2022-11-09T08:44:58.355Z"
   },
   {
    "duration": 5,
    "start_time": "2022-11-09T08:45:01.154Z"
   },
   {
    "duration": 911,
    "start_time": "2022-11-09T08:45:01.361Z"
   },
   {
    "duration": 57,
    "start_time": "2022-11-09T08:45:33.455Z"
   },
   {
    "duration": 1169,
    "start_time": "2022-11-09T08:45:42.988Z"
   },
   {
    "duration": 24,
    "start_time": "2022-11-09T08:45:44.159Z"
   },
   {
    "duration": 17,
    "start_time": "2022-11-09T08:45:44.186Z"
   },
   {
    "duration": 9,
    "start_time": "2022-11-09T08:45:44.205Z"
   },
   {
    "duration": 25,
    "start_time": "2022-11-09T08:45:44.216Z"
   },
   {
    "duration": 18,
    "start_time": "2022-11-09T08:45:44.243Z"
   },
   {
    "duration": 41,
    "start_time": "2022-11-09T08:45:44.263Z"
   },
   {
    "duration": 15,
    "start_time": "2022-11-09T08:45:44.306Z"
   },
   {
    "duration": 11,
    "start_time": "2022-11-09T08:45:44.323Z"
   },
   {
    "duration": 20,
    "start_time": "2022-11-09T08:45:44.337Z"
   },
   {
    "duration": 20,
    "start_time": "2022-11-09T08:45:44.359Z"
   },
   {
    "duration": 12,
    "start_time": "2022-11-09T08:45:44.381Z"
   },
   {
    "duration": 11,
    "start_time": "2022-11-09T08:45:44.398Z"
   },
   {
    "duration": 5,
    "start_time": "2022-11-09T08:45:44.411Z"
   },
   {
    "duration": 7,
    "start_time": "2022-11-09T08:45:44.418Z"
   },
   {
    "duration": 9,
    "start_time": "2022-11-09T08:45:44.427Z"
   },
   {
    "duration": 11,
    "start_time": "2022-11-09T08:45:51.316Z"
   },
   {
    "duration": 123,
    "start_time": "2022-11-09T08:46:02.697Z"
   },
   {
    "duration": 24,
    "start_time": "2022-11-09T08:46:15.567Z"
   },
   {
    "duration": 12,
    "start_time": "2022-11-09T08:46:28.486Z"
   },
   {
    "duration": 2,
    "start_time": "2022-11-09T08:47:34.431Z"
   },
   {
    "duration": 2,
    "start_time": "2022-11-09T08:47:46.922Z"
   },
   {
    "duration": 6,
    "start_time": "2022-11-09T08:47:52.642Z"
   },
   {
    "duration": 6,
    "start_time": "2022-11-09T08:48:18.253Z"
   },
   {
    "duration": 73,
    "start_time": "2022-11-09T08:49:06.900Z"
   },
   {
    "duration": 88,
    "start_time": "2022-11-09T08:49:09.981Z"
   },
   {
    "duration": 83,
    "start_time": "2022-11-09T08:49:12.867Z"
   },
   {
    "duration": 9,
    "start_time": "2022-11-09T08:49:16.950Z"
   },
   {
    "duration": 9,
    "start_time": "2022-11-09T08:49:33.830Z"
   },
   {
    "duration": 11,
    "start_time": "2022-11-09T08:50:12.590Z"
   },
   {
    "duration": 10,
    "start_time": "2022-11-09T08:50:15.464Z"
   },
   {
    "duration": 8,
    "start_time": "2022-11-09T09:05:35.032Z"
   },
   {
    "duration": 12,
    "start_time": "2022-11-09T09:05:44.966Z"
   },
   {
    "duration": 5,
    "start_time": "2022-11-09T09:05:51.882Z"
   },
   {
    "duration": 282,
    "start_time": "2022-11-09T09:05:52.865Z"
   },
   {
    "duration": 7,
    "start_time": "2022-11-09T09:05:54.565Z"
   },
   {
    "duration": 59,
    "start_time": "2022-11-09T09:05:55.054Z"
   },
   {
    "duration": 4,
    "start_time": "2022-11-09T09:05:55.964Z"
   },
   {
    "duration": 4,
    "start_time": "2022-11-09T09:06:07.484Z"
   },
   {
    "duration": 77,
    "start_time": "2022-11-09T09:07:10.395Z"
   },
   {
    "duration": 72,
    "start_time": "2022-11-09T09:07:19.428Z"
   },
   {
    "duration": 81,
    "start_time": "2022-11-09T09:07:35.592Z"
   },
   {
    "duration": 73,
    "start_time": "2022-11-09T09:08:10.341Z"
   },
   {
    "duration": 106,
    "start_time": "2022-11-09T09:08:30.117Z"
   },
   {
    "duration": 73,
    "start_time": "2022-11-09T09:08:41.316Z"
   },
   {
    "duration": 84,
    "start_time": "2022-11-09T09:08:44.575Z"
   },
   {
    "duration": 5,
    "start_time": "2022-11-09T09:08:51.089Z"
   },
   {
    "duration": 4,
    "start_time": "2022-11-09T09:09:10.066Z"
   },
   {
    "duration": 74,
    "start_time": "2022-11-09T09:09:53.167Z"
   },
   {
    "duration": 2,
    "start_time": "2022-11-09T09:10:14.403Z"
   },
   {
    "duration": 69,
    "start_time": "2022-11-09T09:10:18.388Z"
   },
   {
    "duration": 4,
    "start_time": "2022-11-09T09:10:20.868Z"
   },
   {
    "duration": 6,
    "start_time": "2022-11-09T09:10:22.957Z"
   },
   {
    "duration": 4,
    "start_time": "2022-11-09T09:10:29.382Z"
   },
   {
    "duration": 5,
    "start_time": "2022-11-09T09:10:40.768Z"
   },
   {
    "duration": 5,
    "start_time": "2022-11-09T09:11:40.374Z"
   },
   {
    "duration": 4,
    "start_time": "2022-11-09T09:11:53.862Z"
   },
   {
    "duration": 4,
    "start_time": "2022-11-09T09:12:18.051Z"
   },
   {
    "duration": 14,
    "start_time": "2022-11-09T09:12:51.993Z"
   },
   {
    "duration": 11,
    "start_time": "2022-11-09T09:13:39.157Z"
   },
   {
    "duration": 13,
    "start_time": "2022-11-09T09:14:01.536Z"
   },
   {
    "duration": 17,
    "start_time": "2022-11-09T09:14:40.318Z"
   },
   {
    "duration": 12,
    "start_time": "2022-11-09T09:14:47.117Z"
   },
   {
    "duration": 17,
    "start_time": "2022-11-09T09:15:06.710Z"
   },
   {
    "duration": 13,
    "start_time": "2022-11-09T09:15:26.816Z"
   },
   {
    "duration": 14,
    "start_time": "2022-11-09T09:15:38.887Z"
   },
   {
    "duration": 10,
    "start_time": "2022-11-09T09:15:47.583Z"
   },
   {
    "duration": 72,
    "start_time": "2022-11-09T09:17:48.778Z"
   },
   {
    "duration": 285,
    "start_time": "2022-11-09T09:18:52.472Z"
   },
   {
    "duration": 341,
    "start_time": "2022-11-09T09:19:09.659Z"
   },
   {
    "duration": 185,
    "start_time": "2022-11-09T09:19:17.181Z"
   },
   {
    "duration": 193,
    "start_time": "2022-11-09T09:19:39.493Z"
   },
   {
    "duration": 205,
    "start_time": "2022-11-09T09:19:46.751Z"
   },
   {
    "duration": 203,
    "start_time": "2022-11-09T09:19:58.320Z"
   },
   {
    "duration": 210,
    "start_time": "2022-11-09T09:20:27.315Z"
   },
   {
    "duration": 336,
    "start_time": "2022-11-09T09:20:33.173Z"
   },
   {
    "duration": 202,
    "start_time": "2022-11-09T09:20:39.601Z"
   },
   {
    "duration": 304,
    "start_time": "2022-11-09T09:20:44.878Z"
   },
   {
    "duration": 265,
    "start_time": "2022-11-09T09:21:24.086Z"
   },
   {
    "duration": 220,
    "start_time": "2022-11-09T09:22:01.881Z"
   },
   {
    "duration": 211,
    "start_time": "2022-11-09T09:22:42.152Z"
   },
   {
    "duration": 331,
    "start_time": "2022-11-09T09:23:13.083Z"
   },
   {
    "duration": 308,
    "start_time": "2022-11-09T09:24:05.923Z"
   },
   {
    "duration": 297,
    "start_time": "2022-11-09T09:24:24.237Z"
   },
   {
    "duration": 299,
    "start_time": "2022-11-09T09:24:35.613Z"
   },
   {
    "duration": 262,
    "start_time": "2022-11-09T09:24:39.742Z"
   },
   {
    "duration": 283,
    "start_time": "2022-11-09T09:24:46.823Z"
   },
   {
    "duration": 69,
    "start_time": "2022-11-09T09:25:32.973Z"
   },
   {
    "duration": 162,
    "start_time": "2022-11-09T09:25:57.338Z"
   },
   {
    "duration": 149,
    "start_time": "2022-11-09T09:26:14.579Z"
   },
   {
    "duration": 74,
    "start_time": "2022-11-09T09:34:11.459Z"
   },
   {
    "duration": 71,
    "start_time": "2022-11-09T09:34:25.331Z"
   },
   {
    "duration": 3,
    "start_time": "2022-11-09T09:34:34.044Z"
   },
   {
    "duration": 11,
    "start_time": "2022-11-09T09:34:37.867Z"
   },
   {
    "duration": 5,
    "start_time": "2022-11-09T09:34:46.357Z"
   },
   {
    "duration": 2491,
    "start_time": "2022-11-09T09:35:14.114Z"
   },
   {
    "duration": 2164,
    "start_time": "2022-11-09T09:35:19.940Z"
   },
   {
    "duration": 1666,
    "start_time": "2022-11-09T09:35:24.598Z"
   },
   {
    "duration": 1315,
    "start_time": "2022-11-09T09:35:49.102Z"
   },
   {
    "duration": 0,
    "start_time": "2022-11-09T09:35:50.419Z"
   },
   {
    "duration": 1401,
    "start_time": "2022-11-09T09:35:59.832Z"
   },
   {
    "duration": 5,
    "start_time": "2022-11-09T09:36:43.399Z"
   },
   {
    "duration": 4,
    "start_time": "2022-11-09T09:36:45.870Z"
   },
   {
    "duration": 4,
    "start_time": "2022-11-09T09:36:48.013Z"
   },
   {
    "duration": 3,
    "start_time": "2022-11-09T09:36:58.959Z"
   },
   {
    "duration": 13,
    "start_time": "2022-11-09T09:37:24.476Z"
   },
   {
    "duration": 4,
    "start_time": "2022-11-09T09:37:35.954Z"
   },
   {
    "duration": 28,
    "start_time": "2022-11-09T09:37:35.960Z"
   },
   {
    "duration": 10,
    "start_time": "2022-11-09T09:37:35.990Z"
   },
   {
    "duration": 7,
    "start_time": "2022-11-09T09:37:36.002Z"
   },
   {
    "duration": 15,
    "start_time": "2022-11-09T09:37:36.011Z"
   },
   {
    "duration": 18,
    "start_time": "2022-11-09T09:37:36.028Z"
   },
   {
    "duration": 38,
    "start_time": "2022-11-09T09:37:36.048Z"
   },
   {
    "duration": 13,
    "start_time": "2022-11-09T09:37:36.088Z"
   },
   {
    "duration": 10,
    "start_time": "2022-11-09T09:37:36.102Z"
   },
   {
    "duration": 14,
    "start_time": "2022-11-09T09:37:36.114Z"
   },
   {
    "duration": 10,
    "start_time": "2022-11-09T09:37:36.131Z"
   },
   {
    "duration": 11,
    "start_time": "2022-11-09T09:37:36.142Z"
   },
   {
    "duration": 44,
    "start_time": "2022-11-09T09:37:36.154Z"
   },
   {
    "duration": 8,
    "start_time": "2022-11-09T09:37:36.200Z"
   },
   {
    "duration": 9,
    "start_time": "2022-11-09T09:37:36.210Z"
   },
   {
    "duration": 9,
    "start_time": "2022-11-09T09:37:36.222Z"
   },
   {
    "duration": 14,
    "start_time": "2022-11-09T09:37:36.232Z"
   },
   {
    "duration": 5,
    "start_time": "2022-11-09T09:37:36.247Z"
   },
   {
    "duration": 9,
    "start_time": "2022-11-09T09:37:36.254Z"
   },
   {
    "duration": 13,
    "start_time": "2022-11-09T09:37:36.298Z"
   },
   {
    "duration": 7,
    "start_time": "2022-11-09T09:37:36.314Z"
   },
   {
    "duration": 373,
    "start_time": "2022-11-09T09:37:36.323Z"
   },
   {
    "duration": 6,
    "start_time": "2022-11-09T09:37:36.698Z"
   },
   {
    "duration": 17,
    "start_time": "2022-11-09T09:37:36.706Z"
   },
   {
    "duration": 4,
    "start_time": "2022-11-09T09:37:36.726Z"
   },
   {
    "duration": 9,
    "start_time": "2022-11-09T09:37:36.731Z"
   },
   {
    "duration": 14,
    "start_time": "2022-11-09T09:37:36.742Z"
   },
   {
    "duration": 247,
    "start_time": "2022-11-09T09:37:36.758Z"
   },
   {
    "duration": 231,
    "start_time": "2022-11-09T09:37:37.010Z"
   },
   {
    "duration": 292,
    "start_time": "2022-11-09T09:37:37.243Z"
   },
   {
    "duration": 222,
    "start_time": "2022-11-09T09:37:37.536Z"
   },
   {
    "duration": 330,
    "start_time": "2022-11-09T09:37:37.760Z"
   },
   {
    "duration": 164,
    "start_time": "2022-11-09T09:37:38.091Z"
   },
   {
    "duration": 4,
    "start_time": "2022-11-09T09:37:38.257Z"
   },
   {
    "duration": 164,
    "start_time": "2022-11-09T09:37:38.263Z"
   },
   {
    "duration": 178,
    "start_time": "2022-11-09T09:37:38.429Z"
   },
   {
    "duration": 4,
    "start_time": "2022-11-09T09:37:38.609Z"
   },
   {
    "duration": 11,
    "start_time": "2022-11-09T09:37:38.615Z"
   },
   {
    "duration": 25,
    "start_time": "2022-11-09T09:37:38.628Z"
   },
   {
    "duration": 58,
    "start_time": "2022-11-09T09:37:38.655Z"
   },
   {
    "duration": 53,
    "start_time": "2022-11-09T09:37:38.715Z"
   },
   {
    "duration": 64,
    "start_time": "2022-11-09T09:37:38.770Z"
   },
   {
    "duration": 71,
    "start_time": "2022-11-09T09:37:38.835Z"
   },
   {
    "duration": 23,
    "start_time": "2022-11-09T09:37:38.908Z"
   },
   {
    "duration": 10,
    "start_time": "2022-11-09T09:37:38.933Z"
   },
   {
    "duration": 178,
    "start_time": "2022-11-09T09:37:38.944Z"
   },
   {
    "duration": 7,
    "start_time": "2022-11-09T09:37:39.125Z"
   },
   {
    "duration": 49,
    "start_time": "2022-11-09T09:37:39.133Z"
   },
   {
    "duration": 15,
    "start_time": "2022-11-09T09:37:39.184Z"
   },
   {
    "duration": 24,
    "start_time": "2022-11-09T09:37:39.201Z"
   },
   {
    "duration": 25,
    "start_time": "2022-11-09T09:37:39.227Z"
   },
   {
    "duration": 19,
    "start_time": "2022-11-09T09:37:39.253Z"
   },
   {
    "duration": 25,
    "start_time": "2022-11-09T09:37:39.274Z"
   },
   {
    "duration": 19,
    "start_time": "2022-11-09T09:37:39.301Z"
   },
   {
    "duration": 41,
    "start_time": "2022-11-09T09:37:39.322Z"
   },
   {
    "duration": 15,
    "start_time": "2022-11-09T09:37:39.365Z"
   },
   {
    "duration": 8,
    "start_time": "2022-11-09T09:37:50.823Z"
   },
   {
    "duration": 5,
    "start_time": "2022-11-09T09:37:52.261Z"
   },
   {
    "duration": 8,
    "start_time": "2022-11-09T09:37:53.324Z"
   },
   {
    "duration": 33,
    "start_time": "2022-11-09T09:37:54.208Z"
   },
   {
    "duration": 15,
    "start_time": "2022-11-09T09:37:55.412Z"
   },
   {
    "duration": 93,
    "start_time": "2022-11-09T09:38:38.438Z"
   },
   {
    "duration": 5,
    "start_time": "2022-11-09T09:39:14.982Z"
   },
   {
    "duration": 8,
    "start_time": "2022-11-09T09:39:16.215Z"
   },
   {
    "duration": 27,
    "start_time": "2022-11-09T09:39:19.927Z"
   },
   {
    "duration": 77,
    "start_time": "2022-11-09T09:44:04.657Z"
   },
   {
    "duration": 68,
    "start_time": "2022-11-09T09:45:21.466Z"
   },
   {
    "duration": 66,
    "start_time": "2022-11-09T09:47:55.250Z"
   },
   {
    "duration": 121,
    "start_time": "2022-11-09T09:48:45.957Z"
   }
  ],
  "kernelspec": {
   "display_name": "Python 3 (ipykernel)",
   "language": "python",
   "name": "python3"
  },
  "language_info": {
   "codemirror_mode": {
    "name": "ipython",
    "version": 3
   },
   "file_extension": ".py",
   "mimetype": "text/x-python",
   "name": "python",
   "nbconvert_exporter": "python",
   "pygments_lexer": "ipython3",
   "version": "3.10.5"
  },
  "toc": {
   "base_numbering": 1,
   "nav_menu": {},
   "number_sections": true,
   "sideBar": true,
   "skip_h1_title": true,
   "title_cell": "Table of Contents",
   "title_sidebar": "Contents",
   "toc_cell": false,
   "toc_position": {},
   "toc_section_display": true,
   "toc_window_display": false
  }
 },
 "nbformat": 4,
 "nbformat_minor": 2
}
