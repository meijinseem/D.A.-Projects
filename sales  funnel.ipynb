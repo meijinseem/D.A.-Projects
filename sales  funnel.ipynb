{
 "cells": [
  {
   "cell_type": "markdown",
   "metadata": {},
   "source": [
    "<h1>Описание проекта</h1>"
   ]
  },
  {
   "cell_type": "markdown",
   "metadata": {},
   "source": [
    "<p>Я - аналитик в стартапе, который продаёт продукты питания. Мне следует разобраться, как ведут себя пользователи вашего мобильного приложения.</p>"
   ]
  },
  {
   "cell_type": "markdown",
   "metadata": {},
   "source": [
    "<b>Цель:</b>\n",
    "\n",
    "Изучить воронку продаж. Узнайте, как пользователи доходят до покупки. Сколько пользователей доходит до покупки, а сколько — «застревает» на предыдущих шагах? На каких именно?"
   ]
  },
  {
   "cell_type": "markdown",
   "metadata": {},
   "source": [
    "После этого исследуем результаты A/A/B-эксперимента. Дизайнеры захотели поменять шрифты во всём приложении, а менеджеры испугались, что пользователям будет непривычно. Договорились принять решение по результатам A/A/B-теста. Пользователей разбили на 3 группы: 2 контрольные со старыми шрифтами и одну экспериментальную — с новыми. Выясним, какой шрифт лучше.\n",
    "\n",
    "Создание двух групп A вместо одной имеет определённые преимущества. Если две контрольные группы окажутся равны, вы можете быть уверены в точности проведенного тестирования. Если же между значениями A и A будут существенные различия, это поможет обнаружить факторы, которые привели к искажению результатов. Сравнение контрольных групп также помогает понять, сколько времени и данных потребуется для дальнейших тестов."
   ]
  },
  {
   "cell_type": "markdown",
   "metadata": {},
   "source": [
    "<b>Описание данных:</b>"
   ]
  },
  {
   "cell_type": "markdown",
   "metadata": {},
   "source": [
    "<b>EventName</b> — название события;\n",
    "\n",
    "<b>DeviceIDHash</b> — уникальный идентификатор пользователя;\n",
    "\n",
    "<b>EventTimestamp</b> — время события;\n",
    "\n",
    "<b>ExpId</b> — номер эксперимента: 246 и 247 — контрольные группы, а 248 — экспериментальная."
   ]
  },
  {
   "cell_type": "markdown",
   "metadata": {},
   "source": [
    "<h2>Шаг 1. Откройте файл с данными и изучите общую информацию</h2>"
   ]
  },
  {
   "cell_type": "code",
   "execution_count": 406,
   "metadata": {},
   "outputs": [],
   "source": [
    "import pandas as pd\n",
    "from datetime import datetime as dt\n",
    "import time\n",
    "import matplotlib.pyplot as plt\n",
    "import numpy as np\n",
    "import scipy.stats as st\n",
    "import math as mth\n",
    "from statsmodels.stats.proportion import proportions_ztest\n",
    "import seaborn as sns\n",
    "import datetime"
   ]
  },
  {
   "cell_type": "code",
   "execution_count": 407,
   "metadata": {},
   "outputs": [],
   "source": [
    "data = pd.read_csv('/datasets/logs_exp.csv', sep = \"\\t\")"
   ]
  },
  {
   "cell_type": "code",
   "execution_count": 408,
   "metadata": {},
   "outputs": [
    {
     "data": {
      "text/html": [
       "<div>\n",
       "<style scoped>\n",
       "    .dataframe tbody tr th:only-of-type {\n",
       "        vertical-align: middle;\n",
       "    }\n",
       "\n",
       "    .dataframe tbody tr th {\n",
       "        vertical-align: top;\n",
       "    }\n",
       "\n",
       "    .dataframe thead th {\n",
       "        text-align: right;\n",
       "    }\n",
       "</style>\n",
       "<table border=\"1\" class=\"dataframe\">\n",
       "  <thead>\n",
       "    <tr style=\"text-align: right;\">\n",
       "      <th></th>\n",
       "      <th>EventName</th>\n",
       "      <th>DeviceIDHash</th>\n",
       "      <th>EventTimestamp</th>\n",
       "      <th>ExpId</th>\n",
       "    </tr>\n",
       "  </thead>\n",
       "  <tbody>\n",
       "    <tr>\n",
       "      <th>0</th>\n",
       "      <td>MainScreenAppear</td>\n",
       "      <td>4575588528974610257</td>\n",
       "      <td>1564029816</td>\n",
       "      <td>246</td>\n",
       "    </tr>\n",
       "    <tr>\n",
       "      <th>1</th>\n",
       "      <td>MainScreenAppear</td>\n",
       "      <td>7416695313311560658</td>\n",
       "      <td>1564053102</td>\n",
       "      <td>246</td>\n",
       "    </tr>\n",
       "    <tr>\n",
       "      <th>2</th>\n",
       "      <td>PaymentScreenSuccessful</td>\n",
       "      <td>3518123091307005509</td>\n",
       "      <td>1564054127</td>\n",
       "      <td>248</td>\n",
       "    </tr>\n",
       "    <tr>\n",
       "      <th>3</th>\n",
       "      <td>CartScreenAppear</td>\n",
       "      <td>3518123091307005509</td>\n",
       "      <td>1564054127</td>\n",
       "      <td>248</td>\n",
       "    </tr>\n",
       "    <tr>\n",
       "      <th>4</th>\n",
       "      <td>PaymentScreenSuccessful</td>\n",
       "      <td>6217807653094995999</td>\n",
       "      <td>1564055322</td>\n",
       "      <td>248</td>\n",
       "    </tr>\n",
       "  </tbody>\n",
       "</table>\n",
       "</div>"
      ],
      "text/plain": [
       "                 EventName         DeviceIDHash  EventTimestamp  ExpId\n",
       "0         MainScreenAppear  4575588528974610257      1564029816    246\n",
       "1         MainScreenAppear  7416695313311560658      1564053102    246\n",
       "2  PaymentScreenSuccessful  3518123091307005509      1564054127    248\n",
       "3         CartScreenAppear  3518123091307005509      1564054127    248\n",
       "4  PaymentScreenSuccessful  6217807653094995999      1564055322    248"
      ]
     },
     "execution_count": 408,
     "metadata": {},
     "output_type": "execute_result"
    }
   ],
   "source": [
    "data.head()"
   ]
  },
  {
   "cell_type": "markdown",
   "metadata": {},
   "source": [
    "<h2>Шаг 2. Подготовьте данные</h2>"
   ]
  },
  {
   "cell_type": "markdown",
   "metadata": {},
   "source": [
    "Изменим названия столбцов в привычные для использования"
   ]
  },
  {
   "cell_type": "code",
   "execution_count": 409,
   "metadata": {},
   "outputs": [],
   "source": [
    "data.columns = ['event_name', 'user_id', 'datetime', 'exp_id']"
   ]
  },
  {
   "cell_type": "markdown",
   "metadata": {},
   "source": [
    "Теперь оценим сами данные"
   ]
  },
  {
   "cell_type": "code",
   "execution_count": 410,
   "metadata": {},
   "outputs": [
    {
     "name": "stdout",
     "output_type": "stream",
     "text": [
      "<class 'pandas.core.frame.DataFrame'>\n",
      "RangeIndex: 244126 entries, 0 to 244125\n",
      "Data columns (total 4 columns):\n",
      " #   Column      Non-Null Count   Dtype \n",
      "---  ------      --------------   ----- \n",
      " 0   event_name  244126 non-null  object\n",
      " 1   user_id     244126 non-null  int64 \n",
      " 2   datetime    244126 non-null  int64 \n",
      " 3   exp_id      244126 non-null  int64 \n",
      "dtypes: int64(3), object(1)\n",
      "memory usage: 7.5+ MB\n"
     ]
    }
   ],
   "source": [
    "data.info()"
   ]
  },
  {
   "cell_type": "markdown",
   "metadata": {},
   "source": [
    "Необходимо конвертировать формат Timestamp в datetime"
   ]
  },
  {
   "cell_type": "code",
   "execution_count": 411,
   "metadata": {},
   "outputs": [],
   "source": [
    "data['datetime'] = pd.to_datetime(data['datetime'],unit='s')"
   ]
  },
  {
   "cell_type": "markdown",
   "metadata": {},
   "source": [
    "Добавим отельный столбец только с датами:"
   ]
  },
  {
   "cell_type": "code",
   "execution_count": 412,
   "metadata": {},
   "outputs": [],
   "source": [
    "data['date'] = data['datetime'].dt.date"
   ]
  },
  {
   "cell_type": "code",
   "execution_count": 413,
   "metadata": {},
   "outputs": [
    {
     "data": {
      "text/html": [
       "<div>\n",
       "<style scoped>\n",
       "    .dataframe tbody tr th:only-of-type {\n",
       "        vertical-align: middle;\n",
       "    }\n",
       "\n",
       "    .dataframe tbody tr th {\n",
       "        vertical-align: top;\n",
       "    }\n",
       "\n",
       "    .dataframe thead th {\n",
       "        text-align: right;\n",
       "    }\n",
       "</style>\n",
       "<table border=\"1\" class=\"dataframe\">\n",
       "  <thead>\n",
       "    <tr style=\"text-align: right;\">\n",
       "      <th></th>\n",
       "      <th>event_name</th>\n",
       "      <th>user_id</th>\n",
       "      <th>datetime</th>\n",
       "      <th>exp_id</th>\n",
       "      <th>date</th>\n",
       "    </tr>\n",
       "  </thead>\n",
       "  <tbody>\n",
       "    <tr>\n",
       "      <th>0</th>\n",
       "      <td>MainScreenAppear</td>\n",
       "      <td>4575588528974610257</td>\n",
       "      <td>2019-07-25 04:43:36</td>\n",
       "      <td>246</td>\n",
       "      <td>2019-07-25</td>\n",
       "    </tr>\n",
       "    <tr>\n",
       "      <th>1</th>\n",
       "      <td>MainScreenAppear</td>\n",
       "      <td>7416695313311560658</td>\n",
       "      <td>2019-07-25 11:11:42</td>\n",
       "      <td>246</td>\n",
       "      <td>2019-07-25</td>\n",
       "    </tr>\n",
       "    <tr>\n",
       "      <th>2</th>\n",
       "      <td>PaymentScreenSuccessful</td>\n",
       "      <td>3518123091307005509</td>\n",
       "      <td>2019-07-25 11:28:47</td>\n",
       "      <td>248</td>\n",
       "      <td>2019-07-25</td>\n",
       "    </tr>\n",
       "    <tr>\n",
       "      <th>3</th>\n",
       "      <td>CartScreenAppear</td>\n",
       "      <td>3518123091307005509</td>\n",
       "      <td>2019-07-25 11:28:47</td>\n",
       "      <td>248</td>\n",
       "      <td>2019-07-25</td>\n",
       "    </tr>\n",
       "    <tr>\n",
       "      <th>4</th>\n",
       "      <td>PaymentScreenSuccessful</td>\n",
       "      <td>6217807653094995999</td>\n",
       "      <td>2019-07-25 11:48:42</td>\n",
       "      <td>248</td>\n",
       "      <td>2019-07-25</td>\n",
       "    </tr>\n",
       "  </tbody>\n",
       "</table>\n",
       "</div>"
      ],
      "text/plain": [
       "                event_name              user_id            datetime  exp_id  \\\n",
       "0         MainScreenAppear  4575588528974610257 2019-07-25 04:43:36     246   \n",
       "1         MainScreenAppear  7416695313311560658 2019-07-25 11:11:42     246   \n",
       "2  PaymentScreenSuccessful  3518123091307005509 2019-07-25 11:28:47     248   \n",
       "3         CartScreenAppear  3518123091307005509 2019-07-25 11:28:47     248   \n",
       "4  PaymentScreenSuccessful  6217807653094995999 2019-07-25 11:48:42     248   \n",
       "\n",
       "         date  \n",
       "0  2019-07-25  \n",
       "1  2019-07-25  \n",
       "2  2019-07-25  \n",
       "3  2019-07-25  \n",
       "4  2019-07-25  "
      ]
     },
     "execution_count": 413,
     "metadata": {},
     "output_type": "execute_result"
    }
   ],
   "source": [
    "data.head()"
   ]
  },
  {
   "cell_type": "code",
   "execution_count": 414,
   "metadata": {},
   "outputs": [
    {
     "name": "stdout",
     "output_type": "stream",
     "text": [
      "<class 'pandas.core.frame.DataFrame'>\n",
      "RangeIndex: 244126 entries, 0 to 244125\n",
      "Data columns (total 5 columns):\n",
      " #   Column      Non-Null Count   Dtype         \n",
      "---  ------      --------------   -----         \n",
      " 0   event_name  244126 non-null  object        \n",
      " 1   user_id     244126 non-null  int64         \n",
      " 2   datetime    244126 non-null  datetime64[ns]\n",
      " 3   exp_id      244126 non-null  int64         \n",
      " 4   date        244126 non-null  object        \n",
      "dtypes: datetime64[ns](1), int64(2), object(2)\n",
      "memory usage: 9.3+ MB\n"
     ]
    }
   ],
   "source": [
    "data.info()"
   ]
  },
  {
   "cell_type": "markdown",
   "metadata": {},
   "source": [
    "Теперь посчитаем и удалим дубликаты (по необходимости)"
   ]
  },
  {
   "cell_type": "code",
   "execution_count": 415,
   "metadata": {},
   "outputs": [
    {
     "name": "stdout",
     "output_type": "stream",
     "text": [
      "Сумма дубликатов: 413\n"
     ]
    }
   ],
   "source": [
    "print(f'Сумма дубликатов: {data.duplicated().sum()}')"
   ]
  },
  {
   "cell_type": "code",
   "execution_count": 416,
   "metadata": {},
   "outputs": [
    {
     "name": "stdout",
     "output_type": "stream",
     "text": [
      "Дубликаты занимают: 0.1692 % от всего датасета\n"
     ]
    }
   ],
   "source": [
    "print(f'Дубликаты занимают: {round(data.duplicated().sum()/len(data)*100,4)} % от всего датасета')"
   ]
  },
  {
   "cell_type": "code",
   "execution_count": 417,
   "metadata": {},
   "outputs": [],
   "source": [
    "data = data.drop_duplicates().reset_index(drop=True)"
   ]
  },
  {
   "cell_type": "code",
   "execution_count": 418,
   "metadata": {},
   "outputs": [
    {
     "name": "stdout",
     "output_type": "stream",
     "text": [
      "Сумма дубликатов: 0\n"
     ]
    }
   ],
   "source": [
    "print(f'Сумма дубликатов: {data.duplicated().sum()}')"
   ]
  },
  {
   "cell_type": "markdown",
   "metadata": {},
   "source": [
    "Теперь когда, мы подготовили наши данные, мы можем приступать к изучению данных"
   ]
  },
  {
   "cell_type": "markdown",
   "metadata": {},
   "source": [
    "Проверим, есть ли пересечения среди пользователей в обеих группах"
   ]
  },
  {
   "cell_type": "code",
   "execution_count": 419,
   "metadata": {},
   "outputs": [],
   "source": [
    "user_246 = data.query('exp_id == 246')['user_id']"
   ]
  },
  {
   "cell_type": "code",
   "execution_count": 420,
   "metadata": {},
   "outputs": [],
   "source": [
    "user_247 = data.query('exp_id == 247')['user_id']"
   ]
  },
  {
   "cell_type": "code",
   "execution_count": 421,
   "metadata": {},
   "outputs": [],
   "source": [
    "user_248 = data.query('exp_id == 248')['user_id']"
   ]
  },
  {
   "cell_type": "code",
   "execution_count": 422,
   "metadata": {},
   "outputs": [],
   "source": [
    "duplicates_user_1 = (list(set(user_246).intersection(set(user_247))))"
   ]
  },
  {
   "cell_type": "code",
   "execution_count": 423,
   "metadata": {},
   "outputs": [
    {
     "data": {
      "text/plain": [
       "[]"
      ]
     },
     "execution_count": 423,
     "metadata": {},
     "output_type": "execute_result"
    }
   ],
   "source": [
    "duplicates_user_1"
   ]
  },
  {
   "cell_type": "markdown",
   "metadata": {},
   "source": [
    "Массив пустой, а это значит, что пересечения среди пользователей в группах 246 и 247 нет, проверим пересечение среди остальных групп."
   ]
  },
  {
   "cell_type": "code",
   "execution_count": 424,
   "metadata": {},
   "outputs": [],
   "source": [
    "duplicates_user_2 = (list(set(user_246).intersection(set(user_248))))"
   ]
  },
  {
   "cell_type": "code",
   "execution_count": 425,
   "metadata": {},
   "outputs": [
    {
     "data": {
      "text/plain": [
       "[]"
      ]
     },
     "execution_count": 425,
     "metadata": {},
     "output_type": "execute_result"
    }
   ],
   "source": [
    "duplicates_user_2"
   ]
  },
  {
   "cell_type": "code",
   "execution_count": 426,
   "metadata": {},
   "outputs": [],
   "source": [
    "duplicates_user_3 = (list(set(user_247).intersection(set(user_248))))"
   ]
  },
  {
   "cell_type": "code",
   "execution_count": 427,
   "metadata": {},
   "outputs": [
    {
     "data": {
      "text/plain": [
       "[]"
      ]
     },
     "execution_count": 427,
     "metadata": {},
     "output_type": "execute_result"
    }
   ],
   "source": [
    "duplicates_user_3"
   ]
  },
  {
   "cell_type": "markdown",
   "metadata": {},
   "source": [
    "Пересечений среди пользоватей в группах не оказлось, это значит, что A/A/B тестирование было запущенно корректно."
   ]
  },
  {
   "cell_type": "markdown",
   "metadata": {},
   "source": [
    "<h2>Шаг 3. Изучите и проверьте данные</h2>"
   ]
  },
  {
   "cell_type": "markdown",
   "metadata": {},
   "source": [
    "<b>Сколько всего событий в логе?</b>"
   ]
  },
  {
   "cell_type": "code",
   "execution_count": 428,
   "metadata": {},
   "outputs": [
    {
     "name": "stdout",
     "output_type": "stream",
     "text": [
      "Cобытий в логе:\n"
     ]
    },
    {
     "data": {
      "text/plain": [
       "243713"
      ]
     },
     "execution_count": 428,
     "metadata": {},
     "output_type": "execute_result"
    }
   ],
   "source": [
    "print('Cобытий в логе:')\n",
    "len(data['event_name'])"
   ]
  },
  {
   "cell_type": "markdown",
   "metadata": {},
   "source": [
    "<b>Сколько всего пользователей в логе?</b>"
   ]
  },
  {
   "cell_type": "code",
   "execution_count": 429,
   "metadata": {},
   "outputs": [
    {
     "name": "stdout",
     "output_type": "stream",
     "text": [
      "Пользователей в логе:\n"
     ]
    },
    {
     "data": {
      "text/plain": [
       "7551"
      ]
     },
     "execution_count": 429,
     "metadata": {},
     "output_type": "execute_result"
    }
   ],
   "source": [
    "print('Пользователей в логе:')\n",
    "len(data['user_id'].unique())"
   ]
  },
  {
   "cell_type": "markdown",
   "metadata": {},
   "source": [
    "<b>Сколько в среднем событий приходится на пользователя?</b>"
   ]
  },
  {
   "cell_type": "code",
   "execution_count": 430,
   "metadata": {},
   "outputs": [],
   "source": [
    "event_grouped = data.groupby('user_id').agg({'event_name': ['count']})"
   ]
  },
  {
   "cell_type": "code",
   "execution_count": 431,
   "metadata": {},
   "outputs": [
    {
     "name": "stdout",
     "output_type": "stream",
     "text": [
      "В среднем событий на пользователя приходится:\n"
     ]
    },
    {
     "data": {
      "text/plain": [
       "32"
      ]
     },
     "execution_count": 431,
     "metadata": {},
     "output_type": "execute_result"
    }
   ],
   "source": [
    "print(f'В среднем событий на пользователя приходится:')\n",
    "int(event_grouped['event_name'].mean())\n"
   ]
  },
  {
   "cell_type": "code",
   "execution_count": 432,
   "metadata": {},
   "outputs": [],
   "source": [
    "users_group = data.groupby('user_id').agg({'datetime':'nunique'})"
   ]
  },
  {
   "cell_type": "code",
   "execution_count": 433,
   "metadata": {},
   "outputs": [],
   "source": [
    "users_group.columns = ['count_event']"
   ]
  },
  {
   "cell_type": "code",
   "execution_count": 434,
   "metadata": {},
   "outputs": [
    {
     "data": {
      "image/png": "[encoded data removed]",
      "text/plain": [
       "<Figure size 432x288 with 1 Axes>"
      ]
     },
     "metadata": {
      "needs_background": "light"
     },
     "output_type": "display_data"
    }
   ],
   "source": [
    "users_group.hist(bins=100, range=(0,500));"
   ]
  },
  {
   "cell_type": "code",
   "execution_count": 435,
   "metadata": {},
   "outputs": [
    {
     "data": {
      "text/html": [
       "<div>\n",
       "<style scoped>\n",
       "    .dataframe tbody tr th:only-of-type {\n",
       "        vertical-align: middle;\n",
       "    }\n",
       "\n",
       "    .dataframe tbody tr th {\n",
       "        vertical-align: top;\n",
       "    }\n",
       "\n",
       "    .dataframe thead th {\n",
       "        text-align: right;\n",
       "    }\n",
       "</style>\n",
       "<table border=\"1\" class=\"dataframe\">\n",
       "  <thead>\n",
       "    <tr style=\"text-align: right;\">\n",
       "      <th></th>\n",
       "      <th>count_event</th>\n",
       "    </tr>\n",
       "  </thead>\n",
       "  <tbody>\n",
       "    <tr>\n",
       "      <th>count</th>\n",
       "      <td>7551.000000</td>\n",
       "    </tr>\n",
       "    <tr>\n",
       "      <th>mean</th>\n",
       "      <td>29.208979</td>\n",
       "    </tr>\n",
       "    <tr>\n",
       "      <th>std</th>\n",
       "      <td>57.050040</td>\n",
       "    </tr>\n",
       "    <tr>\n",
       "      <th>min</th>\n",
       "      <td>1.000000</td>\n",
       "    </tr>\n",
       "    <tr>\n",
       "      <th>25%</th>\n",
       "      <td>9.000000</td>\n",
       "    </tr>\n",
       "    <tr>\n",
       "      <th>50%</th>\n",
       "      <td>18.000000</td>\n",
       "    </tr>\n",
       "    <tr>\n",
       "      <th>75%</th>\n",
       "      <td>34.000000</td>\n",
       "    </tr>\n",
       "    <tr>\n",
       "      <th>max</th>\n",
       "      <td>2242.000000</td>\n",
       "    </tr>\n",
       "  </tbody>\n",
       "</table>\n",
       "</div>"
      ],
      "text/plain": [
       "       count_event\n",
       "count  7551.000000\n",
       "mean     29.208979\n",
       "std      57.050040\n",
       "min       1.000000\n",
       "25%       9.000000\n",
       "50%      18.000000\n",
       "75%      34.000000\n",
       "max    2242.000000"
      ]
     },
     "execution_count": 435,
     "metadata": {},
     "output_type": "execute_result"
    }
   ],
   "source": [
    "users_group.describe()"
   ]
  },
  {
   "cell_type": "code",
   "execution_count": 436,
   "metadata": {},
   "outputs": [
    {
     "data": {
      "text/html": [
       "<div>\n",
       "<style scoped>\n",
       "    .dataframe tbody tr th:only-of-type {\n",
       "        vertical-align: middle;\n",
       "    }\n",
       "\n",
       "    .dataframe tbody tr th {\n",
       "        vertical-align: top;\n",
       "    }\n",
       "\n",
       "    .dataframe thead th {\n",
       "        text-align: right;\n",
       "    }\n",
       "</style>\n",
       "<table border=\"1\" class=\"dataframe\">\n",
       "  <thead>\n",
       "    <tr style=\"text-align: right;\">\n",
       "      <th></th>\n",
       "      <th>count_event</th>\n",
       "    </tr>\n",
       "    <tr>\n",
       "      <th>user_id</th>\n",
       "      <th></th>\n",
       "    </tr>\n",
       "  </thead>\n",
       "  <tbody>\n",
       "    <tr>\n",
       "      <th>6304868067479728361</th>\n",
       "      <td>2242</td>\n",
       "    </tr>\n",
       "    <tr>\n",
       "      <th>197027893265565660</th>\n",
       "      <td>1730</td>\n",
       "    </tr>\n",
       "    <tr>\n",
       "      <th>4623191541214045580</th>\n",
       "      <td>1592</td>\n",
       "    </tr>\n",
       "    <tr>\n",
       "      <th>6932517045703054087</th>\n",
       "      <td>1295</td>\n",
       "    </tr>\n",
       "    <tr>\n",
       "      <th>1754140665440434215</th>\n",
       "      <td>981</td>\n",
       "    </tr>\n",
       "    <tr>\n",
       "      <th>3337471580007169353</th>\n",
       "      <td>878</td>\n",
       "    </tr>\n",
       "    <tr>\n",
       "      <th>7738058666231999878</th>\n",
       "      <td>746</td>\n",
       "    </tr>\n",
       "    <tr>\n",
       "      <th>4713748699910253089</th>\n",
       "      <td>702</td>\n",
       "    </tr>\n",
       "    <tr>\n",
       "      <th>1055544042902443290</th>\n",
       "      <td>668</td>\n",
       "    </tr>\n",
       "    <tr>\n",
       "      <th>3610536745613892312</th>\n",
       "      <td>650</td>\n",
       "    </tr>\n",
       "  </tbody>\n",
       "</table>\n",
       "</div>"
      ],
      "text/plain": [
       "                     count_event\n",
       "user_id                         \n",
       "6304868067479728361         2242\n",
       "197027893265565660          1730\n",
       "4623191541214045580         1592\n",
       "6932517045703054087         1295\n",
       "1754140665440434215          981\n",
       "3337471580007169353          878\n",
       "7738058666231999878          746\n",
       "4713748699910253089          702\n",
       "1055544042902443290          668\n",
       "3610536745613892312          650"
      ]
     },
     "execution_count": 436,
     "metadata": {},
     "output_type": "execute_result"
    }
   ],
   "source": [
    "users_group.sort_values(by = 'count_event', ascending = False).head(10)"
   ]
  },
  {
   "cell_type": "markdown",
   "metadata": {},
   "source": [
    "<b>Данными за какой период вы располагаете? Найдите максимальную и минимальную дату. Постройте гистограмму по дате и времени. Можно ли быть уверенным, что у вас одинаково полные данные за весь период? Технически в логи новых дней по некоторым пользователям могут «доезжать» события из прошлого — это может «перекашивать данные». Определите, с какого момента данные полные и отбросьте более старые. Данными за какой период времени вы располагаете на самом деле?</b>"
   ]
  },
  {
   "cell_type": "code",
   "execution_count": 437,
   "metadata": {},
   "outputs": [
    {
     "name": "stdout",
     "output_type": "stream",
     "text": [
      "Минимальная дата:\n"
     ]
    },
    {
     "data": {
      "text/plain": [
       "Timestamp('2019-07-25 04:43:36')"
      ]
     },
     "execution_count": 437,
     "metadata": {},
     "output_type": "execute_result"
    }
   ],
   "source": [
    "print('Минимальная дата:')\n",
    "data['datetime'].min()"
   ]
  },
  {
   "cell_type": "code",
   "execution_count": 438,
   "metadata": {},
   "outputs": [
    {
     "data": {
      "text/plain": [
       "Timestamp('2019-08-07 21:15:17')"
      ]
     },
     "execution_count": 438,
     "metadata": {},
     "output_type": "execute_result"
    }
   ],
   "source": [
    "data['datetime'].max()"
   ]
  },
  {
   "cell_type": "code",
   "execution_count": 439,
   "metadata": {},
   "outputs": [
    {
     "data": {
      "image/png": "[encoded data removed]",
      "text/plain": [
       "<Figure size 1440x504 with 1 Axes>"
      ]
     },
     "metadata": {
      "needs_background": "light"
     },
     "output_type": "display_data"
    }
   ],
   "source": [
    "plt.figure(figsize=(20,7))\n",
    "data['datetime'].hist( bins = 10)\n",
    "plt.title('Кол-во событий в даты')\n",
    "plt.ylabel(\"Кол-во\")\n",
    "plt.xlabel(\"Дата\")\n",
    "plt.show()"
   ]
  },
  {
   "cell_type": "markdown",
   "metadata": {},
   "source": [
    "На гистограмме можно заметить, что полные данные начинаются с 1 августа и идут до 8 августа. Это значит, что мы будем использовать для рассмотрения именно этот период. Более ранные данные мы обрежем."
   ]
  },
  {
   "cell_type": "code",
   "execution_count": 440,
   "metadata": {},
   "outputs": [
    {
     "name": "stdout",
     "output_type": "stream",
     "text": [
      "Мы располагаем данными на следующий период:\n"
     ]
    },
    {
     "data": {
      "text/plain": [
       "Timedelta('13 days 16:31:41')"
      ]
     },
     "execution_count": 440,
     "metadata": {},
     "output_type": "execute_result"
    }
   ],
   "source": [
    "print('Мы располагаем данными на следующий период:')\n",
    "data['datetime'].max() - data['datetime'].min()"
   ]
  },
  {
   "cell_type": "markdown",
   "metadata": {},
   "source": [
    "Отрежим ненужные старые данные"
   ]
  },
  {
   "cell_type": "code",
   "execution_count": 441,
   "metadata": {},
   "outputs": [],
   "source": [
    "data_new = data.query('date > datetime.date(2019, 7, 31)')"
   ]
  },
  {
   "cell_type": "markdown",
   "metadata": {},
   "source": [
    "Проверим, получилось ли отсечь данные"
   ]
  },
  {
   "cell_type": "code",
   "execution_count": 442,
   "metadata": {},
   "outputs": [
    {
     "data": {
      "text/html": [
       "<div>\n",
       "<style scoped>\n",
       "    .dataframe tbody tr th:only-of-type {\n",
       "        vertical-align: middle;\n",
       "    }\n",
       "\n",
       "    .dataframe tbody tr th {\n",
       "        vertical-align: top;\n",
       "    }\n",
       "\n",
       "    .dataframe thead th {\n",
       "        text-align: right;\n",
       "    }\n",
       "</style>\n",
       "<table border=\"1\" class=\"dataframe\">\n",
       "  <thead>\n",
       "    <tr style=\"text-align: right;\">\n",
       "      <th></th>\n",
       "      <th>event_name</th>\n",
       "      <th>user_id</th>\n",
       "      <th>datetime</th>\n",
       "      <th>exp_id</th>\n",
       "      <th>date</th>\n",
       "    </tr>\n",
       "  </thead>\n",
       "  <tbody>\n",
       "    <tr>\n",
       "      <th>2826</th>\n",
       "      <td>Tutorial</td>\n",
       "      <td>3737462046622621720</td>\n",
       "      <td>2019-08-01 00:07:28</td>\n",
       "      <td>246</td>\n",
       "      <td>2019-08-01</td>\n",
       "    </tr>\n",
       "    <tr>\n",
       "      <th>26929</th>\n",
       "      <td>CartScreenAppear</td>\n",
       "      <td>4933689529142781210</td>\n",
       "      <td>2019-08-01 15:42:14</td>\n",
       "      <td>246</td>\n",
       "      <td>2019-08-01</td>\n",
       "    </tr>\n",
       "    <tr>\n",
       "      <th>26928</th>\n",
       "      <td>MainScreenAppear</td>\n",
       "      <td>5375697691143223385</td>\n",
       "      <td>2019-08-01 15:42:13</td>\n",
       "      <td>247</td>\n",
       "      <td>2019-08-01</td>\n",
       "    </tr>\n",
       "    <tr>\n",
       "      <th>26927</th>\n",
       "      <td>MainScreenAppear</td>\n",
       "      <td>5122452238037348165</td>\n",
       "      <td>2019-08-01 15:42:12</td>\n",
       "      <td>248</td>\n",
       "      <td>2019-08-01</td>\n",
       "    </tr>\n",
       "    <tr>\n",
       "      <th>26926</th>\n",
       "      <td>MainScreenAppear</td>\n",
       "      <td>370831337408248129</td>\n",
       "      <td>2019-08-01 15:42:10</td>\n",
       "      <td>247</td>\n",
       "      <td>2019-08-01</td>\n",
       "    </tr>\n",
       "  </tbody>\n",
       "</table>\n",
       "</div>"
      ],
      "text/plain": [
       "             event_name              user_id            datetime  exp_id  \\\n",
       "2826           Tutorial  3737462046622621720 2019-08-01 00:07:28     246   \n",
       "26929  CartScreenAppear  4933689529142781210 2019-08-01 15:42:14     246   \n",
       "26928  MainScreenAppear  5375697691143223385 2019-08-01 15:42:13     247   \n",
       "26927  MainScreenAppear  5122452238037348165 2019-08-01 15:42:12     248   \n",
       "26926  MainScreenAppear   370831337408248129 2019-08-01 15:42:10     247   \n",
       "\n",
       "             date  \n",
       "2826   2019-08-01  \n",
       "26929  2019-08-01  \n",
       "26928  2019-08-01  \n",
       "26927  2019-08-01  \n",
       "26926  2019-08-01  "
      ]
     },
     "execution_count": 442,
     "metadata": {},
     "output_type": "execute_result"
    }
   ],
   "source": [
    "data_new.sort_values(by='date', ascending = True).head()"
   ]
  },
  {
   "cell_type": "markdown",
   "metadata": {},
   "source": [
    "<b>Много ли событий и пользователей вы потеряли, отбросив старые данные?</b>"
   ]
  },
  {
   "cell_type": "code",
   "execution_count": 443,
   "metadata": {},
   "outputs": [
    {
     "name": "stdout",
     "output_type": "stream",
     "text": [
      "После того, как мы отбросили старые данные, мы потеряли следующее кол-во событий:\n"
     ]
    },
    {
     "data": {
      "text/plain": [
       "2826"
      ]
     },
     "execution_count": 443,
     "metadata": {},
     "output_type": "execute_result"
    }
   ],
   "source": [
    "print('После того, как мы отбросили старые данные, мы потеряли следующее кол-во событий:')\n",
    "data['event_name'].count() - data_new['event_name'].count()"
   ]
  },
  {
   "cell_type": "code",
   "execution_count": 444,
   "metadata": {},
   "outputs": [],
   "source": [
    "lose_event = round((data['event_name'].count() - data_new['event_name'].count())/data['event_name'].count()*100,2)"
   ]
  },
  {
   "cell_type": "code",
   "execution_count": 445,
   "metadata": {},
   "outputs": [
    {
     "name": "stdout",
     "output_type": "stream",
     "text": [
      "После того, как мы отбросили старые данные, мы потеряли 1.16 % событий\n"
     ]
    }
   ],
   "source": [
    "print(f'После того, как мы отбросили старые данные, мы потеряли {lose_event} % событий')"
   ]
  },
  {
   "cell_type": "code",
   "execution_count": 446,
   "metadata": {},
   "outputs": [
    {
     "name": "stdout",
     "output_type": "stream",
     "text": [
      "После того, как мы отбросили старые данные, мы потеряли следующее кол-во уникальных пользователей:\n"
     ]
    },
    {
     "data": {
      "text/plain": [
       "17"
      ]
     },
     "execution_count": 446,
     "metadata": {},
     "output_type": "execute_result"
    }
   ],
   "source": [
    "print('После того, как мы отбросили старые данные, мы потеряли следующее кол-во уникальных пользователей:')\n",
    "len(data['user_id'].unique()) - len(data_new['user_id'].unique())"
   ]
  },
  {
   "cell_type": "code",
   "execution_count": 447,
   "metadata": {},
   "outputs": [],
   "source": [
    "lose_user = round((len(data['user_id'].unique()) - len(data_new['user_id'].unique()))/data['event_name'].count()*100,2)"
   ]
  },
  {
   "cell_type": "code",
   "execution_count": 448,
   "metadata": {},
   "outputs": [
    {
     "name": "stdout",
     "output_type": "stream",
     "text": [
      "После того, как мы отбросили старые данные, мы потеряли 0.01 % уникальных пользователей\n"
     ]
    }
   ],
   "source": [
    "print(f'После того, как мы отбросили старые данные, мы потеряли {lose_user} % уникальных пользователей')"
   ]
  },
  {
   "cell_type": "markdown",
   "metadata": {},
   "source": [
    "<b>Проверьте, что у вас есть пользователи из всех трёх экспериментальных групп.</b>"
   ]
  },
  {
   "cell_type": "code",
   "execution_count": 449,
   "metadata": {},
   "outputs": [
    {
     "data": {
      "text/plain": [
       "exp_id\n",
       "246    2489\n",
       "247    2520\n",
       "248    2542\n",
       "Name: user_id, dtype: int64"
      ]
     },
     "execution_count": 449,
     "metadata": {},
     "output_type": "execute_result"
    }
   ],
   "source": [
    "data.groupby('exp_id')['user_id'].nunique()"
   ]
  },
  {
   "cell_type": "code",
   "execution_count": 450,
   "metadata": {},
   "outputs": [
    {
     "data": {
      "text/plain": [
       "exp_id\n",
       "246    2484\n",
       "247    2513\n",
       "248    2537\n",
       "Name: user_id, dtype: int64"
      ]
     },
     "execution_count": 450,
     "metadata": {},
     "output_type": "execute_result"
    }
   ],
   "source": [
    "data_new.groupby('exp_id')['user_id'].nunique()"
   ]
  },
  {
   "cell_type": "markdown",
   "metadata": {},
   "source": [
    "Пользователи остались, мы потеряли лишь 5 пользователей в 246 группе, 7 пользователей в 247 и 5 пользователей в 248 группе"
   ]
  },
  {
   "cell_type": "markdown",
   "metadata": {},
   "source": [
    "<h2>Шаг 4. Изучите воронку событий</h2>"
   ]
  },
  {
   "cell_type": "markdown",
   "metadata": {},
   "source": [
    "<b>Посмотрите, какие события есть в логах, как часто они встречаются. Отсортируйте события по частоте.</b>"
   ]
  },
  {
   "cell_type": "code",
   "execution_count": 451,
   "metadata": {},
   "outputs": [],
   "source": [
    "event_group = data_new.groupby('event_name').agg({'user_id' : 'nunique'}).sort_values(by ='user_id', ascending= False)"
   ]
  },
  {
   "cell_type": "code",
   "execution_count": 452,
   "metadata": {},
   "outputs": [
    {
     "data": {
      "text/html": [
       "<div>\n",
       "<style scoped>\n",
       "    .dataframe tbody tr th:only-of-type {\n",
       "        vertical-align: middle;\n",
       "    }\n",
       "\n",
       "    .dataframe tbody tr th {\n",
       "        vertical-align: top;\n",
       "    }\n",
       "\n",
       "    .dataframe thead th {\n",
       "        text-align: right;\n",
       "    }\n",
       "</style>\n",
       "<table border=\"1\" class=\"dataframe\">\n",
       "  <thead>\n",
       "    <tr style=\"text-align: right;\">\n",
       "      <th></th>\n",
       "      <th>user_id</th>\n",
       "    </tr>\n",
       "    <tr>\n",
       "      <th>event_name</th>\n",
       "      <th></th>\n",
       "    </tr>\n",
       "  </thead>\n",
       "  <tbody>\n",
       "    <tr>\n",
       "      <th>MainScreenAppear</th>\n",
       "      <td>7419</td>\n",
       "    </tr>\n",
       "    <tr>\n",
       "      <th>OffersScreenAppear</th>\n",
       "      <td>4593</td>\n",
       "    </tr>\n",
       "    <tr>\n",
       "      <th>CartScreenAppear</th>\n",
       "      <td>3734</td>\n",
       "    </tr>\n",
       "    <tr>\n",
       "      <th>PaymentScreenSuccessful</th>\n",
       "      <td>3539</td>\n",
       "    </tr>\n",
       "    <tr>\n",
       "      <th>Tutorial</th>\n",
       "      <td>840</td>\n",
       "    </tr>\n",
       "  </tbody>\n",
       "</table>\n",
       "</div>"
      ],
      "text/plain": [
       "                         user_id\n",
       "event_name                      \n",
       "MainScreenAppear            7419\n",
       "OffersScreenAppear          4593\n",
       "CartScreenAppear            3734\n",
       "PaymentScreenSuccessful     3539\n",
       "Tutorial                     840"
      ]
     },
     "execution_count": 452,
     "metadata": {},
     "output_type": "execute_result"
    }
   ],
   "source": [
    "event_group"
   ]
  },
  {
   "cell_type": "markdown",
   "metadata": {},
   "source": [
    "Наиболее частовстреаемое событие 'MainScreenAppear', а то есть переход на главный экран. Самое редкое событие это \"Tutorial\" - обучение."
   ]
  },
  {
   "cell_type": "markdown",
   "metadata": {},
   "source": [
    "<b>Посчитайте, сколько пользователей совершали каждое из этих событий. Отсортируйте события по числу пользователей. Посчитайте долю пользователей, которые хоть раз совершали событие.</b>"
   ]
  },
  {
   "cell_type": "code",
   "execution_count": 453,
   "metadata": {},
   "outputs": [],
   "source": [
    "event_group['ratio'] = round(event_group['user_id']/data_new['user_id'].nunique(), 2)*100"
   ]
  },
  {
   "cell_type": "code",
   "execution_count": 454,
   "metadata": {},
   "outputs": [
    {
     "data": {
      "text/html": [
       "<div>\n",
       "<style scoped>\n",
       "    .dataframe tbody tr th:only-of-type {\n",
       "        vertical-align: middle;\n",
       "    }\n",
       "\n",
       "    .dataframe tbody tr th {\n",
       "        vertical-align: top;\n",
       "    }\n",
       "\n",
       "    .dataframe thead th {\n",
       "        text-align: right;\n",
       "    }\n",
       "</style>\n",
       "<table border=\"1\" class=\"dataframe\">\n",
       "  <thead>\n",
       "    <tr style=\"text-align: right;\">\n",
       "      <th></th>\n",
       "      <th>user_id</th>\n",
       "      <th>ratio</th>\n",
       "    </tr>\n",
       "    <tr>\n",
       "      <th>event_name</th>\n",
       "      <th></th>\n",
       "      <th></th>\n",
       "    </tr>\n",
       "  </thead>\n",
       "  <tbody>\n",
       "    <tr>\n",
       "      <th>MainScreenAppear</th>\n",
       "      <td>7419</td>\n",
       "      <td>98.0</td>\n",
       "    </tr>\n",
       "    <tr>\n",
       "      <th>OffersScreenAppear</th>\n",
       "      <td>4593</td>\n",
       "      <td>61.0</td>\n",
       "    </tr>\n",
       "    <tr>\n",
       "      <th>CartScreenAppear</th>\n",
       "      <td>3734</td>\n",
       "      <td>50.0</td>\n",
       "    </tr>\n",
       "    <tr>\n",
       "      <th>PaymentScreenSuccessful</th>\n",
       "      <td>3539</td>\n",
       "      <td>47.0</td>\n",
       "    </tr>\n",
       "    <tr>\n",
       "      <th>Tutorial</th>\n",
       "      <td>840</td>\n",
       "      <td>11.0</td>\n",
       "    </tr>\n",
       "  </tbody>\n",
       "</table>\n",
       "</div>"
      ],
      "text/plain": [
       "                         user_id  ratio\n",
       "event_name                             \n",
       "MainScreenAppear            7419   98.0\n",
       "OffersScreenAppear          4593   61.0\n",
       "CartScreenAppear            3734   50.0\n",
       "PaymentScreenSuccessful     3539   47.0\n",
       "Tutorial                     840   11.0"
      ]
     },
     "execution_count": 454,
     "metadata": {},
     "output_type": "execute_result"
    }
   ],
   "source": [
    "event_group"
   ]
  },
  {
   "cell_type": "markdown",
   "metadata": {},
   "source": [
    "98 % пользователей переходили на главную страницу и лишь только 11 % пользователей, от всех кто когда либо совершал действие, посмотрели обучение"
   ]
  },
  {
   "cell_type": "markdown",
   "metadata": {},
   "source": [
    "<b>Предположите, в каком порядке происходят события. Все ли они выстраиваются в последовательную цепочку? Их не нужно учитывать при расчёте воронки.</b>"
   ]
  },
  {
   "cell_type": "markdown",
   "metadata": {},
   "source": [
    "События могут происходить в следующем порядке:\n",
    "<ol>\n",
    "    <li>MainScreenAppear - Главная страница приложения</li>\n",
    "    <li>Tutorial - Обучение </li>\n",
    "    <li>OffersScreenAppear - Страница с товарами</li>\n",
    "    <li>CartScreenAppear - Страница корзины</li>\n",
    "    <li>PaymentScreenSuccessful - Страница оплаты</li>\n",
    "</ol>"
   ]
  },
  {
   "cell_type": "markdown",
   "metadata": {},
   "source": [
    "Страница с обучением не выстраивается в последовательную цепчку покупки товара, поэтому мы не будем ее учитывать в общей воронке."
   ]
  },
  {
   "cell_type": "markdown",
   "metadata": {},
   "source": [
    "<b>По воронке событий посчитайте, какая доля пользователей проходит на следующий шаг воронки (от числа пользователей на предыдущем). То есть для последовательности событий A → B → C посчитайте отношение числа пользователей с событием B к количеству пользователей с событием A, а также отношение числа пользователей с событием C к количеству пользователей с событием B.</b>"
   ]
  },
  {
   "cell_type": "markdown",
   "metadata": {},
   "source": [
    "Создадим столбец с \"cr_screen\" в котором поделим элементы по условию:"
   ]
  },
  {
   "cell_type": "code",
   "execution_count": 455,
   "metadata": {},
   "outputs": [],
   "source": [
    "event_group['cr_screen'] = (round(event_group['user_id'].shift(-1) / event_group['user_id'],2)*100).shift(1)"
   ]
  },
  {
   "cell_type": "markdown",
   "metadata": {},
   "source": [
    "Удалим строчку 'Tutorial' и посмотрим на % изменения в воронке"
   ]
  },
  {
   "cell_type": "code",
   "execution_count": 456,
   "metadata": {},
   "outputs": [],
   "source": [
    "event_group = event_group.drop(event_group.index[[4]])"
   ]
  },
  {
   "cell_type": "code",
   "execution_count": 457,
   "metadata": {},
   "outputs": [
    {
     "data": {
      "text/html": [
       "<div>\n",
       "<style scoped>\n",
       "    .dataframe tbody tr th:only-of-type {\n",
       "        vertical-align: middle;\n",
       "    }\n",
       "\n",
       "    .dataframe tbody tr th {\n",
       "        vertical-align: top;\n",
       "    }\n",
       "\n",
       "    .dataframe thead th {\n",
       "        text-align: right;\n",
       "    }\n",
       "</style>\n",
       "<table border=\"1\" class=\"dataframe\">\n",
       "  <thead>\n",
       "    <tr style=\"text-align: right;\">\n",
       "      <th></th>\n",
       "      <th>user_id</th>\n",
       "      <th>ratio</th>\n",
       "      <th>cr_screen</th>\n",
       "    </tr>\n",
       "    <tr>\n",
       "      <th>event_name</th>\n",
       "      <th></th>\n",
       "      <th></th>\n",
       "      <th></th>\n",
       "    </tr>\n",
       "  </thead>\n",
       "  <tbody>\n",
       "    <tr>\n",
       "      <th>MainScreenAppear</th>\n",
       "      <td>7419</td>\n",
       "      <td>98.0</td>\n",
       "      <td>NaN</td>\n",
       "    </tr>\n",
       "    <tr>\n",
       "      <th>OffersScreenAppear</th>\n",
       "      <td>4593</td>\n",
       "      <td>61.0</td>\n",
       "      <td>62.0</td>\n",
       "    </tr>\n",
       "    <tr>\n",
       "      <th>CartScreenAppear</th>\n",
       "      <td>3734</td>\n",
       "      <td>50.0</td>\n",
       "      <td>81.0</td>\n",
       "    </tr>\n",
       "    <tr>\n",
       "      <th>PaymentScreenSuccessful</th>\n",
       "      <td>3539</td>\n",
       "      <td>47.0</td>\n",
       "      <td>95.0</td>\n",
       "    </tr>\n",
       "  </tbody>\n",
       "</table>\n",
       "</div>"
      ],
      "text/plain": [
       "                         user_id  ratio  cr_screen\n",
       "event_name                                        \n",
       "MainScreenAppear            7419   98.0        NaN\n",
       "OffersScreenAppear          4593   61.0       62.0\n",
       "CartScreenAppear            3734   50.0       81.0\n",
       "PaymentScreenSuccessful     3539   47.0       95.0"
      ]
     },
     "execution_count": 457,
     "metadata": {},
     "output_type": "execute_result"
    }
   ],
   "source": [
    "event_group"
   ]
  },
  {
   "cell_type": "markdown",
   "metadata": {},
   "source": [
    "В итоге мы можем сделать вывод, о том, что конверсия переходов с главной страницы на страницу с товарами составляет 62%,\n",
    "\n",
    "конверсия переходов со страницы с товарами на страницу корзины составляет 81%.\n",
    "\n",
    "Конверсия переходов с корзины в оплату состаяет 95%"
   ]
  },
  {
   "cell_type": "code",
   "execution_count": 458,
   "metadata": {},
   "outputs": [],
   "source": [
    "from plotly import graph_objects as go"
   ]
  },
  {
   "cell_type": "code",
   "execution_count": 459,
   "metadata": {},
   "outputs": [
    {
     "data": {
      "application/vnd.plotly.v1+json": {
       "config": {
        "plotlyServerURL": "https://plot.ly"
       },
       "data": [
        {
         "name": "Пользователи",
         "textinfo": "value+percent initial",
         "type": "funnel",
         "x": [
          7419,
          4593,
          3734,
          3539
         ],
         "y": [
          "MainScreenAppear",
          "OffersScreenAppear",
          "CartScreenAppear",
          "PaymentScreenSuccessful"
         ]
        },
        {
         "name": "Конверсия страницы",
         "orientation": "h",
         "textinfo": "value+percent previous",
         "textposition": "inside",
         "type": "funnel",
         "x": [
          null,
          62,
          81,
          95
         ],
         "y": [
          "MainScreenAppear",
          "OffersScreenAppear",
          "CartScreenAppear",
          "PaymentScreenSuccessful"
         ]
        }
       ],
       "layout": {
        "template": {
         "data": {
          "bar": [
           {
            "error_x": {
             "color": "#2a3f5f"
            },
            "error_y": {
             "color": "#2a3f5f"
            },
            "marker": {
             "line": {
              "color": "#E5ECF6",
              "width": 0.5
             },
             "pattern": {
              "fillmode": "overlay",
              "size": 10,
              "solidity": 0.2
             }
            },
            "type": "bar"
           }
          ],
          "barpolar": [
           {
            "marker": {
             "line": {
              "color": "#E5ECF6",
              "width": 0.5
             },
             "pattern": {
              "fillmode": "overlay",
              "size": 10,
              "solidity": 0.2
             }
            },
            "type": "barpolar"
           }
          ],
          "carpet": [
           {
            "aaxis": {
             "endlinecolor": "#2a3f5f",
             "gridcolor": "white",
             "linecolor": "white",
             "minorgridcolor": "white",
             "startlinecolor": "#2a3f5f"
            },
            "baxis": {
             "endlinecolor": "#2a3f5f",
             "gridcolor": "white",
             "linecolor": "white",
             "minorgridcolor": "white",
             "startlinecolor": "#2a3f5f"
            },
            "type": "carpet"
           }
          ],
          "choropleth": [
           {
            "colorbar": {
             "outlinewidth": 0,
             "ticks": ""
            },
            "type": "choropleth"
           }
          ],
          "contour": [
           {
            "colorbar": {
             "outlinewidth": 0,
             "ticks": ""
            },
            "colorscale": [
             [
              0,
              "#0d0887"
             ],
             [
              0.1111111111111111,
              "#46039f"
             ],
             [
              0.2222222222222222,
              "#7201a8"
             ],
             [
              0.3333333333333333,
              "#9c179e"
             ],
             [
              0.4444444444444444,
              "#bd3786"
             ],
             [
              0.5555555555555556,
              "#d8576b"
             ],
             [
              0.6666666666666666,
              "#ed7953"
             ],
             [
              0.7777777777777778,
              "#fb9f3a"
             ],
             [
              0.8888888888888888,
              "#fdca26"
             ],
             [
              1,
              "#f0f921"
             ]
            ],
            "type": "contour"
           }
          ],
          "contourcarpet": [
           {
            "colorbar": {
             "outlinewidth": 0,
             "ticks": ""
            },
            "type": "contourcarpet"
           }
          ],
          "heatmap": [
           {
            "colorbar": {
             "outlinewidth": 0,
             "ticks": ""
            },
            "colorscale": [
             [
              0,
              "#0d0887"
             ],
             [
              0.1111111111111111,
              "#46039f"
             ],
             [
              0.2222222222222222,
              "#7201a8"
             ],
             [
              0.3333333333333333,
              "#9c179e"
             ],
             [
              0.4444444444444444,
              "#bd3786"
             ],
             [
              0.5555555555555556,
              "#d8576b"
             ],
             [
              0.6666666666666666,
              "#ed7953"
             ],
             [
              0.7777777777777778,
              "#fb9f3a"
             ],
             [
              0.8888888888888888,
              "#fdca26"
             ],
             [
              1,
              "#f0f921"
             ]
            ],
            "type": "heatmap"
           }
          ],
          "heatmapgl": [
           {
            "colorbar": {
             "outlinewidth": 0,
             "ticks": ""
            },
            "colorscale": [
             [
              0,
              "#0d0887"
             ],
             [
              0.1111111111111111,
              "#46039f"
             ],
             [
              0.2222222222222222,
              "#7201a8"
             ],
             [
              0.3333333333333333,
              "#9c179e"
             ],
             [
              0.4444444444444444,
              "#bd3786"
             ],
             [
              0.5555555555555556,
              "#d8576b"
             ],
             [
              0.6666666666666666,
              "#ed7953"
             ],
             [
              0.7777777777777778,
              "#fb9f3a"
             ],
             [
              0.8888888888888888,
              "#fdca26"
             ],
             [
              1,
              "#f0f921"
             ]
            ],
            "type": "heatmapgl"
           }
          ],
          "histogram": [
           {
            "marker": {
             "pattern": {
              "fillmode": "overlay",
              "size": 10,
              "solidity": 0.2
             }
            },
            "type": "histogram"
           }
          ],
          "histogram2d": [
           {
            "colorbar": {
             "outlinewidth": 0,
             "ticks": ""
            },
            "colorscale": [
             [
              0,
              "#0d0887"
             ],
             [
              0.1111111111111111,
              "#46039f"
             ],
             [
              0.2222222222222222,
              "#7201a8"
             ],
             [
              0.3333333333333333,
              "#9c179e"
             ],
             [
              0.4444444444444444,
              "#bd3786"
             ],
             [
              0.5555555555555556,
              "#d8576b"
             ],
             [
              0.6666666666666666,
              "#ed7953"
             ],
             [
              0.7777777777777778,
              "#fb9f3a"
             ],
             [
              0.8888888888888888,
              "#fdca26"
             ],
             [
              1,
              "#f0f921"
             ]
            ],
            "type": "histogram2d"
           }
          ],
          "histogram2dcontour": [
           {
            "colorbar": {
             "outlinewidth": 0,
             "ticks": ""
            },
            "colorscale": [
             [
              0,
              "#0d0887"
             ],
             [
              0.1111111111111111,
              "#46039f"
             ],
             [
              0.2222222222222222,
              "#7201a8"
             ],
             [
              0.3333333333333333,
              "#9c179e"
             ],
             [
              0.4444444444444444,
              "#bd3786"
             ],
             [
              0.5555555555555556,
              "#d8576b"
             ],
             [
              0.6666666666666666,
              "#ed7953"
             ],
             [
              0.7777777777777778,
              "#fb9f3a"
             ],
             [
              0.8888888888888888,
              "#fdca26"
             ],
             [
              1,
              "#f0f921"
             ]
            ],
            "type": "histogram2dcontour"
           }
          ],
          "mesh3d": [
           {
            "colorbar": {
             "outlinewidth": 0,
             "ticks": ""
            },
            "type": "mesh3d"
           }
          ],
          "parcoords": [
           {
            "line": {
             "colorbar": {
              "outlinewidth": 0,
              "ticks": ""
             }
            },
            "type": "parcoords"
           }
          ],
          "pie": [
           {
            "automargin": true,
            "type": "pie"
           }
          ],
          "scatter": [
           {
            "marker": {
             "colorbar": {
              "outlinewidth": 0,
              "ticks": ""
             }
            },
            "type": "scatter"
           }
          ],
          "scatter3d": [
           {
            "line": {
             "colorbar": {
              "outlinewidth": 0,
              "ticks": ""
             }
            },
            "marker": {
             "colorbar": {
              "outlinewidth": 0,
              "ticks": ""
             }
            },
            "type": "scatter3d"
           }
          ],
          "scattercarpet": [
           {
            "marker": {
             "colorbar": {
              "outlinewidth": 0,
              "ticks": ""
             }
            },
            "type": "scattercarpet"
           }
          ],
          "scattergeo": [
           {
            "marker": {
             "colorbar": {
              "outlinewidth": 0,
              "ticks": ""
             }
            },
            "type": "scattergeo"
           }
          ],
          "scattergl": [
           {
            "marker": {
             "colorbar": {
              "outlinewidth": 0,
              "ticks": ""
             }
            },
            "type": "scattergl"
           }
          ],
          "scattermapbox": [
           {
            "marker": {
             "colorbar": {
              "outlinewidth": 0,
              "ticks": ""
             }
            },
            "type": "scattermapbox"
           }
          ],
          "scatterpolar": [
           {
            "marker": {
             "colorbar": {
              "outlinewidth": 0,
              "ticks": ""
             }
            },
            "type": "scatterpolar"
           }
          ],
          "scatterpolargl": [
           {
            "marker": {
             "colorbar": {
              "outlinewidth": 0,
              "ticks": ""
             }
            },
            "type": "scatterpolargl"
           }
          ],
          "scatterternary": [
           {
            "marker": {
             "colorbar": {
              "outlinewidth": 0,
              "ticks": ""
             }
            },
            "type": "scatterternary"
           }
          ],
          "surface": [
           {
            "colorbar": {
             "outlinewidth": 0,
             "ticks": ""
            },
            "colorscale": [
             [
              0,
              "#0d0887"
             ],
             [
              0.1111111111111111,
              "#46039f"
             ],
             [
              0.2222222222222222,
              "#7201a8"
             ],
             [
              0.3333333333333333,
              "#9c179e"
             ],
             [
              0.4444444444444444,
              "#bd3786"
             ],
             [
              0.5555555555555556,
              "#d8576b"
             ],
             [
              0.6666666666666666,
              "#ed7953"
             ],
             [
              0.7777777777777778,
              "#fb9f3a"
             ],
             [
              0.8888888888888888,
              "#fdca26"
             ],
             [
              1,
              "#f0f921"
             ]
            ],
            "type": "surface"
           }
          ],
          "table": [
           {
            "cells": {
             "fill": {
              "color": "#EBF0F8"
             },
             "line": {
              "color": "white"
             }
            },
            "header": {
             "fill": {
              "color": "#C8D4E3"
             },
             "line": {
              "color": "white"
             }
            },
            "type": "table"
           }
          ]
         },
         "layout": {
          "annotationdefaults": {
           "arrowcolor": "#2a3f5f",
           "arrowhead": 0,
           "arrowwidth": 1
          },
          "autotypenumbers": "strict",
          "coloraxis": {
           "colorbar": {
            "outlinewidth": 0,
            "ticks": ""
           }
          },
          "colorscale": {
           "diverging": [
            [
             0,
             "#8e0152"
            ],
            [
             0.1,
             "#c51b7d"
            ],
            [
             0.2,
             "#de77ae"
            ],
            [
             0.3,
             "#f1b6da"
            ],
            [
             0.4,
             "#fde0ef"
            ],
            [
             0.5,
             "#f7f7f7"
            ],
            [
             0.6,
             "#e6f5d0"
            ],
            [
             0.7,
             "#b8e186"
            ],
            [
             0.8,
             "#7fbc41"
            ],
            [
             0.9,
             "#4d9221"
            ],
            [
             1,
             "#276419"
            ]
           ],
           "sequential": [
            [
             0,
             "#0d0887"
            ],
            [
             0.1111111111111111,
             "#46039f"
            ],
            [
             0.2222222222222222,
             "#7201a8"
            ],
            [
             0.3333333333333333,
             "#9c179e"
            ],
            [
             0.4444444444444444,
             "#bd3786"
            ],
            [
             0.5555555555555556,
             "#d8576b"
            ],
            [
             0.6666666666666666,
             "#ed7953"
            ],
            [
             0.7777777777777778,
             "#fb9f3a"
            ],
            [
             0.8888888888888888,
             "#fdca26"
            ],
            [
             1,
             "#f0f921"
            ]
           ],
           "sequentialminus": [
            [
             0,
             "#0d0887"
            ],
            [
             0.1111111111111111,
             "#46039f"
            ],
            [
             0.2222222222222222,
             "#7201a8"
            ],
            [
             0.3333333333333333,
             "#9c179e"
            ],
            [
             0.4444444444444444,
             "#bd3786"
            ],
            [
             0.5555555555555556,
             "#d8576b"
            ],
            [
             0.6666666666666666,
             "#ed7953"
            ],
            [
             0.7777777777777778,
             "#fb9f3a"
            ],
            [
             0.8888888888888888,
             "#fdca26"
            ],
            [
             1,
             "#f0f921"
            ]
           ]
          },
          "colorway": [
           "#636efa",
           "#EF553B",
           "#00cc96",
           "#ab63fa",
           "#FFA15A",
           "#19d3f3",
           "#FF6692",
           "#B6E880",
           "#FF97FF",
           "#FECB52"
          ],
          "font": {
           "color": "#2a3f5f"
          },
          "geo": {
           "bgcolor": "white",
           "lakecolor": "white",
           "landcolor": "#E5ECF6",
           "showlakes": true,
           "showland": true,
           "subunitcolor": "white"
          },
          "hoverlabel": {
           "align": "left"
          },
          "hovermode": "closest",
          "mapbox": {
           "style": "light"
          },
          "paper_bgcolor": "white",
          "plot_bgcolor": "#E5ECF6",
          "polar": {
           "angularaxis": {
            "gridcolor": "white",
            "linecolor": "white",
            "ticks": ""
           },
           "bgcolor": "#E5ECF6",
           "radialaxis": {
            "gridcolor": "white",
            "linecolor": "white",
            "ticks": ""
           }
          },
          "scene": {
           "xaxis": {
            "backgroundcolor": "#E5ECF6",
            "gridcolor": "white",
            "gridwidth": 2,
            "linecolor": "white",
            "showbackground": true,
            "ticks": "",
            "zerolinecolor": "white"
           },
           "yaxis": {
            "backgroundcolor": "#E5ECF6",
            "gridcolor": "white",
            "gridwidth": 2,
            "linecolor": "white",
            "showbackground": true,
            "ticks": "",
            "zerolinecolor": "white"
           },
           "zaxis": {
            "backgroundcolor": "#E5ECF6",
            "gridcolor": "white",
            "gridwidth": 2,
            "linecolor": "white",
            "showbackground": true,
            "ticks": "",
            "zerolinecolor": "white"
           }
          },
          "shapedefaults": {
           "line": {
            "color": "#2a3f5f"
           }
          },
          "ternary": {
           "aaxis": {
            "gridcolor": "white",
            "linecolor": "white",
            "ticks": ""
           },
           "baxis": {
            "gridcolor": "white",
            "linecolor": "white",
            "ticks": ""
           },
           "bgcolor": "#E5ECF6",
           "caxis": {
            "gridcolor": "white",
            "linecolor": "white",
            "ticks": ""
           }
          },
          "title": {
           "x": 0.05
          },
          "xaxis": {
           "automargin": true,
           "gridcolor": "white",
           "linecolor": "white",
           "ticks": "",
           "title": {
            "standoff": 15
           },
           "zerolinecolor": "white",
           "zerolinewidth": 2
          },
          "yaxis": {
           "automargin": true,
           "gridcolor": "white",
           "linecolor": "white",
           "ticks": "",
           "title": {
            "standoff": 15
           },
           "zerolinecolor": "white",
           "zerolinewidth": 2
          }
         }
        }
       }
      },
      "text/html": [
       "<div>                            <div id=\"fd05ab6f-25eb-4d6d-ba8e-afa47b1e3a7e\" class=\"plotly-graph-div\" style=\"height:525px; width:100%;\"></div>            <script type=\"text/javascript\">                require([\"plotly\"], function(Plotly) {                    window.PLOTLYENV=window.PLOTLYENV || {};                                    if (document.getElementById(\"fd05ab6f-25eb-4d6d-ba8e-afa47b1e3a7e\")) {                    Plotly.newPlot(                        \"fd05ab6f-25eb-4d6d-ba8e-afa47b1e3a7e\",                        [{\"name\":\"\\u041f\\u043e\\u043b\\u044c\\u0437\\u043e\\u0432\\u0430\\u0442\\u0435\\u043b\\u0438\",\"textinfo\":\"value+percent initial\",\"x\":[7419,4593,3734,3539],\"y\":[\"MainScreenAppear\",\"OffersScreenAppear\",\"CartScreenAppear\",\"PaymentScreenSuccessful\"],\"type\":\"funnel\"},{\"name\":\"\\u041a\\u043e\\u043d\\u0432\\u0435\\u0440\\u0441\\u0438\\u044f \\u0441\\u0442\\u0440\\u0430\\u043d\\u0438\\u0446\\u044b\",\"orientation\":\"h\",\"textinfo\":\"value+percent previous\",\"textposition\":\"inside\",\"x\":[null,62.0,81.0,95.0],\"y\":[\"MainScreenAppear\",\"OffersScreenAppear\",\"CartScreenAppear\",\"PaymentScreenSuccessful\"],\"type\":\"funnel\"}],                        {\"template\":{\"data\":{\"bar\":[{\"error_x\":{\"color\":\"#2a3f5f\"},\"error_y\":{\"color\":\"#2a3f5f\"},\"marker\":{\"line\":{\"color\":\"#E5ECF6\",\"width\":0.5},\"pattern\":{\"fillmode\":\"overlay\",\"size\":10,\"solidity\":0.2}},\"type\":\"bar\"}],\"barpolar\":[{\"marker\":{\"line\":{\"color\":\"#E5ECF6\",\"width\":0.5},\"pattern\":{\"fillmode\":\"overlay\",\"size\":10,\"solidity\":0.2}},\"type\":\"barpolar\"}],\"carpet\":[{\"aaxis\":{\"endlinecolor\":\"#2a3f5f\",\"gridcolor\":\"white\",\"linecolor\":\"white\",\"minorgridcolor\":\"white\",\"startlinecolor\":\"#2a3f5f\"},\"baxis\":{\"endlinecolor\":\"#2a3f5f\",\"gridcolor\":\"white\",\"linecolor\":\"white\",\"minorgridcolor\":\"white\",\"startlinecolor\":\"#2a3f5f\"},\"type\":\"carpet\"}],\"choropleth\":[{\"colorbar\":{\"outlinewidth\":0,\"ticks\":\"\"},\"type\":\"choropleth\"}],\"contour\":[{\"colorbar\":{\"outlinewidth\":0,\"ticks\":\"\"},\"colorscale\":[[0.0,\"#0d0887\"],[0.1111111111111111,\"#46039f\"],[0.2222222222222222,\"#7201a8\"],[0.3333333333333333,\"#9c179e\"],[0.4444444444444444,\"#bd3786\"],[0.5555555555555556,\"#d8576b\"],[0.6666666666666666,\"#ed7953\"],[0.7777777777777778,\"#fb9f3a\"],[0.8888888888888888,\"#fdca26\"],[1.0,\"#f0f921\"]],\"type\":\"contour\"}],\"contourcarpet\":[{\"colorbar\":{\"outlinewidth\":0,\"ticks\":\"\"},\"type\":\"contourcarpet\"}],\"heatmap\":[{\"colorbar\":{\"outlinewidth\":0,\"ticks\":\"\"},\"colorscale\":[[0.0,\"#0d0887\"],[0.1111111111111111,\"#46039f\"],[0.2222222222222222,\"#7201a8\"],[0.3333333333333333,\"#9c179e\"],[0.4444444444444444,\"#bd3786\"],[0.5555555555555556,\"#d8576b\"],[0.6666666666666666,\"#ed7953\"],[0.7777777777777778,\"#fb9f3a\"],[0.8888888888888888,\"#fdca26\"],[1.0,\"#f0f921\"]],\"type\":\"heatmap\"}],\"heatmapgl\":[{\"colorbar\":{\"outlinewidth\":0,\"ticks\":\"\"},\"colorscale\":[[0.0,\"#0d0887\"],[0.1111111111111111,\"#46039f\"],[0.2222222222222222,\"#7201a8\"],[0.3333333333333333,\"#9c179e\"],[0.4444444444444444,\"#bd3786\"],[0.5555555555555556,\"#d8576b\"],[0.6666666666666666,\"#ed7953\"],[0.7777777777777778,\"#fb9f3a\"],[0.8888888888888888,\"#fdca26\"],[1.0,\"#f0f921\"]],\"type\":\"heatmapgl\"}],\"histogram\":[{\"marker\":{\"pattern\":{\"fillmode\":\"overlay\",\"size\":10,\"solidity\":0.2}},\"type\":\"histogram\"}],\"histogram2d\":[{\"colorbar\":{\"outlinewidth\":0,\"ticks\":\"\"},\"colorscale\":[[0.0,\"#0d0887\"],[0.1111111111111111,\"#46039f\"],[0.2222222222222222,\"#7201a8\"],[0.3333333333333333,\"#9c179e\"],[0.4444444444444444,\"#bd3786\"],[0.5555555555555556,\"#d8576b\"],[0.6666666666666666,\"#ed7953\"],[0.7777777777777778,\"#fb9f3a\"],[0.8888888888888888,\"#fdca26\"],[1.0,\"#f0f921\"]],\"type\":\"histogram2d\"}],\"histogram2dcontour\":[{\"colorbar\":{\"outlinewidth\":0,\"ticks\":\"\"},\"colorscale\":[[0.0,\"#0d0887\"],[0.1111111111111111,\"#46039f\"],[0.2222222222222222,\"#7201a8\"],[0.3333333333333333,\"#9c179e\"],[0.4444444444444444,\"#bd3786\"],[0.5555555555555556,\"#d8576b\"],[0.6666666666666666,\"#ed7953\"],[0.7777777777777778,\"#fb9f3a\"],[0.8888888888888888,\"#fdca26\"],[1.0,\"#f0f921\"]],\"type\":\"histogram2dcontour\"}],\"mesh3d\":[{\"colorbar\":{\"outlinewidth\":0,\"ticks\":\"\"},\"type\":\"mesh3d\"}],\"parcoords\":[{\"line\":{\"colorbar\":{\"outlinewidth\":0,\"ticks\":\"\"}},\"type\":\"parcoords\"}],\"pie\":[{\"automargin\":true,\"type\":\"pie\"}],\"scatter\":[{\"marker\":{\"colorbar\":{\"outlinewidth\":0,\"ticks\":\"\"}},\"type\":\"scatter\"}],\"scatter3d\":[{\"line\":{\"colorbar\":{\"outlinewidth\":0,\"ticks\":\"\"}},\"marker\":{\"colorbar\":{\"outlinewidth\":0,\"ticks\":\"\"}},\"type\":\"scatter3d\"}],\"scattercarpet\":[{\"marker\":{\"colorbar\":{\"outlinewidth\":0,\"ticks\":\"\"}},\"type\":\"scattercarpet\"}],\"scattergeo\":[{\"marker\":{\"colorbar\":{\"outlinewidth\":0,\"ticks\":\"\"}},\"type\":\"scattergeo\"}],\"scattergl\":[{\"marker\":{\"colorbar\":{\"outlinewidth\":0,\"ticks\":\"\"}},\"type\":\"scattergl\"}],\"scattermapbox\":[{\"marker\":{\"colorbar\":{\"outlinewidth\":0,\"ticks\":\"\"}},\"type\":\"scattermapbox\"}],\"scatterpolar\":[{\"marker\":{\"colorbar\":{\"outlinewidth\":0,\"ticks\":\"\"}},\"type\":\"scatterpolar\"}],\"scatterpolargl\":[{\"marker\":{\"colorbar\":{\"outlinewidth\":0,\"ticks\":\"\"}},\"type\":\"scatterpolargl\"}],\"scatterternary\":[{\"marker\":{\"colorbar\":{\"outlinewidth\":0,\"ticks\":\"\"}},\"type\":\"scatterternary\"}],\"surface\":[{\"colorbar\":{\"outlinewidth\":0,\"ticks\":\"\"},\"colorscale\":[[0.0,\"#0d0887\"],[0.1111111111111111,\"#46039f\"],[0.2222222222222222,\"#7201a8\"],[0.3333333333333333,\"#9c179e\"],[0.4444444444444444,\"#bd3786\"],[0.5555555555555556,\"#d8576b\"],[0.6666666666666666,\"#ed7953\"],[0.7777777777777778,\"#fb9f3a\"],[0.8888888888888888,\"#fdca26\"],[1.0,\"#f0f921\"]],\"type\":\"surface\"}],\"table\":[{\"cells\":{\"fill\":{\"color\":\"#EBF0F8\"},\"line\":{\"color\":\"white\"}},\"header\":{\"fill\":{\"color\":\"#C8D4E3\"},\"line\":{\"color\":\"white\"}},\"type\":\"table\"}]},\"layout\":{\"annotationdefaults\":{\"arrowcolor\":\"#2a3f5f\",\"arrowhead\":0,\"arrowwidth\":1},\"autotypenumbers\":\"strict\",\"coloraxis\":{\"colorbar\":{\"outlinewidth\":0,\"ticks\":\"\"}},\"colorscale\":{\"diverging\":[[0,\"#8e0152\"],[0.1,\"#c51b7d\"],[0.2,\"#de77ae\"],[0.3,\"#f1b6da\"],[0.4,\"#fde0ef\"],[0.5,\"#f7f7f7\"],[0.6,\"#e6f5d0\"],[0.7,\"#b8e186\"],[0.8,\"#7fbc41\"],[0.9,\"#4d9221\"],[1,\"#276419\"]],\"sequential\":[[0.0,\"#0d0887\"],[0.1111111111111111,\"#46039f\"],[0.2222222222222222,\"#7201a8\"],[0.3333333333333333,\"#9c179e\"],[0.4444444444444444,\"#bd3786\"],[0.5555555555555556,\"#d8576b\"],[0.6666666666666666,\"#ed7953\"],[0.7777777777777778,\"#fb9f3a\"],[0.8888888888888888,\"#fdca26\"],[1.0,\"#f0f921\"]],\"sequentialminus\":[[0.0,\"#0d0887\"],[0.1111111111111111,\"#46039f\"],[0.2222222222222222,\"#7201a8\"],[0.3333333333333333,\"#9c179e\"],[0.4444444444444444,\"#bd3786\"],[0.5555555555555556,\"#d8576b\"],[0.6666666666666666,\"#ed7953\"],[0.7777777777777778,\"#fb9f3a\"],[0.8888888888888888,\"#fdca26\"],[1.0,\"#f0f921\"]]},\"colorway\":[\"#636efa\",\"#EF553B\",\"#00cc96\",\"#ab63fa\",\"#FFA15A\",\"#19d3f3\",\"#FF6692\",\"#B6E880\",\"#FF97FF\",\"#FECB52\"],\"font\":{\"color\":\"#2a3f5f\"},\"geo\":{\"bgcolor\":\"white\",\"lakecolor\":\"white\",\"landcolor\":\"#E5ECF6\",\"showlakes\":true,\"showland\":true,\"subunitcolor\":\"white\"},\"hoverlabel\":{\"align\":\"left\"},\"hovermode\":\"closest\",\"mapbox\":{\"style\":\"light\"},\"paper_bgcolor\":\"white\",\"plot_bgcolor\":\"#E5ECF6\",\"polar\":{\"angularaxis\":{\"gridcolor\":\"white\",\"linecolor\":\"white\",\"ticks\":\"\"},\"bgcolor\":\"#E5ECF6\",\"radialaxis\":{\"gridcolor\":\"white\",\"linecolor\":\"white\",\"ticks\":\"\"}},\"scene\":{\"xaxis\":{\"backgroundcolor\":\"#E5ECF6\",\"gridcolor\":\"white\",\"gridwidth\":2,\"linecolor\":\"white\",\"showbackground\":true,\"ticks\":\"\",\"zerolinecolor\":\"white\"},\"yaxis\":{\"backgroundcolor\":\"#E5ECF6\",\"gridcolor\":\"white\",\"gridwidth\":2,\"linecolor\":\"white\",\"showbackground\":true,\"ticks\":\"\",\"zerolinecolor\":\"white\"},\"zaxis\":{\"backgroundcolor\":\"#E5ECF6\",\"gridcolor\":\"white\",\"gridwidth\":2,\"linecolor\":\"white\",\"showbackground\":true,\"ticks\":\"\",\"zerolinecolor\":\"white\"}},\"shapedefaults\":{\"line\":{\"color\":\"#2a3f5f\"}},\"ternary\":{\"aaxis\":{\"gridcolor\":\"white\",\"linecolor\":\"white\",\"ticks\":\"\"},\"baxis\":{\"gridcolor\":\"white\",\"linecolor\":\"white\",\"ticks\":\"\"},\"bgcolor\":\"#E5ECF6\",\"caxis\":{\"gridcolor\":\"white\",\"linecolor\":\"white\",\"ticks\":\"\"}},\"title\":{\"x\":0.05},\"xaxis\":{\"automargin\":true,\"gridcolor\":\"white\",\"linecolor\":\"white\",\"ticks\":\"\",\"title\":{\"standoff\":15},\"zerolinecolor\":\"white\",\"zerolinewidth\":2},\"yaxis\":{\"automargin\":true,\"gridcolor\":\"white\",\"linecolor\":\"white\",\"ticks\":\"\",\"title\":{\"standoff\":15},\"zerolinecolor\":\"white\",\"zerolinewidth\":2}}}},                        {\"responsive\": true}                    ).then(function(){\n",
       "                            \n",
       "var gd = document.getElementById('fd05ab6f-25eb-4d6d-ba8e-afa47b1e3a7e');\n",
       "var x = new MutationObserver(function (mutations, observer) {{\n",
       "        var display = window.getComputedStyle(gd).display;\n",
       "        if (!display || display === 'none') {{\n",
       "            console.log([gd, 'removed!']);\n",
       "            Plotly.purge(gd);\n",
       "            observer.disconnect();\n",
       "        }}\n",
       "}});\n",
       "\n",
       "// Listen for the removal of the full notebook cells\n",
       "var notebookContainer = gd.closest('#notebook-container');\n",
       "if (notebookContainer) {{\n",
       "    x.observe(notebookContainer, {childList: true});\n",
       "}}\n",
       "\n",
       "// Listen for the clearing of the current output cell\n",
       "var outputEl = gd.closest('.output');\n",
       "if (outputEl) {{\n",
       "    x.observe(outputEl, {childList: true});\n",
       "}}\n",
       "\n",
       "                        })                };                });            </script>        </div>"
      ]
     },
     "metadata": {},
     "output_type": "display_data"
    }
   ],
   "source": [
    "fig = go.Figure()\n",
    "\n",
    "fig.add_trace(go.Funnel(\n",
    "    name = 'Пользователи',\n",
    "    y = ['MainScreenAppear','OffersScreenAppear','CartScreenAppear','PaymentScreenSuccessful'],\n",
    "    x = event_group['user_id'],\n",
    "    textinfo = \"value+percent initial\"))\n",
    "\n",
    "fig.add_trace(go.Funnel(\n",
    "    name = 'Конверсия страницы',\n",
    "    orientation = \"h\",\n",
    "    y = ['MainScreenAppear','OffersScreenAppear','CartScreenAppear','PaymentScreenSuccessful'],\n",
    "    x = event_group['cr_screen'],\n",
    "    textposition = \"inside\",\n",
    "    textinfo = \"value+percent previous\"))\n",
    "\n",
    "fig.show()"
   ]
  },
  {
   "cell_type": "markdown",
   "metadata": {},
   "source": [
    "<b>На каком шаге теряете больше всего пользователей?</b>"
   ]
  },
  {
   "cell_type": "markdown",
   "metadata": {},
   "source": [
    "Больше всего пользоватеей отпадают после перехода с главной страницы на страницу товаров. 62%. Далее, идут пользователи которые добавляют товар в корзину. 81%.Наименьший % пользователей теряется при переходе с корзины в страницу оплаты. 95%"
   ]
  },
  {
   "cell_type": "markdown",
   "metadata": {},
   "source": [
    "<b>Какая доля пользователей доходит от первого события до оплаты?</b>"
   ]
  },
  {
   "cell_type": "markdown",
   "metadata": {},
   "source": [
    "На воронке выше мы можем увидеть, что % пользователей, который доходит с главной страницы до страницы оплаты - составляет 48%."
   ]
  },
  {
   "cell_type": "markdown",
   "metadata": {},
   "source": [
    "<h2>Шаг 5. Изучите результаты эксперимента</h2>"
   ]
  },
  {
   "cell_type": "markdown",
   "metadata": {},
   "source": [
    "<b>Сколько пользователей в каждой экспериментальной группе?</b>"
   ]
  },
  {
   "cell_type": "code",
   "execution_count": 460,
   "metadata": {},
   "outputs": [],
   "source": [
    "user_group_exp = data_new.groupby('exp_id')['user_id'].nunique()"
   ]
  },
  {
   "cell_type": "code",
   "execution_count": 461,
   "metadata": {},
   "outputs": [
    {
     "data": {
      "text/plain": [
       "exp_id\n",
       "246    2484\n",
       "247    2513\n",
       "248    2537\n",
       "Name: user_id, dtype: int64"
      ]
     },
     "execution_count": 461,
     "metadata": {},
     "output_type": "execute_result"
    }
   ],
   "source": [
    "user_group_exp"
   ]
  },
  {
   "cell_type": "markdown",
   "metadata": {},
   "source": [
    "В группе <b>248</b> - 2484 пользователя,\n",
    "\n",
    "В группе <b>246</b> - 2513 пользователя,\n",
    "\n",
    "В группе <b>247</b> - 2537 пользователя."
   ]
  },
  {
   "cell_type": "markdown",
   "metadata": {},
   "source": [
    "<b>Есть 2 контрольные группы для А/А-эксперимента, чтобы проверить корректность всех механизмов и расчётов. Проверьте, находят ли статистические критерии разницу между выборками 246 и 247.</b>"
   ]
  },
  {
   "cell_type": "markdown",
   "metadata": {},
   "source": [
    "Для этого мы найдем кол-во уникальных пользователей из 246 и 247 группы"
   ]
  },
  {
   "cell_type": "code",
   "execution_count": 462,
   "metadata": {},
   "outputs": [],
   "source": [
    "exp_246 = data_new.query('exp_id == 246')['user_id'].nunique()"
   ]
  },
  {
   "cell_type": "code",
   "execution_count": 463,
   "metadata": {},
   "outputs": [],
   "source": [
    "exp_247 = data_new.query('exp_id == 247')['user_id'].nunique()"
   ]
  },
  {
   "cell_type": "code",
   "execution_count": 464,
   "metadata": {},
   "outputs": [],
   "source": [
    "exp_248 = data_new.query('exp_id == 248')['user_id'].nunique()"
   ]
  },
  {
   "cell_type": "markdown",
   "metadata": {},
   "source": [
    "Сформулируем нулевую и альтернативную гипотезу:"
   ]
  },
  {
   "cell_type": "markdown",
   "metadata": {},
   "source": [
    "<b>H0:</b> Статистически значимой разницы между выборками из групп 246 и 247 нет\n",
    "\n",
    "<b>H1:</b> Статистически значимая разница между между выборками из групп 246 и 247 есть"
   ]
  },
  {
   "cell_type": "markdown",
   "metadata": {},
   "source": [
    "За уровень значимости возьмем alpha в 1%. Т.Е мы  на 99% уверены в том, что различия действительно достоверны."
   ]
  },
  {
   "cell_type": "code",
   "execution_count": 465,
   "metadata": {},
   "outputs": [],
   "source": [
    "alpha = .01\n",
    "\n",
    "successes = np.array([exp_246, exp_247])\n",
    "trials = np.array([exp_246 + exp_247, exp_246 + exp_247])\n",
    "\n",
    "# пропорция успехов в первой группе:\n",
    "p1 = successes[0]/trials[0]\n",
    "\n",
    "# пропорция успехов во второй группе:\n",
    "p2 = successes[1]/trials[1]\n",
    "\n",
    "# пропорция успехов в комбинированном датасете:\n",
    "p_combined = (successes[0] + successes[1]) / (trials[0] + trials[1])\n",
    "\n",
    "# разница пропорций в датасетах\n",
    "difference = p1 - p2 "
   ]
  },
  {
   "cell_type": "code",
   "execution_count": 466,
   "metadata": {},
   "outputs": [],
   "source": [
    "# считаем статистику в ст.отклонениях стандартного нормального распределения\n",
    "z_value = difference / mth.sqrt(p_combined * (1 - p_combined) * (1/trials[0] + 1/trials[1]))\n",
    "\n",
    "# задаем стандартное нормальное распределение (среднее 0, ст.отклонение 1)\n",
    "distr = st.norm(0, 1) "
   ]
  },
  {
   "cell_type": "code",
   "execution_count": 467,
   "metadata": {},
   "outputs": [
    {
     "name": "stdout",
     "output_type": "stream",
     "text": [
      "p-значение:  0.5617972322745155\n",
      "Не получилось отвергнуть нулевую гипотезу\n"
     ]
    }
   ],
   "source": [
    "p_value = (1 - distr.cdf(abs(z_value))) * 2\n",
    "\n",
    "print('p-значение: ', p_value)\n",
    "\n",
    "if p_value < alpha:\n",
    "    print('Отвергаем нулевую гипотезу')\n",
    "else:\n",
    "    print(\n",
    "        'Не получилось отвергнуть нулевую гипотезу'\n",
    "    )"
   ]
  },
  {
   "cell_type": "markdown",
   "metadata": {},
   "source": [
    "Это означает, что выборки из групп нам подходят и мы можем их использовать для дальнейшего эксперимента"
   ]
  },
  {
   "cell_type": "markdown",
   "metadata": {},
   "source": [
    "<b>Выберите самое популярное событие. Посчитайте число пользователей, совершивших это событие в каждой из контрольных групп. Посчитайте долю пользователей, совершивших это событие. Проверьте, будет ли отличие между группами статистически достоверным. Проделайте то же самое для всех других событий (удобно обернуть проверку в отдельную функцию). Можно ли сказать, что разбиение на группы работает корректно?</b>"
   ]
  },
  {
   "cell_type": "markdown",
   "metadata": {},
   "source": [
    "Сгрупируем пользователей по событию, отсортируем и построим диаграмму. "
   ]
  },
  {
   "cell_type": "code",
   "execution_count": 468,
   "metadata": {},
   "outputs": [],
   "source": [
    "event_group = data_new.groupby('event_name').agg({'user_id': 'nunique'}).reset_index()"
   ]
  },
  {
   "cell_type": "code",
   "execution_count": 469,
   "metadata": {},
   "outputs": [],
   "source": [
    "event_group.columns = ['event_name', 'user_count']"
   ]
  },
  {
   "cell_type": "code",
   "execution_count": 470,
   "metadata": {},
   "outputs": [],
   "source": [
    "event_group = event_group.sort_values(by = 'user_count', ascending = False)"
   ]
  },
  {
   "cell_type": "code",
   "execution_count": 471,
   "metadata": {},
   "outputs": [
    {
     "data": {
      "text/html": [
       "<div>\n",
       "<style scoped>\n",
       "    .dataframe tbody tr th:only-of-type {\n",
       "        vertical-align: middle;\n",
       "    }\n",
       "\n",
       "    .dataframe tbody tr th {\n",
       "        vertical-align: top;\n",
       "    }\n",
       "\n",
       "    .dataframe thead th {\n",
       "        text-align: right;\n",
       "    }\n",
       "</style>\n",
       "<table border=\"1\" class=\"dataframe\">\n",
       "  <thead>\n",
       "    <tr style=\"text-align: right;\">\n",
       "      <th></th>\n",
       "      <th>event_name</th>\n",
       "      <th>user_count</th>\n",
       "    </tr>\n",
       "  </thead>\n",
       "  <tbody>\n",
       "    <tr>\n",
       "      <th>1</th>\n",
       "      <td>MainScreenAppear</td>\n",
       "      <td>7419</td>\n",
       "    </tr>\n",
       "    <tr>\n",
       "      <th>2</th>\n",
       "      <td>OffersScreenAppear</td>\n",
       "      <td>4593</td>\n",
       "    </tr>\n",
       "    <tr>\n",
       "      <th>0</th>\n",
       "      <td>CartScreenAppear</td>\n",
       "      <td>3734</td>\n",
       "    </tr>\n",
       "    <tr>\n",
       "      <th>3</th>\n",
       "      <td>PaymentScreenSuccessful</td>\n",
       "      <td>3539</td>\n",
       "    </tr>\n",
       "    <tr>\n",
       "      <th>4</th>\n",
       "      <td>Tutorial</td>\n",
       "      <td>840</td>\n",
       "    </tr>\n",
       "  </tbody>\n",
       "</table>\n",
       "</div>"
      ],
      "text/plain": [
       "                event_name  user_count\n",
       "1         MainScreenAppear        7419\n",
       "2       OffersScreenAppear        4593\n",
       "0         CartScreenAppear        3734\n",
       "3  PaymentScreenSuccessful        3539\n",
       "4                 Tutorial         840"
      ]
     },
     "execution_count": 471,
     "metadata": {},
     "output_type": "execute_result"
    }
   ],
   "source": [
    "event_group"
   ]
  },
  {
   "cell_type": "code",
   "execution_count": 472,
   "metadata": {},
   "outputs": [
    {
     "data": {
      "image/png": "[encoded data removed]",
      "text/plain": [
       "<Figure size 1080x360 with 1 Axes>"
      ]
     },
     "metadata": {
      "needs_background": "light"
     },
     "output_type": "display_data"
    }
   ],
   "source": [
    "plt.figure(figsize=(15,5))\n",
    "sns.barplot(data=event_group, x=\"event_name\", y=\"user_count\")\n",
    "plt.title('Популятрность событий')\n",
    "plt.xlabel('Название события')\n",
    "plt.ylabel('Количество пользователей');"
   ]
  },
  {
   "cell_type": "markdown",
   "metadata": {},
   "source": [
    "Самое популярное событие это 'MainScreenAppear' или просмотр главной страницы."
   ]
  },
  {
   "cell_type": "markdown",
   "metadata": {},
   "source": [
    "Теперь посмотрим на число таких пользователей, совершившие данное событие в каждой группе:"
   ]
  },
  {
   "cell_type": "code",
   "execution_count": 473,
   "metadata": {},
   "outputs": [],
   "source": [
    "event_group_exp = data_new.pivot_table(index = 'event_name', columns = 'exp_id', values ='user_id', aggfunc = 'nunique' ).reset_index()"
   ]
  },
  {
   "cell_type": "code",
   "execution_count": 474,
   "metadata": {},
   "outputs": [],
   "source": [
    "event_group_exp = event_group_exp.sort_values(by = [246, 247], ascending = False)"
   ]
  },
  {
   "cell_type": "code",
   "execution_count": 475,
   "metadata": {},
   "outputs": [
    {
     "data": {
      "text/html": [
       "<div>\n",
       "<style scoped>\n",
       "    .dataframe tbody tr th:only-of-type {\n",
       "        vertical-align: middle;\n",
       "    }\n",
       "\n",
       "    .dataframe tbody tr th {\n",
       "        vertical-align: top;\n",
       "    }\n",
       "\n",
       "    .dataframe thead th {\n",
       "        text-align: right;\n",
       "    }\n",
       "</style>\n",
       "<table border=\"1\" class=\"dataframe\">\n",
       "  <thead>\n",
       "    <tr style=\"text-align: right;\">\n",
       "      <th>exp_id</th>\n",
       "      <th>event_name</th>\n",
       "      <th>246</th>\n",
       "      <th>247</th>\n",
       "      <th>248</th>\n",
       "    </tr>\n",
       "  </thead>\n",
       "  <tbody>\n",
       "    <tr>\n",
       "      <th>1</th>\n",
       "      <td>MainScreenAppear</td>\n",
       "      <td>2450</td>\n",
       "      <td>2476</td>\n",
       "      <td>2493</td>\n",
       "    </tr>\n",
       "    <tr>\n",
       "      <th>2</th>\n",
       "      <td>OffersScreenAppear</td>\n",
       "      <td>1542</td>\n",
       "      <td>1520</td>\n",
       "      <td>1531</td>\n",
       "    </tr>\n",
       "    <tr>\n",
       "      <th>0</th>\n",
       "      <td>CartScreenAppear</td>\n",
       "      <td>1266</td>\n",
       "      <td>1238</td>\n",
       "      <td>1230</td>\n",
       "    </tr>\n",
       "    <tr>\n",
       "      <th>3</th>\n",
       "      <td>PaymentScreenSuccessful</td>\n",
       "      <td>1200</td>\n",
       "      <td>1158</td>\n",
       "      <td>1181</td>\n",
       "    </tr>\n",
       "    <tr>\n",
       "      <th>4</th>\n",
       "      <td>Tutorial</td>\n",
       "      <td>278</td>\n",
       "      <td>283</td>\n",
       "      <td>279</td>\n",
       "    </tr>\n",
       "  </tbody>\n",
       "</table>\n",
       "</div>"
      ],
      "text/plain": [
       "exp_id               event_name   246   247   248\n",
       "1              MainScreenAppear  2450  2476  2493\n",
       "2            OffersScreenAppear  1542  1520  1531\n",
       "0              CartScreenAppear  1266  1238  1230\n",
       "3       PaymentScreenSuccessful  1200  1158  1181\n",
       "4                      Tutorial   278   283   279"
      ]
     },
     "execution_count": 475,
     "metadata": {},
     "output_type": "execute_result"
    }
   ],
   "source": [
    "event_group_exp"
   ]
  },
  {
   "cell_type": "markdown",
   "metadata": {},
   "source": [
    "Теперь посчитаем долю пользователей, совершивших это событие."
   ]
  },
  {
   "cell_type": "code",
   "execution_count": 476,
   "metadata": {},
   "outputs": [],
   "source": [
    "event_group_exp['246_247'] = event_group_exp[246]+event_group_exp[247]\n",
    "event_group_exp['ratio_246'] = round(event_group_exp[246]/user_group_exp[246],2)*100\n",
    "event_group_exp['ratio_247'] = round(event_group_exp[247]/user_group_exp[247],2)*100\n"
   ]
  },
  {
   "cell_type": "code",
   "execution_count": 477,
   "metadata": {},
   "outputs": [
    {
     "data": {
      "text/html": [
       "<div>\n",
       "<style scoped>\n",
       "    .dataframe tbody tr th:only-of-type {\n",
       "        vertical-align: middle;\n",
       "    }\n",
       "\n",
       "    .dataframe tbody tr th {\n",
       "        vertical-align: top;\n",
       "    }\n",
       "\n",
       "    .dataframe thead th {\n",
       "        text-align: right;\n",
       "    }\n",
       "</style>\n",
       "<table border=\"1\" class=\"dataframe\">\n",
       "  <thead>\n",
       "    <tr style=\"text-align: right;\">\n",
       "      <th>exp_id</th>\n",
       "      <th>event_name</th>\n",
       "      <th>246</th>\n",
       "      <th>247</th>\n",
       "      <th>248</th>\n",
       "      <th>246_247</th>\n",
       "      <th>ratio_246</th>\n",
       "      <th>ratio_247</th>\n",
       "    </tr>\n",
       "  </thead>\n",
       "  <tbody>\n",
       "    <tr>\n",
       "      <th>1</th>\n",
       "      <td>MainScreenAppear</td>\n",
       "      <td>2450</td>\n",
       "      <td>2476</td>\n",
       "      <td>2493</td>\n",
       "      <td>4926</td>\n",
       "      <td>99.0</td>\n",
       "      <td>99.0</td>\n",
       "    </tr>\n",
       "    <tr>\n",
       "      <th>2</th>\n",
       "      <td>OffersScreenAppear</td>\n",
       "      <td>1542</td>\n",
       "      <td>1520</td>\n",
       "      <td>1531</td>\n",
       "      <td>3062</td>\n",
       "      <td>62.0</td>\n",
       "      <td>60.0</td>\n",
       "    </tr>\n",
       "    <tr>\n",
       "      <th>0</th>\n",
       "      <td>CartScreenAppear</td>\n",
       "      <td>1266</td>\n",
       "      <td>1238</td>\n",
       "      <td>1230</td>\n",
       "      <td>2504</td>\n",
       "      <td>51.0</td>\n",
       "      <td>49.0</td>\n",
       "    </tr>\n",
       "    <tr>\n",
       "      <th>3</th>\n",
       "      <td>PaymentScreenSuccessful</td>\n",
       "      <td>1200</td>\n",
       "      <td>1158</td>\n",
       "      <td>1181</td>\n",
       "      <td>2358</td>\n",
       "      <td>48.0</td>\n",
       "      <td>46.0</td>\n",
       "    </tr>\n",
       "    <tr>\n",
       "      <th>4</th>\n",
       "      <td>Tutorial</td>\n",
       "      <td>278</td>\n",
       "      <td>283</td>\n",
       "      <td>279</td>\n",
       "      <td>561</td>\n",
       "      <td>11.0</td>\n",
       "      <td>11.0</td>\n",
       "    </tr>\n",
       "  </tbody>\n",
       "</table>\n",
       "</div>"
      ],
      "text/plain": [
       "exp_id               event_name   246   247   248  246_247  ratio_246  \\\n",
       "1              MainScreenAppear  2450  2476  2493     4926       99.0   \n",
       "2            OffersScreenAppear  1542  1520  1531     3062       62.0   \n",
       "0              CartScreenAppear  1266  1238  1230     2504       51.0   \n",
       "3       PaymentScreenSuccessful  1200  1158  1181     2358       48.0   \n",
       "4                      Tutorial   278   283   279      561       11.0   \n",
       "\n",
       "exp_id  ratio_247  \n",
       "1            99.0  \n",
       "2            60.0  \n",
       "0            49.0  \n",
       "3            46.0  \n",
       "4            11.0  "
      ]
     },
     "execution_count": 477,
     "metadata": {},
     "output_type": "execute_result"
    }
   ],
   "source": [
    "event_group_exp.head()"
   ]
  },
  {
   "cell_type": "markdown",
   "metadata": {},
   "source": [
    "Сформулируем нулевую и альтернативную гипотезу:"
   ]
  },
  {
   "cell_type": "markdown",
   "metadata": {},
   "source": [
    "\n",
    "<b>H0:</b> Статистически значимой разницы между долями пользователей совершивших собтия из групп 246 и 247 нет\n",
    "\n",
    "<b>H1:</b> Статистически значимая разница между долями пользователей совершивших собтия из групп 246 и 247 есть"
   ]
  },
  {
   "cell_type": "code",
   "execution_count": 478,
   "metadata": {},
   "outputs": [],
   "source": [
    "# Передадим функции следующие  аргументы:\n",
    "# total_count_1 - Кол-во уникальных пользователей из первой группы\n",
    "# total_count_2 - Кол-во уникальных пользователей из второй группы\n",
    "# event_count_1 - Кол-во пользователей совершивших популярное событие из первой группы\n",
    "# event_count_2 - Кол-во пользователей совершивших популярное событие из второй группы\n",
    "def z_test(total_count_1, total_count_2, event_count_1, event_count_2, aplha):\n",
    "    successes = np.array([event_count_1, event_count_2])\n",
    "    trials = np.array([total_count_1, total_count_2])\n",
    "    p1 = successes[0]/trials[0]\n",
    "    p2 = successes[1]/trials[1]\n",
    "    p_combined = (successes[0] + successes[1]) / (trials[0] + trials[1])\n",
    "    difference = p1 - p2\n",
    "    z_value = difference / mth.sqrt(p_combined * (1 - p_combined) * (1/trials[0] + 1/trials[1]))\n",
    "    distr = st.norm(0, 1)\n",
    "    p_value = (1 - distr.cdf(abs(z_value))) * 2\n",
    "    print('p-значение: ', p_value)\n",
    "    if p_value < alpha:\n",
    "        print('Отвергаем нулевую гипотезу')\n",
    "    else:\n",
    "        print(\n",
    "        'Не получилось отвергнуть нулевую гипотезу')"
   ]
  },
  {
   "cell_type": "code",
   "execution_count": 479,
   "metadata": {},
   "outputs": [
    {
     "name": "stdout",
     "output_type": "stream",
     "text": [
      "Событие: CartScreenAppear\n",
      "p-значение:  0.22883372237997213\n",
      "Не получилось отвергнуть нулевую гипотезу\n",
      "_________________________________________\n",
      "Событие: MainScreenAppear\n",
      "p-значение:  0.7570597232046099\n",
      "Не получилось отвергнуть нулевую гипотезу\n",
      "_________________________________________\n",
      "Событие: OffersScreenAppear\n",
      "p-значение:  0.2480954578522181\n",
      "Не получилось отвергнуть нулевую гипотезу\n",
      "_________________________________________\n",
      "Событие: PaymentScreenSuccessful\n",
      "p-значение:  0.11456679313141849\n",
      "Не получилось отвергнуть нулевую гипотезу\n",
      "_________________________________________\n",
      "Событие: Tutorial\n",
      "p-значение:  0.9376996189257114\n",
      "Не получилось отвергнуть нулевую гипотезу\n",
      "_________________________________________\n"
     ]
    }
   ],
   "source": [
    "for i in range(len(event_group_exp)):\n",
    "    event = event_group_exp['event_name'][i]\n",
    "    print(f'Событие: {event}')\n",
    "    z_test(exp_246,exp_247,event_group_exp[246][i],event_group_exp[247][i],0.01)\n",
    "    print('_________________________________________')\n",
    "    "
   ]
  },
  {
   "cell_type": "markdown",
   "metadata": {},
   "source": [
    "<b>Вывод: </b>Таким образом мы видим, что статистической значимой разницы между подгруппами нет и разбиение на группы работает корректно."
   ]
  },
  {
   "cell_type": "markdown",
   "metadata": {},
   "source": [
    "<b>Аналогично поступите с группой с изменённым шрифтом. Сравните результаты с каждой из контрольных групп в отдельности по каждому событию. Сравните результаты с объединённой контрольной группой. Какие выводы из эксперимента можно сделать?</b>"
   ]
  },
  {
   "cell_type": "markdown",
   "metadata": {},
   "source": [
    "Теперь контрольные группы 246 и 247 по очереди сравним с эксперементальной группой 248"
   ]
  },
  {
   "cell_type": "markdown",
   "metadata": {},
   "source": [
    "Для более высокой точности оставим alpha значение 0.05"
   ]
  },
  {
   "cell_type": "markdown",
   "metadata": {},
   "source": [
    "Сформулируем нулевую и альтернативную гипотезу:"
   ]
  },
  {
   "cell_type": "markdown",
   "metadata": {},
   "source": [
    "<b>H0:</b> Статистически значимой разницы между долями пользователей совершивших собтия  из групп 246 и 248 нет\n",
    "\n",
    "<b>H1:</b> Статистически значимая разница между долями пользователей совершивших собтия  из групп 246 и 248 есть"
   ]
  },
  {
   "cell_type": "code",
   "execution_count": 480,
   "metadata": {},
   "outputs": [
    {
     "name": "stdout",
     "output_type": "stream",
     "text": [
      "Событие: CartScreenAppear\n",
      "p-значение:  0.07842923237520116\n",
      "Не получилось отвергнуть нулевую гипотезу\n",
      "_________________________________________\n",
      "Событие: MainScreenAppear\n",
      "p-значение:  0.2949721933554552\n",
      "Не получилось отвергнуть нулевую гипотезу\n",
      "_________________________________________\n",
      "Событие: OffersScreenAppear\n",
      "p-значение:  0.20836205402738917\n",
      "Не получилось отвергнуть нулевую гипотезу\n",
      "_________________________________________\n",
      "Событие: PaymentScreenSuccessful\n",
      "p-значение:  0.2122553275697796\n",
      "Не получилось отвергнуть нулевую гипотезу\n",
      "_________________________________________\n",
      "Событие: Tutorial\n",
      "p-значение:  0.8264294010087645\n",
      "Не получилось отвергнуть нулевую гипотезу\n",
      "_________________________________________\n"
     ]
    }
   ],
   "source": [
    "for i in range(len(event_group_exp)):\n",
    "    event = event_group_exp['event_name'][i]\n",
    "    print(f'Событие: {event}')\n",
    "    z_test(exp_246,exp_248,event_group_exp[246][i],event_group_exp[248][i],0.01)\n",
    "    print('_________________________________________')\n",
    "    "
   ]
  },
  {
   "cell_type": "markdown",
   "metadata": {},
   "source": [
    "<b>Вывод: </b>Таким образом мы видим, что статистической значимой разницы между группами 246 и 248 нет."
   ]
  },
  {
   "cell_type": "markdown",
   "metadata": {},
   "source": [
    "Сформулируем нулевую и альтернативную гипотезу:"
   ]
  },
  {
   "cell_type": "markdown",
   "metadata": {},
   "source": [
    "<b>H0:</b> Статистически значимой разницы между долями пользователей совершивших собтия  из групп 247 и 248 нет\n",
    "\n",
    "<b>H1:</b> Статистически значимая разница между долями пользователей совершивших собтия  из групп 247 и 248 есть"
   ]
  },
  {
   "cell_type": "code",
   "execution_count": 481,
   "metadata": {},
   "outputs": [
    {
     "name": "stdout",
     "output_type": "stream",
     "text": [
      "Событие: CartScreenAppear\n",
      "p-значение:  0.5786197879539783\n",
      "Не получилось отвергнуть нулевую гипотезу\n",
      "_________________________________________\n",
      "Событие: MainScreenAppear\n",
      "p-значение:  0.4587053616621515\n",
      "Не получилось отвергнуть нулевую гипотезу\n",
      "_________________________________________\n",
      "Событие: OffersScreenAppear\n",
      "p-значение:  0.9197817830592261\n",
      "Не получилось отвергнуть нулевую гипотезу\n",
      "_________________________________________\n",
      "Событие: PaymentScreenSuccessful\n",
      "p-значение:  0.7373415053803964\n",
      "Не получилось отвергнуть нулевую гипотезу\n",
      "_________________________________________\n",
      "Событие: Tutorial\n",
      "p-значение:  0.765323922474501\n",
      "Не получилось отвергнуть нулевую гипотезу\n",
      "_________________________________________\n"
     ]
    }
   ],
   "source": [
    "for i in range(len(event_group_exp)):\n",
    "    event = event_group_exp['event_name'][i]\n",
    "    print(f'Событие: {event}')\n",
    "    z_test(exp_247,exp_248,event_group_exp[247][i],event_group_exp[248][i],0.01)\n",
    "    print('_________________________________________')"
   ]
  },
  {
   "cell_type": "markdown",
   "metadata": {},
   "source": [
    "<b>Вывод: </b>Статистической значимой разницы между группами 247 и 248 нет."
   ]
  },
  {
   "cell_type": "markdown",
   "metadata": {},
   "source": [
    "Сформулируем нулевую и альтернативную гипотезу:"
   ]
  },
  {
   "cell_type": "markdown",
   "metadata": {},
   "source": [
    "<b>H0:</b> Статистически значимой разницы между долями пользователей совершивших события  из  обединеных 246,247 групп и 248 нет\n",
    "\n",
    "<b>H1:</b> Статистически значимая разница между долями пользователей совершивших собтия из обединеных 246,247 групп и 248 есть"
   ]
  },
  {
   "cell_type": "code",
   "execution_count": 482,
   "metadata": {},
   "outputs": [
    {
     "name": "stdout",
     "output_type": "stream",
     "text": [
      "Событие: CartScreenAppear\n",
      "p-значение:  0.18175875284404386\n",
      "Не получилось отвергнуть нулевую гипотезу\n",
      "_________________________________________\n",
      "Событие: MainScreenAppear\n",
      "p-значение:  0.29424526837179577\n",
      "Не получилось отвергнуть нулевую гипотезу\n",
      "_________________________________________\n",
      "Событие: OffersScreenAppear\n",
      "p-значение:  0.43425549655188256\n",
      "Не получилось отвергнуть нулевую гипотезу\n",
      "_________________________________________\n",
      "Событие: PaymentScreenSuccessful\n",
      "p-значение:  0.6004294282308704\n",
      "Не получилось отвергнуть нулевую гипотезу\n",
      "_________________________________________\n",
      "Событие: Tutorial\n",
      "p-значение:  0.764862472531507\n",
      "Не получилось отвергнуть нулевую гипотезу\n",
      "_________________________________________\n"
     ]
    }
   ],
   "source": [
    "for i in range(len(event_group_exp)):\n",
    "    event = event_group_exp['event_name'][i]\n",
    "    print(f'Событие: {event}')\n",
    "    z_test(exp_247+exp_246,exp_248,event_group_exp['246_247'][i],event_group_exp[248][i],0.01)\n",
    "    print('_________________________________________')"
   ]
  },
  {
   "cell_type": "markdown",
   "metadata": {},
   "source": [
    "<b>Вывод: </b>Статистической значимой разницы между объединенными группами 246+247 и 248 нет."
   ]
  },
  {
   "cell_type": "markdown",
   "metadata": {},
   "source": [
    "<b>Какой уровень значимости вы выбрали при проверке статистических гипотез выше? Посчитайте, сколько проверок статистических гипотез вы сделали. При уровне значимости 0.1 каждый десятый раз можно получать ложный результат. Какой уровень значимости стоит применить? Если вы хотите изменить его, проделайте предыдущие пункты и проверьте свои выводы.</b>"
   ]
  },
  {
   "cell_type": "markdown",
   "metadata": {},
   "source": [
    "Уровень значимости равен alpha = 0.01\n",
    "\n",
    "Проверок было сделанно: 15\n",
    "\n",
    "Мы использовали уровень значимости 0.01, это значит, что каждый 99-й раз мы можем получить ложный результат. Такой уровень значимости подходит, так как позволяет увеличить точность исследования."
   ]
  },
  {
   "cell_type": "markdown",
   "metadata": {},
   "source": [
    "<h2>Общий вывод:</h2>"
   ]
  },
  {
   "cell_type": "markdown",
   "metadata": {},
   "source": [
    "Изначально в данных первой датой был день 2019-07-25, фактический день старта текстирования наступил 2019-08-01 и закончился 2019-08-08.\n",
    "После того, как мы отбросили неактуальные данные, мы потеряли 2826 записей из датасета и 17 уникальных пользователей.\n",
    "<ul>\n",
    "<li>Наиболее частовстреаемое событие <b>'MainScreenAppear'</b> (переход на главный экран). Самое редкое событие это <b>'Tutorial'</b> - обучение.</li>\n",
    "<li>98 % пользователей переходили на главную страницу и лишь только 11 % пользователей, от всех кто когда либо совершал действие, посмотрели обучение</li>\n",
    "</ul>\n",
    "\n",
    "\n",
    "События происходили в следующем порядке:\n",
    "<ol>\n",
    "<li>MainScreenAppear</li>\n",
    "<li>Tutorial</li>\n",
    "<li>OffersScreenAppear</li>\n",
    "<li>CartScreenAppear</li>\n",
    "<li>PaymentScreenSuccessful - Страница оплаты</li>\n",
    "</ol>\n",
    "Мы составили воронку событий и посчитали конверсию переходов с главной страницы до совершения покупки:\n",
    "<ul>\n",
    "<li>В итоге мы можем сделать вывод, о том, что конверсия переходов с главной страницы на страницу с товарами составляет 62%</li>\n",
    "\n",
    "<li>конверсия переходов со страницы с товарами на страницу корзины составляет 81%</li>\n",
    "\n",
    "<li>Конверсия переходов с корзины в оплату состаяет 95%</li>\n",
    "</ul>\n",
    "\n",
    "При этом выяснили, что больше всего пользоватеей отпадают после перехода с главной страницы на страницу товаров. 62%. Далее, идут пользователи которые добавляют товар в корзину. 81%.Наименьший % пользователей теряется при переходе с корзины в страницу оплаты. 95%\n",
    "\n",
    "Общая коверсия пользователей с главной страницы, которые доходят до страницы оплаты - составляет 48%.\n",
    "\n",
    "При эксперементировании мы имели две котнрольные группы пользователей (со старым шрифтом) и одну эксперементальную (с новым шрифтом.)\n",
    "\n",
    "Также мы выяснили что, статистической значимости между выборками:\n",
    "<ol>\n",
    "<li>Выборками групп 246 и 247 - Нет </li>\n",
    "<li> Пользователями совершившие собтия из групп 246 и 247 - Нет</li>\n",
    "<li>Пользователями совершившие собтия из групп 246 и 248 - Нет</li>\n",
    "<li>Пользователями совершившие собтия из групп 247 и 248 - Нет</li>\n",
    "</ol>\n",
    "\n",
    "Таким образом, эксперемент показал, что новые шрифты в приложении, не измениили конвеверсию событий. И средние значения переходов пользорвателей со старыми шрифтами = средним значения переходов пользорвателей с новыми шрифтами.\n"
   ]
  },
  {
   "cell_type": "markdown",
   "metadata": {},
   "source": [
    "<b>Отчет о проделаных шагах:</b>\n",
    "<ul>\n",
    "<li>1. Датасет изначально был оценен на наличие: Дубликатов, формата значений.</li>\n",
    "<li>2. Пропуски значений и дубликатов в датасете не было</li>\n",
    "<li>3. Формат значений был изменен со строчных на дату.</li>\n",
    "<li>4. Была построена гистограмма, с целью оценить актуальные сроки теста</li>\n",
    "<li>5. Старые значения были удалены, чтоб не искажать статистику</li>\n",
    "<li>6. Были изученны данные и события</li>\n",
    "<li>7. Была посчитанна конверсия и составленна воронка событий</li>\n",
    "<li>8. Провели А/А эксепемент для контрольных групп, чтобы проверить корректность всех механизмов и расчётов.</li>\n",
    "<li>9. С помощью Z-test мы провели тест статистической значимости для контрольных и эксперементальных групп</li>\n",
    "<li>10. На основе всех наблюдений был составлен общий вывод.</li>\n",
    "</ul>"
   ]
  }
 ],
 "metadata": {
  "ExecuteTimeLog": [
   {
    "duration": 56,
    "start_time": "2022-11-14T09:42:05.989Z"
   },
   {
    "duration": 66,
    "start_time": "2022-11-14T10:05:52.562Z"
   },
   {
    "duration": 56,
    "start_time": "2022-11-14T10:06:05.888Z"
   },
   {
    "duration": 402,
    "start_time": "2022-11-14T10:08:18.257Z"
   },
   {
    "duration": 624,
    "start_time": "2022-11-14T10:08:38.603Z"
   },
   {
    "duration": 13,
    "start_time": "2022-11-14T10:08:41.068Z"
   },
   {
    "duration": 256,
    "start_time": "2022-11-14T10:08:51.019Z"
   },
   {
    "duration": 8,
    "start_time": "2022-11-14T10:08:51.941Z"
   },
   {
    "duration": 66,
    "start_time": "2022-11-14T10:09:13.065Z"
   },
   {
    "duration": 53,
    "start_time": "2022-11-14T10:09:32.267Z"
   },
   {
    "duration": 65,
    "start_time": "2022-11-14T10:09:38.333Z"
   },
   {
    "duration": 64,
    "start_time": "2022-11-14T10:09:45.452Z"
   },
   {
    "duration": 272,
    "start_time": "2022-11-14T10:10:21.681Z"
   },
   {
    "duration": 10,
    "start_time": "2022-11-14T10:10:23.426Z"
   },
   {
    "duration": 254,
    "start_time": "2022-11-14T10:10:26.673Z"
   },
   {
    "duration": 7,
    "start_time": "2022-11-14T10:10:27.076Z"
   },
   {
    "duration": 267,
    "start_time": "2022-11-14T10:11:45.772Z"
   },
   {
    "duration": 7,
    "start_time": "2022-11-14T10:11:46.058Z"
   },
   {
    "duration": 50,
    "start_time": "2022-11-14T10:11:52.269Z"
   },
   {
    "duration": 74,
    "start_time": "2022-11-14T10:12:29.978Z"
   },
   {
    "duration": 8,
    "start_time": "2022-11-14T10:12:32.440Z"
   },
   {
    "duration": 47,
    "start_time": "2022-11-14T10:12:38.766Z"
   },
   {
    "duration": 8,
    "start_time": "2022-11-14T10:12:39.200Z"
   },
   {
    "duration": 48,
    "start_time": "2022-11-14T10:12:55.802Z"
   },
   {
    "duration": 7,
    "start_time": "2022-11-14T10:12:56.331Z"
   },
   {
    "duration": 45,
    "start_time": "2022-11-14T10:13:09.263Z"
   },
   {
    "duration": 7,
    "start_time": "2022-11-14T10:13:09.647Z"
   },
   {
    "duration": 65,
    "start_time": "2022-11-14T10:18:26.640Z"
   },
   {
    "duration": 9,
    "start_time": "2022-11-14T10:18:27.184Z"
   },
   {
    "duration": 2,
    "start_time": "2022-11-14T10:19:56.461Z"
   },
   {
    "duration": 51,
    "start_time": "2022-11-14T10:19:56.991Z"
   },
   {
    "duration": 7,
    "start_time": "2022-11-14T10:19:57.508Z"
   },
   {
    "duration": 2,
    "start_time": "2022-11-14T10:20:36.340Z"
   },
   {
    "duration": 56,
    "start_time": "2022-11-14T10:20:36.688Z"
   },
   {
    "duration": 8,
    "start_time": "2022-11-14T10:20:37.182Z"
   },
   {
    "duration": 405,
    "start_time": "2022-11-14T10:20:46.144Z"
   },
   {
    "duration": 67,
    "start_time": "2022-11-14T10:20:46.551Z"
   },
   {
    "duration": 0,
    "start_time": "2022-11-14T10:20:46.623Z"
   },
   {
    "duration": 73,
    "start_time": "2022-11-14T10:20:54.709Z"
   },
   {
    "duration": 3,
    "start_time": "2022-11-14T10:20:57.734Z"
   },
   {
    "duration": 99,
    "start_time": "2022-11-14T10:20:58.060Z"
   },
   {
    "duration": 7,
    "start_time": "2022-11-14T10:20:58.664Z"
   },
   {
    "duration": 3,
    "start_time": "2022-11-14T10:22:23.239Z"
   },
   {
    "duration": 75,
    "start_time": "2022-11-14T10:22:23.583Z"
   },
   {
    "duration": 6,
    "start_time": "2022-11-14T10:22:23.963Z"
   },
   {
    "duration": 44,
    "start_time": "2022-11-14T10:22:29.320Z"
   },
   {
    "duration": 150,
    "start_time": "2022-11-14T10:24:38.411Z"
   },
   {
    "duration": 15,
    "start_time": "2022-11-14T10:24:38.891Z"
   },
   {
    "duration": 8,
    "start_time": "2022-11-14T10:25:12.760Z"
   },
   {
    "duration": 4,
    "start_time": "2022-11-14T10:25:17.848Z"
   },
   {
    "duration": 3,
    "start_time": "2022-11-14T10:26:37.643Z"
   },
   {
    "duration": 8,
    "start_time": "2022-11-14T10:26:55.558Z"
   },
   {
    "duration": 3,
    "start_time": "2022-11-14T10:26:57.941Z"
   },
   {
    "duration": 3,
    "start_time": "2022-11-14T10:27:25.433Z"
   },
   {
    "duration": 21,
    "start_time": "2022-11-14T10:27:35.082Z"
   },
   {
    "duration": 54,
    "start_time": "2022-11-14T10:27:48.988Z"
   },
   {
    "duration": 23,
    "start_time": "2022-11-14T10:27:52.477Z"
   },
   {
    "duration": 36,
    "start_time": "2022-11-14T10:32:08.259Z"
   },
   {
    "duration": 20,
    "start_time": "2022-11-14T10:32:13.119Z"
   },
   {
    "duration": 7,
    "start_time": "2022-11-14T10:32:21.064Z"
   },
   {
    "duration": 3,
    "start_time": "2022-11-14T10:33:19.799Z"
   },
   {
    "duration": 18,
    "start_time": "2022-11-14T10:33:20.681Z"
   },
   {
    "duration": 46,
    "start_time": "2022-11-14T10:33:24.279Z"
   },
   {
    "duration": 10,
    "start_time": "2022-11-14T10:33:24.808Z"
   },
   {
    "duration": 2,
    "start_time": "2022-11-14T10:35:28.545Z"
   },
   {
    "duration": 151,
    "start_time": "2022-11-14T10:35:28.858Z"
   },
   {
    "duration": 6,
    "start_time": "2022-11-14T10:35:29.089Z"
   },
   {
    "duration": 4,
    "start_time": "2022-11-14T10:35:29.658Z"
   },
   {
    "duration": 19,
    "start_time": "2022-11-14T10:35:30.336Z"
   },
   {
    "duration": 8,
    "start_time": "2022-11-14T10:35:30.721Z"
   },
   {
    "duration": 8,
    "start_time": "2022-11-14T10:35:59.021Z"
   },
   {
    "duration": 8,
    "start_time": "2022-11-14T10:35:59.421Z"
   },
   {
    "duration": 8,
    "start_time": "2022-11-14T10:36:59.358Z"
   },
   {
    "duration": 7,
    "start_time": "2022-11-14T10:36:59.645Z"
   },
   {
    "duration": 11,
    "start_time": "2022-11-14T10:39:05.857Z"
   },
   {
    "duration": 2,
    "start_time": "2022-11-14T10:39:18.824Z"
   },
   {
    "duration": 157,
    "start_time": "2022-11-14T10:39:19.172Z"
   },
   {
    "duration": 8,
    "start_time": "2022-11-14T10:39:19.342Z"
   },
   {
    "duration": 3,
    "start_time": "2022-11-14T10:39:19.687Z"
   },
   {
    "duration": 19,
    "start_time": "2022-11-14T10:39:20.031Z"
   },
   {
    "duration": 9,
    "start_time": "2022-11-14T10:39:20.391Z"
   },
   {
    "duration": 8,
    "start_time": "2022-11-14T10:39:20.759Z"
   },
   {
    "duration": 8,
    "start_time": "2022-11-14T10:40:12.143Z"
   },
   {
    "duration": 2,
    "start_time": "2022-11-14T10:40:23.120Z"
   },
   {
    "duration": 145,
    "start_time": "2022-11-14T10:40:23.385Z"
   },
   {
    "duration": 7,
    "start_time": "2022-11-14T10:40:23.568Z"
   },
   {
    "duration": 3,
    "start_time": "2022-11-14T10:40:23.991Z"
   },
   {
    "duration": 22,
    "start_time": "2022-11-14T10:40:24.764Z"
   },
   {
    "duration": 9,
    "start_time": "2022-11-14T10:40:25.060Z"
   },
   {
    "duration": 7,
    "start_time": "2022-11-14T10:40:28.918Z"
   },
   {
    "duration": 6,
    "start_time": "2022-11-14T10:44:35.121Z"
   },
   {
    "duration": 8,
    "start_time": "2022-11-14T10:44:50.282Z"
   },
   {
    "duration": 3,
    "start_time": "2022-11-14T10:45:22.302Z"
   },
   {
    "duration": 151,
    "start_time": "2022-11-14T10:45:22.599Z"
   },
   {
    "duration": 7,
    "start_time": "2022-11-14T10:45:22.765Z"
   },
   {
    "duration": 2,
    "start_time": "2022-11-14T10:45:23.086Z"
   },
   {
    "duration": 19,
    "start_time": "2022-11-14T10:45:23.726Z"
   },
   {
    "duration": 8,
    "start_time": "2022-11-14T10:45:24.094Z"
   },
   {
    "duration": 8,
    "start_time": "2022-11-14T10:45:24.575Z"
   },
   {
    "duration": 6,
    "start_time": "2022-11-14T10:45:32.376Z"
   },
   {
    "duration": 7,
    "start_time": "2022-11-14T10:45:44.009Z"
   },
   {
    "duration": 47,
    "start_time": "2022-11-14T10:46:52.035Z"
   },
   {
    "duration": 6,
    "start_time": "2022-11-14T10:46:58.276Z"
   },
   {
    "duration": 11,
    "start_time": "2022-11-14T10:47:04.588Z"
   },
   {
    "duration": 8,
    "start_time": "2022-11-14T10:47:05.387Z"
   },
   {
    "duration": 3,
    "start_time": "2022-11-14T10:47:29.486Z"
   },
   {
    "duration": 151,
    "start_time": "2022-11-14T10:47:29.646Z"
   },
   {
    "duration": 6,
    "start_time": "2022-11-14T10:47:29.810Z"
   },
   {
    "duration": 4,
    "start_time": "2022-11-14T10:47:30.152Z"
   },
   {
    "duration": 20,
    "start_time": "2022-11-14T10:47:30.508Z"
   },
   {
    "duration": 11,
    "start_time": "2022-11-14T10:47:30.766Z"
   },
   {
    "duration": 7,
    "start_time": "2022-11-14T10:47:31.088Z"
   },
   {
    "duration": 19,
    "start_time": "2022-11-14T10:47:54.394Z"
   },
   {
    "duration": 10,
    "start_time": "2022-11-14T10:48:53.264Z"
   },
   {
    "duration": 7,
    "start_time": "2022-11-14T10:48:57.427Z"
   },
   {
    "duration": 11,
    "start_time": "2022-11-14T11:07:40.343Z"
   },
   {
    "duration": 8,
    "start_time": "2022-11-14T11:07:40.621Z"
   },
   {
    "duration": 18,
    "start_time": "2022-11-14T11:07:44.471Z"
   },
   {
    "duration": 58,
    "start_time": "2022-11-14T11:08:58.120Z"
   },
   {
    "duration": 73,
    "start_time": "2022-11-14T11:17:15.083Z"
   },
   {
    "duration": 51,
    "start_time": "2022-11-14T11:17:18.412Z"
   },
   {
    "duration": 10,
    "start_time": "2022-11-14T11:17:26.436Z"
   },
   {
    "duration": 61,
    "start_time": "2022-11-14T11:17:38.837Z"
   },
   {
    "duration": 66,
    "start_time": "2022-11-14T11:17:39.262Z"
   },
   {
    "duration": 13,
    "start_time": "2022-11-14T11:17:39.934Z"
   },
   {
    "duration": 77,
    "start_time": "2022-11-14T11:17:43.719Z"
   },
   {
    "duration": 72,
    "start_time": "2022-11-14T11:17:44.038Z"
   },
   {
    "duration": 12,
    "start_time": "2022-11-14T11:17:44.519Z"
   },
   {
    "duration": 63,
    "start_time": "2022-11-14T11:17:48.086Z"
   },
   {
    "duration": 75,
    "start_time": "2022-11-14T11:17:48.290Z"
   },
   {
    "duration": 66,
    "start_time": "2022-11-14T11:17:48.479Z"
   },
   {
    "duration": 13,
    "start_time": "2022-11-14T11:17:48.814Z"
   },
   {
    "duration": 64,
    "start_time": "2022-11-14T11:17:57.577Z"
   },
   {
    "duration": 393,
    "start_time": "2022-11-14T11:18:07.757Z"
   },
   {
    "duration": 156,
    "start_time": "2022-11-14T11:18:08.152Z"
   },
   {
    "duration": 14,
    "start_time": "2022-11-14T11:18:08.309Z"
   },
   {
    "duration": 10,
    "start_time": "2022-11-14T11:18:08.325Z"
   },
   {
    "duration": 28,
    "start_time": "2022-11-14T11:18:08.337Z"
   },
   {
    "duration": 12,
    "start_time": "2022-11-14T11:18:08.367Z"
   },
   {
    "duration": 6,
    "start_time": "2022-11-14T11:18:08.381Z"
   },
   {
    "duration": 20,
    "start_time": "2022-11-14T11:18:08.389Z"
   },
   {
    "duration": 90,
    "start_time": "2022-11-14T11:18:08.410Z"
   },
   {
    "duration": 73,
    "start_time": "2022-11-14T11:18:08.503Z"
   },
   {
    "duration": 58,
    "start_time": "2022-11-14T11:18:08.578Z"
   },
   {
    "duration": 3,
    "start_time": "2022-11-14T11:18:15.463Z"
   },
   {
    "duration": 159,
    "start_time": "2022-11-14T11:18:15.825Z"
   },
   {
    "duration": 8,
    "start_time": "2022-11-14T11:18:16.016Z"
   },
   {
    "duration": 3,
    "start_time": "2022-11-14T11:18:16.317Z"
   },
   {
    "duration": 20,
    "start_time": "2022-11-14T11:18:16.645Z"
   },
   {
    "duration": 7,
    "start_time": "2022-11-14T11:18:17.013Z"
   },
   {
    "duration": 7,
    "start_time": "2022-11-14T11:18:17.282Z"
   },
   {
    "duration": 21,
    "start_time": "2022-11-14T11:18:17.514Z"
   },
   {
    "duration": 55,
    "start_time": "2022-11-14T11:18:17.945Z"
   },
   {
    "duration": 59,
    "start_time": "2022-11-14T11:18:18.859Z"
   },
   {
    "duration": 51,
    "start_time": "2022-11-14T11:18:19.307Z"
   },
   {
    "duration": 49,
    "start_time": "2022-11-14T11:18:58.880Z"
   },
   {
    "duration": 48,
    "start_time": "2022-11-14T11:19:02.712Z"
   },
   {
    "duration": 18,
    "start_time": "2022-11-14T11:19:04.523Z"
   },
   {
    "duration": 51,
    "start_time": "2022-11-14T11:19:05.219Z"
   },
   {
    "duration": 60,
    "start_time": "2022-11-14T11:19:05.669Z"
   },
   {
    "duration": 49,
    "start_time": "2022-11-14T11:19:06.125Z"
   },
   {
    "duration": 20,
    "start_time": "2022-11-14T11:19:14.459Z"
   },
   {
    "duration": 51,
    "start_time": "2022-11-14T11:19:54.559Z"
   },
   {
    "duration": 59,
    "start_time": "2022-11-14T11:19:54.977Z"
   },
   {
    "duration": 50,
    "start_time": "2022-11-14T11:19:55.421Z"
   },
   {
    "duration": 19,
    "start_time": "2022-11-14T11:19:55.815Z"
   },
   {
    "duration": 8,
    "start_time": "2022-11-14T11:19:59.119Z"
   },
   {
    "duration": 18,
    "start_time": "2022-11-14T11:19:59.707Z"
   },
   {
    "duration": 51,
    "start_time": "2022-11-14T11:20:00.625Z"
   },
   {
    "duration": 64,
    "start_time": "2022-11-14T11:20:01.064Z"
   },
   {
    "duration": 53,
    "start_time": "2022-11-14T11:20:01.471Z"
   },
   {
    "duration": 21,
    "start_time": "2022-11-14T11:20:01.958Z"
   },
   {
    "duration": 417,
    "start_time": "2022-11-14T11:20:25.326Z"
   },
   {
    "duration": 160,
    "start_time": "2022-11-14T11:20:25.745Z"
   },
   {
    "duration": 14,
    "start_time": "2022-11-14T11:20:25.907Z"
   },
   {
    "duration": 4,
    "start_time": "2022-11-14T11:20:25.924Z"
   },
   {
    "duration": 36,
    "start_time": "2022-11-14T11:20:25.930Z"
   },
   {
    "duration": 12,
    "start_time": "2022-11-14T11:20:25.968Z"
   },
   {
    "duration": 7,
    "start_time": "2022-11-14T11:20:25.982Z"
   },
   {
    "duration": 22,
    "start_time": "2022-11-14T11:20:25.991Z"
   },
   {
    "duration": 85,
    "start_time": "2022-11-14T11:20:26.015Z"
   },
   {
    "duration": 83,
    "start_time": "2022-11-14T11:20:26.103Z"
   },
   {
    "duration": 52,
    "start_time": "2022-11-14T11:20:26.188Z"
   },
   {
    "duration": 31,
    "start_time": "2022-11-14T11:20:26.241Z"
   },
   {
    "duration": 3,
    "start_time": "2022-11-14T11:21:54.384Z"
   },
   {
    "duration": 20,
    "start_time": "2022-11-14T11:21:55.214Z"
   },
   {
    "duration": 42,
    "start_time": "2022-11-14T11:21:57.962Z"
   },
   {
    "duration": 9,
    "start_time": "2022-11-14T11:21:58.987Z"
   },
   {
    "duration": 10,
    "start_time": "2022-11-14T11:22:43.782Z"
   },
   {
    "duration": 9,
    "start_time": "2022-11-14T11:22:44.500Z"
   },
   {
    "duration": 10,
    "start_time": "2022-11-14T11:22:46.527Z"
   },
   {
    "duration": 9,
    "start_time": "2022-11-14T11:22:57.872Z"
   },
   {
    "duration": 11,
    "start_time": "2022-11-14T11:23:00.002Z"
   },
   {
    "duration": 11,
    "start_time": "2022-11-14T11:23:00.661Z"
   },
   {
    "duration": 9,
    "start_time": "2022-11-14T11:23:01.090Z"
   },
   {
    "duration": 102,
    "start_time": "2022-11-14T11:23:29.123Z"
   },
   {
    "duration": 12,
    "start_time": "2022-11-14T11:23:35.602Z"
   },
   {
    "duration": 8,
    "start_time": "2022-11-14T11:23:36.267Z"
   },
   {
    "duration": 20,
    "start_time": "2022-11-14T11:23:37.518Z"
   },
   {
    "duration": 377,
    "start_time": "2022-11-14T11:23:45.185Z"
   },
   {
    "duration": 154,
    "start_time": "2022-11-14T11:23:45.563Z"
   },
   {
    "duration": 12,
    "start_time": "2022-11-14T11:23:45.719Z"
   },
   {
    "duration": 3,
    "start_time": "2022-11-14T11:23:45.733Z"
   },
   {
    "duration": 28,
    "start_time": "2022-11-14T11:23:45.738Z"
   },
   {
    "duration": 12,
    "start_time": "2022-11-14T11:23:45.768Z"
   },
   {
    "duration": 42,
    "start_time": "2022-11-14T11:23:45.782Z"
   },
   {
    "duration": 11,
    "start_time": "2022-11-14T11:23:45.825Z"
   },
   {
    "duration": 38,
    "start_time": "2022-11-14T11:23:45.837Z"
   },
   {
    "duration": 84,
    "start_time": "2022-11-14T11:23:45.877Z"
   },
   {
    "duration": 103,
    "start_time": "2022-11-14T11:23:45.963Z"
   },
   {
    "duration": 61,
    "start_time": "2022-11-14T11:23:46.067Z"
   },
   {
    "duration": 59,
    "start_time": "2022-11-14T11:28:27.942Z"
   },
   {
    "duration": 64,
    "start_time": "2022-11-14T11:29:20.499Z"
   },
   {
    "duration": 9,
    "start_time": "2022-11-14T11:29:21.042Z"
   },
   {
    "duration": 9,
    "start_time": "2022-11-14T11:29:29.548Z"
   },
   {
    "duration": 31,
    "start_time": "2022-11-14T11:29:30.179Z"
   },
   {
    "duration": 48,
    "start_time": "2022-11-14T11:32:16.660Z"
   },
   {
    "duration": 42,
    "start_time": "2022-11-14T11:33:40.528Z"
   },
   {
    "duration": 16,
    "start_time": "2022-11-14T11:34:32.292Z"
   },
   {
    "duration": 20,
    "start_time": "2022-11-14T11:34:39.659Z"
   },
   {
    "duration": 18,
    "start_time": "2022-11-14T11:34:44.373Z"
   },
   {
    "duration": 18,
    "start_time": "2022-11-14T11:34:51.471Z"
   },
   {
    "duration": 75,
    "start_time": "2022-11-14T11:35:24.829Z"
   },
   {
    "duration": 17,
    "start_time": "2022-11-14T11:35:58.944Z"
   },
   {
    "duration": 5,
    "start_time": "2022-11-14T11:36:52.095Z"
   },
   {
    "duration": 16,
    "start_time": "2022-11-14T11:37:15.337Z"
   },
   {
    "duration": 6,
    "start_time": "2022-11-14T11:37:16.069Z"
   },
   {
    "duration": 9,
    "start_time": "2022-11-14T11:37:53.031Z"
   },
   {
    "duration": 10,
    "start_time": "2022-11-14T11:38:01.465Z"
   },
   {
    "duration": 10,
    "start_time": "2022-11-14T11:38:11.794Z"
   },
   {
    "duration": 30,
    "start_time": "2022-11-14T11:38:27.892Z"
   },
   {
    "duration": 13,
    "start_time": "2022-11-14T11:39:17.960Z"
   },
   {
    "duration": 7,
    "start_time": "2022-11-14T11:39:51.815Z"
   },
   {
    "duration": 11,
    "start_time": "2022-11-14T11:39:58.448Z"
   },
   {
    "duration": 830,
    "start_time": "2022-11-14T11:40:27.383Z"
   },
   {
    "duration": 21,
    "start_time": "2022-11-14T11:41:54.551Z"
   },
   {
    "duration": 9,
    "start_time": "2022-11-14T11:41:58.128Z"
   },
   {
    "duration": 15,
    "start_time": "2022-11-14T11:42:17.505Z"
   },
   {
    "duration": 30,
    "start_time": "2022-11-14T11:42:22.884Z"
   },
   {
    "duration": 12,
    "start_time": "2022-11-14T11:42:24.867Z"
   },
   {
    "duration": 678,
    "start_time": "2022-11-14T11:42:35.102Z"
   },
   {
    "duration": 7,
    "start_time": "2022-11-14T11:42:46.910Z"
   },
   {
    "duration": 62,
    "start_time": "2022-11-14T11:43:35.964Z"
   },
   {
    "duration": 9,
    "start_time": "2022-11-14T11:43:51.111Z"
   },
   {
    "duration": 7,
    "start_time": "2022-11-14T11:44:01.776Z"
   },
   {
    "duration": 7,
    "start_time": "2022-11-14T11:44:14.953Z"
   },
   {
    "duration": 5,
    "start_time": "2022-11-14T12:15:46.916Z"
   },
   {
    "duration": 5,
    "start_time": "2022-11-14T12:15:55.122Z"
   },
   {
    "duration": 5,
    "start_time": "2022-11-14T12:16:01.852Z"
   },
   {
    "duration": 5,
    "start_time": "2022-11-14T12:16:02.637Z"
   },
   {
    "duration": 582,
    "start_time": "2022-11-14T12:18:13.620Z"
   },
   {
    "duration": 201,
    "start_time": "2022-11-14T12:18:40.632Z"
   },
   {
    "duration": 229,
    "start_time": "2022-11-14T12:18:50.009Z"
   },
   {
    "duration": 200,
    "start_time": "2022-11-14T12:19:22.957Z"
   },
   {
    "duration": 202,
    "start_time": "2022-11-14T12:19:43.648Z"
   },
   {
    "duration": 314,
    "start_time": "2022-11-14T12:19:52.561Z"
   },
   {
    "duration": 209,
    "start_time": "2022-11-14T12:19:59.410Z"
   },
   {
    "duration": 187,
    "start_time": "2022-11-14T12:24:45.416Z"
   },
   {
    "duration": 47,
    "start_time": "2022-11-14T12:26:40.265Z"
   },
   {
    "duration": 5,
    "start_time": "2022-11-14T12:26:57.537Z"
   },
   {
    "duration": 16,
    "start_time": "2022-11-14T12:39:00.762Z"
   },
   {
    "duration": 2,
    "start_time": "2022-11-14T12:39:27.663Z"
   },
   {
    "duration": 243,
    "start_time": "2022-11-14T12:39:35.023Z"
   },
   {
    "duration": 218,
    "start_time": "2022-11-14T12:39:47.704Z"
   },
   {
    "duration": 195,
    "start_time": "2022-11-14T12:40:44.991Z"
   },
   {
    "duration": 177,
    "start_time": "2022-11-14T12:40:57.225Z"
   },
   {
    "duration": 291,
    "start_time": "2022-11-14T12:43:04.211Z"
   },
   {
    "duration": 8,
    "start_time": "2022-11-14T12:44:57.448Z"
   },
   {
    "duration": 198,
    "start_time": "2022-11-14T12:45:01.160Z"
   },
   {
    "duration": 224,
    "start_time": "2022-11-14T12:45:15.115Z"
   },
   {
    "duration": 331,
    "start_time": "2022-11-14T12:45:28.438Z"
   },
   {
    "duration": 213,
    "start_time": "2022-11-14T12:45:41.702Z"
   },
   {
    "duration": 197,
    "start_time": "2022-11-14T12:46:57.384Z"
   },
   {
    "duration": 319,
    "start_time": "2022-11-14T12:47:05.994Z"
   },
   {
    "duration": 5,
    "start_time": "2022-11-14T12:53:56.331Z"
   },
   {
    "duration": 7,
    "start_time": "2022-11-14T12:57:49.102Z"
   },
   {
    "duration": 6,
    "start_time": "2022-11-14T12:57:53.646Z"
   },
   {
    "duration": 59,
    "start_time": "2022-11-14T13:05:53.094Z"
   },
   {
    "duration": 0,
    "start_time": "2022-11-14T13:06:35.409Z"
   },
   {
    "duration": 0,
    "start_time": "2022-11-14T13:06:35.410Z"
   },
   {
    "duration": 313,
    "start_time": "2022-11-14T13:06:50.269Z"
   },
   {
    "duration": 8,
    "start_time": "2022-11-14T13:06:50.774Z"
   },
   {
    "duration": 33,
    "start_time": "2022-11-14T13:07:00.479Z"
   },
   {
    "duration": 33,
    "start_time": "2022-11-14T13:07:12.425Z"
   },
   {
    "duration": 658,
    "start_time": "2022-11-14T13:07:30.459Z"
   },
   {
    "duration": 6,
    "start_time": "2022-11-14T13:07:35.378Z"
   },
   {
    "duration": 28,
    "start_time": "2022-11-14T13:07:51.719Z"
   },
   {
    "duration": 35,
    "start_time": "2022-11-14T13:08:01.383Z"
   },
   {
    "duration": 4,
    "start_time": "2022-11-14T13:08:42.613Z"
   },
   {
    "duration": 3,
    "start_time": "2022-11-14T13:08:46.373Z"
   },
   {
    "duration": 238,
    "start_time": "2022-11-14T13:09:01.015Z"
   },
   {
    "duration": 215,
    "start_time": "2022-11-14T13:09:42.447Z"
   },
   {
    "duration": 261,
    "start_time": "2022-11-14T13:09:48.590Z"
   },
   {
    "duration": 292,
    "start_time": "2022-11-14T13:11:02.103Z"
   },
   {
    "duration": 3,
    "start_time": "2022-11-14T13:12:09.450Z"
   },
   {
    "duration": 36,
    "start_time": "2022-11-14T13:12:12.736Z"
   },
   {
    "duration": 8,
    "start_time": "2022-11-14T13:12:14.288Z"
   },
   {
    "duration": 14,
    "start_time": "2022-11-14T13:12:17.970Z"
   },
   {
    "duration": 24,
    "start_time": "2022-11-14T13:12:44.244Z"
   },
   {
    "duration": 12,
    "start_time": "2022-11-14T13:12:45.227Z"
   },
   {
    "duration": 138,
    "start_time": "2022-11-14T13:13:18.786Z"
   },
   {
    "duration": 137,
    "start_time": "2022-11-14T13:13:24.186Z"
   },
   {
    "duration": 23,
    "start_time": "2022-11-14T13:16:59.478Z"
   },
   {
    "duration": 137,
    "start_time": "2022-11-14T13:16:59.910Z"
   },
   {
    "duration": 27,
    "start_time": "2022-11-14T13:17:13.968Z"
   },
   {
    "duration": 132,
    "start_time": "2022-11-14T13:17:14.351Z"
   },
   {
    "duration": 47,
    "start_time": "2022-11-14T13:17:48.149Z"
   },
   {
    "duration": 155,
    "start_time": "2022-11-14T13:17:54.740Z"
   },
   {
    "duration": 122,
    "start_time": "2022-11-14T13:18:07.199Z"
   },
   {
    "duration": 4,
    "start_time": "2022-11-14T13:18:23.536Z"
   },
   {
    "duration": 7,
    "start_time": "2022-11-14T13:19:24.641Z"
   },
   {
    "duration": 13,
    "start_time": "2022-11-14T13:19:30.345Z"
   },
   {
    "duration": 20,
    "start_time": "2022-11-14T13:19:48.901Z"
   },
   {
    "duration": 12,
    "start_time": "2022-11-14T13:19:55.885Z"
   },
   {
    "duration": 12,
    "start_time": "2022-11-14T13:19:57.749Z"
   },
   {
    "duration": 21,
    "start_time": "2022-11-14T13:20:02.775Z"
   },
   {
    "duration": 5,
    "start_time": "2022-11-14T13:20:12.184Z"
   },
   {
    "duration": 10,
    "start_time": "2022-11-14T13:21:00.286Z"
   },
   {
    "duration": 9,
    "start_time": "2022-11-14T13:21:18.072Z"
   },
   {
    "duration": 21,
    "start_time": "2022-11-14T13:22:55.238Z"
   },
   {
    "duration": 9,
    "start_time": "2022-11-14T13:23:11.031Z"
   },
   {
    "duration": 8,
    "start_time": "2022-11-14T13:23:25.153Z"
   },
   {
    "duration": 19,
    "start_time": "2022-11-14T13:23:51.212Z"
   },
   {
    "duration": 131,
    "start_time": "2022-11-14T13:25:04.326Z"
   },
   {
    "duration": 9,
    "start_time": "2022-11-14T13:25:48.436Z"
   },
   {
    "duration": 7,
    "start_time": "2022-11-14T13:26:28.927Z"
   },
   {
    "duration": 4,
    "start_time": "2022-11-14T13:26:43.893Z"
   },
   {
    "duration": 9,
    "start_time": "2022-11-14T13:26:47.051Z"
   },
   {
    "duration": 9,
    "start_time": "2022-11-14T13:26:54.333Z"
   },
   {
    "duration": 7,
    "start_time": "2022-11-14T13:26:58.708Z"
   },
   {
    "duration": 7,
    "start_time": "2022-11-14T13:27:18.855Z"
   },
   {
    "duration": 11,
    "start_time": "2022-11-14T13:28:53.172Z"
   },
   {
    "duration": 14,
    "start_time": "2022-11-14T13:28:59.541Z"
   },
   {
    "duration": 31,
    "start_time": "2022-11-14T13:32:32.368Z"
   },
   {
    "duration": 39,
    "start_time": "2022-11-14T13:33:06.383Z"
   },
   {
    "duration": 59,
    "start_time": "2022-11-14T13:33:52.082Z"
   },
   {
    "duration": 31,
    "start_time": "2022-11-14T13:34:22.031Z"
   },
   {
    "duration": 32,
    "start_time": "2022-11-14T13:34:22.759Z"
   },
   {
    "duration": 45,
    "start_time": "2022-11-14T13:36:00.852Z"
   },
   {
    "duration": 53,
    "start_time": "2022-11-14T13:36:41.434Z"
   },
   {
    "duration": 34,
    "start_time": "2022-11-14T13:39:39.832Z"
   },
   {
    "duration": 28,
    "start_time": "2022-11-14T13:39:39.868Z"
   },
   {
    "duration": 7,
    "start_time": "2022-11-14T13:39:39.897Z"
   },
   {
    "duration": 38,
    "start_time": "2022-11-14T13:39:39.906Z"
   },
   {
    "duration": 10,
    "start_time": "2022-11-14T13:43:24.673Z"
   },
   {
    "duration": 7,
    "start_time": "2022-11-14T13:43:27.837Z"
   },
   {
    "duration": 7,
    "start_time": "2022-11-14T13:43:35.633Z"
   },
   {
    "duration": 18,
    "start_time": "2022-11-14T13:49:54.158Z"
   },
   {
    "duration": 17,
    "start_time": "2022-11-14T13:50:15.580Z"
   },
   {
    "duration": 4,
    "start_time": "2022-11-14T13:50:18.181Z"
   },
   {
    "duration": 17,
    "start_time": "2022-11-14T13:50:25.382Z"
   },
   {
    "duration": 4,
    "start_time": "2022-11-14T13:50:26.758Z"
   },
   {
    "duration": 17,
    "start_time": "2022-11-14T13:51:07.437Z"
   },
   {
    "duration": 30,
    "start_time": "2022-11-14T13:52:34.400Z"
   },
   {
    "duration": 18,
    "start_time": "2022-11-14T13:52:44.858Z"
   },
   {
    "duration": 21,
    "start_time": "2022-11-14T13:53:42.058Z"
   },
   {
    "duration": 20,
    "start_time": "2022-11-14T13:54:04.739Z"
   },
   {
    "duration": 5,
    "start_time": "2022-11-14T13:54:17.517Z"
   },
   {
    "duration": 4,
    "start_time": "2022-11-14T13:54:25.335Z"
   },
   {
    "duration": 11,
    "start_time": "2022-11-14T13:59:08.452Z"
   },
   {
    "duration": 11,
    "start_time": "2022-11-14T14:02:54.168Z"
   },
   {
    "duration": 14,
    "start_time": "2022-11-14T14:51:22.646Z"
   },
   {
    "duration": 33,
    "start_time": "2022-11-14T14:51:25.009Z"
   },
   {
    "duration": 6,
    "start_time": "2022-11-14T14:51:28.322Z"
   },
   {
    "duration": 23,
    "start_time": "2022-11-14T15:00:17.506Z"
   },
   {
    "duration": 6,
    "start_time": "2022-11-14T15:00:17.980Z"
   },
   {
    "duration": 10,
    "start_time": "2022-11-14T15:01:33.843Z"
   },
   {
    "duration": 6,
    "start_time": "2022-11-14T15:01:35.987Z"
   },
   {
    "duration": 9,
    "start_time": "2022-11-14T15:01:41.053Z"
   },
   {
    "duration": 6,
    "start_time": "2022-11-14T15:01:47.053Z"
   },
   {
    "duration": 8,
    "start_time": "2022-11-14T15:01:59.166Z"
   },
   {
    "duration": 7,
    "start_time": "2022-11-14T15:02:01.737Z"
   },
   {
    "duration": 8,
    "start_time": "2022-11-14T15:02:05.623Z"
   },
   {
    "duration": 7,
    "start_time": "2022-11-14T15:02:06.943Z"
   },
   {
    "duration": 7,
    "start_time": "2022-11-14T15:02:29.003Z"
   },
   {
    "duration": 6,
    "start_time": "2022-11-14T15:02:30.059Z"
   },
   {
    "duration": 8,
    "start_time": "2022-11-14T15:02:40.044Z"
   },
   {
    "duration": 6,
    "start_time": "2022-11-14T15:02:41.103Z"
   },
   {
    "duration": 8,
    "start_time": "2022-11-14T15:04:04.823Z"
   },
   {
    "duration": 8,
    "start_time": "2022-11-14T15:04:09.992Z"
   },
   {
    "duration": 50,
    "start_time": "2022-11-14T15:05:02.878Z"
   },
   {
    "duration": 6,
    "start_time": "2022-11-14T15:05:03.351Z"
   },
   {
    "duration": 10,
    "start_time": "2022-11-14T15:05:05.440Z"
   },
   {
    "duration": 7,
    "start_time": "2022-11-14T15:05:05.808Z"
   },
   {
    "duration": 7,
    "start_time": "2022-11-14T15:05:06.192Z"
   },
   {
    "duration": 50,
    "start_time": "2022-11-14T15:05:25.737Z"
   },
   {
    "duration": 6,
    "start_time": "2022-11-14T15:05:25.943Z"
   },
   {
    "duration": 12,
    "start_time": "2022-11-14T15:05:27.014Z"
   },
   {
    "duration": 7,
    "start_time": "2022-11-14T15:05:27.585Z"
   },
   {
    "duration": 6,
    "start_time": "2022-11-14T15:05:32.996Z"
   },
   {
    "duration": 8,
    "start_time": "2022-11-14T15:05:34.212Z"
   },
   {
    "duration": 67,
    "start_time": "2022-11-15T08:06:34.044Z"
   },
   {
    "duration": 903,
    "start_time": "2022-11-15T08:06:43.334Z"
   },
   {
    "duration": 742,
    "start_time": "2022-11-15T08:06:44.241Z"
   },
   {
    "duration": 11,
    "start_time": "2022-11-15T08:06:44.985Z"
   },
   {
    "duration": 9,
    "start_time": "2022-11-15T08:06:44.998Z"
   },
   {
    "duration": 54,
    "start_time": "2022-11-15T08:06:45.009Z"
   },
   {
    "duration": 14,
    "start_time": "2022-11-15T08:06:45.065Z"
   },
   {
    "duration": 80,
    "start_time": "2022-11-15T08:06:45.081Z"
   },
   {
    "duration": 16,
    "start_time": "2022-11-15T08:06:45.163Z"
   },
   {
    "duration": 41,
    "start_time": "2022-11-15T08:06:45.181Z"
   },
   {
    "duration": 100,
    "start_time": "2022-11-15T08:06:45.225Z"
   },
   {
    "duration": 124,
    "start_time": "2022-11-15T08:06:45.326Z"
   },
   {
    "duration": 75,
    "start_time": "2022-11-15T08:06:45.452Z"
   },
   {
    "duration": 19,
    "start_time": "2022-11-15T08:06:45.529Z"
   },
   {
    "duration": 29,
    "start_time": "2022-11-15T08:06:45.550Z"
   },
   {
    "duration": 38,
    "start_time": "2022-11-15T08:06:45.581Z"
   },
   {
    "duration": 9,
    "start_time": "2022-11-15T08:06:45.621Z"
   },
   {
    "duration": 8,
    "start_time": "2022-11-15T08:06:45.633Z"
   },
   {
    "duration": 38,
    "start_time": "2022-11-15T08:06:45.643Z"
   },
   {
    "duration": 337,
    "start_time": "2022-11-15T08:06:45.684Z"
   },
   {
    "duration": 8,
    "start_time": "2022-11-15T08:06:46.024Z"
   },
   {
    "duration": 48,
    "start_time": "2022-11-15T08:06:46.034Z"
   },
   {
    "duration": 169,
    "start_time": "2022-11-15T08:06:46.084Z"
   },
   {
    "duration": 37,
    "start_time": "2022-11-15T08:06:46.255Z"
   },
   {
    "duration": 12,
    "start_time": "2022-11-15T08:06:46.295Z"
   },
   {
    "duration": 48,
    "start_time": "2022-11-15T08:06:46.309Z"
   },
   {
    "duration": 34,
    "start_time": "2022-11-15T08:06:46.378Z"
   },
   {
    "duration": 67,
    "start_time": "2022-11-15T08:06:46.414Z"
   },
   {
    "duration": 9,
    "start_time": "2022-11-15T08:06:46.484Z"
   },
   {
    "duration": 18,
    "start_time": "2022-11-15T08:06:46.495Z"
   },
   {
    "duration": 8,
    "start_time": "2022-11-15T08:06:46.515Z"
   },
   {
    "duration": 9,
    "start_time": "2022-11-15T08:06:46.526Z"
   },
   {
    "duration": 9,
    "start_time": "2022-11-15T08:06:51.844Z"
   },
   {
    "duration": 5,
    "start_time": "2022-11-15T08:09:02.878Z"
   },
   {
    "duration": 9,
    "start_time": "2022-11-15T08:09:04.429Z"
   },
   {
    "duration": 4,
    "start_time": "2022-11-15T08:09:22.922Z"
   },
   {
    "duration": 7,
    "start_time": "2022-11-15T08:09:24.265Z"
   },
   {
    "duration": 4,
    "start_time": "2022-11-15T08:09:30.028Z"
   },
   {
    "duration": 9,
    "start_time": "2022-11-15T08:09:31.555Z"
   },
   {
    "duration": 3,
    "start_time": "2022-11-15T08:09:39.738Z"
   },
   {
    "duration": 8,
    "start_time": "2022-11-15T08:09:40.643Z"
   },
   {
    "duration": 3,
    "start_time": "2022-11-15T08:11:37.138Z"
   },
   {
    "duration": 6,
    "start_time": "2022-11-15T08:11:38.485Z"
   },
   {
    "duration": 7,
    "start_time": "2022-11-15T08:11:47.018Z"
   },
   {
    "duration": 7,
    "start_time": "2022-11-15T08:14:50.123Z"
   },
   {
    "duration": 7,
    "start_time": "2022-11-15T08:14:54.147Z"
   },
   {
    "duration": 3,
    "start_time": "2022-11-15T08:14:55.940Z"
   },
   {
    "duration": 8,
    "start_time": "2022-11-15T08:14:56.364Z"
   },
   {
    "duration": 5,
    "start_time": "2022-11-15T08:15:58.948Z"
   },
   {
    "duration": 6,
    "start_time": "2022-11-15T08:16:01.097Z"
   },
   {
    "duration": 5,
    "start_time": "2022-11-15T08:21:16.248Z"
   },
   {
    "duration": 8,
    "start_time": "2022-11-15T08:21:16.735Z"
   },
   {
    "duration": 9,
    "start_time": "2022-11-15T08:21:31.393Z"
   },
   {
    "duration": 11,
    "start_time": "2022-11-15T08:21:31.794Z"
   },
   {
    "duration": 5,
    "start_time": "2022-11-15T08:31:14.286Z"
   },
   {
    "duration": 2,
    "start_time": "2022-11-15T08:31:24.887Z"
   },
   {
    "duration": 4,
    "start_time": "2022-11-15T08:31:25.950Z"
   },
   {
    "duration": 100,
    "start_time": "2022-11-15T08:31:59.363Z"
   },
   {
    "duration": 3,
    "start_time": "2022-11-15T08:32:02.650Z"
   },
   {
    "duration": 6,
    "start_time": "2022-11-15T08:32:06.514Z"
   },
   {
    "duration": 4,
    "start_time": "2022-11-15T08:32:19.405Z"
   },
   {
    "duration": 5,
    "start_time": "2022-11-15T08:32:21.130Z"
   },
   {
    "duration": 4,
    "start_time": "2022-11-15T08:32:29.757Z"
   },
   {
    "duration": 5,
    "start_time": "2022-11-15T08:32:30.494Z"
   },
   {
    "duration": 5,
    "start_time": "2022-11-15T08:43:08.466Z"
   },
   {
    "duration": 11,
    "start_time": "2022-11-15T08:43:12.723Z"
   },
   {
    "duration": 4,
    "start_time": "2022-11-15T08:43:27.532Z"
   },
   {
    "duration": 9,
    "start_time": "2022-11-15T08:43:27.909Z"
   },
   {
    "duration": 4,
    "start_time": "2022-11-15T08:43:43.192Z"
   },
   {
    "duration": 9,
    "start_time": "2022-11-15T08:43:43.567Z"
   },
   {
    "duration": 5,
    "start_time": "2022-11-15T08:45:41.887Z"
   },
   {
    "duration": 6,
    "start_time": "2022-11-15T08:45:56.761Z"
   },
   {
    "duration": 8,
    "start_time": "2022-11-15T08:45:57.076Z"
   },
   {
    "duration": 8,
    "start_time": "2022-11-15T08:46:10.107Z"
   },
   {
    "duration": 4,
    "start_time": "2022-11-15T08:46:34.599Z"
   },
   {
    "duration": 6,
    "start_time": "2022-11-15T08:46:35.469Z"
   },
   {
    "duration": 4,
    "start_time": "2022-11-15T08:46:53.784Z"
   },
   {
    "duration": 7,
    "start_time": "2022-11-15T08:46:54.105Z"
   },
   {
    "duration": 9,
    "start_time": "2022-11-15T08:50:32.414Z"
   },
   {
    "duration": 5,
    "start_time": "2022-11-15T08:50:35.268Z"
   },
   {
    "duration": 3,
    "start_time": "2022-11-15T08:50:47.471Z"
   },
   {
    "duration": 5,
    "start_time": "2022-11-15T08:50:48.191Z"
   },
   {
    "duration": 10,
    "start_time": "2022-11-15T08:50:52.887Z"
   },
   {
    "duration": 5,
    "start_time": "2022-11-15T08:51:58.751Z"
   },
   {
    "duration": 6,
    "start_time": "2022-11-15T08:51:59.832Z"
   },
   {
    "duration": 70,
    "start_time": "2022-11-15T08:53:08.809Z"
   },
   {
    "duration": 43,
    "start_time": "2022-11-15T08:53:28.172Z"
   },
   {
    "duration": 9,
    "start_time": "2022-11-15T08:53:33.404Z"
   },
   {
    "duration": 5,
    "start_time": "2022-11-15T08:53:33.909Z"
   },
   {
    "duration": 4,
    "start_time": "2022-11-15T08:53:40.848Z"
   },
   {
    "duration": 8,
    "start_time": "2022-11-15T08:53:41.184Z"
   },
   {
    "duration": 6,
    "start_time": "2022-11-15T08:53:41.376Z"
   },
   {
    "duration": 8,
    "start_time": "2022-11-15T08:53:41.680Z"
   },
   {
    "duration": 738,
    "start_time": "2022-11-15T08:54:04.790Z"
   },
   {
    "duration": 167,
    "start_time": "2022-11-15T08:54:05.530Z"
   },
   {
    "duration": 12,
    "start_time": "2022-11-15T08:54:05.701Z"
   },
   {
    "duration": 3,
    "start_time": "2022-11-15T08:54:05.715Z"
   },
   {
    "duration": 27,
    "start_time": "2022-11-15T08:54:05.720Z"
   },
   {
    "duration": 40,
    "start_time": "2022-11-15T08:54:05.748Z"
   },
   {
    "duration": 88,
    "start_time": "2022-11-15T08:54:05.790Z"
   },
   {
    "duration": 13,
    "start_time": "2022-11-15T08:54:05.880Z"
   },
   {
    "duration": 33,
    "start_time": "2022-11-15T08:54:05.896Z"
   },
   {
    "duration": 122,
    "start_time": "2022-11-15T08:54:05.930Z"
   },
   {
    "duration": 137,
    "start_time": "2022-11-15T08:54:06.054Z"
   },
   {
    "duration": 85,
    "start_time": "2022-11-15T08:54:06.193Z"
   },
   {
    "duration": 22,
    "start_time": "2022-11-15T08:54:06.281Z"
   },
   {
    "duration": 6,
    "start_time": "2022-11-15T08:54:06.304Z"
   },
   {
    "duration": 21,
    "start_time": "2022-11-15T08:54:06.312Z"
   },
   {
    "duration": 7,
    "start_time": "2022-11-15T08:54:06.335Z"
   },
   {
    "duration": 36,
    "start_time": "2022-11-15T08:54:06.343Z"
   },
   {
    "duration": 5,
    "start_time": "2022-11-15T08:54:06.380Z"
   },
   {
    "duration": 334,
    "start_time": "2022-11-15T08:54:06.387Z"
   },
   {
    "duration": 7,
    "start_time": "2022-11-15T08:54:06.723Z"
   },
   {
    "duration": 28,
    "start_time": "2022-11-15T08:54:06.732Z"
   },
   {
    "duration": 152,
    "start_time": "2022-11-15T08:54:06.777Z"
   },
   {
    "duration": 25,
    "start_time": "2022-11-15T08:54:06.930Z"
   },
   {
    "duration": 28,
    "start_time": "2022-11-15T08:54:06.957Z"
   },
   {
    "duration": 41,
    "start_time": "2022-11-15T08:54:06.986Z"
   },
   {
    "duration": 57,
    "start_time": "2022-11-15T08:54:07.029Z"
   },
   {
    "duration": 56,
    "start_time": "2022-11-15T08:54:07.088Z"
   },
   {
    "duration": 7,
    "start_time": "2022-11-15T08:54:07.145Z"
   },
   {
    "duration": 24,
    "start_time": "2022-11-15T08:54:07.154Z"
   },
   {
    "duration": 8,
    "start_time": "2022-11-15T08:54:07.180Z"
   },
   {
    "duration": 6,
    "start_time": "2022-11-15T08:54:07.190Z"
   },
   {
    "duration": 8,
    "start_time": "2022-11-15T08:54:07.197Z"
   },
   {
    "duration": 9,
    "start_time": "2022-11-15T08:54:07.206Z"
   },
   {
    "duration": 11,
    "start_time": "2022-11-15T08:54:07.217Z"
   },
   {
    "duration": 4,
    "start_time": "2022-11-15T08:55:16.115Z"
   },
   {
    "duration": 95,
    "start_time": "2022-11-15T08:55:16.890Z"
   },
   {
    "duration": 7,
    "start_time": "2022-11-15T08:55:17.675Z"
   },
   {
    "duration": 5,
    "start_time": "2022-11-15T08:55:31.989Z"
   },
   {
    "duration": 10,
    "start_time": "2022-11-15T08:55:32.478Z"
   },
   {
    "duration": 659,
    "start_time": "2022-11-15T08:55:48.418Z"
   },
   {
    "duration": 179,
    "start_time": "2022-11-15T08:55:49.079Z"
   },
   {
    "duration": 18,
    "start_time": "2022-11-15T08:55:49.260Z"
   },
   {
    "duration": 2,
    "start_time": "2022-11-15T08:55:49.282Z"
   },
   {
    "duration": 29,
    "start_time": "2022-11-15T08:55:49.286Z"
   },
   {
    "duration": 16,
    "start_time": "2022-11-15T08:55:49.317Z"
   },
   {
    "duration": 93,
    "start_time": "2022-11-15T08:55:49.335Z"
   },
   {
    "duration": 10,
    "start_time": "2022-11-15T08:55:49.429Z"
   },
   {
    "duration": 46,
    "start_time": "2022-11-15T08:55:49.441Z"
   },
   {
    "duration": 98,
    "start_time": "2022-11-15T08:55:49.490Z"
   },
   {
    "duration": 131,
    "start_time": "2022-11-15T08:55:49.590Z"
   },
   {
    "duration": 79,
    "start_time": "2022-11-15T08:55:49.723Z"
   },
   {
    "duration": 20,
    "start_time": "2022-11-15T08:55:49.803Z"
   },
   {
    "duration": 7,
    "start_time": "2022-11-15T08:55:49.824Z"
   },
   {
    "duration": 48,
    "start_time": "2022-11-15T08:55:49.833Z"
   },
   {
    "duration": 7,
    "start_time": "2022-11-15T08:55:49.883Z"
   },
   {
    "duration": 13,
    "start_time": "2022-11-15T08:55:49.891Z"
   },
   {
    "duration": 5,
    "start_time": "2022-11-15T08:55:49.906Z"
   },
   {
    "duration": 360,
    "start_time": "2022-11-15T08:55:49.913Z"
   },
   {
    "duration": 7,
    "start_time": "2022-11-15T08:55:50.277Z"
   },
   {
    "duration": 25,
    "start_time": "2022-11-15T08:55:50.285Z"
   },
   {
    "duration": 162,
    "start_time": "2022-11-15T08:55:50.312Z"
   },
   {
    "duration": 23,
    "start_time": "2022-11-15T08:55:50.477Z"
   },
   {
    "duration": 16,
    "start_time": "2022-11-15T08:55:50.501Z"
   },
   {
    "duration": 37,
    "start_time": "2022-11-15T08:55:50.518Z"
   },
   {
    "duration": 39,
    "start_time": "2022-11-15T08:55:50.577Z"
   },
   {
    "duration": 61,
    "start_time": "2022-11-15T08:55:50.618Z"
   },
   {
    "duration": 7,
    "start_time": "2022-11-15T08:55:50.683Z"
   },
   {
    "duration": 19,
    "start_time": "2022-11-15T08:55:50.691Z"
   },
   {
    "duration": 9,
    "start_time": "2022-11-15T08:55:50.712Z"
   },
   {
    "duration": 14,
    "start_time": "2022-11-15T08:55:50.723Z"
   },
   {
    "duration": 11,
    "start_time": "2022-11-15T08:55:50.739Z"
   },
   {
    "duration": 19,
    "start_time": "2022-11-15T08:55:50.752Z"
   },
   {
    "duration": 4,
    "start_time": "2022-11-15T08:56:01.666Z"
   },
   {
    "duration": 7,
    "start_time": "2022-11-15T08:56:02.847Z"
   },
   {
    "duration": 9,
    "start_time": "2022-11-15T08:56:03.616Z"
   },
   {
    "duration": 4,
    "start_time": "2022-11-15T08:56:07.351Z"
   },
   {
    "duration": 7,
    "start_time": "2022-11-15T08:56:08.352Z"
   },
   {
    "duration": 9,
    "start_time": "2022-11-15T08:56:08.896Z"
   },
   {
    "duration": 4,
    "start_time": "2022-11-15T08:56:44.837Z"
   },
   {
    "duration": 5,
    "start_time": "2022-11-15T08:56:45.230Z"
   },
   {
    "duration": 9,
    "start_time": "2022-11-15T08:56:49.519Z"
   },
   {
    "duration": 76,
    "start_time": "2022-11-15T08:58:58.127Z"
   },
   {
    "duration": 8,
    "start_time": "2022-11-15T08:58:58.496Z"
   },
   {
    "duration": 4,
    "start_time": "2022-11-15T08:59:01.344Z"
   },
   {
    "duration": 10,
    "start_time": "2022-11-15T08:59:02.104Z"
   },
   {
    "duration": 8,
    "start_time": "2022-11-15T08:59:02.544Z"
   },
   {
    "duration": 9,
    "start_time": "2022-11-15T08:59:10.329Z"
   },
   {
    "duration": 5,
    "start_time": "2022-11-15T08:59:15.942Z"
   },
   {
    "duration": 8,
    "start_time": "2022-11-15T08:59:16.493Z"
   },
   {
    "duration": 653,
    "start_time": "2022-11-15T08:59:27.138Z"
   },
   {
    "duration": 166,
    "start_time": "2022-11-15T08:59:27.793Z"
   },
   {
    "duration": 17,
    "start_time": "2022-11-15T08:59:27.961Z"
   },
   {
    "duration": 3,
    "start_time": "2022-11-15T08:59:27.980Z"
   },
   {
    "duration": 25,
    "start_time": "2022-11-15T08:59:27.985Z"
   },
   {
    "duration": 13,
    "start_time": "2022-11-15T08:59:28.012Z"
   },
   {
    "duration": 92,
    "start_time": "2022-11-15T08:59:28.027Z"
   },
   {
    "duration": 14,
    "start_time": "2022-11-15T08:59:28.121Z"
   },
   {
    "duration": 45,
    "start_time": "2022-11-15T08:59:28.137Z"
   },
   {
    "duration": 96,
    "start_time": "2022-11-15T08:59:28.185Z"
   },
   {
    "duration": 132,
    "start_time": "2022-11-15T08:59:28.283Z"
   },
   {
    "duration": 85,
    "start_time": "2022-11-15T08:59:28.416Z"
   },
   {
    "duration": 21,
    "start_time": "2022-11-15T08:59:28.503Z"
   },
   {
    "duration": 8,
    "start_time": "2022-11-15T08:59:28.526Z"
   },
   {
    "duration": 48,
    "start_time": "2022-11-15T08:59:28.536Z"
   },
   {
    "duration": 8,
    "start_time": "2022-11-15T08:59:28.586Z"
   },
   {
    "duration": 8,
    "start_time": "2022-11-15T08:59:28.596Z"
   },
   {
    "duration": 6,
    "start_time": "2022-11-15T08:59:28.607Z"
   },
   {
    "duration": 347,
    "start_time": "2022-11-15T08:59:28.614Z"
   },
   {
    "duration": 17,
    "start_time": "2022-11-15T08:59:28.963Z"
   },
   {
    "duration": 30,
    "start_time": "2022-11-15T08:59:28.982Z"
   },
   {
    "duration": 166,
    "start_time": "2022-11-15T08:59:29.014Z"
   },
   {
    "duration": 25,
    "start_time": "2022-11-15T08:59:29.182Z"
   },
   {
    "duration": 10,
    "start_time": "2022-11-15T08:59:29.209Z"
   },
   {
    "duration": 65,
    "start_time": "2022-11-15T08:59:29.221Z"
   },
   {
    "duration": 33,
    "start_time": "2022-11-15T08:59:29.288Z"
   },
   {
    "duration": 72,
    "start_time": "2022-11-15T08:59:29.322Z"
   },
   {
    "duration": 7,
    "start_time": "2022-11-15T08:59:29.398Z"
   },
   {
    "duration": 22,
    "start_time": "2022-11-15T08:59:29.407Z"
   },
   {
    "duration": 32,
    "start_time": "2022-11-15T08:59:29.431Z"
   },
   {
    "duration": 19,
    "start_time": "2022-11-15T08:59:29.464Z"
   },
   {
    "duration": 18,
    "start_time": "2022-11-15T08:59:29.485Z"
   },
   {
    "duration": 6,
    "start_time": "2022-11-15T09:00:15.899Z"
   },
   {
    "duration": 78,
    "start_time": "2022-11-15T09:00:27.891Z"
   },
   {
    "duration": 5,
    "start_time": "2022-11-15T09:00:29.925Z"
   },
   {
    "duration": 9,
    "start_time": "2022-11-15T09:00:35.991Z"
   },
   {
    "duration": 93,
    "start_time": "2022-11-15T09:01:13.089Z"
   },
   {
    "duration": 6,
    "start_time": "2022-11-15T09:01:19.210Z"
   },
   {
    "duration": 6,
    "start_time": "2022-11-15T09:01:19.985Z"
   },
   {
    "duration": 5,
    "start_time": "2022-11-15T09:01:51.696Z"
   },
   {
    "duration": 7,
    "start_time": "2022-11-15T09:01:52.518Z"
   },
   {
    "duration": 5,
    "start_time": "2022-11-15T09:03:31.853Z"
   },
   {
    "duration": 6,
    "start_time": "2022-11-15T09:03:32.283Z"
   },
   {
    "duration": 8,
    "start_time": "2022-11-15T09:04:18.251Z"
   },
   {
    "duration": 6,
    "start_time": "2022-11-15T09:05:53.054Z"
   },
   {
    "duration": 76,
    "start_time": "2022-11-15T09:05:53.783Z"
   },
   {
    "duration": 12,
    "start_time": "2022-11-15T09:05:54.142Z"
   },
   {
    "duration": 9,
    "start_time": "2022-11-15T09:05:58.911Z"
   },
   {
    "duration": 705,
    "start_time": "2022-11-15T09:06:07.783Z"
   },
   {
    "duration": 169,
    "start_time": "2022-11-15T09:06:08.490Z"
   },
   {
    "duration": 11,
    "start_time": "2022-11-15T09:06:08.660Z"
   },
   {
    "duration": 7,
    "start_time": "2022-11-15T09:06:08.673Z"
   },
   {
    "duration": 26,
    "start_time": "2022-11-15T09:06:08.682Z"
   },
   {
    "duration": 14,
    "start_time": "2022-11-15T09:06:08.710Z"
   },
   {
    "duration": 91,
    "start_time": "2022-11-15T09:06:08.726Z"
   },
   {
    "duration": 10,
    "start_time": "2022-11-15T09:06:08.819Z"
   },
   {
    "duration": 31,
    "start_time": "2022-11-15T09:06:08.831Z"
   },
   {
    "duration": 104,
    "start_time": "2022-11-15T09:06:08.877Z"
   },
   {
    "duration": 138,
    "start_time": "2022-11-15T09:06:08.983Z"
   },
   {
    "duration": 87,
    "start_time": "2022-11-15T09:06:09.123Z"
   },
   {
    "duration": 19,
    "start_time": "2022-11-15T09:06:09.211Z"
   },
   {
    "duration": 8,
    "start_time": "2022-11-15T09:06:09.233Z"
   },
   {
    "duration": 44,
    "start_time": "2022-11-15T09:06:09.242Z"
   },
   {
    "duration": 8,
    "start_time": "2022-11-15T09:06:09.288Z"
   },
   {
    "duration": 15,
    "start_time": "2022-11-15T09:06:09.299Z"
   },
   {
    "duration": 8,
    "start_time": "2022-11-15T09:06:09.316Z"
   },
   {
    "duration": 343,
    "start_time": "2022-11-15T09:06:09.325Z"
   },
   {
    "duration": 8,
    "start_time": "2022-11-15T09:06:09.670Z"
   },
   {
    "duration": 31,
    "start_time": "2022-11-15T09:06:09.680Z"
   },
   {
    "duration": 164,
    "start_time": "2022-11-15T09:06:09.712Z"
   },
   {
    "duration": 23,
    "start_time": "2022-11-15T09:06:09.878Z"
   },
   {
    "duration": 9,
    "start_time": "2022-11-15T09:06:09.903Z"
   },
   {
    "duration": 66,
    "start_time": "2022-11-15T09:06:09.913Z"
   },
   {
    "duration": 33,
    "start_time": "2022-11-15T09:06:09.980Z"
   },
   {
    "duration": 75,
    "start_time": "2022-11-15T09:06:10.015Z"
   },
   {
    "duration": 6,
    "start_time": "2022-11-15T09:06:10.092Z"
   },
   {
    "duration": 24,
    "start_time": "2022-11-15T09:06:10.101Z"
   },
   {
    "duration": 17,
    "start_time": "2022-11-15T09:06:10.127Z"
   },
   {
    "duration": 7,
    "start_time": "2022-11-15T09:06:10.146Z"
   },
   {
    "duration": 18,
    "start_time": "2022-11-15T09:06:10.155Z"
   },
   {
    "duration": 22,
    "start_time": "2022-11-15T09:06:10.174Z"
   },
   {
    "duration": 102,
    "start_time": "2022-11-15T09:06:43.712Z"
   },
   {
    "duration": 91,
    "start_time": "2022-11-15T09:07:25.298Z"
   },
   {
    "duration": 3,
    "start_time": "2022-11-15T09:07:29.324Z"
   },
   {
    "duration": 15,
    "start_time": "2022-11-15T09:07:29.829Z"
   },
   {
    "duration": 10,
    "start_time": "2022-11-15T09:10:01.322Z"
   },
   {
    "duration": 10,
    "start_time": "2022-11-15T09:11:00.512Z"
   },
   {
    "duration": 9,
    "start_time": "2022-11-15T09:11:41.007Z"
   },
   {
    "duration": 4,
    "start_time": "2022-11-15T09:11:43.990Z"
   },
   {
    "duration": 8,
    "start_time": "2022-11-15T09:11:44.559Z"
   },
   {
    "duration": 452,
    "start_time": "2022-11-15T09:12:00.425Z"
   },
   {
    "duration": 63,
    "start_time": "2022-11-15T09:13:12.483Z"
   },
   {
    "duration": 4,
    "start_time": "2022-11-15T09:14:06.445Z"
   },
   {
    "duration": 374,
    "start_time": "2022-11-15T09:14:37.092Z"
   },
   {
    "duration": 9,
    "start_time": "2022-11-15T09:14:37.659Z"
   },
   {
    "duration": 665,
    "start_time": "2022-11-15T09:14:45.297Z"
   },
   {
    "duration": 167,
    "start_time": "2022-11-15T09:14:45.964Z"
   },
   {
    "duration": 15,
    "start_time": "2022-11-15T09:14:46.133Z"
   },
   {
    "duration": 3,
    "start_time": "2022-11-15T09:14:46.149Z"
   },
   {
    "duration": 35,
    "start_time": "2022-11-15T09:14:46.154Z"
   },
   {
    "duration": 14,
    "start_time": "2022-11-15T09:14:46.191Z"
   },
   {
    "duration": 87,
    "start_time": "2022-11-15T09:14:46.207Z"
   },
   {
    "duration": 12,
    "start_time": "2022-11-15T09:14:46.296Z"
   },
   {
    "duration": 32,
    "start_time": "2022-11-15T09:14:46.310Z"
   },
   {
    "duration": 107,
    "start_time": "2022-11-15T09:14:46.344Z"
   },
   {
    "duration": 129,
    "start_time": "2022-11-15T09:14:46.453Z"
   },
   {
    "duration": 74,
    "start_time": "2022-11-15T09:14:46.584Z"
   },
   {
    "duration": 27,
    "start_time": "2022-11-15T09:14:46.660Z"
   },
   {
    "duration": 7,
    "start_time": "2022-11-15T09:14:46.690Z"
   },
   {
    "duration": 23,
    "start_time": "2022-11-15T09:14:46.699Z"
   },
   {
    "duration": 7,
    "start_time": "2022-11-15T09:14:46.724Z"
   },
   {
    "duration": 9,
    "start_time": "2022-11-15T09:14:46.733Z"
   },
   {
    "duration": 39,
    "start_time": "2022-11-15T09:14:46.743Z"
   },
   {
    "duration": 337,
    "start_time": "2022-11-15T09:14:46.783Z"
   },
   {
    "duration": 8,
    "start_time": "2022-11-15T09:14:47.121Z"
   },
   {
    "duration": 25,
    "start_time": "2022-11-15T09:14:47.130Z"
   },
   {
    "duration": 162,
    "start_time": "2022-11-15T09:14:47.156Z"
   },
   {
    "duration": 23,
    "start_time": "2022-11-15T09:14:47.320Z"
   },
   {
    "duration": 10,
    "start_time": "2022-11-15T09:14:47.344Z"
   },
   {
    "duration": 39,
    "start_time": "2022-11-15T09:14:47.377Z"
   },
   {
    "duration": 32,
    "start_time": "2022-11-15T09:14:47.418Z"
   },
   {
    "duration": 71,
    "start_time": "2022-11-15T09:14:47.451Z"
   },
   {
    "duration": 3,
    "start_time": "2022-11-15T09:14:47.523Z"
   },
   {
    "duration": 12,
    "start_time": "2022-11-15T09:14:47.528Z"
   },
   {
    "duration": 1213,
    "start_time": "2022-11-15T09:14:47.542Z"
   },
   {
    "duration": 0,
    "start_time": "2022-11-15T09:14:48.756Z"
   },
   {
    "duration": 0,
    "start_time": "2022-11-15T09:14:48.758Z"
   },
   {
    "duration": 0,
    "start_time": "2022-11-15T09:14:48.759Z"
   },
   {
    "duration": 0,
    "start_time": "2022-11-15T09:14:48.760Z"
   },
   {
    "duration": 0,
    "start_time": "2022-11-15T09:14:48.761Z"
   },
   {
    "duration": 0,
    "start_time": "2022-11-15T09:14:48.762Z"
   },
   {
    "duration": 758,
    "start_time": "2022-11-15T09:15:13.646Z"
   },
   {
    "duration": 164,
    "start_time": "2022-11-15T09:15:14.406Z"
   },
   {
    "duration": 11,
    "start_time": "2022-11-15T09:15:14.572Z"
   },
   {
    "duration": 9,
    "start_time": "2022-11-15T09:15:14.585Z"
   },
   {
    "duration": 47,
    "start_time": "2022-11-15T09:15:14.596Z"
   },
   {
    "duration": 13,
    "start_time": "2022-11-15T09:15:14.644Z"
   },
   {
    "duration": 75,
    "start_time": "2022-11-15T09:15:14.659Z"
   },
   {
    "duration": 10,
    "start_time": "2022-11-15T09:15:14.736Z"
   },
   {
    "duration": 45,
    "start_time": "2022-11-15T09:15:14.748Z"
   },
   {
    "duration": 101,
    "start_time": "2022-11-15T09:15:14.796Z"
   },
   {
    "duration": 136,
    "start_time": "2022-11-15T09:15:14.898Z"
   },
   {
    "duration": 90,
    "start_time": "2022-11-15T09:15:15.036Z"
   },
   {
    "duration": 23,
    "start_time": "2022-11-15T09:15:15.128Z"
   },
   {
    "duration": 27,
    "start_time": "2022-11-15T09:15:15.153Z"
   },
   {
    "duration": 40,
    "start_time": "2022-11-15T09:15:15.182Z"
   },
   {
    "duration": 16,
    "start_time": "2022-11-15T09:15:15.224Z"
   },
   {
    "duration": 31,
    "start_time": "2022-11-15T09:15:15.242Z"
   },
   {
    "duration": 34,
    "start_time": "2022-11-15T09:15:15.275Z"
   },
   {
    "duration": 337,
    "start_time": "2022-11-15T09:15:15.311Z"
   },
   {
    "duration": 7,
    "start_time": "2022-11-15T09:15:15.650Z"
   },
   {
    "duration": 41,
    "start_time": "2022-11-15T09:15:15.659Z"
   },
   {
    "duration": 148,
    "start_time": "2022-11-15T09:15:15.702Z"
   },
   {
    "duration": 33,
    "start_time": "2022-11-15T09:15:15.852Z"
   },
   {
    "duration": 17,
    "start_time": "2022-11-15T09:15:15.887Z"
   },
   {
    "duration": 71,
    "start_time": "2022-11-15T09:15:15.906Z"
   },
   {
    "duration": 35,
    "start_time": "2022-11-15T09:15:15.979Z"
   },
   {
    "duration": 66,
    "start_time": "2022-11-15T09:15:16.016Z"
   },
   {
    "duration": 3,
    "start_time": "2022-11-15T09:15:16.086Z"
   },
   {
    "duration": 56,
    "start_time": "2022-11-15T09:15:16.091Z"
   },
   {
    "duration": 1317,
    "start_time": "2022-11-15T09:15:16.149Z"
   },
   {
    "duration": 0,
    "start_time": "2022-11-15T09:15:17.468Z"
   },
   {
    "duration": 0,
    "start_time": "2022-11-15T09:15:17.469Z"
   },
   {
    "duration": 0,
    "start_time": "2022-11-15T09:15:17.470Z"
   },
   {
    "duration": 0,
    "start_time": "2022-11-15T09:15:17.471Z"
   },
   {
    "duration": 0,
    "start_time": "2022-11-15T09:15:17.472Z"
   },
   {
    "duration": 0,
    "start_time": "2022-11-15T09:15:17.473Z"
   },
   {
    "duration": 54,
    "start_time": "2022-11-15T09:15:28.791Z"
   },
   {
    "duration": 3,
    "start_time": "2022-11-15T09:15:29.109Z"
   },
   {
    "duration": 7,
    "start_time": "2022-11-15T09:15:29.443Z"
   },
   {
    "duration": 1286,
    "start_time": "2022-11-15T09:15:30.643Z"
   },
   {
    "duration": 0,
    "start_time": "2022-11-15T09:15:31.932Z"
   },
   {
    "duration": 6,
    "start_time": "2022-11-15T09:15:33.022Z"
   },
   {
    "duration": 4,
    "start_time": "2022-11-15T09:15:33.521Z"
   },
   {
    "duration": 9,
    "start_time": "2022-11-15T09:15:33.760Z"
   },
   {
    "duration": 85,
    "start_time": "2022-11-15T09:15:34.266Z"
   },
   {
    "duration": 448,
    "start_time": "2022-11-15T09:15:34.725Z"
   },
   {
    "duration": 2,
    "start_time": "2022-11-15T09:17:32.341Z"
   },
   {
    "duration": 69,
    "start_time": "2022-11-15T09:19:23.863Z"
   },
   {
    "duration": 89,
    "start_time": "2022-11-15T09:19:38.346Z"
   },
   {
    "duration": 1417,
    "start_time": "2022-11-15T09:19:53.742Z"
   },
   {
    "duration": 1520,
    "start_time": "2022-11-15T09:20:24.292Z"
   },
   {
    "duration": 70,
    "start_time": "2022-11-15T09:20:47.139Z"
   },
   {
    "duration": 3,
    "start_time": "2022-11-15T09:20:47.577Z"
   },
   {
    "duration": 7,
    "start_time": "2022-11-15T09:20:48.496Z"
   },
   {
    "duration": 1274,
    "start_time": "2022-11-15T09:20:50.492Z"
   },
   {
    "duration": 0,
    "start_time": "2022-11-15T09:20:51.767Z"
   },
   {
    "duration": 669,
    "start_time": "2022-11-15T09:21:04.628Z"
   },
   {
    "duration": 172,
    "start_time": "2022-11-15T09:21:05.299Z"
   },
   {
    "duration": 12,
    "start_time": "2022-11-15T09:21:05.473Z"
   },
   {
    "duration": 3,
    "start_time": "2022-11-15T09:21:05.487Z"
   },
   {
    "duration": 32,
    "start_time": "2022-11-15T09:21:05.492Z"
   },
   {
    "duration": 15,
    "start_time": "2022-11-15T09:21:05.526Z"
   },
   {
    "duration": 96,
    "start_time": "2022-11-15T09:21:05.542Z"
   },
   {
    "duration": 10,
    "start_time": "2022-11-15T09:21:05.639Z"
   },
   {
    "duration": 42,
    "start_time": "2022-11-15T09:21:05.651Z"
   },
   {
    "duration": 111,
    "start_time": "2022-11-15T09:21:05.696Z"
   },
   {
    "duration": 145,
    "start_time": "2022-11-15T09:21:05.809Z"
   },
   {
    "duration": 81,
    "start_time": "2022-11-15T09:21:05.956Z"
   },
   {
    "duration": 38,
    "start_time": "2022-11-15T09:21:06.040Z"
   },
   {
    "duration": 8,
    "start_time": "2022-11-15T09:21:06.081Z"
   },
   {
    "duration": 31,
    "start_time": "2022-11-15T09:21:06.091Z"
   },
   {
    "duration": 7,
    "start_time": "2022-11-15T09:21:06.123Z"
   },
   {
    "duration": 9,
    "start_time": "2022-11-15T09:21:06.132Z"
   },
   {
    "duration": 5,
    "start_time": "2022-11-15T09:21:06.179Z"
   },
   {
    "duration": 328,
    "start_time": "2022-11-15T09:21:06.185Z"
   },
   {
    "duration": 6,
    "start_time": "2022-11-15T09:21:06.515Z"
   },
   {
    "duration": 32,
    "start_time": "2022-11-15T09:21:06.523Z"
   },
   {
    "duration": 151,
    "start_time": "2022-11-15T09:21:06.557Z"
   },
   {
    "duration": 81,
    "start_time": "2022-11-15T09:21:06.710Z"
   },
   {
    "duration": 8,
    "start_time": "2022-11-15T09:21:06.793Z"
   },
   {
    "duration": 38,
    "start_time": "2022-11-15T09:21:06.802Z"
   },
   {
    "duration": 61,
    "start_time": "2022-11-15T09:21:06.841Z"
   },
   {
    "duration": 52,
    "start_time": "2022-11-15T09:21:06.903Z"
   },
   {
    "duration": 3,
    "start_time": "2022-11-15T09:21:06.977Z"
   },
   {
    "duration": 9,
    "start_time": "2022-11-15T09:21:06.982Z"
   },
   {
    "duration": 1341,
    "start_time": "2022-11-15T09:21:06.993Z"
   },
   {
    "duration": 0,
    "start_time": "2022-11-15T09:21:08.336Z"
   },
   {
    "duration": 0,
    "start_time": "2022-11-15T09:21:08.337Z"
   },
   {
    "duration": 0,
    "start_time": "2022-11-15T09:21:08.338Z"
   },
   {
    "duration": 0,
    "start_time": "2022-11-15T09:21:08.339Z"
   },
   {
    "duration": 0,
    "start_time": "2022-11-15T09:21:08.340Z"
   },
   {
    "duration": 0,
    "start_time": "2022-11-15T09:21:08.341Z"
   },
   {
    "duration": 0,
    "start_time": "2022-11-15T09:21:08.342Z"
   },
   {
    "duration": 0,
    "start_time": "2022-11-15T09:21:08.343Z"
   },
   {
    "duration": 0,
    "start_time": "2022-11-15T09:21:08.345Z"
   },
   {
    "duration": 53,
    "start_time": "2022-11-15T09:21:20.513Z"
   },
   {
    "duration": 3,
    "start_time": "2022-11-15T09:21:20.925Z"
   },
   {
    "duration": 7,
    "start_time": "2022-11-15T09:21:21.344Z"
   },
   {
    "duration": 1262,
    "start_time": "2022-11-15T09:21:22.908Z"
   },
   {
    "duration": 0,
    "start_time": "2022-11-15T09:21:24.172Z"
   },
   {
    "duration": 6,
    "start_time": "2022-11-15T09:21:25.603Z"
   },
   {
    "duration": 4,
    "start_time": "2022-11-15T09:21:26.320Z"
   },
   {
    "duration": 10,
    "start_time": "2022-11-15T09:21:26.701Z"
   },
   {
    "duration": 89,
    "start_time": "2022-11-15T09:21:27.497Z"
   },
   {
    "duration": 426,
    "start_time": "2022-11-15T09:21:27.936Z"
   },
   {
    "duration": 3,
    "start_time": "2022-11-15T09:21:30.388Z"
   },
   {
    "duration": 1265,
    "start_time": "2022-11-15T09:21:31.249Z"
   },
   {
    "duration": 0,
    "start_time": "2022-11-15T09:21:32.516Z"
   },
   {
    "duration": 1271,
    "start_time": "2022-11-15T09:21:36.183Z"
   },
   {
    "duration": 10,
    "start_time": "2022-11-15T09:23:10.402Z"
   },
   {
    "duration": 1179,
    "start_time": "2022-11-15T09:23:11.457Z"
   },
   {
    "duration": 3,
    "start_time": "2022-11-15T09:23:20.486Z"
   },
   {
    "duration": 49,
    "start_time": "2022-11-15T09:23:20.966Z"
   },
   {
    "duration": 2,
    "start_time": "2022-11-15T09:23:22.671Z"
   },
   {
    "duration": 10,
    "start_time": "2022-11-15T09:23:23.157Z"
   },
   {
    "duration": 60,
    "start_time": "2022-11-15T09:23:36.201Z"
   },
   {
    "duration": 3,
    "start_time": "2022-11-15T09:23:36.547Z"
   },
   {
    "duration": 8,
    "start_time": "2022-11-15T09:23:36.845Z"
   },
   {
    "duration": 1168,
    "start_time": "2022-11-15T09:23:38.169Z"
   },
   {
    "duration": 0,
    "start_time": "2022-11-15T09:23:39.340Z"
   },
   {
    "duration": 352,
    "start_time": "2022-11-15T09:23:54.111Z"
   },
   {
    "duration": 7,
    "start_time": "2022-11-15T09:23:54.606Z"
   },
   {
    "duration": 63,
    "start_time": "2022-11-15T09:24:15.990Z"
   },
   {
    "duration": 5,
    "start_time": "2022-11-15T09:24:22.443Z"
   },
   {
    "duration": 61,
    "start_time": "2022-11-15T09:24:38.486Z"
   },
   {
    "duration": 3,
    "start_time": "2022-11-15T09:24:39.017Z"
   },
   {
    "duration": 7,
    "start_time": "2022-11-15T09:24:39.969Z"
   },
   {
    "duration": 1304,
    "start_time": "2022-11-15T09:24:42.972Z"
   },
   {
    "duration": 733,
    "start_time": "2022-11-15T09:25:12.338Z"
   },
   {
    "duration": 176,
    "start_time": "2022-11-15T09:25:13.073Z"
   },
   {
    "duration": 11,
    "start_time": "2022-11-15T09:25:13.251Z"
   },
   {
    "duration": 13,
    "start_time": "2022-11-15T09:25:13.265Z"
   },
   {
    "duration": 26,
    "start_time": "2022-11-15T09:25:13.280Z"
   },
   {
    "duration": 15,
    "start_time": "2022-11-15T09:25:13.308Z"
   },
   {
    "duration": 93,
    "start_time": "2022-11-15T09:25:13.326Z"
   },
   {
    "duration": 18,
    "start_time": "2022-11-15T09:25:13.421Z"
   },
   {
    "duration": 38,
    "start_time": "2022-11-15T09:25:13.441Z"
   },
   {
    "duration": 105,
    "start_time": "2022-11-15T09:25:13.481Z"
   },
   {
    "duration": 132,
    "start_time": "2022-11-15T09:25:13.588Z"
   },
   {
    "duration": 79,
    "start_time": "2022-11-15T09:25:13.722Z"
   },
   {
    "duration": 19,
    "start_time": "2022-11-15T09:25:13.803Z"
   },
   {
    "duration": 6,
    "start_time": "2022-11-15T09:25:13.824Z"
   },
   {
    "duration": 46,
    "start_time": "2022-11-15T09:25:13.832Z"
   },
   {
    "duration": 7,
    "start_time": "2022-11-15T09:25:13.880Z"
   },
   {
    "duration": 10,
    "start_time": "2022-11-15T09:25:13.889Z"
   },
   {
    "duration": 9,
    "start_time": "2022-11-15T09:25:13.901Z"
   },
   {
    "duration": 422,
    "start_time": "2022-11-15T09:25:13.912Z"
   },
   {
    "duration": 7,
    "start_time": "2022-11-15T09:25:14.336Z"
   },
   {
    "duration": 43,
    "start_time": "2022-11-15T09:25:14.345Z"
   },
   {
    "duration": 168,
    "start_time": "2022-11-15T09:25:14.390Z"
   },
   {
    "duration": 29,
    "start_time": "2022-11-15T09:25:14.560Z"
   },
   {
    "duration": 9,
    "start_time": "2022-11-15T09:25:14.591Z"
   },
   {
    "duration": 43,
    "start_time": "2022-11-15T09:25:14.602Z"
   },
   {
    "duration": 59,
    "start_time": "2022-11-15T09:25:14.647Z"
   },
   {
    "duration": 53,
    "start_time": "2022-11-15T09:25:14.708Z"
   },
   {
    "duration": 4,
    "start_time": "2022-11-15T09:25:14.777Z"
   },
   {
    "duration": 21,
    "start_time": "2022-11-15T09:25:14.783Z"
   },
   {
    "duration": 1314,
    "start_time": "2022-11-15T09:25:14.805Z"
   },
   {
    "duration": 0,
    "start_time": "2022-11-15T09:25:16.120Z"
   },
   {
    "duration": 0,
    "start_time": "2022-11-15T09:25:16.122Z"
   },
   {
    "duration": 0,
    "start_time": "2022-11-15T09:25:16.123Z"
   },
   {
    "duration": 0,
    "start_time": "2022-11-15T09:25:16.124Z"
   },
   {
    "duration": 0,
    "start_time": "2022-11-15T09:25:16.125Z"
   },
   {
    "duration": 0,
    "start_time": "2022-11-15T09:25:16.126Z"
   },
   {
    "duration": 0,
    "start_time": "2022-11-15T09:25:16.127Z"
   },
   {
    "duration": 0,
    "start_time": "2022-11-15T09:25:16.129Z"
   },
   {
    "duration": 3,
    "start_time": "2022-11-15T09:25:27.941Z"
   },
   {
    "duration": 175,
    "start_time": "2022-11-15T09:25:27.947Z"
   },
   {
    "duration": 8,
    "start_time": "2022-11-15T09:25:28.125Z"
   },
   {
    "duration": 6,
    "start_time": "2022-11-15T09:25:28.135Z"
   },
   {
    "duration": 35,
    "start_time": "2022-11-15T09:25:28.143Z"
   },
   {
    "duration": 7,
    "start_time": "2022-11-15T09:25:28.180Z"
   },
   {
    "duration": 72,
    "start_time": "2022-11-15T09:25:28.189Z"
   },
   {
    "duration": 29,
    "start_time": "2022-11-15T09:25:28.262Z"
   },
   {
    "duration": 37,
    "start_time": "2022-11-15T09:25:28.293Z"
   },
   {
    "duration": 91,
    "start_time": "2022-11-15T09:25:28.331Z"
   },
   {
    "duration": 103,
    "start_time": "2022-11-15T09:25:28.425Z"
   },
   {
    "duration": 83,
    "start_time": "2022-11-15T09:25:28.529Z"
   },
   {
    "duration": 19,
    "start_time": "2022-11-15T09:25:28.613Z"
   },
   {
    "duration": 13,
    "start_time": "2022-11-15T09:25:28.633Z"
   },
   {
    "duration": 38,
    "start_time": "2022-11-15T09:25:28.647Z"
   },
   {
    "duration": 6,
    "start_time": "2022-11-15T09:25:28.687Z"
   },
   {
    "duration": 30,
    "start_time": "2022-11-15T09:25:28.695Z"
   },
   {
    "duration": 27,
    "start_time": "2022-11-15T09:25:28.727Z"
   },
   {
    "duration": 244,
    "start_time": "2022-11-15T09:25:28.755Z"
   },
   {
    "duration": 7,
    "start_time": "2022-11-15T09:25:29.001Z"
   },
   {
    "duration": 25,
    "start_time": "2022-11-15T09:25:29.009Z"
   },
   {
    "duration": 162,
    "start_time": "2022-11-15T09:25:29.036Z"
   },
   {
    "duration": 23,
    "start_time": "2022-11-15T09:25:29.200Z"
   },
   {
    "duration": 11,
    "start_time": "2022-11-15T09:25:29.225Z"
   },
   {
    "duration": 65,
    "start_time": "2022-11-15T09:25:29.238Z"
   },
   {
    "duration": 33,
    "start_time": "2022-11-15T09:25:29.304Z"
   },
   {
    "duration": 66,
    "start_time": "2022-11-15T09:25:29.338Z"
   },
   {
    "duration": 4,
    "start_time": "2022-11-15T09:25:29.405Z"
   },
   {
    "duration": 9,
    "start_time": "2022-11-15T09:25:29.413Z"
   },
   {
    "duration": 1204,
    "start_time": "2022-11-15T09:25:29.424Z"
   },
   {
    "duration": 0,
    "start_time": "2022-11-15T09:25:30.630Z"
   },
   {
    "duration": 0,
    "start_time": "2022-11-15T09:25:30.631Z"
   },
   {
    "duration": 0,
    "start_time": "2022-11-15T09:25:30.633Z"
   },
   {
    "duration": 1,
    "start_time": "2022-11-15T09:25:30.634Z"
   },
   {
    "duration": 0,
    "start_time": "2022-11-15T09:25:30.636Z"
   },
   {
    "duration": 0,
    "start_time": "2022-11-15T09:25:30.638Z"
   },
   {
    "duration": 0,
    "start_time": "2022-11-15T09:25:30.640Z"
   },
   {
    "duration": 0,
    "start_time": "2022-11-15T09:25:30.641Z"
   },
   {
    "duration": 56,
    "start_time": "2022-11-15T09:25:57.670Z"
   },
   {
    "duration": 3,
    "start_time": "2022-11-15T09:25:58.404Z"
   },
   {
    "duration": 7,
    "start_time": "2022-11-15T09:25:58.978Z"
   },
   {
    "duration": 1270,
    "start_time": "2022-11-15T09:26:01.498Z"
   },
   {
    "duration": 54,
    "start_time": "2022-11-15T09:26:32.591Z"
   },
   {
    "duration": 7,
    "start_time": "2022-11-15T09:26:33.079Z"
   },
   {
    "duration": 8,
    "start_time": "2022-11-15T09:26:34.901Z"
   },
   {
    "duration": 7,
    "start_time": "2022-11-15T09:26:37.651Z"
   },
   {
    "duration": 7,
    "start_time": "2022-11-15T09:26:45.035Z"
   },
   {
    "duration": 5,
    "start_time": "2022-11-15T09:26:45.850Z"
   },
   {
    "duration": 9,
    "start_time": "2022-11-15T09:26:46.311Z"
   },
   {
    "duration": 96,
    "start_time": "2022-11-15T09:26:47.448Z"
   },
   {
    "duration": 432,
    "start_time": "2022-11-15T09:26:47.848Z"
   },
   {
    "duration": 3,
    "start_time": "2022-11-15T09:26:48.282Z"
   },
   {
    "duration": 9,
    "start_time": "2022-11-15T09:26:48.591Z"
   },
   {
    "duration": 80,
    "start_time": "2022-11-15T09:27:46.238Z"
   },
   {
    "duration": 88,
    "start_time": "2022-11-15T09:27:57.350Z"
   },
   {
    "duration": 70,
    "start_time": "2022-11-15T09:28:38.218Z"
   },
   {
    "duration": 75,
    "start_time": "2022-11-15T09:28:44.412Z"
   },
   {
    "duration": 73,
    "start_time": "2022-11-15T09:28:56.069Z"
   },
   {
    "duration": 2,
    "start_time": "2022-11-15T09:30:26.898Z"
   },
   {
    "duration": 14,
    "start_time": "2022-11-15T09:30:27.369Z"
   },
   {
    "duration": 10,
    "start_time": "2022-11-15T09:30:48.566Z"
   },
   {
    "duration": 9,
    "start_time": "2022-11-15T09:31:42.676Z"
   },
   {
    "duration": 12,
    "start_time": "2022-11-15T09:31:57.950Z"
   },
   {
    "duration": 12,
    "start_time": "2022-11-15T09:32:08.408Z"
   },
   {
    "duration": 12,
    "start_time": "2022-11-15T09:32:42.445Z"
   },
   {
    "duration": 12,
    "start_time": "2022-11-15T09:45:40.669Z"
   },
   {
    "duration": 12,
    "start_time": "2022-11-15T09:46:07.232Z"
   },
   {
    "duration": 70,
    "start_time": "2022-11-15T09:50:22.376Z"
   },
   {
    "duration": 73,
    "start_time": "2022-11-15T09:54:07.084Z"
   },
   {
    "duration": 84,
    "start_time": "2022-11-15T09:56:32.342Z"
   },
   {
    "duration": 79,
    "start_time": "2022-11-15T09:56:55.977Z"
   },
   {
    "duration": 7,
    "start_time": "2022-11-15T09:58:42.696Z"
   },
   {
    "duration": 5,
    "start_time": "2022-11-15T10:02:48.114Z"
   },
   {
    "duration": 11,
    "start_time": "2022-11-15T10:02:57.873Z"
   },
   {
    "duration": 17,
    "start_time": "2022-11-15T10:03:01.594Z"
   },
   {
    "duration": 387,
    "start_time": "2022-11-15T10:03:06.617Z"
   },
   {
    "duration": 21,
    "start_time": "2022-11-15T10:27:04.676Z"
   },
   {
    "duration": 1385,
    "start_time": "2022-11-15T10:27:11.290Z"
   },
   {
    "duration": 16,
    "start_time": "2022-11-15T10:27:18.650Z"
   },
   {
    "duration": 12,
    "start_time": "2022-11-15T10:27:25.335Z"
   },
   {
    "duration": 6,
    "start_time": "2022-11-15T10:27:28.365Z"
   },
   {
    "duration": 27,
    "start_time": "2022-11-15T10:27:50.223Z"
   },
   {
    "duration": 515,
    "start_time": "2022-11-15T10:31:32.398Z"
   },
   {
    "duration": 0,
    "start_time": "2022-11-15T10:31:57.637Z"
   },
   {
    "duration": 0,
    "start_time": "2022-11-15T10:31:57.638Z"
   },
   {
    "duration": 7318,
    "start_time": "2022-11-15T10:31:57.893Z"
   },
   {
    "duration": 4,
    "start_time": "2022-11-15T10:38:32.770Z"
   },
   {
    "duration": 7,
    "start_time": "2022-11-15T10:38:41.189Z"
   },
   {
    "duration": 20,
    "start_time": "2022-11-15T10:39:07.841Z"
   },
   {
    "duration": 35,
    "start_time": "2022-11-15T10:39:16.696Z"
   },
   {
    "duration": 5,
    "start_time": "2022-11-15T10:39:18.195Z"
   },
   {
    "duration": 29,
    "start_time": "2022-11-15T10:39:51.820Z"
   },
   {
    "duration": 44,
    "start_time": "2022-11-15T10:54:43.028Z"
   },
   {
    "duration": 38,
    "start_time": "2022-11-15T10:54:46.019Z"
   },
   {
    "duration": 46,
    "start_time": "2022-11-15T10:54:49.075Z"
   },
   {
    "duration": 38,
    "start_time": "2022-11-15T10:57:17.762Z"
   },
   {
    "duration": 23,
    "start_time": "2022-11-15T10:57:18.218Z"
   },
   {
    "duration": 5,
    "start_time": "2022-11-15T10:59:11.576Z"
   },
   {
    "duration": 185,
    "start_time": "2022-11-15T11:02:11.420Z"
   },
   {
    "duration": 3,
    "start_time": "2022-11-15T11:02:23.544Z"
   },
   {
    "duration": 142,
    "start_time": "2022-11-15T11:02:26.677Z"
   },
   {
    "duration": 101,
    "start_time": "2022-11-15T11:02:53.095Z"
   },
   {
    "duration": 4,
    "start_time": "2022-11-15T11:03:04.717Z"
   },
   {
    "duration": 72,
    "start_time": "2022-11-15T11:03:18.232Z"
   },
   {
    "duration": 5,
    "start_time": "2022-11-15T11:03:30.989Z"
   },
   {
    "duration": 11,
    "start_time": "2022-11-15T11:03:38.170Z"
   },
   {
    "duration": 9,
    "start_time": "2022-11-15T11:04:55.931Z"
   },
   {
    "duration": 5,
    "start_time": "2022-11-15T11:05:24.856Z"
   },
   {
    "duration": 5,
    "start_time": "2022-11-15T11:05:29.345Z"
   },
   {
    "duration": 49,
    "start_time": "2022-11-16T06:53:19.045Z"
   },
   {
    "duration": 1252,
    "start_time": "2022-11-16T06:53:24.446Z"
   },
   {
    "duration": 560,
    "start_time": "2022-11-16T06:53:25.700Z"
   },
   {
    "duration": 15,
    "start_time": "2022-11-16T06:53:26.261Z"
   },
   {
    "duration": 13,
    "start_time": "2022-11-16T06:53:26.278Z"
   },
   {
    "duration": 37,
    "start_time": "2022-11-16T06:53:26.292Z"
   },
   {
    "duration": 12,
    "start_time": "2022-11-16T06:53:26.330Z"
   },
   {
    "duration": 101,
    "start_time": "2022-11-16T06:53:26.346Z"
   },
   {
    "duration": 21,
    "start_time": "2022-11-16T06:53:26.449Z"
   },
   {
    "duration": 61,
    "start_time": "2022-11-16T06:53:26.472Z"
   },
   {
    "duration": 90,
    "start_time": "2022-11-16T06:53:26.536Z"
   },
   {
    "duration": 129,
    "start_time": "2022-11-16T06:53:26.628Z"
   },
   {
    "duration": 90,
    "start_time": "2022-11-16T06:53:26.759Z"
   },
   {
    "duration": 19,
    "start_time": "2022-11-16T06:53:26.851Z"
   },
   {
    "duration": 21,
    "start_time": "2022-11-16T06:53:26.871Z"
   },
   {
    "duration": 55,
    "start_time": "2022-11-16T06:53:26.894Z"
   },
   {
    "duration": 9,
    "start_time": "2022-11-16T06:53:26.951Z"
   },
   {
    "duration": 12,
    "start_time": "2022-11-16T06:53:26.962Z"
   },
   {
    "duration": 14,
    "start_time": "2022-11-16T06:53:26.975Z"
   },
   {
    "duration": 309,
    "start_time": "2022-11-16T06:53:26.990Z"
   },
   {
    "duration": 6,
    "start_time": "2022-11-16T06:53:27.301Z"
   },
   {
    "duration": 34,
    "start_time": "2022-11-16T06:53:27.308Z"
   },
   {
    "duration": 148,
    "start_time": "2022-11-16T06:53:27.344Z"
   },
   {
    "duration": 22,
    "start_time": "2022-11-16T06:53:27.494Z"
   },
   {
    "duration": 25,
    "start_time": "2022-11-16T06:53:27.518Z"
   },
   {
    "duration": 44,
    "start_time": "2022-11-16T06:53:27.544Z"
   },
   {
    "duration": 29,
    "start_time": "2022-11-16T06:53:27.589Z"
   },
   {
    "duration": 69,
    "start_time": "2022-11-16T06:53:27.620Z"
   },
   {
    "duration": 6,
    "start_time": "2022-11-16T06:53:27.692Z"
   },
   {
    "duration": 16,
    "start_time": "2022-11-16T06:53:27.700Z"
   },
   {
    "duration": 8,
    "start_time": "2022-11-16T06:53:27.717Z"
   },
   {
    "duration": 13,
    "start_time": "2022-11-16T06:53:27.726Z"
   },
   {
    "duration": 12,
    "start_time": "2022-11-16T06:53:27.745Z"
   },
   {
    "duration": 11,
    "start_time": "2022-11-16T06:53:27.758Z"
   },
   {
    "duration": 6,
    "start_time": "2022-11-16T06:53:27.771Z"
   },
   {
    "duration": 167,
    "start_time": "2022-11-16T06:53:27.778Z"
   },
   {
    "duration": 34,
    "start_time": "2022-11-16T06:53:27.947Z"
   },
   {
    "duration": 164,
    "start_time": "2022-11-16T06:53:27.983Z"
   },
   {
    "duration": 7,
    "start_time": "2022-11-16T06:53:28.149Z"
   },
   {
    "duration": 15,
    "start_time": "2022-11-16T06:53:28.157Z"
   },
   {
    "duration": 5,
    "start_time": "2022-11-16T06:53:28.173Z"
   },
   {
    "duration": 8,
    "start_time": "2022-11-16T06:53:28.180Z"
   },
   {
    "duration": 6,
    "start_time": "2022-11-16T06:53:28.189Z"
   },
   {
    "duration": 82,
    "start_time": "2022-11-16T06:53:28.196Z"
   },
   {
    "duration": 3,
    "start_time": "2022-11-16T06:53:28.279Z"
   },
   {
    "duration": 8,
    "start_time": "2022-11-16T06:53:28.284Z"
   },
   {
    "duration": 35,
    "start_time": "2022-11-16T09:12:58.716Z"
   },
   {
    "duration": 36,
    "start_time": "2022-11-16T09:13:20.853Z"
   },
   {
    "duration": 34,
    "start_time": "2022-11-16T09:13:21.798Z"
   },
   {
    "duration": 32,
    "start_time": "2022-11-16T09:13:34.470Z"
   },
   {
    "duration": 4,
    "start_time": "2022-11-16T09:13:39.150Z"
   },
   {
    "duration": 12,
    "start_time": "2022-11-16T09:14:13.123Z"
   },
   {
    "duration": 4,
    "start_time": "2022-11-16T09:14:25.317Z"
   },
   {
    "duration": 50,
    "start_time": "2022-11-16T09:14:45.248Z"
   },
   {
    "duration": 6,
    "start_time": "2022-11-16T09:14:58.553Z"
   },
   {
    "duration": 11,
    "start_time": "2022-11-16T09:15:14.065Z"
   },
   {
    "duration": 12,
    "start_time": "2022-11-16T09:15:14.527Z"
   },
   {
    "duration": 4,
    "start_time": "2022-11-16T09:15:14.905Z"
   },
   {
    "duration": 4,
    "start_time": "2022-11-16T09:15:21.722Z"
   },
   {
    "duration": 25,
    "start_time": "2022-11-16T09:21:21.404Z"
   },
   {
    "duration": 5,
    "start_time": "2022-11-16T09:21:34.705Z"
   },
   {
    "duration": 4,
    "start_time": "2022-11-16T09:22:37.317Z"
   },
   {
    "duration": 11,
    "start_time": "2022-11-16T09:23:21.381Z"
   },
   {
    "duration": 4,
    "start_time": "2022-11-16T09:23:21.584Z"
   },
   {
    "duration": 11,
    "start_time": "2022-11-16T09:23:21.799Z"
   },
   {
    "duration": 5,
    "start_time": "2022-11-16T09:23:22.186Z"
   },
   {
    "duration": 3,
    "start_time": "2022-11-16T09:23:23.329Z"
   },
   {
    "duration": 27,
    "start_time": "2022-11-16T09:23:23.334Z"
   },
   {
    "duration": 152,
    "start_time": "2022-11-16T09:33:37.480Z"
   },
   {
    "duration": 90,
    "start_time": "2022-11-16T09:34:46.852Z"
   },
   {
    "duration": 8,
    "start_time": "2022-11-16T09:34:52.504Z"
   },
   {
    "duration": 72,
    "start_time": "2022-11-16T09:35:55.665Z"
   },
   {
    "duration": 6,
    "start_time": "2022-11-16T09:35:56.256Z"
   },
   {
    "duration": 799,
    "start_time": "2022-11-16T09:36:58.896Z"
   },
   {
    "duration": 0,
    "start_time": "2022-11-16T09:36:59.697Z"
   },
   {
    "duration": 748,
    "start_time": "2022-11-16T09:37:06.530Z"
   },
   {
    "duration": 78,
    "start_time": "2022-11-16T09:37:25.892Z"
   },
   {
    "duration": 7,
    "start_time": "2022-11-16T09:37:29.084Z"
   },
   {
    "duration": 5,
    "start_time": "2022-11-16T09:37:38.918Z"
   },
   {
    "duration": 6,
    "start_time": "2022-11-16T09:38:21.396Z"
   },
   {
    "duration": 829,
    "start_time": "2022-11-16T09:38:23.004Z"
   },
   {
    "duration": 0,
    "start_time": "2022-11-16T09:38:23.835Z"
   },
   {
    "duration": 98,
    "start_time": "2022-11-16T09:38:31.854Z"
   },
   {
    "duration": 7,
    "start_time": "2022-11-16T09:38:36.566Z"
   },
   {
    "duration": 17,
    "start_time": "2022-11-16T09:38:54.057Z"
   },
   {
    "duration": 79,
    "start_time": "2022-11-16T09:39:11.569Z"
   },
   {
    "duration": 12,
    "start_time": "2022-11-16T09:39:13.025Z"
   },
   {
    "duration": 7,
    "start_time": "2022-11-16T09:39:16.626Z"
   },
   {
    "duration": 12,
    "start_time": "2022-11-16T10:06:53.479Z"
   },
   {
    "duration": 20,
    "start_time": "2022-11-16T10:07:48.430Z"
   },
   {
    "duration": 92,
    "start_time": "2022-11-16T10:08:48.324Z"
   },
   {
    "duration": 84,
    "start_time": "2022-11-16T10:08:56.681Z"
   },
   {
    "duration": 15,
    "start_time": "2022-11-16T10:09:14.482Z"
   },
   {
    "duration": 15,
    "start_time": "2022-11-16T10:09:15.265Z"
   },
   {
    "duration": 8,
    "start_time": "2022-11-16T10:09:44.838Z"
   },
   {
    "duration": 4,
    "start_time": "2022-11-16T10:09:57.623Z"
   },
   {
    "duration": 4,
    "start_time": "2022-11-16T10:10:11.816Z"
   },
   {
    "duration": 14,
    "start_time": "2022-11-16T10:10:57.376Z"
   },
   {
    "duration": 13,
    "start_time": "2022-11-16T10:10:57.711Z"
   },
   {
    "duration": 3,
    "start_time": "2022-11-16T10:10:57.973Z"
   },
   {
    "duration": 3,
    "start_time": "2022-11-16T10:10:58.317Z"
   },
   {
    "duration": 4,
    "start_time": "2022-11-16T10:10:58.664Z"
   },
   {
    "duration": 5,
    "start_time": "2022-11-16T10:10:58.998Z"
   },
   {
    "duration": 135,
    "start_time": "2022-11-16T10:22:20.332Z"
   },
   {
    "duration": 2,
    "start_time": "2022-11-16T10:22:45.752Z"
   },
   {
    "duration": 4,
    "start_time": "2022-11-16T10:22:47.812Z"
   },
   {
    "duration": 8,
    "start_time": "2022-11-16T10:22:48.350Z"
   },
   {
    "duration": 5,
    "start_time": "2022-11-16T10:22:48.902Z"
   },
   {
    "duration": 5,
    "start_time": "2022-11-16T10:24:09.112Z"
   },
   {
    "duration": 16,
    "start_time": "2022-11-16T10:26:02.751Z"
   },
   {
    "duration": 5,
    "start_time": "2022-11-16T10:26:08.000Z"
   },
   {
    "duration": 4,
    "start_time": "2022-11-16T10:34:23.219Z"
   },
   {
    "duration": 12,
    "start_time": "2022-11-16T10:34:30.060Z"
   },
   {
    "duration": 11,
    "start_time": "2022-11-16T10:34:30.708Z"
   },
   {
    "duration": 3,
    "start_time": "2022-11-16T10:34:36.310Z"
   },
   {
    "duration": 11,
    "start_time": "2022-11-16T10:51:49.154Z"
   },
   {
    "duration": 4,
    "start_time": "2022-11-16T10:52:08.365Z"
   },
   {
    "duration": 23,
    "start_time": "2022-11-16T10:52:18.208Z"
   },
   {
    "duration": 175,
    "start_time": "2022-11-16T10:54:11.510Z"
   },
   {
    "duration": 36,
    "start_time": "2022-11-16T10:54:19.759Z"
   },
   {
    "duration": 29,
    "start_time": "2022-11-16T10:55:06.717Z"
   },
   {
    "duration": 128,
    "start_time": "2022-11-16T10:55:10.669Z"
   },
   {
    "duration": 127,
    "start_time": "2022-11-16T10:55:31.321Z"
   },
   {
    "duration": 116,
    "start_time": "2022-11-16T10:55:55.556Z"
   },
   {
    "duration": 216,
    "start_time": "2022-11-16T10:56:02.138Z"
   },
   {
    "duration": 5,
    "start_time": "2022-11-16T10:58:03.131Z"
   },
   {
    "duration": 22,
    "start_time": "2022-11-16T10:58:34.239Z"
   },
   {
    "duration": 5,
    "start_time": "2022-11-16T10:58:35.232Z"
   },
   {
    "duration": 10,
    "start_time": "2022-11-16T10:58:47.424Z"
   },
   {
    "duration": 10,
    "start_time": "2022-11-16T10:58:50.258Z"
   },
   {
    "duration": 13,
    "start_time": "2022-11-16T10:58:52.460Z"
   },
   {
    "duration": 10,
    "start_time": "2022-11-16T10:58:55.010Z"
   },
   {
    "duration": 5,
    "start_time": "2022-11-16T10:58:58.715Z"
   },
   {
    "duration": 23,
    "start_time": "2022-11-16T10:59:18.314Z"
   },
   {
    "duration": 6,
    "start_time": "2022-11-16T10:59:18.677Z"
   },
   {
    "duration": 135,
    "start_time": "2022-11-16T10:59:20.558Z"
   },
   {
    "duration": 22,
    "start_time": "2022-11-16T10:59:33.368Z"
   },
   {
    "duration": 5,
    "start_time": "2022-11-16T10:59:33.774Z"
   },
   {
    "duration": 122,
    "start_time": "2022-11-16T10:59:34.270Z"
   },
   {
    "duration": 10,
    "start_time": "2022-11-16T10:59:34.671Z"
   },
   {
    "duration": 9,
    "start_time": "2022-11-16T10:59:44.511Z"
   },
   {
    "duration": 9,
    "start_time": "2022-11-16T10:59:46.217Z"
   },
   {
    "duration": 23,
    "start_time": "2022-11-16T10:59:51.516Z"
   },
   {
    "duration": 10,
    "start_time": "2022-11-16T10:59:52.174Z"
   },
   {
    "duration": 22,
    "start_time": "2022-11-16T11:00:08.606Z"
   },
   {
    "duration": 4,
    "start_time": "2022-11-16T11:00:09.503Z"
   },
   {
    "duration": 7,
    "start_time": "2022-11-16T11:00:17.462Z"
   },
   {
    "duration": 426,
    "start_time": "2022-11-16T11:00:36.813Z"
   },
   {
    "duration": 6,
    "start_time": "2022-11-16T11:00:37.368Z"
   },
   {
    "duration": 504,
    "start_time": "2022-11-16T11:00:44.410Z"
   },
   {
    "duration": 6,
    "start_time": "2022-11-16T11:00:48.911Z"
   },
   {
    "duration": 49,
    "start_time": "2022-11-16T11:01:28.863Z"
   },
   {
    "duration": 54,
    "start_time": "2022-11-16T11:26:53.602Z"
   },
   {
    "duration": 49,
    "start_time": "2022-11-16T11:27:13.538Z"
   },
   {
    "duration": 9,
    "start_time": "2022-11-16T11:27:20.308Z"
   },
   {
    "duration": 4,
    "start_time": "2022-11-16T11:27:23.747Z"
   },
   {
    "duration": 3,
    "start_time": "2022-11-16T11:27:38.894Z"
   },
   {
    "duration": 7,
    "start_time": "2022-11-16T11:27:42.690Z"
   },
   {
    "duration": 10,
    "start_time": "2022-11-16T11:28:24.990Z"
   },
   {
    "duration": 63,
    "start_time": "2022-11-16T11:28:44.753Z"
   },
   {
    "duration": 19,
    "start_time": "2022-11-16T11:28:48.018Z"
   },
   {
    "duration": 10,
    "start_time": "2022-11-16T11:29:12.218Z"
   },
   {
    "duration": 3,
    "start_time": "2022-11-16T11:29:38.952Z"
   },
   {
    "duration": 10,
    "start_time": "2022-11-16T11:29:39.316Z"
   },
   {
    "duration": 10,
    "start_time": "2022-11-16T11:29:54.407Z"
   },
   {
    "duration": 10,
    "start_time": "2022-11-16T11:30:18.252Z"
   },
   {
    "duration": 12,
    "start_time": "2022-11-16T11:30:22.406Z"
   },
   {
    "duration": 50,
    "start_time": "2022-11-16T11:32:25.124Z"
   },
   {
    "duration": 229,
    "start_time": "2022-11-16T11:32:25.548Z"
   },
   {
    "duration": 7,
    "start_time": "2022-11-16T11:32:29.489Z"
   },
   {
    "duration": 9,
    "start_time": "2022-11-16T11:32:42.087Z"
   },
   {
    "duration": 3,
    "start_time": "2022-11-16T11:32:44.094Z"
   },
   {
    "duration": 3,
    "start_time": "2022-11-16T11:32:59.416Z"
   },
   {
    "duration": 9,
    "start_time": "2022-11-16T11:33:03.225Z"
   },
   {
    "duration": 7,
    "start_time": "2022-11-16T11:33:09.626Z"
   },
   {
    "duration": 125,
    "start_time": "2022-11-16T11:33:14.403Z"
   },
   {
    "duration": 50,
    "start_time": "2022-11-16T11:34:18.116Z"
   },
   {
    "duration": 3,
    "start_time": "2022-11-16T11:34:18.546Z"
   },
   {
    "duration": 3,
    "start_time": "2022-11-16T11:34:18.966Z"
   },
   {
    "duration": 143,
    "start_time": "2022-11-16T11:34:20.539Z"
   },
   {
    "duration": 1042,
    "start_time": "2022-11-16T11:35:44.118Z"
   },
   {
    "duration": 13,
    "start_time": "2022-11-16T11:35:57.602Z"
   },
   {
    "duration": 16,
    "start_time": "2022-11-16T11:36:07.523Z"
   },
   {
    "duration": 16,
    "start_time": "2022-11-16T11:36:24.842Z"
   },
   {
    "duration": 4,
    "start_time": "2022-11-16T11:36:30.101Z"
   },
   {
    "duration": 240,
    "start_time": "2022-11-16T11:36:30.107Z"
   },
   {
    "duration": 8,
    "start_time": "2022-11-16T11:36:30.348Z"
   },
   {
    "duration": 64,
    "start_time": "2022-11-16T11:36:30.357Z"
   },
   {
    "duration": 89,
    "start_time": "2022-11-16T11:36:30.424Z"
   },
   {
    "duration": 80,
    "start_time": "2022-11-16T11:36:30.514Z"
   },
   {
    "duration": 131,
    "start_time": "2022-11-16T11:36:30.596Z"
   },
   {
    "duration": 9,
    "start_time": "2022-11-16T11:36:30.729Z"
   },
   {
    "duration": 71,
    "start_time": "2022-11-16T11:36:30.740Z"
   },
   {
    "duration": 122,
    "start_time": "2022-11-16T11:36:30.813Z"
   },
   {
    "duration": 122,
    "start_time": "2022-11-16T11:36:30.937Z"
   },
   {
    "duration": 76,
    "start_time": "2022-11-16T11:36:31.061Z"
   },
   {
    "duration": 18,
    "start_time": "2022-11-16T11:36:31.139Z"
   },
   {
    "duration": 70,
    "start_time": "2022-11-16T11:36:31.160Z"
   },
   {
    "duration": 45,
    "start_time": "2022-11-16T11:36:31.232Z"
   },
   {
    "duration": 31,
    "start_time": "2022-11-16T11:36:31.279Z"
   },
   {
    "duration": 29,
    "start_time": "2022-11-16T11:36:31.312Z"
   },
   {
    "duration": 31,
    "start_time": "2022-11-16T11:36:31.343Z"
   },
   {
    "duration": 224,
    "start_time": "2022-11-16T11:36:31.376Z"
   },
   {
    "duration": 6,
    "start_time": "2022-11-16T11:36:31.602Z"
   },
   {
    "duration": 30,
    "start_time": "2022-11-16T11:36:31.610Z"
   },
   {
    "duration": 151,
    "start_time": "2022-11-16T11:36:31.642Z"
   },
   {
    "duration": 23,
    "start_time": "2022-11-16T11:36:31.794Z"
   },
   {
    "duration": 24,
    "start_time": "2022-11-16T11:36:31.819Z"
   },
   {
    "duration": 39,
    "start_time": "2022-11-16T11:36:31.844Z"
   },
   {
    "duration": 51,
    "start_time": "2022-11-16T11:36:31.885Z"
   },
   {
    "duration": 52,
    "start_time": "2022-11-16T11:36:31.937Z"
   },
   {
    "duration": 8,
    "start_time": "2022-11-16T11:36:31.991Z"
   },
   {
    "duration": 22,
    "start_time": "2022-11-16T11:36:32.001Z"
   },
   {
    "duration": 16,
    "start_time": "2022-11-16T11:36:32.036Z"
   },
   {
    "duration": 19,
    "start_time": "2022-11-16T11:36:32.054Z"
   },
   {
    "duration": 11,
    "start_time": "2022-11-16T11:36:32.075Z"
   },
   {
    "duration": 13,
    "start_time": "2022-11-16T11:36:32.088Z"
   },
   {
    "duration": 7,
    "start_time": "2022-11-16T11:36:32.102Z"
   },
   {
    "duration": 17,
    "start_time": "2022-11-16T11:36:32.110Z"
   },
   {
    "duration": 32,
    "start_time": "2022-11-16T11:36:32.129Z"
   },
   {
    "duration": 15,
    "start_time": "2022-11-16T11:36:32.163Z"
   },
   {
    "duration": 19,
    "start_time": "2022-11-16T11:36:32.180Z"
   },
   {
    "duration": 8,
    "start_time": "2022-11-16T11:36:32.201Z"
   },
   {
    "duration": 17,
    "start_time": "2022-11-16T11:36:32.210Z"
   },
   {
    "duration": 14,
    "start_time": "2022-11-16T11:36:32.230Z"
   },
   {
    "duration": 77,
    "start_time": "2022-11-16T11:36:32.245Z"
   },
   {
    "duration": 3,
    "start_time": "2022-11-16T11:36:32.324Z"
   },
   {
    "duration": 23,
    "start_time": "2022-11-16T11:36:32.330Z"
   },
   {
    "duration": 19,
    "start_time": "2022-11-16T11:36:32.355Z"
   },
   {
    "duration": 201,
    "start_time": "2022-11-16T11:36:32.376Z"
   },
   {
    "duration": 118,
    "start_time": "2022-11-16T11:38:43.007Z"
   },
   {
    "duration": 148,
    "start_time": "2022-11-16T11:38:50.024Z"
   },
   {
    "duration": 135,
    "start_time": "2022-11-16T11:40:59.247Z"
   },
   {
    "duration": 242,
    "start_time": "2022-11-16T11:41:17.595Z"
   },
   {
    "duration": 120,
    "start_time": "2022-11-16T11:41:34.486Z"
   },
   {
    "duration": 152,
    "start_time": "2022-11-16T11:41:38.573Z"
   },
   {
    "duration": 168,
    "start_time": "2022-11-16T11:42:44.127Z"
   },
   {
    "duration": 68,
    "start_time": "2022-11-16T11:43:42.035Z"
   },
   {
    "duration": 3,
    "start_time": "2022-11-16T11:43:42.421Z"
   },
   {
    "duration": 4,
    "start_time": "2022-11-16T11:43:42.787Z"
   },
   {
    "duration": 7,
    "start_time": "2022-11-16T11:43:43.109Z"
   },
   {
    "duration": 162,
    "start_time": "2022-11-16T11:43:43.533Z"
   },
   {
    "duration": 42,
    "start_time": "2022-11-16T11:44:42.301Z"
   },
   {
    "duration": 77,
    "start_time": "2022-11-16T11:48:08.189Z"
   },
   {
    "duration": 10,
    "start_time": "2022-11-16T11:48:11.112Z"
   },
   {
    "duration": 78,
    "start_time": "2022-11-16T11:48:34.186Z"
   },
   {
    "duration": 9,
    "start_time": "2022-11-16T11:48:34.668Z"
   },
   {
    "duration": 11,
    "start_time": "2022-11-16T11:50:14.697Z"
   },
   {
    "duration": 7,
    "start_time": "2022-11-16T11:50:21.147Z"
   },
   {
    "duration": 14,
    "start_time": "2022-11-16T11:50:45.950Z"
   },
   {
    "duration": 16,
    "start_time": "2022-11-16T11:52:06.586Z"
   },
   {
    "duration": 13,
    "start_time": "2022-11-16T11:52:12.489Z"
   },
   {
    "duration": 9,
    "start_time": "2022-11-16T11:52:27.643Z"
   },
   {
    "duration": 32,
    "start_time": "2022-11-16T11:58:48.936Z"
   },
   {
    "duration": 4,
    "start_time": "2022-11-16T11:58:53.120Z"
   },
   {
    "duration": 5,
    "start_time": "2022-11-16T11:59:02.998Z"
   },
   {
    "duration": 4,
    "start_time": "2022-11-16T11:59:53.301Z"
   },
   {
    "duration": 4,
    "start_time": "2022-11-16T11:59:57.758Z"
   },
   {
    "duration": 7,
    "start_time": "2022-11-16T12:01:01.814Z"
   },
   {
    "duration": 5,
    "start_time": "2022-11-16T12:01:07.194Z"
   },
   {
    "duration": 7,
    "start_time": "2022-11-16T12:01:09.910Z"
   },
   {
    "duration": 1018,
    "start_time": "2022-11-16T12:02:19.770Z"
   },
   {
    "duration": 4,
    "start_time": "2022-11-16T12:02:27.892Z"
   },
   {
    "duration": 8,
    "start_time": "2022-11-16T12:02:30.691Z"
   },
   {
    "duration": 4,
    "start_time": "2022-11-16T12:02:47.686Z"
   },
   {
    "duration": 7,
    "start_time": "2022-11-16T12:02:48.542Z"
   },
   {
    "duration": 6,
    "start_time": "2022-11-16T12:03:10.151Z"
   },
   {
    "duration": 8,
    "start_time": "2022-11-16T12:03:10.511Z"
   },
   {
    "duration": 9,
    "start_time": "2022-11-16T12:05:02.559Z"
   },
   {
    "duration": 50,
    "start_time": "2022-11-16T12:16:24.757Z"
   },
   {
    "duration": 53,
    "start_time": "2022-11-16T12:16:28.466Z"
   },
   {
    "duration": 49,
    "start_time": "2022-11-16T12:16:47.076Z"
   },
   {
    "duration": 6,
    "start_time": "2022-11-16T12:17:03.158Z"
   },
   {
    "duration": 13,
    "start_time": "2022-11-16T12:17:55.430Z"
   },
   {
    "duration": 7,
    "start_time": "2022-11-16T12:18:12.159Z"
   },
   {
    "duration": 18,
    "start_time": "2022-11-16T12:18:12.656Z"
   },
   {
    "duration": 3,
    "start_time": "2022-11-16T12:19:19.784Z"
   },
   {
    "duration": 6,
    "start_time": "2022-11-16T12:19:22.251Z"
   },
   {
    "duration": 4,
    "start_time": "2022-11-16T12:20:09.537Z"
   },
   {
    "duration": 4,
    "start_time": "2022-11-16T12:20:24.474Z"
   },
   {
    "duration": 5,
    "start_time": "2022-11-16T12:20:36.805Z"
   },
   {
    "duration": 4,
    "start_time": "2022-11-16T12:20:53.917Z"
   },
   {
    "duration": 12,
    "start_time": "2022-11-16T12:20:54.597Z"
   },
   {
    "duration": 3,
    "start_time": "2022-11-16T12:21:27.120Z"
   },
   {
    "duration": 4,
    "start_time": "2022-11-16T12:21:27.625Z"
   },
   {
    "duration": 4,
    "start_time": "2022-11-16T12:21:57.176Z"
   },
   {
    "duration": 4,
    "start_time": "2022-11-16T12:21:57.622Z"
   },
   {
    "duration": 5,
    "start_time": "2022-11-16T12:22:08.495Z"
   },
   {
    "duration": 4,
    "start_time": "2022-11-16T12:22:08.887Z"
   },
   {
    "duration": 4,
    "start_time": "2022-11-16T12:22:23.949Z"
   },
   {
    "duration": 14,
    "start_time": "2022-11-16T12:22:25.290Z"
   },
   {
    "duration": 4,
    "start_time": "2022-11-16T12:24:42.996Z"
   },
   {
    "duration": 4,
    "start_time": "2022-11-16T12:24:43.421Z"
   },
   {
    "duration": 7,
    "start_time": "2022-11-16T12:24:54.940Z"
   },
   {
    "duration": 4,
    "start_time": "2022-11-16T12:24:55.285Z"
   },
   {
    "duration": 5,
    "start_time": "2022-11-16T12:25:16.881Z"
   },
   {
    "duration": 13,
    "start_time": "2022-11-16T12:25:17.344Z"
   },
   {
    "duration": 4,
    "start_time": "2022-11-16T12:25:59.438Z"
   },
   {
    "duration": 5,
    "start_time": "2022-11-16T12:25:59.845Z"
   },
   {
    "duration": 6,
    "start_time": "2022-11-16T12:26:04.782Z"
   },
   {
    "duration": 5,
    "start_time": "2022-11-16T12:26:05.206Z"
   },
   {
    "duration": 6,
    "start_time": "2022-11-16T12:26:17.217Z"
   },
   {
    "duration": 4,
    "start_time": "2022-11-16T12:26:17.641Z"
   },
   {
    "duration": 55,
    "start_time": "2022-11-16T12:32:09.178Z"
   },
   {
    "duration": 79,
    "start_time": "2022-11-16T12:32:21.128Z"
   },
   {
    "duration": 5,
    "start_time": "2022-11-16T12:33:25.642Z"
   },
   {
    "duration": 5,
    "start_time": "2022-11-16T12:35:07.778Z"
   },
   {
    "duration": 4,
    "start_time": "2022-11-16T12:35:08.139Z"
   },
   {
    "duration": 5,
    "start_time": "2022-11-16T12:35:38.690Z"
   },
   {
    "duration": 5,
    "start_time": "2022-11-16T12:35:41.683Z"
   },
   {
    "duration": 5,
    "start_time": "2022-11-16T12:39:15.097Z"
   },
   {
    "duration": 4,
    "start_time": "2022-11-16T12:40:40.811Z"
   },
   {
    "duration": 5,
    "start_time": "2022-11-16T12:40:41.258Z"
   },
   {
    "duration": 5,
    "start_time": "2022-11-16T12:40:41.682Z"
   },
   {
    "duration": 51,
    "start_time": "2022-11-16T12:40:46.465Z"
   },
   {
    "duration": 3,
    "start_time": "2022-11-16T12:40:46.840Z"
   },
   {
    "duration": 4,
    "start_time": "2022-11-16T12:40:47.050Z"
   },
   {
    "duration": 7,
    "start_time": "2022-11-16T12:40:47.331Z"
   },
   {
    "duration": 153,
    "start_time": "2022-11-16T12:40:47.539Z"
   },
   {
    "duration": 72,
    "start_time": "2022-11-16T12:40:48.299Z"
   },
   {
    "duration": 6,
    "start_time": "2022-11-16T12:40:48.843Z"
   },
   {
    "duration": 9,
    "start_time": "2022-11-16T12:40:49.147Z"
   },
   {
    "duration": 6,
    "start_time": "2022-11-16T12:40:49.850Z"
   },
   {
    "duration": 8,
    "start_time": "2022-11-16T12:40:50.132Z"
   },
   {
    "duration": 5,
    "start_time": "2022-11-16T12:40:51.124Z"
   },
   {
    "duration": 7,
    "start_time": "2022-11-16T12:40:51.692Z"
   },
   {
    "duration": 5,
    "start_time": "2022-11-16T12:40:55.043Z"
   },
   {
    "duration": 95,
    "start_time": "2022-11-16T12:41:47.826Z"
   },
   {
    "duration": 17,
    "start_time": "2022-11-16T12:43:01.876Z"
   },
   {
    "duration": 5,
    "start_time": "2022-11-16T12:43:50.737Z"
   },
   {
    "duration": 5,
    "start_time": "2022-11-16T12:44:42.258Z"
   },
   {
    "duration": 5,
    "start_time": "2022-11-16T12:45:02.899Z"
   },
   {
    "duration": 46,
    "start_time": "2022-11-16T12:45:38.186Z"
   },
   {
    "duration": 5,
    "start_time": "2022-11-16T12:45:56.211Z"
   },
   {
    "duration": 51,
    "start_time": "2022-11-16T12:46:12.983Z"
   },
   {
    "duration": 6,
    "start_time": "2022-11-16T12:46:25.944Z"
   },
   {
    "duration": 810,
    "start_time": "2022-11-16T12:54:32.271Z"
   },
   {
    "duration": 4,
    "start_time": "2022-11-16T12:54:44.423Z"
   },
   {
    "duration": 842,
    "start_time": "2022-11-16T12:54:50.997Z"
   },
   {
    "duration": 1797,
    "start_time": "2022-11-16T12:55:01.882Z"
   },
   {
    "duration": 459,
    "start_time": "2022-11-16T12:55:30.817Z"
   },
   {
    "duration": 8,
    "start_time": "2022-11-16T12:55:41.234Z"
   },
   {
    "duration": 7,
    "start_time": "2022-11-16T12:56:11.085Z"
   },
   {
    "duration": 4,
    "start_time": "2022-11-16T12:56:44.730Z"
   },
   {
    "duration": 8,
    "start_time": "2022-11-16T12:57:02.499Z"
   },
   {
    "duration": 725,
    "start_time": "2022-11-16T12:57:35.648Z"
   },
   {
    "duration": 73,
    "start_time": "2022-11-16T13:09:29.070Z"
   },
   {
    "duration": 5,
    "start_time": "2022-11-16T13:09:29.575Z"
   },
   {
    "duration": 8,
    "start_time": "2022-11-16T13:09:29.986Z"
   },
   {
    "duration": 5,
    "start_time": "2022-11-16T13:09:44.936Z"
   },
   {
    "duration": 8,
    "start_time": "2022-11-16T13:09:45.162Z"
   },
   {
    "duration": 6,
    "start_time": "2022-11-16T13:09:46.413Z"
   },
   {
    "duration": 9,
    "start_time": "2022-11-16T13:09:46.619Z"
   },
   {
    "duration": 5,
    "start_time": "2022-11-16T13:09:47.237Z"
   },
   {
    "duration": 6,
    "start_time": "2022-11-16T13:09:47.439Z"
   },
   {
    "duration": 6,
    "start_time": "2022-11-16T13:09:48.740Z"
   },
   {
    "duration": 7,
    "start_time": "2022-11-16T13:09:49.140Z"
   },
   {
    "duration": 5,
    "start_time": "2022-11-16T13:09:49.510Z"
   },
   {
    "duration": 6,
    "start_time": "2022-11-16T13:09:49.919Z"
   },
   {
    "duration": 85,
    "start_time": "2022-11-16T13:14:12.442Z"
   },
   {
    "duration": 3,
    "start_time": "2022-11-16T13:14:16.675Z"
   },
   {
    "duration": 9,
    "start_time": "2022-11-16T13:15:03.105Z"
   },
   {
    "duration": 9,
    "start_time": "2022-11-16T13:16:25.540Z"
   },
   {
    "duration": 9,
    "start_time": "2022-11-16T13:16:40.778Z"
   },
   {
    "duration": 10,
    "start_time": "2022-11-16T13:17:43.400Z"
   },
   {
    "duration": 11,
    "start_time": "2022-11-16T13:17:44.023Z"
   },
   {
    "duration": 10,
    "start_time": "2022-11-16T13:18:21.643Z"
   },
   {
    "duration": 46,
    "start_time": "2022-11-16T13:21:24.516Z"
   },
   {
    "duration": 9,
    "start_time": "2022-11-16T13:21:29.764Z"
   },
   {
    "duration": 13,
    "start_time": "2022-11-16T13:22:34.956Z"
   },
   {
    "duration": 9,
    "start_time": "2022-11-16T13:22:35.484Z"
   },
   {
    "duration": 3,
    "start_time": "2022-11-16T13:24:21.932Z"
   },
   {
    "duration": 10,
    "start_time": "2022-11-16T13:24:22.307Z"
   },
   {
    "duration": 10,
    "start_time": "2022-11-16T13:24:25.661Z"
   },
   {
    "duration": 11,
    "start_time": "2022-11-16T13:24:34.133Z"
   },
   {
    "duration": 10,
    "start_time": "2022-11-16T13:24:34.594Z"
   },
   {
    "duration": 3,
    "start_time": "2022-11-16T13:25:00.008Z"
   },
   {
    "duration": 188,
    "start_time": "2022-11-16T13:25:00.013Z"
   },
   {
    "duration": 6,
    "start_time": "2022-11-16T13:25:00.203Z"
   },
   {
    "duration": 26,
    "start_time": "2022-11-16T13:25:00.211Z"
   },
   {
    "duration": 55,
    "start_time": "2022-11-16T13:25:00.239Z"
   },
   {
    "duration": 30,
    "start_time": "2022-11-16T13:25:00.295Z"
   },
   {
    "duration": 76,
    "start_time": "2022-11-16T13:25:00.327Z"
   },
   {
    "duration": 9,
    "start_time": "2022-11-16T13:25:00.404Z"
   },
   {
    "duration": 53,
    "start_time": "2022-11-16T13:25:00.415Z"
   },
   {
    "duration": 130,
    "start_time": "2022-11-16T13:25:00.470Z"
   },
   {
    "duration": 112,
    "start_time": "2022-11-16T13:25:00.602Z"
   },
   {
    "duration": 73,
    "start_time": "2022-11-16T13:25:00.716Z"
   },
   {
    "duration": 26,
    "start_time": "2022-11-16T13:25:00.791Z"
   },
   {
    "duration": 46,
    "start_time": "2022-11-16T13:25:00.819Z"
   },
   {
    "duration": 52,
    "start_time": "2022-11-16T13:25:00.867Z"
   },
   {
    "duration": 42,
    "start_time": "2022-11-16T13:25:00.921Z"
   },
   {
    "duration": 34,
    "start_time": "2022-11-16T13:25:00.965Z"
   },
   {
    "duration": 34,
    "start_time": "2022-11-16T13:25:01.001Z"
   },
   {
    "duration": 232,
    "start_time": "2022-11-16T13:25:01.037Z"
   },
   {
    "duration": 6,
    "start_time": "2022-11-16T13:25:01.270Z"
   },
   {
    "duration": 39,
    "start_time": "2022-11-16T13:25:01.278Z"
   },
   {
    "duration": 154,
    "start_time": "2022-11-16T13:25:01.319Z"
   },
   {
    "duration": 21,
    "start_time": "2022-11-16T13:25:01.474Z"
   },
   {
    "duration": 51,
    "start_time": "2022-11-16T13:25:01.497Z"
   },
   {
    "duration": 55,
    "start_time": "2022-11-16T13:25:01.549Z"
   },
   {
    "duration": 36,
    "start_time": "2022-11-16T13:25:01.606Z"
   },
   {
    "duration": 78,
    "start_time": "2022-11-16T13:25:01.643Z"
   },
   {
    "duration": 6,
    "start_time": "2022-11-16T13:25:01.722Z"
   },
   {
    "duration": 19,
    "start_time": "2022-11-16T13:25:01.732Z"
   },
   {
    "duration": 8,
    "start_time": "2022-11-16T13:25:01.752Z"
   },
   {
    "duration": 33,
    "start_time": "2022-11-16T13:25:01.762Z"
   },
   {
    "duration": 15,
    "start_time": "2022-11-16T13:25:01.796Z"
   },
   {
    "duration": 42,
    "start_time": "2022-11-16T13:25:01.812Z"
   },
   {
    "duration": 19,
    "start_time": "2022-11-16T13:25:01.856Z"
   },
   {
    "duration": 26,
    "start_time": "2022-11-16T13:25:01.877Z"
   },
   {
    "duration": 46,
    "start_time": "2022-11-16T13:25:01.904Z"
   },
   {
    "duration": 4,
    "start_time": "2022-11-16T13:25:01.952Z"
   },
   {
    "duration": 21,
    "start_time": "2022-11-16T13:25:01.957Z"
   },
   {
    "duration": 21,
    "start_time": "2022-11-16T13:25:01.980Z"
   },
   {
    "duration": 4,
    "start_time": "2022-11-16T13:25:02.003Z"
   },
   {
    "duration": 22,
    "start_time": "2022-11-16T13:25:02.008Z"
   },
   {
    "duration": 25,
    "start_time": "2022-11-16T13:25:02.031Z"
   },
   {
    "duration": 67,
    "start_time": "2022-11-16T13:25:02.058Z"
   },
   {
    "duration": 3,
    "start_time": "2022-11-16T13:25:02.127Z"
   },
   {
    "duration": 9,
    "start_time": "2022-11-16T13:25:02.132Z"
   },
   {
    "duration": 12,
    "start_time": "2022-11-16T13:25:02.143Z"
   },
   {
    "duration": 166,
    "start_time": "2022-11-16T13:25:02.157Z"
   },
   {
    "duration": 83,
    "start_time": "2022-11-16T13:25:02.325Z"
   },
   {
    "duration": 7,
    "start_time": "2022-11-16T13:25:02.410Z"
   },
   {
    "duration": 32,
    "start_time": "2022-11-16T13:25:02.419Z"
   },
   {
    "duration": 25,
    "start_time": "2022-11-16T13:25:02.453Z"
   },
   {
    "duration": 24,
    "start_time": "2022-11-16T13:25:02.480Z"
   },
   {
    "duration": 23,
    "start_time": "2022-11-16T13:25:02.506Z"
   },
   {
    "duration": 44,
    "start_time": "2022-11-16T13:25:02.531Z"
   },
   {
    "duration": 12,
    "start_time": "2022-11-16T13:25:02.578Z"
   },
   {
    "duration": 11,
    "start_time": "2022-11-16T13:25:02.593Z"
   },
   {
    "duration": 12,
    "start_time": "2022-11-16T13:25:02.606Z"
   },
   {
    "duration": 11,
    "start_time": "2022-11-16T13:25:02.620Z"
   },
   {
    "duration": 10,
    "start_time": "2022-11-16T13:25:02.633Z"
   },
   {
    "duration": 15,
    "start_time": "2022-11-16T13:25:02.646Z"
   },
   {
    "duration": 24,
    "start_time": "2022-11-16T13:25:02.663Z"
   },
   {
    "duration": 6,
    "start_time": "2022-11-16T13:25:53.969Z"
   },
   {
    "duration": 9,
    "start_time": "2022-11-16T13:25:54.422Z"
   },
   {
    "duration": 5,
    "start_time": "2022-11-16T13:26:09.898Z"
   },
   {
    "duration": 4,
    "start_time": "2022-11-16T13:26:24.108Z"
   },
   {
    "duration": 5,
    "start_time": "2022-11-16T13:26:35.837Z"
   },
   {
    "duration": 5,
    "start_time": "2022-11-16T13:26:41.175Z"
   },
   {
    "duration": 6,
    "start_time": "2022-11-16T13:26:43.646Z"
   },
   {
    "duration": 11,
    "start_time": "2022-11-16T13:27:00.881Z"
   },
   {
    "duration": 11,
    "start_time": "2022-11-16T13:27:04.497Z"
   },
   {
    "duration": 12,
    "start_time": "2022-11-16T13:27:08.008Z"
   },
   {
    "duration": 11,
    "start_time": "2022-11-16T13:27:28.669Z"
   },
   {
    "duration": 10,
    "start_time": "2022-11-16T13:27:29.098Z"
   },
   {
    "duration": 49,
    "start_time": "2022-11-16T13:41:57.079Z"
   },
   {
    "duration": 5,
    "start_time": "2022-11-16T13:42:05.297Z"
   },
   {
    "duration": 4,
    "start_time": "2022-11-16T13:42:05.938Z"
   },
   {
    "duration": 4,
    "start_time": "2022-11-16T13:42:06.520Z"
   },
   {
    "duration": 54,
    "start_time": "2022-11-16T13:42:11.344Z"
   },
   {
    "duration": 3,
    "start_time": "2022-11-16T13:42:11.625Z"
   },
   {
    "duration": 5,
    "start_time": "2022-11-16T13:42:12.184Z"
   },
   {
    "duration": 7,
    "start_time": "2022-11-16T13:42:12.600Z"
   },
   {
    "duration": 148,
    "start_time": "2022-11-16T13:42:13.561Z"
   },
   {
    "duration": 74,
    "start_time": "2022-11-16T13:42:14.857Z"
   },
   {
    "duration": 5,
    "start_time": "2022-11-16T13:42:15.057Z"
   },
   {
    "duration": 7,
    "start_time": "2022-11-16T13:42:15.336Z"
   },
   {
    "duration": 5,
    "start_time": "2022-11-16T13:42:16.230Z"
   },
   {
    "duration": 8,
    "start_time": "2022-11-16T13:42:16.529Z"
   },
   {
    "duration": 5,
    "start_time": "2022-11-16T13:42:18.195Z"
   },
   {
    "duration": 6,
    "start_time": "2022-11-16T13:42:19.106Z"
   },
   {
    "duration": 5,
    "start_time": "2022-11-16T13:42:26.055Z"
   },
   {
    "duration": 5,
    "start_time": "2022-11-16T13:42:35.709Z"
   },
   {
    "duration": 5,
    "start_time": "2022-11-16T13:42:39.605Z"
   },
   {
    "duration": 6,
    "start_time": "2022-11-16T13:42:43.629Z"
   },
   {
    "duration": 4,
    "start_time": "2022-11-16T13:42:46.437Z"
   },
   {
    "duration": 10,
    "start_time": "2022-11-16T13:42:50.878Z"
   },
   {
    "duration": 12,
    "start_time": "2022-11-16T13:44:19.267Z"
   },
   {
    "duration": 47,
    "start_time": "2022-11-16T13:45:16.569Z"
   },
   {
    "duration": 11,
    "start_time": "2022-11-16T13:45:38.020Z"
   },
   {
    "duration": 14,
    "start_time": "2022-11-16T13:45:51.949Z"
   },
   {
    "duration": 908,
    "start_time": "2022-11-16T13:46:12.032Z"
   },
   {
    "duration": 4,
    "start_time": "2022-11-16T13:46:26.891Z"
   },
   {
    "duration": 16,
    "start_time": "2022-11-16T13:46:36.708Z"
   },
   {
    "duration": 12,
    "start_time": "2022-11-16T13:47:30.107Z"
   },
   {
    "duration": 12,
    "start_time": "2022-11-16T13:47:40.212Z"
   },
   {
    "duration": 10,
    "start_time": "2022-11-16T13:48:43.302Z"
   },
   {
    "duration": 13,
    "start_time": "2022-11-16T13:49:16.769Z"
   },
   {
    "duration": 13,
    "start_time": "2022-11-16T13:49:21.066Z"
   },
   {
    "duration": 12,
    "start_time": "2022-11-16T13:49:25.587Z"
   },
   {
    "duration": 10,
    "start_time": "2022-11-16T13:50:19.347Z"
   },
   {
    "duration": 13,
    "start_time": "2022-11-16T13:50:31.995Z"
   },
   {
    "duration": 15,
    "start_time": "2022-11-16T13:54:26.152Z"
   },
   {
    "duration": 13,
    "start_time": "2022-11-16T13:54:55.342Z"
   },
   {
    "duration": 12,
    "start_time": "2022-11-16T13:55:01.938Z"
   },
   {
    "duration": 17,
    "start_time": "2022-11-16T13:55:14.149Z"
   },
   {
    "duration": 17,
    "start_time": "2022-11-16T13:55:16.824Z"
   },
   {
    "duration": 16,
    "start_time": "2022-11-16T13:55:20.281Z"
   },
   {
    "duration": 15,
    "start_time": "2022-11-16T13:55:24.855Z"
   },
   {
    "duration": 15,
    "start_time": "2022-11-16T13:55:28.173Z"
   },
   {
    "duration": 13,
    "start_time": "2022-11-16T13:55:31.859Z"
   },
   {
    "duration": 10,
    "start_time": "2022-11-16T13:55:35.411Z"
   },
   {
    "duration": 12,
    "start_time": "2022-11-16T13:55:48.015Z"
   },
   {
    "duration": 11,
    "start_time": "2022-11-16T13:57:04.490Z"
   },
   {
    "duration": 13,
    "start_time": "2022-11-16T13:58:51.805Z"
   },
   {
    "duration": 11,
    "start_time": "2022-11-16T14:02:07.229Z"
   },
   {
    "duration": 52,
    "start_time": "2022-11-16T14:02:47.019Z"
   },
   {
    "duration": 119,
    "start_time": "2022-11-16T14:03:27.882Z"
   },
   {
    "duration": 49,
    "start_time": "2022-11-16T14:03:50.734Z"
   },
   {
    "duration": 54,
    "start_time": "2022-11-16T14:05:27.507Z"
   },
   {
    "duration": 72,
    "start_time": "2022-11-16T14:05:51.082Z"
   },
   {
    "duration": 11,
    "start_time": "2022-11-16T14:05:59.081Z"
   },
   {
    "duration": 248,
    "start_time": "2022-11-16T14:06:45.733Z"
   },
   {
    "duration": 78,
    "start_time": "2022-11-16T14:21:45.076Z"
   },
   {
    "duration": 4,
    "start_time": "2022-11-16T14:44:22.944Z"
   },
   {
    "duration": 194,
    "start_time": "2022-11-16T14:44:22.950Z"
   },
   {
    "duration": 7,
    "start_time": "2022-11-16T14:44:23.146Z"
   },
   {
    "duration": 22,
    "start_time": "2022-11-16T14:44:23.155Z"
   },
   {
    "duration": 30,
    "start_time": "2022-11-16T14:44:23.179Z"
   },
   {
    "duration": 9,
    "start_time": "2022-11-16T14:44:23.211Z"
   },
   {
    "duration": 86,
    "start_time": "2022-11-16T14:44:23.222Z"
   },
   {
    "duration": 9,
    "start_time": "2022-11-16T14:44:23.310Z"
   },
   {
    "duration": 51,
    "start_time": "2022-11-16T14:44:23.322Z"
   },
   {
    "duration": 82,
    "start_time": "2022-11-16T14:44:23.375Z"
   },
   {
    "duration": 104,
    "start_time": "2022-11-16T14:44:23.459Z"
   },
   {
    "duration": 72,
    "start_time": "2022-11-16T14:44:23.565Z"
   },
   {
    "duration": 17,
    "start_time": "2022-11-16T14:44:23.639Z"
   },
   {
    "duration": 18,
    "start_time": "2022-11-16T14:44:23.658Z"
   },
   {
    "duration": 25,
    "start_time": "2022-11-16T14:44:23.678Z"
   },
   {
    "duration": 11,
    "start_time": "2022-11-16T14:44:23.705Z"
   },
   {
    "duration": 26,
    "start_time": "2022-11-16T14:44:23.718Z"
   },
   {
    "duration": 13,
    "start_time": "2022-11-16T14:44:23.747Z"
   },
   {
    "duration": 210,
    "start_time": "2022-11-16T14:44:23.763Z"
   },
   {
    "duration": 8,
    "start_time": "2022-11-16T14:44:23.974Z"
   },
   {
    "duration": 54,
    "start_time": "2022-11-16T14:44:23.984Z"
   },
   {
    "duration": 138,
    "start_time": "2022-11-16T14:44:24.040Z"
   },
   {
    "duration": 23,
    "start_time": "2022-11-16T14:44:24.179Z"
   },
   {
    "duration": 30,
    "start_time": "2022-11-16T14:44:24.207Z"
   },
   {
    "duration": 36,
    "start_time": "2022-11-16T14:44:24.239Z"
   },
   {
    "duration": 30,
    "start_time": "2022-11-16T14:44:24.277Z"
   },
   {
    "duration": 76,
    "start_time": "2022-11-16T14:44:24.309Z"
   },
   {
    "duration": 7,
    "start_time": "2022-11-16T14:44:24.386Z"
   },
   {
    "duration": 12,
    "start_time": "2022-11-16T14:44:24.395Z"
   },
   {
    "duration": 8,
    "start_time": "2022-11-16T14:44:24.409Z"
   },
   {
    "duration": 6,
    "start_time": "2022-11-16T14:44:24.436Z"
   },
   {
    "duration": 17,
    "start_time": "2022-11-16T14:44:24.444Z"
   },
   {
    "duration": 16,
    "start_time": "2022-11-16T14:44:24.463Z"
   },
   {
    "duration": 10,
    "start_time": "2022-11-16T14:44:24.481Z"
   },
   {
    "duration": 18,
    "start_time": "2022-11-16T14:44:24.493Z"
   },
   {
    "duration": 33,
    "start_time": "2022-11-16T14:44:24.513Z"
   },
   {
    "duration": 6,
    "start_time": "2022-11-16T14:44:24.548Z"
   },
   {
    "duration": 20,
    "start_time": "2022-11-16T14:44:24.555Z"
   },
   {
    "duration": 12,
    "start_time": "2022-11-16T14:44:24.576Z"
   },
   {
    "duration": 5,
    "start_time": "2022-11-16T14:44:24.589Z"
   },
   {
    "duration": 8,
    "start_time": "2022-11-16T14:44:24.596Z"
   },
   {
    "duration": 15,
    "start_time": "2022-11-16T14:44:24.605Z"
   },
   {
    "duration": 50,
    "start_time": "2022-11-16T14:44:24.636Z"
   },
   {
    "duration": 3,
    "start_time": "2022-11-16T14:44:24.688Z"
   },
   {
    "duration": 7,
    "start_time": "2022-11-16T14:44:24.692Z"
   },
   {
    "duration": 12,
    "start_time": "2022-11-16T14:44:24.700Z"
   },
   {
    "duration": 178,
    "start_time": "2022-11-16T14:44:24.714Z"
   },
   {
    "duration": 89,
    "start_time": "2022-11-16T14:44:24.894Z"
   },
   {
    "duration": 5,
    "start_time": "2022-11-16T14:44:24.985Z"
   },
   {
    "duration": 28,
    "start_time": "2022-11-16T14:44:24.992Z"
   },
   {
    "duration": 22,
    "start_time": "2022-11-16T14:44:25.021Z"
   },
   {
    "duration": 26,
    "start_time": "2022-11-16T14:44:25.045Z"
   },
   {
    "duration": 105,
    "start_time": "2022-11-16T14:44:25.073Z"
   },
   {
    "duration": 21,
    "start_time": "2022-11-16T14:44:25.180Z"
   },
   {
    "duration": 12,
    "start_time": "2022-11-16T14:44:25.203Z"
   },
   {
    "duration": 41,
    "start_time": "2022-11-16T14:44:25.217Z"
   },
   {
    "duration": 13,
    "start_time": "2022-11-16T14:45:51.771Z"
   },
   {
    "duration": 4,
    "start_time": "2022-11-16T14:45:55.820Z"
   },
   {
    "duration": 11,
    "start_time": "2022-11-16T14:46:26.519Z"
   },
   {
    "duration": 12,
    "start_time": "2022-11-16T14:46:33.449Z"
   },
   {
    "duration": 3,
    "start_time": "2022-11-16T14:47:48.370Z"
   },
   {
    "duration": 199,
    "start_time": "2022-11-16T14:47:48.376Z"
   },
   {
    "duration": 7,
    "start_time": "2022-11-16T14:47:48.577Z"
   },
   {
    "duration": 19,
    "start_time": "2022-11-16T14:47:48.586Z"
   },
   {
    "duration": 37,
    "start_time": "2022-11-16T14:47:48.607Z"
   },
   {
    "duration": 21,
    "start_time": "2022-11-16T14:47:48.645Z"
   },
   {
    "duration": 93,
    "start_time": "2022-11-16T14:47:48.668Z"
   },
   {
    "duration": 24,
    "start_time": "2022-11-16T14:47:48.763Z"
   },
   {
    "duration": 43,
    "start_time": "2022-11-16T14:47:48.791Z"
   },
   {
    "duration": 84,
    "start_time": "2022-11-16T14:47:48.836Z"
   },
   {
    "duration": 129,
    "start_time": "2022-11-16T14:47:48.922Z"
   },
   {
    "duration": 99,
    "start_time": "2022-11-16T14:47:49.054Z"
   },
   {
    "duration": 21,
    "start_time": "2022-11-16T14:47:49.156Z"
   },
   {
    "duration": 15,
    "start_time": "2022-11-16T14:47:49.179Z"
   },
   {
    "duration": 42,
    "start_time": "2022-11-16T14:47:49.196Z"
   },
   {
    "duration": 8,
    "start_time": "2022-11-16T14:47:49.240Z"
   },
   {
    "duration": 34,
    "start_time": "2022-11-16T14:47:49.249Z"
   },
   {
    "duration": 16,
    "start_time": "2022-11-16T14:47:49.285Z"
   },
   {
    "duration": 245,
    "start_time": "2022-11-16T14:47:49.303Z"
   },
   {
    "duration": 7,
    "start_time": "2022-11-16T14:47:49.550Z"
   },
   {
    "duration": 40,
    "start_time": "2022-11-16T14:47:49.559Z"
   },
   {
    "duration": 149,
    "start_time": "2022-11-16T14:47:49.601Z"
   },
   {
    "duration": 24,
    "start_time": "2022-11-16T14:47:49.752Z"
   },
   {
    "duration": 13,
    "start_time": "2022-11-16T14:47:49.780Z"
   },
   {
    "duration": 60,
    "start_time": "2022-11-16T14:47:49.794Z"
   },
   {
    "duration": 30,
    "start_time": "2022-11-16T14:47:49.856Z"
   },
   {
    "duration": 71,
    "start_time": "2022-11-16T14:47:49.888Z"
   },
   {
    "duration": 7,
    "start_time": "2022-11-16T14:47:49.961Z"
   },
   {
    "duration": 29,
    "start_time": "2022-11-16T14:47:49.970Z"
   },
   {
    "duration": 34,
    "start_time": "2022-11-16T14:47:50.001Z"
   },
   {
    "duration": 11,
    "start_time": "2022-11-16T14:47:50.037Z"
   },
   {
    "duration": 11,
    "start_time": "2022-11-16T14:47:50.050Z"
   },
   {
    "duration": 17,
    "start_time": "2022-11-16T14:47:50.063Z"
   },
   {
    "duration": 14,
    "start_time": "2022-11-16T14:47:50.082Z"
   },
   {
    "duration": 17,
    "start_time": "2022-11-16T14:47:50.098Z"
   },
   {
    "duration": 35,
    "start_time": "2022-11-16T14:47:50.116Z"
   },
   {
    "duration": 5,
    "start_time": "2022-11-16T14:47:50.153Z"
   },
   {
    "duration": 16,
    "start_time": "2022-11-16T14:47:50.160Z"
   },
   {
    "duration": 14,
    "start_time": "2022-11-16T14:47:50.179Z"
   },
   {
    "duration": 14,
    "start_time": "2022-11-16T14:47:50.195Z"
   },
   {
    "duration": 28,
    "start_time": "2022-11-16T14:47:50.210Z"
   },
   {
    "duration": 9,
    "start_time": "2022-11-16T14:47:50.240Z"
   },
   {
    "duration": 12,
    "start_time": "2022-11-16T14:47:50.251Z"
   },
   {
    "duration": 56,
    "start_time": "2022-11-16T14:47:50.264Z"
   },
   {
    "duration": 3,
    "start_time": "2022-11-16T14:47:50.322Z"
   },
   {
    "duration": 10,
    "start_time": "2022-11-16T14:47:50.327Z"
   },
   {
    "duration": 12,
    "start_time": "2022-11-16T14:47:50.339Z"
   },
   {
    "duration": 176,
    "start_time": "2022-11-16T14:47:50.353Z"
   },
   {
    "duration": 78,
    "start_time": "2022-11-16T14:47:50.530Z"
   },
   {
    "duration": 4,
    "start_time": "2022-11-16T14:47:50.610Z"
   },
   {
    "duration": 21,
    "start_time": "2022-11-16T14:47:50.616Z"
   },
   {
    "duration": 8,
    "start_time": "2022-11-16T14:47:50.638Z"
   },
   {
    "duration": 15,
    "start_time": "2022-11-16T14:47:50.648Z"
   },
   {
    "duration": 15,
    "start_time": "2022-11-16T14:47:50.665Z"
   },
   {
    "duration": 24,
    "start_time": "2022-11-16T14:47:50.681Z"
   },
   {
    "duration": 12,
    "start_time": "2022-11-16T14:47:50.707Z"
   },
   {
    "duration": 19,
    "start_time": "2022-11-16T14:47:50.721Z"
   },
   {
    "duration": 45,
    "start_time": "2022-11-16T14:49:53.314Z"
   },
   {
    "duration": 5,
    "start_time": "2022-11-16T15:19:26.714Z"
   },
   {
    "duration": 1174,
    "start_time": "2022-11-16T15:52:15.981Z"
   },
   {
    "duration": 174,
    "start_time": "2022-11-16T15:52:17.157Z"
   },
   {
    "duration": 11,
    "start_time": "2022-11-16T15:52:17.332Z"
   },
   {
    "duration": 10,
    "start_time": "2022-11-16T15:52:17.345Z"
   },
   {
    "duration": 28,
    "start_time": "2022-11-16T15:52:17.358Z"
   },
   {
    "duration": 12,
    "start_time": "2022-11-16T15:52:17.388Z"
   },
   {
    "duration": 79,
    "start_time": "2022-11-16T15:52:17.401Z"
   },
   {
    "duration": 9,
    "start_time": "2022-11-16T15:52:17.482Z"
   },
   {
    "duration": 44,
    "start_time": "2022-11-16T15:52:17.493Z"
   },
   {
    "duration": 97,
    "start_time": "2022-11-16T15:52:17.539Z"
   },
   {
    "duration": 121,
    "start_time": "2022-11-16T15:52:17.638Z"
   },
   {
    "duration": 75,
    "start_time": "2022-11-16T15:52:17.761Z"
   },
   {
    "duration": 19,
    "start_time": "2022-11-16T15:52:17.837Z"
   },
   {
    "duration": 8,
    "start_time": "2022-11-16T15:52:17.860Z"
   },
   {
    "duration": 19,
    "start_time": "2022-11-16T15:52:17.870Z"
   },
   {
    "duration": 6,
    "start_time": "2022-11-16T15:52:17.891Z"
   },
   {
    "duration": 40,
    "start_time": "2022-11-16T15:52:17.899Z"
   },
   {
    "duration": 7,
    "start_time": "2022-11-16T15:52:17.941Z"
   },
   {
    "duration": 324,
    "start_time": "2022-11-16T15:52:17.949Z"
   },
   {
    "duration": 6,
    "start_time": "2022-11-16T15:52:18.275Z"
   },
   {
    "duration": 27,
    "start_time": "2022-11-16T15:52:18.282Z"
   },
   {
    "duration": 158,
    "start_time": "2022-11-16T15:52:18.311Z"
   },
   {
    "duration": 23,
    "start_time": "2022-11-16T15:52:18.472Z"
   },
   {
    "duration": 10,
    "start_time": "2022-11-16T15:52:18.497Z"
   },
   {
    "duration": 54,
    "start_time": "2022-11-16T15:52:18.509Z"
   },
   {
    "duration": 30,
    "start_time": "2022-11-16T15:52:18.565Z"
   },
   {
    "duration": 75,
    "start_time": "2022-11-16T15:52:18.597Z"
   },
   {
    "duration": 7,
    "start_time": "2022-11-16T15:52:18.674Z"
   },
   {
    "duration": 16,
    "start_time": "2022-11-16T15:52:18.683Z"
   },
   {
    "duration": 26,
    "start_time": "2022-11-16T15:52:18.701Z"
   },
   {
    "duration": 24,
    "start_time": "2022-11-16T15:52:18.730Z"
   },
   {
    "duration": 20,
    "start_time": "2022-11-16T15:52:18.756Z"
   },
   {
    "duration": 28,
    "start_time": "2022-11-16T15:52:18.778Z"
   },
   {
    "duration": 14,
    "start_time": "2022-11-16T15:52:18.808Z"
   },
   {
    "duration": 177,
    "start_time": "2022-11-16T15:52:18.824Z"
   },
   {
    "duration": 41,
    "start_time": "2022-11-16T15:52:19.004Z"
   },
   {
    "duration": 5,
    "start_time": "2022-11-16T15:52:19.047Z"
   },
   {
    "duration": 83,
    "start_time": "2022-11-16T15:52:19.054Z"
   },
   {
    "duration": 13,
    "start_time": "2022-11-16T15:52:19.139Z"
   },
   {
    "duration": 19,
    "start_time": "2022-11-16T15:52:19.154Z"
   },
   {
    "duration": 4,
    "start_time": "2022-11-16T15:52:19.178Z"
   },
   {
    "duration": 13,
    "start_time": "2022-11-16T15:52:19.184Z"
   },
   {
    "duration": 9,
    "start_time": "2022-11-16T15:52:19.199Z"
   },
   {
    "duration": 74,
    "start_time": "2022-11-16T15:52:19.210Z"
   },
   {
    "duration": 3,
    "start_time": "2022-11-16T15:52:19.285Z"
   },
   {
    "duration": 22,
    "start_time": "2022-11-16T15:52:19.290Z"
   },
   {
    "duration": 13,
    "start_time": "2022-11-16T15:52:19.313Z"
   },
   {
    "duration": 165,
    "start_time": "2022-11-16T15:52:19.328Z"
   },
   {
    "duration": 86,
    "start_time": "2022-11-16T15:52:19.495Z"
   },
   {
    "duration": 5,
    "start_time": "2022-11-16T15:52:19.583Z"
   },
   {
    "duration": 22,
    "start_time": "2022-11-16T15:52:19.589Z"
   },
   {
    "duration": 23,
    "start_time": "2022-11-16T15:52:19.613Z"
   },
   {
    "duration": 28,
    "start_time": "2022-11-16T15:52:19.638Z"
   },
   {
    "duration": 25,
    "start_time": "2022-11-16T15:52:19.667Z"
   },
   {
    "duration": 23,
    "start_time": "2022-11-16T15:52:19.693Z"
   },
   {
    "duration": 18,
    "start_time": "2022-11-16T15:52:19.717Z"
   },
   {
    "duration": 13,
    "start_time": "2022-11-16T15:52:19.736Z"
   },
   {
    "duration": 3,
    "start_time": "2022-11-16T15:52:38.053Z"
   },
   {
    "duration": 184,
    "start_time": "2022-11-16T15:52:38.058Z"
   },
   {
    "duration": 8,
    "start_time": "2022-11-16T15:52:38.244Z"
   },
   {
    "duration": 11,
    "start_time": "2022-11-16T15:52:38.254Z"
   },
   {
    "duration": 29,
    "start_time": "2022-11-16T15:52:38.267Z"
   },
   {
    "duration": 11,
    "start_time": "2022-11-16T15:52:38.298Z"
   },
   {
    "duration": 79,
    "start_time": "2022-11-16T15:52:38.311Z"
   },
   {
    "duration": 13,
    "start_time": "2022-11-16T15:52:38.392Z"
   },
   {
    "duration": 40,
    "start_time": "2022-11-16T15:52:38.407Z"
   },
   {
    "duration": 74,
    "start_time": "2022-11-16T15:52:38.449Z"
   },
   {
    "duration": 102,
    "start_time": "2022-11-16T15:52:38.534Z"
   },
   {
    "duration": 79,
    "start_time": "2022-11-16T15:52:38.638Z"
   },
   {
    "duration": 42,
    "start_time": "2022-11-16T15:52:38.719Z"
   },
   {
    "duration": 9,
    "start_time": "2022-11-16T15:52:38.763Z"
   },
   {
    "duration": 30,
    "start_time": "2022-11-16T15:52:38.774Z"
   },
   {
    "duration": 40,
    "start_time": "2022-11-16T15:52:38.806Z"
   },
   {
    "duration": 9,
    "start_time": "2022-11-16T15:52:38.849Z"
   },
   {
    "duration": 14,
    "start_time": "2022-11-16T15:52:38.859Z"
   },
   {
    "duration": 247,
    "start_time": "2022-11-16T15:52:38.874Z"
   },
   {
    "duration": 14,
    "start_time": "2022-11-16T15:52:39.122Z"
   },
   {
    "duration": 24,
    "start_time": "2022-11-16T15:52:39.137Z"
   },
   {
    "duration": 149,
    "start_time": "2022-11-16T15:52:39.163Z"
   },
   {
    "duration": 30,
    "start_time": "2022-11-16T15:52:39.314Z"
   },
   {
    "duration": 22,
    "start_time": "2022-11-16T15:52:39.345Z"
   },
   {
    "duration": 47,
    "start_time": "2022-11-16T15:52:39.369Z"
   },
   {
    "duration": 30,
    "start_time": "2022-11-16T15:52:39.418Z"
   },
   {
    "duration": 144,
    "start_time": "2022-11-16T15:52:39.450Z"
   },
   {
    "duration": 6,
    "start_time": "2022-11-16T15:52:39.596Z"
   },
   {
    "duration": 11,
    "start_time": "2022-11-16T15:52:39.606Z"
   },
   {
    "duration": 13,
    "start_time": "2022-11-16T15:52:39.618Z"
   },
   {
    "duration": 11,
    "start_time": "2022-11-16T15:52:39.632Z"
   },
   {
    "duration": 11,
    "start_time": "2022-11-16T15:52:39.645Z"
   },
   {
    "duration": 24,
    "start_time": "2022-11-16T15:52:39.658Z"
   },
   {
    "duration": 11,
    "start_time": "2022-11-16T15:52:39.684Z"
   },
   {
    "duration": 15,
    "start_time": "2022-11-16T15:52:39.697Z"
   },
   {
    "duration": 43,
    "start_time": "2022-11-16T15:52:39.713Z"
   },
   {
    "duration": 4,
    "start_time": "2022-11-16T15:52:39.758Z"
   },
   {
    "duration": 19,
    "start_time": "2022-11-16T15:52:39.764Z"
   },
   {
    "duration": 11,
    "start_time": "2022-11-16T15:52:39.785Z"
   },
   {
    "duration": 15,
    "start_time": "2022-11-16T15:52:39.798Z"
   },
   {
    "duration": 23,
    "start_time": "2022-11-16T15:52:39.815Z"
   },
   {
    "duration": 17,
    "start_time": "2022-11-16T15:52:39.840Z"
   },
   {
    "duration": 20,
    "start_time": "2022-11-16T15:52:39.858Z"
   },
   {
    "duration": 75,
    "start_time": "2022-11-16T15:52:39.880Z"
   },
   {
    "duration": 3,
    "start_time": "2022-11-16T15:52:39.957Z"
   },
   {
    "duration": 12,
    "start_time": "2022-11-16T15:52:39.962Z"
   },
   {
    "duration": 19,
    "start_time": "2022-11-16T15:52:39.975Z"
   },
   {
    "duration": 185,
    "start_time": "2022-11-16T15:52:39.995Z"
   },
   {
    "duration": 81,
    "start_time": "2022-11-16T15:52:40.182Z"
   },
   {
    "duration": 5,
    "start_time": "2022-11-16T15:52:40.264Z"
   },
   {
    "duration": 80,
    "start_time": "2022-11-16T15:52:40.270Z"
   },
   {
    "duration": 12,
    "start_time": "2022-11-16T15:52:40.352Z"
   },
   {
    "duration": 15,
    "start_time": "2022-11-16T15:52:40.366Z"
   },
   {
    "duration": 8,
    "start_time": "2022-11-16T15:52:40.383Z"
   },
   {
    "duration": 26,
    "start_time": "2022-11-16T15:52:40.393Z"
   },
   {
    "duration": 14,
    "start_time": "2022-11-16T15:52:40.421Z"
   },
   {
    "duration": 12,
    "start_time": "2022-11-16T15:52:40.436Z"
   },
   {
    "duration": 4,
    "start_time": "2022-11-16T15:52:56.725Z"
   },
   {
    "duration": 231,
    "start_time": "2022-11-16T15:52:56.731Z"
   },
   {
    "duration": 7,
    "start_time": "2022-11-16T15:52:56.964Z"
   },
   {
    "duration": 42,
    "start_time": "2022-11-16T15:52:56.973Z"
   },
   {
    "duration": 48,
    "start_time": "2022-11-16T15:52:57.017Z"
   },
   {
    "duration": 32,
    "start_time": "2022-11-16T15:52:57.067Z"
   },
   {
    "duration": 97,
    "start_time": "2022-11-16T15:52:57.101Z"
   },
   {
    "duration": 9,
    "start_time": "2022-11-16T15:52:57.200Z"
   },
   {
    "duration": 60,
    "start_time": "2022-11-16T15:52:57.210Z"
   },
   {
    "duration": 94,
    "start_time": "2022-11-16T15:52:57.272Z"
   },
   {
    "duration": 114,
    "start_time": "2022-11-16T15:52:57.368Z"
   },
   {
    "duration": 81,
    "start_time": "2022-11-16T15:52:57.484Z"
   },
   {
    "duration": 19,
    "start_time": "2022-11-16T15:52:57.567Z"
   },
   {
    "duration": 43,
    "start_time": "2022-11-16T15:52:57.588Z"
   },
   {
    "duration": 64,
    "start_time": "2022-11-16T15:52:57.633Z"
   },
   {
    "duration": 21,
    "start_time": "2022-11-16T15:52:57.699Z"
   },
   {
    "duration": 23,
    "start_time": "2022-11-16T15:52:57.722Z"
   },
   {
    "duration": 63,
    "start_time": "2022-11-16T15:52:57.747Z"
   },
   {
    "duration": 244,
    "start_time": "2022-11-16T15:52:57.812Z"
   },
   {
    "duration": 7,
    "start_time": "2022-11-16T15:52:58.058Z"
   },
   {
    "duration": 59,
    "start_time": "2022-11-16T15:52:58.067Z"
   },
   {
    "duration": 136,
    "start_time": "2022-11-16T15:52:58.128Z"
   },
   {
    "duration": 21,
    "start_time": "2022-11-16T15:52:58.265Z"
   },
   {
    "duration": 52,
    "start_time": "2022-11-16T15:52:58.288Z"
   },
   {
    "duration": 60,
    "start_time": "2022-11-16T15:52:58.341Z"
   },
   {
    "duration": 43,
    "start_time": "2022-11-16T15:52:58.403Z"
   },
   {
    "duration": 68,
    "start_time": "2022-11-16T15:52:58.448Z"
   },
   {
    "duration": 8,
    "start_time": "2022-11-16T15:52:58.518Z"
   },
   {
    "duration": 38,
    "start_time": "2022-11-16T15:52:58.530Z"
   },
   {
    "duration": 49,
    "start_time": "2022-11-16T15:52:58.569Z"
   },
   {
    "duration": 35,
    "start_time": "2022-11-16T15:52:58.620Z"
   },
   {
    "duration": 38,
    "start_time": "2022-11-16T15:52:58.657Z"
   },
   {
    "duration": 34,
    "start_time": "2022-11-16T15:52:58.696Z"
   },
   {
    "duration": 37,
    "start_time": "2022-11-16T15:52:58.731Z"
   },
   {
    "duration": 88,
    "start_time": "2022-11-16T15:52:58.770Z"
   },
   {
    "duration": 66,
    "start_time": "2022-11-16T15:52:58.859Z"
   },
   {
    "duration": 20,
    "start_time": "2022-11-16T15:52:58.927Z"
   },
   {
    "duration": 67,
    "start_time": "2022-11-16T15:52:58.948Z"
   },
   {
    "duration": 38,
    "start_time": "2022-11-16T15:52:59.017Z"
   },
   {
    "duration": 55,
    "start_time": "2022-11-16T15:52:59.056Z"
   },
   {
    "duration": 11,
    "start_time": "2022-11-16T15:52:59.114Z"
   },
   {
    "duration": 60,
    "start_time": "2022-11-16T15:52:59.127Z"
   },
   {
    "duration": 31,
    "start_time": "2022-11-16T15:52:59.189Z"
   },
   {
    "duration": 92,
    "start_time": "2022-11-16T15:52:59.222Z"
   },
   {
    "duration": 3,
    "start_time": "2022-11-16T15:52:59.315Z"
   },
   {
    "duration": 44,
    "start_time": "2022-11-16T15:52:59.320Z"
   },
   {
    "duration": 34,
    "start_time": "2022-11-16T15:52:59.366Z"
   },
   {
    "duration": 210,
    "start_time": "2022-11-16T15:52:59.402Z"
   },
   {
    "duration": 77,
    "start_time": "2022-11-16T15:52:59.613Z"
   },
   {
    "duration": 4,
    "start_time": "2022-11-16T15:52:59.692Z"
   },
   {
    "duration": 59,
    "start_time": "2022-11-16T15:52:59.698Z"
   },
   {
    "duration": 28,
    "start_time": "2022-11-16T15:52:59.758Z"
   },
   {
    "duration": 48,
    "start_time": "2022-11-16T15:52:59.788Z"
   },
   {
    "duration": 47,
    "start_time": "2022-11-16T15:52:59.837Z"
   },
   {
    "duration": 40,
    "start_time": "2022-11-16T15:52:59.885Z"
   },
   {
    "duration": 21,
    "start_time": "2022-11-16T15:52:59.926Z"
   },
   {
    "duration": 29,
    "start_time": "2022-11-16T15:52:59.948Z"
   },
   {
    "duration": 3,
    "start_time": "2022-11-16T15:53:04.383Z"
   },
   {
    "duration": 152,
    "start_time": "2022-11-16T15:53:05.380Z"
   },
   {
    "duration": 9,
    "start_time": "2022-11-16T15:53:06.008Z"
   },
   {
    "duration": 4,
    "start_time": "2022-11-16T15:53:14.083Z"
   },
   {
    "duration": 161,
    "start_time": "2022-11-16T15:53:14.089Z"
   },
   {
    "duration": 7,
    "start_time": "2022-11-16T15:53:14.252Z"
   },
   {
    "duration": 7,
    "start_time": "2022-11-16T15:53:14.260Z"
   },
   {
    "duration": 25,
    "start_time": "2022-11-16T15:53:14.269Z"
   },
   {
    "duration": 7,
    "start_time": "2022-11-16T15:53:14.296Z"
   },
   {
    "duration": 86,
    "start_time": "2022-11-16T15:53:14.304Z"
   },
   {
    "duration": 16,
    "start_time": "2022-11-16T15:53:14.392Z"
   },
   {
    "duration": 32,
    "start_time": "2022-11-16T15:53:14.411Z"
   },
   {
    "duration": 71,
    "start_time": "2022-11-16T15:53:14.445Z"
   },
   {
    "duration": 98,
    "start_time": "2022-11-16T15:53:14.517Z"
   },
   {
    "duration": 73,
    "start_time": "2022-11-16T15:53:14.617Z"
   },
   {
    "duration": 18,
    "start_time": "2022-11-16T15:53:14.692Z"
   },
   {
    "duration": 24,
    "start_time": "2022-11-16T15:53:14.711Z"
   },
   {
    "duration": 19,
    "start_time": "2022-11-16T15:53:14.737Z"
   },
   {
    "duration": 6,
    "start_time": "2022-11-16T15:53:14.758Z"
   },
   {
    "duration": 35,
    "start_time": "2022-11-16T15:53:14.765Z"
   },
   {
    "duration": 12,
    "start_time": "2022-11-16T15:53:14.801Z"
   },
   {
    "duration": 211,
    "start_time": "2022-11-16T15:53:14.815Z"
   },
   {
    "duration": 11,
    "start_time": "2022-11-16T15:53:15.028Z"
   },
   {
    "duration": 31,
    "start_time": "2022-11-16T15:53:15.040Z"
   },
   {
    "duration": 142,
    "start_time": "2022-11-16T15:53:15.073Z"
   },
   {
    "duration": 27,
    "start_time": "2022-11-16T15:53:15.217Z"
   },
   {
    "duration": 15,
    "start_time": "2022-11-16T15:53:15.248Z"
   },
   {
    "duration": 34,
    "start_time": "2022-11-16T15:53:15.264Z"
   },
   {
    "duration": 45,
    "start_time": "2022-11-16T15:53:15.301Z"
   },
   {
    "duration": 48,
    "start_time": "2022-11-16T15:53:15.347Z"
   },
   {
    "duration": 6,
    "start_time": "2022-11-16T15:53:15.397Z"
   },
   {
    "duration": 13,
    "start_time": "2022-11-16T15:53:15.405Z"
   },
   {
    "duration": 7,
    "start_time": "2022-11-16T15:53:15.435Z"
   },
   {
    "duration": 12,
    "start_time": "2022-11-16T15:53:15.443Z"
   },
   {
    "duration": 14,
    "start_time": "2022-11-16T15:53:15.456Z"
   },
   {
    "duration": 14,
    "start_time": "2022-11-16T15:53:15.471Z"
   },
   {
    "duration": 13,
    "start_time": "2022-11-16T15:53:15.486Z"
   },
   {
    "duration": 20,
    "start_time": "2022-11-16T15:53:15.501Z"
   },
   {
    "duration": 29,
    "start_time": "2022-11-16T15:53:15.523Z"
   },
   {
    "duration": 4,
    "start_time": "2022-11-16T15:53:15.554Z"
   },
   {
    "duration": 17,
    "start_time": "2022-11-16T15:53:15.560Z"
   },
   {
    "duration": 11,
    "start_time": "2022-11-16T15:53:15.578Z"
   },
   {
    "duration": 11,
    "start_time": "2022-11-16T15:53:15.591Z"
   },
   {
    "duration": 4,
    "start_time": "2022-11-16T15:53:15.604Z"
   },
   {
    "duration": 26,
    "start_time": "2022-11-16T15:53:15.609Z"
   },
   {
    "duration": 8,
    "start_time": "2022-11-16T15:53:15.637Z"
   },
   {
    "duration": 59,
    "start_time": "2022-11-16T15:53:15.646Z"
   },
   {
    "duration": 3,
    "start_time": "2022-11-16T15:53:15.706Z"
   },
   {
    "duration": 13,
    "start_time": "2022-11-16T15:53:15.711Z"
   },
   {
    "duration": 18,
    "start_time": "2022-11-16T15:53:15.726Z"
   },
   {
    "duration": 155,
    "start_time": "2022-11-16T15:53:15.745Z"
   },
   {
    "duration": 75,
    "start_time": "2022-11-16T15:53:15.902Z"
   },
   {
    "duration": 4,
    "start_time": "2022-11-16T15:53:15.978Z"
   },
   {
    "duration": 9,
    "start_time": "2022-11-16T15:53:15.985Z"
   },
   {
    "duration": 12,
    "start_time": "2022-11-16T15:53:15.995Z"
   },
   {
    "duration": 28,
    "start_time": "2022-11-16T15:53:16.008Z"
   },
   {
    "duration": 7,
    "start_time": "2022-11-16T15:53:16.038Z"
   },
   {
    "duration": 16,
    "start_time": "2022-11-16T15:53:16.046Z"
   },
   {
    "duration": 12,
    "start_time": "2022-11-16T15:53:16.064Z"
   },
   {
    "duration": 11,
    "start_time": "2022-11-16T15:53:16.078Z"
   },
   {
    "duration": 4,
    "start_time": "2022-11-16T15:53:35.681Z"
   },
   {
    "duration": 167,
    "start_time": "2022-11-16T15:53:36.118Z"
   },
   {
    "duration": 1208,
    "start_time": "2022-11-16T15:53:46.238Z"
   },
   {
    "duration": 167,
    "start_time": "2022-11-16T15:53:47.448Z"
   },
   {
    "duration": 11,
    "start_time": "2022-11-16T15:53:47.617Z"
   },
   {
    "duration": 11,
    "start_time": "2022-11-16T15:53:47.637Z"
   },
   {
    "duration": 48,
    "start_time": "2022-11-16T15:53:47.650Z"
   },
   {
    "duration": 16,
    "start_time": "2022-11-16T15:53:47.700Z"
   },
   {
    "duration": 92,
    "start_time": "2022-11-16T15:53:47.719Z"
   },
   {
    "duration": 28,
    "start_time": "2022-11-16T15:53:47.813Z"
   },
   {
    "duration": 55,
    "start_time": "2022-11-16T15:53:47.842Z"
   },
   {
    "duration": 87,
    "start_time": "2022-11-16T15:53:47.900Z"
   },
   {
    "duration": 117,
    "start_time": "2022-11-16T15:53:47.989Z"
   },
   {
    "duration": 75,
    "start_time": "2022-11-16T15:53:48.108Z"
   },
   {
    "duration": 18,
    "start_time": "2022-11-16T15:53:48.185Z"
   },
   {
    "duration": 12,
    "start_time": "2022-11-16T15:53:48.205Z"
   },
   {
    "duration": 50,
    "start_time": "2022-11-16T15:53:48.219Z"
   },
   {
    "duration": 20,
    "start_time": "2022-11-16T15:53:48.271Z"
   },
   {
    "duration": 27,
    "start_time": "2022-11-16T15:53:48.293Z"
   },
   {
    "duration": 32,
    "start_time": "2022-11-16T15:53:48.322Z"
   },
   {
    "duration": 313,
    "start_time": "2022-11-16T15:53:48.356Z"
   },
   {
    "duration": 6,
    "start_time": "2022-11-16T15:53:48.671Z"
   },
   {
    "duration": 147,
    "start_time": "2022-11-16T15:53:48.679Z"
   },
   {
    "duration": 0,
    "start_time": "2022-11-16T15:53:48.829Z"
   },
   {
    "duration": 0,
    "start_time": "2022-11-16T15:53:48.830Z"
   },
   {
    "duration": 0,
    "start_time": "2022-11-16T15:53:48.836Z"
   },
   {
    "duration": 1,
    "start_time": "2022-11-16T15:53:48.836Z"
   },
   {
    "duration": 0,
    "start_time": "2022-11-16T15:53:48.837Z"
   },
   {
    "duration": 0,
    "start_time": "2022-11-16T15:53:48.838Z"
   },
   {
    "duration": 0,
    "start_time": "2022-11-16T15:53:48.839Z"
   },
   {
    "duration": 0,
    "start_time": "2022-11-16T15:53:48.841Z"
   },
   {
    "duration": 0,
    "start_time": "2022-11-16T15:53:48.842Z"
   },
   {
    "duration": 0,
    "start_time": "2022-11-16T15:53:48.843Z"
   },
   {
    "duration": 0,
    "start_time": "2022-11-16T15:53:48.844Z"
   },
   {
    "duration": 0,
    "start_time": "2022-11-16T15:53:48.844Z"
   },
   {
    "duration": 0,
    "start_time": "2022-11-16T15:53:48.845Z"
   },
   {
    "duration": 0,
    "start_time": "2022-11-16T15:53:48.846Z"
   },
   {
    "duration": 0,
    "start_time": "2022-11-16T15:53:48.847Z"
   },
   {
    "duration": 0,
    "start_time": "2022-11-16T15:53:48.848Z"
   },
   {
    "duration": 0,
    "start_time": "2022-11-16T15:53:48.849Z"
   },
   {
    "duration": 0,
    "start_time": "2022-11-16T15:53:48.851Z"
   },
   {
    "duration": 0,
    "start_time": "2022-11-16T15:53:48.852Z"
   },
   {
    "duration": 0,
    "start_time": "2022-11-16T15:53:48.853Z"
   },
   {
    "duration": 0,
    "start_time": "2022-11-16T15:53:48.854Z"
   },
   {
    "duration": 0,
    "start_time": "2022-11-16T15:53:48.855Z"
   },
   {
    "duration": 0,
    "start_time": "2022-11-16T15:53:48.856Z"
   },
   {
    "duration": 0,
    "start_time": "2022-11-16T15:53:48.857Z"
   },
   {
    "duration": 0,
    "start_time": "2022-11-16T15:53:48.858Z"
   },
   {
    "duration": 0,
    "start_time": "2022-11-16T15:53:48.859Z"
   },
   {
    "duration": 0,
    "start_time": "2022-11-16T15:53:48.860Z"
   },
   {
    "duration": 0,
    "start_time": "2022-11-16T15:53:48.861Z"
   },
   {
    "duration": 0,
    "start_time": "2022-11-16T15:53:48.862Z"
   },
   {
    "duration": 0,
    "start_time": "2022-11-16T15:53:48.863Z"
   },
   {
    "duration": 0,
    "start_time": "2022-11-16T15:53:48.864Z"
   },
   {
    "duration": 0,
    "start_time": "2022-11-16T15:53:48.865Z"
   },
   {
    "duration": 0,
    "start_time": "2022-11-16T15:53:48.866Z"
   },
   {
    "duration": 0,
    "start_time": "2022-11-16T15:53:48.867Z"
   },
   {
    "duration": 0,
    "start_time": "2022-11-16T15:53:48.868Z"
   },
   {
    "duration": 0,
    "start_time": "2022-11-16T15:53:48.869Z"
   },
   {
    "duration": 3,
    "start_time": "2022-11-16T15:53:57.935Z"
   },
   {
    "duration": 154,
    "start_time": "2022-11-16T15:53:57.940Z"
   },
   {
    "duration": 8,
    "start_time": "2022-11-16T15:53:58.096Z"
   },
   {
    "duration": 5,
    "start_time": "2022-11-16T15:53:58.106Z"
   },
   {
    "duration": 39,
    "start_time": "2022-11-16T15:53:58.113Z"
   },
   {
    "duration": 9,
    "start_time": "2022-11-16T15:53:58.154Z"
   },
   {
    "duration": 81,
    "start_time": "2022-11-16T15:53:58.165Z"
   },
   {
    "duration": 18,
    "start_time": "2022-11-16T15:53:58.248Z"
   },
   {
    "duration": 36,
    "start_time": "2022-11-16T15:53:58.267Z"
   },
   {
    "duration": 93,
    "start_time": "2022-11-16T15:53:58.304Z"
   },
   {
    "duration": 113,
    "start_time": "2022-11-16T15:53:58.399Z"
   },
   {
    "duration": 73,
    "start_time": "2022-11-16T15:53:58.514Z"
   },
   {
    "duration": 18,
    "start_time": "2022-11-16T15:53:58.589Z"
   },
   {
    "duration": 7,
    "start_time": "2022-11-16T15:53:58.609Z"
   },
   {
    "duration": 19,
    "start_time": "2022-11-16T15:53:58.636Z"
   },
   {
    "duration": 6,
    "start_time": "2022-11-16T15:53:58.657Z"
   },
   {
    "duration": 13,
    "start_time": "2022-11-16T15:53:58.665Z"
   },
   {
    "duration": 11,
    "start_time": "2022-11-16T15:53:58.679Z"
   },
   {
    "duration": 234,
    "start_time": "2022-11-16T15:53:58.692Z"
   },
   {
    "duration": 12,
    "start_time": "2022-11-16T15:53:58.927Z"
   },
   {
    "duration": 26,
    "start_time": "2022-11-16T15:53:58.941Z"
   },
   {
    "duration": 0,
    "start_time": "2022-11-16T15:53:58.969Z"
   },
   {
    "duration": 0,
    "start_time": "2022-11-16T15:53:58.970Z"
   },
   {
    "duration": 0,
    "start_time": "2022-11-16T15:53:58.971Z"
   },
   {
    "duration": 0,
    "start_time": "2022-11-16T15:53:58.973Z"
   },
   {
    "duration": 0,
    "start_time": "2022-11-16T15:53:58.974Z"
   },
   {
    "duration": 0,
    "start_time": "2022-11-16T15:53:58.975Z"
   },
   {
    "duration": 0,
    "start_time": "2022-11-16T15:53:58.976Z"
   },
   {
    "duration": 0,
    "start_time": "2022-11-16T15:53:58.977Z"
   },
   {
    "duration": 0,
    "start_time": "2022-11-16T15:53:58.978Z"
   },
   {
    "duration": 0,
    "start_time": "2022-11-16T15:53:58.979Z"
   },
   {
    "duration": 0,
    "start_time": "2022-11-16T15:53:58.980Z"
   },
   {
    "duration": 0,
    "start_time": "2022-11-16T15:53:58.981Z"
   },
   {
    "duration": 0,
    "start_time": "2022-11-16T15:53:58.982Z"
   },
   {
    "duration": 0,
    "start_time": "2022-11-16T15:53:58.983Z"
   },
   {
    "duration": 0,
    "start_time": "2022-11-16T15:53:58.984Z"
   },
   {
    "duration": 0,
    "start_time": "2022-11-16T15:53:58.985Z"
   },
   {
    "duration": 0,
    "start_time": "2022-11-16T15:53:58.986Z"
   },
   {
    "duration": 0,
    "start_time": "2022-11-16T15:53:58.987Z"
   },
   {
    "duration": 0,
    "start_time": "2022-11-16T15:53:58.988Z"
   },
   {
    "duration": 0,
    "start_time": "2022-11-16T15:53:58.989Z"
   },
   {
    "duration": 0,
    "start_time": "2022-11-16T15:53:58.990Z"
   },
   {
    "duration": 0,
    "start_time": "2022-11-16T15:53:59.036Z"
   },
   {
    "duration": 0,
    "start_time": "2022-11-16T15:53:59.037Z"
   },
   {
    "duration": 0,
    "start_time": "2022-11-16T15:53:59.037Z"
   },
   {
    "duration": 0,
    "start_time": "2022-11-16T15:53:59.038Z"
   },
   {
    "duration": 0,
    "start_time": "2022-11-16T15:53:59.039Z"
   },
   {
    "duration": 0,
    "start_time": "2022-11-16T15:53:59.040Z"
   },
   {
    "duration": 0,
    "start_time": "2022-11-16T15:53:59.041Z"
   },
   {
    "duration": 0,
    "start_time": "2022-11-16T15:53:59.041Z"
   },
   {
    "duration": 0,
    "start_time": "2022-11-16T15:53:59.042Z"
   },
   {
    "duration": 0,
    "start_time": "2022-11-16T15:53:59.043Z"
   },
   {
    "duration": 0,
    "start_time": "2022-11-16T15:53:59.044Z"
   },
   {
    "duration": 0,
    "start_time": "2022-11-16T15:53:59.045Z"
   },
   {
    "duration": 0,
    "start_time": "2022-11-16T15:53:59.046Z"
   },
   {
    "duration": 0,
    "start_time": "2022-11-16T15:53:59.047Z"
   },
   {
    "duration": 0,
    "start_time": "2022-11-16T15:53:59.048Z"
   },
   {
    "duration": 1514,
    "start_time": "2022-11-17T08:11:39.547Z"
   },
   {
    "duration": 750,
    "start_time": "2022-11-17T08:11:41.064Z"
   },
   {
    "duration": 12,
    "start_time": "2022-11-17T08:11:41.815Z"
   },
   {
    "duration": 4,
    "start_time": "2022-11-17T08:11:41.829Z"
   },
   {
    "duration": 25,
    "start_time": "2022-11-17T08:11:41.835Z"
   },
   {
    "duration": 23,
    "start_time": "2022-11-17T08:11:41.861Z"
   },
   {
    "duration": 73,
    "start_time": "2022-11-17T08:11:41.886Z"
   },
   {
    "duration": 23,
    "start_time": "2022-11-17T08:11:41.961Z"
   },
   {
    "duration": 34,
    "start_time": "2022-11-17T08:11:41.985Z"
   },
   {
    "duration": 101,
    "start_time": "2022-11-17T08:11:42.023Z"
   },
   {
    "duration": 124,
    "start_time": "2022-11-17T08:11:42.127Z"
   },
   {
    "duration": 74,
    "start_time": "2022-11-17T08:11:42.253Z"
   },
   {
    "duration": 22,
    "start_time": "2022-11-17T08:11:42.329Z"
   },
   {
    "duration": 30,
    "start_time": "2022-11-17T08:11:42.354Z"
   },
   {
    "duration": 21,
    "start_time": "2022-11-17T08:11:42.386Z"
   },
   {
    "duration": 8,
    "start_time": "2022-11-17T08:11:42.408Z"
   },
   {
    "duration": 6,
    "start_time": "2022-11-17T08:11:42.418Z"
   },
   {
    "duration": 6,
    "start_time": "2022-11-17T08:11:42.426Z"
   },
   {
    "duration": 369,
    "start_time": "2022-11-17T08:11:42.434Z"
   },
   {
    "duration": 8,
    "start_time": "2022-11-17T08:11:42.804Z"
   },
   {
    "duration": 156,
    "start_time": "2022-11-17T08:11:42.814Z"
   },
   {
    "duration": 0,
    "start_time": "2022-11-17T08:11:42.974Z"
   },
   {
    "duration": 0,
    "start_time": "2022-11-17T08:11:42.975Z"
   },
   {
    "duration": 0,
    "start_time": "2022-11-17T08:11:42.978Z"
   },
   {
    "duration": 0,
    "start_time": "2022-11-17T08:11:42.979Z"
   },
   {
    "duration": 0,
    "start_time": "2022-11-17T08:11:42.981Z"
   },
   {
    "duration": 0,
    "start_time": "2022-11-17T08:11:42.982Z"
   },
   {
    "duration": 0,
    "start_time": "2022-11-17T08:11:42.984Z"
   },
   {
    "duration": 0,
    "start_time": "2022-11-17T08:11:42.985Z"
   },
   {
    "duration": 0,
    "start_time": "2022-11-17T08:11:42.986Z"
   },
   {
    "duration": 0,
    "start_time": "2022-11-17T08:11:42.988Z"
   },
   {
    "duration": 0,
    "start_time": "2022-11-17T08:11:42.990Z"
   },
   {
    "duration": 0,
    "start_time": "2022-11-17T08:11:42.991Z"
   },
   {
    "duration": 0,
    "start_time": "2022-11-17T08:11:42.992Z"
   },
   {
    "duration": 0,
    "start_time": "2022-11-17T08:11:42.994Z"
   },
   {
    "duration": 0,
    "start_time": "2022-11-17T08:11:42.995Z"
   },
   {
    "duration": 0,
    "start_time": "2022-11-17T08:11:42.997Z"
   },
   {
    "duration": 0,
    "start_time": "2022-11-17T08:11:42.998Z"
   },
   {
    "duration": 0,
    "start_time": "2022-11-17T08:11:42.999Z"
   },
   {
    "duration": 0,
    "start_time": "2022-11-17T08:11:43.001Z"
   },
   {
    "duration": 0,
    "start_time": "2022-11-17T08:11:43.002Z"
   },
   {
    "duration": 0,
    "start_time": "2022-11-17T08:11:43.004Z"
   },
   {
    "duration": 0,
    "start_time": "2022-11-17T08:11:43.005Z"
   },
   {
    "duration": 0,
    "start_time": "2022-11-17T08:11:43.006Z"
   },
   {
    "duration": 0,
    "start_time": "2022-11-17T08:11:43.008Z"
   },
   {
    "duration": 0,
    "start_time": "2022-11-17T08:11:43.010Z"
   },
   {
    "duration": 1,
    "start_time": "2022-11-17T08:11:43.011Z"
   },
   {
    "duration": 0,
    "start_time": "2022-11-17T08:11:43.013Z"
   },
   {
    "duration": 0,
    "start_time": "2022-11-17T08:11:43.014Z"
   },
   {
    "duration": 0,
    "start_time": "2022-11-17T08:11:43.016Z"
   },
   {
    "duration": 0,
    "start_time": "2022-11-17T08:11:43.078Z"
   },
   {
    "duration": 0,
    "start_time": "2022-11-17T08:11:43.080Z"
   },
   {
    "duration": 0,
    "start_time": "2022-11-17T08:11:43.082Z"
   },
   {
    "duration": 0,
    "start_time": "2022-11-17T08:11:43.083Z"
   },
   {
    "duration": 0,
    "start_time": "2022-11-17T08:11:43.084Z"
   },
   {
    "duration": 0,
    "start_time": "2022-11-17T08:11:43.085Z"
   },
   {
    "duration": 0,
    "start_time": "2022-11-17T08:11:43.086Z"
   },
   {
    "duration": 1208,
    "start_time": "2022-11-17T08:15:21.109Z"
   },
   {
    "duration": 165,
    "start_time": "2022-11-17T08:15:22.319Z"
   },
   {
    "duration": 11,
    "start_time": "2022-11-17T08:15:22.486Z"
   },
   {
    "duration": 34,
    "start_time": "2022-11-17T08:15:22.500Z"
   },
   {
    "duration": 56,
    "start_time": "2022-11-17T08:15:22.537Z"
   },
   {
    "duration": 13,
    "start_time": "2022-11-17T08:15:22.595Z"
   },
   {
    "duration": 96,
    "start_time": "2022-11-17T08:15:22.610Z"
   },
   {
    "duration": 9,
    "start_time": "2022-11-17T08:15:22.709Z"
   },
   {
    "duration": 38,
    "start_time": "2022-11-17T08:15:22.720Z"
   },
   {
    "duration": 110,
    "start_time": "2022-11-17T08:15:22.761Z"
   },
   {
    "duration": 128,
    "start_time": "2022-11-17T08:15:22.878Z"
   },
   {
    "duration": 82,
    "start_time": "2022-11-17T08:15:23.009Z"
   },
   {
    "duration": 19,
    "start_time": "2022-11-17T08:15:23.093Z"
   },
   {
    "duration": 15,
    "start_time": "2022-11-17T08:15:23.114Z"
   },
   {
    "duration": 47,
    "start_time": "2022-11-17T08:15:23.131Z"
   },
   {
    "duration": 6,
    "start_time": "2022-11-17T08:15:23.180Z"
   },
   {
    "duration": 10,
    "start_time": "2022-11-17T08:15:23.188Z"
   },
   {
    "duration": 20,
    "start_time": "2022-11-17T08:15:23.200Z"
   },
   {
    "duration": 331,
    "start_time": "2022-11-17T08:15:23.222Z"
   },
   {
    "duration": 7,
    "start_time": "2022-11-17T08:15:23.555Z"
   },
   {
    "duration": 143,
    "start_time": "2022-11-17T08:15:23.565Z"
   },
   {
    "duration": 1,
    "start_time": "2022-11-17T08:15:23.710Z"
   },
   {
    "duration": 0,
    "start_time": "2022-11-17T08:15:23.712Z"
   },
   {
    "duration": 0,
    "start_time": "2022-11-17T08:15:23.713Z"
   },
   {
    "duration": 1,
    "start_time": "2022-11-17T08:15:23.713Z"
   },
   {
    "duration": 0,
    "start_time": "2022-11-17T08:15:23.714Z"
   },
   {
    "duration": 0,
    "start_time": "2022-11-17T08:15:23.715Z"
   },
   {
    "duration": 0,
    "start_time": "2022-11-17T08:15:23.717Z"
   },
   {
    "duration": 0,
    "start_time": "2022-11-17T08:15:23.718Z"
   },
   {
    "duration": 0,
    "start_time": "2022-11-17T08:15:23.719Z"
   },
   {
    "duration": 0,
    "start_time": "2022-11-17T08:15:23.720Z"
   },
   {
    "duration": 0,
    "start_time": "2022-11-17T08:15:23.721Z"
   },
   {
    "duration": 0,
    "start_time": "2022-11-17T08:15:23.722Z"
   },
   {
    "duration": 0,
    "start_time": "2022-11-17T08:15:23.723Z"
   },
   {
    "duration": 0,
    "start_time": "2022-11-17T08:15:23.724Z"
   },
   {
    "duration": 0,
    "start_time": "2022-11-17T08:15:23.725Z"
   },
   {
    "duration": 0,
    "start_time": "2022-11-17T08:15:23.726Z"
   },
   {
    "duration": 0,
    "start_time": "2022-11-17T08:15:23.727Z"
   },
   {
    "duration": 0,
    "start_time": "2022-11-17T08:15:23.728Z"
   },
   {
    "duration": 0,
    "start_time": "2022-11-17T08:15:23.729Z"
   },
   {
    "duration": 0,
    "start_time": "2022-11-17T08:15:23.730Z"
   },
   {
    "duration": 0,
    "start_time": "2022-11-17T08:15:23.731Z"
   },
   {
    "duration": 0,
    "start_time": "2022-11-17T08:15:23.732Z"
   },
   {
    "duration": 0,
    "start_time": "2022-11-17T08:15:23.733Z"
   },
   {
    "duration": 0,
    "start_time": "2022-11-17T08:15:23.733Z"
   },
   {
    "duration": 0,
    "start_time": "2022-11-17T08:15:23.734Z"
   },
   {
    "duration": 0,
    "start_time": "2022-11-17T08:15:23.735Z"
   },
   {
    "duration": 0,
    "start_time": "2022-11-17T08:15:23.778Z"
   },
   {
    "duration": 0,
    "start_time": "2022-11-17T08:15:23.779Z"
   },
   {
    "duration": 0,
    "start_time": "2022-11-17T08:15:23.780Z"
   },
   {
    "duration": 0,
    "start_time": "2022-11-17T08:15:23.781Z"
   },
   {
    "duration": 1,
    "start_time": "2022-11-17T08:15:23.782Z"
   },
   {
    "duration": 0,
    "start_time": "2022-11-17T08:15:23.783Z"
   },
   {
    "duration": 1,
    "start_time": "2022-11-17T08:15:23.784Z"
   },
   {
    "duration": 0,
    "start_time": "2022-11-17T08:15:23.786Z"
   },
   {
    "duration": 0,
    "start_time": "2022-11-17T08:15:23.787Z"
   },
   {
    "duration": 0,
    "start_time": "2022-11-17T08:15:23.788Z"
   },
   {
    "duration": 10,
    "start_time": "2022-11-17T08:15:34.616Z"
   },
   {
    "duration": 20,
    "start_time": "2022-11-17T08:15:39.973Z"
   },
   {
    "duration": 13,
    "start_time": "2022-11-17T08:15:40.581Z"
   },
   {
    "duration": 34,
    "start_time": "2022-11-17T08:15:41.472Z"
   },
   {
    "duration": 9,
    "start_time": "2022-11-17T08:15:41.833Z"
   },
   {
    "duration": 12,
    "start_time": "2022-11-17T08:15:43.004Z"
   },
   {
    "duration": 9,
    "start_time": "2022-11-17T08:15:43.196Z"
   },
   {
    "duration": 9,
    "start_time": "2022-11-17T08:15:43.683Z"
   },
   {
    "duration": 12,
    "start_time": "2022-11-17T08:15:44.037Z"
   },
   {
    "duration": 10,
    "start_time": "2022-11-17T08:15:45.173Z"
   },
   {
    "duration": 9,
    "start_time": "2022-11-17T08:15:45.829Z"
   },
   {
    "duration": 8,
    "start_time": "2022-11-17T08:15:46.245Z"
   },
   {
    "duration": 5,
    "start_time": "2022-11-17T08:15:46.652Z"
   },
   {
    "duration": 29,
    "start_time": "2022-11-17T08:15:46.835Z"
   },
   {
    "duration": 9,
    "start_time": "2022-11-17T08:15:48.164Z"
   },
   {
    "duration": 9,
    "start_time": "2022-11-17T08:15:48.341Z"
   },
   {
    "duration": 10,
    "start_time": "2022-11-17T08:15:49.191Z"
   },
   {
    "duration": 9,
    "start_time": "2022-11-17T08:15:49.525Z"
   },
   {
    "duration": 9,
    "start_time": "2022-11-17T08:15:49.882Z"
   },
   {
    "duration": 10,
    "start_time": "2022-11-17T08:15:50.759Z"
   },
   {
    "duration": 10,
    "start_time": "2022-11-17T08:15:50.928Z"
   },
   {
    "duration": 11,
    "start_time": "2022-11-17T08:15:51.121Z"
   },
   {
    "duration": 10,
    "start_time": "2022-11-17T08:15:51.781Z"
   },
   {
    "duration": 8,
    "start_time": "2022-11-17T08:15:52.164Z"
   },
   {
    "duration": 8,
    "start_time": "2022-11-17T08:15:52.364Z"
   },
   {
    "duration": 9,
    "start_time": "2022-11-17T08:15:52.534Z"
   },
   {
    "duration": 13,
    "start_time": "2022-11-17T08:15:52.707Z"
   },
   {
    "duration": 9,
    "start_time": "2022-11-17T08:15:53.905Z"
   },
   {
    "duration": 12,
    "start_time": "2022-11-17T08:15:54.170Z"
   },
   {
    "duration": 8,
    "start_time": "2022-11-17T08:15:54.398Z"
   },
   {
    "duration": 10,
    "start_time": "2022-11-17T08:15:54.981Z"
   },
   {
    "duration": 10,
    "start_time": "2022-11-17T08:15:55.235Z"
   },
   {
    "duration": 6,
    "start_time": "2022-11-17T08:15:55.855Z"
   },
   {
    "duration": 11,
    "start_time": "2022-11-17T08:15:56.053Z"
   },
   {
    "duration": 10,
    "start_time": "2022-11-17T08:15:57.429Z"
   },
   {
    "duration": 10,
    "start_time": "2022-11-17T08:15:59.130Z"
   },
   {
    "duration": 46,
    "start_time": "2022-11-17T10:17:42.962Z"
   },
   {
    "duration": 1233,
    "start_time": "2022-11-17T10:17:49.483Z"
   },
   {
    "duration": 501,
    "start_time": "2022-11-17T10:17:50.718Z"
   },
   {
    "duration": 11,
    "start_time": "2022-11-17T10:17:51.220Z"
   },
   {
    "duration": 15,
    "start_time": "2022-11-17T10:17:51.232Z"
   },
   {
    "duration": 36,
    "start_time": "2022-11-17T10:17:51.249Z"
   },
   {
    "duration": 13,
    "start_time": "2022-11-17T10:17:51.287Z"
   },
   {
    "duration": 89,
    "start_time": "2022-11-17T10:17:51.301Z"
   },
   {
    "duration": 14,
    "start_time": "2022-11-17T10:17:51.392Z"
   },
   {
    "duration": 29,
    "start_time": "2022-11-17T10:17:51.407Z"
   },
   {
    "duration": 87,
    "start_time": "2022-11-17T10:17:51.438Z"
   },
   {
    "duration": 73,
    "start_time": "2022-11-17T10:17:51.527Z"
   },
   {
    "duration": 108,
    "start_time": "2022-11-17T10:17:51.601Z"
   },
   {
    "duration": 67,
    "start_time": "2022-11-17T10:17:51.711Z"
   },
   {
    "duration": 17,
    "start_time": "2022-11-17T10:17:51.780Z"
   },
   {
    "duration": 27,
    "start_time": "2022-11-17T10:17:51.798Z"
   },
   {
    "duration": 19,
    "start_time": "2022-11-17T10:17:51.827Z"
   },
   {
    "duration": 6,
    "start_time": "2022-11-17T10:17:51.847Z"
   },
   {
    "duration": 8,
    "start_time": "2022-11-17T10:17:51.854Z"
   },
   {
    "duration": 15,
    "start_time": "2022-11-17T10:17:51.863Z"
   },
   {
    "duration": 282,
    "start_time": "2022-11-17T10:17:51.879Z"
   },
   {
    "duration": 7,
    "start_time": "2022-11-17T10:17:52.162Z"
   },
   {
    "duration": 98,
    "start_time": "2022-11-17T10:17:52.170Z"
   },
   {
    "duration": 0,
    "start_time": "2022-11-17T10:17:52.272Z"
   },
   {
    "duration": 0,
    "start_time": "2022-11-17T10:17:52.273Z"
   },
   {
    "duration": 0,
    "start_time": "2022-11-17T10:17:52.274Z"
   },
   {
    "duration": 0,
    "start_time": "2022-11-17T10:17:52.276Z"
   },
   {
    "duration": 0,
    "start_time": "2022-11-17T10:17:52.277Z"
   },
   {
    "duration": 0,
    "start_time": "2022-11-17T10:17:52.278Z"
   },
   {
    "duration": 0,
    "start_time": "2022-11-17T10:17:52.280Z"
   },
   {
    "duration": 0,
    "start_time": "2022-11-17T10:17:52.281Z"
   },
   {
    "duration": 0,
    "start_time": "2022-11-17T10:17:52.282Z"
   },
   {
    "duration": 0,
    "start_time": "2022-11-17T10:17:52.284Z"
   },
   {
    "duration": 1,
    "start_time": "2022-11-17T10:17:52.285Z"
   },
   {
    "duration": 0,
    "start_time": "2022-11-17T10:17:52.287Z"
   },
   {
    "duration": 0,
    "start_time": "2022-11-17T10:17:52.288Z"
   },
   {
    "duration": 0,
    "start_time": "2022-11-17T10:17:52.289Z"
   },
   {
    "duration": 0,
    "start_time": "2022-11-17T10:17:52.291Z"
   },
   {
    "duration": 0,
    "start_time": "2022-11-17T10:17:52.292Z"
   },
   {
    "duration": 0,
    "start_time": "2022-11-17T10:17:52.321Z"
   },
   {
    "duration": 0,
    "start_time": "2022-11-17T10:17:52.323Z"
   },
   {
    "duration": 0,
    "start_time": "2022-11-17T10:17:52.325Z"
   },
   {
    "duration": 0,
    "start_time": "2022-11-17T10:17:52.326Z"
   },
   {
    "duration": 0,
    "start_time": "2022-11-17T10:17:52.328Z"
   },
   {
    "duration": 0,
    "start_time": "2022-11-17T10:17:52.329Z"
   },
   {
    "duration": 0,
    "start_time": "2022-11-17T10:17:52.331Z"
   },
   {
    "duration": 0,
    "start_time": "2022-11-17T10:17:52.332Z"
   },
   {
    "duration": 0,
    "start_time": "2022-11-17T10:17:52.333Z"
   },
   {
    "duration": 0,
    "start_time": "2022-11-17T10:17:52.334Z"
   },
   {
    "duration": 0,
    "start_time": "2022-11-17T10:17:52.336Z"
   },
   {
    "duration": 0,
    "start_time": "2022-11-17T10:17:52.337Z"
   },
   {
    "duration": 0,
    "start_time": "2022-11-17T10:17:52.338Z"
   },
   {
    "duration": 0,
    "start_time": "2022-11-17T10:17:52.340Z"
   },
   {
    "duration": 0,
    "start_time": "2022-11-17T10:17:52.342Z"
   },
   {
    "duration": 0,
    "start_time": "2022-11-17T10:17:52.343Z"
   },
   {
    "duration": 0,
    "start_time": "2022-11-17T10:17:52.344Z"
   },
   {
    "duration": 0,
    "start_time": "2022-11-17T10:17:52.345Z"
   },
   {
    "duration": 0,
    "start_time": "2022-11-17T10:17:52.346Z"
   },
   {
    "duration": 0,
    "start_time": "2022-11-17T10:17:52.347Z"
   },
   {
    "duration": 74,
    "start_time": "2022-11-17T10:18:25.750Z"
   },
   {
    "duration": 72,
    "start_time": "2022-11-17T10:18:30.278Z"
   },
   {
    "duration": 76,
    "start_time": "2022-11-17T10:18:31.195Z"
   },
   {
    "duration": 3,
    "start_time": "2022-11-17T10:18:40.426Z"
   },
   {
    "duration": 149,
    "start_time": "2022-11-17T10:18:40.922Z"
   },
   {
    "duration": 7,
    "start_time": "2022-11-17T10:18:41.155Z"
   },
   {
    "duration": 3,
    "start_time": "2022-11-17T10:18:42.209Z"
   },
   {
    "duration": 18,
    "start_time": "2022-11-17T10:18:43.002Z"
   },
   {
    "duration": 8,
    "start_time": "2022-11-17T10:18:43.859Z"
   },
   {
    "duration": 68,
    "start_time": "2022-11-17T10:18:44.412Z"
   },
   {
    "duration": 8,
    "start_time": "2022-11-17T10:18:44.607Z"
   },
   {
    "duration": 27,
    "start_time": "2022-11-17T10:18:44.875Z"
   },
   {
    "duration": 85,
    "start_time": "2022-11-17T10:18:45.599Z"
   },
   {
    "duration": 73,
    "start_time": "2022-11-17T10:18:45.982Z"
   },
   {
    "duration": 28,
    "start_time": "2022-11-17T10:19:06.460Z"
   },
   {
    "duration": 77,
    "start_time": "2022-11-17T10:19:23.624Z"
   },
   {
    "duration": 72,
    "start_time": "2022-11-17T10:19:34.608Z"
   },
   {
    "duration": 28,
    "start_time": "2022-11-17T10:19:40.075Z"
   },
   {
    "duration": 27,
    "start_time": "2022-11-17T10:23:08.485Z"
   },
   {
    "duration": 77,
    "start_time": "2022-11-17T10:23:26.527Z"
   },
   {
    "duration": 67,
    "start_time": "2022-11-17T10:23:43.578Z"
   },
   {
    "duration": 65,
    "start_time": "2022-11-17T10:23:46.121Z"
   },
   {
    "duration": 71,
    "start_time": "2022-11-17T10:23:46.861Z"
   },
   {
    "duration": 67,
    "start_time": "2022-11-17T10:24:20.431Z"
   },
   {
    "duration": 71,
    "start_time": "2022-11-17T10:24:22.656Z"
   },
   {
    "duration": 71,
    "start_time": "2022-11-17T10:24:23.566Z"
   },
   {
    "duration": 67,
    "start_time": "2022-11-17T10:24:35.249Z"
   },
   {
    "duration": 68,
    "start_time": "2022-11-17T10:24:45.818Z"
   },
   {
    "duration": 68,
    "start_time": "2022-11-17T10:24:52.369Z"
   },
   {
    "duration": 3,
    "start_time": "2022-11-17T10:25:14.680Z"
   },
   {
    "duration": 71,
    "start_time": "2022-11-17T10:25:21.728Z"
   },
   {
    "duration": 70,
    "start_time": "2022-11-17T10:25:24.002Z"
   },
   {
    "duration": 69,
    "start_time": "2022-11-17T10:26:08.428Z"
   },
   {
    "duration": 67,
    "start_time": "2022-11-17T10:26:16.605Z"
   },
   {
    "duration": 54,
    "start_time": "2022-11-17T10:26:51.715Z"
   },
   {
    "duration": 103,
    "start_time": "2022-11-17T10:27:09.101Z"
   },
   {
    "duration": 68,
    "start_time": "2022-11-17T10:27:09.465Z"
   },
   {
    "duration": 22,
    "start_time": "2022-11-17T10:31:24.360Z"
   },
   {
    "duration": 19,
    "start_time": "2022-11-17T10:31:40.508Z"
   },
   {
    "duration": 4,
    "start_time": "2022-11-17T10:32:13.484Z"
   },
   {
    "duration": 8,
    "start_time": "2022-11-17T10:32:21.734Z"
   },
   {
    "duration": 25,
    "start_time": "2022-11-17T10:32:25.367Z"
   },
   {
    "duration": 4,
    "start_time": "2022-11-17T10:32:26.056Z"
   },
   {
    "duration": 47,
    "start_time": "2022-11-17T10:33:02.133Z"
   },
   {
    "duration": 21,
    "start_time": "2022-11-17T10:33:21.638Z"
   },
   {
    "duration": 21,
    "start_time": "2022-11-17T10:33:26.320Z"
   },
   {
    "duration": 3,
    "start_time": "2022-11-17T10:33:37.872Z"
   },
   {
    "duration": 12,
    "start_time": "2022-11-17T10:34:04.062Z"
   },
   {
    "duration": 4,
    "start_time": "2022-11-17T10:34:08.101Z"
   },
   {
    "duration": 4,
    "start_time": "2022-11-17T10:34:11.492Z"
   },
   {
    "duration": 10,
    "start_time": "2022-11-17T10:34:26.351Z"
   },
   {
    "duration": 5,
    "start_time": "2022-11-17T10:34:26.856Z"
   },
   {
    "duration": 11,
    "start_time": "2022-11-17T10:34:41.339Z"
   },
   {
    "duration": 18,
    "start_time": "2022-11-17T10:34:57.094Z"
   },
   {
    "duration": 4,
    "start_time": "2022-11-17T10:34:58.692Z"
   },
   {
    "duration": 11,
    "start_time": "2022-11-17T10:35:01.626Z"
   },
   {
    "duration": 10,
    "start_time": "2022-11-17T10:35:02.061Z"
   },
   {
    "duration": 4,
    "start_time": "2022-11-17T10:35:09.964Z"
   },
   {
    "duration": 3,
    "start_time": "2022-11-17T10:35:17.406Z"
   },
   {
    "duration": 4,
    "start_time": "2022-11-17T10:35:29.016Z"
   },
   {
    "duration": 17,
    "start_time": "2022-11-17T10:35:30.504Z"
   },
   {
    "duration": 11,
    "start_time": "2022-11-17T10:35:46.763Z"
   },
   {
    "duration": 7,
    "start_time": "2022-11-17T10:35:47.156Z"
   },
   {
    "duration": 4,
    "start_time": "2022-11-17T10:35:51.923Z"
   },
   {
    "duration": 11,
    "start_time": "2022-11-17T10:35:57.684Z"
   },
   {
    "duration": 6,
    "start_time": "2022-11-17T10:35:58.107Z"
   },
   {
    "duration": 5,
    "start_time": "2022-11-17T10:36:03.179Z"
   },
   {
    "duration": 11,
    "start_time": "2022-11-17T10:36:04.869Z"
   },
   {
    "duration": 4,
    "start_time": "2022-11-17T10:36:05.243Z"
   },
   {
    "duration": 10,
    "start_time": "2022-11-17T10:36:10.477Z"
   },
   {
    "duration": 4,
    "start_time": "2022-11-17T10:36:15.774Z"
   },
   {
    "duration": 4,
    "start_time": "2022-11-17T10:36:31.464Z"
   },
   {
    "duration": 60,
    "start_time": "2022-11-17T10:36:44.866Z"
   },
   {
    "duration": 132,
    "start_time": "2022-11-17T10:36:47.097Z"
   },
   {
    "duration": 17,
    "start_time": "2022-11-17T10:36:55.252Z"
   },
   {
    "duration": 8,
    "start_time": "2022-11-17T10:36:57.268Z"
   },
   {
    "duration": 3,
    "start_time": "2022-11-17T10:37:01.631Z"
   },
   {
    "duration": 3,
    "start_time": "2022-11-17T10:37:21.663Z"
   },
   {
    "duration": 3,
    "start_time": "2022-11-17T10:37:31.905Z"
   },
   {
    "duration": 3,
    "start_time": "2022-11-17T10:37:49.210Z"
   },
   {
    "duration": 3,
    "start_time": "2022-11-17T10:37:55.619Z"
   },
   {
    "duration": 3,
    "start_time": "2022-11-17T10:37:57.283Z"
   },
   {
    "duration": 3,
    "start_time": "2022-11-17T10:38:01.581Z"
   },
   {
    "duration": 16,
    "start_time": "2022-11-17T10:38:22.256Z"
   },
   {
    "duration": 4,
    "start_time": "2022-11-17T10:38:22.656Z"
   },
   {
    "duration": 18,
    "start_time": "2022-11-17T10:39:14.576Z"
   },
   {
    "duration": 3,
    "start_time": "2022-11-17T10:39:23.567Z"
   },
   {
    "duration": 23,
    "start_time": "2022-11-17T10:39:26.560Z"
   },
   {
    "duration": 4,
    "start_time": "2022-11-17T10:39:27.422Z"
   },
   {
    "duration": 16,
    "start_time": "2022-11-17T10:39:45.727Z"
   },
   {
    "duration": 3,
    "start_time": "2022-11-17T10:39:51.786Z"
   },
   {
    "duration": 16,
    "start_time": "2022-11-17T10:40:09.724Z"
   },
   {
    "duration": 4,
    "start_time": "2022-11-17T10:40:10.156Z"
   },
   {
    "duration": 17,
    "start_time": "2022-11-17T10:40:11.027Z"
   },
   {
    "duration": 4,
    "start_time": "2022-11-17T10:40:11.430Z"
   },
   {
    "duration": 17,
    "start_time": "2022-11-17T10:40:11.861Z"
   },
   {
    "duration": 3,
    "start_time": "2022-11-17T10:40:12.246Z"
   },
   {
    "duration": 54,
    "start_time": "2022-11-17T10:40:59.482Z"
   },
   {
    "duration": 50,
    "start_time": "2022-11-17T10:42:20.304Z"
   },
   {
    "duration": 74,
    "start_time": "2022-11-17T10:42:56.750Z"
   },
   {
    "duration": 5,
    "start_time": "2022-11-17T10:43:01.635Z"
   },
   {
    "duration": 4,
    "start_time": "2022-11-17T10:43:13.407Z"
   },
   {
    "duration": 67,
    "start_time": "2022-11-17T10:43:42.106Z"
   },
   {
    "duration": 22,
    "start_time": "2022-11-17T10:44:15.743Z"
   },
   {
    "duration": 49,
    "start_time": "2022-11-17T10:45:24.119Z"
   },
   {
    "duration": 3,
    "start_time": "2022-11-17T10:45:27.583Z"
   },
   {
    "duration": 3,
    "start_time": "2022-11-17T10:45:30.258Z"
   },
   {
    "duration": 154,
    "start_time": "2022-11-17T10:45:30.620Z"
   },
   {
    "duration": 7,
    "start_time": "2022-11-17T10:45:30.777Z"
   },
   {
    "duration": 3,
    "start_time": "2022-11-17T10:45:31.226Z"
   },
   {
    "duration": 19,
    "start_time": "2022-11-17T10:45:31.556Z"
   },
   {
    "duration": 7,
    "start_time": "2022-11-17T10:45:31.868Z"
   },
   {
    "duration": 65,
    "start_time": "2022-11-17T10:45:32.204Z"
   },
   {
    "duration": 9,
    "start_time": "2022-11-17T10:45:32.375Z"
   },
   {
    "duration": 27,
    "start_time": "2022-11-17T10:45:32.541Z"
   },
   {
    "duration": 76,
    "start_time": "2022-11-17T10:45:32.877Z"
   },
   {
    "duration": 74,
    "start_time": "2022-11-17T10:45:33.046Z"
   },
   {
    "duration": 98,
    "start_time": "2022-11-17T10:45:33.573Z"
   },
   {
    "duration": 65,
    "start_time": "2022-11-17T10:45:33.752Z"
   },
   {
    "duration": 11,
    "start_time": "2022-11-17T10:45:34.824Z"
   },
   {
    "duration": 11,
    "start_time": "2022-11-17T10:45:35.002Z"
   },
   {
    "duration": 10,
    "start_time": "2022-11-17T10:45:35.189Z"
   },
   {
    "duration": 22,
    "start_time": "2022-11-17T10:45:35.375Z"
   },
   {
    "duration": 4,
    "start_time": "2022-11-17T10:45:35.555Z"
   },
   {
    "duration": 17,
    "start_time": "2022-11-17T10:45:35.897Z"
   },
   {
    "duration": 4,
    "start_time": "2022-11-17T10:45:36.071Z"
   },
   {
    "duration": 17,
    "start_time": "2022-11-17T10:45:36.257Z"
   },
   {
    "duration": 3,
    "start_time": "2022-11-17T10:45:36.442Z"
   },
   {
    "duration": 5,
    "start_time": "2022-11-17T10:45:37.172Z"
   },
   {
    "duration": 6,
    "start_time": "2022-11-17T10:45:37.920Z"
   },
   {
    "duration": 18,
    "start_time": "2022-11-17T10:45:38.415Z"
   },
   {
    "duration": 8,
    "start_time": "2022-11-17T10:45:38.651Z"
   },
   {
    "duration": 6,
    "start_time": "2022-11-17T10:45:39.496Z"
   },
   {
    "duration": 5,
    "start_time": "2022-11-17T10:45:39.687Z"
   },
   {
    "duration": 204,
    "start_time": "2022-11-17T10:45:39.921Z"
   },
   {
    "duration": 6,
    "start_time": "2022-11-17T10:45:40.519Z"
   },
   {
    "duration": 19,
    "start_time": "2022-11-17T10:45:41.497Z"
   },
   {
    "duration": 3,
    "start_time": "2022-11-17T10:45:47.514Z"
   },
   {
    "duration": 159,
    "start_time": "2022-11-17T10:45:47.519Z"
   },
   {
    "duration": 7,
    "start_time": "2022-11-17T10:45:47.680Z"
   },
   {
    "duration": 6,
    "start_time": "2022-11-17T10:45:47.689Z"
   },
   {
    "duration": 43,
    "start_time": "2022-11-17T10:45:47.697Z"
   },
   {
    "duration": 7,
    "start_time": "2022-11-17T10:45:47.741Z"
   },
   {
    "duration": 78,
    "start_time": "2022-11-17T10:45:47.749Z"
   },
   {
    "duration": 11,
    "start_time": "2022-11-17T10:45:47.829Z"
   },
   {
    "duration": 46,
    "start_time": "2022-11-17T10:45:47.841Z"
   },
   {
    "duration": 77,
    "start_time": "2022-11-17T10:45:47.888Z"
   },
   {
    "duration": 73,
    "start_time": "2022-11-17T10:45:47.968Z"
   },
   {
    "duration": 93,
    "start_time": "2022-11-17T10:45:48.042Z"
   },
   {
    "duration": 63,
    "start_time": "2022-11-17T10:45:48.137Z"
   },
   {
    "duration": 26,
    "start_time": "2022-11-17T10:45:48.202Z"
   },
   {
    "duration": 10,
    "start_time": "2022-11-17T10:45:48.229Z"
   },
   {
    "duration": 12,
    "start_time": "2022-11-17T10:45:48.241Z"
   },
   {
    "duration": 18,
    "start_time": "2022-11-17T10:45:48.254Z"
   },
   {
    "duration": 28,
    "start_time": "2022-11-17T10:45:48.273Z"
   },
   {
    "duration": 35,
    "start_time": "2022-11-17T10:45:48.302Z"
   },
   {
    "duration": 15,
    "start_time": "2022-11-17T10:45:48.339Z"
   },
   {
    "duration": 23,
    "start_time": "2022-11-17T10:45:48.355Z"
   },
   {
    "duration": 16,
    "start_time": "2022-11-17T10:45:48.379Z"
   },
   {
    "duration": 11,
    "start_time": "2022-11-17T10:45:48.397Z"
   },
   {
    "duration": 20,
    "start_time": "2022-11-17T10:45:48.409Z"
   },
   {
    "duration": 31,
    "start_time": "2022-11-17T10:45:48.430Z"
   },
   {
    "duration": 6,
    "start_time": "2022-11-17T10:45:48.462Z"
   },
   {
    "duration": 23,
    "start_time": "2022-11-17T10:45:48.469Z"
   },
   {
    "duration": 19,
    "start_time": "2022-11-17T10:45:48.494Z"
   },
   {
    "duration": 201,
    "start_time": "2022-11-17T10:45:48.517Z"
   },
   {
    "duration": 7,
    "start_time": "2022-11-17T10:45:48.721Z"
   },
   {
    "duration": 32,
    "start_time": "2022-11-17T10:45:48.730Z"
   },
   {
    "duration": 125,
    "start_time": "2022-11-17T10:45:48.764Z"
   },
   {
    "duration": 32,
    "start_time": "2022-11-17T10:45:48.890Z"
   },
   {
    "duration": 18,
    "start_time": "2022-11-17T10:45:48.923Z"
   },
   {
    "duration": 33,
    "start_time": "2022-11-17T10:45:48.943Z"
   },
   {
    "duration": 39,
    "start_time": "2022-11-17T10:45:48.978Z"
   },
   {
    "duration": 45,
    "start_time": "2022-11-17T10:45:49.019Z"
   },
   {
    "duration": 6,
    "start_time": "2022-11-17T10:45:49.066Z"
   },
   {
    "duration": 45,
    "start_time": "2022-11-17T10:45:49.074Z"
   },
   {
    "duration": 14,
    "start_time": "2022-11-17T10:45:49.120Z"
   },
   {
    "duration": 37,
    "start_time": "2022-11-17T10:45:49.135Z"
   },
   {
    "duration": 40,
    "start_time": "2022-11-17T10:45:49.174Z"
   },
   {
    "duration": 27,
    "start_time": "2022-11-17T10:45:49.215Z"
   },
   {
    "duration": 21,
    "start_time": "2022-11-17T10:45:49.244Z"
   },
   {
    "duration": 165,
    "start_time": "2022-11-17T10:45:49.266Z"
   },
   {
    "duration": 27,
    "start_time": "2022-11-17T10:45:49.432Z"
   },
   {
    "duration": 3,
    "start_time": "2022-11-17T10:45:49.461Z"
   },
   {
    "duration": 67,
    "start_time": "2022-11-17T10:45:49.466Z"
   },
   {
    "duration": 36,
    "start_time": "2022-11-17T10:45:49.535Z"
   },
   {
    "duration": 37,
    "start_time": "2022-11-17T10:45:49.573Z"
   },
   {
    "duration": 20,
    "start_time": "2022-11-17T10:45:49.611Z"
   },
   {
    "duration": 42,
    "start_time": "2022-11-17T10:45:49.632Z"
   },
   {
    "duration": 36,
    "start_time": "2022-11-17T10:45:49.675Z"
   },
   {
    "duration": 84,
    "start_time": "2022-11-17T10:45:49.712Z"
   },
   {
    "duration": 3,
    "start_time": "2022-11-17T10:45:49.798Z"
   },
   {
    "duration": 20,
    "start_time": "2022-11-17T10:45:49.803Z"
   },
   {
    "duration": 33,
    "start_time": "2022-11-17T10:45:49.824Z"
   },
   {
    "duration": 226,
    "start_time": "2022-11-17T10:45:49.858Z"
   },
   {
    "duration": 66,
    "start_time": "2022-11-17T10:45:50.086Z"
   },
   {
    "duration": 5,
    "start_time": "2022-11-17T10:45:50.153Z"
   },
   {
    "duration": 20,
    "start_time": "2022-11-17T10:45:50.159Z"
   },
   {
    "duration": 24,
    "start_time": "2022-11-17T10:45:50.181Z"
   },
   {
    "duration": 31,
    "start_time": "2022-11-17T10:45:50.206Z"
   },
   {
    "duration": 23,
    "start_time": "2022-11-17T10:45:50.238Z"
   },
   {
    "duration": 34,
    "start_time": "2022-11-17T10:45:50.262Z"
   },
   {
    "duration": 32,
    "start_time": "2022-11-17T10:45:50.297Z"
   },
   {
    "duration": 39,
    "start_time": "2022-11-17T10:45:50.330Z"
   },
   {
    "duration": 49,
    "start_time": "2022-11-17T10:50:31.532Z"
   },
   {
    "duration": 118,
    "start_time": "2022-11-17T10:53:45.318Z"
   },
   {
    "duration": 56,
    "start_time": "2022-11-17T10:53:48.489Z"
   },
   {
    "duration": 3,
    "start_time": "2022-11-17T10:54:07.486Z"
   },
   {
    "duration": 8,
    "start_time": "2022-11-17T10:54:10.004Z"
   },
   {
    "duration": 20,
    "start_time": "2022-11-17T10:54:16.733Z"
   },
   {
    "duration": 8,
    "start_time": "2022-11-17T10:54:25.401Z"
   },
   {
    "duration": 8,
    "start_time": "2022-11-17T10:54:48.698Z"
   },
   {
    "duration": 8,
    "start_time": "2022-11-17T10:54:54.739Z"
   },
   {
    "duration": 8,
    "start_time": "2022-11-17T10:54:58.442Z"
   },
   {
    "duration": 8,
    "start_time": "2022-11-17T10:55:17.383Z"
   },
   {
    "duration": 22,
    "start_time": "2022-11-17T10:56:06.988Z"
   },
   {
    "duration": 12,
    "start_time": "2022-11-17T10:58:37.321Z"
   },
   {
    "duration": 12,
    "start_time": "2022-11-17T10:58:42.512Z"
   },
   {
    "duration": 21,
    "start_time": "2022-11-17T10:59:08.317Z"
   },
   {
    "duration": 22,
    "start_time": "2022-11-17T10:59:11.868Z"
   },
   {
    "duration": 26,
    "start_time": "2022-11-17T10:59:19.109Z"
   },
   {
    "duration": 20,
    "start_time": "2022-11-17T10:59:27.742Z"
   },
   {
    "duration": 13,
    "start_time": "2022-11-17T10:59:44.332Z"
   },
   {
    "duration": 3,
    "start_time": "2022-11-17T10:59:55.194Z"
   },
   {
    "duration": 4,
    "start_time": "2022-11-17T11:00:01.612Z"
   },
   {
    "duration": 3,
    "start_time": "2022-11-17T11:00:29.288Z"
   },
   {
    "duration": 33,
    "start_time": "2022-11-17T11:00:31.544Z"
   },
   {
    "duration": 30,
    "start_time": "2022-11-17T11:00:41.400Z"
   },
   {
    "duration": 3,
    "start_time": "2022-11-17T11:00:48.122Z"
   },
   {
    "duration": 3,
    "start_time": "2022-11-17T11:00:53.609Z"
   },
   {
    "duration": 29,
    "start_time": "2022-11-17T11:00:58.322Z"
   },
   {
    "duration": 28,
    "start_time": "2022-11-17T11:01:07.756Z"
   },
   {
    "duration": 28,
    "start_time": "2022-11-17T11:01:10.725Z"
   },
   {
    "duration": 28,
    "start_time": "2022-11-17T11:01:16.324Z"
   },
   {
    "duration": 30,
    "start_time": "2022-11-17T11:01:23.729Z"
   },
   {
    "duration": 29,
    "start_time": "2022-11-17T11:01:29.093Z"
   },
   {
    "duration": 29,
    "start_time": "2022-11-17T11:01:40.896Z"
   },
   {
    "duration": 4,
    "start_time": "2022-11-17T11:01:52.011Z"
   },
   {
    "duration": 29,
    "start_time": "2022-11-17T11:02:12.910Z"
   },
   {
    "duration": 4,
    "start_time": "2022-11-17T11:03:02.851Z"
   },
   {
    "duration": 2,
    "start_time": "2022-11-17T11:06:31.943Z"
   },
   {
    "duration": 4,
    "start_time": "2022-11-17T11:06:59.298Z"
   },
   {
    "duration": 15,
    "start_time": "2022-11-17T11:07:10.323Z"
   },
   {
    "duration": 16,
    "start_time": "2022-11-17T11:07:21.852Z"
   },
   {
    "duration": 3,
    "start_time": "2022-11-17T11:07:22.052Z"
   },
   {
    "duration": 20,
    "start_time": "2022-11-17T11:07:45.745Z"
   },
   {
    "duration": 27,
    "start_time": "2022-11-17T11:07:46.089Z"
   },
   {
    "duration": 3,
    "start_time": "2022-11-17T11:07:46.490Z"
   },
   {
    "duration": 8,
    "start_time": "2022-11-17T11:07:46.809Z"
   },
   {
    "duration": 16,
    "start_time": "2022-11-17T11:07:47.112Z"
   },
   {
    "duration": 3,
    "start_time": "2022-11-17T11:07:47.378Z"
   },
   {
    "duration": 41,
    "start_time": "2022-11-17T11:08:18.325Z"
   },
   {
    "duration": 9,
    "start_time": "2022-11-17T11:12:32.201Z"
   },
   {
    "duration": 9,
    "start_time": "2022-11-17T11:12:35.264Z"
   },
   {
    "duration": 6,
    "start_time": "2022-11-17T11:13:18.110Z"
   },
   {
    "duration": 10,
    "start_time": "2022-11-17T11:13:19.030Z"
   },
   {
    "duration": 8,
    "start_time": "2022-11-17T11:13:37.129Z"
   },
   {
    "duration": 13,
    "start_time": "2022-11-17T11:13:38.713Z"
   },
   {
    "duration": 10,
    "start_time": "2022-11-17T11:13:44.073Z"
   },
   {
    "duration": 51,
    "start_time": "2022-11-17T11:15:28.570Z"
   },
   {
    "duration": 12,
    "start_time": "2022-11-17T11:16:07.193Z"
   },
   {
    "duration": 54,
    "start_time": "2022-11-17T11:18:24.381Z"
   },
   {
    "duration": 12,
    "start_time": "2022-11-17T11:20:29.904Z"
   },
   {
    "duration": 43,
    "start_time": "2022-11-17T11:25:20.645Z"
   },
   {
    "duration": 63,
    "start_time": "2022-11-17T11:25:52.266Z"
   },
   {
    "duration": 60,
    "start_time": "2022-11-17T11:34:16.669Z"
   },
   {
    "duration": 46,
    "start_time": "2022-11-17T11:39:58.061Z"
   },
   {
    "duration": 3,
    "start_time": "2022-11-17T11:40:31.432Z"
   },
   {
    "duration": 163,
    "start_time": "2022-11-17T11:40:31.437Z"
   },
   {
    "duration": 21,
    "start_time": "2022-11-17T11:40:31.601Z"
   },
   {
    "duration": 3,
    "start_time": "2022-11-17T11:40:31.623Z"
   },
   {
    "duration": 62,
    "start_time": "2022-11-17T11:40:31.628Z"
   },
   {
    "duration": 22,
    "start_time": "2022-11-17T11:40:31.692Z"
   },
   {
    "duration": 76,
    "start_time": "2022-11-17T11:40:31.716Z"
   },
   {
    "duration": 8,
    "start_time": "2022-11-17T11:40:31.794Z"
   },
   {
    "duration": 41,
    "start_time": "2022-11-17T11:40:31.804Z"
   },
   {
    "duration": 75,
    "start_time": "2022-11-17T11:40:31.846Z"
   },
   {
    "duration": 61,
    "start_time": "2022-11-17T11:40:31.923Z"
   },
   {
    "duration": 98,
    "start_time": "2022-11-17T11:40:31.986Z"
   },
   {
    "duration": 82,
    "start_time": "2022-11-17T11:40:32.085Z"
   },
   {
    "duration": 10,
    "start_time": "2022-11-17T11:40:32.169Z"
   },
   {
    "duration": 10,
    "start_time": "2022-11-17T11:40:32.180Z"
   },
   {
    "duration": 9,
    "start_time": "2022-11-17T11:40:32.191Z"
   },
   {
    "duration": 30,
    "start_time": "2022-11-17T11:40:32.202Z"
   },
   {
    "duration": 6,
    "start_time": "2022-11-17T11:40:32.234Z"
   },
   {
    "duration": 19,
    "start_time": "2022-11-17T11:40:32.242Z"
   },
   {
    "duration": 7,
    "start_time": "2022-11-17T11:40:32.263Z"
   },
   {
    "duration": 21,
    "start_time": "2022-11-17T11:40:32.272Z"
   },
   {
    "duration": 27,
    "start_time": "2022-11-17T11:40:32.294Z"
   },
   {
    "duration": 4,
    "start_time": "2022-11-17T11:40:32.323Z"
   },
   {
    "duration": 8,
    "start_time": "2022-11-17T11:40:32.328Z"
   },
   {
    "duration": 18,
    "start_time": "2022-11-17T11:40:32.337Z"
   },
   {
    "duration": 5,
    "start_time": "2022-11-17T11:40:32.357Z"
   },
   {
    "duration": 9,
    "start_time": "2022-11-17T11:40:32.364Z"
   },
   {
    "duration": 4,
    "start_time": "2022-11-17T11:40:32.374Z"
   },
   {
    "duration": 219,
    "start_time": "2022-11-17T11:40:32.420Z"
   },
   {
    "duration": 7,
    "start_time": "2022-11-17T11:40:32.640Z"
   },
   {
    "duration": 21,
    "start_time": "2022-11-17T11:40:32.649Z"
   },
   {
    "duration": 166,
    "start_time": "2022-11-17T11:40:32.672Z"
   },
   {
    "duration": 27,
    "start_time": "2022-11-17T11:40:32.842Z"
   },
   {
    "duration": 27,
    "start_time": "2022-11-17T11:40:32.870Z"
   },
   {
    "duration": 3,
    "start_time": "2022-11-17T11:40:32.898Z"
   },
   {
    "duration": 25,
    "start_time": "2022-11-17T11:40:32.903Z"
   },
   {
    "duration": 16,
    "start_time": "2022-11-17T11:40:32.930Z"
   },
   {
    "duration": 3,
    "start_time": "2022-11-17T11:40:32.948Z"
   },
   {
    "duration": 38,
    "start_time": "2022-11-17T11:40:32.952Z"
   },
   {
    "duration": 54,
    "start_time": "2022-11-17T11:40:32.992Z"
   },
   {
    "duration": 45,
    "start_time": "2022-11-17T11:40:33.047Z"
   },
   {
    "duration": 6,
    "start_time": "2022-11-17T11:40:33.094Z"
   },
   {
    "duration": 23,
    "start_time": "2022-11-17T11:40:33.101Z"
   },
   {
    "duration": 7,
    "start_time": "2022-11-17T11:40:33.125Z"
   },
   {
    "duration": 19,
    "start_time": "2022-11-17T11:40:33.133Z"
   },
   {
    "duration": 5,
    "start_time": "2022-11-17T11:40:33.153Z"
   },
   {
    "duration": 9,
    "start_time": "2022-11-17T11:40:33.160Z"
   },
   {
    "duration": 5,
    "start_time": "2022-11-17T11:40:33.170Z"
   },
   {
    "duration": 11,
    "start_time": "2022-11-17T11:40:33.176Z"
   },
   {
    "duration": 41,
    "start_time": "2022-11-17T11:40:33.188Z"
   },
   {
    "duration": 6,
    "start_time": "2022-11-17T11:40:33.231Z"
   },
   {
    "duration": 13,
    "start_time": "2022-11-17T11:40:33.238Z"
   },
   {
    "duration": 10,
    "start_time": "2022-11-17T11:40:33.253Z"
   },
   {
    "duration": 16,
    "start_time": "2022-11-17T11:40:33.264Z"
   },
   {
    "duration": 3,
    "start_time": "2022-11-17T11:40:33.281Z"
   },
   {
    "duration": 19,
    "start_time": "2022-11-17T11:40:33.286Z"
   },
   {
    "duration": 19,
    "start_time": "2022-11-17T11:40:33.306Z"
   },
   {
    "duration": 58,
    "start_time": "2022-11-17T11:40:33.327Z"
   },
   {
    "duration": 3,
    "start_time": "2022-11-17T11:40:33.387Z"
   },
   {
    "duration": 6,
    "start_time": "2022-11-17T11:40:33.392Z"
   },
   {
    "duration": 13,
    "start_time": "2022-11-17T11:40:33.400Z"
   },
   {
    "duration": 148,
    "start_time": "2022-11-17T11:40:33.415Z"
   },
   {
    "duration": 79,
    "start_time": "2022-11-17T11:40:33.564Z"
   },
   {
    "duration": 4,
    "start_time": "2022-11-17T11:40:33.645Z"
   },
   {
    "duration": 40,
    "start_time": "2022-11-17T11:40:33.651Z"
   },
   {
    "duration": 14,
    "start_time": "2022-11-17T11:40:33.693Z"
   },
   {
    "duration": 29,
    "start_time": "2022-11-17T11:40:33.709Z"
   },
   {
    "duration": 8,
    "start_time": "2022-11-17T11:40:33.739Z"
   },
   {
    "duration": 37,
    "start_time": "2022-11-17T11:40:33.749Z"
   },
   {
    "duration": 19,
    "start_time": "2022-11-17T11:40:33.787Z"
   },
   {
    "duration": 43,
    "start_time": "2022-11-17T11:40:33.808Z"
   },
   {
    "duration": 24,
    "start_time": "2022-11-17T11:40:33.853Z"
   },
   {
    "duration": 29,
    "start_time": "2022-11-17T11:41:19.540Z"
   },
   {
    "duration": 3,
    "start_time": "2022-11-17T11:43:20.451Z"
   },
   {
    "duration": 8364,
    "start_time": "2022-11-17T11:43:24.658Z"
   },
   {
    "duration": 3,
    "start_time": "2022-11-17T11:43:33.024Z"
   },
   {
    "duration": 16,
    "start_time": "2022-11-17T11:43:34.780Z"
   },
   {
    "duration": 5,
    "start_time": "2022-11-17T11:43:35.265Z"
   },
   {
    "duration": 7,
    "start_time": "2022-11-17T11:43:45.213Z"
   },
   {
    "duration": 18,
    "start_time": "2022-11-17T11:44:53.038Z"
   },
   {
    "duration": 17,
    "start_time": "2022-11-17T11:45:07.392Z"
   },
   {
    "duration": 18,
    "start_time": "2022-11-17T11:45:27.084Z"
   },
   {
    "duration": 12,
    "start_time": "2022-11-17T11:45:31.548Z"
   },
   {
    "duration": 16,
    "start_time": "2022-11-17T11:45:39.086Z"
   },
   {
    "duration": 9,
    "start_time": "2022-11-17T11:45:59.097Z"
   },
   {
    "duration": 4,
    "start_time": "2022-11-17T11:45:59.513Z"
   },
   {
    "duration": 7,
    "start_time": "2022-11-17T11:46:00.335Z"
   },
   {
    "duration": 11,
    "start_time": "2022-11-17T11:46:02.823Z"
   },
   {
    "duration": 5,
    "start_time": "2022-11-17T11:46:15.354Z"
   },
   {
    "duration": 11,
    "start_time": "2022-11-17T11:46:21.669Z"
   },
   {
    "duration": 7,
    "start_time": "2022-11-17T11:46:32.843Z"
   },
   {
    "duration": 32,
    "start_time": "2022-11-17T11:47:33.733Z"
   },
   {
    "duration": 6,
    "start_time": "2022-11-17T11:47:34.829Z"
   },
   {
    "duration": 7,
    "start_time": "2022-11-17T11:47:35.565Z"
   },
   {
    "duration": 34,
    "start_time": "2022-11-17T11:47:44.334Z"
   },
   {
    "duration": 6,
    "start_time": "2022-11-17T11:47:44.742Z"
   },
   {
    "duration": 7,
    "start_time": "2022-11-17T11:47:45.142Z"
   },
   {
    "duration": 128,
    "start_time": "2022-11-17T12:03:16.616Z"
   },
   {
    "duration": 211,
    "start_time": "2022-11-17T12:03:56.069Z"
   },
   {
    "duration": 12,
    "start_time": "2022-11-17T12:04:37.035Z"
   },
   {
    "duration": 6,
    "start_time": "2022-11-17T12:05:00.488Z"
   },
   {
    "duration": 280,
    "start_time": "2022-11-17T12:06:33.306Z"
   },
   {
    "duration": 6,
    "start_time": "2022-11-17T12:07:48.724Z"
   },
   {
    "duration": 35,
    "start_time": "2022-11-17T12:08:59.622Z"
   },
   {
    "duration": 203,
    "start_time": "2022-11-17T12:09:00.086Z"
   },
   {
    "duration": 11,
    "start_time": "2022-11-17T12:09:00.807Z"
   },
   {
    "duration": 4,
    "start_time": "2022-11-17T12:09:15.905Z"
   },
   {
    "duration": 3,
    "start_time": "2022-11-17T12:09:33.563Z"
   },
   {
    "duration": 198,
    "start_time": "2022-11-17T12:09:33.947Z"
   },
   {
    "duration": 11,
    "start_time": "2022-11-17T12:09:41.107Z"
   },
   {
    "duration": 11,
    "start_time": "2022-11-17T12:09:45.240Z"
   },
   {
    "duration": 7,
    "start_time": "2022-11-17T12:10:00.342Z"
   },
   {
    "duration": 112,
    "start_time": "2022-11-17T12:10:03.062Z"
   },
   {
    "duration": 229,
    "start_time": "2022-11-17T12:11:18.872Z"
   },
   {
    "duration": 12,
    "start_time": "2022-11-17T12:11:23.249Z"
   },
   {
    "duration": 4,
    "start_time": "2022-11-17T12:11:52.630Z"
   },
   {
    "duration": 160,
    "start_time": "2022-11-17T12:11:52.636Z"
   },
   {
    "duration": 8,
    "start_time": "2022-11-17T12:11:52.798Z"
   },
   {
    "duration": 3,
    "start_time": "2022-11-17T12:11:52.821Z"
   },
   {
    "duration": 32,
    "start_time": "2022-11-17T12:11:52.826Z"
   },
   {
    "duration": 12,
    "start_time": "2022-11-17T12:11:52.860Z"
   },
   {
    "duration": 84,
    "start_time": "2022-11-17T12:11:52.874Z"
   },
   {
    "duration": 8,
    "start_time": "2022-11-17T12:11:52.960Z"
   },
   {
    "duration": 34,
    "start_time": "2022-11-17T12:11:52.969Z"
   },
   {
    "duration": 86,
    "start_time": "2022-11-17T12:11:53.004Z"
   },
   {
    "duration": 76,
    "start_time": "2022-11-17T12:11:53.093Z"
   },
   {
    "duration": 92,
    "start_time": "2022-11-17T12:11:53.171Z"
   },
   {
    "duration": 64,
    "start_time": "2022-11-17T12:11:53.265Z"
   },
   {
    "duration": 11,
    "start_time": "2022-11-17T12:11:53.331Z"
   },
   {
    "duration": 10,
    "start_time": "2022-11-17T12:11:53.344Z"
   },
   {
    "duration": 17,
    "start_time": "2022-11-17T12:11:53.356Z"
   },
   {
    "duration": 16,
    "start_time": "2022-11-17T12:11:53.376Z"
   },
   {
    "duration": 29,
    "start_time": "2022-11-17T12:11:53.393Z"
   },
   {
    "duration": 19,
    "start_time": "2022-11-17T12:11:53.423Z"
   },
   {
    "duration": 10,
    "start_time": "2022-11-17T12:11:53.443Z"
   },
   {
    "duration": 21,
    "start_time": "2022-11-17T12:11:53.454Z"
   },
   {
    "duration": 8,
    "start_time": "2022-11-17T12:11:53.477Z"
   },
   {
    "duration": 7,
    "start_time": "2022-11-17T12:11:53.487Z"
   },
   {
    "duration": 17,
    "start_time": "2022-11-17T12:11:53.496Z"
   },
   {
    "duration": 23,
    "start_time": "2022-11-17T12:11:53.515Z"
   },
   {
    "duration": 6,
    "start_time": "2022-11-17T12:11:53.540Z"
   },
   {
    "duration": 49,
    "start_time": "2022-11-17T12:11:53.548Z"
   },
   {
    "duration": 2,
    "start_time": "2022-11-17T12:11:53.598Z"
   },
   {
    "duration": 219,
    "start_time": "2022-11-17T12:11:53.604Z"
   },
   {
    "duration": 10,
    "start_time": "2022-11-17T12:11:53.825Z"
   },
   {
    "duration": 7,
    "start_time": "2022-11-17T12:11:53.836Z"
   },
   {
    "duration": 18,
    "start_time": "2022-11-17T12:11:53.844Z"
   },
   {
    "duration": 11,
    "start_time": "2022-11-17T12:11:53.864Z"
   },
   {
    "duration": 199,
    "start_time": "2022-11-17T12:11:53.877Z"
   },
   {
    "duration": 6,
    "start_time": "2022-11-17T12:11:54.077Z"
   },
   {
    "duration": 36,
    "start_time": "2022-11-17T12:11:54.085Z"
   },
   {
    "duration": 126,
    "start_time": "2022-11-17T12:11:54.123Z"
   },
   {
    "duration": 21,
    "start_time": "2022-11-17T12:11:54.251Z"
   },
   {
    "duration": 36,
    "start_time": "2022-11-17T12:11:54.274Z"
   },
   {
    "duration": 4,
    "start_time": "2022-11-17T12:11:54.320Z"
   },
   {
    "duration": 21,
    "start_time": "2022-11-17T12:11:54.325Z"
   },
   {
    "duration": 25,
    "start_time": "2022-11-17T12:11:54.348Z"
   },
   {
    "duration": 4,
    "start_time": "2022-11-17T12:11:54.375Z"
   },
   {
    "duration": 45,
    "start_time": "2022-11-17T12:11:54.381Z"
   },
   {
    "duration": 28,
    "start_time": "2022-11-17T12:11:54.427Z"
   },
   {
    "duration": 45,
    "start_time": "2022-11-17T12:11:54.457Z"
   },
   {
    "duration": 20,
    "start_time": "2022-11-17T12:11:54.503Z"
   },
   {
    "duration": 10,
    "start_time": "2022-11-17T12:11:54.524Z"
   },
   {
    "duration": 11,
    "start_time": "2022-11-17T12:11:54.535Z"
   },
   {
    "duration": 8,
    "start_time": "2022-11-17T12:11:54.547Z"
   },
   {
    "duration": 7,
    "start_time": "2022-11-17T12:11:54.556Z"
   },
   {
    "duration": 11,
    "start_time": "2022-11-17T12:11:54.564Z"
   },
   {
    "duration": 7,
    "start_time": "2022-11-17T12:11:54.577Z"
   },
   {
    "duration": 20,
    "start_time": "2022-11-17T12:11:54.586Z"
   },
   {
    "duration": 46,
    "start_time": "2022-11-17T12:11:54.608Z"
   },
   {
    "duration": 4,
    "start_time": "2022-11-17T12:11:54.656Z"
   },
   {
    "duration": 16,
    "start_time": "2022-11-17T12:11:54.663Z"
   },
   {
    "duration": 10,
    "start_time": "2022-11-17T12:11:54.681Z"
   },
   {
    "duration": 11,
    "start_time": "2022-11-17T12:11:54.693Z"
   },
   {
    "duration": 4,
    "start_time": "2022-11-17T12:11:54.705Z"
   },
   {
    "duration": 14,
    "start_time": "2022-11-17T12:11:54.710Z"
   },
   {
    "duration": 9,
    "start_time": "2022-11-17T12:11:54.725Z"
   },
   {
    "duration": 49,
    "start_time": "2022-11-17T12:11:54.735Z"
   },
   {
    "duration": 2,
    "start_time": "2022-11-17T12:11:54.786Z"
   },
   {
    "duration": 9,
    "start_time": "2022-11-17T12:11:54.790Z"
   },
   {
    "duration": 24,
    "start_time": "2022-11-17T12:11:54.800Z"
   },
   {
    "duration": 150,
    "start_time": "2022-11-17T12:11:54.826Z"
   },
   {
    "duration": 73,
    "start_time": "2022-11-17T12:11:54.978Z"
   },
   {
    "duration": 4,
    "start_time": "2022-11-17T12:11:55.053Z"
   },
   {
    "duration": 10,
    "start_time": "2022-11-17T12:11:55.058Z"
   },
   {
    "duration": 9,
    "start_time": "2022-11-17T12:11:55.070Z"
   },
   {
    "duration": 15,
    "start_time": "2022-11-17T12:11:55.080Z"
   },
   {
    "duration": 116,
    "start_time": "2022-11-17T12:11:55.097Z"
   },
   {
    "duration": 17,
    "start_time": "2022-11-17T12:11:55.214Z"
   },
   {
    "duration": 10,
    "start_time": "2022-11-17T12:11:55.232Z"
   },
   {
    "duration": 14,
    "start_time": "2022-11-17T12:11:55.244Z"
   },
   {
    "duration": 11,
    "start_time": "2022-11-17T12:11:55.260Z"
   }
  ],
  "kernelspec": {
   "display_name": "Python 3 (ipykernel)",
   "language": "python",
   "name": "python3"
  },
  "language_info": {
   "codemirror_mode": {
    "name": "ipython",
    "version": 3
   },
   "file_extension": ".py",
   "mimetype": "text/x-python",
   "name": "python",
   "nbconvert_exporter": "python",
   "pygments_lexer": "ipython3",
   "version": "3.10.5"
  },
  "toc": {
   "base_numbering": 1,
   "nav_menu": {},
   "number_sections": true,
   "sideBar": true,
   "skip_h1_title": true,
   "title_cell": "Table of Contents",
   "title_sidebar": "Contents",
   "toc_cell": false,
   "toc_position": {},
   "toc_section_display": true,
   "toc_window_display": false
  }
 },
 "nbformat": 4,
 "nbformat_minor": 2
}
