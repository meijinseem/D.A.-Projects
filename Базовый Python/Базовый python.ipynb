{
 "cells": [
  {
   "cell_type": "markdown",
   "metadata": {
    "deletable": false,
    "editable": false,
    "id": "E0vqbgi9ay0H"
   },
   "source": [
    "# Яндекс Музыка"
   ]
  },
  {
   "cell_type": "markdown",
   "metadata": {
    "deletable": false,
    "editable": false,
    "id": "VUC88oWjTJw2"
   },
   "source": [
    "Сравнение Москвы и Петербурга окружено мифами. Например:\n",
    " * Москва — мегаполис, подчинённый жёсткому ритму рабочей недели;\n",
    " * Петербург — культурная столица, со своими вкусами.\n",
    "\n",
    "На данных Яндекс Музыки вы сравните поведение пользователей двух столиц.\n",
    "\n",
    "**Цель исследования** — проверьте три гипотезы:\n",
    "1. Активность пользователей зависит от дня недели. Причём в Москве и Петербурге это проявляется по-разному.\n",
    "2. В понедельник утром в Москве преобладают одни жанры, а в Петербурге — другие. Так же и вечером пятницы преобладают разные жанры — в зависимости от города. \n",
    "3. Москва и Петербург предпочитают разные жанры музыки. В Москве чаще слушают поп-музыку, в Петербурге — русский рэп.\n",
    "\n",
    "**Ход исследования**\n",
    "\n",
    "Данные о поведении пользователей вы получите из файла `yandex_music_project.csv`. О качестве данных ничего не известно. Поэтому перед проверкой гипотез понадобится обзор данных. \n",
    "\n",
    "Вы проверите данные на ошибки и оцените их влияние на исследование. Затем, на этапе предобработки вы поищете возможность исправить самые критичные ошибки данных.\n",
    " \n",
    "Таким образом, исследование пройдёт в три этапа:\n",
    " 1. Обзор данных.\n",
    " 2. Предобработка данных.\n",
    " 3. Проверка гипотез.\n",
    "\n"
   ]
  },
  {
   "cell_type": "markdown",
   "metadata": {
    "deletable": false,
    "editable": false,
    "id": "Ml1hmfXC_Zcs"
   },
   "source": [
    "## Обзор данных\n",
    "\n",
    "Составьте первое представление о данных Яндекс Музыки.\n",
    "\n",
    "\n"
   ]
  },
  {
   "cell_type": "markdown",
   "metadata": {
    "deletable": false,
    "editable": false,
    "id": "57eAOGIz_Zcs",
    "tags": [
     "start_task"
    ]
   },
   "source": [
    "**Задание 1**\n",
    "\n",
    "Основной инструмент аналитика — `pandas`. Импортируйте эту библиотеку."
   ]
  },
  {
   "cell_type": "code",
   "execution_count": 2,
   "metadata": {
    "deletable": false,
    "id": "AXN7PHPN_Zcs"
   },
   "outputs": [],
   "source": [
    "import pandas as pd"
   ]
  },
  {
   "cell_type": "markdown",
   "metadata": {
    "deletable": false,
    "editable": false,
    "id": "SG23P8tt_Zcs",
    "tags": [
     "start_task"
    ]
   },
   "source": [
    "**Задание 2**\n",
    "\n",
    "Прочитайте файл `yandex_music_project.csv` из папки `/datasets` и сохраните его в переменной `df`:"
   ]
  },
  {
   "cell_type": "code",
   "execution_count": 3,
   "metadata": {
    "deletable": false,
    "id": "fFVu7vqh_Zct"
   },
   "outputs": [],
   "source": [
    "df = pd.read_csv('/datasets/yandex_music_project.csv')"
   ]
  },
  {
   "cell_type": "markdown",
   "metadata": {
    "deletable": false,
    "editable": false,
    "id": "rDoOMd3uTqnZ",
    "tags": [
     "start_task"
    ]
   },
   "source": [
    "**Задание 3**\n",
    "\n",
    "\n",
    "Выведите на экран первые десять строк таблицы:"
   ]
  },
  {
   "cell_type": "code",
   "execution_count": 4,
   "metadata": {
    "deletable": false,
    "id": "oWTVX3gW_Zct"
   },
   "outputs": [
    {
     "name": "stdout",
     "output_type": "stream",
     "text": [
      "     userID                        Track            artist   genre  \\\n",
      "0  FFB692EC            Kamigata To Boots  The Mass Missile    rock   \n",
      "1  55204538  Delayed Because of Accident  Andreas Rönnberg    rock   \n",
      "2    20EC38            Funiculì funiculà       Mario Lanza     pop   \n",
      "3  A3DD03C9        Dragons in the Sunset        Fire + Ice    folk   \n",
      "4  E2DC1FAE                  Soul People        Space Echo   dance   \n",
      "5  842029A1                    Преданная         IMPERVTOR  rusrap   \n",
      "6  4CB90AA5                         True      Roman Messer   dance   \n",
      "7  F03E1C1F             Feeling This Way   Polina Griffith   dance   \n",
      "8  8FA1D3BE     И вновь продолжается бой               NaN  ruspop   \n",
      "9  E772D5C0                    Pessimist               NaN   dance   \n",
      "\n",
      "             City        time        Day  \n",
      "0  Saint-Petersburg  20:28:33  Wednesday  \n",
      "1            Moscow  14:07:09     Friday  \n",
      "2  Saint-Petersburg  20:58:07  Wednesday  \n",
      "3  Saint-Petersburg  08:37:09     Monday  \n",
      "4            Moscow  08:34:34     Monday  \n",
      "5  Saint-Petersburg  13:09:41     Friday  \n",
      "6            Moscow  13:00:07  Wednesday  \n",
      "7            Moscow  20:47:49  Wednesday  \n",
      "8            Moscow  09:17:40     Friday  \n",
      "9  Saint-Petersburg  21:20:49  Wednesday  \n"
     ]
    }
   ],
   "source": [
    "print(df.head(10))"
   ]
  },
  {
   "cell_type": "markdown",
   "metadata": {
    "deletable": false,
    "editable": false,
    "id": "EO73Kwic_Zct",
    "tags": [
     "start_task"
    ]
   },
   "source": [
    "**Задание 4**\n",
    "\n",
    "\n",
    "Одной командой получить общую информацию о таблице c помощью метода `info()`:"
   ]
  },
  {
   "cell_type": "code",
   "execution_count": 5,
   "metadata": {
    "deletable": false,
    "id": "DSf2kIb-_Zct"
   },
   "outputs": [
    {
     "name": "stdout",
     "output_type": "stream",
     "text": [
      "<class 'pandas.core.frame.DataFrame'>\n",
      "RangeIndex: 65079 entries, 0 to 65078\n",
      "Data columns (total 7 columns):\n",
      " #   Column    Non-Null Count  Dtype \n",
      "---  ------    --------------  ----- \n",
      " 0     userID  65079 non-null  object\n",
      " 1   Track     63848 non-null  object\n",
      " 2   artist    57876 non-null  object\n",
      " 3   genre     63881 non-null  object\n",
      " 4     City    65079 non-null  object\n",
      " 5   time      65079 non-null  object\n",
      " 6   Day       65079 non-null  object\n",
      "dtypes: object(7)\n",
      "memory usage: 3.5+ MB\n"
     ]
    }
   ],
   "source": [
    "df.info()"
   ]
  },
  {
   "cell_type": "markdown",
   "metadata": {
    "deletable": false,
    "editable": false,
    "id": "TaQ2Iwbr_Zct"
   },
   "source": [
    "Итак, в таблице семь столбцов. Тип данных во всех столбцах — `object`.\n",
    "\n",
    "Согласно документации к данным:\n",
    "* `userID` — идентификатор пользователя;\n",
    "* `Track` — название трека;  \n",
    "* `artist` — имя исполнителя;\n",
    "* `genre` — название жанра;\n",
    "* `City` — город пользователя;\n",
    "* `time` — время начала прослушивания;\n",
    "* `Day` — день недели.\n",
    "\n",
    "Количество значений в столбцах различается. Значит, в данных есть пропущенные значения."
   ]
  },
  {
   "cell_type": "markdown",
   "metadata": {
    "deletable": false,
    "editable": false,
    "id": "rAfziTBDmf2h",
    "tags": [
     "start_task"
    ]
   },
   "source": [
    "**Задание 5**\n",
    "\n",
    "**Вопрос со свободной формой ответа**\n",
    "\n",
    "В названиях колонок видны нарушения стиля:\n",
    "* Строчные буквы сочетаются с прописными.\n",
    "* Встречаются пробелы.\n",
    "\n",
    "Какое третье нарушение?"
   ]
  },
  {
   "cell_type": "code",
   "execution_count": 6,
   "metadata": {
    "id": "jD8EXEIvmf2h"
   },
   "outputs": [],
   "source": [
    "# в колонках \"time\" и \"day\" тип данных object, а должно быть int64, а так же отсутсвует нижнее подчеркивание"
   ]
  },
  {
   "cell_type": "markdown",
   "metadata": {
    "deletable": false,
    "editable": false,
    "id": "MCB6-dXG_Zct"
   },
   "source": [
    "**Выводы**\n",
    "\n",
    "В каждой строке таблицы — данные о прослушанном треке. Часть колонок описывает саму композицию: название, исполнителя и жанр. Остальные данные рассказывают о пользователе: из какого он города, когда он слушал музыку. \n",
    "\n",
    "Предварительно можно утверждать, что данных достаточно для проверки гипотез. Но встречаются пропуски в данных, а в названиях колонок — расхождения с хорошим стилем.\n",
    "\n",
    "Чтобы двигаться дальше, нужно устранить проблемы в данных."
   ]
  },
  {
   "cell_type": "markdown",
   "metadata": {
    "deletable": false,
    "editable": false,
    "id": "SjYF6Ub9_Zct"
   },
   "source": [
    "## Предобработка данных\n",
    "Исправьте стиль в заголовках столбцов, исключите пропуски. Затем проверьте данные на дубликаты."
   ]
  },
  {
   "cell_type": "markdown",
   "metadata": {
    "deletable": false,
    "editable": false,
    "id": "dIaKXr29_Zct",
    "tags": [
     "start_task"
    ]
   },
   "source": [
    "### Стиль заголовков\n",
    "\n",
    "**Задание 6**\n",
    "\n",
    "Выведите на экран названия столбцов:"
   ]
  },
  {
   "cell_type": "code",
   "execution_count": 7,
   "metadata": {
    "deletable": false,
    "id": "oKOTdF_Q_Zct"
   },
   "outputs": [
    {
     "name": "stdout",
     "output_type": "stream",
     "text": [
      "Index(['  userID', 'Track', 'artist', 'genre', '  City  ', 'time', 'Day'], dtype='object')\n"
     ]
    }
   ],
   "source": [
    "print(df.columns)"
   ]
  },
  {
   "cell_type": "markdown",
   "metadata": {
    "deletable": false,
    "editable": false,
    "id": "zj5534cv_Zct",
    "tags": [
     "start_task"
    ]
   },
   "source": [
    "**Задание 7**\n",
    "\n",
    "\n",
    "Приведите названия в соответствие с хорошим стилем:\n",
    "* несколько слов в названии запишите в «змеином_регистре»,\n",
    "* все символы сделайте строчными,\n",
    "* устраните пробелы.\n",
    "\n",
    "Для этого переименуйте колонки так:\n",
    "* `'  userID'` → `'user_id'`;\n",
    "* `'Track'` → `'track'`;\n",
    "* `'  City  '` → `'city'`;\n",
    "* `'Day'` → `'day'`."
   ]
  },
  {
   "cell_type": "code",
   "execution_count": 8,
   "metadata": {
    "deletable": false,
    "id": "ISlFqs5y_Zct"
   },
   "outputs": [],
   "source": [
    "df = df.rename(columns = {'  userID':'user_id','Track':'track','  City  ' : 'city','Day':'day'})"
   ]
  },
  {
   "cell_type": "markdown",
   "metadata": {
    "deletable": false,
    "editable": false,
    "id": "1dqbh00J_Zct",
    "tags": [
     "start_task"
    ]
   },
   "source": [
    "**Задание 8**\n",
    "\n",
    "\n",
    "Проверьте результат. Для этого ещё раз выведите на экран названия столбцов:"
   ]
  },
  {
   "cell_type": "code",
   "execution_count": 9,
   "metadata": {
    "deletable": false,
    "id": "d4NOAmTW_Zct"
   },
   "outputs": [
    {
     "name": "stdout",
     "output_type": "stream",
     "text": [
      "Index(['user_id', 'track', 'artist', 'genre', 'city', 'time', 'day'], dtype='object')\n"
     ]
    }
   ],
   "source": [
    "print(df.columns)"
   ]
  },
  {
   "cell_type": "markdown",
   "metadata": {
    "deletable": false,
    "editable": false,
    "id": "5ISfbcfY_Zct",
    "tags": [
     "start_task"
    ]
   },
   "source": [
    "### Пропуски значений\n",
    "\n",
    "**Задание 9**\n",
    "\n",
    "Сначала посчитайте, сколько в таблице пропущенных значений. Для этого достаточно двух методов `pandas`:"
   ]
  },
  {
   "cell_type": "code",
   "execution_count": 10,
   "metadata": {
    "deletable": false,
    "id": "RskX29qr_Zct"
   },
   "outputs": [
    {
     "name": "stdout",
     "output_type": "stream",
     "text": [
      "user_id       0\n",
      "track      1231\n",
      "artist     7203\n",
      "genre      1198\n",
      "city          0\n",
      "time          0\n",
      "day           0\n",
      "dtype: int64\n"
     ]
    }
   ],
   "source": [
    "print(df.isna().sum())"
   ]
  },
  {
   "cell_type": "markdown",
   "metadata": {
    "deletable": false,
    "editable": false,
    "id": "qubhgnlO_Zct"
   },
   "source": [
    "Не все пропущенные значения влияют на исследование. Так в `track` и `artist` пропуски не важны для вашей работы. Достаточно заменить их явными обозначениями.\n",
    "\n",
    "Но пропуски в `genre` могут помешать сравнению музыкальных вкусов в Москве и Санкт-Петербурге. На практике было бы правильно установить причину пропусков и восстановить данные. Такой возможности нет в учебном проекте. Придётся:\n",
    "* заполнить и эти пропуски явными обозначениями;\n",
    "* оценить, насколько они повредят расчётам. "
   ]
  },
  {
   "cell_type": "markdown",
   "metadata": {
    "deletable": false,
    "editable": false,
    "id": "fSv2laPA_Zct",
    "tags": [
     "start_task"
    ]
   },
   "source": [
    "**Задание 10**\n",
    "\n",
    "Замените пропущенные значения в столбцах `track`, `artist` и `genre` на строку `'unknown'`. Для этого создайте список `columns_to_replace`, переберите его элементы циклом `for` и для каждого столбца выполните замену пропущенных значений:"
   ]
  },
  {
   "cell_type": "code",
   "execution_count": 11,
   "metadata": {
    "deletable": false,
    "id": "KplB5qWs_Zct"
   },
   "outputs": [],
   "source": [
    "columns_to_replace = df[{'genre','artist','track'}]\n",
    "for columns in columns_to_replace:\n",
    "     df[columns] = df[columns].fillna('unknown')\n",
    "\n",
    "\n"
   ]
  },
  {
   "cell_type": "markdown",
   "metadata": {
    "deletable": false,
    "editable": false,
    "id": "Ilsm-MZo_Zct",
    "tags": [
     "start_task"
    ]
   },
   "source": [
    "**Задание 11**\n",
    "\n",
    "Убедитесь, что в таблице не осталось пропусков. Для этого ещё раз посчитайте пропущенные значения."
   ]
  },
  {
   "cell_type": "code",
   "execution_count": 12,
   "metadata": {
    "deletable": false,
    "id": "Tq4nYRX4_Zct"
   },
   "outputs": [
    {
     "name": "stdout",
     "output_type": "stream",
     "text": [
      "user_id    0\n",
      "track      0\n",
      "artist     0\n",
      "genre      0\n",
      "city       0\n",
      "time       0\n",
      "day        0\n",
      "dtype: int64\n"
     ]
    }
   ],
   "source": [
    "print(df.isna().sum())"
   ]
  },
  {
   "cell_type": "markdown",
   "metadata": {
    "deletable": false,
    "editable": false,
    "id": "BWKRtBJ3_Zct",
    "tags": [
     "start_task"
    ]
   },
   "source": [
    "### Дубликаты\n",
    "\n",
    "**Задание 12**\n",
    "\n",
    "Посчитайте явные дубликаты в таблице одной командой:"
   ]
  },
  {
   "cell_type": "code",
   "execution_count": 13,
   "metadata": {
    "deletable": false,
    "id": "36eES_S0_Zct"
   },
   "outputs": [
    {
     "name": "stdout",
     "output_type": "stream",
     "text": [
      "3826\n"
     ]
    }
   ],
   "source": [
    "print(df.duplicated().sum())"
   ]
  },
  {
   "cell_type": "markdown",
   "metadata": {
    "deletable": false,
    "editable": false,
    "id": "Ot25h6XR_Zct",
    "tags": [
     "start_task"
    ]
   },
   "source": [
    "**Задание 13**\n",
    "\n",
    "Вызовите специальный метод `pandas`, чтобы удалить явные дубликаты:"
   ]
  },
  {
   "cell_type": "code",
   "execution_count": 14,
   "metadata": {
    "deletable": false,
    "id": "exFHq6tt_Zct"
   },
   "outputs": [],
   "source": [
    "df = df.drop_duplicates().reset_index(drop=True)"
   ]
  },
  {
   "cell_type": "markdown",
   "metadata": {
    "deletable": false,
    "editable": false,
    "id": "Im2YwBEG_Zct",
    "tags": [
     "start_task"
    ]
   },
   "source": [
    "**Задание 14**\n",
    "\n",
    "Ещё раз посчитайте явные дубликаты в таблице — убедитесь, что полностью от них избавились:"
   ]
  },
  {
   "cell_type": "code",
   "execution_count": 15,
   "metadata": {
    "deletable": false,
    "id": "-8PuNWQ0_Zct"
   },
   "outputs": [
    {
     "name": "stdout",
     "output_type": "stream",
     "text": [
      "0\n"
     ]
    }
   ],
   "source": [
    "print(df.duplicated().sum())"
   ]
  },
  {
   "cell_type": "markdown",
   "metadata": {
    "deletable": false,
    "editable": false,
    "id": "QlFBsxAr_Zct"
   },
   "source": [
    "Теперь избавьтесь от неявных дубликатов в колонке `genre`. Например, название одного и того же жанра может быть записано немного по-разному. Такие ошибки тоже повлияют на результат исследования."
   ]
  },
  {
   "cell_type": "markdown",
   "metadata": {
    "deletable": false,
    "editable": false,
    "id": "eSjWwsOh_Zct",
    "tags": [
     "start_task"
    ]
   },
   "source": [
    "**Задание 15**\n",
    "\n",
    "Выведите на экран список уникальных названий жанров, отсортированный в алфавитном порядке. Для этого:\n",
    "1. извлеките нужный столбец датафрейма; \n",
    "2. примените к нему метод сортировки;\n",
    "3. для отсортированного столбца вызовите метод, который вернёт уникальные значения из столбца."
   ]
  },
  {
   "cell_type": "code",
   "execution_count": 16,
   "metadata": {
    "deletable": false,
    "id": "JIUcqzZN_Zct"
   },
   "outputs": [
    {
     "name": "stdout",
     "output_type": "stream",
     "text": [
      "['acid' 'acoustic' 'action' 'adult' 'africa' 'afrikaans' 'alternative'\n",
      " 'alternativepunk' 'ambient' 'americana' 'animated' 'anime' 'arabesk'\n",
      " 'arabic' 'arena' 'argentinetango' 'art' 'audiobook' 'author' 'avantgarde'\n",
      " 'axé' 'baile' 'balkan' 'beats' 'bigroom' 'black' 'bluegrass' 'blues'\n",
      " 'bollywood' 'bossa' 'brazilian' 'breakbeat' 'breaks' 'broadway'\n",
      " 'cantautori' 'cantopop' 'canzone' 'caribbean' 'caucasian' 'celtic'\n",
      " 'chamber' 'chanson' 'children' 'chill' 'chinese' 'choral' 'christian'\n",
      " 'christmas' 'classical' 'classicmetal' 'club' 'colombian' 'comedy'\n",
      " 'conjazz' 'contemporary' 'country' 'cuban' 'dance' 'dancehall' 'dancepop'\n",
      " 'dark' 'death' 'deep' 'deutschrock' 'deutschspr' 'dirty' 'disco' 'dnb'\n",
      " 'documentary' 'downbeat' 'downtempo' 'drum' 'dub' 'dubstep' 'eastern'\n",
      " 'easy' 'electronic' 'electropop' 'emo' 'entehno' 'epicmetal' 'estrada'\n",
      " 'ethnic' 'eurofolk' 'european' 'experimental' 'extrememetal' 'fado'\n",
      " 'fairytail' 'film' 'fitness' 'flamenco' 'folk' 'folklore' 'folkmetal'\n",
      " 'folkrock' 'folktronica' 'forró' 'frankreich' 'französisch' 'french'\n",
      " 'funk' 'future' 'gangsta' 'garage' 'german' 'ghazal' 'gitarre' 'glitch'\n",
      " 'gospel' 'gothic' 'grime' 'grunge' 'gypsy' 'handsup' \"hard'n'heavy\"\n",
      " 'hardcore' 'hardstyle' 'hardtechno' 'hip' 'hip-hop' 'hiphop' 'historisch'\n",
      " 'holiday' 'hop' 'horror' 'house' 'hymn' 'idm' 'independent' 'indian'\n",
      " 'indie' 'indipop' 'industrial' 'inspirational' 'instrumental'\n",
      " 'international' 'irish' 'jam' 'japanese' 'jazz' 'jewish' 'jpop' 'jungle'\n",
      " 'k-pop' 'karadeniz' 'karaoke' 'kayokyoku' 'korean' 'laiko' 'latin'\n",
      " 'latino' 'leftfield' 'local' 'lounge' 'loungeelectronic' 'lovers'\n",
      " 'malaysian' 'mandopop' 'marschmusik' 'meditative' 'mediterranean'\n",
      " 'melodic' 'metal' 'metalcore' 'mexican' 'middle' 'minimal'\n",
      " 'miscellaneous' 'modern' 'mood' 'mpb' 'muslim' 'native' 'neoklassik'\n",
      " 'neue' 'new' 'newage' 'newwave' 'nu' 'nujazz' 'numetal' 'oceania' 'old'\n",
      " 'opera' 'orchestral' 'other' 'piano' 'podcasts' 'pop' 'popdance'\n",
      " 'popelectronic' 'popeurodance' 'poprussian' 'post' 'posthardcore'\n",
      " 'postrock' 'power' 'progmetal' 'progressive' 'psychedelic' 'punjabi'\n",
      " 'punk' 'quebecois' 'ragga' 'ram' 'rancheras' 'rap' 'rave' 'reggae'\n",
      " 'reggaeton' 'regional' 'relax' 'religious' 'retro' 'rhythm' 'rnb' 'rnr'\n",
      " 'rock' 'rockabilly' 'rockalternative' 'rockindie' 'rockother' 'romance'\n",
      " 'roots' 'ruspop' 'rusrap' 'rusrock' 'russian' 'salsa' 'samba' 'scenic'\n",
      " 'schlager' 'self' 'sertanejo' 'shanson' 'shoegazing' 'showtunes' 'singer'\n",
      " 'ska' 'skarock' 'slow' 'smooth' 'soft' 'soul' 'soulful' 'sound'\n",
      " 'soundtrack' 'southern' 'specialty' 'speech' 'spiritual' 'sport'\n",
      " 'stonerrock' 'surf' 'swing' 'synthpop' 'synthrock' 'sängerportrait'\n",
      " 'tango' 'tanzorchester' 'taraftar' 'tatar' 'tech' 'techno' 'teen'\n",
      " 'thrash' 'top' 'traditional' 'tradjazz' 'trance' 'tribal' 'trip'\n",
      " 'triphop' 'tropical' 'türk' 'türkçe' 'ukrrock' 'unknown' 'urban' 'uzbek'\n",
      " 'variété' 'vi' 'videogame' 'vocal' 'western' 'world' 'worldbeat' 'ïîï'\n",
      " 'электроника']\n"
     ]
    }
   ],
   "source": [
    "genres_list=df['genre'].sort_values(ascending = True)\n",
    "print(genres_list.unique())"
   ]
  },
  {
   "cell_type": "markdown",
   "metadata": {
    "deletable": false,
    "editable": false,
    "id": "qej-Qmuo_Zct",
    "tags": [
     "start_task"
    ]
   },
   "source": [
    "**Задание 16**\n",
    "\n",
    "Просмотрите список и найдите неявные дубликаты названия `hiphop`. Это могут быть названия с ошибками или альтернативные названия того же жанра.\n",
    "\n",
    "Вы увидите следующие неявные дубликаты:\n",
    "* *hip*,\n",
    "* *hop*,\n",
    "* *hip-hop*.\n",
    "\n",
    "Чтобы очистить от них таблицу используйте метод `replace()` с двумя аргументами: списком строк-дубликатов (включащий *hip*, *hop* и *hip-hop*) и строкой с правильным значением. Вам нужно исправить колонку `genre` в таблице `df`: заменить каждое значение из списка дубликатов на верное. Вместо `hip`, `hop` и `hip-hop` в таблице должно быть значение `hiphop`:"
   ]
  },
  {
   "cell_type": "code",
   "execution_count": 22,
   "metadata": {
    "deletable": false,
    "id": "ErNDkmns_Zct"
   },
   "outputs": [],
   "source": [
    "duplicates = ['hip', 'hop', 'hip-hop'] \n",
    "name = 'hiphop' \n",
    "\n",
    "    \n",
    "df['genre'] = df['genre'].replace(duplicates, name)\n",
    "\n",
    "\n"
   ]
  },
  {
   "cell_type": "markdown",
   "metadata": {
    "deletable": false,
    "editable": false,
    "id": "zQKF16_RG15m",
    "tags": [
     "start_task"
    ]
   },
   "source": [
    "**Задание 17**\n",
    "\n",
    "Проверьте, что заменили неправильные названия:\n",
    "\n",
    "*   hip,\n",
    "*   hop,\n",
    "*   hip-hop.\n",
    "\n",
    "Выведите отсортированный список уникальных значений столбца `genre`:"
   ]
  },
  {
   "cell_type": "code",
   "execution_count": 29,
   "metadata": {
    "deletable": false,
    "id": "wvixALnFG15m"
   },
   "outputs": [
    {
     "name": "stdout",
     "output_type": "stream",
     "text": [
      "[None]\n"
     ]
    }
   ],
   "source": [
    "genres_list=df['genre'].sort_values(ascending = True)\n",
    "print(genres_list.unique())"
   ]
  },
  {
   "cell_type": "markdown",
   "metadata": {
    "deletable": false,
    "editable": false,
    "id": "jz6a9-7HQUDd"
   },
   "source": [
    "**Выводы**\n",
    "\n",
    "Предобработка обнаружила три проблемы в данных:\n",
    "\n",
    "- нарушения в стиле заголовков,\n",
    "- пропущенные значения,\n",
    "- дубликаты — явные и неявные.\n",
    "\n",
    "Вы исправили заголовки, чтобы упростить работу с таблицей. Без дубликатов исследование станет более точным.\n",
    "\n",
    "Пропущенные значения вы заменили на `'unknown'`. Ещё предстоит увидеть, не повредят ли исследованию пропуски в колонке `genre`.\n",
    "\n",
    "Теперь можно перейти к проверке гипотез. "
   ]
  },
  {
   "cell_type": "markdown",
   "metadata": {
    "deletable": false,
    "editable": false,
    "id": "WttZHXH0SqKk"
   },
   "source": [
    "## Проверка гипотез"
   ]
  },
  {
   "cell_type": "markdown",
   "metadata": {
    "deletable": false,
    "editable": false,
    "id": "Im936VVi_Zcu"
   },
   "source": [
    "### Сравнение поведения пользователей двух столиц"
   ]
  },
  {
   "cell_type": "markdown",
   "metadata": {
    "deletable": false,
    "editable": false,
    "id": "nwt_MuaL_Zcu"
   },
   "source": [
    "Первая гипотеза утверждает, что пользователи по-разному слушают музыку в Москве и Санкт-Петербурге. Проверьте это предположение по данным о трёх днях недели — понедельнике, среде и пятнице. Для этого:\n",
    "\n",
    "* Разделите пользователей Москвы и Санкт-Петербурга.\n",
    "* Сравните, сколько треков послушала каждая группа пользователей в понедельник, среду и пятницу.\n"
   ]
  },
  {
   "cell_type": "markdown",
   "metadata": {
    "deletable": false,
    "editable": false,
    "id": "8Dw_YMmT_Zcu",
    "tags": [
     "start_task"
    ]
   },
   "source": [
    "**Задание 18**\n",
    "\n",
    "Для тренировки сначала выполните каждый из расчётов по отдельности. \n",
    "\n",
    "Оцените активность пользователей в каждом городе. Сгруппируйте данные по городу и посчитайте прослушивания в каждой группе.\n",
    "\n"
   ]
  },
  {
   "cell_type": "code",
   "execution_count": 30,
   "metadata": {
    "deletable": false,
    "id": "0_Qs96oh_Zcu"
   },
   "outputs": [
    {
     "name": "stdout",
     "output_type": "stream",
     "text": [
      "city\n",
      "Moscow              42741\n",
      "Saint-Petersburg    18512\n",
      "Name: user_id, dtype: int64\n"
     ]
    }
   ],
   "source": [
    "print(df.groupby('city')['user_id'].count())\n"
   ]
  },
  {
   "cell_type": "markdown",
   "metadata": {
    "deletable": false,
    "editable": false,
    "id": "dzli3w8o_Zcu",
    "tags": [
     "start_task"
    ]
   },
   "source": [
    "В Москве прослушиваний больше, чем в Петербурге. Из этого не следует, что московские пользователи чаще слушают музыку. Просто самих пользователей в Москве больше.\n",
    "\n",
    "**Задание 19**\n",
    "\n",
    "Теперь сгруппируйте данные по дню недели и посчитайте прослушивания в понедельник, среду и пятницу. Учтите, что в данных есть информация о прослушиваниях только за эти дни.\n"
   ]
  },
  {
   "cell_type": "code",
   "execution_count": 31,
   "metadata": {
    "deletable": false,
    "id": "uZMKjiJz_Zcu"
   },
   "outputs": [
    {
     "name": "stdout",
     "output_type": "stream",
     "text": [
      "day\n",
      "Friday       21840\n",
      "Monday       21354\n",
      "Wednesday    18059\n",
      "Name: user_id, dtype: int64\n"
     ]
    }
   ],
   "source": [
    "print(df.groupby('day')['user_id'].count())"
   ]
  },
  {
   "cell_type": "markdown",
   "metadata": {
    "deletable": false,
    "editable": false,
    "id": "cC2tNrlL_Zcu"
   },
   "source": [
    "В среднем пользователи из двух городов менее активны по средам. Но картина может измениться, если рассмотреть каждый город в отдельности."
   ]
  },
  {
   "cell_type": "markdown",
   "metadata": {
    "deletable": false,
    "editable": false,
    "id": "POzs8bGa_Zcu",
    "tags": [
     "start_task"
    ]
   },
   "source": [
    "**Задание 20**\n",
    "\n",
    "\n",
    "Вы видели, как работает группировка по городу и по дням недели. Теперь напишите функцию, которая объединит два эти расчёта.\n",
    "\n",
    "Создайте функцию `number_tracks()`, которая посчитает прослушивания для заданного дня и города. Ей понадобятся два параметра:\n",
    "* день недели,\n",
    "* название города.\n",
    "\n",
    "В функции сохраните в переменную строки исходной таблицы, у которых значение:\n",
    "  * в колонке `day` равно параметру `day`,\n",
    "  * в колонке `city` равно параметру `city`.\n",
    "\n",
    "Для этого примените последовательную фильтрацию с логической индексацией (или сложные логические выражения в одну строку, если вы уже знакомы с ними).\n",
    "\n",
    "Затем посчитайте значения в столбце `user_id` получившейся таблицы. Результат сохраните в новую переменную. Верните эту переменную из функции."
   ]
  },
  {
   "cell_type": "code",
   "execution_count": 133,
   "metadata": {
    "deletable": false,
    "id": "Nz3GdQB1_Zcu"
   },
   "outputs": [],
   "source": [
    "# <создание функции number_tracks()>\n",
    "# Объявляется функция с двумя параметрами: day, city.\n",
    "def number_tracks(day, city):                      \n",
    "# В переменной track_list сохраняются те строки таблицы df, для которых \n",
    "# значение в столбце 'day' равно параметру day и одновременно значение\n",
    "# в столбце 'city' равно параметру city (используйте последовательную фильтрацию\n",
    "# с помощью логической индексации).\n",
    "    track_list=df[(df['day']==day) & (df['city']==city)]\n",
    "# В переменной track_list_count сохраняется число значений столбца 'user_id',                \n",
    "# рассчитанное методом count() для таблицы track_list. \n",
    "    track_list_count = track_list['user_id'].count()\n",
    "# Функция возвращает число - значение track_list_count.\n",
    "    return track_list_count\n",
    "# Функция для подсчёта прослушиваний для конкретного города и дня.\n",
    "# С помощью последовательной фильтрации с логической индексацией она \n",
    "# сначала получит из исходной таблицы строки с нужным днём,\n",
    "# затем из результата отфильтрует строки с нужным городом,\n",
    "# методом count() посчитает количество значений в колонке user_id. \n",
    "# Это количество функция вернёт в качестве результата"
   ]
  },
  {
   "cell_type": "markdown",
   "metadata": {
    "deletable": false,
    "editable": false,
    "id": "ytf7xFrFJQ2r",
    "tags": [
     "start_task"
    ]
   },
   "source": [
    "**Задание 21**\n",
    "\n",
    "Вызовите `number_tracks()` шесть раз, меняя значение параметров — так, чтобы получить данные для каждого города в каждый из трёх дней."
   ]
  },
  {
   "cell_type": "code",
   "execution_count": 134,
   "metadata": {
    "deletable": false,
    "id": "rJcRATNQ_Zcu"
   },
   "outputs": [
    {
     "data": {
      "text/plain": [
       "15740"
      ]
     },
     "execution_count": 134,
     "metadata": {},
     "output_type": "execute_result"
    }
   ],
   "source": [
    "number_tracks('Monday','Moscow')"
   ]
  },
  {
   "cell_type": "code",
   "execution_count": 135,
   "metadata": {
    "deletable": false,
    "id": "hq_ncZ5T_Zcu"
   },
   "outputs": [
    {
     "data": {
      "text/plain": [
       "5614"
      ]
     },
     "execution_count": 135,
     "metadata": {},
     "output_type": "execute_result"
    }
   ],
   "source": [
    "number_tracks('Monday','Saint-Petersburg')"
   ]
  },
  {
   "cell_type": "code",
   "execution_count": 136,
   "metadata": {
    "deletable": false,
    "id": "_NTy2VPU_Zcu"
   },
   "outputs": [
    {
     "data": {
      "text/plain": [
       "11056"
      ]
     },
     "execution_count": 136,
     "metadata": {},
     "output_type": "execute_result"
    }
   ],
   "source": [
    "number_tracks('Wednesday','Moscow')"
   ]
  },
  {
   "cell_type": "code",
   "execution_count": 137,
   "metadata": {
    "deletable": false,
    "id": "j2y3TAwo_Zcu"
   },
   "outputs": [
    {
     "data": {
      "text/plain": [
       "7003"
      ]
     },
     "execution_count": 137,
     "metadata": {},
     "output_type": "execute_result"
    }
   ],
   "source": [
    "number_tracks('Wednesday','Saint-Petersburg')"
   ]
  },
  {
   "cell_type": "code",
   "execution_count": 138,
   "metadata": {
    "deletable": false,
    "id": "vYDw5u_K_Zcu"
   },
   "outputs": [
    {
     "data": {
      "text/plain": [
       "15945"
      ]
     },
     "execution_count": 138,
     "metadata": {},
     "output_type": "execute_result"
    }
   ],
   "source": [
    "number_tracks('Friday','Moscow')"
   ]
  },
  {
   "cell_type": "code",
   "execution_count": 139,
   "metadata": {
    "deletable": false,
    "id": "8_yzFtW3_Zcu"
   },
   "outputs": [
    {
     "data": {
      "text/plain": [
       "5895"
      ]
     },
     "execution_count": 139,
     "metadata": {},
     "output_type": "execute_result"
    }
   ],
   "source": [
    "number_tracks('Friday','Saint-Petersburg')"
   ]
  },
  {
   "cell_type": "markdown",
   "metadata": {
    "deletable": false,
    "editable": false,
    "id": "7QXffbO-_Zcu",
    "tags": [
     "start_task"
    ]
   },
   "source": [
    "**Задание 22**\n",
    "\n",
    "Создайте c помощью конструктора `pd.DataFrame` таблицу, где\n",
    "* названия колонок — `['city', 'monday', 'wednesday', 'friday']`;\n",
    "* данные — результаты, которые вы получили с помощью `number_tracks`."
   ]
  },
  {
   "cell_type": "code",
   "execution_count": 140,
   "metadata": {
    "deletable": false,
    "id": "APAcLpOr_Zcu"
   },
   "outputs": [
    {
     "name": "stdout",
     "output_type": "stream",
     "text": [
      "               city  monday  wednesday  friday\n",
      "0            Moscow   15740      11056   15945\n",
      "1  Saint-Petersburg    5614       7003    5895\n"
     ]
    }
   ],
   "source": [
    "columns = ['city', 'monday', 'wednesday', 'friday']\n",
    "data = [['Moscow', 15740, 11056, 15945],\n",
    "        ['Saint-Petersburg',5614,7003,5895]]\n",
    "listening_day = pd.DataFrame(data = data,columns=columns)\n",
    "print(listening_day)\n"
   ]
  },
  {
   "cell_type": "markdown",
   "metadata": {
    "deletable": false,
    "editable": false,
    "id": "-EgPIHYu_Zcu"
   },
   "source": [
    "**Выводы**\n",
    "\n",
    "Данные показывают разницу поведения пользователей:\n",
    "\n",
    "- В Москве пик прослушиваний приходится на понедельник и пятницу, а в среду заметен спад.\n",
    "- В Петербурге, наоборот, больше слушают музыку по средам. Активность в понедельник и пятницу здесь почти в равной мере уступает среде.\n",
    "\n",
    "Значит, данные говорят в пользу первой гипотезы."
   ]
  },
  {
   "cell_type": "markdown",
   "metadata": {
    "deletable": false,
    "editable": false,
    "id": "atZAxtq4_Zcu"
   },
   "source": [
    "### Музыка в начале и в конце недели"
   ]
  },
  {
   "cell_type": "markdown",
   "metadata": {
    "deletable": false,
    "editable": false,
    "id": "eXrQqXFH_Zcu"
   },
   "source": [
    "Согласно второй гипотезе, утром в понедельник в Москве преобладают одни жанры, а в Петербурге — другие. Так же и вечером пятницы преобладают разные жанры — в зависимости от города."
   ]
  },
  {
   "cell_type": "markdown",
   "metadata": {
    "deletable": false,
    "editable": false,
    "id": "S8UcW6Hw_Zcu",
    "tags": [
     "start_task"
    ]
   },
   "source": [
    "**Задание 23**\n",
    "\n",
    "Сохраните таблицы с данными в две переменные:\n",
    "* по Москве — в `moscow_general`;\n",
    "* по Санкт-Петербургу — в `spb_general`."
   ]
  },
  {
   "cell_type": "code",
   "execution_count": 141,
   "metadata": {
    "deletable": false,
    "id": "qeaFfM_P_Zcu"
   },
   "outputs": [],
   "source": [
    "moscow_general = df[df['city'] == 'Moscow']\n",
    "\n",
    "# получение таблицы moscow_general из тех строк таблицы df, \n",
    "# для которых значение в столбце 'city' равно 'Moscow'\n"
   ]
  },
  {
   "cell_type": "code",
   "execution_count": 147,
   "metadata": {
    "deletable": false,
    "id": "ORaVRKto_Zcu"
   },
   "outputs": [],
   "source": [
    "spb_general = df[df['city'] == 'Saint-Petersburg']\n",
    "# получение таблицы spb_general из тех строк таблицы df,\n",
    "# для которых значение в столбце 'city' равно 'Saint-Petersburg'\n"
   ]
  },
  {
   "cell_type": "markdown",
   "metadata": {
    "deletable": false,
    "editable": false,
    "id": "MEJV-CX2_Zcu",
    "tags": [
     "start_task"
    ]
   },
   "source": [
    "**Задание 24**\n",
    "\n",
    "Создайте функцию `genre_weekday()` с четырьмя параметрами:\n",
    "* таблица (датафрейм) с данными,\n",
    "* день недели,\n",
    "* начальная временная метка в формате 'hh:mm', \n",
    "* последняя временная метка в формате 'hh:mm'.\n",
    "\n",
    "Функция должна вернуть информацию о топ-10 жанров тех треков, которые прослушивали в указанный день, в промежутке между двумя отметками времени."
   ]
  },
  {
   "cell_type": "code",
   "execution_count": 164,
   "metadata": {
    "deletable": false,
    "id": "laJT9BYl_Zcu"
   },
   "outputs": [],
   "source": [
    "# Объявление функции genre_weekday() с параметрами table, day, time1, time2,\n",
    "# которая возвращает информацию о самых популярных жанрах в указанный день в\n",
    "# заданное время:\n",
    "# 1) в переменную genre_df сохраняются те строки переданного датафрейма table, для\n",
    "#    которых одновременно:\n",
    "#    - значение в столбце day равно значению аргумента day\n",
    "#    - значение в столбце time больше значения аргумента time1\n",
    "#    - значение в столбце time меньше значения аргумента time2\n",
    "#    Используйте последовательную фильтрацию с помощью логической индексации.\n",
    "# 2) сгруппировать датафрейм genre_df по столбцу genre, взять один из его\n",
    "#    столбцов и посчитать методом count() количество записей для каждого из\n",
    "#    присутствующих жанров, получившийся Series записать в переменную\n",
    "#    genre_df_count\n",
    "# 3) отсортировать genre_df_count по убыванию встречаемости и сохранить\n",
    "#    в переменную genre_df_sorted\n",
    "# 4) вернуть Series из 10 первых значений genre_df_sorted, это будут топ-10\n",
    "#    популярных жанров (в указанный день, в заданное время)\n",
    "\n",
    "# объявление функции genre_weekday() с параметрами df, day, time1, time2\n",
    "def genre_weekday(df, day, time1, time2):\n",
    "# в переменной genre_list сохраняются те строки df, для которых одновременно:\n",
    "# 1) значение в столбце 'weekday' равно параметру day,\n",
    "# 2) значение в столбце 'time' больше time1 и\n",
    "# 3) меньше time2.\n",
    "    genre_list=df[(df['day']==day) & (df['time']>time1) & (df['time']<=time2)]\n",
    "# в переменной genre_list_sorted сохраняются в порядке убывания  \n",
    "# первые 10 значений Series, полученной подсчётом числа значений 'genre_name'\n",
    "# сгруппированной по столбцу 'genre_name' таблицы genre_list\n",
    "    genre_list_sorted = genre_list.groupby('genre')['genre'].count().sort_values(ascending = False).head(10)\n",
    "# функция возвращает значение genre_list_sorted\n",
    "    return genre_list_sorted"
   ]
  },
  {
   "cell_type": "markdown",
   "metadata": {
    "deletable": false,
    "editable": false,
    "id": "la2s2_PF_Zcu",
    "tags": [
     "start_task"
    ]
   },
   "source": [
    "**Задание 25**\n",
    "\n",
    "\n",
    "Cравните результаты функции `genre_weekday()` для Москвы и Санкт-Петербурга в понедельник утром (с 7:00 до 11:00) и в пятницу вечером (с 17:00 до 23:00):"
   ]
  },
  {
   "cell_type": "code",
   "execution_count": 165,
   "metadata": {
    "deletable": false,
    "id": "yz7itPUQ_Zcu"
   },
   "outputs": [
    {
     "data": {
      "text/plain": [
       "genre\n",
       "pop            781\n",
       "dance          549\n",
       "electronic     480\n",
       "rock           474\n",
       "hiphop         286\n",
       "ruspop         186\n",
       "world          181\n",
       "rusrap         175\n",
       "alternative    164\n",
       "unknown        161\n",
       "Name: genre, dtype: int64"
      ]
     },
     "execution_count": 165,
     "metadata": {},
     "output_type": "execute_result"
    }
   ],
   "source": [
    "genre_weekday(moscow_general,'Monday', '07:00', '11:00')\n",
    "\n",
    "# вызов функции для утра понедельника в Москве (вместо df — таблица moscow_general)\n",
    "# объекты, хранящие время, являются строками и сравниваются как строки\n",
    "# пример вызова: genre_weekday(moscow_general, 'Monday', '07:00', '11:00')"
   ]
  },
  {
   "cell_type": "code",
   "execution_count": 160,
   "metadata": {
    "deletable": false,
    "id": "kwUcHPdy_Zcu"
   },
   "outputs": [
    {
     "data": {
      "text/plain": [
       "genre\n",
       "pop            218\n",
       "dance          182\n",
       "rock           162\n",
       "electronic     147\n",
       "hiphop          80\n",
       "ruspop          64\n",
       "alternative     58\n",
       "rusrap          55\n",
       "jazz            44\n",
       "classical       40\n",
       "Name: genre, dtype: int64"
      ]
     },
     "execution_count": 160,
     "metadata": {},
     "output_type": "execute_result"
    }
   ],
   "source": [
    "genre_weekday(spb_general,'Monday', '07:00', '11:00')\n",
    "# вызов функции для утра понедельника в Петербурге (вместо df — таблица spb_general)"
   ]
  },
  {
   "cell_type": "code",
   "execution_count": 166,
   "metadata": {
    "deletable": false,
    "id": "EzXVRE1o_Zcu"
   },
   "outputs": [
    {
     "data": {
      "text/plain": [
       "genre\n",
       "pop            713\n",
       "rock           517\n",
       "dance          495\n",
       "electronic     482\n",
       "hiphop         273\n",
       "world          208\n",
       "ruspop         170\n",
       "alternative    163\n",
       "classical      163\n",
       "rusrap         142\n",
       "Name: genre, dtype: int64"
      ]
     },
     "execution_count": 166,
     "metadata": {},
     "output_type": "execute_result"
    }
   ],
   "source": [
    "genre_weekday(moscow_general,'Friday', '17:00', '23:00')\n",
    "# вызов функции для вечера пятницы в Москве"
   ]
  },
  {
   "cell_type": "code",
   "execution_count": 167,
   "metadata": {
    "deletable": false,
    "id": "JZaEKu5v_Zcu"
   },
   "outputs": [
    {
     "data": {
      "text/plain": [
       "genre\n",
       "pop            256\n",
       "electronic     216\n",
       "rock           216\n",
       "dance          210\n",
       "hiphop          97\n",
       "alternative     63\n",
       "jazz            61\n",
       "classical       60\n",
       "rusrap          59\n",
       "world           54\n",
       "Name: genre, dtype: int64"
      ]
     },
     "execution_count": 167,
     "metadata": {},
     "output_type": "execute_result"
    }
   ],
   "source": [
    "genre_weekday(spb_general,'Friday', '17:00', '23:00')\n",
    "# вызов функции для вечера пятницы в Петербурге"
   ]
  },
  {
   "cell_type": "markdown",
   "metadata": {
    "deletable": false,
    "editable": false,
    "id": "wrCe4MNX_Zcu"
   },
   "source": [
    "**Выводы**\n",
    "\n",
    "Если сравнить топ-10 жанров в понедельник утром, можно сделать такие выводы:\n",
    "\n",
    "1. В Москве и Петербурге слушают похожую музыку. Единственное отличие — в московский рейтинг вошёл жанр “world”, а в петербургский — джаз и классика.\n",
    "\n",
    "2. В Москве пропущенных значений оказалось так много, что значение `'unknown'` заняло десятое место среди самых популярных жанров. Значит, пропущенные значения занимают существенную долю в данных и угрожают достоверности исследования.\n",
    "\n",
    "Вечер пятницы не меняет эту картину. Некоторые жанры поднимаются немного выше, другие спускаются, но в целом топ-10 остаётся тем же самым.\n",
    "\n",
    "Таким образом, вторая гипотеза подтвердилась лишь частично:\n",
    "* Пользователи слушают похожую музыку в начале недели и в конце.\n",
    "* Разница между Москвой и Петербургом не слишком выражена. В Москве чаще слушают русскую популярную музыку, в Петербурге — джаз.\n",
    "\n",
    "Однако пропуски в данных ставят под сомнение этот результат. В Москве их так много, что рейтинг топ-10 мог бы выглядеть иначе, если бы не утерянные  данные о жанрах."
   ]
  },
  {
   "cell_type": "markdown",
   "metadata": {
    "deletable": false,
    "editable": false,
    "id": "JolODAqr_Zcu"
   },
   "source": [
    "### Жанровые предпочтения в Москве и Петербурге\n",
    "\n",
    "Гипотеза: Петербург — столица рэпа, музыку этого жанра там слушают чаще, чем в Москве.  А Москва — город контрастов, в котором, тем не менее, преобладает поп-музыка."
   ]
  },
  {
   "cell_type": "markdown",
   "metadata": {
    "deletable": false,
    "editable": false,
    "id": "DlegSvaT_Zcu",
    "tags": [
     "start_task"
    ]
   },
   "source": [
    "**Задание 26**\n",
    "\n",
    "Сгруппируйте таблицу `moscow_general` по жанру и посчитайте прослушивания треков каждого жанра методом `count()`. Затем отсортируйте результат в порядке убывания и сохраните его в таблице `moscow_genres`."
   ]
  },
  {
   "cell_type": "code",
   "execution_count": 170,
   "metadata": {
    "deletable": false,
    "id": "r19lIPke_Zcu"
   },
   "outputs": [],
   "source": [
    "moscow_genres = moscow_general.groupby('genre')['genre'].count().sort_values(ascending = False)\n",
    "\n",
    "# одной строкой: группировка таблицы moscow_general по столбцу 'genre', \n",
    "# подсчёт числа значений 'genre' в этой группировке методом count(), \n",
    "# сортировка получившегося Series в порядке убывания и сохранение в moscow_genres"
   ]
  },
  {
   "cell_type": "markdown",
   "metadata": {
    "deletable": false,
    "editable": false,
    "id": "6kMuomxTiIr8",
    "tags": [
     "start_task"
    ]
   },
   "source": [
    "**Задание 27**\n",
    "\n",
    "Выведите на экран первые десять строк `moscow_genres`:"
   ]
  },
  {
   "cell_type": "code",
   "execution_count": 171,
   "metadata": {
    "deletable": false,
    "id": "WhCSooF8_Zcv"
   },
   "outputs": [
    {
     "data": {
      "text/plain": [
       "genre\n",
       "pop            5892\n",
       "dance          4435\n",
       "rock           3965\n",
       "electronic     3786\n",
       "hiphop         2096\n",
       "classical      1616\n",
       "world          1432\n",
       "alternative    1379\n",
       "ruspop         1372\n",
       "rusrap         1161\n",
       "Name: genre, dtype: int64"
      ]
     },
     "execution_count": 171,
     "metadata": {},
     "output_type": "execute_result"
    }
   ],
   "source": [
    "moscow_genres.head(10)"
   ]
  },
  {
   "cell_type": "markdown",
   "metadata": {
    "deletable": false,
    "editable": false,
    "id": "cnPG2vnN_Zcv",
    "tags": [
     "start_task"
    ]
   },
   "source": [
    "**Задание 28**\n",
    "\n",
    "\n",
    "Теперь повторите то же и для Петербурга.\n",
    "\n",
    "Сгруппируйте таблицу `spb_general` по жанру. Посчитайте прослушивания треков каждого жанра. Результат отсортируйте в порядке убывания и сохраните в таблице `spb_genres`:\n"
   ]
  },
  {
   "cell_type": "code",
   "execution_count": 174,
   "metadata": {
    "deletable": false,
    "id": "gluLIpE7_Zcv"
   },
   "outputs": [],
   "source": [
    "spb_genres = spb_general.groupby('genre')['genre'].count().sort_values(ascending = False)\n",
    "\n",
    "# одной строкой: группировка таблицы spb_general по столбцу 'genre', \n",
    "# подсчёт числа значений 'genre' в этой группировке методом count(), \n",
    "# сортировка получившегося Series в порядке убывания и сохранение в spb_genres"
   ]
  },
  {
   "cell_type": "markdown",
   "metadata": {
    "deletable": false,
    "editable": false,
    "id": "5Doha_ODgyQ8",
    "tags": [
     "start_task"
    ]
   },
   "source": [
    "**Задание 29**\n",
    "\n",
    "Выведите на экран первые десять строк `spb_genres`:"
   ]
  },
  {
   "cell_type": "code",
   "execution_count": 175,
   "metadata": {
    "deletable": false,
    "id": "uaGJHjVU_Zcv"
   },
   "outputs": [
    {
     "data": {
      "text/plain": [
       "genre\n",
       "pop            2431\n",
       "dance          1932\n",
       "rock           1879\n",
       "electronic     1736\n",
       "hiphop          960\n",
       "alternative     649\n",
       "classical       646\n",
       "rusrap          564\n",
       "ruspop          538\n",
       "world           515\n",
       "Name: genre, dtype: int64"
      ]
     },
     "execution_count": 175,
     "metadata": {},
     "output_type": "execute_result"
    }
   ],
   "source": [
    "spb_genres.head(10)\n",
    "# просмотр первых 10 строк spb_genres"
   ]
  },
  {
   "cell_type": "markdown",
   "metadata": {
    "deletable": false,
    "editable": false,
    "id": "RY51YJYu_Zcv"
   },
   "source": [
    "**Выводы**"
   ]
  },
  {
   "cell_type": "markdown",
   "metadata": {
    "deletable": false,
    "editable": false,
    "id": "nVhnJEm__Zcv"
   },
   "source": [
    "Гипотеза частично подтвердилась:\n",
    "* Поп-музыка — самый популярный жанр в Москве, как и предполагала гипотеза. Более того, в топ-10 жанров встречается близкий жанр — русская популярная музыка.\n",
    "* Вопреки ожиданиям, рэп одинаково популярен в Москве и Петербурге. \n"
   ]
  },
  {
   "cell_type": "markdown",
   "metadata": {
    "deletable": false,
    "editable": false,
    "id": "ykKQ0N65_Zcv"
   },
   "source": [
    "## Итоги исследования"
   ]
  },
  {
   "cell_type": "markdown",
   "metadata": {
    "deletable": false,
    "editable": false,
    "id": "tjUwbHb3_Zcv"
   },
   "source": [
    "Вы проверили три гипотезы и установили:\n",
    "\n",
    "1. День недели по-разному влияет на активность пользователей в Москве и Петербурге. \n",
    "\n",
    "Первая гипотеза полностью подтвердилась.\n",
    "\n",
    "2. Музыкальные предпочтения не сильно меняются в течение недели — будь то Москва или Петербург. Небольшие различия заметны в начале недели, по понедельникам:\n",
    "* в Москве слушают музыку жанра “world”,\n",
    "* в Петербурге — джаз и классику.\n",
    "\n",
    "Таким образом, вторая гипотеза подтвердилась лишь отчасти. Этот результат мог оказаться иным, если бы не пропуски в данных.\n",
    "\n",
    "3. Во вкусах пользователей Москвы и Петербурга больше общего чем различий. Вопреки ожиданиям, предпочтения жанров в Петербурге напоминают московские.\n",
    "\n",
    "Третья гипотеза не подтвердилась. Если различия в предпочтениях и существуют, на основной массе пользователей они незаметны.\n",
    "\n",
    "**На практике исследования содержат проверки статистических гипотез.**\n",
    "Из данных одного сервиса не всегда можно сделать вывод о всех жителях города.\n",
    "Проверки статистических гипотез покажут, насколько они достоверны, исходя из имеющихся данных. \n",
    "С методами проверок гипотез вы ещё познакомитесь в следующих темах."
   ]
  }
 ],
 "metadata": {
  "ExecuteTimeLog": [
   {
    "duration": 51,
    "start_time": "2022-07-18T11:53:29.569Z"
   },
   {
    "duration": 8,
    "start_time": "2022-07-18T11:53:52.207Z"
   },
   {
    "duration": 2,
    "start_time": "2022-07-18T11:53:53.653Z"
   },
   {
    "duration": 7,
    "start_time": "2022-07-18T11:54:37.854Z"
   },
   {
    "duration": 6,
    "start_time": "2022-07-18T11:55:02.098Z"
   },
   {
    "duration": 6,
    "start_time": "2022-07-18T11:55:47.010Z"
   },
   {
    "duration": 6,
    "start_time": "2022-07-18T11:56:13.702Z"
   },
   {
    "duration": 437,
    "start_time": "2022-07-18T12:00:19.291Z"
   },
   {
    "duration": 81,
    "start_time": "2022-07-18T12:01:09.292Z"
   },
   {
    "duration": 68,
    "start_time": "2022-07-18T12:01:14.024Z"
   },
   {
    "duration": 61,
    "start_time": "2022-07-18T12:01:22.116Z"
   },
   {
    "duration": 66,
    "start_time": "2022-07-18T12:02:08.882Z"
   },
   {
    "duration": 411,
    "start_time": "2022-07-18T12:02:29.643Z"
   },
   {
    "duration": 3,
    "start_time": "2022-07-18T12:02:30.056Z"
   },
   {
    "duration": 18,
    "start_time": "2022-07-18T12:02:30.060Z"
   },
   {
    "duration": 9,
    "start_time": "2022-07-18T12:02:30.081Z"
   },
   {
    "duration": 12,
    "start_time": "2022-07-18T12:02:30.092Z"
   },
   {
    "duration": 8,
    "start_time": "2022-07-18T12:02:30.107Z"
   },
   {
    "duration": 29,
    "start_time": "2022-07-18T12:02:30.117Z"
   },
   {
    "duration": 14,
    "start_time": "2022-07-18T12:02:30.148Z"
   },
   {
    "duration": 13,
    "start_time": "2022-07-18T12:02:30.164Z"
   },
   {
    "duration": 22,
    "start_time": "2022-07-18T12:02:30.180Z"
   },
   {
    "duration": 14,
    "start_time": "2022-07-18T12:02:30.204Z"
   },
   {
    "duration": 14,
    "start_time": "2022-07-18T12:02:30.220Z"
   },
   {
    "duration": 20,
    "start_time": "2022-07-18T12:02:30.236Z"
   },
   {
    "duration": 21,
    "start_time": "2022-07-18T12:02:30.258Z"
   },
   {
    "duration": 24,
    "start_time": "2022-07-18T12:02:30.280Z"
   },
   {
    "duration": 17,
    "start_time": "2022-07-18T12:02:30.306Z"
   },
   {
    "duration": 17,
    "start_time": "2022-07-18T12:02:30.325Z"
   },
   {
    "duration": 47,
    "start_time": "2022-07-18T12:02:30.344Z"
   },
   {
    "duration": 11,
    "start_time": "2022-07-18T12:02:30.393Z"
   },
   {
    "duration": 14,
    "start_time": "2022-07-18T12:02:30.406Z"
   },
   {
    "duration": 25,
    "start_time": "2022-07-18T12:02:30.422Z"
   },
   {
    "duration": 24,
    "start_time": "2022-07-18T12:02:30.449Z"
   },
   {
    "duration": 11,
    "start_time": "2022-07-18T12:02:30.475Z"
   },
   {
    "duration": 19,
    "start_time": "2022-07-18T12:02:30.488Z"
   },
   {
    "duration": 9,
    "start_time": "2022-07-18T12:02:30.509Z"
   },
   {
    "duration": 19,
    "start_time": "2022-07-18T12:02:30.520Z"
   },
   {
    "duration": 94,
    "start_time": "2022-07-18T12:02:30.541Z"
   },
   {
    "duration": 0,
    "start_time": "2022-07-18T12:02:30.637Z"
   },
   {
    "duration": 0,
    "start_time": "2022-07-18T12:02:30.638Z"
   },
   {
    "duration": 0,
    "start_time": "2022-07-18T12:02:30.640Z"
   },
   {
    "duration": 0,
    "start_time": "2022-07-18T12:02:30.641Z"
   },
   {
    "duration": 0,
    "start_time": "2022-07-18T12:02:30.642Z"
   },
   {
    "duration": 0,
    "start_time": "2022-07-18T12:02:30.643Z"
   },
   {
    "duration": 0,
    "start_time": "2022-07-18T12:02:30.644Z"
   },
   {
    "duration": 0,
    "start_time": "2022-07-18T12:02:30.645Z"
   },
   {
    "duration": 136,
    "start_time": "2022-07-18T12:03:30.418Z"
   },
   {
    "duration": 49,
    "start_time": "2022-07-18T12:03:58.046Z"
   },
   {
    "duration": 53,
    "start_time": "2022-07-18T12:04:06.303Z"
   },
   {
    "duration": 434,
    "start_time": "2022-07-18T12:11:47.233Z"
   },
   {
    "duration": 175,
    "start_time": "2022-07-18T12:11:58.600Z"
   },
   {
    "duration": 19,
    "start_time": "2022-07-18T12:12:27.290Z"
   },
   {
    "duration": 35,
    "start_time": "2022-07-18T12:14:48.124Z"
   },
   {
    "duration": 4,
    "start_time": "2022-07-18T12:27:22.624Z"
   },
   {
    "duration": 2,
    "start_time": "2022-07-18T12:27:56.943Z"
   },
   {
    "duration": 3,
    "start_time": "2022-07-18T12:27:59.446Z"
   },
   {
    "duration": 4,
    "start_time": "2022-07-18T12:28:01.968Z"
   },
   {
    "duration": 3,
    "start_time": "2022-07-18T12:31:22.389Z"
   },
   {
    "duration": 12,
    "start_time": "2022-07-18T12:31:49.343Z"
   },
   {
    "duration": 5,
    "start_time": "2022-07-18T12:31:51.853Z"
   },
   {
    "duration": 26,
    "start_time": "2022-07-18T12:32:40.792Z"
   },
   {
    "duration": 12,
    "start_time": "2022-07-18T12:36:30.092Z"
   },
   {
    "duration": 1268,
    "start_time": "2022-07-18T12:37:06.071Z"
   },
   {
    "duration": 1589,
    "start_time": "2022-07-18T12:41:07.228Z"
   },
   {
    "duration": 7,
    "start_time": "2022-07-18T12:42:02.852Z"
   },
   {
    "duration": 7,
    "start_time": "2022-07-18T12:42:06.415Z"
   },
   {
    "duration": 12,
    "start_time": "2022-07-18T12:43:32.584Z"
   },
   {
    "duration": 26,
    "start_time": "2022-07-18T12:45:25.072Z"
   },
   {
    "duration": 25,
    "start_time": "2022-07-18T12:45:32.626Z"
   },
   {
    "duration": 72,
    "start_time": "2022-07-18T12:46:38.530Z"
   },
   {
    "duration": 66,
    "start_time": "2022-07-18T12:46:59.646Z"
   },
   {
    "duration": 83,
    "start_time": "2022-07-18T12:47:14.624Z"
   },
   {
    "duration": 74,
    "start_time": "2022-07-18T12:47:25.159Z"
   },
   {
    "duration": 95,
    "start_time": "2022-07-18T12:48:31.922Z"
   },
   {
    "duration": 61,
    "start_time": "2022-07-18T12:48:37.325Z"
   },
   {
    "duration": 8,
    "start_time": "2022-07-18T12:50:49.248Z"
   },
   {
    "duration": 7,
    "start_time": "2022-07-18T12:52:50.932Z"
   },
   {
    "duration": 8,
    "start_time": "2022-07-18T12:53:34.570Z"
   },
   {
    "duration": 8,
    "start_time": "2022-07-18T12:53:52.162Z"
   },
   {
    "duration": 10,
    "start_time": "2022-07-18T12:55:54.241Z"
   },
   {
    "duration": 59,
    "start_time": "2022-07-18T12:56:12.350Z"
   },
   {
    "duration": 42,
    "start_time": "2022-07-18T12:56:16.331Z"
   },
   {
    "duration": 41,
    "start_time": "2022-07-18T12:59:12.447Z"
   },
   {
    "duration": 41,
    "start_time": "2022-07-18T13:00:40.514Z"
   },
   {
    "duration": 7,
    "start_time": "2022-07-18T13:01:04.673Z"
   },
   {
    "duration": 52,
    "start_time": "2022-07-18T13:01:11.771Z"
   },
   {
    "duration": 8,
    "start_time": "2022-07-18T13:01:27.914Z"
   },
   {
    "duration": 53,
    "start_time": "2022-07-18T13:01:38.255Z"
   },
   {
    "duration": 53,
    "start_time": "2022-07-18T13:02:04.960Z"
   },
   {
    "duration": 52,
    "start_time": "2022-07-18T13:03:40.106Z"
   },
   {
    "duration": 8,
    "start_time": "2022-07-18T13:06:39.762Z"
   },
   {
    "duration": 7,
    "start_time": "2022-07-18T13:06:48.481Z"
   },
   {
    "duration": 53,
    "start_time": "2022-07-18T13:07:10.632Z"
   },
   {
    "duration": 58,
    "start_time": "2022-07-18T13:07:17.904Z"
   },
   {
    "duration": 55,
    "start_time": "2022-07-18T13:07:50.438Z"
   },
   {
    "duration": 58,
    "start_time": "2022-07-18T13:08:23.171Z"
   },
   {
    "duration": 77,
    "start_time": "2022-07-18T13:08:43.852Z"
   },
   {
    "duration": 52,
    "start_time": "2022-07-18T13:08:52.815Z"
   },
   {
    "duration": 53,
    "start_time": "2022-07-18T13:20:19.498Z"
   },
   {
    "duration": 51,
    "start_time": "2022-07-18T13:20:46.378Z"
   },
   {
    "duration": 53,
    "start_time": "2022-07-18T13:21:05.515Z"
   },
   {
    "duration": 178,
    "start_time": "2022-07-18T13:24:11.199Z"
   },
   {
    "duration": 96,
    "start_time": "2022-07-18T13:24:30.217Z"
   },
   {
    "duration": 98,
    "start_time": "2022-07-18T13:24:45.286Z"
   },
   {
    "duration": 53,
    "start_time": "2022-07-18T13:24:54.298Z"
   },
   {
    "duration": 53,
    "start_time": "2022-07-18T13:25:51.109Z"
   },
   {
    "duration": 53,
    "start_time": "2022-07-18T13:27:54.523Z"
   },
   {
    "duration": 8,
    "start_time": "2022-07-18T13:42:15.822Z"
   },
   {
    "duration": 18,
    "start_time": "2022-07-18T13:44:03.909Z"
   },
   {
    "duration": 7,
    "start_time": "2022-07-18T13:45:07.162Z"
   },
   {
    "duration": 12,
    "start_time": "2022-07-18T13:51:34.955Z"
   },
   {
    "duration": 8,
    "start_time": "2022-07-18T13:51:38.448Z"
   },
   {
    "duration": 45,
    "start_time": "2022-07-18T13:59:51.802Z"
   },
   {
    "duration": 80,
    "start_time": "2022-07-18T14:00:19.871Z"
   },
   {
    "duration": 80,
    "start_time": "2022-07-18T14:00:24.914Z"
   },
   {
    "duration": 32,
    "start_time": "2022-07-18T14:00:28.009Z"
   },
   {
    "duration": 32,
    "start_time": "2022-07-18T14:01:20.193Z"
   },
   {
    "duration": 11,
    "start_time": "2022-07-18T14:02:41.449Z"
   },
   {
    "duration": 11,
    "start_time": "2022-07-18T14:02:50.011Z"
   },
   {
    "duration": 32,
    "start_time": "2022-07-18T14:02:59.282Z"
   },
   {
    "duration": 4,
    "start_time": "2022-07-18T14:03:49.107Z"
   },
   {
    "duration": 84,
    "start_time": "2022-07-18T14:10:30.198Z"
   },
   {
    "duration": 81,
    "start_time": "2022-07-18T14:14:54.448Z"
   },
   {
    "duration": 164,
    "start_time": "2022-07-18T14:15:03.473Z"
   },
   {
    "duration": 3,
    "start_time": "2022-07-18T14:15:11.649Z"
   },
   {
    "duration": 11,
    "start_time": "2022-07-18T14:19:57.747Z"
   },
   {
    "duration": 25,
    "start_time": "2022-07-18T14:21:25.311Z"
   },
   {
    "duration": 23,
    "start_time": "2022-07-18T14:21:57.657Z"
   },
   {
    "duration": 16,
    "start_time": "2022-07-18T14:23:15.700Z"
   },
   {
    "duration": 24,
    "start_time": "2022-07-18T14:23:18.642Z"
   },
   {
    "duration": 20,
    "start_time": "2022-07-18T14:23:28.100Z"
   },
   {
    "duration": 25,
    "start_time": "2022-07-18T14:24:00.911Z"
   },
   {
    "duration": 21,
    "start_time": "2022-07-18T14:24:03.420Z"
   },
   {
    "duration": 3,
    "start_time": "2022-07-18T14:26:26.689Z"
   },
   {
    "duration": 13,
    "start_time": "2022-07-18T14:27:45.616Z"
   },
   {
    "duration": 13,
    "start_time": "2022-07-18T14:29:15.855Z"
   },
   {
    "duration": 8,
    "start_time": "2022-07-18T14:31:27.281Z"
   },
   {
    "duration": 9,
    "start_time": "2022-07-18T14:31:36.840Z"
   },
   {
    "duration": 15,
    "start_time": "2022-07-18T14:32:12.441Z"
   },
   {
    "duration": 18,
    "start_time": "2022-07-18T14:32:35.551Z"
   },
   {
    "duration": 8,
    "start_time": "2022-07-18T14:34:27.130Z"
   },
   {
    "duration": 5,
    "start_time": "2022-07-18T14:35:02.634Z"
   },
   {
    "duration": 6,
    "start_time": "2022-07-18T14:35:18.642Z"
   },
   {
    "duration": 4,
    "start_time": "2022-07-18T14:38:02.473Z"
   },
   {
    "duration": 1362,
    "start_time": "2022-07-18T14:38:05.707Z"
   },
   {
    "duration": 1647,
    "start_time": "2022-07-18T14:38:32.640Z"
   },
   {
    "duration": 5,
    "start_time": "2022-07-18T14:39:28.473Z"
   },
   {
    "duration": 4,
    "start_time": "2022-07-18T14:39:32.639Z"
   },
   {
    "duration": 1277,
    "start_time": "2022-07-18T14:39:35.207Z"
   },
   {
    "duration": 4,
    "start_time": "2022-07-18T14:40:11.251Z"
   },
   {
    "duration": 2060,
    "start_time": "2022-07-18T14:40:13.712Z"
   },
   {
    "duration": 0,
    "start_time": "2022-07-18T14:40:15.774Z"
   },
   {
    "duration": 4,
    "start_time": "2022-07-18T14:40:41.572Z"
   },
   {
    "duration": 20,
    "start_time": "2022-07-18T14:40:44.641Z"
   },
   {
    "duration": 23,
    "start_time": "2022-07-18T14:40:46.682Z"
   },
   {
    "duration": 24,
    "start_time": "2022-07-18T14:40:48.205Z"
   },
   {
    "duration": 14,
    "start_time": "2022-07-18T14:40:49.895Z"
   },
   {
    "duration": 19,
    "start_time": "2022-07-18T14:40:50.562Z"
   },
   {
    "duration": 17,
    "start_time": "2022-07-18T14:40:51.156Z"
   },
   {
    "duration": 7,
    "start_time": "2022-07-18T14:45:46.546Z"
   },
   {
    "duration": 12,
    "start_time": "2022-07-18T14:48:23.552Z"
   },
   {
    "duration": 98,
    "start_time": "2022-07-18T15:23:29.200Z"
   },
   {
    "duration": 5,
    "start_time": "2022-07-18T15:23:35.392Z"
   },
   {
    "duration": 16,
    "start_time": "2022-07-18T15:36:28.748Z"
   },
   {
    "duration": 16,
    "start_time": "2022-07-18T15:37:10.588Z"
   },
   {
    "duration": 10,
    "start_time": "2022-07-18T15:40:01.489Z"
   },
   {
    "duration": 9,
    "start_time": "2022-07-18T15:40:30.946Z"
   },
   {
    "duration": 5,
    "start_time": "2022-07-18T15:40:32.805Z"
   },
   {
    "duration": 17,
    "start_time": "2022-07-18T15:40:35.315Z"
   },
   {
    "duration": 11,
    "start_time": "2022-07-18T15:40:36.290Z"
   },
   {
    "duration": 7,
    "start_time": "2022-07-18T15:46:51.841Z"
   },
   {
    "duration": 16,
    "start_time": "2022-07-18T15:46:57.538Z"
   },
   {
    "duration": 11,
    "start_time": "2022-07-18T15:46:58.901Z"
   },
   {
    "duration": 4,
    "start_time": "2022-07-18T15:48:20.590Z"
   },
   {
    "duration": 1482,
    "start_time": "2022-07-18T15:48:21.841Z"
   },
   {
    "duration": 4,
    "start_time": "2022-07-18T15:48:36.297Z"
   },
   {
    "duration": 28,
    "start_time": "2022-07-18T15:48:37.815Z"
   },
   {
    "duration": 4,
    "start_time": "2022-07-18T15:48:51.378Z"
   },
   {
    "duration": 17,
    "start_time": "2022-07-18T15:48:52.193Z"
   },
   {
    "duration": 12,
    "start_time": "2022-07-18T15:49:09.917Z"
   },
   {
    "duration": 5,
    "start_time": "2022-07-18T15:50:53.983Z"
   },
   {
    "duration": 21,
    "start_time": "2022-07-18T15:50:55.176Z"
   },
   {
    "duration": 101,
    "start_time": "2022-07-18T15:51:12.578Z"
   },
   {
    "duration": 5,
    "start_time": "2022-07-18T15:51:17.922Z"
   },
   {
    "duration": 16,
    "start_time": "2022-07-18T15:51:18.932Z"
   },
   {
    "duration": 18,
    "start_time": "2022-07-18T15:52:17.397Z"
   },
   {
    "duration": 12,
    "start_time": "2022-07-18T15:52:29.794Z"
   },
   {
    "duration": 2,
    "start_time": "2022-07-18T15:52:57.405Z"
   },
   {
    "duration": 9,
    "start_time": "2022-07-18T15:54:25.316Z"
   },
   {
    "duration": 9,
    "start_time": "2022-07-18T15:54:37.044Z"
   },
   {
    "duration": 5,
    "start_time": "2022-07-18T15:54:50.839Z"
   },
   {
    "duration": 2,
    "start_time": "2022-07-18T15:55:03.854Z"
   },
   {
    "duration": 8,
    "start_time": "2022-07-18T15:55:41.319Z"
   },
   {
    "duration": 7,
    "start_time": "2022-07-18T15:55:48.444Z"
   },
   {
    "duration": 6,
    "start_time": "2022-07-18T15:55:49.533Z"
   },
   {
    "duration": 57,
    "start_time": "2022-07-18T16:09:11.638Z"
   },
   {
    "duration": 85,
    "start_time": "2022-07-18T16:09:18.349Z"
   },
   {
    "duration": 6,
    "start_time": "2022-07-18T16:09:35.445Z"
   },
   {
    "duration": 92,
    "start_time": "2022-07-18T16:09:45.192Z"
   },
   {
    "duration": 6,
    "start_time": "2022-07-18T16:09:52.287Z"
   },
   {
    "duration": 419,
    "start_time": "2022-07-18T16:10:31.829Z"
   },
   {
    "duration": 212,
    "start_time": "2022-07-18T16:10:32.251Z"
   },
   {
    "duration": 10,
    "start_time": "2022-07-18T16:10:32.465Z"
   },
   {
    "duration": 42,
    "start_time": "2022-07-18T16:10:32.477Z"
   },
   {
    "duration": 9,
    "start_time": "2022-07-18T16:10:32.521Z"
   },
   {
    "duration": 6,
    "start_time": "2022-07-18T16:10:32.532Z"
   },
   {
    "duration": 16,
    "start_time": "2022-07-18T16:10:32.540Z"
   },
   {
    "duration": 7,
    "start_time": "2022-07-18T16:10:32.558Z"
   },
   {
    "duration": 44,
    "start_time": "2022-07-18T16:10:32.567Z"
   },
   {
    "duration": 23,
    "start_time": "2022-07-18T16:10:32.613Z"
   },
   {
    "duration": 27,
    "start_time": "2022-07-18T16:10:32.638Z"
   },
   {
    "duration": 97,
    "start_time": "2022-07-18T16:10:32.667Z"
   },
   {
    "duration": 90,
    "start_time": "2022-07-18T16:10:32.766Z"
   },
   {
    "duration": 73,
    "start_time": "2022-07-18T16:10:32.858Z"
   },
   {
    "duration": 7,
    "start_time": "2022-07-18T16:10:46.944Z"
   },
   {
    "duration": 38,
    "start_time": "2022-07-18T16:13:56.922Z"
   },
   {
    "duration": 11,
    "start_time": "2022-07-18T16:14:31.207Z"
   },
   {
    "duration": 14,
    "start_time": "2022-07-18T16:14:34.618Z"
   },
   {
    "duration": 12,
    "start_time": "2022-07-18T16:15:55.367Z"
   },
   {
    "duration": 75,
    "start_time": "2022-07-18T16:16:29.665Z"
   },
   {
    "duration": 84,
    "start_time": "2022-07-18T16:16:58.103Z"
   },
   {
    "duration": 55,
    "start_time": "2022-07-18T16:17:06.390Z"
   },
   {
    "duration": 52,
    "start_time": "2022-07-18T16:17:52.830Z"
   },
   {
    "duration": 54,
    "start_time": "2022-07-18T16:18:33.392Z"
   },
   {
    "duration": 1168,
    "start_time": "2022-07-18T16:19:18.724Z"
   },
   {
    "duration": 1147,
    "start_time": "2022-07-18T16:19:27.812Z"
   },
   {
    "duration": 10,
    "start_time": "2022-07-18T16:19:37.767Z"
   },
   {
    "duration": 12,
    "start_time": "2022-07-18T16:20:12.459Z"
   },
   {
    "duration": 13,
    "start_time": "2022-07-18T16:20:15.696Z"
   },
   {
    "duration": 1289,
    "start_time": "2022-07-18T16:22:04.104Z"
   },
   {
    "duration": 52,
    "start_time": "2022-07-18T16:22:12.043Z"
   },
   {
    "duration": 10,
    "start_time": "2022-07-18T16:22:52.300Z"
   },
   {
    "duration": 1225,
    "start_time": "2022-07-18T16:25:18.971Z"
   },
   {
    "duration": 15,
    "start_time": "2022-07-18T16:25:32.050Z"
   },
   {
    "duration": 58,
    "start_time": "2022-07-19T08:09:18.658Z"
   },
   {
    "duration": 367,
    "start_time": "2022-07-19T08:09:28.592Z"
   },
   {
    "duration": 410,
    "start_time": "2022-07-19T08:09:28.961Z"
   },
   {
    "duration": 9,
    "start_time": "2022-07-19T08:09:29.372Z"
   },
   {
    "duration": 34,
    "start_time": "2022-07-19T08:09:29.383Z"
   },
   {
    "duration": 2,
    "start_time": "2022-07-19T08:09:29.419Z"
   },
   {
    "duration": 6,
    "start_time": "2022-07-19T08:09:29.423Z"
   },
   {
    "duration": 13,
    "start_time": "2022-07-19T08:09:29.439Z"
   },
   {
    "duration": 11,
    "start_time": "2022-07-19T08:09:29.454Z"
   },
   {
    "duration": 32,
    "start_time": "2022-07-19T08:09:29.466Z"
   },
   {
    "duration": 21,
    "start_time": "2022-07-19T08:09:29.501Z"
   },
   {
    "duration": 36,
    "start_time": "2022-07-19T08:09:29.524Z"
   },
   {
    "duration": 79,
    "start_time": "2022-07-19T08:09:29.562Z"
   },
   {
    "duration": 81,
    "start_time": "2022-07-19T08:09:29.643Z"
   },
   {
    "duration": 74,
    "start_time": "2022-07-19T08:09:29.725Z"
   },
   {
    "duration": 53,
    "start_time": "2022-07-19T08:09:29.800Z"
   },
   {
    "duration": 1240,
    "start_time": "2022-07-19T08:09:32.530Z"
   },
   {
    "duration": 13,
    "start_time": "2022-07-19T08:09:43.467Z"
   },
   {
    "duration": 16,
    "start_time": "2022-07-19T08:12:20.183Z"
   },
   {
    "duration": 12,
    "start_time": "2022-07-19T08:14:35.900Z"
   },
   {
    "duration": 11,
    "start_time": "2022-07-19T08:15:18.997Z"
   },
   {
    "duration": 11,
    "start_time": "2022-07-19T08:15:21.728Z"
   },
   {
    "duration": 9,
    "start_time": "2022-07-19T08:15:53.768Z"
   },
   {
    "duration": 11,
    "start_time": "2022-07-19T08:16:54.732Z"
   },
   {
    "duration": 11,
    "start_time": "2022-07-19T08:17:01.347Z"
   },
   {
    "duration": 1352,
    "start_time": "2022-07-19T08:17:53.330Z"
   },
   {
    "duration": 10,
    "start_time": "2022-07-19T08:18:01.045Z"
   },
   {
    "duration": 7,
    "start_time": "2022-07-19T08:18:22.894Z"
   },
   {
    "duration": 12,
    "start_time": "2022-07-19T08:20:19.793Z"
   },
   {
    "duration": 12,
    "start_time": "2022-07-19T08:21:16.274Z"
   },
   {
    "duration": 12,
    "start_time": "2022-07-19T08:21:31.926Z"
   }
  ],
  "colab": {
   "collapsed_sections": [
    "E0vqbgi9ay0H",
    "VUC88oWjTJw2"
   ],
   "name": "automatization_template_upd4.ipynb",
   "provenance": []
  },
  "kernelspec": {
   "display_name": "Python 3 (ipykernel)",
   "language": "python",
   "name": "python3"
  },
  "language_info": {
   "codemirror_mode": {
    "name": "ipython",
    "version": 3
   },
   "file_extension": ".py",
   "mimetype": "text/x-python",
   "name": "python",
   "nbconvert_exporter": "python",
   "pygments_lexer": "ipython3",
   "version": "3.9.5"
  },
  "toc": {
   "base_numbering": 1,
   "nav_menu": {
    "height": "215px",
    "width": "403px"
   },
   "number_sections": true,
   "sideBar": true,
   "skip_h1_title": true,
   "title_cell": "Table of Contents",
   "title_sidebar": "Contents",
   "toc_cell": false,
   "toc_position": {
    "height": "calc(100% - 180px)",
    "left": "10px",
    "top": "150px",
    "width": "285.825px"
   },
   "toc_section_display": true,
   "toc_window_display": false
  }
 },
 "nbformat": 4,
 "nbformat_minor": 1
}
