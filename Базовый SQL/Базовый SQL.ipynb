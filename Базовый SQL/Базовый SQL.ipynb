{
 "cells": [
  {
   "cell_type": "markdown",
   "id": "51fc1f74",
   "metadata": {},
   "source": [
    "<h1>Знакомство с базой данных</h1>"
   ]
  },
  {
   "cell_type": "markdown",
   "id": "a697c1a2",
   "metadata": {},
   "source": [
    "В самостоятельном проекте этого курса вы будете работать с базой данных, которая хранит информацию о венчурных фондах и инвестициях в компании-стартапы. Эта база данных основана на датасете Startup Investments, опубликованном на популярной платформе для соревнований по исследованию данных Kaggle.\n",
    "\n",
    "\n",
    "Анализировать рынок инвестиций без подготовки может быть непросто. Поэтому сначала познакомьтесь с важными понятиями, которые вам встретятся в работе с базой данных.\n",
    "Венчурные фонды — это финансовые организации, которые могут позволить себе высокий риск и инвестировать в компании с инновационной бизнес-идеей или разработанной новой технологией, то есть в стартапы. Цель венчурных фондов — в будущем получить значительную прибыль, которая в разы превысит размер их трат на инвестиции в компанию. Если стартап подорожает, венчурный фонд может получить долю в компании или фиксированный процент от её выручки.\n",
    "\n",
    "\n",
    "Чтобы процесс финансирования стал менее рискованным, его делят на стадии — раунды. Тот или иной раунд зависит от того, какого уровня развития достигла компания.\n",
    "Первые этапы — предпосевной и посевной раунды. Предпосевной раунд предполагает, что компания как таковая ещё не создана и находится в стадии замысла. Следующий — посевной — раунд знаменует рост проекта: создатели компании разрабатывают бизнес-модель и привлекают инвесторов.\n",
    "\n",
    "\n",
    "Если компании требуется ментор или наставник — она привлекает бизнес-ангела. Бизнес-ангелы — инвесторы, которые помимо финансовой поддержки предлагают экспертную помощь. Такой раунд называют ангельским.\n",
    "Когда стартап становится компанией с проверенной бизнес-моделью и начинает зарабатывать самостоятельно, предложений инвесторов становится больше. Это раунд A, а за ним следуют и другие: B, C, D — на этих этапах компания активно развивается и готовится к IPO.\n",
    "Иногда выделяют венчурный раунд — финансирование, которое могло поступить от венчурного фонда на любом этапе: начальном или более позднем.\n",
    "В данных об инвестициях вам встретятся упоминания раундов, но самостоятельный проект не предполагает, что вы должны разбираться в их специфике лучше любого инвестора. Главное — понимать, как устроены данные.\n",
    "Вы уже знаете, что такое ER-диаграмма. Работу с новой базой данных лучше начать с изучения схемы."
   ]
  },
  {
   "cell_type": "markdown",
   "id": "df36d4f4",
   "metadata": {},
   "source": [
    "Схема БД: <https://ibb.co/brWR5wm>"
   ]
  },
  {
   "cell_type": "markdown",
   "id": "983bccf5",
   "metadata": {},
   "source": [
    "<strong>1.Посчитайте, сколько компаний закрылось.</strong>"
   ]
  },
  {
   "cell_type": "markdown",
   "id": "aafae709",
   "metadata": {},
   "source": [
    "SELECT COUNT(*)\n",
    "\n",
    "FROM company\n",
    "\n",
    "WHERE status = 'closed';"
   ]
  },
  {
   "cell_type": "markdown",
   "id": "a7bc275a",
   "metadata": {},
   "source": [
    "<strong>2.Отобразите количество привлечённых средств для новостных компаний США. Используйте данные из таблицы company. Отсортируйте таблицу по убыванию значений в поле funding_total .</strong>"
   ]
  },
  {
   "cell_type": "markdown",
   "id": "fb72e9a0",
   "metadata": {},
   "source": [
    "SELECT funding_total\n",
    "\n",
    "\n",
    "FROM company\n",
    "\n",
    "\n",
    "WHERE country_code = 'USA'\n",
    "\n",
    "\n",
    "AND category_code = 'news'\n",
    "\n",
    "\n",
    "ORDER BY funding_total DESC;"
   ]
  },
  {
   "cell_type": "markdown",
   "id": "71a6a4f2",
   "metadata": {},
   "source": [
    "<strong>3.\n",
    "Найдите общую сумму сделок по покупке одних компаний другими в долларах. Отберите сделки, которые осуществлялись только за наличные с 2011 по 2013 год включительно.</strong>"
   ]
  },
  {
   "cell_type": "markdown",
   "id": "0b2325e9",
   "metadata": {},
   "source": [
    "SELECT SUM(price_amount)\n",
    "\n",
    "\n",
    "FROM acquisition\n",
    "\n",
    "\n",
    "WHERE term_code = 'cash'\n",
    "\n",
    "\n",
    "AND  EXTRACT(YEAR FROM CAST(acquired_at AS date)) BETWEEN 2011 AND 2013;"
   ]
  },
  {
   "cell_type": "markdown",
   "id": "d4738980",
   "metadata": {},
   "source": [
    "<strong>4.\n",
    "Отобразите имя, фамилию и названия аккаунтов людей в твиттере, у которых названия аккаунтов начинаются на 'Silver'.</strong>"
   ]
  },
  {
   "cell_type": "markdown",
   "id": "c72e1061",
   "metadata": {},
   "source": [
    "SELECT first_name, last_name, twitter_username\n",
    "\n",
    "FROM people\n",
    "\n",
    "WHERE twitter_username LIKE 'Silver%';"
   ]
  },
  {
   "cell_type": "markdown",
   "id": "9f2392d3",
   "metadata": {},
   "source": [
    "<strong>5.Выведите на экран всю информацию о людях, у которых названия аккаунтов в твиттере содержат подстроку 'money', а фамилия начинается на 'K'.</strong>"
   ]
  },
  {
   "cell_type": "markdown",
   "id": "cc893a6b",
   "metadata": {},
   "source": [
    "SELECT *\n",
    "\n",
    "FROM people\n",
    "\n",
    "WHERE twitter_username LIKE '%money%'\n",
    "\n",
    "AND last_name LIKE 'K%';"
   ]
  },
  {
   "cell_type": "markdown",
   "id": "b5c133ec",
   "metadata": {},
   "source": [
    "<strong>6.Для каждой страны отобразите общую сумму привлечённых инвестиций, которые получили компании, зарегистрированные в этой стране. Страну, в которой зарегистрирована компания, можно определить по коду страны. Отсортируйте данные по убыванию суммы.</strong>"
   ]
  },
  {
   "cell_type": "markdown",
   "id": "3bac5984",
   "metadata": {},
   "source": [
    "SELECT country_code,\n",
    "\n",
    "    SUM(funding_total)\n",
    "    \n",
    "FROM company\n",
    "\n",
    "GROUP BY country_code\n",
    "\n",
    "ORDER BY SUM(funding_total) DESC;"
   ]
  },
  {
   "cell_type": "markdown",
   "id": "73ea9d58",
   "metadata": {},
   "source": [
    "<strong>7.\n",
    "Составьте таблицу, в которую войдёт дата проведения раунда, а также минимальное и максимальное значения суммы инвестиций, привлечённых в эту дату.\n",
    "Оставьте в итоговой таблице только те записи, в которых минимальное значение суммы инвестиций не равно нулю и не равно максимальному значению.</strong>"
   ]
  },
  {
   "cell_type": "markdown",
   "id": "8f907e3a",
   "metadata": {},
   "source": [
    "SELECT funded_at, \n",
    "\n",
    "    MIN(raised_amount),\n",
    "    \n",
    "    MAX(raised_amount)\n",
    "    \n",
    "        \n",
    "FROM funding_round\n",
    "\n",
    "GROUP BY funded_at\n",
    "\n",
    "HAVING  MIN(raised_amount) != 0 AND MIN(raised_amount) != MAX(raised_amount);"
   ]
  },
  {
   "cell_type": "markdown",
   "id": "4418c586",
   "metadata": {},
   "source": [
    "<strong>8.\n",
    "Создайте поле с категориями:\n",
    "Для фондов, которые инвестируют в 100 и более компаний, назначьте категорию high_activity.\n",
    "Для фондов, которые инвестируют в 20 и более компаний до 100, назначьте категорию middle_activity.\n",
    "Если количество инвестируемых компаний фонда не достигает 20, назначьте категорию low_activity.\n",
    "Отобразите все поля таблицы fund и новое поле с категориями.</strong>"
   ]
  },
  {
   "cell_type": "markdown",
   "id": "281fa111",
   "metadata": {},
   "source": [
    "SELECT *,\n",
    "\n",
    "CASE\n",
    "\n",
    "    WHEN invested_companies >= 100 THEN 'high_activity'\n",
    "    \n",
    "    WHEN invested_companies >= 20 AND  invested_companies < 100 THEN 'middle_activity'\n",
    "    \n",
    "    WHEN invested_companies != 20  THEN 'low_activity'\n",
    "    \n",
    "END\n",
    "    \n",
    "FROM fund;"
   ]
  },
  {
   "cell_type": "markdown",
   "id": "6e774837",
   "metadata": {},
   "source": [
    "<strong>9.\n",
    "Для каждой из категорий, назначенных в предыдущем задании, посчитайте округлённое до ближайшего целого числа среднее количество инвестиционных раундов, в которых фонд принимал участие. Выведите на экран категории и среднее число инвестиционных раундов. Отсортируйте таблицу по возрастанию среднего.</strong>"
   ]
  },
  {
   "cell_type": "markdown",
   "id": "abbbe0bc",
   "metadata": {},
   "source": [
    "SELECT \n",
    "\n",
    "       CASE\n",
    "       \n",
    "           WHEN invested_companies>=100 THEN 'high_activity'\n",
    "           \n",
    "           WHEN invested_companies>=20 THEN 'middle_activity'\n",
    "           \n",
    "           ELSE 'low_activity'\n",
    "           \n",
    "       END AS activity,\n",
    "       \n",
    "       \tROUND(AVG(investment_rounds)) as investment_rounds\n",
    "\n",
    "FROM fund\n",
    "\n",
    "GROUP BY activity\n",
    "\n",
    "ORDER BY investment_rounds ASC;"
   ]
  },
  {
   "cell_type": "markdown",
   "id": "a2cba8de",
   "metadata": {},
   "source": [
    "<strong>10.\n",
    "Проанализируйте, в каких странах находятся фонды, которые чаще всего инвестируют в стартапы.\n",
    "Для каждой страны посчитайте минимальное, максимальное и среднее число компаний, в которые инвестировали фонды этой страны, основанные с 2010 по 2012 год включительно. Исключите страны с фондами, у которых минимальное число компаний, получивших инвестиции, равно нулю. Выгрузите десять самых активных стран-инвесторов.\n",
    "Отсортируйте таблицу по среднему количеству компаний от большего к меньшему, а затем по коду страны в лексикографическом порядке.</strong>"
   ]
  },
  {
   "cell_type": "markdown",
   "id": "f578cf3c",
   "metadata": {},
   "source": [
    "SELECT country_code,\n",
    "\n",
    "AVG(invested_companies),\n",
    "\n",
    "MIN(invested_companies),\n",
    "\n",
    "MAX(invested_companies)\n",
    "\n",
    "FROM fund\n",
    "\n",
    "WHERE EXTRACT(YEAR FROM CAST(founded_at AS date)) BETWEEN '2010' AND '2012'\n",
    "\n",
    "GROUP BY country_code\n",
    "\n",
    "HAVING MIN(invested_companies) != 0\n",
    "\n",
    "ORDER BY AVG(invested_companies) DESC\n",
    "\n",
    "LIMIT 10;"
   ]
  },
  {
   "cell_type": "markdown",
   "id": "3625de62",
   "metadata": {},
   "source": [
    "<strong>11.\n",
    "Отобразите имя и фамилию всех сотрудников стартапов. Добавьте поле с названием учебного заведения, которое окончил сотрудник, если эта информация известна.</strong>"
   ]
  },
  {
   "cell_type": "markdown",
   "id": "1694aaf7",
   "metadata": {},
   "source": [
    "SELECT p.first_name, p.last_name, e.instituition\n",
    "\n",
    "FROM people AS p LEFT JOIN education AS e ON p.id = e.person_id;"
   ]
  },
  {
   "cell_type": "markdown",
   "id": "ed88ffd6",
   "metadata": {},
   "source": [
    "<strong>12.\n",
    "Для каждой компании найдите количество учебных заведений, которые окончили её сотрудники. Выведите название компании и число уникальных названий учебных заведений. Составьте топ-5 компаний по количеству университетов.</strong>"
   ]
  },
  {
   "cell_type": "markdown",
   "id": "0c03d927",
   "metadata": {},
   "source": [
    "SELECT c.name,\n",
    "\n",
    "COUNT(DISTINCT e.instituition)\n",
    "\n",
    "FROM company AS c\n",
    "\n",
    "JOIN people AS p ON c.id=p.company_id\n",
    "\n",
    "JOIN education AS e ON p.id=e.person_id\n",
    "\n",
    "GROUP BY c.name\n",
    "\n",
    "ORDER BY COUNT(DISTINCT e.instituition) DESC\n",
    "\n",
    "LIMIT 5;\n"
   ]
  },
  {
   "cell_type": "markdown",
   "id": "4d1f999b",
   "metadata": {},
   "source": [
    "<strong>13.\n",
    "Составьте список с уникальными названиями закрытых компаний, для которых первый раунд финансирования оказался последним.\n",
    "</strong>"
   ]
  },
  {
   "cell_type": "markdown",
   "id": "8048fc31",
   "metadata": {},
   "source": [
    "SELECT DISTINCT name\n",
    "\n",
    "FROM company\n",
    "\n",
    "WHERE id IN (SELECT company_id\n",
    "\n",
    "FROM funding_round\n",
    "\n",
    "WHERE is_first_round = 1 AND is_last_round = 1)\n",
    "\n",
    "AND status = 'closed';"
   ]
  },
  {
   "cell_type": "markdown",
   "id": "269b0df3",
   "metadata": {},
   "source": [
    "<strong>14.\n",
    "Составьте список уникальных номеров сотрудников, которые работают в компаниях, отобранных в предыдущем задании.</strong>"
   ]
  },
  {
   "cell_type": "markdown",
   "id": "f0c9debb",
   "metadata": {},
   "source": [
    "SELECT DISTINCT id\n",
    "\n",
    "FROM people\n",
    "\n",
    "WHERE company_id IN (SELECT id\n",
    "                     \n",
    "FROM company\n",
    "                     \n",
    "WHERE name IN (SELECT DISTINCT name\n",
    "               \n",
    "        FROM company\n",
    "               \n",
    "        WHERE id IN (SELECT company_id\n",
    "                     \n",
    "        FROM funding_round\n",
    "                     \n",
    "        WHERE is_first_round = 1 AND is_last_round = 1)\n",
    "               \n",
    "        AND status = 'closed'));"
   ]
  },
  {
   "cell_type": "markdown",
   "id": "1de62465",
   "metadata": {},
   "source": [
    "<strong>15.\n",
    "Составьте таблицу, куда войдут уникальные пары с номерами сотрудников из предыдущей задачи и учебным заведением, которое окончил сотрудник.</strong>"
   ]
  },
  {
   "cell_type": "markdown",
   "id": "e8be6144",
   "metadata": {},
   "source": [
    "SELECT DISTINCT p.id, e.instituition\n",
    "\n",
    "FROM people AS p JOIN education AS e ON p.id = e.person_id\n",
    "\n",
    "WHERE company_id IN (SELECT id\n",
    "\n",
    "FROM company\n",
    "\n",
    "WHERE id IN (SELECT company_id\n",
    "\n",
    "FROM funding_round\n",
    "\n",
    "WHERE is_first_round = 1 AND is_last_round = 1)\n",
    "\n",
    "AND status = 'closed');"
   ]
  },
  {
   "cell_type": "markdown",
   "id": "e7c5453b",
   "metadata": {},
   "source": [
    "<strong>16.\n",
    "Посчитайте количество учебных заведений для каждого сотрудника из предыдущего задания. При подсчёте учитывайте, что некоторые сотрудники могли окончить одно и то же заведение дважды.</strong>"
   ]
  },
  {
   "cell_type": "markdown",
   "id": "b95bc032",
   "metadata": {},
   "source": [
    "SELECT DISTINCT p.id,\n",
    "\n",
    "COUNT(e.instituition)\n",
    "\n",
    "FROM people AS p JOIN education AS e ON p.id = e.person_id\n",
    "\n",
    "WHERE company_id IN (SELECT id\n",
    "\n",
    "FROM company\n",
    "\n",
    "WHERE id IN (SELECT company_id\n",
    "\n",
    "FROM funding_round\n",
    "\n",
    "WHERE is_first_round = 1 AND is_last_round = 1)\n",
    "\n",
    "AND status = 'closed')\n",
    "\n",
    "GROUP BY p.id;"
   ]
  },
  {
   "cell_type": "markdown",
   "id": "a75a64b2",
   "metadata": {},
   "source": [
    "<strong>17.\n",
    "Дополните предыдущий запрос и выведите среднее число учебных заведений (всех, не только уникальных), которые окончили сотрудники разных компаний. Нужно вывести только одну запись, группировка здесь не понадобится.</strong>"
   ]
  },
  {
   "cell_type": "markdown",
   "id": "c38ca58b",
   "metadata": {},
   "source": [
    "SELECT AVG(study)\n",
    "\n",
    "FROM\n",
    "\n",
    "(SELECT  p.id,\n",
    "\n",
    "COUNT(e.instituition) AS study\n",
    "\n",
    "FROM people AS p JOIN education AS e ON p.id = e.person_id\n",
    "\n",
    "WHERE company_id IN (SELECT id\n",
    "\n",
    "FROM company\n",
    "\n",
    "WHERE id IN (SELECT company_id\n",
    "\n",
    "FROM funding_round\n",
    "\n",
    "WHERE is_first_round = 1 AND is_last_round = 1)\n",
    "\n",
    "AND status = 'closed')\n",
    "\n",
    "GROUP BY p.id) as kek;"
   ]
  },
  {
   "cell_type": "markdown",
   "id": "2ec4f70a",
   "metadata": {},
   "source": [
    "<strong>18.\n",
    "Напишите похожий запрос: выведите среднее число учебных заведений (всех, не только уникальных), которые окончили сотрудники Facebook*.\n",
    "*(сервис, запрещённый на территории РФ)</strong>"
   ]
  },
  {
   "cell_type": "markdown",
   "id": "b226a2b5",
   "metadata": {},
   "source": [
    "SELECT AVG(study)\n",
    "\n",
    "FROM\n",
    "\n",
    "(SELECT person_id,\n",
    "\n",
    "        COUNT(instituition) AS study\n",
    "        \n",
    "FROM education\n",
    "\n",
    "WHERE person_id IN (SELECT id\n",
    "\n",
    "            FROM people\n",
    "            \n",
    "            WHERE company_id IN (SELECT id\n",
    "            \n",
    "                    FROM company\n",
    "                    \n",
    "                    WHERE name = 'Facebook'))\n",
    "                    \n",
    "GROUP BY person_id) as lel;"
   ]
  },
  {
   "cell_type": "markdown",
   "id": "e1fba5a2",
   "metadata": {},
   "source": [
    "<strong>19.\n",
    "Составьте таблицу из полей:\n",
    "name_of_fund — название фонда;\n",
    "name_of_company — название компании;\n",
    "amount — сумма инвестиций, которую привлекла компания в раунде.\n",
    "В таблицу войдут данные о компаниях, в истории которых было больше шести важных этапов, а раунды финансирования проходили с 2012 по 2013 год включительно.</strong>"
   ]
  },
  {
   "cell_type": "markdown",
   "id": "aef938aa",
   "metadata": {},
   "source": [
    "SELECT f.name as name_of_fund,\n",
    "\n",
    "        c.name as name_of_company,\n",
    "        \n",
    "        fr.raised_amount as amount\n",
    "            \n",
    "        \n",
    "FROM fund as f\n",
    "\n",
    "LEFT JOIN investment as i ON f.id = i.fund_id\n",
    "\n",
    "LEFT JOIN funding_round as fr ON i.funding_round_id = fr.id\n",
    "\n",
    "LEFT JOIN company as c ON fr.company_id = c.id\n",
    "\n",
    "WHERE c.milestones > 6\n",
    "\n",
    "AND EXTRACT(YEAR FROM CAST(fr.funded_at as date)) BETWEEN 2012 AND 2013;"
   ]
  },
  {
   "cell_type": "markdown",
   "id": "fa4ab1de",
   "metadata": {},
   "source": [
    "<strong>20.\n",
    "Выгрузите таблицу, в которой будут такие поля:\n",
    "название компании-покупателя;\n",
    "сумма сделки;\n",
    "название компании, которую купили;\n",
    "сумма инвестиций, вложенных в купленную компанию;\n",
    "доля, которая отображает, во сколько раз сумма покупки превысила сумму вложенных в компанию инвестиций, округлённая до ближайшего целого числа.\n",
    "Не учитывайте те сделки, в которых сумма покупки равна нулю. Если сумма инвестиций в компанию равна нулю, исключите такую компанию из таблицы.\n",
    "Отсортируйте таблицу по сумме сделки от большей к меньшей, а затем по названию купленной компании в лексикографическом порядке. Ограничьте таблицу первыми десятью записями.</strong>"
   ]
  },
  {
   "cell_type": "markdown",
   "id": "d60fe275",
   "metadata": {},
   "source": [
    "SELECT c.name,\n",
    "\n",
    "a.price_amount,\n",
    "\n",
    "c_1.name,\n",
    "\n",
    "c_1.funding_total,\n",
    "\n",
    "ROUND(a.price_amount/c_1.funding_total) AS percent\n",
    "\n",
    "FROM acquisition AS a\n",
    "\n",
    "LEFT JOIN company AS c ON a.acquiring_company_id = c.id\n",
    "\n",
    "LEFT JOIN company AS c_1 ON a.acquired_company_id = c_1.id\n",
    "\n",
    "WHERE a.price_amount>0\n",
    "\n",
    "AND c_1.funding_total>0\n",
    "\n",
    "ORDER BY a.price_amount DESC\n",
    "\n",
    "LIMIT 10;"
   ]
  },
  {
   "cell_type": "markdown",
   "id": "d293a85b",
   "metadata": {},
   "source": [
    "<strong>21.\n",
    "Выгрузите таблицу, в которую войдут названия компаний из категории social, получившие финансирование с 2010 по 2013 год включительно. Проверьте, что сумма инвестиций не равна нулю. Выведите также номер месяца, в котором проходил раунд финансирования.</strong>"
   ]
  },
  {
   "cell_type": "markdown",
   "id": "1c56c71b",
   "metadata": {},
   "source": [
    "SELECT c.name,\n",
    "\n",
    "EXTRACT(MONTH FROM CAST(funded_at AS date))\n",
    "\n",
    "FROM company AS c\n",
    "\n",
    "LEFT OUTER JOIN funding_round AS f ON c.id = f.company_id\n",
    "\n",
    "WHERE EXTRACT(YEAR FROM CAST(funded_at AS date)) IN (2010, 2011, 2012, 2013)\n",
    "\n",
    "AND c.category_code = 'social'\n",
    "\n",
    "AND raised_amount > 0 ;"
   ]
  },
  {
   "cell_type": "markdown",
   "id": "4f34574d",
   "metadata": {},
   "source": [
    "<strong>22.\n",
    "Отберите данные по месяцам с 2010 по 2013 год, когда проходили инвестиционные раунды. Сгруппируйте данные по номеру месяца и получите таблицу, в которой будут поля:\n",
    "номер месяца, в котором проходили раунды;\n",
    "количество уникальных названий фондов из США, которые инвестировали в этом месяце;\n",
    "количество компаний, купленных за этот месяц;\n",
    "общая сумма сделок по покупкам в этом месяце.</strong>"
   ]
  },
  {
   "cell_type": "markdown",
   "id": "8cb0a05d",
   "metadata": {},
   "source": [
    "WITH\n",
    "\n",
    "month_fund AS\n",
    "\n",
    "(SELECT EXTRACT(MONTH FROM CAST(funded_at AS date)) AS MONTH,\n",
    "\n",
    "COUNT(DISTINCT f.name) AS count_of_fund\n",
    "\n",
    "FROM funding_round AS fr\n",
    "\n",
    "LEFT JOIN investment AS i ON i.funding_round_id = fr.id\n",
    "\n",
    "LEFT JOIN fund AS f ON i.fund_id = f.id\n",
    "\n",
    "WHERE EXTRACT(YEAR FROM CAST(funded_at AS date)) BETWEEN 2010 AND 2013\n",
    "\n",
    "AND f.country_code='USA'\n",
    "\n",
    "GROUP BY MONTH),\n",
    "\n",
    "month_acquired AS\n",
    "\n",
    "(SELECT EXTRACT(MONTH FROM CAST(acquired_at AS date)) AS MONTH,\n",
    "\n",
    "COUNT(acquiring_company_id) AS count_month_acquired,\n",
    "\n",
    "SUM(price_amount) AS sum_price_amount\n",
    "\n",
    "FROM acquisition\n",
    "\n",
    "WHERE EXTRACT(YEAR FROM CAST(acquired_at AS date)) BETWEEN 2010 AND 2013\n",
    "\n",
    "GROUP BY MONTH)\n",
    "\n",
    "SELECT month_fund.MONTH,\n",
    "\n",
    "month_fund.count_of_fund,\n",
    "\n",
    "month_acquired.count_month_acquired,\n",
    "\n",
    "month_acquired.sum_price_amount\n",
    "\n",
    "FROM month_fund\n",
    "\n",
    "JOIN month_acquired ON month_fund.MONTH=month_acquired.MONTH;"
   ]
  },
  {
   "cell_type": "markdown",
   "id": "686dc84d",
   "metadata": {},
   "source": [
    "<strong>23.\n",
    "Составьте сводную таблицу и выведите среднюю сумму инвестиций для стран, в которых есть стартапы, зарегистрированные в 2011, 2012 и 2013 годах. Данные за каждый год должны быть в отдельном поле. Отсортируйте таблицу по среднему значению инвестиций за 2011 год от большего к меньшему.</strong>"
   ]
  },
  {
   "cell_type": "markdown",
   "id": "36c7d04a",
   "metadata": {},
   "source": [
    "WITH\n",
    "\n",
    "i_2011 AS (SELECT country_code,\n",
    "           \n",
    "AVG(funding_total) AS invest_2011\n",
    "           \n",
    "FROM company\n",
    "           \n",
    "WHERE EXTRACT(YEAR FROM CAST(founded_at AS date)) = 2011\n",
    "           \n",
    "GROUP BY country_code),\n",
    "\n",
    "i_2012 AS (SELECT country_code,\n",
    "           \n",
    "AVG(funding_total) AS invest_2012\n",
    "           \n",
    "FROM company\n",
    "           \n",
    "WHERE EXTRACT(YEAR FROM CAST(founded_at AS date)) = 2012\n",
    "           \n",
    "GROUP BY country_code),\n",
    "\n",
    "\n",
    "i_2013 AS (SELECT country_code,\n",
    "           \n",
    "AVG(funding_total) AS invest_2013\n",
    "           \n",
    "FROM company\n",
    "           \n",
    "WHERE EXTRACT(YEAR FROM CAST(founded_at AS date)) = 2013\n",
    "           \n",
    "GROUP BY country_code)\n",
    "\n",
    "\n",
    "\n",
    "SELECT i1.country_code,\n",
    "\n",
    "        i1.invest_2011,\n",
    "    \n",
    "        i2.invest_2012,\n",
    "        \n",
    "        i3.invest_2013\n",
    "        \n",
    "FROM i_2011 as i1\n",
    "\n",
    "INNER JOIN i_2012 AS i2 ON i1.country_code = i2.country_code\n",
    "\n",
    "INNER JOIN i_2013 AS i3 ON i2.country_code = i3.country_code\n",
    "\n",
    "ORDER BY  i1.invest_2011 DESC;\n"
   ]
  },
  {
   "cell_type": "code",
   "execution_count": null,
   "id": "6850af78",
   "metadata": {},
   "outputs": [],
   "source": []
  }
 ],
 "metadata": {
  "kernelspec": {
   "display_name": "Python 3 (ipykernel)",
   "language": "python",
   "name": "python3"
  },
  "language_info": {
   "codemirror_mode": {
    "name": "ipython",
    "version": 3
   },
   "file_extension": ".py",
   "mimetype": "text/x-python",
   "name": "python",
   "nbconvert_exporter": "python",
   "pygments_lexer": "ipython3",
   "version": "3.10.5"
  }
 },
 "nbformat": 4,
 "nbformat_minor": 5
}
