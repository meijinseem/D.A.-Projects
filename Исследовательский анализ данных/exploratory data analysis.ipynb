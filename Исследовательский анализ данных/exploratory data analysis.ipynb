{
 "cells": [
  {
   "cell_type": "markdown",
   "metadata": {},
   "source": [
    "# Исследование объявлений о продаже квартир\n",
    "\n",
    "В вашем распоряжении данные сервиса Яндекс.Недвижимость — архив объявлений о продаже квартир в Санкт-Петербурге и соседних населённых пунктов за несколько лет. Нужно научиться определять рыночную стоимость объектов недвижимости. Ваша задача — установить параметры. Это позволит построить автоматизированную систему: она отследит аномалии и мошенническую деятельность. \n",
    "\n",
    "По каждой квартире на продажу доступны два вида данных. Первые вписаны пользователем, вторые — получены автоматически на основе картографических данных. Например, расстояние до центра, аэропорта, ближайшего парка и водоёма. "
   ]
  },
  {
   "cell_type": "markdown",
   "metadata": {},
   "source": [
    "### Откройте файл с данными и изучите общую информацию. "
   ]
  },
  {
   "cell_type": "code",
   "execution_count": 1,
   "metadata": {},
   "outputs": [],
   "source": [
    "import pandas as pd\n",
    "import matplotlib.pyplot as plt"
   ]
  },
  {
   "cell_type": "code",
   "execution_count": 2,
   "metadata": {},
   "outputs": [],
   "source": [
    "data = pd.read_csv('/datasets/real_estate_data.csv', sep='\\t')"
   ]
  },
  {
   "cell_type": "code",
   "execution_count": 3,
   "metadata": {},
   "outputs": [
    {
     "data": {
      "text/html": [
       "<div>\n",
       "<style scoped>\n",
       "    .dataframe tbody tr th:only-of-type {\n",
       "        vertical-align: middle;\n",
       "    }\n",
       "\n",
       "    .dataframe tbody tr th {\n",
       "        vertical-align: top;\n",
       "    }\n",
       "\n",
       "    .dataframe thead th {\n",
       "        text-align: right;\n",
       "    }\n",
       "</style>\n",
       "<table border=\"1\" class=\"dataframe\">\n",
       "  <thead>\n",
       "    <tr style=\"text-align: right;\">\n",
       "      <th></th>\n",
       "      <th>total_images</th>\n",
       "      <th>last_price</th>\n",
       "      <th>total_area</th>\n",
       "      <th>first_day_exposition</th>\n",
       "      <th>rooms</th>\n",
       "      <th>ceiling_height</th>\n",
       "      <th>floors_total</th>\n",
       "      <th>living_area</th>\n",
       "      <th>floor</th>\n",
       "      <th>is_apartment</th>\n",
       "      <th>...</th>\n",
       "      <th>kitchen_area</th>\n",
       "      <th>balcony</th>\n",
       "      <th>locality_name</th>\n",
       "      <th>airports_nearest</th>\n",
       "      <th>cityCenters_nearest</th>\n",
       "      <th>parks_around3000</th>\n",
       "      <th>parks_nearest</th>\n",
       "      <th>ponds_around3000</th>\n",
       "      <th>ponds_nearest</th>\n",
       "      <th>days_exposition</th>\n",
       "    </tr>\n",
       "  </thead>\n",
       "  <tbody>\n",
       "    <tr>\n",
       "      <th>0</th>\n",
       "      <td>20</td>\n",
       "      <td>13000000.0</td>\n",
       "      <td>108.00</td>\n",
       "      <td>2019-03-07T00:00:00</td>\n",
       "      <td>3</td>\n",
       "      <td>2.70</td>\n",
       "      <td>16.0</td>\n",
       "      <td>51.0</td>\n",
       "      <td>8</td>\n",
       "      <td>NaN</td>\n",
       "      <td>...</td>\n",
       "      <td>25.00</td>\n",
       "      <td>NaN</td>\n",
       "      <td>Санкт-Петербург</td>\n",
       "      <td>18863.0</td>\n",
       "      <td>16028.0</td>\n",
       "      <td>1.0</td>\n",
       "      <td>482.0</td>\n",
       "      <td>2.0</td>\n",
       "      <td>755.0</td>\n",
       "      <td>NaN</td>\n",
       "    </tr>\n",
       "    <tr>\n",
       "      <th>1</th>\n",
       "      <td>7</td>\n",
       "      <td>3350000.0</td>\n",
       "      <td>40.40</td>\n",
       "      <td>2018-12-04T00:00:00</td>\n",
       "      <td>1</td>\n",
       "      <td>NaN</td>\n",
       "      <td>11.0</td>\n",
       "      <td>18.6</td>\n",
       "      <td>1</td>\n",
       "      <td>NaN</td>\n",
       "      <td>...</td>\n",
       "      <td>11.00</td>\n",
       "      <td>2.0</td>\n",
       "      <td>посёлок Шушары</td>\n",
       "      <td>12817.0</td>\n",
       "      <td>18603.0</td>\n",
       "      <td>0.0</td>\n",
       "      <td>NaN</td>\n",
       "      <td>0.0</td>\n",
       "      <td>NaN</td>\n",
       "      <td>81.0</td>\n",
       "    </tr>\n",
       "    <tr>\n",
       "      <th>2</th>\n",
       "      <td>10</td>\n",
       "      <td>5196000.0</td>\n",
       "      <td>56.00</td>\n",
       "      <td>2015-08-20T00:00:00</td>\n",
       "      <td>2</td>\n",
       "      <td>NaN</td>\n",
       "      <td>5.0</td>\n",
       "      <td>34.3</td>\n",
       "      <td>4</td>\n",
       "      <td>NaN</td>\n",
       "      <td>...</td>\n",
       "      <td>8.30</td>\n",
       "      <td>0.0</td>\n",
       "      <td>Санкт-Петербург</td>\n",
       "      <td>21741.0</td>\n",
       "      <td>13933.0</td>\n",
       "      <td>1.0</td>\n",
       "      <td>90.0</td>\n",
       "      <td>2.0</td>\n",
       "      <td>574.0</td>\n",
       "      <td>558.0</td>\n",
       "    </tr>\n",
       "    <tr>\n",
       "      <th>3</th>\n",
       "      <td>0</td>\n",
       "      <td>64900000.0</td>\n",
       "      <td>159.00</td>\n",
       "      <td>2015-07-24T00:00:00</td>\n",
       "      <td>3</td>\n",
       "      <td>NaN</td>\n",
       "      <td>14.0</td>\n",
       "      <td>NaN</td>\n",
       "      <td>9</td>\n",
       "      <td>NaN</td>\n",
       "      <td>...</td>\n",
       "      <td>NaN</td>\n",
       "      <td>0.0</td>\n",
       "      <td>Санкт-Петербург</td>\n",
       "      <td>28098.0</td>\n",
       "      <td>6800.0</td>\n",
       "      <td>2.0</td>\n",
       "      <td>84.0</td>\n",
       "      <td>3.0</td>\n",
       "      <td>234.0</td>\n",
       "      <td>424.0</td>\n",
       "    </tr>\n",
       "    <tr>\n",
       "      <th>4</th>\n",
       "      <td>2</td>\n",
       "      <td>10000000.0</td>\n",
       "      <td>100.00</td>\n",
       "      <td>2018-06-19T00:00:00</td>\n",
       "      <td>2</td>\n",
       "      <td>3.03</td>\n",
       "      <td>14.0</td>\n",
       "      <td>32.0</td>\n",
       "      <td>13</td>\n",
       "      <td>NaN</td>\n",
       "      <td>...</td>\n",
       "      <td>41.00</td>\n",
       "      <td>NaN</td>\n",
       "      <td>Санкт-Петербург</td>\n",
       "      <td>31856.0</td>\n",
       "      <td>8098.0</td>\n",
       "      <td>2.0</td>\n",
       "      <td>112.0</td>\n",
       "      <td>1.0</td>\n",
       "      <td>48.0</td>\n",
       "      <td>121.0</td>\n",
       "    </tr>\n",
       "    <tr>\n",
       "      <th>...</th>\n",
       "      <td>...</td>\n",
       "      <td>...</td>\n",
       "      <td>...</td>\n",
       "      <td>...</td>\n",
       "      <td>...</td>\n",
       "      <td>...</td>\n",
       "      <td>...</td>\n",
       "      <td>...</td>\n",
       "      <td>...</td>\n",
       "      <td>...</td>\n",
       "      <td>...</td>\n",
       "      <td>...</td>\n",
       "      <td>...</td>\n",
       "      <td>...</td>\n",
       "      <td>...</td>\n",
       "      <td>...</td>\n",
       "      <td>...</td>\n",
       "      <td>...</td>\n",
       "      <td>...</td>\n",
       "      <td>...</td>\n",
       "      <td>...</td>\n",
       "    </tr>\n",
       "    <tr>\n",
       "      <th>23694</th>\n",
       "      <td>9</td>\n",
       "      <td>9700000.0</td>\n",
       "      <td>133.81</td>\n",
       "      <td>2017-03-21T00:00:00</td>\n",
       "      <td>3</td>\n",
       "      <td>3.70</td>\n",
       "      <td>5.0</td>\n",
       "      <td>73.3</td>\n",
       "      <td>3</td>\n",
       "      <td>NaN</td>\n",
       "      <td>...</td>\n",
       "      <td>13.83</td>\n",
       "      <td>NaN</td>\n",
       "      <td>Санкт-Петербург</td>\n",
       "      <td>24665.0</td>\n",
       "      <td>4232.0</td>\n",
       "      <td>1.0</td>\n",
       "      <td>796.0</td>\n",
       "      <td>3.0</td>\n",
       "      <td>381.0</td>\n",
       "      <td>NaN</td>\n",
       "    </tr>\n",
       "    <tr>\n",
       "      <th>23695</th>\n",
       "      <td>14</td>\n",
       "      <td>3100000.0</td>\n",
       "      <td>59.00</td>\n",
       "      <td>2018-01-15T00:00:00</td>\n",
       "      <td>3</td>\n",
       "      <td>NaN</td>\n",
       "      <td>5.0</td>\n",
       "      <td>38.0</td>\n",
       "      <td>4</td>\n",
       "      <td>NaN</td>\n",
       "      <td>...</td>\n",
       "      <td>8.50</td>\n",
       "      <td>NaN</td>\n",
       "      <td>Тосно</td>\n",
       "      <td>NaN</td>\n",
       "      <td>NaN</td>\n",
       "      <td>NaN</td>\n",
       "      <td>NaN</td>\n",
       "      <td>NaN</td>\n",
       "      <td>NaN</td>\n",
       "      <td>45.0</td>\n",
       "    </tr>\n",
       "    <tr>\n",
       "      <th>23696</th>\n",
       "      <td>18</td>\n",
       "      <td>2500000.0</td>\n",
       "      <td>56.70</td>\n",
       "      <td>2018-02-11T00:00:00</td>\n",
       "      <td>2</td>\n",
       "      <td>NaN</td>\n",
       "      <td>3.0</td>\n",
       "      <td>29.7</td>\n",
       "      <td>1</td>\n",
       "      <td>NaN</td>\n",
       "      <td>...</td>\n",
       "      <td>NaN</td>\n",
       "      <td>NaN</td>\n",
       "      <td>село Рождествено</td>\n",
       "      <td>NaN</td>\n",
       "      <td>NaN</td>\n",
       "      <td>NaN</td>\n",
       "      <td>NaN</td>\n",
       "      <td>NaN</td>\n",
       "      <td>NaN</td>\n",
       "      <td>NaN</td>\n",
       "    </tr>\n",
       "    <tr>\n",
       "      <th>23697</th>\n",
       "      <td>13</td>\n",
       "      <td>11475000.0</td>\n",
       "      <td>76.75</td>\n",
       "      <td>2017-03-28T00:00:00</td>\n",
       "      <td>2</td>\n",
       "      <td>3.00</td>\n",
       "      <td>17.0</td>\n",
       "      <td>NaN</td>\n",
       "      <td>12</td>\n",
       "      <td>NaN</td>\n",
       "      <td>...</td>\n",
       "      <td>23.30</td>\n",
       "      <td>2.0</td>\n",
       "      <td>Санкт-Петербург</td>\n",
       "      <td>39140.0</td>\n",
       "      <td>10364.0</td>\n",
       "      <td>2.0</td>\n",
       "      <td>173.0</td>\n",
       "      <td>3.0</td>\n",
       "      <td>196.0</td>\n",
       "      <td>602.0</td>\n",
       "    </tr>\n",
       "    <tr>\n",
       "      <th>23698</th>\n",
       "      <td>4</td>\n",
       "      <td>1350000.0</td>\n",
       "      <td>32.30</td>\n",
       "      <td>2017-07-21T00:00:00</td>\n",
       "      <td>1</td>\n",
       "      <td>2.50</td>\n",
       "      <td>5.0</td>\n",
       "      <td>12.3</td>\n",
       "      <td>1</td>\n",
       "      <td>NaN</td>\n",
       "      <td>...</td>\n",
       "      <td>9.00</td>\n",
       "      <td>NaN</td>\n",
       "      <td>поселок Новый Учхоз</td>\n",
       "      <td>NaN</td>\n",
       "      <td>NaN</td>\n",
       "      <td>NaN</td>\n",
       "      <td>NaN</td>\n",
       "      <td>NaN</td>\n",
       "      <td>NaN</td>\n",
       "      <td>NaN</td>\n",
       "    </tr>\n",
       "  </tbody>\n",
       "</table>\n",
       "<p>23699 rows × 22 columns</p>\n",
       "</div>"
      ],
      "text/plain": [
       "       total_images  last_price  total_area first_day_exposition  rooms  \\\n",
       "0                20  13000000.0      108.00  2019-03-07T00:00:00      3   \n",
       "1                 7   3350000.0       40.40  2018-12-04T00:00:00      1   \n",
       "2                10   5196000.0       56.00  2015-08-20T00:00:00      2   \n",
       "3                 0  64900000.0      159.00  2015-07-24T00:00:00      3   \n",
       "4                 2  10000000.0      100.00  2018-06-19T00:00:00      2   \n",
       "...             ...         ...         ...                  ...    ...   \n",
       "23694             9   9700000.0      133.81  2017-03-21T00:00:00      3   \n",
       "23695            14   3100000.0       59.00  2018-01-15T00:00:00      3   \n",
       "23696            18   2500000.0       56.70  2018-02-11T00:00:00      2   \n",
       "23697            13  11475000.0       76.75  2017-03-28T00:00:00      2   \n",
       "23698             4   1350000.0       32.30  2017-07-21T00:00:00      1   \n",
       "\n",
       "       ceiling_height  floors_total  living_area  floor is_apartment  ...  \\\n",
       "0                2.70          16.0         51.0      8          NaN  ...   \n",
       "1                 NaN          11.0         18.6      1          NaN  ...   \n",
       "2                 NaN           5.0         34.3      4          NaN  ...   \n",
       "3                 NaN          14.0          NaN      9          NaN  ...   \n",
       "4                3.03          14.0         32.0     13          NaN  ...   \n",
       "...               ...           ...          ...    ...          ...  ...   \n",
       "23694            3.70           5.0         73.3      3          NaN  ...   \n",
       "23695             NaN           5.0         38.0      4          NaN  ...   \n",
       "23696             NaN           3.0         29.7      1          NaN  ...   \n",
       "23697            3.00          17.0          NaN     12          NaN  ...   \n",
       "23698            2.50           5.0         12.3      1          NaN  ...   \n",
       "\n",
       "       kitchen_area  balcony        locality_name  airports_nearest  \\\n",
       "0             25.00      NaN      Санкт-Петербург           18863.0   \n",
       "1             11.00      2.0       посёлок Шушары           12817.0   \n",
       "2              8.30      0.0      Санкт-Петербург           21741.0   \n",
       "3               NaN      0.0      Санкт-Петербург           28098.0   \n",
       "4             41.00      NaN      Санкт-Петербург           31856.0   \n",
       "...             ...      ...                  ...               ...   \n",
       "23694         13.83      NaN      Санкт-Петербург           24665.0   \n",
       "23695          8.50      NaN                Тосно               NaN   \n",
       "23696           NaN      NaN     село Рождествено               NaN   \n",
       "23697         23.30      2.0      Санкт-Петербург           39140.0   \n",
       "23698          9.00      NaN  поселок Новый Учхоз               NaN   \n",
       "\n",
       "      cityCenters_nearest  parks_around3000  parks_nearest  ponds_around3000  \\\n",
       "0                 16028.0               1.0          482.0               2.0   \n",
       "1                 18603.0               0.0            NaN               0.0   \n",
       "2                 13933.0               1.0           90.0               2.0   \n",
       "3                  6800.0               2.0           84.0               3.0   \n",
       "4                  8098.0               2.0          112.0               1.0   \n",
       "...                   ...               ...            ...               ...   \n",
       "23694              4232.0               1.0          796.0               3.0   \n",
       "23695                 NaN               NaN            NaN               NaN   \n",
       "23696                 NaN               NaN            NaN               NaN   \n",
       "23697             10364.0               2.0          173.0               3.0   \n",
       "23698                 NaN               NaN            NaN               NaN   \n",
       "\n",
       "       ponds_nearest  days_exposition  \n",
       "0              755.0              NaN  \n",
       "1                NaN             81.0  \n",
       "2              574.0            558.0  \n",
       "3              234.0            424.0  \n",
       "4               48.0            121.0  \n",
       "...              ...              ...  \n",
       "23694          381.0              NaN  \n",
       "23695            NaN             45.0  \n",
       "23696            NaN              NaN  \n",
       "23697          196.0            602.0  \n",
       "23698            NaN              NaN  \n",
       "\n",
       "[23699 rows x 22 columns]"
      ]
     },
     "execution_count": 3,
     "metadata": {},
     "output_type": "execute_result"
    }
   ],
   "source": [
    "data"
   ]
  },
  {
   "cell_type": "code",
   "execution_count": 4,
   "metadata": {},
   "outputs": [
    {
     "data": {
      "text/plain": [
       "array([[<AxesSubplot:title={'center':'total_images'}>,\n",
       "        <AxesSubplot:title={'center':'last_price'}>,\n",
       "        <AxesSubplot:title={'center':'total_area'}>,\n",
       "        <AxesSubplot:title={'center':'rooms'}>],\n",
       "       [<AxesSubplot:title={'center':'ceiling_height'}>,\n",
       "        <AxesSubplot:title={'center':'floors_total'}>,\n",
       "        <AxesSubplot:title={'center':'living_area'}>,\n",
       "        <AxesSubplot:title={'center':'floor'}>],\n",
       "       [<AxesSubplot:title={'center':'kitchen_area'}>,\n",
       "        <AxesSubplot:title={'center':'balcony'}>,\n",
       "        <AxesSubplot:title={'center':'airports_nearest'}>,\n",
       "        <AxesSubplot:title={'center':'cityCenters_nearest'}>],\n",
       "       [<AxesSubplot:title={'center':'parks_around3000'}>,\n",
       "        <AxesSubplot:title={'center':'parks_nearest'}>,\n",
       "        <AxesSubplot:title={'center':'ponds_around3000'}>,\n",
       "        <AxesSubplot:title={'center':'ponds_nearest'}>],\n",
       "       [<AxesSubplot:title={'center':'days_exposition'}>, <AxesSubplot:>,\n",
       "        <AxesSubplot:>, <AxesSubplot:>]], dtype=object)"
      ]
     },
     "execution_count": 4,
     "metadata": {},
     "output_type": "execute_result"
    },
    {
     "data": {
      "image/png": "[encoded data removed]",
      "text/plain": [
       "<Figure size 1080x1440 with 20 Axes>"
      ]
     },
     "metadata": {
      "needs_background": "light"
     },
     "output_type": "display_data"
    }
   ],
   "source": [
    "data.hist(figsize=(15, 20))"
   ]
  },
  {
   "cell_type": "code",
   "execution_count": 5,
   "metadata": {},
   "outputs": [
    {
     "name": "stdout",
     "output_type": "stream",
     "text": [
      "<class 'pandas.core.frame.DataFrame'>\n",
      "RangeIndex: 23699 entries, 0 to 23698\n",
      "Data columns (total 22 columns):\n",
      " #   Column                Non-Null Count  Dtype  \n",
      "---  ------                --------------  -----  \n",
      " 0   total_images          23699 non-null  int64  \n",
      " 1   last_price            23699 non-null  float64\n",
      " 2   total_area            23699 non-null  float64\n",
      " 3   first_day_exposition  23699 non-null  object \n",
      " 4   rooms                 23699 non-null  int64  \n",
      " 5   ceiling_height        14504 non-null  float64\n",
      " 6   floors_total          23613 non-null  float64\n",
      " 7   living_area           21796 non-null  float64\n",
      " 8   floor                 23699 non-null  int64  \n",
      " 9   is_apartment          2775 non-null   object \n",
      " 10  studio                23699 non-null  bool   \n",
      " 11  open_plan             23699 non-null  bool   \n",
      " 12  kitchen_area          21421 non-null  float64\n",
      " 13  balcony               12180 non-null  float64\n",
      " 14  locality_name         23650 non-null  object \n",
      " 15  airports_nearest      18157 non-null  float64\n",
      " 16  cityCenters_nearest   18180 non-null  float64\n",
      " 17  parks_around3000      18181 non-null  float64\n",
      " 18  parks_nearest         8079 non-null   float64\n",
      " 19  ponds_around3000      18181 non-null  float64\n",
      " 20  ponds_nearest         9110 non-null   float64\n",
      " 21  days_exposition       20518 non-null  float64\n",
      "dtypes: bool(2), float64(14), int64(3), object(3)\n",
      "memory usage: 3.7+ MB\n"
     ]
    }
   ],
   "source": [
    "data.info()"
   ]
  },
  {
   "cell_type": "markdown",
   "metadata": {},
   "source": [
    "<strong>При ознакомлении с первчиным датасетом мы можем сделать следующие выводы:</strong>\n",
    "<ul>\n",
    "    <li>first_day_exposition - нужно перевести в тип DataTime</li>\n",
    "    <p></p>\n",
    "    <li>ceiling_height - около 40% значений отсутсвуют, потолки есть в любой квартире, поэтому отсутвие значений может быть связанно с тем, что люди не заполняют эту информацию, так как не могут точно знать высоту потолков. </li>\n",
    "    <p></p>\n",
    "    <li> floors_total - значения нужно перевести в целые числа. </li>\n",
    "    <p></p>\n",
    "    <li>living_area - около 9% значений отсутсвуют.Возможно отсутвие значений связанно с тем, что часть квартир имеют открытую планировку, а это означает, что площадь жилых комнат не рассчитать, т.к. она объединена.</li>\n",
    "    <p></p>\n",
    "    <li>is_apartment - около 90% значений отсутсвуют, есть предположение, что NaN в значениях это \"0\", т.е. не апартамент. Эту гипотезу можно проверить сопоставлением открытого типа планировки и средней площадью аппартаментов из датасета. Либо сопоставить с столбцом \"studio\". Также необходимо перевести тип данных в \"bool\"</li>\n",
    "    <p></p>\n",
    "    <li>kitchen_area - около 10% значений отсутсвуют, возможно отсутвие значений связанно с тем, что часть квартир имеют открытую планировку, а это означает, что площать кухни не рассчитать, т.к. она объединена. </li>\n",
    "    <p></p>\n",
    "    <li>balcony - около 10% значений отсутсвуют, вероятно не в каждой квартире может быть балкон, на пример часть аппартаментов имеют планировку без балкона </li>\n",
    "    <p></p>\n",
    "    <li>locality_name  - меньше 1% значений отсутвует, на  исследование это не должно повлиять </li>\n",
    "    <p></p>\n",
    "    <li>airports_nearest  - 24% значений отсутвует, наличие ближайшего аэропорта можно проверить исходя из населенного пункта, но если эта информация не потреюуется для исследования, данные можно не заполнять. </li>\n",
    "    <p></p>\n",
    "    <li>cityCenters_nearest  - 24% значений отсутвует, если населенный пункт не является городом, то вполне вероятно, что указывать расстояние до центра города не имеет смысла</li>\n",
    "    <p></p>\n",
    "    <li>parks_around3000   - 24% значений отсутвует, есть предположение, что отсутвие данных означает фактическое отсутсвие парков</li>\n",
    "    <p></p>\n",
    "    <li>parks_nearest - 65% значений отсутвует, поскольку данные имеют количественный харрактер, то на них нужно оветить приблизительно точно, нежели \"да\" или \"нет\". Скорее всего большая часть людей поленилось заполнить эти данные.</li>\n",
    "    <p></p>\n",
    "    <li>ponds_around3000 - 24% значений отсутвует, есть предположение, что отсутвие данных означает фактическое отсутсвие водоемов</li>\n",
    "    <p></p>\n",
    "    <li>ponds_nearest - 65% значений отсутвует, поскольку данные имеют количественный харрактер, то на них нужно оветить приблизительно точно, нежели \"да\" или \"нет\". Скорее всего большая часть людей поленилось заполнить эти данные</li>\n",
    "    <p></p>\n",
    "     <li>days_exposition - 14% значений отсутвует</li> \n",
    "</ul>\n",
    "<strong>Вывод: </strong><p> При ознакомлении с датасетом, выявилось наличие пропусков в больше, чем половине столбцов. Не стоит сразу предпринимать решения, по поводу заполнения этих пропусков. Возможно, данные не потребуются для дальнейшего исследования , если же потребность в заполении возникнет, то с пропусками нужно будет провести работу, а пока, стоит разобраться с форматом данных в столбцах. </p>\n"
   ]
  },
  {
   "cell_type": "markdown",
   "metadata": {},
   "source": [
    "### Предобработка данных"
   ]
  },
  {
   "cell_type": "code",
   "execution_count": 6,
   "metadata": {},
   "outputs": [
    {
     "data": {
      "text/html": [
       "<style  type=\"text/css\" >\n",
       "#T_18566_row0_col0,#T_18566_row1_col0,#T_18566_row2_col0,#T_18566_row3_col0,#T_18566_row4_col0,#T_18566_row6_col0,#T_18566_row8_col0,#T_18566_row10_col0,#T_18566_row11_col0,#T_18566_row14_col0{\n",
       "            background-color:  #3b4cc0;\n",
       "            color:  #f1f1f1;\n",
       "        }#T_18566_row5_col0{\n",
       "            background-color:  #cdd9ec;\n",
       "            color:  #000000;\n",
       "        }#T_18566_row7_col0{\n",
       "            background-color:  #5673e0;\n",
       "            color:  #000000;\n",
       "        }#T_18566_row9_col0{\n",
       "            background-color:  #b40426;\n",
       "            color:  #f1f1f1;\n",
       "        }#T_18566_row12_col0{\n",
       "            background-color:  #5e7de7;\n",
       "            color:  #000000;\n",
       "        }#T_18566_row13_col0{\n",
       "            background-color:  #ead4c8;\n",
       "            color:  #000000;\n",
       "        }#T_18566_row15_col0,#T_18566_row16_col0,#T_18566_row17_col0,#T_18566_row19_col0{\n",
       "            background-color:  #90b2fe;\n",
       "            color:  #000000;\n",
       "        }#T_18566_row18_col0{\n",
       "            background-color:  #f4987a;\n",
       "            color:  #000000;\n",
       "        }#T_18566_row20_col0{\n",
       "            background-color:  #f7aa8c;\n",
       "            color:  #000000;\n",
       "        }#T_18566_row21_col0{\n",
       "            background-color:  #688aef;\n",
       "            color:  #000000;\n",
       "        }</style><table id=\"T_18566_\" ><thead>    <tr>        <th class=\"blank level0\" ></th>        <th class=\"col_heading level0 col0\" >0</th>    </tr></thead><tbody>\n",
       "                <tr>\n",
       "                        <th id=\"T_18566_level0_row0\" class=\"row_heading level0 row0\" >total_images</th>\n",
       "                        <td id=\"T_18566_row0_col0\" class=\"data row0 col0\" >0.000000</td>\n",
       "            </tr>\n",
       "            <tr>\n",
       "                        <th id=\"T_18566_level0_row1\" class=\"row_heading level0 row1\" >last_price</th>\n",
       "                        <td id=\"T_18566_row1_col0\" class=\"data row1 col0\" >0.000000</td>\n",
       "            </tr>\n",
       "            <tr>\n",
       "                        <th id=\"T_18566_level0_row2\" class=\"row_heading level0 row2\" >total_area</th>\n",
       "                        <td id=\"T_18566_row2_col0\" class=\"data row2 col0\" >0.000000</td>\n",
       "            </tr>\n",
       "            <tr>\n",
       "                        <th id=\"T_18566_level0_row3\" class=\"row_heading level0 row3\" >first_day_exposition</th>\n",
       "                        <td id=\"T_18566_row3_col0\" class=\"data row3 col0\" >0.000000</td>\n",
       "            </tr>\n",
       "            <tr>\n",
       "                        <th id=\"T_18566_level0_row4\" class=\"row_heading level0 row4\" >rooms</th>\n",
       "                        <td id=\"T_18566_row4_col0\" class=\"data row4 col0\" >0.000000</td>\n",
       "            </tr>\n",
       "            <tr>\n",
       "                        <th id=\"T_18566_level0_row5\" class=\"row_heading level0 row5\" >ceiling_height</th>\n",
       "                        <td id=\"T_18566_row5_col0\" class=\"data row5 col0\" >39.000000</td>\n",
       "            </tr>\n",
       "            <tr>\n",
       "                        <th id=\"T_18566_level0_row6\" class=\"row_heading level0 row6\" >floors_total</th>\n",
       "                        <td id=\"T_18566_row6_col0\" class=\"data row6 col0\" >0.000000</td>\n",
       "            </tr>\n",
       "            <tr>\n",
       "                        <th id=\"T_18566_level0_row7\" class=\"row_heading level0 row7\" >living_area</th>\n",
       "                        <td id=\"T_18566_row7_col0\" class=\"data row7 col0\" >8.000000</td>\n",
       "            </tr>\n",
       "            <tr>\n",
       "                        <th id=\"T_18566_level0_row8\" class=\"row_heading level0 row8\" >floor</th>\n",
       "                        <td id=\"T_18566_row8_col0\" class=\"data row8 col0\" >0.000000</td>\n",
       "            </tr>\n",
       "            <tr>\n",
       "                        <th id=\"T_18566_level0_row9\" class=\"row_heading level0 row9\" >is_apartment</th>\n",
       "                        <td id=\"T_18566_row9_col0\" class=\"data row9 col0\" >88.000000</td>\n",
       "            </tr>\n",
       "            <tr>\n",
       "                        <th id=\"T_18566_level0_row10\" class=\"row_heading level0 row10\" >studio</th>\n",
       "                        <td id=\"T_18566_row10_col0\" class=\"data row10 col0\" >0.000000</td>\n",
       "            </tr>\n",
       "            <tr>\n",
       "                        <th id=\"T_18566_level0_row11\" class=\"row_heading level0 row11\" >open_plan</th>\n",
       "                        <td id=\"T_18566_row11_col0\" class=\"data row11 col0\" >0.000000</td>\n",
       "            </tr>\n",
       "            <tr>\n",
       "                        <th id=\"T_18566_level0_row12\" class=\"row_heading level0 row12\" >kitchen_area</th>\n",
       "                        <td id=\"T_18566_row12_col0\" class=\"data row12 col0\" >10.000000</td>\n",
       "            </tr>\n",
       "            <tr>\n",
       "                        <th id=\"T_18566_level0_row13\" class=\"row_heading level0 row13\" >balcony</th>\n",
       "                        <td id=\"T_18566_row13_col0\" class=\"data row13 col0\" >49.000000</td>\n",
       "            </tr>\n",
       "            <tr>\n",
       "                        <th id=\"T_18566_level0_row14\" class=\"row_heading level0 row14\" >locality_name</th>\n",
       "                        <td id=\"T_18566_row14_col0\" class=\"data row14 col0\" >0.000000</td>\n",
       "            </tr>\n",
       "            <tr>\n",
       "                        <th id=\"T_18566_level0_row15\" class=\"row_heading level0 row15\" >airports_nearest</th>\n",
       "                        <td id=\"T_18566_row15_col0\" class=\"data row15 col0\" >23.000000</td>\n",
       "            </tr>\n",
       "            <tr>\n",
       "                        <th id=\"T_18566_level0_row16\" class=\"row_heading level0 row16\" >cityCenters_nearest</th>\n",
       "                        <td id=\"T_18566_row16_col0\" class=\"data row16 col0\" >23.000000</td>\n",
       "            </tr>\n",
       "            <tr>\n",
       "                        <th id=\"T_18566_level0_row17\" class=\"row_heading level0 row17\" >parks_around3000</th>\n",
       "                        <td id=\"T_18566_row17_col0\" class=\"data row17 col0\" >23.000000</td>\n",
       "            </tr>\n",
       "            <tr>\n",
       "                        <th id=\"T_18566_level0_row18\" class=\"row_heading level0 row18\" >parks_nearest</th>\n",
       "                        <td id=\"T_18566_row18_col0\" class=\"data row18 col0\" >66.000000</td>\n",
       "            </tr>\n",
       "            <tr>\n",
       "                        <th id=\"T_18566_level0_row19\" class=\"row_heading level0 row19\" >ponds_around3000</th>\n",
       "                        <td id=\"T_18566_row19_col0\" class=\"data row19 col0\" >23.000000</td>\n",
       "            </tr>\n",
       "            <tr>\n",
       "                        <th id=\"T_18566_level0_row20\" class=\"row_heading level0 row20\" >ponds_nearest</th>\n",
       "                        <td id=\"T_18566_row20_col0\" class=\"data row20 col0\" >62.000000</td>\n",
       "            </tr>\n",
       "            <tr>\n",
       "                        <th id=\"T_18566_level0_row21\" class=\"row_heading level0 row21\" >days_exposition</th>\n",
       "                        <td id=\"T_18566_row21_col0\" class=\"data row21 col0\" >13.000000</td>\n",
       "            </tr>\n",
       "    </tbody></table>"
      ],
      "text/plain": [
       "<pandas.io.formats.style.Styler at 0x7f9798f23460>"
      ]
     },
     "execution_count": 6,
     "metadata": {},
     "output_type": "execute_result"
    }
   ],
   "source": [
    "pd.DataFrame(round(data.isna().mean()*100,)).style.background_gradient('coolwarm')"
   ]
  },
  {
   "cell_type": "code",
   "execution_count": 7,
   "metadata": {},
   "outputs": [
    {
     "name": "stdout",
     "output_type": "stream",
     "text": [
      "Кол-во дубликатов в датасете: 0\n"
     ]
    }
   ],
   "source": [
    "print( 'Кол-во дубликатов в датасете:', data.duplicated().sum())"
   ]
  },
  {
   "cell_type": "markdown",
   "metadata": {},
   "source": [
    "Для начала переведем значения в колонке \"first_day_exposition\" в нужный тип данных"
   ]
  },
  {
   "cell_type": "code",
   "execution_count": 8,
   "metadata": {},
   "outputs": [
    {
     "name": "stdout",
     "output_type": "stream",
     "text": [
      "datetime64[ns]\n"
     ]
    }
   ],
   "source": [
    "data['first_day_exposition'] =  pd.to_datetime(data['first_day_exposition'], format='%Y-%m-%dT%H:%M:%S')\n",
    "print(data['first_day_exposition'].dtypes)"
   ]
  },
  {
   "cell_type": "markdown",
   "metadata": {},
   "source": [
    "Далее: переведем 'floors_total' в int формат.Но для этого заполним пропуски на значения равные фактическому этажу."
   ]
  },
  {
   "cell_type": "code",
   "execution_count": 9,
   "metadata": {},
   "outputs": [],
   "source": [
    "data['floors_total'] = data['floors_total'].fillna(data['floor'])"
   ]
  },
  {
   "cell_type": "code",
   "execution_count": 10,
   "metadata": {},
   "outputs": [],
   "source": [
    "data['floors_total'] = data['floors_total'].astype(int)"
   ]
  },
  {
   "cell_type": "markdown",
   "metadata": {},
   "source": [
    "Далее: переведем значения в колонке \"is_apartment \" в булев тип данных, обратим внимание, что после изменения типа данных, пропуски в столбце пропадают."
   ]
  },
  {
   "cell_type": "code",
   "execution_count": 11,
   "metadata": {},
   "outputs": [
    {
     "name": "stdout",
     "output_type": "stream",
     "text": [
      "Количество пропусков в \"is_apartament\" 20924\n"
     ]
    }
   ],
   "source": [
    "print('Количество пропусков в \"is_apartament\"', data['is_apartment'].isna().sum())"
   ]
  },
  {
   "cell_type": "code",
   "execution_count": 12,
   "metadata": {},
   "outputs": [
    {
     "name": "stdout",
     "output_type": "stream",
     "text": [
      "bool\n"
     ]
    }
   ],
   "source": [
    "data['is_apartment'] = data['is_apartment'].astype('bool')\n",
    "print(data['is_apartment'].dtypes)"
   ]
  },
  {
   "cell_type": "code",
   "execution_count": 13,
   "metadata": {},
   "outputs": [
    {
     "name": "stdout",
     "output_type": "stream",
     "text": [
      "Количество пропусков в \"is_apartament\" 0\n"
     ]
    }
   ],
   "source": [
    "print('Количество пропусков в \"is_apartament\"', data['is_apartment'].isna().sum())"
   ]
  },
  {
   "cell_type": "markdown",
   "metadata": {},
   "source": [
    "Теперь заменим неявные дубликаты в столбце \"locality_name\". Проверим уникальные значения и произведем замену."
   ]
  },
  {
   "cell_type": "code",
   "execution_count": 14,
   "metadata": {},
   "outputs": [
    {
     "name": "stdout",
     "output_type": "stream",
     "text": [
      "Количество уникальных значений в столбце \"locality_name\": 365\n"
     ]
    }
   ],
   "source": [
    "\n",
    "print('Количество уникальных значений в столбце \"locality_name\":',len(data['locality_name'].unique()))\n"
   ]
  },
  {
   "cell_type": "code",
   "execution_count": 15,
   "metadata": {},
   "outputs": [
    {
     "name": "stdout",
     "output_type": "stream",
     "text": [
      "Количество уникальных значений в столбце \"locality_name\" после замены: 323\n"
     ]
    }
   ],
   "source": [
    "data['locality_name'] = data['locality_name'].str.lower()\n",
    "data['locality_name'] = data['locality_name'].str.replace('ё','е')\\\n",
    "    .str.replace('поселок городского типа','поселок')\\\n",
    "    .str.replace('городской поселок','поселок')\n",
    "\n",
    "print('Количество уникальных значений в столбце \"locality_name\" после замены:',len(data['locality_name'].unique()))"
   ]
  },
  {
   "cell_type": "markdown",
   "metadata": {},
   "source": [
    "У нас получилось избавиться от 42  дубликатов, на всякий случай перепроверим уникальные значения еще раз."
   ]
  },
  {
   "cell_type": "code",
   "execution_count": 16,
   "metadata": {},
   "outputs": [
    {
     "data": {
      "text/plain": [
       "array(['санкт-петербург', 'поселок шушары', 'поселок янино-1',\n",
       "       'поселок парголово', 'поселок мурино', 'ломоносов', 'сертолово',\n",
       "       'петергоф', 'пушкин', 'деревня кудрово', 'коммунар', 'колпино',\n",
       "       'поселок красный бор', 'гатчина', 'деревня федоровское', 'выборг',\n",
       "       'кронштадт', 'кировск', 'деревня новое девяткино',\n",
       "       'поселок металлострой', 'поселок лебяжье', 'поселок сиверский',\n",
       "       'поселок молодцово', 'поселок кузьмоловский',\n",
       "       'садовое товарищество новая ропша', 'павловск',\n",
       "       'деревня пикколово', 'всеволожск', 'волхов', 'кингисепп',\n",
       "       'приозерск', 'сестрорецк', 'деревня куттузи', 'поселок аннино',\n",
       "       'поселок ефимовский', 'поселок плодовое', 'деревня заклинье',\n",
       "       'поселок торковичи', 'поселок первомайское', 'красное село',\n",
       "       'поселок понтонный', 'сясьстрой', 'деревня старая',\n",
       "       'деревня лесколово', 'поселок новый свет', 'сланцы',\n",
       "       'село путилово', 'ивангород', 'мурино', 'шлиссельбург',\n",
       "       'никольское', 'зеленогорск', 'сосновый бор', 'деревня оржицы',\n",
       "       'деревня кальтино', 'кудрово', 'поселок романовка',\n",
       "       'поселок бугры', 'поселок рощино', 'кириши', 'луга', 'волосово',\n",
       "       'отрадное', 'село павлово', 'поселок оредеж', 'село копорье',\n",
       "       'поселок молодежное', 'тихвин', 'поселок победа', 'деревня нурма',\n",
       "       'поселок синявино', 'тосно', 'поселок стрельна', 'бокситогорск',\n",
       "       'поселок александровская', 'деревня лопухинка', 'пикалево',\n",
       "       'поселок терволово', 'поселок советский', 'подпорожье',\n",
       "       'поселок петровское', 'поселок токсово', 'поселок сельцо',\n",
       "       'поселок вырица', 'деревня кипень', 'деревня келози',\n",
       "       'деревня вартемяги', 'поселок тельмана', 'поселок севастьяново',\n",
       "       'поселок большая ижора', nan, 'поселок павлово',\n",
       "       'деревня агалатово', 'поселок новогорелово', 'поселок лесогорский',\n",
       "       'деревня лаголово', 'поселок цвелодубово', 'поселок рахья',\n",
       "       'деревня белогорка', 'поселок заводской', 'поселок новоселье',\n",
       "       'деревня большие колпаны', 'деревня горбунки', 'деревня батово',\n",
       "       'деревня заневка', 'деревня иссад', 'приморск',\n",
       "       'поселок федоровское', 'деревня мистолово', 'новая ладога',\n",
       "       'поселок зимитицы', 'поселок барышево', 'деревня разметелево',\n",
       "       'поселок имени свердлова', 'деревня пеники', 'поселок рябово',\n",
       "       'деревня пудомяги', 'поселок станции корнево', 'деревня низино',\n",
       "       'деревня бегуницы', 'поселок поляны', 'поселок мга',\n",
       "       'поселок елизаветино', 'поселок кузнечное', 'деревня колтуши',\n",
       "       'поселок запорожское', 'деревня гостилицы',\n",
       "       'деревня малое карлино', 'поселок мичуринское',\n",
       "       'поселок имени морозова', 'поселок песочный', 'поселок сосново',\n",
       "       'деревня аро', 'поселок ильичево', 'поселок тайцы',\n",
       "       'деревня малое верево', 'деревня извара', 'поселок станции вещево',\n",
       "       'село паша', 'деревня калитино', 'поселок ульяновка',\n",
       "       'деревня чудской бор', 'поселок дубровка', 'деревня мины',\n",
       "       'поселок войсковицы', 'деревня коркино', 'поселок ропша',\n",
       "       'поселок приладожский', 'поселок щеглово', 'поселок гаврилово',\n",
       "       'лодейное поле', 'деревня рабитицы', 'поселок никольский',\n",
       "       'деревня кузьмолово', 'деревня малые колпаны',\n",
       "       'поселок петро-славянка', 'поселок назия', 'поселок репино',\n",
       "       'поселок углово', 'поселок старая малукса',\n",
       "       'садовое товарищество рахья', 'деревня меньково',\n",
       "       'деревня старые бегуницы', 'поселок саперный', 'поселок семрино',\n",
       "       'поселок глажево', 'поселок кобринское', 'деревня гарболово',\n",
       "       'деревня юкки', 'поселок станции приветнинское',\n",
       "       'деревня мануйлово', 'деревня пчева', 'поселок цвылево',\n",
       "       'поселок мельниково', 'поселок пудость', 'поселок усть-луга',\n",
       "       'светогорск', 'любань', 'поселок селезнево', 'каменногорск',\n",
       "       'деревня кривко', 'поселок глебычево', 'деревня парицы',\n",
       "       'поселок жилпоселок', 'поселок войскорово', 'село никольское',\n",
       "       'поселок стеклянный', 'поселок важины', 'поселок мыза-ивановка',\n",
       "       'село русско-высоцкое', 'поселок форносово', 'село старая ладога',\n",
       "       'поселок житково', 'поселок виллози', 'деревня лампово',\n",
       "       'деревня шпаньково', 'деревня лаврики', 'поселок сумино',\n",
       "       'поселок возрождение', 'деревня старосиверская',\n",
       "       'поселок кикерино', 'деревня старое хинколово',\n",
       "       'поселок пригородный', 'поселок торфяное', 'поселок будогощь',\n",
       "       'поселок суходолье', 'поселок красная долина', 'деревня хапо-ое',\n",
       "       'поселок дружная горка', 'поселок лисий нос', 'деревня яльгелево',\n",
       "       'село рождествено', 'деревня старополье', 'поселок левашово',\n",
       "       'деревня сяськелево', 'деревня камышовка',\n",
       "       'садоводческое некоммерческое товарищество лесная поляна',\n",
       "       'деревня хязельки', 'поселок жилгородок', 'деревня ялгино',\n",
       "       'поселок новый учхоз', 'поселок гончарово', 'поселок почап',\n",
       "       'поселок саперное', 'поселок платформа 69-й километр',\n",
       "       'поселок каложицы', 'деревня фалилеево', 'деревня пельгора',\n",
       "       'деревня торошковичи', 'поселок белоостров', 'поселок алексеевка',\n",
       "       'поселок серебрянский', 'поселок лукаши', 'деревня щеглово',\n",
       "       'деревня тарасово', 'поселок кингисеппский',\n",
       "       'поселок при железнодорожной станции вещево', 'поселок ушаки',\n",
       "       'деревня котлы', 'деревня сижно', 'деревня торосово',\n",
       "       'поселок форт красная горка', 'деревня новолисино',\n",
       "       'поселок станции громово', 'деревня глинка',\n",
       "       'деревня старая пустошь', 'поселок коммунары', 'поселок починок',\n",
       "       'поселок вознесенье', 'деревня разбегаево', 'поселок гладкое',\n",
       "       'поселок при железнодорожной станции приветнинское',\n",
       "       'поселок тесово-4', 'деревня бор', 'поселок коробицыно',\n",
       "       'деревня большая вруда', 'деревня курковицы', 'поселок кобралово',\n",
       "       'деревня суоранда', 'поселок кондратьево',\n",
       "       'коттеджный поселок счастье', 'поселок любань', 'деревня реброво',\n",
       "       'деревня зимитицы', 'деревня тойворово', 'поселок семиозерье',\n",
       "       'поселок лесное', 'поселок совхозный', 'поселок ленинское',\n",
       "       'поселок суйда', 'деревня нижние осельки', 'поселок станции свирь',\n",
       "       'поселок перово', 'высоцк', 'поселок гарболово', 'село шум',\n",
       "       'поселок котельский', 'поселок станции лужайка',\n",
       "       'деревня большая пустомержа', 'поселок красносельское',\n",
       "       'деревня вахнова кара', 'деревня пижма',\n",
       "       'коттеджный поселок кивеннапа север', 'поселок ромашки',\n",
       "       'деревня каськово', 'деревня куровицы', 'поселок плоское',\n",
       "       'поселок кирпичное', 'деревня ям-тесово', 'деревня раздолье',\n",
       "       'деревня терпилицы', 'поселок шугозеро', 'деревня ваганово',\n",
       "       'поселок пушное', 'садовое товарищество садко',\n",
       "       'поселок усть-ижора', 'деревня выскатка', 'поселок свирьстрой',\n",
       "       'поселок громово', 'деревня кисельня', 'деревня трубников бор',\n",
       "       'поселок калитино', 'поселок высокоключевой',\n",
       "       'садовое товарищество приладожский',\n",
       "       'поселок пансионат зеленый бор', 'деревня ненимяки',\n",
       "       'деревня снегиревка', 'деревня рапполово', 'деревня пустынка',\n",
       "       'поселок рабитицы', 'деревня большой сабск', 'деревня русско',\n",
       "       'деревня лупполово', 'деревня большое рейзино',\n",
       "       'деревня малая романовка', 'поселок дружноселье', 'поселок пчевжа',\n",
       "       'поселок володарское', 'деревня нижняя',\n",
       "       'коттеджный поселок лесное', 'деревня тихковицы',\n",
       "       'деревня борисова грива', 'поселок дзержинского'], dtype=object)"
      ]
     },
     "execution_count": 16,
     "metadata": {},
     "output_type": "execute_result"
    }
   ],
   "source": [
    "data['locality_name'].unique()"
   ]
  },
  {
   "cell_type": "markdown",
   "metadata": {},
   "source": [
    "Теперь перейдем к изучению  данных в столбце 'ceiling_height', известно что средняя высота пролета потолка 2,7 метров. Иногда есть и высокие потолки +3 метра. Также, многие люди моги указать данные не высоты потолка, а высоты пролета (Высота от плиты перекрытия плиты перекрытия на следующем этаже). С помощью диаграммы размаха изучим данные."
   ]
  },
  {
   "cell_type": "code",
   "execution_count": 17,
   "metadata": {},
   "outputs": [
    {
     "data": {
      "text/plain": [
       "(0.0, 40.0)"
      ]
     },
     "execution_count": 17,
     "metadata": {},
     "output_type": "execute_result"
    },
    {
     "data": {
      "image/png": "[encoded data removed]",
      "text/plain": [
       "<Figure size 432x288 with 1 Axes>"
      ]
     },
     "metadata": {
      "needs_background": "light"
     },
     "output_type": "display_data"
    }
   ],
   "source": [
    "data.boxplot(column=['ceiling_height'])\n",
    "plt.ylim(0, 40)"
   ]
  },
  {
   "cell_type": "markdown",
   "metadata": {},
   "source": [
    "Мы видим выбросы, начиная с 3,2 метров. Предположим, что двухэтажные квартиры/дома с открытым этажем могут иметь высоту 8.4 метра (Примерно 2 этажа, если считать по высоте пролета). Но все, что выше уже кажется недоверчиво-подозрительным. \n",
    "\n",
    "Также, если смотреть на данные 25+ метров, то можно предположить, что вероятнее всего высота 2,5+ метров, но данные были внесены некорректно, это возможно исправить.\n",
    "\n",
    "Поэтому мы удалим все аномальные значения, начинающиеся с + метров до 2,5 метров, с 10 метров до 25 метров и поделим на 10 все значения от 25 метров до 35 метров."
   ]
  },
  {
   "cell_type": "code",
   "execution_count": 18,
   "metadata": {},
   "outputs": [],
   "source": [
    "\n",
    "data.loc[(data['ceiling_height'] >= 25) & (data['ceiling_height'] <= 35), 'ceiling_height'] = data['ceiling_height']/10\n",
    "data.loc[(data['ceiling_height'] >= 10) & (data['ceiling_height'] < 25), 'ceiling_height'] = data['ceiling_height'].median()\n",
    "data.loc[(data['ceiling_height'] > 0) & (data['ceiling_height'] < 2.5), 'ceiling_height'] = data['ceiling_height'].median()\n",
    "data['ceiling_height'] = data['ceiling_height'].fillna(data['ceiling_height'].median())\n"
   ]
  },
  {
   "cell_type": "markdown",
   "metadata": {},
   "source": [
    "Заменим пропущенные и неверные данные на медиану  и обратимся к диаграмме размаха еще раз."
   ]
  },
  {
   "cell_type": "code",
   "execution_count": 19,
   "metadata": {},
   "outputs": [
    {
     "data": {
      "text/plain": [
       "(0.0, 35.0)"
      ]
     },
     "execution_count": 19,
     "metadata": {},
     "output_type": "execute_result"
    },
    {
     "data": {
      "image/png": "[encoded data removed]",
      "text/plain": [
       "<Figure size 432x288 with 1 Axes>"
      ]
     },
     "metadata": {
      "needs_background": "light"
     },
     "output_type": "display_data"
    }
   ],
   "source": [
    "data.boxplot(column=['ceiling_height'])\n",
    "plt.ylim(0, 35)"
   ]
  },
  {
   "cell_type": "markdown",
   "metadata": {},
   "source": [
    "Выбросы пропали, а это значит, что с данными в столбце \"ceiling_height\" можно работать."
   ]
  },
  {
   "cell_type": "code",
   "execution_count": 20,
   "metadata": {},
   "outputs": [
    {
     "data": {
      "text/plain": [
       "<AxesSubplot:>"
      ]
     },
     "execution_count": 20,
     "metadata": {},
     "output_type": "execute_result"
    },
    {
     "data": {
      "image/png": "[encoded data removed]",
      "text/plain": [
       "<Figure size 432x288 with 1 Axes>"
      ]
     },
     "metadata": {
      "needs_background": "light"
     },
     "output_type": "display_data"
    }
   ],
   "source": [
    "data.boxplot(column=['total_area'])"
   ]
  },
  {
   "cell_type": "markdown",
   "metadata": {},
   "source": [
    "Проверим столб \"total_area\" Заметно аномально-большое значение площади, свыше 800 кв метров. Обратимся к этой строке."
   ]
  },
  {
   "cell_type": "code",
   "execution_count": 21,
   "metadata": {},
   "outputs": [
    {
     "data": {
      "text/html": [
       "<div>\n",
       "<style scoped>\n",
       "    .dataframe tbody tr th:only-of-type {\n",
       "        vertical-align: middle;\n",
       "    }\n",
       "\n",
       "    .dataframe tbody tr th {\n",
       "        vertical-align: top;\n",
       "    }\n",
       "\n",
       "    .dataframe thead th {\n",
       "        text-align: right;\n",
       "    }\n",
       "</style>\n",
       "<table border=\"1\" class=\"dataframe\">\n",
       "  <thead>\n",
       "    <tr style=\"text-align: right;\">\n",
       "      <th></th>\n",
       "      <th>total_images</th>\n",
       "      <th>last_price</th>\n",
       "      <th>total_area</th>\n",
       "      <th>first_day_exposition</th>\n",
       "      <th>rooms</th>\n",
       "      <th>ceiling_height</th>\n",
       "      <th>floors_total</th>\n",
       "      <th>living_area</th>\n",
       "      <th>floor</th>\n",
       "      <th>is_apartment</th>\n",
       "      <th>...</th>\n",
       "      <th>kitchen_area</th>\n",
       "      <th>balcony</th>\n",
       "      <th>locality_name</th>\n",
       "      <th>airports_nearest</th>\n",
       "      <th>cityCenters_nearest</th>\n",
       "      <th>parks_around3000</th>\n",
       "      <th>parks_nearest</th>\n",
       "      <th>ponds_around3000</th>\n",
       "      <th>ponds_nearest</th>\n",
       "      <th>days_exposition</th>\n",
       "    </tr>\n",
       "  </thead>\n",
       "  <tbody>\n",
       "    <tr>\n",
       "      <th>19540</th>\n",
       "      <td>8</td>\n",
       "      <td>420000000.0</td>\n",
       "      <td>900.0</td>\n",
       "      <td>2017-12-06</td>\n",
       "      <td>12</td>\n",
       "      <td>2.8</td>\n",
       "      <td>25</td>\n",
       "      <td>409.7</td>\n",
       "      <td>25</td>\n",
       "      <td>True</td>\n",
       "      <td>...</td>\n",
       "      <td>112.0</td>\n",
       "      <td>NaN</td>\n",
       "      <td>санкт-петербург</td>\n",
       "      <td>30706.0</td>\n",
       "      <td>7877.0</td>\n",
       "      <td>0.0</td>\n",
       "      <td>NaN</td>\n",
       "      <td>2.0</td>\n",
       "      <td>318.0</td>\n",
       "      <td>106.0</td>\n",
       "    </tr>\n",
       "  </tbody>\n",
       "</table>\n",
       "<p>1 rows × 22 columns</p>\n",
       "</div>"
      ],
      "text/plain": [
       "       total_images   last_price  total_area first_day_exposition  rooms  \\\n",
       "19540             8  420000000.0       900.0           2017-12-06     12   \n",
       "\n",
       "       ceiling_height  floors_total  living_area  floor  is_apartment  ...  \\\n",
       "19540             2.8            25        409.7     25          True  ...   \n",
       "\n",
       "       kitchen_area  balcony    locality_name  airports_nearest  \\\n",
       "19540         112.0      NaN  санкт-петербург           30706.0   \n",
       "\n",
       "      cityCenters_nearest  parks_around3000  parks_nearest  ponds_around3000  \\\n",
       "19540              7877.0               0.0            NaN               2.0   \n",
       "\n",
       "       ponds_nearest  days_exposition  \n",
       "19540          318.0            106.0  \n",
       "\n",
       "[1 rows x 22 columns]"
      ]
     },
     "execution_count": 21,
     "metadata": {},
     "output_type": "execute_result"
    }
   ],
   "source": [
    "data.loc[data['total_area'] >= 800]"
   ]
  },
  {
   "cell_type": "markdown",
   "metadata": {},
   "source": [
    "В глаза бросается стоимость 420 млн и 12 комнат, скорее всего фактическая площадь корректна, это значит, что более меньшая площадь тоже может быть корректна, поэтому аномальные данные, мы удалять не будем."
   ]
  },
  {
   "cell_type": "code",
   "execution_count": 22,
   "metadata": {},
   "outputs": [
    {
     "data": {
      "text/plain": [
       "<AxesSubplot:>"
      ]
     },
     "execution_count": 22,
     "metadata": {},
     "output_type": "execute_result"
    },
    {
     "data": {
      "image/png": "[encoded data removed]",
      "text/plain": [
       "<Figure size 432x288 with 1 Axes>"
      ]
     },
     "metadata": {
      "needs_background": "light"
     },
     "output_type": "display_data"
    }
   ],
   "source": [
    "data.boxplot(column=['last_price'])"
   ]
  },
  {
   "cell_type": "markdown",
   "metadata": {},
   "source": [
    "Проверим столб \"last_price\" Заметно аномально-большое значение стоимости, свыше 700 000 000 руб (В переводе с le8). Обратимся к этой строке."
   ]
  },
  {
   "cell_type": "code",
   "execution_count": 23,
   "metadata": {},
   "outputs": [
    {
     "data": {
      "text/html": [
       "<div>\n",
       "<style scoped>\n",
       "    .dataframe tbody tr th:only-of-type {\n",
       "        vertical-align: middle;\n",
       "    }\n",
       "\n",
       "    .dataframe tbody tr th {\n",
       "        vertical-align: top;\n",
       "    }\n",
       "\n",
       "    .dataframe thead th {\n",
       "        text-align: right;\n",
       "    }\n",
       "</style>\n",
       "<table border=\"1\" class=\"dataframe\">\n",
       "  <thead>\n",
       "    <tr style=\"text-align: right;\">\n",
       "      <th></th>\n",
       "      <th>total_images</th>\n",
       "      <th>last_price</th>\n",
       "      <th>total_area</th>\n",
       "      <th>first_day_exposition</th>\n",
       "      <th>rooms</th>\n",
       "      <th>ceiling_height</th>\n",
       "      <th>floors_total</th>\n",
       "      <th>living_area</th>\n",
       "      <th>floor</th>\n",
       "      <th>is_apartment</th>\n",
       "      <th>...</th>\n",
       "      <th>kitchen_area</th>\n",
       "      <th>balcony</th>\n",
       "      <th>locality_name</th>\n",
       "      <th>airports_nearest</th>\n",
       "      <th>cityCenters_nearest</th>\n",
       "      <th>parks_around3000</th>\n",
       "      <th>parks_nearest</th>\n",
       "      <th>ponds_around3000</th>\n",
       "      <th>ponds_nearest</th>\n",
       "      <th>days_exposition</th>\n",
       "    </tr>\n",
       "  </thead>\n",
       "  <tbody>\n",
       "    <tr>\n",
       "      <th>12971</th>\n",
       "      <td>19</td>\n",
       "      <td>763000000.0</td>\n",
       "      <td>400.0</td>\n",
       "      <td>2017-09-30</td>\n",
       "      <td>7</td>\n",
       "      <td>2.65</td>\n",
       "      <td>10</td>\n",
       "      <td>250.0</td>\n",
       "      <td>10</td>\n",
       "      <td>True</td>\n",
       "      <td>...</td>\n",
       "      <td>NaN</td>\n",
       "      <td>2.0</td>\n",
       "      <td>санкт-петербург</td>\n",
       "      <td>25108.0</td>\n",
       "      <td>3956.0</td>\n",
       "      <td>1.0</td>\n",
       "      <td>530.0</td>\n",
       "      <td>3.0</td>\n",
       "      <td>756.0</td>\n",
       "      <td>33.0</td>\n",
       "    </tr>\n",
       "  </tbody>\n",
       "</table>\n",
       "<p>1 rows × 22 columns</p>\n",
       "</div>"
      ],
      "text/plain": [
       "       total_images   last_price  total_area first_day_exposition  rooms  \\\n",
       "12971            19  763000000.0       400.0           2017-09-30      7   \n",
       "\n",
       "       ceiling_height  floors_total  living_area  floor  is_apartment  ...  \\\n",
       "12971            2.65            10        250.0     10          True  ...   \n",
       "\n",
       "       kitchen_area  balcony    locality_name  airports_nearest  \\\n",
       "12971           NaN      2.0  санкт-петербург           25108.0   \n",
       "\n",
       "      cityCenters_nearest  parks_around3000  parks_nearest  ponds_around3000  \\\n",
       "12971              3956.0               1.0          530.0               3.0   \n",
       "\n",
       "       ponds_nearest  days_exposition  \n",
       "12971          756.0             33.0  \n",
       "\n",
       "[1 rows x 22 columns]"
      ]
     },
     "execution_count": 23,
     "metadata": {},
     "output_type": "execute_result"
    }
   ],
   "source": [
    "data.loc[data['last_price'] >= 700000000]"
   ]
  },
  {
   "cell_type": "markdown",
   "metadata": {},
   "source": [
    "Выглядит внушительно, действительно такие цены есть, в квартире может быть сделан очень дорогой ремонт, поэтому такая стоимость внушает доверие."
   ]
  },
  {
   "cell_type": "code",
   "execution_count": 24,
   "metadata": {},
   "outputs": [
    {
     "data": {
      "text/plain": [
       "<AxesSubplot:>"
      ]
     },
     "execution_count": 24,
     "metadata": {},
     "output_type": "execute_result"
    },
    {
     "data": {
      "image/png": "[encoded data removed]",
      "text/plain": [
       "<Figure size 432x288 with 1 Axes>"
      ]
     },
     "metadata": {
      "needs_background": "light"
     },
     "output_type": "display_data"
    }
   ],
   "source": [
    "data.boxplot(column=['floors_total'])"
   ]
  },
  {
   "cell_type": "code",
   "execution_count": 25,
   "metadata": {},
   "outputs": [
    {
     "data": {
      "text/html": [
       "<div>\n",
       "<style scoped>\n",
       "    .dataframe tbody tr th:only-of-type {\n",
       "        vertical-align: middle;\n",
       "    }\n",
       "\n",
       "    .dataframe tbody tr th {\n",
       "        vertical-align: top;\n",
       "    }\n",
       "\n",
       "    .dataframe thead th {\n",
       "        text-align: right;\n",
       "    }\n",
       "</style>\n",
       "<table border=\"1\" class=\"dataframe\">\n",
       "  <thead>\n",
       "    <tr style=\"text-align: right;\">\n",
       "      <th></th>\n",
       "      <th>total_images</th>\n",
       "      <th>last_price</th>\n",
       "      <th>total_area</th>\n",
       "      <th>first_day_exposition</th>\n",
       "      <th>rooms</th>\n",
       "      <th>ceiling_height</th>\n",
       "      <th>floors_total</th>\n",
       "      <th>living_area</th>\n",
       "      <th>floor</th>\n",
       "      <th>is_apartment</th>\n",
       "      <th>...</th>\n",
       "      <th>kitchen_area</th>\n",
       "      <th>balcony</th>\n",
       "      <th>locality_name</th>\n",
       "      <th>airports_nearest</th>\n",
       "      <th>cityCenters_nearest</th>\n",
       "      <th>parks_around3000</th>\n",
       "      <th>parks_nearest</th>\n",
       "      <th>ponds_around3000</th>\n",
       "      <th>ponds_nearest</th>\n",
       "      <th>days_exposition</th>\n",
       "    </tr>\n",
       "  </thead>\n",
       "  <tbody>\n",
       "    <tr>\n",
       "      <th>2253</th>\n",
       "      <td>12</td>\n",
       "      <td>3800000.0</td>\n",
       "      <td>45.5</td>\n",
       "      <td>2018-06-28</td>\n",
       "      <td>2</td>\n",
       "      <td>2.88</td>\n",
       "      <td>60</td>\n",
       "      <td>27.4</td>\n",
       "      <td>4</td>\n",
       "      <td>True</td>\n",
       "      <td>...</td>\n",
       "      <td>7.4</td>\n",
       "      <td>NaN</td>\n",
       "      <td>кронштадт</td>\n",
       "      <td>67763.0</td>\n",
       "      <td>49488.0</td>\n",
       "      <td>2.0</td>\n",
       "      <td>342.0</td>\n",
       "      <td>3.0</td>\n",
       "      <td>614.0</td>\n",
       "      <td>166.0</td>\n",
       "    </tr>\n",
       "    <tr>\n",
       "      <th>16731</th>\n",
       "      <td>9</td>\n",
       "      <td>3978000.0</td>\n",
       "      <td>40.0</td>\n",
       "      <td>2018-09-24</td>\n",
       "      <td>1</td>\n",
       "      <td>2.65</td>\n",
       "      <td>52</td>\n",
       "      <td>10.5</td>\n",
       "      <td>18</td>\n",
       "      <td>True</td>\n",
       "      <td>...</td>\n",
       "      <td>14.0</td>\n",
       "      <td>NaN</td>\n",
       "      <td>санкт-петербург</td>\n",
       "      <td>20728.0</td>\n",
       "      <td>12978.0</td>\n",
       "      <td>1.0</td>\n",
       "      <td>793.0</td>\n",
       "      <td>0.0</td>\n",
       "      <td>NaN</td>\n",
       "      <td>45.0</td>\n",
       "    </tr>\n",
       "  </tbody>\n",
       "</table>\n",
       "<p>2 rows × 22 columns</p>\n",
       "</div>"
      ],
      "text/plain": [
       "       total_images  last_price  total_area first_day_exposition  rooms  \\\n",
       "2253             12   3800000.0        45.5           2018-06-28      2   \n",
       "16731             9   3978000.0        40.0           2018-09-24      1   \n",
       "\n",
       "       ceiling_height  floors_total  living_area  floor  is_apartment  ...  \\\n",
       "2253             2.88            60         27.4      4          True  ...   \n",
       "16731            2.65            52         10.5     18          True  ...   \n",
       "\n",
       "       kitchen_area  balcony    locality_name  airports_nearest  \\\n",
       "2253            7.4      NaN        кронштадт           67763.0   \n",
       "16731          14.0      NaN  санкт-петербург           20728.0   \n",
       "\n",
       "      cityCenters_nearest  parks_around3000  parks_nearest  ponds_around3000  \\\n",
       "2253              49488.0               2.0          342.0               3.0   \n",
       "16731             12978.0               1.0          793.0               0.0   \n",
       "\n",
       "       ponds_nearest  days_exposition  \n",
       "2253           614.0            166.0  \n",
       "16731            NaN             45.0  \n",
       "\n",
       "[2 rows x 22 columns]"
      ]
     },
     "execution_count": 25,
     "metadata": {},
     "output_type": "execute_result"
    }
   ],
   "source": [
    "data.loc[data['floors_total'] > 50]"
   ]
  },
  {
   "cell_type": "markdown",
   "metadata": {},
   "source": [
    "Проверим столб \"floors_total\". 50 этаже в Кронштадте явно ошибка, также, как 52 этажа в СПБ.Википедия говорит, что после Лахта центра самое высокое здание в Санкт-Петербурге имеет 42 этажа. Это Лидер Тауэр, следовательно все, что ниже 42-х, имеет место быть, а выше - нет."
   ]
  },
  {
   "cell_type": "code",
   "execution_count": 26,
   "metadata": {},
   "outputs": [],
   "source": [
    "data.loc[(data['floors_total'] >= 42), 'floors_total'] = data['floors_total'].median()"
   ]
  },
  {
   "cell_type": "code",
   "execution_count": 27,
   "metadata": {},
   "outputs": [
    {
     "data": {
      "text/plain": [
       "<AxesSubplot:>"
      ]
     },
     "execution_count": 27,
     "metadata": {},
     "output_type": "execute_result"
    },
    {
     "data": {
      "image/png": "[encoded data removed]",
      "text/plain": [
       "<Figure size 432x288 with 1 Axes>"
      ]
     },
     "metadata": {
      "needs_background": "light"
     },
     "output_type": "display_data"
    }
   ],
   "source": [
    "data.boxplot(column=['floors_total'])"
   ]
  },
  {
   "cell_type": "markdown",
   "metadata": {},
   "source": [
    "Аномалии заменили на медиану среди этажей.В данном случае подходит больше медиана, нежели значение \"0\", так как шансы встретить нулевой этаж предельно низкие."
   ]
  },
  {
   "cell_type": "code",
   "execution_count": 28,
   "metadata": {},
   "outputs": [
    {
     "data": {
      "text/plain": [
       "<AxesSubplot:>"
      ]
     },
     "execution_count": 28,
     "metadata": {},
     "output_type": "execute_result"
    },
    {
     "data": {
      "image/png": "[encoded data removed]",
      "text/plain": [
       "<Figure size 432x288 with 1 Axes>"
      ]
     },
     "metadata": {
      "needs_background": "light"
     },
     "output_type": "display_data"
    }
   ],
   "source": [
    "data.boxplot(column=['rooms'])"
   ]
  },
  {
   "cell_type": "code",
   "execution_count": 29,
   "metadata": {},
   "outputs": [
    {
     "data": {
      "text/html": [
       "<div>\n",
       "<style scoped>\n",
       "    .dataframe tbody tr th:only-of-type {\n",
       "        vertical-align: middle;\n",
       "    }\n",
       "\n",
       "    .dataframe tbody tr th {\n",
       "        vertical-align: top;\n",
       "    }\n",
       "\n",
       "    .dataframe thead th {\n",
       "        text-align: right;\n",
       "    }\n",
       "</style>\n",
       "<table border=\"1\" class=\"dataframe\">\n",
       "  <thead>\n",
       "    <tr style=\"text-align: right;\">\n",
       "      <th></th>\n",
       "      <th>total_images</th>\n",
       "      <th>last_price</th>\n",
       "      <th>total_area</th>\n",
       "      <th>first_day_exposition</th>\n",
       "      <th>rooms</th>\n",
       "      <th>ceiling_height</th>\n",
       "      <th>floors_total</th>\n",
       "      <th>living_area</th>\n",
       "      <th>floor</th>\n",
       "      <th>is_apartment</th>\n",
       "      <th>...</th>\n",
       "      <th>kitchen_area</th>\n",
       "      <th>balcony</th>\n",
       "      <th>locality_name</th>\n",
       "      <th>airports_nearest</th>\n",
       "      <th>cityCenters_nearest</th>\n",
       "      <th>parks_around3000</th>\n",
       "      <th>parks_nearest</th>\n",
       "      <th>ponds_around3000</th>\n",
       "      <th>ponds_nearest</th>\n",
       "      <th>days_exposition</th>\n",
       "    </tr>\n",
       "  </thead>\n",
       "  <tbody>\n",
       "    <tr>\n",
       "      <th>14498</th>\n",
       "      <td>6</td>\n",
       "      <td>32250000.0</td>\n",
       "      <td>374.6</td>\n",
       "      <td>2018-06-09</td>\n",
       "      <td>19</td>\n",
       "      <td>2.65</td>\n",
       "      <td>5.0</td>\n",
       "      <td>264.5</td>\n",
       "      <td>2</td>\n",
       "      <td>True</td>\n",
       "      <td>...</td>\n",
       "      <td>27.6</td>\n",
       "      <td>NaN</td>\n",
       "      <td>санкт-петербург</td>\n",
       "      <td>19497.0</td>\n",
       "      <td>3574.0</td>\n",
       "      <td>0.0</td>\n",
       "      <td>NaN</td>\n",
       "      <td>2.0</td>\n",
       "      <td>548.0</td>\n",
       "      <td>114.0</td>\n",
       "    </tr>\n",
       "    <tr>\n",
       "      <th>18848</th>\n",
       "      <td>6</td>\n",
       "      <td>28500000.0</td>\n",
       "      <td>270.0</td>\n",
       "      <td>2015-03-02</td>\n",
       "      <td>16</td>\n",
       "      <td>3.00</td>\n",
       "      <td>4.0</td>\n",
       "      <td>180.0</td>\n",
       "      <td>4</td>\n",
       "      <td>True</td>\n",
       "      <td>...</td>\n",
       "      <td>13.0</td>\n",
       "      <td>1.0</td>\n",
       "      <td>санкт-петербург</td>\n",
       "      <td>23575.0</td>\n",
       "      <td>4142.0</td>\n",
       "      <td>1.0</td>\n",
       "      <td>516.0</td>\n",
       "      <td>0.0</td>\n",
       "      <td>NaN</td>\n",
       "      <td>1365.0</td>\n",
       "    </tr>\n",
       "  </tbody>\n",
       "</table>\n",
       "<p>2 rows × 22 columns</p>\n",
       "</div>"
      ],
      "text/plain": [
       "       total_images  last_price  total_area first_day_exposition  rooms  \\\n",
       "14498             6  32250000.0       374.6           2018-06-09     19   \n",
       "18848             6  28500000.0       270.0           2015-03-02     16   \n",
       "\n",
       "       ceiling_height  floors_total  living_area  floor  is_apartment  ...  \\\n",
       "14498            2.65           5.0        264.5      2          True  ...   \n",
       "18848            3.00           4.0        180.0      4          True  ...   \n",
       "\n",
       "       kitchen_area  balcony    locality_name  airports_nearest  \\\n",
       "14498          27.6      NaN  санкт-петербург           19497.0   \n",
       "18848          13.0      1.0  санкт-петербург           23575.0   \n",
       "\n",
       "      cityCenters_nearest  parks_around3000  parks_nearest  ponds_around3000  \\\n",
       "14498              3574.0               0.0            NaN               2.0   \n",
       "18848              4142.0               1.0          516.0               0.0   \n",
       "\n",
       "       ponds_nearest  days_exposition  \n",
       "14498          548.0            114.0  \n",
       "18848            NaN           1365.0  \n",
       "\n",
       "[2 rows x 22 columns]"
      ]
     },
     "execution_count": 29,
     "metadata": {},
     "output_type": "execute_result"
    }
   ],
   "source": [
    "data.loc[data['rooms'] > 15]"
   ]
  },
  {
   "cell_type": "markdown",
   "metadata": {},
   "source": [
    "Проверим столб \"rooms\". В среднем выходит по 16-19 кв метров на комнату, выглядит внушительно, поэтому удалять данные не будем."
   ]
  },
  {
   "cell_type": "code",
   "execution_count": 30,
   "metadata": {},
   "outputs": [
    {
     "data": {
      "text/plain": [
       "<AxesSubplot:>"
      ]
     },
     "execution_count": 30,
     "metadata": {},
     "output_type": "execute_result"
    },
    {
     "data": {
      "image/png": "[encoded data removed]",
      "text/plain": [
       "<Figure size 432x288 with 1 Axes>"
      ]
     },
     "metadata": {
      "needs_background": "light"
     },
     "output_type": "display_data"
    }
   ],
   "source": [
    "data.boxplot(column=['cityCenters_nearest'])"
   ]
  },
  {
   "cell_type": "code",
   "execution_count": 31,
   "metadata": {},
   "outputs": [
    {
     "data": {
      "text/html": [
       "<div>\n",
       "<style scoped>\n",
       "    .dataframe tbody tr th:only-of-type {\n",
       "        vertical-align: middle;\n",
       "    }\n",
       "\n",
       "    .dataframe tbody tr th {\n",
       "        vertical-align: top;\n",
       "    }\n",
       "\n",
       "    .dataframe thead th {\n",
       "        text-align: right;\n",
       "    }\n",
       "</style>\n",
       "<table border=\"1\" class=\"dataframe\">\n",
       "  <thead>\n",
       "    <tr style=\"text-align: right;\">\n",
       "      <th></th>\n",
       "      <th>total_images</th>\n",
       "      <th>last_price</th>\n",
       "      <th>total_area</th>\n",
       "      <th>first_day_exposition</th>\n",
       "      <th>rooms</th>\n",
       "      <th>ceiling_height</th>\n",
       "      <th>floors_total</th>\n",
       "      <th>living_area</th>\n",
       "      <th>floor</th>\n",
       "      <th>is_apartment</th>\n",
       "      <th>...</th>\n",
       "      <th>kitchen_area</th>\n",
       "      <th>balcony</th>\n",
       "      <th>locality_name</th>\n",
       "      <th>airports_nearest</th>\n",
       "      <th>cityCenters_nearest</th>\n",
       "      <th>parks_around3000</th>\n",
       "      <th>parks_nearest</th>\n",
       "      <th>ponds_around3000</th>\n",
       "      <th>ponds_nearest</th>\n",
       "      <th>days_exposition</th>\n",
       "    </tr>\n",
       "  </thead>\n",
       "  <tbody>\n",
       "    <tr>\n",
       "      <th>577</th>\n",
       "      <td>7</td>\n",
       "      <td>4000000.0</td>\n",
       "      <td>59.0</td>\n",
       "      <td>2017-07-23</td>\n",
       "      <td>3</td>\n",
       "      <td>2.50</td>\n",
       "      <td>5.0</td>\n",
       "      <td>37.0</td>\n",
       "      <td>1</td>\n",
       "      <td>False</td>\n",
       "      <td>...</td>\n",
       "      <td>7.0</td>\n",
       "      <td>NaN</td>\n",
       "      <td>поселок молодежное</td>\n",
       "      <td>84665.0</td>\n",
       "      <td>65764.0</td>\n",
       "      <td>0.0</td>\n",
       "      <td>NaN</td>\n",
       "      <td>0.0</td>\n",
       "      <td>NaN</td>\n",
       "      <td>NaN</td>\n",
       "    </tr>\n",
       "    <tr>\n",
       "      <th>2974</th>\n",
       "      <td>13</td>\n",
       "      <td>3200000.0</td>\n",
       "      <td>46.3</td>\n",
       "      <td>2018-03-31</td>\n",
       "      <td>2</td>\n",
       "      <td>2.50</td>\n",
       "      <td>3.0</td>\n",
       "      <td>29.2</td>\n",
       "      <td>2</td>\n",
       "      <td>True</td>\n",
       "      <td>...</td>\n",
       "      <td>7.0</td>\n",
       "      <td>1.0</td>\n",
       "      <td>зеленогорск</td>\n",
       "      <td>81355.0</td>\n",
       "      <td>62454.0</td>\n",
       "      <td>0.0</td>\n",
       "      <td>NaN</td>\n",
       "      <td>0.0</td>\n",
       "      <td>NaN</td>\n",
       "      <td>205.0</td>\n",
       "    </tr>\n",
       "    <tr>\n",
       "      <th>5218</th>\n",
       "      <td>15</td>\n",
       "      <td>3650000.0</td>\n",
       "      <td>53.8</td>\n",
       "      <td>2018-09-24</td>\n",
       "      <td>3</td>\n",
       "      <td>2.50</td>\n",
       "      <td>4.0</td>\n",
       "      <td>36.9</td>\n",
       "      <td>3</td>\n",
       "      <td>True</td>\n",
       "      <td>...</td>\n",
       "      <td>5.2</td>\n",
       "      <td>NaN</td>\n",
       "      <td>поселок молодежное</td>\n",
       "      <td>83758.0</td>\n",
       "      <td>64857.0</td>\n",
       "      <td>0.0</td>\n",
       "      <td>NaN</td>\n",
       "      <td>0.0</td>\n",
       "      <td>NaN</td>\n",
       "      <td>121.0</td>\n",
       "    </tr>\n",
       "    <tr>\n",
       "      <th>5340</th>\n",
       "      <td>19</td>\n",
       "      <td>3600000.0</td>\n",
       "      <td>50.6</td>\n",
       "      <td>2019-03-19</td>\n",
       "      <td>2</td>\n",
       "      <td>2.50</td>\n",
       "      <td>5.0</td>\n",
       "      <td>29.9</td>\n",
       "      <td>4</td>\n",
       "      <td>True</td>\n",
       "      <td>...</td>\n",
       "      <td>7.0</td>\n",
       "      <td>1.0</td>\n",
       "      <td>поселок молодежное</td>\n",
       "      <td>84853.0</td>\n",
       "      <td>65952.0</td>\n",
       "      <td>0.0</td>\n",
       "      <td>NaN</td>\n",
       "      <td>0.0</td>\n",
       "      <td>NaN</td>\n",
       "      <td>NaN</td>\n",
       "    </tr>\n",
       "    <tr>\n",
       "      <th>9640</th>\n",
       "      <td>8</td>\n",
       "      <td>4200000.0</td>\n",
       "      <td>51.4</td>\n",
       "      <td>2014-12-10</td>\n",
       "      <td>2</td>\n",
       "      <td>2.55</td>\n",
       "      <td>5.0</td>\n",
       "      <td>31.0</td>\n",
       "      <td>2</td>\n",
       "      <td>True</td>\n",
       "      <td>...</td>\n",
       "      <td>6.0</td>\n",
       "      <td>1.0</td>\n",
       "      <td>поселок молодежное</td>\n",
       "      <td>84869.0</td>\n",
       "      <td>65968.0</td>\n",
       "      <td>0.0</td>\n",
       "      <td>NaN</td>\n",
       "      <td>0.0</td>\n",
       "      <td>NaN</td>\n",
       "      <td>1194.0</td>\n",
       "    </tr>\n",
       "    <tr>\n",
       "      <th>16569</th>\n",
       "      <td>13</td>\n",
       "      <td>3200000.0</td>\n",
       "      <td>52.8</td>\n",
       "      <td>2017-06-20</td>\n",
       "      <td>2</td>\n",
       "      <td>2.55</td>\n",
       "      <td>5.0</td>\n",
       "      <td>29.9</td>\n",
       "      <td>3</td>\n",
       "      <td>True</td>\n",
       "      <td>...</td>\n",
       "      <td>8.3</td>\n",
       "      <td>NaN</td>\n",
       "      <td>ломоносов</td>\n",
       "      <td>53042.0</td>\n",
       "      <td>61495.0</td>\n",
       "      <td>2.0</td>\n",
       "      <td>223.0</td>\n",
       "      <td>0.0</td>\n",
       "      <td>NaN</td>\n",
       "      <td>240.0</td>\n",
       "    </tr>\n",
       "    <tr>\n",
       "      <th>18884</th>\n",
       "      <td>15</td>\n",
       "      <td>3600000.0</td>\n",
       "      <td>57.6</td>\n",
       "      <td>2019-02-08</td>\n",
       "      <td>3</td>\n",
       "      <td>2.55</td>\n",
       "      <td>3.0</td>\n",
       "      <td>41.3</td>\n",
       "      <td>2</td>\n",
       "      <td>True</td>\n",
       "      <td>...</td>\n",
       "      <td>6.5</td>\n",
       "      <td>1.0</td>\n",
       "      <td>зеленогорск</td>\n",
       "      <td>81607.0</td>\n",
       "      <td>62706.0</td>\n",
       "      <td>0.0</td>\n",
       "      <td>NaN</td>\n",
       "      <td>0.0</td>\n",
       "      <td>NaN</td>\n",
       "      <td>13.0</td>\n",
       "    </tr>\n",
       "    <tr>\n",
       "      <th>20746</th>\n",
       "      <td>1</td>\n",
       "      <td>3300000.0</td>\n",
       "      <td>43.5</td>\n",
       "      <td>2016-02-16</td>\n",
       "      <td>2</td>\n",
       "      <td>2.55</td>\n",
       "      <td>4.0</td>\n",
       "      <td>27.2</td>\n",
       "      <td>2</td>\n",
       "      <td>True</td>\n",
       "      <td>...</td>\n",
       "      <td>5.0</td>\n",
       "      <td>1.0</td>\n",
       "      <td>поселок молодежное</td>\n",
       "      <td>84006.0</td>\n",
       "      <td>65105.0</td>\n",
       "      <td>0.0</td>\n",
       "      <td>NaN</td>\n",
       "      <td>0.0</td>\n",
       "      <td>NaN</td>\n",
       "      <td>1043.0</td>\n",
       "    </tr>\n",
       "    <tr>\n",
       "      <th>23123</th>\n",
       "      <td>0</td>\n",
       "      <td>1800000.0</td>\n",
       "      <td>32.0</td>\n",
       "      <td>2018-07-17</td>\n",
       "      <td>1</td>\n",
       "      <td>2.65</td>\n",
       "      <td>2.0</td>\n",
       "      <td>17.0</td>\n",
       "      <td>1</td>\n",
       "      <td>True</td>\n",
       "      <td>...</td>\n",
       "      <td>6.0</td>\n",
       "      <td>NaN</td>\n",
       "      <td>ломоносов</td>\n",
       "      <td>56896.0</td>\n",
       "      <td>60223.0</td>\n",
       "      <td>1.0</td>\n",
       "      <td>17.0</td>\n",
       "      <td>0.0</td>\n",
       "      <td>NaN</td>\n",
       "      <td>147.0</td>\n",
       "    </tr>\n",
       "  </tbody>\n",
       "</table>\n",
       "<p>9 rows × 22 columns</p>\n",
       "</div>"
      ],
      "text/plain": [
       "       total_images  last_price  total_area first_day_exposition  rooms  \\\n",
       "577               7   4000000.0        59.0           2017-07-23      3   \n",
       "2974             13   3200000.0        46.3           2018-03-31      2   \n",
       "5218             15   3650000.0        53.8           2018-09-24      3   \n",
       "5340             19   3600000.0        50.6           2019-03-19      2   \n",
       "9640              8   4200000.0        51.4           2014-12-10      2   \n",
       "16569            13   3200000.0        52.8           2017-06-20      2   \n",
       "18884            15   3600000.0        57.6           2019-02-08      3   \n",
       "20746             1   3300000.0        43.5           2016-02-16      2   \n",
       "23123             0   1800000.0        32.0           2018-07-17      1   \n",
       "\n",
       "       ceiling_height  floors_total  living_area  floor  is_apartment  ...  \\\n",
       "577              2.50           5.0         37.0      1         False  ...   \n",
       "2974             2.50           3.0         29.2      2          True  ...   \n",
       "5218             2.50           4.0         36.9      3          True  ...   \n",
       "5340             2.50           5.0         29.9      4          True  ...   \n",
       "9640             2.55           5.0         31.0      2          True  ...   \n",
       "16569            2.55           5.0         29.9      3          True  ...   \n",
       "18884            2.55           3.0         41.3      2          True  ...   \n",
       "20746            2.55           4.0         27.2      2          True  ...   \n",
       "23123            2.65           2.0         17.0      1          True  ...   \n",
       "\n",
       "       kitchen_area  balcony       locality_name  airports_nearest  \\\n",
       "577             7.0      NaN  поселок молодежное           84665.0   \n",
       "2974            7.0      1.0         зеленогорск           81355.0   \n",
       "5218            5.2      NaN  поселок молодежное           83758.0   \n",
       "5340            7.0      1.0  поселок молодежное           84853.0   \n",
       "9640            6.0      1.0  поселок молодежное           84869.0   \n",
       "16569           8.3      NaN           ломоносов           53042.0   \n",
       "18884           6.5      1.0         зеленогорск           81607.0   \n",
       "20746           5.0      1.0  поселок молодежное           84006.0   \n",
       "23123           6.0      NaN           ломоносов           56896.0   \n",
       "\n",
       "      cityCenters_nearest  parks_around3000  parks_nearest  ponds_around3000  \\\n",
       "577               65764.0               0.0            NaN               0.0   \n",
       "2974              62454.0               0.0            NaN               0.0   \n",
       "5218              64857.0               0.0            NaN               0.0   \n",
       "5340              65952.0               0.0            NaN               0.0   \n",
       "9640              65968.0               0.0            NaN               0.0   \n",
       "16569             61495.0               2.0          223.0               0.0   \n",
       "18884             62706.0               0.0            NaN               0.0   \n",
       "20746             65105.0               0.0            NaN               0.0   \n",
       "23123             60223.0               1.0           17.0               0.0   \n",
       "\n",
       "       ponds_nearest  days_exposition  \n",
       "577              NaN              NaN  \n",
       "2974             NaN            205.0  \n",
       "5218             NaN            121.0  \n",
       "5340             NaN              NaN  \n",
       "9640             NaN           1194.0  \n",
       "16569            NaN            240.0  \n",
       "18884            NaN             13.0  \n",
       "20746            NaN           1043.0  \n",
       "23123            NaN            147.0  \n",
       "\n",
       "[9 rows x 22 columns]"
      ]
     },
     "execution_count": 31,
     "metadata": {},
     "output_type": "execute_result"
    }
   ],
   "source": [
    "data.loc[data['cityCenters_nearest'] > 60000]"
   ]
  },
  {
   "cell_type": "markdown",
   "metadata": {},
   "source": [
    "Проверим столб \"cityCenters_nearest\". Среди отфильррванного списка в основном посселки, в которых расстояние указанно до центра СПБ.Выглядит внушительно, поэтому удалять данные не будем."
   ]
  },
  {
   "cell_type": "code",
   "execution_count": 32,
   "metadata": {},
   "outputs": [
    {
     "data": {
      "text/plain": [
       "<AxesSubplot:>"
      ]
     },
     "execution_count": 32,
     "metadata": {},
     "output_type": "execute_result"
    },
    {
     "data": {
      "image/png": "[encoded data removed]",
      "text/plain": [
       "<Figure size 432x288 with 1 Axes>"
      ]
     },
     "metadata": {
      "needs_background": "light"
     },
     "output_type": "display_data"
    }
   ],
   "source": [
    "data.boxplot(column=['balcony'])"
   ]
  },
  {
   "cell_type": "markdown",
   "metadata": {},
   "source": [
    "Проверим столб \"balcony\". В часть значений отсутввует, возможно это связанно с тем, что люди не заполняли его, так как балкона просто напросто нет в квартире. Проверим, что за квартиры от 4-х комнат имеют +4 балконов.(Скорее всего квартира с 4 - мя комнатами, не может иметь 4 балкона, но предположим, что такие есть, а вот когда число балконов превышает число комнант + кухня, то тут уже явно есть подозрения)"
   ]
  },
  {
   "cell_type": "code",
   "execution_count": 33,
   "metadata": {},
   "outputs": [
    {
     "data": {
      "text/html": [
       "<div>\n",
       "<style scoped>\n",
       "    .dataframe tbody tr th:only-of-type {\n",
       "        vertical-align: middle;\n",
       "    }\n",
       "\n",
       "    .dataframe tbody tr th {\n",
       "        vertical-align: top;\n",
       "    }\n",
       "\n",
       "    .dataframe thead th {\n",
       "        text-align: right;\n",
       "    }\n",
       "</style>\n",
       "<table border=\"1\" class=\"dataframe\">\n",
       "  <thead>\n",
       "    <tr style=\"text-align: right;\">\n",
       "      <th></th>\n",
       "      <th>total_images</th>\n",
       "      <th>last_price</th>\n",
       "      <th>total_area</th>\n",
       "      <th>first_day_exposition</th>\n",
       "      <th>rooms</th>\n",
       "      <th>ceiling_height</th>\n",
       "      <th>floors_total</th>\n",
       "      <th>living_area</th>\n",
       "      <th>floor</th>\n",
       "      <th>is_apartment</th>\n",
       "      <th>...</th>\n",
       "      <th>kitchen_area</th>\n",
       "      <th>balcony</th>\n",
       "      <th>locality_name</th>\n",
       "      <th>airports_nearest</th>\n",
       "      <th>cityCenters_nearest</th>\n",
       "      <th>parks_around3000</th>\n",
       "      <th>parks_nearest</th>\n",
       "      <th>ponds_around3000</th>\n",
       "      <th>ponds_nearest</th>\n",
       "      <th>days_exposition</th>\n",
       "    </tr>\n",
       "  </thead>\n",
       "  <tbody>\n",
       "    <tr>\n",
       "      <th>144</th>\n",
       "      <td>1</td>\n",
       "      <td>2450000.0</td>\n",
       "      <td>27.00</td>\n",
       "      <td>2017-03-30</td>\n",
       "      <td>0</td>\n",
       "      <td>2.65</td>\n",
       "      <td>24.0</td>\n",
       "      <td>15.50</td>\n",
       "      <td>2</td>\n",
       "      <td>True</td>\n",
       "      <td>...</td>\n",
       "      <td>NaN</td>\n",
       "      <td>2.0</td>\n",
       "      <td>поселок мурино</td>\n",
       "      <td>NaN</td>\n",
       "      <td>NaN</td>\n",
       "      <td>NaN</td>\n",
       "      <td>NaN</td>\n",
       "      <td>NaN</td>\n",
       "      <td>NaN</td>\n",
       "      <td>181.0</td>\n",
       "    </tr>\n",
       "    <tr>\n",
       "      <th>440</th>\n",
       "      <td>8</td>\n",
       "      <td>2480000.0</td>\n",
       "      <td>27.11</td>\n",
       "      <td>2018-03-12</td>\n",
       "      <td>0</td>\n",
       "      <td>2.65</td>\n",
       "      <td>17.0</td>\n",
       "      <td>24.75</td>\n",
       "      <td>4</td>\n",
       "      <td>True</td>\n",
       "      <td>...</td>\n",
       "      <td>NaN</td>\n",
       "      <td>2.0</td>\n",
       "      <td>санкт-петербург</td>\n",
       "      <td>38171.0</td>\n",
       "      <td>15015.0</td>\n",
       "      <td>0.0</td>\n",
       "      <td>NaN</td>\n",
       "      <td>2.0</td>\n",
       "      <td>982.0</td>\n",
       "      <td>64.0</td>\n",
       "    </tr>\n",
       "    <tr>\n",
       "      <th>654</th>\n",
       "      <td>6</td>\n",
       "      <td>2750000.0</td>\n",
       "      <td>36.00</td>\n",
       "      <td>2017-04-18</td>\n",
       "      <td>1</td>\n",
       "      <td>2.65</td>\n",
       "      <td>5.0</td>\n",
       "      <td>20.50</td>\n",
       "      <td>5</td>\n",
       "      <td>True</td>\n",
       "      <td>...</td>\n",
       "      <td>7.8</td>\n",
       "      <td>4.0</td>\n",
       "      <td>кронштадт</td>\n",
       "      <td>69785.0</td>\n",
       "      <td>51511.0</td>\n",
       "      <td>2.0</td>\n",
       "      <td>52.0</td>\n",
       "      <td>3.0</td>\n",
       "      <td>313.0</td>\n",
       "      <td>381.0</td>\n",
       "    </tr>\n",
       "    <tr>\n",
       "      <th>946</th>\n",
       "      <td>5</td>\n",
       "      <td>2200000.0</td>\n",
       "      <td>23.00</td>\n",
       "      <td>2016-09-27</td>\n",
       "      <td>0</td>\n",
       "      <td>2.65</td>\n",
       "      <td>27.0</td>\n",
       "      <td>18.00</td>\n",
       "      <td>7</td>\n",
       "      <td>True</td>\n",
       "      <td>...</td>\n",
       "      <td>NaN</td>\n",
       "      <td>2.0</td>\n",
       "      <td>поселок мурино</td>\n",
       "      <td>NaN</td>\n",
       "      <td>NaN</td>\n",
       "      <td>NaN</td>\n",
       "      <td>NaN</td>\n",
       "      <td>NaN</td>\n",
       "      <td>NaN</td>\n",
       "      <td>483.0</td>\n",
       "    </tr>\n",
       "    <tr>\n",
       "      <th>1173</th>\n",
       "      <td>12</td>\n",
       "      <td>3240000.0</td>\n",
       "      <td>29.00</td>\n",
       "      <td>2018-10-30</td>\n",
       "      <td>0</td>\n",
       "      <td>2.65</td>\n",
       "      <td>24.0</td>\n",
       "      <td>17.00</td>\n",
       "      <td>2</td>\n",
       "      <td>True</td>\n",
       "      <td>...</td>\n",
       "      <td>NaN</td>\n",
       "      <td>2.0</td>\n",
       "      <td>санкт-петербург</td>\n",
       "      <td>35129.0</td>\n",
       "      <td>16293.0</td>\n",
       "      <td>0.0</td>\n",
       "      <td>NaN</td>\n",
       "      <td>1.0</td>\n",
       "      <td>475.0</td>\n",
       "      <td>13.0</td>\n",
       "    </tr>\n",
       "    <tr>\n",
       "      <th>...</th>\n",
       "      <td>...</td>\n",
       "      <td>...</td>\n",
       "      <td>...</td>\n",
       "      <td>...</td>\n",
       "      <td>...</td>\n",
       "      <td>...</td>\n",
       "      <td>...</td>\n",
       "      <td>...</td>\n",
       "      <td>...</td>\n",
       "      <td>...</td>\n",
       "      <td>...</td>\n",
       "      <td>...</td>\n",
       "      <td>...</td>\n",
       "      <td>...</td>\n",
       "      <td>...</td>\n",
       "      <td>...</td>\n",
       "      <td>...</td>\n",
       "      <td>...</td>\n",
       "      <td>...</td>\n",
       "      <td>...</td>\n",
       "      <td>...</td>\n",
       "    </tr>\n",
       "    <tr>\n",
       "      <th>22869</th>\n",
       "      <td>0</td>\n",
       "      <td>15000000.0</td>\n",
       "      <td>25.00</td>\n",
       "      <td>2018-07-25</td>\n",
       "      <td>1</td>\n",
       "      <td>100.00</td>\n",
       "      <td>5.0</td>\n",
       "      <td>14.00</td>\n",
       "      <td>5</td>\n",
       "      <td>True</td>\n",
       "      <td>...</td>\n",
       "      <td>11.0</td>\n",
       "      <td>5.0</td>\n",
       "      <td>санкт-петербург</td>\n",
       "      <td>34963.0</td>\n",
       "      <td>8283.0</td>\n",
       "      <td>1.0</td>\n",
       "      <td>223.0</td>\n",
       "      <td>3.0</td>\n",
       "      <td>30.0</td>\n",
       "      <td>19.0</td>\n",
       "    </tr>\n",
       "    <tr>\n",
       "      <th>23363</th>\n",
       "      <td>10</td>\n",
       "      <td>4300000.0</td>\n",
       "      <td>52.00</td>\n",
       "      <td>2019-04-21</td>\n",
       "      <td>1</td>\n",
       "      <td>2.70</td>\n",
       "      <td>16.0</td>\n",
       "      <td>28.00</td>\n",
       "      <td>8</td>\n",
       "      <td>False</td>\n",
       "      <td>...</td>\n",
       "      <td>11.0</td>\n",
       "      <td>5.0</td>\n",
       "      <td>поселок мурино</td>\n",
       "      <td>NaN</td>\n",
       "      <td>NaN</td>\n",
       "      <td>NaN</td>\n",
       "      <td>NaN</td>\n",
       "      <td>NaN</td>\n",
       "      <td>NaN</td>\n",
       "      <td>NaN</td>\n",
       "    </tr>\n",
       "    <tr>\n",
       "      <th>23442</th>\n",
       "      <td>0</td>\n",
       "      <td>2500000.0</td>\n",
       "      <td>27.70</td>\n",
       "      <td>2017-09-28</td>\n",
       "      <td>0</td>\n",
       "      <td>2.65</td>\n",
       "      <td>24.0</td>\n",
       "      <td>18.00</td>\n",
       "      <td>4</td>\n",
       "      <td>True</td>\n",
       "      <td>...</td>\n",
       "      <td>NaN</td>\n",
       "      <td>2.0</td>\n",
       "      <td>поселок мурино</td>\n",
       "      <td>NaN</td>\n",
       "      <td>NaN</td>\n",
       "      <td>NaN</td>\n",
       "      <td>NaN</td>\n",
       "      <td>NaN</td>\n",
       "      <td>NaN</td>\n",
       "      <td>4.0</td>\n",
       "    </tr>\n",
       "    <tr>\n",
       "      <th>23592</th>\n",
       "      <td>10</td>\n",
       "      <td>1450000.0</td>\n",
       "      <td>29.00</td>\n",
       "      <td>2017-11-11</td>\n",
       "      <td>0</td>\n",
       "      <td>2.65</td>\n",
       "      <td>9.0</td>\n",
       "      <td>18.00</td>\n",
       "      <td>8</td>\n",
       "      <td>True</td>\n",
       "      <td>...</td>\n",
       "      <td>NaN</td>\n",
       "      <td>2.0</td>\n",
       "      <td>никольское</td>\n",
       "      <td>NaN</td>\n",
       "      <td>NaN</td>\n",
       "      <td>NaN</td>\n",
       "      <td>NaN</td>\n",
       "      <td>NaN</td>\n",
       "      <td>NaN</td>\n",
       "      <td>82.0</td>\n",
       "    </tr>\n",
       "    <tr>\n",
       "      <th>23637</th>\n",
       "      <td>8</td>\n",
       "      <td>2350000.0</td>\n",
       "      <td>26.00</td>\n",
       "      <td>2018-06-26</td>\n",
       "      <td>0</td>\n",
       "      <td>2.65</td>\n",
       "      <td>25.0</td>\n",
       "      <td>17.00</td>\n",
       "      <td>4</td>\n",
       "      <td>True</td>\n",
       "      <td>...</td>\n",
       "      <td>NaN</td>\n",
       "      <td>2.0</td>\n",
       "      <td>поселок бугры</td>\n",
       "      <td>NaN</td>\n",
       "      <td>NaN</td>\n",
       "      <td>NaN</td>\n",
       "      <td>NaN</td>\n",
       "      <td>NaN</td>\n",
       "      <td>NaN</td>\n",
       "      <td>207.0</td>\n",
       "    </tr>\n",
       "  </tbody>\n",
       "</table>\n",
       "<p>126 rows × 22 columns</p>\n",
       "</div>"
      ],
      "text/plain": [
       "       total_images  last_price  total_area first_day_exposition  rooms  \\\n",
       "144               1   2450000.0       27.00           2017-03-30      0   \n",
       "440               8   2480000.0       27.11           2018-03-12      0   \n",
       "654               6   2750000.0       36.00           2017-04-18      1   \n",
       "946               5   2200000.0       23.00           2016-09-27      0   \n",
       "1173             12   3240000.0       29.00           2018-10-30      0   \n",
       "...             ...         ...         ...                  ...    ...   \n",
       "22869             0  15000000.0       25.00           2018-07-25      1   \n",
       "23363            10   4300000.0       52.00           2019-04-21      1   \n",
       "23442             0   2500000.0       27.70           2017-09-28      0   \n",
       "23592            10   1450000.0       29.00           2017-11-11      0   \n",
       "23637             8   2350000.0       26.00           2018-06-26      0   \n",
       "\n",
       "       ceiling_height  floors_total  living_area  floor  is_apartment  ...  \\\n",
       "144              2.65          24.0        15.50      2          True  ...   \n",
       "440              2.65          17.0        24.75      4          True  ...   \n",
       "654              2.65           5.0        20.50      5          True  ...   \n",
       "946              2.65          27.0        18.00      7          True  ...   \n",
       "1173             2.65          24.0        17.00      2          True  ...   \n",
       "...               ...           ...          ...    ...           ...  ...   \n",
       "22869          100.00           5.0        14.00      5          True  ...   \n",
       "23363            2.70          16.0        28.00      8         False  ...   \n",
       "23442            2.65          24.0        18.00      4          True  ...   \n",
       "23592            2.65           9.0        18.00      8          True  ...   \n",
       "23637            2.65          25.0        17.00      4          True  ...   \n",
       "\n",
       "       kitchen_area  balcony    locality_name  airports_nearest  \\\n",
       "144             NaN      2.0   поселок мурино               NaN   \n",
       "440             NaN      2.0  санкт-петербург           38171.0   \n",
       "654             7.8      4.0        кронштадт           69785.0   \n",
       "946             NaN      2.0   поселок мурино               NaN   \n",
       "1173            NaN      2.0  санкт-петербург           35129.0   \n",
       "...             ...      ...              ...               ...   \n",
       "22869          11.0      5.0  санкт-петербург           34963.0   \n",
       "23363          11.0      5.0   поселок мурино               NaN   \n",
       "23442           NaN      2.0   поселок мурино               NaN   \n",
       "23592           NaN      2.0       никольское               NaN   \n",
       "23637           NaN      2.0    поселок бугры               NaN   \n",
       "\n",
       "      cityCenters_nearest  parks_around3000  parks_nearest  ponds_around3000  \\\n",
       "144                   NaN               NaN            NaN               NaN   \n",
       "440               15015.0               0.0            NaN               2.0   \n",
       "654               51511.0               2.0           52.0               3.0   \n",
       "946                   NaN               NaN            NaN               NaN   \n",
       "1173              16293.0               0.0            NaN               1.0   \n",
       "...                   ...               ...            ...               ...   \n",
       "22869              8283.0               1.0          223.0               3.0   \n",
       "23363                 NaN               NaN            NaN               NaN   \n",
       "23442                 NaN               NaN            NaN               NaN   \n",
       "23592                 NaN               NaN            NaN               NaN   \n",
       "23637                 NaN               NaN            NaN               NaN   \n",
       "\n",
       "       ponds_nearest  days_exposition  \n",
       "144              NaN            181.0  \n",
       "440            982.0             64.0  \n",
       "654            313.0            381.0  \n",
       "946              NaN            483.0  \n",
       "1173           475.0             13.0  \n",
       "...              ...              ...  \n",
       "22869           30.0             19.0  \n",
       "23363            NaN              NaN  \n",
       "23442            NaN              4.0  \n",
       "23592            NaN             82.0  \n",
       "23637            NaN            207.0  \n",
       "\n",
       "[126 rows x 22 columns]"
      ]
     },
     "execution_count": 33,
     "metadata": {},
     "output_type": "execute_result"
    }
   ],
   "source": [
    "kitchen = 1# указываем переменую где кухня идет еще как 1 комната\n",
    "data.loc[data['balcony'] > data['rooms']*2 + kitchen]"
   ]
  },
  {
   "cell_type": "markdown",
   "metadata": {},
   "source": [
    "Видим, что строки, где количество балконов превышает количество комнат + кухня есть, а это значит, что их нужно заменить, чтоб они не искажали данные."
   ]
  },
  {
   "cell_type": "code",
   "execution_count": 34,
   "metadata": {},
   "outputs": [],
   "source": [
    "data.loc[data['balcony'] > data['rooms']*2 + kitchen, 'balcony'] = data['balcony'].median()"
   ]
  },
  {
   "cell_type": "markdown",
   "metadata": {},
   "source": [
    "Проверим еще раз, этихне должно остаться"
   ]
  },
  {
   "cell_type": "code",
   "execution_count": 35,
   "metadata": {},
   "outputs": [
    {
     "data": {
      "text/html": [
       "<div>\n",
       "<style scoped>\n",
       "    .dataframe tbody tr th:only-of-type {\n",
       "        vertical-align: middle;\n",
       "    }\n",
       "\n",
       "    .dataframe tbody tr th {\n",
       "        vertical-align: top;\n",
       "    }\n",
       "\n",
       "    .dataframe thead th {\n",
       "        text-align: right;\n",
       "    }\n",
       "</style>\n",
       "<table border=\"1\" class=\"dataframe\">\n",
       "  <thead>\n",
       "    <tr style=\"text-align: right;\">\n",
       "      <th></th>\n",
       "      <th>total_images</th>\n",
       "      <th>last_price</th>\n",
       "      <th>total_area</th>\n",
       "      <th>first_day_exposition</th>\n",
       "      <th>rooms</th>\n",
       "      <th>ceiling_height</th>\n",
       "      <th>floors_total</th>\n",
       "      <th>living_area</th>\n",
       "      <th>floor</th>\n",
       "      <th>is_apartment</th>\n",
       "      <th>...</th>\n",
       "      <th>kitchen_area</th>\n",
       "      <th>balcony</th>\n",
       "      <th>locality_name</th>\n",
       "      <th>airports_nearest</th>\n",
       "      <th>cityCenters_nearest</th>\n",
       "      <th>parks_around3000</th>\n",
       "      <th>parks_nearest</th>\n",
       "      <th>ponds_around3000</th>\n",
       "      <th>ponds_nearest</th>\n",
       "      <th>days_exposition</th>\n",
       "    </tr>\n",
       "  </thead>\n",
       "  <tbody>\n",
       "  </tbody>\n",
       "</table>\n",
       "<p>0 rows × 22 columns</p>\n",
       "</div>"
      ],
      "text/plain": [
       "Empty DataFrame\n",
       "Columns: [total_images, last_price, total_area, first_day_exposition, rooms, ceiling_height, floors_total, living_area, floor, is_apartment, studio, open_plan, kitchen_area, balcony, locality_name, airports_nearest, cityCenters_nearest, parks_around3000, parks_nearest, ponds_around3000, ponds_nearest, days_exposition]\n",
       "Index: []\n",
       "\n",
       "[0 rows x 22 columns]"
      ]
     },
     "execution_count": 35,
     "metadata": {},
     "output_type": "execute_result"
    }
   ],
   "source": [
    "data.loc[data['balcony'] > data['rooms']*2 + kitchen]"
   ]
  },
  {
   "cell_type": "markdown",
   "metadata": {},
   "source": [
    "Теперь заполним пропуски в значениях на \"0\""
   ]
  },
  {
   "cell_type": "code",
   "execution_count": 36,
   "metadata": {},
   "outputs": [],
   "source": [
    "data['balcony'] = data['balcony'].fillna(0)"
   ]
  },
  {
   "cell_type": "code",
   "execution_count": 37,
   "metadata": {},
   "outputs": [
    {
     "name": "stdout",
     "output_type": "stream",
     "text": [
      "Кухня занимает пройент от общей площади: 0.175\n",
      "Жилая площадь занимает пройент от общей площади: 0.5769230769230769\n"
     ]
    }
   ],
   "source": [
    "med_living = data['living_area'].median() #находим медиану жилой площади\n",
    "med_kitchen = data['kitchen_area'].median() #находим медиану  кухонной площади\n",
    "meadian_total_area = data['total_area'].median() #находим медиану общей площади\n",
    "ratio_area_kitcen =  med_kitchen/meadian_total_area # получаем соотношение1\n",
    "print('Кухня занимает пройент от общей площади:', ratio_area_kitcen)\n",
    "ratio_area_living =  med_living/meadian_total_area # получаем соотношение2\n",
    "print('Жилая площадь занимает пройент от общей площади:',ratio_area_living)\n",
    "\n",
    "\n",
    "\n"
   ]
  },
  {
   "cell_type": "code",
   "execution_count": 38,
   "metadata": {},
   "outputs": [],
   "source": [
    "data['kitchen_area'] = data['kitchen_area'].fillna(data['total_area']*ratio_area_kitcen)\n",
    "data['living_area'] = data['living_area'].fillna(data['total_area']*ratio_area_living)\n",
    "# пропущенные значения заполняем произведениемобщей площади и соотношения "
   ]
  },
  {
   "cell_type": "markdown",
   "metadata": {},
   "source": [
    "Столбцы 'airports_nearest',        'parks_nearest', 'ponds_nearest'    и          'cityCenters_nearest' оставим без заполнения пропусков, а пропуски в столбах 'ponds_around3000',         'parks_around3000' можно заполнить '0', так как скорее всего, данные не заполнены, потому что парков в радиусе 3 км нет."
   ]
  },
  {
   "cell_type": "code",
   "execution_count": 39,
   "metadata": {},
   "outputs": [],
   "source": [
    "data['ponds_around3000'] = data['ponds_around3000'].fillna(0)\n",
    "data['parks_around3000'] = data['parks_around3000'].fillna(0)"
   ]
  },
  {
   "cell_type": "code",
   "execution_count": 40,
   "metadata": {},
   "outputs": [],
   "source": [
    "data['balcony'] = data['balcony'].astype('int')"
   ]
  },
  {
   "cell_type": "code",
   "execution_count": 41,
   "metadata": {},
   "outputs": [],
   "source": [
    "data['ponds_around3000'] = data['ponds_around3000'].astype('int')\n",
    "data['parks_around3000'] = data['parks_around3000'].astype('int')"
   ]
  },
  {
   "cell_type": "code",
   "execution_count": 42,
   "metadata": {},
   "outputs": [],
   "source": [
    "data['floors_total'] = data['floors_total'].astype('int')"
   ]
  },
  {
   "cell_type": "code",
   "execution_count": 43,
   "metadata": {},
   "outputs": [],
   "source": [
    "data['days_exposition'] = data['days_exposition'].fillna(data['days_exposition'].median()).astype('int')"
   ]
  },
  {
   "cell_type": "markdown",
   "metadata": {},
   "source": [
    "Обратимся к методу 'info', чтоб проверить, что нам еще осталось заполнить."
   ]
  },
  {
   "cell_type": "code",
   "execution_count": 44,
   "metadata": {},
   "outputs": [
    {
     "name": "stdout",
     "output_type": "stream",
     "text": [
      "<class 'pandas.core.frame.DataFrame'>\n",
      "RangeIndex: 23699 entries, 0 to 23698\n",
      "Data columns (total 22 columns):\n",
      " #   Column                Non-Null Count  Dtype         \n",
      "---  ------                --------------  -----         \n",
      " 0   total_images          23699 non-null  int64         \n",
      " 1   last_price            23699 non-null  float64       \n",
      " 2   total_area            23699 non-null  float64       \n",
      " 3   first_day_exposition  23699 non-null  datetime64[ns]\n",
      " 4   rooms                 23699 non-null  int64         \n",
      " 5   ceiling_height        23699 non-null  float64       \n",
      " 6   floors_total          23699 non-null  int64         \n",
      " 7   living_area           23699 non-null  float64       \n",
      " 8   floor                 23699 non-null  int64         \n",
      " 9   is_apartment          23699 non-null  bool          \n",
      " 10  studio                23699 non-null  bool          \n",
      " 11  open_plan             23699 non-null  bool          \n",
      " 12  kitchen_area          23699 non-null  float64       \n",
      " 13  balcony               23699 non-null  int64         \n",
      " 14  locality_name         23650 non-null  object        \n",
      " 15  airports_nearest      18157 non-null  float64       \n",
      " 16  cityCenters_nearest   18180 non-null  float64       \n",
      " 17  parks_around3000      23699 non-null  int64         \n",
      " 18  parks_nearest         8079 non-null   float64       \n",
      " 19  ponds_around3000      23699 non-null  int64         \n",
      " 20  ponds_nearest         9110 non-null   float64       \n",
      " 21  days_exposition       23699 non-null  int64         \n",
      "dtypes: bool(3), datetime64[ns](1), float64(9), int64(8), object(1)\n",
      "memory usage: 3.5+ MB\n"
     ]
    }
   ],
   "source": [
    "data.info()"
   ]
  },
  {
   "cell_type": "markdown",
   "metadata": {},
   "source": [
    "Столбец 'days_exposition'. У нас есть все данные о первом дне публикации объявления, но к сожалению, нет данных о последнем дне. Поэтому пропуски в этом столбе мы заполнить не сможем. Есть предположения, что эти объявления до сих пор могут оставаться, но данные в датасете достаточно устаревшие, поэтому нужно бы разобраться, все ли ок с выгрузкой."
   ]
  },
  {
   "cell_type": "markdown",
   "metadata": {},
   "source": [
    "<strong>Вывод: </strong><p>В датасете часть столбцов оказались с пропущенными значениями. Все, где это возможно исправить, было сделанно.После предобработки с данными уже можно работать. По мере возникновения задач, можно возвращаться в блок с предобработкой и дорабатывать пропуски в недостающих значениях</p>"
   ]
  },
  {
   "cell_type": "markdown",
   "metadata": {},
   "source": [
    "### Посчитайте и добавьте в таблицу новые столбцы"
   ]
  },
  {
   "cell_type": "markdown",
   "metadata": {},
   "source": [
    "1.Добавим столбец с ценой квадратного метра"
   ]
  },
  {
   "cell_type": "code",
   "execution_count": 45,
   "metadata": {},
   "outputs": [],
   "source": [
    "data['cost_per_square'] = data['last_price']/data['total_area']"
   ]
  },
  {
   "cell_type": "markdown",
   "metadata": {},
   "source": [
    "2.Добавим столбец дня недели публикации"
   ]
  },
  {
   "cell_type": "code",
   "execution_count": 46,
   "metadata": {},
   "outputs": [],
   "source": [
    "data['weekday'] = data['first_day_exposition'].dt.weekday"
   ]
  },
  {
   "cell_type": "markdown",
   "metadata": {},
   "source": [
    "3.Добавим столбец месяц публикации объявления"
   ]
  },
  {
   "cell_type": "code",
   "execution_count": 47,
   "metadata": {},
   "outputs": [],
   "source": [
    "data['month'] = data['first_day_exposition'].astype('datetime64[M]')"
   ]
  },
  {
   "cell_type": "markdown",
   "metadata": {},
   "source": [
    "4.Добавим столбец год публикации объявления"
   ]
  },
  {
   "cell_type": "code",
   "execution_count": 48,
   "metadata": {},
   "outputs": [],
   "source": [
    "data['year'] = pd.DatetimeIndex(data['first_day_exposition']).year"
   ]
  },
  {
   "cell_type": "code",
   "execution_count": 49,
   "metadata": {},
   "outputs": [
    {
     "data": {
      "text/plain": [
       "0       2019-03-01\n",
       "1       2018-12-01\n",
       "2       2015-08-01\n",
       "3       2015-07-01\n",
       "4       2018-06-01\n",
       "           ...    \n",
       "23694   2017-03-01\n",
       "23695   2018-01-01\n",
       "23696   2018-02-01\n",
       "23697   2017-03-01\n",
       "23698   2017-07-01\n",
       "Name: month, Length: 23699, dtype: datetime64[ns]"
      ]
     },
     "execution_count": 49,
     "metadata": {},
     "output_type": "execute_result"
    }
   ],
   "source": [
    "data['month']"
   ]
  },
  {
   "cell_type": "markdown",
   "metadata": {},
   "source": [
    "5.Добавим столбец тип этажа"
   ]
  },
  {
   "cell_type": "code",
   "execution_count": 50,
   "metadata": {},
   "outputs": [],
   "source": [
    "def floor_group(row):\n",
    "    if row['floor'] == 1:\n",
    "        return 'первый'\n",
    "    elif row['floor'] == row['floors_total']:\n",
    "        return 'последний'\n",
    "    else:\n",
    "        return 'другой'\n",
    "data['floor_type'] = data.apply(floor_group, axis=1)"
   ]
  },
  {
   "cell_type": "markdown",
   "metadata": {},
   "source": [
    "6.Добавим столбец c расстоянием в км с огруглением до целого числа"
   ]
  },
  {
   "cell_type": "code",
   "execution_count": 51,
   "metadata": {},
   "outputs": [],
   "source": [
    "data['distantion'] = (data['cityCenters_nearest']/1000).round()"
   ]
  },
  {
   "cell_type": "markdown",
   "metadata": {},
   "source": [
    "### Проведите исследовательский анализ данных"
   ]
  },
  {
   "cell_type": "markdown",
   "metadata": {},
   "source": [
    "<strong>Общая площадь</strong>"
   ]
  },
  {
   "cell_type": "code",
   "execution_count": 98,
   "metadata": {},
   "outputs": [
    {
     "data": {
      "text/plain": [
       "<AxesSubplot:>"
      ]
     },
     "execution_count": 98,
     "metadata": {},
     "output_type": "execute_result"
    },
    {
     "data": {
      "image/png": "[encoded data removed]",
      "text/plain": [
       "<Figure size 432x288 with 1 Axes>"
      ]
     },
     "metadata": {
      "needs_background": "light"
     },
     "output_type": "display_data"
    }
   ],
   "source": [
    "data['total_area'].hist(bins = 50,range=(0, 300))"
   ]
  },
  {
   "cell_type": "code",
   "execution_count": 53,
   "metadata": {},
   "outputs": [
    {
     "name": "stdout",
     "output_type": "stream",
     "text": [
      "Топ 10 объявлений с самой распространенной площадью:\n",
      "45.0    419\n",
      "42.0    383\n",
      "60.0    347\n",
      "31.0    346\n",
      "44.0    345\n",
      "40.0    315\n",
      "43.0    301\n",
      "32.0    289\n",
      "46.0    282\n",
      "36.0    280\n",
      "Name: total_area, dtype: int64\n"
     ]
    }
   ],
   "source": [
    "print('Топ 10 объявлений с самой распространенной площадью:')\n",
    "print(data['total_area'].value_counts().sort_values(ascending = False).head(10))"
   ]
  },
  {
   "cell_type": "markdown",
   "metadata": {},
   "source": [
    "Более 4000 объявлений с квартирами, где общая площать составляет от 40 - 50 кв. метров. Далее идет 30-40 кв. метров, потом от 50-70."
   ]
  },
  {
   "cell_type": "markdown",
   "metadata": {},
   "source": [
    "<strong>Жилая площадь</strong>"
   ]
  },
  {
   "cell_type": "code",
   "execution_count": 54,
   "metadata": {},
   "outputs": [
    {
     "data": {
      "text/plain": [
       "<AxesSubplot:>"
      ]
     },
     "execution_count": 54,
     "metadata": {},
     "output_type": "execute_result"
    },
    {
     "data": {
      "image/png": "[encoded data removed]",
      "text/plain": [
       "<Figure size 432x288 with 1 Axes>"
      ]
     },
     "metadata": {
      "needs_background": "light"
     },
     "output_type": "display_data"
    }
   ],
   "source": [
    "data['living_area'].hist(bins = 50,range=(0, 200))"
   ]
  },
  {
   "cell_type": "code",
   "execution_count": 55,
   "metadata": {},
   "outputs": [
    {
     "name": "stdout",
     "output_type": "stream",
     "text": [
      "Топ 10 объявлений с самой распространенной жилой площадью:\n",
      "18.0    882\n",
      "17.0    675\n",
      "30.0    598\n",
      "16.0    486\n",
      "20.0    481\n",
      "28.0    423\n",
      "31.0    381\n",
      "19.0    329\n",
      "32.0    320\n",
      "29.0    319\n",
      "Name: living_area, dtype: int64\n"
     ]
    }
   ],
   "source": [
    "print('Топ 10 объявлений с самой распространенной жилой площадью:')\n",
    "print(data['living_area'].value_counts().sort_values(ascending = False).head(10))"
   ]
  },
  {
   "cell_type": "markdown",
   "metadata": {},
   "source": [
    "Среди этих  квартир, больше всего объявлений , где жилая площадь составляет от 15-25 кв. метров. Далее от 25 - 40 кв. метров."
   ]
  },
  {
   "cell_type": "markdown",
   "metadata": {},
   "source": [
    "<strong>Кухонная площадь</strong>"
   ]
  },
  {
   "cell_type": "code",
   "execution_count": 56,
   "metadata": {},
   "outputs": [
    {
     "data": {
      "text/plain": [
       "<AxesSubplot:>"
      ]
     },
     "execution_count": 56,
     "metadata": {},
     "output_type": "execute_result"
    },
    {
     "data": {
      "image/png": "[encoded data removed]",
      "text/plain": [
       "<Figure size 432x288 with 1 Axes>"
      ]
     },
     "metadata": {
      "needs_background": "light"
     },
     "output_type": "display_data"
    }
   ],
   "source": [
    "data['kitchen_area'].hist(bins = 50,range=(0, 60))"
   ]
  },
  {
   "cell_type": "code",
   "execution_count": 57,
   "metadata": {},
   "outputs": [
    {
     "name": "stdout",
     "output_type": "stream",
     "text": [
      "Топ 10 объявлений с самой распространенной кухонной площадью:\n",
      "6.0     1300\n",
      "10.0    1262\n",
      "8.0     1110\n",
      "9.0     1101\n",
      "7.0     1095\n",
      "11.0     797\n",
      "12.0     662\n",
      "8.5      415\n",
      "5.5      400\n",
      "14.0     395\n",
      "Name: kitchen_area, dtype: int64\n"
     ]
    }
   ],
   "source": [
    "print('Топ 10 объявлений с самой распространенной кухонной площадью:')\n",
    "print(data['kitchen_area'].value_counts().sort_values(ascending = False).head(10))"
   ]
  },
  {
   "cell_type": "markdown",
   "metadata": {},
   "source": [
    "Больше всего объявлений, с кухонной площадью от 5-15 кв. метров.Далее виден значительный спад объявлений, где кухонная площадь больше 15 кв. метров."
   ]
  },
  {
   "cell_type": "markdown",
   "metadata": {},
   "source": [
    "<strong>Цена объекта</strong>"
   ]
  },
  {
   "cell_type": "code",
   "execution_count": 58,
   "metadata": {},
   "outputs": [
    {
     "data": {
      "text/plain": [
       "<AxesSubplot:>"
      ]
     },
     "execution_count": 58,
     "metadata": {},
     "output_type": "execute_result"
    },
    {
     "data": {
      "image/png": "[encoded data removed]",
      "text/plain": [
       "<Figure size 432x288 with 1 Axes>"
      ]
     },
     "metadata": {
      "needs_background": "light"
     },
     "output_type": "display_data"
    }
   ],
   "source": [
    "data['last_price'].hist(bins = 50, range =(0,20000000))"
   ]
  },
  {
   "cell_type": "code",
   "execution_count": 59,
   "metadata": {},
   "outputs": [
    {
     "name": "stdout",
     "output_type": "stream",
     "text": [
      "Топ 10 объявлений с самой распространенной ценой:\n",
      "4500000.0    342\n",
      "3500000.0    291\n",
      "4000000.0    260\n",
      "4300000.0    260\n",
      "4200000.0    259\n",
      "3600000.0    257\n",
      "3300000.0    244\n",
      "3800000.0    240\n",
      "3200000.0    238\n",
      "3700000.0    234\n",
      "Name: last_price, dtype: int64\n"
     ]
    }
   ],
   "source": [
    "print('Топ 10 объявлений с самой распространенной ценой:')\n",
    "print(data['last_price'].value_counts().sort_values(ascending = False).head(10))"
   ]
  },
  {
   "cell_type": "markdown",
   "metadata": {},
   "source": [
    "Больше всего объявлений с ценой от 3 500 000 до 4 500 000 руб."
   ]
  },
  {
   "cell_type": "markdown",
   "metadata": {},
   "source": [
    "<strong>Количество комнат</strong>"
   ]
  },
  {
   "cell_type": "code",
   "execution_count": 60,
   "metadata": {},
   "outputs": [
    {
     "data": {
      "text/plain": [
       "<AxesSubplot:>"
      ]
     },
     "execution_count": 60,
     "metadata": {},
     "output_type": "execute_result"
    },
    {
     "data": {
      "image/png": "[encoded data removed]",
      "text/plain": [
       "<Figure size 432x288 with 1 Axes>"
      ]
     },
     "metadata": {
      "needs_background": "light"
     },
     "output_type": "display_data"
    }
   ],
   "source": [
    "data['rooms'].hist(bins = 10,range=(0, 10))"
   ]
  },
  {
   "cell_type": "code",
   "execution_count": 61,
   "metadata": {},
   "outputs": [
    {
     "name": "stdout",
     "output_type": "stream",
     "text": [
      "Топ 10 объявлений с самым распространенным кол-вом комнат:\n",
      "1    8047\n",
      "2    7940\n",
      "3    5814\n",
      "4    1180\n",
      "5     326\n",
      "0     197\n",
      "6     105\n",
      "7      59\n",
      "8      12\n",
      "9       8\n",
      "Name: rooms, dtype: int64\n"
     ]
    }
   ],
   "source": [
    "print('Топ 10 объявлений с самым распространенным кол-вом комнат:')\n",
    "print(data['rooms'].value_counts().sort_values(ascending = False).head(10))"
   ]
  },
  {
   "cell_type": "markdown",
   "metadata": {},
   "source": [
    "Больше всего объявлений квартир с 1- комнатой, потом идет 2, далее 3."
   ]
  },
  {
   "cell_type": "markdown",
   "metadata": {},
   "source": [
    "<strong>Высота потолков</strong>"
   ]
  },
  {
   "cell_type": "code",
   "execution_count": 62,
   "metadata": {},
   "outputs": [
    {
     "data": {
      "text/plain": [
       "<AxesSubplot:>"
      ]
     },
     "execution_count": 62,
     "metadata": {},
     "output_type": "execute_result"
    },
    {
     "data": {
      "image/png": "[encoded data removed]",
      "text/plain": [
       "<Figure size 432x288 with 1 Axes>"
      ]
     },
     "metadata": {
      "needs_background": "light"
     },
     "output_type": "display_data"
    }
   ],
   "source": [
    "data['ceiling_height'].hist(bins = 20,range=(2, 4))"
   ]
  },
  {
   "cell_type": "code",
   "execution_count": 63,
   "metadata": {},
   "outputs": [
    {
     "name": "stdout",
     "output_type": "stream",
     "text": [
      "Топ 10 объявлений с самой распространенной высотой потолков:\n",
      "2.65    9949\n",
      "2.50    3522\n",
      "2.60    1647\n",
      "2.70    1582\n",
      "3.00    1112\n",
      "2.80     993\n",
      "2.55     980\n",
      "2.75     911\n",
      "3.20     279\n",
      "3.10     203\n",
      "Name: ceiling_height, dtype: int64\n"
     ]
    }
   ],
   "source": [
    "print('Топ 10 объявлений с самой распространенной высотой потолков:')\n",
    "print(data['ceiling_height'].value_counts().sort_values(ascending = False).head(10))"
   ]
  },
  {
   "cell_type": "markdown",
   "metadata": {},
   "source": [
    "Больше всего объявлений квратир, где высота потолка 2,65 метров. Далее идет высота 2,5 метров, после 2,6."
   ]
  },
  {
   "cell_type": "markdown",
   "metadata": {},
   "source": [
    "<strong>Этаж квартиры</strong>"
   ]
  },
  {
   "cell_type": "code",
   "execution_count": 64,
   "metadata": {},
   "outputs": [
    {
     "data": {
      "text/plain": [
       "<AxesSubplot:>"
      ]
     },
     "execution_count": 64,
     "metadata": {},
     "output_type": "execute_result"
    },
    {
     "data": {
      "image/png": "[encoded data removed]",
      "text/plain": [
       "<Figure size 432x288 with 1 Axes>"
      ]
     },
     "metadata": {
      "needs_background": "light"
     },
     "output_type": "display_data"
    }
   ],
   "source": [
    "data['floor'].hist(bins = 40,range=(0, 40))"
   ]
  },
  {
   "cell_type": "code",
   "execution_count": 65,
   "metadata": {},
   "outputs": [
    {
     "name": "stdout",
     "output_type": "stream",
     "text": [
      "Топ 10 объявлений с самым распространенным числом этажей:\n",
      "2     3368\n",
      "3     3073\n",
      "1     2917\n",
      "4     2804\n",
      "5     2621\n",
      "6     1305\n",
      "7     1218\n",
      "8     1083\n",
      "9     1051\n",
      "10     687\n",
      "Name: floor, dtype: int64\n"
     ]
    }
   ],
   "source": [
    "print('Топ 10 объявлений с самым распространенным числом этажей:')\n",
    "print(data['floor'].value_counts().sort_values(ascending = False).head(10))"
   ]
  },
  {
   "cell_type": "markdown",
   "metadata": {},
   "source": [
    "Больше всего объявлений квартир со 2-го этажа, далее идет 3-й и только потом 1-ый."
   ]
  },
  {
   "cell_type": "markdown",
   "metadata": {},
   "source": [
    "<strong>Тип этажа квартиры</strong>"
   ]
  },
  {
   "cell_type": "code",
   "execution_count": 66,
   "metadata": {},
   "outputs": [
    {
     "data": {
      "text/plain": [
       "<AxesSubplot:>"
      ]
     },
     "execution_count": 66,
     "metadata": {},
     "output_type": "execute_result"
    },
    {
     "data": {
      "image/png": "[encoded data removed]",
      "text/plain": [
       "<Figure size 432x288 with 1 Axes>"
      ]
     },
     "metadata": {
      "needs_background": "light"
     },
     "output_type": "display_data"
    }
   ],
   "source": [
    "data['floor_type'].hist(bins = 9)"
   ]
  },
  {
   "cell_type": "code",
   "execution_count": 67,
   "metadata": {},
   "outputs": [
    {
     "name": "stdout",
     "output_type": "stream",
     "text": [
      "Топ 3 объявлений квратир с типом эатажа:\n",
      "другой       17363\n",
      "последний     3419\n",
      "первый        2917\n",
      "Name: floor_type, dtype: int64\n"
     ]
    }
   ],
   "source": [
    "print('Топ 3 объявлений квратир с типом эатажа:')\n",
    "print(data['floor_type'].value_counts().sort_values(ascending = False).head(10))"
   ]
  },
  {
   "cell_type": "markdown",
   "metadata": {},
   "source": [
    "Объявлений с продажей квартиры на последнем этаже примерно на 500 больше, чем на первом. Объявлений не на первом и не на последнем 17363."
   ]
  },
  {
   "cell_type": "markdown",
   "metadata": {},
   "source": [
    "<strong>Общее количество этажей в доме</strong>"
   ]
  },
  {
   "cell_type": "code",
   "execution_count": 68,
   "metadata": {},
   "outputs": [
    {
     "data": {
      "text/plain": [
       "<AxesSubplot:>"
      ]
     },
     "execution_count": 68,
     "metadata": {},
     "output_type": "execute_result"
    },
    {
     "data": {
      "image/png": "[encoded data removed]",
      "text/plain": [
       "<Figure size 432x288 with 1 Axes>"
      ]
     },
     "metadata": {
      "needs_background": "light"
     },
     "output_type": "display_data"
    }
   ],
   "source": [
    "data['floors_total'].hist(bins = 36)"
   ]
  },
  {
   "cell_type": "code",
   "execution_count": 69,
   "metadata": {},
   "outputs": [
    {
     "name": "stdout",
     "output_type": "stream",
     "text": [
      "Топ 10 объявлений с самым распространенным числом этажей в доме:\n",
      "5     5792\n",
      "9     3768\n",
      "16    1376\n",
      "12    1368\n",
      "4     1210\n",
      "10    1177\n",
      "25    1075\n",
      "6      923\n",
      "17     834\n",
      "3      672\n",
      "Name: floors_total, dtype: int64\n"
     ]
    }
   ],
   "source": [
    "print('Топ 10 объявлений с самым распространенным числом этажей в доме:')\n",
    "print(data['floors_total'].value_counts().sort_values(ascending = False).head(10))"
   ]
  },
  {
   "cell_type": "markdown",
   "metadata": {},
   "source": [
    "Больше всего объявлений с домами, где 5 этажей. Далее идет 9 этажей, потом 16."
   ]
  },
  {
   "cell_type": "markdown",
   "metadata": {},
   "source": [
    "<strong>Расстояние до центра города в метрах</strong>"
   ]
  },
  {
   "cell_type": "code",
   "execution_count": 70,
   "metadata": {},
   "outputs": [
    {
     "data": {
      "text/plain": [
       "<AxesSubplot:>"
      ]
     },
     "execution_count": 70,
     "metadata": {},
     "output_type": "execute_result"
    },
    {
     "data": {
      "image/png": "[encoded data removed]",
      "text/plain": [
       "<Figure size 432x288 with 1 Axes>"
      ]
     },
     "metadata": {
      "needs_background": "light"
     },
     "output_type": "display_data"
    }
   ],
   "source": [
    "data['cityCenters_nearest'].hist(bins = 100)"
   ]
  },
  {
   "cell_type": "code",
   "execution_count": 71,
   "metadata": {},
   "outputs": [
    {
     "name": "stdout",
     "output_type": "stream",
     "text": [
      "Топ 10 объявлений с самым распространенным расстоянием до центра:\n",
      "8460.0     61\n",
      "20802.0    32\n",
      "10720.0    30\n",
      "8434.0     27\n",
      "20444.0    27\n",
      "10364.0    26\n",
      "8370.0     26\n",
      "4836.0     25\n",
      "17369.0    24\n",
      "13056.0    23\n",
      "Name: cityCenters_nearest, dtype: int64\n"
     ]
    }
   ],
   "source": [
    "print('Топ 10 объявлений с самым распространенным расстоянием до центра:')\n",
    "print(data['cityCenters_nearest'].value_counts().sort_values(ascending = False).head(10))"
   ]
  },
  {
   "cell_type": "markdown",
   "metadata": {},
   "source": [
    "Больше всего объявлений квартир, нахолдящихся в радиусе 15 км от центра города"
   ]
  },
  {
   "cell_type": "markdown",
   "metadata": {},
   "source": [
    "<strong>Расстояние до ближайшего аэропорта</strong>"
   ]
  },
  {
   "cell_type": "code",
   "execution_count": 72,
   "metadata": {},
   "outputs": [
    {
     "data": {
      "text/plain": [
       "<AxesSubplot:>"
      ]
     },
     "execution_count": 72,
     "metadata": {},
     "output_type": "execute_result"
    },
    {
     "data": {
      "image/png": "[encoded data removed]",
      "text/plain": [
       "<Figure size 432x288 with 1 Axes>"
      ]
     },
     "metadata": {
      "needs_background": "light"
     },
     "output_type": "display_data"
    }
   ],
   "source": [
    "data['airports_nearest'].hist(bins = 50)"
   ]
  },
  {
   "cell_type": "code",
   "execution_count": 73,
   "metadata": {},
   "outputs": [
    {
     "name": "stdout",
     "output_type": "stream",
     "text": [
      "Топ 10 объявлений с самым распространенным расстоянием до аэропорта:\n",
      "37434.0    61\n",
      "21928.0    32\n",
      "39946.0    30\n",
      "44870.0    30\n",
      "18732.0    27\n",
      "37407.0    27\n",
      "39140.0    26\n",
      "31744.0    25\n",
      "37412.0    24\n",
      "47303.0    23\n",
      "Name: airports_nearest, dtype: int64\n"
     ]
    }
   ],
   "source": [
    "print('Топ 10 объявлений с самым распространенным расстоянием до аэропорта:')\n",
    "print(data['airports_nearest'].value_counts().sort_values(ascending = False).head(10))"
   ]
  },
  {
   "cell_type": "markdown",
   "metadata": {},
   "source": [
    "Больше всего объявлений квартир, нахолдящихся в радиусе 23 км от аэропорта."
   ]
  },
  {
   "cell_type": "markdown",
   "metadata": {},
   "source": [
    "<strong>Расстояние до ближайшего парка</strong>"
   ]
  },
  {
   "cell_type": "code",
   "execution_count": 74,
   "metadata": {},
   "outputs": [
    {
     "data": {
      "text/plain": [
       "<AxesSubplot:>"
      ]
     },
     "execution_count": 74,
     "metadata": {},
     "output_type": "execute_result"
    },
    {
     "data": {
      "image/png": "[encoded data removed]",
      "text/plain": [
       "<Figure size 432x288 with 1 Axes>"
      ]
     },
     "metadata": {
      "needs_background": "light"
     },
     "output_type": "display_data"
    }
   ],
   "source": [
    "data['parks_nearest'].hist(bins = 50)"
   ]
  },
  {
   "cell_type": "code",
   "execution_count": 75,
   "metadata": {},
   "outputs": [
    {
     "name": "stdout",
     "output_type": "stream",
     "text": [
      "Топ 10 объявлений с самым распространенным расстоянием до парка:\n",
      "441.0     67\n",
      "173.0     41\n",
      "392.0     41\n",
      "456.0     40\n",
      "471.0     32\n",
      "2102.0    30\n",
      "458.0     29\n",
      "541.0     29\n",
      "447.0     28\n",
      "288.0     28\n",
      "Name: parks_nearest, dtype: int64\n"
     ]
    }
   ],
   "source": [
    "print('Топ 10 объявлений с самым распространенным расстоянием до парка:')\n",
    "print(data['parks_nearest'].value_counts().sort_values(ascending = False).head(10))"
   ]
  },
  {
   "cell_type": "markdown",
   "metadata": {},
   "source": [
    "Больше всего объявлений квартир, нахолдящихся в радиусе 0,5 км от парка. Далее в 0,75 км."
   ]
  },
  {
   "cell_type": "markdown",
   "metadata": {},
   "source": [
    "<strong>День и месяц публикации объявления</strong>"
   ]
  },
  {
   "cell_type": "code",
   "execution_count": 76,
   "metadata": {},
   "outputs": [
    {
     "data": {
      "text/plain": [
       "<AxesSubplot:>"
      ]
     },
     "execution_count": 76,
     "metadata": {},
     "output_type": "execute_result"
    },
    {
     "data": {
      "image/png": "[encoded data removed]",
      "text/plain": [
       "<Figure size 432x288 with 1 Axes>"
      ]
     },
     "metadata": {
      "needs_background": "light"
     },
     "output_type": "display_data"
    }
   ],
   "source": [
    "data['weekday'].hist(bins = 50)"
   ]
  },
  {
   "cell_type": "code",
   "execution_count": 77,
   "metadata": {},
   "outputs": [
    {
     "name": "stdout",
     "output_type": "stream",
     "text": [
      "Топ 7 объявлений с самым распространенным днем публикации:\n",
      "3    4295\n",
      "1    4183\n",
      "4    4000\n",
      "2    3974\n",
      "0    3612\n",
      "5    1936\n",
      "6    1699\n",
      "Name: weekday, dtype: int64\n"
     ]
    }
   ],
   "source": [
    "print('Топ 7 объявлений с самым распространенным днем публикации:')\n",
    "print(data['weekday'].value_counts().sort_values(ascending = False).head(10))"
   ]
  },
  {
   "cell_type": "markdown",
   "metadata": {},
   "source": [
    "Больше всего объявлений было выложенно в четверг, затем идет вторник и пятница. Меньше всего объявлений было выложенно в всокресенье"
   ]
  },
  {
   "cell_type": "code",
   "execution_count": 78,
   "metadata": {
    "scrolled": true
   },
   "outputs": [
    {
     "data": {
      "text/plain": [
       "<AxesSubplot:>"
      ]
     },
     "execution_count": 78,
     "metadata": {},
     "output_type": "execute_result"
    },
    {
     "data": {
      "image/png": "[encoded data removed]",
      "text/plain": [
       "<Figure size 432x288 with 1 Axes>"
      ]
     },
     "metadata": {
      "needs_background": "light"
     },
     "output_type": "display_data"
    }
   ],
   "source": [
    "data['month'].hist(bins = 100)"
   ]
  },
  {
   "cell_type": "code",
   "execution_count": 79,
   "metadata": {},
   "outputs": [
    {
     "name": "stdout",
     "output_type": "stream",
     "text": [
      "Топ 12 объявлений с самым распространенным месцем публикации:\n",
      "2018-02-01    1331\n",
      "2017-11-01    1230\n",
      "2018-03-01    1022\n",
      "2017-09-01     994\n",
      "2019-04-01     956\n",
      "2017-10-01     930\n",
      "2018-10-01     927\n",
      "2017-12-01     887\n",
      "2019-03-01     879\n",
      "2018-07-01     875\n",
      "Name: month, dtype: int64\n"
     ]
    }
   ],
   "source": [
    "print('Топ 12 объявлений с самым распространенным месцем публикации:')\n",
    "print(data['month'].value_counts().sort_values(ascending = False).head(10))"
   ]
  },
  {
   "cell_type": "markdown",
   "metadata": {},
   "source": [
    "Больше всего объявлений было выложенно в феврале, затем в марте и потом в апреле. Меньше всего в декабре."
   ]
  },
  {
   "cell_type": "markdown",
   "metadata": {},
   "source": [
    "<strong>Изучите, как быстро продавались квартиры (столбец days_exposition). Этот параметр показывает, сколько дней было размещено каждое объявление.</strong>"
   ]
  },
  {
   "cell_type": "code",
   "execution_count": 80,
   "metadata": {
    "scrolled": true
   },
   "outputs": [
    {
     "data": {
      "text/plain": [
       "<AxesSubplot:>"
      ]
     },
     "execution_count": 80,
     "metadata": {},
     "output_type": "execute_result"
    },
    {
     "data": {
      "image/png": "[encoded data removed]",
      "text/plain": [
       "<Figure size 432x288 with 1 Axes>"
      ]
     },
     "metadata": {
      "needs_background": "light"
     },
     "output_type": "display_data"
    }
   ],
   "source": [
    "data['days_exposition'].hist(bins = 50, range = (0, 100))"
   ]
  },
  {
   "cell_type": "code",
   "execution_count": 81,
   "metadata": {},
   "outputs": [
    {
     "name": "stdout",
     "output_type": "stream",
     "text": [
      "Среднее значение столбца \"days_exposition\":  169.36022616988058\n",
      "Медиана cтолбца \"days_exposition\":  95.0\n",
      "95    3245\n",
      "45     880\n",
      "60     538\n",
      "7      234\n",
      "30     208\n",
      "90     204\n",
      "4      176\n",
      "3      158\n",
      "5      152\n",
      "14     148\n",
      "Name: days_exposition, dtype: int64\n"
     ]
    }
   ],
   "source": [
    "print('Среднее значение столбца \"days_exposition\": ',data['days_exposition'].mean())\n",
    "print('Медиана cтолбца \"days_exposition\": ',data['days_exposition'].median())\n",
    "print(data['days_exposition'].value_counts().sort_values(ascending = False).head(10))"
   ]
  },
  {
   "cell_type": "markdown",
   "metadata": {},
   "source": [
    "<strong>Вывод: </strong>\n",
    "<p>\n",
    "Обратившись к гистограмме, мы видим, что большая часть объявлений снимается до 200 дней, при этом примерным временем продажи квартиры можно назвать 95 дней. Это почти в 2 раза меньше, чем среднее арифметическое, но мы ориентируемся на медиану, так как в датасете есть объявления, которые висят более 3-х лет, тем самым искажая среднее время продажи.\n",
    "В топ 10 объявлениях с самым распространенным кол-вом дня объявления, мы можем сказать, что есть продажи и спустя 3, 4, 5,7 , 9 дней. Это достаточно быстрый показатель, поэтому возьмем, что быстрыми продажами можно считать объявления до 45-и дней. Также, если увеличить график, то на нем виден аномальный пик, где объявления исчезают спустя 45 дней и еще больше спустя 90 дней. Вероятно, это связанно с тем, что время публикации объявления ограниченно, поэтому на 45 или 90 -й день, объявления пропадают, либо перезаливаются. Таким образом, если квартиру не продают в первые 45 дней, то вероятность, что ее продадут в следующие 45 дней выше.\n",
    "К необычно долгим можно отнести все объявления после 400 дней т.к на графике по оси х в районе 420 дней видна просадка, после которой динамика все ниже и ниже.</p>"
   ]
  },
  {
   "cell_type": "markdown",
   "metadata": {},
   "source": [
    "<strong>Какие факторы больше всего влияют на общую (полную) стоимость объекта?</strong>"
   ]
  },
  {
   "cell_type": "code",
   "execution_count": 82,
   "metadata": {},
   "outputs": [
    {
     "data": {
      "text/plain": [
       "<AxesSubplot:xlabel='total_area'>"
      ]
     },
     "execution_count": 82,
     "metadata": {},
     "output_type": "execute_result"
    },
    {
     "data": {
      "image/png": "[encoded data removed]",
      "text/plain": [
       "<Figure size 360x360 with 1 Axes>"
      ]
     },
     "metadata": {
      "needs_background": "light"
     },
     "output_type": "display_data"
    }
   ],
   "source": [
    "data.pivot_table(index='total_area', values='last_price').plot(grid=True, style='o', figsize=(5, 5), alpha=0.9)\n"
   ]
  },
  {
   "cell_type": "code",
   "execution_count": 83,
   "metadata": {},
   "outputs": [
    {
     "name": "stdout",
     "output_type": "stream",
     "text": [
      "Корреляция стоимсоти и площади:  0.6536750579657242\n"
     ]
    }
   ],
   "source": [
    "print('Корреляция стоимсоти и площади: ', data['last_price'].corr(data['total_area']))"
   ]
  },
  {
   "cell_type": "code",
   "execution_count": 84,
   "metadata": {},
   "outputs": [
    {
     "data": {
      "text/plain": [
       "<AxesSubplot:xlabel='living_area'>"
      ]
     },
     "execution_count": 84,
     "metadata": {},
     "output_type": "execute_result"
    },
    {
     "data": {
      "image/png": "[encoded data removed]",
      "text/plain": [
       "<Figure size 360x360 with 1 Axes>"
      ]
     },
     "metadata": {
      "needs_background": "light"
     },
     "output_type": "display_data"
    }
   ],
   "source": [
    "data.pivot_table(index='living_area', values='last_price').plot(grid=True, style='o', figsize=(5, 5), alpha=0.9)"
   ]
  },
  {
   "cell_type": "code",
   "execution_count": 85,
   "metadata": {},
   "outputs": [
    {
     "name": "stdout",
     "output_type": "stream",
     "text": [
      "Корреляция стоимсоти и жилой площади:  0.5858907700395659\n"
     ]
    }
   ],
   "source": [
    "print('Корреляция стоимсоти и жилой площади: ', data['last_price'].corr(data['living_area']))"
   ]
  },
  {
   "cell_type": "code",
   "execution_count": 86,
   "metadata": {},
   "outputs": [
    {
     "data": {
      "text/plain": [
       "<AxesSubplot:xlabel='kitchen_area'>"
      ]
     },
     "execution_count": 86,
     "metadata": {},
     "output_type": "execute_result"
    },
    {
     "data": {
      "image/png": "[encoded data removed]",
      "text/plain": [
       "<Figure size 360x360 with 1 Axes>"
      ]
     },
     "metadata": {
      "needs_background": "light"
     },
     "output_type": "display_data"
    }
   ],
   "source": [
    "data.pivot_table(index='kitchen_area', values='last_price').plot(grid=True, style='o', figsize=(5, 5), alpha=0.9)"
   ]
  },
  {
   "cell_type": "code",
   "execution_count": 87,
   "metadata": {},
   "outputs": [
    {
     "name": "stdout",
     "output_type": "stream",
     "text": [
      "Корреляция стоимсоти и кухонной площади:  0.5141194369951924\n"
     ]
    }
   ],
   "source": [
    "print('Корреляция стоимсоти и кухонной площади: ', data['last_price'].corr(data['kitchen_area']))"
   ]
  },
  {
   "cell_type": "code",
   "execution_count": 88,
   "metadata": {},
   "outputs": [
    {
     "data": {
      "text/plain": [
       "<AxesSubplot:xlabel='rooms'>"
      ]
     },
     "execution_count": 88,
     "metadata": {},
     "output_type": "execute_result"
    },
    {
     "data": {
      "image/png": "[encoded data removed]",
      "text/plain": [
       "<Figure size 360x360 with 1 Axes>"
      ]
     },
     "metadata": {
      "needs_background": "light"
     },
     "output_type": "display_data"
    }
   ],
   "source": [
    "data.pivot_table(index='rooms', values='last_price').plot(grid=True, style='o', figsize=(5, 5), alpha=0.9)"
   ]
  },
  {
   "cell_type": "code",
   "execution_count": 89,
   "metadata": {},
   "outputs": [
    {
     "name": "stdout",
     "output_type": "stream",
     "text": [
      "Корреляция стоимсоти и кол-ва комнат:  0.3633428499648948\n"
     ]
    }
   ],
   "source": [
    "print('Корреляция стоимсоти и кол-ва комнат: ', data['last_price'].corr(data['rooms']))"
   ]
  },
  {
   "cell_type": "code",
   "execution_count": 90,
   "metadata": {
    "scrolled": true
   },
   "outputs": [
    {
     "data": {
      "text/plain": [
       "<AxesSubplot:xlabel='floor_type'>"
      ]
     },
     "execution_count": 90,
     "metadata": {},
     "output_type": "execute_result"
    },
    {
     "data": {
      "image/png": "[encoded data removed]",
      "text/plain": [
       "<Figure size 360x360 with 1 Axes>"
      ]
     },
     "metadata": {
      "needs_background": "light"
     },
     "output_type": "display_data"
    }
   ],
   "source": [
    "data.pivot_table(index='floor_type', values='last_price').plot(grid=True, style='o', figsize=(5, 5), alpha=0.9)"
   ]
  },
  {
   "cell_type": "code",
   "execution_count": 91,
   "metadata": {},
   "outputs": [
    {
     "data": {
      "text/plain": [
       "<AxesSubplot:xlabel='floor'>"
      ]
     },
     "execution_count": 91,
     "metadata": {},
     "output_type": "execute_result"
    },
    {
     "data": {
      "image/png": "[encoded data removed]",
      "text/plain": [
       "<Figure size 360x360 with 1 Axes>"
      ]
     },
     "metadata": {
      "needs_background": "light"
     },
     "output_type": "display_data"
    }
   ],
   "source": [
    "data.pivot_table(index='floor', values='last_price').plot(grid=True, style='o', figsize=(5, 5), alpha=0.9)"
   ]
  },
  {
   "cell_type": "code",
   "execution_count": 92,
   "metadata": {},
   "outputs": [
    {
     "name": "stdout",
     "output_type": "stream",
     "text": [
      "Корреляция стоимсоти и этажа квартиры:  0.0265756432844708\n"
     ]
    }
   ],
   "source": [
    "print('Корреляция стоимсоти и этажа квартиры: ', data['last_price'].corr(data['floor']))"
   ]
  },
  {
   "cell_type": "code",
   "execution_count": 93,
   "metadata": {},
   "outputs": [
    {
     "data": {
      "text/plain": [
       "<AxesSubplot:xlabel='year'>"
      ]
     },
     "execution_count": 93,
     "metadata": {},
     "output_type": "execute_result"
    },
    {
     "data": {
      "image/png": "[encoded data removed]",
      "text/plain": [
       "<Figure size 360x360 with 1 Axes>"
      ]
     },
     "metadata": {
      "needs_background": "light"
     },
     "output_type": "display_data"
    }
   ],
   "source": [
    "data.pivot_table(index='year', values='last_price').plot(grid=True, style='o', figsize=(5, 5), alpha=0.9)"
   ]
  },
  {
   "cell_type": "code",
   "execution_count": 94,
   "metadata": {},
   "outputs": [
    {
     "name": "stdout",
     "output_type": "stream",
     "text": [
      "Корреляция стоимсоти года объявления:  -0.043089036199508615\n"
     ]
    }
   ],
   "source": [
    "print('Корреляция стоимсоти года объявления: ', data['last_price'].corr(data['year']))"
   ]
  },
  {
   "cell_type": "code",
   "execution_count": 95,
   "metadata": {
    "scrolled": true
   },
   "outputs": [
    {
     "data": {
      "text/plain": [
       "<AxesSubplot:xlabel='month'>"
      ]
     },
     "execution_count": 95,
     "metadata": {},
     "output_type": "execute_result"
    },
    {
     "data": {
      "image/png": "[encoded data removed]",
      "text/plain": [
       "<Figure size 360x360 with 1 Axes>"
      ]
     },
     "metadata": {
      "needs_background": "light"
     },
     "output_type": "display_data"
    }
   ],
   "source": [
    "data.pivot_table(index='month', values='last_price').plot(grid=True, style='o', figsize=(5, 5), alpha=0.9)"
   ]
  },
  {
   "cell_type": "code",
   "execution_count": 99,
   "metadata": {},
   "outputs": [
    {
     "data": {
      "text/plain": [
       "<AxesSubplot:xlabel='weekday'>"
      ]
     },
     "execution_count": 99,
     "metadata": {},
     "output_type": "execute_result"
    },
    {
     "data": {
      "image/png": "[encoded data removed]",
      "text/plain": [
       "<Figure size 360x360 with 1 Axes>"
      ]
     },
     "metadata": {
      "needs_background": "light"
     },
     "output_type": "display_data"
    }
   ],
   "source": [
    "data.pivot_table(index='weekday', values='last_price').plot(grid=True, style='o', figsize=(5, 5), alpha=0.9)"
   ]
  },
  {
   "cell_type": "code",
   "execution_count": 100,
   "metadata": {},
   "outputs": [
    {
     "name": "stdout",
     "output_type": "stream",
     "text": [
      "Корреляция стоимсоти дня недели объявления:  0.0015501452176215407\n"
     ]
    }
   ],
   "source": [
    "print('Корреляция стоимсоти дня недели объявления: ', data['last_price'].corr(data['weekday']))"
   ]
  },
  {
   "cell_type": "markdown",
   "metadata": {},
   "source": [
    "<strong>Вывод: </strong>\n",
    "<strong>Стоимость объявления квартиры зависит от таких факторов как:</strong>\n",
    "<ul>\n",
    "    <li>Общая площадь</li>\n",
    "    <li>Жилая площадь</li>\n",
    "    <li>Кухонная плоадь</li>\n",
    "</ul>\n",
    "<strong>Стоимость частично зависит от:</strong>\n",
    "<ul>\n",
    "    <li>Количества комнат</li>\n",
    "</ul>\n",
    "<strong>Стоимость не зависит от таких факторов как:</strong>\n",
    "<ul>\n",
    "    <li>Дата публикации объявления</li>\n",
    "    <li>Этажа квартиры</li>\n",
    "</ul>"
   ]
  },
  {
   "cell_type": "markdown",
   "metadata": {},
   "source": [
    "<strong>Посчитайте среднюю цену одного квадратного метра в 10 населённых пунктах с наибольшим числом объявлений. Выделите населённые пункты с самой высокой и низкой стоимостью квадратного метра. Эти данные можно найти по имени в столбце locality_name</strong>"
   ]
  },
  {
   "cell_type": "code",
   "execution_count": 101,
   "metadata": {},
   "outputs": [],
   "source": [
    "head_locality = data['locality_name'].value_counts().head(10).index.values#Выводим список городов с наибольшим числом объявлений и преобразовываем его в список "
   ]
  },
  {
   "cell_type": "code",
   "execution_count": 102,
   "metadata": {},
   "outputs": [],
   "source": [
    "#Проходимся циклом по названию городов из списка\n",
    "mean_value = []\n",
    "for value in head_locality:\n",
    "    mean_value.append(data[data['locality_name'] == value]['cost_per_square'].mean())\n"
   ]
  },
  {
   "cell_type": "code",
   "execution_count": 103,
   "metadata": {},
   "outputs": [],
   "source": [
    "#делаем таблицу из двух list\n",
    "locality_mean_square = pd.DataFrame(\n",
    "    {'locality': head_locality,\n",
    "     'mean_square': mean_value,\n",
    "    })"
   ]
  },
  {
   "cell_type": "code",
   "execution_count": 104,
   "metadata": {},
   "outputs": [
    {
     "name": "stdout",
     "output_type": "stream",
     "text": [
      "            locality  mean_square\n",
      "0    санкт-петербург    114849.01\n",
      "4             пушкин    103125.82\n",
      "8    деревня кудрово     92473.55\n",
      "6  поселок парголово     90175.91\n",
      "1     поселок мурино     85681.76\n",
      "2     поселок шушары     78677.36\n",
      "5            колпино     75424.58\n",
      "7            гатчина     68746.15\n",
      "3         всеволожск     68654.47\n",
      "9             выборг     58141.91\n"
     ]
    }
   ],
   "source": [
    "print(locality_mean_square.sort_values(by = 'mean_square', ascending = False).round(2))"
   ]
  },
  {
   "cell_type": "markdown",
   "metadata": {},
   "source": [
    "<strong>Вывод: </strong>\n",
    "<strong>Наиболее высокая цена за квадратный метр среди 10 наслеленных пунктов в:</strong>\n",
    "<ul>\n",
    "    <li>Cанкт-Петербург - средняя цена за кв метр 114849.01 руб.</li>\n",
    "    <li>Пушкин - средняя цена за кв метр 103125.82 руб.</li>\n",
    "    <li>Кудрово - средняя цена за кв метр 103125.82 руб.</li>\n",
    "</ul>\n",
    "<p>Самая низкая цена среди 10 наслеленных пунктов в Выборге - средняя цена за кв метр 58141.91 руб. </p>\n"
   ]
  },
  {
   "cell_type": "markdown",
   "metadata": {},
   "source": [
    "<strong>Ранее вы посчитали расстояние до центра в километрах. Теперь выделите квартиры в Санкт-Петербурге с помощью столбца locality_name и вычислите среднюю цену каждого километра. Опишите, как стоимость объектов зависит от расстояния до центра города.</strong>"
   ]
  },
  {
   "cell_type": "markdown",
   "metadata": {},
   "source": [
    "Для расчета зависимости стоимости от растояния до центра в Санкт-Петербурге,для начала нам необходимо заполнить недостающие значения. Поскольку мы исследуем именно Санкт-Петергбург, то для заполненя пропусков в столбце 'distantion' подойдт медиана значений по СПБ."
   ]
  },
  {
   "cell_type": "code",
   "execution_count": 105,
   "metadata": {},
   "outputs": [],
   "source": [
    "median_distanton_spb = data.loc[data['locality_name'] == 'санкт-петербург', 'distantion'].median()\n",
    "data.loc[data['locality_name'] == 'санкт-петербург', 'distantion'] = data['distantion'].fillna(median_distanton_spb)"
   ]
  },
  {
   "cell_type": "markdown",
   "metadata": {},
   "source": [
    "После заполнения пропусков, перепроверим еще раз. Отфильтруем по городу, так как нас интересует только СПБ."
   ]
  },
  {
   "cell_type": "code",
   "execution_count": 106,
   "metadata": {},
   "outputs": [
    {
     "name": "stdout",
     "output_type": "stream",
     "text": [
      "Количество пропусков 0\n"
     ]
    }
   ],
   "source": [
    "print('Количество пропусков',data.loc[data['locality_name'] == 'санкт-петербург', 'distantion'].isna().sum())"
   ]
  },
  {
   "cell_type": "code",
   "execution_count": 107,
   "metadata": {},
   "outputs": [
    {
     "name": "stdout",
     "output_type": "stream",
     "text": [
      "Средняя стоимость каждого километра до центра в Санкт-Петербурге равна 695187.05 руб.\n"
     ]
    }
   ],
   "source": [
    "mean_distantion_spb = data.loc[data['locality_name'] == 'санкт-петербург', 'distantion'].mean()\n",
    "mean_price_spb = data.loc[data['locality_name'] == 'санкт-петербург', 'last_price'].mean()\n",
    "mean_cost_per_km_spb = (mean_price_spb/mean_distantion_spb).round(2)\n",
    "print(f'Средняя стоимость каждого километра до центра в Санкт-Петербурге равна {mean_cost_per_km_spb} руб.')"
   ]
  },
  {
   "cell_type": "code",
   "execution_count": 108,
   "metadata": {
    "scrolled": false
   },
   "outputs": [
    {
     "data": {
      "image/png": "[encoded data removed]",
      "text/plain": [
       "<Figure size 360x360 with 1 Axes>"
      ]
     },
     "metadata": {
      "needs_background": "light"
     },
     "output_type": "display_data"
    }
   ],
   "source": [
    "(\n",
    "    data.query('locality_name  == \"санкт-петербург\"')\n",
    "    .pivot_table(index = 'distantion', values = 'last_price')\n",
    "    .plot(grid=True, style='-', figsize=(5, 5), alpha=0.9, title = 'Заголовок')\n",
    "    \n",
    ")\n",
    "plt.show()"
   ]
  },
  {
   "cell_type": "code",
   "execution_count": 109,
   "metadata": {},
   "outputs": [],
   "source": [
    "corr_spb = (data.query('locality_name  == \"санкт-петербург\"')['distantion']\n",
    "    .corr(data.query('locality_name  == \"санкт-петербург\"')['last_price'])\n",
    ")"
   ]
  },
  {
   "cell_type": "code",
   "execution_count": 110,
   "metadata": {
    "scrolled": true
   },
   "outputs": [
    {
     "name": "stdout",
     "output_type": "stream",
     "text": [
      "Корреляция стоимсоти и дистанции до центра в Санкт-петербурге:  -0.25784369205196866\n"
     ]
    }
   ],
   "source": [
    "print('Корреляция стоимсоти и дистанции до центра в Санкт-петербурге: ', corr_spb)"
   ]
  },
  {
   "cell_type": "markdown",
   "metadata": {},
   "source": [
    "<strong>Вывод: </strong>\n",
    "<p>Зависимость рсстояния до цента Санкт-Петербурга и стоимости квартир имеется до 7,5 км (Радиус от цента), далее зависимость не такая явная.</p>\n"
   ]
  },
  {
   "cell_type": "markdown",
   "metadata": {},
   "source": [
    "### Общий вывод\n",
    "\n",
    "<strong>Больше всего объявлений с квартирами, где:</strong>\n",
    "<ul>\n",
    "<li>Общая площать составляет от 40 - 50 кв. метров.</li>\n",
    "<li>Жилая площадь составляет от 15-25 кв. метров.</li>\n",
    "<li>Кухонная площадь составляет от 5-15 кв. метров.</li>\n",
    "<li>С ценой от 3 500 000 до 4 500 000 руб.</li>\n",
    "<li>С 1- комнатой.</li>\n",
    "<li>Где высота потолка 2,65 метров. </li>\n",
    "<li>Со 2-го этажа.</li>\n",
    "<li>Ни на первом и ни на последнем этаже.</li>\n",
    "<li>С домами, где всего 5 этажей.</li>\n",
    "<li>Находящихся в радиусе 15 км от центра города.</li>\n",
    "<li>Находящихся в радиусе 23 км от аэропорта.</li>\n",
    "<li>Находящихсярадиусе 0,5 км от парка.</li>\n",
    "<li>Объявление было выложенно в четверг в феврале.</li>\n",
    "</ul>\n",
    "\n",
    "\n",
    "<strong>Сроки продажи квартир</strong>\n",
    "<p>Боольшая часть квартир продается за 200 дней, при этом примерным временем продажи квартиры можно назвать 95 дней.\n",
    "Быстрыми продажами можно считать объявления до 45-и дней.\n",
    "К необычно долгим можно отнести все объявления после 400 дней.</p></p>\n",
    "\n",
    "<strong>Стоимость объявления квартиры зависит от таких факторов как:</strong>\n",
    "<ul>\n",
    "    <li>Общая площадь</li>\n",
    "    <li>Жилая площадь</li>\n",
    "    <li>Кухонная плоадь</li>\n",
    "</ul>\n",
    "<strong>Стоимость не зависит от таких факторов как:</strong>\n",
    "<ul>\n",
    "    <li>Дата публикации объявления</li>\n",
    "    <li>Этажа квартиры</li>\n",
    "</ul>\n",
    "\n",
    "<strong>Наиболее высокая цена за квадратный метр среди 10 наслеленных пунктов в:</strong>\n",
    "<ul>\n",
    "    <li>Cанкт-Петербург - средняя цена за кв метр 114849.01 руб.</li>\n",
    "    <li>Пушкин - средняя цена за кв метр 103125.82 руб.</li>\n",
    "    <li>Кудрово - средняя цена за кв метр 103125.82 руб.</li>\n",
    "</ul>\n",
    "<p>Самая низкая цена среди 10 наслеленных пунктов в Выборге - средняя цена за кв метр 58141.91 руб. </p>\n",
    "\n",
    "<strong>Зависимость расстояния до цента Санкт-Петербурга и стоимости квартир</strong>\n",
    "<p>Зависимость расстояния до цента Санкт-Петербурга и стоимости квартир имеется до 7,5 км (Радиус от цента), далее зависимость не такая явная.\n",
    "Средняя стоимость каждого километра до центра в Санкт-Петербурге равна 695187.05 руб.</p>\n",
    "\n",
    "\n"
   ]
  },
  {
   "cell_type": "markdown",
   "metadata": {},
   "source": [
    "<strong>Отчет о проделаных шагах:</strong>\n",
    "<ul>\n",
    "<li>1.Датасет изначально был оценен на наличие: Дубликатов, пропусков, аномальных значений, формата значений. </li>\n",
    "<li>2.Пропуски значений были заполненны медианными значениями. (Там, где бы это не повлияло на вывод.) </li>\n",
    "<li>3.Аномальные значения были проверены и удалены в случае неправдоподбности. (На пример, 50 дом в Кронштадте)</li>\n",
    "<li>4. Формат значений был изменен, чтоб с ним было удобнее работать.</li>\n",
    "<li>5. Были добавленны новые столбцы со стоимостью кв. метра, расстояния до центра в км, дня, месяца и года публикации объявления.</li>\n",
    "<li>6. По каждому столбцу была построенна гистограмма и произведен анализ наиболее встречающихся объявлений по определенному параметру</li>\n",
    "<li>7. Был произведен анализ зависимости показателей и рассчитана их кореляция. На основе наблюдений был составлен вывод.</li>\n",
    "<li>8 .Была рассчитана средняя цена километра до центра в Санкт-Петербурге, а также также расчитана зависимость показателя стоимости от близости к центру.</li>\n",
    "<li>9. На основе всех наблюдений был составлен общий вывод.</li>\n",
    "</ul>"
   ]
  },
  {
   "cell_type": "markdown",
   "metadata": {},
   "source": []
  },
  {
   "cell_type": "markdown",
   "metadata": {},
   "source": [
    "**Чек-лист готовности проекта**\n",
    "\n",
    "Поставьте 'x' в выполненных пунктах. Далее нажмите Shift+Enter."
   ]
  },
  {
   "cell_type": "markdown",
   "metadata": {},
   "source": [
    "- [x]  открыт файл\n",
    "- [x]  файлы изучены (выведены первые строки, метод `info()`, гистограммы и т.д.)\n",
    "- [x]  определены пропущенные значения\n",
    "- [x]  заполнены пропущенные значения там, где это возможно\n",
    "- [x]  есть пояснение, какие пропущенные значения обнаружены\n",
    "- [x]  изменены типы данных\n",
    "- [x]  есть пояснение, в каких столбцах изменены типы и почему\n",
    "- [x]  устранены неявные дубликаты в названиях населённых пунктов\n",
    "- [x]  устранены редкие и выбивающиеся значения (аномалии) во всех столбцах\n",
    "- [x]  посчитано и добавлено в таблицу: цена одного квадратного метра\n",
    "- [x]  посчитано и добавлено в таблицу: день публикации объявления (0 - понедельник, 1 - вторник и т.д.)\n",
    "- [x]  посчитано и добавлено в таблицу: месяц публикации объявления\n",
    "- [x]  посчитано и добавлено в таблицу: год публикации объявления\n",
    "- [x]  посчитано и добавлено в таблицу: тип этажа квартиры (значения — «первый», «последний», «другой»)\n",
    "- [x]  посчитано и добавлено в таблицу: расстояние в км до центра города\n",
    "- [x]  изучены и описаны следующие параметры:\n",
    "        - общая площадь;\n",
    "        - жилая площадь;\n",
    "        - площадь кухни;\n",
    "        - цена объекта;\n",
    "        - количество комнат;\n",
    "        - высота потолков;\n",
    "        - этаж квартиры;\n",
    "        - тип этажа квартиры («первый», «последний», «другой»);\n",
    "        - общее количество этажей в доме;\n",
    "        - расстояние до центра города в метрах;\n",
    "        - расстояние до ближайшего аэропорта;\n",
    "        - расстояние до ближайшего парка;\n",
    "        - день и месяц публикации объявления\n",
    "- [x]  построены гистограммы для каждого параметра\n",
    "- [x]  выполнено задание: \"Изучите, как быстро продавались квартиры (столбец days_exposition). Этот параметр показывает, сколько дней «висело» каждое объявление.\n",
    "    - Постройте гистограмму.\n",
    "    - Посчитайте среднее и медиану.\n",
    "    - В ячейке типа markdown опишите, сколько обычно занимает продажа. Какие продажи можно считать быстрыми, а какие — необычно долгими?\"\n",
    "- [x]  выполнено задание: \"Какие факторы больше всего влияют на общую (полную) стоимость объекта? Постройте графики, которые покажут зависимость цены от указанных ниже параметров. Для подготовки данных перед визуализацией вы можете использовать сводные таблицы.\"\n",
    "        - общей площади;\n",
    "        - жилой площади;\n",
    "        - площади кухни;\n",
    "        - количество комнат;\n",
    "        - типа этажа, на котором расположена квартира (первый, последний, другой);\n",
    "        - даты размещения (день недели, месяц, год);\n",
    "- [x]  выполнено задание: \"Посчитайте среднюю цену одного квадратного метра в 10 населённых пунктах с наибольшим числом объявлений. Выделите населённые пункты с самой высокой и низкой стоимостью квадратного метра. Эти данные можно найти по имени в столбце `locality_name`.\"\n",
    "- [x]  выполнено задание: \"Ранее вы посчитали расстояние до центра в километрах. Теперь выделите квартиры в Санкт-Петербурге с помощью столбца `locality_name` и вычислите среднюю цену каждого километра. Опишите, как стоимость объектов зависит от расстояния до центра города.\"\n",
    "- [x]  в каждом этапе есть промежуточные выводы\n",
    "- [x]  есть общий вывод"
   ]
  }
 ],
 "metadata": {
  "ExecuteTimeLog": [
   {
    "duration": 495,
    "start_time": "2022-08-15T09:55:01.192Z"
   },
   {
    "duration": 341,
    "start_time": "2022-08-15T09:55:44.939Z"
   },
   {
    "duration": 21,
    "start_time": "2022-08-15T09:55:49.924Z"
   },
   {
    "duration": 12,
    "start_time": "2022-08-15T09:56:19.128Z"
   },
   {
    "duration": 13,
    "start_time": "2022-08-15T09:56:36.724Z"
   },
   {
    "duration": 8,
    "start_time": "2022-08-15T09:57:07.855Z"
   },
   {
    "duration": 53,
    "start_time": "2022-08-15T09:57:43.855Z"
   },
   {
    "duration": 2,
    "start_time": "2022-08-15T09:58:10.661Z"
   },
   {
    "duration": 91,
    "start_time": "2022-08-15T09:58:11.070Z"
   },
   {
    "duration": 13,
    "start_time": "2022-08-15T09:58:11.703Z"
   },
   {
    "duration": 63,
    "start_time": "2022-08-15T09:58:46.574Z"
   },
   {
    "duration": 3,
    "start_time": "2022-08-15T09:58:59.501Z"
   },
   {
    "duration": 100,
    "start_time": "2022-08-15T09:59:00.237Z"
   },
   {
    "duration": 103,
    "start_time": "2022-08-15T10:00:37.981Z"
   },
   {
    "duration": 11,
    "start_time": "2022-08-15T10:00:38.833Z"
   },
   {
    "duration": 9,
    "start_time": "2022-08-15T10:00:41.897Z"
   },
   {
    "duration": 108,
    "start_time": "2022-08-15T10:00:57.243Z"
   },
   {
    "duration": 12,
    "start_time": "2022-08-15T10:00:58.026Z"
   },
   {
    "duration": 115,
    "start_time": "2022-08-15T10:01:18.473Z"
   },
   {
    "duration": 94,
    "start_time": "2022-08-15T10:03:22.197Z"
   },
   {
    "duration": 99,
    "start_time": "2022-08-15T10:05:32.372Z"
   },
   {
    "duration": 62,
    "start_time": "2022-08-15T10:05:33.085Z"
   },
   {
    "duration": 13,
    "start_time": "2022-08-15T10:20:05.389Z"
   },
   {
    "duration": 6,
    "start_time": "2022-08-15T10:43:42.942Z"
   },
   {
    "duration": 8,
    "start_time": "2022-08-15T10:44:42.135Z"
   },
   {
    "duration": 2753,
    "start_time": "2022-08-15T11:09:56.697Z"
   },
   {
    "duration": 696,
    "start_time": "2022-08-15T11:34:49.800Z"
   },
   {
    "duration": 11,
    "start_time": "2022-08-15T11:35:42.367Z"
   },
   {
    "duration": 13,
    "start_time": "2022-08-15T11:36:35.477Z"
   },
   {
    "duration": 13,
    "start_time": "2022-08-15T11:36:52.626Z"
   },
   {
    "duration": 19,
    "start_time": "2022-08-15T11:37:01.377Z"
   },
   {
    "duration": 17,
    "start_time": "2022-08-15T11:37:16.665Z"
   },
   {
    "duration": 78,
    "start_time": "2022-08-15T11:37:23.905Z"
   },
   {
    "duration": 15,
    "start_time": "2022-08-15T11:37:28.244Z"
   },
   {
    "duration": 5,
    "start_time": "2022-08-15T11:42:11.354Z"
   },
   {
    "duration": 6,
    "start_time": "2022-08-15T11:47:25.166Z"
   },
   {
    "duration": 26,
    "start_time": "2022-08-15T11:48:45.623Z"
   },
   {
    "duration": 18,
    "start_time": "2022-08-15T11:49:46.289Z"
   },
   {
    "duration": 20,
    "start_time": "2022-08-15T11:49:53.526Z"
   },
   {
    "duration": 74,
    "start_time": "2022-08-15T11:50:33.846Z"
   },
   {
    "duration": 28,
    "start_time": "2022-08-15T11:50:39.832Z"
   },
   {
    "duration": 23,
    "start_time": "2022-08-15T11:51:27.670Z"
   },
   {
    "duration": 18,
    "start_time": "2022-08-15T11:51:38.887Z"
   },
   {
    "duration": 17,
    "start_time": "2022-08-15T11:52:16.236Z"
   },
   {
    "duration": 25,
    "start_time": "2022-08-15T11:52:22.933Z"
   },
   {
    "duration": 18,
    "start_time": "2022-08-15T11:52:35.831Z"
   },
   {
    "duration": 3,
    "start_time": "2022-08-15T11:52:43.504Z"
   },
   {
    "duration": 135,
    "start_time": "2022-08-15T11:52:43.509Z"
   },
   {
    "duration": 43,
    "start_time": "2022-08-15T11:52:43.645Z"
   },
   {
    "duration": 1891,
    "start_time": "2022-08-15T11:52:43.691Z"
   },
   {
    "duration": 39,
    "start_time": "2022-08-15T11:52:45.584Z"
   },
   {
    "duration": 12,
    "start_time": "2022-08-15T11:52:45.625Z"
   },
   {
    "duration": 18,
    "start_time": "2022-08-15T11:52:45.640Z"
   },
   {
    "duration": 34,
    "start_time": "2022-08-15T11:52:45.792Z"
   },
   {
    "duration": 19,
    "start_time": "2022-08-15T11:52:58.683Z"
   },
   {
    "duration": 14,
    "start_time": "2022-08-15T11:53:03.970Z"
   },
   {
    "duration": 26,
    "start_time": "2022-08-15T11:58:57.378Z"
   },
   {
    "duration": 16,
    "start_time": "2022-08-15T11:59:11.060Z"
   },
   {
    "duration": 24,
    "start_time": "2022-08-15T12:05:01.752Z"
   },
   {
    "duration": 26,
    "start_time": "2022-08-15T12:05:10.348Z"
   },
   {
    "duration": 15,
    "start_time": "2022-08-15T12:08:35.442Z"
   },
   {
    "duration": 21,
    "start_time": "2022-08-15T12:09:15.397Z"
   },
   {
    "duration": 29,
    "start_time": "2022-08-15T12:11:24.499Z"
   },
   {
    "duration": 14,
    "start_time": "2022-08-15T12:11:42.027Z"
   },
   {
    "duration": 7,
    "start_time": "2022-08-15T12:17:41.451Z"
   },
   {
    "duration": 17,
    "start_time": "2022-08-15T12:17:50.213Z"
   },
   {
    "duration": 20,
    "start_time": "2022-08-15T12:18:00.078Z"
   },
   {
    "duration": 28,
    "start_time": "2022-08-15T12:18:02.206Z"
   },
   {
    "duration": 18,
    "start_time": "2022-08-15T12:18:26.832Z"
   },
   {
    "duration": 596,
    "start_time": "2022-08-15T12:23:12.786Z"
   },
   {
    "duration": 11,
    "start_time": "2022-08-15T12:23:27.961Z"
   },
   {
    "duration": 15,
    "start_time": "2022-08-15T12:23:31.369Z"
   },
   {
    "duration": 668,
    "start_time": "2022-08-15T12:23:56.869Z"
   },
   {
    "duration": 626,
    "start_time": "2022-08-15T12:24:13.358Z"
   },
   {
    "duration": 56,
    "start_time": "2022-08-15T12:24:30.477Z"
   },
   {
    "duration": 19,
    "start_time": "2022-08-15T12:24:41.698Z"
   },
   {
    "duration": 19,
    "start_time": "2022-08-15T12:25:04.354Z"
   },
   {
    "duration": 15,
    "start_time": "2022-08-15T12:26:18.338Z"
   },
   {
    "duration": 42,
    "start_time": "2022-08-15T12:26:33.656Z"
   },
   {
    "duration": 64,
    "start_time": "2022-08-15T12:27:48.054Z"
   },
   {
    "duration": 18,
    "start_time": "2022-08-15T12:28:10.476Z"
   },
   {
    "duration": 18,
    "start_time": "2022-08-15T12:28:16.972Z"
   },
   {
    "duration": 37,
    "start_time": "2022-08-15T12:28:22.443Z"
   },
   {
    "duration": 19,
    "start_time": "2022-08-15T12:28:30.335Z"
   },
   {
    "duration": 60,
    "start_time": "2022-08-15T12:29:00.538Z"
   },
   {
    "duration": 61,
    "start_time": "2022-08-15T12:29:06.307Z"
   },
   {
    "duration": 36,
    "start_time": "2022-08-15T12:29:09.135Z"
   },
   {
    "duration": 67,
    "start_time": "2022-08-15T12:29:21.028Z"
   },
   {
    "duration": 12,
    "start_time": "2022-08-15T12:29:28.012Z"
   },
   {
    "duration": 10,
    "start_time": "2022-08-15T12:29:41.479Z"
   },
   {
    "duration": 9,
    "start_time": "2022-08-15T12:29:52.050Z"
   },
   {
    "duration": 14,
    "start_time": "2022-08-15T12:30:04.306Z"
   },
   {
    "duration": 39,
    "start_time": "2022-08-15T12:30:11.734Z"
   },
   {
    "duration": 33,
    "start_time": "2022-08-15T12:30:32.687Z"
   },
   {
    "duration": 50,
    "start_time": "2022-08-15T12:30:52.811Z"
   },
   {
    "duration": 5,
    "start_time": "2022-08-15T12:31:01.391Z"
   },
   {
    "duration": 2,
    "start_time": "2022-08-15T12:31:07.199Z"
   },
   {
    "duration": 163,
    "start_time": "2022-08-15T12:31:07.203Z"
   },
   {
    "duration": 66,
    "start_time": "2022-08-15T12:31:07.368Z"
   },
   {
    "duration": 1929,
    "start_time": "2022-08-15T12:31:07.437Z"
   },
   {
    "duration": 17,
    "start_time": "2022-08-15T12:31:09.368Z"
   },
   {
    "duration": 25,
    "start_time": "2022-08-15T12:31:09.387Z"
   },
   {
    "duration": 51,
    "start_time": "2022-08-15T12:31:09.416Z"
   },
   {
    "duration": 8,
    "start_time": "2022-08-15T12:31:09.469Z"
   },
   {
    "duration": 9,
    "start_time": "2022-08-15T12:31:09.479Z"
   },
   {
    "duration": 16,
    "start_time": "2022-08-15T12:31:36.447Z"
   },
   {
    "duration": 8,
    "start_time": "2022-08-15T12:31:40.814Z"
   },
   {
    "duration": 101,
    "start_time": "2022-08-15T12:31:40.838Z"
   },
   {
    "duration": 38,
    "start_time": "2022-08-15T12:31:40.942Z"
   },
   {
    "duration": 1968,
    "start_time": "2022-08-15T12:31:40.981Z"
   },
   {
    "duration": 14,
    "start_time": "2022-08-15T12:31:42.951Z"
   },
   {
    "duration": 8,
    "start_time": "2022-08-15T12:31:42.967Z"
   },
   {
    "duration": 38,
    "start_time": "2022-08-15T12:31:42.976Z"
   },
   {
    "duration": 6,
    "start_time": "2022-08-15T12:31:43.015Z"
   },
   {
    "duration": 4,
    "start_time": "2022-08-15T12:31:43.990Z"
   },
   {
    "duration": 23,
    "start_time": "2022-08-15T12:31:44.527Z"
   },
   {
    "duration": 37,
    "start_time": "2022-08-15T12:32:24.197Z"
   },
   {
    "duration": 38,
    "start_time": "2022-08-15T12:33:11.244Z"
   },
   {
    "duration": 17,
    "start_time": "2022-08-15T12:33:24.382Z"
   },
   {
    "duration": 5,
    "start_time": "2022-08-15T12:33:26.968Z"
   },
   {
    "duration": 31,
    "start_time": "2022-08-15T12:33:27.392Z"
   },
   {
    "duration": 3,
    "start_time": "2022-08-15T12:33:36.275Z"
   },
   {
    "duration": 137,
    "start_time": "2022-08-15T12:33:36.280Z"
   },
   {
    "duration": 47,
    "start_time": "2022-08-15T12:33:36.419Z"
   },
   {
    "duration": 2122,
    "start_time": "2022-08-15T12:33:36.468Z"
   },
   {
    "duration": 35,
    "start_time": "2022-08-15T12:33:38.592Z"
   },
   {
    "duration": 16,
    "start_time": "2022-08-15T12:33:38.631Z"
   },
   {
    "duration": 8,
    "start_time": "2022-08-15T12:33:38.649Z"
   },
   {
    "duration": 8,
    "start_time": "2022-08-15T12:33:38.659Z"
   },
   {
    "duration": 20,
    "start_time": "2022-08-15T12:33:42.236Z"
   },
   {
    "duration": 26,
    "start_time": "2022-08-15T12:33:56.277Z"
   },
   {
    "duration": 60,
    "start_time": "2022-08-15T12:34:03.626Z"
   },
   {
    "duration": 9,
    "start_time": "2022-08-15T12:34:41.791Z"
   },
   {
    "duration": 34,
    "start_time": "2022-08-15T12:36:34.963Z"
   },
   {
    "duration": 7,
    "start_time": "2022-08-15T12:36:43.042Z"
   },
   {
    "duration": 6,
    "start_time": "2022-08-15T12:36:50.460Z"
   },
   {
    "duration": 7,
    "start_time": "2022-08-15T12:37:06.434Z"
   },
   {
    "duration": 60,
    "start_time": "2022-08-15T12:37:07.895Z"
   },
   {
    "duration": 3,
    "start_time": "2022-08-15T12:37:25.061Z"
   },
   {
    "duration": 120,
    "start_time": "2022-08-15T12:37:25.067Z"
   },
   {
    "duration": 54,
    "start_time": "2022-08-15T12:37:25.189Z"
   },
   {
    "duration": 2264,
    "start_time": "2022-08-15T12:37:25.248Z"
   },
   {
    "duration": 23,
    "start_time": "2022-08-15T12:37:27.515Z"
   },
   {
    "duration": 35,
    "start_time": "2022-08-15T12:37:27.540Z"
   },
   {
    "duration": 21,
    "start_time": "2022-08-15T12:37:27.577Z"
   },
   {
    "duration": 15,
    "start_time": "2022-08-15T12:37:27.600Z"
   },
   {
    "duration": 105,
    "start_time": "2022-08-15T12:37:27.619Z"
   },
   {
    "duration": 77,
    "start_time": "2022-08-15T12:38:54.892Z"
   },
   {
    "duration": 83,
    "start_time": "2022-08-15T12:39:01.586Z"
   },
   {
    "duration": 56,
    "start_time": "2022-08-15T12:39:08.928Z"
   },
   {
    "duration": 7,
    "start_time": "2022-08-15T12:39:09.646Z"
   },
   {
    "duration": 65,
    "start_time": "2022-08-15T12:39:22.629Z"
   },
   {
    "duration": 36,
    "start_time": "2022-08-15T12:39:32.185Z"
   },
   {
    "duration": 42,
    "start_time": "2022-08-15T12:39:46.689Z"
   },
   {
    "duration": 6,
    "start_time": "2022-08-15T12:39:53.269Z"
   },
   {
    "duration": 43,
    "start_time": "2022-08-15T12:39:53.949Z"
   },
   {
    "duration": 37,
    "start_time": "2022-08-15T12:40:05.175Z"
   },
   {
    "duration": 74,
    "start_time": "2022-08-15T12:40:34.496Z"
   },
   {
    "duration": 7,
    "start_time": "2022-08-15T12:40:40.361Z"
   },
   {
    "duration": 2,
    "start_time": "2022-08-15T12:45:51.968Z"
   },
   {
    "duration": 117,
    "start_time": "2022-08-15T12:45:51.973Z"
   },
   {
    "duration": 62,
    "start_time": "2022-08-15T12:45:52.092Z"
   },
   {
    "duration": 2044,
    "start_time": "2022-08-15T12:45:52.157Z"
   },
   {
    "duration": 28,
    "start_time": "2022-08-15T12:45:54.203Z"
   },
   {
    "duration": 40,
    "start_time": "2022-08-15T12:45:54.236Z"
   },
   {
    "duration": 5,
    "start_time": "2022-08-15T12:45:54.355Z"
   },
   {
    "duration": 7,
    "start_time": "2022-08-15T12:45:55.350Z"
   },
   {
    "duration": 79,
    "start_time": "2022-08-15T12:45:56.130Z"
   },
   {
    "duration": 11,
    "start_time": "2022-08-15T12:45:57.206Z"
   },
   {
    "duration": 85,
    "start_time": "2022-08-15T12:47:43.340Z"
   },
   {
    "duration": 11,
    "start_time": "2022-08-15T12:47:46.171Z"
   },
   {
    "duration": 77,
    "start_time": "2022-08-15T12:48:00.144Z"
   },
   {
    "duration": 12,
    "start_time": "2022-08-15T12:48:00.972Z"
   },
   {
    "duration": 95,
    "start_time": "2022-08-15T12:48:15.638Z"
   },
   {
    "duration": 9,
    "start_time": "2022-08-15T12:48:16.084Z"
   },
   {
    "duration": 7,
    "start_time": "2022-08-15T12:51:51.469Z"
   },
   {
    "duration": 54,
    "start_time": "2022-08-15T12:53:24.749Z"
   },
   {
    "duration": 8,
    "start_time": "2022-08-15T12:53:37.407Z"
   },
   {
    "duration": 62,
    "start_time": "2022-08-15T12:54:05.379Z"
   },
   {
    "duration": 3,
    "start_time": "2022-08-15T12:54:13.285Z"
   },
   {
    "duration": 156,
    "start_time": "2022-08-15T12:54:13.291Z"
   },
   {
    "duration": 117,
    "start_time": "2022-08-15T12:54:13.449Z"
   },
   {
    "duration": 3028,
    "start_time": "2022-08-15T12:54:13.572Z"
   },
   {
    "duration": 28,
    "start_time": "2022-08-15T12:54:16.603Z"
   },
   {
    "duration": 61,
    "start_time": "2022-08-15T12:54:16.635Z"
   },
   {
    "duration": 61,
    "start_time": "2022-08-15T12:54:16.698Z"
   },
   {
    "duration": 36,
    "start_time": "2022-08-15T12:54:16.763Z"
   },
   {
    "duration": 138,
    "start_time": "2022-08-15T12:54:16.801Z"
   },
   {
    "duration": 9,
    "start_time": "2022-08-15T13:32:53.011Z"
   },
   {
    "duration": 28,
    "start_time": "2022-08-15T13:33:09.722Z"
   },
   {
    "duration": 11,
    "start_time": "2022-08-15T13:33:27.310Z"
   },
   {
    "duration": 13,
    "start_time": "2022-08-15T13:33:55.208Z"
   },
   {
    "duration": 51,
    "start_time": "2022-08-15T13:34:30.739Z"
   },
   {
    "duration": 16,
    "start_time": "2022-08-15T13:36:34.324Z"
   },
   {
    "duration": 11,
    "start_time": "2022-08-15T13:36:39.445Z"
   },
   {
    "duration": 20,
    "start_time": "2022-08-15T13:36:46.904Z"
   },
   {
    "duration": 13,
    "start_time": "2022-08-15T13:37:48.964Z"
   },
   {
    "duration": 10,
    "start_time": "2022-08-15T13:38:25.484Z"
   },
   {
    "duration": 155,
    "start_time": "2022-08-15T13:38:50.752Z"
   },
   {
    "duration": 816,
    "start_time": "2022-08-15T13:39:37.784Z"
   },
   {
    "duration": 162,
    "start_time": "2022-08-15T13:40:09.756Z"
   },
   {
    "duration": 121,
    "start_time": "2022-08-15T13:41:49.860Z"
   },
   {
    "duration": 90,
    "start_time": "2022-08-15T13:42:50.471Z"
   },
   {
    "duration": 159,
    "start_time": "2022-08-15T13:42:57.012Z"
   },
   {
    "duration": 131,
    "start_time": "2022-08-15T13:43:02.347Z"
   },
   {
    "duration": 148,
    "start_time": "2022-08-15T13:43:37.207Z"
   },
   {
    "duration": 150,
    "start_time": "2022-08-15T13:45:21.589Z"
   },
   {
    "duration": 3,
    "start_time": "2022-08-15T13:46:14.772Z"
   },
   {
    "duration": 137,
    "start_time": "2022-08-15T13:46:14.777Z"
   },
   {
    "duration": 63,
    "start_time": "2022-08-15T13:46:14.921Z"
   },
   {
    "duration": 2098,
    "start_time": "2022-08-15T13:46:14.986Z"
   },
   {
    "duration": 37,
    "start_time": "2022-08-15T13:46:17.085Z"
   },
   {
    "duration": 27,
    "start_time": "2022-08-15T13:46:17.127Z"
   },
   {
    "duration": 10,
    "start_time": "2022-08-15T13:46:17.156Z"
   },
   {
    "duration": 10,
    "start_time": "2022-08-15T13:46:17.168Z"
   },
   {
    "duration": 97,
    "start_time": "2022-08-15T13:46:17.180Z"
   },
   {
    "duration": 15,
    "start_time": "2022-08-15T13:46:17.278Z"
   },
   {
    "duration": 8,
    "start_time": "2022-08-15T13:46:20.688Z"
   },
   {
    "duration": 125,
    "start_time": "2022-08-15T13:46:21.359Z"
   },
   {
    "duration": 4,
    "start_time": "2022-08-15T13:47:14.306Z"
   },
   {
    "duration": 123,
    "start_time": "2022-08-15T13:47:14.858Z"
   },
   {
    "duration": 56,
    "start_time": "2022-08-15T13:47:15.505Z"
   },
   {
    "duration": 2422,
    "start_time": "2022-08-15T13:47:16.048Z"
   },
   {
    "duration": 15,
    "start_time": "2022-08-15T13:47:18.473Z"
   },
   {
    "duration": 22,
    "start_time": "2022-08-15T13:47:18.509Z"
   },
   {
    "duration": 15,
    "start_time": "2022-08-15T13:47:18.806Z"
   },
   {
    "duration": 7,
    "start_time": "2022-08-15T13:47:19.880Z"
   },
   {
    "duration": 81,
    "start_time": "2022-08-15T13:47:20.292Z"
   },
   {
    "duration": 7,
    "start_time": "2022-08-15T13:47:21.189Z"
   },
   {
    "duration": 144,
    "start_time": "2022-08-15T13:47:21.758Z"
   },
   {
    "duration": 124,
    "start_time": "2022-08-15T13:47:41.457Z"
   },
   {
    "duration": 153,
    "start_time": "2022-08-15T13:48:02.297Z"
   },
   {
    "duration": 125,
    "start_time": "2022-08-15T13:56:52.202Z"
   },
   {
    "duration": 112,
    "start_time": "2022-08-15T13:57:06.568Z"
   },
   {
    "duration": 131,
    "start_time": "2022-08-15T13:57:18.707Z"
   },
   {
    "duration": 154,
    "start_time": "2022-08-15T13:57:57.168Z"
   },
   {
    "duration": 101,
    "start_time": "2022-08-15T13:59:21.059Z"
   },
   {
    "duration": 136,
    "start_time": "2022-08-15T14:00:10.259Z"
   },
   {
    "duration": 132,
    "start_time": "2022-08-15T14:00:24.036Z"
   },
   {
    "duration": 136,
    "start_time": "2022-08-15T14:00:29.641Z"
   },
   {
    "duration": 133,
    "start_time": "2022-08-15T14:01:35.055Z"
   },
   {
    "duration": 133,
    "start_time": "2022-08-15T14:06:13.409Z"
   },
   {
    "duration": 130,
    "start_time": "2022-08-15T14:06:24.488Z"
   },
   {
    "duration": 177,
    "start_time": "2022-08-15T14:09:56.561Z"
   },
   {
    "duration": 4,
    "start_time": "2022-08-15T14:10:10.479Z"
   },
   {
    "duration": 17,
    "start_time": "2022-08-15T14:10:14.407Z"
   },
   {
    "duration": 4,
    "start_time": "2022-08-15T14:11:28.476Z"
   },
   {
    "duration": 3,
    "start_time": "2022-08-15T14:11:35.580Z"
   },
   {
    "duration": 7,
    "start_time": "2022-08-15T14:12:13.592Z"
   },
   {
    "duration": 23,
    "start_time": "2022-08-15T14:12:23.012Z"
   },
   {
    "duration": 7,
    "start_time": "2022-08-15T14:12:33.492Z"
   },
   {
    "duration": 8,
    "start_time": "2022-08-15T14:12:40.274Z"
   },
   {
    "duration": 16,
    "start_time": "2022-08-15T14:12:42.606Z"
   },
   {
    "duration": 3,
    "start_time": "2022-08-15T14:13:02.959Z"
   },
   {
    "duration": 4,
    "start_time": "2022-08-15T14:13:19.974Z"
   },
   {
    "duration": 4,
    "start_time": "2022-08-15T14:13:37.868Z"
   },
   {
    "duration": 127,
    "start_time": "2022-08-15T14:14:08.456Z"
   },
   {
    "duration": 121,
    "start_time": "2022-08-15T14:14:17.185Z"
   },
   {
    "duration": 20,
    "start_time": "2022-08-15T14:15:53.240Z"
   },
   {
    "duration": 7,
    "start_time": "2022-08-15T14:16:10.380Z"
   },
   {
    "duration": 5,
    "start_time": "2022-08-15T14:16:17.772Z"
   },
   {
    "duration": 6,
    "start_time": "2022-08-15T14:16:52.078Z"
   },
   {
    "duration": 5,
    "start_time": "2022-08-15T14:16:57.623Z"
   },
   {
    "duration": 1515,
    "start_time": "2022-08-15T14:20:09.273Z"
   },
   {
    "duration": 9,
    "start_time": "2022-08-15T14:20:20.762Z"
   },
   {
    "duration": 4,
    "start_time": "2022-08-15T14:20:32.580Z"
   },
   {
    "duration": 16,
    "start_time": "2022-08-15T14:20:41.555Z"
   },
   {
    "duration": 11,
    "start_time": "2022-08-15T14:20:50.271Z"
   },
   {
    "duration": 13,
    "start_time": "2022-08-15T14:21:39.310Z"
   },
   {
    "duration": 6,
    "start_time": "2022-08-15T14:22:05.534Z"
   },
   {
    "duration": 9,
    "start_time": "2022-08-15T14:22:15.988Z"
   },
   {
    "duration": 9,
    "start_time": "2022-08-15T14:23:41.863Z"
   },
   {
    "duration": 11,
    "start_time": "2022-08-15T14:23:49.549Z"
   },
   {
    "duration": 7,
    "start_time": "2022-08-15T14:23:59.662Z"
   },
   {
    "duration": 25,
    "start_time": "2022-08-15T14:24:00.040Z"
   },
   {
    "duration": 8,
    "start_time": "2022-08-15T14:24:54.477Z"
   },
   {
    "duration": 7,
    "start_time": "2022-08-15T14:25:00.692Z"
   },
   {
    "duration": 15,
    "start_time": "2022-08-15T14:25:08.942Z"
   },
   {
    "duration": 5,
    "start_time": "2022-08-15T14:26:47.454Z"
   },
   {
    "duration": 4,
    "start_time": "2022-08-15T14:26:48.975Z"
   },
   {
    "duration": 7,
    "start_time": "2022-08-15T14:26:59.905Z"
   },
   {
    "duration": 0,
    "start_time": "2022-08-15T14:27:25.890Z"
   },
   {
    "duration": 1614,
    "start_time": "2022-08-15T14:27:36.070Z"
   },
   {
    "duration": 1469,
    "start_time": "2022-08-15T14:27:52.235Z"
   },
   {
    "duration": 1313,
    "start_time": "2022-08-15T14:28:09.066Z"
   },
   {
    "duration": 19,
    "start_time": "2022-08-15T14:28:21.707Z"
   },
   {
    "duration": 10,
    "start_time": "2022-08-15T14:28:27.591Z"
   },
   {
    "duration": 7,
    "start_time": "2022-08-15T14:28:33.357Z"
   },
   {
    "duration": 9,
    "start_time": "2022-08-15T14:28:38.345Z"
   },
   {
    "duration": 3,
    "start_time": "2022-08-15T14:30:00.853Z"
   },
   {
    "duration": 10,
    "start_time": "2022-08-15T14:30:03.543Z"
   },
   {
    "duration": 7,
    "start_time": "2022-08-15T14:30:17.857Z"
   },
   {
    "duration": 2,
    "start_time": "2022-08-15T14:30:26.558Z"
   },
   {
    "duration": 112,
    "start_time": "2022-08-15T14:30:26.562Z"
   },
   {
    "duration": 68,
    "start_time": "2022-08-15T14:30:26.675Z"
   },
   {
    "duration": 2122,
    "start_time": "2022-08-15T14:30:26.746Z"
   },
   {
    "duration": 14,
    "start_time": "2022-08-15T14:30:28.869Z"
   },
   {
    "duration": 36,
    "start_time": "2022-08-15T14:30:28.884Z"
   },
   {
    "duration": 35,
    "start_time": "2022-08-15T14:30:28.928Z"
   },
   {
    "duration": 10,
    "start_time": "2022-08-15T14:30:28.964Z"
   },
   {
    "duration": 61,
    "start_time": "2022-08-15T14:30:28.977Z"
   },
   {
    "duration": 16,
    "start_time": "2022-08-15T14:30:29.041Z"
   },
   {
    "duration": 134,
    "start_time": "2022-08-15T14:30:29.066Z"
   },
   {
    "duration": 14,
    "start_time": "2022-08-15T14:30:29.201Z"
   },
   {
    "duration": 4,
    "start_time": "2022-08-15T14:30:30.052Z"
   },
   {
    "duration": 4,
    "start_time": "2022-08-15T14:30:30.464Z"
   },
   {
    "duration": 8,
    "start_time": "2022-08-15T14:30:45.139Z"
   },
   {
    "duration": 12,
    "start_time": "2022-08-15T14:30:47.832Z"
   },
   {
    "duration": 9,
    "start_time": "2022-08-15T14:30:54.739Z"
   },
   {
    "duration": 7,
    "start_time": "2022-08-15T14:31:07.105Z"
   },
   {
    "duration": 5,
    "start_time": "2022-08-15T14:31:21.852Z"
   },
   {
    "duration": 82,
    "start_time": "2022-08-15T14:31:38.983Z"
   },
   {
    "duration": 7,
    "start_time": "2022-08-15T14:32:12.343Z"
   },
   {
    "duration": 5,
    "start_time": "2022-08-15T14:32:34.652Z"
   },
   {
    "duration": 2,
    "start_time": "2022-08-15T14:32:38.599Z"
   },
   {
    "duration": 4,
    "start_time": "2022-08-15T14:32:59.074Z"
   },
   {
    "duration": 16,
    "start_time": "2022-08-15T14:35:35.916Z"
   },
   {
    "duration": 5,
    "start_time": "2022-08-15T14:35:59.081Z"
   },
   {
    "duration": 121,
    "start_time": "2022-08-15T14:36:12.639Z"
   },
   {
    "duration": 15,
    "start_time": "2022-08-15T14:37:42.916Z"
   },
   {
    "duration": 491,
    "start_time": "2022-08-15T14:37:44.440Z"
   },
   {
    "duration": 20,
    "start_time": "2022-08-15T14:38:12.602Z"
   },
   {
    "duration": 6,
    "start_time": "2022-08-15T14:38:19.048Z"
   },
   {
    "duration": 5,
    "start_time": "2022-08-15T14:40:48.968Z"
   },
   {
    "duration": 125,
    "start_time": "2022-08-15T14:40:51.368Z"
   },
   {
    "duration": 8,
    "start_time": "2022-08-15T14:41:28.399Z"
   },
   {
    "duration": 131,
    "start_time": "2022-08-15T14:41:31.051Z"
   },
   {
    "duration": 9,
    "start_time": "2022-08-15T14:41:45.303Z"
   },
   {
    "duration": 129,
    "start_time": "2022-08-15T14:41:45.738Z"
   },
   {
    "duration": 3,
    "start_time": "2022-08-15T14:41:49.099Z"
   },
   {
    "duration": 143,
    "start_time": "2022-08-15T14:41:49.104Z"
   },
   {
    "duration": 52,
    "start_time": "2022-08-15T14:41:49.249Z"
   },
   {
    "duration": 2172,
    "start_time": "2022-08-15T14:41:49.310Z"
   },
   {
    "duration": 14,
    "start_time": "2022-08-15T14:41:51.487Z"
   },
   {
    "duration": 28,
    "start_time": "2022-08-15T14:41:51.515Z"
   },
   {
    "duration": 41,
    "start_time": "2022-08-15T14:41:51.545Z"
   },
   {
    "duration": 58,
    "start_time": "2022-08-15T14:41:51.588Z"
   },
   {
    "duration": 182,
    "start_time": "2022-08-15T14:41:51.650Z"
   },
   {
    "duration": 58,
    "start_time": "2022-08-15T14:41:51.838Z"
   },
   {
    "duration": 227,
    "start_time": "2022-08-15T14:41:51.897Z"
   },
   {
    "duration": 43,
    "start_time": "2022-08-15T14:41:52.161Z"
   },
   {
    "duration": 189,
    "start_time": "2022-08-15T14:41:52.207Z"
   },
   {
    "duration": 14,
    "start_time": "2022-08-15T14:43:05.606Z"
   },
   {
    "duration": 6,
    "start_time": "2022-08-15T14:43:24.270Z"
   },
   {
    "duration": 114,
    "start_time": "2022-08-15T14:43:25.576Z"
   },
   {
    "duration": 14,
    "start_time": "2022-08-15T14:44:04.603Z"
   },
   {
    "duration": 118,
    "start_time": "2022-08-15T14:44:05.069Z"
   },
   {
    "duration": 9,
    "start_time": "2022-08-15T14:44:12.933Z"
   },
   {
    "duration": 120,
    "start_time": "2022-08-15T14:44:13.236Z"
   },
   {
    "duration": 16,
    "start_time": "2022-08-15T14:44:15.684Z"
   },
   {
    "duration": 127,
    "start_time": "2022-08-15T14:44:15.964Z"
   },
   {
    "duration": 3,
    "start_time": "2022-08-15T14:44:19.599Z"
   },
   {
    "duration": 133,
    "start_time": "2022-08-15T14:44:19.603Z"
   },
   {
    "duration": 40,
    "start_time": "2022-08-15T14:44:19.738Z"
   },
   {
    "duration": 1817,
    "start_time": "2022-08-15T14:44:19.779Z"
   },
   {
    "duration": 31,
    "start_time": "2022-08-15T14:44:21.598Z"
   },
   {
    "duration": 21,
    "start_time": "2022-08-15T14:44:21.631Z"
   },
   {
    "duration": 8,
    "start_time": "2022-08-15T14:44:21.654Z"
   },
   {
    "duration": 10,
    "start_time": "2022-08-15T14:44:21.663Z"
   },
   {
    "duration": 76,
    "start_time": "2022-08-15T14:44:21.674Z"
   },
   {
    "duration": 7,
    "start_time": "2022-08-15T14:44:21.752Z"
   },
   {
    "duration": 136,
    "start_time": "2022-08-15T14:44:21.761Z"
   },
   {
    "duration": 17,
    "start_time": "2022-08-15T14:44:21.899Z"
   },
   {
    "duration": 7,
    "start_time": "2022-08-15T14:44:23.655Z"
   },
   {
    "duration": 144,
    "start_time": "2022-08-15T14:44:25.103Z"
   },
   {
    "duration": 18,
    "start_time": "2022-08-15T14:45:03.096Z"
   },
   {
    "duration": 120,
    "start_time": "2022-08-15T14:45:03.443Z"
   },
   {
    "duration": 16,
    "start_time": "2022-08-15T14:45:14.453Z"
   },
   {
    "duration": 113,
    "start_time": "2022-08-15T14:45:15.042Z"
   },
   {
    "duration": 16,
    "start_time": "2022-08-15T14:45:27.430Z"
   },
   {
    "duration": 136,
    "start_time": "2022-08-15T14:45:27.806Z"
   },
   {
    "duration": 2,
    "start_time": "2022-08-15T14:45:33.795Z"
   },
   {
    "duration": 108,
    "start_time": "2022-08-15T14:45:33.799Z"
   },
   {
    "duration": 50,
    "start_time": "2022-08-15T14:45:33.909Z"
   },
   {
    "duration": 2319,
    "start_time": "2022-08-15T14:45:33.960Z"
   },
   {
    "duration": 42,
    "start_time": "2022-08-15T14:45:36.281Z"
   },
   {
    "duration": 10,
    "start_time": "2022-08-15T14:45:36.330Z"
   },
   {
    "duration": 7,
    "start_time": "2022-08-15T14:45:36.342Z"
   },
   {
    "duration": 6,
    "start_time": "2022-08-15T14:45:36.350Z"
   },
   {
    "duration": 73,
    "start_time": "2022-08-15T14:45:36.357Z"
   },
   {
    "duration": 6,
    "start_time": "2022-08-15T14:45:36.436Z"
   },
   {
    "duration": 130,
    "start_time": "2022-08-15T14:45:36.445Z"
   },
   {
    "duration": 8,
    "start_time": "2022-08-15T14:45:36.577Z"
   },
   {
    "duration": 151,
    "start_time": "2022-08-15T14:45:36.587Z"
   },
   {
    "duration": 8,
    "start_time": "2022-08-15T14:45:54.842Z"
   },
   {
    "duration": 134,
    "start_time": "2022-08-15T14:45:55.298Z"
   },
   {
    "duration": 7,
    "start_time": "2022-08-15T14:45:58.772Z"
   },
   {
    "duration": 148,
    "start_time": "2022-08-15T14:45:59.092Z"
   },
   {
    "duration": 7,
    "start_time": "2022-08-15T14:46:02.232Z"
   },
   {
    "duration": 130,
    "start_time": "2022-08-15T14:46:02.690Z"
   },
   {
    "duration": 127,
    "start_time": "2022-08-15T14:46:05.683Z"
   },
   {
    "duration": 618,
    "start_time": "2022-08-15T14:46:24.474Z"
   },
   {
    "duration": 107,
    "start_time": "2022-08-15T14:46:25.094Z"
   },
   {
    "duration": 61,
    "start_time": "2022-08-15T14:46:25.202Z"
   },
   {
    "duration": 2041,
    "start_time": "2022-08-15T14:46:25.265Z"
   },
   {
    "duration": 27,
    "start_time": "2022-08-15T14:46:27.309Z"
   },
   {
    "duration": 22,
    "start_time": "2022-08-15T14:46:27.339Z"
   },
   {
    "duration": 8,
    "start_time": "2022-08-15T14:46:27.363Z"
   },
   {
    "duration": 8,
    "start_time": "2022-08-15T14:46:27.373Z"
   },
   {
    "duration": 104,
    "start_time": "2022-08-15T14:46:27.383Z"
   },
   {
    "duration": 9,
    "start_time": "2022-08-15T14:46:27.489Z"
   },
   {
    "duration": 154,
    "start_time": "2022-08-15T14:46:27.511Z"
   },
   {
    "duration": 10,
    "start_time": "2022-08-15T14:46:27.667Z"
   },
   {
    "duration": 14,
    "start_time": "2022-08-15T14:46:41.517Z"
   },
   {
    "duration": 108,
    "start_time": "2022-08-15T14:46:41.533Z"
   },
   {
    "duration": 50,
    "start_time": "2022-08-15T14:46:41.643Z"
   },
   {
    "duration": 1944,
    "start_time": "2022-08-15T14:46:41.695Z"
   },
   {
    "duration": 21,
    "start_time": "2022-08-15T14:46:43.642Z"
   },
   {
    "duration": 9,
    "start_time": "2022-08-15T14:46:43.665Z"
   },
   {
    "duration": 9,
    "start_time": "2022-08-15T14:46:43.676Z"
   },
   {
    "duration": 51,
    "start_time": "2022-08-15T14:46:43.687Z"
   },
   {
    "duration": 52,
    "start_time": "2022-08-15T14:46:43.742Z"
   },
   {
    "duration": 7,
    "start_time": "2022-08-15T14:46:43.797Z"
   },
   {
    "duration": 142,
    "start_time": "2022-08-15T14:46:43.806Z"
   },
   {
    "duration": 7,
    "start_time": "2022-08-15T14:46:43.950Z"
   },
   {
    "duration": 2,
    "start_time": "2022-08-15T14:47:02.637Z"
   },
   {
    "duration": 96,
    "start_time": "2022-08-15T14:47:02.641Z"
   },
   {
    "duration": 38,
    "start_time": "2022-08-15T14:47:02.739Z"
   },
   {
    "duration": 1883,
    "start_time": "2022-08-15T14:47:02.778Z"
   },
   {
    "duration": 18,
    "start_time": "2022-08-15T14:47:04.663Z"
   },
   {
    "duration": 45,
    "start_time": "2022-08-15T14:47:04.683Z"
   },
   {
    "duration": 18,
    "start_time": "2022-08-15T14:47:04.729Z"
   },
   {
    "duration": 8,
    "start_time": "2022-08-15T14:47:04.749Z"
   },
   {
    "duration": 53,
    "start_time": "2022-08-15T14:47:04.759Z"
   },
   {
    "duration": 12,
    "start_time": "2022-08-15T14:47:04.820Z"
   },
   {
    "duration": 112,
    "start_time": "2022-08-15T14:47:04.834Z"
   },
   {
    "duration": 8,
    "start_time": "2022-08-15T14:47:04.947Z"
   },
   {
    "duration": 131,
    "start_time": "2022-08-15T14:47:04.956Z"
   },
   {
    "duration": 7,
    "start_time": "2022-08-15T14:48:43.796Z"
   },
   {
    "duration": 103,
    "start_time": "2022-08-15T14:48:44.339Z"
   },
   {
    "duration": 5,
    "start_time": "2022-08-15T14:48:59.050Z"
   },
   {
    "duration": 99,
    "start_time": "2022-08-15T14:48:59.495Z"
   },
   {
    "duration": 3,
    "start_time": "2022-08-15T14:49:04.448Z"
   },
   {
    "duration": 93,
    "start_time": "2022-08-15T14:49:04.453Z"
   },
   {
    "duration": 40,
    "start_time": "2022-08-15T14:49:04.548Z"
   },
   {
    "duration": 1926,
    "start_time": "2022-08-15T14:49:04.590Z"
   },
   {
    "duration": 17,
    "start_time": "2022-08-15T14:49:06.519Z"
   },
   {
    "duration": 9,
    "start_time": "2022-08-15T14:49:06.538Z"
   },
   {
    "duration": 6,
    "start_time": "2022-08-15T14:49:06.549Z"
   },
   {
    "duration": 10,
    "start_time": "2022-08-15T14:49:06.556Z"
   },
   {
    "duration": 83,
    "start_time": "2022-08-15T14:49:06.567Z"
   },
   {
    "duration": 6,
    "start_time": "2022-08-15T14:49:06.652Z"
   },
   {
    "duration": 125,
    "start_time": "2022-08-15T14:49:06.660Z"
   },
   {
    "duration": 6,
    "start_time": "2022-08-15T14:49:06.787Z"
   },
   {
    "duration": 126,
    "start_time": "2022-08-15T14:49:06.808Z"
   },
   {
    "duration": 10,
    "start_time": "2022-08-15T14:51:05.688Z"
   },
   {
    "duration": 118,
    "start_time": "2022-08-15T14:51:06.080Z"
   },
   {
    "duration": 3,
    "start_time": "2022-08-15T14:51:11.287Z"
   },
   {
    "duration": 99,
    "start_time": "2022-08-15T14:51:11.297Z"
   },
   {
    "duration": 46,
    "start_time": "2022-08-15T14:51:11.398Z"
   },
   {
    "duration": 2024,
    "start_time": "2022-08-15T14:51:11.445Z"
   },
   {
    "duration": 17,
    "start_time": "2022-08-15T14:51:13.471Z"
   },
   {
    "duration": 16,
    "start_time": "2022-08-15T14:51:13.508Z"
   },
   {
    "duration": 7,
    "start_time": "2022-08-15T14:51:13.525Z"
   },
   {
    "duration": 8,
    "start_time": "2022-08-15T14:51:13.533Z"
   },
   {
    "duration": 77,
    "start_time": "2022-08-15T14:51:13.543Z"
   },
   {
    "duration": 8,
    "start_time": "2022-08-15T14:51:13.621Z"
   },
   {
    "duration": 144,
    "start_time": "2022-08-15T14:51:13.631Z"
   },
   {
    "duration": 7,
    "start_time": "2022-08-15T14:51:13.777Z"
   },
   {
    "duration": 142,
    "start_time": "2022-08-15T14:51:13.785Z"
   },
   {
    "duration": 7,
    "start_time": "2022-08-15T14:52:57.751Z"
   },
   {
    "duration": 127,
    "start_time": "2022-08-15T14:52:58.096Z"
   },
   {
    "duration": 7,
    "start_time": "2022-08-15T14:54:26.693Z"
   },
   {
    "duration": 136,
    "start_time": "2022-08-15T14:54:27.235Z"
   },
   {
    "duration": 10,
    "start_time": "2022-08-15T14:54:55.872Z"
   },
   {
    "duration": 105,
    "start_time": "2022-08-15T14:54:57.589Z"
   },
   {
    "duration": 7,
    "start_time": "2022-08-15T14:55:19.350Z"
   },
   {
    "duration": 127,
    "start_time": "2022-08-15T14:55:19.648Z"
   },
   {
    "duration": 3,
    "start_time": "2022-08-15T14:55:23.036Z"
   },
   {
    "duration": 103,
    "start_time": "2022-08-15T14:55:23.042Z"
   },
   {
    "duration": 41,
    "start_time": "2022-08-15T14:55:23.147Z"
   },
   {
    "duration": 1883,
    "start_time": "2022-08-15T14:55:23.208Z"
   },
   {
    "duration": 23,
    "start_time": "2022-08-15T14:55:25.094Z"
   },
   {
    "duration": 16,
    "start_time": "2022-08-15T14:55:25.119Z"
   },
   {
    "duration": 15,
    "start_time": "2022-08-15T14:55:25.137Z"
   },
   {
    "duration": 37,
    "start_time": "2022-08-15T14:55:25.154Z"
   },
   {
    "duration": 62,
    "start_time": "2022-08-15T14:55:25.193Z"
   },
   {
    "duration": 6,
    "start_time": "2022-08-15T14:55:25.257Z"
   },
   {
    "duration": 118,
    "start_time": "2022-08-15T14:55:25.264Z"
   },
   {
    "duration": 8,
    "start_time": "2022-08-15T14:55:25.383Z"
   },
   {
    "duration": 126,
    "start_time": "2022-08-15T14:55:25.392Z"
   },
   {
    "duration": 103,
    "start_time": "2022-08-15T14:56:31.629Z"
   },
   {
    "duration": 97,
    "start_time": "2022-08-15T14:56:41.993Z"
   },
   {
    "duration": 3,
    "start_time": "2022-08-15T14:56:46.331Z"
   },
   {
    "duration": 92,
    "start_time": "2022-08-15T14:56:46.337Z"
   },
   {
    "duration": 39,
    "start_time": "2022-08-15T14:56:46.430Z"
   },
   {
    "duration": 1837,
    "start_time": "2022-08-15T14:56:46.472Z"
   },
   {
    "duration": 14,
    "start_time": "2022-08-15T14:56:48.310Z"
   },
   {
    "duration": 11,
    "start_time": "2022-08-15T14:56:48.326Z"
   },
   {
    "duration": 7,
    "start_time": "2022-08-15T14:56:48.339Z"
   },
   {
    "duration": 6,
    "start_time": "2022-08-15T14:56:48.348Z"
   },
   {
    "duration": 78,
    "start_time": "2022-08-15T14:56:48.355Z"
   },
   {
    "duration": 6,
    "start_time": "2022-08-15T14:56:48.435Z"
   },
   {
    "duration": 123,
    "start_time": "2022-08-15T14:56:48.443Z"
   },
   {
    "duration": 94,
    "start_time": "2022-08-15T14:56:59.495Z"
   },
   {
    "duration": 9,
    "start_time": "2022-08-15T14:57:59.595Z"
   },
   {
    "duration": 111,
    "start_time": "2022-08-15T14:58:00.011Z"
   },
   {
    "duration": 100,
    "start_time": "2022-08-15T14:58:09.370Z"
   },
   {
    "duration": 7,
    "start_time": "2022-08-15T14:59:29.442Z"
   },
   {
    "duration": 121,
    "start_time": "2022-08-15T14:59:30.010Z"
   },
   {
    "duration": 8,
    "start_time": "2022-08-15T14:59:48.172Z"
   },
   {
    "duration": 98,
    "start_time": "2022-08-15T15:02:48.856Z"
   },
   {
    "duration": 106,
    "start_time": "2022-08-15T15:03:20.355Z"
   },
   {
    "duration": 104,
    "start_time": "2022-08-15T15:05:22.352Z"
   },
   {
    "duration": 98,
    "start_time": "2022-08-15T15:05:31.097Z"
   },
   {
    "duration": 99,
    "start_time": "2022-08-15T15:07:43.179Z"
   },
   {
    "duration": 6,
    "start_time": "2022-08-15T15:07:56.859Z"
   },
   {
    "duration": 34,
    "start_time": "2022-08-15T15:08:06.787Z"
   },
   {
    "duration": 21,
    "start_time": "2022-08-15T15:11:41.181Z"
   },
   {
    "duration": 64,
    "start_time": "2022-08-15T15:17:06.973Z"
   },
   {
    "duration": 351,
    "start_time": "2022-08-15T15:19:11.168Z"
   },
   {
    "duration": 34,
    "start_time": "2022-08-15T15:26:05.490Z"
   },
   {
    "duration": 170,
    "start_time": "2022-08-15T15:34:02.449Z"
   },
   {
    "duration": 101,
    "start_time": "2022-08-15T15:34:07.035Z"
   },
   {
    "duration": 111,
    "start_time": "2022-08-15T15:34:49.920Z"
   },
   {
    "duration": 21,
    "start_time": "2022-08-15T15:37:46.676Z"
   },
   {
    "duration": 10,
    "start_time": "2022-08-15T15:38:51.267Z"
   },
   {
    "duration": 16,
    "start_time": "2022-08-15T15:39:01.541Z"
   },
   {
    "duration": 13,
    "start_time": "2022-08-15T15:39:07.415Z"
   },
   {
    "duration": 52,
    "start_time": "2022-08-15T15:39:07.927Z"
   },
   {
    "duration": 13,
    "start_time": "2022-08-15T15:39:17.662Z"
   },
   {
    "duration": 3,
    "start_time": "2022-08-15T15:39:24.452Z"
   },
   {
    "duration": 92,
    "start_time": "2022-08-15T15:39:24.457Z"
   },
   {
    "duration": 39,
    "start_time": "2022-08-15T15:39:24.551Z"
   },
   {
    "duration": 1741,
    "start_time": "2022-08-15T15:39:24.592Z"
   },
   {
    "duration": 15,
    "start_time": "2022-08-15T15:39:26.334Z"
   },
   {
    "duration": 8,
    "start_time": "2022-08-15T15:39:26.350Z"
   },
   {
    "duration": 6,
    "start_time": "2022-08-15T15:39:26.360Z"
   },
   {
    "duration": 6,
    "start_time": "2022-08-15T15:39:26.367Z"
   },
   {
    "duration": 75,
    "start_time": "2022-08-15T15:39:26.374Z"
   },
   {
    "duration": 7,
    "start_time": "2022-08-15T15:39:26.450Z"
   },
   {
    "duration": 131,
    "start_time": "2022-08-15T15:39:26.459Z"
   },
   {
    "duration": 19,
    "start_time": "2022-08-15T15:39:26.592Z"
   },
   {
    "duration": 108,
    "start_time": "2022-08-15T15:39:26.613Z"
   },
   {
    "duration": 111,
    "start_time": "2022-08-15T15:39:26.722Z"
   },
   {
    "duration": 21,
    "start_time": "2022-08-15T15:39:26.834Z"
   },
   {
    "duration": 125,
    "start_time": "2022-08-15T15:39:26.857Z"
   },
   {
    "duration": 35,
    "start_time": "2022-08-15T15:39:26.983Z"
   },
   {
    "duration": 113,
    "start_time": "2022-08-15T15:39:27.019Z"
   },
   {
    "duration": 25,
    "start_time": "2022-08-15T15:39:40.819Z"
   },
   {
    "duration": 23,
    "start_time": "2022-08-15T15:40:11.392Z"
   },
   {
    "duration": 4,
    "start_time": "2022-08-15T15:46:58.422Z"
   },
   {
    "duration": 111,
    "start_time": "2022-08-15T15:47:07.055Z"
   },
   {
    "duration": 108,
    "start_time": "2022-08-15T15:47:13.001Z"
   },
   {
    "duration": 3,
    "start_time": "2022-08-15T15:47:16.233Z"
   },
   {
    "duration": 89,
    "start_time": "2022-08-15T15:47:16.238Z"
   },
   {
    "duration": 39,
    "start_time": "2022-08-15T15:47:16.328Z"
   },
   {
    "duration": 2020,
    "start_time": "2022-08-15T15:47:16.368Z"
   },
   {
    "duration": 26,
    "start_time": "2022-08-15T15:47:18.391Z"
   },
   {
    "duration": 11,
    "start_time": "2022-08-15T15:47:18.418Z"
   },
   {
    "duration": 10,
    "start_time": "2022-08-15T15:47:18.431Z"
   },
   {
    "duration": 20,
    "start_time": "2022-08-15T15:47:18.442Z"
   },
   {
    "duration": 61,
    "start_time": "2022-08-15T15:47:18.464Z"
   },
   {
    "duration": 7,
    "start_time": "2022-08-15T15:47:18.527Z"
   },
   {
    "duration": 145,
    "start_time": "2022-08-15T15:47:18.536Z"
   },
   {
    "duration": 11,
    "start_time": "2022-08-15T15:47:18.683Z"
   },
   {
    "duration": 116,
    "start_time": "2022-08-15T15:47:18.711Z"
   },
   {
    "duration": 113,
    "start_time": "2022-08-15T15:47:18.829Z"
   },
   {
    "duration": 22,
    "start_time": "2022-08-15T15:47:18.944Z"
   },
   {
    "duration": 134,
    "start_time": "2022-08-15T15:47:18.968Z"
   },
   {
    "duration": 23,
    "start_time": "2022-08-15T15:47:19.103Z"
   },
   {
    "duration": 126,
    "start_time": "2022-08-15T15:47:19.127Z"
   },
   {
    "duration": 22,
    "start_time": "2022-08-15T15:47:19.254Z"
   },
   {
    "duration": 10,
    "start_time": "2022-08-15T15:47:19.278Z"
   },
   {
    "duration": 4,
    "start_time": "2022-08-15T15:47:32.018Z"
   },
   {
    "duration": 6,
    "start_time": "2022-08-15T15:47:33.895Z"
   },
   {
    "duration": 105,
    "start_time": "2022-08-15T15:47:34.486Z"
   },
   {
    "duration": 55,
    "start_time": "2022-08-15T15:48:09.297Z"
   },
   {
    "duration": 21,
    "start_time": "2022-08-15T16:08:45.734Z"
   },
   {
    "duration": 24,
    "start_time": "2022-08-15T16:09:26.218Z"
   },
   {
    "duration": 112,
    "start_time": "2022-08-15T16:12:36.899Z"
   },
   {
    "duration": 15,
    "start_time": "2022-08-15T16:12:58.876Z"
   },
   {
    "duration": 14,
    "start_time": "2022-08-15T16:13:13.825Z"
   },
   {
    "duration": 28,
    "start_time": "2022-08-15T16:13:24.707Z"
   },
   {
    "duration": 111,
    "start_time": "2022-08-15T16:15:42.116Z"
   },
   {
    "duration": 99,
    "start_time": "2022-08-15T16:18:36.885Z"
   },
   {
    "duration": 9,
    "start_time": "2022-08-15T16:22:31.843Z"
   },
   {
    "duration": 6,
    "start_time": "2022-08-15T16:22:43.597Z"
   },
   {
    "duration": 4,
    "start_time": "2022-08-15T16:23:09.175Z"
   },
   {
    "duration": 15,
    "start_time": "2022-08-15T16:23:28.534Z"
   },
   {
    "duration": 11,
    "start_time": "2022-08-15T16:26:51.662Z"
   },
   {
    "duration": 9,
    "start_time": "2022-08-15T16:27:03.536Z"
   },
   {
    "duration": 9,
    "start_time": "2022-08-15T16:27:44.498Z"
   },
   {
    "duration": 106,
    "start_time": "2022-08-15T16:27:46.628Z"
   },
   {
    "duration": 99,
    "start_time": "2022-08-15T16:27:48.953Z"
   },
   {
    "duration": 10,
    "start_time": "2022-08-15T16:29:20.110Z"
   },
   {
    "duration": 107,
    "start_time": "2022-08-15T16:29:22.969Z"
   },
   {
    "duration": 3,
    "start_time": "2022-08-15T16:29:41.083Z"
   },
   {
    "duration": 90,
    "start_time": "2022-08-15T16:29:41.088Z"
   },
   {
    "duration": 55,
    "start_time": "2022-08-15T16:29:41.180Z"
   },
   {
    "duration": 1676,
    "start_time": "2022-08-15T16:29:41.237Z"
   },
   {
    "duration": 17,
    "start_time": "2022-08-15T16:29:42.915Z"
   },
   {
    "duration": 8,
    "start_time": "2022-08-15T16:29:42.934Z"
   },
   {
    "duration": 18,
    "start_time": "2022-08-15T16:29:42.944Z"
   },
   {
    "duration": 8,
    "start_time": "2022-08-15T16:29:42.964Z"
   },
   {
    "duration": 69,
    "start_time": "2022-08-15T16:29:42.973Z"
   },
   {
    "duration": 6,
    "start_time": "2022-08-15T16:29:43.044Z"
   },
   {
    "duration": 122,
    "start_time": "2022-08-15T16:29:43.052Z"
   },
   {
    "duration": 12,
    "start_time": "2022-08-15T16:29:43.176Z"
   },
   {
    "duration": 130,
    "start_time": "2022-08-15T16:29:43.189Z"
   },
   {
    "duration": 105,
    "start_time": "2022-08-15T16:29:43.321Z"
   },
   {
    "duration": 22,
    "start_time": "2022-08-15T16:29:43.427Z"
   },
   {
    "duration": 130,
    "start_time": "2022-08-15T16:29:43.451Z"
   },
   {
    "duration": 34,
    "start_time": "2022-08-15T16:29:43.583Z"
   },
   {
    "duration": 123,
    "start_time": "2022-08-15T16:29:43.619Z"
   },
   {
    "duration": 23,
    "start_time": "2022-08-15T16:29:43.743Z"
   },
   {
    "duration": 11,
    "start_time": "2022-08-15T16:29:43.768Z"
   },
   {
    "duration": 123,
    "start_time": "2022-08-15T16:29:43.780Z"
   },
   {
    "duration": 123,
    "start_time": "2022-08-15T16:29:43.904Z"
   },
   {
    "duration": 24,
    "start_time": "2022-08-15T16:29:44.029Z"
   },
   {
    "duration": 133,
    "start_time": "2022-08-15T16:29:44.054Z"
   },
   {
    "duration": 37,
    "start_time": "2022-08-15T16:29:44.188Z"
   },
   {
    "duration": 3,
    "start_time": "2022-08-15T16:29:44.227Z"
   },
   {
    "duration": 14,
    "start_time": "2022-08-15T16:29:58.029Z"
   },
   {
    "duration": 841,
    "start_time": "2022-08-15T16:39:32.596Z"
   },
   {
    "duration": 13,
    "start_time": "2022-08-15T16:41:01.866Z"
   },
   {
    "duration": 3,
    "start_time": "2022-08-15T16:41:07.707Z"
   },
   {
    "duration": 96,
    "start_time": "2022-08-15T16:41:07.712Z"
   },
   {
    "duration": 38,
    "start_time": "2022-08-15T16:41:07.810Z"
   },
   {
    "duration": 1724,
    "start_time": "2022-08-15T16:41:07.849Z"
   },
   {
    "duration": 14,
    "start_time": "2022-08-15T16:41:09.575Z"
   },
   {
    "duration": 24,
    "start_time": "2022-08-15T16:41:09.590Z"
   },
   {
    "duration": 10,
    "start_time": "2022-08-15T16:41:09.616Z"
   },
   {
    "duration": 7,
    "start_time": "2022-08-15T16:41:09.628Z"
   },
   {
    "duration": 48,
    "start_time": "2022-08-15T16:41:09.636Z"
   },
   {
    "duration": 25,
    "start_time": "2022-08-15T16:41:09.686Z"
   },
   {
    "duration": 123,
    "start_time": "2022-08-15T16:41:09.714Z"
   },
   {
    "duration": 12,
    "start_time": "2022-08-15T16:41:09.839Z"
   },
   {
    "duration": 123,
    "start_time": "2022-08-15T16:41:09.852Z"
   },
   {
    "duration": 113,
    "start_time": "2022-08-15T16:41:09.977Z"
   },
   {
    "duration": 35,
    "start_time": "2022-08-15T16:41:10.092Z"
   },
   {
    "duration": 139,
    "start_time": "2022-08-15T16:41:10.128Z"
   },
   {
    "duration": 24,
    "start_time": "2022-08-15T16:41:10.269Z"
   },
   {
    "duration": 114,
    "start_time": "2022-08-15T16:41:10.308Z"
   },
   {
    "duration": 23,
    "start_time": "2022-08-15T16:41:10.424Z"
   },
   {
    "duration": 7,
    "start_time": "2022-08-15T16:41:10.449Z"
   },
   {
    "duration": 136,
    "start_time": "2022-08-15T16:41:10.457Z"
   },
   {
    "duration": 123,
    "start_time": "2022-08-15T16:41:10.595Z"
   },
   {
    "duration": 22,
    "start_time": "2022-08-15T16:41:10.720Z"
   },
   {
    "duration": 126,
    "start_time": "2022-08-15T16:41:10.744Z"
   },
   {
    "duration": 38,
    "start_time": "2022-08-15T16:41:10.872Z"
   },
   {
    "duration": 4,
    "start_time": "2022-08-15T16:41:10.912Z"
   },
   {
    "duration": 9,
    "start_time": "2022-08-15T16:42:43.131Z"
   },
   {
    "duration": 8,
    "start_time": "2022-08-15T16:43:13.568Z"
   },
   {
    "duration": 5,
    "start_time": "2022-08-15T16:43:41.956Z"
   },
   {
    "duration": 6,
    "start_time": "2022-08-15T16:44:04.878Z"
   },
   {
    "duration": 6,
    "start_time": "2022-08-15T16:44:08.270Z"
   },
   {
    "duration": 6,
    "start_time": "2022-08-15T16:44:13.262Z"
   },
   {
    "duration": 6,
    "start_time": "2022-08-15T16:44:53.690Z"
   },
   {
    "duration": 5,
    "start_time": "2022-08-15T16:45:09.405Z"
   },
   {
    "duration": 10,
    "start_time": "2022-08-15T16:45:13.758Z"
   },
   {
    "duration": 10,
    "start_time": "2022-08-15T16:45:26.127Z"
   },
   {
    "duration": 6,
    "start_time": "2022-08-15T16:45:28.392Z"
   },
   {
    "duration": 6,
    "start_time": "2022-08-15T16:45:41.096Z"
   },
   {
    "duration": 7,
    "start_time": "2022-08-15T16:45:52.812Z"
   },
   {
    "duration": 13,
    "start_time": "2022-08-15T16:45:58.659Z"
   },
   {
    "duration": 6,
    "start_time": "2022-08-15T16:46:04.444Z"
   },
   {
    "duration": 5,
    "start_time": "2022-08-15T16:48:02.578Z"
   },
   {
    "duration": 5,
    "start_time": "2022-08-15T16:49:59.513Z"
   },
   {
    "duration": 10,
    "start_time": "2022-08-15T16:50:19.051Z"
   },
   {
    "duration": 8,
    "start_time": "2022-08-15T16:50:40.277Z"
   },
   {
    "duration": 7,
    "start_time": "2022-08-15T16:51:55.007Z"
   },
   {
    "duration": 9,
    "start_time": "2022-08-15T16:52:49.805Z"
   },
   {
    "duration": 8,
    "start_time": "2022-08-15T16:52:58.495Z"
   },
   {
    "duration": 7,
    "start_time": "2022-08-15T16:53:13.105Z"
   },
   {
    "duration": 6,
    "start_time": "2022-08-15T16:53:51.494Z"
   },
   {
    "duration": 9,
    "start_time": "2022-08-15T16:55:00.711Z"
   },
   {
    "duration": 9,
    "start_time": "2022-08-15T16:56:43.359Z"
   },
   {
    "duration": 7,
    "start_time": "2022-08-15T16:58:55.209Z"
   },
   {
    "duration": 6,
    "start_time": "2022-08-15T16:59:17.623Z"
   },
   {
    "duration": 6,
    "start_time": "2022-08-15T16:59:27.082Z"
   },
   {
    "duration": 12,
    "start_time": "2022-08-15T16:59:32.401Z"
   },
   {
    "duration": 40,
    "start_time": "2022-08-15T17:00:05.478Z"
   },
   {
    "duration": 9,
    "start_time": "2022-08-15T17:03:59.887Z"
   },
   {
    "duration": 10,
    "start_time": "2022-08-15T17:04:10.014Z"
   },
   {
    "duration": 5,
    "start_time": "2022-08-15T17:04:14.221Z"
   },
   {
    "duration": 15,
    "start_time": "2022-08-15T17:04:14.878Z"
   },
   {
    "duration": 43,
    "start_time": "2022-08-15T17:04:21.542Z"
   },
   {
    "duration": 51,
    "start_time": "2022-08-15T17:04:23.184Z"
   },
   {
    "duration": 4,
    "start_time": "2022-08-15T17:04:41.312Z"
   },
   {
    "duration": 13,
    "start_time": "2022-08-15T17:04:42.025Z"
   },
   {
    "duration": 40,
    "start_time": "2022-08-15T17:04:44.419Z"
   },
   {
    "duration": 3,
    "start_time": "2022-08-15T17:04:50.170Z"
   },
   {
    "duration": 105,
    "start_time": "2022-08-15T17:04:50.175Z"
   },
   {
    "duration": 55,
    "start_time": "2022-08-15T17:04:50.282Z"
   },
   {
    "duration": 1785,
    "start_time": "2022-08-15T17:04:50.339Z"
   },
   {
    "duration": 14,
    "start_time": "2022-08-15T17:04:52.126Z"
   },
   {
    "duration": 33,
    "start_time": "2022-08-15T17:04:52.142Z"
   },
   {
    "duration": 31,
    "start_time": "2022-08-15T17:04:52.177Z"
   },
   {
    "duration": 32,
    "start_time": "2022-08-15T17:04:52.210Z"
   },
   {
    "duration": 85,
    "start_time": "2022-08-15T17:04:52.244Z"
   },
   {
    "duration": 37,
    "start_time": "2022-08-15T17:04:52.331Z"
   },
   {
    "duration": 136,
    "start_time": "2022-08-15T17:04:52.373Z"
   },
   {
    "duration": 12,
    "start_time": "2022-08-15T17:04:52.511Z"
   },
   {
    "duration": 129,
    "start_time": "2022-08-15T17:04:52.525Z"
   },
   {
    "duration": 118,
    "start_time": "2022-08-15T17:04:52.656Z"
   },
   {
    "duration": 39,
    "start_time": "2022-08-15T17:04:52.776Z"
   },
   {
    "duration": 133,
    "start_time": "2022-08-15T17:04:52.817Z"
   },
   {
    "duration": 22,
    "start_time": "2022-08-15T17:04:52.952Z"
   },
   {
    "duration": 132,
    "start_time": "2022-08-15T17:04:52.976Z"
   },
   {
    "duration": 23,
    "start_time": "2022-08-15T17:04:53.110Z"
   },
   {
    "duration": 20,
    "start_time": "2022-08-15T17:04:53.135Z"
   },
   {
    "duration": 127,
    "start_time": "2022-08-15T17:04:53.157Z"
   },
   {
    "duration": 129,
    "start_time": "2022-08-15T17:04:53.286Z"
   },
   {
    "duration": 21,
    "start_time": "2022-08-15T17:04:53.417Z"
   },
   {
    "duration": 121,
    "start_time": "2022-08-15T17:04:53.440Z"
   },
   {
    "duration": 29,
    "start_time": "2022-08-15T17:04:53.563Z"
   },
   {
    "duration": 4,
    "start_time": "2022-08-15T17:04:53.609Z"
   },
   {
    "duration": 9,
    "start_time": "2022-08-15T17:04:53.615Z"
   },
   {
    "duration": 6,
    "start_time": "2022-08-15T17:04:53.625Z"
   },
   {
    "duration": 14,
    "start_time": "2022-08-15T17:04:53.634Z"
   },
   {
    "duration": 3,
    "start_time": "2022-08-15T17:04:59.828Z"
   },
   {
    "duration": 110,
    "start_time": "2022-08-15T17:04:59.834Z"
   },
   {
    "duration": 40,
    "start_time": "2022-08-15T17:04:59.946Z"
   },
   {
    "duration": 2253,
    "start_time": "2022-08-15T17:04:59.987Z"
   },
   {
    "duration": 18,
    "start_time": "2022-08-15T17:05:02.242Z"
   },
   {
    "duration": 9,
    "start_time": "2022-08-15T17:05:02.262Z"
   },
   {
    "duration": 39,
    "start_time": "2022-08-15T17:05:02.272Z"
   },
   {
    "duration": 4,
    "start_time": "2022-08-15T17:05:02.313Z"
   },
   {
    "duration": 58,
    "start_time": "2022-08-15T17:05:02.320Z"
   },
   {
    "duration": 31,
    "start_time": "2022-08-15T17:05:02.380Z"
   },
   {
    "duration": 151,
    "start_time": "2022-08-15T17:05:02.415Z"
   },
   {
    "duration": 12,
    "start_time": "2022-08-15T17:05:02.568Z"
   },
   {
    "duration": 155,
    "start_time": "2022-08-15T17:05:02.582Z"
   },
   {
    "duration": 137,
    "start_time": "2022-08-15T17:05:02.740Z"
   },
   {
    "duration": 36,
    "start_time": "2022-08-15T17:05:02.879Z"
   },
   {
    "duration": 153,
    "start_time": "2022-08-15T17:05:02.918Z"
   },
   {
    "duration": 23,
    "start_time": "2022-08-15T17:05:03.073Z"
   },
   {
    "duration": 125,
    "start_time": "2022-08-15T17:05:03.108Z"
   },
   {
    "duration": 23,
    "start_time": "2022-08-15T17:05:03.235Z"
   },
   {
    "duration": 5,
    "start_time": "2022-08-15T17:05:03.260Z"
   },
   {
    "duration": 142,
    "start_time": "2022-08-15T17:05:03.267Z"
   },
   {
    "duration": 124,
    "start_time": "2022-08-15T17:05:03.411Z"
   },
   {
    "duration": 24,
    "start_time": "2022-08-15T17:05:03.538Z"
   },
   {
    "duration": 129,
    "start_time": "2022-08-15T17:05:03.564Z"
   },
   {
    "duration": 46,
    "start_time": "2022-08-15T17:05:03.695Z"
   },
   {
    "duration": 3,
    "start_time": "2022-08-15T17:05:03.743Z"
   },
   {
    "duration": 11,
    "start_time": "2022-08-15T17:05:03.748Z"
   },
   {
    "duration": 8,
    "start_time": "2022-08-15T17:05:03.760Z"
   },
   {
    "duration": 17,
    "start_time": "2022-08-15T17:05:03.771Z"
   },
   {
    "duration": 56,
    "start_time": "2022-08-15T17:05:03.790Z"
   },
   {
    "duration": 5,
    "start_time": "2022-08-15T17:06:28.110Z"
   },
   {
    "duration": 13,
    "start_time": "2022-08-15T17:06:28.999Z"
   },
   {
    "duration": 3,
    "start_time": "2022-08-15T17:06:32.912Z"
   },
   {
    "duration": 105,
    "start_time": "2022-08-15T17:06:32.918Z"
   },
   {
    "duration": 45,
    "start_time": "2022-08-15T17:06:33.025Z"
   },
   {
    "duration": 1743,
    "start_time": "2022-08-15T17:06:33.072Z"
   },
   {
    "duration": 14,
    "start_time": "2022-08-15T17:06:34.817Z"
   },
   {
    "duration": 8,
    "start_time": "2022-08-15T17:06:34.832Z"
   },
   {
    "duration": 8,
    "start_time": "2022-08-15T17:06:34.842Z"
   },
   {
    "duration": 7,
    "start_time": "2022-08-15T17:06:34.851Z"
   },
   {
    "duration": 93,
    "start_time": "2022-08-15T17:06:34.860Z"
   },
   {
    "duration": 8,
    "start_time": "2022-08-15T17:06:34.956Z"
   },
   {
    "duration": 133,
    "start_time": "2022-08-15T17:06:34.966Z"
   },
   {
    "duration": 16,
    "start_time": "2022-08-15T17:06:35.100Z"
   },
   {
    "duration": 139,
    "start_time": "2022-08-15T17:06:35.117Z"
   },
   {
    "duration": 115,
    "start_time": "2022-08-15T17:06:35.258Z"
   },
   {
    "duration": 34,
    "start_time": "2022-08-15T17:06:35.376Z"
   },
   {
    "duration": 127,
    "start_time": "2022-08-15T17:06:35.412Z"
   },
   {
    "duration": 23,
    "start_time": "2022-08-15T17:06:35.540Z"
   },
   {
    "duration": 128,
    "start_time": "2022-08-15T17:06:35.565Z"
   },
   {
    "duration": 42,
    "start_time": "2022-08-15T17:06:35.695Z"
   },
   {
    "duration": 5,
    "start_time": "2022-08-15T17:06:35.739Z"
   },
   {
    "duration": 139,
    "start_time": "2022-08-15T17:06:35.746Z"
   },
   {
    "duration": 147,
    "start_time": "2022-08-15T17:06:35.887Z"
   },
   {
    "duration": 26,
    "start_time": "2022-08-15T17:06:36.035Z"
   },
   {
    "duration": 129,
    "start_time": "2022-08-15T17:06:36.064Z"
   },
   {
    "duration": 52,
    "start_time": "2022-08-15T17:06:36.194Z"
   },
   {
    "duration": 7,
    "start_time": "2022-08-15T17:06:36.248Z"
   },
   {
    "duration": 16,
    "start_time": "2022-08-15T17:06:36.257Z"
   },
   {
    "duration": 5,
    "start_time": "2022-08-15T17:06:36.274Z"
   },
   {
    "duration": 38,
    "start_time": "2022-08-15T17:06:36.281Z"
   },
   {
    "duration": 38,
    "start_time": "2022-08-15T17:06:36.321Z"
   },
   {
    "duration": 823,
    "start_time": "2022-08-16T08:02:58.008Z"
   },
   {
    "duration": 153,
    "start_time": "2022-08-16T08:02:58.834Z"
   },
   {
    "duration": 50,
    "start_time": "2022-08-16T08:02:58.989Z"
   },
   {
    "duration": 2016,
    "start_time": "2022-08-16T08:02:59.041Z"
   },
   {
    "duration": 23,
    "start_time": "2022-08-16T08:03:01.060Z"
   },
   {
    "duration": 35,
    "start_time": "2022-08-16T08:03:01.085Z"
   },
   {
    "duration": 8,
    "start_time": "2022-08-16T08:03:01.123Z"
   },
   {
    "duration": 13,
    "start_time": "2022-08-16T08:03:01.133Z"
   },
   {
    "duration": 60,
    "start_time": "2022-08-16T08:03:01.148Z"
   },
   {
    "duration": 8,
    "start_time": "2022-08-16T08:03:01.212Z"
   },
   {
    "duration": 150,
    "start_time": "2022-08-16T08:03:01.222Z"
   },
   {
    "duration": 16,
    "start_time": "2022-08-16T08:03:01.374Z"
   },
   {
    "duration": 167,
    "start_time": "2022-08-16T08:03:01.392Z"
   },
   {
    "duration": 139,
    "start_time": "2022-08-16T08:03:01.561Z"
   },
   {
    "duration": 24,
    "start_time": "2022-08-16T08:03:01.702Z"
   },
   {
    "duration": 153,
    "start_time": "2022-08-16T08:03:01.728Z"
   },
   {
    "duration": 23,
    "start_time": "2022-08-16T08:03:01.882Z"
   },
   {
    "duration": 134,
    "start_time": "2022-08-16T08:03:01.907Z"
   },
   {
    "duration": 36,
    "start_time": "2022-08-16T08:03:02.042Z"
   },
   {
    "duration": 4,
    "start_time": "2022-08-16T08:03:02.080Z"
   },
   {
    "duration": 138,
    "start_time": "2022-08-16T08:03:02.086Z"
   },
   {
    "duration": 209,
    "start_time": "2022-08-16T08:03:02.226Z"
   },
   {
    "duration": 36,
    "start_time": "2022-08-16T08:03:02.437Z"
   },
   {
    "duration": 133,
    "start_time": "2022-08-16T08:03:02.475Z"
   },
   {
    "duration": 34,
    "start_time": "2022-08-16T08:03:02.610Z"
   },
   {
    "duration": 22,
    "start_time": "2022-08-16T08:03:02.645Z"
   },
   {
    "duration": 8,
    "start_time": "2022-08-16T08:03:02.669Z"
   },
   {
    "duration": 5,
    "start_time": "2022-08-16T08:03:02.680Z"
   },
   {
    "duration": 27,
    "start_time": "2022-08-16T08:03:02.687Z"
   },
   {
    "duration": 69,
    "start_time": "2022-08-16T08:03:02.716Z"
   },
   {
    "duration": 6,
    "start_time": "2022-08-16T08:08:26.500Z"
   },
   {
    "duration": 5,
    "start_time": "2022-08-16T08:09:06.005Z"
   },
   {
    "duration": 4,
    "start_time": "2022-08-16T08:09:14.227Z"
   },
   {
    "duration": 6,
    "start_time": "2022-08-16T08:09:16.563Z"
   },
   {
    "duration": 3,
    "start_time": "2022-08-16T08:09:24.884Z"
   },
   {
    "duration": 94,
    "start_time": "2022-08-16T08:09:24.888Z"
   },
   {
    "duration": 45,
    "start_time": "2022-08-16T08:09:24.984Z"
   },
   {
    "duration": 1945,
    "start_time": "2022-08-16T08:09:25.030Z"
   },
   {
    "duration": 14,
    "start_time": "2022-08-16T08:09:26.978Z"
   },
   {
    "duration": 8,
    "start_time": "2022-08-16T08:09:26.993Z"
   },
   {
    "duration": 8,
    "start_time": "2022-08-16T08:09:27.003Z"
   },
   {
    "duration": 7,
    "start_time": "2022-08-16T08:09:27.013Z"
   },
   {
    "duration": 3,
    "start_time": "2022-08-16T08:09:32.669Z"
   },
   {
    "duration": 91,
    "start_time": "2022-08-16T08:09:32.673Z"
   },
   {
    "duration": 40,
    "start_time": "2022-08-16T08:09:32.766Z"
   },
   {
    "duration": 2035,
    "start_time": "2022-08-16T08:09:32.808Z"
   },
   {
    "duration": 26,
    "start_time": "2022-08-16T08:09:34.845Z"
   },
   {
    "duration": 8,
    "start_time": "2022-08-16T08:09:34.873Z"
   },
   {
    "duration": 8,
    "start_time": "2022-08-16T08:09:34.883Z"
   },
   {
    "duration": 7,
    "start_time": "2022-08-16T08:09:34.892Z"
   },
   {
    "duration": 7,
    "start_time": "2022-08-16T08:09:34.901Z"
   },
   {
    "duration": 4,
    "start_time": "2022-08-16T08:10:58.514Z"
   },
   {
    "duration": 2,
    "start_time": "2022-08-16T08:11:21.665Z"
   },
   {
    "duration": 84,
    "start_time": "2022-08-16T08:11:21.669Z"
   },
   {
    "duration": 38,
    "start_time": "2022-08-16T08:11:21.755Z"
   },
   {
    "duration": 1916,
    "start_time": "2022-08-16T08:11:21.794Z"
   },
   {
    "duration": 14,
    "start_time": "2022-08-16T08:11:23.712Z"
   },
   {
    "duration": 8,
    "start_time": "2022-08-16T08:11:23.728Z"
   },
   {
    "duration": 31,
    "start_time": "2022-08-16T08:11:23.738Z"
   },
   {
    "duration": 4,
    "start_time": "2022-08-16T08:11:23.771Z"
   },
   {
    "duration": 7,
    "start_time": "2022-08-16T08:11:23.776Z"
   },
   {
    "duration": 5,
    "start_time": "2022-08-16T08:14:51.033Z"
   },
   {
    "duration": 130,
    "start_time": "2022-08-16T08:14:53.377Z"
   },
   {
    "duration": 3,
    "start_time": "2022-08-16T08:15:22.164Z"
   },
   {
    "duration": 94,
    "start_time": "2022-08-16T08:15:22.170Z"
   },
   {
    "duration": 42,
    "start_time": "2022-08-16T08:15:22.266Z"
   },
   {
    "duration": 2041,
    "start_time": "2022-08-16T08:15:22.310Z"
   },
   {
    "duration": 23,
    "start_time": "2022-08-16T08:15:24.353Z"
   },
   {
    "duration": 10,
    "start_time": "2022-08-16T08:15:24.378Z"
   },
   {
    "duration": 6,
    "start_time": "2022-08-16T08:15:24.389Z"
   },
   {
    "duration": 7,
    "start_time": "2022-08-16T08:15:24.397Z"
   },
   {
    "duration": 4,
    "start_time": "2022-08-16T08:15:24.406Z"
   },
   {
    "duration": 11,
    "start_time": "2022-08-16T08:15:24.412Z"
   },
   {
    "duration": 49,
    "start_time": "2022-08-16T08:15:24.467Z"
   },
   {
    "duration": 7,
    "start_time": "2022-08-16T08:15:24.518Z"
   },
   {
    "duration": 151,
    "start_time": "2022-08-16T08:15:24.527Z"
   },
   {
    "duration": 14,
    "start_time": "2022-08-16T08:15:24.680Z"
   },
   {
    "duration": 154,
    "start_time": "2022-08-16T08:15:24.696Z"
   },
   {
    "duration": 127,
    "start_time": "2022-08-16T08:15:24.852Z"
   },
   {
    "duration": 24,
    "start_time": "2022-08-16T08:15:24.981Z"
   },
   {
    "duration": 139,
    "start_time": "2022-08-16T08:15:25.007Z"
   },
   {
    "duration": 34,
    "start_time": "2022-08-16T08:15:25.148Z"
   },
   {
    "duration": 127,
    "start_time": "2022-08-16T08:15:25.183Z"
   },
   {
    "duration": 25,
    "start_time": "2022-08-16T08:15:25.311Z"
   },
   {
    "duration": 5,
    "start_time": "2022-08-16T08:15:25.337Z"
   },
   {
    "duration": 149,
    "start_time": "2022-08-16T08:15:25.344Z"
   },
   {
    "duration": 134,
    "start_time": "2022-08-16T08:15:25.495Z"
   },
   {
    "duration": 4,
    "start_time": "2022-08-16T08:17:37.087Z"
   },
   {
    "duration": 115,
    "start_time": "2022-08-16T08:21:00.074Z"
   },
   {
    "duration": 116,
    "start_time": "2022-08-16T08:21:25.046Z"
   },
   {
    "duration": 48,
    "start_time": "2022-08-16T08:24:56.506Z"
   },
   {
    "duration": 16,
    "start_time": "2022-08-16T08:26:58.899Z"
   },
   {
    "duration": 30,
    "start_time": "2022-08-16T08:27:25.974Z"
   },
   {
    "duration": 3,
    "start_time": "2022-08-16T08:28:50.745Z"
   },
   {
    "duration": 3,
    "start_time": "2022-08-16T08:28:58.089Z"
   },
   {
    "duration": 3,
    "start_time": "2022-08-16T08:28:59.465Z"
   },
   {
    "duration": 4,
    "start_time": "2022-08-16T08:29:12.721Z"
   },
   {
    "duration": 3,
    "start_time": "2022-08-16T08:29:16.437Z"
   },
   {
    "duration": 14,
    "start_time": "2022-08-16T08:35:45.160Z"
   },
   {
    "duration": 18,
    "start_time": "2022-08-16T08:36:04.602Z"
   },
   {
    "duration": 14,
    "start_time": "2022-08-16T08:36:25.460Z"
   },
   {
    "duration": 14,
    "start_time": "2022-08-16T08:36:28.520Z"
   },
   {
    "duration": 3,
    "start_time": "2022-08-16T08:36:38.753Z"
   },
   {
    "duration": 89,
    "start_time": "2022-08-16T08:36:38.758Z"
   },
   {
    "duration": 41,
    "start_time": "2022-08-16T08:36:38.849Z"
   },
   {
    "duration": 2064,
    "start_time": "2022-08-16T08:36:38.892Z"
   },
   {
    "duration": 18,
    "start_time": "2022-08-16T08:36:40.957Z"
   },
   {
    "duration": 8,
    "start_time": "2022-08-16T08:36:40.977Z"
   },
   {
    "duration": 7,
    "start_time": "2022-08-16T08:36:40.987Z"
   },
   {
    "duration": 6,
    "start_time": "2022-08-16T08:36:40.996Z"
   },
   {
    "duration": 4,
    "start_time": "2022-08-16T08:36:41.004Z"
   },
   {
    "duration": 7,
    "start_time": "2022-08-16T08:36:41.010Z"
   },
   {
    "duration": 90,
    "start_time": "2022-08-16T08:36:41.019Z"
   },
   {
    "duration": 6,
    "start_time": "2022-08-16T08:36:41.110Z"
   },
   {
    "duration": 132,
    "start_time": "2022-08-16T08:36:41.118Z"
   },
   {
    "duration": 20,
    "start_time": "2022-08-16T08:36:41.251Z"
   },
   {
    "duration": 132,
    "start_time": "2022-08-16T08:36:41.272Z"
   },
   {
    "duration": 126,
    "start_time": "2022-08-16T08:36:41.405Z"
   },
   {
    "duration": 38,
    "start_time": "2022-08-16T08:36:41.534Z"
   },
   {
    "duration": 135,
    "start_time": "2022-08-16T08:36:41.574Z"
   },
   {
    "duration": 24,
    "start_time": "2022-08-16T08:36:41.711Z"
   },
   {
    "duration": 135,
    "start_time": "2022-08-16T08:36:41.736Z"
   },
   {
    "duration": 24,
    "start_time": "2022-08-16T08:36:41.872Z"
   },
   {
    "duration": 15,
    "start_time": "2022-08-16T08:37:31.895Z"
   },
   {
    "duration": 3,
    "start_time": "2022-08-16T08:37:39.946Z"
   },
   {
    "duration": 95,
    "start_time": "2022-08-16T08:37:39.952Z"
   },
   {
    "duration": 48,
    "start_time": "2022-08-16T08:37:40.049Z"
   },
   {
    "duration": 1848,
    "start_time": "2022-08-16T08:37:40.099Z"
   },
   {
    "duration": 25,
    "start_time": "2022-08-16T08:37:41.949Z"
   },
   {
    "duration": 10,
    "start_time": "2022-08-16T08:37:41.976Z"
   },
   {
    "duration": 8,
    "start_time": "2022-08-16T08:37:41.988Z"
   },
   {
    "duration": 7,
    "start_time": "2022-08-16T08:37:41.998Z"
   },
   {
    "duration": 4,
    "start_time": "2022-08-16T08:37:42.007Z"
   },
   {
    "duration": 56,
    "start_time": "2022-08-16T08:37:42.013Z"
   },
   {
    "duration": 47,
    "start_time": "2022-08-16T08:37:42.073Z"
   },
   {
    "duration": 7,
    "start_time": "2022-08-16T08:37:42.123Z"
   },
   {
    "duration": 153,
    "start_time": "2022-08-16T08:37:42.132Z"
   },
   {
    "duration": 14,
    "start_time": "2022-08-16T08:37:42.287Z"
   },
   {
    "duration": 136,
    "start_time": "2022-08-16T08:37:42.302Z"
   },
   {
    "duration": 330,
    "start_time": "2022-08-16T08:37:42.440Z"
   },
   {
    "duration": 24,
    "start_time": "2022-08-16T08:37:42.774Z"
   },
   {
    "duration": 139,
    "start_time": "2022-08-16T08:37:42.800Z"
   },
   {
    "duration": 34,
    "start_time": "2022-08-16T08:37:42.941Z"
   },
   {
    "duration": 118,
    "start_time": "2022-08-16T08:37:42.977Z"
   },
   {
    "duration": 23,
    "start_time": "2022-08-16T08:37:43.096Z"
   },
   {
    "duration": 6,
    "start_time": "2022-08-16T08:37:43.121Z"
   },
   {
    "duration": 143,
    "start_time": "2022-08-16T08:37:43.129Z"
   },
   {
    "duration": 120,
    "start_time": "2022-08-16T08:37:43.273Z"
   },
   {
    "duration": 24,
    "start_time": "2022-08-16T08:37:43.395Z"
   },
   {
    "duration": 133,
    "start_time": "2022-08-16T08:37:43.420Z"
   },
   {
    "duration": 38,
    "start_time": "2022-08-16T08:37:43.555Z"
   },
   {
    "duration": 119,
    "start_time": "2022-08-16T08:37:43.595Z"
   },
   {
    "duration": 15,
    "start_time": "2022-08-16T08:37:43.716Z"
   },
   {
    "duration": 15,
    "start_time": "2022-08-16T08:38:06.986Z"
   },
   {
    "duration": 4,
    "start_time": "2022-08-16T08:38:11.143Z"
   },
   {
    "duration": 96,
    "start_time": "2022-08-16T08:38:11.150Z"
   },
   {
    "duration": 45,
    "start_time": "2022-08-16T08:38:11.248Z"
   },
   {
    "duration": 2038,
    "start_time": "2022-08-16T08:38:11.295Z"
   },
   {
    "duration": 13,
    "start_time": "2022-08-16T08:38:13.336Z"
   },
   {
    "duration": 23,
    "start_time": "2022-08-16T08:38:13.351Z"
   },
   {
    "duration": 7,
    "start_time": "2022-08-16T08:38:13.376Z"
   },
   {
    "duration": 7,
    "start_time": "2022-08-16T08:38:13.385Z"
   },
   {
    "duration": 6,
    "start_time": "2022-08-16T08:38:13.393Z"
   },
   {
    "duration": 11,
    "start_time": "2022-08-16T08:38:13.401Z"
   },
   {
    "duration": 79,
    "start_time": "2022-08-16T08:38:13.414Z"
   },
   {
    "duration": 7,
    "start_time": "2022-08-16T08:38:13.495Z"
   },
   {
    "duration": 138,
    "start_time": "2022-08-16T08:38:13.504Z"
   },
   {
    "duration": 29,
    "start_time": "2022-08-16T08:38:13.644Z"
   },
   {
    "duration": 135,
    "start_time": "2022-08-16T08:38:13.675Z"
   },
   {
    "duration": 122,
    "start_time": "2022-08-16T08:38:13.812Z"
   },
   {
    "duration": 36,
    "start_time": "2022-08-16T08:38:13.935Z"
   },
   {
    "duration": 134,
    "start_time": "2022-08-16T08:38:13.973Z"
   },
   {
    "duration": 23,
    "start_time": "2022-08-16T08:38:14.108Z"
   },
   {
    "duration": 129,
    "start_time": "2022-08-16T08:38:14.133Z"
   },
   {
    "duration": 25,
    "start_time": "2022-08-16T08:38:14.268Z"
   },
   {
    "duration": 6,
    "start_time": "2022-08-16T08:38:14.294Z"
   },
   {
    "duration": 144,
    "start_time": "2022-08-16T08:38:14.302Z"
   },
   {
    "duration": 131,
    "start_time": "2022-08-16T08:38:14.448Z"
   },
   {
    "duration": 24,
    "start_time": "2022-08-16T08:38:14.581Z"
   },
   {
    "duration": 134,
    "start_time": "2022-08-16T08:38:14.607Z"
   },
   {
    "duration": 38,
    "start_time": "2022-08-16T08:38:14.742Z"
   },
   {
    "duration": 113,
    "start_time": "2022-08-16T08:38:14.782Z"
   },
   {
    "duration": 15,
    "start_time": "2022-08-16T08:38:14.898Z"
   },
   {
    "duration": 38,
    "start_time": "2022-08-16T08:38:28.583Z"
   },
   {
    "duration": 3,
    "start_time": "2022-08-16T08:43:08.878Z"
   },
   {
    "duration": 44,
    "start_time": "2022-08-16T08:44:00.194Z"
   },
   {
    "duration": 40,
    "start_time": "2022-08-16T08:45:01.202Z"
   },
   {
    "duration": 16,
    "start_time": "2022-08-16T08:45:48.344Z"
   },
   {
    "duration": 37,
    "start_time": "2022-08-16T08:45:55.801Z"
   },
   {
    "duration": 39,
    "start_time": "2022-08-16T08:47:20.540Z"
   },
   {
    "duration": 45,
    "start_time": "2022-08-16T08:47:37.264Z"
   },
   {
    "duration": 43,
    "start_time": "2022-08-16T08:47:41.926Z"
   },
   {
    "duration": 41,
    "start_time": "2022-08-16T08:48:50.337Z"
   },
   {
    "duration": 36,
    "start_time": "2022-08-16T08:49:08.916Z"
   },
   {
    "duration": 80,
    "start_time": "2022-08-16T08:52:07.875Z"
   },
   {
    "duration": 329,
    "start_time": "2022-08-16T08:53:42.152Z"
   },
   {
    "duration": 277,
    "start_time": "2022-08-16T08:54:15.041Z"
   },
   {
    "duration": 3,
    "start_time": "2022-08-16T08:54:24.677Z"
   },
   {
    "duration": 39,
    "start_time": "2022-08-16T08:54:28.591Z"
   },
   {
    "duration": 7,
    "start_time": "2022-08-16T08:56:30.862Z"
   },
   {
    "duration": 7,
    "start_time": "2022-08-16T08:56:33.274Z"
   },
   {
    "duration": 111,
    "start_time": "2022-08-16T08:56:51.400Z"
   },
   {
    "duration": 15,
    "start_time": "2022-08-16T08:57:20.917Z"
   },
   {
    "duration": 15,
    "start_time": "2022-08-16T08:57:28.845Z"
   },
   {
    "duration": 2,
    "start_time": "2022-08-16T08:57:32.699Z"
   },
   {
    "duration": 102,
    "start_time": "2022-08-16T08:57:32.703Z"
   },
   {
    "duration": 43,
    "start_time": "2022-08-16T08:57:32.808Z"
   },
   {
    "duration": 2166,
    "start_time": "2022-08-16T08:57:32.852Z"
   },
   {
    "duration": 17,
    "start_time": "2022-08-16T08:57:35.021Z"
   },
   {
    "duration": 33,
    "start_time": "2022-08-16T08:57:35.040Z"
   },
   {
    "duration": 13,
    "start_time": "2022-08-16T08:57:35.075Z"
   },
   {
    "duration": 8,
    "start_time": "2022-08-16T08:57:35.091Z"
   },
   {
    "duration": 6,
    "start_time": "2022-08-16T08:57:35.101Z"
   },
   {
    "duration": 8,
    "start_time": "2022-08-16T08:57:35.109Z"
   },
   {
    "duration": 72,
    "start_time": "2022-08-16T08:57:35.119Z"
   },
   {
    "duration": 6,
    "start_time": "2022-08-16T08:57:35.193Z"
   },
   {
    "duration": 129,
    "start_time": "2022-08-16T08:57:35.201Z"
   },
   {
    "duration": 11,
    "start_time": "2022-08-16T08:57:35.331Z"
   },
   {
    "duration": 148,
    "start_time": "2022-08-16T08:57:35.343Z"
   },
   {
    "duration": 121,
    "start_time": "2022-08-16T08:57:35.492Z"
   },
   {
    "duration": 21,
    "start_time": "2022-08-16T08:57:35.614Z"
   },
   {
    "duration": 154,
    "start_time": "2022-08-16T08:57:35.637Z"
   },
   {
    "duration": 23,
    "start_time": "2022-08-16T08:57:35.793Z"
   },
   {
    "duration": 135,
    "start_time": "2022-08-16T08:57:35.817Z"
   },
   {
    "duration": 34,
    "start_time": "2022-08-16T08:57:35.954Z"
   },
   {
    "duration": 6,
    "start_time": "2022-08-16T08:57:35.990Z"
   },
   {
    "duration": 147,
    "start_time": "2022-08-16T08:57:35.998Z"
   },
   {
    "duration": 136,
    "start_time": "2022-08-16T08:57:36.147Z"
   },
   {
    "duration": 26,
    "start_time": "2022-08-16T08:57:36.285Z"
   },
   {
    "duration": 130,
    "start_time": "2022-08-16T08:57:36.313Z"
   },
   {
    "duration": 59,
    "start_time": "2022-08-16T08:57:36.445Z"
   },
   {
    "duration": 133,
    "start_time": "2022-08-16T08:57:36.506Z"
   },
   {
    "duration": 69,
    "start_time": "2022-08-16T08:57:36.644Z"
   },
   {
    "duration": 15,
    "start_time": "2022-08-16T08:57:36.715Z"
   },
   {
    "duration": 23,
    "start_time": "2022-08-16T08:57:36.732Z"
   },
   {
    "duration": 3,
    "start_time": "2022-08-16T08:58:25.863Z"
   },
   {
    "duration": 107,
    "start_time": "2022-08-16T08:58:25.872Z"
   },
   {
    "duration": 42,
    "start_time": "2022-08-16T08:58:25.982Z"
   },
   {
    "duration": 2125,
    "start_time": "2022-08-16T08:58:26.025Z"
   },
   {
    "duration": 29,
    "start_time": "2022-08-16T08:58:28.152Z"
   },
   {
    "duration": 9,
    "start_time": "2022-08-16T08:58:28.183Z"
   },
   {
    "duration": 7,
    "start_time": "2022-08-16T08:58:28.193Z"
   },
   {
    "duration": 7,
    "start_time": "2022-08-16T08:58:28.201Z"
   },
   {
    "duration": 6,
    "start_time": "2022-08-16T08:58:28.210Z"
   },
   {
    "duration": 9,
    "start_time": "2022-08-16T08:58:28.217Z"
   },
   {
    "duration": 86,
    "start_time": "2022-08-16T08:58:28.228Z"
   },
   {
    "duration": 6,
    "start_time": "2022-08-16T08:58:28.316Z"
   },
   {
    "duration": 132,
    "start_time": "2022-08-16T08:58:28.324Z"
   },
   {
    "duration": 20,
    "start_time": "2022-08-16T08:58:28.457Z"
   },
   {
    "duration": 134,
    "start_time": "2022-08-16T08:58:28.481Z"
   },
   {
    "duration": 124,
    "start_time": "2022-08-16T08:58:28.617Z"
   },
   {
    "duration": 44,
    "start_time": "2022-08-16T08:58:28.743Z"
   },
   {
    "duration": 127,
    "start_time": "2022-08-16T08:58:28.788Z"
   },
   {
    "duration": 25,
    "start_time": "2022-08-16T08:58:28.917Z"
   },
   {
    "duration": 153,
    "start_time": "2022-08-16T08:58:28.944Z"
   },
   {
    "duration": 23,
    "start_time": "2022-08-16T08:58:29.099Z"
   },
   {
    "duration": 5,
    "start_time": "2022-08-16T08:58:29.123Z"
   },
   {
    "duration": 155,
    "start_time": "2022-08-16T08:58:29.129Z"
   },
   {
    "duration": 119,
    "start_time": "2022-08-16T08:58:29.286Z"
   },
   {
    "duration": 22,
    "start_time": "2022-08-16T08:58:29.406Z"
   },
   {
    "duration": 129,
    "start_time": "2022-08-16T08:58:29.430Z"
   },
   {
    "duration": 34,
    "start_time": "2022-08-16T08:58:29.567Z"
   },
   {
    "duration": 117,
    "start_time": "2022-08-16T08:58:29.603Z"
   },
   {
    "duration": 34,
    "start_time": "2022-08-16T08:58:29.722Z"
   },
   {
    "duration": 14,
    "start_time": "2022-08-16T08:58:29.767Z"
   },
   {
    "duration": 7,
    "start_time": "2022-08-16T08:59:58.330Z"
   },
   {
    "duration": 153,
    "start_time": "2022-08-16T09:00:40.112Z"
   },
   {
    "duration": 15,
    "start_time": "2022-08-16T09:01:02.732Z"
   },
   {
    "duration": 3,
    "start_time": "2022-08-16T09:01:34.635Z"
   },
   {
    "duration": 7,
    "start_time": "2022-08-16T09:01:36.392Z"
   },
   {
    "duration": 3,
    "start_time": "2022-08-16T09:01:42.312Z"
   },
   {
    "duration": 105,
    "start_time": "2022-08-16T09:01:42.317Z"
   },
   {
    "duration": 54,
    "start_time": "2022-08-16T09:01:42.424Z"
   },
   {
    "duration": 2176,
    "start_time": "2022-08-16T09:01:42.479Z"
   },
   {
    "duration": 23,
    "start_time": "2022-08-16T09:01:44.658Z"
   },
   {
    "duration": 13,
    "start_time": "2022-08-16T09:01:44.683Z"
   },
   {
    "duration": 14,
    "start_time": "2022-08-16T09:01:44.697Z"
   },
   {
    "duration": 12,
    "start_time": "2022-08-16T09:01:44.712Z"
   },
   {
    "duration": 6,
    "start_time": "2022-08-16T09:01:44.726Z"
   },
   {
    "duration": 6,
    "start_time": "2022-08-16T09:01:44.733Z"
   },
   {
    "duration": 71,
    "start_time": "2022-08-16T09:01:44.741Z"
   },
   {
    "duration": 7,
    "start_time": "2022-08-16T09:01:44.813Z"
   },
   {
    "duration": 136,
    "start_time": "2022-08-16T09:01:44.821Z"
   },
   {
    "duration": 26,
    "start_time": "2022-08-16T09:01:44.959Z"
   },
   {
    "duration": 129,
    "start_time": "2022-08-16T09:01:44.986Z"
   },
   {
    "duration": 131,
    "start_time": "2022-08-16T09:01:45.117Z"
   },
   {
    "duration": 33,
    "start_time": "2022-08-16T09:01:45.250Z"
   },
   {
    "duration": 142,
    "start_time": "2022-08-16T09:01:45.284Z"
   },
   {
    "duration": 23,
    "start_time": "2022-08-16T09:01:45.428Z"
   },
   {
    "duration": 135,
    "start_time": "2022-08-16T09:01:45.470Z"
   },
   {
    "duration": 24,
    "start_time": "2022-08-16T09:01:45.607Z"
   },
   {
    "duration": 7,
    "start_time": "2022-08-16T09:01:45.633Z"
   },
   {
    "duration": 162,
    "start_time": "2022-08-16T09:01:45.642Z"
   },
   {
    "duration": 119,
    "start_time": "2022-08-16T09:01:45.806Z"
   },
   {
    "duration": 23,
    "start_time": "2022-08-16T09:01:45.926Z"
   },
   {
    "duration": 142,
    "start_time": "2022-08-16T09:01:45.950Z"
   },
   {
    "duration": 29,
    "start_time": "2022-08-16T09:01:46.094Z"
   },
   {
    "duration": 121,
    "start_time": "2022-08-16T09:01:46.125Z"
   },
   {
    "duration": 52,
    "start_time": "2022-08-16T09:01:46.250Z"
   },
   {
    "duration": 5,
    "start_time": "2022-08-16T09:01:46.303Z"
   },
   {
    "duration": 14,
    "start_time": "2022-08-16T09:01:46.310Z"
   },
   {
    "duration": 7,
    "start_time": "2022-08-16T09:01:46.326Z"
   },
   {
    "duration": 19,
    "start_time": "2022-08-16T09:01:46.334Z"
   },
   {
    "duration": 9,
    "start_time": "2022-08-16T09:01:46.368Z"
   },
   {
    "duration": 19,
    "start_time": "2022-08-16T09:01:46.379Z"
   },
   {
    "duration": 6,
    "start_time": "2022-08-16T09:13:30.594Z"
   },
   {
    "duration": 14,
    "start_time": "2022-08-16T09:13:32.739Z"
   },
   {
    "duration": 5,
    "start_time": "2022-08-16T09:24:04.831Z"
   },
   {
    "duration": 15,
    "start_time": "2022-08-16T09:24:06.432Z"
   },
   {
    "duration": 4,
    "start_time": "2022-08-16T09:24:11.805Z"
   },
   {
    "duration": 107,
    "start_time": "2022-08-16T09:24:11.812Z"
   },
   {
    "duration": 62,
    "start_time": "2022-08-16T09:24:11.921Z"
   },
   {
    "duration": 1925,
    "start_time": "2022-08-16T09:24:11.985Z"
   },
   {
    "duration": 16,
    "start_time": "2022-08-16T09:24:13.913Z"
   },
   {
    "duration": 10,
    "start_time": "2022-08-16T09:24:13.930Z"
   },
   {
    "duration": 31,
    "start_time": "2022-08-16T09:24:13.942Z"
   },
   {
    "duration": 13,
    "start_time": "2022-08-16T09:24:13.982Z"
   },
   {
    "duration": 8,
    "start_time": "2022-08-16T09:24:13.997Z"
   },
   {
    "duration": 11,
    "start_time": "2022-08-16T09:24:14.006Z"
   },
   {
    "duration": 103,
    "start_time": "2022-08-16T09:24:14.019Z"
   },
   {
    "duration": 8,
    "start_time": "2022-08-16T09:24:14.124Z"
   },
   {
    "duration": 153,
    "start_time": "2022-08-16T09:24:14.134Z"
   },
   {
    "duration": 15,
    "start_time": "2022-08-16T09:24:14.290Z"
   },
   {
    "duration": 154,
    "start_time": "2022-08-16T09:24:14.308Z"
   },
   {
    "duration": 131,
    "start_time": "2022-08-16T09:24:14.474Z"
   },
   {
    "duration": 24,
    "start_time": "2022-08-16T09:24:14.608Z"
   },
   {
    "duration": 174,
    "start_time": "2022-08-16T09:24:14.634Z"
   },
   {
    "duration": 26,
    "start_time": "2022-08-16T09:24:14.809Z"
   },
   {
    "duration": 174,
    "start_time": "2022-08-16T09:24:14.837Z"
   },
   {
    "duration": 28,
    "start_time": "2022-08-16T09:24:15.013Z"
   },
   {
    "duration": 30,
    "start_time": "2022-08-16T09:24:15.044Z"
   },
   {
    "duration": 144,
    "start_time": "2022-08-16T09:24:15.077Z"
   },
   {
    "duration": 190,
    "start_time": "2022-08-16T09:24:15.223Z"
   },
   {
    "duration": 34,
    "start_time": "2022-08-16T09:24:15.425Z"
   },
   {
    "duration": 180,
    "start_time": "2022-08-16T09:24:15.460Z"
   },
   {
    "duration": 46,
    "start_time": "2022-08-16T09:24:15.642Z"
   },
   {
    "duration": 121,
    "start_time": "2022-08-16T09:24:15.689Z"
   },
   {
    "duration": 38,
    "start_time": "2022-08-16T09:24:15.812Z"
   },
   {
    "duration": 23,
    "start_time": "2022-08-16T09:24:15.851Z"
   },
   {
    "duration": 21,
    "start_time": "2022-08-16T09:24:15.879Z"
   },
   {
    "duration": 3,
    "start_time": "2022-08-16T09:24:15.902Z"
   },
   {
    "duration": 11,
    "start_time": "2022-08-16T09:24:15.907Z"
   },
   {
    "duration": 7,
    "start_time": "2022-08-16T09:24:15.920Z"
   },
   {
    "duration": 40,
    "start_time": "2022-08-16T09:24:15.929Z"
   },
   {
    "duration": 19,
    "start_time": "2022-08-16T09:24:15.970Z"
   },
   {
    "duration": 91,
    "start_time": "2022-08-16T09:28:05.832Z"
   },
   {
    "duration": 5,
    "start_time": "2022-08-16T10:24:40.485Z"
   },
   {
    "duration": 86,
    "start_time": "2022-08-16T10:24:52.796Z"
   },
   {
    "duration": 6,
    "start_time": "2022-08-16T10:25:07.810Z"
   },
   {
    "duration": 5,
    "start_time": "2022-08-16T10:25:10.836Z"
   },
   {
    "duration": 9,
    "start_time": "2022-08-16T10:27:11.149Z"
   },
   {
    "duration": 6,
    "start_time": "2022-08-16T10:27:16.087Z"
   },
   {
    "duration": 69,
    "start_time": "2022-08-16T10:27:21.318Z"
   },
   {
    "duration": 7,
    "start_time": "2022-08-16T10:27:42.421Z"
   },
   {
    "duration": 7,
    "start_time": "2022-08-16T10:30:06.184Z"
   },
   {
    "duration": 41,
    "start_time": "2022-08-16T10:30:09.724Z"
   },
   {
    "duration": 7,
    "start_time": "2022-08-16T10:30:17.968Z"
   },
   {
    "duration": 88,
    "start_time": "2022-08-16T10:30:56.009Z"
   },
   {
    "duration": 8,
    "start_time": "2022-08-16T10:31:35.288Z"
   },
   {
    "duration": 42,
    "start_time": "2022-08-16T10:31:40.384Z"
   },
   {
    "duration": 6,
    "start_time": "2022-08-16T10:31:57.221Z"
   },
   {
    "duration": 12093,
    "start_time": "2022-08-16T10:38:28.209Z"
   },
   {
    "duration": 59,
    "start_time": "2022-08-16T10:38:40.348Z"
   },
   {
    "duration": 82,
    "start_time": "2022-08-16T10:39:31.587Z"
   },
   {
    "duration": 3,
    "start_time": "2022-08-16T10:40:04.730Z"
   },
   {
    "duration": 125,
    "start_time": "2022-08-16T10:40:04.737Z"
   },
   {
    "duration": 63,
    "start_time": "2022-08-16T10:40:04.864Z"
   },
   {
    "duration": 2031,
    "start_time": "2022-08-16T10:40:04.929Z"
   },
   {
    "duration": 20,
    "start_time": "2022-08-16T10:40:06.962Z"
   },
   {
    "duration": 13,
    "start_time": "2022-08-16T10:40:06.984Z"
   },
   {
    "duration": 7,
    "start_time": "2022-08-16T10:40:06.998Z"
   },
   {
    "duration": 9,
    "start_time": "2022-08-16T10:40:07.008Z"
   },
   {
    "duration": 6,
    "start_time": "2022-08-16T10:40:07.019Z"
   },
   {
    "duration": 49,
    "start_time": "2022-08-16T10:40:07.026Z"
   },
   {
    "duration": 65,
    "start_time": "2022-08-16T10:40:07.076Z"
   },
   {
    "duration": 8,
    "start_time": "2022-08-16T10:40:07.143Z"
   },
   {
    "duration": 137,
    "start_time": "2022-08-16T10:40:07.153Z"
   },
   {
    "duration": 12,
    "start_time": "2022-08-16T10:40:07.292Z"
   },
   {
    "duration": 141,
    "start_time": "2022-08-16T10:40:07.306Z"
   },
   {
    "duration": 171,
    "start_time": "2022-08-16T10:40:07.449Z"
   },
   {
    "duration": 31,
    "start_time": "2022-08-16T10:40:07.623Z"
   },
   {
    "duration": 138,
    "start_time": "2022-08-16T10:40:07.656Z"
   },
   {
    "duration": 34,
    "start_time": "2022-08-16T10:40:07.797Z"
   },
   {
    "duration": 189,
    "start_time": "2022-08-16T10:40:07.833Z"
   },
   {
    "duration": 24,
    "start_time": "2022-08-16T10:40:08.024Z"
   },
   {
    "duration": 25,
    "start_time": "2022-08-16T10:40:08.050Z"
   },
   {
    "duration": 162,
    "start_time": "2022-08-16T10:40:08.079Z"
   },
   {
    "duration": 147,
    "start_time": "2022-08-16T10:40:08.243Z"
   },
   {
    "duration": 25,
    "start_time": "2022-08-16T10:40:08.392Z"
   },
   {
    "duration": 148,
    "start_time": "2022-08-16T10:40:08.422Z"
   },
   {
    "duration": 32,
    "start_time": "2022-08-16T10:40:08.572Z"
   },
   {
    "duration": 131,
    "start_time": "2022-08-16T10:40:08.606Z"
   },
   {
    "duration": 46,
    "start_time": "2022-08-16T10:40:08.739Z"
   },
   {
    "duration": 5,
    "start_time": "2022-08-16T10:40:08.786Z"
   },
   {
    "duration": 15,
    "start_time": "2022-08-16T10:40:08.792Z"
   },
   {
    "duration": 4,
    "start_time": "2022-08-16T10:40:08.809Z"
   },
   {
    "duration": 14,
    "start_time": "2022-08-16T10:40:08.814Z"
   },
   {
    "duration": 6,
    "start_time": "2022-08-16T10:40:08.830Z"
   },
   {
    "duration": 34,
    "start_time": "2022-08-16T10:40:08.837Z"
   },
   {
    "duration": 16,
    "start_time": "2022-08-16T10:40:08.878Z"
   },
   {
    "duration": 4,
    "start_time": "2022-08-16T10:40:08.895Z"
   },
   {
    "duration": 8,
    "start_time": "2022-08-16T10:40:08.901Z"
   },
   {
    "duration": 7,
    "start_time": "2022-08-16T10:40:08.911Z"
   },
   {
    "duration": 26,
    "start_time": "2022-08-16T10:40:08.920Z"
   },
   {
    "duration": 12208,
    "start_time": "2022-08-16T10:40:08.948Z"
   },
   {
    "duration": 34,
    "start_time": "2022-08-16T10:40:21.214Z"
   },
   {
    "duration": 350,
    "start_time": "2022-08-16T10:41:37.888Z"
   },
   {
    "duration": 349,
    "start_time": "2022-08-16T10:41:44.390Z"
   },
   {
    "duration": 4,
    "start_time": "2022-08-16T10:41:55.785Z"
   },
   {
    "duration": 144,
    "start_time": "2022-08-16T10:41:55.791Z"
   },
   {
    "duration": 63,
    "start_time": "2022-08-16T10:41:55.949Z"
   },
   {
    "duration": 3158,
    "start_time": "2022-08-16T10:41:56.014Z"
   },
   {
    "duration": 23,
    "start_time": "2022-08-16T10:41:59.174Z"
   },
   {
    "duration": 36,
    "start_time": "2022-08-16T10:41:59.200Z"
   },
   {
    "duration": 13,
    "start_time": "2022-08-16T10:41:59.238Z"
   },
   {
    "duration": 58,
    "start_time": "2022-08-16T10:41:59.255Z"
   },
   {
    "duration": 15,
    "start_time": "2022-08-16T10:41:59.315Z"
   },
   {
    "duration": 17,
    "start_time": "2022-08-16T10:41:59.333Z"
   },
   {
    "duration": 103,
    "start_time": "2022-08-16T10:41:59.352Z"
   },
   {
    "duration": 10,
    "start_time": "2022-08-16T10:41:59.458Z"
   },
   {
    "duration": 221,
    "start_time": "2022-08-16T10:41:59.471Z"
   },
   {
    "duration": 15,
    "start_time": "2022-08-16T10:41:59.699Z"
   },
   {
    "duration": 183,
    "start_time": "2022-08-16T10:41:59.717Z"
   },
   {
    "duration": 140,
    "start_time": "2022-08-16T10:41:59.907Z"
   },
   {
    "duration": 53,
    "start_time": "2022-08-16T10:42:00.049Z"
   },
   {
    "duration": 711,
    "start_time": "2022-08-16T10:42:00.108Z"
   },
   {
    "duration": 30,
    "start_time": "2022-08-16T10:42:00.822Z"
   },
   {
    "duration": 174,
    "start_time": "2022-08-16T10:42:00.854Z"
   },
   {
    "duration": 51,
    "start_time": "2022-08-16T10:42:01.030Z"
   },
   {
    "duration": 8,
    "start_time": "2022-08-16T10:42:01.083Z"
   },
   {
    "duration": 153,
    "start_time": "2022-08-16T10:42:01.093Z"
   },
   {
    "duration": 160,
    "start_time": "2022-08-16T10:42:01.248Z"
   },
   {
    "duration": 37,
    "start_time": "2022-08-16T10:42:01.410Z"
   },
   {
    "duration": 189,
    "start_time": "2022-08-16T10:42:01.470Z"
   },
   {
    "duration": 53,
    "start_time": "2022-08-16T10:42:01.663Z"
   },
   {
    "duration": 166,
    "start_time": "2022-08-16T10:42:01.720Z"
   },
   {
    "duration": 47,
    "start_time": "2022-08-16T10:42:01.891Z"
   },
   {
    "duration": 6,
    "start_time": "2022-08-16T10:42:01.941Z"
   },
   {
    "duration": 92,
    "start_time": "2022-08-16T10:42:01.950Z"
   },
   {
    "duration": 17,
    "start_time": "2022-08-16T10:42:02.043Z"
   },
   {
    "duration": 12,
    "start_time": "2022-08-16T10:42:02.062Z"
   },
   {
    "duration": 56,
    "start_time": "2022-08-16T10:42:02.076Z"
   },
   {
    "duration": 9,
    "start_time": "2022-08-16T10:42:02.134Z"
   },
   {
    "duration": 26,
    "start_time": "2022-08-16T10:42:02.145Z"
   },
   {
    "duration": 6,
    "start_time": "2022-08-16T10:42:02.173Z"
   },
   {
    "duration": 30,
    "start_time": "2022-08-16T10:42:02.181Z"
   },
   {
    "duration": 22,
    "start_time": "2022-08-16T10:42:02.213Z"
   },
   {
    "duration": 15,
    "start_time": "2022-08-16T10:42:02.237Z"
   },
   {
    "duration": 7283,
    "start_time": "2022-08-16T10:42:02.255Z"
   },
   {
    "duration": 54,
    "start_time": "2022-08-16T10:42:09.540Z"
   },
   {
    "duration": 6,
    "start_time": "2022-08-16T10:42:45.833Z"
   },
   {
    "duration": 6,
    "start_time": "2022-08-16T10:43:09.146Z"
   },
   {
    "duration": 103,
    "start_time": "2022-08-16T10:44:34.783Z"
   },
   {
    "duration": 23,
    "start_time": "2022-08-16T10:44:41.016Z"
   },
   {
    "duration": 55,
    "start_time": "2022-08-16T10:44:51.658Z"
   },
   {
    "duration": 8,
    "start_time": "2022-08-16T10:53:14.241Z"
   },
   {
    "duration": 13,
    "start_time": "2022-08-16T10:53:25.989Z"
   },
   {
    "duration": 14,
    "start_time": "2022-08-16T10:53:44.158Z"
   },
   {
    "duration": 3,
    "start_time": "2022-08-16T10:54:08.509Z"
   },
   {
    "duration": 118,
    "start_time": "2022-08-16T10:54:08.514Z"
   },
   {
    "duration": 52,
    "start_time": "2022-08-16T10:54:08.634Z"
   },
   {
    "duration": 1924,
    "start_time": "2022-08-16T10:54:08.688Z"
   },
   {
    "duration": 14,
    "start_time": "2022-08-16T10:54:10.614Z"
   },
   {
    "duration": 9,
    "start_time": "2022-08-16T10:54:10.629Z"
   },
   {
    "duration": 46,
    "start_time": "2022-08-16T10:54:10.639Z"
   },
   {
    "duration": 5,
    "start_time": "2022-08-16T10:55:09.777Z"
   },
   {
    "duration": 4,
    "start_time": "2022-08-16T10:55:15.405Z"
   },
   {
    "duration": 1565,
    "start_time": "2022-08-16T10:56:15.348Z"
   },
   {
    "duration": 4,
    "start_time": "2022-08-16T10:56:24.316Z"
   },
   {
    "duration": 4,
    "start_time": "2022-08-16T10:56:27.651Z"
   },
   {
    "duration": 630,
    "start_time": "2022-08-16T10:57:05.590Z"
   },
   {
    "duration": 96,
    "start_time": "2022-08-16T10:57:06.222Z"
   },
   {
    "duration": 65,
    "start_time": "2022-08-16T10:57:06.320Z"
   },
   {
    "duration": 2110,
    "start_time": "2022-08-16T10:57:06.387Z"
   },
   {
    "duration": 17,
    "start_time": "2022-08-16T10:57:08.500Z"
   },
   {
    "duration": 12,
    "start_time": "2022-08-16T10:57:08.520Z"
   },
   {
    "duration": 13,
    "start_time": "2022-08-16T10:57:08.534Z"
   },
   {
    "duration": 22,
    "start_time": "2022-08-16T10:57:08.549Z"
   },
   {
    "duration": 45,
    "start_time": "2022-08-16T10:57:08.575Z"
   },
   {
    "duration": 16,
    "start_time": "2022-08-16T10:57:08.623Z"
   },
   {
    "duration": 21,
    "start_time": "2022-08-16T10:57:08.641Z"
   },
   {
    "duration": 31,
    "start_time": "2022-08-16T10:57:08.664Z"
   },
   {
    "duration": 53,
    "start_time": "2022-08-16T10:57:08.697Z"
   },
   {
    "duration": 9,
    "start_time": "2022-08-16T10:57:08.752Z"
   },
   {
    "duration": 158,
    "start_time": "2022-08-16T10:57:08.763Z"
   },
   {
    "duration": 16,
    "start_time": "2022-08-16T10:57:08.923Z"
   },
   {
    "duration": 150,
    "start_time": "2022-08-16T10:57:08.941Z"
   },
   {
    "duration": 131,
    "start_time": "2022-08-16T10:57:09.092Z"
   },
   {
    "duration": 23,
    "start_time": "2022-08-16T10:57:09.225Z"
   },
   {
    "duration": 153,
    "start_time": "2022-08-16T10:57:09.249Z"
   },
   {
    "duration": 33,
    "start_time": "2022-08-16T10:57:09.404Z"
   },
   {
    "duration": 153,
    "start_time": "2022-08-16T10:57:09.439Z"
   },
   {
    "duration": 35,
    "start_time": "2022-08-16T10:57:09.594Z"
   },
   {
    "duration": 7,
    "start_time": "2022-08-16T10:57:09.632Z"
   },
   {
    "duration": 157,
    "start_time": "2022-08-16T10:57:09.641Z"
   },
   {
    "duration": 220,
    "start_time": "2022-08-16T10:57:09.800Z"
   },
   {
    "duration": 27,
    "start_time": "2022-08-16T10:57:10.022Z"
   },
   {
    "duration": 129,
    "start_time": "2022-08-16T10:57:10.068Z"
   },
   {
    "duration": 31,
    "start_time": "2022-08-16T10:57:10.199Z"
   },
   {
    "duration": 128,
    "start_time": "2022-08-16T10:57:10.231Z"
   },
   {
    "duration": 54,
    "start_time": "2022-08-16T10:57:10.361Z"
   },
   {
    "duration": 7,
    "start_time": "2022-08-16T10:57:10.417Z"
   },
   {
    "duration": 16,
    "start_time": "2022-08-16T10:57:10.426Z"
   },
   {
    "duration": 27,
    "start_time": "2022-08-16T10:57:10.444Z"
   },
   {
    "duration": 21,
    "start_time": "2022-08-16T10:57:10.475Z"
   },
   {
    "duration": 6,
    "start_time": "2022-08-16T10:57:10.498Z"
   },
   {
    "duration": 7,
    "start_time": "2022-08-16T10:57:10.506Z"
   },
   {
    "duration": 16,
    "start_time": "2022-08-16T10:57:10.515Z"
   },
   {
    "duration": 4,
    "start_time": "2022-08-16T10:57:10.532Z"
   },
   {
    "duration": 33,
    "start_time": "2022-08-16T10:57:10.538Z"
   },
   {
    "duration": 11,
    "start_time": "2022-08-16T10:57:10.572Z"
   },
   {
    "duration": 8,
    "start_time": "2022-08-16T10:57:10.585Z"
   },
   {
    "duration": 4400,
    "start_time": "2022-08-16T10:57:10.594Z"
   },
   {
    "duration": 6,
    "start_time": "2022-08-16T10:57:14.995Z"
   },
   {
    "duration": 84,
    "start_time": "2022-08-16T10:57:15.002Z"
   },
   {
    "duration": 14,
    "start_time": "2022-08-16T10:57:47.766Z"
   },
   {
    "duration": 20,
    "start_time": "2022-08-16T10:57:56.464Z"
   },
   {
    "duration": 3,
    "start_time": "2022-08-16T10:58:14.249Z"
   },
   {
    "duration": 102,
    "start_time": "2022-08-16T10:58:14.253Z"
   },
   {
    "duration": 46,
    "start_time": "2022-08-16T10:58:14.357Z"
   },
   {
    "duration": 1996,
    "start_time": "2022-08-16T10:58:14.404Z"
   },
   {
    "duration": 14,
    "start_time": "2022-08-16T10:58:16.403Z"
   },
   {
    "duration": 7,
    "start_time": "2022-08-16T10:58:16.419Z"
   },
   {
    "duration": 5,
    "start_time": "2022-08-16T10:58:16.428Z"
   },
   {
    "duration": 62,
    "start_time": "2022-08-16T10:58:16.434Z"
   },
   {
    "duration": 6,
    "start_time": "2022-08-16T10:58:16.498Z"
   },
   {
    "duration": 10,
    "start_time": "2022-08-16T10:58:16.505Z"
   },
   {
    "duration": 30,
    "start_time": "2022-08-16T10:58:16.519Z"
   },
   {
    "duration": 12,
    "start_time": "2022-08-16T10:58:16.551Z"
   },
   {
    "duration": 80,
    "start_time": "2022-08-16T10:58:16.565Z"
   },
   {
    "duration": 9,
    "start_time": "2022-08-16T10:58:16.646Z"
   },
   {
    "duration": 226,
    "start_time": "2022-08-16T10:58:16.656Z"
   },
   {
    "duration": 19,
    "start_time": "2022-08-16T10:58:16.886Z"
   },
   {
    "duration": 134,
    "start_time": "2022-08-16T10:58:16.908Z"
   },
   {
    "duration": 139,
    "start_time": "2022-08-16T10:58:17.044Z"
   },
   {
    "duration": 24,
    "start_time": "2022-08-16T10:58:17.185Z"
   },
   {
    "duration": 148,
    "start_time": "2022-08-16T10:58:17.210Z"
   },
   {
    "duration": 36,
    "start_time": "2022-08-16T10:58:17.360Z"
   },
   {
    "duration": 137,
    "start_time": "2022-08-16T10:58:17.398Z"
   },
   {
    "duration": 49,
    "start_time": "2022-08-16T10:58:17.538Z"
   },
   {
    "duration": 8,
    "start_time": "2022-08-16T10:58:17.589Z"
   },
   {
    "duration": 136,
    "start_time": "2022-08-16T10:58:17.599Z"
   },
   {
    "duration": 146,
    "start_time": "2022-08-16T10:58:17.737Z"
   },
   {
    "duration": 26,
    "start_time": "2022-08-16T10:58:17.885Z"
   },
   {
    "duration": 143,
    "start_time": "2022-08-16T10:58:17.912Z"
   },
   {
    "duration": 42,
    "start_time": "2022-08-16T10:58:18.069Z"
   },
   {
    "duration": 116,
    "start_time": "2022-08-16T10:58:18.113Z"
   },
   {
    "duration": 56,
    "start_time": "2022-08-16T10:58:18.231Z"
   },
   {
    "duration": 7,
    "start_time": "2022-08-16T10:58:18.289Z"
   },
   {
    "duration": 18,
    "start_time": "2022-08-16T10:58:18.298Z"
   },
   {
    "duration": 4,
    "start_time": "2022-08-16T10:58:18.318Z"
   },
   {
    "duration": 9,
    "start_time": "2022-08-16T10:58:18.324Z"
   },
   {
    "duration": 46,
    "start_time": "2022-08-16T10:58:18.335Z"
   },
   {
    "duration": 5,
    "start_time": "2022-08-16T10:58:18.385Z"
   },
   {
    "duration": 20,
    "start_time": "2022-08-16T10:58:18.391Z"
   },
   {
    "duration": 4,
    "start_time": "2022-08-16T10:58:18.413Z"
   },
   {
    "duration": 9,
    "start_time": "2022-08-16T10:58:18.418Z"
   },
   {
    "duration": 10,
    "start_time": "2022-08-16T10:58:18.429Z"
   },
   {
    "duration": 32,
    "start_time": "2022-08-16T10:58:18.441Z"
   },
   {
    "duration": 4434,
    "start_time": "2022-08-16T10:58:18.480Z"
   },
   {
    "duration": 6,
    "start_time": "2022-08-16T10:58:22.915Z"
   },
   {
    "duration": 59,
    "start_time": "2022-08-16T10:58:22.923Z"
   },
   {
    "duration": 19,
    "start_time": "2022-08-16T10:58:40.411Z"
   },
   {
    "duration": 4,
    "start_time": "2022-08-16T10:58:51.493Z"
   },
   {
    "duration": 112,
    "start_time": "2022-08-16T10:58:51.509Z"
   },
   {
    "duration": 62,
    "start_time": "2022-08-16T10:58:51.624Z"
   },
   {
    "duration": 2120,
    "start_time": "2022-08-16T10:58:51.687Z"
   },
   {
    "duration": 14,
    "start_time": "2022-08-16T10:58:53.809Z"
   },
   {
    "duration": 11,
    "start_time": "2022-08-16T10:58:53.825Z"
   },
   {
    "duration": 31,
    "start_time": "2022-08-16T10:58:53.838Z"
   },
   {
    "duration": 14,
    "start_time": "2022-08-16T10:58:53.874Z"
   },
   {
    "duration": 14,
    "start_time": "2022-08-16T10:58:53.892Z"
   },
   {
    "duration": 5,
    "start_time": "2022-08-16T10:58:53.908Z"
   },
   {
    "duration": 6,
    "start_time": "2022-08-16T10:58:53.915Z"
   },
   {
    "duration": 7,
    "start_time": "2022-08-16T10:58:53.923Z"
   },
   {
    "duration": 64,
    "start_time": "2022-08-16T10:58:53.931Z"
   },
   {
    "duration": 6,
    "start_time": "2022-08-16T10:58:53.997Z"
   },
   {
    "duration": 135,
    "start_time": "2022-08-16T10:58:54.006Z"
   },
   {
    "duration": 27,
    "start_time": "2022-08-16T10:58:54.143Z"
   },
   {
    "duration": 136,
    "start_time": "2022-08-16T10:58:54.175Z"
   },
   {
    "duration": 129,
    "start_time": "2022-08-16T10:58:54.313Z"
   },
   {
    "duration": 41,
    "start_time": "2022-08-16T10:58:54.444Z"
   },
   {
    "duration": 128,
    "start_time": "2022-08-16T10:58:54.487Z"
   },
   {
    "duration": 25,
    "start_time": "2022-08-16T10:58:54.617Z"
   },
   {
    "duration": 146,
    "start_time": "2022-08-16T10:58:54.644Z"
   },
   {
    "duration": 24,
    "start_time": "2022-08-16T10:58:54.791Z"
   },
   {
    "duration": 6,
    "start_time": "2022-08-16T10:58:54.818Z"
   },
   {
    "duration": 158,
    "start_time": "2022-08-16T10:58:54.825Z"
   },
   {
    "duration": 126,
    "start_time": "2022-08-16T10:58:54.985Z"
   },
   {
    "duration": 26,
    "start_time": "2022-08-16T10:58:55.112Z"
   },
   {
    "duration": 144,
    "start_time": "2022-08-16T10:58:55.140Z"
   },
   {
    "duration": 39,
    "start_time": "2022-08-16T10:58:55.286Z"
   },
   {
    "duration": 119,
    "start_time": "2022-08-16T10:58:55.326Z"
   },
   {
    "duration": 62,
    "start_time": "2022-08-16T10:58:55.447Z"
   },
   {
    "duration": 6,
    "start_time": "2022-08-16T10:58:55.510Z"
   },
   {
    "duration": 16,
    "start_time": "2022-08-16T10:58:55.517Z"
   },
   {
    "duration": 4,
    "start_time": "2022-08-16T10:58:55.535Z"
   },
   {
    "duration": 45,
    "start_time": "2022-08-16T10:58:55.541Z"
   },
   {
    "duration": 4,
    "start_time": "2022-08-16T10:58:55.588Z"
   },
   {
    "duration": 6,
    "start_time": "2022-08-16T10:58:55.594Z"
   },
   {
    "duration": 18,
    "start_time": "2022-08-16T10:58:55.601Z"
   },
   {
    "duration": 15,
    "start_time": "2022-08-16T10:59:43.639Z"
   },
   {
    "duration": 4,
    "start_time": "2022-08-16T10:59:53.903Z"
   },
   {
    "duration": 16,
    "start_time": "2022-08-16T10:59:54.334Z"
   },
   {
    "duration": 17,
    "start_time": "2022-08-16T10:59:58.298Z"
   },
   {
    "duration": 39,
    "start_time": "2022-08-16T11:00:13.322Z"
   },
   {
    "duration": 15,
    "start_time": "2022-08-16T11:00:31.548Z"
   },
   {
    "duration": 48,
    "start_time": "2022-08-16T11:00:47.214Z"
   },
   {
    "duration": 24,
    "start_time": "2022-08-16T11:01:00.786Z"
   },
   {
    "duration": 39,
    "start_time": "2022-08-16T11:01:44.614Z"
   },
   {
    "duration": 15,
    "start_time": "2022-08-16T11:01:52.983Z"
   },
   {
    "duration": 78,
    "start_time": "2022-08-16T11:02:00.729Z"
   },
   {
    "duration": 49,
    "start_time": "2022-08-16T11:02:04.663Z"
   },
   {
    "duration": 52,
    "start_time": "2022-08-16T11:03:26.068Z"
   },
   {
    "duration": 126,
    "start_time": "2022-08-16T11:04:41.511Z"
   },
   {
    "duration": 89,
    "start_time": "2022-08-16T11:04:48.486Z"
   },
   {
    "duration": 53,
    "start_time": "2022-08-16T11:05:01.063Z"
   },
   {
    "duration": 2460,
    "start_time": "2022-08-16T11:06:38.949Z"
   },
   {
    "duration": 5,
    "start_time": "2022-08-16T11:06:41.411Z"
   },
   {
    "duration": 5,
    "start_time": "2022-08-16T11:06:55.889Z"
   },
   {
    "duration": 5669,
    "start_time": "2022-08-16T11:07:34.797Z"
   },
   {
    "duration": 14,
    "start_time": "2022-08-16T11:07:40.477Z"
   },
   {
    "duration": 62,
    "start_time": "2022-08-16T11:07:41.610Z"
   },
   {
    "duration": 4740,
    "start_time": "2022-08-16T11:08:22.131Z"
   },
   {
    "duration": 45,
    "start_time": "2022-08-16T11:08:26.880Z"
   },
   {
    "duration": 5,
    "start_time": "2022-08-16T11:08:26.927Z"
   },
   {
    "duration": 2594,
    "start_time": "2022-08-16T11:08:45.516Z"
   },
   {
    "duration": 6,
    "start_time": "2022-08-16T11:08:48.112Z"
   },
   {
    "duration": 59,
    "start_time": "2022-08-16T11:08:48.120Z"
   },
   {
    "duration": 50,
    "start_time": "2022-08-16T11:09:17.484Z"
   },
   {
    "duration": 61,
    "start_time": "2022-08-16T11:10:28.334Z"
   },
   {
    "duration": 2626,
    "start_time": "2022-08-16T11:10:54.112Z"
   },
   {
    "duration": 6,
    "start_time": "2022-08-16T11:10:56.740Z"
   },
   {
    "duration": 76,
    "start_time": "2022-08-16T11:10:56.748Z"
   },
   {
    "duration": 6,
    "start_time": "2022-08-16T11:10:58.526Z"
   },
   {
    "duration": 41,
    "start_time": "2022-08-16T11:11:03.007Z"
   },
   {
    "duration": 2592,
    "start_time": "2022-08-16T11:12:20.947Z"
   },
   {
    "duration": 7,
    "start_time": "2022-08-16T11:12:23.542Z"
   },
   {
    "duration": 79,
    "start_time": "2022-08-16T11:12:23.551Z"
   },
   {
    "duration": 104,
    "start_time": "2022-08-16T11:14:27.954Z"
   },
   {
    "duration": 2543,
    "start_time": "2022-08-16T11:14:32.651Z"
   },
   {
    "duration": 5,
    "start_time": "2022-08-16T11:14:35.196Z"
   },
   {
    "duration": 5,
    "start_time": "2022-08-16T11:14:37.104Z"
   },
   {
    "duration": 39,
    "start_time": "2022-08-16T11:14:46.079Z"
   },
   {
    "duration": 93,
    "start_time": "2022-08-16T11:15:40.238Z"
   },
   {
    "duration": 2375,
    "start_time": "2022-08-16T11:15:50.070Z"
   },
   {
    "duration": 6,
    "start_time": "2022-08-16T11:15:54.799Z"
   },
   {
    "duration": 57,
    "start_time": "2022-08-16T11:15:56.743Z"
   },
   {
    "duration": 9,
    "start_time": "2022-08-16T11:17:30.684Z"
   },
   {
    "duration": 7,
    "start_time": "2022-08-16T11:17:52.454Z"
   },
   {
    "duration": 11,
    "start_time": "2022-08-16T11:18:13.842Z"
   },
   {
    "duration": 88,
    "start_time": "2022-08-16T11:19:14.561Z"
   },
   {
    "duration": 42,
    "start_time": "2022-08-16T11:19:20.514Z"
   },
   {
    "duration": 5,
    "start_time": "2022-08-16T11:23:24.889Z"
   },
   {
    "duration": 3,
    "start_time": "2022-08-16T11:24:41.440Z"
   },
   {
    "duration": 116,
    "start_time": "2022-08-16T11:24:41.445Z"
   },
   {
    "duration": 58,
    "start_time": "2022-08-16T11:24:41.562Z"
   },
   {
    "duration": 2075,
    "start_time": "2022-08-16T11:24:41.622Z"
   },
   {
    "duration": 15,
    "start_time": "2022-08-16T11:24:43.699Z"
   },
   {
    "duration": 9,
    "start_time": "2022-08-16T11:24:43.715Z"
   },
   {
    "duration": 6,
    "start_time": "2022-08-16T11:24:43.727Z"
   },
   {
    "duration": 39,
    "start_time": "2022-08-16T11:24:43.735Z"
   },
   {
    "duration": 11,
    "start_time": "2022-08-16T11:24:43.781Z"
   },
   {
    "duration": 9,
    "start_time": "2022-08-16T11:24:43.793Z"
   },
   {
    "duration": 10,
    "start_time": "2022-08-16T11:24:43.804Z"
   },
   {
    "duration": 6,
    "start_time": "2022-08-16T11:24:43.816Z"
   },
   {
    "duration": 70,
    "start_time": "2022-08-16T11:24:43.824Z"
   },
   {
    "duration": 6,
    "start_time": "2022-08-16T11:24:43.896Z"
   },
   {
    "duration": 184,
    "start_time": "2022-08-16T11:24:43.904Z"
   },
   {
    "duration": 17,
    "start_time": "2022-08-16T11:24:44.090Z"
   },
   {
    "duration": 140,
    "start_time": "2022-08-16T11:24:44.109Z"
   },
   {
    "duration": 137,
    "start_time": "2022-08-16T11:24:44.251Z"
   },
   {
    "duration": 24,
    "start_time": "2022-08-16T11:24:44.389Z"
   },
   {
    "duration": 169,
    "start_time": "2022-08-16T11:24:44.415Z"
   },
   {
    "duration": 26,
    "start_time": "2022-08-16T11:24:44.586Z"
   },
   {
    "duration": 135,
    "start_time": "2022-08-16T11:24:44.614Z"
   },
   {
    "duration": 39,
    "start_time": "2022-08-16T11:24:44.751Z"
   },
   {
    "duration": 10,
    "start_time": "2022-08-16T11:24:44.792Z"
   },
   {
    "duration": 180,
    "start_time": "2022-08-16T11:24:44.804Z"
   },
   {
    "duration": 138,
    "start_time": "2022-08-16T11:24:44.988Z"
   },
   {
    "duration": 25,
    "start_time": "2022-08-16T11:24:45.128Z"
   },
   {
    "duration": 134,
    "start_time": "2022-08-16T11:24:45.174Z"
   },
   {
    "duration": 32,
    "start_time": "2022-08-16T11:24:45.309Z"
   },
   {
    "duration": 141,
    "start_time": "2022-08-16T11:24:45.343Z"
   },
   {
    "duration": 42,
    "start_time": "2022-08-16T11:24:45.486Z"
   },
   {
    "duration": 6,
    "start_time": "2022-08-16T11:24:45.529Z"
   },
   {
    "duration": 40,
    "start_time": "2022-08-16T11:24:45.537Z"
   },
   {
    "duration": 4,
    "start_time": "2022-08-16T11:24:45.579Z"
   },
   {
    "duration": 12,
    "start_time": "2022-08-16T11:24:45.585Z"
   },
   {
    "duration": 13,
    "start_time": "2022-08-16T11:24:45.599Z"
   },
   {
    "duration": 7,
    "start_time": "2022-08-16T11:24:45.614Z"
   },
   {
    "duration": 15,
    "start_time": "2022-08-16T11:24:45.622Z"
   },
   {
    "duration": 197,
    "start_time": "2022-08-16T11:24:45.639Z"
   },
   {
    "duration": 11,
    "start_time": "2022-08-16T11:24:45.838Z"
   },
   {
    "duration": 21,
    "start_time": "2022-08-16T11:24:45.851Z"
   },
   {
    "duration": 7,
    "start_time": "2022-08-16T11:24:45.873Z"
   },
   {
    "duration": 12796,
    "start_time": "2022-08-16T11:24:45.887Z"
   },
   {
    "duration": 42,
    "start_time": "2022-08-16T11:24:58.685Z"
   },
   {
    "duration": 56,
    "start_time": "2022-08-16T11:24:58.728Z"
   },
   {
    "duration": 463,
    "start_time": "2022-08-16T11:25:38.132Z"
   },
   {
    "duration": 34,
    "start_time": "2022-08-16T11:25:38.782Z"
   },
   {
    "duration": 7241,
    "start_time": "2022-08-16T11:26:07.949Z"
   },
   {
    "duration": 35,
    "start_time": "2022-08-16T11:26:15.191Z"
   },
   {
    "duration": 59,
    "start_time": "2022-08-16T11:26:15.228Z"
   },
   {
    "duration": 7040,
    "start_time": "2022-08-16T11:27:25.466Z"
   },
   {
    "duration": 34,
    "start_time": "2022-08-16T11:27:32.508Z"
   },
   {
    "duration": 36,
    "start_time": "2022-08-16T11:27:37.080Z"
   },
   {
    "duration": 8,
    "start_time": "2022-08-16T11:28:04.712Z"
   },
   {
    "duration": 7125,
    "start_time": "2022-08-16T11:29:15.131Z"
   },
   {
    "duration": 55,
    "start_time": "2022-08-16T11:29:22.285Z"
   },
   {
    "duration": 4,
    "start_time": "2022-08-16T11:29:22.342Z"
   },
   {
    "duration": 1054,
    "start_time": "2022-08-16T11:30:02.456Z"
   },
   {
    "duration": 7122,
    "start_time": "2022-08-16T11:30:17.700Z"
   },
   {
    "duration": 5,
    "start_time": "2022-08-16T11:30:24.825Z"
   },
   {
    "duration": 65,
    "start_time": "2022-08-16T11:30:24.832Z"
   },
   {
    "duration": 2669,
    "start_time": "2022-08-16T11:33:43.622Z"
   },
   {
    "duration": 2637,
    "start_time": "2022-08-16T11:33:47.539Z"
   },
   {
    "duration": 6,
    "start_time": "2022-08-16T11:33:50.386Z"
   },
   {
    "duration": 2161,
    "start_time": "2022-08-16T11:34:51.824Z"
   },
   {
    "duration": 10,
    "start_time": "2022-08-16T11:34:55.261Z"
   },
   {
    "duration": 7,
    "start_time": "2022-08-16T11:35:00.006Z"
   },
   {
    "duration": 3197,
    "start_time": "2022-08-16T11:35:29.293Z"
   },
   {
    "duration": 5,
    "start_time": "2022-08-16T11:35:32.492Z"
   },
   {
    "duration": 5,
    "start_time": "2022-08-16T11:35:37.689Z"
   },
   {
    "duration": 37,
    "start_time": "2022-08-16T11:35:38.428Z"
   },
   {
    "duration": 42,
    "start_time": "2022-08-16T11:35:40.858Z"
   },
   {
    "duration": 7,
    "start_time": "2022-08-16T11:35:42.785Z"
   },
   {
    "duration": 54,
    "start_time": "2022-08-16T11:35:43.529Z"
   },
   {
    "duration": 11,
    "start_time": "2022-08-16T11:38:16.355Z"
   },
   {
    "duration": 12,
    "start_time": "2022-08-16T11:38:23.038Z"
   },
   {
    "duration": 13,
    "start_time": "2022-08-16T11:38:24.259Z"
   },
   {
    "duration": 8,
    "start_time": "2022-08-16T11:38:43.350Z"
   },
   {
    "duration": 8,
    "start_time": "2022-08-16T11:42:41.912Z"
   },
   {
    "duration": 9,
    "start_time": "2022-08-16T11:42:45.327Z"
   },
   {
    "duration": 537,
    "start_time": "2022-08-16T11:43:03.696Z"
   },
   {
    "duration": 327,
    "start_time": "2022-08-16T11:45:41.734Z"
   },
   {
    "duration": 5,
    "start_time": "2022-08-16T11:46:02.024Z"
   },
   {
    "duration": 3,
    "start_time": "2022-08-16T11:46:06.303Z"
   },
   {
    "duration": 112,
    "start_time": "2022-08-16T11:46:06.308Z"
   },
   {
    "duration": 76,
    "start_time": "2022-08-16T11:46:06.422Z"
   },
   {
    "duration": 2206,
    "start_time": "2022-08-16T11:46:06.501Z"
   },
   {
    "duration": 20,
    "start_time": "2022-08-16T11:46:08.709Z"
   },
   {
    "duration": 11,
    "start_time": "2022-08-16T11:46:08.731Z"
   },
   {
    "duration": 25,
    "start_time": "2022-08-16T11:46:08.744Z"
   },
   {
    "duration": 10,
    "start_time": "2022-08-16T11:46:08.771Z"
   },
   {
    "duration": 12,
    "start_time": "2022-08-16T11:46:08.782Z"
   },
   {
    "duration": 7,
    "start_time": "2022-08-16T11:46:08.796Z"
   },
   {
    "duration": 4,
    "start_time": "2022-08-16T11:46:08.805Z"
   },
   {
    "duration": 10,
    "start_time": "2022-08-16T11:46:08.810Z"
   },
   {
    "duration": 84,
    "start_time": "2022-08-16T11:46:08.821Z"
   },
   {
    "duration": 6,
    "start_time": "2022-08-16T11:46:08.907Z"
   },
   {
    "duration": 133,
    "start_time": "2022-08-16T11:46:08.915Z"
   },
   {
    "duration": 23,
    "start_time": "2022-08-16T11:46:09.050Z"
   },
   {
    "duration": 115,
    "start_time": "2022-08-16T11:46:09.084Z"
   },
   {
    "duration": 117,
    "start_time": "2022-08-16T11:46:09.200Z"
   },
   {
    "duration": 32,
    "start_time": "2022-08-16T11:46:09.319Z"
   },
   {
    "duration": 149,
    "start_time": "2022-08-16T11:46:09.367Z"
   },
   {
    "duration": 27,
    "start_time": "2022-08-16T11:46:09.518Z"
   },
   {
    "duration": 137,
    "start_time": "2022-08-16T11:46:09.546Z"
   },
   {
    "duration": 25,
    "start_time": "2022-08-16T11:46:09.685Z"
   },
   {
    "duration": 15,
    "start_time": "2022-08-16T11:46:09.711Z"
   },
   {
    "duration": 127,
    "start_time": "2022-08-16T11:46:09.728Z"
   },
   {
    "duration": 139,
    "start_time": "2022-08-16T11:46:09.857Z"
   },
   {
    "duration": 27,
    "start_time": "2022-08-16T11:46:09.998Z"
   },
   {
    "duration": 152,
    "start_time": "2022-08-16T11:46:10.027Z"
   },
   {
    "duration": 32,
    "start_time": "2022-08-16T11:46:10.183Z"
   },
   {
    "duration": 138,
    "start_time": "2022-08-16T11:46:10.217Z"
   },
   {
    "duration": 48,
    "start_time": "2022-08-16T11:46:10.357Z"
   },
   {
    "duration": 8,
    "start_time": "2022-08-16T11:46:10.407Z"
   },
   {
    "duration": 40,
    "start_time": "2022-08-16T11:46:10.417Z"
   },
   {
    "duration": 4,
    "start_time": "2022-08-16T11:46:10.459Z"
   },
   {
    "duration": 27,
    "start_time": "2022-08-16T11:46:10.465Z"
   },
   {
    "duration": 15,
    "start_time": "2022-08-16T11:46:10.494Z"
   },
   {
    "duration": 29,
    "start_time": "2022-08-16T11:46:10.511Z"
   },
   {
    "duration": 35,
    "start_time": "2022-08-16T11:46:10.542Z"
   },
   {
    "duration": 13,
    "start_time": "2022-08-16T11:46:10.579Z"
   },
   {
    "duration": 32,
    "start_time": "2022-08-16T11:46:10.594Z"
   },
   {
    "duration": 28,
    "start_time": "2022-08-16T11:46:10.628Z"
   },
   {
    "duration": 30,
    "start_time": "2022-08-16T11:46:10.658Z"
   },
   {
    "duration": 379,
    "start_time": "2022-08-16T11:46:10.690Z"
   },
   {
    "duration": 1442,
    "start_time": "2022-08-16T11:46:11.076Z"
   },
   {
    "duration": 5,
    "start_time": "2022-08-16T11:46:22.739Z"
   },
   {
    "duration": 36,
    "start_time": "2022-08-16T11:46:28.623Z"
   },
   {
    "duration": 38,
    "start_time": "2022-08-16T11:46:30.020Z"
   },
   {
    "duration": 338,
    "start_time": "2022-08-16T11:48:15.162Z"
   },
   {
    "duration": 7,
    "start_time": "2022-08-16T11:48:47.622Z"
   },
   {
    "duration": 37,
    "start_time": "2022-08-16T11:48:51.191Z"
   },
   {
    "duration": 6,
    "start_time": "2022-08-16T11:49:03.000Z"
   },
   {
    "duration": 12,
    "start_time": "2022-08-16T11:59:10.551Z"
   },
   {
    "duration": 5,
    "start_time": "2022-08-16T11:59:22.599Z"
   },
   {
    "duration": 45,
    "start_time": "2022-08-16T11:59:27.136Z"
   },
   {
    "duration": 7,
    "start_time": "2022-08-16T12:00:27.892Z"
   },
   {
    "duration": 39,
    "start_time": "2022-08-16T12:00:42.995Z"
   },
   {
    "duration": 86,
    "start_time": "2022-08-16T12:01:20.007Z"
   },
   {
    "duration": 5,
    "start_time": "2022-08-16T12:01:26.240Z"
   },
   {
    "duration": 5,
    "start_time": "2022-08-16T12:01:29.760Z"
   },
   {
    "duration": 636,
    "start_time": "2022-08-16T12:01:52.914Z"
   },
   {
    "duration": 113,
    "start_time": "2022-08-16T12:01:53.553Z"
   },
   {
    "duration": 62,
    "start_time": "2022-08-16T12:01:53.671Z"
   },
   {
    "duration": 2093,
    "start_time": "2022-08-16T12:01:53.736Z"
   },
   {
    "duration": 16,
    "start_time": "2022-08-16T12:01:55.831Z"
   },
   {
    "duration": 32,
    "start_time": "2022-08-16T12:01:55.850Z"
   },
   {
    "duration": 10,
    "start_time": "2022-08-16T12:01:55.884Z"
   },
   {
    "duration": 8,
    "start_time": "2022-08-16T12:01:55.897Z"
   },
   {
    "duration": 6,
    "start_time": "2022-08-16T12:01:55.908Z"
   },
   {
    "duration": 8,
    "start_time": "2022-08-16T12:01:55.916Z"
   },
   {
    "duration": 6,
    "start_time": "2022-08-16T12:01:55.926Z"
   },
   {
    "duration": 16,
    "start_time": "2022-08-16T12:01:55.967Z"
   },
   {
    "duration": 62,
    "start_time": "2022-08-16T12:01:55.987Z"
   },
   {
    "duration": 19,
    "start_time": "2022-08-16T12:01:56.053Z"
   },
   {
    "duration": 160,
    "start_time": "2022-08-16T12:01:56.074Z"
   },
   {
    "duration": 43,
    "start_time": "2022-08-16T12:01:56.237Z"
   },
   {
    "duration": 170,
    "start_time": "2022-08-16T12:01:56.287Z"
   },
   {
    "duration": 174,
    "start_time": "2022-08-16T12:01:56.459Z"
   },
   {
    "duration": 43,
    "start_time": "2022-08-16T12:01:56.635Z"
   },
   {
    "duration": 169,
    "start_time": "2022-08-16T12:01:56.680Z"
   },
   {
    "duration": 45,
    "start_time": "2022-08-16T12:01:56.851Z"
   },
   {
    "duration": 190,
    "start_time": "2022-08-16T12:01:56.899Z"
   },
   {
    "duration": 30,
    "start_time": "2022-08-16T12:01:57.093Z"
   },
   {
    "duration": 19,
    "start_time": "2022-08-16T12:01:57.126Z"
   },
   {
    "duration": 149,
    "start_time": "2022-08-16T12:01:57.148Z"
   },
   {
    "duration": 251,
    "start_time": "2022-08-16T12:01:57.301Z"
   },
   {
    "duration": 45,
    "start_time": "2022-08-16T12:01:57.553Z"
   },
   {
    "duration": 143,
    "start_time": "2022-08-16T12:01:57.600Z"
   },
   {
    "duration": 49,
    "start_time": "2022-08-16T12:01:57.745Z"
   },
   {
    "duration": 132,
    "start_time": "2022-08-16T12:01:57.796Z"
   },
   {
    "duration": 64,
    "start_time": "2022-08-16T12:01:57.930Z"
   },
   {
    "duration": 6,
    "start_time": "2022-08-16T12:01:57.996Z"
   },
   {
    "duration": 17,
    "start_time": "2022-08-16T12:01:58.003Z"
   },
   {
    "duration": 3,
    "start_time": "2022-08-16T12:01:58.022Z"
   },
   {
    "duration": 14,
    "start_time": "2022-08-16T12:01:58.027Z"
   },
   {
    "duration": 43,
    "start_time": "2022-08-16T12:01:58.042Z"
   },
   {
    "duration": 12,
    "start_time": "2022-08-16T12:01:58.087Z"
   },
   {
    "duration": 22,
    "start_time": "2022-08-16T12:01:58.101Z"
   },
   {
    "duration": 4,
    "start_time": "2022-08-16T12:01:58.125Z"
   },
   {
    "duration": 10,
    "start_time": "2022-08-16T12:01:58.132Z"
   },
   {
    "duration": 30,
    "start_time": "2022-08-16T12:01:58.146Z"
   },
   {
    "duration": 21,
    "start_time": "2022-08-16T12:01:58.177Z"
   },
   {
    "duration": 450,
    "start_time": "2022-08-16T12:01:58.200Z"
   },
   {
    "duration": 5,
    "start_time": "2022-08-16T12:01:58.652Z"
   },
   {
    "duration": 198,
    "start_time": "2022-08-16T12:04:38.286Z"
   },
   {
    "duration": 144,
    "start_time": "2022-08-16T12:04:48.338Z"
   },
   {
    "duration": 124,
    "start_time": "2022-08-16T12:04:55.801Z"
   },
   {
    "duration": 114,
    "start_time": "2022-08-16T12:05:38.328Z"
   },
   {
    "duration": 116,
    "start_time": "2022-08-16T12:05:44.898Z"
   },
   {
    "duration": 342,
    "start_time": "2022-08-16T12:05:52.846Z"
   },
   {
    "duration": 181,
    "start_time": "2022-08-16T12:05:59.459Z"
   },
   {
    "duration": 89,
    "start_time": "2022-08-16T12:06:35.383Z"
   },
   {
    "duration": 191,
    "start_time": "2022-08-16T12:06:37.343Z"
   },
   {
    "duration": 181,
    "start_time": "2022-08-16T12:08:06.852Z"
   },
   {
    "duration": 176,
    "start_time": "2022-08-16T12:08:15.150Z"
   },
   {
    "duration": 194,
    "start_time": "2022-08-16T12:11:24.022Z"
   },
   {
    "duration": 186,
    "start_time": "2022-08-16T12:11:40.952Z"
   },
   {
    "duration": 187,
    "start_time": "2022-08-16T12:11:48.882Z"
   },
   {
    "duration": 180,
    "start_time": "2022-08-16T12:13:29.166Z"
   },
   {
    "duration": 193,
    "start_time": "2022-08-16T12:13:44.768Z"
   },
   {
    "duration": 683,
    "start_time": "2022-08-16T12:15:25.839Z"
   },
   {
    "duration": 116,
    "start_time": "2022-08-16T12:15:26.525Z"
   },
   {
    "duration": 73,
    "start_time": "2022-08-16T12:15:26.644Z"
   },
   {
    "duration": 1954,
    "start_time": "2022-08-16T12:15:26.719Z"
   },
   {
    "duration": 15,
    "start_time": "2022-08-16T12:15:28.676Z"
   },
   {
    "duration": 9,
    "start_time": "2022-08-16T12:15:28.693Z"
   },
   {
    "duration": 11,
    "start_time": "2022-08-16T12:15:28.704Z"
   },
   {
    "duration": 34,
    "start_time": "2022-08-16T12:15:28.717Z"
   },
   {
    "duration": 14,
    "start_time": "2022-08-16T12:15:28.753Z"
   },
   {
    "duration": 12,
    "start_time": "2022-08-16T12:15:28.769Z"
   },
   {
    "duration": 10,
    "start_time": "2022-08-16T12:15:28.783Z"
   },
   {
    "duration": 15,
    "start_time": "2022-08-16T12:15:28.795Z"
   },
   {
    "duration": 59,
    "start_time": "2022-08-16T12:15:28.812Z"
   },
   {
    "duration": 6,
    "start_time": "2022-08-16T12:15:28.874Z"
   },
   {
    "duration": 135,
    "start_time": "2022-08-16T12:15:28.882Z"
   },
   {
    "duration": 13,
    "start_time": "2022-08-16T12:15:29.019Z"
   },
   {
    "duration": 134,
    "start_time": "2022-08-16T12:15:29.034Z"
   },
   {
    "duration": 118,
    "start_time": "2022-08-16T12:15:29.170Z"
   },
   {
    "duration": 22,
    "start_time": "2022-08-16T12:15:29.290Z"
   },
   {
    "duration": 137,
    "start_time": "2022-08-16T12:15:29.314Z"
   },
   {
    "duration": 30,
    "start_time": "2022-08-16T12:15:29.453Z"
   },
   {
    "duration": 130,
    "start_time": "2022-08-16T12:15:29.484Z"
   },
   {
    "duration": 25,
    "start_time": "2022-08-16T12:15:29.616Z"
   },
   {
    "duration": 28,
    "start_time": "2022-08-16T12:15:29.643Z"
   },
   {
    "duration": 138,
    "start_time": "2022-08-16T12:15:29.672Z"
   },
   {
    "duration": 211,
    "start_time": "2022-08-16T12:15:29.812Z"
   },
   {
    "duration": 27,
    "start_time": "2022-08-16T12:15:30.025Z"
   },
   {
    "duration": 136,
    "start_time": "2022-08-16T12:15:30.068Z"
   },
   {
    "duration": 30,
    "start_time": "2022-08-16T12:15:30.206Z"
   },
   {
    "duration": 111,
    "start_time": "2022-08-16T12:15:30.238Z"
   },
   {
    "duration": 52,
    "start_time": "2022-08-16T12:15:30.351Z"
   },
   {
    "duration": 6,
    "start_time": "2022-08-16T12:15:30.404Z"
   },
   {
    "duration": 20,
    "start_time": "2022-08-16T12:15:30.412Z"
   },
   {
    "duration": 35,
    "start_time": "2022-08-16T12:15:30.433Z"
   },
   {
    "duration": 15,
    "start_time": "2022-08-16T12:15:30.470Z"
   },
   {
    "duration": 13,
    "start_time": "2022-08-16T12:15:30.487Z"
   },
   {
    "duration": 19,
    "start_time": "2022-08-16T12:15:30.502Z"
   },
   {
    "duration": 18,
    "start_time": "2022-08-16T12:15:30.523Z"
   },
   {
    "duration": 3,
    "start_time": "2022-08-16T12:15:30.543Z"
   },
   {
    "duration": 24,
    "start_time": "2022-08-16T12:15:30.548Z"
   },
   {
    "duration": 29,
    "start_time": "2022-08-16T12:15:30.577Z"
   },
   {
    "duration": 9,
    "start_time": "2022-08-16T12:15:30.609Z"
   },
   {
    "duration": 352,
    "start_time": "2022-08-16T12:15:30.620Z"
   },
   {
    "duration": 4,
    "start_time": "2022-08-16T12:15:30.974Z"
   },
   {
    "duration": 210,
    "start_time": "2022-08-16T12:15:30.980Z"
   },
   {
    "duration": 199,
    "start_time": "2022-08-16T12:15:31.191Z"
   },
   {
    "duration": 78,
    "start_time": "2022-08-16T12:16:54.153Z"
   },
   {
    "duration": 47,
    "start_time": "2022-08-16T12:16:57.911Z"
   },
   {
    "duration": 648,
    "start_time": "2022-08-16T12:17:05.015Z"
   },
   {
    "duration": 102,
    "start_time": "2022-08-16T12:17:05.665Z"
   },
   {
    "duration": 55,
    "start_time": "2022-08-16T12:17:05.769Z"
   },
   {
    "duration": 2306,
    "start_time": "2022-08-16T12:17:05.827Z"
   },
   {
    "duration": 17,
    "start_time": "2022-08-16T12:17:08.135Z"
   },
   {
    "duration": 17,
    "start_time": "2022-08-16T12:17:08.154Z"
   },
   {
    "duration": 17,
    "start_time": "2022-08-16T12:17:08.174Z"
   },
   {
    "duration": 14,
    "start_time": "2022-08-16T12:17:08.193Z"
   },
   {
    "duration": 24,
    "start_time": "2022-08-16T12:17:08.209Z"
   },
   {
    "duration": 15,
    "start_time": "2022-08-16T12:17:08.238Z"
   },
   {
    "duration": 11,
    "start_time": "2022-08-16T12:17:08.255Z"
   },
   {
    "duration": 8,
    "start_time": "2022-08-16T12:17:08.268Z"
   },
   {
    "duration": 52,
    "start_time": "2022-08-16T12:17:08.278Z"
   },
   {
    "duration": 7,
    "start_time": "2022-08-16T12:17:08.332Z"
   },
   {
    "duration": 161,
    "start_time": "2022-08-16T12:17:08.341Z"
   },
   {
    "duration": 14,
    "start_time": "2022-08-16T12:17:08.504Z"
   },
   {
    "duration": 140,
    "start_time": "2022-08-16T12:17:08.519Z"
   },
   {
    "duration": 130,
    "start_time": "2022-08-16T12:17:08.668Z"
   },
   {
    "duration": 23,
    "start_time": "2022-08-16T12:17:08.800Z"
   },
   {
    "duration": 150,
    "start_time": "2022-08-16T12:17:08.825Z"
   },
   {
    "duration": 25,
    "start_time": "2022-08-16T12:17:08.977Z"
   },
   {
    "duration": 148,
    "start_time": "2022-08-16T12:17:09.003Z"
   },
   {
    "duration": 38,
    "start_time": "2022-08-16T12:17:09.152Z"
   },
   {
    "duration": 12,
    "start_time": "2022-08-16T12:17:09.192Z"
   },
   {
    "duration": 149,
    "start_time": "2022-08-16T12:17:09.206Z"
   },
   {
    "duration": 239,
    "start_time": "2022-08-16T12:17:09.357Z"
   },
   {
    "duration": 25,
    "start_time": "2022-08-16T12:17:09.598Z"
   },
   {
    "duration": 151,
    "start_time": "2022-08-16T12:17:09.627Z"
   },
   {
    "duration": 32,
    "start_time": "2022-08-16T12:17:09.780Z"
   },
   {
    "duration": 125,
    "start_time": "2022-08-16T12:17:09.813Z"
   },
   {
    "duration": 56,
    "start_time": "2022-08-16T12:17:09.940Z"
   },
   {
    "duration": 6,
    "start_time": "2022-08-16T12:17:09.998Z"
   },
   {
    "duration": 21,
    "start_time": "2022-08-16T12:17:10.005Z"
   },
   {
    "duration": 15,
    "start_time": "2022-08-16T12:17:10.028Z"
   },
   {
    "duration": 32,
    "start_time": "2022-08-16T12:17:10.045Z"
   },
   {
    "duration": 16,
    "start_time": "2022-08-16T12:17:10.079Z"
   },
   {
    "duration": 15,
    "start_time": "2022-08-16T12:17:10.096Z"
   },
   {
    "duration": 22,
    "start_time": "2022-08-16T12:17:10.113Z"
   },
   {
    "duration": 10,
    "start_time": "2022-08-16T12:17:10.137Z"
   },
   {
    "duration": 12,
    "start_time": "2022-08-16T12:17:10.149Z"
   },
   {
    "duration": 13,
    "start_time": "2022-08-16T12:17:10.163Z"
   },
   {
    "duration": 15,
    "start_time": "2022-08-16T12:17:10.178Z"
   },
   {
    "duration": 383,
    "start_time": "2022-08-16T12:17:10.195Z"
   },
   {
    "duration": 5,
    "start_time": "2022-08-16T12:17:10.580Z"
   },
   {
    "duration": 239,
    "start_time": "2022-08-16T12:17:10.587Z"
   },
   {
    "duration": 223,
    "start_time": "2022-08-16T12:17:10.828Z"
   },
   {
    "duration": 219,
    "start_time": "2022-08-16T12:17:14.931Z"
   },
   {
    "duration": 188,
    "start_time": "2022-08-16T12:18:08.000Z"
   },
   {
    "duration": 284,
    "start_time": "2022-08-16T12:18:35.932Z"
   },
   {
    "duration": 189,
    "start_time": "2022-08-16T12:22:58.638Z"
   },
   {
    "duration": 176,
    "start_time": "2022-08-16T12:23:08.566Z"
   },
   {
    "duration": 95,
    "start_time": "2022-08-16T12:23:15.271Z"
   },
   {
    "duration": 176,
    "start_time": "2022-08-16T12:23:19.729Z"
   },
   {
    "duration": 191,
    "start_time": "2022-08-16T12:25:17.559Z"
   },
   {
    "duration": 180,
    "start_time": "2022-08-16T12:25:26.905Z"
   },
   {
    "duration": 204,
    "start_time": "2022-08-16T12:25:31.233Z"
   },
   {
    "duration": 199,
    "start_time": "2022-08-16T12:26:45.176Z"
   },
   {
    "duration": 167,
    "start_time": "2022-08-16T12:26:49.214Z"
   },
   {
    "duration": 157,
    "start_time": "2022-08-16T12:27:10.242Z"
   },
   {
    "duration": 260,
    "start_time": "2022-08-16T12:27:22.817Z"
   },
   {
    "duration": 130,
    "start_time": "2022-08-16T12:28:25.993Z"
   },
   {
    "duration": 176,
    "start_time": "2022-08-16T12:28:41.019Z"
   },
   {
    "duration": 294,
    "start_time": "2022-08-16T12:29:06.550Z"
   },
   {
    "duration": 180,
    "start_time": "2022-08-16T12:29:49.348Z"
   },
   {
    "duration": 183,
    "start_time": "2022-08-16T12:29:59.172Z"
   },
   {
    "duration": 173,
    "start_time": "2022-08-16T12:30:14.446Z"
   },
   {
    "duration": 199,
    "start_time": "2022-08-16T12:30:25.458Z"
   },
   {
    "duration": 178,
    "start_time": "2022-08-16T12:30:33.561Z"
   },
   {
    "duration": 218,
    "start_time": "2022-08-16T12:30:51.323Z"
   },
   {
    "duration": 174,
    "start_time": "2022-08-16T12:32:29.038Z"
   },
   {
    "duration": 324,
    "start_time": "2022-08-16T12:32:53.451Z"
   },
   {
    "duration": 168,
    "start_time": "2022-08-16T12:34:12.046Z"
   },
   {
    "duration": 263,
    "start_time": "2022-08-16T12:34:26.563Z"
   },
   {
    "duration": 168,
    "start_time": "2022-08-16T12:34:48.122Z"
   },
   {
    "duration": 164,
    "start_time": "2022-08-16T12:34:59.629Z"
   },
   {
    "duration": 170,
    "start_time": "2022-08-16T12:35:03.284Z"
   },
   {
    "duration": 196,
    "start_time": "2022-08-16T12:35:10.533Z"
   },
   {
    "duration": 171,
    "start_time": "2022-08-16T12:35:53.356Z"
   },
   {
    "duration": 265,
    "start_time": "2022-08-16T12:35:57.506Z"
   },
   {
    "duration": 170,
    "start_time": "2022-08-16T12:36:04.103Z"
   },
   {
    "duration": 173,
    "start_time": "2022-08-16T12:36:10.845Z"
   },
   {
    "duration": 114,
    "start_time": "2022-08-16T12:36:50.435Z"
   },
   {
    "duration": 111,
    "start_time": "2022-08-16T12:36:59.011Z"
   },
   {
    "duration": 125,
    "start_time": "2022-08-16T12:37:01.868Z"
   },
   {
    "duration": 123,
    "start_time": "2022-08-16T12:37:06.981Z"
   },
   {
    "duration": 194,
    "start_time": "2022-08-16T12:39:08.324Z"
   },
   {
    "duration": 7,
    "start_time": "2022-08-16T12:40:03.060Z"
   },
   {
    "duration": 7,
    "start_time": "2022-08-16T12:40:13.398Z"
   },
   {
    "duration": 8,
    "start_time": "2022-08-16T12:40:16.733Z"
   },
   {
    "duration": 8,
    "start_time": "2022-08-16T12:40:24.704Z"
   },
   {
    "duration": 7,
    "start_time": "2022-08-16T12:40:32.726Z"
   },
   {
    "duration": 7,
    "start_time": "2022-08-16T12:42:27.727Z"
   },
   {
    "duration": 86,
    "start_time": "2022-08-16T12:42:45.284Z"
   },
   {
    "duration": 6,
    "start_time": "2022-08-16T12:42:53.568Z"
   },
   {
    "duration": 6,
    "start_time": "2022-08-16T12:42:59.372Z"
   },
   {
    "duration": 7,
    "start_time": "2022-08-16T12:43:10.148Z"
   },
   {
    "duration": 7,
    "start_time": "2022-08-16T12:43:42.753Z"
   },
   {
    "duration": 3,
    "start_time": "2022-08-16T12:44:02.468Z"
   },
   {
    "duration": 6,
    "start_time": "2022-08-16T12:44:08.956Z"
   },
   {
    "duration": 6,
    "start_time": "2022-08-16T12:44:38.471Z"
   },
   {
    "duration": 5,
    "start_time": "2022-08-16T12:45:04.885Z"
   },
   {
    "duration": 6,
    "start_time": "2022-08-16T12:45:36.071Z"
   },
   {
    "duration": 6,
    "start_time": "2022-08-16T12:46:11.926Z"
   },
   {
    "duration": 6,
    "start_time": "2022-08-16T12:46:24.871Z"
   },
   {
    "duration": 354,
    "start_time": "2022-08-16T13:09:49.763Z"
   },
   {
    "duration": 191,
    "start_time": "2022-08-16T13:09:55.603Z"
   },
   {
    "duration": 156,
    "start_time": "2022-08-16T13:10:00.164Z"
   },
   {
    "duration": 5,
    "start_time": "2022-08-16T13:10:24.836Z"
   },
   {
    "duration": 5,
    "start_time": "2022-08-16T13:11:04.861Z"
   },
   {
    "duration": 151,
    "start_time": "2022-08-16T13:12:21.479Z"
   },
   {
    "duration": 145,
    "start_time": "2022-08-16T13:12:33.344Z"
   },
   {
    "duration": 139,
    "start_time": "2022-08-16T13:12:43.866Z"
   },
   {
    "duration": 147,
    "start_time": "2022-08-16T13:12:48.563Z"
   },
   {
    "duration": 164,
    "start_time": "2022-08-16T13:12:59.548Z"
   },
   {
    "duration": 145,
    "start_time": "2022-08-16T13:13:08.894Z"
   },
   {
    "duration": 6,
    "start_time": "2022-08-16T13:14:10.942Z"
   },
   {
    "duration": 1355,
    "start_time": "2022-08-16T13:15:32.657Z"
   },
   {
    "duration": 5,
    "start_time": "2022-08-16T13:15:44.636Z"
   },
   {
    "duration": 76,
    "start_time": "2022-08-16T13:16:27.819Z"
   },
   {
    "duration": 174,
    "start_time": "2022-08-16T13:16:46.267Z"
   },
   {
    "duration": 193,
    "start_time": "2022-08-16T13:16:55.764Z"
   },
   {
    "duration": 608,
    "start_time": "2022-08-16T13:18:34.827Z"
   },
   {
    "duration": 92,
    "start_time": "2022-08-16T13:18:35.437Z"
   },
   {
    "duration": 63,
    "start_time": "2022-08-16T13:18:35.531Z"
   },
   {
    "duration": 2112,
    "start_time": "2022-08-16T13:18:35.597Z"
   },
   {
    "duration": 15,
    "start_time": "2022-08-16T13:18:37.711Z"
   },
   {
    "duration": 10,
    "start_time": "2022-08-16T13:18:37.728Z"
   },
   {
    "duration": 5,
    "start_time": "2022-08-16T13:18:37.740Z"
   },
   {
    "duration": 6,
    "start_time": "2022-08-16T13:18:37.767Z"
   },
   {
    "duration": 6,
    "start_time": "2022-08-16T13:18:37.775Z"
   },
   {
    "duration": 6,
    "start_time": "2022-08-16T13:18:37.785Z"
   },
   {
    "duration": 7,
    "start_time": "2022-08-16T13:18:37.793Z"
   },
   {
    "duration": 7,
    "start_time": "2022-08-16T13:18:37.801Z"
   },
   {
    "duration": 93,
    "start_time": "2022-08-16T13:18:37.810Z"
   },
   {
    "duration": 7,
    "start_time": "2022-08-16T13:18:37.905Z"
   },
   {
    "duration": 154,
    "start_time": "2022-08-16T13:18:37.914Z"
   },
   {
    "duration": 13,
    "start_time": "2022-08-16T13:18:38.069Z"
   },
   {
    "duration": 133,
    "start_time": "2022-08-16T13:18:38.083Z"
   },
   {
    "duration": 110,
    "start_time": "2022-08-16T13:18:38.218Z"
   },
   {
    "duration": 39,
    "start_time": "2022-08-16T13:18:38.329Z"
   },
   {
    "duration": 149,
    "start_time": "2022-08-16T13:18:38.370Z"
   },
   {
    "duration": 29,
    "start_time": "2022-08-16T13:18:38.521Z"
   },
   {
    "duration": 136,
    "start_time": "2022-08-16T13:18:38.552Z"
   },
   {
    "duration": 33,
    "start_time": "2022-08-16T13:18:38.689Z"
   },
   {
    "duration": 13,
    "start_time": "2022-08-16T13:18:38.724Z"
   },
   {
    "duration": 149,
    "start_time": "2022-08-16T13:18:38.738Z"
   },
   {
    "duration": 216,
    "start_time": "2022-08-16T13:18:38.889Z"
   },
   {
    "duration": 25,
    "start_time": "2022-08-16T13:18:39.107Z"
   },
   {
    "duration": 141,
    "start_time": "2022-08-16T13:18:39.135Z"
   },
   {
    "duration": 31,
    "start_time": "2022-08-16T13:18:39.278Z"
   },
   {
    "duration": 114,
    "start_time": "2022-08-16T13:18:39.311Z"
   },
   {
    "duration": 48,
    "start_time": "2022-08-16T13:18:39.427Z"
   },
   {
    "duration": 5,
    "start_time": "2022-08-16T13:18:39.477Z"
   },
   {
    "duration": 15,
    "start_time": "2022-08-16T13:18:39.484Z"
   },
   {
    "duration": 4,
    "start_time": "2022-08-16T13:18:39.501Z"
   },
   {
    "duration": 13,
    "start_time": "2022-08-16T13:18:39.506Z"
   },
   {
    "duration": 5,
    "start_time": "2022-08-16T13:18:39.521Z"
   },
   {
    "duration": 42,
    "start_time": "2022-08-16T13:18:39.528Z"
   },
   {
    "duration": 17,
    "start_time": "2022-08-16T13:18:39.572Z"
   },
   {
    "duration": 4,
    "start_time": "2022-08-16T13:18:39.590Z"
   },
   {
    "duration": 8,
    "start_time": "2022-08-16T13:18:39.596Z"
   },
   {
    "duration": 5,
    "start_time": "2022-08-16T13:18:39.606Z"
   },
   {
    "duration": 8,
    "start_time": "2022-08-16T13:18:39.613Z"
   },
   {
    "duration": 367,
    "start_time": "2022-08-16T13:18:39.623Z"
   },
   {
    "duration": 4,
    "start_time": "2022-08-16T13:18:39.992Z"
   },
   {
    "duration": 225,
    "start_time": "2022-08-16T13:18:39.998Z"
   },
   {
    "duration": 8,
    "start_time": "2022-08-16T13:18:40.225Z"
   },
   {
    "duration": 216,
    "start_time": "2022-08-16T13:18:40.235Z"
   },
   {
    "duration": 15,
    "start_time": "2022-08-16T13:18:40.453Z"
   },
   {
    "duration": 198,
    "start_time": "2022-08-16T13:18:40.470Z"
   },
   {
    "duration": 7,
    "start_time": "2022-08-16T13:18:40.670Z"
   },
   {
    "duration": 219,
    "start_time": "2022-08-16T13:18:40.679Z"
   },
   {
    "duration": 6,
    "start_time": "2022-08-16T13:18:40.899Z"
   },
   {
    "duration": 244,
    "start_time": "2022-08-16T13:18:40.906Z"
   },
   {
    "duration": 16,
    "start_time": "2022-08-16T13:18:41.152Z"
   },
   {
    "duration": 178,
    "start_time": "2022-08-16T13:18:41.170Z"
   },
   {
    "duration": 19,
    "start_time": "2022-08-16T13:18:41.349Z"
   },
   {
    "duration": 185,
    "start_time": "2022-08-16T13:18:49.918Z"
   },
   {
    "duration": 179,
    "start_time": "2022-08-16T13:19:07.061Z"
   },
   {
    "duration": 6,
    "start_time": "2022-08-16T13:19:53.179Z"
   },
   {
    "duration": 6,
    "start_time": "2022-08-16T13:20:00.163Z"
   },
   {
    "duration": 6,
    "start_time": "2022-08-16T13:20:09.949Z"
   },
   {
    "duration": 184,
    "start_time": "2022-08-16T13:21:07.686Z"
   },
   {
    "duration": 1286,
    "start_time": "2022-08-16T13:22:41.322Z"
   },
   {
    "duration": 163,
    "start_time": "2022-08-16T13:23:29.754Z"
   },
   {
    "duration": 106,
    "start_time": "2022-08-16T13:23:38.882Z"
   },
   {
    "duration": 130,
    "start_time": "2022-08-16T13:23:51.539Z"
   },
   {
    "duration": 110,
    "start_time": "2022-08-16T13:23:59.652Z"
   },
   {
    "duration": 116,
    "start_time": "2022-08-16T13:24:05.133Z"
   },
   {
    "duration": 10,
    "start_time": "2022-08-16T13:25:22.136Z"
   },
   {
    "duration": 6,
    "start_time": "2022-08-16T13:26:31.418Z"
   },
   {
    "duration": 157,
    "start_time": "2022-08-16T13:27:32.161Z"
   },
   {
    "duration": 207,
    "start_time": "2022-08-16T13:27:45.162Z"
   },
   {
    "duration": 6,
    "start_time": "2022-08-16T13:34:32.922Z"
   },
   {
    "duration": 6,
    "start_time": "2022-08-16T13:35:02.028Z"
   },
   {
    "duration": 133,
    "start_time": "2022-08-16T13:37:27.384Z"
   },
   {
    "duration": 334,
    "start_time": "2022-08-16T13:37:31.808Z"
   },
   {
    "duration": 183,
    "start_time": "2022-08-16T13:37:37.873Z"
   },
   {
    "duration": 8,
    "start_time": "2022-08-16T13:38:38.345Z"
   },
   {
    "duration": 161,
    "start_time": "2022-08-16T13:41:08.110Z"
   },
   {
    "duration": 8,
    "start_time": "2022-08-16T13:41:40.928Z"
   },
   {
    "duration": 195,
    "start_time": "2022-08-16T13:44:45.387Z"
   },
   {
    "duration": 7,
    "start_time": "2022-08-16T13:45:15.380Z"
   },
   {
    "duration": 150,
    "start_time": "2022-08-16T13:48:41.448Z"
   },
   {
    "duration": 133,
    "start_time": "2022-08-16T13:48:50.916Z"
   },
   {
    "duration": 142,
    "start_time": "2022-08-16T13:48:58.548Z"
   },
   {
    "duration": 128,
    "start_time": "2022-08-16T13:49:08.718Z"
   },
   {
    "duration": 134,
    "start_time": "2022-08-16T13:49:19.062Z"
   },
   {
    "duration": 241,
    "start_time": "2022-08-16T13:49:51.739Z"
   },
   {
    "duration": 120,
    "start_time": "2022-08-16T13:50:14.038Z"
   },
   {
    "duration": 215,
    "start_time": "2022-08-16T13:50:19.273Z"
   },
   {
    "duration": 6,
    "start_time": "2022-08-16T13:51:09.823Z"
   },
   {
    "duration": 44,
    "start_time": "2022-08-16T13:51:28.968Z"
   },
   {
    "duration": 5,
    "start_time": "2022-08-16T13:54:03.549Z"
   },
   {
    "duration": 168,
    "start_time": "2022-08-16T13:54:15.588Z"
   },
   {
    "duration": 305,
    "start_time": "2022-08-16T13:54:22.590Z"
   },
   {
    "duration": 185,
    "start_time": "2022-08-16T13:54:29.089Z"
   },
   {
    "duration": 192,
    "start_time": "2022-08-16T13:54:33.990Z"
   },
   {
    "duration": 239,
    "start_time": "2022-08-16T13:54:52.612Z"
   },
   {
    "duration": 10,
    "start_time": "2022-08-16T13:55:37.568Z"
   },
   {
    "duration": 279,
    "start_time": "2022-08-16T13:57:48.265Z"
   },
   {
    "duration": 224,
    "start_time": "2022-08-16T13:58:00.155Z"
   },
   {
    "duration": 4,
    "start_time": "2022-08-16T14:18:00.469Z"
   },
   {
    "duration": 6,
    "start_time": "2022-08-16T14:18:10.958Z"
   },
   {
    "duration": 6,
    "start_time": "2022-08-16T14:19:36.812Z"
   },
   {
    "duration": 5,
    "start_time": "2022-08-16T14:20:11.159Z"
   },
   {
    "duration": 197,
    "start_time": "2022-08-16T14:20:45.762Z"
   },
   {
    "duration": 170,
    "start_time": "2022-08-16T14:21:30.922Z"
   },
   {
    "duration": 162,
    "start_time": "2022-08-16T14:21:38.057Z"
   },
   {
    "duration": 171,
    "start_time": "2022-08-16T14:21:49.199Z"
   },
   {
    "duration": 186,
    "start_time": "2022-08-16T14:21:53.510Z"
   },
   {
    "duration": 324,
    "start_time": "2022-08-16T14:21:58.171Z"
   },
   {
    "duration": 177,
    "start_time": "2022-08-16T14:22:05.790Z"
   },
   {
    "duration": 187,
    "start_time": "2022-08-16T14:22:12.574Z"
   },
   {
    "duration": 143,
    "start_time": "2022-08-16T14:22:45.939Z"
   },
   {
    "duration": 138,
    "start_time": "2022-08-16T14:22:52.842Z"
   },
   {
    "duration": 202,
    "start_time": "2022-08-16T14:23:02.965Z"
   },
   {
    "duration": 226,
    "start_time": "2022-08-16T14:23:21.098Z"
   },
   {
    "duration": 261,
    "start_time": "2022-08-16T14:23:36.250Z"
   },
   {
    "duration": 172,
    "start_time": "2022-08-16T14:23:41.033Z"
   },
   {
    "duration": 8,
    "start_time": "2022-08-16T14:24:44.482Z"
   },
   {
    "duration": 126,
    "start_time": "2022-08-16T14:25:09.141Z"
   },
   {
    "duration": 217,
    "start_time": "2022-08-16T14:25:31.159Z"
   },
   {
    "duration": 182,
    "start_time": "2022-08-16T14:53:55.960Z"
   },
   {
    "duration": 131,
    "start_time": "2022-08-16T14:54:28.173Z"
   },
   {
    "duration": 130,
    "start_time": "2022-08-16T14:54:45.814Z"
   },
   {
    "duration": 122,
    "start_time": "2022-08-16T14:55:04.005Z"
   },
   {
    "duration": 182,
    "start_time": "2022-08-16T14:55:54.969Z"
   },
   {
    "duration": 9,
    "start_time": "2022-08-16T15:00:13.963Z"
   },
   {
    "duration": 15,
    "start_time": "2022-08-16T15:00:18.654Z"
   },
   {
    "duration": 19,
    "start_time": "2022-08-16T15:01:01.154Z"
   },
   {
    "duration": 76,
    "start_time": "2022-08-16T15:01:12.915Z"
   },
   {
    "duration": 98,
    "start_time": "2022-08-16T15:01:16.674Z"
   },
   {
    "duration": 18,
    "start_time": "2022-08-16T15:01:20.156Z"
   },
   {
    "duration": 1414,
    "start_time": "2022-08-16T15:01:29.068Z"
   },
   {
    "duration": 85,
    "start_time": "2022-08-16T15:01:32.005Z"
   },
   {
    "duration": 1444,
    "start_time": "2022-08-16T15:01:59.689Z"
   },
   {
    "duration": 19,
    "start_time": "2022-08-16T15:02:24.998Z"
   },
   {
    "duration": 20,
    "start_time": "2022-08-16T15:02:27.831Z"
   },
   {
    "duration": 19,
    "start_time": "2022-08-16T15:02:57.665Z"
   },
   {
    "duration": 138,
    "start_time": "2022-08-16T15:03:25.198Z"
   },
   {
    "duration": 147,
    "start_time": "2022-08-16T15:04:45.063Z"
   },
   {
    "duration": 358,
    "start_time": "2022-08-16T15:04:51.427Z"
   },
   {
    "duration": 148,
    "start_time": "2022-08-16T15:04:57.386Z"
   },
   {
    "duration": 190,
    "start_time": "2022-08-16T15:05:06.497Z"
   },
   {
    "duration": 135,
    "start_time": "2022-08-16T15:05:09.154Z"
   },
   {
    "duration": 142,
    "start_time": "2022-08-16T15:05:15.988Z"
   },
   {
    "duration": 75,
    "start_time": "2022-08-16T15:05:41.336Z"
   },
   {
    "duration": 137,
    "start_time": "2022-08-16T15:05:49.744Z"
   },
   {
    "duration": 140,
    "start_time": "2022-08-16T15:07:02.997Z"
   },
   {
    "duration": 131,
    "start_time": "2022-08-16T15:07:08.813Z"
   },
   {
    "duration": 14,
    "start_time": "2022-08-16T15:09:07.571Z"
   },
   {
    "duration": 6,
    "start_time": "2022-08-16T15:10:12.331Z"
   },
   {
    "duration": 89,
    "start_time": "2022-08-16T15:11:23.061Z"
   },
   {
    "duration": 5,
    "start_time": "2022-08-16T15:11:30.927Z"
   },
   {
    "duration": 5,
    "start_time": "2022-08-16T15:12:00.050Z"
   },
   {
    "duration": 160,
    "start_time": "2022-08-16T15:12:56.945Z"
   },
   {
    "duration": 6,
    "start_time": "2022-08-16T15:13:50.024Z"
   },
   {
    "duration": 151,
    "start_time": "2022-08-16T15:14:28.741Z"
   },
   {
    "duration": 6,
    "start_time": "2022-08-16T15:14:39.832Z"
   },
   {
    "duration": 143,
    "start_time": "2022-08-16T15:15:57.674Z"
   },
   {
    "duration": 5,
    "start_time": "2022-08-16T15:16:20.222Z"
   },
   {
    "duration": 5,
    "start_time": "2022-08-16T15:16:47.977Z"
   },
   {
    "duration": 5,
    "start_time": "2022-08-16T15:16:59.587Z"
   },
   {
    "duration": 128,
    "start_time": "2022-08-16T15:18:09.215Z"
   },
   {
    "duration": 387,
    "start_time": "2022-08-16T15:18:40.368Z"
   },
   {
    "duration": 6,
    "start_time": "2022-08-16T15:19:14.829Z"
   },
   {
    "duration": 5,
    "start_time": "2022-08-16T15:19:57.514Z"
   },
   {
    "duration": 146,
    "start_time": "2022-08-16T15:20:00.227Z"
   },
   {
    "duration": 769,
    "start_time": "2022-08-16T15:20:03.006Z"
   },
   {
    "duration": 4,
    "start_time": "2022-08-16T15:20:37.664Z"
   },
   {
    "duration": 168,
    "start_time": "2022-08-16T15:21:03.060Z"
   },
   {
    "duration": 135,
    "start_time": "2022-08-16T15:21:19.125Z"
   },
   {
    "duration": 128,
    "start_time": "2022-08-16T15:21:27.306Z"
   },
   {
    "duration": 142,
    "start_time": "2022-08-16T15:21:29.471Z"
   },
   {
    "duration": 5,
    "start_time": "2022-08-16T15:21:33.333Z"
   },
   {
    "duration": 4,
    "start_time": "2022-08-16T15:21:49.108Z"
   },
   {
    "duration": 107,
    "start_time": "2022-08-16T15:30:36.016Z"
   },
   {
    "duration": 152,
    "start_time": "2022-08-16T15:30:40.944Z"
   },
   {
    "duration": 77,
    "start_time": "2022-08-16T15:30:49.442Z"
   },
   {
    "duration": 26,
    "start_time": "2022-08-16T15:31:02.667Z"
   },
   {
    "duration": 189,
    "start_time": "2022-08-16T15:31:11.005Z"
   },
   {
    "duration": 181,
    "start_time": "2022-08-16T15:31:25.454Z"
   },
   {
    "duration": 181,
    "start_time": "2022-08-16T15:32:20.662Z"
   },
   {
    "duration": 171,
    "start_time": "2022-08-16T15:32:29.024Z"
   },
   {
    "duration": 6,
    "start_time": "2022-08-16T15:32:41.232Z"
   },
   {
    "duration": 5,
    "start_time": "2022-08-16T15:33:25.159Z"
   },
   {
    "duration": 186,
    "start_time": "2022-08-16T15:33:37.769Z"
   },
   {
    "duration": 7,
    "start_time": "2022-08-16T15:33:50.538Z"
   },
   {
    "duration": 6,
    "start_time": "2022-08-16T15:34:09.131Z"
   },
   {
    "duration": 184,
    "start_time": "2022-08-16T15:34:27.847Z"
   },
   {
    "duration": 6,
    "start_time": "2022-08-16T15:34:49.113Z"
   },
   {
    "duration": 6,
    "start_time": "2022-08-16T15:35:00.981Z"
   },
   {
    "duration": 9,
    "start_time": "2022-08-16T15:42:48.587Z"
   },
   {
    "duration": 10,
    "start_time": "2022-08-16T15:44:21.046Z"
   },
   {
    "duration": 12,
    "start_time": "2022-08-16T15:48:20.647Z"
   },
   {
    "duration": 11,
    "start_time": "2022-08-16T15:48:27.962Z"
   },
   {
    "duration": 9,
    "start_time": "2022-08-16T15:49:31.254Z"
   },
   {
    "duration": 6,
    "start_time": "2022-08-16T15:50:03.374Z"
   },
   {
    "duration": 31,
    "start_time": "2022-08-16T15:51:40.351Z"
   },
   {
    "duration": 34,
    "start_time": "2022-08-16T15:51:44.529Z"
   },
   {
    "duration": 39,
    "start_time": "2022-08-16T15:51:55.026Z"
   },
   {
    "duration": 42,
    "start_time": "2022-08-16T15:51:59.274Z"
   },
   {
    "duration": 34,
    "start_time": "2022-08-16T15:52:06.750Z"
   },
   {
    "duration": 7,
    "start_time": "2022-08-16T15:54:10.244Z"
   },
   {
    "duration": 7,
    "start_time": "2022-08-16T15:54:22.772Z"
   },
   {
    "duration": 12,
    "start_time": "2022-08-16T15:55:09.700Z"
   },
   {
    "duration": 8,
    "start_time": "2022-08-16T15:55:27.582Z"
   },
   {
    "duration": 11,
    "start_time": "2022-08-16T15:56:08.124Z"
   },
   {
    "duration": 8,
    "start_time": "2022-08-16T15:56:32.389Z"
   },
   {
    "duration": 12,
    "start_time": "2022-08-16T15:56:40.775Z"
   },
   {
    "duration": 9,
    "start_time": "2022-08-16T15:56:48.096Z"
   },
   {
    "duration": 15,
    "start_time": "2022-08-16T15:58:02.833Z"
   },
   {
    "duration": 6,
    "start_time": "2022-08-16T15:58:23.605Z"
   },
   {
    "duration": 8,
    "start_time": "2022-08-16T15:58:44.247Z"
   },
   {
    "duration": 13,
    "start_time": "2022-08-16T15:59:03.571Z"
   },
   {
    "duration": 9,
    "start_time": "2022-08-16T15:59:32.773Z"
   },
   {
    "duration": 13,
    "start_time": "2022-08-16T15:59:41.990Z"
   },
   {
    "duration": 7,
    "start_time": "2022-08-16T15:59:52.665Z"
   },
   {
    "duration": 8,
    "start_time": "2022-08-16T15:59:57.081Z"
   },
   {
    "duration": 7,
    "start_time": "2022-08-16T16:00:05.594Z"
   },
   {
    "duration": 9,
    "start_time": "2022-08-16T16:00:09.034Z"
   },
   {
    "duration": 36,
    "start_time": "2022-08-16T16:00:28.878Z"
   },
   {
    "duration": 32,
    "start_time": "2022-08-16T16:01:18.371Z"
   },
   {
    "duration": 34,
    "start_time": "2022-08-16T16:03:11.355Z"
   },
   {
    "duration": 32,
    "start_time": "2022-08-16T16:03:23.676Z"
   },
   {
    "duration": 32,
    "start_time": "2022-08-16T16:08:10.194Z"
   },
   {
    "duration": 4,
    "start_time": "2022-08-16T16:08:18.821Z"
   },
   {
    "duration": 30,
    "start_time": "2022-08-16T16:10:32.853Z"
   },
   {
    "duration": 9,
    "start_time": "2022-08-16T16:10:35.965Z"
   },
   {
    "duration": 29,
    "start_time": "2022-08-16T16:10:59.592Z"
   },
   {
    "duration": 8,
    "start_time": "2022-08-16T16:11:01.617Z"
   },
   {
    "duration": 10,
    "start_time": "2022-08-16T16:12:26.444Z"
   },
   {
    "duration": 7,
    "start_time": "2022-08-16T16:13:19.227Z"
   },
   {
    "duration": 41,
    "start_time": "2022-08-16T16:28:44.431Z"
   },
   {
    "duration": 9,
    "start_time": "2022-08-16T16:31:25.317Z"
   },
   {
    "duration": 44,
    "start_time": "2022-08-16T16:31:32.356Z"
   },
   {
    "duration": 22,
    "start_time": "2022-08-16T16:32:06.628Z"
   },
   {
    "duration": 10,
    "start_time": "2022-08-16T16:32:43.031Z"
   },
   {
    "duration": 18,
    "start_time": "2022-08-16T16:34:12.717Z"
   },
   {
    "duration": 6,
    "start_time": "2022-08-16T16:34:18.060Z"
   },
   {
    "duration": 13,
    "start_time": "2022-08-16T16:34:38.724Z"
   },
   {
    "duration": 13,
    "start_time": "2022-08-16T16:34:57.897Z"
   },
   {
    "duration": 17,
    "start_time": "2022-08-16T16:35:09.868Z"
   },
   {
    "duration": 27,
    "start_time": "2022-08-16T16:35:28.565Z"
   },
   {
    "duration": 16,
    "start_time": "2022-08-16T16:35:34.679Z"
   },
   {
    "duration": 11,
    "start_time": "2022-08-16T16:35:38.965Z"
   },
   {
    "duration": 12,
    "start_time": "2022-08-16T16:35:41.309Z"
   },
   {
    "duration": 2,
    "start_time": "2022-08-16T16:35:46.863Z"
   },
   {
    "duration": 109,
    "start_time": "2022-08-16T16:35:46.867Z"
   },
   {
    "duration": 51,
    "start_time": "2022-08-16T16:35:46.978Z"
   },
   {
    "duration": 2282,
    "start_time": "2022-08-16T16:35:47.031Z"
   },
   {
    "duration": 16,
    "start_time": "2022-08-16T16:35:49.315Z"
   },
   {
    "duration": 9,
    "start_time": "2022-08-16T16:35:49.333Z"
   },
   {
    "duration": 9,
    "start_time": "2022-08-16T16:35:49.368Z"
   },
   {
    "duration": 7,
    "start_time": "2022-08-16T16:35:49.379Z"
   },
   {
    "duration": 8,
    "start_time": "2022-08-16T16:35:49.388Z"
   },
   {
    "duration": 8,
    "start_time": "2022-08-16T16:35:49.398Z"
   },
   {
    "duration": 10,
    "start_time": "2022-08-16T16:35:49.409Z"
   },
   {
    "duration": 11,
    "start_time": "2022-08-16T16:35:49.421Z"
   },
   {
    "duration": 85,
    "start_time": "2022-08-16T16:35:49.435Z"
   },
   {
    "duration": 8,
    "start_time": "2022-08-16T16:35:49.522Z"
   },
   {
    "duration": 162,
    "start_time": "2022-08-16T16:35:49.531Z"
   },
   {
    "duration": 12,
    "start_time": "2022-08-16T16:35:49.695Z"
   },
   {
    "duration": 138,
    "start_time": "2022-08-16T16:35:49.709Z"
   },
   {
    "duration": 121,
    "start_time": "2022-08-16T16:35:49.849Z"
   },
   {
    "duration": 25,
    "start_time": "2022-08-16T16:35:49.972Z"
   },
   {
    "duration": 168,
    "start_time": "2022-08-16T16:35:50.000Z"
   },
   {
    "duration": 27,
    "start_time": "2022-08-16T16:35:50.169Z"
   },
   {
    "duration": 138,
    "start_time": "2022-08-16T16:35:50.198Z"
   },
   {
    "duration": 39,
    "start_time": "2022-08-16T16:35:50.337Z"
   },
   {
    "duration": 6,
    "start_time": "2022-08-16T16:35:50.377Z"
   },
   {
    "duration": 149,
    "start_time": "2022-08-16T16:35:50.384Z"
   },
   {
    "duration": 137,
    "start_time": "2022-08-16T16:35:50.536Z"
   },
   {
    "duration": 29,
    "start_time": "2022-08-16T16:35:50.675Z"
   },
   {
    "duration": 140,
    "start_time": "2022-08-16T16:35:50.706Z"
   },
   {
    "duration": 40,
    "start_time": "2022-08-16T16:35:50.850Z"
   },
   {
    "duration": 122,
    "start_time": "2022-08-16T16:35:50.892Z"
   },
   {
    "duration": 53,
    "start_time": "2022-08-16T16:35:51.016Z"
   },
   {
    "duration": 7,
    "start_time": "2022-08-16T16:35:51.072Z"
   },
   {
    "duration": 18,
    "start_time": "2022-08-16T16:35:51.081Z"
   },
   {
    "duration": 4,
    "start_time": "2022-08-16T16:35:51.101Z"
   },
   {
    "duration": 11,
    "start_time": "2022-08-16T16:35:51.106Z"
   },
   {
    "duration": 49,
    "start_time": "2022-08-16T16:35:51.119Z"
   },
   {
    "duration": 5,
    "start_time": "2022-08-16T16:35:51.170Z"
   },
   {
    "duration": 26,
    "start_time": "2022-08-16T16:35:51.176Z"
   },
   {
    "duration": 4,
    "start_time": "2022-08-16T16:35:51.205Z"
   },
   {
    "duration": 8,
    "start_time": "2022-08-16T16:35:51.211Z"
   },
   {
    "duration": 7,
    "start_time": "2022-08-16T16:35:51.221Z"
   },
   {
    "duration": 40,
    "start_time": "2022-08-16T16:35:51.229Z"
   },
   {
    "duration": 359,
    "start_time": "2022-08-16T16:35:51.271Z"
   },
   {
    "duration": 5,
    "start_time": "2022-08-16T16:35:51.632Z"
   },
   {
    "duration": 217,
    "start_time": "2022-08-16T16:35:51.640Z"
   },
   {
    "duration": 12,
    "start_time": "2022-08-16T16:35:51.859Z"
   },
   {
    "duration": 205,
    "start_time": "2022-08-16T16:35:51.873Z"
   },
   {
    "duration": 6,
    "start_time": "2022-08-16T16:35:52.080Z"
   },
   {
    "duration": 221,
    "start_time": "2022-08-16T16:35:52.089Z"
   },
   {
    "duration": 6,
    "start_time": "2022-08-16T16:35:52.312Z"
   },
   {
    "duration": 236,
    "start_time": "2022-08-16T16:35:52.320Z"
   },
   {
    "duration": 14,
    "start_time": "2022-08-16T16:35:52.558Z"
   },
   {
    "duration": 151,
    "start_time": "2022-08-16T16:35:52.574Z"
   },
   {
    "duration": 5,
    "start_time": "2022-08-16T16:35:52.727Z"
   },
   {
    "duration": 170,
    "start_time": "2022-08-16T16:35:52.734Z"
   },
   {
    "duration": 6,
    "start_time": "2022-08-16T16:35:52.905Z"
   },
   {
    "duration": 204,
    "start_time": "2022-08-16T16:35:52.913Z"
   },
   {
    "duration": 5,
    "start_time": "2022-08-16T16:35:53.119Z"
   },
   {
    "duration": 146,
    "start_time": "2022-08-16T16:35:53.126Z"
   },
   {
    "duration": 7,
    "start_time": "2022-08-16T16:35:53.273Z"
   },
   {
    "duration": 189,
    "start_time": "2022-08-16T16:35:53.282Z"
   },
   {
    "duration": 6,
    "start_time": "2022-08-16T16:35:53.473Z"
   },
   {
    "duration": 274,
    "start_time": "2022-08-16T16:35:53.481Z"
   },
   {
    "duration": 15,
    "start_time": "2022-08-16T16:35:53.757Z"
   },
   {
    "duration": 196,
    "start_time": "2022-08-16T16:35:53.774Z"
   },
   {
    "duration": 7,
    "start_time": "2022-08-16T16:35:53.971Z"
   },
   {
    "duration": 125,
    "start_time": "2022-08-16T16:35:53.980Z"
   },
   {
    "duration": 0,
    "start_time": "2022-08-16T16:35:54.107Z"
   },
   {
    "duration": 0,
    "start_time": "2022-08-16T16:35:54.109Z"
   },
   {
    "duration": 0,
    "start_time": "2022-08-16T16:35:54.110Z"
   },
   {
    "duration": 0,
    "start_time": "2022-08-16T16:35:54.111Z"
   },
   {
    "duration": 0,
    "start_time": "2022-08-16T16:35:54.113Z"
   },
   {
    "duration": 0,
    "start_time": "2022-08-16T16:35:54.114Z"
   },
   {
    "duration": 0,
    "start_time": "2022-08-16T16:35:54.115Z"
   },
   {
    "duration": 0,
    "start_time": "2022-08-16T16:35:54.116Z"
   },
   {
    "duration": 0,
    "start_time": "2022-08-16T16:35:54.117Z"
   },
   {
    "duration": 0,
    "start_time": "2022-08-16T16:35:54.118Z"
   },
   {
    "duration": 0,
    "start_time": "2022-08-16T16:35:54.119Z"
   },
   {
    "duration": 0,
    "start_time": "2022-08-16T16:35:54.121Z"
   },
   {
    "duration": 0,
    "start_time": "2022-08-16T16:35:54.122Z"
   },
   {
    "duration": 0,
    "start_time": "2022-08-16T16:35:54.123Z"
   },
   {
    "duration": 0,
    "start_time": "2022-08-16T16:35:54.124Z"
   },
   {
    "duration": 0,
    "start_time": "2022-08-16T16:35:54.125Z"
   },
   {
    "duration": 0,
    "start_time": "2022-08-16T16:35:54.126Z"
   },
   {
    "duration": 0,
    "start_time": "2022-08-16T16:35:54.127Z"
   },
   {
    "duration": 0,
    "start_time": "2022-08-16T16:35:54.128Z"
   },
   {
    "duration": 0,
    "start_time": "2022-08-16T16:35:54.129Z"
   },
   {
    "duration": 0,
    "start_time": "2022-08-16T16:35:54.130Z"
   },
   {
    "duration": 0,
    "start_time": "2022-08-16T16:35:54.131Z"
   },
   {
    "duration": 0,
    "start_time": "2022-08-16T16:35:54.132Z"
   },
   {
    "duration": 0,
    "start_time": "2022-08-16T16:35:54.133Z"
   },
   {
    "duration": 0,
    "start_time": "2022-08-16T16:35:54.135Z"
   },
   {
    "duration": 0,
    "start_time": "2022-08-16T16:35:54.136Z"
   },
   {
    "duration": 0,
    "start_time": "2022-08-16T16:35:54.137Z"
   },
   {
    "duration": 0,
    "start_time": "2022-08-16T16:35:54.137Z"
   },
   {
    "duration": 0,
    "start_time": "2022-08-16T16:35:54.139Z"
   },
   {
    "duration": 0,
    "start_time": "2022-08-16T16:35:54.140Z"
   },
   {
    "duration": 13,
    "start_time": "2022-08-16T16:36:09.402Z"
   },
   {
    "duration": 16,
    "start_time": "2022-08-16T16:36:13.530Z"
   },
   {
    "duration": 9,
    "start_time": "2022-08-16T16:36:17.540Z"
   },
   {
    "duration": 10,
    "start_time": "2022-08-16T16:36:19.196Z"
   },
   {
    "duration": 104,
    "start_time": "2022-08-16T17:03:26.734Z"
   },
   {
    "duration": 7,
    "start_time": "2022-08-16T17:03:29.086Z"
   },
   {
    "duration": 7,
    "start_time": "2022-08-16T17:07:21.678Z"
   },
   {
    "duration": 6,
    "start_time": "2022-08-16T17:07:58.507Z"
   },
   {
    "duration": 12,
    "start_time": "2022-08-16T17:08:06.668Z"
   },
   {
    "duration": 6,
    "start_time": "2022-08-16T17:09:41.214Z"
   },
   {
    "duration": 7,
    "start_time": "2022-08-16T17:09:52.818Z"
   },
   {
    "duration": 6,
    "start_time": "2022-08-16T17:10:28.036Z"
   },
   {
    "duration": 14,
    "start_time": "2022-08-16T17:11:23.054Z"
   },
   {
    "duration": 11,
    "start_time": "2022-08-16T17:11:42.977Z"
   },
   {
    "duration": 12,
    "start_time": "2022-08-16T17:12:46.978Z"
   },
   {
    "duration": 10,
    "start_time": "2022-08-16T17:12:57.331Z"
   },
   {
    "duration": 9,
    "start_time": "2022-08-16T17:14:21.237Z"
   },
   {
    "duration": 10,
    "start_time": "2022-08-16T17:14:33.320Z"
   },
   {
    "duration": 12,
    "start_time": "2022-08-16T17:16:29.001Z"
   },
   {
    "duration": 10,
    "start_time": "2022-08-16T17:16:34.143Z"
   },
   {
    "duration": 10,
    "start_time": "2022-08-16T17:16:40.211Z"
   },
   {
    "duration": 10,
    "start_time": "2022-08-16T17:16:48.130Z"
   },
   {
    "duration": 21,
    "start_time": "2022-08-16T17:17:15.717Z"
   },
   {
    "duration": 27,
    "start_time": "2022-08-16T17:17:24.502Z"
   },
   {
    "duration": 7,
    "start_time": "2022-08-16T17:17:56.810Z"
   },
   {
    "duration": 4,
    "start_time": "2022-08-16T17:18:00.707Z"
   },
   {
    "duration": 7,
    "start_time": "2022-08-16T17:18:08.981Z"
   },
   {
    "duration": 19,
    "start_time": "2022-08-16T17:20:15.109Z"
   },
   {
    "duration": 741,
    "start_time": "2022-08-16T17:20:50.091Z"
   },
   {
    "duration": 101,
    "start_time": "2022-08-16T17:20:50.835Z"
   },
   {
    "duration": 66,
    "start_time": "2022-08-16T17:20:50.938Z"
   },
   {
    "duration": 2214,
    "start_time": "2022-08-16T17:20:51.007Z"
   },
   {
    "duration": 17,
    "start_time": "2022-08-16T17:20:53.223Z"
   },
   {
    "duration": 10,
    "start_time": "2022-08-16T17:20:53.242Z"
   },
   {
    "duration": 15,
    "start_time": "2022-08-16T17:20:53.254Z"
   },
   {
    "duration": 6,
    "start_time": "2022-08-16T17:20:53.271Z"
   },
   {
    "duration": 6,
    "start_time": "2022-08-16T17:20:53.279Z"
   },
   {
    "duration": 8,
    "start_time": "2022-08-16T17:20:53.288Z"
   },
   {
    "duration": 6,
    "start_time": "2022-08-16T17:20:53.298Z"
   },
   {
    "duration": 11,
    "start_time": "2022-08-16T17:20:53.305Z"
   },
   {
    "duration": 56,
    "start_time": "2022-08-16T17:20:53.367Z"
   },
   {
    "duration": 8,
    "start_time": "2022-08-16T17:20:53.426Z"
   },
   {
    "duration": 171,
    "start_time": "2022-08-16T17:20:53.436Z"
   },
   {
    "duration": 14,
    "start_time": "2022-08-16T17:20:53.609Z"
   },
   {
    "duration": 160,
    "start_time": "2022-08-16T17:20:53.625Z"
   },
   {
    "duration": 149,
    "start_time": "2022-08-16T17:20:53.787Z"
   },
   {
    "duration": 46,
    "start_time": "2022-08-16T17:20:53.938Z"
   },
   {
    "duration": 164,
    "start_time": "2022-08-16T17:20:53.986Z"
   },
   {
    "duration": 38,
    "start_time": "2022-08-16T17:20:54.152Z"
   },
   {
    "duration": 144,
    "start_time": "2022-08-16T17:20:54.192Z"
   },
   {
    "duration": 48,
    "start_time": "2022-08-16T17:20:54.338Z"
   },
   {
    "duration": 6,
    "start_time": "2022-08-16T17:20:54.388Z"
   },
   {
    "duration": 154,
    "start_time": "2022-08-16T17:20:54.396Z"
   },
   {
    "duration": 246,
    "start_time": "2022-08-16T17:20:54.551Z"
   },
   {
    "duration": 28,
    "start_time": "2022-08-16T17:20:54.799Z"
   },
   {
    "duration": 153,
    "start_time": "2022-08-16T17:20:54.831Z"
   },
   {
    "duration": 35,
    "start_time": "2022-08-16T17:20:54.986Z"
   },
   {
    "duration": 146,
    "start_time": "2022-08-16T17:20:55.023Z"
   },
   {
    "duration": 43,
    "start_time": "2022-08-16T17:20:55.171Z"
   },
   {
    "duration": 6,
    "start_time": "2022-08-16T17:20:55.215Z"
   },
   {
    "duration": 48,
    "start_time": "2022-08-16T17:20:55.223Z"
   },
   {
    "duration": 4,
    "start_time": "2022-08-16T17:20:55.273Z"
   },
   {
    "duration": 11,
    "start_time": "2022-08-16T17:20:55.279Z"
   },
   {
    "duration": 6,
    "start_time": "2022-08-16T17:20:55.292Z"
   },
   {
    "duration": 5,
    "start_time": "2022-08-16T17:20:55.299Z"
   },
   {
    "duration": 16,
    "start_time": "2022-08-16T17:20:55.306Z"
   },
   {
    "duration": 46,
    "start_time": "2022-08-16T17:20:55.324Z"
   },
   {
    "duration": 9,
    "start_time": "2022-08-16T17:20:55.372Z"
   },
   {
    "duration": 6,
    "start_time": "2022-08-16T17:20:55.383Z"
   },
   {
    "duration": 7,
    "start_time": "2022-08-16T17:20:55.391Z"
   },
   {
    "duration": 430,
    "start_time": "2022-08-16T17:20:55.400Z"
   },
   {
    "duration": 6,
    "start_time": "2022-08-16T17:20:55.832Z"
   },
   {
    "duration": 225,
    "start_time": "2022-08-16T17:20:55.840Z"
   },
   {
    "duration": 6,
    "start_time": "2022-08-16T17:20:56.068Z"
   },
   {
    "duration": 246,
    "start_time": "2022-08-16T17:20:56.076Z"
   },
   {
    "duration": 8,
    "start_time": "2022-08-16T17:20:56.324Z"
   },
   {
    "duration": 310,
    "start_time": "2022-08-16T17:20:56.335Z"
   },
   {
    "duration": 9,
    "start_time": "2022-08-16T17:20:56.647Z"
   },
   {
    "duration": 321,
    "start_time": "2022-08-16T17:20:56.669Z"
   },
   {
    "duration": 8,
    "start_time": "2022-08-16T17:20:56.992Z"
   },
   {
    "duration": 287,
    "start_time": "2022-08-16T17:20:57.002Z"
   },
   {
    "duration": 6,
    "start_time": "2022-08-16T17:20:57.291Z"
   },
   {
    "duration": 199,
    "start_time": "2022-08-16T17:20:57.299Z"
   },
   {
    "duration": 9,
    "start_time": "2022-08-16T17:20:57.500Z"
   },
   {
    "duration": 239,
    "start_time": "2022-08-16T17:20:57.511Z"
   },
   {
    "duration": 19,
    "start_time": "2022-08-16T17:20:57.752Z"
   },
   {
    "duration": 178,
    "start_time": "2022-08-16T17:20:57.773Z"
   },
   {
    "duration": 15,
    "start_time": "2022-08-16T17:20:57.954Z"
   },
   {
    "duration": 215,
    "start_time": "2022-08-16T17:20:57.972Z"
   },
   {
    "duration": 8,
    "start_time": "2022-08-16T17:20:58.189Z"
   },
   {
    "duration": 299,
    "start_time": "2022-08-16T17:20:58.200Z"
   },
   {
    "duration": 9,
    "start_time": "2022-08-16T17:20:58.500Z"
   },
   {
    "duration": 225,
    "start_time": "2022-08-16T17:20:58.511Z"
   },
   {
    "duration": 9,
    "start_time": "2022-08-16T17:20:58.738Z"
   },
   {
    "duration": 75,
    "start_time": "2022-08-16T17:20:58.769Z"
   },
   {
    "duration": 0,
    "start_time": "2022-08-16T17:20:58.846Z"
   },
   {
    "duration": 0,
    "start_time": "2022-08-16T17:20:58.847Z"
   },
   {
    "duration": 0,
    "start_time": "2022-08-16T17:20:58.849Z"
   },
   {
    "duration": 0,
    "start_time": "2022-08-16T17:20:58.850Z"
   },
   {
    "duration": 0,
    "start_time": "2022-08-16T17:20:58.851Z"
   },
   {
    "duration": 0,
    "start_time": "2022-08-16T17:20:58.852Z"
   },
   {
    "duration": 0,
    "start_time": "2022-08-16T17:20:58.854Z"
   },
   {
    "duration": 0,
    "start_time": "2022-08-16T17:20:58.855Z"
   },
   {
    "duration": 0,
    "start_time": "2022-08-16T17:20:58.856Z"
   },
   {
    "duration": 0,
    "start_time": "2022-08-16T17:20:58.857Z"
   },
   {
    "duration": 0,
    "start_time": "2022-08-16T17:20:58.858Z"
   },
   {
    "duration": 0,
    "start_time": "2022-08-16T17:20:58.859Z"
   },
   {
    "duration": 0,
    "start_time": "2022-08-16T17:20:58.860Z"
   },
   {
    "duration": 0,
    "start_time": "2022-08-16T17:20:58.862Z"
   },
   {
    "duration": 0,
    "start_time": "2022-08-16T17:20:58.863Z"
   },
   {
    "duration": 0,
    "start_time": "2022-08-16T17:20:58.864Z"
   },
   {
    "duration": 0,
    "start_time": "2022-08-16T17:20:58.865Z"
   },
   {
    "duration": 0,
    "start_time": "2022-08-16T17:20:58.866Z"
   },
   {
    "duration": 0,
    "start_time": "2022-08-16T17:20:58.867Z"
   },
   {
    "duration": 0,
    "start_time": "2022-08-16T17:20:58.869Z"
   },
   {
    "duration": 0,
    "start_time": "2022-08-16T17:20:58.870Z"
   },
   {
    "duration": 0,
    "start_time": "2022-08-16T17:20:58.871Z"
   },
   {
    "duration": 0,
    "start_time": "2022-08-16T17:20:58.872Z"
   },
   {
    "duration": 0,
    "start_time": "2022-08-16T17:20:58.873Z"
   },
   {
    "duration": 0,
    "start_time": "2022-08-16T17:20:58.874Z"
   },
   {
    "duration": 0,
    "start_time": "2022-08-16T17:20:58.875Z"
   },
   {
    "duration": 0,
    "start_time": "2022-08-16T17:20:58.876Z"
   },
   {
    "duration": 0,
    "start_time": "2022-08-16T17:20:58.877Z"
   },
   {
    "duration": 0,
    "start_time": "2022-08-16T17:20:58.878Z"
   },
   {
    "duration": 0,
    "start_time": "2022-08-16T17:20:58.880Z"
   },
   {
    "duration": 0,
    "start_time": "2022-08-16T17:20:58.881Z"
   },
   {
    "duration": 0,
    "start_time": "2022-08-16T17:20:58.882Z"
   },
   {
    "duration": 0,
    "start_time": "2022-08-16T17:20:58.883Z"
   },
   {
    "duration": 2,
    "start_time": "2022-08-16T17:21:27.954Z"
   },
   {
    "duration": 111,
    "start_time": "2022-08-16T17:21:27.959Z"
   },
   {
    "duration": 53,
    "start_time": "2022-08-16T17:21:28.072Z"
   },
   {
    "duration": 2312,
    "start_time": "2022-08-16T17:21:28.128Z"
   },
   {
    "duration": 30,
    "start_time": "2022-08-16T17:21:30.442Z"
   },
   {
    "duration": 18,
    "start_time": "2022-08-16T17:21:30.473Z"
   },
   {
    "duration": 15,
    "start_time": "2022-08-16T17:21:30.493Z"
   },
   {
    "duration": 9,
    "start_time": "2022-08-16T17:21:30.510Z"
   },
   {
    "duration": 7,
    "start_time": "2022-08-16T17:21:30.522Z"
   },
   {
    "duration": 12,
    "start_time": "2022-08-16T17:21:30.532Z"
   },
   {
    "duration": 29,
    "start_time": "2022-08-16T17:21:30.547Z"
   },
   {
    "duration": 15,
    "start_time": "2022-08-16T17:21:30.578Z"
   },
   {
    "duration": 81,
    "start_time": "2022-08-16T17:21:30.595Z"
   },
   {
    "duration": 8,
    "start_time": "2022-08-16T17:21:30.678Z"
   },
   {
    "duration": 179,
    "start_time": "2022-08-16T17:21:30.689Z"
   },
   {
    "duration": 15,
    "start_time": "2022-08-16T17:21:30.870Z"
   },
   {
    "duration": 190,
    "start_time": "2022-08-16T17:21:30.889Z"
   },
   {
    "duration": 149,
    "start_time": "2022-08-16T17:21:31.082Z"
   },
   {
    "duration": 32,
    "start_time": "2022-08-16T17:21:31.237Z"
   },
   {
    "duration": 155,
    "start_time": "2022-08-16T17:21:31.271Z"
   },
   {
    "duration": 41,
    "start_time": "2022-08-16T17:21:31.428Z"
   },
   {
    "duration": 171,
    "start_time": "2022-08-16T17:21:31.471Z"
   },
   {
    "duration": 45,
    "start_time": "2022-08-16T17:21:31.644Z"
   },
   {
    "duration": 7,
    "start_time": "2022-08-16T17:21:31.691Z"
   },
   {
    "duration": 168,
    "start_time": "2022-08-16T17:21:31.700Z"
   },
   {
    "duration": 144,
    "start_time": "2022-08-16T17:21:31.869Z"
   },
   {
    "duration": 33,
    "start_time": "2022-08-16T17:21:32.016Z"
   },
   {
    "duration": 152,
    "start_time": "2022-08-16T17:21:32.051Z"
   },
   {
    "duration": 181,
    "start_time": "2022-08-16T17:21:32.207Z"
   },
   {
    "duration": 126,
    "start_time": "2022-08-16T17:21:32.389Z"
   },
   {
    "duration": 52,
    "start_time": "2022-08-16T17:21:32.517Z"
   },
   {
    "duration": 6,
    "start_time": "2022-08-16T17:21:32.571Z"
   },
   {
    "duration": 23,
    "start_time": "2022-08-16T17:21:32.579Z"
   },
   {
    "duration": 4,
    "start_time": "2022-08-16T17:21:32.604Z"
   },
   {
    "duration": 18,
    "start_time": "2022-08-16T17:21:32.610Z"
   },
   {
    "duration": 38,
    "start_time": "2022-08-16T17:21:32.629Z"
   },
   {
    "duration": 5,
    "start_time": "2022-08-16T17:21:32.669Z"
   },
   {
    "duration": 21,
    "start_time": "2022-08-16T17:21:32.676Z"
   },
   {
    "duration": 5,
    "start_time": "2022-08-16T17:21:32.699Z"
   },
   {
    "duration": 13,
    "start_time": "2022-08-16T17:21:32.705Z"
   },
   {
    "duration": 12,
    "start_time": "2022-08-16T17:21:32.720Z"
   },
   {
    "duration": 35,
    "start_time": "2022-08-16T17:21:32.734Z"
   },
   {
    "duration": 363,
    "start_time": "2022-08-16T17:21:32.772Z"
   },
   {
    "duration": 5,
    "start_time": "2022-08-16T17:21:33.137Z"
   },
   {
    "duration": 213,
    "start_time": "2022-08-16T17:21:33.143Z"
   },
   {
    "duration": 13,
    "start_time": "2022-08-16T17:21:33.358Z"
   },
   {
    "duration": 232,
    "start_time": "2022-08-16T17:21:33.373Z"
   },
   {
    "duration": 7,
    "start_time": "2022-08-16T17:21:33.607Z"
   },
   {
    "duration": 229,
    "start_time": "2022-08-16T17:21:33.615Z"
   },
   {
    "duration": 23,
    "start_time": "2022-08-16T17:21:33.846Z"
   },
   {
    "duration": 229,
    "start_time": "2022-08-16T17:21:33.871Z"
   },
   {
    "duration": 7,
    "start_time": "2022-08-16T17:21:34.102Z"
   },
   {
    "duration": 197,
    "start_time": "2022-08-16T17:21:34.111Z"
   },
   {
    "duration": 7,
    "start_time": "2022-08-16T17:21:34.311Z"
   },
   {
    "duration": 201,
    "start_time": "2022-08-16T17:21:34.320Z"
   },
   {
    "duration": 7,
    "start_time": "2022-08-16T17:21:34.523Z"
   },
   {
    "duration": 216,
    "start_time": "2022-08-16T17:21:34.532Z"
   },
   {
    "duration": 17,
    "start_time": "2022-08-16T17:21:34.750Z"
   },
   {
    "duration": 154,
    "start_time": "2022-08-16T17:21:34.770Z"
   },
   {
    "duration": 8,
    "start_time": "2022-08-16T17:21:34.926Z"
   },
   {
    "duration": 204,
    "start_time": "2022-08-16T17:21:34.936Z"
   },
   {
    "duration": 8,
    "start_time": "2022-08-16T17:21:35.142Z"
   },
   {
    "duration": 273,
    "start_time": "2022-08-16T17:21:35.168Z"
   },
   {
    "duration": 8,
    "start_time": "2022-08-16T17:21:35.444Z"
   },
   {
    "duration": 369,
    "start_time": "2022-08-16T17:21:35.470Z"
   },
   {
    "duration": 9,
    "start_time": "2022-08-16T17:21:35.842Z"
   },
   {
    "duration": 148,
    "start_time": "2022-08-16T17:21:35.867Z"
   },
   {
    "duration": 0,
    "start_time": "2022-08-16T17:21:36.018Z"
   },
   {
    "duration": 0,
    "start_time": "2022-08-16T17:21:36.019Z"
   },
   {
    "duration": 0,
    "start_time": "2022-08-16T17:21:36.021Z"
   },
   {
    "duration": 0,
    "start_time": "2022-08-16T17:21:36.023Z"
   },
   {
    "duration": 0,
    "start_time": "2022-08-16T17:21:36.024Z"
   },
   {
    "duration": 0,
    "start_time": "2022-08-16T17:21:36.026Z"
   },
   {
    "duration": 0,
    "start_time": "2022-08-16T17:21:36.027Z"
   },
   {
    "duration": 0,
    "start_time": "2022-08-16T17:21:36.028Z"
   },
   {
    "duration": 0,
    "start_time": "2022-08-16T17:21:36.029Z"
   },
   {
    "duration": 0,
    "start_time": "2022-08-16T17:21:36.031Z"
   },
   {
    "duration": 0,
    "start_time": "2022-08-16T17:21:36.032Z"
   },
   {
    "duration": 0,
    "start_time": "2022-08-16T17:21:36.033Z"
   },
   {
    "duration": 0,
    "start_time": "2022-08-16T17:21:36.034Z"
   },
   {
    "duration": 0,
    "start_time": "2022-08-16T17:21:36.036Z"
   },
   {
    "duration": 0,
    "start_time": "2022-08-16T17:21:36.037Z"
   },
   {
    "duration": 0,
    "start_time": "2022-08-16T17:21:36.039Z"
   },
   {
    "duration": 0,
    "start_time": "2022-08-16T17:21:36.040Z"
   },
   {
    "duration": 0,
    "start_time": "2022-08-16T17:21:36.042Z"
   },
   {
    "duration": 0,
    "start_time": "2022-08-16T17:21:36.043Z"
   },
   {
    "duration": 0,
    "start_time": "2022-08-16T17:21:36.045Z"
   },
   {
    "duration": 0,
    "start_time": "2022-08-16T17:21:36.046Z"
   },
   {
    "duration": 0,
    "start_time": "2022-08-16T17:21:36.048Z"
   },
   {
    "duration": 0,
    "start_time": "2022-08-16T17:21:36.049Z"
   },
   {
    "duration": 0,
    "start_time": "2022-08-16T17:21:36.051Z"
   },
   {
    "duration": 0,
    "start_time": "2022-08-16T17:21:36.052Z"
   },
   {
    "duration": 0,
    "start_time": "2022-08-16T17:21:36.054Z"
   },
   {
    "duration": 0,
    "start_time": "2022-08-16T17:21:36.055Z"
   },
   {
    "duration": 0,
    "start_time": "2022-08-16T17:21:36.068Z"
   },
   {
    "duration": 0,
    "start_time": "2022-08-16T17:21:36.070Z"
   },
   {
    "duration": 0,
    "start_time": "2022-08-16T17:21:36.071Z"
   },
   {
    "duration": 0,
    "start_time": "2022-08-16T17:21:36.073Z"
   },
   {
    "duration": 0,
    "start_time": "2022-08-16T17:21:36.074Z"
   },
   {
    "duration": 185,
    "start_time": "2022-08-16T17:21:55.386Z"
   },
   {
    "duration": 3,
    "start_time": "2022-08-16T17:22:02.195Z"
   },
   {
    "duration": 96,
    "start_time": "2022-08-16T17:22:02.200Z"
   },
   {
    "duration": 69,
    "start_time": "2022-08-16T17:22:02.298Z"
   },
   {
    "duration": 1946,
    "start_time": "2022-08-16T17:22:02.369Z"
   },
   {
    "duration": 15,
    "start_time": "2022-08-16T17:22:04.317Z"
   },
   {
    "duration": 8,
    "start_time": "2022-08-16T17:22:04.334Z"
   },
   {
    "duration": 26,
    "start_time": "2022-08-16T17:22:04.343Z"
   },
   {
    "duration": 6,
    "start_time": "2022-08-16T17:22:04.371Z"
   },
   {
    "duration": 6,
    "start_time": "2022-08-16T17:22:04.378Z"
   },
   {
    "duration": 7,
    "start_time": "2022-08-16T17:22:04.386Z"
   },
   {
    "duration": 9,
    "start_time": "2022-08-16T17:22:04.394Z"
   },
   {
    "duration": 7,
    "start_time": "2022-08-16T17:22:04.405Z"
   },
   {
    "duration": 91,
    "start_time": "2022-08-16T17:22:04.415Z"
   },
   {
    "duration": 6,
    "start_time": "2022-08-16T17:22:04.508Z"
   },
   {
    "duration": 137,
    "start_time": "2022-08-16T17:22:04.516Z"
   },
   {
    "duration": 18,
    "start_time": "2022-08-16T17:22:04.655Z"
   },
   {
    "duration": 147,
    "start_time": "2022-08-16T17:22:04.676Z"
   },
   {
    "duration": 116,
    "start_time": "2022-08-16T17:22:04.825Z"
   },
   {
    "duration": 35,
    "start_time": "2022-08-16T17:22:04.943Z"
   },
   {
    "duration": 147,
    "start_time": "2022-08-16T17:22:04.980Z"
   },
   {
    "duration": 23,
    "start_time": "2022-08-16T17:22:05.129Z"
   },
   {
    "duration": 141,
    "start_time": "2022-08-16T17:22:05.154Z"
   },
   {
    "duration": 25,
    "start_time": "2022-08-16T17:22:05.297Z"
   },
   {
    "duration": 6,
    "start_time": "2022-08-16T17:22:05.324Z"
   },
   {
    "duration": 144,
    "start_time": "2022-08-16T17:22:05.332Z"
   },
   {
    "duration": 323,
    "start_time": "2022-08-16T17:22:05.478Z"
   },
   {
    "duration": 25,
    "start_time": "2022-08-16T17:22:05.803Z"
   },
   {
    "duration": 144,
    "start_time": "2022-08-16T17:22:05.830Z"
   },
   {
    "duration": 31,
    "start_time": "2022-08-16T17:22:05.976Z"
   },
   {
    "duration": 124,
    "start_time": "2022-08-16T17:22:06.008Z"
   },
   {
    "duration": 57,
    "start_time": "2022-08-16T17:22:06.133Z"
   },
   {
    "duration": 7,
    "start_time": "2022-08-16T17:22:06.192Z"
   },
   {
    "duration": 14,
    "start_time": "2022-08-16T17:22:06.201Z"
   },
   {
    "duration": 4,
    "start_time": "2022-08-16T17:22:06.217Z"
   },
   {
    "duration": 45,
    "start_time": "2022-08-16T17:22:06.223Z"
   },
   {
    "duration": 7,
    "start_time": "2022-08-16T17:22:06.269Z"
   },
   {
    "duration": 4,
    "start_time": "2022-08-16T17:22:06.283Z"
   },
   {
    "duration": 16,
    "start_time": "2022-08-16T17:22:06.289Z"
   },
   {
    "duration": 4,
    "start_time": "2022-08-16T17:22:06.307Z"
   },
   {
    "duration": 8,
    "start_time": "2022-08-16T17:22:06.312Z"
   },
   {
    "duration": 5,
    "start_time": "2022-08-16T17:22:06.322Z"
   },
   {
    "duration": 6,
    "start_time": "2022-08-16T17:22:06.369Z"
   },
   {
    "duration": 429,
    "start_time": "2022-08-16T17:22:06.377Z"
   },
   {
    "duration": 5,
    "start_time": "2022-08-16T17:22:06.809Z"
   },
   {
    "duration": 232,
    "start_time": "2022-08-16T17:22:06.816Z"
   },
   {
    "duration": 6,
    "start_time": "2022-08-16T17:22:07.050Z"
   },
   {
    "duration": 207,
    "start_time": "2022-08-16T17:22:07.068Z"
   },
   {
    "duration": 6,
    "start_time": "2022-08-16T17:22:07.277Z"
   },
   {
    "duration": 211,
    "start_time": "2022-08-16T17:22:07.285Z"
   },
   {
    "duration": 8,
    "start_time": "2022-08-16T17:22:07.498Z"
   },
   {
    "duration": 236,
    "start_time": "2022-08-16T17:22:07.508Z"
   },
   {
    "duration": 6,
    "start_time": "2022-08-16T17:22:07.746Z"
   },
   {
    "duration": 154,
    "start_time": "2022-08-16T17:22:07.767Z"
   },
   {
    "duration": 5,
    "start_time": "2022-08-16T17:22:07.923Z"
   },
   {
    "duration": 190,
    "start_time": "2022-08-16T17:22:07.930Z"
   },
   {
    "duration": 6,
    "start_time": "2022-08-16T17:22:08.121Z"
   },
   {
    "duration": 210,
    "start_time": "2022-08-16T17:22:08.129Z"
   },
   {
    "duration": 5,
    "start_time": "2022-08-16T17:22:08.341Z"
   },
   {
    "duration": 145,
    "start_time": "2022-08-16T17:22:08.348Z"
   },
   {
    "duration": 6,
    "start_time": "2022-08-16T17:22:08.495Z"
   },
   {
    "duration": 189,
    "start_time": "2022-08-16T17:22:08.503Z"
   },
   {
    "duration": 6,
    "start_time": "2022-08-16T17:22:08.694Z"
   },
   {
    "duration": 276,
    "start_time": "2022-08-16T17:22:08.702Z"
   },
   {
    "duration": 9,
    "start_time": "2022-08-16T17:22:08.980Z"
   },
   {
    "duration": 189,
    "start_time": "2022-08-16T17:22:08.991Z"
   },
   {
    "duration": 8,
    "start_time": "2022-08-16T17:22:09.182Z"
   },
   {
    "duration": 202,
    "start_time": "2022-08-16T17:22:09.193Z"
   },
   {
    "duration": 7,
    "start_time": "2022-08-16T17:22:09.397Z"
   },
   {
    "duration": 192,
    "start_time": "2022-08-16T17:22:09.406Z"
   },
   {
    "duration": 6,
    "start_time": "2022-08-16T17:22:09.599Z"
   },
   {
    "duration": 469,
    "start_time": "2022-08-16T17:22:09.606Z"
   },
   {
    "duration": 6,
    "start_time": "2022-08-16T17:22:10.077Z"
   },
   {
    "duration": 267,
    "start_time": "2022-08-16T17:22:10.085Z"
   },
   {
    "duration": 17,
    "start_time": "2022-08-16T17:22:10.353Z"
   },
   {
    "duration": 154,
    "start_time": "2022-08-16T17:22:10.372Z"
   },
   {
    "duration": 5,
    "start_time": "2022-08-16T17:22:10.528Z"
   },
   {
    "duration": 178,
    "start_time": "2022-08-16T17:22:10.535Z"
   },
   {
    "duration": 6,
    "start_time": "2022-08-16T17:22:10.715Z"
   },
   {
    "duration": 161,
    "start_time": "2022-08-16T17:22:10.723Z"
   },
   {
    "duration": 5,
    "start_time": "2022-08-16T17:22:10.886Z"
   },
   {
    "duration": 158,
    "start_time": "2022-08-16T17:22:10.893Z"
   },
   {
    "duration": 16,
    "start_time": "2022-08-16T17:22:11.052Z"
   },
   {
    "duration": 142,
    "start_time": "2022-08-16T17:22:11.069Z"
   },
   {
    "duration": 142,
    "start_time": "2022-08-16T17:22:11.213Z"
   },
   {
    "duration": 4,
    "start_time": "2022-08-16T17:22:11.367Z"
   },
   {
    "duration": 166,
    "start_time": "2022-08-16T17:22:11.373Z"
   },
   {
    "duration": 5,
    "start_time": "2022-08-16T17:22:11.541Z"
   },
   {
    "duration": 175,
    "start_time": "2022-08-16T17:22:11.548Z"
   },
   {
    "duration": 5,
    "start_time": "2022-08-16T17:22:11.724Z"
   },
   {
    "duration": 167,
    "start_time": "2022-08-16T17:22:11.730Z"
   },
   {
    "duration": 5,
    "start_time": "2022-08-16T17:22:11.899Z"
   },
   {
    "duration": 12,
    "start_time": "2022-08-16T17:22:11.905Z"
   },
   {
    "duration": 57,
    "start_time": "2022-08-16T17:22:11.919Z"
   },
   {
    "duration": 4,
    "start_time": "2022-08-16T17:22:11.977Z"
   },
   {
    "duration": 13,
    "start_time": "2022-08-16T17:22:11.982Z"
   },
   {
    "duration": 12,
    "start_time": "2022-08-16T17:22:11.997Z"
   },
   {
    "duration": 6,
    "start_time": "2022-08-16T17:22:12.010Z"
   },
   {
    "duration": 50,
    "start_time": "2022-08-16T17:22:12.018Z"
   },
   {
    "duration": 152,
    "start_time": "2022-08-16T17:22:41.858Z"
   },
   {
    "duration": 77,
    "start_time": "2022-08-16T17:25:35.009Z"
   },
   {
    "duration": 77,
    "start_time": "2022-08-16T17:25:41.922Z"
   },
   {
    "duration": 192,
    "start_time": "2022-08-16T17:26:19.630Z"
   },
   {
    "duration": 168,
    "start_time": "2022-08-16T17:27:03.235Z"
   },
   {
    "duration": 160,
    "start_time": "2022-08-16T17:27:08.596Z"
   },
   {
    "duration": 21,
    "start_time": "2022-08-16T17:30:10.429Z"
   },
   {
    "duration": 85,
    "start_time": "2022-08-16T17:30:46.927Z"
   },
   {
    "duration": 18,
    "start_time": "2022-08-16T17:31:01.524Z"
   },
   {
    "duration": 17,
    "start_time": "2022-08-16T17:31:07.453Z"
   },
   {
    "duration": 20,
    "start_time": "2022-08-16T17:32:46.668Z"
   },
   {
    "duration": 3,
    "start_time": "2022-08-16T17:33:20.318Z"
   },
   {
    "duration": 93,
    "start_time": "2022-08-16T17:41:32.815Z"
   },
   {
    "duration": 78,
    "start_time": "2022-08-16T17:43:02.500Z"
   },
   {
    "duration": 76,
    "start_time": "2022-08-16T17:43:54.987Z"
   },
   {
    "duration": 87,
    "start_time": "2022-08-16T17:44:31.007Z"
   },
   {
    "duration": 86,
    "start_time": "2022-08-16T17:45:31.584Z"
   },
   {
    "duration": 75,
    "start_time": "2022-08-16T17:45:52.594Z"
   },
   {
    "duration": 75,
    "start_time": "2022-08-16T17:46:44.105Z"
   },
   {
    "duration": 80,
    "start_time": "2022-08-16T17:47:16.350Z"
   },
   {
    "duration": 9,
    "start_time": "2022-08-16T17:52:05.515Z"
   },
   {
    "duration": 27,
    "start_time": "2022-08-16T17:52:38.274Z"
   },
   {
    "duration": 25,
    "start_time": "2022-08-16T17:53:07.814Z"
   },
   {
    "duration": 826,
    "start_time": "2022-08-16T17:53:49.142Z"
   },
   {
    "duration": 104,
    "start_time": "2022-08-16T17:53:49.971Z"
   },
   {
    "duration": 57,
    "start_time": "2022-08-16T17:53:50.077Z"
   },
   {
    "duration": 2264,
    "start_time": "2022-08-16T17:53:50.137Z"
   },
   {
    "duration": 17,
    "start_time": "2022-08-16T17:53:52.403Z"
   },
   {
    "duration": 26,
    "start_time": "2022-08-16T17:53:52.422Z"
   },
   {
    "duration": 22,
    "start_time": "2022-08-16T17:53:52.451Z"
   },
   {
    "duration": 5,
    "start_time": "2022-08-16T17:53:52.475Z"
   },
   {
    "duration": 7,
    "start_time": "2022-08-16T17:53:52.483Z"
   },
   {
    "duration": 6,
    "start_time": "2022-08-16T17:53:52.495Z"
   },
   {
    "duration": 9,
    "start_time": "2022-08-16T17:53:52.502Z"
   },
   {
    "duration": 54,
    "start_time": "2022-08-16T17:53:52.513Z"
   },
   {
    "duration": 9,
    "start_time": "2022-08-16T17:53:52.569Z"
   },
   {
    "duration": 59,
    "start_time": "2022-08-16T17:53:52.581Z"
   },
   {
    "duration": 26,
    "start_time": "2022-08-16T17:53:52.642Z"
   },
   {
    "duration": 200,
    "start_time": "2022-08-16T17:53:52.670Z"
   },
   {
    "duration": 19,
    "start_time": "2022-08-16T17:53:52.872Z"
   },
   {
    "duration": 152,
    "start_time": "2022-08-16T17:53:52.893Z"
   },
   {
    "duration": 140,
    "start_time": "2022-08-16T17:53:53.047Z"
   },
   {
    "duration": 25,
    "start_time": "2022-08-16T17:53:53.189Z"
   },
   {
    "duration": 163,
    "start_time": "2022-08-16T17:53:53.216Z"
   },
   {
    "duration": 31,
    "start_time": "2022-08-16T17:53:53.381Z"
   },
   {
    "duration": 157,
    "start_time": "2022-08-16T17:53:53.415Z"
   },
   {
    "duration": 28,
    "start_time": "2022-08-16T17:53:53.574Z"
   },
   {
    "duration": 15,
    "start_time": "2022-08-16T17:53:53.604Z"
   },
   {
    "duration": 153,
    "start_time": "2022-08-16T17:53:53.621Z"
   },
   {
    "duration": 222,
    "start_time": "2022-08-16T17:53:53.775Z"
   },
   {
    "duration": 27,
    "start_time": "2022-08-16T17:53:54.001Z"
   },
   {
    "duration": 179,
    "start_time": "2022-08-16T17:53:54.030Z"
   },
   {
    "duration": 33,
    "start_time": "2022-08-16T17:53:54.211Z"
   },
   {
    "duration": 151,
    "start_time": "2022-08-16T17:53:54.246Z"
   },
   {
    "duration": 48,
    "start_time": "2022-08-16T17:53:54.399Z"
   },
   {
    "duration": 7,
    "start_time": "2022-08-16T17:53:54.468Z"
   },
   {
    "duration": 32,
    "start_time": "2022-08-16T17:53:54.478Z"
   },
   {
    "duration": 4,
    "start_time": "2022-08-16T17:53:54.512Z"
   },
   {
    "duration": 14,
    "start_time": "2022-08-16T17:53:54.519Z"
   },
   {
    "duration": 34,
    "start_time": "2022-08-16T17:53:54.535Z"
   },
   {
    "duration": 6,
    "start_time": "2022-08-16T17:53:54.572Z"
   },
   {
    "duration": 30,
    "start_time": "2022-08-16T17:53:54.579Z"
   },
   {
    "duration": 5,
    "start_time": "2022-08-16T17:53:54.610Z"
   },
   {
    "duration": 20,
    "start_time": "2022-08-16T17:53:54.617Z"
   },
   {
    "duration": 16,
    "start_time": "2022-08-16T17:53:54.639Z"
   },
   {
    "duration": 17,
    "start_time": "2022-08-16T17:53:54.657Z"
   },
   {
    "duration": 453,
    "start_time": "2022-08-16T17:53:54.676Z"
   },
   {
    "duration": 6,
    "start_time": "2022-08-16T17:53:55.131Z"
   },
   {
    "duration": 253,
    "start_time": "2022-08-16T17:53:55.139Z"
   },
   {
    "duration": 6,
    "start_time": "2022-08-16T17:53:55.395Z"
   },
   {
    "duration": 292,
    "start_time": "2022-08-16T17:53:55.403Z"
   },
   {
    "duration": 9,
    "start_time": "2022-08-16T17:53:55.698Z"
   },
   {
    "duration": 285,
    "start_time": "2022-08-16T17:53:55.710Z"
   },
   {
    "duration": 8,
    "start_time": "2022-08-16T17:53:55.997Z"
   },
   {
    "duration": 273,
    "start_time": "2022-08-16T17:53:56.007Z"
   },
   {
    "duration": 10,
    "start_time": "2022-08-16T17:53:56.281Z"
   },
   {
    "duration": 313,
    "start_time": "2022-08-16T17:53:56.294Z"
   },
   {
    "duration": 9,
    "start_time": "2022-08-16T17:53:56.610Z"
   },
   {
    "duration": 268,
    "start_time": "2022-08-16T17:53:56.621Z"
   },
   {
    "duration": 9,
    "start_time": "2022-08-16T17:53:56.893Z"
   },
   {
    "duration": 317,
    "start_time": "2022-08-16T17:53:56.903Z"
   },
   {
    "duration": 8,
    "start_time": "2022-08-16T17:53:57.222Z"
   },
   {
    "duration": 181,
    "start_time": "2022-08-16T17:53:57.232Z"
   },
   {
    "duration": 7,
    "start_time": "2022-08-16T17:53:57.415Z"
   },
   {
    "duration": 254,
    "start_time": "2022-08-16T17:53:57.425Z"
   },
   {
    "duration": 7,
    "start_time": "2022-08-16T17:53:57.681Z"
   },
   {
    "duration": 350,
    "start_time": "2022-08-16T17:53:57.690Z"
   },
   {
    "duration": 10,
    "start_time": "2022-08-16T17:53:58.043Z"
   },
   {
    "duration": 214,
    "start_time": "2022-08-16T17:53:58.069Z"
   },
   {
    "duration": 9,
    "start_time": "2022-08-16T17:53:58.285Z"
   },
   {
    "duration": 227,
    "start_time": "2022-08-16T17:53:58.297Z"
   },
   {
    "duration": 8,
    "start_time": "2022-08-16T17:53:58.526Z"
   },
   {
    "duration": 311,
    "start_time": "2022-08-16T17:53:58.537Z"
   },
   {
    "duration": 18,
    "start_time": "2022-08-16T17:53:58.851Z"
   },
   {
    "duration": 407,
    "start_time": "2022-08-16T17:53:58.871Z"
   },
   {
    "duration": 7,
    "start_time": "2022-08-16T17:53:59.283Z"
   },
   {
    "duration": 246,
    "start_time": "2022-08-16T17:53:59.292Z"
   },
   {
    "duration": 9,
    "start_time": "2022-08-16T17:53:59.540Z"
   },
   {
    "duration": 174,
    "start_time": "2022-08-16T17:53:59.568Z"
   },
   {
    "duration": 5,
    "start_time": "2022-08-16T17:53:59.744Z"
   },
   {
    "duration": 221,
    "start_time": "2022-08-16T17:53:59.751Z"
   },
   {
    "duration": 7,
    "start_time": "2022-08-16T17:53:59.973Z"
   },
   {
    "duration": 196,
    "start_time": "2022-08-16T17:53:59.982Z"
   },
   {
    "duration": 7,
    "start_time": "2022-08-16T17:54:00.180Z"
   },
   {
    "duration": 216,
    "start_time": "2022-08-16T17:54:00.193Z"
   },
   {
    "duration": 6,
    "start_time": "2022-08-16T17:54:00.411Z"
   },
   {
    "duration": 171,
    "start_time": "2022-08-16T17:54:00.420Z"
   },
   {
    "duration": 178,
    "start_time": "2022-08-16T17:54:00.594Z"
   },
   {
    "duration": 7,
    "start_time": "2022-08-16T17:54:00.774Z"
   },
   {
    "duration": 205,
    "start_time": "2022-08-16T17:54:00.783Z"
   },
   {
    "duration": 7,
    "start_time": "2022-08-16T17:54:00.990Z"
   },
   {
    "duration": 200,
    "start_time": "2022-08-16T17:54:00.999Z"
   },
   {
    "duration": 6,
    "start_time": "2022-08-16T17:54:01.201Z"
   },
   {
    "duration": 201,
    "start_time": "2022-08-16T17:54:01.208Z"
   },
   {
    "duration": 7,
    "start_time": "2022-08-16T17:54:01.411Z"
   },
   {
    "duration": 15,
    "start_time": "2022-08-16T17:54:01.420Z"
   },
   {
    "duration": 68,
    "start_time": "2022-08-16T17:54:01.437Z"
   },
   {
    "duration": 4,
    "start_time": "2022-08-16T17:54:01.508Z"
   },
   {
    "duration": 22,
    "start_time": "2022-08-16T17:54:01.514Z"
   },
   {
    "duration": 24,
    "start_time": "2022-08-16T17:54:01.538Z"
   },
   {
    "duration": 12,
    "start_time": "2022-08-16T17:54:01.569Z"
   },
   {
    "duration": 20,
    "start_time": "2022-08-16T17:54:01.584Z"
   },
   {
    "duration": 188,
    "start_time": "2022-08-16T17:54:01.607Z"
   },
   {
    "duration": 17,
    "start_time": "2022-08-16T17:54:01.798Z"
   },
   {
    "duration": 7,
    "start_time": "2022-08-16T17:54:01.816Z"
   },
   {
    "duration": 647,
    "start_time": "2022-08-16T18:39:08.665Z"
   },
   {
    "duration": 87,
    "start_time": "2022-08-16T18:39:09.314Z"
   },
   {
    "duration": 47,
    "start_time": "2022-08-16T18:39:09.403Z"
   },
   {
    "duration": 1916,
    "start_time": "2022-08-16T18:39:09.453Z"
   },
   {
    "duration": 16,
    "start_time": "2022-08-16T18:39:11.371Z"
   },
   {
    "duration": 23,
    "start_time": "2022-08-16T18:39:11.389Z"
   },
   {
    "duration": 9,
    "start_time": "2022-08-16T18:39:11.414Z"
   },
   {
    "duration": 5,
    "start_time": "2022-08-16T18:39:11.425Z"
   },
   {
    "duration": 5,
    "start_time": "2022-08-16T18:39:11.468Z"
   },
   {
    "duration": 6,
    "start_time": "2022-08-16T18:39:11.476Z"
   },
   {
    "duration": 10,
    "start_time": "2022-08-16T18:39:11.484Z"
   },
   {
    "duration": 14,
    "start_time": "2022-08-16T18:39:11.496Z"
   },
   {
    "duration": 7,
    "start_time": "2022-08-16T18:39:11.512Z"
   },
   {
    "duration": 80,
    "start_time": "2022-08-16T18:39:11.521Z"
   },
   {
    "duration": 6,
    "start_time": "2022-08-16T18:39:11.603Z"
   },
   {
    "duration": 130,
    "start_time": "2022-08-16T18:39:11.610Z"
   },
   {
    "duration": 32,
    "start_time": "2022-08-16T18:39:11.742Z"
   },
   {
    "duration": 119,
    "start_time": "2022-08-16T18:39:11.776Z"
   },
   {
    "duration": 117,
    "start_time": "2022-08-16T18:39:11.897Z"
   },
   {
    "duration": 25,
    "start_time": "2022-08-16T18:39:12.016Z"
   },
   {
    "duration": 142,
    "start_time": "2022-08-16T18:39:12.043Z"
   },
   {
    "duration": 23,
    "start_time": "2022-08-16T18:39:12.186Z"
   },
   {
    "duration": 126,
    "start_time": "2022-08-16T18:39:12.210Z"
   },
   {
    "duration": 39,
    "start_time": "2022-08-16T18:39:12.337Z"
   },
   {
    "duration": 5,
    "start_time": "2022-08-16T18:39:12.377Z"
   },
   {
    "duration": 130,
    "start_time": "2022-08-16T18:39:12.383Z"
   },
   {
    "duration": 196,
    "start_time": "2022-08-16T18:39:12.515Z"
   },
   {
    "duration": 24,
    "start_time": "2022-08-16T18:39:12.715Z"
   },
   {
    "duration": 139,
    "start_time": "2022-08-16T18:39:12.741Z"
   },
   {
    "duration": 30,
    "start_time": "2022-08-16T18:39:12.882Z"
   },
   {
    "duration": 124,
    "start_time": "2022-08-16T18:39:12.914Z"
   },
   {
    "duration": 54,
    "start_time": "2022-08-16T18:39:13.040Z"
   },
   {
    "duration": 5,
    "start_time": "2022-08-16T18:39:13.096Z"
   },
   {
    "duration": 14,
    "start_time": "2022-08-16T18:39:13.102Z"
   },
   {
    "duration": 4,
    "start_time": "2022-08-16T18:39:13.118Z"
   },
   {
    "duration": 8,
    "start_time": "2022-08-16T18:39:13.123Z"
   },
   {
    "duration": 36,
    "start_time": "2022-08-16T18:39:13.132Z"
   },
   {
    "duration": 5,
    "start_time": "2022-08-16T18:39:13.170Z"
   },
   {
    "duration": 17,
    "start_time": "2022-08-16T18:39:13.177Z"
   },
   {
    "duration": 3,
    "start_time": "2022-08-16T18:39:13.197Z"
   },
   {
    "duration": 11,
    "start_time": "2022-08-16T18:39:13.202Z"
   },
   {
    "duration": 6,
    "start_time": "2022-08-16T18:39:13.214Z"
   },
   {
    "duration": 7,
    "start_time": "2022-08-16T18:39:13.221Z"
   },
   {
    "duration": 350,
    "start_time": "2022-08-16T18:39:13.229Z"
   },
   {
    "duration": 5,
    "start_time": "2022-08-16T18:39:13.580Z"
   },
   {
    "duration": 198,
    "start_time": "2022-08-16T18:39:13.586Z"
   },
   {
    "duration": 5,
    "start_time": "2022-08-16T18:39:13.786Z"
   },
   {
    "duration": 195,
    "start_time": "2022-08-16T18:39:13.793Z"
   },
   {
    "duration": 5,
    "start_time": "2022-08-16T18:39:13.990Z"
   },
   {
    "duration": 198,
    "start_time": "2022-08-16T18:39:13.997Z"
   },
   {
    "duration": 6,
    "start_time": "2022-08-16T18:39:14.196Z"
   },
   {
    "duration": 212,
    "start_time": "2022-08-16T18:39:14.203Z"
   },
   {
    "duration": 6,
    "start_time": "2022-08-16T18:39:14.417Z"
   },
   {
    "duration": 229,
    "start_time": "2022-08-16T18:39:14.425Z"
   },
   {
    "duration": 12,
    "start_time": "2022-08-16T18:39:14.656Z"
   },
   {
    "duration": 155,
    "start_time": "2022-08-16T18:39:14.670Z"
   },
   {
    "duration": 6,
    "start_time": "2022-08-16T18:39:14.826Z"
   },
   {
    "duration": 189,
    "start_time": "2022-08-16T18:39:14.833Z"
   },
   {
    "duration": 6,
    "start_time": "2022-08-16T18:39:15.024Z"
   },
   {
    "duration": 138,
    "start_time": "2022-08-16T18:39:15.031Z"
   },
   {
    "duration": 6,
    "start_time": "2022-08-16T18:39:15.171Z"
   },
   {
    "duration": 178,
    "start_time": "2022-08-16T18:39:15.179Z"
   },
   {
    "duration": 11,
    "start_time": "2022-08-16T18:39:15.359Z"
   },
   {
    "duration": 246,
    "start_time": "2022-08-16T18:39:15.372Z"
   },
   {
    "duration": 6,
    "start_time": "2022-08-16T18:39:15.619Z"
   },
   {
    "duration": 182,
    "start_time": "2022-08-16T18:39:15.626Z"
   },
   {
    "duration": 5,
    "start_time": "2022-08-16T18:39:15.810Z"
   },
   {
    "duration": 181,
    "start_time": "2022-08-16T18:39:15.817Z"
   },
   {
    "duration": 6,
    "start_time": "2022-08-16T18:39:15.999Z"
   },
   {
    "duration": 185,
    "start_time": "2022-08-16T18:39:16.007Z"
   },
   {
    "duration": 6,
    "start_time": "2022-08-16T18:39:16.193Z"
   },
   {
    "duration": 391,
    "start_time": "2022-08-16T18:39:16.200Z"
   },
   {
    "duration": 7,
    "start_time": "2022-08-16T18:39:16.593Z"
   },
   {
    "duration": 258,
    "start_time": "2022-08-16T18:39:16.601Z"
   },
   {
    "duration": 8,
    "start_time": "2022-08-16T18:39:16.867Z"
   },
   {
    "duration": 148,
    "start_time": "2022-08-16T18:39:16.876Z"
   },
   {
    "duration": 5,
    "start_time": "2022-08-16T18:39:17.026Z"
   },
   {
    "duration": 171,
    "start_time": "2022-08-16T18:39:17.032Z"
   },
   {
    "duration": 5,
    "start_time": "2022-08-16T18:39:17.205Z"
   },
   {
    "duration": 145,
    "start_time": "2022-08-16T18:39:17.212Z"
   },
   {
    "duration": 4,
    "start_time": "2022-08-16T18:39:17.367Z"
   },
   {
    "duration": 166,
    "start_time": "2022-08-16T18:39:17.377Z"
   },
   {
    "duration": 4,
    "start_time": "2022-08-16T18:39:17.545Z"
   },
   {
    "duration": 146,
    "start_time": "2022-08-16T18:39:17.551Z"
   },
   {
    "duration": 150,
    "start_time": "2022-08-16T18:39:17.698Z"
   },
   {
    "duration": 5,
    "start_time": "2022-08-16T18:39:17.850Z"
   },
   {
    "duration": 152,
    "start_time": "2022-08-16T18:39:17.868Z"
   },
   {
    "duration": 5,
    "start_time": "2022-08-16T18:39:18.022Z"
   },
   {
    "duration": 173,
    "start_time": "2022-08-16T18:39:18.028Z"
   },
   {
    "duration": 5,
    "start_time": "2022-08-16T18:39:18.203Z"
   },
   {
    "duration": 173,
    "start_time": "2022-08-16T18:39:18.209Z"
   },
   {
    "duration": 4,
    "start_time": "2022-08-16T18:39:18.384Z"
   },
   {
    "duration": 18,
    "start_time": "2022-08-16T18:39:18.389Z"
   },
   {
    "duration": 47,
    "start_time": "2022-08-16T18:39:18.409Z"
   },
   {
    "duration": 3,
    "start_time": "2022-08-16T18:39:18.458Z"
   },
   {
    "duration": 13,
    "start_time": "2022-08-16T18:39:18.462Z"
   },
   {
    "duration": 17,
    "start_time": "2022-08-16T18:39:18.477Z"
   },
   {
    "duration": 13,
    "start_time": "2022-08-16T18:39:18.495Z"
   },
   {
    "duration": 16,
    "start_time": "2022-08-16T18:39:18.510Z"
   },
   {
    "duration": 158,
    "start_time": "2022-08-16T18:39:18.528Z"
   },
   {
    "duration": 16,
    "start_time": "2022-08-16T18:39:18.688Z"
   },
   {
    "duration": 3,
    "start_time": "2022-08-16T18:39:18.706Z"
   },
   {
    "duration": 628,
    "start_time": "2022-08-16T19:16:20.117Z"
   },
   {
    "duration": 85,
    "start_time": "2022-08-16T19:16:20.747Z"
   },
   {
    "duration": 40,
    "start_time": "2022-08-16T19:16:20.834Z"
   },
   {
    "duration": 1689,
    "start_time": "2022-08-16T19:16:20.876Z"
   },
   {
    "duration": 13,
    "start_time": "2022-08-16T19:16:22.567Z"
   },
   {
    "duration": 24,
    "start_time": "2022-08-16T19:16:22.582Z"
   },
   {
    "duration": 7,
    "start_time": "2022-08-16T19:16:22.608Z"
   },
   {
    "duration": 21,
    "start_time": "2022-08-16T19:16:22.617Z"
   },
   {
    "duration": 19,
    "start_time": "2022-08-16T19:16:22.640Z"
   },
   {
    "duration": 13,
    "start_time": "2022-08-16T19:16:22.662Z"
   },
   {
    "duration": 13,
    "start_time": "2022-08-16T19:16:22.677Z"
   },
   {
    "duration": 20,
    "start_time": "2022-08-16T19:16:22.692Z"
   },
   {
    "duration": 18,
    "start_time": "2022-08-16T19:16:22.713Z"
   },
   {
    "duration": 55,
    "start_time": "2022-08-16T19:16:22.732Z"
   },
   {
    "duration": 6,
    "start_time": "2022-08-16T19:16:22.788Z"
   },
   {
    "duration": 106,
    "start_time": "2022-08-16T19:16:22.795Z"
   },
   {
    "duration": 11,
    "start_time": "2022-08-16T19:16:22.903Z"
   },
   {
    "duration": 116,
    "start_time": "2022-08-16T19:16:22.915Z"
   },
   {
    "duration": 95,
    "start_time": "2022-08-16T19:16:23.032Z"
   },
   {
    "duration": 20,
    "start_time": "2022-08-16T19:16:23.138Z"
   },
   {
    "duration": 121,
    "start_time": "2022-08-16T19:16:23.159Z"
   },
   {
    "duration": 20,
    "start_time": "2022-08-16T19:16:23.282Z"
   },
   {
    "duration": 111,
    "start_time": "2022-08-16T19:16:23.303Z"
   },
   {
    "duration": 27,
    "start_time": "2022-08-16T19:16:23.415Z"
   },
   {
    "duration": 5,
    "start_time": "2022-08-16T19:16:23.443Z"
   },
   {
    "duration": 121,
    "start_time": "2022-08-16T19:16:23.449Z"
   },
   {
    "duration": 174,
    "start_time": "2022-08-16T19:16:23.571Z"
   },
   {
    "duration": 21,
    "start_time": "2022-08-16T19:16:23.748Z"
   },
   {
    "duration": 115,
    "start_time": "2022-08-16T19:16:23.770Z"
   },
   {
    "duration": 26,
    "start_time": "2022-08-16T19:16:23.886Z"
   },
   {
    "duration": 98,
    "start_time": "2022-08-16T19:16:23.913Z"
   },
   {
    "duration": 38,
    "start_time": "2022-08-16T19:16:24.012Z"
   },
   {
    "duration": 4,
    "start_time": "2022-08-16T19:16:24.052Z"
   },
   {
    "duration": 18,
    "start_time": "2022-08-16T19:16:24.057Z"
   },
   {
    "duration": 3,
    "start_time": "2022-08-16T19:16:24.076Z"
   },
   {
    "duration": 15,
    "start_time": "2022-08-16T19:16:24.080Z"
   },
   {
    "duration": 14,
    "start_time": "2022-08-16T19:16:24.097Z"
   },
   {
    "duration": 5,
    "start_time": "2022-08-16T19:16:24.113Z"
   },
   {
    "duration": 20,
    "start_time": "2022-08-16T19:16:24.119Z"
   },
   {
    "duration": 4,
    "start_time": "2022-08-16T19:16:24.140Z"
   },
   {
    "duration": 7,
    "start_time": "2022-08-16T19:16:24.145Z"
   },
   {
    "duration": 10,
    "start_time": "2022-08-16T19:16:24.153Z"
   },
   {
    "duration": 5,
    "start_time": "2022-08-16T19:16:24.165Z"
   },
   {
    "duration": 329,
    "start_time": "2022-08-16T19:16:24.172Z"
   },
   {
    "duration": 5,
    "start_time": "2022-08-16T19:16:24.503Z"
   },
   {
    "duration": 165,
    "start_time": "2022-08-16T19:16:24.509Z"
   },
   {
    "duration": 5,
    "start_time": "2022-08-16T19:16:24.675Z"
   },
   {
    "duration": 171,
    "start_time": "2022-08-16T19:16:24.682Z"
   },
   {
    "duration": 5,
    "start_time": "2022-08-16T19:16:24.855Z"
   },
   {
    "duration": 185,
    "start_time": "2022-08-16T19:16:24.862Z"
   },
   {
    "duration": 6,
    "start_time": "2022-08-16T19:16:25.049Z"
   },
   {
    "duration": 190,
    "start_time": "2022-08-16T19:16:25.056Z"
   },
   {
    "duration": 6,
    "start_time": "2022-08-16T19:16:25.247Z"
   },
   {
    "duration": 222,
    "start_time": "2022-08-16T19:16:25.254Z"
   },
   {
    "duration": 5,
    "start_time": "2022-08-16T19:16:25.478Z"
   },
   {
    "duration": 161,
    "start_time": "2022-08-16T19:16:25.485Z"
   },
   {
    "duration": 5,
    "start_time": "2022-08-16T19:16:25.647Z"
   },
   {
    "duration": 201,
    "start_time": "2022-08-16T19:16:25.653Z"
   },
   {
    "duration": 6,
    "start_time": "2022-08-16T19:16:25.856Z"
   },
   {
    "duration": 122,
    "start_time": "2022-08-16T19:16:25.864Z"
   },
   {
    "duration": 6,
    "start_time": "2022-08-16T19:16:25.988Z"
   },
   {
    "duration": 168,
    "start_time": "2022-08-16T19:16:25.995Z"
   },
   {
    "duration": 6,
    "start_time": "2022-08-16T19:16:26.164Z"
   },
   {
    "duration": 218,
    "start_time": "2022-08-16T19:16:26.171Z"
   },
   {
    "duration": 6,
    "start_time": "2022-08-16T19:16:26.390Z"
   },
   {
    "duration": 157,
    "start_time": "2022-08-16T19:16:26.398Z"
   },
   {
    "duration": 6,
    "start_time": "2022-08-16T19:16:26.556Z"
   },
   {
    "duration": 156,
    "start_time": "2022-08-16T19:16:26.563Z"
   },
   {
    "duration": 5,
    "start_time": "2022-08-16T19:16:26.721Z"
   },
   {
    "duration": 168,
    "start_time": "2022-08-16T19:16:26.727Z"
   },
   {
    "duration": 4,
    "start_time": "2022-08-16T19:16:26.897Z"
   },
   {
    "duration": 310,
    "start_time": "2022-08-16T19:16:26.902Z"
   },
   {
    "duration": 5,
    "start_time": "2022-08-16T19:16:27.213Z"
   },
   {
    "duration": 187,
    "start_time": "2022-08-16T19:16:27.219Z"
   },
   {
    "duration": 7,
    "start_time": "2022-08-16T19:16:27.407Z"
   },
   {
    "duration": 139,
    "start_time": "2022-08-16T19:16:27.416Z"
   },
   {
    "duration": 5,
    "start_time": "2022-08-16T19:16:27.556Z"
   },
   {
    "duration": 168,
    "start_time": "2022-08-16T19:16:27.562Z"
   },
   {
    "duration": 4,
    "start_time": "2022-08-16T19:16:27.732Z"
   },
   {
    "duration": 157,
    "start_time": "2022-08-16T19:16:27.738Z"
   },
   {
    "duration": 6,
    "start_time": "2022-08-16T19:16:27.900Z"
   },
   {
    "duration": 142,
    "start_time": "2022-08-16T19:16:27.911Z"
   },
   {
    "duration": 5,
    "start_time": "2022-08-16T19:16:28.055Z"
   },
   {
    "duration": 134,
    "start_time": "2022-08-16T19:16:28.062Z"
   },
   {
    "duration": 122,
    "start_time": "2022-08-16T19:16:28.198Z"
   },
   {
    "duration": 5,
    "start_time": "2022-08-16T19:16:28.322Z"
   },
   {
    "duration": 128,
    "start_time": "2022-08-16T19:16:28.339Z"
   },
   {
    "duration": 5,
    "start_time": "2022-08-16T19:16:28.469Z"
   },
   {
    "duration": 146,
    "start_time": "2022-08-16T19:16:28.475Z"
   },
   {
    "duration": 5,
    "start_time": "2022-08-16T19:16:28.622Z"
   },
   {
    "duration": 136,
    "start_time": "2022-08-16T19:16:28.638Z"
   },
   {
    "duration": 5,
    "start_time": "2022-08-16T19:16:28.776Z"
   },
   {
    "duration": 7,
    "start_time": "2022-08-16T19:16:28.782Z"
   },
   {
    "duration": 28,
    "start_time": "2022-08-16T19:16:28.791Z"
   },
   {
    "duration": 19,
    "start_time": "2022-08-16T19:16:28.820Z"
   },
   {
    "duration": 14,
    "start_time": "2022-08-16T19:16:28.840Z"
   },
   {
    "duration": 14,
    "start_time": "2022-08-16T19:16:28.856Z"
   },
   {
    "duration": 6,
    "start_time": "2022-08-16T19:16:28.872Z"
   },
   {
    "duration": 19,
    "start_time": "2022-08-16T19:16:28.880Z"
   },
   {
    "duration": 196,
    "start_time": "2022-08-16T19:16:28.901Z"
   },
   {
    "duration": 16,
    "start_time": "2022-08-16T19:16:29.099Z"
   },
   {
    "duration": 3,
    "start_time": "2022-08-16T19:16:29.117Z"
   },
   {
    "duration": 131,
    "start_time": "2022-08-16T19:26:32.029Z"
   },
   {
    "duration": 49,
    "start_time": "2022-08-17T08:43:34.743Z"
   },
   {
    "duration": 1058,
    "start_time": "2022-08-17T08:43:59.793Z"
   },
   {
    "duration": 203,
    "start_time": "2022-08-17T08:44:00.855Z"
   },
   {
    "duration": 59,
    "start_time": "2022-08-17T08:44:01.060Z"
   },
   {
    "duration": 2524,
    "start_time": "2022-08-17T08:44:01.121Z"
   },
   {
    "duration": 28,
    "start_time": "2022-08-17T08:44:03.648Z"
   },
   {
    "duration": 46,
    "start_time": "2022-08-17T08:44:04.798Z"
   },
   {
    "duration": 57,
    "start_time": "2022-08-17T08:44:22.480Z"
   },
   {
    "duration": 17,
    "start_time": "2022-08-17T08:52:10.627Z"
   },
   {
    "duration": 13,
    "start_time": "2022-08-17T08:52:29.306Z"
   },
   {
    "duration": 2,
    "start_time": "2022-08-17T08:52:36.955Z"
   },
   {
    "duration": 113,
    "start_time": "2022-08-17T08:52:36.959Z"
   },
   {
    "duration": 46,
    "start_time": "2022-08-17T08:52:37.074Z"
   },
   {
    "duration": 2027,
    "start_time": "2022-08-17T08:52:37.121Z"
   },
   {
    "duration": 24,
    "start_time": "2022-08-17T08:52:39.150Z"
   },
   {
    "duration": 18,
    "start_time": "2022-08-17T08:52:39.176Z"
   },
   {
    "duration": 24,
    "start_time": "2022-08-17T08:52:39.196Z"
   },
   {
    "duration": 9,
    "start_time": "2022-08-17T08:52:39.222Z"
   },
   {
    "duration": 36,
    "start_time": "2022-08-17T08:52:39.233Z"
   },
   {
    "duration": 5,
    "start_time": "2022-08-17T08:52:39.270Z"
   },
   {
    "duration": 5,
    "start_time": "2022-08-17T08:52:39.278Z"
   },
   {
    "duration": 12,
    "start_time": "2022-08-17T08:52:39.284Z"
   },
   {
    "duration": 5,
    "start_time": "2022-08-17T08:52:39.298Z"
   },
   {
    "duration": 7,
    "start_time": "2022-08-17T08:52:39.305Z"
   },
   {
    "duration": 74,
    "start_time": "2022-08-17T08:52:39.314Z"
   },
   {
    "duration": 7,
    "start_time": "2022-08-17T08:52:39.389Z"
   },
   {
    "duration": 158,
    "start_time": "2022-08-17T08:52:39.398Z"
   },
   {
    "duration": 17,
    "start_time": "2022-08-17T08:52:39.559Z"
   },
   {
    "duration": 141,
    "start_time": "2022-08-17T08:52:39.579Z"
   },
   {
    "duration": 119,
    "start_time": "2022-08-17T08:52:39.722Z"
   },
   {
    "duration": 35,
    "start_time": "2022-08-17T08:52:39.842Z"
   },
   {
    "duration": 144,
    "start_time": "2022-08-17T08:52:39.878Z"
   },
   {
    "duration": 25,
    "start_time": "2022-08-17T08:52:40.024Z"
   },
   {
    "duration": 132,
    "start_time": "2022-08-17T08:52:40.050Z"
   },
   {
    "duration": 36,
    "start_time": "2022-08-17T08:52:40.184Z"
   },
   {
    "duration": 6,
    "start_time": "2022-08-17T08:52:40.222Z"
   },
   {
    "duration": 155,
    "start_time": "2022-08-17T08:52:40.229Z"
   },
   {
    "duration": 245,
    "start_time": "2022-08-17T08:52:40.386Z"
   },
   {
    "duration": 35,
    "start_time": "2022-08-17T08:52:40.634Z"
   },
   {
    "duration": 139,
    "start_time": "2022-08-17T08:52:40.670Z"
   },
   {
    "duration": 32,
    "start_time": "2022-08-17T08:52:40.811Z"
   },
   {
    "duration": 133,
    "start_time": "2022-08-17T08:52:40.844Z"
   },
   {
    "duration": 41,
    "start_time": "2022-08-17T08:52:40.979Z"
   },
   {
    "duration": 6,
    "start_time": "2022-08-17T08:52:41.021Z"
   },
   {
    "duration": 15,
    "start_time": "2022-08-17T08:52:41.028Z"
   },
   {
    "duration": 3,
    "start_time": "2022-08-17T08:52:41.068Z"
   },
   {
    "duration": 9,
    "start_time": "2022-08-17T08:52:41.073Z"
   },
   {
    "duration": 6,
    "start_time": "2022-08-17T08:52:41.085Z"
   },
   {
    "duration": 10,
    "start_time": "2022-08-17T08:52:41.092Z"
   },
   {
    "duration": 5,
    "start_time": "2022-08-17T08:52:50.341Z"
   },
   {
    "duration": 17,
    "start_time": "2022-08-17T08:53:00.736Z"
   },
   {
    "duration": 4,
    "start_time": "2022-08-17T08:53:08.552Z"
   },
   {
    "duration": 4,
    "start_time": "2022-08-17T08:53:17.233Z"
   },
   {
    "duration": 4,
    "start_time": "2022-08-17T08:53:28.354Z"
   },
   {
    "duration": 12,
    "start_time": "2022-08-17T08:53:32.723Z"
   },
   {
    "duration": 6,
    "start_time": "2022-08-17T08:55:24.819Z"
   },
   {
    "duration": 2,
    "start_time": "2022-08-17T08:55:35.363Z"
   },
   {
    "duration": 102,
    "start_time": "2022-08-17T08:55:35.367Z"
   },
   {
    "duration": 54,
    "start_time": "2022-08-17T08:55:35.471Z"
   },
   {
    "duration": 2228,
    "start_time": "2022-08-17T08:55:35.527Z"
   },
   {
    "duration": 25,
    "start_time": "2022-08-17T08:55:37.758Z"
   },
   {
    "duration": 20,
    "start_time": "2022-08-17T08:55:37.785Z"
   },
   {
    "duration": 24,
    "start_time": "2022-08-17T08:55:37.807Z"
   },
   {
    "duration": 39,
    "start_time": "2022-08-17T08:55:37.832Z"
   },
   {
    "duration": 4,
    "start_time": "2022-08-17T08:55:37.873Z"
   },
   {
    "duration": 6,
    "start_time": "2022-08-17T08:55:37.879Z"
   },
   {
    "duration": 6,
    "start_time": "2022-08-17T08:55:37.888Z"
   },
   {
    "duration": 7,
    "start_time": "2022-08-17T08:55:37.896Z"
   },
   {
    "duration": 5,
    "start_time": "2022-08-17T08:55:37.905Z"
   },
   {
    "duration": 8,
    "start_time": "2022-08-17T08:55:37.912Z"
   },
   {
    "duration": 97,
    "start_time": "2022-08-17T08:55:37.922Z"
   },
   {
    "duration": 8,
    "start_time": "2022-08-17T08:55:38.021Z"
   },
   {
    "duration": 154,
    "start_time": "2022-08-17T08:55:38.031Z"
   },
   {
    "duration": 14,
    "start_time": "2022-08-17T08:55:38.187Z"
   },
   {
    "duration": 142,
    "start_time": "2022-08-17T08:55:38.203Z"
   },
   {
    "duration": 131,
    "start_time": "2022-08-17T08:55:38.347Z"
   },
   {
    "duration": 28,
    "start_time": "2022-08-17T08:55:38.480Z"
   },
   {
    "duration": 150,
    "start_time": "2022-08-17T08:55:38.510Z"
   },
   {
    "duration": 29,
    "start_time": "2022-08-17T08:55:38.662Z"
   },
   {
    "duration": 147,
    "start_time": "2022-08-17T08:55:38.693Z"
   },
   {
    "duration": 38,
    "start_time": "2022-08-17T08:55:38.842Z"
   },
   {
    "duration": 5,
    "start_time": "2022-08-17T08:55:38.882Z"
   },
   {
    "duration": 138,
    "start_time": "2022-08-17T08:55:38.888Z"
   },
   {
    "duration": 126,
    "start_time": "2022-08-17T08:55:39.028Z"
   },
   {
    "duration": 25,
    "start_time": "2022-08-17T08:55:39.167Z"
   },
   {
    "duration": 137,
    "start_time": "2022-08-17T08:55:39.194Z"
   },
   {
    "duration": 39,
    "start_time": "2022-08-17T08:55:39.333Z"
   },
   {
    "duration": 122,
    "start_time": "2022-08-17T08:55:39.374Z"
   },
   {
    "duration": 42,
    "start_time": "2022-08-17T08:55:39.498Z"
   },
   {
    "duration": 26,
    "start_time": "2022-08-17T08:55:39.542Z"
   },
   {
    "duration": 15,
    "start_time": "2022-08-17T08:55:39.570Z"
   },
   {
    "duration": 6,
    "start_time": "2022-08-17T08:55:39.587Z"
   },
   {
    "duration": 12,
    "start_time": "2022-08-17T08:55:39.595Z"
   },
   {
    "duration": 5,
    "start_time": "2022-08-17T08:55:39.609Z"
   },
   {
    "duration": 5,
    "start_time": "2022-08-17T08:55:39.616Z"
   },
   {
    "duration": 6,
    "start_time": "2022-08-17T08:55:39.622Z"
   },
   {
    "duration": 4,
    "start_time": "2022-08-17T08:55:39.630Z"
   },
   {
    "duration": 6,
    "start_time": "2022-08-17T08:55:39.669Z"
   },
   {
    "duration": 17,
    "start_time": "2022-08-17T08:55:39.676Z"
   },
   {
    "duration": 5,
    "start_time": "2022-08-17T08:56:28.227Z"
   },
   {
    "duration": 5,
    "start_time": "2022-08-17T08:56:30.347Z"
   },
   {
    "duration": 4,
    "start_time": "2022-08-17T08:56:31.057Z"
   },
   {
    "duration": 6,
    "start_time": "2022-08-17T08:56:31.524Z"
   },
   {
    "duration": 15,
    "start_time": "2022-08-17T08:56:32.690Z"
   },
   {
    "duration": 3,
    "start_time": "2022-08-17T08:56:37.126Z"
   },
   {
    "duration": 91,
    "start_time": "2022-08-17T08:56:37.131Z"
   },
   {
    "duration": 64,
    "start_time": "2022-08-17T08:56:37.224Z"
   },
   {
    "duration": 2153,
    "start_time": "2022-08-17T08:56:37.289Z"
   },
   {
    "duration": 14,
    "start_time": "2022-08-17T08:56:39.445Z"
   },
   {
    "duration": 16,
    "start_time": "2022-08-17T08:56:39.468Z"
   },
   {
    "duration": 21,
    "start_time": "2022-08-17T08:56:39.486Z"
   },
   {
    "duration": 10,
    "start_time": "2022-08-17T08:56:39.509Z"
   },
   {
    "duration": 8,
    "start_time": "2022-08-17T08:56:39.520Z"
   },
   {
    "duration": 6,
    "start_time": "2022-08-17T08:56:39.530Z"
   },
   {
    "duration": 31,
    "start_time": "2022-08-17T08:56:39.539Z"
   },
   {
    "duration": 7,
    "start_time": "2022-08-17T08:56:39.571Z"
   },
   {
    "duration": 5,
    "start_time": "2022-08-17T08:56:39.579Z"
   },
   {
    "duration": 6,
    "start_time": "2022-08-17T08:56:39.586Z"
   },
   {
    "duration": 49,
    "start_time": "2022-08-17T08:56:39.594Z"
   },
   {
    "duration": 8,
    "start_time": "2022-08-17T08:56:39.668Z"
   },
   {
    "duration": 128,
    "start_time": "2022-08-17T08:56:39.678Z"
   },
   {
    "duration": 12,
    "start_time": "2022-08-17T08:56:39.808Z"
   },
   {
    "duration": 134,
    "start_time": "2022-08-17T08:56:39.821Z"
   },
   {
    "duration": 122,
    "start_time": "2022-08-17T08:56:39.967Z"
   },
   {
    "duration": 23,
    "start_time": "2022-08-17T08:56:40.091Z"
   },
   {
    "duration": 143,
    "start_time": "2022-08-17T08:56:40.115Z"
   },
   {
    "duration": 26,
    "start_time": "2022-08-17T08:56:40.267Z"
   },
   {
    "duration": 140,
    "start_time": "2022-08-17T08:56:40.295Z"
   },
   {
    "duration": 39,
    "start_time": "2022-08-17T08:56:40.437Z"
   },
   {
    "duration": 5,
    "start_time": "2022-08-17T08:56:40.477Z"
   },
   {
    "duration": 153,
    "start_time": "2022-08-17T08:56:40.484Z"
   },
   {
    "duration": 152,
    "start_time": "2022-08-17T08:56:40.638Z"
   },
   {
    "duration": 26,
    "start_time": "2022-08-17T08:56:40.793Z"
   },
   {
    "duration": 140,
    "start_time": "2022-08-17T08:56:40.821Z"
   },
   {
    "duration": 31,
    "start_time": "2022-08-17T08:56:40.968Z"
   },
   {
    "duration": 120,
    "start_time": "2022-08-17T08:56:41.001Z"
   },
   {
    "duration": 48,
    "start_time": "2022-08-17T08:56:41.122Z"
   },
   {
    "duration": 5,
    "start_time": "2022-08-17T08:56:41.172Z"
   },
   {
    "duration": 14,
    "start_time": "2022-08-17T08:56:41.178Z"
   },
   {
    "duration": 4,
    "start_time": "2022-08-17T08:56:41.193Z"
   },
   {
    "duration": 10,
    "start_time": "2022-08-17T08:56:41.199Z"
   },
   {
    "duration": 5,
    "start_time": "2022-08-17T08:56:41.210Z"
   },
   {
    "duration": 8,
    "start_time": "2022-08-17T08:56:41.217Z"
   },
   {
    "duration": 7,
    "start_time": "2022-08-17T08:56:41.227Z"
   },
   {
    "duration": 35,
    "start_time": "2022-08-17T08:56:41.236Z"
   },
   {
    "duration": 4,
    "start_time": "2022-08-17T08:56:41.273Z"
   },
   {
    "duration": 10,
    "start_time": "2022-08-17T08:56:41.278Z"
   },
   {
    "duration": 16,
    "start_time": "2022-08-17T08:56:41.290Z"
   },
   {
    "duration": 79,
    "start_time": "2022-08-17T08:58:12.705Z"
   },
   {
    "duration": 19,
    "start_time": "2022-08-17T09:10:22.885Z"
   },
   {
    "duration": 7,
    "start_time": "2022-08-17T09:11:16.843Z"
   },
   {
    "duration": 7,
    "start_time": "2022-08-17T09:11:44.521Z"
   },
   {
    "duration": 6,
    "start_time": "2022-08-17T09:11:50.704Z"
   },
   {
    "duration": 3,
    "start_time": "2022-08-17T09:12:35.325Z"
   },
   {
    "duration": 99,
    "start_time": "2022-08-17T09:12:35.330Z"
   },
   {
    "duration": 64,
    "start_time": "2022-08-17T09:12:35.430Z"
   },
   {
    "duration": 2237,
    "start_time": "2022-08-17T09:12:35.496Z"
   },
   {
    "duration": 14,
    "start_time": "2022-08-17T09:12:37.736Z"
   },
   {
    "duration": 30,
    "start_time": "2022-08-17T09:12:37.752Z"
   },
   {
    "duration": 21,
    "start_time": "2022-08-17T09:12:37.783Z"
   },
   {
    "duration": 9,
    "start_time": "2022-08-17T09:12:37.806Z"
   },
   {
    "duration": 8,
    "start_time": "2022-08-17T09:12:37.816Z"
   },
   {
    "duration": 8,
    "start_time": "2022-08-17T09:12:37.826Z"
   },
   {
    "duration": 36,
    "start_time": "2022-08-17T09:12:37.838Z"
   },
   {
    "duration": 8,
    "start_time": "2022-08-17T09:12:37.876Z"
   },
   {
    "duration": 7,
    "start_time": "2022-08-17T09:12:37.885Z"
   },
   {
    "duration": 9,
    "start_time": "2022-08-17T09:12:37.893Z"
   },
   {
    "duration": 77,
    "start_time": "2022-08-17T09:12:37.904Z"
   },
   {
    "duration": 7,
    "start_time": "2022-08-17T09:12:37.983Z"
   },
   {
    "duration": 154,
    "start_time": "2022-08-17T09:12:37.992Z"
   },
   {
    "duration": 26,
    "start_time": "2022-08-17T09:12:38.148Z"
   },
   {
    "duration": 134,
    "start_time": "2022-08-17T09:12:38.176Z"
   },
   {
    "duration": 127,
    "start_time": "2022-08-17T09:12:38.312Z"
   },
   {
    "duration": 41,
    "start_time": "2022-08-17T09:12:38.440Z"
   },
   {
    "duration": 141,
    "start_time": "2022-08-17T09:12:38.483Z"
   },
   {
    "duration": 25,
    "start_time": "2022-08-17T09:12:38.626Z"
   },
   {
    "duration": 136,
    "start_time": "2022-08-17T09:12:38.653Z"
   },
   {
    "duration": 25,
    "start_time": "2022-08-17T09:12:38.791Z"
   },
   {
    "duration": 6,
    "start_time": "2022-08-17T09:12:38.818Z"
   },
   {
    "duration": 153,
    "start_time": "2022-08-17T09:12:38.826Z"
   },
   {
    "duration": 144,
    "start_time": "2022-08-17T09:12:38.981Z"
   },
   {
    "duration": 29,
    "start_time": "2022-08-17T09:12:39.128Z"
   },
   {
    "duration": 153,
    "start_time": "2022-08-17T09:12:39.159Z"
   },
   {
    "duration": 35,
    "start_time": "2022-08-17T09:12:39.315Z"
   },
   {
    "duration": 136,
    "start_time": "2022-08-17T09:12:39.351Z"
   },
   {
    "duration": 41,
    "start_time": "2022-08-17T09:12:39.490Z"
   },
   {
    "duration": 7,
    "start_time": "2022-08-17T09:12:39.532Z"
   },
   {
    "duration": 38,
    "start_time": "2022-08-17T09:12:39.541Z"
   },
   {
    "duration": 8,
    "start_time": "2022-08-17T09:12:39.581Z"
   },
   {
    "duration": 11,
    "start_time": "2022-08-17T09:12:39.590Z"
   },
   {
    "duration": 6,
    "start_time": "2022-08-17T09:12:39.602Z"
   },
   {
    "duration": 7,
    "start_time": "2022-08-17T09:12:39.609Z"
   },
   {
    "duration": 6,
    "start_time": "2022-08-17T09:12:39.618Z"
   },
   {
    "duration": 43,
    "start_time": "2022-08-17T09:12:39.625Z"
   },
   {
    "duration": 5,
    "start_time": "2022-08-17T09:12:39.669Z"
   },
   {
    "duration": 8,
    "start_time": "2022-08-17T09:12:39.676Z"
   },
   {
    "duration": 22,
    "start_time": "2022-08-17T09:12:39.686Z"
   },
   {
    "duration": 4,
    "start_time": "2022-08-17T09:12:39.710Z"
   },
   {
    "duration": 13,
    "start_time": "2022-08-17T09:12:39.716Z"
   },
   {
    "duration": 37,
    "start_time": "2022-08-17T09:12:39.731Z"
   },
   {
    "duration": 6,
    "start_time": "2022-08-17T09:12:39.769Z"
   },
   {
    "duration": 5,
    "start_time": "2022-08-17T09:12:39.777Z"
   },
   {
    "duration": 195,
    "start_time": "2022-08-17T09:13:17.779Z"
   },
   {
    "duration": 218,
    "start_time": "2022-08-17T09:16:25.717Z"
   },
   {
    "duration": 104,
    "start_time": "2022-08-17T09:17:43.216Z"
   },
   {
    "duration": 167,
    "start_time": "2022-08-17T09:17:47.130Z"
   },
   {
    "duration": 8,
    "start_time": "2022-08-17T09:17:58.057Z"
   },
   {
    "duration": 248,
    "start_time": "2022-08-17T09:19:58.848Z"
   },
   {
    "duration": 238,
    "start_time": "2022-08-17T09:20:13.148Z"
   },
   {
    "duration": 86,
    "start_time": "2022-08-17T09:26:41.872Z"
   },
   {
    "duration": 4,
    "start_time": "2022-08-17T09:49:27.491Z"
   },
   {
    "duration": 110,
    "start_time": "2022-08-17T09:49:27.497Z"
   },
   {
    "duration": 66,
    "start_time": "2022-08-17T09:49:27.609Z"
   },
   {
    "duration": 2226,
    "start_time": "2022-08-17T09:49:27.677Z"
   },
   {
    "duration": 14,
    "start_time": "2022-08-17T09:49:29.906Z"
   },
   {
    "duration": 17,
    "start_time": "2022-08-17T09:49:29.921Z"
   },
   {
    "duration": 44,
    "start_time": "2022-08-17T09:49:29.939Z"
   },
   {
    "duration": 11,
    "start_time": "2022-08-17T09:49:29.985Z"
   },
   {
    "duration": 10,
    "start_time": "2022-08-17T09:49:29.998Z"
   },
   {
    "duration": 11,
    "start_time": "2022-08-17T09:49:30.010Z"
   },
   {
    "duration": 11,
    "start_time": "2022-08-17T09:49:30.025Z"
   },
   {
    "duration": 9,
    "start_time": "2022-08-17T09:49:30.038Z"
   },
   {
    "duration": 20,
    "start_time": "2022-08-17T09:49:30.049Z"
   },
   {
    "duration": 5,
    "start_time": "2022-08-17T09:49:30.071Z"
   },
   {
    "duration": 49,
    "start_time": "2022-08-17T09:49:30.078Z"
   },
   {
    "duration": 7,
    "start_time": "2022-08-17T09:49:30.129Z"
   },
   {
    "duration": 149,
    "start_time": "2022-08-17T09:49:30.137Z"
   },
   {
    "duration": 13,
    "start_time": "2022-08-17T09:49:30.288Z"
   },
   {
    "duration": 135,
    "start_time": "2022-08-17T09:49:30.302Z"
   },
   {
    "duration": 117,
    "start_time": "2022-08-17T09:49:30.439Z"
   },
   {
    "duration": 31,
    "start_time": "2022-08-17T09:49:30.558Z"
   },
   {
    "duration": 145,
    "start_time": "2022-08-17T09:49:30.591Z"
   },
   {
    "duration": 33,
    "start_time": "2022-08-17T09:49:30.738Z"
   },
   {
    "duration": 127,
    "start_time": "2022-08-17T09:49:30.773Z"
   },
   {
    "duration": 27,
    "start_time": "2022-08-17T09:49:30.901Z"
   },
   {
    "duration": 9,
    "start_time": "2022-08-17T09:49:30.929Z"
   },
   {
    "duration": 146,
    "start_time": "2022-08-17T09:49:30.940Z"
   },
   {
    "duration": 131,
    "start_time": "2022-08-17T09:49:31.087Z"
   },
   {
    "duration": 26,
    "start_time": "2022-08-17T09:49:31.222Z"
   },
   {
    "duration": 150,
    "start_time": "2022-08-17T09:49:31.250Z"
   },
   {
    "duration": 29,
    "start_time": "2022-08-17T09:49:31.401Z"
   },
   {
    "duration": 128,
    "start_time": "2022-08-17T09:49:31.431Z"
   },
   {
    "duration": 45,
    "start_time": "2022-08-17T09:49:31.567Z"
   },
   {
    "duration": 7,
    "start_time": "2022-08-17T09:49:31.614Z"
   },
   {
    "duration": 20,
    "start_time": "2022-08-17T09:49:31.622Z"
   },
   {
    "duration": 26,
    "start_time": "2022-08-17T09:49:31.644Z"
   },
   {
    "duration": 13,
    "start_time": "2022-08-17T09:49:31.671Z"
   },
   {
    "duration": 12,
    "start_time": "2022-08-17T09:49:31.686Z"
   },
   {
    "duration": 12,
    "start_time": "2022-08-17T09:49:31.700Z"
   },
   {
    "duration": 7,
    "start_time": "2022-08-17T09:49:31.713Z"
   },
   {
    "duration": 8,
    "start_time": "2022-08-17T09:49:31.721Z"
   },
   {
    "duration": 4,
    "start_time": "2022-08-17T09:49:31.731Z"
   },
   {
    "duration": 8,
    "start_time": "2022-08-17T09:49:31.737Z"
   },
   {
    "duration": 32,
    "start_time": "2022-08-17T09:49:31.746Z"
   },
   {
    "duration": 5,
    "start_time": "2022-08-17T09:49:31.780Z"
   },
   {
    "duration": 10,
    "start_time": "2022-08-17T09:49:31.786Z"
   },
   {
    "duration": 7,
    "start_time": "2022-08-17T09:49:31.797Z"
   },
   {
    "duration": 6,
    "start_time": "2022-08-17T09:49:31.806Z"
   },
   {
    "duration": 7,
    "start_time": "2022-08-17T09:49:31.814Z"
   },
   {
    "duration": 402,
    "start_time": "2022-08-17T09:49:31.823Z"
   },
   {
    "duration": 4,
    "start_time": "2022-08-17T09:49:32.227Z"
   },
   {
    "duration": 186,
    "start_time": "2022-08-17T09:49:32.232Z"
   },
   {
    "duration": 6,
    "start_time": "2022-08-17T09:49:32.420Z"
   },
   {
    "duration": 198,
    "start_time": "2022-08-17T09:49:32.427Z"
   },
   {
    "duration": 6,
    "start_time": "2022-08-17T09:49:32.626Z"
   },
   {
    "duration": 212,
    "start_time": "2022-08-17T09:49:32.634Z"
   },
   {
    "duration": 19,
    "start_time": "2022-08-17T09:49:32.848Z"
   },
   {
    "duration": 225,
    "start_time": "2022-08-17T09:49:32.870Z"
   },
   {
    "duration": 6,
    "start_time": "2022-08-17T09:49:33.097Z"
   },
   {
    "duration": 155,
    "start_time": "2022-08-17T09:49:33.104Z"
   },
   {
    "duration": 6,
    "start_time": "2022-08-17T09:49:33.267Z"
   },
   {
    "duration": 162,
    "start_time": "2022-08-17T09:49:33.275Z"
   },
   {
    "duration": 7,
    "start_time": "2022-08-17T09:49:33.439Z"
   },
   {
    "duration": 449,
    "start_time": "2022-08-17T09:49:33.448Z"
   },
   {
    "duration": 5,
    "start_time": "2022-08-17T09:49:33.899Z"
   },
   {
    "duration": 135,
    "start_time": "2022-08-17T09:49:33.906Z"
   },
   {
    "duration": 7,
    "start_time": "2022-08-17T09:49:34.043Z"
   },
   {
    "duration": 189,
    "start_time": "2022-08-17T09:49:34.052Z"
   },
   {
    "duration": 6,
    "start_time": "2022-08-17T09:49:34.242Z"
   },
   {
    "duration": 271,
    "start_time": "2022-08-17T09:49:34.251Z"
   },
   {
    "duration": 8,
    "start_time": "2022-08-17T09:49:34.524Z"
   },
   {
    "duration": 216,
    "start_time": "2022-08-17T09:49:34.533Z"
   },
   {
    "duration": 16,
    "start_time": "2022-08-17T09:49:34.751Z"
   },
   {
    "duration": 204,
    "start_time": "2022-08-17T09:49:34.770Z"
   },
   {
    "duration": 6,
    "start_time": "2022-08-17T09:49:34.976Z"
   },
   {
    "duration": 197,
    "start_time": "2022-08-17T09:49:34.984Z"
   },
   {
    "duration": 5,
    "start_time": "2022-08-17T09:49:35.183Z"
   },
   {
    "duration": 383,
    "start_time": "2022-08-17T09:49:35.189Z"
   },
   {
    "duration": 6,
    "start_time": "2022-08-17T09:49:35.574Z"
   },
   {
    "duration": 203,
    "start_time": "2022-08-17T09:49:35.581Z"
   },
   {
    "duration": 7,
    "start_time": "2022-08-17T09:49:35.786Z"
   },
   {
    "duration": 158,
    "start_time": "2022-08-17T09:49:35.795Z"
   },
   {
    "duration": 11,
    "start_time": "2022-08-17T09:49:35.959Z"
   },
   {
    "duration": 175,
    "start_time": "2022-08-17T09:49:35.971Z"
   },
   {
    "duration": 5,
    "start_time": "2022-08-17T09:49:36.147Z"
   },
   {
    "duration": 159,
    "start_time": "2022-08-17T09:49:36.153Z"
   },
   {
    "duration": 5,
    "start_time": "2022-08-17T09:49:36.313Z"
   },
   {
    "duration": 170,
    "start_time": "2022-08-17T09:49:36.320Z"
   },
   {
    "duration": 13,
    "start_time": "2022-08-17T09:49:36.491Z"
   },
   {
    "duration": 196,
    "start_time": "2022-08-17T09:49:36.506Z"
   },
   {
    "duration": 187,
    "start_time": "2022-08-17T09:49:36.704Z"
   },
   {
    "duration": 6,
    "start_time": "2022-08-17T09:49:36.892Z"
   },
   {
    "duration": 170,
    "start_time": "2022-08-17T09:49:36.899Z"
   },
   {
    "duration": 5,
    "start_time": "2022-08-17T09:49:37.071Z"
   },
   {
    "duration": 190,
    "start_time": "2022-08-17T09:49:37.078Z"
   },
   {
    "duration": 14,
    "start_time": "2022-08-17T09:49:37.269Z"
   },
   {
    "duration": 0,
    "start_time": "2022-08-17T09:49:37.286Z"
   },
   {
    "duration": 0,
    "start_time": "2022-08-17T09:49:37.287Z"
   },
   {
    "duration": 0,
    "start_time": "2022-08-17T09:49:37.288Z"
   },
   {
    "duration": 0,
    "start_time": "2022-08-17T09:49:37.290Z"
   },
   {
    "duration": 0,
    "start_time": "2022-08-17T09:49:37.291Z"
   },
   {
    "duration": 0,
    "start_time": "2022-08-17T09:49:37.293Z"
   },
   {
    "duration": 0,
    "start_time": "2022-08-17T09:49:37.295Z"
   },
   {
    "duration": 0,
    "start_time": "2022-08-17T09:49:37.296Z"
   },
   {
    "duration": 0,
    "start_time": "2022-08-17T09:49:37.297Z"
   },
   {
    "duration": 0,
    "start_time": "2022-08-17T09:49:37.298Z"
   },
   {
    "duration": 0,
    "start_time": "2022-08-17T09:49:37.299Z"
   },
   {
    "duration": 0,
    "start_time": "2022-08-17T09:49:37.301Z"
   },
   {
    "duration": 769,
    "start_time": "2022-08-17T12:58:48.881Z"
   },
   {
    "duration": 93,
    "start_time": "2022-08-17T12:58:49.653Z"
   },
   {
    "duration": 58,
    "start_time": "2022-08-17T12:58:49.747Z"
   },
   {
    "duration": 2103,
    "start_time": "2022-08-17T12:58:49.807Z"
   },
   {
    "duration": 18,
    "start_time": "2022-08-17T12:58:51.912Z"
   },
   {
    "duration": 72,
    "start_time": "2022-08-17T12:58:51.932Z"
   },
   {
    "duration": 25,
    "start_time": "2022-08-17T12:58:52.006Z"
   },
   {
    "duration": 12,
    "start_time": "2022-08-17T12:58:52.033Z"
   },
   {
    "duration": 10,
    "start_time": "2022-08-17T12:58:52.047Z"
   },
   {
    "duration": 28,
    "start_time": "2022-08-17T12:58:52.058Z"
   },
   {
    "duration": 15,
    "start_time": "2022-08-17T12:58:52.088Z"
   },
   {
    "duration": 26,
    "start_time": "2022-08-17T12:58:52.105Z"
   },
   {
    "duration": 29,
    "start_time": "2022-08-17T12:58:52.133Z"
   },
   {
    "duration": 16,
    "start_time": "2022-08-17T12:58:52.167Z"
   },
   {
    "duration": 68,
    "start_time": "2022-08-17T12:58:52.185Z"
   },
   {
    "duration": 7,
    "start_time": "2022-08-17T12:58:52.254Z"
   },
   {
    "duration": 155,
    "start_time": "2022-08-17T12:58:52.263Z"
   },
   {
    "duration": 13,
    "start_time": "2022-08-17T12:58:52.420Z"
   },
   {
    "duration": 138,
    "start_time": "2022-08-17T12:58:52.435Z"
   },
   {
    "duration": 146,
    "start_time": "2022-08-17T12:58:52.575Z"
   },
   {
    "duration": 25,
    "start_time": "2022-08-17T12:58:52.722Z"
   },
   {
    "duration": 156,
    "start_time": "2022-08-17T12:58:52.749Z"
   },
   {
    "duration": 27,
    "start_time": "2022-08-17T12:58:52.907Z"
   },
   {
    "duration": 150,
    "start_time": "2022-08-17T12:58:52.936Z"
   },
   {
    "duration": 36,
    "start_time": "2022-08-17T12:58:53.088Z"
   },
   {
    "duration": 8,
    "start_time": "2022-08-17T12:58:53.126Z"
   },
   {
    "duration": 221,
    "start_time": "2022-08-17T12:58:53.136Z"
   },
   {
    "duration": 154,
    "start_time": "2022-08-17T12:58:53.359Z"
   },
   {
    "duration": 28,
    "start_time": "2022-08-17T12:58:53.516Z"
   },
   {
    "duration": 143,
    "start_time": "2022-08-17T12:58:53.546Z"
   },
   {
    "duration": 41,
    "start_time": "2022-08-17T12:58:53.691Z"
   },
   {
    "duration": 121,
    "start_time": "2022-08-17T12:58:53.733Z"
   },
   {
    "duration": 48,
    "start_time": "2022-08-17T12:58:53.856Z"
   },
   {
    "duration": 6,
    "start_time": "2022-08-17T12:58:53.905Z"
   },
   {
    "duration": 17,
    "start_time": "2022-08-17T12:58:53.913Z"
   },
   {
    "duration": 4,
    "start_time": "2022-08-17T12:58:53.931Z"
   },
   {
    "duration": 17,
    "start_time": "2022-08-17T12:58:53.936Z"
   },
   {
    "duration": 14,
    "start_time": "2022-08-17T12:58:53.955Z"
   },
   {
    "duration": 8,
    "start_time": "2022-08-17T12:58:53.971Z"
   },
   {
    "duration": 26,
    "start_time": "2022-08-17T12:58:53.980Z"
   },
   {
    "duration": 11,
    "start_time": "2022-08-17T12:58:54.011Z"
   },
   {
    "duration": 7,
    "start_time": "2022-08-17T12:58:54.023Z"
   },
   {
    "duration": 7,
    "start_time": "2022-08-17T12:58:54.032Z"
   },
   {
    "duration": 16,
    "start_time": "2022-08-17T12:58:54.041Z"
   },
   {
    "duration": 5,
    "start_time": "2022-08-17T12:58:54.059Z"
   },
   {
    "duration": 38,
    "start_time": "2022-08-17T12:58:54.065Z"
   },
   {
    "duration": 5,
    "start_time": "2022-08-17T12:58:54.105Z"
   },
   {
    "duration": 8,
    "start_time": "2022-08-17T12:58:54.112Z"
   },
   {
    "duration": 9,
    "start_time": "2022-08-17T12:58:54.121Z"
   },
   {
    "duration": 429,
    "start_time": "2022-08-17T12:58:54.132Z"
   },
   {
    "duration": 5,
    "start_time": "2022-08-17T12:58:54.563Z"
   },
   {
    "duration": 205,
    "start_time": "2022-08-17T12:58:54.570Z"
   },
   {
    "duration": 7,
    "start_time": "2022-08-17T12:58:54.777Z"
   },
   {
    "duration": 299,
    "start_time": "2022-08-17T12:58:54.786Z"
   },
   {
    "duration": 18,
    "start_time": "2022-08-17T12:58:55.086Z"
   },
   {
    "duration": 218,
    "start_time": "2022-08-17T12:58:55.106Z"
   },
   {
    "duration": 7,
    "start_time": "2022-08-17T12:58:55.326Z"
   },
   {
    "duration": 241,
    "start_time": "2022-08-17T12:58:55.334Z"
   },
   {
    "duration": 6,
    "start_time": "2022-08-17T12:58:55.577Z"
   },
   {
    "duration": 171,
    "start_time": "2022-08-17T12:58:55.585Z"
   },
   {
    "duration": 5,
    "start_time": "2022-08-17T12:58:55.757Z"
   },
   {
    "duration": 196,
    "start_time": "2022-08-17T12:58:55.765Z"
   },
   {
    "duration": 8,
    "start_time": "2022-08-17T12:58:55.963Z"
   },
   {
    "duration": 223,
    "start_time": "2022-08-17T12:58:55.974Z"
   },
   {
    "duration": 6,
    "start_time": "2022-08-17T12:58:56.199Z"
   },
   {
    "duration": 143,
    "start_time": "2022-08-17T12:58:56.207Z"
   },
   {
    "duration": 7,
    "start_time": "2022-08-17T12:58:56.351Z"
   },
   {
    "duration": 204,
    "start_time": "2022-08-17T12:58:56.359Z"
   },
   {
    "duration": 6,
    "start_time": "2022-08-17T12:58:56.565Z"
   },
   {
    "duration": 374,
    "start_time": "2022-08-17T12:58:56.573Z"
   },
   {
    "duration": 6,
    "start_time": "2022-08-17T12:58:56.950Z"
   },
   {
    "duration": 194,
    "start_time": "2022-08-17T12:58:56.958Z"
   },
   {
    "duration": 7,
    "start_time": "2022-08-17T12:58:57.154Z"
   },
   {
    "duration": 198,
    "start_time": "2022-08-17T12:58:57.162Z"
   },
   {
    "duration": 6,
    "start_time": "2022-08-17T12:58:57.361Z"
   },
   {
    "duration": 209,
    "start_time": "2022-08-17T12:58:57.369Z"
   },
   {
    "duration": 6,
    "start_time": "2022-08-17T12:58:57.580Z"
   },
   {
    "duration": 403,
    "start_time": "2022-08-17T12:58:57.587Z"
   },
   {
    "duration": 15,
    "start_time": "2022-08-17T12:58:57.992Z"
   },
   {
    "duration": 210,
    "start_time": "2022-08-17T12:58:58.009Z"
   },
   {
    "duration": 8,
    "start_time": "2022-08-17T12:58:58.221Z"
   },
   {
    "duration": 176,
    "start_time": "2022-08-17T12:58:58.230Z"
   },
   {
    "duration": 6,
    "start_time": "2022-08-17T12:58:58.407Z"
   },
   {
    "duration": 209,
    "start_time": "2022-08-17T12:58:58.415Z"
   },
   {
    "duration": 6,
    "start_time": "2022-08-17T12:58:58.625Z"
   },
   {
    "duration": 175,
    "start_time": "2022-08-17T12:58:58.633Z"
   },
   {
    "duration": 7,
    "start_time": "2022-08-17T12:58:58.810Z"
   },
   {
    "duration": 217,
    "start_time": "2022-08-17T12:58:58.819Z"
   },
   {
    "duration": 7,
    "start_time": "2022-08-17T12:58:59.038Z"
   },
   {
    "duration": 206,
    "start_time": "2022-08-17T12:58:59.047Z"
   },
   {
    "duration": 291,
    "start_time": "2022-08-17T12:58:59.255Z"
   },
   {
    "duration": 6,
    "start_time": "2022-08-17T12:58:59.547Z"
   },
   {
    "duration": 195,
    "start_time": "2022-08-17T12:58:59.555Z"
   },
   {
    "duration": 5,
    "start_time": "2022-08-17T12:58:59.752Z"
   },
   {
    "duration": 195,
    "start_time": "2022-08-17T12:58:59.759Z"
   },
   {
    "duration": 89,
    "start_time": "2022-08-17T12:58:59.956Z"
   },
   {
    "duration": 0,
    "start_time": "2022-08-17T12:59:00.047Z"
   },
   {
    "duration": 0,
    "start_time": "2022-08-17T12:59:00.049Z"
   },
   {
    "duration": 0,
    "start_time": "2022-08-17T12:59:00.051Z"
   },
   {
    "duration": 0,
    "start_time": "2022-08-17T12:59:00.052Z"
   },
   {
    "duration": 0,
    "start_time": "2022-08-17T12:59:00.053Z"
   },
   {
    "duration": 0,
    "start_time": "2022-08-17T12:59:00.054Z"
   },
   {
    "duration": 0,
    "start_time": "2022-08-17T12:59:00.055Z"
   },
   {
    "duration": 0,
    "start_time": "2022-08-17T12:59:00.057Z"
   },
   {
    "duration": 0,
    "start_time": "2022-08-17T12:59:00.058Z"
   },
   {
    "duration": 0,
    "start_time": "2022-08-17T12:59:00.059Z"
   },
   {
    "duration": 0,
    "start_time": "2022-08-17T12:59:00.061Z"
   },
   {
    "duration": 0,
    "start_time": "2022-08-17T12:59:00.062Z"
   },
   {
    "duration": 196,
    "start_time": "2022-08-17T13:00:13.169Z"
   },
   {
    "duration": 204,
    "start_time": "2022-08-17T13:00:15.535Z"
   },
   {
    "duration": 181,
    "start_time": "2022-08-17T13:04:10.723Z"
   },
   {
    "duration": 6,
    "start_time": "2022-08-17T13:04:11.513Z"
   },
   {
    "duration": 6,
    "start_time": "2022-08-17T13:04:12.125Z"
   },
   {
    "duration": 29,
    "start_time": "2022-08-17T13:04:12.280Z"
   },
   {
    "duration": 4,
    "start_time": "2022-08-17T13:04:12.435Z"
   },
   {
    "duration": 8,
    "start_time": "2022-08-17T13:04:12.597Z"
   },
   {
    "duration": 10,
    "start_time": "2022-08-17T13:04:13.488Z"
   },
   {
    "duration": 7,
    "start_time": "2022-08-17T13:04:13.813Z"
   },
   {
    "duration": 10,
    "start_time": "2022-08-17T13:04:13.949Z"
   },
   {
    "duration": 168,
    "start_time": "2022-08-17T13:04:14.116Z"
   },
   {
    "duration": 17,
    "start_time": "2022-08-17T13:04:14.287Z"
   },
   {
    "duration": 4,
    "start_time": "2022-08-17T13:04:14.442Z"
   },
   {
    "duration": 12,
    "start_time": "2022-08-17T13:04:49.952Z"
   },
   {
    "duration": 13,
    "start_time": "2022-08-17T13:04:55.224Z"
   }
  ],
  "kernelspec": {
   "display_name": "Python 3 (ipykernel)",
   "language": "python",
   "name": "python3"
  },
  "language_info": {
   "codemirror_mode": {
    "name": "ipython",
    "version": 3
   },
   "file_extension": ".py",
   "mimetype": "text/x-python",
   "name": "python",
   "nbconvert_exporter": "python",
   "pygments_lexer": "ipython3",
   "version": "3.10.5"
  },
  "toc": {
   "base_numbering": 1,
   "nav_menu": {},
   "number_sections": true,
   "sideBar": true,
   "skip_h1_title": true,
   "title_cell": "Table of Contents",
   "title_sidebar": "Contents",
   "toc_cell": false,
   "toc_position": {},
   "toc_section_display": true,
   "toc_window_display": true
  }
 },
 "nbformat": 4,
 "nbformat_minor": 2
}
