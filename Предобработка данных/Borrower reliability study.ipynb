{
 "cells": [
  {
   "cell_type": "markdown",
   "id": "c81daeeb",
   "metadata": {
    "deletable": false,
    "id": "c81daeeb"
   },
   "source": [
    "# Исследование надежности заемщиков\n"
   ]
  },
  {
   "cell_type": "markdown",
   "id": "827c20bf",
   "metadata": {
    "id": "827c20bf"
   },
   "source": [
    "Во второй части проекта вы выполните шаги 3 и 4. Их вручную проверит ревьюер.\n",
    "Чтобы вам не пришлось писать код заново для шагов 1 и 2, мы добавили авторские решения в ячейки с кодом. \n",
    "\n"
   ]
  },
  {
   "cell_type": "markdown",
   "id": "744d7639",
   "metadata": {
    "deletable": false,
    "id": "744d7639"
   },
   "source": [
    "## Откройте таблицу и изучите общую информацию о данных"
   ]
  },
  {
   "cell_type": "markdown",
   "id": "e7a14c31",
   "metadata": {
    "deletable": false,
    "id": "e7a14c31"
   },
   "source": [
    "**Задание 1. Импортируйте библиотеку pandas. Считайте данные из csv-файла в датафрейм и сохраните в переменную `data`. Путь к файлу:**\n",
    "\n",
    "`/datasets/data.csv`"
   ]
  },
  {
   "cell_type": "code",
   "execution_count": 1,
   "id": "7bcf75c9",
   "metadata": {
    "deletable": false,
    "id": "7bcf75c9"
   },
   "outputs": [],
   "source": [
    "import pandas as pd\n",
    "\n",
    "try:\n",
    "    data = pd.read_csv('/datasets/data.csv')\n",
    "except:\n",
    "    data = pd.read_csv('https://code.s3.yandex.net/datasets/data.csv')"
   ]
  },
  {
   "cell_type": "markdown",
   "id": "b8038fe3",
   "metadata": {
    "deletable": false,
    "id": "b8038fe3"
   },
   "source": [
    "**Задание 2. Выведите первые 20 строчек датафрейма `data` на экран.**"
   ]
  },
  {
   "cell_type": "code",
   "execution_count": 2,
   "id": "2a7cab99",
   "metadata": {
    "deletable": false,
    "id": "2a7cab99",
    "outputId": "1a8f3ef2-d323-4ec2-ddf7-89670b5944c4"
   },
   "outputs": [
    {
     "data": {
      "text/html": [
       "<div>\n",
       "<style scoped>\n",
       "    .dataframe tbody tr th:only-of-type {\n",
       "        vertical-align: middle;\n",
       "    }\n",
       "\n",
       "    .dataframe tbody tr th {\n",
       "        vertical-align: top;\n",
       "    }\n",
       "\n",
       "    .dataframe thead th {\n",
       "        text-align: right;\n",
       "    }\n",
       "</style>\n",
       "<table border=\"1\" class=\"dataframe\">\n",
       "  <thead>\n",
       "    <tr style=\"text-align: right;\">\n",
       "      <th></th>\n",
       "      <th>children</th>\n",
       "      <th>days_employed</th>\n",
       "      <th>dob_years</th>\n",
       "      <th>education</th>\n",
       "      <th>education_id</th>\n",
       "      <th>family_status</th>\n",
       "      <th>family_status_id</th>\n",
       "      <th>gender</th>\n",
       "      <th>income_type</th>\n",
       "      <th>debt</th>\n",
       "      <th>total_income</th>\n",
       "      <th>purpose</th>\n",
       "    </tr>\n",
       "  </thead>\n",
       "  <tbody>\n",
       "    <tr>\n",
       "      <th>0</th>\n",
       "      <td>1</td>\n",
       "      <td>-8437.673028</td>\n",
       "      <td>42</td>\n",
       "      <td>высшее</td>\n",
       "      <td>0</td>\n",
       "      <td>женат / замужем</td>\n",
       "      <td>0</td>\n",
       "      <td>F</td>\n",
       "      <td>сотрудник</td>\n",
       "      <td>0</td>\n",
       "      <td>253875.639453</td>\n",
       "      <td>покупка жилья</td>\n",
       "    </tr>\n",
       "    <tr>\n",
       "      <th>1</th>\n",
       "      <td>1</td>\n",
       "      <td>-4024.803754</td>\n",
       "      <td>36</td>\n",
       "      <td>среднее</td>\n",
       "      <td>1</td>\n",
       "      <td>женат / замужем</td>\n",
       "      <td>0</td>\n",
       "      <td>F</td>\n",
       "      <td>сотрудник</td>\n",
       "      <td>0</td>\n",
       "      <td>112080.014102</td>\n",
       "      <td>приобретение автомобиля</td>\n",
       "    </tr>\n",
       "    <tr>\n",
       "      <th>2</th>\n",
       "      <td>0</td>\n",
       "      <td>-5623.422610</td>\n",
       "      <td>33</td>\n",
       "      <td>Среднее</td>\n",
       "      <td>1</td>\n",
       "      <td>женат / замужем</td>\n",
       "      <td>0</td>\n",
       "      <td>M</td>\n",
       "      <td>сотрудник</td>\n",
       "      <td>0</td>\n",
       "      <td>145885.952297</td>\n",
       "      <td>покупка жилья</td>\n",
       "    </tr>\n",
       "    <tr>\n",
       "      <th>3</th>\n",
       "      <td>3</td>\n",
       "      <td>-4124.747207</td>\n",
       "      <td>32</td>\n",
       "      <td>среднее</td>\n",
       "      <td>1</td>\n",
       "      <td>женат / замужем</td>\n",
       "      <td>0</td>\n",
       "      <td>M</td>\n",
       "      <td>сотрудник</td>\n",
       "      <td>0</td>\n",
       "      <td>267628.550329</td>\n",
       "      <td>дополнительное образование</td>\n",
       "    </tr>\n",
       "    <tr>\n",
       "      <th>4</th>\n",
       "      <td>0</td>\n",
       "      <td>340266.072047</td>\n",
       "      <td>53</td>\n",
       "      <td>среднее</td>\n",
       "      <td>1</td>\n",
       "      <td>гражданский брак</td>\n",
       "      <td>1</td>\n",
       "      <td>F</td>\n",
       "      <td>пенсионер</td>\n",
       "      <td>0</td>\n",
       "      <td>158616.077870</td>\n",
       "      <td>сыграть свадьбу</td>\n",
       "    </tr>\n",
       "    <tr>\n",
       "      <th>5</th>\n",
       "      <td>0</td>\n",
       "      <td>-926.185831</td>\n",
       "      <td>27</td>\n",
       "      <td>высшее</td>\n",
       "      <td>0</td>\n",
       "      <td>гражданский брак</td>\n",
       "      <td>1</td>\n",
       "      <td>M</td>\n",
       "      <td>компаньон</td>\n",
       "      <td>0</td>\n",
       "      <td>255763.565419</td>\n",
       "      <td>покупка жилья</td>\n",
       "    </tr>\n",
       "    <tr>\n",
       "      <th>6</th>\n",
       "      <td>0</td>\n",
       "      <td>-2879.202052</td>\n",
       "      <td>43</td>\n",
       "      <td>высшее</td>\n",
       "      <td>0</td>\n",
       "      <td>женат / замужем</td>\n",
       "      <td>0</td>\n",
       "      <td>F</td>\n",
       "      <td>компаньон</td>\n",
       "      <td>0</td>\n",
       "      <td>240525.971920</td>\n",
       "      <td>операции с жильем</td>\n",
       "    </tr>\n",
       "    <tr>\n",
       "      <th>7</th>\n",
       "      <td>0</td>\n",
       "      <td>-152.779569</td>\n",
       "      <td>50</td>\n",
       "      <td>СРЕДНЕЕ</td>\n",
       "      <td>1</td>\n",
       "      <td>женат / замужем</td>\n",
       "      <td>0</td>\n",
       "      <td>M</td>\n",
       "      <td>сотрудник</td>\n",
       "      <td>0</td>\n",
       "      <td>135823.934197</td>\n",
       "      <td>образование</td>\n",
       "    </tr>\n",
       "    <tr>\n",
       "      <th>8</th>\n",
       "      <td>2</td>\n",
       "      <td>-6929.865299</td>\n",
       "      <td>35</td>\n",
       "      <td>ВЫСШЕЕ</td>\n",
       "      <td>0</td>\n",
       "      <td>гражданский брак</td>\n",
       "      <td>1</td>\n",
       "      <td>F</td>\n",
       "      <td>сотрудник</td>\n",
       "      <td>0</td>\n",
       "      <td>95856.832424</td>\n",
       "      <td>на проведение свадьбы</td>\n",
       "    </tr>\n",
       "    <tr>\n",
       "      <th>9</th>\n",
       "      <td>0</td>\n",
       "      <td>-2188.756445</td>\n",
       "      <td>41</td>\n",
       "      <td>среднее</td>\n",
       "      <td>1</td>\n",
       "      <td>женат / замужем</td>\n",
       "      <td>0</td>\n",
       "      <td>M</td>\n",
       "      <td>сотрудник</td>\n",
       "      <td>0</td>\n",
       "      <td>144425.938277</td>\n",
       "      <td>покупка жилья для семьи</td>\n",
       "    </tr>\n",
       "    <tr>\n",
       "      <th>10</th>\n",
       "      <td>2</td>\n",
       "      <td>-4171.483647</td>\n",
       "      <td>36</td>\n",
       "      <td>высшее</td>\n",
       "      <td>0</td>\n",
       "      <td>женат / замужем</td>\n",
       "      <td>0</td>\n",
       "      <td>M</td>\n",
       "      <td>компаньон</td>\n",
       "      <td>0</td>\n",
       "      <td>113943.491460</td>\n",
       "      <td>покупка недвижимости</td>\n",
       "    </tr>\n",
       "    <tr>\n",
       "      <th>11</th>\n",
       "      <td>0</td>\n",
       "      <td>-792.701887</td>\n",
       "      <td>40</td>\n",
       "      <td>среднее</td>\n",
       "      <td>1</td>\n",
       "      <td>женат / замужем</td>\n",
       "      <td>0</td>\n",
       "      <td>F</td>\n",
       "      <td>сотрудник</td>\n",
       "      <td>0</td>\n",
       "      <td>77069.234271</td>\n",
       "      <td>покупка коммерческой недвижимости</td>\n",
       "    </tr>\n",
       "    <tr>\n",
       "      <th>12</th>\n",
       "      <td>0</td>\n",
       "      <td>NaN</td>\n",
       "      <td>65</td>\n",
       "      <td>среднее</td>\n",
       "      <td>1</td>\n",
       "      <td>гражданский брак</td>\n",
       "      <td>1</td>\n",
       "      <td>M</td>\n",
       "      <td>пенсионер</td>\n",
       "      <td>0</td>\n",
       "      <td>NaN</td>\n",
       "      <td>сыграть свадьбу</td>\n",
       "    </tr>\n",
       "    <tr>\n",
       "      <th>13</th>\n",
       "      <td>0</td>\n",
       "      <td>-1846.641941</td>\n",
       "      <td>54</td>\n",
       "      <td>неоконченное высшее</td>\n",
       "      <td>2</td>\n",
       "      <td>женат / замужем</td>\n",
       "      <td>0</td>\n",
       "      <td>F</td>\n",
       "      <td>сотрудник</td>\n",
       "      <td>0</td>\n",
       "      <td>130458.228857</td>\n",
       "      <td>приобретение автомобиля</td>\n",
       "    </tr>\n",
       "    <tr>\n",
       "      <th>14</th>\n",
       "      <td>0</td>\n",
       "      <td>-1844.956182</td>\n",
       "      <td>56</td>\n",
       "      <td>высшее</td>\n",
       "      <td>0</td>\n",
       "      <td>гражданский брак</td>\n",
       "      <td>1</td>\n",
       "      <td>F</td>\n",
       "      <td>компаньон</td>\n",
       "      <td>1</td>\n",
       "      <td>165127.911772</td>\n",
       "      <td>покупка жилой недвижимости</td>\n",
       "    </tr>\n",
       "    <tr>\n",
       "      <th>15</th>\n",
       "      <td>1</td>\n",
       "      <td>-972.364419</td>\n",
       "      <td>26</td>\n",
       "      <td>среднее</td>\n",
       "      <td>1</td>\n",
       "      <td>женат / замужем</td>\n",
       "      <td>0</td>\n",
       "      <td>F</td>\n",
       "      <td>сотрудник</td>\n",
       "      <td>0</td>\n",
       "      <td>116820.904450</td>\n",
       "      <td>строительство собственной недвижимости</td>\n",
       "    </tr>\n",
       "    <tr>\n",
       "      <th>16</th>\n",
       "      <td>0</td>\n",
       "      <td>-1719.934226</td>\n",
       "      <td>35</td>\n",
       "      <td>среднее</td>\n",
       "      <td>1</td>\n",
       "      <td>женат / замужем</td>\n",
       "      <td>0</td>\n",
       "      <td>F</td>\n",
       "      <td>сотрудник</td>\n",
       "      <td>0</td>\n",
       "      <td>289202.704229</td>\n",
       "      <td>недвижимость</td>\n",
       "    </tr>\n",
       "    <tr>\n",
       "      <th>17</th>\n",
       "      <td>0</td>\n",
       "      <td>-2369.999720</td>\n",
       "      <td>33</td>\n",
       "      <td>высшее</td>\n",
       "      <td>0</td>\n",
       "      <td>гражданский брак</td>\n",
       "      <td>1</td>\n",
       "      <td>M</td>\n",
       "      <td>сотрудник</td>\n",
       "      <td>0</td>\n",
       "      <td>90410.586745</td>\n",
       "      <td>строительство недвижимости</td>\n",
       "    </tr>\n",
       "    <tr>\n",
       "      <th>18</th>\n",
       "      <td>0</td>\n",
       "      <td>400281.136913</td>\n",
       "      <td>53</td>\n",
       "      <td>среднее</td>\n",
       "      <td>1</td>\n",
       "      <td>вдовец / вдова</td>\n",
       "      <td>2</td>\n",
       "      <td>F</td>\n",
       "      <td>пенсионер</td>\n",
       "      <td>0</td>\n",
       "      <td>56823.777243</td>\n",
       "      <td>на покупку подержанного автомобиля</td>\n",
       "    </tr>\n",
       "    <tr>\n",
       "      <th>19</th>\n",
       "      <td>0</td>\n",
       "      <td>-10038.818549</td>\n",
       "      <td>48</td>\n",
       "      <td>СРЕДНЕЕ</td>\n",
       "      <td>1</td>\n",
       "      <td>в разводе</td>\n",
       "      <td>3</td>\n",
       "      <td>F</td>\n",
       "      <td>сотрудник</td>\n",
       "      <td>0</td>\n",
       "      <td>242831.107982</td>\n",
       "      <td>на покупку своего автомобиля</td>\n",
       "    </tr>\n",
       "  </tbody>\n",
       "</table>\n",
       "</div>"
      ],
      "text/plain": [
       "    children  days_employed  dob_years            education  education_id  \\\n",
       "0          1   -8437.673028         42               высшее             0   \n",
       "1          1   -4024.803754         36              среднее             1   \n",
       "2          0   -5623.422610         33              Среднее             1   \n",
       "3          3   -4124.747207         32              среднее             1   \n",
       "4          0  340266.072047         53              среднее             1   \n",
       "5          0    -926.185831         27               высшее             0   \n",
       "6          0   -2879.202052         43               высшее             0   \n",
       "7          0    -152.779569         50              СРЕДНЕЕ             1   \n",
       "8          2   -6929.865299         35               ВЫСШЕЕ             0   \n",
       "9          0   -2188.756445         41              среднее             1   \n",
       "10         2   -4171.483647         36               высшее             0   \n",
       "11         0    -792.701887         40              среднее             1   \n",
       "12         0            NaN         65              среднее             1   \n",
       "13         0   -1846.641941         54  неоконченное высшее             2   \n",
       "14         0   -1844.956182         56               высшее             0   \n",
       "15         1    -972.364419         26              среднее             1   \n",
       "16         0   -1719.934226         35              среднее             1   \n",
       "17         0   -2369.999720         33               высшее             0   \n",
       "18         0  400281.136913         53              среднее             1   \n",
       "19         0  -10038.818549         48              СРЕДНЕЕ             1   \n",
       "\n",
       "       family_status  family_status_id gender income_type  debt  \\\n",
       "0    женат / замужем                 0      F   сотрудник     0   \n",
       "1    женат / замужем                 0      F   сотрудник     0   \n",
       "2    женат / замужем                 0      M   сотрудник     0   \n",
       "3    женат / замужем                 0      M   сотрудник     0   \n",
       "4   гражданский брак                 1      F   пенсионер     0   \n",
       "5   гражданский брак                 1      M   компаньон     0   \n",
       "6    женат / замужем                 0      F   компаньон     0   \n",
       "7    женат / замужем                 0      M   сотрудник     0   \n",
       "8   гражданский брак                 1      F   сотрудник     0   \n",
       "9    женат / замужем                 0      M   сотрудник     0   \n",
       "10   женат / замужем                 0      M   компаньон     0   \n",
       "11   женат / замужем                 0      F   сотрудник     0   \n",
       "12  гражданский брак                 1      M   пенсионер     0   \n",
       "13   женат / замужем                 0      F   сотрудник     0   \n",
       "14  гражданский брак                 1      F   компаньон     1   \n",
       "15   женат / замужем                 0      F   сотрудник     0   \n",
       "16   женат / замужем                 0      F   сотрудник     0   \n",
       "17  гражданский брак                 1      M   сотрудник     0   \n",
       "18    вдовец / вдова                 2      F   пенсионер     0   \n",
       "19         в разводе                 3      F   сотрудник     0   \n",
       "\n",
       "     total_income                                 purpose  \n",
       "0   253875.639453                           покупка жилья  \n",
       "1   112080.014102                 приобретение автомобиля  \n",
       "2   145885.952297                           покупка жилья  \n",
       "3   267628.550329              дополнительное образование  \n",
       "4   158616.077870                         сыграть свадьбу  \n",
       "5   255763.565419                           покупка жилья  \n",
       "6   240525.971920                       операции с жильем  \n",
       "7   135823.934197                             образование  \n",
       "8    95856.832424                   на проведение свадьбы  \n",
       "9   144425.938277                 покупка жилья для семьи  \n",
       "10  113943.491460                    покупка недвижимости  \n",
       "11   77069.234271       покупка коммерческой недвижимости  \n",
       "12            NaN                         сыграть свадьбу  \n",
       "13  130458.228857                 приобретение автомобиля  \n",
       "14  165127.911772              покупка жилой недвижимости  \n",
       "15  116820.904450  строительство собственной недвижимости  \n",
       "16  289202.704229                            недвижимость  \n",
       "17   90410.586745              строительство недвижимости  \n",
       "18   56823.777243      на покупку подержанного автомобиля  \n",
       "19  242831.107982            на покупку своего автомобиля  "
      ]
     },
     "execution_count": 2,
     "metadata": {},
     "output_type": "execute_result"
    }
   ],
   "source": [
    "data.head(20)"
   ]
  },
  {
   "cell_type": "markdown",
   "id": "1c12e233",
   "metadata": {
    "deletable": false,
    "id": "1c12e233"
   },
   "source": [
    "**Задание 3. Выведите основную информацию о датафрейме с помощью метода `info()`.**"
   ]
  },
  {
   "cell_type": "code",
   "execution_count": 3,
   "id": "2b757bca",
   "metadata": {
    "deletable": false,
    "id": "2b757bca",
    "outputId": "15376089-8dad-46c9-b520-c05248d43158"
   },
   "outputs": [
    {
     "name": "stdout",
     "output_type": "stream",
     "text": [
      "<class 'pandas.core.frame.DataFrame'>\n",
      "RangeIndex: 21525 entries, 0 to 21524\n",
      "Data columns (total 12 columns):\n",
      " #   Column            Non-Null Count  Dtype  \n",
      "---  ------            --------------  -----  \n",
      " 0   children          21525 non-null  int64  \n",
      " 1   days_employed     19351 non-null  float64\n",
      " 2   dob_years         21525 non-null  int64  \n",
      " 3   education         21525 non-null  object \n",
      " 4   education_id      21525 non-null  int64  \n",
      " 5   family_status     21525 non-null  object \n",
      " 6   family_status_id  21525 non-null  int64  \n",
      " 7   gender            21525 non-null  object \n",
      " 8   income_type       21525 non-null  object \n",
      " 9   debt              21525 non-null  int64  \n",
      " 10  total_income      19351 non-null  float64\n",
      " 11  purpose           21525 non-null  object \n",
      "dtypes: float64(2), int64(5), object(5)\n",
      "memory usage: 2.0+ MB\n"
     ]
    }
   ],
   "source": [
    "data.info()"
   ]
  },
  {
   "cell_type": "markdown",
   "id": "333ec665",
   "metadata": {
    "deletable": false,
    "id": "333ec665"
   },
   "source": [
    "## Предобработка данных"
   ]
  },
  {
   "cell_type": "markdown",
   "id": "02d92d53",
   "metadata": {
    "deletable": false,
    "id": "02d92d53"
   },
   "source": [
    "### Удаление пропусков"
   ]
  },
  {
   "cell_type": "markdown",
   "id": "cd84967c",
   "metadata": {
    "deletable": false,
    "id": "cd84967c"
   },
   "source": [
    "**Задание 4. Выведите количество пропущенных значений для каждого столбца. Используйте комбинацию двух методов.**"
   ]
  },
  {
   "cell_type": "code",
   "execution_count": 4,
   "id": "7f9b2309",
   "metadata": {
    "deletable": false,
    "id": "7f9b2309",
    "outputId": "81f4d817-781c-465c-ed15-91ce4446810d"
   },
   "outputs": [
    {
     "data": {
      "text/plain": [
       "children               0\n",
       "days_employed       2174\n",
       "dob_years              0\n",
       "education              0\n",
       "education_id           0\n",
       "family_status          0\n",
       "family_status_id       0\n",
       "gender                 0\n",
       "income_type            0\n",
       "debt                   0\n",
       "total_income        2174\n",
       "purpose                0\n",
       "dtype: int64"
      ]
     },
     "execution_count": 4,
     "metadata": {},
     "output_type": "execute_result"
    }
   ],
   "source": [
    "data.isna().sum()"
   ]
  },
  {
   "cell_type": "markdown",
   "id": "db86e27b",
   "metadata": {
    "deletable": false,
    "id": "db86e27b"
   },
   "source": [
    "**Задание 5. В двух столбцах есть пропущенные значения. Один из них — `days_employed`. Пропуски в этом столбце вы обработаете на следующем этапе. Другой столбец с пропущенными значениями — `total_income` — хранит данные о доходах. На сумму дохода сильнее всего влияет тип занятости, поэтому заполнить пропуски в этом столбце нужно медианным значением по каждому типу из столбца `income_type`. Например, у человека с типом занятости `сотрудник` пропуск в столбце `total_income` должен быть заполнен медианным доходом среди всех записей с тем же типом.**"
   ]
  },
  {
   "cell_type": "code",
   "execution_count": 5,
   "id": "42006a93",
   "metadata": {
    "deletable": false,
    "id": "42006a93"
   },
   "outputs": [],
   "source": [
    "for t in data['income_type'].unique():\n",
    "    data.loc[(data['income_type'] == t) & (data['total_income'].isna()), 'total_income'] = \\\n",
    "    data.loc[(data['income_type'] == t), 'total_income'].median()"
   ]
  },
  {
   "cell_type": "markdown",
   "id": "89da5ece",
   "metadata": {
    "deletable": false,
    "id": "89da5ece"
   },
   "source": [
    "### Обработка аномальных значений"
   ]
  },
  {
   "cell_type": "markdown",
   "id": "57964554",
   "metadata": {
    "deletable": false,
    "id": "57964554"
   },
   "source": [
    "**Задание 6. В данных могут встречаться артефакты (аномалии) — значения, которые не отражают действительность и появились по какой-то ошибке. таким артефактом будет отрицательное количество дней трудового стажа в столбце `days_employed`. Для реальных данных это нормально. Обработайте значения в этом столбце: замените все отрицательные значения положительными с помощью метода `abs()`.**"
   ]
  },
  {
   "cell_type": "code",
   "execution_count": 6,
   "id": "f6f055bf",
   "metadata": {
    "deletable": false,
    "id": "f6f055bf"
   },
   "outputs": [],
   "source": [
    "data['days_employed'] = data['days_employed'].abs()"
   ]
  },
  {
   "cell_type": "markdown",
   "id": "6107dd2f",
   "metadata": {
    "deletable": false,
    "id": "6107dd2f"
   },
   "source": [
    "**Задание 7. Для каждого типа занятости выведите медианное значение трудового стажа `days_employed` в днях.**"
   ]
  },
  {
   "cell_type": "code",
   "execution_count": 7,
   "id": "85a5faf6",
   "metadata": {
    "deletable": false,
    "id": "85a5faf6",
    "outputId": "801ef80e-522b-4668-f34e-565af7432bcf"
   },
   "outputs": [
    {
     "data": {
      "text/plain": [
       "income_type\n",
       "безработный        366413.652744\n",
       "в декрете            3296.759962\n",
       "госслужащий          2689.368353\n",
       "компаньон            1547.382223\n",
       "пенсионер          365213.306266\n",
       "предприниматель       520.848083\n",
       "сотрудник            1574.202821\n",
       "студент               578.751554\n",
       "Name: days_employed, dtype: float64"
      ]
     },
     "execution_count": 7,
     "metadata": {},
     "output_type": "execute_result"
    }
   ],
   "source": [
    "data.groupby('income_type')['days_employed'].agg('median')"
   ]
  },
  {
   "cell_type": "markdown",
   "id": "38d1a030",
   "metadata": {
    "deletable": false,
    "id": "38d1a030"
   },
   "source": [
    "У двух типов (безработные и пенсионеры) получатся аномально большие значения. Исправить такие значения сложно, поэтому оставьте их как есть. Тем более этот столбец не понадобится вам для исследования."
   ]
  },
  {
   "cell_type": "markdown",
   "id": "d8a9f147",
   "metadata": {
    "deletable": false,
    "id": "d8a9f147"
   },
   "source": [
    "**Задание 8. Выведите перечень уникальных значений столбца `children`.**"
   ]
  },
  {
   "cell_type": "code",
   "execution_count": 8,
   "id": "ef5056eb",
   "metadata": {
    "deletable": false,
    "id": "ef5056eb",
    "outputId": "6975b15c-7f95-4697-d16d-a0c79b657b03"
   },
   "outputs": [
    {
     "data": {
      "text/plain": [
       "array([ 1,  0,  3,  2, -1,  4, 20,  5], dtype=int64)"
      ]
     },
     "execution_count": 8,
     "metadata": {},
     "output_type": "execute_result"
    }
   ],
   "source": [
    "data['children'].unique()"
   ]
  },
  {
   "cell_type": "markdown",
   "id": "40b9ebf2",
   "metadata": {
    "deletable": false,
    "id": "40b9ebf2"
   },
   "source": [
    "**Задание 9. В столбце `children` есть два аномальных значения. Удалите строки, в которых встречаются такие аномальные значения из датафрейма `data`.**"
   ]
  },
  {
   "cell_type": "code",
   "execution_count": 9,
   "id": "3ff9801d",
   "metadata": {
    "deletable": false,
    "id": "3ff9801d"
   },
   "outputs": [],
   "source": [
    "data = data[(data['children'] != -1) & (data['children'] != 20)]"
   ]
  },
  {
   "cell_type": "markdown",
   "id": "bbc4d0ce",
   "metadata": {
    "deletable": false,
    "id": "bbc4d0ce"
   },
   "source": [
    "**Задание 10. Ещё раз выведите перечень уникальных значений столбца `children`, чтобы убедиться, что артефакты удалены.**"
   ]
  },
  {
   "cell_type": "code",
   "execution_count": 10,
   "id": "ad4fa8b7",
   "metadata": {
    "deletable": false,
    "id": "ad4fa8b7",
    "outputId": "b2097101-d49d-44d9-901b-32a65c9463d1"
   },
   "outputs": [
    {
     "data": {
      "text/plain": [
       "array([1, 0, 3, 2, 4, 5], dtype=int64)"
      ]
     },
     "execution_count": 10,
     "metadata": {},
     "output_type": "execute_result"
    }
   ],
   "source": [
    "data['children'].unique()"
   ]
  },
  {
   "cell_type": "markdown",
   "id": "75440b63",
   "metadata": {
    "deletable": false,
    "id": "75440b63"
   },
   "source": [
    "### Удаление пропусков (продолжение)"
   ]
  },
  {
   "cell_type": "markdown",
   "id": "f4ea573f",
   "metadata": {
    "deletable": false,
    "id": "f4ea573f"
   },
   "source": [
    "**Задание 11. Заполните пропуски в столбце `days_employed` медианными значениями по каждого типа занятости `income_type`.**"
   ]
  },
  {
   "cell_type": "code",
   "execution_count": 11,
   "id": "af6b1a7e",
   "metadata": {
    "deletable": false,
    "id": "af6b1a7e"
   },
   "outputs": [],
   "source": [
    "for t in data['income_type'].unique():\n",
    "    data.loc[(data['income_type'] == t) & (data['days_employed'].isna()), 'days_employed'] = \\\n",
    "    data.loc[(data['income_type'] == t), 'days_employed'].median()"
   ]
  },
  {
   "cell_type": "markdown",
   "id": "2753f40d",
   "metadata": {
    "deletable": false,
    "id": "2753f40d"
   },
   "source": [
    "**Задание 12. Убедитесь, что все пропуски заполнены. Проверьте себя и ещё раз выведите количество пропущенных значений для каждого столбца с помощью двух методов.**"
   ]
  },
  {
   "cell_type": "code",
   "execution_count": 12,
   "id": "55f78bc2",
   "metadata": {
    "deletable": false,
    "id": "55f78bc2",
    "outputId": "8da1e4e1-358e-4e87-98c9-f261bce0a7b2"
   },
   "outputs": [
    {
     "data": {
      "text/plain": [
       "children            0\n",
       "days_employed       0\n",
       "dob_years           0\n",
       "education           0\n",
       "education_id        0\n",
       "family_status       0\n",
       "family_status_id    0\n",
       "gender              0\n",
       "income_type         0\n",
       "debt                0\n",
       "total_income        0\n",
       "purpose             0\n",
       "dtype: int64"
      ]
     },
     "execution_count": 12,
     "metadata": {},
     "output_type": "execute_result"
    }
   ],
   "source": [
    "data.isna().sum()"
   ]
  },
  {
   "cell_type": "markdown",
   "id": "ddc81e43",
   "metadata": {
    "deletable": false,
    "id": "ddc81e43"
   },
   "source": [
    "### Изменение типов данных"
   ]
  },
  {
   "cell_type": "markdown",
   "id": "42d19d24",
   "metadata": {
    "deletable": false,
    "id": "42d19d24"
   },
   "source": [
    "**Задание 13. Замените вещественный тип данных в столбце `total_income` на целочисленный с помощью метода `astype()`.**"
   ]
  },
  {
   "cell_type": "code",
   "execution_count": 13,
   "id": "920b65ad",
   "metadata": {
    "deletable": false,
    "id": "920b65ad"
   },
   "outputs": [],
   "source": [
    "data['total_income'] = data['total_income'].astype(int)"
   ]
  },
  {
   "cell_type": "markdown",
   "id": "80c420ba",
   "metadata": {
    "deletable": false,
    "id": "80c420ba"
   },
   "source": [
    "### Обработка дубликатов"
   ]
  },
  {
   "cell_type": "markdown",
   "id": "dc587695",
   "metadata": {
    "deletable": false,
    "id": "dc587695"
   },
   "source": [
    "**Задание 14. Выведите на экран количество строк-дубликатов в данных. Если такие строки присутствуют, удалите их.**"
   ]
  },
  {
   "cell_type": "code",
   "execution_count": 14,
   "id": "3ee445e4",
   "metadata": {
    "deletable": false,
    "id": "3ee445e4",
    "outputId": "9684deba-1934-42d1-99e1-cda61740f822"
   },
   "outputs": [
    {
     "data": {
      "text/plain": [
       "54"
      ]
     },
     "execution_count": 14,
     "metadata": {},
     "output_type": "execute_result"
    }
   ],
   "source": [
    "data.duplicated().sum()"
   ]
  },
  {
   "cell_type": "code",
   "execution_count": 15,
   "id": "8575fe05",
   "metadata": {
    "deletable": false,
    "id": "8575fe05"
   },
   "outputs": [],
   "source": [
    "data = data.drop_duplicates()"
   ]
  },
  {
   "cell_type": "markdown",
   "id": "9771a76c",
   "metadata": {
    "deletable": false,
    "id": "9771a76c"
   },
   "source": [
    "**Задание 15. Обработайте неявные дубликаты в столбце `education`. В этом столбце есть одни и те же значения, но записанные по-разному: с использованием заглавных и строчных букв. Приведите их к нижнему регистру. Проверьте остальные столбцы.**"
   ]
  },
  {
   "cell_type": "code",
   "execution_count": 16,
   "id": "a9f8e2bf",
   "metadata": {
    "deletable": false,
    "id": "a9f8e2bf"
   },
   "outputs": [],
   "source": [
    "data['education'] = data['education'].str.lower()"
   ]
  },
  {
   "cell_type": "markdown",
   "id": "9904cf55",
   "metadata": {
    "deletable": false,
    "id": "9904cf55"
   },
   "source": [
    "### Категоризация данных"
   ]
  },
  {
   "cell_type": "markdown",
   "id": "72fcc8a2",
   "metadata": {
    "deletable": false,
    "id": "72fcc8a2"
   },
   "source": [
    "**Задание 16. На основании диапазонов, указанных ниже, создайте в датафрейме `data` столбец `total_income_category` с категориями:**\n",
    "\n",
    "- 0–30000 — `'E'`;\n",
    "- 30001–50000 — `'D'`;\n",
    "- 50001–200000 — `'C'`;\n",
    "- 200001–1000000 — `'B'`;\n",
    "- 1000001 и выше — `'A'`.\n",
    "\n",
    "\n",
    "**Например, кредитополучателю с доходом 25000 нужно назначить категорию `'E'`, а клиенту, получающему 235000, — `'B'`. Используйте собственную функцию с именем `categorize_income()` и метод `apply()`.**"
   ]
  },
  {
   "cell_type": "code",
   "execution_count": 17,
   "id": "e1771346",
   "metadata": {
    "deletable": false,
    "id": "e1771346"
   },
   "outputs": [],
   "source": [
    "def categorize_income(income):\n",
    "    try:\n",
    "        if 0 <= income <= 30000:\n",
    "            return 'E'\n",
    "        elif 30001 <= income <= 50000:\n",
    "            return 'D'\n",
    "        elif 50001 <= income <= 200000:\n",
    "            return 'C'\n",
    "        elif 200001 <= income <= 1000000:\n",
    "            return 'B'\n",
    "        elif income >= 1000001:\n",
    "            return 'A'\n",
    "    except:\n",
    "        pass"
   ]
  },
  {
   "cell_type": "code",
   "execution_count": 18,
   "id": "d5f3586d",
   "metadata": {
    "deletable": false,
    "id": "d5f3586d"
   },
   "outputs": [],
   "source": [
    "data['total_income_category'] = data['total_income'].apply(categorize_income)"
   ]
  },
  {
   "cell_type": "markdown",
   "id": "dde49b5c",
   "metadata": {
    "deletable": false,
    "id": "dde49b5c"
   },
   "source": [
    "**Задание 17. Выведите на экран перечень уникальных целей взятия кредита из столбца `purpose`.**"
   ]
  },
  {
   "cell_type": "code",
   "execution_count": 19,
   "id": "f67ce9b3",
   "metadata": {
    "deletable": false,
    "id": "f67ce9b3",
    "outputId": "673c12d9-7d7e-4ae0-9812-c622c89dd244"
   },
   "outputs": [
    {
     "data": {
      "text/plain": [
       "array(['покупка жилья', 'приобретение автомобиля',\n",
       "       'дополнительное образование', 'сыграть свадьбу',\n",
       "       'операции с жильем', 'образование', 'на проведение свадьбы',\n",
       "       'покупка жилья для семьи', 'покупка недвижимости',\n",
       "       'покупка коммерческой недвижимости', 'покупка жилой недвижимости',\n",
       "       'строительство собственной недвижимости', 'недвижимость',\n",
       "       'строительство недвижимости', 'на покупку подержанного автомобиля',\n",
       "       'на покупку своего автомобиля',\n",
       "       'операции с коммерческой недвижимостью',\n",
       "       'строительство жилой недвижимости', 'жилье',\n",
       "       'операции со своей недвижимостью', 'автомобили',\n",
       "       'заняться образованием', 'сделка с подержанным автомобилем',\n",
       "       'получение образования', 'автомобиль', 'свадьба',\n",
       "       'получение дополнительного образования', 'покупка своего жилья',\n",
       "       'операции с недвижимостью', 'получение высшего образования',\n",
       "       'свой автомобиль', 'сделка с автомобилем',\n",
       "       'профильное образование', 'высшее образование',\n",
       "       'покупка жилья для сдачи', 'на покупку автомобиля', 'ремонт жилью',\n",
       "       'заняться высшим образованием'], dtype=object)"
      ]
     },
     "execution_count": 19,
     "metadata": {},
     "output_type": "execute_result"
    }
   ],
   "source": [
    "data['purpose'].unique()"
   ]
  },
  {
   "cell_type": "markdown",
   "id": "85d0aef0",
   "metadata": {
    "deletable": false,
    "id": "85d0aef0"
   },
   "source": [
    "**Задание 18. Создайте функцию, которая на основании данных из столбца `purpose` сформирует новый столбец `purpose_category`, в который войдут следующие категории:**\n",
    "\n",
    "- `'операции с автомобилем'`,\n",
    "- `'операции с недвижимостью'`,\n",
    "- `'проведение свадьбы'`,\n",
    "- `'получение образования'`.\n",
    "\n",
    "**Например, если в столбце `purpose` находится подстрока `'на покупку автомобиля'`, то в столбце `purpose_category` должна появиться строка `'операции с автомобилем'`.**\n",
    "\n",
    "**Используйте собственную функцию с именем `categorize_purpose()` и метод `apply()`. Изучите данные в столбце `purpose` и определите, какие подстроки помогут вам правильно определить категорию.**"
   ]
  },
  {
   "cell_type": "code",
   "execution_count": 20,
   "id": "e149fab4",
   "metadata": {
    "deletable": false,
    "id": "e149fab4"
   },
   "outputs": [],
   "source": [
    "def categorize_purpose(row):\n",
    "    try:\n",
    "        if 'автом' in row:\n",
    "            return 'операции с автомобилем'\n",
    "        elif 'жил' in row or 'недвиж' in row:\n",
    "            return 'операции с недвижимостью'\n",
    "        elif 'свад' in row:\n",
    "            return 'проведение свадьбы'\n",
    "        elif 'образов' in row:\n",
    "            return 'получение образования'\n",
    "    except:\n",
    "        return 'нет категории'"
   ]
  },
  {
   "cell_type": "code",
   "execution_count": 21,
   "id": "bf36e69b",
   "metadata": {
    "deletable": false,
    "id": "bf36e69b"
   },
   "outputs": [],
   "source": [
    "data['purpose_category'] = data['purpose'].apply(categorize_purpose)"
   ]
  },
  {
   "cell_type": "markdown",
   "id": "09b242bf",
   "metadata": {
    "deletable": false,
    "editable": false,
    "id": "09b242bf"
   },
   "source": [
    "## Исследуйте данные и ответьте на вопросы"
   ]
  },
  {
   "cell_type": "markdown",
   "id": "c5d66278",
   "metadata": {
    "deletable": false,
    "editable": false,
    "id": "c5d66278"
   },
   "source": [
    "**Задание 19. Есть ли зависимость между количеством детей и возвратом кредита в срок?**"
   ]
  },
  {
   "cell_type": "code",
   "execution_count": 22,
   "id": "2cacfc4a",
   "metadata": {
    "id": "2cacfc4a"
   },
   "outputs": [
    {
     "name": "stdout",
     "output_type": "stream",
     "text": [
      "          count_children  sum_children  ratio_children\n",
      "children                                              \n",
      "4                     41             4        0.097561\n",
      "2                   2052           194        0.094542\n",
      "1                   4809           444        0.092327\n",
      "3                    330            27        0.081818\n",
      "0                  14107          1063        0.075353\n",
      "5                      9             0        0.000000\n"
     ]
    }
   ],
   "source": [
    "debt_per_children = pd.DataFrame()\n",
    "debt_per_children['count_children'] = data.groupby('children')['debt'].count()  # Находим кол-во клиентов по каждому из кол-ва детей в семье\n",
    "debt_per_children['sum_children'] = data.groupby('children')['debt'].sum() # Находим сумму задолженнойстей по каждому из кол-ва детей в семье\n",
    "debt_per_children['ratio_children'] = debt_per_children['sum_children'] / debt_per_children['count_children']  #Находим соотношение показателей.\n",
    "print(debt_per_children.sort_values(by ='ratio_children', ascending = False))"
   ]
  },
  {
   "cell_type": "markdown",
   "id": "3a6b99ec",
   "metadata": {
    "deletable": false,
    "id": "3a6b99ec"
   },
   "source": [
    "**Вывод:** Анализ данных показал, что люди с 4,2,3,1  детьми имеют большее кол-во задолженностей по оплате кредита, чем люди не имеющие детей, это видно по столбцу 'ratio_children', где показатель приближенный к единице отражает максимальное кол-во задолженностей. Для полноценного анализа людей с 5-ю детьми не хватает статистики. "
   ]
  },
  {
   "cell_type": "code",
   "execution_count": 23,
   "id": "6f86ee19",
   "metadata": {},
   "outputs": [
    {
     "data": {
      "text/html": [
       "<div>\n",
       "<style scoped>\n",
       "    .dataframe tbody tr th:only-of-type {\n",
       "        vertical-align: middle;\n",
       "    }\n",
       "\n",
       "    .dataframe tbody tr th {\n",
       "        vertical-align: top;\n",
       "    }\n",
       "\n",
       "    .dataframe thead th {\n",
       "        text-align: right;\n",
       "    }\n",
       "</style>\n",
       "<table border=\"1\" class=\"dataframe\">\n",
       "  <thead>\n",
       "    <tr style=\"text-align: right;\">\n",
       "      <th></th>\n",
       "      <th>count</th>\n",
       "      <th>sum</th>\n",
       "      <th>mean</th>\n",
       "    </tr>\n",
       "    <tr>\n",
       "      <th>children</th>\n",
       "      <th></th>\n",
       "      <th></th>\n",
       "      <th></th>\n",
       "    </tr>\n",
       "  </thead>\n",
       "  <tbody>\n",
       "    <tr>\n",
       "      <th>0</th>\n",
       "      <td>14107</td>\n",
       "      <td>1063</td>\n",
       "      <td>0.075353</td>\n",
       "    </tr>\n",
       "    <tr>\n",
       "      <th>1</th>\n",
       "      <td>4809</td>\n",
       "      <td>444</td>\n",
       "      <td>0.092327</td>\n",
       "    </tr>\n",
       "    <tr>\n",
       "      <th>2</th>\n",
       "      <td>2052</td>\n",
       "      <td>194</td>\n",
       "      <td>0.094542</td>\n",
       "    </tr>\n",
       "    <tr>\n",
       "      <th>3</th>\n",
       "      <td>330</td>\n",
       "      <td>27</td>\n",
       "      <td>0.081818</td>\n",
       "    </tr>\n",
       "    <tr>\n",
       "      <th>4</th>\n",
       "      <td>41</td>\n",
       "      <td>4</td>\n",
       "      <td>0.097561</td>\n",
       "    </tr>\n",
       "    <tr>\n",
       "      <th>5</th>\n",
       "      <td>9</td>\n",
       "      <td>0</td>\n",
       "      <td>0.000000</td>\n",
       "    </tr>\n",
       "  </tbody>\n",
       "</table>\n",
       "</div>"
      ],
      "text/plain": [
       "          count   sum      mean\n",
       "children                       \n",
       "0         14107  1063  0.075353\n",
       "1          4809   444  0.092327\n",
       "2          2052   194  0.094542\n",
       "3           330    27  0.081818\n",
       "4            41     4  0.097561\n",
       "5             9     0  0.000000"
      ]
     },
     "execution_count": 23,
     "metadata": {},
     "output_type": "execute_result"
    }
   ],
   "source": [
    "\n",
    "data.groupby('children')['debt'].agg(['count','sum','mean'])"
   ]
  },
  {
   "cell_type": "code",
   "execution_count": 24,
   "id": "ff29321c",
   "metadata": {},
   "outputs": [
    {
     "data": {
      "text/html": [
       "<div>\n",
       "<style scoped>\n",
       "    .dataframe tbody tr th:only-of-type {\n",
       "        vertical-align: middle;\n",
       "    }\n",
       "\n",
       "    .dataframe tbody tr th {\n",
       "        vertical-align: top;\n",
       "    }\n",
       "\n",
       "    .dataframe thead th {\n",
       "        text-align: right;\n",
       "    }\n",
       "</style>\n",
       "<table border=\"1\" class=\"dataframe\">\n",
       "  <thead>\n",
       "    <tr style=\"text-align: right;\">\n",
       "      <th></th>\n",
       "      <th>count</th>\n",
       "      <th>sum</th>\n",
       "      <th>my_mean</th>\n",
       "    </tr>\n",
       "    <tr>\n",
       "      <th>children</th>\n",
       "      <th></th>\n",
       "      <th></th>\n",
       "      <th></th>\n",
       "    </tr>\n",
       "  </thead>\n",
       "  <tbody>\n",
       "    <tr>\n",
       "      <th>0</th>\n",
       "      <td>14107</td>\n",
       "      <td>1063</td>\n",
       "      <td>7.535266</td>\n",
       "    </tr>\n",
       "    <tr>\n",
       "      <th>1</th>\n",
       "      <td>4809</td>\n",
       "      <td>444</td>\n",
       "      <td>9.232689</td>\n",
       "    </tr>\n",
       "    <tr>\n",
       "      <th>2</th>\n",
       "      <td>2052</td>\n",
       "      <td>194</td>\n",
       "      <td>9.454191</td>\n",
       "    </tr>\n",
       "    <tr>\n",
       "      <th>3</th>\n",
       "      <td>330</td>\n",
       "      <td>27</td>\n",
       "      <td>8.181818</td>\n",
       "    </tr>\n",
       "    <tr>\n",
       "      <th>4</th>\n",
       "      <td>41</td>\n",
       "      <td>4</td>\n",
       "      <td>9.756098</td>\n",
       "    </tr>\n",
       "    <tr>\n",
       "      <th>5</th>\n",
       "      <td>9</td>\n",
       "      <td>0</td>\n",
       "      <td>0.000000</td>\n",
       "    </tr>\n",
       "  </tbody>\n",
       "</table>\n",
       "</div>"
      ],
      "text/plain": [
       "          count   sum   my_mean\n",
       "children                       \n",
       "0         14107  1063  7.535266\n",
       "1          4809   444  9.232689\n",
       "2          2052   194  9.454191\n",
       "3           330    27  8.181818\n",
       "4            41     4  9.756098\n",
       "5             9     0  0.000000"
      ]
     },
     "execution_count": 24,
     "metadata": {},
     "output_type": "execute_result"
    }
   ],
   "source": [
    "\n",
    "\n",
    "def my_mean(x): return x.mean()*100\n",
    "\n",
    "# В кач-ве агрегирования можно любую функцию брать.\n",
    "data.groupby('children')['debt'].agg(['count', 'sum', my_mean])"
   ]
  },
  {
   "cell_type": "code",
   "execution_count": 25,
   "id": "5dcde0e0",
   "metadata": {},
   "outputs": [
    {
     "data": {
      "text/html": [
       "<div>\n",
       "<style scoped>\n",
       "    .dataframe tbody tr th:only-of-type {\n",
       "        vertical-align: middle;\n",
       "    }\n",
       "\n",
       "    .dataframe tbody tr th {\n",
       "        vertical-align: top;\n",
       "    }\n",
       "\n",
       "    .dataframe thead th {\n",
       "        text-align: right;\n",
       "    }\n",
       "</style>\n",
       "<table border=\"1\" class=\"dataframe\">\n",
       "  <thead>\n",
       "    <tr style=\"text-align: right;\">\n",
       "      <th></th>\n",
       "      <th>count</th>\n",
       "      <th>sum</th>\n",
       "      <th>my_mean</th>\n",
       "    </tr>\n",
       "    <tr>\n",
       "      <th>children</th>\n",
       "      <th></th>\n",
       "      <th></th>\n",
       "      <th></th>\n",
       "    </tr>\n",
       "  </thead>\n",
       "  <tbody>\n",
       "    <tr>\n",
       "      <th>0</th>\n",
       "      <td>14107</td>\n",
       "      <td>1063</td>\n",
       "      <td>7.54%</td>\n",
       "    </tr>\n",
       "    <tr>\n",
       "      <th>1</th>\n",
       "      <td>4809</td>\n",
       "      <td>444</td>\n",
       "      <td>9.23%</td>\n",
       "    </tr>\n",
       "    <tr>\n",
       "      <th>2</th>\n",
       "      <td>2052</td>\n",
       "      <td>194</td>\n",
       "      <td>9.45%</td>\n",
       "    </tr>\n",
       "    <tr>\n",
       "      <th>3</th>\n",
       "      <td>330</td>\n",
       "      <td>27</td>\n",
       "      <td>8.18%</td>\n",
       "    </tr>\n",
       "    <tr>\n",
       "      <th>4</th>\n",
       "      <td>41</td>\n",
       "      <td>4</td>\n",
       "      <td>9.76%</td>\n",
       "    </tr>\n",
       "    <tr>\n",
       "      <th>5</th>\n",
       "      <td>9</td>\n",
       "      <td>0</td>\n",
       "      <td>0.00%</td>\n",
       "    </tr>\n",
       "  </tbody>\n",
       "</table>\n",
       "</div>"
      ],
      "text/plain": [
       "          count   sum my_mean\n",
       "children                     \n",
       "0         14107  1063  7.54% \n",
       "1          4809   444  9.23% \n",
       "2          2052   194  9.45% \n",
       "3           330    27  8.18% \n",
       "4            41     4  9.76% \n",
       "5             9     0  0.00% "
      ]
     },
     "execution_count": 25,
     "metadata": {},
     "output_type": "execute_result"
    }
   ],
   "source": [
    "\n",
    "def my_mean(x): return '{:.2%} '.format(x.mean())\n",
    "\n",
    "data.groupby('children')['debt'].agg(['count', 'sum', my_mean])"
   ]
  },
  {
   "cell_type": "markdown",
   "id": "97be82ca",
   "metadata": {
    "deletable": false,
    "editable": false,
    "id": "97be82ca"
   },
   "source": [
    "**Задание 20. Есть ли зависимость между семейным положением и возвратом кредита в срок?**"
   ]
  },
  {
   "cell_type": "code",
   "execution_count": 26,
   "id": "dc3f7ee8",
   "metadata": {
    "id": "dc3f7ee8"
   },
   "outputs": [
    {
     "name": "stdout",
     "output_type": "stream",
     "text": [
      "                       count_family  sum_family  ratio_family\n",
      "family_status                                                \n",
      "Не женат / не замужем          2796         273      0.097639\n",
      "гражданский брак               4146         385      0.092861\n",
      "женат / замужем               12266         927      0.075575\n",
      "в разводе                      1189          84      0.070648\n",
      "вдовец / вдова                  951          63      0.066246\n"
     ]
    }
   ],
   "source": [
    "debt_per_family = pd.DataFrame()\n",
    "debt_per_family['count_family'] = data.groupby('family_status')['debt'].count()  # Находим кол-во клиентов по каждому из типов СП\n",
    "debt_per_family['sum_family'] = data.groupby('family_status')['debt'].sum() # Находим сумму задолженнойстей по каждому из типов СП\n",
    "debt_per_family['ratio_family'] = debt_per_family['sum_family'] / debt_per_family['count_family']  #Находим соотношение показателей.\n",
    "print(debt_per_family.sort_values(by ='ratio_family', ascending = False))"
   ]
  },
  {
   "cell_type": "markdown",
   "id": "1cef7837",
   "metadata": {
    "deletable": false,
    "id": "1cef7837"
   },
   "source": [
    "**Вывод:**  Анализ данных показал, что люди не состоящие в официальном браке имеют высокий показатель по кол-ву задолженностей, чем люди в браке и в разводе.Лучше всех кредитные задолженности покрывают вдовы и вдовцы. "
   ]
  },
  {
   "cell_type": "markdown",
   "id": "1e8b2fca",
   "metadata": {
    "deletable": false,
    "editable": false,
    "id": "1e8b2fca"
   },
   "source": [
    "**Задание 21. Есть ли зависимость между уровнем дохода и возвратом кредита в срок?**"
   ]
  },
  {
   "cell_type": "code",
   "execution_count": 27,
   "id": "cd7e3720",
   "metadata": {
    "id": "cd7e3720"
   },
   "outputs": [
    {
     "name": "stdout",
     "output_type": "stream",
     "text": [
      "                       count_income  sum_income  ratio_income\n",
      "total_income_category                                        \n",
      "E                                22           2      0.090909\n",
      "C                             15938        1353      0.084891\n",
      "A                                25           2      0.080000\n",
      "B                              5014         354      0.070602\n",
      "D                               349          21      0.060172\n"
     ]
    }
   ],
   "source": [
    "debt_per_income = pd.DataFrame()\n",
    "debt_per_income['count_income'] = data.groupby('total_income_category')['debt'].count()  # Находим кол-во клиентов по каждому из типов дохода\n",
    "debt_per_income['sum_income'] = data.groupby('total_income_category')['debt'].sum() # Находим сумму задолженнойстей по каждому из типов дохода\n",
    "debt_per_income['ratio_income'] = debt_per_income['sum_income'] / debt_per_income['count_income']  #Находим соотношение показателей.\n",
    "print(debt_per_income.sort_values(by ='ratio_income', ascending = False))\n"
   ]
  },
  {
   "cell_type": "markdown",
   "id": "e8593def",
   "metadata": {
    "deletable": false,
    "id": "e8593def"
   },
   "source": [
    "**Вывод:** Имеющиеся данные показывают, что закономерной зависимости от уровня дохода и возвратом кредита в срок нет. Вывод мог бы тзмениться, если бы по категориям 'Е' и  'А' было бы больше статистики. "
   ]
  },
  {
   "cell_type": "markdown",
   "id": "99ecbd1f",
   "metadata": {
    "deletable": false,
    "editable": false,
    "id": "99ecbd1f"
   },
   "source": [
    "**Задание 22. Как разные цели кредита влияют на его возврат в срок?**"
   ]
  },
  {
   "cell_type": "code",
   "execution_count": 28,
   "id": "2b687290",
   "metadata": {
    "id": "2b687290",
    "scrolled": true
   },
   "outputs": [
    {
     "name": "stdout",
     "output_type": "stream",
     "text": [
      "                          count_purpose  sum_purpose  ratio_purpose\n",
      "purpose_category                                                   \n",
      "операции с автомобилем             4281          400       0.093436\n",
      "получение образования              3989          369       0.092504\n",
      "проведение свадьбы                 2324          183       0.078744\n",
      "операции с недвижимостью          10754          780       0.072531\n"
     ]
    }
   ],
   "source": [
    "debt_per_purpose = pd.DataFrame()\n",
    "debt_per_purpose['count_purpose'] = data.groupby('purpose_category')['debt'].count()  # Находим кол-во клиентов по каждому из типов СП\n",
    "debt_per_purpose['sum_purpose'] = data.groupby('purpose_category')['debt'].sum() # Находим сумму задолженнойстей по каждому из типов СП\n",
    "debt_per_purpose['ratio_purpose'] = debt_per_purpose['sum_purpose'] / debt_per_purpose['count_purpose']  #Находим соотношение показателей.\n",
    "print(debt_per_purpose.sort_values(by ='ratio_purpose', ascending = False))\n",
    "\n"
   ]
  },
  {
   "cell_type": "markdown",
   "id": "b4bb2ce6",
   "metadata": {
    "deletable": false,
    "id": "b4bb2ce6"
   },
   "source": [
    "**Вывод:**  Анализ данных показал, что люди, бравшие кредит на автомобиль имеют большее кол-во задолженностей по оплате. Далее идет получение обьразования. Лучше всех кредитные задолженности покрывают люди, бравшие кредит на приобретение недвижиости."
   ]
  },
  {
   "cell_type": "markdown",
   "id": "09c3ac4c",
   "metadata": {
    "deletable": false,
    "editable": false,
    "id": "09c3ac4c"
   },
   "source": [
    "**Задание 23. Приведите возможные причины появления пропусков в исходных данных.**"
   ]
  },
  {
   "cell_type": "markdown",
   "id": "9da2ceda",
   "metadata": {
    "deletable": false,
    "id": "9da2ceda"
   },
   "source": [
    "*Ответ:* 1.Проблемы с выгрузкой данных. 2. Незаполнение данных самим пользователем. 3.Проблемы при проставлении данных вручную.\n",
    "4.Отуствие данных о переменных, в связи с которыми появляются остальные пропуски."
   ]
  },
  {
   "cell_type": "markdown",
   "id": "7b0487d6",
   "metadata": {
    "deletable": false,
    "editable": false,
    "id": "7b0487d6"
   },
   "source": [
    "**Задание 24. Объясните, почему заполнить пропуски медианным значением — лучшее решение для количественных переменных.**"
   ]
  },
  {
   "cell_type": "markdown",
   "id": "7ecf2b8e",
   "metadata": {
    "deletable": false,
    "id": "7ecf2b8e"
   },
   "source": [
    "*Ответ:* Медиана лучше харрактеризирует данные, чем среднее значение. Особенно в тех случаях, когда некоторые значения слишком сильно выделяются. Медиана не так сильно завыщает среднее значенние, тем самым делая этот показатель более правдоподобным."
   ]
  },
  {
   "cell_type": "markdown",
   "id": "6db5255a",
   "metadata": {
    "deletable": false,
    "editable": false,
    "id": "6db5255a"
   },
   "source": [
    "## Общий вывод."
   ]
  },
  {
   "cell_type": "markdown",
   "id": "bad65432",
   "metadata": {
    "id": "bad65432"
   },
   "source": [
    "Проводенный анализ заемщиков показал, что семейный статус, кол-во детей в семье, а также цель кредита влияет на погашение задолжености в срок. Люди не имеющие детей, состоявшие в браке и берущие кредит на недвижимость, имеют самый высокий шанс оплаты кредита в срок. Люди, берущие кредит на автомобиль и не состоящие в официальном браке имеют высокий показатель по кол-ву задолженностей.Наличие детей в семье также увеличивает шанс задолжности по погашению кредита."
   ]
  },
  {
   "cell_type": "markdown",
   "id": "65c320f6",
   "metadata": {},
   "source": [
    "## Общий вывод v 1.2"
   ]
  },
  {
   "cell_type": "markdown",
   "id": "63effb0e",
   "metadata": {},
   "source": [
    "<strong><font color='#0095ffd6'>Проведенный анализ заемщиков показал, что на своевременное погашение кредита в нужный срок влияют следующие факторы.</font> </strong>\n",
    "<ol>\n",
    " <li><strong>Наличие детей в семье:</strong> Люди с 4-мя детьми в семье имеют наибольший процент задолженностей - <strong>9,75%</strong>\n",
    "    у людей не имеющих детей - <strong>7,54%</strong></li>\n",
    " <li><strong>Семейное положение: </strong>Люди не состоявщие в браке имеют наибольший процент задолженностей - <strong>9,76%</strong>\n",
    "   Вдовцы/вдовы подходят к погашению кредитов более ответсвенно- <strong>6,66%</strong></li>\n",
    " <li><strong>Цель кредита:</strong>Люди, бравшие кредит на автомобиль имеют наибольший процент задолженностей - <strong>9,34%</strong> Лучше всех кредитные задолженности покрывают люди, бравшие кредит на приобретение недвижиости - <strong>7,25%</strong> </li>\n",
    "</ol>\n",
    "Также имеющиеся данные показывают, что закономерной зависимости от уровня дохода и возвратом кредита в срок <strong>нет</strong>. Вывод мог бы измениться, если бы по категориям 'Е' и 'А' было бы больше статистики."
   ]
  }
 ],
 "metadata": {
  "ExecuteTimeLog": [
   {
    "duration": 54,
    "start_time": "2022-08-02T06:58:41.833Z"
   },
   {
    "duration": 477,
    "start_time": "2022-08-02T06:58:52.983Z"
   },
   {
    "duration": 22,
    "start_time": "2022-08-02T06:58:53.462Z"
   },
   {
    "duration": 14,
    "start_time": "2022-08-02T06:58:53.486Z"
   },
   {
    "duration": 8,
    "start_time": "2022-08-02T06:58:53.502Z"
   },
   {
    "duration": 46,
    "start_time": "2022-08-02T06:58:53.512Z"
   },
   {
    "duration": 3,
    "start_time": "2022-08-02T06:58:53.559Z"
   },
   {
    "duration": 10,
    "start_time": "2022-08-02T06:58:53.563Z"
   },
   {
    "duration": 5,
    "start_time": "2022-08-02T06:58:53.574Z"
   },
   {
    "duration": 8,
    "start_time": "2022-08-02T06:58:53.580Z"
   },
   {
    "duration": 4,
    "start_time": "2022-08-02T06:58:53.590Z"
   },
   {
    "duration": 57,
    "start_time": "2022-08-02T06:58:53.595Z"
   },
   {
    "duration": 8,
    "start_time": "2022-08-02T06:58:53.654Z"
   },
   {
    "duration": 3,
    "start_time": "2022-08-02T06:58:53.664Z"
   },
   {
    "duration": 18,
    "start_time": "2022-08-02T06:58:53.668Z"
   },
   {
    "duration": 16,
    "start_time": "2022-08-02T06:58:53.687Z"
   },
   {
    "duration": 10,
    "start_time": "2022-08-02T06:58:53.705Z"
   },
   {
    "duration": 4,
    "start_time": "2022-08-02T06:58:53.717Z"
   },
   {
    "duration": 37,
    "start_time": "2022-08-02T06:58:53.722Z"
   },
   {
    "duration": 8,
    "start_time": "2022-08-02T06:58:53.760Z"
   },
   {
    "duration": 3,
    "start_time": "2022-08-02T06:58:53.770Z"
   },
   {
    "duration": 12,
    "start_time": "2022-08-02T06:58:53.774Z"
   },
   {
    "duration": 8,
    "start_time": "2022-08-02T06:58:55.749Z"
   },
   {
    "duration": 3,
    "start_time": "2022-08-02T07:02:42.670Z"
   },
   {
    "duration": 3,
    "start_time": "2022-08-02T07:02:52.829Z"
   },
   {
    "duration": 5,
    "start_time": "2022-08-02T07:03:12.336Z"
   },
   {
    "duration": 5,
    "start_time": "2022-08-02T07:06:50.461Z"
   },
   {
    "duration": 5,
    "start_time": "2022-08-02T07:07:03.142Z"
   },
   {
    "duration": 5,
    "start_time": "2022-08-02T07:07:10.729Z"
   },
   {
    "duration": 4,
    "start_time": "2022-08-02T07:09:24.624Z"
   },
   {
    "duration": 5,
    "start_time": "2022-08-02T07:10:50.168Z"
   },
   {
    "duration": 27,
    "start_time": "2022-08-02T07:13:53.337Z"
   },
   {
    "duration": 61,
    "start_time": "2022-08-02T07:14:09.281Z"
   },
   {
    "duration": 14,
    "start_time": "2022-08-02T07:14:09.344Z"
   },
   {
    "duration": 13,
    "start_time": "2022-08-02T07:14:09.359Z"
   },
   {
    "duration": 8,
    "start_time": "2022-08-02T07:14:09.373Z"
   },
   {
    "duration": 29,
    "start_time": "2022-08-02T07:14:09.382Z"
   },
   {
    "duration": 3,
    "start_time": "2022-08-02T07:14:09.413Z"
   },
   {
    "duration": 10,
    "start_time": "2022-08-02T07:14:09.417Z"
   },
   {
    "duration": 26,
    "start_time": "2022-08-02T07:14:09.428Z"
   },
   {
    "duration": 6,
    "start_time": "2022-08-02T07:14:09.455Z"
   },
   {
    "duration": 4,
    "start_time": "2022-08-02T07:14:09.464Z"
   },
   {
    "duration": 30,
    "start_time": "2022-08-02T07:14:09.470Z"
   },
   {
    "duration": 8,
    "start_time": "2022-08-02T07:14:09.502Z"
   },
   {
    "duration": 3,
    "start_time": "2022-08-02T07:14:09.512Z"
   },
   {
    "duration": 47,
    "start_time": "2022-08-02T07:14:09.517Z"
   },
   {
    "duration": 15,
    "start_time": "2022-08-02T07:14:09.565Z"
   },
   {
    "duration": 10,
    "start_time": "2022-08-02T07:14:09.581Z"
   },
   {
    "duration": 4,
    "start_time": "2022-08-02T07:14:09.593Z"
   },
   {
    "duration": 11,
    "start_time": "2022-08-02T07:14:09.599Z"
   },
   {
    "duration": 6,
    "start_time": "2022-08-02T07:14:09.611Z"
   },
   {
    "duration": 6,
    "start_time": "2022-08-02T07:14:09.618Z"
   },
   {
    "duration": 30,
    "start_time": "2022-08-02T07:14:09.625Z"
   },
   {
    "duration": 7,
    "start_time": "2022-08-02T07:14:11.063Z"
   },
   {
    "duration": 74,
    "start_time": "2022-08-02T07:14:18.158Z"
   },
   {
    "duration": 5,
    "start_time": "2022-08-02T07:14:26.825Z"
   },
   {
    "duration": 8,
    "start_time": "2022-08-02T07:15:16.535Z"
   },
   {
    "duration": 6,
    "start_time": "2022-08-02T07:16:12.823Z"
   },
   {
    "duration": 8,
    "start_time": "2022-08-02T07:18:43.552Z"
   },
   {
    "duration": 7,
    "start_time": "2022-08-02T07:25:53.821Z"
   },
   {
    "duration": 8,
    "start_time": "2022-08-02T07:28:43.922Z"
   },
   {
    "duration": 9,
    "start_time": "2022-08-02T07:29:24.354Z"
   },
   {
    "duration": 8,
    "start_time": "2022-08-02T07:29:40.083Z"
   },
   {
    "duration": 8,
    "start_time": "2022-08-02T07:29:46.797Z"
   },
   {
    "duration": 7,
    "start_time": "2022-08-02T07:29:56.993Z"
   },
   {
    "duration": 8,
    "start_time": "2022-08-02T07:30:56.938Z"
   },
   {
    "duration": 7,
    "start_time": "2022-08-02T07:31:29.349Z"
   },
   {
    "duration": 7,
    "start_time": "2022-08-02T07:31:44.942Z"
   },
   {
    "duration": 8,
    "start_time": "2022-08-02T07:33:56.796Z"
   },
   {
    "duration": 10,
    "start_time": "2022-08-02T07:34:11.559Z"
   },
   {
    "duration": 10,
    "start_time": "2022-08-02T07:34:21.133Z"
   },
   {
    "duration": 11,
    "start_time": "2022-08-02T07:35:38.690Z"
   },
   {
    "duration": 10,
    "start_time": "2022-08-02T07:36:29.884Z"
   },
   {
    "duration": 11,
    "start_time": "2022-08-02T07:36:42.334Z"
   },
   {
    "duration": 13,
    "start_time": "2022-08-02T07:37:16.144Z"
   },
   {
    "duration": 4,
    "start_time": "2022-08-02T07:44:36.297Z"
   },
   {
    "duration": 13,
    "start_time": "2022-08-02T07:51:37.743Z"
   },
   {
    "duration": 1200,
    "start_time": "2022-08-02T07:51:55.397Z"
   },
   {
    "duration": 11,
    "start_time": "2022-08-02T07:52:06.929Z"
   },
   {
    "duration": 11,
    "start_time": "2022-08-02T07:52:28.184Z"
   },
   {
    "duration": 66,
    "start_time": "2022-08-02T07:52:32.195Z"
   },
   {
    "duration": 14,
    "start_time": "2022-08-02T07:52:32.263Z"
   },
   {
    "duration": 14,
    "start_time": "2022-08-02T07:52:32.279Z"
   },
   {
    "duration": 8,
    "start_time": "2022-08-02T07:52:32.295Z"
   },
   {
    "duration": 48,
    "start_time": "2022-08-02T07:52:32.304Z"
   },
   {
    "duration": 2,
    "start_time": "2022-08-02T07:52:32.354Z"
   },
   {
    "duration": 13,
    "start_time": "2022-08-02T07:52:32.358Z"
   },
   {
    "duration": 3,
    "start_time": "2022-08-02T07:52:32.373Z"
   },
   {
    "duration": 5,
    "start_time": "2022-08-02T07:52:32.378Z"
   },
   {
    "duration": 4,
    "start_time": "2022-08-02T07:52:32.385Z"
   },
   {
    "duration": 31,
    "start_time": "2022-08-02T07:52:32.390Z"
   },
   {
    "duration": 31,
    "start_time": "2022-08-02T07:52:32.422Z"
   },
   {
    "duration": 10,
    "start_time": "2022-08-02T07:52:32.454Z"
   },
   {
    "duration": 17,
    "start_time": "2022-08-02T07:52:32.466Z"
   },
   {
    "duration": 15,
    "start_time": "2022-08-02T07:52:32.484Z"
   },
   {
    "duration": 9,
    "start_time": "2022-08-02T07:52:32.501Z"
   },
   {
    "duration": 6,
    "start_time": "2022-08-02T07:52:32.512Z"
   },
   {
    "duration": 12,
    "start_time": "2022-08-02T07:52:32.520Z"
   },
   {
    "duration": 21,
    "start_time": "2022-08-02T07:52:32.534Z"
   },
   {
    "duration": 6,
    "start_time": "2022-08-02T07:52:32.556Z"
   },
   {
    "duration": 13,
    "start_time": "2022-08-02T07:52:32.564Z"
   },
   {
    "duration": 11,
    "start_time": "2022-08-02T07:52:34.197Z"
   },
   {
    "duration": 1485,
    "start_time": "2022-08-02T07:52:37.035Z"
   },
   {
    "duration": 13,
    "start_time": "2022-08-02T07:53:25.743Z"
   },
   {
    "duration": 4,
    "start_time": "2022-08-02T08:48:45.988Z"
   },
   {
    "duration": 7,
    "start_time": "2022-08-02T08:48:54.587Z"
   },
   {
    "duration": 6,
    "start_time": "2022-08-02T08:49:17.029Z"
   },
   {
    "duration": 5,
    "start_time": "2022-08-02T08:49:24.811Z"
   },
   {
    "duration": 10,
    "start_time": "2022-08-02T08:53:21.811Z"
   },
   {
    "duration": 12,
    "start_time": "2022-08-02T08:53:53.019Z"
   },
   {
    "duration": 9,
    "start_time": "2022-08-02T09:05:01.921Z"
   },
   {
    "duration": 21,
    "start_time": "2022-08-02T09:05:09.309Z"
   },
   {
    "duration": 357,
    "start_time": "2022-08-02T09:05:19.707Z"
   },
   {
    "duration": 321,
    "start_time": "2022-08-02T09:05:59.518Z"
   },
   {
    "duration": 353,
    "start_time": "2022-08-02T09:06:17.162Z"
   },
   {
    "duration": 22,
    "start_time": "2022-08-02T09:06:43.688Z"
   },
   {
    "duration": 82,
    "start_time": "2022-08-02T09:07:38.029Z"
   },
   {
    "duration": 19,
    "start_time": "2022-08-02T09:07:47.760Z"
   },
   {
    "duration": 130,
    "start_time": "2022-08-02T09:08:41.829Z"
   },
   {
    "duration": 127,
    "start_time": "2022-08-02T09:08:55.659Z"
   },
   {
    "duration": 123,
    "start_time": "2022-08-02T09:10:22.127Z"
   },
   {
    "duration": 126,
    "start_time": "2022-08-02T09:11:32.234Z"
   },
   {
    "duration": 125,
    "start_time": "2022-08-02T09:12:00.159Z"
   },
   {
    "duration": 129,
    "start_time": "2022-08-02T09:12:07.316Z"
   },
   {
    "duration": 140,
    "start_time": "2022-08-02T09:12:27.564Z"
   },
   {
    "duration": 124,
    "start_time": "2022-08-02T09:13:14.211Z"
   },
   {
    "duration": 64,
    "start_time": "2022-08-02T09:13:39.011Z"
   },
   {
    "duration": 13,
    "start_time": "2022-08-02T09:13:39.077Z"
   },
   {
    "duration": 20,
    "start_time": "2022-08-02T09:13:39.091Z"
   },
   {
    "duration": 8,
    "start_time": "2022-08-02T09:13:39.112Z"
   },
   {
    "duration": 45,
    "start_time": "2022-08-02T09:13:39.122Z"
   },
   {
    "duration": 3,
    "start_time": "2022-08-02T09:13:39.169Z"
   },
   {
    "duration": 11,
    "start_time": "2022-08-02T09:13:39.173Z"
   },
   {
    "duration": 4,
    "start_time": "2022-08-02T09:13:39.185Z"
   },
   {
    "duration": 6,
    "start_time": "2022-08-02T09:13:39.190Z"
   },
   {
    "duration": 4,
    "start_time": "2022-08-02T09:13:39.198Z"
   },
   {
    "duration": 51,
    "start_time": "2022-08-02T09:13:39.204Z"
   },
   {
    "duration": 8,
    "start_time": "2022-08-02T09:13:39.256Z"
   },
   {
    "duration": 3,
    "start_time": "2022-08-02T09:13:39.265Z"
   },
   {
    "duration": 17,
    "start_time": "2022-08-02T09:13:39.270Z"
   },
   {
    "duration": 15,
    "start_time": "2022-08-02T09:13:39.288Z"
   },
   {
    "duration": 8,
    "start_time": "2022-08-02T09:13:39.304Z"
   },
   {
    "duration": 5,
    "start_time": "2022-08-02T09:13:39.314Z"
   },
   {
    "duration": 37,
    "start_time": "2022-08-02T09:13:39.320Z"
   },
   {
    "duration": 8,
    "start_time": "2022-08-02T09:13:39.359Z"
   },
   {
    "duration": 3,
    "start_time": "2022-08-02T09:13:39.368Z"
   },
   {
    "duration": 13,
    "start_time": "2022-08-02T09:13:39.372Z"
   },
   {
    "duration": 9,
    "start_time": "2022-08-02T09:13:39.387Z"
   },
   {
    "duration": 11,
    "start_time": "2022-08-02T09:13:39.398Z"
   },
   {
    "duration": 8,
    "start_time": "2022-08-02T09:13:54.149Z"
   },
   {
    "duration": 13,
    "start_time": "2022-08-02T09:23:40.933Z"
   },
   {
    "duration": 15,
    "start_time": "2022-08-02T09:45:03.099Z"
   },
   {
    "duration": 72,
    "start_time": "2022-08-02T10:35:08.671Z"
   },
   {
    "duration": 19,
    "start_time": "2022-08-02T10:35:08.745Z"
   },
   {
    "duration": 42,
    "start_time": "2022-08-02T10:35:08.768Z"
   },
   {
    "duration": 12,
    "start_time": "2022-08-02T10:35:08.813Z"
   },
   {
    "duration": 52,
    "start_time": "2022-08-02T10:35:08.826Z"
   },
   {
    "duration": 6,
    "start_time": "2022-08-02T10:35:08.880Z"
   },
   {
    "duration": 16,
    "start_time": "2022-08-02T10:35:08.889Z"
   },
   {
    "duration": 13,
    "start_time": "2022-08-02T10:35:08.908Z"
   },
   {
    "duration": 7,
    "start_time": "2022-08-02T10:35:08.923Z"
   },
   {
    "duration": 26,
    "start_time": "2022-08-02T10:35:08.934Z"
   },
   {
    "duration": 73,
    "start_time": "2022-08-02T10:35:08.963Z"
   },
   {
    "duration": 22,
    "start_time": "2022-08-02T10:35:09.040Z"
   },
   {
    "duration": 11,
    "start_time": "2022-08-02T10:35:09.067Z"
   },
   {
    "duration": 27,
    "start_time": "2022-08-02T10:35:09.080Z"
   },
   {
    "duration": 28,
    "start_time": "2022-08-02T10:35:09.110Z"
   },
   {
    "duration": 23,
    "start_time": "2022-08-02T10:35:09.141Z"
   },
   {
    "duration": 15,
    "start_time": "2022-08-02T10:35:09.165Z"
   },
   {
    "duration": 13,
    "start_time": "2022-08-02T10:35:09.181Z"
   },
   {
    "duration": 6,
    "start_time": "2022-08-02T10:35:09.196Z"
   },
   {
    "duration": 8,
    "start_time": "2022-08-02T10:35:09.203Z"
   },
   {
    "duration": 11,
    "start_time": "2022-08-02T10:35:09.212Z"
   },
   {
    "duration": 30,
    "start_time": "2022-08-02T10:35:09.225Z"
   },
   {
    "duration": 26,
    "start_time": "2022-08-02T10:35:09.257Z"
   },
   {
    "duration": 20,
    "start_time": "2022-08-02T10:35:09.285Z"
   },
   {
    "duration": 16,
    "start_time": "2022-08-02T10:35:09.307Z"
   },
   {
    "duration": 76,
    "start_time": "2022-08-02T10:35:17.143Z"
   },
   {
    "duration": 14,
    "start_time": "2022-08-02T10:35:17.221Z"
   },
   {
    "duration": 20,
    "start_time": "2022-08-02T10:35:17.237Z"
   },
   {
    "duration": 15,
    "start_time": "2022-08-02T10:35:17.269Z"
   },
   {
    "duration": 40,
    "start_time": "2022-08-02T10:35:17.288Z"
   },
   {
    "duration": 4,
    "start_time": "2022-08-02T10:35:17.329Z"
   },
   {
    "duration": 20,
    "start_time": "2022-08-02T10:35:17.334Z"
   },
   {
    "duration": 12,
    "start_time": "2022-08-02T10:35:17.356Z"
   },
   {
    "duration": 6,
    "start_time": "2022-08-02T10:35:17.370Z"
   },
   {
    "duration": 6,
    "start_time": "2022-08-02T10:35:17.378Z"
   },
   {
    "duration": 34,
    "start_time": "2022-08-02T10:35:17.386Z"
   },
   {
    "duration": 9,
    "start_time": "2022-08-02T10:35:17.422Z"
   },
   {
    "duration": 25,
    "start_time": "2022-08-02T10:35:17.433Z"
   },
   {
    "duration": 28,
    "start_time": "2022-08-02T10:35:17.461Z"
   },
   {
    "duration": 17,
    "start_time": "2022-08-02T10:35:17.490Z"
   },
   {
    "duration": 9,
    "start_time": "2022-08-02T10:35:17.509Z"
   },
   {
    "duration": 5,
    "start_time": "2022-08-02T10:35:17.520Z"
   },
   {
    "duration": 36,
    "start_time": "2022-08-02T10:35:17.526Z"
   },
   {
    "duration": 8,
    "start_time": "2022-08-02T10:35:17.567Z"
   },
   {
    "duration": 3,
    "start_time": "2022-08-02T10:35:17.577Z"
   },
   {
    "duration": 9,
    "start_time": "2022-08-02T10:35:17.582Z"
   },
   {
    "duration": 13,
    "start_time": "2022-08-02T10:35:17.593Z"
   },
   {
    "duration": 19,
    "start_time": "2022-08-02T10:35:17.608Z"
   },
   {
    "duration": 38,
    "start_time": "2022-08-02T10:35:17.628Z"
   },
   {
    "duration": 30,
    "start_time": "2022-08-02T10:35:17.669Z"
   },
   {
    "duration": 682,
    "start_time": "2022-08-03T07:25:28.621Z"
   },
   {
    "duration": 22,
    "start_time": "2022-08-03T07:25:29.304Z"
   },
   {
    "duration": 14,
    "start_time": "2022-08-03T07:25:29.327Z"
   },
   {
    "duration": 10,
    "start_time": "2022-08-03T07:25:29.343Z"
   },
   {
    "duration": 30,
    "start_time": "2022-08-03T07:25:29.355Z"
   },
   {
    "duration": 26,
    "start_time": "2022-08-03T07:25:29.386Z"
   },
   {
    "duration": 12,
    "start_time": "2022-08-03T07:25:29.414Z"
   },
   {
    "duration": 7,
    "start_time": "2022-08-03T07:25:29.427Z"
   },
   {
    "duration": 9,
    "start_time": "2022-08-03T07:25:29.436Z"
   },
   {
    "duration": 3,
    "start_time": "2022-08-03T07:25:29.447Z"
   },
   {
    "duration": 31,
    "start_time": "2022-08-03T07:25:29.452Z"
   },
   {
    "duration": 30,
    "start_time": "2022-08-03T07:25:29.485Z"
   },
   {
    "duration": 5,
    "start_time": "2022-08-03T07:25:29.516Z"
   },
   {
    "duration": 31,
    "start_time": "2022-08-03T07:25:29.523Z"
   },
   {
    "duration": 18,
    "start_time": "2022-08-03T07:25:29.556Z"
   },
   {
    "duration": 12,
    "start_time": "2022-08-03T07:25:29.576Z"
   },
   {
    "duration": 3,
    "start_time": "2022-08-03T07:25:29.590Z"
   },
   {
    "duration": 11,
    "start_time": "2022-08-03T07:25:29.610Z"
   },
   {
    "duration": 8,
    "start_time": "2022-08-03T07:25:29.623Z"
   },
   {
    "duration": 4,
    "start_time": "2022-08-03T07:25:29.633Z"
   },
   {
    "duration": 11,
    "start_time": "2022-08-03T07:25:29.639Z"
   },
   {
    "duration": 12,
    "start_time": "2022-08-03T07:25:29.652Z"
   },
   {
    "duration": 11,
    "start_time": "2022-08-03T07:25:29.813Z"
   },
   {
    "duration": 12,
    "start_time": "2022-08-03T07:25:34.180Z"
   },
   {
    "duration": 13,
    "start_time": "2022-08-03T07:25:39.314Z"
   },
   {
    "duration": 75,
    "start_time": "2022-08-03T09:06:22.251Z"
   },
   {
    "duration": 78,
    "start_time": "2022-08-03T09:06:35.829Z"
   },
   {
    "duration": 46,
    "start_time": "2022-08-03T09:06:43.280Z"
   },
   {
    "duration": 665,
    "start_time": "2022-08-03T09:06:56.079Z"
   },
   {
    "duration": 22,
    "start_time": "2022-08-03T09:06:56.746Z"
   },
   {
    "duration": 21,
    "start_time": "2022-08-03T09:06:56.770Z"
   },
   {
    "duration": 10,
    "start_time": "2022-08-03T09:06:56.793Z"
   },
   {
    "duration": 57,
    "start_time": "2022-08-03T09:06:56.805Z"
   },
   {
    "duration": 5,
    "start_time": "2022-08-03T09:06:56.864Z"
   },
   {
    "duration": 13,
    "start_time": "2022-08-03T09:06:56.871Z"
   },
   {
    "duration": 6,
    "start_time": "2022-08-03T09:06:56.886Z"
   },
   {
    "duration": 15,
    "start_time": "2022-08-03T09:06:56.894Z"
   },
   {
    "duration": 26,
    "start_time": "2022-08-03T09:06:56.913Z"
   },
   {
    "duration": 43,
    "start_time": "2022-08-03T09:06:56.941Z"
   },
   {
    "duration": 10,
    "start_time": "2022-08-03T09:06:56.986Z"
   },
   {
    "duration": 4,
    "start_time": "2022-08-03T09:06:56.998Z"
   },
   {
    "duration": 46,
    "start_time": "2022-08-03T09:06:57.004Z"
   },
   {
    "duration": 16,
    "start_time": "2022-08-03T09:06:57.052Z"
   },
   {
    "duration": 10,
    "start_time": "2022-08-03T09:06:57.070Z"
   },
   {
    "duration": 8,
    "start_time": "2022-08-03T09:06:57.082Z"
   },
   {
    "duration": 14,
    "start_time": "2022-08-03T09:06:57.091Z"
   },
   {
    "duration": 10,
    "start_time": "2022-08-03T09:06:57.106Z"
   },
   {
    "duration": 3,
    "start_time": "2022-08-03T09:06:57.139Z"
   },
   {
    "duration": 11,
    "start_time": "2022-08-03T09:06:57.144Z"
   },
   {
    "duration": 12,
    "start_time": "2022-08-03T09:06:57.157Z"
   },
   {
    "duration": 10,
    "start_time": "2022-08-03T09:06:57.170Z"
   },
   {
    "duration": 11,
    "start_time": "2022-08-03T09:06:57.182Z"
   },
   {
    "duration": 59,
    "start_time": "2022-08-03T09:06:57.194Z"
   },
   {
    "duration": 21,
    "start_time": "2022-08-03T09:06:57.255Z"
   },
   {
    "duration": 18,
    "start_time": "2022-08-03T09:06:57.278Z"
   },
   {
    "duration": 43,
    "start_time": "2022-08-03T09:06:57.301Z"
   },
   {
    "duration": 75,
    "start_time": "2022-08-03T09:06:58.846Z"
   },
   {
    "duration": 117,
    "start_time": "2022-08-03T09:08:40.470Z"
   },
   {
    "duration": 73,
    "start_time": "2022-08-03T09:08:58.429Z"
   },
   {
    "duration": 56,
    "start_time": "2022-08-03T09:09:18.859Z"
   },
   {
    "duration": 51,
    "start_time": "2022-08-03T09:12:15.474Z"
   },
   {
    "duration": 62,
    "start_time": "2022-08-03T09:12:31.079Z"
   },
   {
    "duration": 50,
    "start_time": "2022-08-03T09:12:58.928Z"
   },
   {
    "duration": 6,
    "start_time": "2022-08-03T09:13:21.574Z"
   }
  ],
  "colab": {
   "name": "dpp_template_part2.ipynb",
   "provenance": []
  },
  "kernelspec": {
   "display_name": "Python 3 (ipykernel)",
   "language": "python",
   "name": "python3"
  },
  "language_info": {
   "codemirror_mode": {
    "name": "ipython",
    "version": 3
   },
   "file_extension": ".py",
   "mimetype": "text/x-python",
   "name": "python",
   "nbconvert_exporter": "python",
   "pygments_lexer": "ipython3",
   "version": "3.10.5"
  },
  "toc": {
   "base_numbering": 1,
   "nav_menu": {},
   "number_sections": true,
   "sideBar": true,
   "skip_h1_title": true,
   "title_cell": "Table of Contents",
   "title_sidebar": "Contents",
   "toc_cell": false,
   "toc_position": {},
   "toc_section_display": true,
   "toc_window_display": true
  }
 },
 "nbformat": 4,
 "nbformat_minor": 5
}
