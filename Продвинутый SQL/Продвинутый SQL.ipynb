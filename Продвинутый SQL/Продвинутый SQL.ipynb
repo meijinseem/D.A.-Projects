{
 "cells": [
  {
   "cell_type": "markdown",
   "id": "d0675948",
   "metadata": {},
   "source": [
    "<h1>Знакомство с базой данных</h1>"
   ]
  },
  {
   "cell_type": "markdown",
   "id": "6b771859",
   "metadata": {},
   "source": [
    "Проект состоит из двух частей:\n",
    "В первой части вы решите несколько задач в SQL-тренажёре, чтобы закрепить пройденный материал.\n",
    "Вторая часть проекта — аналитическая. Проверять задачи по-прежнему будет тренажёр. Однако мы рекомендуем самостоятельно анализировать полученные результаты и формулировать выводы.\n",
    "\n",
    "Внимательно читайте условия. Формулировки задач в проекте приближены к реальной жизни. В работе часто встретятся такие формулировки: «рассчитать LTV за последние 30 дней», «отобразить самых активных покупателей» или даже «определить, почему в компании упали продажи».\n",
    "\n",
    "В самостоятельном проекте вы будете работать с базой данных StackOverflow — сервиса вопросов и ответов о программировании. StackOverflow похож на социальную сеть — пользователи сервиса задают вопросы, отвечают на посты, оставляют комментарии и ставят оценки другим ответам.\n",
    "Вы будете работать с версией базы, где хранятся данные о постах за 2008 год, но в таблицах вы найдёте информацию и о более поздних оценках, которые эти посты получили.\n",
    "Изучите ER-диаграмму базы:"
   ]
  },
  {
   "cell_type": "markdown",
   "id": "ea779a22",
   "metadata": {},
   "source": [
    "<h2>Первая часть</h2>"
   ]
  },
  {
   "cell_type": "markdown",
   "id": "dd82a1b6",
   "metadata": {},
   "source": [
    "Схема БД: <https://ibb.co/QDB9cJj>"
   ]
  },
  {
   "cell_type": "markdown",
   "id": "6bc866ac",
   "metadata": {},
   "source": [
    "<strong>1.\n",
    "Найдите количество вопросов, которые набрали больше 300 очков или как минимум 100 раз были добавлены в «Закладки».</strong>"
   ]
  },
  {
   "cell_type": "markdown",
   "id": "a2df0577",
   "metadata": {},
   "source": [
    "SELECT COUNT(p.id)\n",
    "\n",
    "FROM stackoverflow.posts p JOIN stackoverflow.post_types pt ON p.post_type_id = pt.id\n",
    "\n",
    "WHERE type = 'Question'\n",
    "\n",
    "  AND (favorites_count >= 100\n",
    "  \n",
    "   OR score > 300);\n",
    "\n"
   ]
  },
  {
   "cell_type": "markdown",
   "id": "04771121",
   "metadata": {},
   "source": [
    "<strong>2.\n",
    "Сколько в среднем в день задавали вопросов с 1 по 18 ноября 2008 включительно? Результат округлите до целого числа.</strong>"
   ]
  },
  {
   "cell_type": "markdown",
   "id": "f6c815ac",
   "metadata": {},
   "source": [
    "WITH\n",
    "\n",
    "questions as (SELECT creation_date::DATE,\n",
    "\n",
    "   COUNT(p.id)\n",
    "   \n",
    "FROM stackoverflow.posts p JOIN stackoverflow.post_types pt ON p.post_type_id = pt.id\n",
    "\n",
    "WHERE type = 'Question'\n",
    "\n",
    "    AND creation_date::date between '2008-11-01' and '2008-11-18'\n",
    "    \n",
    "GROUP BY creation_date::DATE)\n",
    "\n",
    "\n",
    "SELECT ROUND(AVG(count))\n",
    "\n",
    "FROM questions;"
   ]
  },
  {
   "cell_type": "markdown",
   "id": "beeecdf0",
   "metadata": {},
   "source": [
    "<strong>3.\n",
    "Сколько пользователей получили значки сразу в день регистрации? Выведите количество уникальных пользователей.</strong>"
   ]
  },
  {
   "cell_type": "markdown",
   "id": "93a6c81f",
   "metadata": {},
   "source": [
    "SElECT COUNT(DISTINCT u.id)\n",
    "\n",
    "FROM stackoverflow.users as u\n",
    "\n",
    "JOIN stackoverflow.badges as b ON u.id = b.user_id\n",
    "\n",
    "WHERE u.creation_date::date = b.creation_date::date;"
   ]
  },
  {
   "cell_type": "markdown",
   "id": "ec7d5a4e",
   "metadata": {},
   "source": [
    "<strong>\n",
    "4.\n",
    "Сколько уникальных постов пользователя с именем Joel Coehoorn получили хотя бы один голос?</strong>"
   ]
  },
  {
   "cell_type": "markdown",
   "id": "9a2c3772",
   "metadata": {},
   "source": [
    "SELECT COUNT(DISTINCT p.id)\n",
    "\n",
    "FROM stackoverflow.posts p JOIN stackoverflow.users u ON u.id = p.user_id JOIN stackoverflow.votes v ON v.post_id = p.id\n",
    "\n",
    "WHERE display_name = 'Joel Coehoorn'"
   ]
  },
  {
   "cell_type": "markdown",
   "id": "56cec6ab",
   "metadata": {},
   "source": [
    "<strong>5.\n",
    "Выгрузите все поля таблицы vote_types. Добавьте к таблице поле rank, в которое войдут номера записей в обратном порядке. Таблица должна быть отсортирована по полю id.</strong>"
   ]
  },
  {
   "cell_type": "markdown",
   "id": "56433b28",
   "metadata": {},
   "source": [
    "SElECT *, ROW_NUMBER() OVER (ORDER BY id DESC )\n",
    "\n",
    "FROM stackoverflow.vote_types\n",
    "\n",
    "ORDER BY id;"
   ]
  },
  {
   "cell_type": "markdown",
   "id": "b1b9965f",
   "metadata": {},
   "source": [
    "<strong>6.\n",
    "Отберите 10 пользователей, которые поставили больше всего голосов типа Close. Отобразите таблицу из двух полей: идентификатором пользователя и количеством голосов. Отсортируйте данные сначала по убыванию количества голосов, потом по убыванию значения идентификатора пользователя.</strong>"
   ]
  },
  {
   "cell_type": "markdown",
   "id": "a426a4d6",
   "metadata": {},
   "source": [
    "SElECT u.id,\n",
    "\n",
    "        COUNT(v_t.name)\n",
    "        \n",
    "FROM stackoverflow.users u\n",
    "\n",
    "JOIN stackoverflow.votes v ON u.id = v.user_id\n",
    "\n",
    "JOIN stackoverflow.vote_types v_t ON v.vote_type_id = v_t.id\n",
    "\n",
    "WHERE v_t.name = 'Close'\n",
    "\n",
    "GROUP BY u.id\n",
    "\n",
    "order by COUNT(v_t.name) DESC, id DESC\n",
    "\n",
    "LIMIT 10;"
   ]
  },
  {
   "cell_type": "markdown",
   "id": "19e82599",
   "metadata": {},
   "source": [
    "<strong>7.\n",
    "Отберите 10 пользователей по количеству значков, полученных в период с 15 ноября по 15 декабря 2008 года включительно. Отобразите несколько полей:\n",
    "идентификатор пользователя;\n",
    "число значков;\n",
    "место в рейтинге — чем больше значков, тем выше рейтинг.\n",
    "Пользователям, которые набрали одинаковое количество значков, присвойте одно и то же место в рейтинге.\n",
    "Отсортируйте записи по количеству значков по убыванию, а затем по возрастанию значения идентификатора пользователя.</strong>"
   ]
  },
  {
   "cell_type": "markdown",
   "id": "85214ca8",
   "metadata": {},
   "source": [
    "SELECT u.id, COUNT(b.id), DENSE_RANK() OVER (ORDER BY COUNT(b.id) desc) as rating\n",
    "\n",
    "FROM stackoverflow.users u\n",
    "\n",
    "JOIN stackoverflow.badges b ON u.id = b.user_id\n",
    "\n",
    "WHERE b.creation_date::date between '2008-11-15' AND '2008-12-15'\n",
    "\n",
    "GROUP BY u.id\n",
    "\n",
    "ORDER BY COUNT(b.id) DESC, u.id\n",
    "\n",
    "LIMIT 10;"
   ]
  },
  {
   "cell_type": "markdown",
   "id": "fd38b45d",
   "metadata": {},
   "source": [
    "<strong>8.\n",
    "Сколько в среднем очков получает пост каждого пользователя?\n",
    "Сформируйте таблицу из следующих полей:\n",
    "заголовок поста;\n",
    "идентификатор пользователя;\n",
    "число очков поста;\n",
    "среднее число очков пользователя за пост, округлённое до целого числа.\n",
    "Не учитывайте посты без заголовка, а также те, что набрали ноль очков.</strong>"
   ]
  },
  {
   "cell_type": "markdown",
   "id": "ea9c9445",
   "metadata": {},
   "source": [
    "SELECT  title,\n",
    "\n",
    "        user_id,\n",
    "        \n",
    "        score,\n",
    "        \n",
    "        ROUND(AVG(score) OVER (PARTITION BY user_id))\n",
    "        \n",
    "FROM stackoverflow.posts p\n",
    "\n",
    "WHERE title is not NULL\n",
    "\n",
    "    AND score != 0;"
   ]
  },
  {
   "cell_type": "markdown",
   "id": "b8517480",
   "metadata": {},
   "source": [
    "<strong>9.\n",
    "Отобразите заголовки постов, которые были написаны пользователями, получившими более 1000 значков. Посты без заголовков не должны попасть в список.</strong>"
   ]
  },
  {
   "cell_type": "markdown",
   "id": "df2471b5",
   "metadata": {},
   "source": [
    "WITH \n",
    "\n",
    "profiles as\n",
    "\n",
    "(SELECT user_id, COUNT(id)\n",
    "\n",
    "FROM stackoverflow.badges b\n",
    "\n",
    "GROUP BY user_id \n",
    "\n",
    "HAVING COUNT(id)> 1000)\n",
    "\n",
    "\n",
    "SELECT  title\n",
    "\n",
    "FROM  stackoverflow.posts p\n",
    "\n",
    "WHERE user_id in (\n",
    "\n",
    "SELECT user_id\n",
    "\n",
    "FROM profiles)\n",
    "\n",
    "AND title is not NULL;"
   ]
  },
  {
   "cell_type": "markdown",
   "id": "7377310c",
   "metadata": {},
   "source": [
    "<strong>10.\n",
    "Напишите запрос, который выгрузит данные о пользователях из США (англ. United States). Разделите пользователей на три группы в зависимости от количества просмотров их профилей:\n",
    "пользователям с числом просмотров больше либо равным 350 присвойте группу 1;\n",
    "пользователям с числом просмотров меньше 350, но больше либо равно 100 — группу 2;\n",
    "пользователям с числом просмотров меньше 100 — группу 3.\n",
    "Отобразите в итоговой таблице идентификатор пользователя, количество просмотров профиля и группу. Пользователи с нулевым количеством просмотров не должны войти в итоговую таблицу.</strong>"
   ]
  },
  {
   "cell_type": "markdown",
   "id": "62bd3829",
   "metadata": {},
   "source": [
    "SELECT id,\n",
    "\n",
    "       views,\n",
    "       \n",
    "       CASE\n",
    "       \n",
    "           WHEN views >= 350 THEN 1\n",
    "           \n",
    "           WHEN views >= 100 THEN 2\n",
    "           \n",
    "           ELSE 3\n",
    "           \n",
    "       END as group\n",
    "       \n",
    "FROM stackoverflow.users\n",
    "\n",
    "WHERE location LIKE '%United States%'\n",
    "\n",
    " and views != 0"
   ]
  },
  {
   "cell_type": "markdown",
   "id": "8512b23c",
   "metadata": {},
   "source": [
    "<strong>11.\n",
    "Дополните предыдущий запрос. Отобразите лидеров каждой группы — пользователей, которые набрали максимальное число просмотров в своей группе. Выведите поля с идентификатором пользователя, группой и количеством просмотров. Отсортируйте таблицу по убыванию просмотров, а затем по возрастанию значения идентификатора.</strong>"
   ]
  },
  {
   "cell_type": "markdown",
   "id": "b89904fa",
   "metadata": {},
   "source": [
    "WITH kek AS\n",
    "\n",
    "(SELECT id,\n",
    "\n",
    " CASE\n",
    " \n",
    "           WHEN views >= 350 THEN 1\n",
    "           \n",
    "           WHEN views >= 100 AND views < 350 THEN 2\n",
    "           \n",
    "           WHEN views < 100 THEN 3\n",
    "           \n",
    "       END AS view_,\n",
    "       \n",
    "       views\n",
    "       \n",
    "FROM stackoverflow.users\n",
    "\n",
    "WHERE LOCATION LIKE '%United States%' AND views != 0),\n",
    "\n",
    "\n",
    "lol as (SELECT  *,\n",
    "\n",
    "        MAX(views) OVER (PARTITION BY view_ ORDER BY view_ DESC)\n",
    "        \n",
    "FROM kek)\n",
    "\n",
    "\n",
    "SELECT id, view_,views\n",
    "\n",
    "FROM lol\n",
    "\n",
    "WHERE views = max\n",
    "\n",
    "ORDER BY views  DESC, id ASC;"
   ]
  },
  {
   "cell_type": "markdown",
   "id": "4b9d68d9",
   "metadata": {},
   "source": [
    "<strong>12.\n",
    "Посчитайте ежедневный прирост новых пользователей в ноябре 2008 года. Сформируйте таблицу с полями:\n",
    "номер дня;\n",
    "число пользователей, зарегистрированных в этот день;\n",
    "сумму пользователей с накоплением.</strong>"
   ]
  },
  {
   "cell_type": "markdown",
   "id": "6d37a938",
   "metadata": {},
   "source": [
    "SELECT  DISTINCT\n",
    "\n",
    "        EXTRACT(DAY FROM creation_date::date),\n",
    "        \n",
    "        COUNT(id) OVER (PARTITION  BY creation_date::date) AS costs,\n",
    "        \n",
    "        COUNT(id) OVER (ORDER BY creation_date::date) AS costs_cum\n",
    "        \n",
    "FROM stackoverflow.users\n",
    "\n",
    "WHERE creation_date::date BETWEEN '2008-11-01' and '2008-11-30';"
   ]
  },
  {
   "cell_type": "markdown",
   "id": "352f456e",
   "metadata": {},
   "source": [
    "<strong>13.\n",
    "Для каждого пользователя, который написал хотя бы один пост, найдите интервал между регистрацией и временем создания первого поста. Отобразите:\n",
    "идентификатор пользователя;\n",
    "разницу во времени между регистрацией и первым постом.\n",
    "</strong>"
   ]
  },
  {
   "cell_type": "markdown",
   "id": "c8bd1e15",
   "metadata": {},
   "source": [
    "WITH\n",
    "\n",
    "tabe as (SELECT  * ,ROW_NUMBER() OVER (PARTITION BY u.id ORDER BY p.creation_date ) as rn,\n",
    "\n",
    "         u.creation_date as create_user,\n",
    "         \n",
    "         p.creation_date as create_post,\n",
    "         \n",
    "         u.id as users_idi\n",
    "         \n",
    "FROM stackoverflow.posts p\n",
    "\n",
    "JOIN stackoverflow.users u ON p.user_id = u.id)\n",
    "\n",
    "\n",
    "SELECT   users_idi,\n",
    "\n",
    "         create_post - create_user as diff\n",
    "         \n",
    "FROM tabe\n",
    "\n",
    "WHERE rn = 1;"
   ]
  },
  {
   "cell_type": "markdown",
   "id": "0d327dce",
   "metadata": {},
   "source": [
    "<h2>Вторя часть</h2>"
   ]
  },
  {
   "cell_type": "markdown",
   "id": "d8b438ad",
   "metadata": {},
   "source": [
    "<strong>1.\n",
    "Выведите общую сумму просмотров постов за каждый месяц 2008 года. Если данных за какой-либо месяц в базе нет, такой месяц можно пропустить. Результат отсортируйте по убыванию общего количества просмотров.</strong>"
   ]
  },
  {
   "cell_type": "markdown",
   "id": "66d9cb66",
   "metadata": {},
   "source": [
    "SELECT DATE_TRUNC('month',creation_date)::date,  SUM(views_count)\n",
    "\n",
    "FROM stackoverflow.posts\n",
    "\n",
    "GROUP BY DATE_TRUNC('month',creation_date)\n",
    "\n",
    "ORDER BY  SUM(views_count) DESC;"
   ]
  },
  {
   "cell_type": "markdown",
   "id": "2c67279d",
   "metadata": {},
   "source": [
    "<strong>2.\n",
    "Выведите имена самых активных пользователей, которые в первый месяц после регистрации (включая день регистрации) дали больше 100 ответов. Вопросы, которые задавали пользователи, не учитывайте. Для каждого имени пользователя выведите количество уникальных значений user_id. Отсортируйте результат по полю с именами в лексикографическом порядке.</strong>"
   ]
  },
  {
   "cell_type": "markdown",
   "id": "1d532861",
   "metadata": {},
   "source": [
    "with t as (\n",
    "\n",
    "    select\n",
    "    \n",
    "    display_name,\n",
    "    \n",
    "    count(distinct user_id) as user_ids,  \n",
    "    \n",
    "    count(p.id) as post_count\n",
    "\n",
    "from stackoverflow.users u\n",
    "\n",
    "join stackoverflow.posts p on u.id = p.user_id\n",
    "\n",
    "join stackoverflow.post_types pt on p.post_type_id = pt.id\n",
    "\n",
    "where type = 'Answer' and DATE_TRUNC('day', p.creation_date) <= DATE_TRUNC('day', u.creation_date) + INTERVAL '1 month'\n",
    "\n",
    "group by display_name\n",
    ")\n",
    "\n",
    "select \n",
    "\n",
    "    display_name,\n",
    "    \n",
    "    user_ids\n",
    "    \n",
    "from t\n",
    "group by display_name, user_ids, post_count\n",
    "\n",
    "having post_count > 100\n",
    "\n",
    "order by display_name"
   ]
  },
  {
   "cell_type": "markdown",
   "id": "b229e0bb",
   "metadata": {},
   "source": [
    "<strong>3.\n",
    "Выведите количество постов за 2008 год по месяцам. Отберите посты от пользователей, которые зарегистрировались в сентябре 2008 года и сделали хотя бы один пост в декабре того же года. Отсортируйте таблицу по значению месяца по убыванию.</strong>"
   ]
  },
  {
   "cell_type": "markdown",
   "id": "f3eb662a",
   "metadata": {},
   "source": [
    "WITH \n",
    "\n",
    "september AS (SELECT *\n",
    "\n",
    "FROM stackoverflow.users\n",
    "\n",
    "WHERE creation_date::date between '2008-09-01' AND '2008-09-30'),\n",
    "\n",
    "\n",
    "december as (SELECT *\n",
    "\n",
    "FROM stackoverflow.posts\n",
    "\n",
    "WHERE creation_date::date between '2008-12-01' AND '2008-12-31'),\n",
    "\n",
    "\n",
    "use as (SELECT s.id\n",
    "\n",
    "FROM september s JOIN december d ON s.id = d.user_id)\n",
    "\n",
    "\n",
    "\n",
    "SELECT  DATE_TRUNC('month',creation_date)::date,\n",
    "\n",
    "        COUNT(id)\n",
    "        \n",
    "FROM stackoverflow.posts\n",
    "\n",
    "WHERE user_id in (SELECT s.id\n",
    "\n",
    "FROM september s JOIN december d ON s.id = d.user_id)\n",
    "\n",
    "GROUP BY DATE_TRUNC('month',creation_date)::date\n",
    "\n",
    "ORDER BY  DATE_TRUNC('month',creation_date)::date DESC ;\n"
   ]
  },
  {
   "cell_type": "markdown",
   "id": "8e294028",
   "metadata": {},
   "source": [
    "<strong>4.\n",
    "Используя данные о постах, выведите несколько полей:\n",
    "идентификатор пользователя, который написал пост;\n",
    "дата создания поста;\n",
    "количество просмотров у текущего поста;\n",
    "сумму просмотров постов автора с накоплением.\n",
    "Данные в таблице должны быть отсортированы по возрастанию идентификаторов пользователей, а данные об одном и том же пользователе — по возрастанию даты создания поста.</strong>"
   ]
  },
  {
   "cell_type": "markdown",
   "id": "03f81680",
   "metadata": {},
   "source": [
    "SELECT   user_id, creation_date, views_count, \n",
    "\n",
    "         SUM(views_count) OVER (PARTITION BY user_id ORDER BY creation_date)\n",
    "         \n",
    "FROM stackoverflow.posts;"
   ]
  },
  {
   "cell_type": "markdown",
   "id": "db018c3d",
   "metadata": {},
   "source": [
    "<strong>5.\n",
    "Сколько в среднем дней в период с 1 по 7 декабря 2008 года включительно пользователи взаимодействовали с платформой? Для каждого пользователя отберите дни, в которые он или она опубликовали хотя бы один пост. Нужно получить одно целое число — не забудьте округлить результат.</strong>"
   ]
  },
  {
   "cell_type": "markdown",
   "id": "ec3cf98f",
   "metadata": {},
   "source": [
    "WITH kek AS (SELECT DISTINCT user_id,\n",
    "\n",
    "        DATE_TRUNC('day', creation_date)::date as dt\n",
    "        \n",
    "FROM stackoverflow.posts\n",
    "\n",
    " WHERE DATE_TRUNC('day', creation_date)::date BETWEEN '2008-12-01' AND '2008-12-07'),\n",
    " \n",
    " lol AS (SELECT  DISTINCT user_id,\n",
    " \n",
    "         COUNT(dt) OVER (PARTITION BY user_id)\n",
    "         \n",
    " FROM kek)\n",
    " \n",
    " SELECT ROUND(AVG(count))\n",
    " \n",
    " FROM lol"
   ]
  },
  {
   "cell_type": "markdown",
   "id": "28a80dff",
   "metadata": {},
   "source": [
    "<strong>6.\n",
    "На сколько процентов менялось количество постов ежемесячно с 1 сентября по 31 декабря 2008 года? Отобразите таблицу со следующими полями:\n",
    "номер месяца;\n",
    "количество постов за месяц;\n",
    "процент, который показывает, насколько изменилось количество постов в текущем месяце по сравнению с предыдущим.\n",
    "Если постов стало меньше, значение процента должно быть отрицательным, если больше — положительным. Округлите значение процента до двух знаков после запятой.\n",
    "Напомним, что при делении одного целого числа на другое в PostgreSQL в результате получится целое число, округлённое до ближайшего целого вниз. Чтобы этого избежать, переведите делимое в тип numeric.</strong>"
   ]
  },
  {
   "cell_type": "markdown",
   "id": "cdc7ff4a",
   "metadata": {},
   "source": [
    " WITH \n",
    " \n",
    "frst AS\n",
    "\n",
    "(SELECT DISTINCT EXTRACT(month from creation_date) as dt,\n",
    "\n",
    "                   COUNT(id) OVER (PARTITION BY DATE_TRUNC('month', creation_date)::date) as count_\n",
    "                   \n",
    "FROM stackoverflow.posts\n",
    "\n",
    "WHERE DATE_TRUNC('day', creation_date)::date BETWEEN '2008-09-01' AND '2008-12-31' \n",
    "\n",
    "GROUP BY creation_date,id),\n",
    "\n",
    "scnd AS \n",
    "\n",
    "(SELECT dt,\n",
    "\n",
    "        CAST(count_ as numeric),\n",
    "        \n",
    "        CAST(count_ - LAG(count_, 1) OVER (ORDER BY dt) as numeric) as diff\n",
    "        \n",
    "FROM frst)\n",
    "\n",
    "                       \n",
    "select dt,\n",
    "\n",
    "        count_,\n",
    "        \n",
    "        ROUND((diff/LAG(count_, 1) OVER (ORDER BY dt))*100, 2)\n",
    "        \n",
    "from scnd;\n"
   ]
  },
  {
   "cell_type": "markdown",
   "id": "327834b4",
   "metadata": {},
   "source": [
    "<strong>7.\n",
    "Выгрузите данные активности пользователя, который опубликовал больше всего постов за всё время. Выведите данные за октябрь 2008 года в таком виде:\n",
    "номер недели;\n",
    "дата и время последнего поста, опубликованного на этой неделе.</strong>"
   ]
  },
  {
   "cell_type": "markdown",
   "id": "fba7b65e",
   "metadata": {},
   "source": [
    "WITH\n",
    "\n",
    "big_user AS\n",
    "\n",
    "(SELECT user_id\n",
    "\n",
    "FROM (SELECT user_id,\n",
    "\n",
    "       COUNT(id)\n",
    "       \n",
    "FROM stackoverflow.posts\n",
    "\n",
    "GROUP BY user_id\n",
    "\n",
    "ORDER BY  COUNT(id) DESC\n",
    "\n",
    "LIMIT 1)as kek)\n",
    "\n",
    "\n",
    "SELECT DISTINCT  extract(week from creation_date::date) AS week_number,\n",
    "\n",
    "                 LAST_VALUE(creation_date) OVER (PARTITION BY extract(week from creation_date::date) ORDER BY creation_date \n",
    "                 \n",
    "                 ROWS BETWEEN CURRENT ROW AND UNBOUNDED FOLLOWING)\n",
    "                 \n",
    "FROM stackoverflow.posts\n",
    "\n",
    "WHERE user_id IN (SELECT*\n",
    "\n",
    "                  FROM big_user)\n",
    "                  \n",
    "                  AND  creation_date between '2008-10-01' and '2008-11-01'"
   ]
  },
  {
   "cell_type": "code",
   "execution_count": null,
   "id": "ce770213",
   "metadata": {},
   "outputs": [],
   "source": []
  }
 ],
 "metadata": {
  "kernelspec": {
   "display_name": "Python 3 (ipykernel)",
   "language": "python",
   "name": "python3"
  },
  "language_info": {
   "codemirror_mode": {
    "name": "ipython",
    "version": 3
   },
   "file_extension": ".py",
   "mimetype": "text/x-python",
   "name": "python",
   "nbconvert_exporter": "python",
   "pygments_lexer": "ipython3",
   "version": "3.10.5"
  }
 },
 "nbformat": 4,
 "nbformat_minor": 5
}
