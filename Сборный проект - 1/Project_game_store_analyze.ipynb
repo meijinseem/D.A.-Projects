{
 "cells": [
  {
   "cell_type": "markdown",
   "metadata": {},
   "source": [
    "<h1> Проектная работа в интернет-магазине «Стримчик» </h1>"
   ]
  },
  {
   "cell_type": "markdown",
   "metadata": {},
   "source": [
    "<strong>Описание проекта: </strong>\n",
    "<p>Мы проводим исследование в интернет-магазине «Стримчик», который продаёт по всему миру компьютерные игры. Из открытых источников доступны исторические данные о продажах игр, оценки пользователей и экспертов, жанры и платформы (например, Xbox или PlayStation).Необходимо выявить определяющие успешность игры закономерности. Это позволит сделать ставку на потенциально популярный продукт и спланировать рекламные кампании.</p>"
   ]
  },
  {
   "cell_type": "markdown",
   "metadata": {},
   "source": [
    "<strong>Задача: </strong>\n",
    "    <p>Оценить успешность платформ, жанров для игры в разных регионах. Выявить закономерности, а так же определить, какой продукт будет наиболее потенциальным, при планированит рекламных кампаний на 2017 год.</p>"
   ]
  },
  {
   "cell_type": "markdown",
   "metadata": {},
   "source": [
    "<strong>Этапы работы с датасетом:</strong>\n",
    "<ol>\n",
    "    <li>Оценка на наличие: Дубликатов, пропусков, аномальных значений, формата значений.</li>\n",
    "    <li>Проверка на наличие аномальных значений</li>\n",
    "    <li>Исследовательский анализ: пределение факторов, влияющих на продажи, определение лидеров продаж</li>\n",
    "    <li>Составление портрета пользователя из разных регионов</li>\n",
    "    <li>Формулировка, проверка нулевых и альтернативных гипотез</li>\n",
    "    <li>Составление общего вывода</li>\n",
    "</ol>"
   ]
  },
  {
   "cell_type": "markdown",
   "metadata": {},
   "source": [
    "<h3> Шаг 1. Откройте файл с данными и изучите общую информацию </h3>"
   ]
  },
  {
   "cell_type": "code",
   "execution_count": 1,
   "metadata": {},
   "outputs": [],
   "source": [
    "import pandas as pd\n",
    "import numpy as np"
   ]
  },
  {
   "cell_type": "code",
   "execution_count": 2,
   "metadata": {},
   "outputs": [],
   "source": [
    "data = pd.read_csv('/datasets/games.csv')"
   ]
  },
  {
   "cell_type": "markdown",
   "metadata": {},
   "source": [
    "<h3> Шаг 2. Подготовьте данные </h3>"
   ]
  },
  {
   "cell_type": "markdown",
   "metadata": {},
   "source": [
    "<h4> Замените названия столбцов (приведите к нижнему регистру) </h4>"
   ]
  },
  {
   "cell_type": "code",
   "execution_count": 3,
   "metadata": {},
   "outputs": [
    {
     "name": "stdout",
     "output_type": "stream",
     "text": [
      "<class 'pandas.core.frame.DataFrame'>\n",
      "RangeIndex: 16715 entries, 0 to 16714\n",
      "Data columns (total 11 columns):\n",
      " #   Column           Non-Null Count  Dtype  \n",
      "---  ------           --------------  -----  \n",
      " 0   Name             16713 non-null  object \n",
      " 1   Platform         16715 non-null  object \n",
      " 2   Year_of_Release  16446 non-null  float64\n",
      " 3   Genre            16713 non-null  object \n",
      " 4   NA_sales         16715 non-null  float64\n",
      " 5   EU_sales         16715 non-null  float64\n",
      " 6   JP_sales         16715 non-null  float64\n",
      " 7   Other_sales      16715 non-null  float64\n",
      " 8   Critic_Score     8137 non-null   float64\n",
      " 9   User_Score       10014 non-null  object \n",
      " 10  Rating           9949 non-null   object \n",
      "dtypes: float64(6), object(5)\n",
      "memory usage: 1.4+ MB\n"
     ]
    }
   ],
   "source": [
    "data.info()"
   ]
  },
  {
   "cell_type": "code",
   "execution_count": 4,
   "metadata": {},
   "outputs": [],
   "source": [
    "data.columns = data.columns.str.lower()"
   ]
  },
  {
   "cell_type": "code",
   "execution_count": 5,
   "metadata": {},
   "outputs": [
    {
     "name": "stdout",
     "output_type": "stream",
     "text": [
      "Кол-во дубликатов в датасете: 0\n"
     ]
    }
   ],
   "source": [
    "print( 'Кол-во дубликатов в датасете:', data.duplicated().sum())"
   ]
  },
  {
   "cell_type": "code",
   "execution_count": 6,
   "metadata": {},
   "outputs": [
    {
     "data": {
      "text/html": [
       "<div>\n",
       "<style scoped>\n",
       "    .dataframe tbody tr th:only-of-type {\n",
       "        vertical-align: middle;\n",
       "    }\n",
       "\n",
       "    .dataframe tbody tr th {\n",
       "        vertical-align: top;\n",
       "    }\n",
       "\n",
       "    .dataframe thead th {\n",
       "        text-align: right;\n",
       "    }\n",
       "</style>\n",
       "<table border=\"1\" class=\"dataframe\">\n",
       "  <thead>\n",
       "    <tr style=\"text-align: right;\">\n",
       "      <th></th>\n",
       "      <th>name</th>\n",
       "      <th>platform</th>\n",
       "      <th>year_of_release</th>\n",
       "      <th>genre</th>\n",
       "      <th>na_sales</th>\n",
       "      <th>eu_sales</th>\n",
       "      <th>jp_sales</th>\n",
       "      <th>other_sales</th>\n",
       "      <th>critic_score</th>\n",
       "      <th>user_score</th>\n",
       "      <th>rating</th>\n",
       "    </tr>\n",
       "  </thead>\n",
       "  <tbody>\n",
       "    <tr>\n",
       "      <th>0</th>\n",
       "      <td>Wii Sports</td>\n",
       "      <td>Wii</td>\n",
       "      <td>2006.0</td>\n",
       "      <td>Sports</td>\n",
       "      <td>41.36</td>\n",
       "      <td>28.96</td>\n",
       "      <td>3.77</td>\n",
       "      <td>8.45</td>\n",
       "      <td>76.0</td>\n",
       "      <td>8</td>\n",
       "      <td>E</td>\n",
       "    </tr>\n",
       "    <tr>\n",
       "      <th>1</th>\n",
       "      <td>Super Mario Bros.</td>\n",
       "      <td>NES</td>\n",
       "      <td>1985.0</td>\n",
       "      <td>Platform</td>\n",
       "      <td>29.08</td>\n",
       "      <td>3.58</td>\n",
       "      <td>6.81</td>\n",
       "      <td>0.77</td>\n",
       "      <td>NaN</td>\n",
       "      <td>NaN</td>\n",
       "      <td>NaN</td>\n",
       "    </tr>\n",
       "    <tr>\n",
       "      <th>2</th>\n",
       "      <td>Mario Kart Wii</td>\n",
       "      <td>Wii</td>\n",
       "      <td>2008.0</td>\n",
       "      <td>Racing</td>\n",
       "      <td>15.68</td>\n",
       "      <td>12.76</td>\n",
       "      <td>3.79</td>\n",
       "      <td>3.29</td>\n",
       "      <td>82.0</td>\n",
       "      <td>8.3</td>\n",
       "      <td>E</td>\n",
       "    </tr>\n",
       "    <tr>\n",
       "      <th>3</th>\n",
       "      <td>Wii Sports Resort</td>\n",
       "      <td>Wii</td>\n",
       "      <td>2009.0</td>\n",
       "      <td>Sports</td>\n",
       "      <td>15.61</td>\n",
       "      <td>10.93</td>\n",
       "      <td>3.28</td>\n",
       "      <td>2.95</td>\n",
       "      <td>80.0</td>\n",
       "      <td>8</td>\n",
       "      <td>E</td>\n",
       "    </tr>\n",
       "    <tr>\n",
       "      <th>4</th>\n",
       "      <td>Pokemon Red/Pokemon Blue</td>\n",
       "      <td>GB</td>\n",
       "      <td>1996.0</td>\n",
       "      <td>Role-Playing</td>\n",
       "      <td>11.27</td>\n",
       "      <td>8.89</td>\n",
       "      <td>10.22</td>\n",
       "      <td>1.00</td>\n",
       "      <td>NaN</td>\n",
       "      <td>NaN</td>\n",
       "      <td>NaN</td>\n",
       "    </tr>\n",
       "  </tbody>\n",
       "</table>\n",
       "</div>"
      ],
      "text/plain": [
       "                       name platform  year_of_release         genre  na_sales  \\\n",
       "0                Wii Sports      Wii           2006.0        Sports     41.36   \n",
       "1         Super Mario Bros.      NES           1985.0      Platform     29.08   \n",
       "2            Mario Kart Wii      Wii           2008.0        Racing     15.68   \n",
       "3         Wii Sports Resort      Wii           2009.0        Sports     15.61   \n",
       "4  Pokemon Red/Pokemon Blue       GB           1996.0  Role-Playing     11.27   \n",
       "\n",
       "   eu_sales  jp_sales  other_sales  critic_score user_score rating  \n",
       "0     28.96      3.77         8.45          76.0          8      E  \n",
       "1      3.58      6.81         0.77           NaN        NaN    NaN  \n",
       "2     12.76      3.79         3.29          82.0        8.3      E  \n",
       "3     10.93      3.28         2.95          80.0          8      E  \n",
       "4      8.89     10.22         1.00           NaN        NaN    NaN  "
      ]
     },
     "execution_count": 6,
     "metadata": {},
     "output_type": "execute_result"
    }
   ],
   "source": [
    "data.head()"
   ]
  },
  {
   "cell_type": "markdown",
   "metadata": {},
   "source": [
    "<h4>Преобразуйте данные в нужные типы. Опишите, в каких столбцах заменили тип данных и почему </h4>"
   ]
  },
  {
   "cell_type": "markdown",
   "metadata": {},
   "source": [
    "<strong> Преобразовывать типы данных будем у следующих столбцов: </strong>\n",
    "<ul>\n",
    "   <li> year_of_release\t - так как значения относятся к дискретному типу, то следует преобразовать их в int (Посещает мысль преобразовать в DateTime, но думаю в этом нет необходимости.)</li>\n",
    "    <p></p>\n",
    "   <li> user_score - так как значения относятся к типу object, то следует преобразовать их в float</li>\n",
    "</ul>\n"
   ]
  },
  {
   "cell_type": "markdown",
   "metadata": {},
   "source": [
    "Заполним значения столбца 'year_of_release' в int, при этом оставим пропуски как есть, не заполняя их 0.Так как это может повлиять на показатели в исследовании."
   ]
  },
  {
   "cell_type": "code",
   "execution_count": 7,
   "metadata": {},
   "outputs": [],
   "source": [
    "data['year_of_release'] = data['year_of_release'].astype('Int64')"
   ]
  },
  {
   "cell_type": "markdown",
   "metadata": {},
   "source": [
    "Проверим уникальзые значения столбца 'user_score':"
   ]
  },
  {
   "cell_type": "code",
   "execution_count": 8,
   "metadata": {},
   "outputs": [
    {
     "data": {
      "text/plain": [
       "array(['8', nan, '8.3', '8.5', '6.6', '8.4', '8.6', '7.7', '6.3', '7.4',\n",
       "       '8.2', '9', '7.9', '8.1', '8.7', '7.1', '3.4', '5.3', '4.8', '3.2',\n",
       "       '8.9', '6.4', '7.8', '7.5', '2.6', '7.2', '9.2', '7', '7.3', '4.3',\n",
       "       '7.6', '5.7', '5', '9.1', '6.5', 'tbd', '8.8', '6.9', '9.4', '6.8',\n",
       "       '6.1', '6.7', '5.4', '4', '4.9', '4.5', '9.3', '6.2', '4.2', '6',\n",
       "       '3.7', '4.1', '5.8', '5.6', '5.5', '4.4', '4.6', '5.9', '3.9',\n",
       "       '3.1', '2.9', '5.2', '3.3', '4.7', '5.1', '3.5', '2.5', '1.9', '3',\n",
       "       '2.7', '2.2', '2', '9.5', '2.1', '3.6', '2.8', '1.8', '3.8', '0',\n",
       "       '1.6', '9.6', '2.4', '1.7', '1.1', '0.3', '1.5', '0.7', '1.2',\n",
       "       '2.3', '0.5', '1.3', '0.2', '0.6', '1.4', '0.9', '1', '9.7'],\n",
       "      dtype=object)"
      ]
     },
     "execution_count": 8,
     "metadata": {},
     "output_type": "execute_result"
    }
   ],
   "source": [
    "data['user_score'].unique()"
   ]
  },
  {
   "cell_type": "markdown",
   "metadata": {},
   "source": [
    "В середине массива таится значение \"tbd\". Инофрмация на игровых форумах гласит, что данная аббревиатура означает \"Подлежит обсуждению\" Поссмотрим, сколько строк с таким значением всего:"
   ]
  },
  {
   "cell_type": "code",
   "execution_count": 9,
   "metadata": {},
   "outputs": [
    {
     "data": {
      "text/plain": [
       "2424"
      ]
     },
     "execution_count": 9,
     "metadata": {},
     "output_type": "execute_result"
    }
   ],
   "source": [
    "data.query('user_score == \"tbd\"')['user_score'].count()"
   ]
  },
  {
   "cell_type": "markdown",
   "metadata": {},
   "source": [
    "2424 строки со значением \"tbd\". Данная аббревиатура нам ни о чем не говорит, кроме того, что рейтинга у игры среди пользователей на данный момент нет. Это значит, что при переводе формата данных в float на 2424 значения будет меньше."
   ]
  },
  {
   "cell_type": "code",
   "execution_count": 10,
   "metadata": {},
   "outputs": [],
   "source": [
    "data['user_score'] = pd.to_numeric(data['user_score'],  errors='coerce')"
   ]
  },
  {
   "cell_type": "code",
   "execution_count": 11,
   "metadata": {},
   "outputs": [
    {
     "name": "stdout",
     "output_type": "stream",
     "text": [
      "<class 'pandas.core.frame.DataFrame'>\n",
      "RangeIndex: 16715 entries, 0 to 16714\n",
      "Data columns (total 11 columns):\n",
      " #   Column           Non-Null Count  Dtype  \n",
      "---  ------           --------------  -----  \n",
      " 0   name             16713 non-null  object \n",
      " 1   platform         16715 non-null  object \n",
      " 2   year_of_release  16446 non-null  Int64  \n",
      " 3   genre            16713 non-null  object \n",
      " 4   na_sales         16715 non-null  float64\n",
      " 5   eu_sales         16715 non-null  float64\n",
      " 6   jp_sales         16715 non-null  float64\n",
      " 7   other_sales      16715 non-null  float64\n",
      " 8   critic_score     8137 non-null   float64\n",
      " 9   user_score       7590 non-null   float64\n",
      " 10  rating           9949 non-null   object \n",
      "dtypes: Int64(1), float64(6), object(4)\n",
      "memory usage: 1.4+ MB\n"
     ]
    }
   ],
   "source": [
    "data.info()"
   ]
  },
  {
   "cell_type": "markdown",
   "metadata": {},
   "source": [
    "Форматы значений исправленны, как и оказалось в столбце 'user_score' пропало 2424 значений."
   ]
  },
  {
   "cell_type": "markdown",
   "metadata": {},
   "source": [
    "Далее: Постмотрим на пропуски во всем датасете:"
   ]
  },
  {
   "cell_type": "code",
   "execution_count": 12,
   "metadata": {},
   "outputs": [
    {
     "data": {
      "text/html": [
       "<style  type=\"text/css\" >\n",
       "#T_838e6_row0_col0,#T_838e6_row1_col0,#T_838e6_row3_col0,#T_838e6_row4_col0,#T_838e6_row5_col0,#T_838e6_row6_col0,#T_838e6_row7_col0{\n",
       "            background-color:  #3b4cc0;\n",
       "            color:  #f1f1f1;\n",
       "        }#T_838e6_row2_col0{\n",
       "            background-color:  #455cce;\n",
       "            color:  #f1f1f1;\n",
       "        }#T_838e6_row8_col0{\n",
       "            background-color:  #cd423b;\n",
       "            color:  #f1f1f1;\n",
       "        }#T_838e6_row9_col0{\n",
       "            background-color:  #b40426;\n",
       "            color:  #f1f1f1;\n",
       "        }#T_838e6_row10_col0{\n",
       "            background-color:  #f6a283;\n",
       "            color:  #000000;\n",
       "        }</style><table id=\"T_838e6_\" ><thead>    <tr>        <th class=\"blank level0\" ></th>        <th class=\"col_heading level0 col0\" >0</th>    </tr></thead><tbody>\n",
       "                <tr>\n",
       "                        <th id=\"T_838e6_level0_row0\" class=\"row_heading level0 row0\" >name</th>\n",
       "                        <td id=\"T_838e6_row0_col0\" class=\"data row0 col0\" >0.000000</td>\n",
       "            </tr>\n",
       "            <tr>\n",
       "                        <th id=\"T_838e6_level0_row1\" class=\"row_heading level0 row1\" >platform</th>\n",
       "                        <td id=\"T_838e6_row1_col0\" class=\"data row1 col0\" >0.000000</td>\n",
       "            </tr>\n",
       "            <tr>\n",
       "                        <th id=\"T_838e6_level0_row2\" class=\"row_heading level0 row2\" >year_of_release</th>\n",
       "                        <td id=\"T_838e6_row2_col0\" class=\"data row2 col0\" >2.000000</td>\n",
       "            </tr>\n",
       "            <tr>\n",
       "                        <th id=\"T_838e6_level0_row3\" class=\"row_heading level0 row3\" >genre</th>\n",
       "                        <td id=\"T_838e6_row3_col0\" class=\"data row3 col0\" >0.000000</td>\n",
       "            </tr>\n",
       "            <tr>\n",
       "                        <th id=\"T_838e6_level0_row4\" class=\"row_heading level0 row4\" >na_sales</th>\n",
       "                        <td id=\"T_838e6_row4_col0\" class=\"data row4 col0\" >0.000000</td>\n",
       "            </tr>\n",
       "            <tr>\n",
       "                        <th id=\"T_838e6_level0_row5\" class=\"row_heading level0 row5\" >eu_sales</th>\n",
       "                        <td id=\"T_838e6_row5_col0\" class=\"data row5 col0\" >0.000000</td>\n",
       "            </tr>\n",
       "            <tr>\n",
       "                        <th id=\"T_838e6_level0_row6\" class=\"row_heading level0 row6\" >jp_sales</th>\n",
       "                        <td id=\"T_838e6_row6_col0\" class=\"data row6 col0\" >0.000000</td>\n",
       "            </tr>\n",
       "            <tr>\n",
       "                        <th id=\"T_838e6_level0_row7\" class=\"row_heading level0 row7\" >other_sales</th>\n",
       "                        <td id=\"T_838e6_row7_col0\" class=\"data row7 col0\" >0.000000</td>\n",
       "            </tr>\n",
       "            <tr>\n",
       "                        <th id=\"T_838e6_level0_row8\" class=\"row_heading level0 row8\" >critic_score</th>\n",
       "                        <td id=\"T_838e6_row8_col0\" class=\"data row8 col0\" >51.000000</td>\n",
       "            </tr>\n",
       "            <tr>\n",
       "                        <th id=\"T_838e6_level0_row9\" class=\"row_heading level0 row9\" >user_score</th>\n",
       "                        <td id=\"T_838e6_row9_col0\" class=\"data row9 col0\" >55.000000</td>\n",
       "            </tr>\n",
       "            <tr>\n",
       "                        <th id=\"T_838e6_level0_row10\" class=\"row_heading level0 row10\" >rating</th>\n",
       "                        <td id=\"T_838e6_row10_col0\" class=\"data row10 col0\" >40.000000</td>\n",
       "            </tr>\n",
       "    </tbody></table>"
      ],
      "text/plain": [
       "<pandas.io.formats.style.Styler at 0x7fa41650e790>"
      ]
     },
     "execution_count": 12,
     "metadata": {},
     "output_type": "execute_result"
    }
   ],
   "source": [
    "pd.DataFrame(round(data.isna().mean()*100,)).style.background_gradient('coolwarm')"
   ]
  },
  {
   "cell_type": "markdown",
   "metadata": {},
   "source": [
    "Пропуски в значениях остались только среди оценок. Посмотрим подробнее, как это может быть связанно, используем логическую индексацию, чтоб посмотреть, зависимость пропусков 'raiting' от пропускоы в 'critic_score' и 'user_score':"
   ]
  },
  {
   "cell_type": "code",
   "execution_count": 13,
   "metadata": {},
   "outputs": [
    {
     "data": {
      "text/html": [
       "<div>\n",
       "<style scoped>\n",
       "    .dataframe tbody tr th:only-of-type {\n",
       "        vertical-align: middle;\n",
       "    }\n",
       "\n",
       "    .dataframe tbody tr th {\n",
       "        vertical-align: top;\n",
       "    }\n",
       "\n",
       "    .dataframe thead th {\n",
       "        text-align: right;\n",
       "    }\n",
       "</style>\n",
       "<table border=\"1\" class=\"dataframe\">\n",
       "  <thead>\n",
       "    <tr style=\"text-align: right;\">\n",
       "      <th></th>\n",
       "      <th>name</th>\n",
       "      <th>platform</th>\n",
       "      <th>year_of_release</th>\n",
       "      <th>genre</th>\n",
       "      <th>na_sales</th>\n",
       "      <th>eu_sales</th>\n",
       "      <th>jp_sales</th>\n",
       "      <th>other_sales</th>\n",
       "      <th>critic_score</th>\n",
       "      <th>user_score</th>\n",
       "      <th>rating</th>\n",
       "    </tr>\n",
       "  </thead>\n",
       "  <tbody>\n",
       "    <tr>\n",
       "      <th>255</th>\n",
       "      <td>Call of Duty: Advanced Warfare</td>\n",
       "      <td>PS3</td>\n",
       "      <td>2014</td>\n",
       "      <td>Shooter</td>\n",
       "      <td>1.56</td>\n",
       "      <td>1.93</td>\n",
       "      <td>0.19</td>\n",
       "      <td>0.68</td>\n",
       "      <td>NaN</td>\n",
       "      <td>4.8</td>\n",
       "      <td>M</td>\n",
       "    </tr>\n",
       "    <tr>\n",
       "      <th>263</th>\n",
       "      <td>Call of Duty: Advanced Warfare</td>\n",
       "      <td>X360</td>\n",
       "      <td>2014</td>\n",
       "      <td>Shooter</td>\n",
       "      <td>2.77</td>\n",
       "      <td>1.11</td>\n",
       "      <td>0.00</td>\n",
       "      <td>0.40</td>\n",
       "      <td>NaN</td>\n",
       "      <td>4.9</td>\n",
       "      <td>M</td>\n",
       "    </tr>\n",
       "    <tr>\n",
       "      <th>264</th>\n",
       "      <td>FIFA 15</td>\n",
       "      <td>PS3</td>\n",
       "      <td>2014</td>\n",
       "      <td>Sports</td>\n",
       "      <td>0.58</td>\n",
       "      <td>3.02</td>\n",
       "      <td>0.04</td>\n",
       "      <td>0.64</td>\n",
       "      <td>NaN</td>\n",
       "      <td>4.5</td>\n",
       "      <td>E</td>\n",
       "    </tr>\n",
       "    <tr>\n",
       "      <th>291</th>\n",
       "      <td>World Soccer Winning Eleven 9</td>\n",
       "      <td>PS2</td>\n",
       "      <td>2005</td>\n",
       "      <td>Sports</td>\n",
       "      <td>0.12</td>\n",
       "      <td>2.26</td>\n",
       "      <td>0.90</td>\n",
       "      <td>0.77</td>\n",
       "      <td>NaN</td>\n",
       "      <td>8.2</td>\n",
       "      <td>E</td>\n",
       "    </tr>\n",
       "    <tr>\n",
       "      <th>359</th>\n",
       "      <td>Just Dance 2014</td>\n",
       "      <td>Wii</td>\n",
       "      <td>2013</td>\n",
       "      <td>Misc</td>\n",
       "      <td>1.88</td>\n",
       "      <td>1.39</td>\n",
       "      <td>0.00</td>\n",
       "      <td>0.31</td>\n",
       "      <td>NaN</td>\n",
       "      <td>6.2</td>\n",
       "      <td>E10+</td>\n",
       "    </tr>\n",
       "  </tbody>\n",
       "</table>\n",
       "</div>"
      ],
      "text/plain": [
       "                               name platform  year_of_release    genre  \\\n",
       "255  Call of Duty: Advanced Warfare      PS3             2014  Shooter   \n",
       "263  Call of Duty: Advanced Warfare     X360             2014  Shooter   \n",
       "264                         FIFA 15      PS3             2014   Sports   \n",
       "291   World Soccer Winning Eleven 9      PS2             2005   Sports   \n",
       "359                 Just Dance 2014      Wii             2013     Misc   \n",
       "\n",
       "     na_sales  eu_sales  jp_sales  other_sales  critic_score  user_score  \\\n",
       "255      1.56      1.93      0.19         0.68           NaN         4.8   \n",
       "263      2.77      1.11      0.00         0.40           NaN         4.9   \n",
       "264      0.58      3.02      0.04         0.64           NaN         4.5   \n",
       "291      0.12      2.26      0.90         0.77           NaN         8.2   \n",
       "359      1.88      1.39      0.00         0.31           NaN         6.2   \n",
       "\n",
       "    rating  \n",
       "255      M  \n",
       "263      M  \n",
       "264      E  \n",
       "291      E  \n",
       "359   E10+  "
      ]
     },
     "execution_count": 13,
     "metadata": {},
     "output_type": "execute_result"
    }
   ],
   "source": [
    "data.loc[data['critic_score'].isna()].query('user_score > 1').head()"
   ]
  },
  {
   "cell_type": "code",
   "execution_count": 14,
   "metadata": {},
   "outputs": [
    {
     "data": {
      "text/html": [
       "<div>\n",
       "<style scoped>\n",
       "    .dataframe tbody tr th:only-of-type {\n",
       "        vertical-align: middle;\n",
       "    }\n",
       "\n",
       "    .dataframe tbody tr th {\n",
       "        vertical-align: top;\n",
       "    }\n",
       "\n",
       "    .dataframe thead th {\n",
       "        text-align: right;\n",
       "    }\n",
       "</style>\n",
       "<table border=\"1\" class=\"dataframe\">\n",
       "  <thead>\n",
       "    <tr style=\"text-align: right;\">\n",
       "      <th></th>\n",
       "      <th>name</th>\n",
       "      <th>platform</th>\n",
       "      <th>year_of_release</th>\n",
       "      <th>genre</th>\n",
       "      <th>na_sales</th>\n",
       "      <th>eu_sales</th>\n",
       "      <th>jp_sales</th>\n",
       "      <th>other_sales</th>\n",
       "      <th>critic_score</th>\n",
       "      <th>user_score</th>\n",
       "      <th>rating</th>\n",
       "    </tr>\n",
       "  </thead>\n",
       "  <tbody>\n",
       "    <tr>\n",
       "      <th>182</th>\n",
       "      <td>Tomb Raider II</td>\n",
       "      <td>PS</td>\n",
       "      <td>1997</td>\n",
       "      <td>Action</td>\n",
       "      <td>2.30</td>\n",
       "      <td>2.46</td>\n",
       "      <td>0.2</td>\n",
       "      <td>0.28</td>\n",
       "      <td>85.0</td>\n",
       "      <td>NaN</td>\n",
       "      <td>T</td>\n",
       "    </tr>\n",
       "    <tr>\n",
       "      <th>301</th>\n",
       "      <td>Namco Museum: 50th Anniversary</td>\n",
       "      <td>PS2</td>\n",
       "      <td>2005</td>\n",
       "      <td>Misc</td>\n",
       "      <td>2.08</td>\n",
       "      <td>1.35</td>\n",
       "      <td>0.0</td>\n",
       "      <td>0.54</td>\n",
       "      <td>61.0</td>\n",
       "      <td>NaN</td>\n",
       "      <td>E10+</td>\n",
       "    </tr>\n",
       "    <tr>\n",
       "      <th>440</th>\n",
       "      <td>Need for Speed III: Hot Pursuit</td>\n",
       "      <td>PS</td>\n",
       "      <td>1998</td>\n",
       "      <td>Racing</td>\n",
       "      <td>2.14</td>\n",
       "      <td>0.86</td>\n",
       "      <td>0.0</td>\n",
       "      <td>0.13</td>\n",
       "      <td>88.0</td>\n",
       "      <td>NaN</td>\n",
       "      <td>E</td>\n",
       "    </tr>\n",
       "    <tr>\n",
       "      <th>637</th>\n",
       "      <td>Riven: The Sequel to Myst</td>\n",
       "      <td>PC</td>\n",
       "      <td>1997</td>\n",
       "      <td>Adventure</td>\n",
       "      <td>1.52</td>\n",
       "      <td>0.82</td>\n",
       "      <td>0.0</td>\n",
       "      <td>0.10</td>\n",
       "      <td>83.0</td>\n",
       "      <td>NaN</td>\n",
       "      <td>E</td>\n",
       "    </tr>\n",
       "    <tr>\n",
       "      <th>645</th>\n",
       "      <td>uDraw Studio</td>\n",
       "      <td>Wii</td>\n",
       "      <td>2010</td>\n",
       "      <td>Misc</td>\n",
       "      <td>1.65</td>\n",
       "      <td>0.57</td>\n",
       "      <td>0.0</td>\n",
       "      <td>0.20</td>\n",
       "      <td>71.0</td>\n",
       "      <td>NaN</td>\n",
       "      <td>E</td>\n",
       "    </tr>\n",
       "  </tbody>\n",
       "</table>\n",
       "</div>"
      ],
      "text/plain": [
       "                                name platform  year_of_release      genre  \\\n",
       "182                   Tomb Raider II       PS             1997     Action   \n",
       "301   Namco Museum: 50th Anniversary      PS2             2005       Misc   \n",
       "440  Need for Speed III: Hot Pursuit       PS             1998     Racing   \n",
       "637        Riven: The Sequel to Myst       PC             1997  Adventure   \n",
       "645                     uDraw Studio      Wii             2010       Misc   \n",
       "\n",
       "     na_sales  eu_sales  jp_sales  other_sales  critic_score  user_score  \\\n",
       "182      2.30      2.46       0.2         0.28          85.0         NaN   \n",
       "301      2.08      1.35       0.0         0.54          61.0         NaN   \n",
       "440      2.14      0.86       0.0         0.13          88.0         NaN   \n",
       "637      1.52      0.82       0.0         0.10          83.0         NaN   \n",
       "645      1.65      0.57       0.0         0.20          71.0         NaN   \n",
       "\n",
       "    rating  \n",
       "182      T  \n",
       "301   E10+  \n",
       "440      E  \n",
       "637      E  \n",
       "645      E  "
      ]
     },
     "execution_count": 14,
     "metadata": {},
     "output_type": "execute_result"
    }
   ],
   "source": [
    "data.loc[data['user_score'].isna()].query('critic_score > 1').head()"
   ]
  },
  {
   "cell_type": "code",
   "execution_count": 15,
   "metadata": {},
   "outputs": [
    {
     "data": {
      "text/html": [
       "<div>\n",
       "<style scoped>\n",
       "    .dataframe tbody tr th:only-of-type {\n",
       "        vertical-align: middle;\n",
       "    }\n",
       "\n",
       "    .dataframe tbody tr th {\n",
       "        vertical-align: top;\n",
       "    }\n",
       "\n",
       "    .dataframe thead th {\n",
       "        text-align: right;\n",
       "    }\n",
       "</style>\n",
       "<table border=\"1\" class=\"dataframe\">\n",
       "  <thead>\n",
       "    <tr style=\"text-align: right;\">\n",
       "      <th></th>\n",
       "      <th>name</th>\n",
       "      <th>platform</th>\n",
       "      <th>year_of_release</th>\n",
       "      <th>genre</th>\n",
       "      <th>na_sales</th>\n",
       "      <th>eu_sales</th>\n",
       "      <th>jp_sales</th>\n",
       "      <th>other_sales</th>\n",
       "      <th>critic_score</th>\n",
       "      <th>user_score</th>\n",
       "      <th>rating</th>\n",
       "    </tr>\n",
       "  </thead>\n",
       "  <tbody>\n",
       "    <tr>\n",
       "      <th>693</th>\n",
       "      <td>Tomb Raider II</td>\n",
       "      <td>PC</td>\n",
       "      <td>1997</td>\n",
       "      <td>Action</td>\n",
       "      <td>0.91</td>\n",
       "      <td>1.25</td>\n",
       "      <td>0.00</td>\n",
       "      <td>0.13</td>\n",
       "      <td>NaN</td>\n",
       "      <td>8.3</td>\n",
       "      <td>NaN</td>\n",
       "    </tr>\n",
       "    <tr>\n",
       "      <th>822</th>\n",
       "      <td>R4: Ridge Racer Type 4</td>\n",
       "      <td>PS</td>\n",
       "      <td>1998</td>\n",
       "      <td>Racing</td>\n",
       "      <td>0.68</td>\n",
       "      <td>0.46</td>\n",
       "      <td>0.79</td>\n",
       "      <td>0.13</td>\n",
       "      <td>88.0</td>\n",
       "      <td>9.2</td>\n",
       "      <td>NaN</td>\n",
       "    </tr>\n",
       "    <tr>\n",
       "      <th>1763</th>\n",
       "      <td>Football Manager 2013</td>\n",
       "      <td>PC</td>\n",
       "      <td>2012</td>\n",
       "      <td>Sports</td>\n",
       "      <td>0.00</td>\n",
       "      <td>0.95</td>\n",
       "      <td>0.00</td>\n",
       "      <td>0.21</td>\n",
       "      <td>86.0</td>\n",
       "      <td>6.7</td>\n",
       "      <td>NaN</td>\n",
       "    </tr>\n",
       "    <tr>\n",
       "      <th>2054</th>\n",
       "      <td>Monster Rancher</td>\n",
       "      <td>PS</td>\n",
       "      <td>1997</td>\n",
       "      <td>Simulation</td>\n",
       "      <td>0.12</td>\n",
       "      <td>0.08</td>\n",
       "      <td>0.74</td>\n",
       "      <td>0.07</td>\n",
       "      <td>86.0</td>\n",
       "      <td>8.3</td>\n",
       "      <td>NaN</td>\n",
       "    </tr>\n",
       "    <tr>\n",
       "      <th>3054</th>\n",
       "      <td>100 Classic Books</td>\n",
       "      <td>DS</td>\n",
       "      <td>2008</td>\n",
       "      <td>Misc</td>\n",
       "      <td>0.12</td>\n",
       "      <td>0.52</td>\n",
       "      <td>0.00</td>\n",
       "      <td>0.02</td>\n",
       "      <td>70.0</td>\n",
       "      <td>6.0</td>\n",
       "      <td>NaN</td>\n",
       "    </tr>\n",
       "  </tbody>\n",
       "</table>\n",
       "</div>"
      ],
      "text/plain": [
       "                        name platform  year_of_release       genre  na_sales  \\\n",
       "693           Tomb Raider II       PC             1997      Action      0.91   \n",
       "822   R4: Ridge Racer Type 4       PS             1998      Racing      0.68   \n",
       "1763   Football Manager 2013       PC             2012      Sports      0.00   \n",
       "2054         Monster Rancher       PS             1997  Simulation      0.12   \n",
       "3054       100 Classic Books       DS             2008        Misc      0.12   \n",
       "\n",
       "      eu_sales  jp_sales  other_sales  critic_score  user_score rating  \n",
       "693       1.25      0.00         0.13           NaN         8.3    NaN  \n",
       "822       0.46      0.79         0.13          88.0         9.2    NaN  \n",
       "1763      0.95      0.00         0.21          86.0         6.7    NaN  \n",
       "2054      0.08      0.74         0.07          86.0         8.3    NaN  \n",
       "3054      0.52      0.00         0.02          70.0         6.0    NaN  "
      ]
     },
     "execution_count": 15,
     "metadata": {},
     "output_type": "execute_result"
    }
   ],
   "source": [
    "data.loc[data['rating'].isna()].query('user_score > 1').head()"
   ]
  },
  {
   "cell_type": "markdown",
   "metadata": {},
   "source": [
    "Поулучается пропуски в столбце 'rating' не связаны на прямую с пропусками в остальных столбцах, хотя и встречаются и такие примеры:"
   ]
  },
  {
   "cell_type": "code",
   "execution_count": 16,
   "metadata": {},
   "outputs": [
    {
     "data": {
      "text/html": [
       "<div>\n",
       "<style scoped>\n",
       "    .dataframe tbody tr th:only-of-type {\n",
       "        vertical-align: middle;\n",
       "    }\n",
       "\n",
       "    .dataframe tbody tr th {\n",
       "        vertical-align: top;\n",
       "    }\n",
       "\n",
       "    .dataframe thead th {\n",
       "        text-align: right;\n",
       "    }\n",
       "</style>\n",
       "<table border=\"1\" class=\"dataframe\">\n",
       "  <thead>\n",
       "    <tr style=\"text-align: right;\">\n",
       "      <th></th>\n",
       "      <th>name</th>\n",
       "      <th>platform</th>\n",
       "      <th>year_of_release</th>\n",
       "      <th>genre</th>\n",
       "      <th>na_sales</th>\n",
       "      <th>eu_sales</th>\n",
       "      <th>jp_sales</th>\n",
       "      <th>other_sales</th>\n",
       "      <th>critic_score</th>\n",
       "      <th>user_score</th>\n",
       "      <th>rating</th>\n",
       "    </tr>\n",
       "  </thead>\n",
       "  <tbody>\n",
       "    <tr>\n",
       "      <th>1</th>\n",
       "      <td>Super Mario Bros.</td>\n",
       "      <td>NES</td>\n",
       "      <td>1985</td>\n",
       "      <td>Platform</td>\n",
       "      <td>29.08</td>\n",
       "      <td>3.58</td>\n",
       "      <td>6.81</td>\n",
       "      <td>0.77</td>\n",
       "      <td>NaN</td>\n",
       "      <td>NaN</td>\n",
       "      <td>NaN</td>\n",
       "    </tr>\n",
       "    <tr>\n",
       "      <th>4</th>\n",
       "      <td>Pokemon Red/Pokemon Blue</td>\n",
       "      <td>GB</td>\n",
       "      <td>1996</td>\n",
       "      <td>Role-Playing</td>\n",
       "      <td>11.27</td>\n",
       "      <td>8.89</td>\n",
       "      <td>10.22</td>\n",
       "      <td>1.00</td>\n",
       "      <td>NaN</td>\n",
       "      <td>NaN</td>\n",
       "      <td>NaN</td>\n",
       "    </tr>\n",
       "    <tr>\n",
       "      <th>5</th>\n",
       "      <td>Tetris</td>\n",
       "      <td>GB</td>\n",
       "      <td>1989</td>\n",
       "      <td>Puzzle</td>\n",
       "      <td>23.20</td>\n",
       "      <td>2.26</td>\n",
       "      <td>4.22</td>\n",
       "      <td>0.58</td>\n",
       "      <td>NaN</td>\n",
       "      <td>NaN</td>\n",
       "      <td>NaN</td>\n",
       "    </tr>\n",
       "    <tr>\n",
       "      <th>9</th>\n",
       "      <td>Duck Hunt</td>\n",
       "      <td>NES</td>\n",
       "      <td>1984</td>\n",
       "      <td>Shooter</td>\n",
       "      <td>26.93</td>\n",
       "      <td>0.63</td>\n",
       "      <td>0.28</td>\n",
       "      <td>0.47</td>\n",
       "      <td>NaN</td>\n",
       "      <td>NaN</td>\n",
       "      <td>NaN</td>\n",
       "    </tr>\n",
       "    <tr>\n",
       "      <th>10</th>\n",
       "      <td>Nintendogs</td>\n",
       "      <td>DS</td>\n",
       "      <td>2005</td>\n",
       "      <td>Simulation</td>\n",
       "      <td>9.05</td>\n",
       "      <td>10.95</td>\n",
       "      <td>1.93</td>\n",
       "      <td>2.74</td>\n",
       "      <td>NaN</td>\n",
       "      <td>NaN</td>\n",
       "      <td>NaN</td>\n",
       "    </tr>\n",
       "  </tbody>\n",
       "</table>\n",
       "</div>"
      ],
      "text/plain": [
       "                        name platform  year_of_release         genre  \\\n",
       "1          Super Mario Bros.      NES             1985      Platform   \n",
       "4   Pokemon Red/Pokemon Blue       GB             1996  Role-Playing   \n",
       "5                     Tetris       GB             1989        Puzzle   \n",
       "9                  Duck Hunt      NES             1984       Shooter   \n",
       "10                Nintendogs       DS             2005    Simulation   \n",
       "\n",
       "    na_sales  eu_sales  jp_sales  other_sales  critic_score  user_score rating  \n",
       "1      29.08      3.58      6.81         0.77           NaN         NaN    NaN  \n",
       "4      11.27      8.89     10.22         1.00           NaN         NaN    NaN  \n",
       "5      23.20      2.26      4.22         0.58           NaN         NaN    NaN  \n",
       "9      26.93      0.63      0.28         0.47           NaN         NaN    NaN  \n",
       "10      9.05     10.95      1.93         2.74           NaN         NaN    NaN  "
      ]
     },
     "execution_count": 16,
     "metadata": {},
     "output_type": "execute_result"
    }
   ],
   "source": [
    "data.loc[data['rating'].isna()].head()"
   ]
  },
  {
   "cell_type": "markdown",
   "metadata": {},
   "source": [
    "Причиной дополнительных пропусков в 'user_score' стало то, что мы заменили значения 'tbd', так как они нам ни о чем не говорят.\n",
    "Конечно в датасете, где значения по рейтингу пропущенны, во всех трех столбцах, но так или иначе, мы не можем утверждать, что тут есть свзяь, так как и встречаются строки, где рейтинг есть и среди пользоватлей и среди критиков, а в самом столбце 'raiting' нет."
   ]
  },
  {
   "cell_type": "markdown",
   "metadata": {},
   "source": [
    "Далее: Для того, чтоб убедиться, что цифры в данных не содержат аномальных значений, построим диаграмму размаха для каждого series с float или int:"
   ]
  },
  {
   "cell_type": "code",
   "execution_count": 17,
   "metadata": {},
   "outputs": [
    {
     "data": {
      "image/png": "[encoded data removed]",
      "text/plain": [
       "<Figure size 432x288 with 1 Axes>"
      ]
     },
     "metadata": {
      "needs_background": "light"
     },
     "output_type": "display_data"
    }
   ],
   "source": [
    "data.boxplot(column = ['critic_score']);"
   ]
  },
  {
   "cell_type": "markdown",
   "metadata": {},
   "source": [
    "Максимальная оценка у критиков 100 баллов, значит аномалий нет."
   ]
  },
  {
   "cell_type": "code",
   "execution_count": 18,
   "metadata": {},
   "outputs": [
    {
     "data": {
      "image/png": "[encoded data removed]",
      "text/plain": [
       "<Figure size 432x288 with 1 Axes>"
      ]
     },
     "metadata": {
      "needs_background": "light"
     },
     "output_type": "display_data"
    }
   ],
   "source": [
    "data.boxplot(column = ['user_score']);"
   ]
  },
  {
   "cell_type": "markdown",
   "metadata": {},
   "source": [
    "Максимальная оценка у пользователей 10 балло, значит аномалий также нет."
   ]
  },
  {
   "cell_type": "code",
   "execution_count": 19,
   "metadata": {},
   "outputs": [
    {
     "data": {
      "image/png": "[encoded data removed]",
      "text/plain": [
       "<Figure size 432x288 with 1 Axes>"
      ]
     },
     "metadata": {
      "needs_background": "light"
     },
     "output_type": "display_data"
    }
   ],
   "source": [
    "data.boxplot(column = ['year_of_release']);"
   ]
  },
  {
   "cell_type": "markdown",
   "metadata": {},
   "source": [
    "Аномалий не наблюдается."
   ]
  },
  {
   "cell_type": "code",
   "execution_count": 20,
   "metadata": {},
   "outputs": [
    {
     "data": {
      "image/png": "[encoded data removed]",
      "text/plain": [
       "<Figure size 432x288 with 1 Axes>"
      ]
     },
     "metadata": {
      "needs_background": "light"
     },
     "output_type": "display_data"
    }
   ],
   "source": [
    "data.boxplot(column = ['na_sales']);"
   ]
  },
  {
   "cell_type": "markdown",
   "metadata": {},
   "source": [
    "40 миллионов проданных копий достаточно много, но правдоподобно для Севенрной Америки, где население около 600 млн."
   ]
  },
  {
   "cell_type": "code",
   "execution_count": 21,
   "metadata": {},
   "outputs": [
    {
     "data": {
      "image/png": "[encoded data removed]",
      "text/plain": [
       "<Figure size 432x288 with 1 Axes>"
      ]
     },
     "metadata": {
      "needs_background": "light"
     },
     "output_type": "display_data"
    }
   ],
   "source": [
    "data.boxplot(column = ['eu_sales']);"
   ]
  },
  {
   "cell_type": "markdown",
   "metadata": {},
   "source": [
    "Для европы так же такая цифры харрактерна."
   ]
  },
  {
   "cell_type": "code",
   "execution_count": 22,
   "metadata": {},
   "outputs": [
    {
     "data": {
      "image/png": "[encoded data removed]",
      "text/plain": [
       "<Figure size 432x288 with 1 Axes>"
      ]
     },
     "metadata": {
      "needs_background": "light"
     },
     "output_type": "display_data"
    }
   ],
   "source": [
    "data.boxplot(column = ['jp_sales']);"
   ]
  },
  {
   "cell_type": "code",
   "execution_count": 23,
   "metadata": {},
   "outputs": [
    {
     "data": {
      "image/png": "[encoded data removed]",
      "text/plain": [
       "<Figure size 432x288 with 1 Axes>"
      ]
     },
     "metadata": {
      "needs_background": "light"
     },
     "output_type": "display_data"
    }
   ],
   "source": [
    "data.boxplot(column = ['other_sales']);"
   ]
  },
  {
   "cell_type": "markdown",
   "metadata": {},
   "source": [
    "Тоже самое для Японии и остальных стран."
   ]
  },
  {
   "cell_type": "markdown",
   "metadata": {},
   "source": [
    "Таким образом мы убедились, что значения в наших данных правдободобны и не содержат аномалий, это значит, что можно заниматься исследованием."
   ]
  },
  {
   "cell_type": "code",
   "execution_count": 24,
   "metadata": {},
   "outputs": [
    {
     "data": {
      "text/plain": [
       "array(['E', nan, 'M', 'T', 'E10+', 'K-A', 'AO', 'EC', 'RP'], dtype=object)"
      ]
     },
     "execution_count": 24,
     "metadata": {},
     "output_type": "execute_result"
    }
   ],
   "source": [
    "data['rating'].unique()"
   ]
  },
  {
   "cell_type": "code",
   "execution_count": 25,
   "metadata": {},
   "outputs": [],
   "source": [
    "def replace_missing_rating(missing_rating, value_rating):\n",
    "    data['rating'] = data['rating'].replace(missing_rating, value_rating)\n",
    "replace_missing_rating(np.NaN, 'unrated')"
   ]
  },
  {
   "cell_type": "code",
   "execution_count": 26,
   "metadata": {},
   "outputs": [
    {
     "data": {
      "text/html": [
       "<style  type=\"text/css\" >\n",
       "#T_3b2b5_row0_col0,#T_3b2b5_row1_col0,#T_3b2b5_row3_col0,#T_3b2b5_row4_col0,#T_3b2b5_row5_col0,#T_3b2b5_row6_col0,#T_3b2b5_row7_col0,#T_3b2b5_row10_col0{\n",
       "            background-color:  #3b4cc0;\n",
       "            color:  #f1f1f1;\n",
       "        }#T_3b2b5_row2_col0{\n",
       "            background-color:  #455cce;\n",
       "            color:  #f1f1f1;\n",
       "        }#T_3b2b5_row8_col0{\n",
       "            background-color:  #cd423b;\n",
       "            color:  #f1f1f1;\n",
       "        }#T_3b2b5_row9_col0{\n",
       "            background-color:  #b40426;\n",
       "            color:  #f1f1f1;\n",
       "        }</style><table id=\"T_3b2b5_\" ><thead>    <tr>        <th class=\"blank level0\" ></th>        <th class=\"col_heading level0 col0\" >0</th>    </tr></thead><tbody>\n",
       "                <tr>\n",
       "                        <th id=\"T_3b2b5_level0_row0\" class=\"row_heading level0 row0\" >name</th>\n",
       "                        <td id=\"T_3b2b5_row0_col0\" class=\"data row0 col0\" >0.000000</td>\n",
       "            </tr>\n",
       "            <tr>\n",
       "                        <th id=\"T_3b2b5_level0_row1\" class=\"row_heading level0 row1\" >platform</th>\n",
       "                        <td id=\"T_3b2b5_row1_col0\" class=\"data row1 col0\" >0.000000</td>\n",
       "            </tr>\n",
       "            <tr>\n",
       "                        <th id=\"T_3b2b5_level0_row2\" class=\"row_heading level0 row2\" >year_of_release</th>\n",
       "                        <td id=\"T_3b2b5_row2_col0\" class=\"data row2 col0\" >2.000000</td>\n",
       "            </tr>\n",
       "            <tr>\n",
       "                        <th id=\"T_3b2b5_level0_row3\" class=\"row_heading level0 row3\" >genre</th>\n",
       "                        <td id=\"T_3b2b5_row3_col0\" class=\"data row3 col0\" >0.000000</td>\n",
       "            </tr>\n",
       "            <tr>\n",
       "                        <th id=\"T_3b2b5_level0_row4\" class=\"row_heading level0 row4\" >na_sales</th>\n",
       "                        <td id=\"T_3b2b5_row4_col0\" class=\"data row4 col0\" >0.000000</td>\n",
       "            </tr>\n",
       "            <tr>\n",
       "                        <th id=\"T_3b2b5_level0_row5\" class=\"row_heading level0 row5\" >eu_sales</th>\n",
       "                        <td id=\"T_3b2b5_row5_col0\" class=\"data row5 col0\" >0.000000</td>\n",
       "            </tr>\n",
       "            <tr>\n",
       "                        <th id=\"T_3b2b5_level0_row6\" class=\"row_heading level0 row6\" >jp_sales</th>\n",
       "                        <td id=\"T_3b2b5_row6_col0\" class=\"data row6 col0\" >0.000000</td>\n",
       "            </tr>\n",
       "            <tr>\n",
       "                        <th id=\"T_3b2b5_level0_row7\" class=\"row_heading level0 row7\" >other_sales</th>\n",
       "                        <td id=\"T_3b2b5_row7_col0\" class=\"data row7 col0\" >0.000000</td>\n",
       "            </tr>\n",
       "            <tr>\n",
       "                        <th id=\"T_3b2b5_level0_row8\" class=\"row_heading level0 row8\" >critic_score</th>\n",
       "                        <td id=\"T_3b2b5_row8_col0\" class=\"data row8 col0\" >51.000000</td>\n",
       "            </tr>\n",
       "            <tr>\n",
       "                        <th id=\"T_3b2b5_level0_row9\" class=\"row_heading level0 row9\" >user_score</th>\n",
       "                        <td id=\"T_3b2b5_row9_col0\" class=\"data row9 col0\" >55.000000</td>\n",
       "            </tr>\n",
       "            <tr>\n",
       "                        <th id=\"T_3b2b5_level0_row10\" class=\"row_heading level0 row10\" >rating</th>\n",
       "                        <td id=\"T_3b2b5_row10_col0\" class=\"data row10 col0\" >0.000000</td>\n",
       "            </tr>\n",
       "    </tbody></table>"
      ],
      "text/plain": [
       "<pandas.io.formats.style.Styler at 0x7fa4161a0760>"
      ]
     },
     "execution_count": 26,
     "metadata": {},
     "output_type": "execute_result"
    }
   ],
   "source": [
    "pd.DataFrame(round(data.isna().mean()*100,)).style.background_gradient('coolwarm')"
   ]
  },
  {
   "cell_type": "markdown",
   "metadata": {},
   "source": [
    "<strong>Возможные причины пропусков:</strong>\n",
    "<ol>\n",
    "    <li>year_of_releas - Пропуски можно отнести к случайным. Теоритически любая игра имеет год выпуска, поэтому, отуствие данных в этом столбце может говорить о некорректной выгрузке либо неполной информации в самих данных</li>\n",
    "    <p></p>\n",
    "    <li>critic_score - Ниже, мы сгрупировали значения по годам. Выяснилось, что у игр 1980-1955 в большем числе случаем отсутсует оценка. Также,большинство игр с низским кол-вом продаж, так же не имеют рейтинг. </li>\n",
    "    <p></p>\n",
    "    <li>user_score - часть данных пропала, псоле замены аббревиатуры \"tbd\", данная аббревиатура не носит количественный тип данных, а значит не поможет нам при дальнейшем анализе. Большая часть данных с 80-95 год отсутсвует, это также говорит о том, что пропуски не случайны.Скорее всего в данную эпоху времени, не было возможности онлайн оценивать игру. </li>\n",
    "    <p></p>\n",
    "    <li>rating - часть данных отсутсвует не случайно. Большая часть игр не имеет оценки ESRB. Мы поменили эти пропуски как \"unrated\", чтоб их можно было учесть в исследовании</li>\n",
    "</ol>"
   ]
  },
  {
   "cell_type": "markdown",
   "metadata": {},
   "source": [
    "Ниже мы можем увидеть, что отсутсвие оценок критиков и пользователей харрактерно для игр с 1980-1995 года выпуска."
   ]
  },
  {
   "cell_type": "code",
   "execution_count": 27,
   "metadata": {},
   "outputs": [
    {
     "data": {
      "text/plain": [
       "year_of_release\n",
       "1980          NaN\n",
       "1981          NaN\n",
       "1982          NaN\n",
       "1983          NaN\n",
       "1984          NaN\n",
       "1985    59.000000\n",
       "1986          NaN\n",
       "1987          NaN\n",
       "1988    64.000000\n",
       "1989          NaN\n",
       "1990          NaN\n",
       "1991          NaN\n",
       "1992    85.000000\n",
       "1993          NaN\n",
       "1994    69.000000\n",
       "1995          NaN\n",
       "1996    89.875000\n",
       "1997    85.294118\n",
       "1998    81.821429\n",
       "1999    75.769231\n",
       "2000    69.349650\n",
       "2001    71.414110\n",
       "2002    69.046252\n",
       "2003    70.181197\n",
       "2004    69.393939\n",
       "2005    68.819847\n",
       "2006    67.338710\n",
       "2007    66.180636\n",
       "2008    65.904895\n",
       "2009    67.554531\n",
       "2010    67.482000\n",
       "2011    68.692000\n",
       "2012    72.984424\n",
       "2013    71.278388\n",
       "2014    71.065134\n",
       "2015    72.871111\n",
       "2016    73.155172\n",
       "Name: critic_score, dtype: float64"
      ]
     },
     "execution_count": 27,
     "metadata": {},
     "output_type": "execute_result"
    }
   ],
   "source": [
    "data.groupby('year_of_release')['critic_score'].mean()"
   ]
  },
  {
   "cell_type": "code",
   "execution_count": 28,
   "metadata": {},
   "outputs": [
    {
     "data": {
      "text/plain": [
       "year_of_release\n",
       "1980         NaN\n",
       "1981         NaN\n",
       "1982         NaN\n",
       "1983         NaN\n",
       "1984         NaN\n",
       "1985    5.800000\n",
       "1986         NaN\n",
       "1987         NaN\n",
       "1988    2.200000\n",
       "1989         NaN\n",
       "1990         NaN\n",
       "1991         NaN\n",
       "1992    8.200000\n",
       "1993         NaN\n",
       "1994    6.300000\n",
       "1995         NaN\n",
       "1996    8.400000\n",
       "1997    8.472222\n",
       "1998    8.506452\n",
       "1999    8.480645\n",
       "2000    7.531776\n",
       "2001    7.594942\n",
       "2002    7.585129\n",
       "2003    7.859884\n",
       "2004    7.750511\n",
       "2005    7.509605\n",
       "2006    7.247283\n",
       "2007    6.895707\n",
       "2008    6.950983\n",
       "2009    6.990717\n",
       "2010    6.875375\n",
       "2011    6.623553\n",
       "2012    6.817404\n",
       "2013    6.470724\n",
       "2014    6.580243\n",
       "2015    6.665993\n",
       "2016    6.629771\n",
       "Name: user_score, dtype: float64"
      ]
     },
     "execution_count": 28,
     "metadata": {},
     "output_type": "execute_result"
    }
   ],
   "source": [
    "data.groupby('year_of_release')['user_score'].mean()"
   ]
  },
  {
   "cell_type": "markdown",
   "metadata": {},
   "source": [
    "Отсортировав данные по убыванию, мы видим, что отсутсвие рейтинга в подобляющем числе случаев харрактерно для игр, у которых низкое кол-во продаж. Возможно причиной отсутсвия данных является недостаточное кол-во пользователей, на основе которых можено составить рейтинг и общие оценки."
   ]
  },
  {
   "cell_type": "markdown",
   "metadata": {},
   "source": [
    "<h4> Посчитайте суммарные продажи во всех регионах и запишите их в отдельный столбец. </h4>"
   ]
  },
  {
   "cell_type": "code",
   "execution_count": 29,
   "metadata": {},
   "outputs": [],
   "source": [
    "data['total_sales'] = data['na_sales']+data['eu_sales']+data['jp_sales']+data['other_sales']"
   ]
  },
  {
   "cell_type": "code",
   "execution_count": 30,
   "metadata": {},
   "outputs": [
    {
     "data": {
      "text/html": [
       "<div>\n",
       "<style scoped>\n",
       "    .dataframe tbody tr th:only-of-type {\n",
       "        vertical-align: middle;\n",
       "    }\n",
       "\n",
       "    .dataframe tbody tr th {\n",
       "        vertical-align: top;\n",
       "    }\n",
       "\n",
       "    .dataframe thead th {\n",
       "        text-align: right;\n",
       "    }\n",
       "</style>\n",
       "<table border=\"1\" class=\"dataframe\">\n",
       "  <thead>\n",
       "    <tr style=\"text-align: right;\">\n",
       "      <th></th>\n",
       "      <th>name</th>\n",
       "      <th>platform</th>\n",
       "      <th>year_of_release</th>\n",
       "      <th>genre</th>\n",
       "      <th>na_sales</th>\n",
       "      <th>eu_sales</th>\n",
       "      <th>jp_sales</th>\n",
       "      <th>other_sales</th>\n",
       "      <th>critic_score</th>\n",
       "      <th>user_score</th>\n",
       "      <th>rating</th>\n",
       "      <th>total_sales</th>\n",
       "    </tr>\n",
       "  </thead>\n",
       "  <tbody>\n",
       "    <tr>\n",
       "      <th>16676</th>\n",
       "      <td>G1 Jockey 4 2008</td>\n",
       "      <td>PS3</td>\n",
       "      <td>2008</td>\n",
       "      <td>Sports</td>\n",
       "      <td>0.00</td>\n",
       "      <td>0.00</td>\n",
       "      <td>0.00</td>\n",
       "      <td>0.0</td>\n",
       "      <td>NaN</td>\n",
       "      <td>NaN</td>\n",
       "      <td>unrated</td>\n",
       "      <td>0.00</td>\n",
       "    </tr>\n",
       "    <tr>\n",
       "      <th>16709</th>\n",
       "      <td>SCORE International Baja 1000: The Official Game</td>\n",
       "      <td>PS2</td>\n",
       "      <td>2008</td>\n",
       "      <td>Racing</td>\n",
       "      <td>0.00</td>\n",
       "      <td>0.00</td>\n",
       "      <td>0.00</td>\n",
       "      <td>0.0</td>\n",
       "      <td>NaN</td>\n",
       "      <td>NaN</td>\n",
       "      <td>unrated</td>\n",
       "      <td>0.00</td>\n",
       "    </tr>\n",
       "    <tr>\n",
       "      <th>16181</th>\n",
       "      <td>Sakura Sakura: Haru Urara</td>\n",
       "      <td>PSP</td>\n",
       "      <td>2010</td>\n",
       "      <td>Adventure</td>\n",
       "      <td>0.00</td>\n",
       "      <td>0.00</td>\n",
       "      <td>0.01</td>\n",
       "      <td>0.0</td>\n",
       "      <td>NaN</td>\n",
       "      <td>NaN</td>\n",
       "      <td>unrated</td>\n",
       "      <td>0.01</td>\n",
       "    </tr>\n",
       "    <tr>\n",
       "      <th>16180</th>\n",
       "      <td>WRC: FIA World Rally Championship</td>\n",
       "      <td>PC</td>\n",
       "      <td>&lt;NA&gt;</td>\n",
       "      <td>Racing</td>\n",
       "      <td>0.00</td>\n",
       "      <td>0.01</td>\n",
       "      <td>0.00</td>\n",
       "      <td>0.0</td>\n",
       "      <td>65.0</td>\n",
       "      <td>NaN</td>\n",
       "      <td>RP</td>\n",
       "      <td>0.01</td>\n",
       "    </tr>\n",
       "    <tr>\n",
       "      <th>16179</th>\n",
       "      <td>Pro Angler Moves</td>\n",
       "      <td>PS3</td>\n",
       "      <td>2012</td>\n",
       "      <td>Sports</td>\n",
       "      <td>0.01</td>\n",
       "      <td>0.00</td>\n",
       "      <td>0.00</td>\n",
       "      <td>0.0</td>\n",
       "      <td>NaN</td>\n",
       "      <td>NaN</td>\n",
       "      <td>E</td>\n",
       "      <td>0.01</td>\n",
       "    </tr>\n",
       "    <tr>\n",
       "      <th>16178</th>\n",
       "      <td>Egg Mania: Eggstreme Madness</td>\n",
       "      <td>XB</td>\n",
       "      <td>2002</td>\n",
       "      <td>Puzzle</td>\n",
       "      <td>0.01</td>\n",
       "      <td>0.00</td>\n",
       "      <td>0.00</td>\n",
       "      <td>0.0</td>\n",
       "      <td>58.0</td>\n",
       "      <td>NaN</td>\n",
       "      <td>E</td>\n",
       "      <td>0.01</td>\n",
       "    </tr>\n",
       "    <tr>\n",
       "      <th>16177</th>\n",
       "      <td>Destiny Links</td>\n",
       "      <td>DS</td>\n",
       "      <td>2009</td>\n",
       "      <td>Role-Playing</td>\n",
       "      <td>0.00</td>\n",
       "      <td>0.00</td>\n",
       "      <td>0.01</td>\n",
       "      <td>0.0</td>\n",
       "      <td>NaN</td>\n",
       "      <td>NaN</td>\n",
       "      <td>unrated</td>\n",
       "      <td>0.01</td>\n",
       "    </tr>\n",
       "    <tr>\n",
       "      <th>16176</th>\n",
       "      <td>Fab 5 Soccer</td>\n",
       "      <td>DS</td>\n",
       "      <td>2008</td>\n",
       "      <td>Sports</td>\n",
       "      <td>0.01</td>\n",
       "      <td>0.00</td>\n",
       "      <td>0.00</td>\n",
       "      <td>0.0</td>\n",
       "      <td>NaN</td>\n",
       "      <td>NaN</td>\n",
       "      <td>E</td>\n",
       "      <td>0.01</td>\n",
       "    </tr>\n",
       "    <tr>\n",
       "      <th>16175</th>\n",
       "      <td>Psycho-Pass</td>\n",
       "      <td>XOne</td>\n",
       "      <td>2014</td>\n",
       "      <td>Adventure</td>\n",
       "      <td>0.00</td>\n",
       "      <td>0.00</td>\n",
       "      <td>0.01</td>\n",
       "      <td>0.0</td>\n",
       "      <td>NaN</td>\n",
       "      <td>NaN</td>\n",
       "      <td>unrated</td>\n",
       "      <td>0.01</td>\n",
       "    </tr>\n",
       "    <tr>\n",
       "      <th>16174</th>\n",
       "      <td>50 Classic Games</td>\n",
       "      <td>3DS</td>\n",
       "      <td>2012</td>\n",
       "      <td>Misc</td>\n",
       "      <td>0.00</td>\n",
       "      <td>0.01</td>\n",
       "      <td>0.00</td>\n",
       "      <td>0.0</td>\n",
       "      <td>NaN</td>\n",
       "      <td>NaN</td>\n",
       "      <td>unrated</td>\n",
       "      <td>0.01</td>\n",
       "    </tr>\n",
       "  </tbody>\n",
       "</table>\n",
       "</div>"
      ],
      "text/plain": [
       "                                                   name platform  \\\n",
       "16676                                  G1 Jockey 4 2008      PS3   \n",
       "16709  SCORE International Baja 1000: The Official Game      PS2   \n",
       "16181                         Sakura Sakura: Haru Urara      PSP   \n",
       "16180                 WRC: FIA World Rally Championship       PC   \n",
       "16179                                  Pro Angler Moves      PS3   \n",
       "16178                      Egg Mania: Eggstreme Madness       XB   \n",
       "16177                                     Destiny Links       DS   \n",
       "16176                                      Fab 5 Soccer       DS   \n",
       "16175                                       Psycho-Pass     XOne   \n",
       "16174                                  50 Classic Games      3DS   \n",
       "\n",
       "       year_of_release         genre  na_sales  eu_sales  jp_sales  \\\n",
       "16676             2008        Sports      0.00      0.00      0.00   \n",
       "16709             2008        Racing      0.00      0.00      0.00   \n",
       "16181             2010     Adventure      0.00      0.00      0.01   \n",
       "16180             <NA>        Racing      0.00      0.01      0.00   \n",
       "16179             2012        Sports      0.01      0.00      0.00   \n",
       "16178             2002        Puzzle      0.01      0.00      0.00   \n",
       "16177             2009  Role-Playing      0.00      0.00      0.01   \n",
       "16176             2008        Sports      0.01      0.00      0.00   \n",
       "16175             2014     Adventure      0.00      0.00      0.01   \n",
       "16174             2012          Misc      0.00      0.01      0.00   \n",
       "\n",
       "       other_sales  critic_score  user_score   rating  total_sales  \n",
       "16676          0.0           NaN         NaN  unrated         0.00  \n",
       "16709          0.0           NaN         NaN  unrated         0.00  \n",
       "16181          0.0           NaN         NaN  unrated         0.01  \n",
       "16180          0.0          65.0         NaN       RP         0.01  \n",
       "16179          0.0           NaN         NaN        E         0.01  \n",
       "16178          0.0          58.0         NaN        E         0.01  \n",
       "16177          0.0           NaN         NaN  unrated         0.01  \n",
       "16176          0.0           NaN         NaN        E         0.01  \n",
       "16175          0.0           NaN         NaN  unrated         0.01  \n",
       "16174          0.0           NaN         NaN  unrated         0.01  "
      ]
     },
     "execution_count": 30,
     "metadata": {},
     "output_type": "execute_result"
    }
   ],
   "source": [
    "data.sort_values(by = 'total_sales', ascending = True).head(10)"
   ]
  },
  {
   "cell_type": "markdown",
   "metadata": {},
   "source": [
    "<h3> Шаг 3. Проведите исследовательский анализ данных </h3>"
   ]
  },
  {
   "cell_type": "markdown",
   "metadata": {},
   "source": [
    "<h4> Посмотрите, сколько игр выпускалось в разные годы. Важны ли данные за все периоды? </h4>"
   ]
  },
  {
   "cell_type": "code",
   "execution_count": 31,
   "metadata": {},
   "outputs": [
    {
     "data": {
      "image/png": "[encoded data removed]",
      "text/plain": [
       "<Figure size 432x288 with 1 Axes>"
      ]
     },
     "metadata": {
      "needs_background": "light"
     },
     "output_type": "display_data"
    }
   ],
   "source": [
    "data['year_of_release'].hist(bins = 35);"
   ]
  },
  {
   "cell_type": "markdown",
   "metadata": {},
   "source": [
    "Больше всего игр было выпущенно между 2005 и 2010 годами. Так как игровая индустрия сильно изменилась с начала 1980, можно предположить, что данные за все периоды не так важны. Первые 15 лет сильно не повлияют на статистику послидних 15 - ти лет."
   ]
  },
  {
   "cell_type": "markdown",
   "metadata": {},
   "source": [
    "<h4> Посмотрите, как менялись продажи по платформам. Выберите платформы с наибольшими суммарными продажами и постройте распределение по годам. За какой характерный срок появляются новые и исчезают старые платформы? </h4>"
   ]
  },
  {
   "cell_type": "code",
   "execution_count": 32,
   "metadata": {},
   "outputs": [],
   "source": [
    "head_games = data.sort_values(by = 'total_sales', ascending = False).head(20)\n",
    "# Сортируем 20 самых продаваемых игр"
   ]
  },
  {
   "cell_type": "code",
   "execution_count": 33,
   "metadata": {},
   "outputs": [],
   "source": [
    "platform_list = head_games['platform'].value_counts().index.values\n",
    "# Записываем их в переменную 'platform_list' как список"
   ]
  },
  {
   "cell_type": "code",
   "execution_count": 34,
   "metadata": {},
   "outputs": [],
   "source": [
    "data_head_platform =data.query('platform in @platform_list')\n",
    "#Получаем срез с платформами из списка 'platform_list'"
   ]
  },
  {
   "cell_type": "code",
   "execution_count": 35,
   "metadata": {},
   "outputs": [
    {
     "data": {
      "image/png": "[encoded data removed]",
      "text/plain": [
       "<Figure size 936x360 with 1 Axes>"
      ]
     },
     "metadata": {
      "needs_background": "light"
     },
     "output_type": "display_data"
    }
   ],
   "source": [
    "(\n",
    "    data_head_platform.pivot_table(index = 'year_of_release', columns = 'platform', values = 'total_sales', aggfunc = ('sum'))\n",
    "    .plot(grid=True, figsize=(13, 5), title = 'Распределение платформ по годам')\n",
    ");"
   ]
  },
  {
   "cell_type": "markdown",
   "metadata": {},
   "source": [
    "Примерно за 10 лет исчезают платформы и на замену им приходят новые. Но есть и исключения. Плтаформа 'GB' продержалась почти 15 лет. Учитывая эти данные, стоит понимать, что последние 20 лет скачек технологий значительно выше, чем за предыдушие 20 лет, это говорит о том, что изменения в индустрии видеоигр будут также рости, поэтому интрервал замены платформ будет ниже."
   ]
  },
  {
   "cell_type": "markdown",
   "metadata": {},
   "source": [
    "<h4> Возьмите данные за соответствующий актуальный период. Актуальный период определите самостоятельно в результате исследования предыдущих вопросов. Основной фактор — эти данные помогут построить прогноз на 2017 год. </h4>"
   ]
  },
  {
   "cell_type": "markdown",
   "metadata": {},
   "source": [
    "<h4> Не учитывайте в работе данные за предыдущие годы.\n",
    "Какие платформы лидируют по продажам, растут или падают? Выберите несколько потенциально прибыльных платформ. </h4>"
   ]
  },
  {
   "cell_type": "code",
   "execution_count": 36,
   "metadata": {},
   "outputs": [],
   "source": [
    "actual_data = data.query('year_of_release > 2013')"
   ]
  },
  {
   "cell_type": "markdown",
   "metadata": {},
   "source": [
    "Актуальный период возьмем после 2013 года, хотя для прогноза на 2017 год, целесообразно учитывать только 2016. Но возьмем 3 года, чтоб посмотреть как изменялась динамика."
   ]
  },
  {
   "cell_type": "code",
   "execution_count": 37,
   "metadata": {},
   "outputs": [],
   "source": [
    "head_games_actual = actual_data.sort_values(by = 'total_sales', ascending = False).head(20)\n",
    "# Сортируем 20 самых продаваемых игр за последние 3 года"
   ]
  },
  {
   "cell_type": "code",
   "execution_count": 38,
   "metadata": {},
   "outputs": [],
   "source": [
    "platform_list_actual = head_games_actual['platform'].value_counts().index.values\n",
    "# Записываем их в переменную 'platform_list_actual' как список"
   ]
  },
  {
   "cell_type": "code",
   "execution_count": 39,
   "metadata": {},
   "outputs": [],
   "source": [
    "data_head_platform_actual = data.query('platform in @platform_list_actual & year_of_release > 2013')\n",
    "#Получаем срез с платформами из списка 'platform_list_actual'"
   ]
  },
  {
   "cell_type": "code",
   "execution_count": 40,
   "metadata": {},
   "outputs": [
    {
     "data": {
      "image/png": "[encoded data removed]",
      "text/plain": [
       "<Figure size 936x360 with 1 Axes>"
      ]
     },
     "metadata": {
      "needs_background": "light"
     },
     "output_type": "display_data"
    }
   ],
   "source": [
    "(\n",
    "    data_head_platform_actual.pivot_table(index = 'year_of_release', columns = 'platform', values = 'total_sales', aggfunc = ('sum'))\n",
    "    .plot(grid=True, figsize=(13, 5), title = 'Распределение платформ за последние 3 года')\n",
    ");"
   ]
  },
  {
   "cell_type": "markdown",
   "metadata": {},
   "source": [
    "Лидерами платформ за последние 3 года являются PS4,  Xbox One и Nintendo 3DS. Тенденция роста к 16 году уже отрицательная. Не смотря на это, потомки PS4 и XOne придут на рынок только к 2020 году, это значит что данные платформы продолжат быть основными на рынке в следующие 3 года."
   ]
  },
  {
   "cell_type": "markdown",
   "metadata": {},
   "source": [
    "<h4> Постройте график «ящик с усами» по глобальным продажам игр в разбивке по платформам. Опишите результат. </h4>"
   ]
  },
  {
   "cell_type": "code",
   "execution_count": 41,
   "metadata": {},
   "outputs": [
    {
     "data": {
      "image/png": "[encoded data removed]",
      "text/plain": [
       "<Figure size 720x504 with 1 Axes>"
      ]
     },
     "metadata": {
      "needs_background": "light"
     },
     "output_type": "display_data"
    }
   ],
   "source": [
    "(\n",
    "    actual_data.query('platform == [\"PS4\",\"XOne\",\"3DS\"]')\n",
    "    .boxplot(column='total_sales', by='platform', figsize =(10,7))\n",
    ");"
   ]
  },
  {
   "cell_type": "code",
   "execution_count": 42,
   "metadata": {},
   "outputs": [
    {
     "data": {
      "text/plain": [
       "count    376.000000\n",
       "mean       0.766356\n",
       "std        1.614969\n",
       "min        0.010000\n",
       "25%        0.057500\n",
       "50%        0.185000\n",
       "75%        0.690000\n",
       "max       14.630000\n",
       "Name: total_sales, dtype: float64"
      ]
     },
     "execution_count": 42,
     "metadata": {},
     "output_type": "execute_result"
    }
   ],
   "source": [
    "actual_data.query('platform == \"PS4\"')['total_sales'].describe()"
   ]
  },
  {
   "cell_type": "code",
   "execution_count": 43,
   "metadata": {},
   "outputs": [
    {
     "data": {
      "text/plain": [
       "count    228.000000\n",
       "mean       0.615614\n",
       "std        1.046513\n",
       "min        0.010000\n",
       "25%        0.050000\n",
       "50%        0.205000\n",
       "75%        0.632500\n",
       "max        7.390000\n",
       "Name: total_sales, dtype: float64"
      ]
     },
     "execution_count": 43,
     "metadata": {},
     "output_type": "execute_result"
    }
   ],
   "source": [
    "actual_data.query('platform == \"XOne\"')['total_sales'].describe()"
   ]
  },
  {
   "cell_type": "code",
   "execution_count": 44,
   "metadata": {},
   "outputs": [
    {
     "data": {
      "text/plain": [
       "count    212.000000\n",
       "mean       0.408868\n",
       "std        1.188368\n",
       "min        0.010000\n",
       "25%        0.030000\n",
       "50%        0.090000\n",
       "75%        0.250000\n",
       "max       11.680000\n",
       "Name: total_sales, dtype: float64"
      ]
     },
     "execution_count": 44,
     "metadata": {},
     "output_type": "execute_result"
    }
   ],
   "source": [
    "actual_data.query('platform == \"3DS\"')['total_sales'].describe()"
   ]
  },
  {
   "cell_type": "markdown",
   "metadata": {},
   "source": [
    "Наибольшая общая стоимость продаж игры имеет платформа PS4 - 14.5  миллионов продаж. Далее платформа 3DS - 11.9 млн. \n",
    "75% Игр у PS4 проданны в размере до 700 тыс, в то время как медиана держится около 185 тыс.\n",
    "75% Игр у XOne проданны в размере до 600 тыс, в то время как медиана держится около 205 тыс.\n",
    "75% Игр у 3DS проданны в размере до 250 тыс, в то время как медиана держится около 90 тыс."
   ]
  },
  {
   "cell_type": "markdown",
   "metadata": {},
   "source": [
    "<h4> Посмотрите, как влияют на продажи внутри одной популярной платформы отзывы пользователей и критиков. Постройте диаграмму рассеяния и посчитайте корреляцию между отзывами и продажами. Сформулируйте выводы. </h4>"
   ]
  },
  {
   "cell_type": "code",
   "execution_count": 45,
   "metadata": {},
   "outputs": [
    {
     "data": {
      "image/png": "[encoded data removed]",
      "text/plain": [
       "<Figure size 504x360 with 1 Axes>"
      ]
     },
     "metadata": {
      "needs_background": "light"
     },
     "output_type": "display_data"
    }
   ],
   "source": [
    "(\n",
    "    actual_data.query('platform == \"PS4\"')\n",
    "    .plot(x='user_score', y='total_sales', kind='scatter',figsize=(7, 5), grid=True, alpha = 0.7)\n",
    ");"
   ]
  },
  {
   "cell_type": "code",
   "execution_count": 46,
   "metadata": {},
   "outputs": [
    {
     "data": {
      "text/plain": [
       "-0.040131589472697356"
      ]
     },
     "execution_count": 46,
     "metadata": {},
     "output_type": "execute_result"
    }
   ],
   "source": [
    "actual_data.query('platform == \"PS4\"')['user_score'].corr(actual_data.query('platform == \"PS4\"')['total_sales'])"
   ]
  },
  {
   "cell_type": "markdown",
   "metadata": {},
   "source": [
    "Корреляция равна -0.04, это означает, что зависимости продаж от оценки пользователей почти нет."
   ]
  },
  {
   "cell_type": "code",
   "execution_count": 47,
   "metadata": {},
   "outputs": [
    {
     "data": {
      "image/png": "[encoded data removed]",
      "text/plain": [
       "<Figure size 504x360 with 1 Axes>"
      ]
     },
     "metadata": {
      "needs_background": "light"
     },
     "output_type": "display_data"
    }
   ],
   "source": [
    "(\n",
    "    actual_data.query('platform == \"PS4\"')\n",
    "    .plot(x='critic_score', y='total_sales', kind='scatter',figsize=(7, 5), grid=True, alpha = 0.7)\n",
    ");"
   ]
  },
  {
   "cell_type": "code",
   "execution_count": 48,
   "metadata": {},
   "outputs": [
    {
     "data": {
      "text/plain": [
       "0.40266141068104083"
      ]
     },
     "execution_count": 48,
     "metadata": {},
     "output_type": "execute_result"
    }
   ],
   "source": [
    "actual_data.query('platform == \"PS4\"')['critic_score'].corr(actual_data.query('platform == \"PS4\"')['total_sales'])"
   ]
  },
  {
   "cell_type": "markdown",
   "metadata": {},
   "source": [
    "Корреляция равна 0.4, это означает, что зависимость продаж от оценки критиков есть и она средняя положительная."
   ]
  },
  {
   "cell_type": "markdown",
   "metadata": {},
   "source": [
    "<h4> Соотнесите выводы с продажами игр на других платформах. </h4>"
   ]
  },
  {
   "cell_type": "code",
   "execution_count": 49,
   "metadata": {},
   "outputs": [
    {
     "data": {
      "text/plain": [
       "platform\n",
       "PS4     0.766356\n",
       "XOne    0.615614\n",
       "WiiU    0.588767\n",
       "Wii     0.460909\n",
       "X360    0.434414\n",
       "3DS     0.408868\n",
       "PS3     0.311324\n",
       "PC      0.179139\n",
       "PSV     0.075932\n",
       "PSP     0.027692\n",
       "Name: total_sales, dtype: float64"
      ]
     },
     "execution_count": 49,
     "metadata": {},
     "output_type": "execute_result"
    }
   ],
   "source": [
    "actual_data.groupby('platform')['total_sales'].mean().sort_values(ascending = False)"
   ]
  },
  {
   "cell_type": "code",
   "execution_count": 50,
   "metadata": {},
   "outputs": [
    {
     "data": {
      "image/png": "[encoded data removed]",
      "text/plain": [
       "<Figure size 1080x720 with 1 Axes>"
      ]
     },
     "metadata": {},
     "output_type": "display_data"
    }
   ],
   "source": [
    "(\n",
    "    actual_data.groupby('platform')['total_sales'].mean().sort_values(ascending = False)\n",
    "    .plot.pie(subplots=True, figsize=(15, 10), autopct=\"%.1f\", fontsize=10, title = 'Продажи с платформ') \n",
    ");"
   ]
  },
  {
   "cell_type": "markdown",
   "metadata": {},
   "source": [
    "<strong> Наиболее прибыльными платформами являются: </strong>\n",
    "<ul>\n",
    "   <li> PS4 - 766 тыс.среднее число продаж во всем мире.</li>\n",
    "    <p></p>\n",
    "   <li> XOne - 615 тыс.среднее число продаж во всем мире.</li>\n",
    "</ul>\n",
    "<p> Этому есть объяснение, так как данные бренды являются лидирующими на рынке игровых платформ.</p>\n",
    "<p></p>\n",
    "<strong> Наименее прибыльными платформами являются: </strong>\n",
    "<ul>\n",
    "   <li> PSV - 75 тыс.среднее число продаж во всем мире.</li>\n",
    "    <p></p>\n",
    "   <li> PSP - 27 тыс.среднее число продаж во всем мире.</li>\n",
    "</ul>"
   ]
  },
  {
   "cell_type": "markdown",
   "metadata": {},
   "source": [
    "<h4> Посмотрите на общее распределение игр по жанрам. Что можно сказать о самых прибыльных жанрах? Выделяются ли жанры с высокими и низкими продажами? </h4>"
   ]
  },
  {
   "cell_type": "code",
   "execution_count": 51,
   "metadata": {},
   "outputs": [
    {
     "data": {
      "text/plain": [
       "genre\n",
       "Shooter         1.335469\n",
       "Sports          0.680000\n",
       "Platform        0.476053\n",
       "Fighting        0.470333\n",
       "Role-Playing    0.459005\n",
       "Racing          0.398841\n",
       "Misc            0.332301\n",
       "Action          0.322068\n",
       "Simulation      0.298409\n",
       "Puzzle          0.157857\n",
       "Strategy        0.107027\n",
       "Adventure       0.094865\n",
       "Name: total_sales, dtype: float64"
      ]
     },
     "execution_count": 51,
     "metadata": {},
     "output_type": "execute_result"
    }
   ],
   "source": [
    "actual_data.groupby('genre')['total_sales'].mean().sort_values(ascending = False)"
   ]
  },
  {
   "cell_type": "code",
   "execution_count": 52,
   "metadata": {},
   "outputs": [
    {
     "data": {
      "image/png": "[encoded data removed]",
      "text/plain": [
       "<Figure size 1080x720 with 1 Axes>"
      ]
     },
     "metadata": {},
     "output_type": "display_data"
    }
   ],
   "source": [
    "(\n",
    "    actual_data.groupby('genre')['total_sales'].mean().sort_values(ascending = False)\n",
    "    .plot.pie(subplots=True, figsize=(15, 10), autopct=\"%.1f\", fontsize=10, title = 'Продажи c жанров')   \n",
    ");"
   ]
  },
  {
   "cell_type": "markdown",
   "metadata": {},
   "source": [
    "<strong> Наиболее прибыльными жанрами являются: </strong>\n",
    "<ul>\n",
    "   <li> Shooter\t - 1 Млн. 335 тыс. среднее число продаж во всем мире.</li>\n",
    "    <p></p>\n",
    "   <li> Sports - 680 тыс. среднее число продаж во всем мире.</li>\n",
    "</ul>\n",
    "\n",
    "<p></p>\n",
    "<strong> Наименее прибыльными жанрами являются: </strong>\n",
    "<ul>\n",
    "   <li> Strategy - 107 тыс. среднее число продаж во всем мире.</li>\n",
    "    <p></p>\n",
    "   <li> Adventure - 94 тыс. среднее число продаж во всем мире.</li>\n",
    "</ul>\n",
    "\n",
    "\n"
   ]
  },
  {
   "cell_type": "markdown",
   "metadata": {},
   "source": [
    "<h3> Шаг 4. Составьте портрет пользователя каждого региона </h3>"
   ]
  },
  {
   "cell_type": "markdown",
   "metadata": {},
   "source": [
    "<h4> Определите для пользователя каждого региона (NA, EU, JP): </h4>"
   ]
  },
  {
   "cell_type": "markdown",
   "metadata": {},
   "source": [
    "<h5> Самые популярные платформы (топ-5). Опишите различия в долях продаж.</h5>"
   ]
  },
  {
   "cell_type": "code",
   "execution_count": 53,
   "metadata": {},
   "outputs": [],
   "source": [
    "na_platform = actual_data.groupby('platform').agg({'na_sales':'sum'}).sort_values(by ='na_sales',ascending = False).head()"
   ]
  },
  {
   "cell_type": "code",
   "execution_count": 54,
   "metadata": {},
   "outputs": [],
   "source": [
    "na_platform['percent_sales'] = ((na_platform['na_sales']/na_platform['na_sales'].sum())*100).round(1).astype(str) + '%'"
   ]
  },
  {
   "cell_type": "code",
   "execution_count": 55,
   "metadata": {},
   "outputs": [
    {
     "data": {
      "text/html": [
       "<div>\n",
       "<style scoped>\n",
       "    .dataframe tbody tr th:only-of-type {\n",
       "        vertical-align: middle;\n",
       "    }\n",
       "\n",
       "    .dataframe tbody tr th {\n",
       "        vertical-align: top;\n",
       "    }\n",
       "\n",
       "    .dataframe thead th {\n",
       "        text-align: right;\n",
       "    }\n",
       "</style>\n",
       "<table border=\"1\" class=\"dataframe\">\n",
       "  <thead>\n",
       "    <tr style=\"text-align: right;\">\n",
       "      <th></th>\n",
       "      <th>na_sales</th>\n",
       "      <th>percent_sales</th>\n",
       "    </tr>\n",
       "    <tr>\n",
       "      <th>platform</th>\n",
       "      <th></th>\n",
       "      <th></th>\n",
       "    </tr>\n",
       "  </thead>\n",
       "  <tbody>\n",
       "    <tr>\n",
       "      <th>PS4</th>\n",
       "      <td>98.61</td>\n",
       "      <td>39.0%</td>\n",
       "    </tr>\n",
       "    <tr>\n",
       "      <th>XOne</th>\n",
       "      <td>81.27</td>\n",
       "      <td>32.1%</td>\n",
       "    </tr>\n",
       "    <tr>\n",
       "      <th>X360</th>\n",
       "      <td>28.30</td>\n",
       "      <td>11.2%</td>\n",
       "    </tr>\n",
       "    <tr>\n",
       "      <th>3DS</th>\n",
       "      <td>22.64</td>\n",
       "      <td>9.0%</td>\n",
       "    </tr>\n",
       "    <tr>\n",
       "      <th>PS3</th>\n",
       "      <td>22.05</td>\n",
       "      <td>8.7%</td>\n",
       "    </tr>\n",
       "  </tbody>\n",
       "</table>\n",
       "</div>"
      ],
      "text/plain": [
       "          na_sales percent_sales\n",
       "platform                        \n",
       "PS4          98.61         39.0%\n",
       "XOne         81.27         32.1%\n",
       "X360         28.30         11.2%\n",
       "3DS          22.64          9.0%\n",
       "PS3          22.05          8.7%"
      ]
     },
     "execution_count": 55,
     "metadata": {},
     "output_type": "execute_result"
    }
   ],
   "source": [
    "na_platform"
   ]
  },
  {
   "cell_type": "markdown",
   "metadata": {},
   "source": [
    "В Северной Америке 71% продаж занимают платформы PS4 И XOne (произвоство США). И лишь остальные 29 % делят между собой X360, PS3 и 3DS."
   ]
  },
  {
   "cell_type": "markdown",
   "metadata": {},
   "source": [
    "<h5> Самые популярные жанры (топ-5). Поясните разницу. </h5>"
   ]
  },
  {
   "cell_type": "code",
   "execution_count": 56,
   "metadata": {},
   "outputs": [],
   "source": [
    "na_genre = actual_data.groupby('genre').agg({'na_sales':'sum'}).sort_values(by ='na_sales',ascending = False).head()"
   ]
  },
  {
   "cell_type": "code",
   "execution_count": 57,
   "metadata": {},
   "outputs": [],
   "source": [
    "na_genre['percent_sales'] = ((na_genre['na_sales']/na_genre['na_sales'].sum())*100).round(1).astype(str) + '%'"
   ]
  },
  {
   "cell_type": "code",
   "execution_count": 58,
   "metadata": {},
   "outputs": [
    {
     "data": {
      "text/html": [
       "<div>\n",
       "<style scoped>\n",
       "    .dataframe tbody tr th:only-of-type {\n",
       "        vertical-align: middle;\n",
       "    }\n",
       "\n",
       "    .dataframe tbody tr th {\n",
       "        vertical-align: top;\n",
       "    }\n",
       "\n",
       "    .dataframe thead th {\n",
       "        text-align: right;\n",
       "    }\n",
       "</style>\n",
       "<table border=\"1\" class=\"dataframe\">\n",
       "  <thead>\n",
       "    <tr style=\"text-align: right;\">\n",
       "      <th></th>\n",
       "      <th>na_sales</th>\n",
       "      <th>percent_sales</th>\n",
       "    </tr>\n",
       "    <tr>\n",
       "      <th>genre</th>\n",
       "      <th></th>\n",
       "      <th></th>\n",
       "    </tr>\n",
       "  </thead>\n",
       "  <tbody>\n",
       "    <tr>\n",
       "      <th>Shooter</th>\n",
       "      <td>79.02</td>\n",
       "      <td>32.1%</td>\n",
       "    </tr>\n",
       "    <tr>\n",
       "      <th>Action</th>\n",
       "      <td>72.53</td>\n",
       "      <td>29.5%</td>\n",
       "    </tr>\n",
       "    <tr>\n",
       "      <th>Sports</th>\n",
       "      <td>46.13</td>\n",
       "      <td>18.7%</td>\n",
       "    </tr>\n",
       "    <tr>\n",
       "      <th>Role-Playing</th>\n",
       "      <td>33.47</td>\n",
       "      <td>13.6%</td>\n",
       "    </tr>\n",
       "    <tr>\n",
       "      <th>Misc</th>\n",
       "      <td>15.05</td>\n",
       "      <td>6.1%</td>\n",
       "    </tr>\n",
       "  </tbody>\n",
       "</table>\n",
       "</div>"
      ],
      "text/plain": [
       "              na_sales percent_sales\n",
       "genre                               \n",
       "Shooter          79.02         32.1%\n",
       "Action           72.53         29.5%\n",
       "Sports           46.13         18.7%\n",
       "Role-Playing     33.47         13.6%\n",
       "Misc             15.05          6.1%"
      ]
     },
     "execution_count": 58,
     "metadata": {},
     "output_type": "execute_result"
    }
   ],
   "source": [
    "na_genre"
   ]
  },
  {
   "cell_type": "markdown",
   "metadata": {},
   "source": [
    "В Северной Америке 62% продаж занимают платформы Shooter И Action. И лишь остальные 38 % делят между собой Sports, Role-Playing\t и Misc. Как правило игры жанра Shooter и Action отличаются своим гемплеем от остальных жанров, тем самым пользуясь более выским спросом."
   ]
  },
  {
   "cell_type": "markdown",
   "metadata": {},
   "source": [
    "<h5> Влияет ли рейтинг ESRB на продажи в отдельном регионе? </h5>"
   ]
  },
  {
   "cell_type": "code",
   "execution_count": 59,
   "metadata": {},
   "outputs": [],
   "source": [
    "na_rating = actual_data.groupby('rating').agg({'na_sales':'sum'}).sort_values(by ='na_sales',ascending = False)"
   ]
  },
  {
   "cell_type": "code",
   "execution_count": 60,
   "metadata": {},
   "outputs": [],
   "source": [
    "na_rating['percent_sales'] = ((na_rating['na_sales']/na_rating['na_sales'].sum())*100).round(1).astype(str) + '%'"
   ]
  },
  {
   "cell_type": "code",
   "execution_count": 61,
   "metadata": {},
   "outputs": [
    {
     "data": {
      "text/html": [
       "<div>\n",
       "<style scoped>\n",
       "    .dataframe tbody tr th:only-of-type {\n",
       "        vertical-align: middle;\n",
       "    }\n",
       "\n",
       "    .dataframe tbody tr th {\n",
       "        vertical-align: top;\n",
       "    }\n",
       "\n",
       "    .dataframe thead th {\n",
       "        text-align: right;\n",
       "    }\n",
       "</style>\n",
       "<table border=\"1\" class=\"dataframe\">\n",
       "  <thead>\n",
       "    <tr style=\"text-align: right;\">\n",
       "      <th></th>\n",
       "      <th>na_sales</th>\n",
       "      <th>percent_sales</th>\n",
       "    </tr>\n",
       "    <tr>\n",
       "      <th>rating</th>\n",
       "      <th></th>\n",
       "      <th></th>\n",
       "    </tr>\n",
       "  </thead>\n",
       "  <tbody>\n",
       "    <tr>\n",
       "      <th>M</th>\n",
       "      <td>96.42</td>\n",
       "      <td>33.9%</td>\n",
       "    </tr>\n",
       "    <tr>\n",
       "      <th>unrated</th>\n",
       "      <td>64.72</td>\n",
       "      <td>22.8%</td>\n",
       "    </tr>\n",
       "    <tr>\n",
       "      <th>E</th>\n",
       "      <td>50.74</td>\n",
       "      <td>17.9%</td>\n",
       "    </tr>\n",
       "    <tr>\n",
       "      <th>T</th>\n",
       "      <td>38.95</td>\n",
       "      <td>13.7%</td>\n",
       "    </tr>\n",
       "    <tr>\n",
       "      <th>E10+</th>\n",
       "      <td>33.23</td>\n",
       "      <td>11.7%</td>\n",
       "    </tr>\n",
       "  </tbody>\n",
       "</table>\n",
       "</div>"
      ],
      "text/plain": [
       "         na_sales percent_sales\n",
       "rating                         \n",
       "M           96.42         33.9%\n",
       "unrated     64.72         22.8%\n",
       "E           50.74         17.9%\n",
       "T           38.95         13.7%\n",
       "E10+        33.23         11.7%"
      ]
     },
     "execution_count": 61,
     "metadata": {},
     "output_type": "execute_result"
    }
   ],
   "source": [
    "na_rating"
   ]
  },
  {
   "cell_type": "markdown",
   "metadata": {},
   "source": [
    "В Северной Америке 34% продаж приходится на игры с рейтингом 'M', а то есть игры для взрослых. Далее 23% продаж на игры с неопределенным рейтингом, потом 17% на игры для всех, и меньше всего на игры для детей от 10 лет."
   ]
  },
  {
   "cell_type": "markdown",
   "metadata": {},
   "source": [
    "Теперь посмотрим, харрактерны ли такие результаты для Европы и Японии"
   ]
  },
  {
   "cell_type": "markdown",
   "metadata": {},
   "source": [
    "<h5> Самые популярные платформы (топ-5). Опишите различия в долях продаж.</h5>"
   ]
  },
  {
   "cell_type": "code",
   "execution_count": 62,
   "metadata": {},
   "outputs": [],
   "source": [
    "eu_platform = actual_data.groupby('platform').agg({'eu_sales':'sum'}).sort_values(by ='eu_sales',ascending = False).head()"
   ]
  },
  {
   "cell_type": "code",
   "execution_count": 63,
   "metadata": {},
   "outputs": [],
   "source": [
    "eu_platform['percent_sales'] = ((eu_platform['eu_sales']/eu_platform['eu_sales'].sum())*100).round(1).astype(str) + '%'"
   ]
  },
  {
   "cell_type": "code",
   "execution_count": 64,
   "metadata": {
    "scrolled": false
   },
   "outputs": [
    {
     "data": {
      "text/html": [
       "<div>\n",
       "<style scoped>\n",
       "    .dataframe tbody tr th:only-of-type {\n",
       "        vertical-align: middle;\n",
       "    }\n",
       "\n",
       "    .dataframe tbody tr th {\n",
       "        vertical-align: top;\n",
       "    }\n",
       "\n",
       "    .dataframe thead th {\n",
       "        text-align: right;\n",
       "    }\n",
       "</style>\n",
       "<table border=\"1\" class=\"dataframe\">\n",
       "  <thead>\n",
       "    <tr style=\"text-align: right;\">\n",
       "      <th></th>\n",
       "      <th>eu_sales</th>\n",
       "      <th>percent_sales</th>\n",
       "    </tr>\n",
       "    <tr>\n",
       "      <th>platform</th>\n",
       "      <th></th>\n",
       "      <th></th>\n",
       "    </tr>\n",
       "  </thead>\n",
       "  <tbody>\n",
       "    <tr>\n",
       "      <th>PS4</th>\n",
       "      <td>130.04</td>\n",
       "      <td>55.1%</td>\n",
       "    </tr>\n",
       "    <tr>\n",
       "      <th>XOne</th>\n",
       "      <td>46.25</td>\n",
       "      <td>19.6%</td>\n",
       "    </tr>\n",
       "    <tr>\n",
       "      <th>PS3</th>\n",
       "      <td>25.54</td>\n",
       "      <td>10.8%</td>\n",
       "    </tr>\n",
       "    <tr>\n",
       "      <th>PC</th>\n",
       "      <td>17.97</td>\n",
       "      <td>7.6%</td>\n",
       "    </tr>\n",
       "    <tr>\n",
       "      <th>3DS</th>\n",
       "      <td>16.12</td>\n",
       "      <td>6.8%</td>\n",
       "    </tr>\n",
       "  </tbody>\n",
       "</table>\n",
       "</div>"
      ],
      "text/plain": [
       "          eu_sales percent_sales\n",
       "platform                        \n",
       "PS4         130.04         55.1%\n",
       "XOne         46.25         19.6%\n",
       "PS3          25.54         10.8%\n",
       "PC           17.97          7.6%\n",
       "3DS          16.12          6.8%"
      ]
     },
     "execution_count": 64,
     "metadata": {},
     "output_type": "execute_result"
    }
   ],
   "source": [
    "eu_platform"
   ]
  },
  {
   "cell_type": "markdown",
   "metadata": {},
   "source": [
    "В Европе 74% продаж занимают платформы PS4 И XOne. И лишь остальные 26 % делят между собой  PS3, PC\t и 3DS."
   ]
  },
  {
   "cell_type": "markdown",
   "metadata": {},
   "source": [
    "<h5> Самые популярные жанры (топ-5). Поясните разницу. </h5>"
   ]
  },
  {
   "cell_type": "code",
   "execution_count": 65,
   "metadata": {},
   "outputs": [],
   "source": [
    "eu_genre = actual_data.groupby('genre').agg({'eu_sales':'sum'}).sort_values(by ='eu_sales',ascending = False).head()"
   ]
  },
  {
   "cell_type": "code",
   "execution_count": 66,
   "metadata": {},
   "outputs": [],
   "source": [
    "eu_genre['percent_sales'] = ((eu_genre['eu_sales']/eu_genre['eu_sales'].sum())*100).round(1).astype(str) + '%'"
   ]
  },
  {
   "cell_type": "code",
   "execution_count": 67,
   "metadata": {},
   "outputs": [
    {
     "data": {
      "text/html": [
       "<div>\n",
       "<style scoped>\n",
       "    .dataframe tbody tr th:only-of-type {\n",
       "        vertical-align: middle;\n",
       "    }\n",
       "\n",
       "    .dataframe tbody tr th {\n",
       "        vertical-align: top;\n",
       "    }\n",
       "\n",
       "    .dataframe thead th {\n",
       "        text-align: right;\n",
       "    }\n",
       "</style>\n",
       "<table border=\"1\" class=\"dataframe\">\n",
       "  <thead>\n",
       "    <tr style=\"text-align: right;\">\n",
       "      <th></th>\n",
       "      <th>eu_sales</th>\n",
       "      <th>percent_sales</th>\n",
       "    </tr>\n",
       "    <tr>\n",
       "      <th>genre</th>\n",
       "      <th></th>\n",
       "      <th></th>\n",
       "    </tr>\n",
       "  </thead>\n",
       "  <tbody>\n",
       "    <tr>\n",
       "      <th>Action</th>\n",
       "      <td>74.68</td>\n",
       "      <td>32.7%</td>\n",
       "    </tr>\n",
       "    <tr>\n",
       "      <th>Shooter</th>\n",
       "      <td>65.52</td>\n",
       "      <td>28.7%</td>\n",
       "    </tr>\n",
       "    <tr>\n",
       "      <th>Sports</th>\n",
       "      <td>45.73</td>\n",
       "      <td>20.0%</td>\n",
       "    </tr>\n",
       "    <tr>\n",
       "      <th>Role-Playing</th>\n",
       "      <td>28.17</td>\n",
       "      <td>12.3%</td>\n",
       "    </tr>\n",
       "    <tr>\n",
       "      <th>Racing</th>\n",
       "      <td>14.13</td>\n",
       "      <td>6.2%</td>\n",
       "    </tr>\n",
       "  </tbody>\n",
       "</table>\n",
       "</div>"
      ],
      "text/plain": [
       "              eu_sales percent_sales\n",
       "genre                               \n",
       "Action           74.68         32.7%\n",
       "Shooter          65.52         28.7%\n",
       "Sports           45.73         20.0%\n",
       "Role-Playing     28.17         12.3%\n",
       "Racing           14.13          6.2%"
      ]
     },
     "execution_count": 67,
     "metadata": {},
     "output_type": "execute_result"
    }
   ],
   "source": [
    "eu_genre"
   ]
  },
  {
   "cell_type": "markdown",
   "metadata": {},
   "source": [
    "В Европе 61% продаж занимают платформы Shooter И Action. И лишь остальные 39 % делят между собой Sports, Role-Playing\t и Racing. Как правило игры жанра Shooter и Action отличаются своим гемплеем от остальных жанров, тем самым пользуясь более выским спросом."
   ]
  },
  {
   "cell_type": "markdown",
   "metadata": {},
   "source": [
    "<h5> Влияет ли рейтинг ESRB на продажи в отдельном регионе? </h5>"
   ]
  },
  {
   "cell_type": "code",
   "execution_count": 68,
   "metadata": {},
   "outputs": [],
   "source": [
    "eu_rating = actual_data.groupby('rating').agg({'eu_sales':'sum'}).sort_values(by ='eu_sales',ascending = False)"
   ]
  },
  {
   "cell_type": "code",
   "execution_count": 69,
   "metadata": {},
   "outputs": [],
   "source": [
    "eu_rating['percent_sales'] = ((eu_rating['eu_sales']/eu_rating['eu_sales'].sum())*100).round(1).astype(str) + '%'"
   ]
  },
  {
   "cell_type": "code",
   "execution_count": 70,
   "metadata": {},
   "outputs": [
    {
     "data": {
      "text/html": [
       "<div>\n",
       "<style scoped>\n",
       "    .dataframe tbody tr th:only-of-type {\n",
       "        vertical-align: middle;\n",
       "    }\n",
       "\n",
       "    .dataframe tbody tr th {\n",
       "        vertical-align: top;\n",
       "    }\n",
       "\n",
       "    .dataframe thead th {\n",
       "        text-align: right;\n",
       "    }\n",
       "</style>\n",
       "<table border=\"1\" class=\"dataframe\">\n",
       "  <thead>\n",
       "    <tr style=\"text-align: right;\">\n",
       "      <th></th>\n",
       "      <th>eu_sales</th>\n",
       "      <th>percent_sales</th>\n",
       "    </tr>\n",
       "    <tr>\n",
       "      <th>rating</th>\n",
       "      <th></th>\n",
       "      <th></th>\n",
       "    </tr>\n",
       "  </thead>\n",
       "  <tbody>\n",
       "    <tr>\n",
       "      <th>M</th>\n",
       "      <td>93.44</td>\n",
       "      <td>34.5%</td>\n",
       "    </tr>\n",
       "    <tr>\n",
       "      <th>unrated</th>\n",
       "      <td>58.95</td>\n",
       "      <td>21.8%</td>\n",
       "    </tr>\n",
       "    <tr>\n",
       "      <th>E</th>\n",
       "      <td>58.06</td>\n",
       "      <td>21.4%</td>\n",
       "    </tr>\n",
       "    <tr>\n",
       "      <th>T</th>\n",
       "      <td>34.07</td>\n",
       "      <td>12.6%</td>\n",
       "    </tr>\n",
       "    <tr>\n",
       "      <th>E10+</th>\n",
       "      <td>26.16</td>\n",
       "      <td>9.7%</td>\n",
       "    </tr>\n",
       "  </tbody>\n",
       "</table>\n",
       "</div>"
      ],
      "text/plain": [
       "         eu_sales percent_sales\n",
       "rating                         \n",
       "M           93.44         34.5%\n",
       "unrated     58.95         21.8%\n",
       "E           58.06         21.4%\n",
       "T           34.07         12.6%\n",
       "E10+        26.16          9.7%"
      ]
     },
     "execution_count": 70,
     "metadata": {},
     "output_type": "execute_result"
    }
   ],
   "source": [
    "eu_rating"
   ]
  },
  {
   "cell_type": "markdown",
   "metadata": {},
   "source": [
    "В Европе 34.5% продаж приходится на игры с рейтингом 'M', а то есть игры для взрослых. Далее 21% продаж на игры с неопределенным рейтингом, потом 21% на игры для всех, и меньше всего на игры для детей от 10 лет. Разницы с Северной Америкой практически нет."
   ]
  },
  {
   "cell_type": "code",
   "execution_count": 71,
   "metadata": {},
   "outputs": [],
   "source": [
    "jp_platform = actual_data.groupby('platform').agg({'jp_sales':'sum'}).sort_values(by ='jp_sales',ascending = False).head()"
   ]
  },
  {
   "cell_type": "code",
   "execution_count": 72,
   "metadata": {},
   "outputs": [],
   "source": [
    "jp_platform['percent_sales'] = ((jp_platform['jp_sales']/jp_platform['jp_sales'].sum())*100).round(1).astype(str) + '%'"
   ]
  },
  {
   "cell_type": "code",
   "execution_count": 73,
   "metadata": {
    "scrolled": false
   },
   "outputs": [
    {
     "data": {
      "text/html": [
       "<div>\n",
       "<style scoped>\n",
       "    .dataframe tbody tr th:only-of-type {\n",
       "        vertical-align: middle;\n",
       "    }\n",
       "\n",
       "    .dataframe tbody tr th {\n",
       "        vertical-align: top;\n",
       "    }\n",
       "\n",
       "    .dataframe thead th {\n",
       "        text-align: right;\n",
       "    }\n",
       "</style>\n",
       "<table border=\"1\" class=\"dataframe\">\n",
       "  <thead>\n",
       "    <tr style=\"text-align: right;\">\n",
       "      <th></th>\n",
       "      <th>jp_sales</th>\n",
       "      <th>percent_sales</th>\n",
       "    </tr>\n",
       "    <tr>\n",
       "      <th>platform</th>\n",
       "      <th></th>\n",
       "      <th></th>\n",
       "    </tr>\n",
       "  </thead>\n",
       "  <tbody>\n",
       "    <tr>\n",
       "      <th>3DS</th>\n",
       "      <td>44.24</td>\n",
       "      <td>47.9%</td>\n",
       "    </tr>\n",
       "    <tr>\n",
       "      <th>PS4</th>\n",
       "      <td>15.02</td>\n",
       "      <td>16.3%</td>\n",
       "    </tr>\n",
       "    <tr>\n",
       "      <th>PSV</th>\n",
       "      <td>14.54</td>\n",
       "      <td>15.7%</td>\n",
       "    </tr>\n",
       "    <tr>\n",
       "      <th>PS3</th>\n",
       "      <td>11.22</td>\n",
       "      <td>12.2%</td>\n",
       "    </tr>\n",
       "    <tr>\n",
       "      <th>WiiU</th>\n",
       "      <td>7.31</td>\n",
       "      <td>7.9%</td>\n",
       "    </tr>\n",
       "  </tbody>\n",
       "</table>\n",
       "</div>"
      ],
      "text/plain": [
       "          jp_sales percent_sales\n",
       "platform                        \n",
       "3DS          44.24         47.9%\n",
       "PS4          15.02         16.3%\n",
       "PSV          14.54         15.7%\n",
       "PS3          11.22         12.2%\n",
       "WiiU          7.31          7.9%"
      ]
     },
     "execution_count": 73,
     "metadata": {},
     "output_type": "execute_result"
    }
   ],
   "source": [
    "jp_platform"
   ]
  },
  {
   "cell_type": "markdown",
   "metadata": {},
   "source": [
    "В Японии 47% продаж занимает отечественная (Японская) платформа  3DS, следующие 44% делят между собой платформы серии sony (также Японские) и лишь остальные 8 % занимает WiiU (Китай)."
   ]
  },
  {
   "cell_type": "markdown",
   "metadata": {},
   "source": [
    "<h5> Самые популярные жанры (топ-5). Поясните разницу. </h5>"
   ]
  },
  {
   "cell_type": "code",
   "execution_count": 74,
   "metadata": {},
   "outputs": [],
   "source": [
    "jp_genre = actual_data.groupby('genre').agg({'jp_sales':'sum'}).sort_values(by ='jp_sales',ascending = False).head()"
   ]
  },
  {
   "cell_type": "code",
   "execution_count": 75,
   "metadata": {},
   "outputs": [],
   "source": [
    "jp_genre['percent_sales'] = ((jp_genre['jp_sales']/jp_genre['jp_sales'].sum())*100).round(1).astype(str) + '%'"
   ]
  },
  {
   "cell_type": "code",
   "execution_count": 76,
   "metadata": {},
   "outputs": [
    {
     "data": {
      "text/html": [
       "<div>\n",
       "<style scoped>\n",
       "    .dataframe tbody tr th:only-of-type {\n",
       "        vertical-align: middle;\n",
       "    }\n",
       "\n",
       "    .dataframe tbody tr th {\n",
       "        vertical-align: top;\n",
       "    }\n",
       "\n",
       "    .dataframe thead th {\n",
       "        text-align: right;\n",
       "    }\n",
       "</style>\n",
       "<table border=\"1\" class=\"dataframe\">\n",
       "  <thead>\n",
       "    <tr style=\"text-align: right;\">\n",
       "      <th></th>\n",
       "      <th>jp_sales</th>\n",
       "      <th>percent_sales</th>\n",
       "    </tr>\n",
       "    <tr>\n",
       "      <th>genre</th>\n",
       "      <th></th>\n",
       "      <th></th>\n",
       "    </tr>\n",
       "  </thead>\n",
       "  <tbody>\n",
       "    <tr>\n",
       "      <th>Role-Playing</th>\n",
       "      <td>31.16</td>\n",
       "      <td>40.2%</td>\n",
       "    </tr>\n",
       "    <tr>\n",
       "      <th>Action</th>\n",
       "      <td>29.58</td>\n",
       "      <td>38.1%</td>\n",
       "    </tr>\n",
       "    <tr>\n",
       "      <th>Fighting</th>\n",
       "      <td>6.37</td>\n",
       "      <td>8.2%</td>\n",
       "    </tr>\n",
       "    <tr>\n",
       "      <th>Misc</th>\n",
       "      <td>5.61</td>\n",
       "      <td>7.2%</td>\n",
       "    </tr>\n",
       "    <tr>\n",
       "      <th>Shooter</th>\n",
       "      <td>4.87</td>\n",
       "      <td>6.3%</td>\n",
       "    </tr>\n",
       "  </tbody>\n",
       "</table>\n",
       "</div>"
      ],
      "text/plain": [
       "              jp_sales percent_sales\n",
       "genre                               \n",
       "Role-Playing     31.16         40.2%\n",
       "Action           29.58         38.1%\n",
       "Fighting          6.37          8.2%\n",
       "Misc              5.61          7.2%\n",
       "Shooter           4.87          6.3%"
      ]
     },
     "execution_count": 76,
     "metadata": {},
     "output_type": "execute_result"
    }
   ],
   "source": [
    "jp_genre"
   ]
  },
  {
   "cell_type": "markdown",
   "metadata": {},
   "source": [
    "В Европе 78% продаж занимают платформы Role-Playing И Action. И лишь остальные 22 % делят между собой Fighting, Role-Misc и  популярный в США и Европе Shooter. Лидером жанров является RP игры, вероятно, это связанно с особенностями Японской культуры, которая далека от Западной."
   ]
  },
  {
   "cell_type": "markdown",
   "metadata": {},
   "source": [
    "<h5> Влияет ли рейтинг ESRB на продажи в отдельном регионе? </h5>"
   ]
  },
  {
   "cell_type": "code",
   "execution_count": 77,
   "metadata": {},
   "outputs": [],
   "source": [
    "jp_rating = actual_data.groupby('rating').agg({'jp_sales':'sum'}).sort_values(by ='jp_sales',ascending = False)"
   ]
  },
  {
   "cell_type": "code",
   "execution_count": 78,
   "metadata": {},
   "outputs": [],
   "source": [
    "jp_rating['percent_sales'] = ((jp_rating['jp_sales']/jp_rating['jp_sales'].sum())*100).round(1).astype(str) + '%'"
   ]
  },
  {
   "cell_type": "code",
   "execution_count": 79,
   "metadata": {},
   "outputs": [
    {
     "data": {
      "text/html": [
       "<div>\n",
       "<style scoped>\n",
       "    .dataframe tbody tr th:only-of-type {\n",
       "        vertical-align: middle;\n",
       "    }\n",
       "\n",
       "    .dataframe tbody tr th {\n",
       "        vertical-align: top;\n",
       "    }\n",
       "\n",
       "    .dataframe thead th {\n",
       "        text-align: right;\n",
       "    }\n",
       "</style>\n",
       "<table border=\"1\" class=\"dataframe\">\n",
       "  <thead>\n",
       "    <tr style=\"text-align: right;\">\n",
       "      <th></th>\n",
       "      <th>jp_sales</th>\n",
       "      <th>percent_sales</th>\n",
       "    </tr>\n",
       "    <tr>\n",
       "      <th>rating</th>\n",
       "      <th></th>\n",
       "      <th></th>\n",
       "    </tr>\n",
       "  </thead>\n",
       "  <tbody>\n",
       "    <tr>\n",
       "      <th>unrated</th>\n",
       "      <td>56.90</td>\n",
       "      <td>61.1%</td>\n",
       "    </tr>\n",
       "    <tr>\n",
       "      <th>T</th>\n",
       "      <td>14.78</td>\n",
       "      <td>15.9%</td>\n",
       "    </tr>\n",
       "    <tr>\n",
       "      <th>E</th>\n",
       "      <td>8.94</td>\n",
       "      <td>9.6%</td>\n",
       "    </tr>\n",
       "    <tr>\n",
       "      <th>M</th>\n",
       "      <td>8.01</td>\n",
       "      <td>8.6%</td>\n",
       "    </tr>\n",
       "    <tr>\n",
       "      <th>E10+</th>\n",
       "      <td>4.46</td>\n",
       "      <td>4.8%</td>\n",
       "    </tr>\n",
       "  </tbody>\n",
       "</table>\n",
       "</div>"
      ],
      "text/plain": [
       "         jp_sales percent_sales\n",
       "rating                         \n",
       "unrated     56.90         61.1%\n",
       "T           14.78         15.9%\n",
       "E            8.94          9.6%\n",
       "M            8.01          8.6%\n",
       "E10+         4.46          4.8%"
      ]
     },
     "execution_count": 79,
     "metadata": {},
     "output_type": "execute_result"
    }
   ],
   "source": [
    "jp_rating"
   ]
  },
  {
   "cell_type": "markdown",
   "metadata": {},
   "source": [
    "В Японии 61% продаж приходится на игры с неопределенным рейтингом 'unrated'. Далее 16% продаж на игры для подростков, потом 9% на игры для всех, и меньше всего на игры для детей от 10 лет. Япония опережает Европу и США по количеству игр без ESRB рейтинга."
   ]
  },
  {
   "cell_type": "markdown",
   "metadata": {},
   "source": [
    "<h3> Шаг 5. Проверьте гипотезы </h3>"
   ]
  },
  {
   "cell_type": "code",
   "execution_count": 80,
   "metadata": {},
   "outputs": [],
   "source": [
    "from scipy import stats as st"
   ]
  },
  {
   "cell_type": "markdown",
   "metadata": {},
   "source": [
    "<strong>Проверка гипотезы: Средние пользовательские рейтинги платформ Xbox One и PC одинаковые;</strong>\n",
    "\n",
    "<p>H_0: Среднее значение (user_raiting) у платформ \"Xbox One\" = Среднее значение (user_raiting)  у платформ \"PC\"</p>\n",
    "<p>H_a: Среднее значение (user_raiting) у платформ \"Xbox One\" ≠ Среднее значение (user_raiting)  у платформ \"PC\"</p>"
   ]
  },
  {
   "cell_type": "code",
   "execution_count": 81,
   "metadata": {},
   "outputs": [],
   "source": [
    "pc_rating = actual_data.query('platform == \"PC\" & user_score > 0.1')['user_score']\n",
    "#Добавил условие \"user_score > 0.1\" так, как results.pvalue возвращал nan "
   ]
  },
  {
   "cell_type": "code",
   "execution_count": 82,
   "metadata": {},
   "outputs": [],
   "source": [
    "xone_rating = actual_data.query('platform == \"XOne\" & user_score > 0.1')['user_score']\n",
    "#Добавил условие \"user_score > 0.1\" так, как results.pvalue возвращал nan "
   ]
  },
  {
   "cell_type": "code",
   "execution_count": 83,
   "metadata": {},
   "outputs": [
    {
     "name": "stdout",
     "output_type": "stream",
     "text": [
      "0.10450507919348415\n",
      "Не получилось отвергнуть нулевую гипотезу\n"
     ]
    }
   ],
   "source": [
    "results = st.ttest_ind(pc_rating,xone_rating)\n",
    "\n",
    "alpha = 0.05\n",
    "\n",
    "print(results.pvalue)\n",
    "\n",
    "if results.pvalue < alpha:\n",
    "    print(\"Отвергаем нулевую гипотезу\")\n",
    "else:\n",
    "    print(\"Не получилось отвергнуть нулевую гипотезу\") "
   ]
  },
  {
   "cell_type": "markdown",
   "metadata": {},
   "source": [
    "<strong>Вывод по первой гипотезе:</strong>\n",
    "<p>Результат показал, что значение p-value = 0.10450507919348415</p>\n",
    "<p>Это говорит о том, что мы не можем отвергнуть нулевую гипотезу о равенстве рейтингов у платформ \"Xbox One\" и \"PC\"</p>"
   ]
  },
  {
   "cell_type": "markdown",
   "metadata": {},
   "source": [
    "<strong>Проверка гипотезы: Средние пользовательские рейтинги жанров Action и Sports  разные;</strong>\n",
    "\n",
    "<p>H_0: Среднее значение (user_raiting) у жанров \"Action\" = Среднее значение (user_raiting)  у жанров \"Sports\"</p>\n",
    "<p>H_a: Среднее значение (user_raiting) у жанров \"Action\" ≠ Среднее значение (user_raiting)  у жанров \"Sports\"</p>"
   ]
  },
  {
   "cell_type": "code",
   "execution_count": 84,
   "metadata": {},
   "outputs": [],
   "source": [
    "action_rating = actual_data.query('genre == \"Action\" & user_score > 0.1')['user_score']"
   ]
  },
  {
   "cell_type": "code",
   "execution_count": 85,
   "metadata": {},
   "outputs": [],
   "source": [
    "sports_rating = actual_data.query('genre == \"Sports\" & user_score > 0.1')['user_score']"
   ]
  },
  {
   "cell_type": "code",
   "execution_count": 86,
   "metadata": {},
   "outputs": [
    {
     "name": "stdout",
     "output_type": "stream",
     "text": [
      "2.8711147985105864e-19\n",
      "Отвергаем нулевую гипотезу\n"
     ]
    }
   ],
   "source": [
    "results = st.ttest_ind(action_rating,sports_rating)\n",
    "\n",
    "alpha = 0.05\n",
    "\n",
    "print(results.pvalue)\n",
    "\n",
    "if results.pvalue < alpha:\n",
    "    print(\"Отвергаем нулевую гипотезу\")\n",
    "else:\n",
    "    print(\"Не получилось отвергнуть нулевую гипотезу\")"
   ]
  },
  {
   "cell_type": "markdown",
   "metadata": {},
   "source": [
    "<strong>Вывод по первой гипотезе:</strong>\n",
    "<p>Результат показал, что значение p-value = 2.8711147985105864e-19 </p>\n",
    "<p>Это говорит о том, что мы отвергаем нулевую гипотезу о равенстве рейтингов у жанров \"Sports\" и \"Action\"</p>"
   ]
  },
  {
   "cell_type": "markdown",
   "metadata": {},
   "source": [
    "Поясните:\n",
    "Как вы сформулировали нулевую и альтернативную гипотезы;\n",
    "Какой критерий применили для проверки гипотез и почему."
   ]
  },
  {
   "cell_type": "markdown",
   "metadata": {},
   "source": [
    "<strong> Поясните: </strong>\n",
    "<ul>\n",
    "<li> Как вы сформулировали нулевую и альтернативную гипотезы.</li>\n",
    "<li> Какой критерий применили для проверки гипотез и почему. </li>\n",
    "</ul>"
   ]
  },
  {
   "cell_type": "markdown",
   "metadata": {},
   "source": [
    "Для проверки гипотез был выбран Т-тест ttest_ind для средних двух независимых выборок. Это двусторонний тест для нулевой гипотезы о том, что две независимые выборки имеют идентичные средние (ожидаемые) значения. Мы можем использовать этот тест, так как имеем дело с двумя независимыми выборками.\n",
    "\n",
    "Пороговое значение alpha = 0.05"
   ]
  },
  {
   "cell_type": "markdown",
   "metadata": {},
   "source": [
    "### Общий вывод\n",
    "<p><b>Больше всего игр было выпущенно между 2005 и 2010 годами.</b> При этом, актуальные данные можно использовать только за последние несколько лет. Так как в связи с развитием индустрии видеоигры, на замену все быстрее приходят новые платформы, жанры.<p>\n",
    "\n",
    "<p><b>Примерно за 10 лет исчезают платформы и на замену им приходят новые.</b> Но есть и исключения. Плтаформа 'GB' продержалась почти 15 лет. Учитывая эти данные, стоит понимать, что последние 20 лет скачек технологий значительно выше, чем за предыдушие 20 лет, это говорит о том, что изменения в индустрии видеоигр будут тажке расти.<p>\n",
    "\n",
    "<p><b>Лидерами платформ за последние 3 года являются PS4,  Xbox One и Nintendo 3DS</b>. Тенденция роста к 16 году уже отрицательная. Не смотря на это, потомки PS4 и XOne придут на рынок только к 2020 году, это значит что данные платформы продолжат быть основными на рынке в следующие 3 года. <p>\n",
    "\n",
    "<p>Наибольшая общая стоимость продаж игры имеет платформа PS4 - 14.5  миллионов продаж. Далее платформа 3DS - 11.9 млн.</p>\n",
    "<ul> \n",
    "<li>75% Игр у PS4 проданны в размере до 700 тыс, в то время как медиана держится около 185 тыс.</li>\n",
    "<li>75% Игр у XOne проданны в размере до 600 тыс, в то время как медиана держится около 205 тыс.</li>\n",
    "<li>75% Игр у 3DS проданны в размере до 250 тыс, в то время как медиана держится около 90 тыс.</li>\n",
    "</ul>\n",
    "\n",
    "<p>Корреляция оценки польователей и продаж равна -0.04, это означает, что зависимости продаж от оценки пользователей почти нет.</p>\n",
    "\n",
    "<p>Корреляция оценки критиков и продаж равна -0.04, 0.4, это означает, что зависимость продаж от оценки критиков есть и она средняя положительная.</p>\n",
    "\n",
    "<strong> Наиболее прибыльными платформами являются: </strong>\n",
    "<ul>\n",
    "   <li> PS4 - 766 тыс.среднее число продаж во всем мире.</li>\n",
    "    <p></p>\n",
    "   <li> XOne - 615 тыс.среднее число продаж во всем мире.</li>\n",
    "</ul>\n",
    "<p> Этому есть объяснение, так как данные бренды являются лидирующими на рынке игровых платформ.</p>\n",
    "<p></p>\n",
    "<strong> Наименее прибыльными платформами являются: </strong>\n",
    "<ul>\n",
    "   <li> PSV - 75 тыс.среднее число продаж во всем мире.</li>\n",
    "    <p></p>\n",
    "   <li> PSP - 27 тыс.среднее число продаж во всем мире.</li>\n",
    "</ul>\n",
    "\n",
    "</ul>\n",
    "\n",
    "<strong> Наиболее прибыльными жанрами являются: </strong>\n",
    "<ul>\n",
    "   <li> Shooter\t - 1 Млн. 335 тыс. среднее число продаж во всем мире.</li>\n",
    "    <p></p>\n",
    "   <li> Sports - 680 тыс. среднее число продаж во всем мире.</li>\n",
    "</ul>\n",
    "\n",
    "<p></p>\n",
    "<strong> Наименее прибыльными жанрами являются: </strong>\n",
    "<ul>\n",
    "   <li> Strategy - 107 тыс. среднее число продаж во всем мире.</li>\n",
    "    <p></p>\n",
    "   <li> Adventure - 94 тыс. среднее число продаж во всем мире.</li>\n",
    "</ul>\n",
    "\n",
    "    \n",
    "<li>Более 70% пользователей из Европы и Северной Америки предпочитают PS4 и XOne, в отличии от Японии, гдебольше всего игра покупают для отечественных PS4 и Nintendo 3DS.</li>\n",
    "\n",
    "<li>Тоже самое и с жанрами: Около 60% в США и Европе приходится на игры с жанром Шутер и Экшен. Япония, отличается тем, что у них лидирующий игровой жанр RP.</li>\n",
    "\n",
    "<li>Также в Америке и Европе больше всего популярны игры для взрослых. В Японии больше всего популярны игры без рейтинга ESRB. \n",
    "Меньше всего для обеих стран популярны игры для детей +10</li>\n",
    "</ul>\n",
    "<b>Также удалось подтвердить гипотезы:</b>\n",
    "Средние пользовательские рейтинги жанров Action и Sports разные.\n",
    "\n",
    "<b>И отвергнуть гипотезу:</b>\n",
    "Средние пользовательские рейтинги платформ Xbox One и PC одинаковые.\n"
   ]
  },
  {
   "cell_type": "markdown",
   "metadata": {},
   "source": [
    "<strong>Отчет о проделаных шагах:</strong>\n",
    "<ul>\n",
    "<li>1. Датасет изначально был оценен на наличие: Дубликатов, пропусков, аномальных значений, формата значений. </li>\n",
    "<li>2. Пропуски значений были оставленны как есть. </li>\n",
    "<li>3. Датасет был проверен на наличие аномальных значений. Таких не оказалось. </li>\n",
    "<li>4. Формат значений был изменен со строчных на числовые.</li>\n",
    "<li>5. Был добавлен новый столбец с общим количеством продаж игр.</li>\n",
    "<li>6. Была произведен исследовательский анализ данных.</li>\n",
    "<li>7. Был составлен портрет пользователя из разных регионов.</li>\n",
    "<li>8. Были сформулированны, подтвержденны и опровергнуты нулевые гипотезы.</li>\n",
    "<li>9. На основе всех наблюдений был составлен общий вывод.</li>\n",
    "</ul>"
   ]
  }
 ],
 "metadata": {
  "ExecuteTimeLog": [
   {
    "duration": 89,
    "start_time": "2022-09-05T09:19:47.380Z"
   },
   {
    "duration": 362,
    "start_time": "2022-09-05T09:20:41.967Z"
   },
   {
    "duration": 177,
    "start_time": "2022-09-05T09:21:09.107Z"
   },
   {
    "duration": 24,
    "start_time": "2022-09-05T09:21:11.675Z"
   },
   {
    "duration": 59,
    "start_time": "2022-09-05T09:24:22.701Z"
   },
   {
    "duration": 10,
    "start_time": "2022-09-05T09:24:36.863Z"
   },
   {
    "duration": 11,
    "start_time": "2022-09-05T09:24:45.016Z"
   },
   {
    "duration": 6,
    "start_time": "2022-09-05T09:24:52.225Z"
   },
   {
    "duration": 9,
    "start_time": "2022-09-05T09:25:41.455Z"
   },
   {
    "duration": 10,
    "start_time": "2022-09-05T09:25:55.913Z"
   },
   {
    "duration": 39,
    "start_time": "2022-09-05T09:26:40.480Z"
   },
   {
    "duration": 74,
    "start_time": "2022-09-05T09:27:02.215Z"
   },
   {
    "duration": 14,
    "start_time": "2022-09-05T09:27:10.475Z"
   },
   {
    "duration": 21,
    "start_time": "2022-09-05T09:27:19.678Z"
   },
   {
    "duration": 441,
    "start_time": "2022-09-05T09:29:17.385Z"
   },
   {
    "duration": 13,
    "start_time": "2022-09-05T09:30:18.539Z"
   },
   {
    "duration": 12,
    "start_time": "2022-09-05T09:30:52.480Z"
   },
   {
    "duration": 4,
    "start_time": "2022-09-05T09:31:22.972Z"
   },
   {
    "duration": 4,
    "start_time": "2022-09-05T09:33:05.828Z"
   },
   {
    "duration": 20,
    "start_time": "2022-09-05T09:33:21.101Z"
   },
   {
    "duration": 20,
    "start_time": "2022-09-05T09:33:24.287Z"
   },
   {
    "duration": 4,
    "start_time": "2022-09-05T09:33:26.635Z"
   },
   {
    "duration": 17,
    "start_time": "2022-09-05T09:33:28.604Z"
   },
   {
    "duration": 3,
    "start_time": "2022-09-05T09:33:44.448Z"
   },
   {
    "duration": 20,
    "start_time": "2022-09-05T09:33:46.424Z"
   },
   {
    "duration": 19,
    "start_time": "2022-09-05T09:36:36.486Z"
   },
   {
    "duration": 229,
    "start_time": "2022-09-05T09:39:34.237Z"
   },
   {
    "duration": 1557,
    "start_time": "2022-09-05T09:48:17.522Z"
   },
   {
    "duration": 6,
    "start_time": "2022-09-05T09:48:28.004Z"
   },
   {
    "duration": 12,
    "start_time": "2022-09-05T10:03:55.031Z"
   },
   {
    "duration": 12,
    "start_time": "2022-09-05T10:04:01.336Z"
   },
   {
    "duration": 4,
    "start_time": "2022-09-05T10:05:27.579Z"
   },
   {
    "duration": 3,
    "start_time": "2022-09-05T10:05:33.940Z"
   },
   {
    "duration": 13,
    "start_time": "2022-09-05T10:05:36.515Z"
   },
   {
    "duration": 11,
    "start_time": "2022-09-05T10:05:48.118Z"
   },
   {
    "duration": 2,
    "start_time": "2022-09-05T10:06:13.034Z"
   },
   {
    "duration": 11,
    "start_time": "2022-09-05T10:06:56.431Z"
   },
   {
    "duration": 6,
    "start_time": "2022-09-05T10:07:53.023Z"
   },
   {
    "duration": 12,
    "start_time": "2022-09-05T10:08:04.144Z"
   },
   {
    "duration": 14,
    "start_time": "2022-09-05T10:08:14.770Z"
   },
   {
    "duration": 6,
    "start_time": "2022-09-05T10:08:19.045Z"
   },
   {
    "duration": 7,
    "start_time": "2022-09-05T10:08:27.875Z"
   },
   {
    "duration": 14,
    "start_time": "2022-09-05T10:08:30.098Z"
   },
   {
    "duration": 11,
    "start_time": "2022-09-05T10:08:43.861Z"
   },
   {
    "duration": 13,
    "start_time": "2022-09-05T10:09:10.344Z"
   },
   {
    "duration": 9,
    "start_time": "2022-09-05T10:09:21.914Z"
   },
   {
    "duration": 3,
    "start_time": "2022-09-05T10:09:30.292Z"
   },
   {
    "duration": 26,
    "start_time": "2022-09-05T10:09:30.297Z"
   },
   {
    "duration": 17,
    "start_time": "2022-09-05T10:09:35.068Z"
   },
   {
    "duration": 4,
    "start_time": "2022-09-05T10:11:04.736Z"
   },
   {
    "duration": 12,
    "start_time": "2022-09-05T10:11:07.089Z"
   },
   {
    "duration": 11,
    "start_time": "2022-09-05T10:12:22.691Z"
   },
   {
    "duration": 7,
    "start_time": "2022-09-05T10:13:38.613Z"
   },
   {
    "duration": 14,
    "start_time": "2022-09-05T10:13:41.629Z"
   },
   {
    "duration": 3,
    "start_time": "2022-09-05T10:13:44.077Z"
   },
   {
    "duration": 15,
    "start_time": "2022-09-05T10:13:55.006Z"
   },
   {
    "duration": 14,
    "start_time": "2022-09-05T10:15:06.935Z"
   },
   {
    "duration": 14,
    "start_time": "2022-09-05T10:15:15.121Z"
   },
   {
    "duration": 15,
    "start_time": "2022-09-05T10:15:17.590Z"
   },
   {
    "duration": 3,
    "start_time": "2022-09-05T10:15:25.421Z"
   },
   {
    "duration": 59,
    "start_time": "2022-09-05T10:15:25.425Z"
   },
   {
    "duration": 11,
    "start_time": "2022-09-05T10:15:25.486Z"
   },
   {
    "duration": 2,
    "start_time": "2022-09-05T10:15:25.499Z"
   },
   {
    "duration": 18,
    "start_time": "2022-09-05T10:15:25.503Z"
   },
   {
    "duration": 14,
    "start_time": "2022-09-05T10:15:25.523Z"
   },
   {
    "duration": 17,
    "start_time": "2022-09-05T10:15:25.539Z"
   },
   {
    "duration": 5,
    "start_time": "2022-09-05T10:15:25.557Z"
   },
   {
    "duration": 14,
    "start_time": "2022-09-05T10:15:25.563Z"
   },
   {
    "duration": 13,
    "start_time": "2022-09-05T10:15:25.579Z"
   },
   {
    "duration": 14,
    "start_time": "2022-09-05T10:15:25.594Z"
   },
   {
    "duration": 8,
    "start_time": "2022-09-05T10:16:55.839Z"
   },
   {
    "duration": 8,
    "start_time": "2022-09-05T10:17:25.490Z"
   },
   {
    "duration": 6,
    "start_time": "2022-09-05T10:17:33.782Z"
   },
   {
    "duration": 18,
    "start_time": "2022-09-05T10:17:42.333Z"
   },
   {
    "duration": 4,
    "start_time": "2022-09-05T10:17:58.030Z"
   },
   {
    "duration": 20,
    "start_time": "2022-09-05T10:18:01.463Z"
   },
   {
    "duration": 12,
    "start_time": "2022-09-05T10:18:03.279Z"
   },
   {
    "duration": 14,
    "start_time": "2022-09-05T10:18:08.241Z"
   },
   {
    "duration": 5,
    "start_time": "2022-09-05T10:18:41.189Z"
   },
   {
    "duration": 7,
    "start_time": "2022-09-05T10:19:09.384Z"
   },
   {
    "duration": 11,
    "start_time": "2022-09-05T10:19:17.202Z"
   },
   {
    "duration": 6,
    "start_time": "2022-09-05T10:19:25.627Z"
   },
   {
    "duration": 150,
    "start_time": "2022-09-05T10:20:58.312Z"
   },
   {
    "duration": 11,
    "start_time": "2022-09-05T10:21:06.776Z"
   },
   {
    "duration": 11,
    "start_time": "2022-09-05T10:21:10.496Z"
   },
   {
    "duration": 10,
    "start_time": "2022-09-05T10:21:12.016Z"
   },
   {
    "duration": 10,
    "start_time": "2022-09-05T10:21:15.689Z"
   },
   {
    "duration": 4,
    "start_time": "2022-09-05T10:21:33.916Z"
   },
   {
    "duration": 21,
    "start_time": "2022-09-05T10:22:30.680Z"
   },
   {
    "duration": 8,
    "start_time": "2022-09-05T10:23:04.184Z"
   },
   {
    "duration": 8,
    "start_time": "2022-09-05T10:23:09.568Z"
   },
   {
    "duration": 8,
    "start_time": "2022-09-05T10:23:17.682Z"
   },
   {
    "duration": 7,
    "start_time": "2022-09-05T10:23:24.098Z"
   },
   {
    "duration": 8,
    "start_time": "2022-09-05T10:23:29.403Z"
   },
   {
    "duration": 7,
    "start_time": "2022-09-05T10:23:36.356Z"
   },
   {
    "duration": 7,
    "start_time": "2022-09-05T10:23:43.773Z"
   },
   {
    "duration": 5,
    "start_time": "2022-09-05T10:24:34.548Z"
   },
   {
    "duration": 12,
    "start_time": "2022-09-05T10:25:54.790Z"
   },
   {
    "duration": 13,
    "start_time": "2022-09-05T10:25:56.934Z"
   },
   {
    "duration": 5,
    "start_time": "2022-09-05T10:26:30.763Z"
   },
   {
    "duration": 3,
    "start_time": "2022-09-05T10:26:51.806Z"
   },
   {
    "duration": 14,
    "start_time": "2022-09-05T10:26:53.814Z"
   },
   {
    "duration": 13,
    "start_time": "2022-09-05T10:27:05.856Z"
   },
   {
    "duration": 14,
    "start_time": "2022-09-05T10:27:08.969Z"
   },
   {
    "duration": 4,
    "start_time": "2022-09-05T10:27:17.588Z"
   },
   {
    "duration": 69,
    "start_time": "2022-09-05T10:27:17.597Z"
   },
   {
    "duration": 17,
    "start_time": "2022-09-05T10:27:17.671Z"
   },
   {
    "duration": 5,
    "start_time": "2022-09-05T10:27:17.691Z"
   },
   {
    "duration": 25,
    "start_time": "2022-09-05T10:27:17.698Z"
   },
   {
    "duration": 21,
    "start_time": "2022-09-05T10:27:17.725Z"
   },
   {
    "duration": 30,
    "start_time": "2022-09-05T10:27:17.747Z"
   },
   {
    "duration": 12,
    "start_time": "2022-09-05T10:27:17.779Z"
   },
   {
    "duration": 16,
    "start_time": "2022-09-05T10:27:17.793Z"
   },
   {
    "duration": 17,
    "start_time": "2022-09-05T10:27:17.810Z"
   },
   {
    "duration": 25,
    "start_time": "2022-09-05T10:27:17.828Z"
   },
   {
    "duration": 18,
    "start_time": "2022-09-05T10:27:17.854Z"
   },
   {
    "duration": 8,
    "start_time": "2022-09-05T10:28:07.248Z"
   },
   {
    "duration": 7,
    "start_time": "2022-09-05T10:28:19.449Z"
   },
   {
    "duration": 11,
    "start_time": "2022-09-05T10:28:53.400Z"
   },
   {
    "duration": 10,
    "start_time": "2022-09-05T10:28:55.119Z"
   },
   {
    "duration": 15,
    "start_time": "2022-09-05T10:29:03.943Z"
   },
   {
    "duration": 10,
    "start_time": "2022-09-05T10:29:12.465Z"
   },
   {
    "duration": 345,
    "start_time": "2022-09-05T10:29:31.581Z"
   },
   {
    "duration": 48,
    "start_time": "2022-09-05T10:29:31.928Z"
   },
   {
    "duration": 14,
    "start_time": "2022-09-05T10:29:31.978Z"
   },
   {
    "duration": 3,
    "start_time": "2022-09-05T10:29:31.993Z"
   },
   {
    "duration": 25,
    "start_time": "2022-09-05T10:29:31.998Z"
   },
   {
    "duration": 5,
    "start_time": "2022-09-05T10:29:32.025Z"
   },
   {
    "duration": 41,
    "start_time": "2022-09-05T10:29:32.032Z"
   },
   {
    "duration": 249,
    "start_time": "2022-09-05T10:29:32.075Z"
   },
   {
    "duration": 3,
    "start_time": "2022-09-05T10:29:32.326Z"
   },
   {
    "duration": 6,
    "start_time": "2022-09-05T10:29:32.330Z"
   },
   {
    "duration": 10,
    "start_time": "2022-09-05T10:29:32.338Z"
   },
   {
    "duration": 13,
    "start_time": "2022-09-05T10:29:32.355Z"
   },
   {
    "duration": 12,
    "start_time": "2022-09-05T10:29:32.370Z"
   },
   {
    "duration": 7,
    "start_time": "2022-09-05T10:29:32.384Z"
   },
   {
    "duration": 107,
    "start_time": "2022-09-05T10:29:32.393Z"
   },
   {
    "duration": 16,
    "start_time": "2022-09-05T10:31:29.427Z"
   },
   {
    "duration": 8,
    "start_time": "2022-09-05T10:51:02.293Z"
   },
   {
    "duration": 7,
    "start_time": "2022-09-05T10:51:19.831Z"
   },
   {
    "duration": 10,
    "start_time": "2022-09-05T10:51:24.152Z"
   },
   {
    "duration": 352,
    "start_time": "2022-09-05T10:51:33.672Z"
   },
   {
    "duration": 48,
    "start_time": "2022-09-05T10:51:34.026Z"
   },
   {
    "duration": 13,
    "start_time": "2022-09-05T10:51:34.076Z"
   },
   {
    "duration": 10,
    "start_time": "2022-09-05T10:51:34.091Z"
   },
   {
    "duration": 26,
    "start_time": "2022-09-05T10:51:34.103Z"
   },
   {
    "duration": 4,
    "start_time": "2022-09-05T10:51:34.131Z"
   },
   {
    "duration": 27,
    "start_time": "2022-09-05T10:51:34.136Z"
   },
   {
    "duration": 12,
    "start_time": "2022-09-05T10:51:34.164Z"
   },
   {
    "duration": 265,
    "start_time": "2022-09-05T10:51:34.177Z"
   },
   {
    "duration": 3,
    "start_time": "2022-09-05T10:51:34.444Z"
   },
   {
    "duration": 10,
    "start_time": "2022-09-05T10:51:34.448Z"
   },
   {
    "duration": 15,
    "start_time": "2022-09-05T10:51:34.459Z"
   },
   {
    "duration": 20,
    "start_time": "2022-09-05T10:51:34.475Z"
   },
   {
    "duration": 12,
    "start_time": "2022-09-05T10:51:34.496Z"
   },
   {
    "duration": 8,
    "start_time": "2022-09-05T10:51:34.509Z"
   },
   {
    "duration": 86,
    "start_time": "2022-09-05T10:51:34.518Z"
   },
   {
    "duration": 8,
    "start_time": "2022-09-05T10:51:44.514Z"
   },
   {
    "duration": 346,
    "start_time": "2022-09-05T10:51:53.092Z"
   },
   {
    "duration": 50,
    "start_time": "2022-09-05T10:51:53.440Z"
   },
   {
    "duration": 13,
    "start_time": "2022-09-05T10:51:53.491Z"
   },
   {
    "duration": 2,
    "start_time": "2022-09-05T10:51:53.506Z"
   },
   {
    "duration": 26,
    "start_time": "2022-09-05T10:51:53.510Z"
   },
   {
    "duration": 4,
    "start_time": "2022-09-05T10:51:53.538Z"
   },
   {
    "duration": 13,
    "start_time": "2022-09-05T10:51:53.543Z"
   },
   {
    "duration": 11,
    "start_time": "2022-09-05T10:51:53.558Z"
   },
   {
    "duration": 288,
    "start_time": "2022-09-05T10:51:53.571Z"
   },
   {
    "duration": 3,
    "start_time": "2022-09-05T10:51:53.861Z"
   },
   {
    "duration": 9,
    "start_time": "2022-09-05T10:51:53.866Z"
   },
   {
    "duration": 16,
    "start_time": "2022-09-05T10:51:53.876Z"
   },
   {
    "duration": 20,
    "start_time": "2022-09-05T10:51:53.894Z"
   },
   {
    "duration": 14,
    "start_time": "2022-09-05T10:51:53.916Z"
   },
   {
    "duration": 24,
    "start_time": "2022-09-05T10:51:53.931Z"
   },
   {
    "duration": 99,
    "start_time": "2022-09-05T10:51:53.957Z"
   },
   {
    "duration": 8,
    "start_time": "2022-09-05T10:52:09.118Z"
   },
   {
    "duration": 338,
    "start_time": "2022-09-05T10:52:15.597Z"
   },
   {
    "duration": 53,
    "start_time": "2022-09-05T10:52:15.937Z"
   },
   {
    "duration": 12,
    "start_time": "2022-09-05T10:52:15.992Z"
   },
   {
    "duration": 15,
    "start_time": "2022-09-05T10:52:16.006Z"
   },
   {
    "duration": 35,
    "start_time": "2022-09-05T10:52:16.022Z"
   },
   {
    "duration": 7,
    "start_time": "2022-09-05T10:52:16.059Z"
   },
   {
    "duration": 22,
    "start_time": "2022-09-05T10:52:16.067Z"
   },
   {
    "duration": 14,
    "start_time": "2022-09-05T10:52:16.091Z"
   },
   {
    "duration": 262,
    "start_time": "2022-09-05T10:52:16.107Z"
   },
   {
    "duration": 3,
    "start_time": "2022-09-05T10:52:16.370Z"
   },
   {
    "duration": 7,
    "start_time": "2022-09-05T10:52:16.374Z"
   },
   {
    "duration": 11,
    "start_time": "2022-09-05T10:52:16.382Z"
   },
   {
    "duration": 13,
    "start_time": "2022-09-05T10:52:16.394Z"
   },
   {
    "duration": 13,
    "start_time": "2022-09-05T10:52:16.408Z"
   },
   {
    "duration": 7,
    "start_time": "2022-09-05T10:52:16.422Z"
   },
   {
    "duration": 103,
    "start_time": "2022-09-05T10:52:16.430Z"
   },
   {
    "duration": 11,
    "start_time": "2022-09-05T10:57:04.210Z"
   },
   {
    "duration": 68,
    "start_time": "2022-09-05T10:59:47.079Z"
   },
   {
    "duration": 17,
    "start_time": "2022-09-05T11:03:49.120Z"
   },
   {
    "duration": 13,
    "start_time": "2022-09-05T11:04:00.201Z"
   },
   {
    "duration": 17,
    "start_time": "2022-09-05T11:04:05.890Z"
   },
   {
    "duration": 10,
    "start_time": "2022-09-05T11:04:24.419Z"
   },
   {
    "duration": 21,
    "start_time": "2022-09-05T11:05:06.931Z"
   },
   {
    "duration": 22,
    "start_time": "2022-09-05T11:05:13.820Z"
   },
   {
    "duration": 22,
    "start_time": "2022-09-05T11:05:25.565Z"
   },
   {
    "duration": 9,
    "start_time": "2022-09-05T11:05:57.505Z"
   },
   {
    "duration": 365,
    "start_time": "2022-09-05T11:06:08.768Z"
   },
   {
    "duration": 49,
    "start_time": "2022-09-05T11:06:09.134Z"
   },
   {
    "duration": 13,
    "start_time": "2022-09-05T11:06:09.185Z"
   },
   {
    "duration": 3,
    "start_time": "2022-09-05T11:06:09.200Z"
   },
   {
    "duration": 27,
    "start_time": "2022-09-05T11:06:09.204Z"
   },
   {
    "duration": 2,
    "start_time": "2022-09-05T11:06:09.233Z"
   },
   {
    "duration": 7,
    "start_time": "2022-09-05T11:06:09.236Z"
   },
   {
    "duration": 14,
    "start_time": "2022-09-05T11:06:09.244Z"
   },
   {
    "duration": 11,
    "start_time": "2022-09-05T11:06:09.260Z"
   },
   {
    "duration": 8,
    "start_time": "2022-09-05T11:06:09.272Z"
   },
   {
    "duration": 16,
    "start_time": "2022-09-05T11:06:09.281Z"
   },
   {
    "duration": 267,
    "start_time": "2022-09-05T11:06:09.298Z"
   },
   {
    "duration": 9,
    "start_time": "2022-09-05T11:06:09.566Z"
   },
   {
    "duration": 90,
    "start_time": "2022-09-05T11:06:09.577Z"
   },
   {
    "duration": 24,
    "start_time": "2022-09-05T11:06:26.159Z"
   },
   {
    "duration": 13,
    "start_time": "2022-09-05T11:06:35.722Z"
   },
   {
    "duration": 11,
    "start_time": "2022-09-05T11:06:37.465Z"
   },
   {
    "duration": 3,
    "start_time": "2022-09-05T11:06:48.790Z"
   },
   {
    "duration": 57,
    "start_time": "2022-09-05T11:06:48.795Z"
   },
   {
    "duration": 12,
    "start_time": "2022-09-05T11:06:48.854Z"
   },
   {
    "duration": 2,
    "start_time": "2022-09-05T11:06:48.868Z"
   },
   {
    "duration": 19,
    "start_time": "2022-09-05T11:06:48.872Z"
   },
   {
    "duration": 4,
    "start_time": "2022-09-05T11:06:48.893Z"
   },
   {
    "duration": 5,
    "start_time": "2022-09-05T11:06:48.898Z"
   },
   {
    "duration": 6,
    "start_time": "2022-09-05T11:06:48.904Z"
   },
   {
    "duration": 8,
    "start_time": "2022-09-05T11:06:48.912Z"
   },
   {
    "duration": 35,
    "start_time": "2022-09-05T11:06:48.921Z"
   },
   {
    "duration": 15,
    "start_time": "2022-09-05T11:06:48.958Z"
   },
   {
    "duration": 15,
    "start_time": "2022-09-05T11:06:48.974Z"
   },
   {
    "duration": 10,
    "start_time": "2022-09-05T11:06:48.992Z"
   },
   {
    "duration": 17,
    "start_time": "2022-09-05T11:06:59.557Z"
   },
   {
    "duration": 9,
    "start_time": "2022-09-05T11:07:04.124Z"
   },
   {
    "duration": 10,
    "start_time": "2022-09-05T11:07:14.389Z"
   },
   {
    "duration": 9,
    "start_time": "2022-09-05T11:07:15.710Z"
   },
   {
    "duration": 14,
    "start_time": "2022-09-05T11:07:18.949Z"
   },
   {
    "duration": 8,
    "start_time": "2022-09-05T11:07:44.818Z"
   },
   {
    "duration": 393,
    "start_time": "2022-09-05T11:07:50.744Z"
   },
   {
    "duration": 48,
    "start_time": "2022-09-05T11:07:51.139Z"
   },
   {
    "duration": 15,
    "start_time": "2022-09-05T11:07:51.188Z"
   },
   {
    "duration": 3,
    "start_time": "2022-09-05T11:07:51.204Z"
   },
   {
    "duration": 25,
    "start_time": "2022-09-05T11:07:51.209Z"
   },
   {
    "duration": 3,
    "start_time": "2022-09-05T11:07:51.235Z"
   },
   {
    "duration": 16,
    "start_time": "2022-09-05T11:07:51.239Z"
   },
   {
    "duration": 5,
    "start_time": "2022-09-05T11:07:51.256Z"
   },
   {
    "duration": 11,
    "start_time": "2022-09-05T11:07:51.262Z"
   },
   {
    "duration": 7,
    "start_time": "2022-09-05T11:07:51.274Z"
   },
   {
    "duration": 15,
    "start_time": "2022-09-05T11:07:51.282Z"
   },
   {
    "duration": 279,
    "start_time": "2022-09-05T11:07:51.298Z"
   },
   {
    "duration": 8,
    "start_time": "2022-09-05T11:07:51.578Z"
   },
   {
    "duration": 16,
    "start_time": "2022-09-05T11:07:51.589Z"
   },
   {
    "duration": 9,
    "start_time": "2022-09-05T11:08:03.297Z"
   },
   {
    "duration": 9,
    "start_time": "2022-09-05T11:08:05.158Z"
   },
   {
    "duration": 9,
    "start_time": "2022-09-05T11:08:46.113Z"
   },
   {
    "duration": 16,
    "start_time": "2022-09-05T11:08:50.384Z"
   },
   {
    "duration": 71,
    "start_time": "2022-09-05T11:08:58.449Z"
   },
   {
    "duration": 8,
    "start_time": "2022-09-05T11:09:19.323Z"
   },
   {
    "duration": 18,
    "start_time": "2022-09-05T11:09:21.420Z"
   },
   {
    "duration": 3,
    "start_time": "2022-09-05T11:09:25.398Z"
   },
   {
    "duration": 51,
    "start_time": "2022-09-05T11:09:25.402Z"
   },
   {
    "duration": 13,
    "start_time": "2022-09-05T11:09:25.455Z"
   },
   {
    "duration": 4,
    "start_time": "2022-09-05T11:09:25.470Z"
   },
   {
    "duration": 21,
    "start_time": "2022-09-05T11:09:25.476Z"
   },
   {
    "duration": 6,
    "start_time": "2022-09-05T11:09:25.498Z"
   },
   {
    "duration": 5,
    "start_time": "2022-09-05T11:09:25.505Z"
   },
   {
    "duration": 5,
    "start_time": "2022-09-05T11:09:25.512Z"
   },
   {
    "duration": 8,
    "start_time": "2022-09-05T11:09:25.519Z"
   },
   {
    "duration": 6,
    "start_time": "2022-09-05T11:09:25.528Z"
   },
   {
    "duration": 13,
    "start_time": "2022-09-05T11:09:25.554Z"
   },
   {
    "duration": 13,
    "start_time": "2022-09-05T11:09:25.568Z"
   },
   {
    "duration": 9,
    "start_time": "2022-09-05T11:09:39.157Z"
   },
   {
    "duration": 9,
    "start_time": "2022-09-05T11:09:42.516Z"
   },
   {
    "duration": 20,
    "start_time": "2022-09-05T11:09:53.752Z"
   },
   {
    "duration": 10,
    "start_time": "2022-09-05T11:10:51.584Z"
   },
   {
    "duration": 10,
    "start_time": "2022-09-05T11:10:53.415Z"
   },
   {
    "duration": 26,
    "start_time": "2022-09-05T11:12:39.093Z"
   },
   {
    "duration": 27,
    "start_time": "2022-09-05T11:13:03.466Z"
   },
   {
    "duration": 23,
    "start_time": "2022-09-05T11:13:09.546Z"
   },
   {
    "duration": 23,
    "start_time": "2022-09-05T11:13:19.652Z"
   },
   {
    "duration": 12,
    "start_time": "2022-09-05T11:13:42.991Z"
   },
   {
    "duration": 19,
    "start_time": "2022-09-05T11:14:00.879Z"
   },
   {
    "duration": 20,
    "start_time": "2022-09-05T11:14:12.473Z"
   },
   {
    "duration": 2214,
    "start_time": "2022-09-05T11:14:50.278Z"
   },
   {
    "duration": 17,
    "start_time": "2022-09-05T11:14:59.614Z"
   },
   {
    "duration": 17,
    "start_time": "2022-09-05T11:15:04.889Z"
   },
   {
    "duration": 19,
    "start_time": "2022-09-05T11:15:14.257Z"
   },
   {
    "duration": 19,
    "start_time": "2022-09-05T11:15:43.364Z"
   },
   {
    "duration": 76,
    "start_time": "2022-09-05T11:16:49.914Z"
   },
   {
    "duration": 20,
    "start_time": "2022-09-05T11:18:31.539Z"
   },
   {
    "duration": 23,
    "start_time": "2022-09-05T11:19:23.281Z"
   },
   {
    "duration": 16,
    "start_time": "2022-09-05T11:19:41.616Z"
   },
   {
    "duration": 16,
    "start_time": "2022-09-05T11:19:46.997Z"
   },
   {
    "duration": 21,
    "start_time": "2022-09-05T11:20:06.771Z"
   },
   {
    "duration": 14,
    "start_time": "2022-09-05T11:25:45.076Z"
   },
   {
    "duration": 14,
    "start_time": "2022-09-05T11:25:50.156Z"
   },
   {
    "duration": 35,
    "start_time": "2022-09-05T11:27:06.550Z"
   },
   {
    "duration": 20,
    "start_time": "2022-09-05T11:27:39.101Z"
   },
   {
    "duration": 10,
    "start_time": "2022-09-05T11:31:33.073Z"
   },
   {
    "duration": 19,
    "start_time": "2022-09-05T11:31:37.715Z"
   },
   {
    "duration": 19,
    "start_time": "2022-09-05T11:31:52.172Z"
   },
   {
    "duration": 9,
    "start_time": "2022-09-05T11:31:59.748Z"
   },
   {
    "duration": 9,
    "start_time": "2022-09-05T11:32:13.615Z"
   },
   {
    "duration": 19,
    "start_time": "2022-09-05T11:32:18.288Z"
   },
   {
    "duration": 9,
    "start_time": "2022-09-05T11:32:22.288Z"
   },
   {
    "duration": 14,
    "start_time": "2022-09-05T11:35:29.051Z"
   },
   {
    "duration": 2,
    "start_time": "2022-09-05T11:35:43.782Z"
   },
   {
    "duration": 51,
    "start_time": "2022-09-05T11:35:43.786Z"
   },
   {
    "duration": 12,
    "start_time": "2022-09-05T11:35:43.839Z"
   },
   {
    "duration": 2,
    "start_time": "2022-09-05T11:35:43.853Z"
   },
   {
    "duration": 17,
    "start_time": "2022-09-05T11:35:43.857Z"
   },
   {
    "duration": 18,
    "start_time": "2022-09-05T11:35:43.876Z"
   },
   {
    "duration": 3,
    "start_time": "2022-09-05T11:35:43.895Z"
   },
   {
    "duration": 7,
    "start_time": "2022-09-05T11:35:43.899Z"
   },
   {
    "duration": 6,
    "start_time": "2022-09-05T11:35:43.908Z"
   },
   {
    "duration": 10,
    "start_time": "2022-09-05T11:35:43.915Z"
   },
   {
    "duration": 32,
    "start_time": "2022-09-05T11:35:43.926Z"
   },
   {
    "duration": 19,
    "start_time": "2022-09-05T11:35:43.960Z"
   },
   {
    "duration": 14,
    "start_time": "2022-09-05T11:35:43.981Z"
   },
   {
    "duration": 15,
    "start_time": "2022-09-05T11:35:43.996Z"
   },
   {
    "duration": 13,
    "start_time": "2022-09-05T11:35:44.012Z"
   },
   {
    "duration": 33,
    "start_time": "2022-09-05T11:35:44.027Z"
   },
   {
    "duration": 13,
    "start_time": "2022-09-05T11:35:44.061Z"
   },
   {
    "duration": 7,
    "start_time": "2022-09-05T11:35:44.076Z"
   },
   {
    "duration": 8,
    "start_time": "2022-09-05T11:35:44.084Z"
   },
   {
    "duration": 12,
    "start_time": "2022-09-05T11:37:50.035Z"
   },
   {
    "duration": 17,
    "start_time": "2022-09-05T11:38:01.692Z"
   },
   {
    "duration": 17,
    "start_time": "2022-09-05T11:38:21.688Z"
   },
   {
    "duration": 9,
    "start_time": "2022-09-05T12:00:39.334Z"
   },
   {
    "duration": 123,
    "start_time": "2022-09-05T12:03:06.634Z"
   },
   {
    "duration": 91,
    "start_time": "2022-09-05T12:03:35.911Z"
   },
   {
    "duration": 102,
    "start_time": "2022-09-05T12:04:07.587Z"
   },
   {
    "duration": 144,
    "start_time": "2022-09-05T12:04:36.429Z"
   },
   {
    "duration": 96,
    "start_time": "2022-09-05T12:05:08.961Z"
   },
   {
    "duration": 13,
    "start_time": "2022-09-05T12:05:42.518Z"
   },
   {
    "duration": 106,
    "start_time": "2022-09-05T12:06:15.891Z"
   },
   {
    "duration": 90,
    "start_time": "2022-09-05T12:06:31.357Z"
   },
   {
    "duration": 112,
    "start_time": "2022-09-05T12:09:10.689Z"
   },
   {
    "duration": 5,
    "start_time": "2022-09-05T12:15:05.016Z"
   },
   {
    "duration": 5,
    "start_time": "2022-09-05T12:15:24.556Z"
   },
   {
    "duration": 94,
    "start_time": "2022-09-05T12:27:41.781Z"
   },
   {
    "duration": 5,
    "start_time": "2022-09-05T12:29:14.577Z"
   },
   {
    "duration": 20,
    "start_time": "2022-09-05T12:29:18.298Z"
   },
   {
    "duration": 4,
    "start_time": "2022-09-05T12:29:55.581Z"
   },
   {
    "duration": 5,
    "start_time": "2022-09-05T12:29:59.247Z"
   },
   {
    "duration": 18,
    "start_time": "2022-09-05T12:30:03.511Z"
   },
   {
    "duration": 14,
    "start_time": "2022-09-05T12:30:06.808Z"
   },
   {
    "duration": 15,
    "start_time": "2022-09-05T12:30:09.201Z"
   },
   {
    "duration": 3,
    "start_time": "2022-09-05T12:30:16.388Z"
   },
   {
    "duration": 59,
    "start_time": "2022-09-05T12:30:16.392Z"
   },
   {
    "duration": 14,
    "start_time": "2022-09-05T12:30:16.452Z"
   },
   {
    "duration": 4,
    "start_time": "2022-09-05T12:30:16.469Z"
   },
   {
    "duration": 28,
    "start_time": "2022-09-05T12:30:16.475Z"
   },
   {
    "duration": 5,
    "start_time": "2022-09-05T12:30:16.505Z"
   },
   {
    "duration": 6,
    "start_time": "2022-09-05T12:30:16.511Z"
   },
   {
    "duration": 6,
    "start_time": "2022-09-05T12:30:16.519Z"
   },
   {
    "duration": 32,
    "start_time": "2022-09-05T12:30:16.527Z"
   },
   {
    "duration": 10,
    "start_time": "2022-09-05T12:30:16.562Z"
   },
   {
    "duration": 17,
    "start_time": "2022-09-05T12:30:16.574Z"
   },
   {
    "duration": 14,
    "start_time": "2022-09-05T12:30:16.592Z"
   },
   {
    "duration": 16,
    "start_time": "2022-09-05T12:30:16.608Z"
   },
   {
    "duration": 36,
    "start_time": "2022-09-05T12:30:16.625Z"
   },
   {
    "duration": 20,
    "start_time": "2022-09-05T12:30:16.664Z"
   },
   {
    "duration": 29,
    "start_time": "2022-09-05T12:30:16.686Z"
   },
   {
    "duration": 113,
    "start_time": "2022-09-05T12:30:16.721Z"
   },
   {
    "duration": 119,
    "start_time": "2022-09-05T12:30:16.836Z"
   },
   {
    "duration": 141,
    "start_time": "2022-09-05T12:30:16.956Z"
   },
   {
    "duration": 102,
    "start_time": "2022-09-05T12:30:17.098Z"
   },
   {
    "duration": 120,
    "start_time": "2022-09-05T12:30:17.202Z"
   },
   {
    "duration": 162,
    "start_time": "2022-09-05T12:30:17.325Z"
   },
   {
    "duration": 124,
    "start_time": "2022-09-05T12:30:17.488Z"
   },
   {
    "duration": 5,
    "start_time": "2022-09-05T12:30:17.614Z"
   },
   {
    "duration": 59,
    "start_time": "2022-09-05T12:30:17.621Z"
   },
   {
    "duration": 175,
    "start_time": "2022-09-05T12:31:10.408Z"
   },
   {
    "duration": 3,
    "start_time": "2022-09-05T12:31:21.471Z"
   },
   {
    "duration": 59,
    "start_time": "2022-09-05T12:31:21.477Z"
   },
   {
    "duration": 16,
    "start_time": "2022-09-05T12:31:21.537Z"
   },
   {
    "duration": 4,
    "start_time": "2022-09-05T12:31:21.555Z"
   },
   {
    "duration": 29,
    "start_time": "2022-09-05T12:31:21.560Z"
   },
   {
    "duration": 4,
    "start_time": "2022-09-05T12:31:21.591Z"
   },
   {
    "duration": 12,
    "start_time": "2022-09-05T12:31:21.597Z"
   },
   {
    "duration": 9,
    "start_time": "2022-09-05T12:31:21.611Z"
   },
   {
    "duration": 12,
    "start_time": "2022-09-05T12:31:21.624Z"
   },
   {
    "duration": 19,
    "start_time": "2022-09-05T12:31:21.638Z"
   },
   {
    "duration": 18,
    "start_time": "2022-09-05T12:31:21.659Z"
   },
   {
    "duration": 21,
    "start_time": "2022-09-05T12:31:21.679Z"
   },
   {
    "duration": 24,
    "start_time": "2022-09-05T12:31:21.702Z"
   },
   {
    "duration": 48,
    "start_time": "2022-09-05T12:31:21.728Z"
   },
   {
    "duration": 18,
    "start_time": "2022-09-05T12:31:21.778Z"
   },
   {
    "duration": 14,
    "start_time": "2022-09-05T12:31:21.797Z"
   },
   {
    "duration": 109,
    "start_time": "2022-09-05T12:31:21.812Z"
   },
   {
    "duration": 94,
    "start_time": "2022-09-05T12:31:21.923Z"
   },
   {
    "duration": 115,
    "start_time": "2022-09-05T12:31:22.019Z"
   },
   {
    "duration": 106,
    "start_time": "2022-09-05T12:31:22.136Z"
   },
   {
    "duration": 112,
    "start_time": "2022-09-05T12:31:22.244Z"
   },
   {
    "duration": 103,
    "start_time": "2022-09-05T12:31:22.357Z"
   },
   {
    "duration": 122,
    "start_time": "2022-09-05T12:31:22.461Z"
   },
   {
    "duration": 5,
    "start_time": "2022-09-05T12:31:22.587Z"
   },
   {
    "duration": 24,
    "start_time": "2022-09-05T12:31:22.593Z"
   },
   {
    "duration": 21,
    "start_time": "2022-09-05T12:42:16.440Z"
   },
   {
    "duration": 18,
    "start_time": "2022-09-05T12:42:30.035Z"
   },
   {
    "duration": 21,
    "start_time": "2022-09-05T12:43:21.497Z"
   },
   {
    "duration": 382,
    "start_time": "2022-09-05T12:47:27.951Z"
   },
   {
    "duration": 48,
    "start_time": "2022-09-05T12:47:28.335Z"
   },
   {
    "duration": 12,
    "start_time": "2022-09-05T12:47:28.385Z"
   },
   {
    "duration": 3,
    "start_time": "2022-09-05T12:47:28.398Z"
   },
   {
    "duration": 25,
    "start_time": "2022-09-05T12:47:28.402Z"
   },
   {
    "duration": 4,
    "start_time": "2022-09-05T12:47:28.428Z"
   },
   {
    "duration": 6,
    "start_time": "2022-09-05T12:47:28.433Z"
   },
   {
    "duration": 9,
    "start_time": "2022-09-05T12:47:28.454Z"
   },
   {
    "duration": 7,
    "start_time": "2022-09-05T12:47:28.465Z"
   },
   {
    "duration": 15,
    "start_time": "2022-09-05T12:47:28.474Z"
   },
   {
    "duration": 273,
    "start_time": "2022-09-05T12:47:28.490Z"
   },
   {
    "duration": 16,
    "start_time": "2022-09-05T12:47:28.765Z"
   },
   {
    "duration": 17,
    "start_time": "2022-09-05T12:47:28.782Z"
   },
   {
    "duration": 17,
    "start_time": "2022-09-05T12:47:28.800Z"
   },
   {
    "duration": 36,
    "start_time": "2022-09-05T12:47:28.819Z"
   },
   {
    "duration": 102,
    "start_time": "2022-09-05T12:47:28.856Z"
   },
   {
    "duration": 106,
    "start_time": "2022-09-05T12:47:28.959Z"
   },
   {
    "duration": 113,
    "start_time": "2022-09-05T12:47:29.066Z"
   },
   {
    "duration": 135,
    "start_time": "2022-09-05T12:47:29.181Z"
   },
   {
    "duration": 105,
    "start_time": "2022-09-05T12:47:29.318Z"
   },
   {
    "duration": 100,
    "start_time": "2022-09-05T12:47:29.425Z"
   },
   {
    "duration": 103,
    "start_time": "2022-09-05T12:47:29.526Z"
   },
   {
    "duration": 6,
    "start_time": "2022-09-05T12:47:29.630Z"
   },
   {
    "duration": 32,
    "start_time": "2022-09-05T12:47:29.638Z"
   },
   {
    "duration": 2,
    "start_time": "2022-09-05T12:47:37.079Z"
   },
   {
    "duration": 56,
    "start_time": "2022-09-05T12:47:37.083Z"
   },
   {
    "duration": 12,
    "start_time": "2022-09-05T12:47:37.141Z"
   },
   {
    "duration": 3,
    "start_time": "2022-09-05T12:47:37.154Z"
   },
   {
    "duration": 24,
    "start_time": "2022-09-05T12:47:37.158Z"
   },
   {
    "duration": 5,
    "start_time": "2022-09-05T12:47:37.183Z"
   },
   {
    "duration": 5,
    "start_time": "2022-09-05T12:47:37.189Z"
   },
   {
    "duration": 8,
    "start_time": "2022-09-05T12:47:37.196Z"
   },
   {
    "duration": 7,
    "start_time": "2022-09-05T12:47:37.205Z"
   },
   {
    "duration": 19,
    "start_time": "2022-09-05T12:47:37.214Z"
   },
   {
    "duration": 27,
    "start_time": "2022-09-05T12:47:37.234Z"
   },
   {
    "duration": 17,
    "start_time": "2022-09-05T12:47:37.262Z"
   },
   {
    "duration": 23,
    "start_time": "2022-09-05T12:47:37.280Z"
   },
   {
    "duration": 20,
    "start_time": "2022-09-05T12:47:37.304Z"
   },
   {
    "duration": 44,
    "start_time": "2022-09-05T12:47:37.326Z"
   },
   {
    "duration": 123,
    "start_time": "2022-09-05T12:47:37.372Z"
   },
   {
    "duration": 115,
    "start_time": "2022-09-05T12:47:37.497Z"
   },
   {
    "duration": 107,
    "start_time": "2022-09-05T12:47:37.614Z"
   },
   {
    "duration": 101,
    "start_time": "2022-09-05T12:47:37.722Z"
   },
   {
    "duration": 116,
    "start_time": "2022-09-05T12:47:37.824Z"
   },
   {
    "duration": 119,
    "start_time": "2022-09-05T12:47:37.942Z"
   },
   {
    "duration": 96,
    "start_time": "2022-09-05T12:47:38.063Z"
   },
   {
    "duration": 4,
    "start_time": "2022-09-05T12:47:38.161Z"
   },
   {
    "duration": 23,
    "start_time": "2022-09-05T12:47:38.168Z"
   },
   {
    "duration": 66,
    "start_time": "2022-09-05T12:48:02.697Z"
   },
   {
    "duration": 219,
    "start_time": "2022-09-05T12:57:32.728Z"
   },
   {
    "duration": 215,
    "start_time": "2022-09-05T12:58:54.059Z"
   },
   {
    "duration": 152,
    "start_time": "2022-09-05T12:59:00.051Z"
   },
   {
    "duration": 155,
    "start_time": "2022-09-05T12:59:05.736Z"
   },
   {
    "duration": 164,
    "start_time": "2022-09-05T12:59:13.229Z"
   },
   {
    "duration": 163,
    "start_time": "2022-09-05T12:59:21.724Z"
   },
   {
    "duration": 65,
    "start_time": "2022-09-05T13:18:02.384Z"
   },
   {
    "duration": 18,
    "start_time": "2022-09-05T13:18:06.048Z"
   },
   {
    "duration": 9,
    "start_time": "2022-09-05T13:18:36.100Z"
   },
   {
    "duration": 8,
    "start_time": "2022-09-05T13:18:40.235Z"
   },
   {
    "duration": 14,
    "start_time": "2022-09-05T13:19:20.338Z"
   },
   {
    "duration": 13,
    "start_time": "2022-09-05T13:19:31.147Z"
   },
   {
    "duration": 10,
    "start_time": "2022-09-05T13:19:46.469Z"
   },
   {
    "duration": 6,
    "start_time": "2022-09-05T13:19:49.526Z"
   },
   {
    "duration": 9,
    "start_time": "2022-09-05T13:20:16.617Z"
   },
   {
    "duration": 10,
    "start_time": "2022-09-05T13:20:21.850Z"
   },
   {
    "duration": 22,
    "start_time": "2022-09-05T13:21:51.734Z"
   },
   {
    "duration": 16,
    "start_time": "2022-09-05T13:22:00.735Z"
   },
   {
    "duration": 23,
    "start_time": "2022-09-05T13:22:10.262Z"
   },
   {
    "duration": 18,
    "start_time": "2022-09-05T13:22:29.161Z"
   },
   {
    "duration": 7,
    "start_time": "2022-09-05T13:22:44.379Z"
   },
   {
    "duration": 15,
    "start_time": "2022-09-05T13:22:46.580Z"
   },
   {
    "duration": 5,
    "start_time": "2022-09-05T13:23:11.823Z"
   },
   {
    "duration": 4,
    "start_time": "2022-09-05T13:58:35.121Z"
   },
   {
    "duration": 2,
    "start_time": "2022-09-05T14:00:39.554Z"
   },
   {
    "duration": 3,
    "start_time": "2022-09-05T14:00:43.362Z"
   },
   {
    "duration": 2,
    "start_time": "2022-09-05T14:00:49.947Z"
   },
   {
    "duration": 4,
    "start_time": "2022-09-05T14:00:51.390Z"
   },
   {
    "duration": 94,
    "start_time": "2022-09-05T14:01:15.446Z"
   },
   {
    "duration": 3,
    "start_time": "2022-09-05T14:01:21.567Z"
   },
   {
    "duration": 3,
    "start_time": "2022-09-05T14:01:24.239Z"
   },
   {
    "duration": 5,
    "start_time": "2022-09-05T14:01:40.313Z"
   },
   {
    "duration": 4,
    "start_time": "2022-09-05T14:01:41.673Z"
   },
   {
    "duration": 3,
    "start_time": "2022-09-05T14:01:47.698Z"
   },
   {
    "duration": 4,
    "start_time": "2022-09-05T14:01:48.562Z"
   },
   {
    "duration": 32,
    "start_time": "2022-09-05T14:02:24.994Z"
   },
   {
    "duration": 11,
    "start_time": "2022-09-05T14:02:36.024Z"
   },
   {
    "duration": 24,
    "start_time": "2022-09-05T14:02:49.434Z"
   },
   {
    "duration": 24,
    "start_time": "2022-09-05T14:02:58.532Z"
   },
   {
    "duration": 23,
    "start_time": "2022-09-05T14:03:04.171Z"
   },
   {
    "duration": 22,
    "start_time": "2022-09-05T14:03:33.700Z"
   },
   {
    "duration": 7,
    "start_time": "2022-09-05T14:03:54.852Z"
   },
   {
    "duration": 7,
    "start_time": "2022-09-05T14:04:03.844Z"
   },
   {
    "duration": 7,
    "start_time": "2022-09-05T14:04:08.456Z"
   },
   {
    "duration": 10,
    "start_time": "2022-09-05T14:05:12.930Z"
   },
   {
    "duration": 3,
    "start_time": "2022-09-05T14:05:13.916Z"
   },
   {
    "duration": 9,
    "start_time": "2022-09-05T14:05:28.473Z"
   },
   {
    "duration": 5,
    "start_time": "2022-09-05T14:05:44.610Z"
   },
   {
    "duration": 4,
    "start_time": "2022-09-05T14:05:45.036Z"
   },
   {
    "duration": 4,
    "start_time": "2022-09-05T14:05:45.426Z"
   },
   {
    "duration": 22,
    "start_time": "2022-09-05T14:05:46.429Z"
   },
   {
    "duration": 3,
    "start_time": "2022-09-05T14:08:27.592Z"
   },
   {
    "duration": 4,
    "start_time": "2022-09-05T14:08:28.049Z"
   },
   {
    "duration": 22,
    "start_time": "2022-09-05T14:08:29.947Z"
   },
   {
    "duration": 6,
    "start_time": "2022-09-05T14:09:19.787Z"
   },
   {
    "duration": 4,
    "start_time": "2022-09-05T14:09:20.266Z"
   },
   {
    "duration": 4,
    "start_time": "2022-09-05T14:09:20.724Z"
   },
   {
    "duration": 7,
    "start_time": "2022-09-05T14:09:30.880Z"
   },
   {
    "duration": 3,
    "start_time": "2022-09-05T14:09:31.371Z"
   },
   {
    "duration": 4,
    "start_time": "2022-09-05T14:09:31.996Z"
   },
   {
    "duration": 6,
    "start_time": "2022-09-05T14:10:00.684Z"
   },
   {
    "duration": 7,
    "start_time": "2022-09-05T14:10:40.834Z"
   },
   {
    "duration": 6,
    "start_time": "2022-09-05T14:10:46.096Z"
   },
   {
    "duration": 4,
    "start_time": "2022-09-05T14:10:46.521Z"
   },
   {
    "duration": 6,
    "start_time": "2022-09-05T14:10:47.178Z"
   },
   {
    "duration": 21,
    "start_time": "2022-09-05T14:10:51.529Z"
   },
   {
    "duration": 4,
    "start_time": "2022-09-05T14:11:06.780Z"
   },
   {
    "duration": 18,
    "start_time": "2022-09-05T14:13:04.898Z"
   },
   {
    "duration": 8,
    "start_time": "2022-09-05T14:13:35.519Z"
   },
   {
    "duration": 107,
    "start_time": "2022-09-05T14:14:23.644Z"
   },
   {
    "duration": 8,
    "start_time": "2022-09-05T14:14:56.608Z"
   },
   {
    "duration": 110,
    "start_time": "2022-09-05T14:15:03.737Z"
   },
   {
    "duration": 9,
    "start_time": "2022-09-05T14:15:08.651Z"
   },
   {
    "duration": 20,
    "start_time": "2022-09-05T14:19:00.752Z"
   },
   {
    "duration": 16,
    "start_time": "2022-09-05T14:20:54.887Z"
   },
   {
    "duration": 153,
    "start_time": "2022-09-05T14:22:03.040Z"
   },
   {
    "duration": 273,
    "start_time": "2022-09-05T14:24:21.346Z"
   },
   {
    "duration": 194,
    "start_time": "2022-09-05T14:24:45.981Z"
   },
   {
    "duration": 171,
    "start_time": "2022-09-05T14:24:56.950Z"
   },
   {
    "duration": 190,
    "start_time": "2022-09-05T14:25:02.948Z"
   },
   {
    "duration": 5,
    "start_time": "2022-09-05T14:25:53.918Z"
   },
   {
    "duration": 4,
    "start_time": "2022-09-05T14:25:55.438Z"
   },
   {
    "duration": 5,
    "start_time": "2022-09-05T14:25:56.710Z"
   },
   {
    "duration": 208,
    "start_time": "2022-09-05T14:25:57.110Z"
   },
   {
    "duration": 210,
    "start_time": "2022-09-05T14:31:36.283Z"
   },
   {
    "duration": 205,
    "start_time": "2022-09-05T14:32:08.870Z"
   },
   {
    "duration": 213,
    "start_time": "2022-09-05T14:32:18.832Z"
   },
   {
    "duration": 227,
    "start_time": "2022-09-05T14:32:26.617Z"
   },
   {
    "duration": 91,
    "start_time": "2022-09-05T14:46:52.801Z"
   },
   {
    "duration": 22,
    "start_time": "2022-09-05T14:51:00.530Z"
   },
   {
    "duration": 22,
    "start_time": "2022-09-05T14:51:20.397Z"
   },
   {
    "duration": 5,
    "start_time": "2022-09-05T14:52:10.075Z"
   },
   {
    "duration": 22,
    "start_time": "2022-09-05T14:53:09.011Z"
   },
   {
    "duration": 16,
    "start_time": "2022-09-05T14:53:32.126Z"
   },
   {
    "duration": 5,
    "start_time": "2022-09-05T15:02:01.736Z"
   },
   {
    "duration": 16,
    "start_time": "2022-09-05T15:02:07.610Z"
   },
   {
    "duration": 21,
    "start_time": "2022-09-05T15:02:18.666Z"
   },
   {
    "duration": 5,
    "start_time": "2022-09-05T15:04:05.416Z"
   },
   {
    "duration": 7,
    "start_time": "2022-09-05T15:05:19.347Z"
   },
   {
    "duration": 4,
    "start_time": "2022-09-05T15:05:23.301Z"
   },
   {
    "duration": 3,
    "start_time": "2022-09-05T15:05:23.775Z"
   },
   {
    "duration": 7,
    "start_time": "2022-09-05T15:05:47.406Z"
   },
   {
    "duration": 7,
    "start_time": "2022-09-05T15:06:07.513Z"
   },
   {
    "duration": 6,
    "start_time": "2022-09-05T15:06:24.714Z"
   },
   {
    "duration": 203,
    "start_time": "2022-09-05T15:06:57.768Z"
   },
   {
    "duration": 6,
    "start_time": "2022-09-05T15:07:12.456Z"
   },
   {
    "duration": 5,
    "start_time": "2022-09-05T15:07:13.251Z"
   },
   {
    "duration": 4,
    "start_time": "2022-09-05T15:07:13.520Z"
   },
   {
    "duration": 7,
    "start_time": "2022-09-05T15:07:13.735Z"
   },
   {
    "duration": 197,
    "start_time": "2022-09-05T15:07:13.920Z"
   },
   {
    "duration": 193,
    "start_time": "2022-09-05T15:07:17.778Z"
   },
   {
    "duration": 4,
    "start_time": "2022-09-05T15:07:38.588Z"
   },
   {
    "duration": 4,
    "start_time": "2022-09-05T15:07:41.028Z"
   },
   {
    "duration": 6,
    "start_time": "2022-09-05T15:07:41.596Z"
   },
   {
    "duration": 278,
    "start_time": "2022-09-05T15:07:42.079Z"
   },
   {
    "duration": 4,
    "start_time": "2022-09-05T15:08:46.506Z"
   },
   {
    "duration": 16,
    "start_time": "2022-09-05T15:08:51.503Z"
   },
   {
    "duration": 8,
    "start_time": "2022-09-05T15:09:12.089Z"
   },
   {
    "duration": 5,
    "start_time": "2022-09-05T15:09:22.617Z"
   },
   {
    "duration": 163,
    "start_time": "2022-09-05T15:09:41.174Z"
   },
   {
    "duration": 183,
    "start_time": "2022-09-05T15:09:47.541Z"
   },
   {
    "duration": 164,
    "start_time": "2022-09-05T15:09:52.853Z"
   },
   {
    "duration": 4,
    "start_time": "2022-09-05T15:10:10.514Z"
   },
   {
    "duration": 3,
    "start_time": "2022-09-05T15:10:10.832Z"
   },
   {
    "duration": 6,
    "start_time": "2022-09-05T15:10:11.160Z"
   },
   {
    "duration": 191,
    "start_time": "2022-09-05T15:10:11.480Z"
   },
   {
    "duration": 21,
    "start_time": "2022-09-05T15:10:57.622Z"
   },
   {
    "duration": 22,
    "start_time": "2022-09-05T15:11:44.565Z"
   },
   {
    "duration": 6,
    "start_time": "2022-09-05T15:11:49.492Z"
   },
   {
    "duration": 211,
    "start_time": "2022-09-05T15:11:51.189Z"
   },
   {
    "duration": 77,
    "start_time": "2022-09-05T15:13:25.545Z"
   },
   {
    "duration": 380,
    "start_time": "2022-09-05T15:34:12.309Z"
   },
   {
    "duration": 563,
    "start_time": "2022-09-05T15:34:17.398Z"
   },
   {
    "duration": 16,
    "start_time": "2022-09-05T15:35:51.913Z"
   },
   {
    "duration": 16,
    "start_time": "2022-09-05T15:36:05.803Z"
   },
   {
    "duration": 14,
    "start_time": "2022-09-05T15:36:16.621Z"
   },
   {
    "duration": 14,
    "start_time": "2022-09-05T15:36:30.442Z"
   },
   {
    "duration": 105,
    "start_time": "2022-09-05T15:36:42.240Z"
   },
   {
    "duration": 80,
    "start_time": "2022-09-05T15:36:53.801Z"
   },
   {
    "duration": 76,
    "start_time": "2022-09-05T15:37:04.666Z"
   },
   {
    "duration": 168,
    "start_time": "2022-09-05T15:37:25.958Z"
   },
   {
    "duration": 74,
    "start_time": "2022-09-05T15:37:31.270Z"
   },
   {
    "duration": 106,
    "start_time": "2022-09-05T15:37:38.751Z"
   },
   {
    "duration": 4,
    "start_time": "2022-09-05T15:42:54.785Z"
   },
   {
    "duration": 8,
    "start_time": "2022-09-05T15:43:02.682Z"
   },
   {
    "duration": 9,
    "start_time": "2022-09-05T15:43:23.340Z"
   },
   {
    "duration": 8,
    "start_time": "2022-09-05T15:43:34.317Z"
   },
   {
    "duration": 6,
    "start_time": "2022-09-05T15:50:55.456Z"
   },
   {
    "duration": 6,
    "start_time": "2022-09-05T15:51:03.210Z"
   },
   {
    "duration": 7,
    "start_time": "2022-09-05T15:51:08.178Z"
   },
   {
    "duration": 79,
    "start_time": "2022-09-05T15:51:35.262Z"
   },
   {
    "duration": 8,
    "start_time": "2022-09-05T15:52:13.284Z"
   },
   {
    "duration": 12,
    "start_time": "2022-09-05T15:52:50.392Z"
   },
   {
    "duration": 6,
    "start_time": "2022-09-05T15:53:11.779Z"
   },
   {
    "duration": 579,
    "start_time": "2022-09-05T15:53:21.283Z"
   },
   {
    "duration": 110,
    "start_time": "2022-09-05T15:53:30.967Z"
   },
   {
    "duration": 98,
    "start_time": "2022-09-05T15:54:12.595Z"
   },
   {
    "duration": 104,
    "start_time": "2022-09-05T15:54:30.427Z"
   },
   {
    "duration": 204,
    "start_time": "2022-09-05T15:54:41.198Z"
   },
   {
    "duration": 108,
    "start_time": "2022-09-05T15:55:55.440Z"
   },
   {
    "duration": 127,
    "start_time": "2022-09-05T15:56:51.032Z"
   },
   {
    "duration": 144,
    "start_time": "2022-09-05T15:57:19.955Z"
   },
   {
    "duration": 160,
    "start_time": "2022-09-05T15:57:28.532Z"
   },
   {
    "duration": 156,
    "start_time": "2022-09-05T15:57:35.118Z"
   },
   {
    "duration": 219,
    "start_time": "2022-09-05T15:59:54.126Z"
   },
   {
    "duration": 152,
    "start_time": "2022-09-05T16:00:19.266Z"
   },
   {
    "duration": 30,
    "start_time": "2022-09-05T16:00:44.189Z"
   },
   {
    "duration": 138,
    "start_time": "2022-09-05T16:01:14.545Z"
   },
   {
    "duration": 132,
    "start_time": "2022-09-05T16:05:08.583Z"
   },
   {
    "duration": 77,
    "start_time": "2022-09-05T16:05:21.626Z"
   },
   {
    "duration": 333,
    "start_time": "2022-09-05T16:05:29.580Z"
   },
   {
    "duration": 222,
    "start_time": "2022-09-05T16:05:36.691Z"
   },
   {
    "duration": 176,
    "start_time": "2022-09-05T16:05:41.629Z"
   },
   {
    "duration": 97,
    "start_time": "2022-09-05T16:05:46.278Z"
   },
   {
    "duration": 91,
    "start_time": "2022-09-05T16:05:50.545Z"
   },
   {
    "duration": 96,
    "start_time": "2022-09-05T16:05:53.541Z"
   },
   {
    "duration": 84,
    "start_time": "2022-09-05T16:05:56.846Z"
   },
   {
    "duration": 105,
    "start_time": "2022-09-05T16:05:59.625Z"
   },
   {
    "duration": 83,
    "start_time": "2022-09-05T16:06:03.374Z"
   },
   {
    "duration": 86,
    "start_time": "2022-09-05T16:06:06.932Z"
   },
   {
    "duration": 213,
    "start_time": "2022-09-05T16:11:28.107Z"
   },
   {
    "duration": 8,
    "start_time": "2022-09-05T16:13:47.580Z"
   },
   {
    "duration": 12,
    "start_time": "2022-09-05T16:20:08.991Z"
   },
   {
    "duration": 10,
    "start_time": "2022-09-05T16:20:23.463Z"
   },
   {
    "duration": 150,
    "start_time": "2022-09-05T16:22:27.944Z"
   },
   {
    "duration": 12,
    "start_time": "2022-09-05T16:22:37.449Z"
   },
   {
    "duration": 121,
    "start_time": "2022-09-05T16:25:47.649Z"
   },
   {
    "duration": 205,
    "start_time": "2022-09-05T16:30:22.720Z"
   },
   {
    "duration": 193,
    "start_time": "2022-09-05T16:30:33.182Z"
   },
   {
    "duration": 114,
    "start_time": "2022-09-05T16:31:00.058Z"
   },
   {
    "duration": 145,
    "start_time": "2022-09-05T16:31:16.533Z"
   },
   {
    "duration": 148,
    "start_time": "2022-09-05T16:33:11.180Z"
   },
   {
    "duration": 143,
    "start_time": "2022-09-05T16:33:15.763Z"
   },
   {
    "duration": 135,
    "start_time": "2022-09-05T16:33:25.789Z"
   },
   {
    "duration": 188,
    "start_time": "2022-09-05T16:33:40.191Z"
   },
   {
    "duration": 173,
    "start_time": "2022-09-05T16:34:01.122Z"
   },
   {
    "duration": 180,
    "start_time": "2022-09-05T16:34:07.124Z"
   },
   {
    "duration": 169,
    "start_time": "2022-09-05T16:34:15.540Z"
   },
   {
    "duration": 163,
    "start_time": "2022-09-05T16:34:22.060Z"
   },
   {
    "duration": 323,
    "start_time": "2022-09-05T16:34:27.029Z"
   },
   {
    "duration": 162,
    "start_time": "2022-09-05T16:35:00.345Z"
   },
   {
    "duration": 997,
    "start_time": "2022-09-05T16:35:25.415Z"
   },
   {
    "duration": 161,
    "start_time": "2022-09-05T16:35:30.765Z"
   },
   {
    "duration": 156,
    "start_time": "2022-09-05T16:36:05.187Z"
   },
   {
    "duration": 134,
    "start_time": "2022-09-05T16:37:06.395Z"
   },
   {
    "duration": 135,
    "start_time": "2022-09-05T16:37:24.517Z"
   },
   {
    "duration": 9,
    "start_time": "2022-09-05T16:51:37.230Z"
   },
   {
    "duration": 11,
    "start_time": "2022-09-05T16:52:00.535Z"
   },
   {
    "duration": 72,
    "start_time": "2022-09-05T16:58:33.899Z"
   },
   {
    "duration": 95,
    "start_time": "2022-09-06T08:05:25.471Z"
   },
   {
    "duration": 165,
    "start_time": "2022-09-06T08:08:26.063Z"
   },
   {
    "duration": 44,
    "start_time": "2022-09-06T08:10:25.469Z"
   },
   {
    "duration": 474,
    "start_time": "2022-09-06T08:10:30.798Z"
   },
   {
    "duration": 197,
    "start_time": "2022-09-06T08:10:31.274Z"
   },
   {
    "duration": 16,
    "start_time": "2022-09-06T08:10:31.473Z"
   },
   {
    "duration": 3,
    "start_time": "2022-09-06T08:10:31.491Z"
   },
   {
    "duration": 43,
    "start_time": "2022-09-06T08:10:31.496Z"
   },
   {
    "duration": 4,
    "start_time": "2022-09-06T08:10:31.541Z"
   },
   {
    "duration": 13,
    "start_time": "2022-09-06T08:10:31.547Z"
   },
   {
    "duration": 17,
    "start_time": "2022-09-06T08:10:31.562Z"
   },
   {
    "duration": 14,
    "start_time": "2022-09-06T08:10:31.581Z"
   },
   {
    "duration": 20,
    "start_time": "2022-09-06T08:10:31.597Z"
   },
   {
    "duration": 581,
    "start_time": "2022-09-06T08:10:31.619Z"
   },
   {
    "duration": 22,
    "start_time": "2022-09-06T08:10:32.202Z"
   },
   {
    "duration": 21,
    "start_time": "2022-09-06T08:10:32.225Z"
   },
   {
    "duration": 20,
    "start_time": "2022-09-06T08:10:32.248Z"
   },
   {
    "duration": 16,
    "start_time": "2022-09-06T08:10:32.291Z"
   },
   {
    "duration": 142,
    "start_time": "2022-09-06T08:10:32.309Z"
   },
   {
    "duration": 122,
    "start_time": "2022-09-06T08:10:32.453Z"
   },
   {
    "duration": 193,
    "start_time": "2022-09-06T08:10:32.578Z"
   },
   {
    "duration": 125,
    "start_time": "2022-09-06T08:10:32.772Z"
   },
   {
    "duration": 133,
    "start_time": "2022-09-06T08:10:32.899Z"
   },
   {
    "duration": 125,
    "start_time": "2022-09-06T08:10:33.034Z"
   },
   {
    "duration": 123,
    "start_time": "2022-09-06T08:10:33.161Z"
   },
   {
    "duration": 7,
    "start_time": "2022-09-06T08:10:33.291Z"
   },
   {
    "duration": 38,
    "start_time": "2022-09-06T08:10:33.300Z"
   },
   {
    "duration": 221,
    "start_time": "2022-09-06T08:10:33.340Z"
   },
   {
    "duration": 8,
    "start_time": "2022-09-06T08:10:33.563Z"
   },
   {
    "duration": 3,
    "start_time": "2022-09-06T08:10:33.573Z"
   },
   {
    "duration": 7,
    "start_time": "2022-09-06T08:10:33.593Z"
   },
   {
    "duration": 314,
    "start_time": "2022-09-06T08:10:33.602Z"
   },
   {
    "duration": 8,
    "start_time": "2022-09-06T08:10:33.918Z"
   },
   {
    "duration": 6,
    "start_time": "2022-09-06T08:10:33.928Z"
   },
   {
    "duration": 6,
    "start_time": "2022-09-06T08:10:33.937Z"
   },
   {
    "duration": 15,
    "start_time": "2022-09-06T08:10:33.945Z"
   },
   {
    "duration": 341,
    "start_time": "2022-09-06T08:10:33.962Z"
   },
   {
    "duration": 201,
    "start_time": "2022-09-06T08:10:34.305Z"
   },
   {
    "duration": 11,
    "start_time": "2022-09-06T08:10:34.508Z"
   },
   {
    "duration": 26,
    "start_time": "2022-09-06T08:10:34.522Z"
   },
   {
    "duration": 13,
    "start_time": "2022-09-06T08:10:34.550Z"
   },
   {
    "duration": 211,
    "start_time": "2022-09-06T08:10:34.565Z"
   },
   {
    "duration": 23,
    "start_time": "2022-09-06T08:10:34.778Z"
   },
   {
    "duration": 219,
    "start_time": "2022-09-06T08:10:34.803Z"
   },
   {
    "duration": 14,
    "start_time": "2022-09-06T08:10:35.025Z"
   },
   {
    "duration": 8,
    "start_time": "2022-09-06T08:10:37.733Z"
   },
   {
    "duration": 216,
    "start_time": "2022-09-06T08:10:57.468Z"
   },
   {
    "duration": 7,
    "start_time": "2022-09-06T08:11:23.675Z"
   },
   {
    "duration": 138,
    "start_time": "2022-09-06T08:13:14.476Z"
   },
   {
    "duration": 176,
    "start_time": "2022-09-06T08:13:22.571Z"
   },
   {
    "duration": 10,
    "start_time": "2022-09-06T08:13:58.888Z"
   },
   {
    "duration": 9,
    "start_time": "2022-09-06T08:14:32.534Z"
   },
   {
    "duration": 179,
    "start_time": "2022-09-06T08:14:40.733Z"
   },
   {
    "duration": 153,
    "start_time": "2022-09-06T08:15:55.230Z"
   },
   {
    "duration": 258,
    "start_time": "2022-09-06T08:16:00.054Z"
   },
   {
    "duration": 230,
    "start_time": "2022-09-06T08:16:04.430Z"
   },
   {
    "duration": 246,
    "start_time": "2022-09-06T08:16:13.593Z"
   },
   {
    "duration": 192,
    "start_time": "2022-09-06T08:16:54.967Z"
   },
   {
    "duration": 89,
    "start_time": "2022-09-06T08:17:39.292Z"
   },
   {
    "duration": 208,
    "start_time": "2022-09-06T08:17:47.845Z"
   },
   {
    "duration": 185,
    "start_time": "2022-09-06T08:17:58.732Z"
   },
   {
    "duration": 170,
    "start_time": "2022-09-06T08:29:25.465Z"
   },
   {
    "duration": 3,
    "start_time": "2022-09-06T08:29:36.537Z"
   },
   {
    "duration": 62,
    "start_time": "2022-09-06T08:29:36.542Z"
   },
   {
    "duration": 15,
    "start_time": "2022-09-06T08:29:36.606Z"
   },
   {
    "duration": 8,
    "start_time": "2022-09-06T08:29:36.623Z"
   },
   {
    "duration": 27,
    "start_time": "2022-09-06T08:29:36.633Z"
   },
   {
    "duration": 9,
    "start_time": "2022-09-06T08:29:36.662Z"
   },
   {
    "duration": 32,
    "start_time": "2022-09-06T08:29:36.672Z"
   },
   {
    "duration": 101,
    "start_time": "2022-09-06T08:29:36.706Z"
   },
   {
    "duration": 8,
    "start_time": "2022-09-06T08:29:36.809Z"
   },
   {
    "duration": 30,
    "start_time": "2022-09-06T08:29:36.819Z"
   },
   {
    "duration": 17,
    "start_time": "2022-09-06T08:29:36.852Z"
   },
   {
    "duration": 40,
    "start_time": "2022-09-06T08:29:36.871Z"
   },
   {
    "duration": 19,
    "start_time": "2022-09-06T08:29:36.913Z"
   },
   {
    "duration": 28,
    "start_time": "2022-09-06T08:29:36.935Z"
   },
   {
    "duration": 31,
    "start_time": "2022-09-06T08:29:36.965Z"
   },
   {
    "duration": 119,
    "start_time": "2022-09-06T08:29:36.998Z"
   },
   {
    "duration": 128,
    "start_time": "2022-09-06T08:29:37.119Z"
   },
   {
    "duration": 149,
    "start_time": "2022-09-06T08:29:37.248Z"
   },
   {
    "duration": 119,
    "start_time": "2022-09-06T08:29:37.399Z"
   },
   {
    "duration": 131,
    "start_time": "2022-09-06T08:29:37.520Z"
   },
   {
    "duration": 122,
    "start_time": "2022-09-06T08:29:37.653Z"
   },
   {
    "duration": 126,
    "start_time": "2022-09-06T08:29:37.776Z"
   },
   {
    "duration": 5,
    "start_time": "2022-09-06T08:29:37.903Z"
   },
   {
    "duration": 25,
    "start_time": "2022-09-06T08:29:37.910Z"
   },
   {
    "duration": 213,
    "start_time": "2022-09-06T08:29:37.936Z"
   },
   {
    "duration": 8,
    "start_time": "2022-09-06T08:29:38.151Z"
   },
   {
    "duration": 11,
    "start_time": "2022-09-06T08:29:38.161Z"
   },
   {
    "duration": 20,
    "start_time": "2022-09-06T08:29:38.174Z"
   },
   {
    "duration": 294,
    "start_time": "2022-09-06T08:29:38.198Z"
   },
   {
    "duration": 5,
    "start_time": "2022-09-06T08:29:38.494Z"
   },
   {
    "duration": 11,
    "start_time": "2022-09-06T08:29:38.501Z"
   },
   {
    "duration": 6,
    "start_time": "2022-09-06T08:29:38.514Z"
   },
   {
    "duration": 11,
    "start_time": "2022-09-06T08:29:38.522Z"
   },
   {
    "duration": 249,
    "start_time": "2022-09-06T08:29:38.535Z"
   },
   {
    "duration": 181,
    "start_time": "2022-09-06T08:29:38.791Z"
   },
   {
    "duration": 20,
    "start_time": "2022-09-06T08:29:38.974Z"
   },
   {
    "duration": 9,
    "start_time": "2022-09-06T08:29:38.995Z"
   },
   {
    "duration": 13,
    "start_time": "2022-09-06T08:29:39.006Z"
   },
   {
    "duration": 250,
    "start_time": "2022-09-06T08:29:39.021Z"
   },
   {
    "duration": 18,
    "start_time": "2022-09-06T08:29:39.273Z"
   },
   {
    "duration": 199,
    "start_time": "2022-09-06T08:29:39.293Z"
   },
   {
    "duration": 10,
    "start_time": "2022-09-06T08:29:39.494Z"
   },
   {
    "duration": 187,
    "start_time": "2022-09-06T08:29:54.788Z"
   },
   {
    "duration": 175,
    "start_time": "2022-09-06T08:30:24.477Z"
   },
   {
    "duration": 169,
    "start_time": "2022-09-06T08:32:32.127Z"
   },
   {
    "duration": 242,
    "start_time": "2022-09-06T08:32:47.704Z"
   },
   {
    "duration": 180,
    "start_time": "2022-09-06T08:33:05.796Z"
   },
   {
    "duration": 434,
    "start_time": "2022-09-06T08:33:23.381Z"
   },
   {
    "duration": 57,
    "start_time": "2022-09-06T08:33:23.818Z"
   },
   {
    "duration": 17,
    "start_time": "2022-09-06T08:33:23.876Z"
   },
   {
    "duration": 4,
    "start_time": "2022-09-06T08:33:23.895Z"
   },
   {
    "duration": 38,
    "start_time": "2022-09-06T08:33:23.900Z"
   },
   {
    "duration": 4,
    "start_time": "2022-09-06T08:33:23.940Z"
   },
   {
    "duration": 10,
    "start_time": "2022-09-06T08:33:23.946Z"
   },
   {
    "duration": 22,
    "start_time": "2022-09-06T08:33:23.958Z"
   },
   {
    "duration": 16,
    "start_time": "2022-09-06T08:33:23.982Z"
   },
   {
    "duration": 21,
    "start_time": "2022-09-06T08:33:24.001Z"
   },
   {
    "duration": 351,
    "start_time": "2022-09-06T08:33:24.024Z"
   },
   {
    "duration": 31,
    "start_time": "2022-09-06T08:33:24.377Z"
   },
   {
    "duration": 19,
    "start_time": "2022-09-06T08:33:24.411Z"
   },
   {
    "duration": 20,
    "start_time": "2022-09-06T08:33:24.431Z"
   },
   {
    "duration": 38,
    "start_time": "2022-09-06T08:33:24.453Z"
   },
   {
    "duration": 122,
    "start_time": "2022-09-06T08:33:24.493Z"
   },
   {
    "duration": 127,
    "start_time": "2022-09-06T08:33:24.616Z"
   },
   {
    "duration": 138,
    "start_time": "2022-09-06T08:33:24.744Z"
   },
   {
    "duration": 175,
    "start_time": "2022-09-06T08:33:24.892Z"
   },
   {
    "duration": 133,
    "start_time": "2022-09-06T08:33:25.069Z"
   },
   {
    "duration": 131,
    "start_time": "2022-09-06T08:33:25.204Z"
   },
   {
    "duration": 121,
    "start_time": "2022-09-06T08:33:25.337Z"
   },
   {
    "duration": 5,
    "start_time": "2022-09-06T08:33:25.460Z"
   },
   {
    "duration": 46,
    "start_time": "2022-09-06T08:33:25.467Z"
   },
   {
    "duration": 201,
    "start_time": "2022-09-06T08:33:25.515Z"
   },
   {
    "duration": 6,
    "start_time": "2022-09-06T08:33:25.718Z"
   },
   {
    "duration": 5,
    "start_time": "2022-09-06T08:33:25.726Z"
   },
   {
    "duration": 11,
    "start_time": "2022-09-06T08:33:25.734Z"
   },
   {
    "duration": 320,
    "start_time": "2022-09-06T08:33:25.747Z"
   },
   {
    "duration": 7,
    "start_time": "2022-09-06T08:33:26.069Z"
   },
   {
    "duration": 6,
    "start_time": "2022-09-06T08:33:26.078Z"
   },
   {
    "duration": 5,
    "start_time": "2022-09-06T08:33:26.085Z"
   },
   {
    "duration": 15,
    "start_time": "2022-09-06T08:33:26.092Z"
   },
   {
    "duration": 301,
    "start_time": "2022-09-06T08:33:26.109Z"
   },
   {
    "duration": 186,
    "start_time": "2022-09-06T08:33:26.412Z"
   },
   {
    "duration": 12,
    "start_time": "2022-09-06T08:33:26.599Z"
   },
   {
    "duration": 16,
    "start_time": "2022-09-06T08:33:26.612Z"
   },
   {
    "duration": 29,
    "start_time": "2022-09-06T08:33:26.630Z"
   },
   {
    "duration": 164,
    "start_time": "2022-09-06T08:33:26.661Z"
   },
   {
    "duration": 12,
    "start_time": "2022-09-06T08:33:26.827Z"
   },
   {
    "duration": 195,
    "start_time": "2022-09-06T08:33:26.841Z"
   },
   {
    "duration": 10,
    "start_time": "2022-09-06T08:33:27.038Z"
   },
   {
    "duration": 277,
    "start_time": "2022-09-06T08:33:27.049Z"
   },
   {
    "duration": 261,
    "start_time": "2022-09-06T08:33:30.964Z"
   },
   {
    "duration": 0,
    "start_time": "2022-09-06T08:33:57.294Z"
   },
   {
    "duration": 178,
    "start_time": "2022-09-06T08:34:03.481Z"
   },
   {
    "duration": 181,
    "start_time": "2022-09-06T08:34:17.396Z"
   },
   {
    "duration": 7,
    "start_time": "2022-09-06T08:34:22.633Z"
   },
   {
    "duration": 7,
    "start_time": "2022-09-06T08:34:43.833Z"
   },
   {
    "duration": 135,
    "start_time": "2022-09-06T08:35:56.297Z"
   },
   {
    "duration": 172,
    "start_time": "2022-09-06T08:36:07.264Z"
   },
   {
    "duration": 167,
    "start_time": "2022-09-06T08:36:35.432Z"
   },
   {
    "duration": 199,
    "start_time": "2022-09-06T08:37:33.647Z"
   },
   {
    "duration": 350,
    "start_time": "2022-09-06T08:37:41.956Z"
   },
   {
    "duration": 205,
    "start_time": "2022-09-06T08:37:47.686Z"
   },
   {
    "duration": 322,
    "start_time": "2022-09-06T08:38:09.625Z"
   },
   {
    "duration": 317,
    "start_time": "2022-09-06T08:38:22.378Z"
   },
   {
    "duration": 212,
    "start_time": "2022-09-06T08:39:04.505Z"
   },
   {
    "duration": 8,
    "start_time": "2022-09-06T08:40:03.032Z"
   },
   {
    "duration": 94,
    "start_time": "2022-09-06T08:40:38.118Z"
   },
   {
    "duration": 142,
    "start_time": "2022-09-06T08:40:41.840Z"
   },
   {
    "duration": 122,
    "start_time": "2022-09-06T08:40:44.575Z"
   },
   {
    "duration": 107,
    "start_time": "2022-09-06T08:40:47.145Z"
   },
   {
    "duration": 117,
    "start_time": "2022-09-06T08:40:49.687Z"
   },
   {
    "duration": 104,
    "start_time": "2022-09-06T08:40:53.081Z"
   },
   {
    "duration": 110,
    "start_time": "2022-09-06T08:40:56.479Z"
   },
   {
    "duration": 181,
    "start_time": "2022-09-06T08:41:04.029Z"
   },
   {
    "duration": 227,
    "start_time": "2022-09-06T08:41:08.041Z"
   },
   {
    "duration": 226,
    "start_time": "2022-09-06T08:41:14.346Z"
   },
   {
    "duration": 161,
    "start_time": "2022-09-06T08:41:17.643Z"
   },
   {
    "duration": 220,
    "start_time": "2022-09-06T08:41:21.882Z"
   },
   {
    "duration": 156,
    "start_time": "2022-09-06T08:41:26.049Z"
   },
   {
    "duration": 8,
    "start_time": "2022-09-06T08:50:50.564Z"
   },
   {
    "duration": 180,
    "start_time": "2022-09-06T08:52:14.691Z"
   },
   {
    "duration": 194,
    "start_time": "2022-09-06T08:53:02.778Z"
   },
   {
    "duration": 198,
    "start_time": "2022-09-06T08:53:19.616Z"
   },
   {
    "duration": 82,
    "start_time": "2022-09-06T08:54:28.758Z"
   },
   {
    "duration": 451,
    "start_time": "2022-09-06T08:55:04.736Z"
   },
   {
    "duration": 207,
    "start_time": "2022-09-06T08:55:28.779Z"
   },
   {
    "duration": 213,
    "start_time": "2022-09-06T08:55:35.273Z"
   },
   {
    "duration": 227,
    "start_time": "2022-09-06T08:55:37.973Z"
   },
   {
    "duration": 170,
    "start_time": "2022-09-06T09:19:05.086Z"
   },
   {
    "duration": 77,
    "start_time": "2022-09-06T09:21:19.120Z"
   },
   {
    "duration": 9,
    "start_time": "2022-09-06T09:25:43.060Z"
   },
   {
    "duration": 5,
    "start_time": "2022-09-06T09:25:55.638Z"
   },
   {
    "duration": 36,
    "start_time": "2022-09-06T09:26:00.150Z"
   },
   {
    "duration": 8,
    "start_time": "2022-09-06T09:27:19.043Z"
   },
   {
    "duration": 90,
    "start_time": "2022-09-06T09:27:56.038Z"
   },
   {
    "duration": 8,
    "start_time": "2022-09-06T09:29:08.690Z"
   },
   {
    "duration": 11,
    "start_time": "2022-09-06T09:29:47.283Z"
   },
   {
    "duration": 9,
    "start_time": "2022-09-06T09:29:53.484Z"
   },
   {
    "duration": 10,
    "start_time": "2022-09-06T09:30:09.255Z"
   },
   {
    "duration": 7,
    "start_time": "2022-09-06T09:30:13.191Z"
   },
   {
    "duration": 6,
    "start_time": "2022-09-06T09:30:25.456Z"
   },
   {
    "duration": 6,
    "start_time": "2022-09-06T09:30:27.437Z"
   },
   {
    "duration": 8,
    "start_time": "2022-09-06T09:30:29.534Z"
   },
   {
    "duration": 8,
    "start_time": "2022-09-06T09:31:25.593Z"
   },
   {
    "duration": 8,
    "start_time": "2022-09-06T09:31:32.320Z"
   },
   {
    "duration": 8,
    "start_time": "2022-09-06T09:31:37.786Z"
   },
   {
    "duration": 14,
    "start_time": "2022-09-06T09:32:46.510Z"
   },
   {
    "duration": 9,
    "start_time": "2022-09-06T09:32:53.736Z"
   },
   {
    "duration": 202,
    "start_time": "2022-09-06T09:33:19.746Z"
   },
   {
    "duration": 10,
    "start_time": "2022-09-06T09:33:24.385Z"
   },
   {
    "duration": 180,
    "start_time": "2022-09-06T09:34:06.406Z"
   },
   {
    "duration": 7,
    "start_time": "2022-09-06T09:34:12.439Z"
   },
   {
    "duration": 8,
    "start_time": "2022-09-06T09:34:38.326Z"
   },
   {
    "duration": 8,
    "start_time": "2022-09-06T09:34:42.482Z"
   },
   {
    "duration": 7,
    "start_time": "2022-09-06T09:35:18.008Z"
   },
   {
    "duration": 8,
    "start_time": "2022-09-06T09:35:24.124Z"
   },
   {
    "duration": 8,
    "start_time": "2022-09-06T09:35:27.248Z"
   },
   {
    "duration": 6,
    "start_time": "2022-09-06T09:35:56.076Z"
   },
   {
    "duration": 11,
    "start_time": "2022-09-06T09:35:59.808Z"
   },
   {
    "duration": 9,
    "start_time": "2022-09-06T09:36:46.274Z"
   },
   {
    "duration": 4,
    "start_time": "2022-09-06T09:37:20.742Z"
   },
   {
    "duration": 6,
    "start_time": "2022-09-06T09:37:23.434Z"
   },
   {
    "duration": 14,
    "start_time": "2022-09-06T09:38:34.082Z"
   },
   {
    "duration": 12,
    "start_time": "2022-09-06T09:39:06.406Z"
   },
   {
    "duration": 103,
    "start_time": "2022-09-06T09:39:27.050Z"
   },
   {
    "duration": 87,
    "start_time": "2022-09-06T09:39:38.067Z"
   },
   {
    "duration": 109,
    "start_time": "2022-09-06T09:39:43.247Z"
   },
   {
    "duration": 7,
    "start_time": "2022-09-06T09:40:03.031Z"
   },
   {
    "duration": 8,
    "start_time": "2022-09-06T09:40:08.173Z"
   },
   {
    "duration": 5,
    "start_time": "2022-09-06T09:41:01.878Z"
   },
   {
    "duration": 9,
    "start_time": "2022-09-06T09:41:04.604Z"
   },
   {
    "duration": 5,
    "start_time": "2022-09-06T09:41:24.271Z"
   },
   {
    "duration": 9,
    "start_time": "2022-09-06T09:41:25.944Z"
   },
   {
    "duration": 5,
    "start_time": "2022-09-06T09:41:38.750Z"
   },
   {
    "duration": 3,
    "start_time": "2022-09-06T09:41:49.283Z"
   },
   {
    "duration": 10,
    "start_time": "2022-09-06T09:41:51.795Z"
   },
   {
    "duration": 5,
    "start_time": "2022-09-06T09:42:15.949Z"
   },
   {
    "duration": 10,
    "start_time": "2022-09-06T09:42:17.559Z"
   },
   {
    "duration": 4,
    "start_time": "2022-09-06T09:42:29.448Z"
   },
   {
    "duration": 11,
    "start_time": "2022-09-06T09:42:31.287Z"
   },
   {
    "duration": 17,
    "start_time": "2022-09-06T09:44:00.476Z"
   },
   {
    "duration": 4,
    "start_time": "2022-09-06T09:44:02.838Z"
   },
   {
    "duration": 5,
    "start_time": "2022-09-06T09:45:20.039Z"
   },
   {
    "duration": 9,
    "start_time": "2022-09-06T09:45:21.547Z"
   },
   {
    "duration": 11,
    "start_time": "2022-09-06T09:45:35.450Z"
   },
   {
    "duration": 8,
    "start_time": "2022-09-06T09:45:41.035Z"
   },
   {
    "duration": 10,
    "start_time": "2022-09-06T09:45:48.252Z"
   },
   {
    "duration": 9,
    "start_time": "2022-09-06T09:46:00.302Z"
   },
   {
    "duration": 13,
    "start_time": "2022-09-06T09:46:01.842Z"
   },
   {
    "duration": 9,
    "start_time": "2022-09-06T09:46:10.974Z"
   },
   {
    "duration": 3,
    "start_time": "2022-09-06T09:46:20.143Z"
   },
   {
    "duration": 84,
    "start_time": "2022-09-06T09:46:20.148Z"
   },
   {
    "duration": 18,
    "start_time": "2022-09-06T09:46:20.234Z"
   },
   {
    "duration": 4,
    "start_time": "2022-09-06T09:46:20.255Z"
   },
   {
    "duration": 54,
    "start_time": "2022-09-06T09:46:20.261Z"
   },
   {
    "duration": 28,
    "start_time": "2022-09-06T09:46:20.317Z"
   },
   {
    "duration": 15,
    "start_time": "2022-09-06T09:46:20.347Z"
   },
   {
    "duration": 19,
    "start_time": "2022-09-06T09:46:20.364Z"
   },
   {
    "duration": 19,
    "start_time": "2022-09-06T09:46:20.386Z"
   },
   {
    "duration": 23,
    "start_time": "2022-09-06T09:46:20.408Z"
   },
   {
    "duration": 18,
    "start_time": "2022-09-06T09:46:20.434Z"
   },
   {
    "duration": 24,
    "start_time": "2022-09-06T09:46:20.454Z"
   },
   {
    "duration": 32,
    "start_time": "2022-09-06T09:46:20.479Z"
   },
   {
    "duration": 20,
    "start_time": "2022-09-06T09:46:20.515Z"
   },
   {
    "duration": 18,
    "start_time": "2022-09-06T09:46:20.537Z"
   },
   {
    "duration": 142,
    "start_time": "2022-09-06T09:46:20.556Z"
   },
   {
    "duration": 123,
    "start_time": "2022-09-06T09:46:20.701Z"
   },
   {
    "duration": 135,
    "start_time": "2022-09-06T09:46:20.826Z"
   },
   {
    "duration": 122,
    "start_time": "2022-09-06T09:46:20.963Z"
   },
   {
    "duration": 151,
    "start_time": "2022-09-06T09:46:21.092Z"
   },
   {
    "duration": 246,
    "start_time": "2022-09-06T09:46:21.245Z"
   },
   {
    "duration": 121,
    "start_time": "2022-09-06T09:46:21.493Z"
   },
   {
    "duration": 5,
    "start_time": "2022-09-06T09:46:21.616Z"
   },
   {
    "duration": 24,
    "start_time": "2022-09-06T09:46:21.623Z"
   },
   {
    "duration": 250,
    "start_time": "2022-09-06T09:46:21.649Z"
   },
   {
    "duration": 13,
    "start_time": "2022-09-06T09:46:21.902Z"
   },
   {
    "duration": 29,
    "start_time": "2022-09-06T09:46:21.919Z"
   },
   {
    "duration": 32,
    "start_time": "2022-09-06T09:46:21.951Z"
   },
   {
    "duration": 351,
    "start_time": "2022-09-06T09:46:21.986Z"
   },
   {
    "duration": 9,
    "start_time": "2022-09-06T09:46:22.339Z"
   },
   {
    "duration": 7,
    "start_time": "2022-09-06T09:46:22.350Z"
   },
   {
    "duration": 6,
    "start_time": "2022-09-06T09:46:22.359Z"
   },
   {
    "duration": 31,
    "start_time": "2022-09-06T09:46:22.367Z"
   },
   {
    "duration": 261,
    "start_time": "2022-09-06T09:46:22.400Z"
   },
   {
    "duration": 171,
    "start_time": "2022-09-06T09:46:22.663Z"
   },
   {
    "duration": 11,
    "start_time": "2022-09-06T09:46:22.836Z"
   },
   {
    "duration": 15,
    "start_time": "2022-09-06T09:46:22.849Z"
   },
   {
    "duration": 31,
    "start_time": "2022-09-06T09:46:22.866Z"
   },
   {
    "duration": 171,
    "start_time": "2022-09-06T09:46:22.899Z"
   },
   {
    "duration": 21,
    "start_time": "2022-09-06T09:46:23.071Z"
   },
   {
    "duration": 175,
    "start_time": "2022-09-06T09:46:23.096Z"
   },
   {
    "duration": 20,
    "start_time": "2022-09-06T09:46:23.273Z"
   },
   {
    "duration": 10,
    "start_time": "2022-09-06T09:46:23.295Z"
   },
   {
    "duration": 192,
    "start_time": "2022-09-06T09:46:23.307Z"
   },
   {
    "duration": 8,
    "start_time": "2022-09-06T09:46:23.501Z"
   },
   {
    "duration": 234,
    "start_time": "2022-09-06T09:46:23.515Z"
   },
   {
    "duration": 8,
    "start_time": "2022-09-06T09:46:23.751Z"
   },
   {
    "duration": 12,
    "start_time": "2022-09-06T09:46:23.761Z"
   },
   {
    "duration": 9,
    "start_time": "2022-09-06T09:46:26.285Z"
   },
   {
    "duration": 6,
    "start_time": "2022-09-06T10:09:38.462Z"
   },
   {
    "duration": 5,
    "start_time": "2022-09-06T10:09:38.868Z"
   },
   {
    "duration": 9,
    "start_time": "2022-09-06T10:09:39.223Z"
   },
   {
    "duration": 84,
    "start_time": "2022-09-06T10:15:16.726Z"
   },
   {
    "duration": 10,
    "start_time": "2022-09-06T10:15:46.671Z"
   },
   {
    "duration": 8,
    "start_time": "2022-09-06T10:15:50.336Z"
   },
   {
    "duration": 5,
    "start_time": "2022-09-06T10:16:12.718Z"
   },
   {
    "duration": 8,
    "start_time": "2022-09-06T10:16:14.665Z"
   },
   {
    "duration": 6,
    "start_time": "2022-09-06T10:21:33.121Z"
   },
   {
    "duration": 115,
    "start_time": "2022-09-06T10:22:28.693Z"
   },
   {
    "duration": 347,
    "start_time": "2022-09-06T10:24:55.193Z"
   },
   {
    "duration": 8,
    "start_time": "2022-09-06T10:25:02.760Z"
   },
   {
    "duration": 10,
    "start_time": "2022-09-06T10:25:13.170Z"
   },
   {
    "duration": 10,
    "start_time": "2022-09-06T10:25:16.203Z"
   },
   {
    "duration": 13,
    "start_time": "2022-09-06T10:27:05.467Z"
   },
   {
    "duration": 8,
    "start_time": "2022-09-06T10:27:07.633Z"
   },
   {
    "duration": 7,
    "start_time": "2022-09-06T10:28:08.943Z"
   },
   {
    "duration": 10,
    "start_time": "2022-09-06T10:28:11.986Z"
   },
   {
    "duration": 9,
    "start_time": "2022-09-06T10:28:19.484Z"
   },
   {
    "duration": 7,
    "start_time": "2022-09-06T10:28:19.867Z"
   },
   {
    "duration": 5,
    "start_time": "2022-09-06T10:28:26.349Z"
   },
   {
    "duration": 11,
    "start_time": "2022-09-06T10:28:26.692Z"
   },
   {
    "duration": 5,
    "start_time": "2022-09-06T10:28:44.730Z"
   },
   {
    "duration": 7,
    "start_time": "2022-09-06T10:28:46.147Z"
   },
   {
    "duration": 217,
    "start_time": "2022-09-06T10:35:50.160Z"
   },
   {
    "duration": 6,
    "start_time": "2022-09-06T10:36:54.888Z"
   },
   {
    "duration": 2874,
    "start_time": "2022-09-06T10:36:55.302Z"
   },
   {
    "duration": 0,
    "start_time": "2022-09-06T10:36:58.179Z"
   },
   {
    "duration": 7,
    "start_time": "2022-09-06T10:37:15.686Z"
   },
   {
    "duration": 7,
    "start_time": "2022-09-06T10:37:17.741Z"
   },
   {
    "duration": 7,
    "start_time": "2022-09-06T10:37:58.784Z"
   },
   {
    "duration": 6,
    "start_time": "2022-09-06T10:37:59.201Z"
   },
   {
    "duration": 8,
    "start_time": "2022-09-06T10:37:59.662Z"
   },
   {
    "duration": 6,
    "start_time": "2022-09-06T10:38:36.785Z"
   },
   {
    "duration": 6,
    "start_time": "2022-09-06T10:38:37.214Z"
   },
   {
    "duration": 8,
    "start_time": "2022-09-06T10:38:37.715Z"
   },
   {
    "duration": 8,
    "start_time": "2022-09-06T10:38:42.475Z"
   },
   {
    "duration": 8,
    "start_time": "2022-09-06T10:59:42.981Z"
   },
   {
    "duration": 5,
    "start_time": "2022-09-06T10:59:43.493Z"
   },
   {
    "duration": 9,
    "start_time": "2022-09-06T10:59:43.972Z"
   },
   {
    "duration": 8,
    "start_time": "2022-09-06T11:12:29.168Z"
   },
   {
    "duration": 6,
    "start_time": "2022-09-06T11:12:36.160Z"
   },
   {
    "duration": 6,
    "start_time": "2022-09-06T11:12:36.551Z"
   },
   {
    "duration": 8,
    "start_time": "2022-09-06T11:12:36.971Z"
   },
   {
    "duration": 7,
    "start_time": "2022-09-06T11:17:49.623Z"
   },
   {
    "duration": 5,
    "start_time": "2022-09-06T11:17:49.921Z"
   },
   {
    "duration": 7,
    "start_time": "2022-09-06T11:17:50.368Z"
   },
   {
    "duration": 6,
    "start_time": "2022-09-06T11:19:54.073Z"
   },
   {
    "duration": 5,
    "start_time": "2022-09-06T11:19:54.244Z"
   },
   {
    "duration": 8,
    "start_time": "2022-09-06T11:19:54.443Z"
   },
   {
    "duration": 84,
    "start_time": "2022-09-06T11:22:02.636Z"
   },
   {
    "duration": 12,
    "start_time": "2022-09-06T11:35:15.935Z"
   },
   {
    "duration": 7,
    "start_time": "2022-09-06T11:35:27.951Z"
   },
   {
    "duration": 24,
    "start_time": "2022-09-06T11:35:37.041Z"
   },
   {
    "duration": 9,
    "start_time": "2022-09-06T11:35:54.772Z"
   },
   {
    "duration": 8,
    "start_time": "2022-09-06T11:36:02.276Z"
   },
   {
    "duration": 12,
    "start_time": "2022-09-06T11:36:33.279Z"
   },
   {
    "duration": 8,
    "start_time": "2022-09-06T11:36:44.946Z"
   },
   {
    "duration": 7,
    "start_time": "2022-09-06T11:36:50.379Z"
   },
   {
    "duration": 26,
    "start_time": "2022-09-06T11:36:54.084Z"
   },
   {
    "duration": 9,
    "start_time": "2022-09-06T11:37:06.876Z"
   },
   {
    "duration": 11,
    "start_time": "2022-09-06T11:37:12.526Z"
   },
   {
    "duration": 13,
    "start_time": "2022-09-06T11:37:14.822Z"
   },
   {
    "duration": 7,
    "start_time": "2022-09-06T11:37:24.886Z"
   },
   {
    "duration": 6,
    "start_time": "2022-09-06T11:37:26.471Z"
   },
   {
    "duration": 13,
    "start_time": "2022-09-06T11:38:17.889Z"
   },
   {
    "duration": 518,
    "start_time": "2022-09-06T11:39:06.972Z"
   },
   {
    "duration": 8,
    "start_time": "2022-09-06T11:39:07.823Z"
   },
   {
    "duration": 9,
    "start_time": "2022-09-06T11:39:08.267Z"
   },
   {
    "duration": 7,
    "start_time": "2022-09-06T11:39:08.772Z"
   },
   {
    "duration": 7,
    "start_time": "2022-09-06T11:39:24.840Z"
   },
   {
    "duration": 6,
    "start_time": "2022-09-06T11:39:27.210Z"
   },
   {
    "duration": 7,
    "start_time": "2022-09-06T11:39:29.264Z"
   },
   {
    "duration": 555,
    "start_time": "2022-09-06T11:40:10.205Z"
   },
   {
    "duration": 95,
    "start_time": "2022-09-06T11:40:10.762Z"
   },
   {
    "duration": 16,
    "start_time": "2022-09-06T11:40:10.859Z"
   },
   {
    "duration": 11,
    "start_time": "2022-09-06T11:40:10.877Z"
   },
   {
    "duration": 43,
    "start_time": "2022-09-06T11:40:10.890Z"
   },
   {
    "duration": 32,
    "start_time": "2022-09-06T11:40:10.934Z"
   },
   {
    "duration": 39,
    "start_time": "2022-09-06T11:40:10.968Z"
   },
   {
    "duration": 30,
    "start_time": "2022-09-06T11:40:11.008Z"
   },
   {
    "duration": 13,
    "start_time": "2022-09-06T11:40:11.040Z"
   },
   {
    "duration": 38,
    "start_time": "2022-09-06T11:40:11.056Z"
   },
   {
    "duration": 482,
    "start_time": "2022-09-06T11:40:11.096Z"
   },
   {
    "duration": 21,
    "start_time": "2022-09-06T11:40:11.580Z"
   },
   {
    "duration": 20,
    "start_time": "2022-09-06T11:40:11.603Z"
   },
   {
    "duration": 25,
    "start_time": "2022-09-06T11:40:11.625Z"
   },
   {
    "duration": 49,
    "start_time": "2022-09-06T11:40:11.653Z"
   },
   {
    "duration": 142,
    "start_time": "2022-09-06T11:40:11.704Z"
   },
   {
    "duration": 184,
    "start_time": "2022-09-06T11:40:11.849Z"
   },
   {
    "duration": 150,
    "start_time": "2022-09-06T11:40:12.035Z"
   },
   {
    "duration": 184,
    "start_time": "2022-09-06T11:40:12.187Z"
   },
   {
    "duration": 128,
    "start_time": "2022-09-06T11:40:12.373Z"
   },
   {
    "duration": 134,
    "start_time": "2022-09-06T11:40:12.504Z"
   },
   {
    "duration": 133,
    "start_time": "2022-09-06T11:40:12.641Z"
   },
   {
    "duration": 5,
    "start_time": "2022-09-06T11:40:12.776Z"
   },
   {
    "duration": 21,
    "start_time": "2022-09-06T11:40:12.792Z"
   },
   {
    "duration": 207,
    "start_time": "2022-09-06T11:40:12.815Z"
   },
   {
    "duration": 6,
    "start_time": "2022-09-06T11:40:13.024Z"
   },
   {
    "duration": 33,
    "start_time": "2022-09-06T11:40:13.032Z"
   },
   {
    "duration": 14,
    "start_time": "2022-09-06T11:40:13.069Z"
   },
   {
    "duration": 302,
    "start_time": "2022-09-06T11:40:13.085Z"
   },
   {
    "duration": 6,
    "start_time": "2022-09-06T11:40:13.389Z"
   },
   {
    "duration": 6,
    "start_time": "2022-09-06T11:40:13.397Z"
   },
   {
    "duration": 5,
    "start_time": "2022-09-06T11:40:13.405Z"
   },
   {
    "duration": 10,
    "start_time": "2022-09-06T11:40:13.412Z"
   },
   {
    "duration": 261,
    "start_time": "2022-09-06T11:40:13.424Z"
   },
   {
    "duration": 175,
    "start_time": "2022-09-06T11:40:13.693Z"
   },
   {
    "duration": 26,
    "start_time": "2022-09-06T11:40:13.870Z"
   },
   {
    "duration": 34,
    "start_time": "2022-09-06T11:40:13.898Z"
   },
   {
    "duration": 18,
    "start_time": "2022-09-06T11:40:13.935Z"
   },
   {
    "duration": 183,
    "start_time": "2022-09-06T11:40:13.956Z"
   },
   {
    "duration": 11,
    "start_time": "2022-09-06T11:40:14.141Z"
   },
   {
    "duration": 184,
    "start_time": "2022-09-06T11:40:14.154Z"
   },
   {
    "duration": 11,
    "start_time": "2022-09-06T11:40:14.341Z"
   },
   {
    "duration": 12,
    "start_time": "2022-09-06T11:40:14.354Z"
   },
   {
    "duration": 207,
    "start_time": "2022-09-06T11:40:14.367Z"
   },
   {
    "duration": 20,
    "start_time": "2022-09-06T11:40:14.576Z"
   },
   {
    "duration": 299,
    "start_time": "2022-09-06T11:40:14.598Z"
   },
   {
    "duration": 7,
    "start_time": "2022-09-06T11:40:14.900Z"
   },
   {
    "duration": 10,
    "start_time": "2022-09-06T11:40:14.909Z"
   },
   {
    "duration": 15,
    "start_time": "2022-09-06T11:40:14.921Z"
   },
   {
    "duration": 12,
    "start_time": "2022-09-06T11:40:14.937Z"
   },
   {
    "duration": 10,
    "start_time": "2022-09-06T11:40:14.950Z"
   },
   {
    "duration": 12,
    "start_time": "2022-09-06T11:40:14.962Z"
   },
   {
    "duration": 19,
    "start_time": "2022-09-06T11:40:14.976Z"
   },
   {
    "duration": 9,
    "start_time": "2022-09-06T11:40:14.996Z"
   },
   {
    "duration": 26,
    "start_time": "2022-09-06T11:40:15.007Z"
   },
   {
    "duration": 29,
    "start_time": "2022-09-06T11:40:15.035Z"
   },
   {
    "duration": 11,
    "start_time": "2022-09-06T11:40:15.066Z"
   },
   {
    "duration": 17,
    "start_time": "2022-09-06T11:40:15.079Z"
   },
   {
    "duration": 10,
    "start_time": "2022-09-06T11:40:15.097Z"
   },
   {
    "duration": 16,
    "start_time": "2022-09-06T11:40:15.108Z"
   },
   {
    "duration": 16,
    "start_time": "2022-09-06T11:40:15.126Z"
   },
   {
    "duration": 15,
    "start_time": "2022-09-06T11:40:15.144Z"
   },
   {
    "duration": 16,
    "start_time": "2022-09-06T11:40:15.160Z"
   },
   {
    "duration": 15,
    "start_time": "2022-09-06T11:40:15.177Z"
   },
   {
    "duration": 8,
    "start_time": "2022-09-06T11:40:15.194Z"
   },
   {
    "duration": 8,
    "start_time": "2022-09-06T11:40:15.204Z"
   },
   {
    "duration": 13,
    "start_time": "2022-09-06T11:40:15.214Z"
   },
   {
    "duration": 7,
    "start_time": "2022-09-06T11:40:15.228Z"
   },
   {
    "duration": 10,
    "start_time": "2022-09-06T11:40:15.237Z"
   },
   {
    "duration": 12,
    "start_time": "2022-09-06T11:40:15.249Z"
   },
   {
    "duration": 36,
    "start_time": "2022-09-06T11:40:15.263Z"
   },
   {
    "duration": 9,
    "start_time": "2022-09-06T11:40:15.302Z"
   },
   {
    "duration": 17,
    "start_time": "2022-09-06T11:40:15.313Z"
   },
   {
    "duration": 684,
    "start_time": "2022-09-06T11:40:15.332Z"
   },
   {
    "duration": 10,
    "start_time": "2022-09-06T11:40:16.021Z"
   },
   {
    "duration": 23,
    "start_time": "2022-09-06T11:40:16.033Z"
   },
   {
    "duration": 11,
    "start_time": "2022-09-06T11:40:16.058Z"
   },
   {
    "duration": 8,
    "start_time": "2022-09-06T11:40:23.003Z"
   },
   {
    "duration": 8,
    "start_time": "2022-09-06T11:40:24.297Z"
   },
   {
    "duration": 7,
    "start_time": "2022-09-06T11:40:38.629Z"
   },
   {
    "duration": 5,
    "start_time": "2022-09-06T11:40:40.072Z"
   },
   {
    "duration": 5,
    "start_time": "2022-09-06T11:42:40.973Z"
   },
   {
    "duration": 5,
    "start_time": "2022-09-06T11:43:37.239Z"
   },
   {
    "duration": 6,
    "start_time": "2022-09-06T11:43:37.670Z"
   },
   {
    "duration": 5,
    "start_time": "2022-09-06T11:43:38.103Z"
   },
   {
    "duration": 5,
    "start_time": "2022-09-06T11:43:46.444Z"
   },
   {
    "duration": 5,
    "start_time": "2022-09-06T11:43:53.712Z"
   },
   {
    "duration": 6,
    "start_time": "2022-09-06T11:44:11.094Z"
   },
   {
    "duration": 6,
    "start_time": "2022-09-06T11:44:11.419Z"
   },
   {
    "duration": 7,
    "start_time": "2022-09-06T11:44:11.855Z"
   },
   {
    "duration": 5,
    "start_time": "2022-09-06T11:46:05.279Z"
   },
   {
    "duration": 6,
    "start_time": "2022-09-06T11:46:05.535Z"
   },
   {
    "duration": 122,
    "start_time": "2022-09-06T11:46:05.735Z"
   },
   {
    "duration": 16,
    "start_time": "2022-09-06T11:46:12.344Z"
   },
   {
    "duration": 8,
    "start_time": "2022-09-06T11:46:58.390Z"
   },
   {
    "duration": 6,
    "start_time": "2022-09-06T11:47:25.762Z"
   },
   {
    "duration": 6,
    "start_time": "2022-09-06T11:47:26.218Z"
   },
   {
    "duration": 5,
    "start_time": "2022-09-06T11:47:27.069Z"
   },
   {
    "duration": 5,
    "start_time": "2022-09-06T11:48:31.527Z"
   },
   {
    "duration": 5,
    "start_time": "2022-09-06T11:48:34.428Z"
   },
   {
    "duration": 6,
    "start_time": "2022-09-06T11:48:37.730Z"
   },
   {
    "duration": 6,
    "start_time": "2022-09-06T11:48:38.048Z"
   },
   {
    "duration": 6,
    "start_time": "2022-09-06T11:48:38.468Z"
   },
   {
    "duration": 5,
    "start_time": "2022-09-06T11:48:54.629Z"
   },
   {
    "duration": 9,
    "start_time": "2022-09-06T11:50:04.225Z"
   },
   {
    "duration": 13,
    "start_time": "2022-09-06T11:50:15.945Z"
   },
   {
    "duration": 5,
    "start_time": "2022-09-06T11:50:25.833Z"
   },
   {
    "duration": 12,
    "start_time": "2022-09-06T11:50:52.198Z"
   },
   {
    "duration": 7,
    "start_time": "2022-09-06T11:51:48.089Z"
   },
   {
    "duration": 6,
    "start_time": "2022-09-06T11:51:48.595Z"
   },
   {
    "duration": 6,
    "start_time": "2022-09-06T11:52:20.503Z"
   },
   {
    "duration": 6,
    "start_time": "2022-09-06T11:52:20.885Z"
   },
   {
    "duration": 5,
    "start_time": "2022-09-06T11:52:21.388Z"
   },
   {
    "duration": 7,
    "start_time": "2022-09-06T11:52:24.424Z"
   },
   {
    "duration": 3,
    "start_time": "2022-09-06T11:52:33.191Z"
   },
   {
    "duration": 6,
    "start_time": "2022-09-06T11:52:33.832Z"
   },
   {
    "duration": 7,
    "start_time": "2022-09-06T11:52:34.180Z"
   },
   {
    "duration": 5,
    "start_time": "2022-09-06T11:52:34.627Z"
   },
   {
    "duration": 6,
    "start_time": "2022-09-06T11:53:32.964Z"
   },
   {
    "duration": 6,
    "start_time": "2022-09-06T11:53:33.204Z"
   },
   {
    "duration": 4,
    "start_time": "2022-09-06T11:53:33.619Z"
   },
   {
    "duration": 7,
    "start_time": "2022-09-06T11:54:58.946Z"
   },
   {
    "duration": 7,
    "start_time": "2022-09-06T11:54:59.333Z"
   },
   {
    "duration": 6,
    "start_time": "2022-09-06T11:54:59.740Z"
   },
   {
    "duration": 3,
    "start_time": "2022-09-06T11:55:04.492Z"
   },
   {
    "duration": 70,
    "start_time": "2022-09-06T11:55:04.497Z"
   },
   {
    "duration": 16,
    "start_time": "2022-09-06T11:55:04.570Z"
   },
   {
    "duration": 11,
    "start_time": "2022-09-06T11:55:04.589Z"
   },
   {
    "duration": 33,
    "start_time": "2022-09-06T11:55:04.602Z"
   },
   {
    "duration": 13,
    "start_time": "2022-09-06T11:55:04.637Z"
   },
   {
    "duration": 15,
    "start_time": "2022-09-06T11:55:04.652Z"
   },
   {
    "duration": 24,
    "start_time": "2022-09-06T11:55:04.669Z"
   },
   {
    "duration": 9,
    "start_time": "2022-09-06T11:55:04.694Z"
   },
   {
    "duration": 31,
    "start_time": "2022-09-06T11:55:04.705Z"
   },
   {
    "duration": 17,
    "start_time": "2022-09-06T11:55:04.739Z"
   },
   {
    "duration": 39,
    "start_time": "2022-09-06T11:55:04.758Z"
   },
   {
    "duration": 27,
    "start_time": "2022-09-06T11:55:04.799Z"
   },
   {
    "duration": 30,
    "start_time": "2022-09-06T11:55:04.828Z"
   },
   {
    "duration": 50,
    "start_time": "2022-09-06T11:55:04.860Z"
   },
   {
    "duration": 127,
    "start_time": "2022-09-06T11:55:04.912Z"
   },
   {
    "duration": 126,
    "start_time": "2022-09-06T11:55:05.041Z"
   },
   {
    "duration": 140,
    "start_time": "2022-09-06T11:55:05.169Z"
   },
   {
    "duration": 122,
    "start_time": "2022-09-06T11:55:05.311Z"
   },
   {
    "duration": 207,
    "start_time": "2022-09-06T11:55:05.435Z"
   },
   {
    "duration": 124,
    "start_time": "2022-09-06T11:55:05.644Z"
   },
   {
    "duration": 121,
    "start_time": "2022-09-06T11:55:05.770Z"
   },
   {
    "duration": 5,
    "start_time": "2022-09-06T11:55:05.894Z"
   },
   {
    "duration": 31,
    "start_time": "2022-09-06T11:55:05.901Z"
   },
   {
    "duration": 214,
    "start_time": "2022-09-06T11:55:05.934Z"
   },
   {
    "duration": 6,
    "start_time": "2022-09-06T11:55:06.150Z"
   },
   {
    "duration": 6,
    "start_time": "2022-09-06T11:55:06.158Z"
   },
   {
    "duration": 37,
    "start_time": "2022-09-06T11:55:06.166Z"
   },
   {
    "duration": 256,
    "start_time": "2022-09-06T11:55:06.207Z"
   },
   {
    "duration": 6,
    "start_time": "2022-09-06T11:55:06.465Z"
   },
   {
    "duration": 20,
    "start_time": "2022-09-06T11:55:06.473Z"
   },
   {
    "duration": 9,
    "start_time": "2022-09-06T11:55:06.495Z"
   },
   {
    "duration": 15,
    "start_time": "2022-09-06T11:55:06.506Z"
   },
   {
    "duration": 245,
    "start_time": "2022-09-06T11:55:06.523Z"
   },
   {
    "duration": 196,
    "start_time": "2022-09-06T11:55:06.770Z"
   },
   {
    "duration": 13,
    "start_time": "2022-09-06T11:55:06.967Z"
   },
   {
    "duration": 22,
    "start_time": "2022-09-06T11:55:06.981Z"
   },
   {
    "duration": 15,
    "start_time": "2022-09-06T11:55:07.005Z"
   },
   {
    "duration": 175,
    "start_time": "2022-09-06T11:55:07.022Z"
   },
   {
    "duration": 10,
    "start_time": "2022-09-06T11:55:07.199Z"
   },
   {
    "duration": 185,
    "start_time": "2022-09-06T11:55:07.211Z"
   },
   {
    "duration": 12,
    "start_time": "2022-09-06T11:55:07.398Z"
   },
   {
    "duration": 17,
    "start_time": "2022-09-06T11:55:07.412Z"
   },
   {
    "duration": 195,
    "start_time": "2022-09-06T11:55:07.431Z"
   },
   {
    "duration": 9,
    "start_time": "2022-09-06T11:55:07.628Z"
   },
   {
    "duration": 225,
    "start_time": "2022-09-06T11:55:07.639Z"
   },
   {
    "duration": 7,
    "start_time": "2022-09-06T11:55:07.866Z"
   },
   {
    "duration": 17,
    "start_time": "2022-09-06T11:55:07.874Z"
   },
   {
    "duration": 11,
    "start_time": "2022-09-06T11:55:07.893Z"
   },
   {
    "duration": 14,
    "start_time": "2022-09-06T11:55:07.905Z"
   },
   {
    "duration": 6,
    "start_time": "2022-09-06T11:55:07.921Z"
   },
   {
    "duration": 11,
    "start_time": "2022-09-06T11:55:07.929Z"
   },
   {
    "duration": 13,
    "start_time": "2022-09-06T11:55:07.942Z"
   },
   {
    "duration": 9,
    "start_time": "2022-09-06T11:55:07.958Z"
   },
   {
    "duration": 24,
    "start_time": "2022-09-06T11:55:07.969Z"
   },
   {
    "duration": 7,
    "start_time": "2022-09-06T11:55:07.994Z"
   },
   {
    "duration": 7,
    "start_time": "2022-09-06T11:55:08.003Z"
   },
   {
    "duration": 15,
    "start_time": "2022-09-06T11:55:08.012Z"
   },
   {
    "duration": 8,
    "start_time": "2022-09-06T11:55:08.029Z"
   },
   {
    "duration": 10,
    "start_time": "2022-09-06T11:55:08.039Z"
   },
   {
    "duration": 12,
    "start_time": "2022-09-06T11:55:08.050Z"
   },
   {
    "duration": 125,
    "start_time": "2022-09-06T11:55:08.063Z"
   },
   {
    "duration": 5,
    "start_time": "2022-09-06T11:55:08.191Z"
   },
   {
    "duration": 12,
    "start_time": "2022-09-06T11:55:08.198Z"
   },
   {
    "duration": 10,
    "start_time": "2022-09-06T11:55:08.212Z"
   },
   {
    "duration": 7,
    "start_time": "2022-09-06T11:55:08.224Z"
   },
   {
    "duration": 13,
    "start_time": "2022-09-06T11:55:08.233Z"
   },
   {
    "duration": 9,
    "start_time": "2022-09-06T11:55:08.248Z"
   },
   {
    "duration": 9,
    "start_time": "2022-09-06T11:55:08.259Z"
   },
   {
    "duration": 23,
    "start_time": "2022-09-06T11:55:08.270Z"
   },
   {
    "duration": 11,
    "start_time": "2022-09-06T11:55:08.295Z"
   },
   {
    "duration": 15,
    "start_time": "2022-09-06T11:55:08.308Z"
   },
   {
    "duration": 15,
    "start_time": "2022-09-06T11:55:08.325Z"
   },
   {
    "duration": 7,
    "start_time": "2022-09-06T11:55:08.341Z"
   },
   {
    "duration": 8,
    "start_time": "2022-09-06T11:55:08.350Z"
   },
   {
    "duration": 9,
    "start_time": "2022-09-06T11:55:08.360Z"
   },
   {
    "duration": 21,
    "start_time": "2022-09-06T11:55:08.371Z"
   },
   {
    "duration": 8,
    "start_time": "2022-09-06T11:55:11.997Z"
   },
   {
    "duration": 7,
    "start_time": "2022-09-06T11:55:12.300Z"
   },
   {
    "duration": 5,
    "start_time": "2022-09-06T11:55:12.665Z"
   },
   {
    "duration": 7,
    "start_time": "2022-09-06T11:55:46.198Z"
   },
   {
    "duration": 8,
    "start_time": "2022-09-06T11:55:55.986Z"
   },
   {
    "duration": 5,
    "start_time": "2022-09-06T11:56:13.088Z"
   },
   {
    "duration": 6,
    "start_time": "2022-09-06T11:56:17.517Z"
   },
   {
    "duration": 7,
    "start_time": "2022-09-06T11:56:17.881Z"
   },
   {
    "duration": 5,
    "start_time": "2022-09-06T11:56:18.247Z"
   },
   {
    "duration": 5,
    "start_time": "2022-09-06T11:56:23.016Z"
   },
   {
    "duration": 9,
    "start_time": "2022-09-06T11:56:23.365Z"
   },
   {
    "duration": 8,
    "start_time": "2022-09-06T11:56:25.287Z"
   },
   {
    "duration": 8,
    "start_time": "2022-09-06T11:56:25.486Z"
   },
   {
    "duration": 6,
    "start_time": "2022-09-06T11:56:25.844Z"
   },
   {
    "duration": 10,
    "start_time": "2022-09-06T11:56:26.619Z"
   },
   {
    "duration": 7,
    "start_time": "2022-09-06T11:56:27.100Z"
   },
   {
    "duration": 6,
    "start_time": "2022-09-06T11:56:37.977Z"
   },
   {
    "duration": 9,
    "start_time": "2022-09-06T11:56:38.971Z"
   },
   {
    "duration": 4,
    "start_time": "2022-09-06T11:56:40.598Z"
   },
   {
    "duration": 7,
    "start_time": "2022-09-06T11:56:43.753Z"
   },
   {
    "duration": 8,
    "start_time": "2022-09-06T11:56:44.083Z"
   },
   {
    "duration": 7,
    "start_time": "2022-09-06T11:56:44.423Z"
   },
   {
    "duration": 5,
    "start_time": "2022-09-06T11:57:21.603Z"
   },
   {
    "duration": 9,
    "start_time": "2022-09-06T11:57:22.020Z"
   },
   {
    "duration": 6,
    "start_time": "2022-09-06T11:57:26.222Z"
   },
   {
    "duration": 9,
    "start_time": "2022-09-06T11:57:26.675Z"
   },
   {
    "duration": 8,
    "start_time": "2022-09-06T11:57:28.503Z"
   },
   {
    "duration": 9,
    "start_time": "2022-09-06T11:57:28.686Z"
   },
   {
    "duration": 6,
    "start_time": "2022-09-06T11:57:28.988Z"
   },
   {
    "duration": 9,
    "start_time": "2022-09-06T11:57:47.512Z"
   },
   {
    "duration": 8,
    "start_time": "2022-09-06T11:57:48.007Z"
   },
   {
    "duration": 8,
    "start_time": "2022-09-06T11:58:27.696Z"
   },
   {
    "duration": 7,
    "start_time": "2022-09-06T11:58:28.018Z"
   },
   {
    "duration": 6,
    "start_time": "2022-09-06T11:58:28.399Z"
   },
   {
    "duration": 6,
    "start_time": "2022-09-06T12:02:00.072Z"
   },
   {
    "duration": 9,
    "start_time": "2022-09-06T12:02:03.128Z"
   },
   {
    "duration": 9,
    "start_time": "2022-09-06T12:02:05.160Z"
   },
   {
    "duration": 155,
    "start_time": "2022-09-06T12:04:49.877Z"
   },
   {
    "duration": 83,
    "start_time": "2022-09-06T12:07:59.554Z"
   },
   {
    "duration": 9,
    "start_time": "2022-09-06T12:30:49.991Z"
   },
   {
    "duration": 7,
    "start_time": "2022-09-06T12:31:02.323Z"
   },
   {
    "duration": 7,
    "start_time": "2022-09-06T12:31:13.263Z"
   },
   {
    "duration": 6,
    "start_time": "2022-09-06T12:31:42.866Z"
   },
   {
    "duration": 6,
    "start_time": "2022-09-06T12:31:54.404Z"
   },
   {
    "duration": 6,
    "start_time": "2022-09-06T12:31:54.643Z"
   },
   {
    "duration": 5,
    "start_time": "2022-09-06T12:32:09.055Z"
   },
   {
    "duration": 7,
    "start_time": "2022-09-06T12:32:31.332Z"
   },
   {
    "duration": 8,
    "start_time": "2022-09-06T12:32:45.627Z"
   },
   {
    "duration": 111,
    "start_time": "2022-09-06T12:33:42.320Z"
   },
   {
    "duration": 155,
    "start_time": "2022-09-06T12:35:51.355Z"
   },
   {
    "duration": 88,
    "start_time": "2022-09-06T12:48:42.857Z"
   },
   {
    "duration": 185,
    "start_time": "2022-09-06T13:52:27.825Z"
   },
   {
    "duration": 15,
    "start_time": "2022-09-06T14:02:33.457Z"
   },
   {
    "duration": 432,
    "start_time": "2022-09-06T14:10:05.544Z"
   },
   {
    "duration": 73,
    "start_time": "2022-09-06T14:10:05.978Z"
   },
   {
    "duration": 17,
    "start_time": "2022-09-06T14:10:06.053Z"
   },
   {
    "duration": 9,
    "start_time": "2022-09-06T14:10:06.072Z"
   },
   {
    "duration": 34,
    "start_time": "2022-09-06T14:10:06.083Z"
   },
   {
    "duration": 28,
    "start_time": "2022-09-06T14:10:06.119Z"
   },
   {
    "duration": 5,
    "start_time": "2022-09-06T14:10:06.148Z"
   },
   {
    "duration": 14,
    "start_time": "2022-09-06T14:10:06.154Z"
   },
   {
    "duration": 27,
    "start_time": "2022-09-06T14:10:06.170Z"
   },
   {
    "duration": 12,
    "start_time": "2022-09-06T14:10:06.200Z"
   },
   {
    "duration": 49,
    "start_time": "2022-09-06T14:10:06.214Z"
   },
   {
    "duration": 321,
    "start_time": "2022-09-06T14:10:06.264Z"
   },
   {
    "duration": 27,
    "start_time": "2022-09-06T14:10:06.587Z"
   },
   {
    "duration": 25,
    "start_time": "2022-09-06T14:10:06.616Z"
   },
   {
    "duration": 19,
    "start_time": "2022-09-06T14:10:06.643Z"
   },
   {
    "duration": 40,
    "start_time": "2022-09-06T14:10:06.663Z"
   },
   {
    "duration": 125,
    "start_time": "2022-09-06T14:10:06.706Z"
   },
   {
    "duration": 124,
    "start_time": "2022-09-06T14:10:06.833Z"
   },
   {
    "duration": 136,
    "start_time": "2022-09-06T14:10:06.959Z"
   },
   {
    "duration": 180,
    "start_time": "2022-09-06T14:10:07.097Z"
   },
   {
    "duration": 138,
    "start_time": "2022-09-06T14:10:07.279Z"
   },
   {
    "duration": 134,
    "start_time": "2022-09-06T14:10:07.419Z"
   },
   {
    "duration": 132,
    "start_time": "2022-09-06T14:10:07.555Z"
   },
   {
    "duration": 8,
    "start_time": "2022-09-06T14:10:07.692Z"
   },
   {
    "duration": 58,
    "start_time": "2022-09-06T14:10:07.702Z"
   },
   {
    "duration": 205,
    "start_time": "2022-09-06T14:10:07.762Z"
   },
   {
    "duration": 9,
    "start_time": "2022-09-06T14:10:07.968Z"
   },
   {
    "duration": 15,
    "start_time": "2022-09-06T14:10:07.981Z"
   },
   {
    "duration": 22,
    "start_time": "2022-09-06T14:10:07.998Z"
   },
   {
    "duration": 294,
    "start_time": "2022-09-06T14:10:08.022Z"
   },
   {
    "duration": 8,
    "start_time": "2022-09-06T14:10:08.317Z"
   },
   {
    "duration": 13,
    "start_time": "2022-09-06T14:10:08.326Z"
   },
   {
    "duration": 11,
    "start_time": "2022-09-06T14:10:08.340Z"
   },
   {
    "duration": 21,
    "start_time": "2022-09-06T14:10:08.352Z"
   },
   {
    "duration": 275,
    "start_time": "2022-09-06T14:10:08.375Z"
   },
   {
    "duration": 181,
    "start_time": "2022-09-06T14:10:08.651Z"
   },
   {
    "duration": 10,
    "start_time": "2022-09-06T14:10:08.834Z"
   },
   {
    "duration": 13,
    "start_time": "2022-09-06T14:10:08.846Z"
   },
   {
    "duration": 9,
    "start_time": "2022-09-06T14:10:08.861Z"
   },
   {
    "duration": 185,
    "start_time": "2022-09-06T14:10:08.892Z"
   },
   {
    "duration": 21,
    "start_time": "2022-09-06T14:10:09.079Z"
   },
   {
    "duration": 182,
    "start_time": "2022-09-06T14:10:09.101Z"
   },
   {
    "duration": 19,
    "start_time": "2022-09-06T14:10:09.285Z"
   },
   {
    "duration": 35,
    "start_time": "2022-09-06T14:10:09.308Z"
   },
   {
    "duration": 224,
    "start_time": "2022-09-06T14:10:09.345Z"
   },
   {
    "duration": 12,
    "start_time": "2022-09-06T14:10:09.571Z"
   },
   {
    "duration": 353,
    "start_time": "2022-09-06T14:10:09.585Z"
   },
   {
    "duration": 8,
    "start_time": "2022-09-06T14:10:09.940Z"
   },
   {
    "duration": 36,
    "start_time": "2022-09-06T14:10:09.950Z"
   },
   {
    "duration": 79,
    "start_time": "2022-09-06T14:10:09.987Z"
   },
   {
    "duration": 35,
    "start_time": "2022-09-06T14:10:10.068Z"
   },
   {
    "duration": 134,
    "start_time": "2022-09-06T14:10:10.105Z"
   },
   {
    "duration": 129,
    "start_time": "2022-09-06T14:10:10.241Z"
   },
   {
    "duration": 73,
    "start_time": "2022-09-06T14:10:10.372Z"
   },
   {
    "duration": 82,
    "start_time": "2022-09-06T14:10:10.447Z"
   },
   {
    "duration": 58,
    "start_time": "2022-09-06T14:10:10.531Z"
   },
   {
    "duration": 46,
    "start_time": "2022-09-06T14:10:10.591Z"
   },
   {
    "duration": 31,
    "start_time": "2022-09-06T14:10:10.639Z"
   },
   {
    "duration": 50,
    "start_time": "2022-09-06T14:10:10.672Z"
   },
   {
    "duration": 34,
    "start_time": "2022-09-06T14:10:10.724Z"
   },
   {
    "duration": 50,
    "start_time": "2022-09-06T14:10:10.760Z"
   },
   {
    "duration": 30,
    "start_time": "2022-09-06T14:10:10.811Z"
   },
   {
    "duration": 31,
    "start_time": "2022-09-06T14:10:10.842Z"
   },
   {
    "duration": 49,
    "start_time": "2022-09-06T14:10:10.875Z"
   },
   {
    "duration": 34,
    "start_time": "2022-09-06T14:10:10.925Z"
   },
   {
    "duration": 21,
    "start_time": "2022-09-06T14:10:10.960Z"
   },
   {
    "duration": 69,
    "start_time": "2022-09-06T14:10:10.982Z"
   },
   {
    "duration": 30,
    "start_time": "2022-09-06T14:10:11.052Z"
   },
   {
    "duration": 44,
    "start_time": "2022-09-06T14:10:11.084Z"
   },
   {
    "duration": 17,
    "start_time": "2022-09-06T14:10:11.129Z"
   },
   {
    "duration": 50,
    "start_time": "2022-09-06T14:10:11.147Z"
   },
   {
    "duration": 41,
    "start_time": "2022-09-06T14:10:11.199Z"
   },
   {
    "duration": 89,
    "start_time": "2022-09-06T14:10:11.241Z"
   },
   {
    "duration": 47,
    "start_time": "2022-09-06T14:10:11.332Z"
   },
   {
    "duration": 475,
    "start_time": "2022-09-06T14:10:11.380Z"
   },
   {
    "duration": 9,
    "start_time": "2022-09-06T14:10:11.857Z"
   },
   {
    "duration": 15,
    "start_time": "2022-09-06T14:10:11.868Z"
   },
   {
    "duration": 24,
    "start_time": "2022-09-06T14:10:11.891Z"
   },
   {
    "duration": 23,
    "start_time": "2022-09-06T14:10:11.917Z"
   },
   {
    "duration": 21,
    "start_time": "2022-09-06T14:10:11.942Z"
   },
   {
    "duration": 26,
    "start_time": "2022-09-06T14:10:11.966Z"
   },
   {
    "duration": 44,
    "start_time": "2022-09-06T14:10:12.001Z"
   },
   {
    "duration": 61,
    "start_time": "2022-09-06T14:10:12.047Z"
   },
   {
    "duration": 32,
    "start_time": "2022-09-06T14:10:12.110Z"
   },
   {
    "duration": 29,
    "start_time": "2022-09-06T14:10:12.144Z"
   },
   {
    "duration": 6,
    "start_time": "2022-09-06T14:14:45.048Z"
   },
   {
    "duration": 497,
    "start_time": "2022-09-06T14:15:52.065Z"
   },
   {
    "duration": 63,
    "start_time": "2022-09-06T14:15:52.564Z"
   },
   {
    "duration": 17,
    "start_time": "2022-09-06T14:15:52.629Z"
   },
   {
    "duration": 8,
    "start_time": "2022-09-06T14:15:52.648Z"
   },
   {
    "duration": 21,
    "start_time": "2022-09-06T14:15:52.658Z"
   },
   {
    "duration": 38,
    "start_time": "2022-09-06T14:15:52.681Z"
   },
   {
    "duration": 15,
    "start_time": "2022-09-06T14:15:52.721Z"
   },
   {
    "duration": 11,
    "start_time": "2022-09-06T14:15:52.738Z"
   },
   {
    "duration": 16,
    "start_time": "2022-09-06T14:15:52.751Z"
   },
   {
    "duration": 8,
    "start_time": "2022-09-06T14:15:52.770Z"
   },
   {
    "duration": 21,
    "start_time": "2022-09-06T14:15:52.792Z"
   },
   {
    "duration": 345,
    "start_time": "2022-09-06T14:15:52.814Z"
   },
   {
    "duration": 19,
    "start_time": "2022-09-06T14:15:53.161Z"
   },
   {
    "duration": 32,
    "start_time": "2022-09-06T14:15:53.181Z"
   },
   {
    "duration": 19,
    "start_time": "2022-09-06T14:15:53.215Z"
   },
   {
    "duration": 16,
    "start_time": "2022-09-06T14:15:53.235Z"
   },
   {
    "duration": 142,
    "start_time": "2022-09-06T14:15:53.253Z"
   },
   {
    "duration": 127,
    "start_time": "2022-09-06T14:15:53.397Z"
   },
   {
    "duration": 132,
    "start_time": "2022-09-06T14:15:53.526Z"
   },
   {
    "duration": 180,
    "start_time": "2022-09-06T14:15:53.659Z"
   },
   {
    "duration": 139,
    "start_time": "2022-09-06T14:15:53.840Z"
   },
   {
    "duration": 128,
    "start_time": "2022-09-06T14:15:53.981Z"
   },
   {
    "duration": 125,
    "start_time": "2022-09-06T14:15:54.111Z"
   },
   {
    "duration": 5,
    "start_time": "2022-09-06T14:15:54.238Z"
   },
   {
    "duration": 31,
    "start_time": "2022-09-06T14:15:54.245Z"
   },
   {
    "duration": 208,
    "start_time": "2022-09-06T14:15:54.278Z"
   },
   {
    "duration": 8,
    "start_time": "2022-09-06T14:15:54.488Z"
   },
   {
    "duration": 23,
    "start_time": "2022-09-06T14:15:54.503Z"
   },
   {
    "duration": 14,
    "start_time": "2022-09-06T14:15:54.527Z"
   },
   {
    "duration": 292,
    "start_time": "2022-09-06T14:15:54.544Z"
   },
   {
    "duration": 5,
    "start_time": "2022-09-06T14:15:54.838Z"
   },
   {
    "duration": 23,
    "start_time": "2022-09-06T14:15:54.845Z"
   },
   {
    "duration": 11,
    "start_time": "2022-09-06T14:15:54.870Z"
   },
   {
    "duration": 12,
    "start_time": "2022-09-06T14:15:54.883Z"
   },
   {
    "duration": 262,
    "start_time": "2022-09-06T14:15:54.897Z"
   },
   {
    "duration": 193,
    "start_time": "2022-09-06T14:15:55.161Z"
   },
   {
    "duration": 12,
    "start_time": "2022-09-06T14:15:55.355Z"
   },
   {
    "duration": 37,
    "start_time": "2022-09-06T14:15:55.368Z"
   },
   {
    "duration": 16,
    "start_time": "2022-09-06T14:15:55.407Z"
   },
   {
    "duration": 167,
    "start_time": "2022-09-06T14:15:55.425Z"
   },
   {
    "duration": 14,
    "start_time": "2022-09-06T14:15:55.595Z"
   },
   {
    "duration": 193,
    "start_time": "2022-09-06T14:15:55.611Z"
   },
   {
    "duration": 10,
    "start_time": "2022-09-06T14:15:55.807Z"
   },
   {
    "duration": 17,
    "start_time": "2022-09-06T14:15:55.819Z"
   },
   {
    "duration": 215,
    "start_time": "2022-09-06T14:15:55.838Z"
   },
   {
    "duration": 8,
    "start_time": "2022-09-06T14:15:56.055Z"
   },
   {
    "duration": 324,
    "start_time": "2022-09-06T14:15:56.065Z"
   },
   {
    "duration": 10,
    "start_time": "2022-09-06T14:15:56.391Z"
   },
   {
    "duration": 20,
    "start_time": "2022-09-06T14:15:56.403Z"
   },
   {
    "duration": 22,
    "start_time": "2022-09-06T14:15:56.424Z"
   },
   {
    "duration": 12,
    "start_time": "2022-09-06T14:15:56.448Z"
   },
   {
    "duration": 11,
    "start_time": "2022-09-06T14:15:56.462Z"
   },
   {
    "duration": 17,
    "start_time": "2022-09-06T14:15:56.475Z"
   },
   {
    "duration": 21,
    "start_time": "2022-09-06T14:15:56.494Z"
   },
   {
    "duration": 13,
    "start_time": "2022-09-06T14:15:56.517Z"
   },
   {
    "duration": 16,
    "start_time": "2022-09-06T14:15:56.532Z"
   },
   {
    "duration": 26,
    "start_time": "2022-09-06T14:15:56.549Z"
   },
   {
    "duration": 34,
    "start_time": "2022-09-06T14:15:56.577Z"
   },
   {
    "duration": 20,
    "start_time": "2022-09-06T14:15:56.613Z"
   },
   {
    "duration": 11,
    "start_time": "2022-09-06T14:15:56.635Z"
   },
   {
    "duration": 17,
    "start_time": "2022-09-06T14:15:56.648Z"
   },
   {
    "duration": 13,
    "start_time": "2022-09-06T14:15:56.667Z"
   },
   {
    "duration": 17,
    "start_time": "2022-09-06T14:15:56.681Z"
   },
   {
    "duration": 9,
    "start_time": "2022-09-06T14:15:56.700Z"
   },
   {
    "duration": 24,
    "start_time": "2022-09-06T14:15:56.712Z"
   },
   {
    "duration": 10,
    "start_time": "2022-09-06T14:15:56.738Z"
   },
   {
    "duration": 11,
    "start_time": "2022-09-06T14:15:56.750Z"
   },
   {
    "duration": 11,
    "start_time": "2022-09-06T14:15:56.763Z"
   },
   {
    "duration": 9,
    "start_time": "2022-09-06T14:15:56.775Z"
   },
   {
    "duration": 7,
    "start_time": "2022-09-06T14:15:56.786Z"
   },
   {
    "duration": 40,
    "start_time": "2022-09-06T14:15:56.796Z"
   },
   {
    "duration": 10,
    "start_time": "2022-09-06T14:15:56.838Z"
   },
   {
    "duration": 13,
    "start_time": "2022-09-06T14:15:56.850Z"
   },
   {
    "duration": 13,
    "start_time": "2022-09-06T14:15:56.864Z"
   },
   {
    "duration": 446,
    "start_time": "2022-09-06T14:15:56.879Z"
   },
   {
    "duration": 7,
    "start_time": "2022-09-06T14:15:57.327Z"
   },
   {
    "duration": 12,
    "start_time": "2022-09-06T14:15:57.336Z"
   },
   {
    "duration": 11,
    "start_time": "2022-09-06T14:15:57.350Z"
   },
   {
    "duration": 10,
    "start_time": "2022-09-06T14:15:57.363Z"
   },
   {
    "duration": 21,
    "start_time": "2022-09-06T14:15:57.375Z"
   },
   {
    "duration": 9,
    "start_time": "2022-09-06T14:15:57.399Z"
   },
   {
    "duration": 7,
    "start_time": "2022-09-06T14:15:57.413Z"
   },
   {
    "duration": 10,
    "start_time": "2022-09-06T14:15:57.422Z"
   },
   {
    "duration": 11,
    "start_time": "2022-09-06T14:15:57.434Z"
   },
   {
    "duration": 9,
    "start_time": "2022-09-06T14:15:57.446Z"
   },
   {
    "duration": 48,
    "start_time": "2022-09-07T05:36:06.720Z"
   },
   {
    "duration": 426,
    "start_time": "2022-09-07T05:36:13.652Z"
   },
   {
    "duration": 90,
    "start_time": "2022-09-07T05:36:14.080Z"
   },
   {
    "duration": 14,
    "start_time": "2022-09-07T05:36:14.171Z"
   },
   {
    "duration": 6,
    "start_time": "2022-09-07T05:36:14.187Z"
   },
   {
    "duration": 17,
    "start_time": "2022-09-07T05:36:14.194Z"
   },
   {
    "duration": 19,
    "start_time": "2022-09-07T05:36:14.213Z"
   },
   {
    "duration": 4,
    "start_time": "2022-09-07T05:36:14.234Z"
   },
   {
    "duration": 19,
    "start_time": "2022-09-07T05:36:14.239Z"
   },
   {
    "duration": 10,
    "start_time": "2022-09-07T05:36:14.259Z"
   },
   {
    "duration": 8,
    "start_time": "2022-09-07T05:36:14.271Z"
   },
   {
    "duration": 13,
    "start_time": "2022-09-07T05:36:14.280Z"
   },
   {
    "duration": 419,
    "start_time": "2022-09-07T05:36:14.295Z"
   },
   {
    "duration": 18,
    "start_time": "2022-09-07T05:36:14.716Z"
   },
   {
    "duration": 33,
    "start_time": "2022-09-07T05:36:14.736Z"
   },
   {
    "duration": 16,
    "start_time": "2022-09-07T05:36:14.770Z"
   },
   {
    "duration": 13,
    "start_time": "2022-09-07T05:36:14.787Z"
   },
   {
    "duration": 115,
    "start_time": "2022-09-07T05:36:14.802Z"
   },
   {
    "duration": 102,
    "start_time": "2022-09-07T05:36:14.919Z"
   },
   {
    "duration": 164,
    "start_time": "2022-09-07T05:36:15.023Z"
   },
   {
    "duration": 127,
    "start_time": "2022-09-07T05:36:15.189Z"
   },
   {
    "duration": 132,
    "start_time": "2022-09-07T05:36:15.318Z"
   },
   {
    "duration": 102,
    "start_time": "2022-09-07T05:36:15.457Z"
   },
   {
    "duration": 127,
    "start_time": "2022-09-07T05:36:15.560Z"
   },
   {
    "duration": 5,
    "start_time": "2022-09-07T05:36:15.688Z"
   },
   {
    "duration": 43,
    "start_time": "2022-09-07T05:36:15.695Z"
   },
   {
    "duration": 173,
    "start_time": "2022-09-07T05:36:15.740Z"
   },
   {
    "duration": 5,
    "start_time": "2022-09-07T05:36:15.914Z"
   },
   {
    "duration": 17,
    "start_time": "2022-09-07T05:36:15.923Z"
   },
   {
    "duration": 23,
    "start_time": "2022-09-07T05:36:15.942Z"
   },
   {
    "duration": 271,
    "start_time": "2022-09-07T05:36:15.966Z"
   },
   {
    "duration": 6,
    "start_time": "2022-09-07T05:36:16.239Z"
   },
   {
    "duration": 41,
    "start_time": "2022-09-07T05:36:16.246Z"
   },
   {
    "duration": 29,
    "start_time": "2022-09-07T05:36:16.288Z"
   },
   {
    "duration": 21,
    "start_time": "2022-09-07T05:36:16.319Z"
   },
   {
    "duration": 217,
    "start_time": "2022-09-07T05:36:16.342Z"
   },
   {
    "duration": 154,
    "start_time": "2022-09-07T05:36:16.561Z"
   },
   {
    "duration": 10,
    "start_time": "2022-09-07T05:36:16.716Z"
   },
   {
    "duration": 15,
    "start_time": "2022-09-07T05:36:16.728Z"
   },
   {
    "duration": 17,
    "start_time": "2022-09-07T05:36:16.744Z"
   },
   {
    "duration": 135,
    "start_time": "2022-09-07T05:36:16.763Z"
   },
   {
    "duration": 9,
    "start_time": "2022-09-07T05:36:16.899Z"
   },
   {
    "duration": 154,
    "start_time": "2022-09-07T05:36:16.910Z"
   },
   {
    "duration": 9,
    "start_time": "2022-09-07T05:36:17.066Z"
   },
   {
    "duration": 11,
    "start_time": "2022-09-07T05:36:17.076Z"
   },
   {
    "duration": 233,
    "start_time": "2022-09-07T05:36:17.088Z"
   },
   {
    "duration": 6,
    "start_time": "2022-09-07T05:36:17.323Z"
   },
   {
    "duration": 191,
    "start_time": "2022-09-07T05:36:17.330Z"
   },
   {
    "duration": 5,
    "start_time": "2022-09-07T05:36:17.523Z"
   },
   {
    "duration": 6,
    "start_time": "2022-09-07T05:36:17.530Z"
   },
   {
    "duration": 22,
    "start_time": "2022-09-07T05:36:17.537Z"
   },
   {
    "duration": 7,
    "start_time": "2022-09-07T05:36:17.560Z"
   },
   {
    "duration": 5,
    "start_time": "2022-09-07T05:36:17.568Z"
   },
   {
    "duration": 9,
    "start_time": "2022-09-07T05:36:17.574Z"
   },
   {
    "duration": 7,
    "start_time": "2022-09-07T05:36:17.585Z"
   },
   {
    "duration": 6,
    "start_time": "2022-09-07T05:36:17.593Z"
   },
   {
    "duration": 11,
    "start_time": "2022-09-07T05:36:17.600Z"
   },
   {
    "duration": 8,
    "start_time": "2022-09-07T05:36:17.613Z"
   },
   {
    "duration": 15,
    "start_time": "2022-09-07T05:36:17.622Z"
   },
   {
    "duration": 19,
    "start_time": "2022-09-07T05:36:17.639Z"
   },
   {
    "duration": 6,
    "start_time": "2022-09-07T05:36:17.660Z"
   },
   {
    "duration": 6,
    "start_time": "2022-09-07T05:36:17.667Z"
   },
   {
    "duration": 8,
    "start_time": "2022-09-07T05:36:17.675Z"
   },
   {
    "duration": 8,
    "start_time": "2022-09-07T05:36:17.684Z"
   },
   {
    "duration": 7,
    "start_time": "2022-09-07T05:36:17.694Z"
   },
   {
    "duration": 8,
    "start_time": "2022-09-07T05:36:17.703Z"
   },
   {
    "duration": 7,
    "start_time": "2022-09-07T05:36:17.713Z"
   },
   {
    "duration": 5,
    "start_time": "2022-09-07T05:36:17.722Z"
   },
   {
    "duration": 30,
    "start_time": "2022-09-07T05:36:17.728Z"
   },
   {
    "duration": 6,
    "start_time": "2022-09-07T05:36:17.760Z"
   },
   {
    "duration": 6,
    "start_time": "2022-09-07T05:36:17.768Z"
   },
   {
    "duration": 9,
    "start_time": "2022-09-07T05:36:17.776Z"
   },
   {
    "duration": 7,
    "start_time": "2022-09-07T05:36:17.786Z"
   },
   {
    "duration": 7,
    "start_time": "2022-09-07T05:36:17.794Z"
   },
   {
    "duration": 16,
    "start_time": "2022-09-07T05:36:17.802Z"
   },
   {
    "duration": 425,
    "start_time": "2022-09-07T05:36:17.819Z"
   },
   {
    "duration": 6,
    "start_time": "2022-09-07T05:36:18.245Z"
   },
   {
    "duration": 6,
    "start_time": "2022-09-07T05:36:18.257Z"
   },
   {
    "duration": 5,
    "start_time": "2022-09-07T05:36:18.264Z"
   },
   {
    "duration": 7,
    "start_time": "2022-09-07T05:36:18.271Z"
   },
   {
    "duration": 12,
    "start_time": "2022-09-07T05:36:18.280Z"
   },
   {
    "duration": 6,
    "start_time": "2022-09-07T05:36:18.293Z"
   },
   {
    "duration": 5,
    "start_time": "2022-09-07T05:36:18.303Z"
   },
   {
    "duration": 8,
    "start_time": "2022-09-07T05:36:18.309Z"
   },
   {
    "duration": 10,
    "start_time": "2022-09-07T05:36:18.318Z"
   },
   {
    "duration": 29,
    "start_time": "2022-09-07T05:36:18.329Z"
   },
   {
    "duration": 72,
    "start_time": "2022-09-07T05:49:42.597Z"
   },
   {
    "duration": 73,
    "start_time": "2022-09-07T05:59:34.828Z"
   },
   {
    "duration": 70,
    "start_time": "2022-09-07T06:07:09.600Z"
   },
   {
    "duration": 7,
    "start_time": "2022-09-07T06:09:38.765Z"
   },
   {
    "duration": 169,
    "start_time": "2022-09-07T06:10:04.128Z"
   },
   {
    "duration": 8,
    "start_time": "2022-09-07T06:10:20.795Z"
   },
   {
    "duration": 204,
    "start_time": "2022-09-07T06:11:09.639Z"
   },
   {
    "duration": 116,
    "start_time": "2022-09-07T06:11:56.134Z"
   },
   {
    "duration": 7,
    "start_time": "2022-09-07T06:12:43.149Z"
   },
   {
    "duration": 187,
    "start_time": "2022-09-07T06:12:59.350Z"
   },
   {
    "duration": 8,
    "start_time": "2022-09-07T06:13:07.743Z"
   },
   {
    "duration": 276,
    "start_time": "2022-09-07T06:13:30.602Z"
   },
   {
    "duration": 3,
    "start_time": "2022-09-07T06:23:31.938Z"
   },
   {
    "duration": 62,
    "start_time": "2022-09-07T06:23:31.943Z"
   },
   {
    "duration": 13,
    "start_time": "2022-09-07T06:23:32.007Z"
   },
   {
    "duration": 5,
    "start_time": "2022-09-07T06:23:32.021Z"
   },
   {
    "duration": 17,
    "start_time": "2022-09-07T06:23:32.028Z"
   },
   {
    "duration": 26,
    "start_time": "2022-09-07T06:23:32.046Z"
   },
   {
    "duration": 6,
    "start_time": "2022-09-07T06:23:32.073Z"
   },
   {
    "duration": 7,
    "start_time": "2022-09-07T06:23:32.080Z"
   },
   {
    "duration": 12,
    "start_time": "2022-09-07T06:23:32.088Z"
   },
   {
    "duration": 8,
    "start_time": "2022-09-07T06:23:32.101Z"
   },
   {
    "duration": 13,
    "start_time": "2022-09-07T06:23:32.112Z"
   },
   {
    "duration": 38,
    "start_time": "2022-09-07T06:23:32.126Z"
   },
   {
    "duration": 28,
    "start_time": "2022-09-07T06:23:32.168Z"
   },
   {
    "duration": 18,
    "start_time": "2022-09-07T06:23:32.197Z"
   },
   {
    "duration": 18,
    "start_time": "2022-09-07T06:23:32.217Z"
   },
   {
    "duration": 41,
    "start_time": "2022-09-07T06:23:32.236Z"
   },
   {
    "duration": 106,
    "start_time": "2022-09-07T06:23:32.278Z"
   },
   {
    "duration": 110,
    "start_time": "2022-09-07T06:23:32.386Z"
   },
   {
    "duration": 138,
    "start_time": "2022-09-07T06:23:32.498Z"
   },
   {
    "duration": 115,
    "start_time": "2022-09-07T06:23:32.638Z"
   },
   {
    "duration": 119,
    "start_time": "2022-09-07T06:23:32.758Z"
   },
   {
    "duration": 123,
    "start_time": "2022-09-07T06:23:32.879Z"
   },
   {
    "duration": 112,
    "start_time": "2022-09-07T06:23:33.004Z"
   },
   {
    "duration": 5,
    "start_time": "2022-09-07T06:23:33.118Z"
   },
   {
    "duration": 43,
    "start_time": "2022-09-07T06:23:33.125Z"
   },
   {
    "duration": 189,
    "start_time": "2022-09-07T06:23:33.173Z"
   },
   {
    "duration": 11,
    "start_time": "2022-09-07T06:23:33.364Z"
   },
   {
    "duration": 7,
    "start_time": "2022-09-07T06:23:33.377Z"
   },
   {
    "duration": 11,
    "start_time": "2022-09-07T06:23:33.388Z"
   },
   {
    "duration": 282,
    "start_time": "2022-09-07T06:23:33.401Z"
   },
   {
    "duration": 7,
    "start_time": "2022-09-07T06:23:33.685Z"
   },
   {
    "duration": 7,
    "start_time": "2022-09-07T06:23:33.693Z"
   },
   {
    "duration": 5,
    "start_time": "2022-09-07T06:23:33.702Z"
   },
   {
    "duration": 9,
    "start_time": "2022-09-07T06:23:33.709Z"
   },
   {
    "duration": 261,
    "start_time": "2022-09-07T06:23:33.720Z"
   },
   {
    "duration": 253,
    "start_time": "2022-09-07T06:23:33.982Z"
   },
   {
    "duration": 27,
    "start_time": "2022-09-07T06:23:34.236Z"
   },
   {
    "duration": 22,
    "start_time": "2022-09-07T06:23:34.264Z"
   },
   {
    "duration": 15,
    "start_time": "2022-09-07T06:23:34.288Z"
   },
   {
    "duration": 169,
    "start_time": "2022-09-07T06:23:34.304Z"
   },
   {
    "duration": 11,
    "start_time": "2022-09-07T06:23:34.475Z"
   },
   {
    "duration": 162,
    "start_time": "2022-09-07T06:23:34.487Z"
   },
   {
    "duration": 17,
    "start_time": "2022-09-07T06:23:34.651Z"
   },
   {
    "duration": 17,
    "start_time": "2022-09-07T06:23:34.669Z"
   },
   {
    "duration": 177,
    "start_time": "2022-09-07T06:23:34.687Z"
   },
   {
    "duration": 7,
    "start_time": "2022-09-07T06:23:34.869Z"
   },
   {
    "duration": 228,
    "start_time": "2022-09-07T06:23:34.878Z"
   },
   {
    "duration": 5,
    "start_time": "2022-09-07T06:24:59.775Z"
   },
   {
    "duration": 346,
    "start_time": "2022-09-07T12:57:18.710Z"
   },
   {
    "duration": 457,
    "start_time": "2022-09-07T12:57:19.058Z"
   },
   {
    "duration": 12,
    "start_time": "2022-09-07T12:57:19.517Z"
   },
   {
    "duration": 2,
    "start_time": "2022-09-07T12:57:19.531Z"
   },
   {
    "duration": 17,
    "start_time": "2022-09-07T12:57:19.534Z"
   },
   {
    "duration": 17,
    "start_time": "2022-09-07T12:57:19.552Z"
   },
   {
    "duration": 3,
    "start_time": "2022-09-07T12:57:19.570Z"
   },
   {
    "duration": 7,
    "start_time": "2022-09-07T12:57:19.574Z"
   },
   {
    "duration": 10,
    "start_time": "2022-09-07T12:57:19.582Z"
   },
   {
    "duration": 7,
    "start_time": "2022-09-07T12:57:19.594Z"
   },
   {
    "duration": 14,
    "start_time": "2022-09-07T12:57:19.602Z"
   },
   {
    "duration": 404,
    "start_time": "2022-09-07T12:57:19.617Z"
   },
   {
    "duration": 17,
    "start_time": "2022-09-07T12:57:20.023Z"
   },
   {
    "duration": 21,
    "start_time": "2022-09-07T12:57:20.042Z"
   },
   {
    "duration": 36,
    "start_time": "2022-09-07T12:57:20.065Z"
   },
   {
    "duration": 33,
    "start_time": "2022-09-07T12:57:20.103Z"
   },
   {
    "duration": 112,
    "start_time": "2022-09-07T12:57:20.137Z"
   },
   {
    "duration": 107,
    "start_time": "2022-09-07T12:57:20.251Z"
   },
   {
    "duration": 166,
    "start_time": "2022-09-07T12:57:20.360Z"
   },
   {
    "duration": 106,
    "start_time": "2022-09-07T12:57:20.528Z"
   },
   {
    "duration": 114,
    "start_time": "2022-09-07T12:57:20.636Z"
   },
   {
    "duration": 84,
    "start_time": "2022-09-07T12:57:20.755Z"
   },
   {
    "duration": 101,
    "start_time": "2022-09-07T12:57:20.841Z"
   },
   {
    "duration": 12,
    "start_time": "2022-09-07T12:57:20.944Z"
   },
   {
    "duration": 7,
    "start_time": "2022-09-07T12:57:20.958Z"
   },
   {
    "duration": 20,
    "start_time": "2022-09-07T12:57:20.966Z"
   },
   {
    "duration": 175,
    "start_time": "2022-09-07T12:57:20.988Z"
   },
   {
    "duration": 6,
    "start_time": "2022-09-07T12:57:21.167Z"
   },
   {
    "duration": 4,
    "start_time": "2022-09-07T12:57:21.175Z"
   },
   {
    "duration": 11,
    "start_time": "2022-09-07T12:57:21.180Z"
   },
   {
    "duration": 273,
    "start_time": "2022-09-07T12:57:21.192Z"
   },
   {
    "duration": 7,
    "start_time": "2022-09-07T12:57:21.467Z"
   },
   {
    "duration": 6,
    "start_time": "2022-09-07T12:57:21.475Z"
   },
   {
    "duration": 6,
    "start_time": "2022-09-07T12:57:21.483Z"
   },
   {
    "duration": 10,
    "start_time": "2022-09-07T12:57:21.490Z"
   },
   {
    "duration": 220,
    "start_time": "2022-09-07T12:57:21.501Z"
   },
   {
    "duration": 143,
    "start_time": "2022-09-07T12:57:21.722Z"
   },
   {
    "duration": 9,
    "start_time": "2022-09-07T12:57:21.866Z"
   },
   {
    "duration": 12,
    "start_time": "2022-09-07T12:57:21.876Z"
   },
   {
    "duration": 8,
    "start_time": "2022-09-07T12:57:21.889Z"
   },
   {
    "duration": 146,
    "start_time": "2022-09-07T12:57:21.899Z"
   },
   {
    "duration": 13,
    "start_time": "2022-09-07T12:57:22.047Z"
   },
   {
    "duration": 135,
    "start_time": "2022-09-07T12:57:22.061Z"
   },
   {
    "duration": 8,
    "start_time": "2022-09-07T12:57:22.198Z"
   },
   {
    "duration": 14,
    "start_time": "2022-09-07T12:57:22.208Z"
   },
   {
    "duration": 215,
    "start_time": "2022-09-07T12:57:22.223Z"
   },
   {
    "duration": 6,
    "start_time": "2022-09-07T12:57:22.440Z"
   },
   {
    "duration": 174,
    "start_time": "2022-09-07T12:57:22.455Z"
   },
   {
    "duration": 7,
    "start_time": "2022-09-07T12:57:22.631Z"
   },
   {
    "duration": 18,
    "start_time": "2022-09-07T12:57:22.639Z"
   },
   {
    "duration": 8,
    "start_time": "2022-09-07T12:57:22.658Z"
   },
   {
    "duration": 8,
    "start_time": "2022-09-07T12:57:22.668Z"
   },
   {
    "duration": 6,
    "start_time": "2022-09-07T12:57:22.677Z"
   },
   {
    "duration": 9,
    "start_time": "2022-09-07T12:57:22.684Z"
   },
   {
    "duration": 10,
    "start_time": "2022-09-07T12:57:22.694Z"
   },
   {
    "duration": 7,
    "start_time": "2022-09-07T12:57:22.705Z"
   },
   {
    "duration": 9,
    "start_time": "2022-09-07T12:57:22.713Z"
   },
   {
    "duration": 15,
    "start_time": "2022-09-07T12:57:22.723Z"
   },
   {
    "duration": 5,
    "start_time": "2022-09-07T12:57:22.739Z"
   },
   {
    "duration": 12,
    "start_time": "2022-09-07T12:57:22.745Z"
   },
   {
    "duration": 8,
    "start_time": "2022-09-07T12:57:22.758Z"
   },
   {
    "duration": 5,
    "start_time": "2022-09-07T12:57:22.767Z"
   },
   {
    "duration": 15,
    "start_time": "2022-09-07T12:57:22.773Z"
   },
   {
    "duration": 7,
    "start_time": "2022-09-07T12:57:22.789Z"
   },
   {
    "duration": 9,
    "start_time": "2022-09-07T12:57:22.797Z"
   },
   {
    "duration": 9,
    "start_time": "2022-09-07T12:57:22.808Z"
   },
   {
    "duration": 7,
    "start_time": "2022-09-07T12:57:22.818Z"
   },
   {
    "duration": 5,
    "start_time": "2022-09-07T12:57:22.826Z"
   },
   {
    "duration": 24,
    "start_time": "2022-09-07T12:57:22.832Z"
   },
   {
    "duration": 10,
    "start_time": "2022-09-07T12:57:22.857Z"
   },
   {
    "duration": 6,
    "start_time": "2022-09-07T12:57:22.869Z"
   },
   {
    "duration": 13,
    "start_time": "2022-09-07T12:57:22.876Z"
   },
   {
    "duration": 14,
    "start_time": "2022-09-07T12:57:22.891Z"
   },
   {
    "duration": 8,
    "start_time": "2022-09-07T12:57:22.907Z"
   },
   {
    "duration": 11,
    "start_time": "2022-09-07T12:57:22.916Z"
   },
   {
    "duration": 394,
    "start_time": "2022-09-07T12:57:22.928Z"
   },
   {
    "duration": 5,
    "start_time": "2022-09-07T12:57:23.323Z"
   },
   {
    "duration": 12,
    "start_time": "2022-09-07T12:57:23.329Z"
   },
   {
    "duration": 6,
    "start_time": "2022-09-07T12:57:23.342Z"
   },
   {
    "duration": 6,
    "start_time": "2022-09-07T12:57:23.355Z"
   },
   {
    "duration": 7,
    "start_time": "2022-09-07T12:57:23.362Z"
   },
   {
    "duration": 4,
    "start_time": "2022-09-07T12:57:23.374Z"
   },
   {
    "duration": 6,
    "start_time": "2022-09-07T12:57:23.380Z"
   },
   {
    "duration": 10,
    "start_time": "2022-09-07T12:57:23.387Z"
   },
   {
    "duration": 8,
    "start_time": "2022-09-07T12:57:23.398Z"
   },
   {
    "duration": 8,
    "start_time": "2022-09-07T12:57:23.407Z"
   },
   {
    "duration": 6,
    "start_time": "2022-09-07T12:58:27.769Z"
   },
   {
    "duration": 4,
    "start_time": "2022-09-07T12:58:33.480Z"
   },
   {
    "duration": 6,
    "start_time": "2022-09-07T12:59:20.287Z"
   },
   {
    "duration": 11,
    "start_time": "2022-09-07T12:59:40.002Z"
   },
   {
    "duration": 3,
    "start_time": "2022-09-07T12:59:52.826Z"
   },
   {
    "duration": 52,
    "start_time": "2022-09-07T12:59:52.830Z"
   },
   {
    "duration": 12,
    "start_time": "2022-09-07T12:59:52.883Z"
   },
   {
    "duration": 5,
    "start_time": "2022-09-07T12:59:52.896Z"
   },
   {
    "duration": 16,
    "start_time": "2022-09-07T12:59:52.903Z"
   },
   {
    "duration": 12,
    "start_time": "2022-09-07T12:59:52.920Z"
   },
   {
    "duration": 23,
    "start_time": "2022-09-07T12:59:52.933Z"
   },
   {
    "duration": 7,
    "start_time": "2022-09-07T12:59:52.958Z"
   },
   {
    "duration": 10,
    "start_time": "2022-09-07T12:59:52.966Z"
   },
   {
    "duration": 7,
    "start_time": "2022-09-07T12:59:52.977Z"
   },
   {
    "duration": 14,
    "start_time": "2022-09-07T12:59:52.986Z"
   },
   {
    "duration": 15,
    "start_time": "2022-09-07T12:59:53.002Z"
   },
   {
    "duration": 41,
    "start_time": "2022-09-07T12:59:53.018Z"
   },
   {
    "duration": 14,
    "start_time": "2022-09-07T12:59:53.060Z"
   },
   {
    "duration": 15,
    "start_time": "2022-09-07T12:59:53.076Z"
   },
   {
    "duration": 12,
    "start_time": "2022-09-07T12:59:53.092Z"
   },
   {
    "duration": 101,
    "start_time": "2022-09-07T12:59:53.106Z"
   },
   {
    "duration": 88,
    "start_time": "2022-09-07T12:59:53.209Z"
   },
   {
    "duration": 100,
    "start_time": "2022-09-07T12:59:53.299Z"
   },
   {
    "duration": 141,
    "start_time": "2022-09-07T12:59:53.400Z"
   },
   {
    "duration": 98,
    "start_time": "2022-09-07T12:59:53.543Z"
   },
   {
    "duration": 97,
    "start_time": "2022-09-07T12:59:53.642Z"
   },
   {
    "duration": 96,
    "start_time": "2022-09-07T12:59:53.740Z"
   },
   {
    "duration": 4,
    "start_time": "2022-09-07T12:59:53.837Z"
   },
   {
    "duration": 17,
    "start_time": "2022-09-07T12:59:53.842Z"
   },
   {
    "duration": 4,
    "start_time": "2022-09-07T13:00:07.046Z"
   },
   {
    "duration": 4,
    "start_time": "2022-09-07T13:00:31.889Z"
   },
   {
    "duration": 6,
    "start_time": "2022-09-07T13:00:35.387Z"
   },
   {
    "duration": 4,
    "start_time": "2022-09-07T13:00:40.466Z"
   },
   {
    "duration": 2,
    "start_time": "2022-09-07T13:00:45.072Z"
   },
   {
    "duration": 68,
    "start_time": "2022-09-07T13:00:45.076Z"
   },
   {
    "duration": 12,
    "start_time": "2022-09-07T13:00:45.145Z"
   },
   {
    "duration": 16,
    "start_time": "2022-09-07T13:00:45.158Z"
   },
   {
    "duration": 31,
    "start_time": "2022-09-07T13:00:45.176Z"
   },
   {
    "duration": 26,
    "start_time": "2022-09-07T13:00:45.208Z"
   },
   {
    "duration": 10,
    "start_time": "2022-09-07T13:00:45.235Z"
   },
   {
    "duration": 11,
    "start_time": "2022-09-07T13:00:45.247Z"
   },
   {
    "duration": 25,
    "start_time": "2022-09-07T13:00:45.259Z"
   },
   {
    "duration": 8,
    "start_time": "2022-09-07T13:00:45.285Z"
   },
   {
    "duration": 26,
    "start_time": "2022-09-07T13:00:45.295Z"
   },
   {
    "duration": 24,
    "start_time": "2022-09-07T13:00:45.322Z"
   },
   {
    "duration": 22,
    "start_time": "2022-09-07T13:00:45.348Z"
   },
   {
    "duration": 19,
    "start_time": "2022-09-07T13:00:45.371Z"
   },
   {
    "duration": 17,
    "start_time": "2022-09-07T13:00:45.391Z"
   },
   {
    "duration": 39,
    "start_time": "2022-09-07T13:00:45.409Z"
   },
   {
    "duration": 84,
    "start_time": "2022-09-07T13:00:45.449Z"
   },
   {
    "duration": 93,
    "start_time": "2022-09-07T13:00:45.535Z"
   },
   {
    "duration": 104,
    "start_time": "2022-09-07T13:00:45.629Z"
   },
   {
    "duration": 91,
    "start_time": "2022-09-07T13:00:45.734Z"
   },
   {
    "duration": 95,
    "start_time": "2022-09-07T13:00:45.827Z"
   },
   {
    "duration": 93,
    "start_time": "2022-09-07T13:00:45.924Z"
   },
   {
    "duration": 97,
    "start_time": "2022-09-07T13:00:46.019Z"
   },
   {
    "duration": 4,
    "start_time": "2022-09-07T13:00:46.118Z"
   },
   {
    "duration": 23,
    "start_time": "2022-09-07T13:00:46.123Z"
   },
   {
    "duration": 16,
    "start_time": "2022-09-07T13:00:46.147Z"
   },
   {
    "duration": 13,
    "start_time": "2022-09-07T13:00:46.164Z"
   },
   {
    "duration": 5,
    "start_time": "2022-09-07T13:00:58.183Z"
   },
   {
    "duration": 5,
    "start_time": "2022-09-07T13:01:00.261Z"
   },
   {
    "duration": 6,
    "start_time": "2022-09-07T13:01:02.505Z"
   },
   {
    "duration": 6,
    "start_time": "2022-09-07T13:01:14.694Z"
   },
   {
    "duration": 5,
    "start_time": "2022-09-07T13:02:08.639Z"
   },
   {
    "duration": 6,
    "start_time": "2022-09-07T13:02:11.925Z"
   },
   {
    "duration": 5,
    "start_time": "2022-09-07T13:02:14.093Z"
   },
   {
    "duration": 4,
    "start_time": "2022-09-07T13:02:33.552Z"
   },
   {
    "duration": 347,
    "start_time": "2022-09-07T13:02:41.790Z"
   },
   {
    "duration": 51,
    "start_time": "2022-09-07T13:02:42.138Z"
   },
   {
    "duration": 13,
    "start_time": "2022-09-07T13:02:42.190Z"
   },
   {
    "duration": 5,
    "start_time": "2022-09-07T13:02:42.204Z"
   },
   {
    "duration": 17,
    "start_time": "2022-09-07T13:02:42.211Z"
   },
   {
    "duration": 25,
    "start_time": "2022-09-07T13:02:42.230Z"
   },
   {
    "duration": 3,
    "start_time": "2022-09-07T13:02:42.257Z"
   },
   {
    "duration": 6,
    "start_time": "2022-09-07T13:02:42.262Z"
   },
   {
    "duration": 11,
    "start_time": "2022-09-07T13:02:42.269Z"
   },
   {
    "duration": 7,
    "start_time": "2022-09-07T13:02:42.282Z"
   },
   {
    "duration": 19,
    "start_time": "2022-09-07T13:02:42.290Z"
   },
   {
    "duration": 284,
    "start_time": "2022-09-07T13:02:42.311Z"
   },
   {
    "duration": 18,
    "start_time": "2022-09-07T13:02:42.597Z"
   },
   {
    "duration": 18,
    "start_time": "2022-09-07T13:02:42.616Z"
   },
   {
    "duration": 32,
    "start_time": "2022-09-07T13:02:42.635Z"
   },
   {
    "duration": 13,
    "start_time": "2022-09-07T13:02:42.669Z"
   },
   {
    "duration": 103,
    "start_time": "2022-09-07T13:02:42.684Z"
   },
   {
    "duration": 88,
    "start_time": "2022-09-07T13:02:42.789Z"
   },
   {
    "duration": 107,
    "start_time": "2022-09-07T13:02:42.878Z"
   },
   {
    "duration": 135,
    "start_time": "2022-09-07T13:02:42.986Z"
   },
   {
    "duration": 96,
    "start_time": "2022-09-07T13:02:43.123Z"
   },
   {
    "duration": 96,
    "start_time": "2022-09-07T13:02:43.221Z"
   },
   {
    "duration": 93,
    "start_time": "2022-09-07T13:02:43.319Z"
   },
   {
    "duration": 4,
    "start_time": "2022-09-07T13:02:43.413Z"
   },
   {
    "duration": 8,
    "start_time": "2022-09-07T13:02:43.419Z"
   },
   {
    "duration": 7,
    "start_time": "2022-09-07T13:02:43.428Z"
   },
   {
    "duration": 20,
    "start_time": "2022-09-07T13:02:43.436Z"
   },
   {
    "duration": 6,
    "start_time": "2022-09-07T13:02:43.459Z"
   },
   {
    "duration": 5,
    "start_time": "2022-09-07T13:02:43.466Z"
   },
   {
    "duration": 18,
    "start_time": "2022-09-07T13:02:43.472Z"
   },
   {
    "duration": 162,
    "start_time": "2022-09-07T13:02:43.491Z"
   },
   {
    "duration": 5,
    "start_time": "2022-09-07T13:02:43.655Z"
   },
   {
    "duration": 3,
    "start_time": "2022-09-07T13:02:43.662Z"
   },
   {
    "duration": 8,
    "start_time": "2022-09-07T13:02:43.666Z"
   },
   {
    "duration": 230,
    "start_time": "2022-09-07T13:02:43.675Z"
   },
   {
    "duration": 5,
    "start_time": "2022-09-07T13:02:43.906Z"
   },
   {
    "duration": 8,
    "start_time": "2022-09-07T13:02:43.924Z"
   },
   {
    "duration": 11,
    "start_time": "2022-09-07T13:02:43.933Z"
   },
   {
    "duration": 17,
    "start_time": "2022-09-07T13:02:43.946Z"
   },
   {
    "duration": 187,
    "start_time": "2022-09-07T13:02:43.965Z"
   },
   {
    "duration": 138,
    "start_time": "2022-09-07T13:02:44.154Z"
   },
   {
    "duration": 9,
    "start_time": "2022-09-07T13:02:44.294Z"
   },
   {
    "duration": 9,
    "start_time": "2022-09-07T13:02:44.304Z"
   },
   {
    "duration": 7,
    "start_time": "2022-09-07T13:02:44.315Z"
   },
   {
    "duration": 143,
    "start_time": "2022-09-07T13:02:44.323Z"
   },
   {
    "duration": 8,
    "start_time": "2022-09-07T13:02:44.468Z"
   },
   {
    "duration": 135,
    "start_time": "2022-09-07T13:02:44.477Z"
   },
   {
    "duration": 8,
    "start_time": "2022-09-07T13:02:44.613Z"
   },
   {
    "duration": 16,
    "start_time": "2022-09-07T13:02:44.623Z"
   },
   {
    "duration": 153,
    "start_time": "2022-09-07T13:02:44.640Z"
   },
   {
    "duration": 6,
    "start_time": "2022-09-07T13:02:44.794Z"
   },
   {
    "duration": 250,
    "start_time": "2022-09-07T13:02:44.801Z"
   },
   {
    "duration": 6,
    "start_time": "2022-09-07T13:02:45.055Z"
   },
   {
    "duration": 18,
    "start_time": "2022-09-07T13:02:45.062Z"
   },
   {
    "duration": 13,
    "start_time": "2022-09-07T13:02:45.081Z"
   },
   {
    "duration": 21,
    "start_time": "2022-09-07T13:02:45.096Z"
   },
   {
    "duration": 15,
    "start_time": "2022-09-07T13:02:45.119Z"
   },
   {
    "duration": 17,
    "start_time": "2022-09-07T13:02:45.135Z"
   },
   {
    "duration": 8,
    "start_time": "2022-09-07T13:02:45.153Z"
   },
   {
    "duration": 19,
    "start_time": "2022-09-07T13:02:45.163Z"
   },
   {
    "duration": 16,
    "start_time": "2022-09-07T13:02:45.183Z"
   },
   {
    "duration": 18,
    "start_time": "2022-09-07T13:02:45.201Z"
   },
   {
    "duration": 13,
    "start_time": "2022-09-07T13:02:45.221Z"
   },
   {
    "duration": 15,
    "start_time": "2022-09-07T13:02:45.235Z"
   },
   {
    "duration": 9,
    "start_time": "2022-09-07T13:02:45.251Z"
   },
   {
    "duration": 6,
    "start_time": "2022-09-07T13:02:45.261Z"
   },
   {
    "duration": 20,
    "start_time": "2022-09-07T13:02:45.268Z"
   },
   {
    "duration": 9,
    "start_time": "2022-09-07T13:02:45.290Z"
   },
   {
    "duration": 12,
    "start_time": "2022-09-07T13:02:45.301Z"
   },
   {
    "duration": 35,
    "start_time": "2022-09-07T13:02:45.315Z"
   },
   {
    "duration": 22,
    "start_time": "2022-09-07T13:02:45.351Z"
   },
   {
    "duration": 20,
    "start_time": "2022-09-07T13:02:45.374Z"
   },
   {
    "duration": 25,
    "start_time": "2022-09-07T13:02:45.396Z"
   },
   {
    "duration": 24,
    "start_time": "2022-09-07T13:02:45.423Z"
   },
   {
    "duration": 12,
    "start_time": "2022-09-07T13:02:45.448Z"
   },
   {
    "duration": 22,
    "start_time": "2022-09-07T13:02:45.462Z"
   },
   {
    "duration": 12,
    "start_time": "2022-09-07T13:02:45.486Z"
   },
   {
    "duration": 15,
    "start_time": "2022-09-07T13:02:45.500Z"
   },
   {
    "duration": 20,
    "start_time": "2022-09-07T13:02:45.516Z"
   },
   {
    "duration": 381,
    "start_time": "2022-09-07T13:02:45.538Z"
   },
   {
    "duration": 5,
    "start_time": "2022-09-07T13:02:45.921Z"
   },
   {
    "duration": 17,
    "start_time": "2022-09-07T13:02:45.930Z"
   },
   {
    "duration": 21,
    "start_time": "2022-09-07T13:02:45.948Z"
   },
   {
    "duration": 14,
    "start_time": "2022-09-07T13:02:45.971Z"
   },
   {
    "duration": 17,
    "start_time": "2022-09-07T13:02:45.986Z"
   },
   {
    "duration": 10,
    "start_time": "2022-09-07T13:02:46.004Z"
   },
   {
    "duration": 12,
    "start_time": "2022-09-07T13:02:46.015Z"
   },
   {
    "duration": 22,
    "start_time": "2022-09-07T13:02:46.028Z"
   },
   {
    "duration": 13,
    "start_time": "2022-09-07T13:02:46.051Z"
   },
   {
    "duration": 13,
    "start_time": "2022-09-07T13:02:46.065Z"
   },
   {
    "duration": 4,
    "start_time": "2022-09-07T13:03:33.801Z"
   },
   {
    "duration": 24,
    "start_time": "2022-09-07T13:04:07.877Z"
   },
   {
    "duration": 24,
    "start_time": "2022-09-07T13:04:24.619Z"
   },
   {
    "duration": 6,
    "start_time": "2022-09-07T13:04:42.387Z"
   },
   {
    "duration": 28,
    "start_time": "2022-09-07T13:04:54.676Z"
   },
   {
    "duration": 3,
    "start_time": "2022-09-07T13:06:35.948Z"
   },
   {
    "duration": 4,
    "start_time": "2022-09-07T13:06:43.866Z"
   },
   {
    "duration": 27,
    "start_time": "2022-09-07T13:06:47.989Z"
   },
   {
    "duration": 10,
    "start_time": "2022-09-07T13:08:28.626Z"
   },
   {
    "duration": 10,
    "start_time": "2022-09-07T13:08:32.079Z"
   },
   {
    "duration": 462,
    "start_time": "2022-09-07T13:08:49.803Z"
   },
   {
    "duration": 23,
    "start_time": "2022-09-07T13:08:55.853Z"
   },
   {
    "duration": 14,
    "start_time": "2022-09-07T13:09:51.099Z"
   },
   {
    "duration": 8,
    "start_time": "2022-09-07T13:10:11.027Z"
   },
   {
    "duration": 14,
    "start_time": "2022-09-07T13:10:33.695Z"
   },
   {
    "duration": 3,
    "start_time": "2022-09-07T13:10:38.448Z"
   },
   {
    "duration": 52,
    "start_time": "2022-09-07T13:10:38.453Z"
   },
   {
    "duration": 12,
    "start_time": "2022-09-07T13:10:38.507Z"
   },
   {
    "duration": 3,
    "start_time": "2022-09-07T13:10:38.520Z"
   },
   {
    "duration": 17,
    "start_time": "2022-09-07T13:10:38.525Z"
   },
   {
    "duration": 16,
    "start_time": "2022-09-07T13:10:38.543Z"
   },
   {
    "duration": 5,
    "start_time": "2022-09-07T13:10:38.561Z"
   },
   {
    "duration": 9,
    "start_time": "2022-09-07T13:10:38.567Z"
   },
   {
    "duration": 8,
    "start_time": "2022-09-07T13:10:38.577Z"
   },
   {
    "duration": 7,
    "start_time": "2022-09-07T13:10:38.586Z"
   },
   {
    "duration": 11,
    "start_time": "2022-09-07T13:10:38.597Z"
   },
   {
    "duration": 12,
    "start_time": "2022-09-07T13:10:38.609Z"
   },
   {
    "duration": 46,
    "start_time": "2022-09-07T13:10:38.623Z"
   },
   {
    "duration": 24,
    "start_time": "2022-09-07T13:10:38.671Z"
   },
   {
    "duration": 15,
    "start_time": "2022-09-07T13:10:38.696Z"
   },
   {
    "duration": 12,
    "start_time": "2022-09-07T13:10:38.713Z"
   },
   {
    "duration": 100,
    "start_time": "2022-09-07T13:10:38.726Z"
   },
   {
    "duration": 88,
    "start_time": "2022-09-07T13:10:38.828Z"
   },
   {
    "duration": 107,
    "start_time": "2022-09-07T13:10:38.917Z"
   },
   {
    "duration": 90,
    "start_time": "2022-09-07T13:10:39.026Z"
   },
   {
    "duration": 158,
    "start_time": "2022-09-07T13:10:39.118Z"
   },
   {
    "duration": 91,
    "start_time": "2022-09-07T13:10:39.277Z"
   },
   {
    "duration": 93,
    "start_time": "2022-09-07T13:10:39.370Z"
   },
   {
    "duration": 4,
    "start_time": "2022-09-07T13:10:39.465Z"
   },
   {
    "duration": 33,
    "start_time": "2022-09-07T13:10:39.471Z"
   },
   {
    "duration": 6,
    "start_time": "2022-09-07T13:10:39.505Z"
   },
   {
    "duration": 21,
    "start_time": "2022-09-07T13:10:39.513Z"
   },
   {
    "duration": 23,
    "start_time": "2022-09-07T13:10:39.536Z"
   },
   {
    "duration": 8,
    "start_time": "2022-09-07T13:11:14.086Z"
   },
   {
    "duration": 14,
    "start_time": "2022-09-07T13:11:20.781Z"
   },
   {
    "duration": 199,
    "start_time": "2022-09-07T13:16:10.387Z"
   },
   {
    "duration": 8,
    "start_time": "2022-09-07T13:16:18.654Z"
   },
   {
    "duration": 2,
    "start_time": "2022-09-07T13:16:34.317Z"
   },
   {
    "duration": 3,
    "start_time": "2022-09-07T13:16:45.593Z"
   },
   {
    "duration": 50,
    "start_time": "2022-09-07T13:16:45.598Z"
   },
   {
    "duration": 12,
    "start_time": "2022-09-07T13:16:45.650Z"
   },
   {
    "duration": 2,
    "start_time": "2022-09-07T13:16:45.663Z"
   },
   {
    "duration": 15,
    "start_time": "2022-09-07T13:16:45.667Z"
   },
   {
    "duration": 13,
    "start_time": "2022-09-07T13:16:45.683Z"
   },
   {
    "duration": 5,
    "start_time": "2022-09-07T13:16:45.697Z"
   },
   {
    "duration": 8,
    "start_time": "2022-09-07T13:16:45.703Z"
   },
   {
    "duration": 8,
    "start_time": "2022-09-07T13:16:45.713Z"
   },
   {
    "duration": 6,
    "start_time": "2022-09-07T13:16:45.722Z"
   },
   {
    "duration": 11,
    "start_time": "2022-09-07T13:16:45.756Z"
   },
   {
    "duration": 12,
    "start_time": "2022-09-07T13:16:45.768Z"
   },
   {
    "duration": 16,
    "start_time": "2022-09-07T13:16:45.781Z"
   },
   {
    "duration": 14,
    "start_time": "2022-09-07T13:16:45.798Z"
   },
   {
    "duration": 46,
    "start_time": "2022-09-07T13:16:45.813Z"
   },
   {
    "duration": 12,
    "start_time": "2022-09-07T13:16:45.860Z"
   },
   {
    "duration": 88,
    "start_time": "2022-09-07T13:16:45.874Z"
   },
   {
    "duration": 79,
    "start_time": "2022-09-07T13:16:45.964Z"
   },
   {
    "duration": 103,
    "start_time": "2022-09-07T13:16:46.055Z"
   },
   {
    "duration": 82,
    "start_time": "2022-09-07T13:16:46.160Z"
   },
   {
    "duration": 93,
    "start_time": "2022-09-07T13:16:46.254Z"
   },
   {
    "duration": 85,
    "start_time": "2022-09-07T13:16:46.354Z"
   },
   {
    "duration": 96,
    "start_time": "2022-09-07T13:16:46.440Z"
   },
   {
    "duration": 4,
    "start_time": "2022-09-07T13:16:46.538Z"
   },
   {
    "duration": 5,
    "start_time": "2022-09-07T13:16:49.624Z"
   },
   {
    "duration": 7,
    "start_time": "2022-09-07T13:16:56.754Z"
   },
   {
    "duration": 4,
    "start_time": "2022-09-07T13:17:38.945Z"
   },
   {
    "duration": 14,
    "start_time": "2022-09-07T13:18:02.980Z"
   },
   {
    "duration": 5,
    "start_time": "2022-09-07T13:18:39.762Z"
   },
   {
    "duration": 4,
    "start_time": "2022-09-07T13:18:51.050Z"
   },
   {
    "duration": 38,
    "start_time": "2022-09-07T13:19:26.727Z"
   },
   {
    "duration": 11,
    "start_time": "2022-09-07T13:19:36.715Z"
   },
   {
    "duration": 26,
    "start_time": "2022-09-07T13:19:42.447Z"
   },
   {
    "duration": 11,
    "start_time": "2022-09-07T13:19:58.556Z"
   },
   {
    "duration": 10,
    "start_time": "2022-09-07T13:20:00.227Z"
   },
   {
    "duration": 21,
    "start_time": "2022-09-07T13:20:07.196Z"
   },
   {
    "duration": 9,
    "start_time": "2022-09-07T13:20:21.297Z"
   },
   {
    "duration": 9,
    "start_time": "2022-09-07T13:20:38.359Z"
   },
   {
    "duration": 6,
    "start_time": "2022-09-07T13:20:48.696Z"
   },
   {
    "duration": 13,
    "start_time": "2022-09-07T13:21:00.715Z"
   },
   {
    "duration": 5,
    "start_time": "2022-09-07T13:21:02.979Z"
   },
   {
    "duration": 9,
    "start_time": "2022-09-07T13:21:06.251Z"
   },
   {
    "duration": 63,
    "start_time": "2022-09-07T13:21:11.827Z"
   },
   {
    "duration": 11,
    "start_time": "2022-09-07T13:21:18.554Z"
   },
   {
    "duration": 9,
    "start_time": "2022-09-07T13:31:52.059Z"
   },
   {
    "duration": 21,
    "start_time": "2022-09-07T13:32:38.529Z"
   },
   {
    "duration": 13,
    "start_time": "2022-09-07T13:36:56.594Z"
   },
   {
    "duration": 11,
    "start_time": "2022-09-07T13:38:13.939Z"
   },
   {
    "duration": 5,
    "start_time": "2022-09-07T13:38:26.083Z"
   },
   {
    "duration": 15,
    "start_time": "2022-09-07T13:38:28.329Z"
   },
   {
    "duration": 3,
    "start_time": "2022-09-07T13:39:26.176Z"
   },
   {
    "duration": 53,
    "start_time": "2022-09-07T13:39:26.182Z"
   },
   {
    "duration": 12,
    "start_time": "2022-09-07T13:39:26.236Z"
   },
   {
    "duration": 3,
    "start_time": "2022-09-07T13:39:26.249Z"
   },
   {
    "duration": 14,
    "start_time": "2022-09-07T13:39:26.253Z"
   },
   {
    "duration": 11,
    "start_time": "2022-09-07T13:39:26.269Z"
   },
   {
    "duration": 5,
    "start_time": "2022-09-07T13:39:26.281Z"
   },
   {
    "duration": 6,
    "start_time": "2022-09-07T13:39:26.287Z"
   },
   {
    "duration": 8,
    "start_time": "2022-09-07T13:39:26.294Z"
   },
   {
    "duration": 6,
    "start_time": "2022-09-07T13:39:26.303Z"
   },
   {
    "duration": 16,
    "start_time": "2022-09-07T13:39:26.311Z"
   },
   {
    "duration": 34,
    "start_time": "2022-09-07T13:39:26.329Z"
   },
   {
    "duration": 17,
    "start_time": "2022-09-07T13:39:26.364Z"
   },
   {
    "duration": 15,
    "start_time": "2022-09-07T13:39:26.383Z"
   },
   {
    "duration": 16,
    "start_time": "2022-09-07T13:39:26.400Z"
   },
   {
    "duration": 45,
    "start_time": "2022-09-07T13:39:26.417Z"
   },
   {
    "duration": 103,
    "start_time": "2022-09-07T13:39:26.463Z"
   },
   {
    "duration": 88,
    "start_time": "2022-09-07T13:39:26.568Z"
   },
   {
    "duration": 196,
    "start_time": "2022-09-07T13:39:26.658Z"
   },
   {
    "duration": 83,
    "start_time": "2022-09-07T13:39:26.856Z"
   },
   {
    "duration": 106,
    "start_time": "2022-09-07T13:39:26.941Z"
   },
   {
    "duration": 101,
    "start_time": "2022-09-07T13:39:27.055Z"
   },
   {
    "duration": 100,
    "start_time": "2022-09-07T13:39:27.157Z"
   },
   {
    "duration": 5,
    "start_time": "2022-09-07T13:39:27.259Z"
   },
   {
    "duration": 6,
    "start_time": "2022-09-07T13:39:27.265Z"
   },
   {
    "duration": 35,
    "start_time": "2022-09-07T13:39:27.273Z"
   },
   {
    "duration": 5,
    "start_time": "2022-09-07T13:39:27.309Z"
   },
   {
    "duration": 29,
    "start_time": "2022-09-07T13:39:27.316Z"
   },
   {
    "duration": 192,
    "start_time": "2022-09-07T13:39:27.351Z"
   },
   {
    "duration": 10,
    "start_time": "2022-09-07T13:39:27.545Z"
   },
   {
    "duration": 3,
    "start_time": "2022-09-07T13:39:27.556Z"
   },
   {
    "duration": 8,
    "start_time": "2022-09-07T13:39:27.561Z"
   },
   {
    "duration": 213,
    "start_time": "2022-09-07T13:39:27.570Z"
   },
   {
    "duration": 8,
    "start_time": "2022-09-07T13:39:27.785Z"
   },
   {
    "duration": 10,
    "start_time": "2022-09-07T13:39:27.794Z"
   },
   {
    "duration": 5,
    "start_time": "2022-09-07T13:39:27.805Z"
   },
   {
    "duration": 9,
    "start_time": "2022-09-07T13:39:27.812Z"
   },
   {
    "duration": 208,
    "start_time": "2022-09-07T13:39:27.823Z"
   },
   {
    "duration": 142,
    "start_time": "2022-09-07T13:39:28.032Z"
   },
   {
    "duration": 10,
    "start_time": "2022-09-07T13:39:28.175Z"
   },
   {
    "duration": 10,
    "start_time": "2022-09-07T13:39:28.186Z"
   },
   {
    "duration": 9,
    "start_time": "2022-09-07T13:39:28.197Z"
   },
   {
    "duration": 140,
    "start_time": "2022-09-07T13:39:28.208Z"
   },
   {
    "duration": 11,
    "start_time": "2022-09-07T13:39:28.350Z"
   },
   {
    "duration": 135,
    "start_time": "2022-09-07T13:39:28.362Z"
   },
   {
    "duration": 8,
    "start_time": "2022-09-07T13:39:28.499Z"
   },
   {
    "duration": 9,
    "start_time": "2022-09-07T13:39:28.509Z"
   },
   {
    "duration": 227,
    "start_time": "2022-09-07T13:39:28.519Z"
   },
   {
    "duration": 9,
    "start_time": "2022-09-07T13:39:28.747Z"
   },
   {
    "duration": 170,
    "start_time": "2022-09-07T13:39:28.757Z"
   },
   {
    "duration": 6,
    "start_time": "2022-09-07T13:39:28.928Z"
   },
   {
    "duration": 7,
    "start_time": "2022-09-07T13:39:28.935Z"
   },
   {
    "duration": 17,
    "start_time": "2022-09-07T13:39:28.943Z"
   },
   {
    "duration": 7,
    "start_time": "2022-09-07T13:39:28.962Z"
   },
   {
    "duration": 7,
    "start_time": "2022-09-07T13:39:28.970Z"
   },
   {
    "duration": 8,
    "start_time": "2022-09-07T13:39:28.979Z"
   },
   {
    "duration": 7,
    "start_time": "2022-09-07T13:39:28.988Z"
   },
   {
    "duration": 11,
    "start_time": "2022-09-07T13:39:28.996Z"
   },
   {
    "duration": 18,
    "start_time": "2022-09-07T13:39:29.008Z"
   },
   {
    "duration": 12,
    "start_time": "2022-09-07T13:39:29.028Z"
   },
   {
    "duration": 8,
    "start_time": "2022-09-07T13:39:29.041Z"
   },
   {
    "duration": 9,
    "start_time": "2022-09-07T13:39:29.050Z"
   },
   {
    "duration": 6,
    "start_time": "2022-09-07T13:39:29.061Z"
   },
   {
    "duration": 5,
    "start_time": "2022-09-07T13:39:29.068Z"
   },
   {
    "duration": 8,
    "start_time": "2022-09-07T13:39:29.075Z"
   },
   {
    "duration": 6,
    "start_time": "2022-09-07T13:39:29.085Z"
   },
   {
    "duration": 4,
    "start_time": "2022-09-07T13:39:29.093Z"
   },
   {
    "duration": 8,
    "start_time": "2022-09-07T13:39:29.098Z"
   },
   {
    "duration": 5,
    "start_time": "2022-09-07T13:39:29.108Z"
   },
   {
    "duration": 5,
    "start_time": "2022-09-07T13:39:29.114Z"
   },
   {
    "duration": 35,
    "start_time": "2022-09-07T13:39:29.121Z"
   },
   {
    "duration": 7,
    "start_time": "2022-09-07T13:39:29.158Z"
   },
   {
    "duration": 7,
    "start_time": "2022-09-07T13:39:29.166Z"
   },
   {
    "duration": 10,
    "start_time": "2022-09-07T13:39:29.175Z"
   },
   {
    "duration": 7,
    "start_time": "2022-09-07T13:39:29.186Z"
   },
   {
    "duration": 7,
    "start_time": "2022-09-07T13:39:29.194Z"
   },
   {
    "duration": 8,
    "start_time": "2022-09-07T13:39:29.202Z"
   },
   {
    "duration": 4,
    "start_time": "2022-09-07T13:39:29.211Z"
   },
   {
    "duration": 6,
    "start_time": "2022-09-07T13:39:29.217Z"
   },
   {
    "duration": 7,
    "start_time": "2022-09-07T13:39:29.225Z"
   },
   {
    "duration": 22,
    "start_time": "2022-09-07T13:39:29.233Z"
   },
   {
    "duration": 11,
    "start_time": "2022-09-07T13:39:29.257Z"
   },
   {
    "duration": 6,
    "start_time": "2022-09-07T13:39:29.272Z"
   },
   {
    "duration": 5,
    "start_time": "2022-09-07T13:39:29.279Z"
   },
   {
    "duration": 7,
    "start_time": "2022-09-07T13:39:29.285Z"
   },
   {
    "duration": 6,
    "start_time": "2022-09-07T13:39:29.293Z"
   },
   {
    "duration": 19,
    "start_time": "2022-09-07T13:39:29.301Z"
   },
   {
    "duration": 9,
    "start_time": "2022-09-07T13:39:29.321Z"
   },
   {
    "duration": 81,
    "start_time": "2022-09-07T14:01:20.114Z"
   },
   {
    "duration": 164,
    "start_time": "2022-09-07T14:20:52.618Z"
   },
   {
    "duration": 7,
    "start_time": "2022-09-07T14:28:53.075Z"
   },
   {
    "duration": 5,
    "start_time": "2022-09-07T14:29:18.221Z"
   },
   {
    "duration": 4,
    "start_time": "2022-09-07T14:50:59.257Z"
   },
   {
    "duration": 4,
    "start_time": "2022-09-07T14:51:04.242Z"
   },
   {
    "duration": 2,
    "start_time": "2022-09-07T14:51:09.859Z"
   },
   {
    "duration": 54,
    "start_time": "2022-09-07T14:51:09.863Z"
   },
   {
    "duration": 11,
    "start_time": "2022-09-07T14:51:09.919Z"
   },
   {
    "duration": 8,
    "start_time": "2022-09-07T14:51:09.932Z"
   },
   {
    "duration": 16,
    "start_time": "2022-09-07T14:51:09.941Z"
   },
   {
    "duration": 12,
    "start_time": "2022-09-07T14:51:09.958Z"
   },
   {
    "duration": 8,
    "start_time": "2022-09-07T14:51:09.971Z"
   },
   {
    "duration": 8,
    "start_time": "2022-09-07T14:51:09.980Z"
   },
   {
    "duration": 8,
    "start_time": "2022-09-07T14:51:09.990Z"
   },
   {
    "duration": 7,
    "start_time": "2022-09-07T14:51:09.999Z"
   },
   {
    "duration": 16,
    "start_time": "2022-09-07T14:51:10.008Z"
   },
   {
    "duration": 31,
    "start_time": "2022-09-07T14:51:10.025Z"
   },
   {
    "duration": 15,
    "start_time": "2022-09-07T14:51:10.057Z"
   },
   {
    "duration": 15,
    "start_time": "2022-09-07T14:51:10.073Z"
   },
   {
    "duration": 16,
    "start_time": "2022-09-07T14:51:10.089Z"
   },
   {
    "duration": 12,
    "start_time": "2022-09-07T14:51:10.106Z"
   },
   {
    "duration": 139,
    "start_time": "2022-09-07T14:51:10.120Z"
   },
   {
    "duration": 100,
    "start_time": "2022-09-07T14:51:10.261Z"
   },
   {
    "duration": 121,
    "start_time": "2022-09-07T14:51:10.363Z"
   },
   {
    "duration": 87,
    "start_time": "2022-09-07T14:51:10.486Z"
   },
   {
    "duration": 97,
    "start_time": "2022-09-07T14:51:10.575Z"
   },
   {
    "duration": 97,
    "start_time": "2022-09-07T14:51:10.674Z"
   },
   {
    "duration": 96,
    "start_time": "2022-09-07T14:51:10.773Z"
   },
   {
    "duration": 4,
    "start_time": "2022-09-07T14:51:10.871Z"
   },
   {
    "duration": 9,
    "start_time": "2022-09-07T14:51:10.876Z"
   },
   {
    "duration": 14,
    "start_time": "2022-09-07T14:51:10.887Z"
   },
   {
    "duration": 4,
    "start_time": "2022-09-07T14:51:10.902Z"
   },
   {
    "duration": 19,
    "start_time": "2022-09-07T14:51:10.907Z"
   },
   {
    "duration": 170,
    "start_time": "2022-09-07T14:51:10.929Z"
   },
   {
    "duration": 5,
    "start_time": "2022-09-07T14:51:11.101Z"
   },
   {
    "duration": 4,
    "start_time": "2022-09-07T14:51:11.107Z"
   },
   {
    "duration": 7,
    "start_time": "2022-09-07T14:51:11.112Z"
   },
   {
    "duration": 219,
    "start_time": "2022-09-07T14:51:11.120Z"
   },
   {
    "duration": 4,
    "start_time": "2022-09-07T14:51:11.341Z"
   },
   {
    "duration": 8,
    "start_time": "2022-09-07T14:51:11.354Z"
   },
   {
    "duration": 5,
    "start_time": "2022-09-07T14:51:11.363Z"
   },
   {
    "duration": 8,
    "start_time": "2022-09-07T14:51:11.369Z"
   },
   {
    "duration": 261,
    "start_time": "2022-09-07T14:51:11.378Z"
   },
   {
    "duration": 134,
    "start_time": "2022-09-07T14:51:11.641Z"
   },
   {
    "duration": 9,
    "start_time": "2022-09-07T14:51:11.776Z"
   },
   {
    "duration": 9,
    "start_time": "2022-09-07T14:51:11.787Z"
   },
   {
    "duration": 10,
    "start_time": "2022-09-07T14:51:11.798Z"
   },
   {
    "duration": 147,
    "start_time": "2022-09-07T14:51:11.810Z"
   },
   {
    "duration": 9,
    "start_time": "2022-09-07T14:51:11.959Z"
   },
   {
    "duration": 141,
    "start_time": "2022-09-07T14:51:11.970Z"
   },
   {
    "duration": 8,
    "start_time": "2022-09-07T14:51:12.112Z"
   },
   {
    "duration": 8,
    "start_time": "2022-09-07T14:51:12.122Z"
   },
   {
    "duration": 161,
    "start_time": "2022-09-07T14:51:12.131Z"
   },
   {
    "duration": 6,
    "start_time": "2022-09-07T14:51:12.294Z"
   },
   {
    "duration": 170,
    "start_time": "2022-09-07T14:51:12.302Z"
   },
   {
    "duration": 6,
    "start_time": "2022-09-07T14:51:12.474Z"
   },
   {
    "duration": 5,
    "start_time": "2022-09-07T14:51:12.481Z"
   },
   {
    "duration": 9,
    "start_time": "2022-09-07T14:51:12.488Z"
   },
   {
    "duration": 5,
    "start_time": "2022-09-07T14:51:12.499Z"
   },
   {
    "duration": 4,
    "start_time": "2022-09-07T14:51:12.506Z"
   },
   {
    "duration": 8,
    "start_time": "2022-09-07T14:51:12.512Z"
   },
   {
    "duration": 7,
    "start_time": "2022-09-07T14:51:12.521Z"
   },
   {
    "duration": 26,
    "start_time": "2022-09-07T14:51:12.529Z"
   },
   {
    "duration": 10,
    "start_time": "2022-09-07T14:51:12.557Z"
   },
   {
    "duration": 6,
    "start_time": "2022-09-07T14:51:12.568Z"
   },
   {
    "duration": 6,
    "start_time": "2022-09-07T14:51:12.575Z"
   },
   {
    "duration": 7,
    "start_time": "2022-09-07T14:51:12.583Z"
   },
   {
    "duration": 7,
    "start_time": "2022-09-07T14:51:12.592Z"
   },
   {
    "duration": 6,
    "start_time": "2022-09-07T14:51:12.600Z"
   },
   {
    "duration": 9,
    "start_time": "2022-09-07T14:51:12.608Z"
   },
   {
    "duration": 5,
    "start_time": "2022-09-07T14:51:12.619Z"
   },
   {
    "duration": 6,
    "start_time": "2022-09-07T14:51:12.625Z"
   },
   {
    "duration": 25,
    "start_time": "2022-09-07T14:51:12.632Z"
   },
   {
    "duration": 10,
    "start_time": "2022-09-07T14:51:12.658Z"
   },
   {
    "duration": 11,
    "start_time": "2022-09-07T14:51:12.669Z"
   },
   {
    "duration": 12,
    "start_time": "2022-09-07T14:51:12.682Z"
   },
   {
    "duration": 7,
    "start_time": "2022-09-07T14:51:12.695Z"
   },
   {
    "duration": 4,
    "start_time": "2022-09-07T14:51:12.703Z"
   },
   {
    "duration": 9,
    "start_time": "2022-09-07T14:51:12.709Z"
   },
   {
    "duration": 7,
    "start_time": "2022-09-07T14:51:12.720Z"
   },
   {
    "duration": 7,
    "start_time": "2022-09-07T14:51:12.728Z"
   },
   {
    "duration": 8,
    "start_time": "2022-09-07T14:51:12.737Z"
   },
   {
    "duration": 2,
    "start_time": "2022-09-07T14:51:12.755Z"
   },
   {
    "duration": 8,
    "start_time": "2022-09-07T14:51:12.758Z"
   },
   {
    "duration": 7,
    "start_time": "2022-09-07T14:51:12.767Z"
   },
   {
    "duration": 6,
    "start_time": "2022-09-07T14:51:12.775Z"
   },
   {
    "duration": 7,
    "start_time": "2022-09-07T14:51:12.782Z"
   },
   {
    "duration": 5,
    "start_time": "2022-09-07T14:51:12.793Z"
   },
   {
    "duration": 7,
    "start_time": "2022-09-07T14:51:12.799Z"
   },
   {
    "duration": 83,
    "start_time": "2022-09-07T14:51:12.808Z"
   },
   {
    "duration": 4,
    "start_time": "2022-09-07T15:01:30.921Z"
   },
   {
    "duration": 6,
    "start_time": "2022-09-07T15:23:56.310Z"
   },
   {
    "duration": 6,
    "start_time": "2022-09-07T15:24:44.686Z"
   },
   {
    "duration": 6,
    "start_time": "2022-09-07T15:25:20.915Z"
   },
   {
    "duration": 132,
    "start_time": "2022-09-07T15:26:06.792Z"
   },
   {
    "duration": 7,
    "start_time": "2022-09-07T15:28:03.840Z"
   },
   {
    "duration": 7,
    "start_time": "2022-09-07T15:28:17.610Z"
   },
   {
    "duration": 6,
    "start_time": "2022-09-07T15:28:31.491Z"
   },
   {
    "duration": 6,
    "start_time": "2022-09-07T15:28:37.830Z"
   },
   {
    "duration": 89,
    "start_time": "2022-09-07T15:48:11.383Z"
   },
   {
    "duration": 90,
    "start_time": "2022-09-07T15:50:39.988Z"
   },
   {
    "duration": 358,
    "start_time": "2022-09-07T15:53:44.809Z"
   },
   {
    "duration": 49,
    "start_time": "2022-09-07T15:53:45.168Z"
   },
   {
    "duration": 12,
    "start_time": "2022-09-07T15:53:45.219Z"
   },
   {
    "duration": 2,
    "start_time": "2022-09-07T15:53:45.233Z"
   },
   {
    "duration": 18,
    "start_time": "2022-09-07T15:53:45.237Z"
   },
   {
    "duration": 17,
    "start_time": "2022-09-07T15:53:45.257Z"
   },
   {
    "duration": 3,
    "start_time": "2022-09-07T15:53:45.276Z"
   },
   {
    "duration": 7,
    "start_time": "2022-09-07T15:53:45.280Z"
   },
   {
    "duration": 12,
    "start_time": "2022-09-07T15:53:45.288Z"
   },
   {
    "duration": 7,
    "start_time": "2022-09-07T15:53:45.302Z"
   },
   {
    "duration": 12,
    "start_time": "2022-09-07T15:53:45.311Z"
   },
   {
    "duration": 281,
    "start_time": "2022-09-07T15:53:45.324Z"
   },
   {
    "duration": 17,
    "start_time": "2022-09-07T15:53:45.606Z"
   },
   {
    "duration": 15,
    "start_time": "2022-09-07T15:53:45.624Z"
   },
   {
    "duration": 28,
    "start_time": "2022-09-07T15:53:45.641Z"
   },
   {
    "duration": 14,
    "start_time": "2022-09-07T15:53:45.670Z"
   },
   {
    "duration": 103,
    "start_time": "2022-09-07T15:53:45.685Z"
   },
   {
    "duration": 91,
    "start_time": "2022-09-07T15:53:45.790Z"
   },
   {
    "duration": 105,
    "start_time": "2022-09-07T15:53:45.883Z"
   },
   {
    "duration": 139,
    "start_time": "2022-09-07T15:53:45.989Z"
   },
   {
    "duration": 96,
    "start_time": "2022-09-07T15:53:46.129Z"
   },
   {
    "duration": 92,
    "start_time": "2022-09-07T15:53:46.226Z"
   },
   {
    "duration": 95,
    "start_time": "2022-09-07T15:53:46.319Z"
   },
   {
    "duration": 4,
    "start_time": "2022-09-07T15:53:46.415Z"
   },
   {
    "duration": 8,
    "start_time": "2022-09-07T15:53:46.420Z"
   },
   {
    "duration": 26,
    "start_time": "2022-09-07T15:53:46.429Z"
   },
   {
    "duration": 6,
    "start_time": "2022-09-07T15:53:46.456Z"
   },
   {
    "duration": 5,
    "start_time": "2022-09-07T15:53:46.466Z"
   },
   {
    "duration": 66,
    "start_time": "2022-09-07T15:53:46.472Z"
   },
   {
    "duration": 0,
    "start_time": "2022-09-07T15:53:46.554Z"
   },
   {
    "duration": 0,
    "start_time": "2022-09-07T15:53:46.555Z"
   },
   {
    "duration": 0,
    "start_time": "2022-09-07T15:53:46.556Z"
   },
   {
    "duration": 0,
    "start_time": "2022-09-07T15:53:46.557Z"
   },
   {
    "duration": 0,
    "start_time": "2022-09-07T15:53:46.558Z"
   },
   {
    "duration": 0,
    "start_time": "2022-09-07T15:53:46.559Z"
   },
   {
    "duration": 0,
    "start_time": "2022-09-07T15:53:46.560Z"
   },
   {
    "duration": 0,
    "start_time": "2022-09-07T15:53:46.561Z"
   },
   {
    "duration": 0,
    "start_time": "2022-09-07T15:53:46.562Z"
   },
   {
    "duration": 0,
    "start_time": "2022-09-07T15:53:46.563Z"
   },
   {
    "duration": 0,
    "start_time": "2022-09-07T15:53:46.564Z"
   },
   {
    "duration": 0,
    "start_time": "2022-09-07T15:53:46.565Z"
   },
   {
    "duration": 0,
    "start_time": "2022-09-07T15:53:46.566Z"
   },
   {
    "duration": 0,
    "start_time": "2022-09-07T15:53:46.567Z"
   },
   {
    "duration": 0,
    "start_time": "2022-09-07T15:53:46.567Z"
   },
   {
    "duration": 0,
    "start_time": "2022-09-07T15:53:46.568Z"
   },
   {
    "duration": 0,
    "start_time": "2022-09-07T15:53:46.569Z"
   },
   {
    "duration": 0,
    "start_time": "2022-09-07T15:53:46.570Z"
   },
   {
    "duration": 0,
    "start_time": "2022-09-07T15:53:46.571Z"
   },
   {
    "duration": 0,
    "start_time": "2022-09-07T15:53:46.572Z"
   },
   {
    "duration": 0,
    "start_time": "2022-09-07T15:53:46.573Z"
   },
   {
    "duration": 0,
    "start_time": "2022-09-07T15:53:46.574Z"
   },
   {
    "duration": 0,
    "start_time": "2022-09-07T15:53:46.575Z"
   },
   {
    "duration": 0,
    "start_time": "2022-09-07T15:53:46.576Z"
   },
   {
    "duration": 0,
    "start_time": "2022-09-07T15:53:46.577Z"
   },
   {
    "duration": 0,
    "start_time": "2022-09-07T15:53:46.578Z"
   },
   {
    "duration": 0,
    "start_time": "2022-09-07T15:53:46.579Z"
   },
   {
    "duration": 0,
    "start_time": "2022-09-07T15:53:46.580Z"
   },
   {
    "duration": 0,
    "start_time": "2022-09-07T15:53:46.581Z"
   },
   {
    "duration": 0,
    "start_time": "2022-09-07T15:53:46.582Z"
   },
   {
    "duration": 0,
    "start_time": "2022-09-07T15:53:46.583Z"
   },
   {
    "duration": 0,
    "start_time": "2022-09-07T15:53:46.584Z"
   },
   {
    "duration": 0,
    "start_time": "2022-09-07T15:53:46.585Z"
   },
   {
    "duration": 0,
    "start_time": "2022-09-07T15:53:46.586Z"
   },
   {
    "duration": 0,
    "start_time": "2022-09-07T15:53:46.587Z"
   },
   {
    "duration": 0,
    "start_time": "2022-09-07T15:53:46.588Z"
   },
   {
    "duration": 0,
    "start_time": "2022-09-07T15:53:46.589Z"
   },
   {
    "duration": 0,
    "start_time": "2022-09-07T15:53:46.590Z"
   },
   {
    "duration": 0,
    "start_time": "2022-09-07T15:53:46.591Z"
   },
   {
    "duration": 0,
    "start_time": "2022-09-07T15:53:46.592Z"
   },
   {
    "duration": 0,
    "start_time": "2022-09-07T15:53:46.592Z"
   },
   {
    "duration": 0,
    "start_time": "2022-09-07T15:53:46.593Z"
   },
   {
    "duration": 0,
    "start_time": "2022-09-07T15:53:46.655Z"
   },
   {
    "duration": 0,
    "start_time": "2022-09-07T15:53:46.656Z"
   },
   {
    "duration": 0,
    "start_time": "2022-09-07T15:53:46.657Z"
   },
   {
    "duration": 0,
    "start_time": "2022-09-07T15:53:46.658Z"
   },
   {
    "duration": 0,
    "start_time": "2022-09-07T15:53:46.659Z"
   },
   {
    "duration": 0,
    "start_time": "2022-09-07T15:53:46.660Z"
   },
   {
    "duration": 0,
    "start_time": "2022-09-07T15:53:46.661Z"
   },
   {
    "duration": 0,
    "start_time": "2022-09-07T15:53:46.662Z"
   },
   {
    "duration": 0,
    "start_time": "2022-09-07T15:53:46.663Z"
   },
   {
    "duration": 0,
    "start_time": "2022-09-07T15:53:46.663Z"
   },
   {
    "duration": 0,
    "start_time": "2022-09-07T15:53:46.664Z"
   },
   {
    "duration": 0,
    "start_time": "2022-09-07T15:53:46.665Z"
   },
   {
    "duration": 0,
    "start_time": "2022-09-07T15:53:46.666Z"
   },
   {
    "duration": 0,
    "start_time": "2022-09-07T15:53:46.668Z"
   },
   {
    "duration": 0,
    "start_time": "2022-09-07T15:53:46.679Z"
   },
   {
    "duration": 3,
    "start_time": "2022-09-07T15:54:15.066Z"
   },
   {
    "duration": 58,
    "start_time": "2022-09-07T15:54:15.072Z"
   },
   {
    "duration": 15,
    "start_time": "2022-09-07T15:54:15.132Z"
   },
   {
    "duration": 4,
    "start_time": "2022-09-07T15:54:15.149Z"
   },
   {
    "duration": 32,
    "start_time": "2022-09-07T15:54:15.155Z"
   },
   {
    "duration": 16,
    "start_time": "2022-09-07T15:54:15.188Z"
   },
   {
    "duration": 11,
    "start_time": "2022-09-07T15:54:15.206Z"
   },
   {
    "duration": 12,
    "start_time": "2022-09-07T15:54:15.219Z"
   },
   {
    "duration": 18,
    "start_time": "2022-09-07T15:54:15.233Z"
   },
   {
    "duration": 7,
    "start_time": "2022-09-07T15:54:15.252Z"
   },
   {
    "duration": 16,
    "start_time": "2022-09-07T15:54:15.262Z"
   },
   {
    "duration": 19,
    "start_time": "2022-09-07T15:54:15.279Z"
   },
   {
    "duration": 18,
    "start_time": "2022-09-07T15:54:15.299Z"
   },
   {
    "duration": 48,
    "start_time": "2022-09-07T15:54:15.318Z"
   },
   {
    "duration": 16,
    "start_time": "2022-09-07T15:54:15.368Z"
   },
   {
    "duration": 14,
    "start_time": "2022-09-07T15:54:15.386Z"
   },
   {
    "duration": 117,
    "start_time": "2022-09-07T15:54:15.401Z"
   },
   {
    "duration": 97,
    "start_time": "2022-09-07T15:54:15.520Z"
   },
   {
    "duration": 124,
    "start_time": "2022-09-07T15:54:15.619Z"
   },
   {
    "duration": 97,
    "start_time": "2022-09-07T15:54:15.745Z"
   },
   {
    "duration": 104,
    "start_time": "2022-09-07T15:54:15.843Z"
   },
   {
    "duration": 96,
    "start_time": "2022-09-07T15:54:15.948Z"
   },
   {
    "duration": 91,
    "start_time": "2022-09-07T15:54:16.054Z"
   },
   {
    "duration": 13,
    "start_time": "2022-09-07T15:54:16.146Z"
   },
   {
    "duration": 5,
    "start_time": "2022-09-07T15:54:16.161Z"
   },
   {
    "duration": 16,
    "start_time": "2022-09-07T15:54:16.167Z"
   },
   {
    "duration": 6,
    "start_time": "2022-09-07T15:54:16.184Z"
   },
   {
    "duration": 5,
    "start_time": "2022-09-07T15:54:16.192Z"
   },
   {
    "duration": 8,
    "start_time": "2022-09-07T15:54:16.286Z"
   },
   {
    "duration": 0,
    "start_time": "2022-09-07T15:54:16.295Z"
   },
   {
    "duration": 0,
    "start_time": "2022-09-07T15:54:16.296Z"
   },
   {
    "duration": 0,
    "start_time": "2022-09-07T15:54:16.297Z"
   },
   {
    "duration": 0,
    "start_time": "2022-09-07T15:54:16.298Z"
   },
   {
    "duration": 0,
    "start_time": "2022-09-07T15:54:16.299Z"
   },
   {
    "duration": 0,
    "start_time": "2022-09-07T15:54:16.300Z"
   },
   {
    "duration": 0,
    "start_time": "2022-09-07T15:54:16.301Z"
   },
   {
    "duration": 0,
    "start_time": "2022-09-07T15:54:16.302Z"
   },
   {
    "duration": 0,
    "start_time": "2022-09-07T15:54:16.302Z"
   },
   {
    "duration": 0,
    "start_time": "2022-09-07T15:54:16.303Z"
   },
   {
    "duration": 0,
    "start_time": "2022-09-07T15:54:16.305Z"
   },
   {
    "duration": 0,
    "start_time": "2022-09-07T15:54:16.306Z"
   },
   {
    "duration": 0,
    "start_time": "2022-09-07T15:54:16.306Z"
   },
   {
    "duration": 0,
    "start_time": "2022-09-07T15:54:16.308Z"
   },
   {
    "duration": 0,
    "start_time": "2022-09-07T15:54:16.308Z"
   },
   {
    "duration": 0,
    "start_time": "2022-09-07T15:54:16.309Z"
   },
   {
    "duration": 0,
    "start_time": "2022-09-07T15:54:16.310Z"
   },
   {
    "duration": 0,
    "start_time": "2022-09-07T15:54:16.311Z"
   },
   {
    "duration": 0,
    "start_time": "2022-09-07T15:54:16.312Z"
   },
   {
    "duration": 0,
    "start_time": "2022-09-07T15:54:16.313Z"
   },
   {
    "duration": 0,
    "start_time": "2022-09-07T15:54:16.314Z"
   },
   {
    "duration": 0,
    "start_time": "2022-09-07T15:54:16.315Z"
   },
   {
    "duration": 0,
    "start_time": "2022-09-07T15:54:16.316Z"
   },
   {
    "duration": 0,
    "start_time": "2022-09-07T15:54:16.355Z"
   },
   {
    "duration": 0,
    "start_time": "2022-09-07T15:54:16.355Z"
   },
   {
    "duration": 0,
    "start_time": "2022-09-07T15:54:16.356Z"
   },
   {
    "duration": 0,
    "start_time": "2022-09-07T15:54:16.357Z"
   },
   {
    "duration": 0,
    "start_time": "2022-09-07T15:54:16.358Z"
   },
   {
    "duration": 0,
    "start_time": "2022-09-07T15:54:16.359Z"
   },
   {
    "duration": 0,
    "start_time": "2022-09-07T15:54:16.360Z"
   },
   {
    "duration": 0,
    "start_time": "2022-09-07T15:54:16.361Z"
   },
   {
    "duration": 0,
    "start_time": "2022-09-07T15:54:16.362Z"
   },
   {
    "duration": 0,
    "start_time": "2022-09-07T15:54:16.362Z"
   },
   {
    "duration": 0,
    "start_time": "2022-09-07T15:54:16.364Z"
   },
   {
    "duration": 0,
    "start_time": "2022-09-07T15:54:16.364Z"
   },
   {
    "duration": 0,
    "start_time": "2022-09-07T15:54:16.365Z"
   },
   {
    "duration": 0,
    "start_time": "2022-09-07T15:54:16.366Z"
   },
   {
    "duration": 0,
    "start_time": "2022-09-07T15:54:16.367Z"
   },
   {
    "duration": 0,
    "start_time": "2022-09-07T15:54:16.368Z"
   },
   {
    "duration": 0,
    "start_time": "2022-09-07T15:54:16.369Z"
   },
   {
    "duration": 0,
    "start_time": "2022-09-07T15:54:16.370Z"
   },
   {
    "duration": 0,
    "start_time": "2022-09-07T15:54:16.371Z"
   },
   {
    "duration": 0,
    "start_time": "2022-09-07T15:54:16.371Z"
   },
   {
    "duration": 0,
    "start_time": "2022-09-07T15:54:16.372Z"
   },
   {
    "duration": 0,
    "start_time": "2022-09-07T15:54:16.373Z"
   },
   {
    "duration": 0,
    "start_time": "2022-09-07T15:54:16.374Z"
   },
   {
    "duration": 0,
    "start_time": "2022-09-07T15:54:16.375Z"
   },
   {
    "duration": 0,
    "start_time": "2022-09-07T15:54:16.376Z"
   },
   {
    "duration": 0,
    "start_time": "2022-09-07T15:54:16.377Z"
   },
   {
    "duration": 0,
    "start_time": "2022-09-07T15:54:16.378Z"
   },
   {
    "duration": 0,
    "start_time": "2022-09-07T15:54:16.379Z"
   },
   {
    "duration": 0,
    "start_time": "2022-09-07T15:54:16.380Z"
   },
   {
    "duration": 0,
    "start_time": "2022-09-07T15:54:16.381Z"
   },
   {
    "duration": 0,
    "start_time": "2022-09-07T15:54:16.382Z"
   },
   {
    "duration": 0,
    "start_time": "2022-09-07T15:54:16.383Z"
   },
   {
    "duration": 0,
    "start_time": "2022-09-07T15:54:16.384Z"
   },
   {
    "duration": 0,
    "start_time": "2022-09-07T15:54:16.385Z"
   },
   {
    "duration": 2,
    "start_time": "2022-09-07T15:54:36.164Z"
   },
   {
    "duration": 56,
    "start_time": "2022-09-07T15:54:36.170Z"
   },
   {
    "duration": 13,
    "start_time": "2022-09-07T15:54:36.228Z"
   },
   {
    "duration": 3,
    "start_time": "2022-09-07T15:54:36.242Z"
   },
   {
    "duration": 14,
    "start_time": "2022-09-07T15:54:36.247Z"
   },
   {
    "duration": 12,
    "start_time": "2022-09-07T15:54:36.262Z"
   },
   {
    "duration": 4,
    "start_time": "2022-09-07T15:54:36.276Z"
   },
   {
    "duration": 6,
    "start_time": "2022-09-07T15:54:36.282Z"
   },
   {
    "duration": 9,
    "start_time": "2022-09-07T15:54:36.289Z"
   },
   {
    "duration": 7,
    "start_time": "2022-09-07T15:54:36.299Z"
   },
   {
    "duration": 13,
    "start_time": "2022-09-07T15:54:36.308Z"
   },
   {
    "duration": 47,
    "start_time": "2022-09-07T15:54:36.322Z"
   },
   {
    "duration": 19,
    "start_time": "2022-09-07T15:54:36.370Z"
   },
   {
    "duration": 18,
    "start_time": "2022-09-07T15:54:36.390Z"
   },
   {
    "duration": 53,
    "start_time": "2022-09-07T15:54:36.410Z"
   },
   {
    "duration": 15,
    "start_time": "2022-09-07T15:54:36.465Z"
   },
   {
    "duration": 115,
    "start_time": "2022-09-07T15:54:36.482Z"
   },
   {
    "duration": 106,
    "start_time": "2022-09-07T15:54:36.599Z"
   },
   {
    "duration": 122,
    "start_time": "2022-09-07T15:54:36.707Z"
   },
   {
    "duration": 89,
    "start_time": "2022-09-07T15:54:36.831Z"
   },
   {
    "duration": 101,
    "start_time": "2022-09-07T15:54:36.921Z"
   },
   {
    "duration": 94,
    "start_time": "2022-09-07T15:54:37.024Z"
   },
   {
    "duration": 96,
    "start_time": "2022-09-07T15:54:37.120Z"
   },
   {
    "duration": 4,
    "start_time": "2022-09-07T15:54:37.217Z"
   },
   {
    "duration": 6,
    "start_time": "2022-09-07T15:54:37.223Z"
   },
   {
    "duration": 26,
    "start_time": "2022-09-07T15:54:37.230Z"
   },
   {
    "duration": 6,
    "start_time": "2022-09-07T15:54:37.257Z"
   },
   {
    "duration": 6,
    "start_time": "2022-09-07T15:54:37.265Z"
   },
   {
    "duration": 9,
    "start_time": "2022-09-07T15:54:37.275Z"
   },
   {
    "duration": 0,
    "start_time": "2022-09-07T15:54:37.286Z"
   },
   {
    "duration": 0,
    "start_time": "2022-09-07T15:54:37.288Z"
   },
   {
    "duration": 0,
    "start_time": "2022-09-07T15:54:37.289Z"
   },
   {
    "duration": 0,
    "start_time": "2022-09-07T15:54:37.291Z"
   },
   {
    "duration": 0,
    "start_time": "2022-09-07T15:54:37.292Z"
   },
   {
    "duration": 0,
    "start_time": "2022-09-07T15:54:37.293Z"
   },
   {
    "duration": 0,
    "start_time": "2022-09-07T15:54:37.295Z"
   },
   {
    "duration": 0,
    "start_time": "2022-09-07T15:54:37.295Z"
   },
   {
    "duration": 0,
    "start_time": "2022-09-07T15:54:37.297Z"
   },
   {
    "duration": 0,
    "start_time": "2022-09-07T15:54:37.298Z"
   },
   {
    "duration": 0,
    "start_time": "2022-09-07T15:54:37.299Z"
   },
   {
    "duration": 0,
    "start_time": "2022-09-07T15:54:37.300Z"
   },
   {
    "duration": 0,
    "start_time": "2022-09-07T15:54:37.301Z"
   },
   {
    "duration": 0,
    "start_time": "2022-09-07T15:54:37.302Z"
   },
   {
    "duration": 0,
    "start_time": "2022-09-07T15:54:37.303Z"
   },
   {
    "duration": 0,
    "start_time": "2022-09-07T15:54:37.354Z"
   },
   {
    "duration": 0,
    "start_time": "2022-09-07T15:54:37.356Z"
   },
   {
    "duration": 0,
    "start_time": "2022-09-07T15:54:37.358Z"
   },
   {
    "duration": 0,
    "start_time": "2022-09-07T15:54:37.359Z"
   },
   {
    "duration": 0,
    "start_time": "2022-09-07T15:54:37.360Z"
   },
   {
    "duration": 0,
    "start_time": "2022-09-07T15:54:37.361Z"
   },
   {
    "duration": 0,
    "start_time": "2022-09-07T15:54:37.362Z"
   },
   {
    "duration": 0,
    "start_time": "2022-09-07T15:54:37.363Z"
   },
   {
    "duration": 0,
    "start_time": "2022-09-07T15:54:37.365Z"
   },
   {
    "duration": 0,
    "start_time": "2022-09-07T15:54:37.366Z"
   },
   {
    "duration": 0,
    "start_time": "2022-09-07T15:54:37.367Z"
   },
   {
    "duration": 0,
    "start_time": "2022-09-07T15:54:37.369Z"
   },
   {
    "duration": 0,
    "start_time": "2022-09-07T15:54:37.370Z"
   },
   {
    "duration": 0,
    "start_time": "2022-09-07T15:54:37.371Z"
   },
   {
    "duration": 0,
    "start_time": "2022-09-07T15:54:37.372Z"
   },
   {
    "duration": 0,
    "start_time": "2022-09-07T15:54:37.373Z"
   },
   {
    "duration": 0,
    "start_time": "2022-09-07T15:54:37.374Z"
   },
   {
    "duration": 0,
    "start_time": "2022-09-07T15:54:37.376Z"
   },
   {
    "duration": 0,
    "start_time": "2022-09-07T15:54:37.377Z"
   },
   {
    "duration": 0,
    "start_time": "2022-09-07T15:54:37.378Z"
   },
   {
    "duration": 0,
    "start_time": "2022-09-07T15:54:37.380Z"
   },
   {
    "duration": 0,
    "start_time": "2022-09-07T15:54:37.381Z"
   },
   {
    "duration": 0,
    "start_time": "2022-09-07T15:54:37.383Z"
   },
   {
    "duration": 0,
    "start_time": "2022-09-07T15:54:37.384Z"
   },
   {
    "duration": 0,
    "start_time": "2022-09-07T15:54:37.385Z"
   },
   {
    "duration": 0,
    "start_time": "2022-09-07T15:54:37.387Z"
   },
   {
    "duration": 0,
    "start_time": "2022-09-07T15:54:37.388Z"
   },
   {
    "duration": 0,
    "start_time": "2022-09-07T15:54:37.389Z"
   },
   {
    "duration": 0,
    "start_time": "2022-09-07T15:54:37.390Z"
   },
   {
    "duration": 0,
    "start_time": "2022-09-07T15:54:37.391Z"
   },
   {
    "duration": 0,
    "start_time": "2022-09-07T15:54:37.392Z"
   },
   {
    "duration": 0,
    "start_time": "2022-09-07T15:54:37.394Z"
   },
   {
    "duration": 0,
    "start_time": "2022-09-07T15:54:37.454Z"
   },
   {
    "duration": 0,
    "start_time": "2022-09-07T15:54:37.456Z"
   },
   {
    "duration": 0,
    "start_time": "2022-09-07T15:54:37.457Z"
   },
   {
    "duration": 0,
    "start_time": "2022-09-07T15:54:37.458Z"
   },
   {
    "duration": 0,
    "start_time": "2022-09-07T15:54:37.460Z"
   },
   {
    "duration": 0,
    "start_time": "2022-09-07T15:54:37.461Z"
   },
   {
    "duration": 0,
    "start_time": "2022-09-07T15:54:37.463Z"
   },
   {
    "duration": 0,
    "start_time": "2022-09-07T15:54:37.464Z"
   },
   {
    "duration": 0,
    "start_time": "2022-09-07T15:54:37.465Z"
   },
   {
    "duration": 3,
    "start_time": "2022-09-07T15:55:36.781Z"
   },
   {
    "duration": 54,
    "start_time": "2022-09-07T15:55:36.789Z"
   },
   {
    "duration": 13,
    "start_time": "2022-09-07T15:55:36.845Z"
   },
   {
    "duration": 15,
    "start_time": "2022-09-07T15:55:36.860Z"
   },
   {
    "duration": 22,
    "start_time": "2022-09-07T15:55:36.878Z"
   },
   {
    "duration": 17,
    "start_time": "2022-09-07T15:55:36.901Z"
   },
   {
    "duration": 5,
    "start_time": "2022-09-07T15:55:36.919Z"
   },
   {
    "duration": 6,
    "start_time": "2022-09-07T15:55:36.925Z"
   },
   {
    "duration": 28,
    "start_time": "2022-09-07T15:55:36.932Z"
   },
   {
    "duration": 11,
    "start_time": "2022-09-07T15:55:36.961Z"
   },
   {
    "duration": 23,
    "start_time": "2022-09-07T15:55:36.975Z"
   },
   {
    "duration": 14,
    "start_time": "2022-09-07T15:55:37.000Z"
   },
   {
    "duration": 43,
    "start_time": "2022-09-07T15:55:37.016Z"
   },
   {
    "duration": 17,
    "start_time": "2022-09-07T15:55:37.060Z"
   },
   {
    "duration": 18,
    "start_time": "2022-09-07T15:55:37.079Z"
   },
   {
    "duration": 14,
    "start_time": "2022-09-07T15:55:37.099Z"
   },
   {
    "duration": 121,
    "start_time": "2022-09-07T15:55:37.115Z"
   },
   {
    "duration": 125,
    "start_time": "2022-09-07T15:55:37.238Z"
   },
   {
    "duration": 133,
    "start_time": "2022-09-07T15:55:37.365Z"
   },
   {
    "duration": 131,
    "start_time": "2022-09-07T15:55:37.499Z"
   },
   {
    "duration": 183,
    "start_time": "2022-09-07T15:55:37.631Z"
   },
   {
    "duration": 101,
    "start_time": "2022-09-07T15:55:37.815Z"
   },
   {
    "duration": 95,
    "start_time": "2022-09-07T15:55:37.917Z"
   },
   {
    "duration": 4,
    "start_time": "2022-09-07T15:55:38.013Z"
   },
   {
    "duration": 5,
    "start_time": "2022-09-07T15:55:38.019Z"
   },
   {
    "duration": 17,
    "start_time": "2022-09-07T15:55:38.026Z"
   },
   {
    "duration": 15,
    "start_time": "2022-09-07T15:55:38.044Z"
   },
   {
    "duration": 10,
    "start_time": "2022-09-07T15:55:38.060Z"
   },
   {
    "duration": 5,
    "start_time": "2022-09-07T15:55:38.076Z"
   },
   {
    "duration": 27,
    "start_time": "2022-09-07T15:55:38.082Z"
   },
   {
    "duration": 185,
    "start_time": "2022-09-07T15:55:38.111Z"
   },
   {
    "duration": 6,
    "start_time": "2022-09-07T15:55:38.298Z"
   },
   {
    "duration": 7,
    "start_time": "2022-09-07T15:55:38.305Z"
   },
   {
    "duration": 8,
    "start_time": "2022-09-07T15:55:38.313Z"
   },
   {
    "duration": 273,
    "start_time": "2022-09-07T15:55:38.322Z"
   },
   {
    "duration": 6,
    "start_time": "2022-09-07T15:55:38.597Z"
   },
   {
    "duration": 8,
    "start_time": "2022-09-07T15:55:38.604Z"
   },
   {
    "duration": 5,
    "start_time": "2022-09-07T15:55:38.613Z"
   },
   {
    "duration": 9,
    "start_time": "2022-09-07T15:55:38.619Z"
   },
   {
    "duration": 190,
    "start_time": "2022-09-07T15:55:38.629Z"
   },
   {
    "duration": 150,
    "start_time": "2022-09-07T15:55:38.821Z"
   },
   {
    "duration": 11,
    "start_time": "2022-09-07T15:55:38.973Z"
   },
   {
    "duration": 14,
    "start_time": "2022-09-07T15:55:38.985Z"
   },
   {
    "duration": 10,
    "start_time": "2022-09-07T15:55:39.000Z"
   },
   {
    "duration": 149,
    "start_time": "2022-09-07T15:55:39.012Z"
   },
   {
    "duration": 9,
    "start_time": "2022-09-07T15:55:39.163Z"
   },
   {
    "duration": 159,
    "start_time": "2022-09-07T15:55:39.174Z"
   },
   {
    "duration": 9,
    "start_time": "2022-09-07T15:55:39.335Z"
   },
   {
    "duration": 7,
    "start_time": "2022-09-07T15:55:39.361Z"
   },
   {
    "duration": 154,
    "start_time": "2022-09-07T15:55:39.369Z"
   },
   {
    "duration": 7,
    "start_time": "2022-09-07T15:55:39.524Z"
   },
   {
    "duration": 191,
    "start_time": "2022-09-07T15:55:39.532Z"
   },
   {
    "duration": 6,
    "start_time": "2022-09-07T15:55:39.725Z"
   },
   {
    "duration": 8,
    "start_time": "2022-09-07T15:55:39.732Z"
   },
   {
    "duration": 17,
    "start_time": "2022-09-07T15:55:39.741Z"
   },
   {
    "duration": 7,
    "start_time": "2022-09-07T15:55:39.759Z"
   },
   {
    "duration": 5,
    "start_time": "2022-09-07T15:55:39.768Z"
   },
   {
    "duration": 9,
    "start_time": "2022-09-07T15:55:39.774Z"
   },
   {
    "duration": 6,
    "start_time": "2022-09-07T15:55:39.785Z"
   },
   {
    "duration": 5,
    "start_time": "2022-09-07T15:55:39.792Z"
   },
   {
    "duration": 9,
    "start_time": "2022-09-07T15:55:39.798Z"
   },
   {
    "duration": 6,
    "start_time": "2022-09-07T15:55:39.809Z"
   },
   {
    "duration": 6,
    "start_time": "2022-09-07T15:55:39.816Z"
   },
   {
    "duration": 36,
    "start_time": "2022-09-07T15:55:39.823Z"
   },
   {
    "duration": 72,
    "start_time": "2022-09-07T15:55:39.860Z"
   },
   {
    "duration": 6,
    "start_time": "2022-09-07T15:55:39.934Z"
   },
   {
    "duration": 13,
    "start_time": "2022-09-07T15:55:39.942Z"
   },
   {
    "duration": 7,
    "start_time": "2022-09-07T15:55:39.957Z"
   },
   {
    "duration": 6,
    "start_time": "2022-09-07T15:55:39.965Z"
   },
   {
    "duration": 8,
    "start_time": "2022-09-07T15:55:39.972Z"
   },
   {
    "duration": 7,
    "start_time": "2022-09-07T15:55:39.981Z"
   },
   {
    "duration": 5,
    "start_time": "2022-09-07T15:55:39.989Z"
   },
   {
    "duration": 9,
    "start_time": "2022-09-07T15:55:39.995Z"
   },
   {
    "duration": 7,
    "start_time": "2022-09-07T15:55:40.006Z"
   },
   {
    "duration": 5,
    "start_time": "2022-09-07T15:55:40.014Z"
   },
   {
    "duration": 9,
    "start_time": "2022-09-07T15:55:40.020Z"
   },
   {
    "duration": 33,
    "start_time": "2022-09-07T15:55:40.031Z"
   },
   {
    "duration": 7,
    "start_time": "2022-09-07T15:55:40.065Z"
   },
   {
    "duration": 15,
    "start_time": "2022-09-07T15:55:40.073Z"
   },
   {
    "duration": 345,
    "start_time": "2022-09-07T15:55:40.090Z"
   },
   {
    "duration": 5,
    "start_time": "2022-09-07T15:55:40.437Z"
   },
   {
    "duration": 11,
    "start_time": "2022-09-07T15:55:40.444Z"
   },
   {
    "duration": 5,
    "start_time": "2022-09-07T15:55:40.460Z"
   },
   {
    "duration": 6,
    "start_time": "2022-09-07T15:55:40.466Z"
   },
   {
    "duration": 6,
    "start_time": "2022-09-07T15:55:40.474Z"
   },
   {
    "duration": 6,
    "start_time": "2022-09-07T15:55:40.481Z"
   },
   {
    "duration": 87,
    "start_time": "2022-09-07T15:56:31.159Z"
   },
   {
    "duration": 187,
    "start_time": "2022-09-07T15:56:50.594Z"
   },
   {
    "duration": 159,
    "start_time": "2022-09-07T15:56:59.586Z"
   },
   {
    "duration": 161,
    "start_time": "2022-09-07T15:57:08.916Z"
   },
   {
    "duration": 145,
    "start_time": "2022-09-07T15:57:32.522Z"
   },
   {
    "duration": 154,
    "start_time": "2022-09-07T15:57:41.554Z"
   },
   {
    "duration": 215,
    "start_time": "2022-09-07T15:58:23.696Z"
   },
   {
    "duration": 3,
    "start_time": "2022-09-07T15:59:14.251Z"
   },
   {
    "duration": 51,
    "start_time": "2022-09-07T15:59:14.256Z"
   },
   {
    "duration": 13,
    "start_time": "2022-09-07T15:59:14.310Z"
   },
   {
    "duration": 3,
    "start_time": "2022-09-07T15:59:14.325Z"
   },
   {
    "duration": 26,
    "start_time": "2022-09-07T15:59:14.330Z"
   },
   {
    "duration": 13,
    "start_time": "2022-09-07T15:59:14.358Z"
   },
   {
    "duration": 6,
    "start_time": "2022-09-07T15:59:14.373Z"
   },
   {
    "duration": 6,
    "start_time": "2022-09-07T15:59:14.380Z"
   },
   {
    "duration": 9,
    "start_time": "2022-09-07T15:59:14.388Z"
   },
   {
    "duration": 7,
    "start_time": "2022-09-07T15:59:14.398Z"
   },
   {
    "duration": 50,
    "start_time": "2022-09-07T15:59:14.407Z"
   },
   {
    "duration": 14,
    "start_time": "2022-09-07T15:59:14.459Z"
   },
   {
    "duration": 15,
    "start_time": "2022-09-07T15:59:14.474Z"
   },
   {
    "duration": 16,
    "start_time": "2022-09-07T15:59:14.491Z"
   },
   {
    "duration": 49,
    "start_time": "2022-09-07T15:59:14.509Z"
   },
   {
    "duration": 15,
    "start_time": "2022-09-07T15:59:14.560Z"
   },
   {
    "duration": 107,
    "start_time": "2022-09-07T15:59:14.576Z"
   },
   {
    "duration": 87,
    "start_time": "2022-09-07T15:59:14.685Z"
   },
   {
    "duration": 105,
    "start_time": "2022-09-07T15:59:14.774Z"
   },
   {
    "duration": 92,
    "start_time": "2022-09-07T15:59:14.881Z"
   },
   {
    "duration": 106,
    "start_time": "2022-09-07T15:59:14.974Z"
   },
   {
    "duration": 100,
    "start_time": "2022-09-07T15:59:15.082Z"
   },
   {
    "duration": 98,
    "start_time": "2022-09-07T15:59:15.184Z"
   },
   {
    "duration": 5,
    "start_time": "2022-09-07T15:59:15.283Z"
   },
   {
    "duration": 6,
    "start_time": "2022-09-07T15:59:15.290Z"
   },
   {
    "duration": 17,
    "start_time": "2022-09-07T15:59:15.297Z"
   },
   {
    "duration": 6,
    "start_time": "2022-09-07T15:59:15.315Z"
   },
   {
    "duration": 8,
    "start_time": "2022-09-07T15:59:15.322Z"
   },
   {
    "duration": 4,
    "start_time": "2022-09-07T15:59:15.354Z"
   },
   {
    "duration": 20,
    "start_time": "2022-09-07T15:59:15.360Z"
   },
   {
    "duration": 159,
    "start_time": "2022-09-07T15:59:15.382Z"
   },
   {
    "duration": 13,
    "start_time": "2022-09-07T15:59:15.542Z"
   },
   {
    "duration": 3,
    "start_time": "2022-09-07T15:59:15.556Z"
   },
   {
    "duration": 11,
    "start_time": "2022-09-07T15:59:15.560Z"
   },
   {
    "duration": 202,
    "start_time": "2022-09-07T15:59:15.573Z"
   },
   {
    "duration": 5,
    "start_time": "2022-09-07T15:59:15.777Z"
   },
   {
    "duration": 6,
    "start_time": "2022-09-07T15:59:15.784Z"
   },
   {
    "duration": 6,
    "start_time": "2022-09-07T15:59:15.792Z"
   },
   {
    "duration": 7,
    "start_time": "2022-09-07T15:59:15.800Z"
   },
   {
    "duration": 213,
    "start_time": "2022-09-07T15:59:15.808Z"
   },
   {
    "duration": 232,
    "start_time": "2022-09-07T15:59:16.023Z"
   },
   {
    "duration": 10,
    "start_time": "2022-09-07T15:59:16.256Z"
   },
   {
    "duration": 19,
    "start_time": "2022-09-07T15:59:16.267Z"
   },
   {
    "duration": 9,
    "start_time": "2022-09-07T15:59:16.288Z"
   },
   {
    "duration": 134,
    "start_time": "2022-09-07T15:59:16.298Z"
   },
   {
    "duration": 8,
    "start_time": "2022-09-07T15:59:16.433Z"
   },
   {
    "duration": 140,
    "start_time": "2022-09-07T15:59:16.443Z"
   },
   {
    "duration": 8,
    "start_time": "2022-09-07T15:59:16.585Z"
   },
   {
    "duration": 8,
    "start_time": "2022-09-07T15:59:16.594Z"
   },
   {
    "duration": 179,
    "start_time": "2022-09-07T15:59:16.603Z"
   },
   {
    "duration": 7,
    "start_time": "2022-09-07T15:59:16.783Z"
   },
   {
    "duration": 191,
    "start_time": "2022-09-07T15:59:16.792Z"
   },
   {
    "duration": 8,
    "start_time": "2022-09-07T15:59:16.985Z"
   },
   {
    "duration": 18,
    "start_time": "2022-09-07T15:59:16.995Z"
   },
   {
    "duration": 13,
    "start_time": "2022-09-07T15:59:17.015Z"
   },
   {
    "duration": 16,
    "start_time": "2022-09-07T15:59:17.030Z"
   },
   {
    "duration": 16,
    "start_time": "2022-09-07T15:59:17.047Z"
   },
   {
    "duration": 13,
    "start_time": "2022-09-07T15:59:17.064Z"
   },
   {
    "duration": 17,
    "start_time": "2022-09-07T15:59:17.079Z"
   },
   {
    "duration": 6,
    "start_time": "2022-09-07T15:59:17.098Z"
   },
   {
    "duration": 8,
    "start_time": "2022-09-07T15:59:17.106Z"
   },
   {
    "duration": 7,
    "start_time": "2022-09-07T15:59:17.115Z"
   },
   {
    "duration": 6,
    "start_time": "2022-09-07T15:59:17.123Z"
   },
   {
    "duration": 20,
    "start_time": "2022-09-07T15:59:17.130Z"
   },
   {
    "duration": 8,
    "start_time": "2022-09-07T15:59:17.152Z"
   },
   {
    "duration": 7,
    "start_time": "2022-09-07T15:59:17.162Z"
   },
   {
    "duration": 12,
    "start_time": "2022-09-07T15:59:17.171Z"
   },
   {
    "duration": 8,
    "start_time": "2022-09-07T15:59:17.185Z"
   },
   {
    "duration": 6,
    "start_time": "2022-09-07T15:59:17.194Z"
   },
   {
    "duration": 8,
    "start_time": "2022-09-07T15:59:17.202Z"
   },
   {
    "duration": 8,
    "start_time": "2022-09-07T15:59:17.212Z"
   },
   {
    "duration": 7,
    "start_time": "2022-09-07T15:59:17.221Z"
   },
   {
    "duration": 8,
    "start_time": "2022-09-07T15:59:17.229Z"
   },
   {
    "duration": 28,
    "start_time": "2022-09-07T15:59:17.238Z"
   },
   {
    "duration": 6,
    "start_time": "2022-09-07T15:59:17.268Z"
   },
   {
    "duration": 16,
    "start_time": "2022-09-07T15:59:17.275Z"
   },
   {
    "duration": 14,
    "start_time": "2022-09-07T15:59:17.293Z"
   },
   {
    "duration": 14,
    "start_time": "2022-09-07T15:59:17.309Z"
   },
   {
    "duration": 15,
    "start_time": "2022-09-07T15:59:17.324Z"
   },
   {
    "duration": 11,
    "start_time": "2022-09-07T15:59:17.343Z"
   },
   {
    "duration": 10,
    "start_time": "2022-09-07T15:59:17.356Z"
   },
   {
    "duration": 14,
    "start_time": "2022-09-07T15:59:17.368Z"
   },
   {
    "duration": 10,
    "start_time": "2022-09-07T15:59:17.390Z"
   },
   {
    "duration": 18,
    "start_time": "2022-09-07T15:59:17.402Z"
   },
   {
    "duration": 13,
    "start_time": "2022-09-07T15:59:17.422Z"
   },
   {
    "duration": 22,
    "start_time": "2022-09-07T15:59:17.437Z"
   },
   {
    "duration": 401,
    "start_time": "2022-09-07T15:59:40.829Z"
   },
   {
    "duration": 52,
    "start_time": "2022-09-07T15:59:41.232Z"
   },
   {
    "duration": 14,
    "start_time": "2022-09-07T15:59:41.286Z"
   },
   {
    "duration": 3,
    "start_time": "2022-09-07T15:59:41.302Z"
   },
   {
    "duration": 20,
    "start_time": "2022-09-07T15:59:41.306Z"
   },
   {
    "duration": 34,
    "start_time": "2022-09-07T15:59:41.328Z"
   },
   {
    "duration": 5,
    "start_time": "2022-09-07T15:59:41.364Z"
   },
   {
    "duration": 6,
    "start_time": "2022-09-07T15:59:41.370Z"
   },
   {
    "duration": 14,
    "start_time": "2022-09-07T15:59:41.377Z"
   },
   {
    "duration": 6,
    "start_time": "2022-09-07T15:59:41.394Z"
   },
   {
    "duration": 14,
    "start_time": "2022-09-07T15:59:41.402Z"
   },
   {
    "duration": 307,
    "start_time": "2022-09-07T15:59:41.418Z"
   },
   {
    "duration": 18,
    "start_time": "2022-09-07T15:59:41.727Z"
   },
   {
    "duration": 23,
    "start_time": "2022-09-07T15:59:41.747Z"
   },
   {
    "duration": 18,
    "start_time": "2022-09-07T15:59:41.772Z"
   },
   {
    "duration": 13,
    "start_time": "2022-09-07T15:59:41.792Z"
   },
   {
    "duration": 116,
    "start_time": "2022-09-07T15:59:41.807Z"
   },
   {
    "duration": 85,
    "start_time": "2022-09-07T15:59:41.925Z"
   },
   {
    "duration": 105,
    "start_time": "2022-09-07T15:59:42.011Z"
   },
   {
    "duration": 136,
    "start_time": "2022-09-07T15:59:42.118Z"
   },
   {
    "duration": 103,
    "start_time": "2022-09-07T15:59:42.256Z"
   },
   {
    "duration": 97,
    "start_time": "2022-09-07T15:59:42.361Z"
   },
   {
    "duration": 96,
    "start_time": "2022-09-07T15:59:42.460Z"
   },
   {
    "duration": 4,
    "start_time": "2022-09-07T15:59:42.558Z"
   },
   {
    "duration": 20,
    "start_time": "2022-09-07T15:59:42.563Z"
   },
   {
    "duration": 45,
    "start_time": "2022-09-07T15:59:42.584Z"
   },
   {
    "duration": 11,
    "start_time": "2022-09-07T15:59:42.630Z"
   },
   {
    "duration": 12,
    "start_time": "2022-09-07T15:59:42.645Z"
   },
   {
    "duration": 9,
    "start_time": "2022-09-07T15:59:42.659Z"
   },
   {
    "duration": 32,
    "start_time": "2022-09-07T15:59:42.670Z"
   },
   {
    "duration": 153,
    "start_time": "2022-09-07T15:59:42.704Z"
   },
   {
    "duration": 6,
    "start_time": "2022-09-07T15:59:42.858Z"
   },
   {
    "duration": 8,
    "start_time": "2022-09-07T15:59:42.865Z"
   },
   {
    "duration": 16,
    "start_time": "2022-09-07T15:59:42.874Z"
   },
   {
    "duration": 250,
    "start_time": "2022-09-07T15:59:42.891Z"
   },
   {
    "duration": 4,
    "start_time": "2022-09-07T15:59:43.143Z"
   },
   {
    "duration": 19,
    "start_time": "2022-09-07T15:59:43.149Z"
   },
   {
    "duration": 15,
    "start_time": "2022-09-07T15:59:43.170Z"
   },
   {
    "duration": 18,
    "start_time": "2022-09-07T15:59:43.186Z"
   },
   {
    "duration": 212,
    "start_time": "2022-09-07T15:59:43.205Z"
   },
   {
    "duration": 141,
    "start_time": "2022-09-07T15:59:43.419Z"
   },
   {
    "duration": 9,
    "start_time": "2022-09-07T15:59:43.562Z"
   },
   {
    "duration": 10,
    "start_time": "2022-09-07T15:59:43.572Z"
   },
   {
    "duration": 8,
    "start_time": "2022-09-07T15:59:43.584Z"
   },
   {
    "duration": 142,
    "start_time": "2022-09-07T15:59:43.593Z"
   },
   {
    "duration": 8,
    "start_time": "2022-09-07T15:59:43.737Z"
   },
   {
    "duration": 146,
    "start_time": "2022-09-07T15:59:43.746Z"
   },
   {
    "duration": 8,
    "start_time": "2022-09-07T15:59:43.894Z"
   },
   {
    "duration": 7,
    "start_time": "2022-09-07T15:59:43.904Z"
   },
   {
    "duration": 170,
    "start_time": "2022-09-07T15:59:43.912Z"
   },
   {
    "duration": 7,
    "start_time": "2022-09-07T15:59:44.084Z"
   },
   {
    "duration": 266,
    "start_time": "2022-09-07T15:59:44.092Z"
   },
   {
    "duration": 6,
    "start_time": "2022-09-07T15:59:44.360Z"
   },
   {
    "duration": 8,
    "start_time": "2022-09-07T15:59:44.367Z"
   },
   {
    "duration": 10,
    "start_time": "2022-09-07T15:59:44.376Z"
   },
   {
    "duration": 7,
    "start_time": "2022-09-07T15:59:44.387Z"
   },
   {
    "duration": 5,
    "start_time": "2022-09-07T15:59:44.396Z"
   },
   {
    "duration": 7,
    "start_time": "2022-09-07T15:59:44.403Z"
   },
   {
    "duration": 6,
    "start_time": "2022-09-07T15:59:44.411Z"
   },
   {
    "duration": 4,
    "start_time": "2022-09-07T15:59:44.418Z"
   },
   {
    "duration": 33,
    "start_time": "2022-09-07T15:59:44.423Z"
   },
   {
    "duration": 5,
    "start_time": "2022-09-07T15:59:44.457Z"
   },
   {
    "duration": 5,
    "start_time": "2022-09-07T15:59:44.463Z"
   },
   {
    "duration": 8,
    "start_time": "2022-09-07T15:59:44.469Z"
   },
   {
    "duration": 7,
    "start_time": "2022-09-07T15:59:44.478Z"
   },
   {
    "duration": 5,
    "start_time": "2022-09-07T15:59:44.486Z"
   },
   {
    "duration": 8,
    "start_time": "2022-09-07T15:59:44.493Z"
   },
   {
    "duration": 7,
    "start_time": "2022-09-07T15:59:44.502Z"
   },
   {
    "duration": 6,
    "start_time": "2022-09-07T15:59:44.511Z"
   },
   {
    "duration": 12,
    "start_time": "2022-09-07T15:59:44.518Z"
   },
   {
    "duration": 25,
    "start_time": "2022-09-07T15:59:44.532Z"
   },
   {
    "duration": 5,
    "start_time": "2022-09-07T15:59:44.558Z"
   },
   {
    "duration": 11,
    "start_time": "2022-09-07T15:59:44.564Z"
   },
   {
    "duration": 7,
    "start_time": "2022-09-07T15:59:44.576Z"
   },
   {
    "duration": 4,
    "start_time": "2022-09-07T15:59:44.585Z"
   },
   {
    "duration": 9,
    "start_time": "2022-09-07T15:59:44.590Z"
   },
   {
    "duration": 6,
    "start_time": "2022-09-07T15:59:44.600Z"
   },
   {
    "duration": 6,
    "start_time": "2022-09-07T15:59:44.608Z"
   },
   {
    "duration": 8,
    "start_time": "2022-09-07T15:59:44.615Z"
   },
   {
    "duration": 405,
    "start_time": "2022-09-07T15:59:44.624Z"
   },
   {
    "duration": 6,
    "start_time": "2022-09-07T15:59:45.030Z"
   },
   {
    "duration": 17,
    "start_time": "2022-09-07T15:59:45.040Z"
   },
   {
    "duration": 7,
    "start_time": "2022-09-07T15:59:45.058Z"
   },
   {
    "duration": 6,
    "start_time": "2022-09-07T15:59:45.067Z"
   },
   {
    "duration": 8,
    "start_time": "2022-09-07T15:59:45.074Z"
   },
   {
    "duration": 7,
    "start_time": "2022-09-07T15:59:45.083Z"
   },
   {
    "duration": 3,
    "start_time": "2022-09-07T16:00:07.484Z"
   },
   {
    "duration": 51,
    "start_time": "2022-09-07T16:00:07.489Z"
   },
   {
    "duration": 11,
    "start_time": "2022-09-07T16:00:07.542Z"
   },
   {
    "duration": 2,
    "start_time": "2022-09-07T16:00:07.555Z"
   },
   {
    "duration": 18,
    "start_time": "2022-09-07T16:00:07.559Z"
   },
   {
    "duration": 13,
    "start_time": "2022-09-07T16:00:07.579Z"
   },
   {
    "duration": 5,
    "start_time": "2022-09-07T16:00:07.594Z"
   },
   {
    "duration": 7,
    "start_time": "2022-09-07T16:00:07.601Z"
   },
   {
    "duration": 9,
    "start_time": "2022-09-07T16:00:07.609Z"
   },
   {
    "duration": 38,
    "start_time": "2022-09-07T16:00:07.619Z"
   },
   {
    "duration": 13,
    "start_time": "2022-09-07T16:00:07.660Z"
   },
   {
    "duration": 14,
    "start_time": "2022-09-07T16:00:07.675Z"
   },
   {
    "duration": 18,
    "start_time": "2022-09-07T16:00:07.690Z"
   },
   {
    "duration": 53,
    "start_time": "2022-09-07T16:00:07.710Z"
   },
   {
    "duration": 18,
    "start_time": "2022-09-07T16:00:07.765Z"
   },
   {
    "duration": 16,
    "start_time": "2022-09-07T16:00:07.787Z"
   },
   {
    "duration": 114,
    "start_time": "2022-09-07T16:00:07.804Z"
   },
   {
    "duration": 98,
    "start_time": "2022-09-07T16:00:07.919Z"
   },
   {
    "duration": 103,
    "start_time": "2022-09-07T16:00:08.018Z"
   },
   {
    "duration": 93,
    "start_time": "2022-09-07T16:00:08.123Z"
   },
   {
    "duration": 158,
    "start_time": "2022-09-07T16:00:08.217Z"
   },
   {
    "duration": 96,
    "start_time": "2022-09-07T16:00:08.376Z"
   },
   {
    "duration": 98,
    "start_time": "2022-09-07T16:00:08.473Z"
   },
   {
    "duration": 4,
    "start_time": "2022-09-07T16:00:08.573Z"
   },
   {
    "duration": 6,
    "start_time": "2022-09-07T16:00:08.579Z"
   },
   {
    "duration": 16,
    "start_time": "2022-09-07T16:00:08.586Z"
   },
   {
    "duration": 6,
    "start_time": "2022-09-07T16:00:08.604Z"
   },
   {
    "duration": 9,
    "start_time": "2022-09-07T16:00:08.611Z"
   },
   {
    "duration": 4,
    "start_time": "2022-09-07T16:00:08.623Z"
   },
   {
    "duration": 42,
    "start_time": "2022-09-07T16:00:08.629Z"
   },
   {
    "duration": 158,
    "start_time": "2022-09-07T16:00:08.673Z"
   },
   {
    "duration": 7,
    "start_time": "2022-09-07T16:00:08.833Z"
   },
   {
    "duration": 14,
    "start_time": "2022-09-07T16:00:08.842Z"
   },
   {
    "duration": 11,
    "start_time": "2022-09-07T16:00:08.858Z"
   },
   {
    "duration": 222,
    "start_time": "2022-09-07T16:00:08.871Z"
   },
   {
    "duration": 6,
    "start_time": "2022-09-07T16:00:09.095Z"
   },
   {
    "duration": 8,
    "start_time": "2022-09-07T16:00:09.103Z"
   },
   {
    "duration": 5,
    "start_time": "2022-09-07T16:00:09.112Z"
   },
   {
    "duration": 9,
    "start_time": "2022-09-07T16:00:09.118Z"
   },
   {
    "duration": 217,
    "start_time": "2022-09-07T16:00:09.128Z"
   },
   {
    "duration": 151,
    "start_time": "2022-09-07T16:00:09.347Z"
   },
   {
    "duration": 10,
    "start_time": "2022-09-07T16:00:09.500Z"
   },
   {
    "duration": 12,
    "start_time": "2022-09-07T16:00:09.512Z"
   },
   {
    "duration": 31,
    "start_time": "2022-09-07T16:00:09.525Z"
   },
   {
    "duration": 131,
    "start_time": "2022-09-07T16:00:09.558Z"
   },
   {
    "duration": 9,
    "start_time": "2022-09-07T16:00:09.691Z"
   },
   {
    "duration": 136,
    "start_time": "2022-09-07T16:00:09.702Z"
   },
   {
    "duration": 16,
    "start_time": "2022-09-07T16:00:09.840Z"
   },
   {
    "duration": 7,
    "start_time": "2022-09-07T16:00:09.857Z"
   },
   {
    "duration": 160,
    "start_time": "2022-09-07T16:00:09.866Z"
   },
   {
    "duration": 8,
    "start_time": "2022-09-07T16:00:10.028Z"
   },
   {
    "duration": 187,
    "start_time": "2022-09-07T16:00:10.037Z"
   },
   {
    "duration": 7,
    "start_time": "2022-09-07T16:00:10.226Z"
   },
   {
    "duration": 20,
    "start_time": "2022-09-07T16:00:10.235Z"
   },
   {
    "duration": 13,
    "start_time": "2022-09-07T16:00:10.257Z"
   },
   {
    "duration": 20,
    "start_time": "2022-09-07T16:00:10.272Z"
   },
   {
    "duration": 19,
    "start_time": "2022-09-07T16:00:10.294Z"
   },
   {
    "duration": 16,
    "start_time": "2022-09-07T16:00:10.315Z"
   },
   {
    "duration": 23,
    "start_time": "2022-09-07T16:00:10.333Z"
   },
   {
    "duration": 8,
    "start_time": "2022-09-07T16:00:10.358Z"
   },
   {
    "duration": 13,
    "start_time": "2022-09-07T16:00:10.368Z"
   },
   {
    "duration": 13,
    "start_time": "2022-09-07T16:00:10.382Z"
   },
   {
    "duration": 17,
    "start_time": "2022-09-07T16:00:10.396Z"
   },
   {
    "duration": 12,
    "start_time": "2022-09-07T16:00:10.415Z"
   },
   {
    "duration": 15,
    "start_time": "2022-09-07T16:00:10.428Z"
   },
   {
    "duration": 5,
    "start_time": "2022-09-07T16:00:10.444Z"
   },
   {
    "duration": 92,
    "start_time": "2022-09-07T16:00:10.450Z"
   },
   {
    "duration": 12,
    "start_time": "2022-09-07T16:00:10.544Z"
   },
   {
    "duration": 6,
    "start_time": "2022-09-07T16:00:10.558Z"
   },
   {
    "duration": 12,
    "start_time": "2022-09-07T16:00:10.566Z"
   },
   {
    "duration": 7,
    "start_time": "2022-09-07T16:00:10.579Z"
   },
   {
    "duration": 6,
    "start_time": "2022-09-07T16:00:10.587Z"
   },
   {
    "duration": 8,
    "start_time": "2022-09-07T16:00:10.595Z"
   },
   {
    "duration": 7,
    "start_time": "2022-09-07T16:00:10.604Z"
   },
   {
    "duration": 6,
    "start_time": "2022-09-07T16:00:10.613Z"
   },
   {
    "duration": 9,
    "start_time": "2022-09-07T16:00:10.620Z"
   },
   {
    "duration": 26,
    "start_time": "2022-09-07T16:00:10.630Z"
   },
   {
    "duration": 6,
    "start_time": "2022-09-07T16:00:10.658Z"
   },
   {
    "duration": 32,
    "start_time": "2022-09-07T16:00:10.665Z"
   },
   {
    "duration": 18,
    "start_time": "2022-09-07T16:00:10.699Z"
   },
   {
    "duration": 23,
    "start_time": "2022-09-07T16:00:10.718Z"
   },
   {
    "duration": 12,
    "start_time": "2022-09-07T16:00:10.743Z"
   },
   {
    "duration": 21,
    "start_time": "2022-09-07T16:00:10.759Z"
   },
   {
    "duration": 11,
    "start_time": "2022-09-07T16:00:10.781Z"
   },
   {
    "duration": 20,
    "start_time": "2022-09-07T16:00:10.794Z"
   },
   {
    "duration": 13,
    "start_time": "2022-09-07T16:00:10.816Z"
   },
   {
    "duration": 3,
    "start_time": "2022-09-07T16:00:45.981Z"
   },
   {
    "duration": 55,
    "start_time": "2022-09-07T16:00:45.986Z"
   },
   {
    "duration": 14,
    "start_time": "2022-09-07T16:00:46.043Z"
   },
   {
    "duration": 3,
    "start_time": "2022-09-07T16:00:46.058Z"
   },
   {
    "duration": 16,
    "start_time": "2022-09-07T16:00:46.063Z"
   },
   {
    "duration": 13,
    "start_time": "2022-09-07T16:00:46.081Z"
   },
   {
    "duration": 5,
    "start_time": "2022-09-07T16:00:46.097Z"
   },
   {
    "duration": 7,
    "start_time": "2022-09-07T16:00:46.103Z"
   },
   {
    "duration": 10,
    "start_time": "2022-09-07T16:00:46.111Z"
   },
   {
    "duration": 7,
    "start_time": "2022-09-07T16:00:46.155Z"
   },
   {
    "duration": 14,
    "start_time": "2022-09-07T16:00:46.165Z"
   },
   {
    "duration": 14,
    "start_time": "2022-09-07T16:00:46.180Z"
   },
   {
    "duration": 17,
    "start_time": "2022-09-07T16:00:46.195Z"
   },
   {
    "duration": 45,
    "start_time": "2022-09-07T16:00:46.214Z"
   },
   {
    "duration": 15,
    "start_time": "2022-09-07T16:00:46.261Z"
   },
   {
    "duration": 13,
    "start_time": "2022-09-07T16:00:46.277Z"
   },
   {
    "duration": 112,
    "start_time": "2022-09-07T16:00:46.292Z"
   },
   {
    "duration": 94,
    "start_time": "2022-09-07T16:00:46.406Z"
   },
   {
    "duration": 110,
    "start_time": "2022-09-07T16:00:46.502Z"
   },
   {
    "duration": 100,
    "start_time": "2022-09-07T16:00:46.614Z"
   },
   {
    "duration": 110,
    "start_time": "2022-09-07T16:00:46.715Z"
   },
   {
    "duration": 93,
    "start_time": "2022-09-07T16:00:46.826Z"
   },
   {
    "duration": 93,
    "start_time": "2022-09-07T16:00:46.920Z"
   },
   {
    "duration": 5,
    "start_time": "2022-09-07T16:00:47.015Z"
   },
   {
    "duration": 7,
    "start_time": "2022-09-07T16:00:47.021Z"
   },
   {
    "duration": 25,
    "start_time": "2022-09-07T16:00:47.030Z"
   },
   {
    "duration": 6,
    "start_time": "2022-09-07T16:00:47.057Z"
   },
   {
    "duration": 6,
    "start_time": "2022-09-07T16:00:47.064Z"
   },
   {
    "duration": 4,
    "start_time": "2022-09-07T16:00:47.074Z"
   },
   {
    "duration": 24,
    "start_time": "2022-09-07T16:00:47.079Z"
   },
   {
    "duration": 167,
    "start_time": "2022-09-07T16:00:47.104Z"
   },
   {
    "duration": 6,
    "start_time": "2022-09-07T16:00:47.272Z"
   },
   {
    "duration": 5,
    "start_time": "2022-09-07T16:00:47.279Z"
   },
   {
    "duration": 13,
    "start_time": "2022-09-07T16:00:47.285Z"
   },
   {
    "duration": 247,
    "start_time": "2022-09-07T16:00:47.300Z"
   },
   {
    "duration": 5,
    "start_time": "2022-09-07T16:00:47.555Z"
   },
   {
    "duration": 8,
    "start_time": "2022-09-07T16:00:47.561Z"
   },
   {
    "duration": 5,
    "start_time": "2022-09-07T16:00:47.571Z"
   },
   {
    "duration": 12,
    "start_time": "2022-09-07T16:00:47.578Z"
   },
   {
    "duration": 192,
    "start_time": "2022-09-07T16:00:47.591Z"
   },
   {
    "duration": 144,
    "start_time": "2022-09-07T16:00:47.787Z"
   },
   {
    "duration": 11,
    "start_time": "2022-09-07T16:00:47.932Z"
   },
   {
    "duration": 9,
    "start_time": "2022-09-07T16:00:47.954Z"
   },
   {
    "duration": 10,
    "start_time": "2022-09-07T16:00:47.965Z"
   },
   {
    "duration": 217,
    "start_time": "2022-09-07T16:00:47.977Z"
   },
   {
    "duration": 9,
    "start_time": "2022-09-07T16:00:48.196Z"
   },
   {
    "duration": 149,
    "start_time": "2022-09-07T16:00:48.206Z"
   },
   {
    "duration": 9,
    "start_time": "2022-09-07T16:00:48.356Z"
   },
   {
    "duration": 10,
    "start_time": "2022-09-07T16:00:48.366Z"
   },
   {
    "duration": 162,
    "start_time": "2022-09-07T16:00:48.377Z"
   },
   {
    "duration": 15,
    "start_time": "2022-09-07T16:00:48.541Z"
   },
   {
    "duration": 166,
    "start_time": "2022-09-07T16:00:48.557Z"
   },
   {
    "duration": 6,
    "start_time": "2022-09-07T16:00:48.725Z"
   },
   {
    "duration": 8,
    "start_time": "2022-09-07T16:00:48.733Z"
   },
   {
    "duration": 16,
    "start_time": "2022-09-07T16:00:48.742Z"
   },
   {
    "duration": 7,
    "start_time": "2022-09-07T16:00:48.759Z"
   },
   {
    "duration": 6,
    "start_time": "2022-09-07T16:00:48.767Z"
   },
   {
    "duration": 9,
    "start_time": "2022-09-07T16:00:48.774Z"
   },
   {
    "duration": 7,
    "start_time": "2022-09-07T16:00:48.784Z"
   },
   {
    "duration": 5,
    "start_time": "2022-09-07T16:00:48.792Z"
   },
   {
    "duration": 9,
    "start_time": "2022-09-07T16:00:48.798Z"
   },
   {
    "duration": 7,
    "start_time": "2022-09-07T16:00:48.808Z"
   },
   {
    "duration": 8,
    "start_time": "2022-09-07T16:00:48.816Z"
   },
   {
    "duration": 31,
    "start_time": "2022-09-07T16:00:48.826Z"
   },
   {
    "duration": 7,
    "start_time": "2022-09-07T16:00:48.859Z"
   },
   {
    "duration": 6,
    "start_time": "2022-09-07T16:00:48.867Z"
   },
   {
    "duration": 9,
    "start_time": "2022-09-07T16:00:48.874Z"
   },
   {
    "duration": 8,
    "start_time": "2022-09-07T16:00:48.884Z"
   },
   {
    "duration": 5,
    "start_time": "2022-09-07T16:00:48.893Z"
   },
   {
    "duration": 9,
    "start_time": "2022-09-07T16:00:48.899Z"
   },
   {
    "duration": 8,
    "start_time": "2022-09-07T16:00:48.909Z"
   },
   {
    "duration": 4,
    "start_time": "2022-09-07T16:00:48.918Z"
   },
   {
    "duration": 9,
    "start_time": "2022-09-07T16:00:48.923Z"
   },
   {
    "duration": 6,
    "start_time": "2022-09-07T16:00:48.955Z"
   },
   {
    "duration": 7,
    "start_time": "2022-09-07T16:00:48.963Z"
   },
   {
    "duration": 9,
    "start_time": "2022-09-07T16:00:48.972Z"
   },
   {
    "duration": 12,
    "start_time": "2022-09-07T16:00:48.982Z"
   },
   {
    "duration": 6,
    "start_time": "2022-09-07T16:00:48.995Z"
   },
   {
    "duration": 12,
    "start_time": "2022-09-07T16:00:49.002Z"
   },
   {
    "duration": 5,
    "start_time": "2022-09-07T16:00:49.015Z"
   },
   {
    "duration": 11,
    "start_time": "2022-09-07T16:00:49.022Z"
   },
   {
    "duration": 7,
    "start_time": "2022-09-07T16:00:49.034Z"
   },
   {
    "duration": 4,
    "start_time": "2022-09-07T16:00:49.057Z"
   },
   {
    "duration": 8,
    "start_time": "2022-09-07T16:00:49.063Z"
   },
   {
    "duration": 7,
    "start_time": "2022-09-07T16:00:49.073Z"
   },
   {
    "duration": 6,
    "start_time": "2022-09-07T16:00:49.082Z"
   },
   {
    "duration": 355,
    "start_time": "2022-09-07T16:01:09.007Z"
   },
   {
    "duration": 49,
    "start_time": "2022-09-07T16:01:09.363Z"
   },
   {
    "duration": 12,
    "start_time": "2022-09-07T16:01:09.413Z"
   },
   {
    "duration": 3,
    "start_time": "2022-09-07T16:01:09.426Z"
   },
   {
    "duration": 15,
    "start_time": "2022-09-07T16:01:09.430Z"
   },
   {
    "duration": 16,
    "start_time": "2022-09-07T16:01:09.446Z"
   },
   {
    "duration": 3,
    "start_time": "2022-09-07T16:01:09.464Z"
   },
   {
    "duration": 6,
    "start_time": "2022-09-07T16:01:09.468Z"
   },
   {
    "duration": 10,
    "start_time": "2022-09-07T16:01:09.475Z"
   },
   {
    "duration": 6,
    "start_time": "2022-09-07T16:01:09.487Z"
   },
   {
    "duration": 13,
    "start_time": "2022-09-07T16:01:09.495Z"
   },
   {
    "duration": 268,
    "start_time": "2022-09-07T16:01:09.509Z"
   },
   {
    "duration": 16,
    "start_time": "2022-09-07T16:01:09.779Z"
   },
   {
    "duration": 15,
    "start_time": "2022-09-07T16:01:09.797Z"
   },
   {
    "duration": 17,
    "start_time": "2022-09-07T16:01:09.814Z"
   },
   {
    "duration": 34,
    "start_time": "2022-09-07T16:01:09.832Z"
   },
   {
    "duration": 99,
    "start_time": "2022-09-07T16:01:09.867Z"
   },
   {
    "duration": 91,
    "start_time": "2022-09-07T16:01:09.968Z"
   },
   {
    "duration": 113,
    "start_time": "2022-09-07T16:01:10.060Z"
   },
   {
    "duration": 159,
    "start_time": "2022-09-07T16:01:10.175Z"
   },
   {
    "duration": 98,
    "start_time": "2022-09-07T16:01:10.336Z"
   },
   {
    "duration": 101,
    "start_time": "2022-09-07T16:01:10.435Z"
   },
   {
    "duration": 101,
    "start_time": "2022-09-07T16:01:10.537Z"
   },
   {
    "duration": 4,
    "start_time": "2022-09-07T16:01:10.639Z"
   },
   {
    "duration": 6,
    "start_time": "2022-09-07T16:01:10.655Z"
   },
   {
    "duration": 27,
    "start_time": "2022-09-07T16:01:10.662Z"
   },
   {
    "duration": 13,
    "start_time": "2022-09-07T16:01:10.691Z"
   },
   {
    "duration": 21,
    "start_time": "2022-09-07T16:01:10.709Z"
   },
   {
    "duration": 4,
    "start_time": "2022-09-07T16:01:10.732Z"
   },
   {
    "duration": 34,
    "start_time": "2022-09-07T16:01:10.738Z"
   },
   {
    "duration": 153,
    "start_time": "2022-09-07T16:01:10.774Z"
   },
   {
    "duration": 6,
    "start_time": "2022-09-07T16:01:10.929Z"
   },
   {
    "duration": 5,
    "start_time": "2022-09-07T16:01:10.937Z"
   },
   {
    "duration": 12,
    "start_time": "2022-09-07T16:01:10.943Z"
   },
   {
    "duration": 253,
    "start_time": "2022-09-07T16:01:10.956Z"
   },
   {
    "duration": 6,
    "start_time": "2022-09-07T16:01:11.211Z"
   },
   {
    "duration": 8,
    "start_time": "2022-09-07T16:01:11.219Z"
   },
   {
    "duration": 8,
    "start_time": "2022-09-07T16:01:11.228Z"
   },
   {
    "duration": 8,
    "start_time": "2022-09-07T16:01:11.238Z"
   },
   {
    "duration": 203,
    "start_time": "2022-09-07T16:01:11.248Z"
   },
   {
    "duration": 139,
    "start_time": "2022-09-07T16:01:11.454Z"
   },
   {
    "duration": 9,
    "start_time": "2022-09-07T16:01:11.595Z"
   },
   {
    "duration": 11,
    "start_time": "2022-09-07T16:01:11.605Z"
   },
   {
    "duration": 10,
    "start_time": "2022-09-07T16:01:11.617Z"
   },
   {
    "duration": 146,
    "start_time": "2022-09-07T16:01:11.629Z"
   },
   {
    "duration": 8,
    "start_time": "2022-09-07T16:01:11.776Z"
   },
   {
    "duration": 134,
    "start_time": "2022-09-07T16:01:11.785Z"
   },
   {
    "duration": 9,
    "start_time": "2022-09-07T16:01:11.920Z"
   },
   {
    "duration": 8,
    "start_time": "2022-09-07T16:01:11.930Z"
   },
   {
    "duration": 157,
    "start_time": "2022-09-07T16:01:11.939Z"
   },
   {
    "duration": 5,
    "start_time": "2022-09-07T16:01:12.098Z"
   },
   {
    "duration": 244,
    "start_time": "2022-09-07T16:01:12.105Z"
   },
   {
    "duration": 9,
    "start_time": "2022-09-07T16:01:12.350Z"
   },
   {
    "duration": 8,
    "start_time": "2022-09-07T16:01:12.360Z"
   },
   {
    "duration": 12,
    "start_time": "2022-09-07T16:01:12.370Z"
   },
   {
    "duration": 6,
    "start_time": "2022-09-07T16:01:12.383Z"
   },
   {
    "duration": 5,
    "start_time": "2022-09-07T16:01:12.390Z"
   },
   {
    "duration": 8,
    "start_time": "2022-09-07T16:01:12.396Z"
   },
   {
    "duration": 6,
    "start_time": "2022-09-07T16:01:12.405Z"
   },
   {
    "duration": 4,
    "start_time": "2022-09-07T16:01:12.412Z"
   },
   {
    "duration": 9,
    "start_time": "2022-09-07T16:01:12.418Z"
   },
   {
    "duration": 27,
    "start_time": "2022-09-07T16:01:12.428Z"
   },
   {
    "duration": 5,
    "start_time": "2022-09-07T16:01:12.456Z"
   },
   {
    "duration": 8,
    "start_time": "2022-09-07T16:01:12.463Z"
   },
   {
    "duration": 11,
    "start_time": "2022-09-07T16:01:12.473Z"
   },
   {
    "duration": 9,
    "start_time": "2022-09-07T16:01:12.485Z"
   },
   {
    "duration": 10,
    "start_time": "2022-09-07T16:01:12.495Z"
   },
   {
    "duration": 12,
    "start_time": "2022-09-07T16:01:12.506Z"
   },
   {
    "duration": 7,
    "start_time": "2022-09-07T16:01:12.519Z"
   },
   {
    "duration": 8,
    "start_time": "2022-09-07T16:01:12.527Z"
   },
   {
    "duration": 6,
    "start_time": "2022-09-07T16:01:12.536Z"
   },
   {
    "duration": 11,
    "start_time": "2022-09-07T16:01:12.544Z"
   },
   {
    "duration": 11,
    "start_time": "2022-09-07T16:01:12.556Z"
   },
   {
    "duration": 7,
    "start_time": "2022-09-07T16:01:12.568Z"
   },
   {
    "duration": 5,
    "start_time": "2022-09-07T16:01:12.576Z"
   },
   {
    "duration": 8,
    "start_time": "2022-09-07T16:01:12.582Z"
   },
   {
    "duration": 7,
    "start_time": "2022-09-07T16:01:12.591Z"
   },
   {
    "duration": 7,
    "start_time": "2022-09-07T16:01:12.599Z"
   },
   {
    "duration": 9,
    "start_time": "2022-09-07T16:01:12.607Z"
   },
   {
    "duration": 405,
    "start_time": "2022-09-07T16:01:12.617Z"
   },
   {
    "duration": 6,
    "start_time": "2022-09-07T16:01:13.024Z"
   },
   {
    "duration": 19,
    "start_time": "2022-09-07T16:01:13.036Z"
   },
   {
    "duration": 5,
    "start_time": "2022-09-07T16:01:13.057Z"
   },
   {
    "duration": 8,
    "start_time": "2022-09-07T16:01:13.064Z"
   },
   {
    "duration": 11,
    "start_time": "2022-09-07T16:01:13.073Z"
   },
   {
    "duration": 7,
    "start_time": "2022-09-07T16:01:13.086Z"
   }
  ],
  "kernelspec": {
   "display_name": "Python 3 (ipykernel)",
   "language": "python",
   "name": "python3"
  },
  "language_info": {
   "codemirror_mode": {
    "name": "ipython",
    "version": 3
   },
   "file_extension": ".py",
   "mimetype": "text/x-python",
   "name": "python",
   "nbconvert_exporter": "python",
   "pygments_lexer": "ipython3",
   "version": "3.10.5"
  },
  "toc": {
   "base_numbering": 1,
   "nav_menu": {},
   "number_sections": true,
   "sideBar": true,
   "skip_h1_title": true,
   "title_cell": "Table of Contents",
   "title_sidebar": "Contents",
   "toc_cell": false,
   "toc_position": {},
   "toc_section_display": true,
   "toc_window_display": false
  }
 },
 "nbformat": 4,
 "nbformat_minor": 2
}
