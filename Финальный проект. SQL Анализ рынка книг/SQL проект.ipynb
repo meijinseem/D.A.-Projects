{
 "cells": [
  {
   "cell_type": "markdown",
   "id": "29dbba67",
   "metadata": {},
   "source": [
    "### SQL"
   ]
  },
  {
   "cell_type": "markdown",
   "id": "5aa77bfb",
   "metadata": {},
   "source": [
    "Коронавирус застал мир врасплох, изменив привычный порядок вещей. В свободное время жители городов больше не выходят на улицу, не посещают кафе и торговые центры. Зато стало больше времени для книг. Это заметили стартаперы — и бросились создавать приложения для тех, кто любит читать.\n",
    "\n",
    "Ваша компания решила быть на волне и купила крупный сервис для чтения книг по подписке. Ваша первая задача как аналитика — проанализировать базу данных.\n",
    "В ней — информация о книгах, издательствах, авторах, а также пользовательские обзоры книг. Эти данные помогут сформулировать ценностное предложение для нового продукта."
   ]
  },
  {
   "cell_type": "markdown",
   "id": "17470d8c",
   "metadata": {},
   "source": [
    "### Описание данных\n",
    "\n",
    "**Таблица `books`**\n",
    "\n",
    "Содержит данные о книгах:\n",
    "\n",
    "- `book_id` — идентификатор книги;\n",
    "- `author_id` — идентификатор автора;\n",
    "- `title` — название книги;\n",
    "- `num_pages` — количество страниц;\n",
    "- `publication_date` — дата публикации книги;\n",
    "- `publisher_id` — идентификатор издателя.\n",
    "\n",
    "**Таблица `authors`**\n",
    "\n",
    "Содержит данные об авторах:\n",
    "\n",
    "- `author_id` — идентификатор автора;\n",
    "- `author` — имя автора.\n",
    "\n",
    "**Таблица `publishers`**\n",
    "\n",
    "Содержит данные об издательствах:\n",
    "\n",
    "- `publisher_id` — идентификатор издательства;\n",
    "- `publisher` — название издательства;\n",
    "\n",
    "**Таблица `ratings`**\n",
    "\n",
    "Содержит данные о пользовательских оценках книг:\n",
    "\n",
    "- `rating_id` — идентификатор оценки;\n",
    "- `book_id` — идентификатор книги;\n",
    "- `username` — имя пользователя, оставившего оценку;\n",
    "- `rating` — оценка книги.\n",
    "\n",
    "**Таблица `reviews`**\n",
    "\n",
    "Содержит данные о пользовательских обзорах на книги:\n",
    "\n",
    "- `review_id` — идентификатор обзора;\n",
    "- `book_id` — идентификатор книги;\n",
    "- `username` — имя пользователя, написавшего обзор;\n",
    "- `text` — текст обзора."
   ]
  },
  {
   "cell_type": "markdown",
   "id": "340fe2c5",
   "metadata": {},
   "source": [
    "![](db.png)"
   ]
  },
  {
   "cell_type": "markdown",
   "id": "a987e15d",
   "metadata": {},
   "source": [
    "### Задания\n",
    "\n",
    "- Посчитайте, сколько книг вышло после 1 января 2000 года;\n",
    "- Для каждой книги посчитайте количество обзоров и среднюю оценку;\n",
    "- Определите издательство, которое выпустило наибольшее число книг толще 50 страниц — так вы исключите из анализа брошюры;\n",
    "- Определите автора с самой высокой средней оценкой книг — учитывайте только книги с 50 и более оценками;\n",
    "- Посчитайте среднее количество обзоров от пользователей, которые поставили больше 50 оценок."
   ]
  },
  {
   "cell_type": "code",
   "execution_count": 1,
   "id": "981b5b26",
   "metadata": {},
   "outputs": [],
   "source": [
    "# импортируем библиотеки\n",
    "import pandas as pd\n",
    "from sqlalchemy import create_engine"
   ]
  },
  {
   "cell_type": "code",
   "execution_count": 2,
   "id": "b13c2a89",
   "metadata": {},
   "outputs": [],
   "source": [
    "# устанавливаем параметры\n",
    "db_config = {'user': 'praktikum_student', # имя пользователя\n",
    "'pwd': 'Sdf4$2;d-d30pp', # пароль\n",
    "'host': 'rc1b-wcoijxj3yxfsf3fs.mdb.yandexcloud.net',\n",
    "'port': 6432, # порт подключения\n",
    "'db': 'data-analyst-final-project-db'} # название базы данных\n",
    "connection_string = 'postgresql://{}:{}@{}:{}/{}'.format(db_config['user'],\n",
    " db_config['pwd'],\n",
    " db_config['host'],\n",
    " db_config['port'],\n",
    " db_config['db'])\n",
    "# сохраняем коннектор\n",
    "engine = create_engine(connection_string, connect_args={'sslmode':'require'})"
   ]
  },
  {
   "cell_type": "code",
   "execution_count": 3,
   "id": "b2d1f274",
   "metadata": {},
   "outputs": [],
   "source": [
    "def select(sql):\n",
    "    result = pd.io.sql.read_sql(query, con = engine)\n",
    "    return result"
   ]
  },
  {
   "cell_type": "markdown",
   "id": "ab41e968",
   "metadata": {},
   "source": [
    "#### Посчитайте, сколько книг вышло после 1 января 2000 года;"
   ]
  },
  {
   "cell_type": "code",
   "execution_count": 4,
   "id": "f233b7f2",
   "metadata": {},
   "outputs": [],
   "source": [
    "query = ''' SELECT COUNT(title)\n",
    "        FROM books\n",
    "        WHERE publication_date > '2000-01-01'\n",
    "        '''"
   ]
  },
  {
   "cell_type": "code",
   "execution_count": 5,
   "id": "60880c27",
   "metadata": {},
   "outputs": [
    {
     "name": "stdout",
     "output_type": "stream",
     "text": [
      "После 1 января 2000 года вышло: 819 книг\n"
     ]
    }
   ],
   "source": [
    "print(f'После 1 января 2000 года вышло: {select(query).iat[0,0]} книг')"
   ]
  },
  {
   "cell_type": "markdown",
   "id": "e8c2324f",
   "metadata": {},
   "source": [
    "#### Для каждой книги посчитайте количество обзоров и среднюю оценку;"
   ]
  },
  {
   "cell_type": "code",
   "execution_count": 6,
   "id": "1bb91038",
   "metadata": {},
   "outputs": [],
   "source": [
    "query = ''' SELECT b.title,\n",
    "            b.book_id,\n",
    "            AVG(ra.rating) as average_rating,\n",
    "            COUNT(DISTINCT r.text) as number_of_reviews\n",
    "            FROM books as b\n",
    "            LEFT JOIN ratings as ra ON b.book_id = ra.book_id\n",
    "            LEFT JOIN reviews as r ON b.book_id = r.book_id\n",
    "\n",
    "            GROUP BY b.title,\n",
    "            b.book_id\n",
    "\n",
    "            ORDER BY number_of_reviews DESC\n",
    "        '''"
   ]
  },
  {
   "cell_type": "code",
   "execution_count": 7,
   "id": "670f6daa",
   "metadata": {},
   "outputs": [
    {
     "data": {
      "text/html": [
       "<div>\n",
       "<style scoped>\n",
       "    .dataframe tbody tr th:only-of-type {\n",
       "        vertical-align: middle;\n",
       "    }\n",
       "\n",
       "    .dataframe tbody tr th {\n",
       "        vertical-align: top;\n",
       "    }\n",
       "\n",
       "    .dataframe thead th {\n",
       "        text-align: right;\n",
       "    }\n",
       "</style>\n",
       "<table border=\"1\" class=\"dataframe\">\n",
       "  <thead>\n",
       "    <tr style=\"text-align: right;\">\n",
       "      <th></th>\n",
       "      <th>title</th>\n",
       "      <th>book_id</th>\n",
       "      <th>average_rating</th>\n",
       "      <th>number_of_reviews</th>\n",
       "    </tr>\n",
       "  </thead>\n",
       "  <tbody>\n",
       "    <tr>\n",
       "      <th>0</th>\n",
       "      <td>Twilight (Twilight  #1)</td>\n",
       "      <td>948</td>\n",
       "      <td>3.662500</td>\n",
       "      <td>7</td>\n",
       "    </tr>\n",
       "    <tr>\n",
       "      <th>1</th>\n",
       "      <td>Water for Elephants</td>\n",
       "      <td>963</td>\n",
       "      <td>3.977273</td>\n",
       "      <td>6</td>\n",
       "    </tr>\n",
       "    <tr>\n",
       "      <th>2</th>\n",
       "      <td>The Glass Castle</td>\n",
       "      <td>734</td>\n",
       "      <td>4.206897</td>\n",
       "      <td>6</td>\n",
       "    </tr>\n",
       "    <tr>\n",
       "      <th>3</th>\n",
       "      <td>Harry Potter and the Prisoner of Azkaban (Harr...</td>\n",
       "      <td>302</td>\n",
       "      <td>4.414634</td>\n",
       "      <td>6</td>\n",
       "    </tr>\n",
       "    <tr>\n",
       "      <th>4</th>\n",
       "      <td>The Curious Incident of the Dog in the Night-Time</td>\n",
       "      <td>695</td>\n",
       "      <td>4.081081</td>\n",
       "      <td>6</td>\n",
       "    </tr>\n",
       "    <tr>\n",
       "      <th>...</th>\n",
       "      <td>...</td>\n",
       "      <td>...</td>\n",
       "      <td>...</td>\n",
       "      <td>...</td>\n",
       "    </tr>\n",
       "    <tr>\n",
       "      <th>995</th>\n",
       "      <td>Anne Rice's The Vampire Lestat: A Graphic Novel</td>\n",
       "      <td>83</td>\n",
       "      <td>3.666667</td>\n",
       "      <td>0</td>\n",
       "    </tr>\n",
       "    <tr>\n",
       "      <th>996</th>\n",
       "      <td>The Natural Way to Draw</td>\n",
       "      <td>808</td>\n",
       "      <td>3.000000</td>\n",
       "      <td>0</td>\n",
       "    </tr>\n",
       "    <tr>\n",
       "      <th>997</th>\n",
       "      <td>The Cat in the Hat and Other Dr. Seuss Favorites</td>\n",
       "      <td>672</td>\n",
       "      <td>5.000000</td>\n",
       "      <td>0</td>\n",
       "    </tr>\n",
       "    <tr>\n",
       "      <th>998</th>\n",
       "      <td>Essential Tales and Poems</td>\n",
       "      <td>221</td>\n",
       "      <td>4.000000</td>\n",
       "      <td>0</td>\n",
       "    </tr>\n",
       "    <tr>\n",
       "      <th>999</th>\n",
       "      <td>Disney's Beauty and the Beast (A Little Golden...</td>\n",
       "      <td>191</td>\n",
       "      <td>4.000000</td>\n",
       "      <td>0</td>\n",
       "    </tr>\n",
       "  </tbody>\n",
       "</table>\n",
       "<p>1000 rows × 4 columns</p>\n",
       "</div>"
      ],
      "text/plain": [
       "                                                 title  book_id  \\\n",
       "0                              Twilight (Twilight  #1)      948   \n",
       "1                                  Water for Elephants      963   \n",
       "2                                     The Glass Castle      734   \n",
       "3    Harry Potter and the Prisoner of Azkaban (Harr...      302   \n",
       "4    The Curious Incident of the Dog in the Night-Time      695   \n",
       "..                                                 ...      ...   \n",
       "995    Anne Rice's The Vampire Lestat: A Graphic Novel       83   \n",
       "996                            The Natural Way to Draw      808   \n",
       "997   The Cat in the Hat and Other Dr. Seuss Favorites      672   \n",
       "998                          Essential Tales and Poems      221   \n",
       "999  Disney's Beauty and the Beast (A Little Golden...      191   \n",
       "\n",
       "     average_rating  number_of_reviews  \n",
       "0          3.662500                  7  \n",
       "1          3.977273                  6  \n",
       "2          4.206897                  6  \n",
       "3          4.414634                  6  \n",
       "4          4.081081                  6  \n",
       "..              ...                ...  \n",
       "995        3.666667                  0  \n",
       "996        3.000000                  0  \n",
       "997        5.000000                  0  \n",
       "998        4.000000                  0  \n",
       "999        4.000000                  0  \n",
       "\n",
       "[1000 rows x 4 columns]"
      ]
     },
     "execution_count": 7,
     "metadata": {},
     "output_type": "execute_result"
    }
   ],
   "source": [
    "select(query)"
   ]
  },
  {
   "cell_type": "markdown",
   "id": "f2f91d68",
   "metadata": {},
   "source": [
    "#### Определите издательство, которое выпустило наибольшее число книг толще 50 страниц — так вы исключите из анализа брошюры;"
   ]
  },
  {
   "cell_type": "code",
   "execution_count": 8,
   "id": "3d377e6e",
   "metadata": {},
   "outputs": [],
   "source": [
    "query = ''' SELECT p.publisher, COUNT(title) as count_books\n",
    "        FROM books as b\n",
    "        INNER JOIN publishers AS p ON b.publisher_id = p.publisher_id\n",
    "        WHERE b.num_pages > 50\n",
    "        GROUP BY p.publisher\n",
    "        ORDER BY count_books DESC\n",
    "        LIMIT 1\n",
    "        '''"
   ]
  },
  {
   "cell_type": "code",
   "execution_count": 9,
   "id": "8b491d40",
   "metadata": {},
   "outputs": [
    {
     "name": "stdout",
     "output_type": "stream",
     "text": [
      "Издательство Penguin Books выпустило наибольшее число (42 книги), толще 50 страниц\n"
     ]
    }
   ],
   "source": [
    "print(f'Издательство {select(query).iat[0,0]} выпустило наибольшее число ({select(query).iat[0,1]} книги), толще 50 страниц')"
   ]
  },
  {
   "cell_type": "markdown",
   "id": "cf2a5fd9",
   "metadata": {},
   "source": [
    "#### Определите автора с самой высокой средней оценкой книг — учитывайте только книги с 50 и более оценками;"
   ]
  },
  {
   "cell_type": "code",
   "execution_count": 10,
   "id": "76fb220c",
   "metadata": {},
   "outputs": [],
   "source": [
    "query = '''\n",
    "        WITH\n",
    "        r_50 as (\n",
    "        SELECT b.book_id, b.title, COUNT(r.rating_id) as count_rating\n",
    "        FROM books as b\n",
    "        INNER JOIN authors AS a ON b.author_id = a.author_id\n",
    "        INNER JOIN ratings AS r ON b.book_id = r.book_id\n",
    "        GROUP BY b.book_id, b.title\n",
    "        HAVING COUNT(r.rating_id) >= 50)\n",
    "        \n",
    "        SELECT a.author, ROUND(AVG(ra.rating),2) as mean_rating\n",
    "        FROM r_50 as r\n",
    "        INNER JOIN books as b on r.book_id = b.book_id\n",
    "        INNER JOIN authors as a on b.author_id = a.author_id\n",
    "        INNER JOIN ratings as ra on b.book_id = ra.book_id\n",
    "        GROUP BY a.author\n",
    "        ORDER BY mean_rating DESC\n",
    "        LIMIT 1\n",
    "        '''"
   ]
  },
  {
   "cell_type": "code",
   "execution_count": 11,
   "id": "fbe2e5e2",
   "metadata": {},
   "outputs": [
    {
     "name": "stdout",
     "output_type": "stream",
     "text": [
      "Автор J.K. Rowling/Mary GrandPré имеет самый высокий рейтинг оценки его книг (4.29 балла)\n"
     ]
    }
   ],
   "source": [
    "print(f'Автор {select(query).iat[0,0]} имеет самый высокий рейтинг оценки его книг ({select(query).iat[0,1]} балла)')"
   ]
  },
  {
   "cell_type": "markdown",
   "id": "828182a1",
   "metadata": {},
   "source": [
    "#### Посчитайте среднее количество обзоров от пользователей, которые поставили больше 50 оценок."
   ]
  },
  {
   "cell_type": "code",
   "execution_count": 12,
   "id": "503ce295",
   "metadata": {},
   "outputs": [],
   "source": [
    "query = '''\n",
    "        WITH \n",
    "        users_50 as(\n",
    "        SELECT username, COUNT(rating_id) as count_rating\n",
    "        FROM ratings\n",
    "        GROUP BY username\n",
    "        HAVING COUNT(rating_id) > 50)\n",
    "        \n",
    "        SELECT ROUND(AVG(count_review),2)\n",
    "        FROM(SELECT username, COUNT(text) AS count_review\n",
    "        FROM reviews\n",
    "        WHERE username IN (SELECT username\n",
    "                            FROM users_50)\n",
    "        GROUP BY username) AS kek\n",
    "        \n",
    "        '''"
   ]
  },
  {
   "cell_type": "code",
   "execution_count": 13,
   "id": "fd8c0c74",
   "metadata": {},
   "outputs": [
    {
     "name": "stdout",
     "output_type": "stream",
     "text": [
      "Среднее кол-во обзоров от пользователей, которые поставили больше 50 оценок составляет 24.33 штук\n"
     ]
    }
   ],
   "source": [
    "print(f'Среднее кол-во обзоров от пользователей, которые поставили больше 50 оценок составляет {select(query).iat[0,0]} штук')"
   ]
  },
  {
   "cell_type": "markdown",
   "id": "5bf62c54",
   "metadata": {},
   "source": [
    "<strong> Выводы:</strong>\n",
    "\n",
    "- После 1 января 2000 года вышло: 819 книг;\n",
    "- Издательство Penguin Books выпустило наибольшее число (42 книги), толще 50 страниц;\n",
    "- Автор J.K. Rowling/Mary GrandPré имеет самый высокий рейтинг оценки его книг (4.29 балла);\n",
    "- Среднее кол-во обзоров от пользователей, которые поставили больше 50 оценок составляет (24.33 штук);"
   ]
  }
 ],
 "metadata": {
  "ExecuteTimeLog": [
   {
    "duration": 511,
    "start_time": "2023-01-28T01:10:16.896Z"
   },
   {
    "duration": 5110,
    "start_time": "2023-01-28T01:10:17.409Z"
   },
   {
    "duration": 2,
    "start_time": "2023-01-28T01:10:22.521Z"
   },
   {
    "duration": 8,
    "start_time": "2023-01-28T01:10:22.525Z"
   },
   {
    "duration": 247,
    "start_time": "2023-01-28T01:10:22.535Z"
   },
   {
    "duration": 3,
    "start_time": "2023-01-28T01:10:22.783Z"
   },
   {
    "duration": 129,
    "start_time": "2023-01-28T01:10:22.788Z"
   },
   {
    "duration": 3,
    "start_time": "2023-01-28T01:10:22.919Z"
   },
   {
    "duration": 145,
    "start_time": "2023-01-28T01:10:22.924Z"
   },
   {
    "duration": 3,
    "start_time": "2023-01-28T01:10:23.072Z"
   },
   {
    "duration": 155,
    "start_time": "2023-01-28T01:10:23.077Z"
   },
   {
    "duration": 3,
    "start_time": "2023-01-28T01:10:23.234Z"
   },
   {
    "duration": 73,
    "start_time": "2023-01-28T01:10:23.239Z"
   },
   {
    "duration": 499,
    "start_time": "2023-01-28T10:04:25.143Z"
   },
   {
    "duration": 4952,
    "start_time": "2023-01-28T10:04:25.644Z"
   },
   {
    "duration": 3,
    "start_time": "2023-01-28T10:04:30.597Z"
   },
   {
    "duration": 23,
    "start_time": "2023-01-28T10:04:30.602Z"
   },
   {
    "duration": 78,
    "start_time": "2023-01-28T10:04:30.628Z"
   },
   {
    "duration": 4,
    "start_time": "2023-01-28T10:04:30.708Z"
   },
   {
    "duration": 68,
    "start_time": "2023-01-28T10:04:30.714Z"
   },
   {
    "duration": 2,
    "start_time": "2023-01-28T10:04:30.784Z"
   },
   {
    "duration": 111,
    "start_time": "2023-01-28T10:04:30.788Z"
   },
   {
    "duration": 9,
    "start_time": "2023-01-28T10:04:30.900Z"
   },
   {
    "duration": 52,
    "start_time": "2023-01-28T10:04:30.911Z"
   },
   {
    "duration": 2,
    "start_time": "2023-01-28T10:04:30.964Z"
   },
   {
    "duration": 14,
    "start_time": "2023-01-28T10:04:30.968Z"
   },
   {
    "duration": 3,
    "start_time": "2023-01-28T10:07:00.760Z"
   },
   {
    "duration": 39,
    "start_time": "2023-01-28T10:07:01.199Z"
   },
   {
    "duration": 3,
    "start_time": "2023-01-28T10:07:07.137Z"
   },
   {
    "duration": 27,
    "start_time": "2023-01-28T10:07:08.489Z"
   },
   {
    "duration": 3,
    "start_time": "2023-01-28T10:09:21.896Z"
   },
   {
    "duration": 30,
    "start_time": "2023-01-28T10:09:22.648Z"
   },
   {
    "duration": 2,
    "start_time": "2023-01-28T10:09:45.725Z"
   },
   {
    "duration": 32,
    "start_time": "2023-01-28T10:09:46.045Z"
   },
   {
    "duration": 50,
    "start_time": "2023-01-28T10:10:23.665Z"
   },
   {
    "duration": 59,
    "start_time": "2023-01-28T10:37:25.645Z"
   },
   {
    "duration": 25,
    "start_time": "2023-01-28T10:45:23.253Z"
   },
   {
    "duration": 24,
    "start_time": "2023-01-28T10:45:36.135Z"
   },
   {
    "duration": 33,
    "start_time": "2023-01-28T10:45:54.577Z"
   },
   {
    "duration": 33,
    "start_time": "2023-01-28T10:46:22.805Z"
   },
   {
    "duration": 25,
    "start_time": "2023-01-28T10:46:28.158Z"
   },
   {
    "duration": 25,
    "start_time": "2023-01-28T10:46:32.035Z"
   },
   {
    "duration": 25,
    "start_time": "2023-01-28T10:46:34.647Z"
   },
   {
    "duration": 29,
    "start_time": "2023-01-28T10:46:39.056Z"
   },
   {
    "duration": 33,
    "start_time": "2023-01-28T10:46:47.169Z"
   },
   {
    "duration": 522,
    "start_time": "2023-01-28T10:47:05.672Z"
   },
   {
    "duration": 5363,
    "start_time": "2023-01-28T10:47:06.196Z"
   },
   {
    "duration": 4,
    "start_time": "2023-01-28T10:47:11.561Z"
   },
   {
    "duration": 18,
    "start_time": "2023-01-28T10:47:11.568Z"
   },
   {
    "duration": 86,
    "start_time": "2023-01-28T10:47:11.588Z"
   },
   {
    "duration": 3,
    "start_time": "2023-01-28T10:47:11.676Z"
   },
   {
    "duration": 58,
    "start_time": "2023-01-28T10:47:11.681Z"
   },
   {
    "duration": 5,
    "start_time": "2023-01-28T10:47:11.740Z"
   },
   {
    "duration": 36,
    "start_time": "2023-01-28T10:47:11.748Z"
   },
   {
    "duration": 3,
    "start_time": "2023-01-28T10:47:11.787Z"
   },
   {
    "duration": 67,
    "start_time": "2023-01-28T10:47:11.792Z"
   },
   {
    "duration": 3,
    "start_time": "2023-01-28T10:47:11.861Z"
   },
   {
    "duration": 15,
    "start_time": "2023-01-28T10:47:11.867Z"
   },
   {
    "duration": 12,
    "start_time": "2023-01-28T10:47:20.437Z"
   },
   {
    "duration": 55,
    "start_time": "2023-01-28T10:53:59.640Z"
   },
   {
    "duration": 516,
    "start_time": "2023-01-28T10:54:47.833Z"
   },
   {
    "duration": 4921,
    "start_time": "2023-01-28T10:54:48.350Z"
   },
   {
    "duration": 3,
    "start_time": "2023-01-28T10:54:53.273Z"
   },
   {
    "duration": 11,
    "start_time": "2023-01-28T10:54:53.279Z"
   },
   {
    "duration": 64,
    "start_time": "2023-01-28T10:54:53.292Z"
   },
   {
    "duration": 3,
    "start_time": "2023-01-28T10:54:53.357Z"
   },
   {
    "duration": 67,
    "start_time": "2023-01-28T10:54:53.362Z"
   },
   {
    "duration": 4,
    "start_time": "2023-01-28T10:54:53.431Z"
   },
   {
    "duration": 31,
    "start_time": "2023-01-28T10:54:53.437Z"
   },
   {
    "duration": 2,
    "start_time": "2023-01-28T10:54:53.471Z"
   },
   {
    "duration": 35,
    "start_time": "2023-01-28T10:54:53.475Z"
   },
   {
    "duration": 8,
    "start_time": "2023-01-28T10:54:53.512Z"
   },
   {
    "duration": 27,
    "start_time": "2023-01-28T10:54:53.522Z"
   }
  ],
  "kernelspec": {
   "display_name": "Python 3 (ipykernel)",
   "language": "python",
   "name": "python3"
  },
  "language_info": {
   "codemirror_mode": {
    "name": "ipython",
    "version": 3
   },
   "file_extension": ".py",
   "mimetype": "text/x-python",
   "name": "python",
   "nbconvert_exporter": "python",
   "pygments_lexer": "ipython3",
   "version": "3.10.5"
  },
  "toc": {
   "base_numbering": 1,
   "nav_menu": {},
   "number_sections": true,
   "sideBar": true,
   "skip_h1_title": true,
   "title_cell": "Table of Contents",
   "title_sidebar": "Contents",
   "toc_cell": false,
   "toc_position": {},
   "toc_section_display": true,
   "toc_window_display": false
  }
 },
 "nbformat": 4,
 "nbformat_minor": 5
}
