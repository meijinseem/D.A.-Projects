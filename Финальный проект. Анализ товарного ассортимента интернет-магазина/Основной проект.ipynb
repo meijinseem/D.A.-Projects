{
 "cells": [
  {
   "cell_type": "markdown",
   "id": "3a3551f2",
   "metadata": {},
   "source": [
    "### Задача:\n",
    "\n",
    "Проанализируйте ассортимент товаров.\n",
    "\n",
    "- Проведите исследовательский анализ данных;\n",
    "- Проанализируйте торговый ассортимент;\n",
    "- Сформулируйте и проверьте статистические гипотезы.\n",
    "\n",
    "(задачи выше сформулированы предварительно, окончательная постановка задачи произойдёт на вводной встрече)"
   ]
  },
  {
   "cell_type": "markdown",
   "id": "846a0d61",
   "metadata": {},
   "source": [
    "### Описание данных:\n",
    "\n",
    "Датасет описывает транзакции интернет-магазина товаров для дома и быта «Пока все ещё тут»."
   ]
  },
  {
   "cell_type": "markdown",
   "id": "468b0ffb",
   "metadata": {},
   "source": [
    "- `date` — дата заказа;\n",
    "- `customer_id` — идентификатор покупателя;\n",
    "- `order_id` — идентификатор заказа;\n",
    "- `product` — наименование товара;\n",
    "- `quantity` — количество товара в заказе;\n",
    "- `price` — цена товара."
   ]
  },
  {
   "cell_type": "markdown",
   "id": "ef1366b6",
   "metadata": {},
   "source": [
    "<h2> Открыть датасет и изучить  общую информацию </h2>"
   ]
  },
  {
   "cell_type": "code",
   "execution_count": 1,
   "id": "e2fa505a",
   "metadata": {},
   "outputs": [],
   "source": [
    "import pandas as pd\n",
    "import numpy as np\n",
    "import seaborn as sns\n",
    "import plotly as plt\n",
    "import matplotlib.pyplot as plt\n",
    "import plotly.express as px\n",
    "import plotly.graph_objects as go\n",
    "from scipy import stats as st"
   ]
  },
  {
   "cell_type": "code",
   "execution_count": 2,
   "id": "1995c02b",
   "metadata": {},
   "outputs": [],
   "source": [
    "data = pd.read_csv('https://code.s3.yandex.net/datasets/ecommerce_dataset.csv')"
   ]
  },
  {
   "cell_type": "code",
   "execution_count": 3,
   "id": "4f236776",
   "metadata": {},
   "outputs": [],
   "source": [
    "pd.set_option('display.max_columns', None)\n",
    "#Установим ширину ячеек\n",
    "pd.set_option(\"max_colwidth\", 999)"
   ]
  },
  {
   "cell_type": "code",
   "execution_count": 4,
   "id": "d0f209f6",
   "metadata": {},
   "outputs": [
    {
     "data": {
      "text/html": [
       "<div>\n",
       "<style scoped>\n",
       "    .dataframe tbody tr th:only-of-type {\n",
       "        vertical-align: middle;\n",
       "    }\n",
       "\n",
       "    .dataframe tbody tr th {\n",
       "        vertical-align: top;\n",
       "    }\n",
       "\n",
       "    .dataframe thead th {\n",
       "        text-align: right;\n",
       "    }\n",
       "</style>\n",
       "<table border=\"1\" class=\"dataframe\">\n",
       "  <thead>\n",
       "    <tr style=\"text-align: right;\">\n",
       "      <th></th>\n",
       "      <th>date</th>\n",
       "      <th>customer_id</th>\n",
       "      <th>order_id</th>\n",
       "      <th>product</th>\n",
       "      <th>quantity</th>\n",
       "      <th>price</th>\n",
       "    </tr>\n",
       "  </thead>\n",
       "  <tbody>\n",
       "    <tr>\n",
       "      <th>0</th>\n",
       "      <td>2018100100</td>\n",
       "      <td>ee47d746-6d2f-4d3c-9622-c31412542920</td>\n",
       "      <td>68477</td>\n",
       "      <td>Комнатное растение в горшке Алое Вера, d12, h30</td>\n",
       "      <td>1</td>\n",
       "      <td>142.0</td>\n",
       "    </tr>\n",
       "    <tr>\n",
       "      <th>1</th>\n",
       "      <td>2018100100</td>\n",
       "      <td>ee47d746-6d2f-4d3c-9622-c31412542920</td>\n",
       "      <td>68477</td>\n",
       "      <td>Комнатное растение в горшке Кофе Арабика, d12, h25</td>\n",
       "      <td>1</td>\n",
       "      <td>194.0</td>\n",
       "    </tr>\n",
       "    <tr>\n",
       "      <th>2</th>\n",
       "      <td>2018100100</td>\n",
       "      <td>ee47d746-6d2f-4d3c-9622-c31412542920</td>\n",
       "      <td>68477</td>\n",
       "      <td>Радермахера d-12 см h-20 см</td>\n",
       "      <td>1</td>\n",
       "      <td>112.0</td>\n",
       "    </tr>\n",
       "    <tr>\n",
       "      <th>3</th>\n",
       "      <td>2018100100</td>\n",
       "      <td>ee47d746-6d2f-4d3c-9622-c31412542920</td>\n",
       "      <td>68477</td>\n",
       "      <td>Хризолидокарпус Лутесценс d-9 см</td>\n",
       "      <td>1</td>\n",
       "      <td>179.0</td>\n",
       "    </tr>\n",
       "    <tr>\n",
       "      <th>4</th>\n",
       "      <td>2018100100</td>\n",
       "      <td>ee47d746-6d2f-4d3c-9622-c31412542920</td>\n",
       "      <td>68477</td>\n",
       "      <td>Циперус Зумула d-12 см h-25 см</td>\n",
       "      <td>1</td>\n",
       "      <td>112.0</td>\n",
       "    </tr>\n",
       "  </tbody>\n",
       "</table>\n",
       "</div>"
      ],
      "text/plain": [
       "         date                           customer_id  order_id  \\\n",
       "0  2018100100  ee47d746-6d2f-4d3c-9622-c31412542920     68477   \n",
       "1  2018100100  ee47d746-6d2f-4d3c-9622-c31412542920     68477   \n",
       "2  2018100100  ee47d746-6d2f-4d3c-9622-c31412542920     68477   \n",
       "3  2018100100  ee47d746-6d2f-4d3c-9622-c31412542920     68477   \n",
       "4  2018100100  ee47d746-6d2f-4d3c-9622-c31412542920     68477   \n",
       "\n",
       "                                              product  quantity  price  \n",
       "0     Комнатное растение в горшке Алое Вера, d12, h30         1  142.0  \n",
       "1  Комнатное растение в горшке Кофе Арабика, d12, h25         1  194.0  \n",
       "2                         Радермахера d-12 см h-20 см         1  112.0  \n",
       "3                    Хризолидокарпус Лутесценс d-9 см         1  179.0  \n",
       "4                      Циперус Зумула d-12 см h-25 см         1  112.0  "
      ]
     },
     "execution_count": 4,
     "metadata": {},
     "output_type": "execute_result"
    }
   ],
   "source": [
    "data.head()"
   ]
  },
  {
   "cell_type": "code",
   "execution_count": 5,
   "id": "f43ac3ef",
   "metadata": {},
   "outputs": [
    {
     "name": "stdout",
     "output_type": "stream",
     "text": [
      "<class 'pandas.core.frame.DataFrame'>\n",
      "RangeIndex: 6737 entries, 0 to 6736\n",
      "Data columns (total 6 columns):\n",
      " #   Column       Non-Null Count  Dtype  \n",
      "---  ------       --------------  -----  \n",
      " 0   date         6737 non-null   int64  \n",
      " 1   customer_id  6737 non-null   object \n",
      " 2   order_id     6737 non-null   int64  \n",
      " 3   product      6737 non-null   object \n",
      " 4   quantity     6737 non-null   int64  \n",
      " 5   price        6737 non-null   float64\n",
      "dtypes: float64(1), int64(3), object(2)\n",
      "memory usage: 315.9+ KB\n"
     ]
    }
   ],
   "source": [
    "data.info()"
   ]
  },
  {
   "cell_type": "markdown",
   "id": "6d71614d",
   "metadata": {},
   "source": [
    "<h2> Подготовить данные </h2>"
   ]
  },
  {
   "cell_type": "markdown",
   "id": "8e1db6ca",
   "metadata": {},
   "source": [
    "Переведем столб 'date' в формат datetime"
   ]
  },
  {
   "cell_type": "code",
   "execution_count": 6,
   "id": "dcfa259d",
   "metadata": {},
   "outputs": [],
   "source": [
    "data['date'] = pd.to_datetime(data['date'], format='%Y%m%d%H')"
   ]
  },
  {
   "cell_type": "code",
   "execution_count": 7,
   "id": "ac974953",
   "metadata": {},
   "outputs": [
    {
     "name": "stdout",
     "output_type": "stream",
     "text": [
      "<class 'pandas.core.frame.DataFrame'>\n",
      "RangeIndex: 6737 entries, 0 to 6736\n",
      "Data columns (total 6 columns):\n",
      " #   Column       Non-Null Count  Dtype         \n",
      "---  ------       --------------  -----         \n",
      " 0   date         6737 non-null   datetime64[ns]\n",
      " 1   customer_id  6737 non-null   object        \n",
      " 2   order_id     6737 non-null   int64         \n",
      " 3   product      6737 non-null   object        \n",
      " 4   quantity     6737 non-null   int64         \n",
      " 5   price        6737 non-null   float64       \n",
      "dtypes: datetime64[ns](1), float64(1), int64(2), object(2)\n",
      "memory usage: 315.9+ KB\n"
     ]
    }
   ],
   "source": [
    "data.info()"
   ]
  },
  {
   "cell_type": "markdown",
   "id": "304fce69",
   "metadata": {},
   "source": [
    "Остальные форматы можно оставить как есть."
   ]
  },
  {
   "cell_type": "code",
   "execution_count": 8,
   "id": "e14b481d",
   "metadata": {},
   "outputs": [
    {
     "name": "stdout",
     "output_type": "stream",
     "text": [
      "Сумма дубликатов: 0\n"
     ]
    }
   ],
   "source": [
    "print(f'Сумма дубликатов: {data.duplicated().sum()}')"
   ]
  },
  {
   "cell_type": "markdown",
   "id": "a0f66f4b",
   "metadata": {},
   "source": [
    "Поссмотрим кол-во на id транзакций."
   ]
  },
  {
   "cell_type": "code",
   "execution_count": 9,
   "id": "e9d182e0",
   "metadata": {},
   "outputs": [
    {
     "data": {
      "text/html": [
       "<div>\n",
       "<style scoped>\n",
       "    .dataframe tbody tr th:only-of-type {\n",
       "        vertical-align: middle;\n",
       "    }\n",
       "\n",
       "    .dataframe tbody tr th {\n",
       "        vertical-align: top;\n",
       "    }\n",
       "\n",
       "    .dataframe thead th {\n",
       "        text-align: right;\n",
       "    }\n",
       "</style>\n",
       "<table border=\"1\" class=\"dataframe\">\n",
       "  <thead>\n",
       "    <tr style=\"text-align: right;\">\n",
       "      <th></th>\n",
       "      <th>product</th>\n",
       "    </tr>\n",
       "    <tr>\n",
       "      <th>order_id</th>\n",
       "      <th></th>\n",
       "    </tr>\n",
       "  </thead>\n",
       "  <tbody>\n",
       "    <tr>\n",
       "      <th>14833</th>\n",
       "      <td>888</td>\n",
       "    </tr>\n",
       "    <tr>\n",
       "      <th>14835</th>\n",
       "      <td>203</td>\n",
       "    </tr>\n",
       "    <tr>\n",
       "      <th>14753</th>\n",
       "      <td>90</td>\n",
       "    </tr>\n",
       "    <tr>\n",
       "      <th>14897</th>\n",
       "      <td>63</td>\n",
       "    </tr>\n",
       "    <tr>\n",
       "      <th>70960</th>\n",
       "      <td>60</td>\n",
       "    </tr>\n",
       "    <tr>\n",
       "      <th>...</th>\n",
       "      <td>...</td>\n",
       "    </tr>\n",
       "    <tr>\n",
       "      <th>70128</th>\n",
       "      <td>1</td>\n",
       "    </tr>\n",
       "    <tr>\n",
       "      <th>70126</th>\n",
       "      <td>1</td>\n",
       "    </tr>\n",
       "    <tr>\n",
       "      <th>70125</th>\n",
       "      <td>1</td>\n",
       "    </tr>\n",
       "    <tr>\n",
       "      <th>70123</th>\n",
       "      <td>1</td>\n",
       "    </tr>\n",
       "    <tr>\n",
       "      <th>73164</th>\n",
       "      <td>1</td>\n",
       "    </tr>\n",
       "  </tbody>\n",
       "</table>\n",
       "<p>2784 rows × 1 columns</p>\n",
       "</div>"
      ],
      "text/plain": [
       "          product\n",
       "order_id         \n",
       "14833         888\n",
       "14835         203\n",
       "14753          90\n",
       "14897          63\n",
       "70960          60\n",
       "...           ...\n",
       "70128           1\n",
       "70126           1\n",
       "70125           1\n",
       "70123           1\n",
       "73164           1\n",
       "\n",
       "[2784 rows x 1 columns]"
      ]
     },
     "execution_count": 9,
     "metadata": {},
     "output_type": "execute_result"
    }
   ],
   "source": [
    "data.groupby('order_id').agg({'product': 'count'}).sort_values(by = 'product',ascending = False)"
   ]
  },
  {
   "cell_type": "markdown",
   "id": "6a21f093",
   "metadata": {},
   "source": [
    "Интересно посмотреть на покупки по индефикатору \"14833\", их подозрительно много за всего лишь 1 год."
   ]
  },
  {
   "cell_type": "code",
   "execution_count": 10,
   "id": "f969ac36",
   "metadata": {},
   "outputs": [
    {
     "data": {
      "text/html": [
       "<div>\n",
       "<style scoped>\n",
       "    .dataframe tbody tr th:only-of-type {\n",
       "        vertical-align: middle;\n",
       "    }\n",
       "\n",
       "    .dataframe tbody tr th {\n",
       "        vertical-align: top;\n",
       "    }\n",
       "\n",
       "    .dataframe thead th {\n",
       "        text-align: right;\n",
       "    }\n",
       "</style>\n",
       "<table border=\"1\" class=\"dataframe\">\n",
       "  <thead>\n",
       "    <tr style=\"text-align: right;\">\n",
       "      <th></th>\n",
       "      <th>date</th>\n",
       "      <th>customer_id</th>\n",
       "      <th>order_id</th>\n",
       "      <th>product</th>\n",
       "      <th>quantity</th>\n",
       "      <th>price</th>\n",
       "    </tr>\n",
       "  </thead>\n",
       "  <tbody>\n",
       "    <tr>\n",
       "      <th>5544</th>\n",
       "      <td>2019-06-22 06:00:00</td>\n",
       "      <td>1d6c8c1f-a799-4418-9af2-1ded47d7a85c</td>\n",
       "      <td>14833</td>\n",
       "      <td>Тагетис крупноцветковый рассада однолетних цветов в кассете по 10 шт</td>\n",
       "      <td>1</td>\n",
       "      <td>210.0</td>\n",
       "    </tr>\n",
       "    <tr>\n",
       "      <th>5317</th>\n",
       "      <td>2019-06-14 18:00:00</td>\n",
       "      <td>1d6c8c1f-a799-4418-9af2-1ded47d7a85c</td>\n",
       "      <td>14833</td>\n",
       "      <td>Тагетис крупноцветковый рассада однолетних цветов в кассете по 10 шт</td>\n",
       "      <td>1</td>\n",
       "      <td>210.0</td>\n",
       "    </tr>\n",
       "    <tr>\n",
       "      <th>5058</th>\n",
       "      <td>2019-06-10 22:00:00</td>\n",
       "      <td>1d6c8c1f-a799-4418-9af2-1ded47d7a85c</td>\n",
       "      <td>14833</td>\n",
       "      <td>Тагетис крупноцветковый рассада однолетних цветов в кассете по 10 шт</td>\n",
       "      <td>1</td>\n",
       "      <td>210.0</td>\n",
       "    </tr>\n",
       "    <tr>\n",
       "      <th>5455</th>\n",
       "      <td>2019-06-18 13:00:00</td>\n",
       "      <td>1d6c8c1f-a799-4418-9af2-1ded47d7a85c</td>\n",
       "      <td>14833</td>\n",
       "      <td>Тагетис крупноцветковый рассада однолетних цветов в кассете по 10 шт</td>\n",
       "      <td>1</td>\n",
       "      <td>210.0</td>\n",
       "    </tr>\n",
       "    <tr>\n",
       "      <th>4933</th>\n",
       "      <td>2019-06-09 10:00:00</td>\n",
       "      <td>1d6c8c1f-a799-4418-9af2-1ded47d7a85c</td>\n",
       "      <td>14833</td>\n",
       "      <td>Тагетис крупноцветковый рассада однолетних цветов в кассете по 10 шт</td>\n",
       "      <td>1</td>\n",
       "      <td>210.0</td>\n",
       "    </tr>\n",
       "    <tr>\n",
       "      <th>...</th>\n",
       "      <td>...</td>\n",
       "      <td>...</td>\n",
       "      <td>...</td>\n",
       "      <td>...</td>\n",
       "      <td>...</td>\n",
       "      <td>...</td>\n",
       "    </tr>\n",
       "    <tr>\n",
       "      <th>4717</th>\n",
       "      <td>2019-06-06 13:00:00</td>\n",
       "      <td>1d6c8c1f-a799-4418-9af2-1ded47d7a85c</td>\n",
       "      <td>14833</td>\n",
       "      <td>Рассада Кабачка сорт Аэронавт, кассета по 6шт</td>\n",
       "      <td>1</td>\n",
       "      <td>120.0</td>\n",
       "    </tr>\n",
       "    <tr>\n",
       "      <th>4718</th>\n",
       "      <td>2019-06-06 13:00:00</td>\n",
       "      <td>1d6c8c1f-a799-4418-9af2-1ded47d7a85c</td>\n",
       "      <td>14833</td>\n",
       "      <td>Рассада Кабачка сорт Белогор кассета 6 шт E6</td>\n",
       "      <td>1</td>\n",
       "      <td>120.0</td>\n",
       "    </tr>\n",
       "    <tr>\n",
       "      <th>4719</th>\n",
       "      <td>2019-06-06 13:00:00</td>\n",
       "      <td>1d6c8c1f-a799-4418-9af2-1ded47d7a85c</td>\n",
       "      <td>14833</td>\n",
       "      <td>Рассада Кабачка сорт Горный, кассета по 6шт</td>\n",
       "      <td>1</td>\n",
       "      <td>120.0</td>\n",
       "    </tr>\n",
       "    <tr>\n",
       "      <th>4720</th>\n",
       "      <td>2019-06-06 13:00:00</td>\n",
       "      <td>1d6c8c1f-a799-4418-9af2-1ded47d7a85c</td>\n",
       "      <td>14833</td>\n",
       "      <td>Рассада Кабачка сорт Зебра кассета 6 шт E6</td>\n",
       "      <td>1</td>\n",
       "      <td>120.0</td>\n",
       "    </tr>\n",
       "    <tr>\n",
       "      <th>4980</th>\n",
       "      <td>2019-06-10 08:00:00</td>\n",
       "      <td>1d6c8c1f-a799-4418-9af2-1ded47d7a85c</td>\n",
       "      <td>14833</td>\n",
       "      <td>Рассада Кабачка сорт Аэронавт, кассета по 6шт</td>\n",
       "      <td>1</td>\n",
       "      <td>120.0</td>\n",
       "    </tr>\n",
       "  </tbody>\n",
       "</table>\n",
       "<p>888 rows × 6 columns</p>\n",
       "</div>"
      ],
      "text/plain": [
       "                    date                           customer_id  order_id  \\\n",
       "5544 2019-06-22 06:00:00  1d6c8c1f-a799-4418-9af2-1ded47d7a85c     14833   \n",
       "5317 2019-06-14 18:00:00  1d6c8c1f-a799-4418-9af2-1ded47d7a85c     14833   \n",
       "5058 2019-06-10 22:00:00  1d6c8c1f-a799-4418-9af2-1ded47d7a85c     14833   \n",
       "5455 2019-06-18 13:00:00  1d6c8c1f-a799-4418-9af2-1ded47d7a85c     14833   \n",
       "4933 2019-06-09 10:00:00  1d6c8c1f-a799-4418-9af2-1ded47d7a85c     14833   \n",
       "...                  ...                                   ...       ...   \n",
       "4717 2019-06-06 13:00:00  1d6c8c1f-a799-4418-9af2-1ded47d7a85c     14833   \n",
       "4718 2019-06-06 13:00:00  1d6c8c1f-a799-4418-9af2-1ded47d7a85c     14833   \n",
       "4719 2019-06-06 13:00:00  1d6c8c1f-a799-4418-9af2-1ded47d7a85c     14833   \n",
       "4720 2019-06-06 13:00:00  1d6c8c1f-a799-4418-9af2-1ded47d7a85c     14833   \n",
       "4980 2019-06-10 08:00:00  1d6c8c1f-a799-4418-9af2-1ded47d7a85c     14833   \n",
       "\n",
       "                                                                   product  \\\n",
       "5544  Тагетис крупноцветковый рассада однолетних цветов в кассете по 10 шт   \n",
       "5317  Тагетис крупноцветковый рассада однолетних цветов в кассете по 10 шт   \n",
       "5058  Тагетис крупноцветковый рассада однолетних цветов в кассете по 10 шт   \n",
       "5455  Тагетис крупноцветковый рассада однолетних цветов в кассете по 10 шт   \n",
       "4933  Тагетис крупноцветковый рассада однолетних цветов в кассете по 10 шт   \n",
       "...                                                                    ...   \n",
       "4717                         Рассада Кабачка сорт Аэронавт, кассета по 6шт   \n",
       "4718                          Рассада Кабачка сорт Белогор кассета 6 шт E6   \n",
       "4719                           Рассада Кабачка сорт Горный, кассета по 6шт   \n",
       "4720                            Рассада Кабачка сорт Зебра кассета 6 шт E6   \n",
       "4980                         Рассада Кабачка сорт Аэронавт, кассета по 6шт   \n",
       "\n",
       "      quantity  price  \n",
       "5544         1  210.0  \n",
       "5317         1  210.0  \n",
       "5058         1  210.0  \n",
       "5455         1  210.0  \n",
       "4933         1  210.0  \n",
       "...        ...    ...  \n",
       "4717         1  120.0  \n",
       "4718         1  120.0  \n",
       "4719         1  120.0  \n",
       "4720         1  120.0  \n",
       "4980         1  120.0  \n",
       "\n",
       "[888 rows x 6 columns]"
      ]
     },
     "execution_count": 10,
     "metadata": {},
     "output_type": "execute_result"
    }
   ],
   "source": [
    "data.query('order_id == 14833').sort_values(by = 'price', ascending = False)"
   ]
  },
  {
   "cell_type": "markdown",
   "id": "4257467b",
   "metadata": {},
   "source": [
    "Подозрително, что одни и теже транзакции осуществляются с разницей в несколько часов. Посмотрим на то, сколько строк дубликатов без учета даты."
   ]
  },
  {
   "cell_type": "code",
   "execution_count": 11,
   "id": "81337d14",
   "metadata": {},
   "outputs": [
    {
     "data": {
      "text/plain": [
       "864"
      ]
     },
     "execution_count": 11,
     "metadata": {},
     "output_type": "execute_result"
    }
   ],
   "source": [
    "data.query('order_id == 14833')[['customer_id','order_id','product','quantity','price']].duplicated().sum()"
   ]
  },
  {
   "cell_type": "markdown",
   "id": "9ae46f44",
   "metadata": {},
   "source": [
    "Возможно это ошибка системы выгрузки. Данные семплируются, иначе бы customer_id отличался. Эти дубликаты стоит удалить, так как они искажают результаты исследования."
   ]
  },
  {
   "cell_type": "code",
   "execution_count": 12,
   "id": "7159a643",
   "metadata": {},
   "outputs": [],
   "source": [
    "dupli = data[['customer_id','order_id','product','quantity','price']].duplicated().sum()"
   ]
  },
  {
   "cell_type": "code",
   "execution_count": 13,
   "id": "96e4f2e9",
   "metadata": {},
   "outputs": [
    {
     "name": "stdout",
     "output_type": "stream",
     "text": [
      "Неявных дублткатов в датасете 1864\n"
     ]
    }
   ],
   "source": [
    "print(f'Неявных дублткатов в датасете {dupli}')"
   ]
  },
  {
   "cell_type": "markdown",
   "id": "a0aa940f",
   "metadata": {},
   "source": [
    "Удалим дубликаты без учета даты."
   ]
  },
  {
   "cell_type": "code",
   "execution_count": 14,
   "id": "fead5588",
   "metadata": {},
   "outputs": [],
   "source": [
    "data = data[~data[['customer_id','order_id','product','quantity','price']].duplicated()]"
   ]
  },
  {
   "cell_type": "markdown",
   "id": "51e86b43",
   "metadata": {},
   "source": [
    "<h2> Изучить подготовленные данные </h2>"
   ]
  },
  {
   "cell_type": "code",
   "execution_count": 15,
   "id": "5077ffbe",
   "metadata": {},
   "outputs": [
    {
     "data": {
      "image/png": "[encoded data removed]",
      "text/plain": [
       "<Figure size 1080x360 with 1 Axes>"
      ]
     },
     "metadata": {
      "needs_background": "light"
     },
     "output_type": "display_data"
    }
   ],
   "source": [
    "data.date.hist(figsize=(15,5), bins =100);"
   ]
  },
  {
   "cell_type": "code",
   "execution_count": 16,
   "id": "70e81b5e",
   "metadata": {},
   "outputs": [
    {
     "name": "stdout",
     "output_type": "stream",
     "text": [
      "Первая дата покупки в датасете:2018-10-01 00:00:00 и последняя дата: 2019-10-31 14:00:00\n"
     ]
    }
   ],
   "source": [
    "print(f'Первая дата покупки в датасете:{data.date.min()} и последняя дата: {data.date.max()}')"
   ]
  },
  {
   "cell_type": "markdown",
   "id": "12a2ad69",
   "metadata": {},
   "source": [
    "Проверим выбросы в колоке \"price\""
   ]
  },
  {
   "cell_type": "code",
   "execution_count": 17,
   "id": "ac628ee6",
   "metadata": {},
   "outputs": [
    {
     "data": {
      "image/png": "[encoded data removed]",
      "text/plain": [
       "<Figure size 432x288 with 1 Axes>"
      ]
     },
     "metadata": {
      "needs_background": "light"
     },
     "output_type": "display_data"
    }
   ],
   "source": [
    "data.boxplot(column=['price']);"
   ]
  },
  {
   "cell_type": "markdown",
   "id": "cbcfadd8",
   "metadata": {},
   "source": [
    "Проверим выбросы в колоке \"quantity\""
   ]
  },
  {
   "cell_type": "code",
   "execution_count": 18,
   "id": "2e239a70",
   "metadata": {},
   "outputs": [
    {
     "data": {
      "image/png": "[encoded data removed]",
      "text/plain": [
       "<Figure size 432x288 with 1 Axes>"
      ]
     },
     "metadata": {
      "needs_background": "light"
     },
     "output_type": "display_data"
    }
   ],
   "source": [
    "data.boxplot(column=['quantity']);"
   ]
  },
  {
   "cell_type": "markdown",
   "id": "a193c71e",
   "metadata": {},
   "source": [
    "Посмотрим на сроки с аномальными значениями по ближе."
   ]
  },
  {
   "cell_type": "code",
   "execution_count": 19,
   "id": "3fc52e8a",
   "metadata": {},
   "outputs": [
    {
     "data": {
      "text/plain": [
       "4873"
      ]
     },
     "execution_count": 19,
     "metadata": {},
     "output_type": "execute_result"
    }
   ],
   "source": [
    "len(data)"
   ]
  },
  {
   "cell_type": "code",
   "execution_count": 20,
   "id": "013e0bd1",
   "metadata": {},
   "outputs": [],
   "source": [
    "data = data.query('quantity != 1000')"
   ]
  },
  {
   "cell_type": "code",
   "execution_count": 21,
   "id": "a8df5d42",
   "metadata": {},
   "outputs": [
    {
     "data": {
      "text/html": [
       "<div>\n",
       "<style scoped>\n",
       "    .dataframe tbody tr th:only-of-type {\n",
       "        vertical-align: middle;\n",
       "    }\n",
       "\n",
       "    .dataframe tbody tr th {\n",
       "        vertical-align: top;\n",
       "    }\n",
       "\n",
       "    .dataframe thead th {\n",
       "        text-align: right;\n",
       "    }\n",
       "</style>\n",
       "<table border=\"1\" class=\"dataframe\">\n",
       "  <thead>\n",
       "    <tr style=\"text-align: right;\">\n",
       "      <th></th>\n",
       "      <th>date</th>\n",
       "      <th>customer_id</th>\n",
       "      <th>order_id</th>\n",
       "      <th>product</th>\n",
       "      <th>quantity</th>\n",
       "      <th>price</th>\n",
       "    </tr>\n",
       "  </thead>\n",
       "  <tbody>\n",
       "  </tbody>\n",
       "</table>\n",
       "</div>"
      ],
      "text/plain": [
       "Empty DataFrame\n",
       "Columns: [date, customer_id, order_id, product, quantity, price]\n",
       "Index: []"
      ]
     },
     "execution_count": 21,
     "metadata": {},
     "output_type": "execute_result"
    }
   ],
   "source": [
    "data.query('quantity == 1000')"
   ]
  },
  {
   "cell_type": "code",
   "execution_count": 22,
   "id": "51ac1bbf",
   "metadata": {},
   "outputs": [
    {
     "data": {
      "text/html": [
       "<div>\n",
       "<style scoped>\n",
       "    .dataframe tbody tr th:only-of-type {\n",
       "        vertical-align: middle;\n",
       "    }\n",
       "\n",
       "    .dataframe tbody tr th {\n",
       "        vertical-align: top;\n",
       "    }\n",
       "\n",
       "    .dataframe thead th {\n",
       "        text-align: right;\n",
       "    }\n",
       "</style>\n",
       "<table border=\"1\" class=\"dataframe\">\n",
       "  <thead>\n",
       "    <tr style=\"text-align: right;\">\n",
       "      <th></th>\n",
       "      <th>date</th>\n",
       "      <th>customer_id</th>\n",
       "      <th>order_id</th>\n",
       "      <th>product</th>\n",
       "      <th>quantity</th>\n",
       "      <th>price</th>\n",
       "    </tr>\n",
       "  </thead>\n",
       "  <tbody>\n",
       "    <tr>\n",
       "      <th>5992</th>\n",
       "      <td>2019-07-29 17:00:00</td>\n",
       "      <td>0d87f4ae-465a-4fac-81e6-5d629761783e</td>\n",
       "      <td>72139</td>\n",
       "      <td>Сушилка уличная Leifheit 85210 LINOMATIC V 400 40 м 175х237х237 см зеленая</td>\n",
       "      <td>1</td>\n",
       "      <td>14917.0</td>\n",
       "    </tr>\n",
       "  </tbody>\n",
       "</table>\n",
       "</div>"
      ],
      "text/plain": [
       "                    date                           customer_id  order_id  \\\n",
       "5992 2019-07-29 17:00:00  0d87f4ae-465a-4fac-81e6-5d629761783e     72139   \n",
       "\n",
       "                                                                         product  \\\n",
       "5992  Сушилка уличная Leifheit 85210 LINOMATIC V 400 40 м 175х237х237 см зеленая   \n",
       "\n",
       "      quantity    price  \n",
       "5992         1  14917.0  "
      ]
     },
     "execution_count": 22,
     "metadata": {},
     "output_type": "execute_result"
    }
   ],
   "source": [
    "data.query('price > 14000')"
   ]
  },
  {
   "cell_type": "markdown",
   "id": "4d261dcf",
   "metadata": {},
   "source": [
    "Стоимость сушилки не является аномалией, а опт в заказае в размере 1000 единиц, способен исказить наше исследование, уберем это."
   ]
  },
  {
   "cell_type": "markdown",
   "id": "b879e97e",
   "metadata": {},
   "source": [
    "Посмотрим на квантили у количественных величин."
   ]
  },
  {
   "cell_type": "code",
   "execution_count": 23,
   "id": "920a6b3a",
   "metadata": {},
   "outputs": [
    {
     "data": {
      "text/html": [
       "<div>\n",
       "<style scoped>\n",
       "    .dataframe tbody tr th:only-of-type {\n",
       "        vertical-align: middle;\n",
       "    }\n",
       "\n",
       "    .dataframe tbody tr th {\n",
       "        vertical-align: top;\n",
       "    }\n",
       "\n",
       "    .dataframe thead th {\n",
       "        text-align: right;\n",
       "    }\n",
       "</style>\n",
       "<table border=\"1\" class=\"dataframe\">\n",
       "  <thead>\n",
       "    <tr style=\"text-align: right;\">\n",
       "      <th></th>\n",
       "      <th>order_id</th>\n",
       "      <th>quantity</th>\n",
       "      <th>price</th>\n",
       "    </tr>\n",
       "  </thead>\n",
       "  <tbody>\n",
       "    <tr>\n",
       "      <th>count</th>\n",
       "      <td>4872.000000</td>\n",
       "      <td>4872.000000</td>\n",
       "      <td>4872.000000</td>\n",
       "    </tr>\n",
       "    <tr>\n",
       "      <th>mean</th>\n",
       "      <td>48226.461617</td>\n",
       "      <td>2.632800</td>\n",
       "      <td>514.716954</td>\n",
       "    </tr>\n",
       "    <tr>\n",
       "      <th>std</th>\n",
       "      <td>27342.080544</td>\n",
       "      <td>10.290206</td>\n",
       "      <td>944.549630</td>\n",
       "    </tr>\n",
       "    <tr>\n",
       "      <th>min</th>\n",
       "      <td>12624.000000</td>\n",
       "      <td>1.000000</td>\n",
       "      <td>9.000000</td>\n",
       "    </tr>\n",
       "    <tr>\n",
       "      <th>25%</th>\n",
       "      <td>14775.500000</td>\n",
       "      <td>1.000000</td>\n",
       "      <td>90.000000</td>\n",
       "    </tr>\n",
       "    <tr>\n",
       "      <th>50%</th>\n",
       "      <td>68860.000000</td>\n",
       "      <td>1.000000</td>\n",
       "      <td>150.000000</td>\n",
       "    </tr>\n",
       "    <tr>\n",
       "      <th>75%</th>\n",
       "      <td>70832.250000</td>\n",
       "      <td>1.000000</td>\n",
       "      <td>488.000000</td>\n",
       "    </tr>\n",
       "    <tr>\n",
       "      <th>max</th>\n",
       "      <td>73164.000000</td>\n",
       "      <td>334.000000</td>\n",
       "      <td>14917.000000</td>\n",
       "    </tr>\n",
       "  </tbody>\n",
       "</table>\n",
       "</div>"
      ],
      "text/plain": [
       "           order_id     quantity         price\n",
       "count   4872.000000  4872.000000   4872.000000\n",
       "mean   48226.461617     2.632800    514.716954\n",
       "std    27342.080544    10.290206    944.549630\n",
       "min    12624.000000     1.000000      9.000000\n",
       "25%    14775.500000     1.000000     90.000000\n",
       "50%    68860.000000     1.000000    150.000000\n",
       "75%    70832.250000     1.000000    488.000000\n",
       "max    73164.000000   334.000000  14917.000000"
      ]
     },
     "execution_count": 23,
     "metadata": {},
     "output_type": "execute_result"
    }
   ],
   "source": [
    "data.describe()"
   ]
  },
  {
   "cell_type": "markdown",
   "id": "f5b57e5f",
   "metadata": {},
   "source": [
    "75% всех транзакций имеют кол-во в 1 единицу и  стоимость не более 398 у.е"
   ]
  },
  {
   "cell_type": "markdown",
   "id": "78d682dd",
   "metadata": {},
   "source": [
    "Посмотрим на уникальных пользователей и заказы."
   ]
  },
  {
   "cell_type": "code",
   "execution_count": 24,
   "id": "31183a2c",
   "metadata": {},
   "outputs": [
    {
     "name": "stdout",
     "output_type": "stream",
     "text": [
      "Кол-во уникальных пользователей: 2450\n"
     ]
    }
   ],
   "source": [
    "print(f'Кол-во уникальных пользователей: {len(data.customer_id.unique())}')"
   ]
  },
  {
   "cell_type": "code",
   "execution_count": 25,
   "id": "77300e0a",
   "metadata": {},
   "outputs": [
    {
     "name": "stdout",
     "output_type": "stream",
     "text": [
      "Кол-во уникальных транзакций: 2783\n"
     ]
    }
   ],
   "source": [
    "print(f'Кол-во уникальных транзакций: {len(data.order_id.unique())}')"
   ]
  },
  {
   "cell_type": "markdown",
   "id": "8343a137",
   "metadata": {},
   "source": [
    "Почти в двое меньше, чем общее кол-во записей в датасете."
   ]
  },
  {
   "cell_type": "code",
   "execution_count": 26,
   "id": "a18fe5fa",
   "metadata": {},
   "outputs": [
    {
     "data": {
      "text/html": [
       "<div>\n",
       "<style scoped>\n",
       "    .dataframe tbody tr th:only-of-type {\n",
       "        vertical-align: middle;\n",
       "    }\n",
       "\n",
       "    .dataframe tbody tr th {\n",
       "        vertical-align: top;\n",
       "    }\n",
       "\n",
       "    .dataframe thead th {\n",
       "        text-align: right;\n",
       "    }\n",
       "</style>\n",
       "<table border=\"1\" class=\"dataframe\">\n",
       "  <thead>\n",
       "    <tr style=\"text-align: right;\">\n",
       "      <th></th>\n",
       "      <th>date</th>\n",
       "      <th>customer_id</th>\n",
       "      <th>order_id</th>\n",
       "      <th>product</th>\n",
       "      <th>quantity</th>\n",
       "      <th>price</th>\n",
       "    </tr>\n",
       "  </thead>\n",
       "  <tbody>\n",
       "    <tr>\n",
       "      <th>0</th>\n",
       "      <td>2018-10-01</td>\n",
       "      <td>ee47d746-6d2f-4d3c-9622-c31412542920</td>\n",
       "      <td>68477</td>\n",
       "      <td>Комнатное растение в горшке Алое Вера, d12, h30</td>\n",
       "      <td>1</td>\n",
       "      <td>142.0</td>\n",
       "    </tr>\n",
       "    <tr>\n",
       "      <th>1</th>\n",
       "      <td>2018-10-01</td>\n",
       "      <td>ee47d746-6d2f-4d3c-9622-c31412542920</td>\n",
       "      <td>68477</td>\n",
       "      <td>Комнатное растение в горшке Кофе Арабика, d12, h25</td>\n",
       "      <td>1</td>\n",
       "      <td>194.0</td>\n",
       "    </tr>\n",
       "    <tr>\n",
       "      <th>2</th>\n",
       "      <td>2018-10-01</td>\n",
       "      <td>ee47d746-6d2f-4d3c-9622-c31412542920</td>\n",
       "      <td>68477</td>\n",
       "      <td>Радермахера d-12 см h-20 см</td>\n",
       "      <td>1</td>\n",
       "      <td>112.0</td>\n",
       "    </tr>\n",
       "    <tr>\n",
       "      <th>3</th>\n",
       "      <td>2018-10-01</td>\n",
       "      <td>ee47d746-6d2f-4d3c-9622-c31412542920</td>\n",
       "      <td>68477</td>\n",
       "      <td>Хризолидокарпус Лутесценс d-9 см</td>\n",
       "      <td>1</td>\n",
       "      <td>179.0</td>\n",
       "    </tr>\n",
       "    <tr>\n",
       "      <th>4</th>\n",
       "      <td>2018-10-01</td>\n",
       "      <td>ee47d746-6d2f-4d3c-9622-c31412542920</td>\n",
       "      <td>68477</td>\n",
       "      <td>Циперус Зумула d-12 см h-25 см</td>\n",
       "      <td>1</td>\n",
       "      <td>112.0</td>\n",
       "    </tr>\n",
       "  </tbody>\n",
       "</table>\n",
       "</div>"
      ],
      "text/plain": [
       "        date                           customer_id  order_id  \\\n",
       "0 2018-10-01  ee47d746-6d2f-4d3c-9622-c31412542920     68477   \n",
       "1 2018-10-01  ee47d746-6d2f-4d3c-9622-c31412542920     68477   \n",
       "2 2018-10-01  ee47d746-6d2f-4d3c-9622-c31412542920     68477   \n",
       "3 2018-10-01  ee47d746-6d2f-4d3c-9622-c31412542920     68477   \n",
       "4 2018-10-01  ee47d746-6d2f-4d3c-9622-c31412542920     68477   \n",
       "\n",
       "                                              product  quantity  price  \n",
       "0     Комнатное растение в горшке Алое Вера, d12, h30         1  142.0  \n",
       "1  Комнатное растение в горшке Кофе Арабика, d12, h25         1  194.0  \n",
       "2                         Радермахера d-12 см h-20 см         1  112.0  \n",
       "3                    Хризолидокарпус Лутесценс d-9 см         1  179.0  \n",
       "4                      Циперус Зумула d-12 см h-25 см         1  112.0  "
      ]
     },
     "execution_count": 26,
     "metadata": {},
     "output_type": "execute_result"
    }
   ],
   "source": [
    "data.head()"
   ]
  },
  {
   "cell_type": "markdown",
   "id": "529c87e9",
   "metadata": {},
   "source": [
    "Создадим отдельный столбец с порядковым номером месяца"
   ]
  },
  {
   "cell_type": "code",
   "execution_count": 27,
   "id": "db6ad1bc",
   "metadata": {},
   "outputs": [],
   "source": [
    "data['month'] = pd.DatetimeIndex(data['date']).month"
   ]
  },
  {
   "cell_type": "markdown",
   "id": "d9feb915",
   "metadata": {},
   "source": [
    "Cоздадим отдельный столбец, в котором будет выявлена общая выручка"
   ]
  },
  {
   "cell_type": "code",
   "execution_count": 28,
   "id": "22a140b1",
   "metadata": {},
   "outputs": [],
   "source": [
    "data['revenue'] = data['price']*data['quantity']"
   ]
  },
  {
   "cell_type": "markdown",
   "id": "f75e7bff",
   "metadata": {},
   "source": [
    "<h2> Кластеризация категорий продукта </h2>"
   ]
  },
  {
   "cell_type": "markdown",
   "id": "9b7e4581",
   "metadata": {},
   "source": [
    "Идея кластеризации категорий будет состоять из:\n",
    "- Создаем отдельную колонку, в котором функция возвращает первое слово наименования продукции;\n",
    "- По ключевому слову определяем топ частовстречаемых наименований;\n",
    "- Вручную создаем словари и кластеризуем категории;\n",
    "- Все, что не попадает под топ запросов, присваимваем категорию \"другое\";"
   ]
  },
  {
   "cell_type": "code",
   "execution_count": 29,
   "id": "ddbebe95",
   "metadata": {},
   "outputs": [],
   "source": [
    "# создаем функцию, которая принимает в качестве аргумента яцейку с продукцией и возвращает первое слово. \n",
    "def str_value(x):\n",
    "    return \" \".join(x.split()[:1])"
   ]
  },
  {
   "cell_type": "code",
   "execution_count": 30,
   "id": "7b879135",
   "metadata": {},
   "outputs": [],
   "source": [
    "# создаем колнку \"ключевое слово\", по которой уже потом будет кластеризовывать продукцию\n",
    "data['key_word'] = data['product'].apply(str_value).str.lower()"
   ]
  },
  {
   "cell_type": "code",
   "execution_count": 31,
   "id": "7b1ac27f",
   "metadata": {},
   "outputs": [],
   "source": [
    "group_key = data.groupby('key_word').agg({'order_id':'count'}).sort_values(by = 'order_id', ascending = False)"
   ]
  },
  {
   "cell_type": "code",
   "execution_count": 32,
   "id": "e79eb29a",
   "metadata": {},
   "outputs": [
    {
     "data": {
      "text/html": [
       "<div>\n",
       "<style scoped>\n",
       "    .dataframe tbody tr th:only-of-type {\n",
       "        vertical-align: middle;\n",
       "    }\n",
       "\n",
       "    .dataframe tbody tr th {\n",
       "        vertical-align: top;\n",
       "    }\n",
       "\n",
       "    .dataframe thead th {\n",
       "        text-align: right;\n",
       "    }\n",
       "</style>\n",
       "<table border=\"1\" class=\"dataframe\">\n",
       "  <thead>\n",
       "    <tr style=\"text-align: right;\">\n",
       "      <th></th>\n",
       "      <th>order_id</th>\n",
       "    </tr>\n",
       "    <tr>\n",
       "      <th>key_word</th>\n",
       "      <th></th>\n",
       "    </tr>\n",
       "  </thead>\n",
       "  <tbody>\n",
       "    <tr>\n",
       "      <th>пеларгония</th>\n",
       "      <td>708</td>\n",
       "    </tr>\n",
       "    <tr>\n",
       "      <th>рассада</th>\n",
       "      <td>478</td>\n",
       "    </tr>\n",
       "    <tr>\n",
       "      <th>сушилка</th>\n",
       "      <td>277</td>\n",
       "    </tr>\n",
       "    <tr>\n",
       "      <th>сумка-тележка</th>\n",
       "      <td>235</td>\n",
       "    </tr>\n",
       "    <tr>\n",
       "      <th>муляж</th>\n",
       "      <td>177</td>\n",
       "    </tr>\n",
       "  </tbody>\n",
       "</table>\n",
       "</div>"
      ],
      "text/plain": [
       "               order_id\n",
       "key_word               \n",
       "пеларгония          708\n",
       "рассада             478\n",
       "сушилка             277\n",
       "сумка-тележка       235\n",
       "муляж               177"
      ]
     },
     "execution_count": 32,
     "metadata": {},
     "output_type": "execute_result"
    }
   ],
   "source": [
    "group_key.head()"
   ]
  },
  {
   "cell_type": "markdown",
   "id": "567b37e7",
   "metadata": {},
   "source": [
    "Теперь придется затронуть ручной способ сортировки."
   ]
  },
  {
   "cell_type": "code",
   "execution_count": 33,
   "id": "48e71d85",
   "metadata": {},
   "outputs": [
    {
     "name": "stdout",
     "output_type": "stream",
     "text": [
      "Первые 40 товаров из списака составляют 74.0 % всего наименования\n"
     ]
    }
   ],
   "source": [
    "print(f'Первые {40} товаров из списака составляют {round(group_key.head(40).sum()/group_key.sum()*100)[0]} % всего наименования')"
   ]
  },
  {
   "cell_type": "code",
   "execution_count": 34,
   "id": "0a9ae181",
   "metadata": {},
   "outputs": [
    {
     "name": "stdout",
     "output_type": "stream",
     "text": [
      "Если увеличим кол-во первых товаров из списака до 60, то можем увижеть что они составляют 79.0 % всего наименования\n"
     ]
    }
   ],
   "source": [
    "print(f'Если увеличим кол-во первых товаров из списака до {60}, то можем увижеть что они составляют {round(group_key.head(60).sum()/group_key.sum()*100)[0]} % всего наименования')"
   ]
  },
  {
   "cell_type": "code",
   "execution_count": 35,
   "id": "d9d6b146",
   "metadata": {},
   "outputs": [
    {
     "name": "stdout",
     "output_type": "stream",
     "text": [
      "Если увеличим кол-во первых товаров из списака до 70, то можем увижеть что они составляют 81.0 % всего наименования\n"
     ]
    }
   ],
   "source": [
    "print(f'Если увеличим кол-во первых товаров из списака до {70}, то можем увижеть что они составляют {round(group_key.head(70).sum()/group_key.sum()*100)[0]} % всего наименования')"
   ]
  },
  {
   "cell_type": "markdown",
   "id": "cd1e9a68",
   "metadata": {},
   "source": [
    "Всего 1 % , а разница в 10 исследуемых строк. Аналитики ценят свое время и время компании, поэтому 60 первых слов нас вполне устроит. "
   ]
  },
  {
   "cell_type": "code",
   "execution_count": 36,
   "id": "05698ad2",
   "metadata": {},
   "outputs": [
    {
     "data": {
      "text/html": [
       "<div>\n",
       "<style scoped>\n",
       "    .dataframe tbody tr th:only-of-type {\n",
       "        vertical-align: middle;\n",
       "    }\n",
       "\n",
       "    .dataframe tbody tr th {\n",
       "        vertical-align: top;\n",
       "    }\n",
       "\n",
       "    .dataframe thead th {\n",
       "        text-align: right;\n",
       "    }\n",
       "</style>\n",
       "<table border=\"1\" class=\"dataframe\">\n",
       "  <thead>\n",
       "    <tr style=\"text-align: right;\">\n",
       "      <th></th>\n",
       "      <th>order_id</th>\n",
       "    </tr>\n",
       "    <tr>\n",
       "      <th>key_word</th>\n",
       "      <th></th>\n",
       "    </tr>\n",
       "  </thead>\n",
       "  <tbody>\n",
       "    <tr>\n",
       "      <th>пеларгония</th>\n",
       "      <td>708</td>\n",
       "    </tr>\n",
       "    <tr>\n",
       "      <th>рассада</th>\n",
       "      <td>478</td>\n",
       "    </tr>\n",
       "    <tr>\n",
       "      <th>сушилка</th>\n",
       "      <td>277</td>\n",
       "    </tr>\n",
       "    <tr>\n",
       "      <th>сумка-тележка</th>\n",
       "      <td>235</td>\n",
       "    </tr>\n",
       "    <tr>\n",
       "      <th>муляж</th>\n",
       "      <td>177</td>\n",
       "    </tr>\n",
       "    <tr>\n",
       "      <th>томата</th>\n",
       "      <td>142</td>\n",
       "    </tr>\n",
       "    <tr>\n",
       "      <th>петуния</th>\n",
       "      <td>141</td>\n",
       "    </tr>\n",
       "    <tr>\n",
       "      <th>гладильная</th>\n",
       "      <td>119</td>\n",
       "    </tr>\n",
       "    <tr>\n",
       "      <th>герань</th>\n",
       "      <td>110</td>\n",
       "    </tr>\n",
       "    <tr>\n",
       "      <th>коврик</th>\n",
       "      <td>106</td>\n",
       "    </tr>\n",
       "    <tr>\n",
       "      <th>тележка</th>\n",
       "      <td>98</td>\n",
       "    </tr>\n",
       "    <tr>\n",
       "      <th>чехол</th>\n",
       "      <td>91</td>\n",
       "    </tr>\n",
       "    <tr>\n",
       "      <th>штора</th>\n",
       "      <td>76</td>\n",
       "    </tr>\n",
       "    <tr>\n",
       "      <th>таз</th>\n",
       "      <td>68</td>\n",
       "    </tr>\n",
       "    <tr>\n",
       "      <th>однолетнее</th>\n",
       "      <td>67</td>\n",
       "    </tr>\n",
       "    <tr>\n",
       "      <th>роза</th>\n",
       "      <td>57</td>\n",
       "    </tr>\n",
       "    <tr>\n",
       "      <th>искусственный</th>\n",
       "      <td>53</td>\n",
       "    </tr>\n",
       "    <tr>\n",
       "      <th>калибрахоа</th>\n",
       "      <td>50</td>\n",
       "    </tr>\n",
       "    <tr>\n",
       "      <th>набор</th>\n",
       "      <td>40</td>\n",
       "    </tr>\n",
       "    <tr>\n",
       "      <th>тарелка</th>\n",
       "      <td>39</td>\n",
       "    </tr>\n",
       "    <tr>\n",
       "      <th>бакопа</th>\n",
       "      <td>37</td>\n",
       "    </tr>\n",
       "    <tr>\n",
       "      <th>вешалка</th>\n",
       "      <td>36</td>\n",
       "    </tr>\n",
       "    <tr>\n",
       "      <th>цветок</th>\n",
       "      <td>35</td>\n",
       "    </tr>\n",
       "    <tr>\n",
       "      <th>корзина</th>\n",
       "      <td>33</td>\n",
       "    </tr>\n",
       "    <tr>\n",
       "      <th>скатерть</th>\n",
       "      <td>31</td>\n",
       "    </tr>\n",
       "    <tr>\n",
       "      <th>стремянка</th>\n",
       "      <td>28</td>\n",
       "    </tr>\n",
       "    <tr>\n",
       "      <th>салатник</th>\n",
       "      <td>25</td>\n",
       "    </tr>\n",
       "    <tr>\n",
       "      <th>мята</th>\n",
       "      <td>22</td>\n",
       "    </tr>\n",
       "    <tr>\n",
       "      <th>полки</th>\n",
       "      <td>21</td>\n",
       "    </tr>\n",
       "    <tr>\n",
       "      <th>подвесное</th>\n",
       "      <td>21</td>\n",
       "    </tr>\n",
       "    <tr>\n",
       "      <th>фуксия</th>\n",
       "      <td>19</td>\n",
       "    </tr>\n",
       "    <tr>\n",
       "      <th>чайник</th>\n",
       "      <td>19</td>\n",
       "    </tr>\n",
       "    <tr>\n",
       "      <th>базилик</th>\n",
       "      <td>19</td>\n",
       "    </tr>\n",
       "    <tr>\n",
       "      <th>банка</th>\n",
       "      <td>17</td>\n",
       "    </tr>\n",
       "    <tr>\n",
       "      <th>флокс</th>\n",
       "      <td>16</td>\n",
       "    </tr>\n",
       "    <tr>\n",
       "      <th>декабрист</th>\n",
       "      <td>16</td>\n",
       "    </tr>\n",
       "    <tr>\n",
       "      <th>вербена</th>\n",
       "      <td>15</td>\n",
       "    </tr>\n",
       "    <tr>\n",
       "      <th>карниз</th>\n",
       "      <td>15</td>\n",
       "    </tr>\n",
       "    <tr>\n",
       "      <th>кружка</th>\n",
       "      <td>15</td>\n",
       "    </tr>\n",
       "    <tr>\n",
       "      <th>примула</th>\n",
       "      <td>15</td>\n",
       "    </tr>\n",
       "    <tr>\n",
       "      <th>ёрш</th>\n",
       "      <td>15</td>\n",
       "    </tr>\n",
       "    <tr>\n",
       "      <th>щетка</th>\n",
       "      <td>15</td>\n",
       "    </tr>\n",
       "    <tr>\n",
       "      <th>нож</th>\n",
       "      <td>14</td>\n",
       "    </tr>\n",
       "    <tr>\n",
       "      <th>контейнер</th>\n",
       "      <td>14</td>\n",
       "    </tr>\n",
       "    <tr>\n",
       "      <th>искусственная</th>\n",
       "      <td>14</td>\n",
       "    </tr>\n",
       "    <tr>\n",
       "      <th>дыня</th>\n",
       "      <td>14</td>\n",
       "    </tr>\n",
       "    <tr>\n",
       "      <th>лобелия</th>\n",
       "      <td>14</td>\n",
       "    </tr>\n",
       "    <tr>\n",
       "      <th>эвкалипт</th>\n",
       "      <td>14</td>\n",
       "    </tr>\n",
       "    <tr>\n",
       "      <th>фиалка</th>\n",
       "      <td>14</td>\n",
       "    </tr>\n",
       "    <tr>\n",
       "      <th>швабра</th>\n",
       "      <td>13</td>\n",
       "    </tr>\n",
       "    <tr>\n",
       "      <th>сумка</th>\n",
       "      <td>13</td>\n",
       "    </tr>\n",
       "    <tr>\n",
       "      <th>подкладка</th>\n",
       "      <td>13</td>\n",
       "    </tr>\n",
       "    <tr>\n",
       "      <th>бегония</th>\n",
       "      <td>13</td>\n",
       "    </tr>\n",
       "    <tr>\n",
       "      <th>цикламен</th>\n",
       "      <td>13</td>\n",
       "    </tr>\n",
       "    <tr>\n",
       "      <th>салфетка</th>\n",
       "      <td>12</td>\n",
       "    </tr>\n",
       "    <tr>\n",
       "      <th>новогоднее</th>\n",
       "      <td>12</td>\n",
       "    </tr>\n",
       "    <tr>\n",
       "      <th>капуста</th>\n",
       "      <td>12</td>\n",
       "    </tr>\n",
       "    <tr>\n",
       "      <th>комнатное</th>\n",
       "      <td>12</td>\n",
       "    </tr>\n",
       "    <tr>\n",
       "      <th>ведро</th>\n",
       "      <td>11</td>\n",
       "    </tr>\n",
       "    <tr>\n",
       "      <th>пуансеттия</th>\n",
       "      <td>11</td>\n",
       "    </tr>\n",
       "  </tbody>\n",
       "</table>\n",
       "</div>"
      ],
      "text/plain": [
       "               order_id\n",
       "key_word               \n",
       "пеларгония          708\n",
       "рассада             478\n",
       "сушилка             277\n",
       "сумка-тележка       235\n",
       "муляж               177\n",
       "томата              142\n",
       "петуния             141\n",
       "гладильная          119\n",
       "герань              110\n",
       "коврик              106\n",
       "тележка              98\n",
       "чехол                91\n",
       "штора                76\n",
       "таз                  68\n",
       "однолетнее           67\n",
       "роза                 57\n",
       "искусственный        53\n",
       "калибрахоа           50\n",
       "набор                40\n",
       "тарелка              39\n",
       "бакопа               37\n",
       "вешалка              36\n",
       "цветок               35\n",
       "корзина              33\n",
       "скатерть             31\n",
       "стремянка            28\n",
       "салатник             25\n",
       "мята                 22\n",
       "полки                21\n",
       "подвесное            21\n",
       "фуксия               19\n",
       "чайник               19\n",
       "базилик              19\n",
       "банка                17\n",
       "флокс                16\n",
       "декабрист            16\n",
       "вербена              15\n",
       "карниз               15\n",
       "кружка               15\n",
       "примула              15\n",
       "ёрш                  15\n",
       "щетка                15\n",
       "нож                  14\n",
       "контейнер            14\n",
       "искусственная        14\n",
       "дыня                 14\n",
       "лобелия              14\n",
       "эвкалипт             14\n",
       "фиалка               14\n",
       "швабра               13\n",
       "сумка                13\n",
       "подкладка            13\n",
       "бегония              13\n",
       "цикламен             13\n",
       "салфетка             12\n",
       "новогоднее           12\n",
       "капуста              12\n",
       "комнатное            12\n",
       "ведро                11\n",
       "пуансеттия           11"
      ]
     },
     "execution_count": 36,
     "metadata": {},
     "output_type": "execute_result"
    }
   ],
   "source": [
    "group_key.head(60)"
   ]
  },
  {
   "cell_type": "markdown",
   "id": "279a178b",
   "metadata": {},
   "source": [
    "Зададим основные категории:"
   ]
  },
  {
   "cell_type": "code",
   "execution_count": 37,
   "id": "01d6b4ad",
   "metadata": {},
   "outputs": [],
   "source": [
    "#Категория растения\n",
    "plants = ['рассада','пеларгония','петуния','томата','герань','калибрахоа','бакопа',\n",
    "               'тагетис','однолетнее','роза','вербена','базилик','дыня',\n",
    "              'лобелия','мята','эвкалипт','подвесное','фуксия','декабрист','флокс','примула','циперус','комнатное',\n",
    "         'арбуз','фиалка','цикламен','спатифиллум','гвоздика','эхинокактус','эпипремнум','тюльпан']\n",
    "\n",
    "#Категория искусственные растения и фрукты\n",
    "artificial_flower = ['цветок','искусственный','искусственная','муляж']\n",
    "\n",
    "#Категория для дома\n",
    "for_house = ['коврик','штора','вешалка','полки','термометр','карниз','новогоднее','декоративная','комод','вешалки','плечики',\n",
    "            'крючок','вешалка-плечики','простынь']\n",
    "\n",
    "#Категория для кухни\n",
    "for_kithen = ['тарелка','набор','скатерть','салатник','щетка','банка','кружка','чайник',\n",
    "              'контейнер','подкладка','нож','салфетка','вилка','ложка','кувшин', 'кстрюля','столовый','губка',\n",
    "             'венчик','мини-сковорода','картофелемялка','сито','миксер','универсальный','нетканые','половник','сервировочная']\n",
    "#Категория Хозяйственные товары и интсрументы\n",
    "for_farm_and_tools = ['сумка-тележка','тележка','стремянка','сумка','лестница-стремянка','сушилка','гладильная',\n",
    "           'чехол','таз','швабра','ёрш','корзина','ящик','мыло','лестница','щётка','ерш','вантуз','ручка-скоба',\n",
    "                     'крепеж', 'пружина','шпингалет','насадка','стяжка','ковш','петля','ведро','щетка-сметка','уголок',\n",
    "                      'завертка','веник','штангенциркуль']"
   ]
  },
  {
   "cell_type": "code",
   "execution_count": 38,
   "id": "0453ddb8",
   "metadata": {},
   "outputs": [
    {
     "data": {
      "text/html": [
       "<div>\n",
       "<style scoped>\n",
       "    .dataframe tbody tr th:only-of-type {\n",
       "        vertical-align: middle;\n",
       "    }\n",
       "\n",
       "    .dataframe tbody tr th {\n",
       "        vertical-align: top;\n",
       "    }\n",
       "\n",
       "    .dataframe thead th {\n",
       "        text-align: right;\n",
       "    }\n",
       "</style>\n",
       "<table border=\"1\" class=\"dataframe\">\n",
       "  <thead>\n",
       "    <tr style=\"text-align: right;\">\n",
       "      <th></th>\n",
       "      <th>date</th>\n",
       "      <th>customer_id</th>\n",
       "      <th>order_id</th>\n",
       "      <th>product</th>\n",
       "      <th>quantity</th>\n",
       "      <th>price</th>\n",
       "      <th>month</th>\n",
       "      <th>revenue</th>\n",
       "      <th>key_word</th>\n",
       "    </tr>\n",
       "  </thead>\n",
       "  <tbody>\n",
       "    <tr>\n",
       "      <th>2197</th>\n",
       "      <td>2019-03-05 16:00:00</td>\n",
       "      <td>36f7f71c-80ca-4e6c-afd0-399fcffcb59e</td>\n",
       "      <td>70615</td>\n",
       "      <td>Штангенциркуль 150 мм пластмассовый, точность 0,1 мм 3015515, 0910007</td>\n",
       "      <td>15</td>\n",
       "      <td>32.0</td>\n",
       "      <td>3</td>\n",
       "      <td>480.0</td>\n",
       "      <td>штангенциркуль</td>\n",
       "    </tr>\n",
       "  </tbody>\n",
       "</table>\n",
       "</div>"
      ],
      "text/plain": [
       "                    date                           customer_id  order_id  \\\n",
       "2197 2019-03-05 16:00:00  36f7f71c-80ca-4e6c-afd0-399fcffcb59e     70615   \n",
       "\n",
       "                                                                    product  \\\n",
       "2197  Штангенциркуль 150 мм пластмассовый, точность 0,1 мм 3015515, 0910007   \n",
       "\n",
       "      quantity  price  month  revenue        key_word  \n",
       "2197        15   32.0      3    480.0  штангенциркуль  "
      ]
     },
     "execution_count": 38,
     "metadata": {},
     "output_type": "execute_result"
    }
   ],
   "source": [
    "# ручной поиск, для уточнения продукции (полного названия)\n",
    "data.query('key_word == \"штангенциркуль\"')"
   ]
  },
  {
   "cell_type": "markdown",
   "id": "7653a057",
   "metadata": {},
   "source": [
    "После того, как словарь готов, мы создаем колонку с категориями в которых делаем распределение по ключевому слову."
   ]
  },
  {
   "cell_type": "code",
   "execution_count": 39,
   "id": "7c582aec",
   "metadata": {},
   "outputs": [],
   "source": [
    "data['category'] = 'другое'"
   ]
  },
  {
   "cell_type": "code",
   "execution_count": 40,
   "id": "7a388241",
   "metadata": {},
   "outputs": [],
   "source": [
    "data.loc[data.query('key_word in @plants').index, 'category'] = 'растения'\n",
    "data.loc[data.query('key_word in @artificial_flower').index, 'category'] = 'искусственные растения и фрукты'\n",
    "data.loc[data.query('key_word in @for_house').index, 'category'] = 'товары для дома'\n",
    "data.loc[data.query('key_word in @for_kithen').index, 'category'] = 'товары для кухни'\n",
    "data.loc[data.query('key_word in @for_farm_and_tools').index, 'category'] = 'товары для хозяйства и стройки'"
   ]
  },
  {
   "cell_type": "markdown",
   "id": "837bad37",
   "metadata": {},
   "source": [
    "Можно рассмотреть детальнее, какие товары из категории \"другое\" можно отсортировать еще. Выберем топ 30 слов по количеству породукции в заказе."
   ]
  },
  {
   "cell_type": "code",
   "execution_count": 41,
   "id": "63bbb49b",
   "metadata": {},
   "outputs": [
    {
     "data": {
      "text/plain": [
       "array(['щетка-утюжок', 'фиксатор-шар', 'емкость', 'подарочный', 'ткань',\n",
       "       'тимьян', 'наматрацник', 'вешалка-перекладина', 'кухонное',\n",
       "       'отбеливатель', 'сметка', 'блюдце', 'стакан', 'вакуумный',\n",
       "       'комплект', 'ранункулус', 'одеяло', 'дендробиум', 'кофр', 'циния',\n",
       "       'модульная', 'чайная', 'цинния', 'жестяная', 'львиный', 'складная',\n",
       "       'миска', 'хоста', 'бегония', 'эхеверия'], dtype=object)"
      ]
     },
     "execution_count": 41,
     "metadata": {},
     "output_type": "execute_result"
    }
   ],
   "source": [
    "data.query('category == \"другое\"').sort_values(by = 'quantity', ascending = False)['key_word'].unique()[:30]"
   ]
  },
  {
   "cell_type": "code",
   "execution_count": 42,
   "id": "386b3adb",
   "metadata": {},
   "outputs": [],
   "source": [
    "total_category = data.groupby('category').agg({'order_id':'count'}).sort_values(by ='order_id',ascending = False)"
   ]
  },
  {
   "cell_type": "code",
   "execution_count": 43,
   "id": "1c23678d",
   "metadata": {},
   "outputs": [],
   "source": [
    "total_category.columns = ['count']"
   ]
  },
  {
   "cell_type": "code",
   "execution_count": 44,
   "id": "92c3eea5",
   "metadata": {},
   "outputs": [],
   "source": [
    "total_category['ratio_%'] =  round(total_category['count'] / total_category['count'].sum(),4)*100"
   ]
  },
  {
   "cell_type": "code",
   "execution_count": 45,
   "id": "60b795ec",
   "metadata": {},
   "outputs": [
    {
     "data": {
      "text/html": [
       "<div>\n",
       "<style scoped>\n",
       "    .dataframe tbody tr th:only-of-type {\n",
       "        vertical-align: middle;\n",
       "    }\n",
       "\n",
       "    .dataframe tbody tr th {\n",
       "        vertical-align: top;\n",
       "    }\n",
       "\n",
       "    .dataframe thead th {\n",
       "        text-align: right;\n",
       "    }\n",
       "</style>\n",
       "<table border=\"1\" class=\"dataframe\">\n",
       "  <thead>\n",
       "    <tr style=\"text-align: right;\">\n",
       "      <th></th>\n",
       "      <th>count</th>\n",
       "      <th>ratio_%</th>\n",
       "    </tr>\n",
       "    <tr>\n",
       "      <th>category</th>\n",
       "      <th></th>\n",
       "      <th></th>\n",
       "    </tr>\n",
       "  </thead>\n",
       "  <tbody>\n",
       "    <tr>\n",
       "      <th>растения</th>\n",
       "      <td>2051</td>\n",
       "      <td>42.10</td>\n",
       "    </tr>\n",
       "    <tr>\n",
       "      <th>товары для хозяйства и стройки</th>\n",
       "      <td>1064</td>\n",
       "      <td>21.84</td>\n",
       "    </tr>\n",
       "    <tr>\n",
       "      <th>другое</th>\n",
       "      <td>875</td>\n",
       "      <td>17.96</td>\n",
       "    </tr>\n",
       "    <tr>\n",
       "      <th>товары для дома</th>\n",
       "      <td>309</td>\n",
       "      <td>6.34</td>\n",
       "    </tr>\n",
       "    <tr>\n",
       "      <th>товары для кухни</th>\n",
       "      <td>294</td>\n",
       "      <td>6.03</td>\n",
       "    </tr>\n",
       "    <tr>\n",
       "      <th>искусственные растения и фрукты</th>\n",
       "      <td>279</td>\n",
       "      <td>5.73</td>\n",
       "    </tr>\n",
       "  </tbody>\n",
       "</table>\n",
       "</div>"
      ],
      "text/plain": [
       "                                 count  ratio_%\n",
       "category                                       \n",
       "растения                          2051    42.10\n",
       "товары для хозяйства и стройки    1064    21.84\n",
       "другое                             875    17.96\n",
       "товары для дома                    309     6.34\n",
       "товары для кухни                   294     6.03\n",
       "искусственные растения и фрукты    279     5.73"
      ]
     },
     "execution_count": 45,
     "metadata": {},
     "output_type": "execute_result"
    }
   ],
   "source": [
    "total_category"
   ]
  },
  {
   "cell_type": "markdown",
   "id": "af9d3a88",
   "metadata": {},
   "source": [
    "Таким образом у нас получилось 6 категорий, на которые нам удалось кластеризировать продуктовый ассортимент."
   ]
  },
  {
   "cell_type": "markdown",
   "id": "b322fe0b",
   "metadata": {},
   "source": [
    "85% процентов продукции отсортированно по категориями"
   ]
  },
  {
   "cell_type": "markdown",
   "id": "d77a64d4",
   "metadata": {},
   "source": [
    "<b>Вывод:</b> Нам удалось сегментировать категории продукции, за счет чего, будет проще провести анализ среди категориальных и количестивенных данных"
   ]
  },
  {
   "cell_type": "markdown",
   "id": "e51e74ed",
   "metadata": {},
   "source": [
    "<h2> Анализ продуктового ассортимента </h2>"
   ]
  },
  {
   "cell_type": "markdown",
   "id": "39dfc889",
   "metadata": {},
   "source": [
    "Теперь приступим к изучению продуктового ассортимента, это поможет нам составить картину на спрос продуктовых категорий по времени года и доли общих продаж."
   ]
  },
  {
   "cell_type": "markdown",
   "id": "135ec816",
   "metadata": {},
   "source": [
    "1. Построим общий график проданных категорий за все время"
   ]
  },
  {
   "cell_type": "code",
   "execution_count": 46,
   "id": "229fcaad",
   "metadata": {},
   "outputs": [],
   "source": [
    "group_price = data.pivot_table(index = 'category', values = 'revenue', aggfunc = 'sum').sort_values(by = 'revenue', ascending = False).reset_index()"
   ]
  },
  {
   "cell_type": "code",
   "execution_count": 47,
   "id": "1eaf97c2",
   "metadata": {},
   "outputs": [],
   "source": [
    "group_price.columns = ['category','revenue']"
   ]
  },
  {
   "cell_type": "code",
   "execution_count": 48,
   "id": "cc3d6544",
   "metadata": {},
   "outputs": [
    {
     "data": {
      "text/html": [
       "<div>\n",
       "<style scoped>\n",
       "    .dataframe tbody tr th:only-of-type {\n",
       "        vertical-align: middle;\n",
       "    }\n",
       "\n",
       "    .dataframe tbody tr th {\n",
       "        vertical-align: top;\n",
       "    }\n",
       "\n",
       "    .dataframe thead th {\n",
       "        text-align: right;\n",
       "    }\n",
       "</style>\n",
       "<table border=\"1\" class=\"dataframe\">\n",
       "  <thead>\n",
       "    <tr style=\"text-align: right;\">\n",
       "      <th></th>\n",
       "      <th>category</th>\n",
       "      <th>revenue</th>\n",
       "    </tr>\n",
       "  </thead>\n",
       "  <tbody>\n",
       "    <tr>\n",
       "      <th>0</th>\n",
       "      <td>товары для хозяйства и стройки</td>\n",
       "      <td>1586392.0</td>\n",
       "    </tr>\n",
       "    <tr>\n",
       "      <th>1</th>\n",
       "      <td>другое</td>\n",
       "      <td>576104.0</td>\n",
       "    </tr>\n",
       "    <tr>\n",
       "      <th>2</th>\n",
       "      <td>товары для дома</td>\n",
       "      <td>481597.0</td>\n",
       "    </tr>\n",
       "    <tr>\n",
       "      <th>3</th>\n",
       "      <td>растения</td>\n",
       "      <td>393525.0</td>\n",
       "    </tr>\n",
       "    <tr>\n",
       "      <th>4</th>\n",
       "      <td>товары для кухни</td>\n",
       "      <td>315986.0</td>\n",
       "    </tr>\n",
       "    <tr>\n",
       "      <th>5</th>\n",
       "      <td>искусственные растения и фрукты</td>\n",
       "      <td>113550.0</td>\n",
       "    </tr>\n",
       "  </tbody>\n",
       "</table>\n",
       "</div>"
      ],
      "text/plain": [
       "                          category    revenue\n",
       "0   товары для хозяйства и стройки  1586392.0\n",
       "1                           другое   576104.0\n",
       "2                  товары для дома   481597.0\n",
       "3                         растения   393525.0\n",
       "4                 товары для кухни   315986.0\n",
       "5  искусственные растения и фрукты   113550.0"
      ]
     },
     "execution_count": 48,
     "metadata": {},
     "output_type": "execute_result"
    }
   ],
   "source": [
    "group_price"
   ]
  },
  {
   "cell_type": "code",
   "execution_count": 49,
   "id": "1eb36481",
   "metadata": {},
   "outputs": [
    {
     "data": {
      "image/png": "[encoded data removed]",
      "text/plain": [
       "<Figure size 1080x576 with 1 Axes>"
      ]
     },
     "metadata": {},
     "output_type": "display_data"
    }
   ],
   "source": [
    "with plt.style.context('ggplot'):\n",
    "    plt.figure(figsize=(15,8))\n",
    "    sns.barplot(data = group_price, x='category', y='revenue')\n",
    "    plt.title('Сумма продаж категорий за все время', fontsize=20)\n",
    "    plt.xlabel('Категория', fontsize = 15)\n",
    "    plt.ylabel('Сумма продаж', fontsize = 15)"
   ]
  },
  {
   "cell_type": "markdown",
   "id": "7b9d5c5a",
   "metadata": {},
   "source": [
    "<b>Вывод:</b> Больше всего выруски принесла категория \"товары для хозяйства и стройки\", далее \"другое\", затем \"товары для дома\". Меньше всего принесла категория \"искуственные растения и фрукты\"."
   ]
  },
  {
   "cell_type": "markdown",
   "id": "e1f3d3f2",
   "metadata": {},
   "source": [
    "2. Построим график суммы продаж этих категорий по времени."
   ]
  },
  {
   "cell_type": "code",
   "execution_count": 50,
   "id": "b481823c",
   "metadata": {},
   "outputs": [],
   "source": [
    "group_price_time = data.pivot_table(index = 'month', columns = 'category', values = 'revenue', aggfunc = 'sum').reset_index()"
   ]
  },
  {
   "cell_type": "code",
   "execution_count": 51,
   "id": "a6951879",
   "metadata": {},
   "outputs": [],
   "source": [
    "group_price_time.columns = ['month', 'other', 'artificial_flower', 'plants',\n",
    "       'for_house', 'for_kithen', 'for_farm_and_tools']"
   ]
  },
  {
   "cell_type": "code",
   "execution_count": 52,
   "id": "107b6ca4",
   "metadata": {},
   "outputs": [
    {
     "data": {
      "image/png": "[encoded data removed]",
      "text/plain": [
       "<Figure size 1080x576 with 1 Axes>"
      ]
     },
     "metadata": {},
     "output_type": "display_data"
    }
   ],
   "source": [
    "plt.style.use('ggplot')\n",
    "plt.figure(figsize=(15,8))\n",
    "plt.stackplot (group_price_time.month , group_price_time.other , group_price_time.artificial_flower , group_price_time.plants, \n",
    "              group_price_time.for_house, group_price_time.for_kithen, group_price_time.for_farm_and_tools,\n",
    "              labels=['other', 'artificial_flower', 'plants',\n",
    "       'for_house', 'for_kithen', 'for_farm_and_tools'])\n",
    "#add legend\n",
    "\n",
    "plt.legend(loc='upper left')\n",
    "#add axis labels\n",
    "plt.title('Сумма продаж категорий по месяцам', fontsize=20)\n",
    "plt.xlabel('Месяц', fontsize=20)\n",
    "plt.ylabel('Сумма продаж', fontsize = 15)\n",
    "\n",
    "#display area chart\n",
    "plt.show()\n",
    "\n"
   ]
  },
  {
   "cell_type": "markdown",
   "id": "5bc72749",
   "metadata": {},
   "source": [
    "<b>Вывод:</b> Наиболее высокие месяца для продаж это:\n",
    " - Октябрь;\n",
    " - Декабрь;\n",
    " - Апрель;\n",
    " \n",
    " Больше всего продаж пришлось на категорию   \"товары для хозяйства и стройки\"  в декабре и октябре.\n",
    " \n",
    " Также с апреля по июнь наблюдается спрос на категорию \"растения\"\n",
    " "
   ]
  },
  {
   "cell_type": "markdown",
   "id": "8529e181",
   "metadata": {},
   "source": [
    "3. Построим диаграмму долей по продажам категорий."
   ]
  },
  {
   "cell_type": "code",
   "execution_count": 53,
   "id": "d5332d94",
   "metadata": {},
   "outputs": [
    {
     "data": {
      "image/png": "[encoded data removed]",
      "text/plain": [
       "<Figure size 1080x576 with 1 Axes>"
      ]
     },
     "metadata": {},
     "output_type": "display_data"
    }
   ],
   "source": [
    "plt.style.use('ggplot')\n",
    "data_x = group_price['revenue']\n",
    "labels = group_price['category']\n",
    "plt.rcParams.update({'font.size': 12})\n",
    "plt.figure(figsize=(15,8))\n",
    "plt.pie(data_x, labels = labels,autopct='%.0f%%',   startangle=10, wedgeprops = {\"edgecolor\" : \"black\",\n",
    "                      'linewidth': 0.1,\n",
    "                      'antialiased': True})\n",
    "plt.legend(labels, loc=\"best\")\n",
    "plt.axis('equal')\n",
    "plt.title('Соотношение выручки от продажи категорий', fontsize=20,pad=50);"
   ]
  },
  {
   "cell_type": "markdown",
   "id": "8daa864f",
   "metadata": {},
   "source": [
    "<b>Вывод:</b> Самая высокопродаваемая категория это \"товары для хозяйства и стройки\", меньшая доля продаж приходит на \"искуственные растения и фрукты\""
   ]
  },
  {
   "cell_type": "markdown",
   "id": "45346ba0",
   "metadata": {},
   "source": [
    "4. Построим график с долей по продаж категорий по месяцам."
   ]
  },
  {
   "cell_type": "code",
   "execution_count": 54,
   "id": "c41eae6c",
   "metadata": {},
   "outputs": [
    {
     "data": {
      "text/html": [
       "<div>\n",
       "<style scoped>\n",
       "    .dataframe tbody tr th:only-of-type {\n",
       "        vertical-align: middle;\n",
       "    }\n",
       "\n",
       "    .dataframe tbody tr th {\n",
       "        vertical-align: top;\n",
       "    }\n",
       "\n",
       "    .dataframe thead th {\n",
       "        text-align: right;\n",
       "    }\n",
       "</style>\n",
       "<table border=\"1\" class=\"dataframe\">\n",
       "  <thead>\n",
       "    <tr style=\"text-align: right;\">\n",
       "      <th></th>\n",
       "      <th>month</th>\n",
       "      <th>other</th>\n",
       "      <th>artificial_flower</th>\n",
       "      <th>plants</th>\n",
       "      <th>for_house</th>\n",
       "      <th>for_kithen</th>\n",
       "      <th>for_farm_and_tools</th>\n",
       "    </tr>\n",
       "  </thead>\n",
       "  <tbody>\n",
       "    <tr>\n",
       "      <th>0</th>\n",
       "      <td>1</td>\n",
       "      <td>40200.0</td>\n",
       "      <td>2304.0</td>\n",
       "      <td>21361.0</td>\n",
       "      <td>84052.0</td>\n",
       "      <td>20437.0</td>\n",
       "      <td>67317.0</td>\n",
       "    </tr>\n",
       "    <tr>\n",
       "      <th>1</th>\n",
       "      <td>2</td>\n",
       "      <td>62335.0</td>\n",
       "      <td>12478.0</td>\n",
       "      <td>23411.0</td>\n",
       "      <td>37754.0</td>\n",
       "      <td>22584.0</td>\n",
       "      <td>149493.0</td>\n",
       "    </tr>\n",
       "    <tr>\n",
       "      <th>2</th>\n",
       "      <td>3</td>\n",
       "      <td>41689.0</td>\n",
       "      <td>10125.0</td>\n",
       "      <td>39073.0</td>\n",
       "      <td>29428.0</td>\n",
       "      <td>17058.0</td>\n",
       "      <td>118975.0</td>\n",
       "    </tr>\n",
       "    <tr>\n",
       "      <th>3</th>\n",
       "      <td>4</td>\n",
       "      <td>82641.0</td>\n",
       "      <td>4957.0</td>\n",
       "      <td>76485.0</td>\n",
       "      <td>19895.0</td>\n",
       "      <td>20825.0</td>\n",
       "      <td>113368.0</td>\n",
       "    </tr>\n",
       "    <tr>\n",
       "      <th>4</th>\n",
       "      <td>5</td>\n",
       "      <td>28806.0</td>\n",
       "      <td>16906.0</td>\n",
       "      <td>95658.0</td>\n",
       "      <td>13203.0</td>\n",
       "      <td>8441.0</td>\n",
       "      <td>79361.0</td>\n",
       "    </tr>\n",
       "  </tbody>\n",
       "</table>\n",
       "</div>"
      ],
      "text/plain": [
       "   month    other  artificial_flower   plants  for_house  for_kithen  \\\n",
       "0      1  40200.0             2304.0  21361.0    84052.0     20437.0   \n",
       "1      2  62335.0            12478.0  23411.0    37754.0     22584.0   \n",
       "2      3  41689.0            10125.0  39073.0    29428.0     17058.0   \n",
       "3      4  82641.0             4957.0  76485.0    19895.0     20825.0   \n",
       "4      5  28806.0            16906.0  95658.0    13203.0      8441.0   \n",
       "\n",
       "   for_farm_and_tools  \n",
       "0             67317.0  \n",
       "1            149493.0  \n",
       "2            118975.0  \n",
       "3            113368.0  \n",
       "4             79361.0  "
      ]
     },
     "execution_count": 54,
     "metadata": {},
     "output_type": "execute_result"
    }
   ],
   "source": [
    "group_price_time.head()"
   ]
  },
  {
   "cell_type": "markdown",
   "id": "428d5e0e",
   "metadata": {},
   "source": [
    "Изменим значения в ячейках на процентное соотношение от всего месяца на категорию"
   ]
  },
  {
   "cell_type": "code",
   "execution_count": 55,
   "id": "4d920eec",
   "metadata": {},
   "outputs": [],
   "source": [
    "data_perc = group_price_time.divide(group_price_time.sum(axis=1), axis=0)*100"
   ]
  },
  {
   "cell_type": "code",
   "execution_count": 56,
   "id": "0dc84a85",
   "metadata": {},
   "outputs": [],
   "source": [
    "data_perc['month'] = [i for i in range(1,13)]"
   ]
  },
  {
   "cell_type": "code",
   "execution_count": 57,
   "id": "b8c98687",
   "metadata": {},
   "outputs": [
    {
     "data": {
      "text/html": [
       "<div>\n",
       "<style scoped>\n",
       "    .dataframe tbody tr th:only-of-type {\n",
       "        vertical-align: middle;\n",
       "    }\n",
       "\n",
       "    .dataframe tbody tr th {\n",
       "        vertical-align: top;\n",
       "    }\n",
       "\n",
       "    .dataframe thead th {\n",
       "        text-align: right;\n",
       "    }\n",
       "</style>\n",
       "<table border=\"1\" class=\"dataframe\">\n",
       "  <thead>\n",
       "    <tr style=\"text-align: right;\">\n",
       "      <th></th>\n",
       "      <th>month</th>\n",
       "      <th>other</th>\n",
       "      <th>artificial_flower</th>\n",
       "      <th>plants</th>\n",
       "      <th>for_house</th>\n",
       "      <th>for_kithen</th>\n",
       "      <th>for_farm_and_tools</th>\n",
       "    </tr>\n",
       "  </thead>\n",
       "  <tbody>\n",
       "    <tr>\n",
       "      <th>0</th>\n",
       "      <td>1</td>\n",
       "      <td>17.057605</td>\n",
       "      <td>0.977630</td>\n",
       "      <td>9.063868</td>\n",
       "      <td>35.664822</td>\n",
       "      <td>8.671798</td>\n",
       "      <td>28.563851</td>\n",
       "    </tr>\n",
       "    <tr>\n",
       "      <th>1</th>\n",
       "      <td>2</td>\n",
       "      <td>20.234892</td>\n",
       "      <td>4.050549</td>\n",
       "      <td>7.599568</td>\n",
       "      <td>12.255524</td>\n",
       "      <td>7.331111</td>\n",
       "      <td>48.527708</td>\n",
       "    </tr>\n",
       "    <tr>\n",
       "      <th>2</th>\n",
       "      <td>3</td>\n",
       "      <td>16.262468</td>\n",
       "      <td>3.949663</td>\n",
       "      <td>15.241992</td>\n",
       "      <td>11.479573</td>\n",
       "      <td>6.654158</td>\n",
       "      <td>46.410976</td>\n",
       "    </tr>\n",
       "    <tr>\n",
       "      <th>3</th>\n",
       "      <td>4</td>\n",
       "      <td>25.973442</td>\n",
       "      <td>1.557948</td>\n",
       "      <td>24.038658</td>\n",
       "      <td>6.252848</td>\n",
       "      <td>6.545140</td>\n",
       "      <td>35.630706</td>\n",
       "    </tr>\n",
       "    <tr>\n",
       "      <th>4</th>\n",
       "      <td>5</td>\n",
       "      <td>11.884644</td>\n",
       "      <td>6.974998</td>\n",
       "      <td>39.466128</td>\n",
       "      <td>5.447232</td>\n",
       "      <td>3.482548</td>\n",
       "      <td>32.742388</td>\n",
       "    </tr>\n",
       "    <tr>\n",
       "      <th>5</th>\n",
       "      <td>6</td>\n",
       "      <td>10.425639</td>\n",
       "      <td>1.363739</td>\n",
       "      <td>14.435134</td>\n",
       "      <td>29.275844</td>\n",
       "      <td>9.526280</td>\n",
       "      <td>34.970771</td>\n",
       "    </tr>\n",
       "    <tr>\n",
       "      <th>6</th>\n",
       "      <td>7</td>\n",
       "      <td>11.231135</td>\n",
       "      <td>2.011325</td>\n",
       "      <td>12.950637</td>\n",
       "      <td>12.504619</td>\n",
       "      <td>3.639074</td>\n",
       "      <td>57.660237</td>\n",
       "    </tr>\n",
       "    <tr>\n",
       "      <th>7</th>\n",
       "      <td>8</td>\n",
       "      <td>20.074108</td>\n",
       "      <td>0.763115</td>\n",
       "      <td>6.382683</td>\n",
       "      <td>13.304069</td>\n",
       "      <td>4.777589</td>\n",
       "      <td>54.693797</td>\n",
       "    </tr>\n",
       "    <tr>\n",
       "      <th>8</th>\n",
       "      <td>9</td>\n",
       "      <td>16.804259</td>\n",
       "      <td>0.583132</td>\n",
       "      <td>5.889304</td>\n",
       "      <td>13.306570</td>\n",
       "      <td>17.041156</td>\n",
       "      <td>46.370609</td>\n",
       "    </tr>\n",
       "    <tr>\n",
       "      <th>9</th>\n",
       "      <td>10</td>\n",
       "      <td>17.793935</td>\n",
       "      <td>4.875366</td>\n",
       "      <td>5.528058</td>\n",
       "      <td>11.407026</td>\n",
       "      <td>7.929509</td>\n",
       "      <td>52.464352</td>\n",
       "    </tr>\n",
       "    <tr>\n",
       "      <th>10</th>\n",
       "      <td>11</td>\n",
       "      <td>14.926299</td>\n",
       "      <td>6.832722</td>\n",
       "      <td>4.193856</td>\n",
       "      <td>11.945993</td>\n",
       "      <td>20.232692</td>\n",
       "      <td>41.865377</td>\n",
       "    </tr>\n",
       "    <tr>\n",
       "      <th>11</th>\n",
       "      <td>12</td>\n",
       "      <td>13.940950</td>\n",
       "      <td>1.170125</td>\n",
       "      <td>1.516289</td>\n",
       "      <td>12.641154</td>\n",
       "      <td>10.934139</td>\n",
       "      <td>59.793982</td>\n",
       "    </tr>\n",
       "  </tbody>\n",
       "</table>\n",
       "</div>"
      ],
      "text/plain": [
       "    month      other  artificial_flower     plants  for_house  for_kithen  \\\n",
       "0       1  17.057605           0.977630   9.063868  35.664822    8.671798   \n",
       "1       2  20.234892           4.050549   7.599568  12.255524    7.331111   \n",
       "2       3  16.262468           3.949663  15.241992  11.479573    6.654158   \n",
       "3       4  25.973442           1.557948  24.038658   6.252848    6.545140   \n",
       "4       5  11.884644           6.974998  39.466128   5.447232    3.482548   \n",
       "5       6  10.425639           1.363739  14.435134  29.275844    9.526280   \n",
       "6       7  11.231135           2.011325  12.950637  12.504619    3.639074   \n",
       "7       8  20.074108           0.763115   6.382683  13.304069    4.777589   \n",
       "8       9  16.804259           0.583132   5.889304  13.306570   17.041156   \n",
       "9      10  17.793935           4.875366   5.528058  11.407026    7.929509   \n",
       "10     11  14.926299           6.832722   4.193856  11.945993   20.232692   \n",
       "11     12  13.940950           1.170125   1.516289  12.641154   10.934139   \n",
       "\n",
       "    for_farm_and_tools  \n",
       "0            28.563851  \n",
       "1            48.527708  \n",
       "2            46.410976  \n",
       "3            35.630706  \n",
       "4            32.742388  \n",
       "5            34.970771  \n",
       "6            57.660237  \n",
       "7            54.693797  \n",
       "8            46.370609  \n",
       "9            52.464352  \n",
       "10           41.865377  \n",
       "11           59.793982  "
      ]
     },
     "execution_count": 57,
     "metadata": {},
     "output_type": "execute_result"
    }
   ],
   "source": [
    "data_perc"
   ]
  },
  {
   "cell_type": "code",
   "execution_count": 58,
   "id": "23d1a7f7",
   "metadata": {},
   "outputs": [
    {
     "data": {
      "image/png": "[encoded data removed]",
      "text/plain": [
       "<Figure size 1080x576 with 1 Axes>"
      ]
     },
     "metadata": {},
     "output_type": "display_data"
    }
   ],
   "source": [
    "plt.figure(figsize=(15,8))\n",
    "plt.stackplot(data_perc['month'],  data_perc[\"other\"],  data_perc[\"artificial_flower\"],  data_perc[\"plants\"],\n",
    "              data_perc[\"for_house\"],data_perc[\"for_kithen\"],data_perc[\"for_farm_and_tools\"],\n",
    "              labels=['other', 'artificial_flower', 'plants',\n",
    "       'for_house', 'for_kithen', 'for_farm_and_tools'])\n",
    "plt.legend(loc='upper left')\n",
    "plt.margins(0,0)\n",
    "plt.title('Доля продаж категорий по месяцам', fontsize=20)\n",
    "plt.xlabel('Месяц', fontsize=20)\n",
    "plt.ylabel('Доля продаж %', fontsize = 15)\n",
    "plt.show()"
   ]
  },
  {
   "cell_type": "markdown",
   "id": "2a686a85",
   "metadata": {},
   "source": [
    "<b>Вывод:</b>\n",
    "В период с апреля по июнь значимаю долю продаж занимает категория \"растения\". \"Товары для кухни\" растут в продажах с сентября.\n",
    "\"Товары для хозяйства и стройки\" занимают большую долю продаж с июня."
   ]
  },
  {
   "cell_type": "markdown",
   "id": "e318bfe7",
   "metadata": {},
   "source": [
    "5. Построим график значения среднего чека  категорий по месяцам."
   ]
  },
  {
   "cell_type": "code",
   "execution_count": 59,
   "id": "b3839c39",
   "metadata": {},
   "outputs": [],
   "source": [
    "group_aov_time = data.pivot_table(index = 'month', columns = 'category', values = 'revenue', aggfunc = 'mean').reset_index()"
   ]
  },
  {
   "cell_type": "code",
   "execution_count": 60,
   "id": "35f23727",
   "metadata": {},
   "outputs": [],
   "source": [
    "group_aov_time.columns = ['month', 'other', 'artificial_flower', 'plants',\n",
    "       'for_house', 'for_kithen', 'for_farm_and_tools']"
   ]
  },
  {
   "cell_type": "code",
   "execution_count": 61,
   "id": "061f11f6",
   "metadata": {},
   "outputs": [
    {
     "data": {
      "text/html": [
       "<div>\n",
       "<style scoped>\n",
       "    .dataframe tbody tr th:only-of-type {\n",
       "        vertical-align: middle;\n",
       "    }\n",
       "\n",
       "    .dataframe tbody tr th {\n",
       "        vertical-align: top;\n",
       "    }\n",
       "\n",
       "    .dataframe thead th {\n",
       "        text-align: right;\n",
       "    }\n",
       "</style>\n",
       "<table border=\"1\" class=\"dataframe\">\n",
       "  <thead>\n",
       "    <tr style=\"text-align: right;\">\n",
       "      <th></th>\n",
       "      <th>month</th>\n",
       "      <th>other</th>\n",
       "      <th>artificial_flower</th>\n",
       "      <th>plants</th>\n",
       "      <th>for_house</th>\n",
       "      <th>for_kithen</th>\n",
       "      <th>for_farm_and_tools</th>\n",
       "    </tr>\n",
       "  </thead>\n",
       "  <tbody>\n",
       "    <tr>\n",
       "      <th>0</th>\n",
       "      <td>1</td>\n",
       "      <td>1005.000000</td>\n",
       "      <td>209.454545</td>\n",
       "      <td>647.303030</td>\n",
       "      <td>3362.080000</td>\n",
       "      <td>851.541667</td>\n",
       "      <td>1270.132075</td>\n",
       "    </tr>\n",
       "    <tr>\n",
       "      <th>1</th>\n",
       "      <td>2</td>\n",
       "      <td>1074.741379</td>\n",
       "      <td>445.642857</td>\n",
       "      <td>182.898438</td>\n",
       "      <td>1348.357143</td>\n",
       "      <td>1075.428571</td>\n",
       "      <td>1494.930000</td>\n",
       "    </tr>\n",
       "    <tr>\n",
       "      <th>2</th>\n",
       "      <td>3</td>\n",
       "      <td>521.112500</td>\n",
       "      <td>440.217391</td>\n",
       "      <td>194.393035</td>\n",
       "      <td>1548.842105</td>\n",
       "      <td>741.652174</td>\n",
       "      <td>1652.430556</td>\n",
       "    </tr>\n",
       "    <tr>\n",
       "      <th>3</th>\n",
       "      <td>4</td>\n",
       "      <td>995.674699</td>\n",
       "      <td>150.212121</td>\n",
       "      <td>168.098901</td>\n",
       "      <td>865.000000</td>\n",
       "      <td>1601.923077</td>\n",
       "      <td>1619.542857</td>\n",
       "    </tr>\n",
       "    <tr>\n",
       "      <th>4</th>\n",
       "      <td>5</td>\n",
       "      <td>342.928571</td>\n",
       "      <td>2415.142857</td>\n",
       "      <td>165.498270</td>\n",
       "      <td>1200.272727</td>\n",
       "      <td>937.888889</td>\n",
       "      <td>1653.354167</td>\n",
       "    </tr>\n",
       "  </tbody>\n",
       "</table>\n",
       "</div>"
      ],
      "text/plain": [
       "   month        other  artificial_flower      plants    for_house  \\\n",
       "0      1  1005.000000         209.454545  647.303030  3362.080000   \n",
       "1      2  1074.741379         445.642857  182.898438  1348.357143   \n",
       "2      3   521.112500         440.217391  194.393035  1548.842105   \n",
       "3      4   995.674699         150.212121  168.098901   865.000000   \n",
       "4      5   342.928571        2415.142857  165.498270  1200.272727   \n",
       "\n",
       "    for_kithen  for_farm_and_tools  \n",
       "0   851.541667         1270.132075  \n",
       "1  1075.428571         1494.930000  \n",
       "2   741.652174         1652.430556  \n",
       "3  1601.923077         1619.542857  \n",
       "4   937.888889         1653.354167  "
      ]
     },
     "execution_count": 61,
     "metadata": {},
     "output_type": "execute_result"
    }
   ],
   "source": [
    "group_aov_time.head()"
   ]
  },
  {
   "cell_type": "code",
   "execution_count": 62,
   "id": "45b8ebe6",
   "metadata": {},
   "outputs": [
    {
     "data": {
      "image/png": "[encoded data removed]",
      "text/plain": [
       "<Figure size 1080x504 with 1 Axes>"
      ]
     },
     "metadata": {},
     "output_type": "display_data"
    }
   ],
   "source": [
    "with plt.style.context('ggplot'):\n",
    "    group_aov_time.plot(x ='month',grid=True, figsize=(15, 7));\n",
    "    plt.title('Динамика среднего чека категорий по месяцам', fontsize=20)\n",
    "    plt.xlabel('Месяц' , fontsize = 15)\n",
    "    plt.ylabel('Средний чек', fontsize = 15)"
   ]
  },
  {
   "cell_type": "markdown",
   "id": "946fda94",
   "metadata": {},
   "source": [
    "<b>Вывод:</b>\n",
    "На протяжении всего года, средний чек остается неизменным у категорий \"Растения\". В мае растет средний чек на категорию\"искуственные фрукты и растения\", это может быть связано с наступлением погоды, в которую люди начинают ходить на кладбища. \n",
    "Выше всего средний чек у категории \"товары для дома\" и \"товары для кухни\" в июне."
   ]
  },
  {
   "cell_type": "markdown",
   "id": "ecd5b996",
   "metadata": {},
   "source": [
    "6. Проверим зависимость самой поппулярной категории и кол-ва покупок/сумме чека"
   ]
  },
  {
   "cell_type": "code",
   "execution_count": 63,
   "id": "c5371724",
   "metadata": {},
   "outputs": [],
   "source": [
    "data_for_farm = data.query('category == \"товары для хозяйства и стройки\" and quantity < 1000 ')"
   ]
  },
  {
   "cell_type": "code",
   "execution_count": 64,
   "id": "2a57780c",
   "metadata": {},
   "outputs": [
    {
     "data": {
      "text/html": [
       "<div>\n",
       "<style scoped>\n",
       "    .dataframe tbody tr th:only-of-type {\n",
       "        vertical-align: middle;\n",
       "    }\n",
       "\n",
       "    .dataframe tbody tr th {\n",
       "        vertical-align: top;\n",
       "    }\n",
       "\n",
       "    .dataframe thead th {\n",
       "        text-align: right;\n",
       "    }\n",
       "</style>\n",
       "<table border=\"1\" class=\"dataframe\">\n",
       "  <thead>\n",
       "    <tr style=\"text-align: right;\">\n",
       "      <th></th>\n",
       "      <th>date</th>\n",
       "      <th>customer_id</th>\n",
       "      <th>order_id</th>\n",
       "      <th>product</th>\n",
       "      <th>quantity</th>\n",
       "      <th>price</th>\n",
       "      <th>month</th>\n",
       "      <th>revenue</th>\n",
       "      <th>key_word</th>\n",
       "      <th>category</th>\n",
       "    </tr>\n",
       "  </thead>\n",
       "  <tbody>\n",
       "    <tr>\n",
       "      <th>1158</th>\n",
       "      <td>2018-12-10 14:00:00</td>\n",
       "      <td>a984c5b7-ff7e-4647-b84e-ef0b85a2762d</td>\n",
       "      <td>69289</td>\n",
       "      <td>Ручка-скоба РС-100 белая *Трибатрон*, 1108035</td>\n",
       "      <td>200</td>\n",
       "      <td>29.0</td>\n",
       "      <td>12</td>\n",
       "      <td>5800.0</td>\n",
       "      <td>ручка-скоба</td>\n",
       "      <td>товары для хозяйства и стройки</td>\n",
       "    </tr>\n",
       "    <tr>\n",
       "      <th>212</th>\n",
       "      <td>2018-10-11 14:00:00</td>\n",
       "      <td>cd09ea73-d9ce-48c3-b4c5-018113735e80</td>\n",
       "      <td>68611</td>\n",
       "      <td>Пружина дверная 240 мм оцинкованная (Д-19 мм) без крепления, 1107014</td>\n",
       "      <td>150</td>\n",
       "      <td>38.0</td>\n",
       "      <td>10</td>\n",
       "      <td>5700.0</td>\n",
       "      <td>пружина</td>\n",
       "      <td>товары для хозяйства и стройки</td>\n",
       "    </tr>\n",
       "    <tr>\n",
       "      <th>211</th>\n",
       "      <td>2018-10-11 14:00:00</td>\n",
       "      <td>cd09ea73-d9ce-48c3-b4c5-018113735e80</td>\n",
       "      <td>68611</td>\n",
       "      <td>Крепеж для пружины дверной, 1107055</td>\n",
       "      <td>150</td>\n",
       "      <td>19.0</td>\n",
       "      <td>10</td>\n",
       "      <td>2850.0</td>\n",
       "      <td>крепеж</td>\n",
       "      <td>товары для хозяйства и стройки</td>\n",
       "    </tr>\n",
       "    <tr>\n",
       "      <th>6535</th>\n",
       "      <td>2019-10-07 11:00:00</td>\n",
       "      <td>d933280e-5372-448f-be44-b269c8bafc2a</td>\n",
       "      <td>72885</td>\n",
       "      <td>Крепеж для пружины дверной оцинкованный, 1107054</td>\n",
       "      <td>100</td>\n",
       "      <td>19.0</td>\n",
       "      <td>10</td>\n",
       "      <td>1900.0</td>\n",
       "      <td>крепеж</td>\n",
       "      <td>товары для хозяйства и стройки</td>\n",
       "    </tr>\n",
       "    <tr>\n",
       "      <th>6707</th>\n",
       "      <td>2019-10-28 10:00:00</td>\n",
       "      <td>018fb729-3525-4314-8e4d-1982b1062f9f</td>\n",
       "      <td>73110</td>\n",
       "      <td>Шпингалет 80 мм белый с пружиной, 1102188</td>\n",
       "      <td>100</td>\n",
       "      <td>44.0</td>\n",
       "      <td>10</td>\n",
       "      <td>4400.0</td>\n",
       "      <td>шпингалет</td>\n",
       "      <td>товары для хозяйства и стройки</td>\n",
       "    </tr>\n",
       "  </tbody>\n",
       "</table>\n",
       "</div>"
      ],
      "text/plain": [
       "                    date                           customer_id  order_id  \\\n",
       "1158 2018-12-10 14:00:00  a984c5b7-ff7e-4647-b84e-ef0b85a2762d     69289   \n",
       "212  2018-10-11 14:00:00  cd09ea73-d9ce-48c3-b4c5-018113735e80     68611   \n",
       "211  2018-10-11 14:00:00  cd09ea73-d9ce-48c3-b4c5-018113735e80     68611   \n",
       "6535 2019-10-07 11:00:00  d933280e-5372-448f-be44-b269c8bafc2a     72885   \n",
       "6707 2019-10-28 10:00:00  018fb729-3525-4314-8e4d-1982b1062f9f     73110   \n",
       "\n",
       "                                                                   product  \\\n",
       "1158                         Ручка-скоба РС-100 белая *Трибатрон*, 1108035   \n",
       "212   Пружина дверная 240 мм оцинкованная (Д-19 мм) без крепления, 1107014   \n",
       "211                                    Крепеж для пружины дверной, 1107055   \n",
       "6535                      Крепеж для пружины дверной оцинкованный, 1107054   \n",
       "6707                             Шпингалет 80 мм белый с пружиной, 1102188   \n",
       "\n",
       "      quantity  price  month  revenue     key_word  \\\n",
       "1158       200   29.0     12   5800.0  ручка-скоба   \n",
       "212        150   38.0     10   5700.0      пружина   \n",
       "211        150   19.0     10   2850.0       крепеж   \n",
       "6535       100   19.0     10   1900.0       крепеж   \n",
       "6707       100   44.0     10   4400.0    шпингалет   \n",
       "\n",
       "                            category  \n",
       "1158  товары для хозяйства и стройки  \n",
       "212   товары для хозяйства и стройки  \n",
       "211   товары для хозяйства и стройки  \n",
       "6535  товары для хозяйства и стройки  \n",
       "6707  товары для хозяйства и стройки  "
      ]
     },
     "execution_count": 64,
     "metadata": {},
     "output_type": "execute_result"
    }
   ],
   "source": [
    "data_for_farm.sort_values(by = 'quantity', ascending = False).head()"
   ]
  },
  {
   "cell_type": "code",
   "execution_count": 65,
   "id": "df0fe529",
   "metadata": {},
   "outputs": [
    {
     "data": {
      "image/png": "[encoded data removed]",
      "text/plain": [
       "<Figure size 432x432 with 3 Axes>"
      ]
     },
     "metadata": {},
     "output_type": "display_data"
    }
   ],
   "source": [
    "with plt.style.context('ggplot'):\n",
    "    sns.jointplot(x='quantity', y='revenue', data=data_for_farm, kind='reg');"
   ]
  },
  {
   "cell_type": "code",
   "execution_count": 66,
   "id": "497ca1ad",
   "metadata": {},
   "outputs": [
    {
     "name": "stdout",
     "output_type": "stream",
     "text": [
      "Корреляция составляет:\n",
      "0.2\n"
     ]
    }
   ],
   "source": [
    "print('Корреляция составляет:')\n",
    "print(round(data_for_farm['quantity'].corr(data_for_farm['revenue']),2))"
   ]
  },
  {
   "cell_type": "markdown",
   "id": "e6ddc9eb",
   "metadata": {},
   "source": [
    "<b>Вывод:</b>\n",
    "Корреляция между выручкой и кол-вом товаров в заказе составляет 0.2  Это низкий уровень, который показывает невысокую зависимость."
   ]
  },
  {
   "cell_type": "markdown",
   "id": "106610a6",
   "metadata": {},
   "source": [
    "<h2>Выделение основных и дополнительных категорий</h2>"
   ]
  },
  {
   "cell_type": "code",
   "execution_count": 67,
   "id": "1f4bf7d9",
   "metadata": {},
   "outputs": [],
   "source": [
    "data_top_revenue = data.groupby('product').agg({'revenue':'sum'}).sort_values(by = 'revenue',ascending = False)"
   ]
  },
  {
   "cell_type": "code",
   "execution_count": 68,
   "id": "68ad29a7",
   "metadata": {},
   "outputs": [],
   "source": [
    "data_top_revenue['ratio_revenue'] =  round(data_top_revenue['revenue']/data_top_revenue['revenue'].sum(),4)*100"
   ]
  },
  {
   "cell_type": "code",
   "execution_count": 69,
   "id": "44d96f0a",
   "metadata": {},
   "outputs": [],
   "source": [
    "data_top_revenue['cumsum_percente'] = data_top_revenue['ratio_revenue'].cumsum()"
   ]
  },
  {
   "cell_type": "code",
   "execution_count": 70,
   "id": "cf7b6153",
   "metadata": {},
   "outputs": [
    {
     "data": {
      "text/html": [
       "<div>\n",
       "<style scoped>\n",
       "    .dataframe tbody tr th:only-of-type {\n",
       "        vertical-align: middle;\n",
       "    }\n",
       "\n",
       "    .dataframe tbody tr th {\n",
       "        vertical-align: top;\n",
       "    }\n",
       "\n",
       "    .dataframe thead th {\n",
       "        text-align: right;\n",
       "    }\n",
       "</style>\n",
       "<table border=\"1\" class=\"dataframe\">\n",
       "  <thead>\n",
       "    <tr style=\"text-align: right;\">\n",
       "      <th></th>\n",
       "      <th>revenue</th>\n",
       "      <th>ratio_revenue</th>\n",
       "      <th>cumsum_percente</th>\n",
       "    </tr>\n",
       "    <tr>\n",
       "      <th>product</th>\n",
       "      <th></th>\n",
       "      <th></th>\n",
       "      <th></th>\n",
       "    </tr>\n",
       "  </thead>\n",
       "  <tbody>\n",
       "    <tr>\n",
       "      <th>Простынь вафельная 200х180 см WELLNESS RW180-01 100% хлопок</th>\n",
       "      <td>53232.0</td>\n",
       "      <td>1.54</td>\n",
       "      <td>1.54</td>\n",
       "    </tr>\n",
       "    <tr>\n",
       "      <th>Сумка-тележка 2-х колесная Gimi Argo синяя</th>\n",
       "      <td>50405.0</td>\n",
       "      <td>1.45</td>\n",
       "      <td>2.99</td>\n",
       "    </tr>\n",
       "    <tr>\n",
       "      <th>Вешалки мягкие для деликатных вещей 3 шт шоколад</th>\n",
       "      <td>49596.0</td>\n",
       "      <td>1.43</td>\n",
       "      <td>4.42</td>\n",
       "    </tr>\n",
       "    <tr>\n",
       "      <th>Тележка багажная DELTA ТБР-22 синий грузоподъемность 20 кг сумка и 50 кг каркас РОССИЯ</th>\n",
       "      <td>33992.0</td>\n",
       "      <td>0.98</td>\n",
       "      <td>5.40</td>\n",
       "    </tr>\n",
       "    <tr>\n",
       "      <th>Муляж ЯБЛОКО 9 см красное</th>\n",
       "      <td>32702.0</td>\n",
       "      <td>0.94</td>\n",
       "      <td>6.34</td>\n",
       "    </tr>\n",
       "  </tbody>\n",
       "</table>\n",
       "</div>"
      ],
      "text/plain": [
       "                                                                                        revenue  \\\n",
       "product                                                                                           \n",
       "Простынь вафельная 200х180 см WELLNESS RW180-01 100% хлопок                             53232.0   \n",
       "Сумка-тележка 2-х колесная Gimi Argo синяя                                              50405.0   \n",
       "Вешалки мягкие для деликатных вещей 3 шт шоколад                                        49596.0   \n",
       "Тележка багажная DELTA ТБР-22 синий грузоподъемность 20 кг сумка и 50 кг каркас РОССИЯ  33992.0   \n",
       "Муляж ЯБЛОКО 9 см красное                                                               32702.0   \n",
       "\n",
       "                                                                                        ratio_revenue  \\\n",
       "product                                                                                                 \n",
       "Простынь вафельная 200х180 см WELLNESS RW180-01 100% хлопок                                      1.54   \n",
       "Сумка-тележка 2-х колесная Gimi Argo синяя                                                       1.45   \n",
       "Вешалки мягкие для деликатных вещей 3 шт шоколад                                                 1.43   \n",
       "Тележка багажная DELTA ТБР-22 синий грузоподъемность 20 кг сумка и 50 кг каркас РОССИЯ           0.98   \n",
       "Муляж ЯБЛОКО 9 см красное                                                                        0.94   \n",
       "\n",
       "                                                                                        cumsum_percente  \n",
       "product                                                                                                  \n",
       "Простынь вафельная 200х180 см WELLNESS RW180-01 100% хлопок                                        1.54  \n",
       "Сумка-тележка 2-х колесная Gimi Argo синяя                                                         2.99  \n",
       "Вешалки мягкие для деликатных вещей 3 шт шоколад                                                   4.42  \n",
       "Тележка багажная DELTA ТБР-22 синий грузоподъемность 20 кг сумка и 50 кг каркас РОССИЯ             5.40  \n",
       "Муляж ЯБЛОКО 9 см красное                                                                          6.34  "
      ]
     },
     "execution_count": 70,
     "metadata": {},
     "output_type": "execute_result"
    }
   ],
   "source": [
    "data_top_revenue.head()"
   ]
  },
  {
   "cell_type": "markdown",
   "id": "6ad570cf",
   "metadata": {},
   "source": [
    "Создадим функцию, которая присваивает класс товару, в зависимости от его доли в общей выручке"
   ]
  },
  {
   "cell_type": "code",
   "execution_count": 71,
   "id": "3800130d",
   "metadata": {},
   "outputs": [],
   "source": [
    "def abc_category(x):\n",
    "    if x < 80:\n",
    "        return 'A'\n",
    "    elif x > 80 and x < 95:\n",
    "        return 'B'\n",
    "    else:\n",
    "        return 'C'"
   ]
  },
  {
   "cell_type": "code",
   "execution_count": 72,
   "id": "ead279b3",
   "metadata": {},
   "outputs": [],
   "source": [
    "data_top_revenue['class'] = data_top_revenue['cumsum_percente'].apply(abc_category)"
   ]
  },
  {
   "cell_type": "code",
   "execution_count": 73,
   "id": "7c98bc67",
   "metadata": {},
   "outputs": [
    {
     "data": {
      "text/html": [
       "<div>\n",
       "<style scoped>\n",
       "    .dataframe tbody tr th:only-of-type {\n",
       "        vertical-align: middle;\n",
       "    }\n",
       "\n",
       "    .dataframe tbody tr th {\n",
       "        vertical-align: top;\n",
       "    }\n",
       "\n",
       "    .dataframe thead th {\n",
       "        text-align: right;\n",
       "    }\n",
       "</style>\n",
       "<table border=\"1\" class=\"dataframe\">\n",
       "  <thead>\n",
       "    <tr style=\"text-align: right;\">\n",
       "      <th></th>\n",
       "      <th>revenue</th>\n",
       "      <th>ratio_revenue</th>\n",
       "      <th>cumsum_percente</th>\n",
       "      <th>class</th>\n",
       "    </tr>\n",
       "    <tr>\n",
       "      <th>product</th>\n",
       "      <th></th>\n",
       "      <th></th>\n",
       "      <th></th>\n",
       "      <th></th>\n",
       "    </tr>\n",
       "  </thead>\n",
       "  <tbody>\n",
       "    <tr>\n",
       "      <th>Простынь вафельная 200х180 см WELLNESS RW180-01 100% хлопок</th>\n",
       "      <td>53232.0</td>\n",
       "      <td>1.54</td>\n",
       "      <td>1.54</td>\n",
       "      <td>A</td>\n",
       "    </tr>\n",
       "    <tr>\n",
       "      <th>Сумка-тележка 2-х колесная Gimi Argo синяя</th>\n",
       "      <td>50405.0</td>\n",
       "      <td>1.45</td>\n",
       "      <td>2.99</td>\n",
       "      <td>A</td>\n",
       "    </tr>\n",
       "    <tr>\n",
       "      <th>Вешалки мягкие для деликатных вещей 3 шт шоколад</th>\n",
       "      <td>49596.0</td>\n",
       "      <td>1.43</td>\n",
       "      <td>4.42</td>\n",
       "      <td>A</td>\n",
       "    </tr>\n",
       "    <tr>\n",
       "      <th>Тележка багажная DELTA ТБР-22 синий грузоподъемность 20 кг сумка и 50 кг каркас РОССИЯ</th>\n",
       "      <td>33992.0</td>\n",
       "      <td>0.98</td>\n",
       "      <td>5.40</td>\n",
       "      <td>A</td>\n",
       "    </tr>\n",
       "    <tr>\n",
       "      <th>Муляж ЯБЛОКО 9 см красное</th>\n",
       "      <td>32702.0</td>\n",
       "      <td>0.94</td>\n",
       "      <td>6.34</td>\n",
       "      <td>A</td>\n",
       "    </tr>\n",
       "    <tr>\n",
       "      <th>...</th>\n",
       "      <td>...</td>\n",
       "      <td>...</td>\n",
       "      <td>...</td>\n",
       "      <td>...</td>\n",
       "    </tr>\n",
       "    <tr>\n",
       "      <th>Цинния Оранжевый король 0,5 г 4660010770520</th>\n",
       "      <td>10.0</td>\n",
       "      <td>0.00</td>\n",
       "      <td>99.38</td>\n",
       "      <td>C</td>\n",
       "    </tr>\n",
       "    <tr>\n",
       "      <th>Цинния Коралловая красавица 0,2 г 4660010773323</th>\n",
       "      <td>10.0</td>\n",
       "      <td>0.00</td>\n",
       "      <td>99.38</td>\n",
       "      <td>C</td>\n",
       "    </tr>\n",
       "    <tr>\n",
       "      <th>Незабудка смесь 0,1 г 4650091480340</th>\n",
       "      <td>10.0</td>\n",
       "      <td>0.00</td>\n",
       "      <td>99.38</td>\n",
       "      <td>C</td>\n",
       "    </tr>\n",
       "    <tr>\n",
       "      <th>Львиный зев Волшебный ковер 0,05 г 4660010779639</th>\n",
       "      <td>9.0</td>\n",
       "      <td>0.00</td>\n",
       "      <td>99.38</td>\n",
       "      <td>C</td>\n",
       "    </tr>\n",
       "    <tr>\n",
       "      <th>Горох Амброзия 10,0 г 4660010772616</th>\n",
       "      <td>9.0</td>\n",
       "      <td>0.00</td>\n",
       "      <td>99.38</td>\n",
       "      <td>C</td>\n",
       "    </tr>\n",
       "  </tbody>\n",
       "</table>\n",
       "<p>2342 rows × 4 columns</p>\n",
       "</div>"
      ],
      "text/plain": [
       "                                                                                        revenue  \\\n",
       "product                                                                                           \n",
       "Простынь вафельная 200х180 см WELLNESS RW180-01 100% хлопок                             53232.0   \n",
       "Сумка-тележка 2-х колесная Gimi Argo синяя                                              50405.0   \n",
       "Вешалки мягкие для деликатных вещей 3 шт шоколад                                        49596.0   \n",
       "Тележка багажная DELTA ТБР-22 синий грузоподъемность 20 кг сумка и 50 кг каркас РОССИЯ  33992.0   \n",
       "Муляж ЯБЛОКО 9 см красное                                                               32702.0   \n",
       "...                                                                                         ...   \n",
       "Цинния Оранжевый король 0,5 г 4660010770520                                                10.0   \n",
       "Цинния Коралловая красавица 0,2 г 4660010773323                                            10.0   \n",
       "Незабудка смесь 0,1 г 4650091480340                                                        10.0   \n",
       "Львиный зев Волшебный ковер 0,05 г 4660010779639                                            9.0   \n",
       "Горох Амброзия 10,0 г 4660010772616                                                         9.0   \n",
       "\n",
       "                                                                                        ratio_revenue  \\\n",
       "product                                                                                                 \n",
       "Простынь вафельная 200х180 см WELLNESS RW180-01 100% хлопок                                      1.54   \n",
       "Сумка-тележка 2-х колесная Gimi Argo синяя                                                       1.45   \n",
       "Вешалки мягкие для деликатных вещей 3 шт шоколад                                                 1.43   \n",
       "Тележка багажная DELTA ТБР-22 синий грузоподъемность 20 кг сумка и 50 кг каркас РОССИЯ           0.98   \n",
       "Муляж ЯБЛОКО 9 см красное                                                                        0.94   \n",
       "...                                                                                               ...   \n",
       "Цинния Оранжевый король 0,5 г 4660010770520                                                      0.00   \n",
       "Цинния Коралловая красавица 0,2 г 4660010773323                                                  0.00   \n",
       "Незабудка смесь 0,1 г 4650091480340                                                              0.00   \n",
       "Львиный зев Волшебный ковер 0,05 г 4660010779639                                                 0.00   \n",
       "Горох Амброзия 10,0 г 4660010772616                                                              0.00   \n",
       "\n",
       "                                                                                        cumsum_percente  \\\n",
       "product                                                                                                   \n",
       "Простынь вафельная 200х180 см WELLNESS RW180-01 100% хлопок                                        1.54   \n",
       "Сумка-тележка 2-х колесная Gimi Argo синяя                                                         2.99   \n",
       "Вешалки мягкие для деликатных вещей 3 шт шоколад                                                   4.42   \n",
       "Тележка багажная DELTA ТБР-22 синий грузоподъемность 20 кг сумка и 50 кг каркас РОССИЯ             5.40   \n",
       "Муляж ЯБЛОКО 9 см красное                                                                          6.34   \n",
       "...                                                                                                 ...   \n",
       "Цинния Оранжевый король 0,5 г 4660010770520                                                       99.38   \n",
       "Цинния Коралловая красавица 0,2 г 4660010773323                                                   99.38   \n",
       "Незабудка смесь 0,1 г 4650091480340                                                               99.38   \n",
       "Львиный зев Волшебный ковер 0,05 г 4660010779639                                                  99.38   \n",
       "Горох Амброзия 10,0 г 4660010772616                                                               99.38   \n",
       "\n",
       "                                                                                       class  \n",
       "product                                                                                       \n",
       "Простынь вафельная 200х180 см WELLNESS RW180-01 100% хлопок                                A  \n",
       "Сумка-тележка 2-х колесная Gimi Argo синяя                                                 A  \n",
       "Вешалки мягкие для деликатных вещей 3 шт шоколад                                           A  \n",
       "Тележка багажная DELTA ТБР-22 синий грузоподъемность 20 кг сумка и 50 кг каркас РОССИЯ     A  \n",
       "Муляж ЯБЛОКО 9 см красное                                                                  A  \n",
       "...                                                                                      ...  \n",
       "Цинния Оранжевый король 0,5 г 4660010770520                                                C  \n",
       "Цинния Коралловая красавица 0,2 г 4660010773323                                            C  \n",
       "Незабудка смесь 0,1 г 4650091480340                                                        C  \n",
       "Львиный зев Волшебный ковер 0,05 г 4660010779639                                           C  \n",
       "Горох Амброзия 10,0 г 4660010772616                                                        C  \n",
       "\n",
       "[2342 rows x 4 columns]"
      ]
     },
     "execution_count": 73,
     "metadata": {},
     "output_type": "execute_result"
    }
   ],
   "source": [
    "data_top_revenue"
   ]
  },
  {
   "cell_type": "markdown",
   "id": "d64c12c9",
   "metadata": {},
   "source": [
    "Таким образом мы распределили продукцию на основные и дополнительнве категории:\n",
    "   - Категория 'A' это товары, которые составляют 80% дохода магазина. Их относим к категории основные; \n",
    "   - Категория 'B' это товары, которые составляют остальные 15% дохода магазина. Их относим к категории основные, либо дополнительные;\n",
    "   - Категория 'C' это товары, которые составляют остальные 5% дохода магазина. Их относим к категории  дополнительные; "
   ]
  },
  {
   "cell_type": "markdown",
   "id": "990bd088",
   "metadata": {},
   "source": [
    "<h2> Формулировка гипотез</h2>"
   ]
  },
  {
   "cell_type": "markdown",
   "id": "6ac772bb",
   "metadata": {},
   "source": [
    "1. Формулируем две гипотезы, а также альтернативные к ним."
   ]
  },
  {
   "cell_type": "markdown",
   "id": "a6a73c3c",
   "metadata": {},
   "source": [
    "H0: Средний чек категории которая принесла больше всего выручки (товары для хозяйства и стройки) = среднему чек категори, которая принесла меньше всего выручки(искусственные растения и фрукты).\n",
    "\n",
    "H1: Средний чек категории которая принесла больше всего выручки (товары для хозяйства и стройки) ≠ среднему чек категори, которая принесла меньше всего выручки(искусственные растения и фрукты)."
   ]
  },
  {
   "cell_type": "markdown",
   "id": "68caff7f",
   "metadata": {},
   "source": [
    "2. Определимя с критерием для проверки гипотез. (Исходя из размера выборки, независимости и т.д)"
   ]
  },
  {
   "cell_type": "markdown",
   "id": "f52008ec",
   "metadata": {},
   "source": [
    "Для это нам нужно ответить на следующие вопросы:\n",
    "   - Какой тип данных (количественный или качественный);\n",
    "   - Подлежат ли данные закону нормального паспределения;\n",
    "   - Являются ли группы независимыми и сколько их;\n",
    "    "
   ]
  },
  {
   "cell_type": "markdown",
   "id": "2bc80665",
   "metadata": {},
   "source": [
    "Нам известно, что тип переменных у нас количественный,\n",
    "посмотрим на их распределение:"
   ]
  },
  {
   "cell_type": "code",
   "execution_count": 74,
   "id": "4e8f1299",
   "metadata": {},
   "outputs": [],
   "source": [
    "for_farm_sample = data.query(\"category == 'товары для хозяйства и стройки' \")['price']"
   ]
  },
  {
   "cell_type": "code",
   "execution_count": 75,
   "id": "e5387084",
   "metadata": {},
   "outputs": [],
   "source": [
    "artificial_flower_sample = data.query(\"category == 'искусственные растения и фрукты' \")['price']"
   ]
  },
  {
   "cell_type": "code",
   "execution_count": 76,
   "id": "3f3c0bd9",
   "metadata": {},
   "outputs": [
    {
     "data": {
      "image/png": "[encoded data removed]",
      "text/plain": [
       "<Figure size 432x288 with 1 Axes>"
      ]
     },
     "metadata": {},
     "output_type": "display_data"
    }
   ],
   "source": [
    "artificial_flower_sample.hist(bins=35, alpha=0.5, color='green',range =(0,1000))\n",
    "for_farm_sample.hist(bins=35, alpha=0.5, color='blue',range =(0,1000));"
   ]
  },
  {
   "cell_type": "markdown",
   "id": "cadaa5df",
   "metadata": {},
   "source": [
    "Одна из выборок имеет характерные черты нормального распределения. Также, группы независимы, поэтому мы будем использывать <b>двухвыборочный t-критерий.</b>"
   ]
  },
  {
   "cell_type": "code",
   "execution_count": 77,
   "id": "64c2021a",
   "metadata": {},
   "outputs": [
    {
     "name": "stdout",
     "output_type": "stream",
     "text": [
      "5.5013672365125734e-130\n",
      "Отвергаем нулевую гипотезу\n"
     ]
    }
   ],
   "source": [
    "results = st.ttest_ind(for_farm_sample,artificial_flower_sample, equal_var = False)\n",
    "\n",
    "alpha = 0.05\n",
    "\n",
    "print(results.pvalue)\n",
    "# вывод значения p-value на экран \n",
    "# условный оператор с выводом строки с ответом\n",
    "\n",
    "if results.pvalue < alpha:\n",
    "    print(\"Отвергаем нулевую гипотезу\")\n",
    "else:\n",
    "    print(\"Не получилось отвергнуть нулевую гипотезу\") \n",
    "\n",
    "# вывод значения p-value на экран \n",
    "# условный оператор с выводом строки с ответом"
   ]
  },
  {
   "cell_type": "markdown",
   "id": "028c13ec",
   "metadata": {},
   "source": [
    "<b>Делаем вывод, что:</b> Нам не получилось доказать нулевую гипотезу."
   ]
  },
  {
   "cell_type": "markdown",
   "id": "ffe6f5cc",
   "metadata": {},
   "source": [
    "Формулируем вторую гипотезу:"
   ]
  },
  {
   "cell_type": "markdown",
   "id": "72d4518e",
   "metadata": {},
   "source": [
    "H0: Среднее число покупок категории которая принесла больше всего выручки (товары для хозяйства и стройки) = Среднему числу покупок категории \"растения\".\n",
    "\n",
    "H1: Среднее число покупок категории которая принесла больше всего выручки (товары для хозяйства и стройки) ≠ Среднему числу покупок категории \"растения\"."
   ]
  },
  {
   "cell_type": "code",
   "execution_count": 78,
   "id": "1c396a70",
   "metadata": {},
   "outputs": [],
   "source": [
    "for_farm_sample2 = data.query(\"category == 'товары для хозяйства и стройки' \")['quantity']"
   ]
  },
  {
   "cell_type": "code",
   "execution_count": 79,
   "id": "5a72eec0",
   "metadata": {},
   "outputs": [],
   "source": [
    "plants_sample2 = data.query(\"category == 'растения' \")['quantity']"
   ]
  },
  {
   "cell_type": "code",
   "execution_count": 80,
   "id": "f8432caa",
   "metadata": {},
   "outputs": [
    {
     "data": {
      "image/png": "[encoded data removed]",
      "text/plain": [
       "<Figure size 432x288 with 1 Axes>"
      ]
     },
     "metadata": {},
     "output_type": "display_data"
    }
   ],
   "source": [
    "plants_sample2.hist(bins=10, alpha=0.5, color='green',range =(0,10))\n",
    "for_farm_sample2.hist(bins=10, alpha=0.5, color='blue',range =(0,10));"
   ]
  },
  {
   "cell_type": "code",
   "execution_count": 81,
   "id": "2591d28b",
   "metadata": {},
   "outputs": [
    {
     "name": "stdout",
     "output_type": "stream",
     "text": [
      "0.001447850801334532\n",
      "Отвергаем нулевую гипотезу\n"
     ]
    }
   ],
   "source": [
    "results = st.ttest_ind(for_farm_sample2,plants_sample2, equal_var = False)\n",
    "\n",
    "alpha = 0.05\n",
    "\n",
    "print(results.pvalue)\n",
    "# вывод значения p-value на экран \n",
    "# условный оператор с выводом строки с ответом\n",
    "\n",
    "if results.pvalue < alpha:\n",
    "    print(\"Отвергаем нулевую гипотезу\")\n",
    "else:\n",
    "    print(\"Не получилось отвергнуть нулевую гипотезу\") \n",
    "\n",
    "# вывод значения p-value на экран \n",
    "# условный оператор с выводом строки с ответом"
   ]
  },
  {
   "cell_type": "markdown",
   "id": "60d349dd",
   "metadata": {},
   "source": [
    "<b>Делаем вывод, что:</b> Средние чеки данных категорий не равны."
   ]
  },
  {
   "cell_type": "markdown",
   "id": "599aa68e",
   "metadata": {},
   "source": [
    "<h2>  Заключительный вывод </h2>"
   ]
  },
  {
   "cell_type": "markdown",
   "id": "3b1bcf61",
   "metadata": {},
   "source": [
    "Проведя категорийный анализ мы выявили, что самые прибыльные месяцы для интернет магазина это:\n",
    "   - Июнь: Больше всего спроса на категорию \"товары для хозяйства и стройки\" и \"растения\";\n",
    "   - Октябоб: Больше всего спроса на категорию \"товары для хозяйства и стройки\" и \"другое\";\n",
    "   \n",
    "   \n",
    "Самая прибыльная категория за весь период исследования:\n",
    "   - Товары для хозяйства и стройки: Суммарная выручка <b>2 567 907 у.е</b>;\n",
    "   \n",
    "Наименее прибыльная категория за весь период исследования:\n",
    "   - Искусственные растения и фрукты: Суммарная выручка <b>120 682 у.е</b>;\n",
    "   \n",
    "Остальные категории занимают примерно одинаковую долю по выручкам:\n",
    "   - Растения - 12%;\n",
    "   - Другое - 14%;\n",
    "   - Товары для дома - 11%;\n",
    "   - Товары для кухни - 7%;\n",
    "   \n",
    "Наиболее прибыльные периоды для категорий:\n",
    "   - Товары для хозяйства и стройки: C июня по октябрь и декабрь;\n",
    "   - Искусственные растения и фрукты: май и ноябрь;\n",
    "   - Растения: C марта по июнь;\n",
    "   - Другое: C февраля по апрель, октябрь;\n",
    "   - Товары для дома: январь, июль - октябрь;\n",
    "   - Товары для кухни: C сентября по ноябрь;"
   ]
  },
  {
   "cell_type": "markdown",
   "id": "e64d6bb3",
   "metadata": {},
   "source": [
    "<b>Общие реккомендации</b>"
   ]
  },
  {
   "cell_type": "markdown",
   "id": "d3000786",
   "metadata": {},
   "source": [
    "1. Категория \"Искусственные растения и фрукты\" имеет более низкий средний чек, чем лидирующие категории. Также данная продукция приносит лишь 2% от общего дохода. Исходя из маржинальности товара, реккомендуем увеличить стоимость товара либо убрать его из продажи.\n",
    "\n",
    "2. Категория \"Товары для хозяйства и стройки\" приносит большую долю продаж из всех категорий. Возможно стоит расширить продуктовый ассортимент данной категории, так как емкость спроса позволяет это сделать.\n",
    "\n",
    "3. Категория \"Растения\" имеет большее кол-во покупок чем  \"Товары для хозяйства и стройки\" в 2,5 раза. Но из-за низкого чека, выручка этой категории занчительно ниже. Стоит прорабоать кросс-сейлы и тем самым увеличить средний чек при покупки растений.\n",
    "\n",
    "4. Выставить приоритет у товаров по категориями A-B-C: \n",
    "   - Категория 'A' это товары, которые составляют 80% дохода магазина. Их относим к категории основные; \n",
    "   - Категория 'B' это товары, которые составляют остальные 15% дохода магазина. Их относим к категории основные, либо дополнительные;\n",
    "   - Категория 'C' это товары, которые составляют остальные 5% дохода магазина. Их относим к категории  дополнительные; "
   ]
  },
  {
   "cell_type": "markdown",
   "id": "ee154ad5",
   "metadata": {},
   "source": [
    "Презентация: https://disk.yandex.ru/i/gZa4ZDvgeP9NaQ"
   ]
  }
 ],
 "metadata": {
  "ExecuteTimeLog": [
   {
    "duration": 1511,
    "start_time": "2023-01-18T11:07:37.002Z"
   },
   {
    "duration": 66,
    "start_time": "2023-01-18T11:07:38.515Z"
   },
   {
    "duration": 3,
    "start_time": "2023-01-18T11:07:38.583Z"
   },
   {
    "duration": 17,
    "start_time": "2023-01-18T11:07:38.588Z"
   },
   {
    "duration": 12,
    "start_time": "2023-01-18T11:07:38.607Z"
   },
   {
    "duration": 18,
    "start_time": "2023-01-18T11:07:38.621Z"
   },
   {
    "duration": 14,
    "start_time": "2023-01-18T11:07:38.641Z"
   },
   {
    "duration": 13,
    "start_time": "2023-01-18T11:07:38.657Z"
   },
   {
    "duration": 462,
    "start_time": "2023-01-18T11:07:38.672Z"
   },
   {
    "duration": 4,
    "start_time": "2023-01-18T11:07:39.138Z"
   },
   {
    "duration": 130,
    "start_time": "2023-01-18T11:07:39.144Z"
   },
   {
    "duration": 109,
    "start_time": "2023-01-18T11:07:39.276Z"
   },
   {
    "duration": 13,
    "start_time": "2023-01-18T11:07:39.386Z"
   },
   {
    "duration": 10,
    "start_time": "2023-01-18T11:07:39.401Z"
   },
   {
    "duration": 39,
    "start_time": "2023-01-18T11:07:39.412Z"
   },
   {
    "duration": 4,
    "start_time": "2023-01-18T11:07:39.452Z"
   },
   {
    "duration": 7,
    "start_time": "2023-01-18T11:07:39.458Z"
   },
   {
    "duration": 10,
    "start_time": "2023-01-18T11:07:39.467Z"
   },
   {
    "duration": 7,
    "start_time": "2023-01-18T11:07:39.479Z"
   },
   {
    "duration": 5,
    "start_time": "2023-01-18T11:07:39.488Z"
   },
   {
    "duration": 6,
    "start_time": "2023-01-18T11:07:39.494Z"
   },
   {
    "duration": 37,
    "start_time": "2023-01-18T11:07:39.501Z"
   },
   {
    "duration": 10,
    "start_time": "2023-01-18T11:07:39.540Z"
   },
   {
    "duration": 7,
    "start_time": "2023-01-18T11:07:39.552Z"
   },
   {
    "duration": 8,
    "start_time": "2023-01-18T11:07:39.560Z"
   },
   {
    "duration": 26,
    "start_time": "2023-01-18T11:07:39.570Z"
   },
   {
    "duration": 9,
    "start_time": "2023-01-18T11:07:39.598Z"
   },
   {
    "duration": 10,
    "start_time": "2023-01-18T11:07:39.611Z"
   },
   {
    "duration": 19,
    "start_time": "2023-01-18T11:07:39.622Z"
   },
   {
    "duration": 24,
    "start_time": "2023-01-18T11:07:39.643Z"
   },
   {
    "duration": 3,
    "start_time": "2023-01-18T11:07:39.668Z"
   },
   {
    "duration": 23,
    "start_time": "2023-01-18T11:07:39.673Z"
   },
   {
    "duration": 8,
    "start_time": "2023-01-18T11:07:39.697Z"
   },
   {
    "duration": 9,
    "start_time": "2023-01-18T11:07:39.707Z"
   },
   {
    "duration": 21,
    "start_time": "2023-01-18T11:07:39.717Z"
   },
   {
    "duration": 6,
    "start_time": "2023-01-18T11:07:39.740Z"
   },
   {
    "duration": 11,
    "start_time": "2023-01-18T11:07:39.748Z"
   },
   {
    "duration": 19,
    "start_time": "2023-01-18T11:07:39.761Z"
   },
   {
    "duration": 3,
    "start_time": "2023-01-18T11:07:39.782Z"
   },
   {
    "duration": 15,
    "start_time": "2023-01-18T11:07:39.787Z"
   },
   {
    "duration": 212,
    "start_time": "2023-01-18T11:07:39.804Z"
   },
   {
    "duration": 24,
    "start_time": "2023-01-18T11:07:40.017Z"
   },
   {
    "duration": 9,
    "start_time": "2023-01-18T11:07:40.043Z"
   },
   {
    "duration": 288,
    "start_time": "2023-01-18T11:07:40.054Z"
   },
   {
    "duration": 275,
    "start_time": "2023-01-18T11:07:40.344Z"
   },
   {
    "duration": 17,
    "start_time": "2023-01-18T11:07:40.621Z"
   },
   {
    "duration": 5,
    "start_time": "2023-01-18T11:07:40.640Z"
   },
   {
    "duration": 12,
    "start_time": "2023-01-18T11:07:40.647Z"
   },
   {
    "duration": 14,
    "start_time": "2023-01-18T11:07:40.661Z"
   },
   {
    "duration": 320,
    "start_time": "2023-01-18T11:07:40.677Z"
   },
   {
    "duration": 15,
    "start_time": "2023-01-18T11:07:40.999Z"
   },
   {
    "duration": 19,
    "start_time": "2023-01-18T11:07:41.016Z"
   },
   {
    "duration": 19,
    "start_time": "2023-01-18T11:07:41.037Z"
   },
   {
    "duration": 248,
    "start_time": "2023-01-18T11:07:41.058Z"
   },
   {
    "duration": 7,
    "start_time": "2023-01-18T11:07:41.308Z"
   },
   {
    "duration": 24,
    "start_time": "2023-01-18T11:07:41.317Z"
   },
   {
    "duration": 882,
    "start_time": "2023-01-18T11:07:41.343Z"
   },
   {
    "duration": 11,
    "start_time": "2023-01-18T11:07:42.226Z"
   },
   {
    "duration": 6,
    "start_time": "2023-01-18T11:07:42.239Z"
   },
   {
    "duration": 8,
    "start_time": "2023-01-18T11:07:42.247Z"
   },
   {
    "duration": 215,
    "start_time": "2023-01-18T11:07:42.257Z"
   },
   {
    "duration": 6,
    "start_time": "2023-01-18T11:07:42.473Z"
   },
   {
    "duration": 8,
    "start_time": "2023-01-18T11:07:42.480Z"
   },
   {
    "duration": 6,
    "start_time": "2023-01-18T11:07:42.489Z"
   },
   {
    "duration": 164,
    "start_time": "2023-01-18T11:07:42.496Z"
   },
   {
    "duration": 5,
    "start_time": "2023-01-18T11:07:42.662Z"
   },
   {
    "duration": 1316,
    "start_time": "2023-01-18T11:12:46.431Z"
   },
   {
    "duration": 605,
    "start_time": "2023-01-18T11:13:02.795Z"
   },
   {
    "duration": 11,
    "start_time": "2023-01-18T11:13:34.803Z"
   },
   {
    "duration": 17,
    "start_time": "2023-01-18T11:14:03.773Z"
   },
   {
    "duration": 11,
    "start_time": "2023-01-18T11:14:12.206Z"
   },
   {
    "duration": 12,
    "start_time": "2023-01-18T11:30:22.997Z"
   },
   {
    "duration": 14,
    "start_time": "2023-01-18T11:35:21.940Z"
   },
   {
    "duration": 22,
    "start_time": "2023-01-18T11:36:08.905Z"
   },
   {
    "duration": 84,
    "start_time": "2023-01-18T11:36:20.276Z"
   },
   {
    "duration": 17,
    "start_time": "2023-01-18T11:36:23.118Z"
   },
   {
    "duration": 26,
    "start_time": "2023-01-18T11:37:26.327Z"
   },
   {
    "duration": 74,
    "start_time": "2023-01-18T11:38:10.783Z"
   },
   {
    "duration": 29,
    "start_time": "2023-01-18T11:38:17.396Z"
   },
   {
    "duration": 27,
    "start_time": "2023-01-18T11:39:06.771Z"
   },
   {
    "duration": 1350,
    "start_time": "2023-01-18T11:40:00.267Z"
   },
   {
    "duration": 88,
    "start_time": "2023-01-18T11:40:01.620Z"
   },
   {
    "duration": 3,
    "start_time": "2023-01-18T11:40:01.710Z"
   },
   {
    "duration": 47,
    "start_time": "2023-01-18T11:40:01.715Z"
   },
   {
    "duration": 40,
    "start_time": "2023-01-18T11:40:01.764Z"
   },
   {
    "duration": 42,
    "start_time": "2023-01-18T11:40:01.807Z"
   },
   {
    "duration": 66,
    "start_time": "2023-01-18T11:40:01.851Z"
   },
   {
    "duration": 46,
    "start_time": "2023-01-18T11:40:01.919Z"
   },
   {
    "duration": 51,
    "start_time": "2023-01-18T11:40:01.967Z"
   },
   {
    "duration": 55,
    "start_time": "2023-01-18T11:40:02.020Z"
   },
   {
    "duration": 393,
    "start_time": "2023-01-18T11:40:02.077Z"
   },
   {
    "duration": 5,
    "start_time": "2023-01-18T11:40:02.471Z"
   },
   {
    "duration": 136,
    "start_time": "2023-01-18T11:40:02.478Z"
   },
   {
    "duration": 106,
    "start_time": "2023-01-18T11:40:02.615Z"
   },
   {
    "duration": 22,
    "start_time": "2023-01-18T11:40:02.723Z"
   },
   {
    "duration": 12,
    "start_time": "2023-01-18T11:40:02.747Z"
   },
   {
    "duration": 48,
    "start_time": "2023-01-18T11:40:02.761Z"
   },
   {
    "duration": 29,
    "start_time": "2023-01-18T11:40:02.811Z"
   },
   {
    "duration": 30,
    "start_time": "2023-01-18T11:40:02.842Z"
   },
   {
    "duration": 37,
    "start_time": "2023-01-18T11:40:02.874Z"
   },
   {
    "duration": 31,
    "start_time": "2023-01-18T11:40:02.913Z"
   },
   {
    "duration": 37,
    "start_time": "2023-01-18T11:40:02.946Z"
   },
   {
    "duration": 34,
    "start_time": "2023-01-18T11:40:02.985Z"
   },
   {
    "duration": 39,
    "start_time": "2023-01-18T11:40:03.021Z"
   },
   {
    "duration": 36,
    "start_time": "2023-01-18T11:40:03.062Z"
   },
   {
    "duration": 31,
    "start_time": "2023-01-18T11:40:03.100Z"
   },
   {
    "duration": 32,
    "start_time": "2023-01-18T11:40:03.133Z"
   },
   {
    "duration": 36,
    "start_time": "2023-01-18T11:40:03.169Z"
   },
   {
    "duration": 38,
    "start_time": "2023-01-18T11:40:03.207Z"
   },
   {
    "duration": 33,
    "start_time": "2023-01-18T11:40:03.246Z"
   },
   {
    "duration": 32,
    "start_time": "2023-01-18T11:40:03.281Z"
   },
   {
    "duration": 59,
    "start_time": "2023-01-18T11:40:03.315Z"
   },
   {
    "duration": 15,
    "start_time": "2023-01-18T11:40:03.376Z"
   },
   {
    "duration": 32,
    "start_time": "2023-01-18T11:40:03.393Z"
   },
   {
    "duration": 13,
    "start_time": "2023-01-18T11:40:03.427Z"
   },
   {
    "duration": 18,
    "start_time": "2023-01-18T11:40:03.442Z"
   },
   {
    "duration": 30,
    "start_time": "2023-01-18T11:40:03.462Z"
   },
   {
    "duration": 15,
    "start_time": "2023-01-18T11:40:03.493Z"
   },
   {
    "duration": 33,
    "start_time": "2023-01-18T11:40:03.510Z"
   },
   {
    "duration": 26,
    "start_time": "2023-01-18T11:40:03.545Z"
   },
   {
    "duration": 12,
    "start_time": "2023-01-18T11:40:03.573Z"
   },
   {
    "duration": 10,
    "start_time": "2023-01-18T11:40:03.587Z"
   },
   {
    "duration": 195,
    "start_time": "2023-01-18T11:40:03.598Z"
   },
   {
    "duration": 15,
    "start_time": "2023-01-18T11:40:03.795Z"
   },
   {
    "duration": 10,
    "start_time": "2023-01-18T11:40:03.811Z"
   },
   {
    "duration": 300,
    "start_time": "2023-01-18T11:40:03.822Z"
   },
   {
    "duration": 321,
    "start_time": "2023-01-18T11:40:04.124Z"
   },
   {
    "duration": 12,
    "start_time": "2023-01-18T11:40:04.446Z"
   },
   {
    "duration": 24,
    "start_time": "2023-01-18T11:40:04.460Z"
   },
   {
    "duration": 25,
    "start_time": "2023-01-18T11:40:04.486Z"
   },
   {
    "duration": 28,
    "start_time": "2023-01-18T11:40:04.513Z"
   },
   {
    "duration": 333,
    "start_time": "2023-01-18T11:40:04.542Z"
   },
   {
    "duration": 13,
    "start_time": "2023-01-18T11:40:04.877Z"
   },
   {
    "duration": 4,
    "start_time": "2023-01-18T11:40:04.891Z"
   },
   {
    "duration": 25,
    "start_time": "2023-01-18T11:40:04.896Z"
   },
   {
    "duration": 249,
    "start_time": "2023-01-18T11:40:04.923Z"
   },
   {
    "duration": 8,
    "start_time": "2023-01-18T11:40:05.174Z"
   },
   {
    "duration": 32,
    "start_time": "2023-01-18T11:40:05.183Z"
   },
   {
    "duration": 875,
    "start_time": "2023-01-18T11:40:05.217Z"
   },
   {
    "duration": 6,
    "start_time": "2023-01-18T11:40:06.094Z"
   },
   {
    "duration": 23,
    "start_time": "2023-01-18T11:40:06.102Z"
   },
   {
    "duration": 32,
    "start_time": "2023-01-18T11:40:06.126Z"
   },
   {
    "duration": 282,
    "start_time": "2023-01-18T11:40:06.160Z"
   },
   {
    "duration": 6,
    "start_time": "2023-01-18T11:40:06.444Z"
   },
   {
    "duration": 53,
    "start_time": "2023-01-18T11:40:06.452Z"
   },
   {
    "duration": 27,
    "start_time": "2023-01-18T11:40:06.507Z"
   },
   {
    "duration": 153,
    "start_time": "2023-01-18T11:40:06.536Z"
   },
   {
    "duration": 5,
    "start_time": "2023-01-18T11:40:06.691Z"
   },
   {
    "duration": 7,
    "start_time": "2023-01-18T11:41:30.109Z"
   },
   {
    "duration": 118,
    "start_time": "2023-01-18T11:42:24.755Z"
   },
   {
    "duration": 17,
    "start_time": "2023-01-18T11:42:30.663Z"
   },
   {
    "duration": 76,
    "start_time": "2023-01-18T11:43:04.579Z"
   },
   {
    "duration": 25,
    "start_time": "2023-01-18T11:43:10.041Z"
   },
   {
    "duration": 35,
    "start_time": "2023-01-18T11:43:36.175Z"
   },
   {
    "duration": 36,
    "start_time": "2023-01-18T11:47:41.261Z"
   },
   {
    "duration": 16,
    "start_time": "2023-01-18T11:48:28.605Z"
   },
   {
    "duration": 17,
    "start_time": "2023-01-18T11:49:00.763Z"
   },
   {
    "duration": 10,
    "start_time": "2023-01-18T11:49:06.984Z"
   },
   {
    "duration": 12,
    "start_time": "2023-01-18T11:49:10.828Z"
   },
   {
    "duration": 4,
    "start_time": "2023-01-18T11:49:41.485Z"
   },
   {
    "duration": 1146,
    "start_time": "2023-01-18T11:49:47.711Z"
   },
   {
    "duration": 6,
    "start_time": "2023-01-18T11:50:09.715Z"
   },
   {
    "duration": 1410,
    "start_time": "2023-01-18T11:50:16.703Z"
   },
   {
    "duration": 9,
    "start_time": "2023-01-18T11:50:26.727Z"
   },
   {
    "duration": 12,
    "start_time": "2023-01-18T11:50:45.502Z"
   },
   {
    "duration": 15,
    "start_time": "2023-01-18T11:59:04.067Z"
   },
   {
    "duration": 24,
    "start_time": "2023-01-18T12:01:36.686Z"
   },
   {
    "duration": 10,
    "start_time": "2023-01-18T12:01:39.945Z"
   },
   {
    "duration": 10,
    "start_time": "2023-01-18T12:04:06.260Z"
   },
   {
    "duration": 10,
    "start_time": "2023-01-18T12:04:08.028Z"
   },
   {
    "duration": 10,
    "start_time": "2023-01-18T12:04:11.275Z"
   },
   {
    "duration": 16,
    "start_time": "2023-01-18T12:04:15.416Z"
   },
   {
    "duration": 10,
    "start_time": "2023-01-18T12:05:19.563Z"
   },
   {
    "duration": 16,
    "start_time": "2023-01-18T12:05:20.473Z"
   },
   {
    "duration": 1351,
    "start_time": "2023-01-18T12:05:32.434Z"
   },
   {
    "duration": 65,
    "start_time": "2023-01-18T12:05:33.788Z"
   },
   {
    "duration": 3,
    "start_time": "2023-01-18T12:05:33.855Z"
   },
   {
    "duration": 38,
    "start_time": "2023-01-18T12:05:33.860Z"
   },
   {
    "duration": 33,
    "start_time": "2023-01-18T12:05:33.899Z"
   },
   {
    "duration": 22,
    "start_time": "2023-01-18T12:05:33.934Z"
   },
   {
    "duration": 31,
    "start_time": "2023-01-18T12:05:33.958Z"
   },
   {
    "duration": 13,
    "start_time": "2023-01-18T12:05:33.991Z"
   },
   {
    "duration": 41,
    "start_time": "2023-01-18T12:05:34.006Z"
   },
   {
    "duration": 20,
    "start_time": "2023-01-18T12:05:34.049Z"
   },
   {
    "duration": 26,
    "start_time": "2023-01-18T12:05:34.071Z"
   },
   {
    "duration": 35,
    "start_time": "2023-01-18T12:05:34.098Z"
   },
   {
    "duration": 31,
    "start_time": "2023-01-18T12:05:34.135Z"
   },
   {
    "duration": 40,
    "start_time": "2023-01-18T12:05:34.168Z"
   },
   {
    "duration": 401,
    "start_time": "2023-01-18T12:05:34.211Z"
   },
   {
    "duration": 5,
    "start_time": "2023-01-18T12:05:34.614Z"
   },
   {
    "duration": 156,
    "start_time": "2023-01-18T12:05:34.620Z"
   },
   {
    "duration": 110,
    "start_time": "2023-01-18T12:05:34.778Z"
   },
   {
    "duration": 13,
    "start_time": "2023-01-18T12:05:34.890Z"
   },
   {
    "duration": 43,
    "start_time": "2023-01-18T12:05:34.904Z"
   },
   {
    "duration": 28,
    "start_time": "2023-01-18T12:05:34.949Z"
   },
   {
    "duration": 12,
    "start_time": "2023-01-18T12:05:34.979Z"
   },
   {
    "duration": 16,
    "start_time": "2023-01-18T12:05:34.992Z"
   },
   {
    "duration": 47,
    "start_time": "2023-01-18T12:05:35.010Z"
   },
   {
    "duration": 27,
    "start_time": "2023-01-18T12:05:35.059Z"
   },
   {
    "duration": 36,
    "start_time": "2023-01-18T12:05:35.089Z"
   },
   {
    "duration": 26,
    "start_time": "2023-01-18T12:05:35.126Z"
   },
   {
    "duration": 44,
    "start_time": "2023-01-18T12:05:35.156Z"
   },
   {
    "duration": 33,
    "start_time": "2023-01-18T12:05:35.202Z"
   },
   {
    "duration": 33,
    "start_time": "2023-01-18T12:05:35.237Z"
   },
   {
    "duration": 44,
    "start_time": "2023-01-18T12:05:35.272Z"
   },
   {
    "duration": 24,
    "start_time": "2023-01-18T12:05:35.318Z"
   },
   {
    "duration": 31,
    "start_time": "2023-01-18T12:05:35.343Z"
   },
   {
    "duration": 57,
    "start_time": "2023-01-18T12:05:35.376Z"
   },
   {
    "duration": 58,
    "start_time": "2023-01-18T12:05:35.435Z"
   },
   {
    "duration": 64,
    "start_time": "2023-01-18T12:05:35.494Z"
   },
   {
    "duration": 20,
    "start_time": "2023-01-18T12:05:35.560Z"
   },
   {
    "duration": 63,
    "start_time": "2023-01-18T12:05:35.582Z"
   },
   {
    "duration": 16,
    "start_time": "2023-01-18T12:05:35.647Z"
   },
   {
    "duration": 37,
    "start_time": "2023-01-18T12:05:35.665Z"
   },
   {
    "duration": 24,
    "start_time": "2023-01-18T12:05:35.704Z"
   },
   {
    "duration": 35,
    "start_time": "2023-01-18T12:05:35.731Z"
   },
   {
    "duration": 47,
    "start_time": "2023-01-18T12:05:35.769Z"
   },
   {
    "duration": 63,
    "start_time": "2023-01-18T12:05:35.818Z"
   },
   {
    "duration": 39,
    "start_time": "2023-01-18T12:05:35.884Z"
   },
   {
    "duration": 32,
    "start_time": "2023-01-18T12:05:35.925Z"
   },
   {
    "duration": 191,
    "start_time": "2023-01-18T12:05:35.959Z"
   },
   {
    "duration": 13,
    "start_time": "2023-01-18T12:05:36.152Z"
   },
   {
    "duration": 11,
    "start_time": "2023-01-18T12:05:36.167Z"
   },
   {
    "duration": 274,
    "start_time": "2023-01-18T12:05:36.180Z"
   },
   {
    "duration": 281,
    "start_time": "2023-01-18T12:05:36.456Z"
   },
   {
    "duration": 12,
    "start_time": "2023-01-18T12:05:36.739Z"
   },
   {
    "duration": 16,
    "start_time": "2023-01-18T12:05:36.752Z"
   },
   {
    "duration": 22,
    "start_time": "2023-01-18T12:05:36.770Z"
   },
   {
    "duration": 32,
    "start_time": "2023-01-18T12:05:36.793Z"
   },
   {
    "duration": 319,
    "start_time": "2023-01-18T12:05:36.826Z"
   },
   {
    "duration": 14,
    "start_time": "2023-01-18T12:05:37.146Z"
   },
   {
    "duration": 3,
    "start_time": "2023-01-18T12:05:37.162Z"
   },
   {
    "duration": 17,
    "start_time": "2023-01-18T12:05:37.167Z"
   },
   {
    "duration": 256,
    "start_time": "2023-01-18T12:05:37.185Z"
   },
   {
    "duration": 7,
    "start_time": "2023-01-18T12:05:37.443Z"
   },
   {
    "duration": 20,
    "start_time": "2023-01-18T12:05:37.451Z"
   },
   {
    "duration": 798,
    "start_time": "2023-01-18T12:05:37.473Z"
   },
   {
    "duration": 5,
    "start_time": "2023-01-18T12:05:38.273Z"
   },
   {
    "duration": 11,
    "start_time": "2023-01-18T12:05:38.279Z"
   },
   {
    "duration": 11,
    "start_time": "2023-01-18T12:05:38.292Z"
   },
   {
    "duration": 218,
    "start_time": "2023-01-18T12:05:38.305Z"
   },
   {
    "duration": 13,
    "start_time": "2023-01-18T12:05:38.525Z"
   },
   {
    "duration": 24,
    "start_time": "2023-01-18T12:05:38.540Z"
   },
   {
    "duration": 15,
    "start_time": "2023-01-18T12:05:38.566Z"
   },
   {
    "duration": 171,
    "start_time": "2023-01-18T12:05:38.583Z"
   },
   {
    "duration": 5,
    "start_time": "2023-01-18T12:05:38.757Z"
   },
   {
    "duration": 74,
    "start_time": "2023-01-18T12:07:49.461Z"
   },
   {
    "duration": 11,
    "start_time": "2023-01-18T12:07:53.638Z"
   },
   {
    "duration": 10,
    "start_time": "2023-01-18T12:11:40.556Z"
   },
   {
    "duration": 6,
    "start_time": "2023-01-18T12:11:49.878Z"
   },
   {
    "duration": 10,
    "start_time": "2023-01-18T12:12:09.728Z"
   },
   {
    "duration": 8,
    "start_time": "2023-01-18T12:12:29.658Z"
   },
   {
    "duration": 4,
    "start_time": "2023-01-18T12:12:54.798Z"
   },
   {
    "duration": 1385,
    "start_time": "2023-01-18T12:13:02.734Z"
   },
   {
    "duration": 86,
    "start_time": "2023-01-18T12:13:04.121Z"
   },
   {
    "duration": 4,
    "start_time": "2023-01-18T12:13:04.210Z"
   },
   {
    "duration": 31,
    "start_time": "2023-01-18T12:13:04.216Z"
   },
   {
    "duration": 14,
    "start_time": "2023-01-18T12:13:04.249Z"
   },
   {
    "duration": 15,
    "start_time": "2023-01-18T12:13:04.264Z"
   },
   {
    "duration": 23,
    "start_time": "2023-01-18T12:13:04.281Z"
   },
   {
    "duration": 22,
    "start_time": "2023-01-18T12:13:04.306Z"
   },
   {
    "duration": 24,
    "start_time": "2023-01-18T12:13:04.329Z"
   },
   {
    "duration": 20,
    "start_time": "2023-01-18T12:13:04.357Z"
   },
   {
    "duration": 11,
    "start_time": "2023-01-18T12:13:04.379Z"
   },
   {
    "duration": 17,
    "start_time": "2023-01-18T12:13:04.392Z"
   },
   {
    "duration": 6,
    "start_time": "2023-01-18T12:13:04.410Z"
   },
   {
    "duration": 28,
    "start_time": "2023-01-18T12:13:04.418Z"
   },
   {
    "duration": 410,
    "start_time": "2023-01-18T12:13:04.448Z"
   },
   {
    "duration": 6,
    "start_time": "2023-01-18T12:13:04.860Z"
   },
   {
    "duration": 150,
    "start_time": "2023-01-18T12:13:04.869Z"
   },
   {
    "duration": 132,
    "start_time": "2023-01-18T12:13:05.021Z"
   },
   {
    "duration": 14,
    "start_time": "2023-01-18T12:13:05.155Z"
   },
   {
    "duration": 26,
    "start_time": "2023-01-18T12:13:05.171Z"
   },
   {
    "duration": 43,
    "start_time": "2023-01-18T12:13:05.198Z"
   },
   {
    "duration": 26,
    "start_time": "2023-01-18T12:13:05.242Z"
   },
   {
    "duration": 23,
    "start_time": "2023-01-18T12:13:05.269Z"
   },
   {
    "duration": 27,
    "start_time": "2023-01-18T12:13:05.294Z"
   },
   {
    "duration": 30,
    "start_time": "2023-01-18T12:13:05.323Z"
   },
   {
    "duration": 14,
    "start_time": "2023-01-18T12:13:05.355Z"
   },
   {
    "duration": 20,
    "start_time": "2023-01-18T12:13:05.370Z"
   },
   {
    "duration": 37,
    "start_time": "2023-01-18T12:13:05.394Z"
   },
   {
    "duration": 25,
    "start_time": "2023-01-18T12:13:05.433Z"
   },
   {
    "duration": 31,
    "start_time": "2023-01-18T12:13:05.460Z"
   },
   {
    "duration": 26,
    "start_time": "2023-01-18T12:13:05.493Z"
   },
   {
    "duration": 29,
    "start_time": "2023-01-18T12:13:05.521Z"
   },
   {
    "duration": 27,
    "start_time": "2023-01-18T12:13:05.552Z"
   },
   {
    "duration": 35,
    "start_time": "2023-01-18T12:13:05.581Z"
   },
   {
    "duration": 19,
    "start_time": "2023-01-18T12:13:05.617Z"
   },
   {
    "duration": 52,
    "start_time": "2023-01-18T12:13:05.638Z"
   },
   {
    "duration": 31,
    "start_time": "2023-01-18T12:13:05.692Z"
   },
   {
    "duration": 52,
    "start_time": "2023-01-18T12:13:05.725Z"
   },
   {
    "duration": 43,
    "start_time": "2023-01-18T12:13:05.779Z"
   },
   {
    "duration": 36,
    "start_time": "2023-01-18T12:13:05.824Z"
   },
   {
    "duration": 14,
    "start_time": "2023-01-18T12:13:05.862Z"
   },
   {
    "duration": 28,
    "start_time": "2023-01-18T12:13:05.877Z"
   },
   {
    "duration": 18,
    "start_time": "2023-01-18T12:13:05.907Z"
   },
   {
    "duration": 17,
    "start_time": "2023-01-18T12:13:05.927Z"
   },
   {
    "duration": 3,
    "start_time": "2023-01-18T12:13:05.946Z"
   },
   {
    "duration": 12,
    "start_time": "2023-01-18T12:13:05.950Z"
   },
   {
    "duration": 194,
    "start_time": "2023-01-18T12:13:05.964Z"
   },
   {
    "duration": 14,
    "start_time": "2023-01-18T12:13:06.160Z"
   },
   {
    "duration": 7,
    "start_time": "2023-01-18T12:13:06.176Z"
   },
   {
    "duration": 262,
    "start_time": "2023-01-18T12:13:06.184Z"
   },
   {
    "duration": 279,
    "start_time": "2023-01-18T12:13:06.448Z"
   },
   {
    "duration": 19,
    "start_time": "2023-01-18T12:13:06.729Z"
   },
   {
    "duration": 14,
    "start_time": "2023-01-18T12:13:06.750Z"
   },
   {
    "duration": 28,
    "start_time": "2023-01-18T12:13:06.766Z"
   },
   {
    "duration": 28,
    "start_time": "2023-01-18T12:13:06.796Z"
   },
   {
    "duration": 315,
    "start_time": "2023-01-18T12:13:06.826Z"
   },
   {
    "duration": 14,
    "start_time": "2023-01-18T12:13:07.143Z"
   },
   {
    "duration": 15,
    "start_time": "2023-01-18T12:13:07.158Z"
   },
   {
    "duration": 21,
    "start_time": "2023-01-18T12:13:07.175Z"
   },
   {
    "duration": 261,
    "start_time": "2023-01-18T12:13:07.198Z"
   },
   {
    "duration": 7,
    "start_time": "2023-01-18T12:13:07.461Z"
   },
   {
    "duration": 29,
    "start_time": "2023-01-18T12:13:07.469Z"
   },
   {
    "duration": 810,
    "start_time": "2023-01-18T12:13:07.500Z"
   },
   {
    "duration": 5,
    "start_time": "2023-01-18T12:13:08.312Z"
   },
   {
    "duration": 20,
    "start_time": "2023-01-18T12:13:08.319Z"
   },
   {
    "duration": 11,
    "start_time": "2023-01-18T12:13:08.340Z"
   },
   {
    "duration": 211,
    "start_time": "2023-01-18T12:13:08.353Z"
   },
   {
    "duration": 6,
    "start_time": "2023-01-18T12:13:08.565Z"
   },
   {
    "duration": 12,
    "start_time": "2023-01-18T12:13:08.573Z"
   },
   {
    "duration": 18,
    "start_time": "2023-01-18T12:13:08.586Z"
   },
   {
    "duration": 160,
    "start_time": "2023-01-18T12:13:08.606Z"
   },
   {
    "duration": 5,
    "start_time": "2023-01-18T12:13:08.768Z"
   },
   {
    "duration": 78,
    "start_time": "2023-01-18T12:14:19.425Z"
   },
   {
    "duration": 4,
    "start_time": "2023-01-18T12:15:56.077Z"
   },
   {
    "duration": 7,
    "start_time": "2023-01-18T12:16:15.021Z"
   },
   {
    "duration": 3,
    "start_time": "2023-01-18T12:16:19.354Z"
   },
   {
    "duration": 75,
    "start_time": "2023-01-18T12:17:30.555Z"
   },
   {
    "duration": 1367,
    "start_time": "2023-01-18T12:17:47.530Z"
   },
   {
    "duration": 96,
    "start_time": "2023-01-18T12:17:48.901Z"
   },
   {
    "duration": 4,
    "start_time": "2023-01-18T12:17:48.999Z"
   },
   {
    "duration": 48,
    "start_time": "2023-01-18T12:17:49.006Z"
   },
   {
    "duration": 27,
    "start_time": "2023-01-18T12:17:49.056Z"
   },
   {
    "duration": 37,
    "start_time": "2023-01-18T12:17:49.085Z"
   },
   {
    "duration": 39,
    "start_time": "2023-01-18T12:17:49.125Z"
   },
   {
    "duration": 18,
    "start_time": "2023-01-18T12:17:49.166Z"
   },
   {
    "duration": 26,
    "start_time": "2023-01-18T12:17:49.185Z"
   },
   {
    "duration": 44,
    "start_time": "2023-01-18T12:17:49.215Z"
   },
   {
    "duration": 19,
    "start_time": "2023-01-18T12:17:49.261Z"
   },
   {
    "duration": 26,
    "start_time": "2023-01-18T12:17:49.282Z"
   },
   {
    "duration": 34,
    "start_time": "2023-01-18T12:17:49.310Z"
   },
   {
    "duration": 32,
    "start_time": "2023-01-18T12:17:49.346Z"
   },
   {
    "duration": 413,
    "start_time": "2023-01-18T12:17:49.380Z"
   },
   {
    "duration": 6,
    "start_time": "2023-01-18T12:17:49.794Z"
   },
   {
    "duration": 140,
    "start_time": "2023-01-18T12:17:49.801Z"
   },
   {
    "duration": 118,
    "start_time": "2023-01-18T12:17:49.942Z"
   },
   {
    "duration": 4,
    "start_time": "2023-01-18T12:17:50.063Z"
   },
   {
    "duration": 31,
    "start_time": "2023-01-18T12:17:50.069Z"
   },
   {
    "duration": 16,
    "start_time": "2023-01-18T12:17:50.103Z"
   },
   {
    "duration": 21,
    "start_time": "2023-01-18T12:17:50.121Z"
   },
   {
    "duration": 28,
    "start_time": "2023-01-18T12:17:50.143Z"
   },
   {
    "duration": 20,
    "start_time": "2023-01-18T12:17:50.173Z"
   },
   {
    "duration": 40,
    "start_time": "2023-01-18T12:17:50.195Z"
   },
   {
    "duration": 40,
    "start_time": "2023-01-18T12:17:50.237Z"
   },
   {
    "duration": 37,
    "start_time": "2023-01-18T12:17:50.279Z"
   },
   {
    "duration": 32,
    "start_time": "2023-01-18T12:17:50.321Z"
   },
   {
    "duration": 11,
    "start_time": "2023-01-18T12:17:50.355Z"
   },
   {
    "duration": 35,
    "start_time": "2023-01-18T12:17:50.367Z"
   },
   {
    "duration": 29,
    "start_time": "2023-01-18T12:17:50.403Z"
   },
   {
    "duration": 23,
    "start_time": "2023-01-18T12:17:50.434Z"
   },
   {
    "duration": 25,
    "start_time": "2023-01-18T12:17:50.459Z"
   },
   {
    "duration": 35,
    "start_time": "2023-01-18T12:17:50.487Z"
   },
   {
    "duration": 9,
    "start_time": "2023-01-18T12:17:50.524Z"
   },
   {
    "duration": 9,
    "start_time": "2023-01-18T12:17:50.536Z"
   },
   {
    "duration": 8,
    "start_time": "2023-01-18T12:17:50.547Z"
   },
   {
    "duration": 21,
    "start_time": "2023-01-18T12:17:50.557Z"
   },
   {
    "duration": 3,
    "start_time": "2023-01-18T12:17:50.580Z"
   },
   {
    "duration": 49,
    "start_time": "2023-01-18T12:17:50.585Z"
   },
   {
    "duration": 30,
    "start_time": "2023-01-18T12:17:50.636Z"
   },
   {
    "duration": 30,
    "start_time": "2023-01-18T12:17:50.668Z"
   },
   {
    "duration": 9,
    "start_time": "2023-01-18T12:17:50.701Z"
   },
   {
    "duration": 18,
    "start_time": "2023-01-18T12:17:50.711Z"
   },
   {
    "duration": 35,
    "start_time": "2023-01-18T12:17:50.731Z"
   },
   {
    "duration": 22,
    "start_time": "2023-01-18T12:17:50.767Z"
   },
   {
    "duration": 12,
    "start_time": "2023-01-18T12:17:50.791Z"
   },
   {
    "duration": 22,
    "start_time": "2023-01-18T12:17:50.805Z"
   },
   {
    "duration": 212,
    "start_time": "2023-01-18T12:17:50.828Z"
   },
   {
    "duration": 17,
    "start_time": "2023-01-18T12:17:51.042Z"
   },
   {
    "duration": 20,
    "start_time": "2023-01-18T12:17:51.061Z"
   },
   {
    "duration": 275,
    "start_time": "2023-01-18T12:17:51.083Z"
   },
   {
    "duration": 275,
    "start_time": "2023-01-18T12:17:51.360Z"
   },
   {
    "duration": 12,
    "start_time": "2023-01-18T12:17:51.637Z"
   },
   {
    "duration": 56,
    "start_time": "2023-01-18T12:17:51.651Z"
   },
   {
    "duration": 27,
    "start_time": "2023-01-18T12:17:51.708Z"
   },
   {
    "duration": 25,
    "start_time": "2023-01-18T12:17:51.737Z"
   },
   {
    "duration": 337,
    "start_time": "2023-01-18T12:17:51.764Z"
   },
   {
    "duration": 14,
    "start_time": "2023-01-18T12:17:52.102Z"
   },
   {
    "duration": 36,
    "start_time": "2023-01-18T12:17:52.118Z"
   },
   {
    "duration": 35,
    "start_time": "2023-01-18T12:17:52.156Z"
   },
   {
    "duration": 259,
    "start_time": "2023-01-18T12:17:52.193Z"
   },
   {
    "duration": 6,
    "start_time": "2023-01-18T12:17:52.454Z"
   },
   {
    "duration": 25,
    "start_time": "2023-01-18T12:17:52.462Z"
   },
   {
    "duration": 825,
    "start_time": "2023-01-18T12:17:52.489Z"
   },
   {
    "duration": 5,
    "start_time": "2023-01-18T12:17:53.316Z"
   },
   {
    "duration": 9,
    "start_time": "2023-01-18T12:17:53.338Z"
   },
   {
    "duration": 11,
    "start_time": "2023-01-18T12:17:53.349Z"
   },
   {
    "duration": 223,
    "start_time": "2023-01-18T12:17:53.362Z"
   },
   {
    "duration": 6,
    "start_time": "2023-01-18T12:17:53.587Z"
   },
   {
    "duration": 26,
    "start_time": "2023-01-18T12:17:53.595Z"
   },
   {
    "duration": 18,
    "start_time": "2023-01-18T12:17:53.623Z"
   },
   {
    "duration": 188,
    "start_time": "2023-01-18T12:17:53.643Z"
   },
   {
    "duration": 6,
    "start_time": "2023-01-18T12:17:53.838Z"
   },
   {
    "duration": 31,
    "start_time": "2023-01-18T12:55:10.498Z"
   },
   {
    "duration": 19,
    "start_time": "2023-01-18T12:55:49.738Z"
   },
   {
    "duration": 4,
    "start_time": "2023-01-18T12:56:48.617Z"
   },
   {
    "duration": 5,
    "start_time": "2023-01-18T12:56:52.968Z"
   },
   {
    "duration": 133,
    "start_time": "2023-01-18T12:57:24.270Z"
   },
   {
    "duration": 12,
    "start_time": "2023-01-18T12:57:34.968Z"
   },
   {
    "duration": 41,
    "start_time": "2023-01-18T12:58:19.404Z"
   },
   {
    "duration": 40,
    "start_time": "2023-01-18T12:58:23.253Z"
   },
   {
    "duration": 39,
    "start_time": "2023-01-18T12:58:29.312Z"
   },
   {
    "duration": 55,
    "start_time": "2023-01-18T12:58:39.963Z"
   },
   {
    "duration": 72,
    "start_time": "2023-01-18T13:00:46.523Z"
   },
   {
    "duration": 64,
    "start_time": "2023-01-18T13:03:17.513Z"
   },
   {
    "duration": 44,
    "start_time": "2023-01-18T13:03:59.746Z"
   },
   {
    "duration": 54,
    "start_time": "2023-01-18T13:04:34.846Z"
   },
   {
    "duration": 23,
    "start_time": "2023-01-18T13:04:54.605Z"
   },
   {
    "duration": 75,
    "start_time": "2023-01-18T13:05:17.099Z"
   },
   {
    "duration": 58,
    "start_time": "2023-01-18T13:05:25.509Z"
   },
   {
    "duration": 56,
    "start_time": "2023-01-18T13:05:32.326Z"
   },
   {
    "duration": 52,
    "start_time": "2023-01-18T13:05:38.486Z"
   },
   {
    "duration": 57,
    "start_time": "2023-01-18T13:05:48.040Z"
   },
   {
    "duration": 9,
    "start_time": "2023-01-18T13:23:40.951Z"
   },
   {
    "duration": 10,
    "start_time": "2023-01-18T13:23:44.126Z"
   },
   {
    "duration": 9,
    "start_time": "2023-01-18T13:24:22.655Z"
   },
   {
    "duration": 9,
    "start_time": "2023-01-18T13:24:23.044Z"
   },
   {
    "duration": 5,
    "start_time": "2023-01-18T13:25:11.755Z"
   },
   {
    "duration": 17,
    "start_time": "2023-01-18T13:25:15.532Z"
   },
   {
    "duration": 4,
    "start_time": "2023-01-18T13:25:37.559Z"
   },
   {
    "duration": 12,
    "start_time": "2023-01-18T13:25:37.913Z"
   },
   {
    "duration": 5,
    "start_time": "2023-01-18T13:26:04.266Z"
   },
   {
    "duration": 12,
    "start_time": "2023-01-18T13:26:04.507Z"
   },
   {
    "duration": 5,
    "start_time": "2023-01-18T13:26:10.586Z"
   },
   {
    "duration": 12,
    "start_time": "2023-01-18T13:26:11.482Z"
   },
   {
    "duration": 8,
    "start_time": "2023-01-18T13:27:21.149Z"
   },
   {
    "duration": 11,
    "start_time": "2023-01-18T13:27:26.526Z"
   },
   {
    "duration": 5,
    "start_time": "2023-01-18T13:28:58.794Z"
   },
   {
    "duration": 13,
    "start_time": "2023-01-18T13:29:01.890Z"
   },
   {
    "duration": 11,
    "start_time": "2023-01-18T13:29:16.420Z"
   },
   {
    "duration": 14,
    "start_time": "2023-01-18T13:30:05.938Z"
   },
   {
    "duration": 17,
    "start_time": "2023-01-18T13:30:16.539Z"
   },
   {
    "duration": 17,
    "start_time": "2023-01-18T13:30:27.101Z"
   },
   {
    "duration": 16,
    "start_time": "2023-01-18T13:30:42.015Z"
   },
   {
    "duration": 17,
    "start_time": "2023-01-18T13:30:48.193Z"
   },
   {
    "duration": 7,
    "start_time": "2023-01-18T13:33:17.236Z"
   },
   {
    "duration": 5,
    "start_time": "2023-01-18T13:33:17.596Z"
   },
   {
    "duration": 5,
    "start_time": "2023-01-18T13:33:17.899Z"
   },
   {
    "duration": 10,
    "start_time": "2023-01-18T13:33:18.324Z"
   },
   {
    "duration": 4,
    "start_time": "2023-01-18T13:33:51.482Z"
   },
   {
    "duration": 11,
    "start_time": "2023-01-18T13:33:51.680Z"
   },
   {
    "duration": 11,
    "start_time": "2023-01-18T13:33:56.282Z"
   },
   {
    "duration": 11,
    "start_time": "2023-01-18T13:34:01.034Z"
   },
   {
    "duration": 7,
    "start_time": "2023-01-18T13:34:46.610Z"
   },
   {
    "duration": 5,
    "start_time": "2023-01-18T13:34:46.786Z"
   },
   {
    "duration": 4,
    "start_time": "2023-01-18T13:34:46.945Z"
   },
   {
    "duration": 9,
    "start_time": "2023-01-18T13:34:47.115Z"
   },
   {
    "duration": 8,
    "start_time": "2023-01-18T14:17:02.974Z"
   },
   {
    "duration": 5,
    "start_time": "2023-01-18T14:17:03.173Z"
   },
   {
    "duration": 4,
    "start_time": "2023-01-18T14:17:03.368Z"
   },
   {
    "duration": 14,
    "start_time": "2023-01-18T14:17:03.606Z"
   },
   {
    "duration": 13,
    "start_time": "2023-01-18T14:17:30.278Z"
   },
   {
    "duration": 17,
    "start_time": "2023-01-18T14:17:37.486Z"
   },
   {
    "duration": 7,
    "start_time": "2023-01-18T14:18:35.068Z"
   },
   {
    "duration": 17,
    "start_time": "2023-01-18T14:21:19.460Z"
   },
   {
    "duration": 8,
    "start_time": "2023-01-18T14:41:39.099Z"
   },
   {
    "duration": 4,
    "start_time": "2023-01-18T14:41:45.819Z"
   },
   {
    "duration": 1170,
    "start_time": "2023-01-18T14:42:09.164Z"
   },
   {
    "duration": 18,
    "start_time": "2023-01-18T14:42:16.006Z"
   },
   {
    "duration": 1163,
    "start_time": "2023-01-18T14:42:24.615Z"
   },
   {
    "duration": 16,
    "start_time": "2023-01-18T14:42:32.430Z"
   },
   {
    "duration": 3,
    "start_time": "2023-01-18T14:47:10.388Z"
   },
   {
    "duration": 5,
    "start_time": "2023-01-18T14:47:58.467Z"
   },
   {
    "duration": 14,
    "start_time": "2023-01-18T14:48:02.459Z"
   },
   {
    "duration": 14,
    "start_time": "2023-01-18T14:49:23.774Z"
   },
   {
    "duration": 75,
    "start_time": "2023-01-18T14:52:28.157Z"
   },
   {
    "duration": 3,
    "start_time": "2023-01-18T14:52:32.407Z"
   },
   {
    "duration": 4,
    "start_time": "2023-01-18T14:52:37.305Z"
   },
   {
    "duration": 13,
    "start_time": "2023-01-18T14:52:37.657Z"
   },
   {
    "duration": 9,
    "start_time": "2023-01-18T14:53:03.259Z"
   },
   {
    "duration": 5,
    "start_time": "2023-01-18T14:53:03.643Z"
   },
   {
    "duration": 5,
    "start_time": "2023-01-18T14:53:03.987Z"
   },
   {
    "duration": 9,
    "start_time": "2023-01-18T14:53:04.371Z"
   },
   {
    "duration": 3,
    "start_time": "2023-01-18T14:53:26.112Z"
   },
   {
    "duration": 10,
    "start_time": "2023-01-18T14:53:26.478Z"
   },
   {
    "duration": 3,
    "start_time": "2023-01-18T14:53:27.407Z"
   },
   {
    "duration": 5,
    "start_time": "2023-01-18T14:53:27.805Z"
   },
   {
    "duration": 14,
    "start_time": "2023-01-18T14:53:28.272Z"
   },
   {
    "duration": 17,
    "start_time": "2023-01-18T14:53:57.808Z"
   },
   {
    "duration": 10,
    "start_time": "2023-01-18T14:54:04.525Z"
   },
   {
    "duration": 68,
    "start_time": "2023-01-18T15:05:12.395Z"
   },
   {
    "duration": 74,
    "start_time": "2023-01-18T15:05:59.422Z"
   },
   {
    "duration": 1357,
    "start_time": "2023-01-18T15:06:10.994Z"
   },
   {
    "duration": 74,
    "start_time": "2023-01-18T15:06:12.353Z"
   },
   {
    "duration": 3,
    "start_time": "2023-01-18T15:06:12.431Z"
   },
   {
    "duration": 16,
    "start_time": "2023-01-18T15:06:12.436Z"
   },
   {
    "duration": 13,
    "start_time": "2023-01-18T15:06:12.453Z"
   },
   {
    "duration": 17,
    "start_time": "2023-01-18T15:06:12.468Z"
   },
   {
    "duration": 14,
    "start_time": "2023-01-18T15:06:12.487Z"
   },
   {
    "duration": 13,
    "start_time": "2023-01-18T15:06:12.503Z"
   },
   {
    "duration": 14,
    "start_time": "2023-01-18T15:06:12.539Z"
   },
   {
    "duration": 21,
    "start_time": "2023-01-18T15:06:12.554Z"
   },
   {
    "duration": 10,
    "start_time": "2023-01-18T15:06:12.577Z"
   },
   {
    "duration": 8,
    "start_time": "2023-01-18T15:06:12.589Z"
   },
   {
    "duration": 3,
    "start_time": "2023-01-18T15:06:12.600Z"
   },
   {
    "duration": 11,
    "start_time": "2023-01-18T15:06:12.641Z"
   },
   {
    "duration": 404,
    "start_time": "2023-01-18T15:06:12.654Z"
   },
   {
    "duration": 5,
    "start_time": "2023-01-18T15:06:13.059Z"
   },
   {
    "duration": 128,
    "start_time": "2023-01-18T15:06:13.066Z"
   },
   {
    "duration": 116,
    "start_time": "2023-01-18T15:06:13.196Z"
   },
   {
    "duration": 4,
    "start_time": "2023-01-18T15:06:13.314Z"
   },
   {
    "duration": 25,
    "start_time": "2023-01-18T15:06:13.320Z"
   },
   {
    "duration": 20,
    "start_time": "2023-01-18T15:06:13.347Z"
   },
   {
    "duration": 24,
    "start_time": "2023-01-18T15:06:13.369Z"
   },
   {
    "duration": 30,
    "start_time": "2023-01-18T15:06:13.394Z"
   },
   {
    "duration": 15,
    "start_time": "2023-01-18T15:06:13.426Z"
   },
   {
    "duration": 20,
    "start_time": "2023-01-18T15:06:13.443Z"
   },
   {
    "duration": 31,
    "start_time": "2023-01-18T15:06:13.464Z"
   },
   {
    "duration": 23,
    "start_time": "2023-01-18T15:06:13.501Z"
   },
   {
    "duration": 20,
    "start_time": "2023-01-18T15:06:13.526Z"
   },
   {
    "duration": 21,
    "start_time": "2023-01-18T15:06:13.548Z"
   },
   {
    "duration": 19,
    "start_time": "2023-01-18T15:06:13.571Z"
   },
   {
    "duration": 16,
    "start_time": "2023-01-18T15:06:13.592Z"
   },
   {
    "duration": 34,
    "start_time": "2023-01-18T15:06:13.609Z"
   },
   {
    "duration": 13,
    "start_time": "2023-01-18T15:06:13.645Z"
   },
   {
    "duration": 25,
    "start_time": "2023-01-18T15:06:13.659Z"
   },
   {
    "duration": 30,
    "start_time": "2023-01-18T15:06:13.685Z"
   },
   {
    "duration": 20,
    "start_time": "2023-01-18T15:06:13.717Z"
   },
   {
    "duration": 18,
    "start_time": "2023-01-18T15:06:13.739Z"
   },
   {
    "duration": 34,
    "start_time": "2023-01-18T15:06:13.760Z"
   },
   {
    "duration": 9,
    "start_time": "2023-01-18T15:06:13.796Z"
   },
   {
    "duration": 32,
    "start_time": "2023-01-18T15:06:13.806Z"
   },
   {
    "duration": 16,
    "start_time": "2023-01-18T15:06:13.840Z"
   },
   {
    "duration": 15,
    "start_time": "2023-01-18T15:06:13.858Z"
   },
   {
    "duration": 21,
    "start_time": "2023-01-18T15:06:13.875Z"
   },
   {
    "duration": 14,
    "start_time": "2023-01-18T15:06:13.898Z"
   },
   {
    "duration": 27,
    "start_time": "2023-01-18T15:06:13.914Z"
   },
   {
    "duration": 21,
    "start_time": "2023-01-18T15:06:13.943Z"
   },
   {
    "duration": 11,
    "start_time": "2023-01-18T15:06:13.965Z"
   },
   {
    "duration": 28,
    "start_time": "2023-01-18T15:06:13.978Z"
   },
   {
    "duration": 220,
    "start_time": "2023-01-18T15:06:14.008Z"
   },
   {
    "duration": 20,
    "start_time": "2023-01-18T15:06:14.230Z"
   },
   {
    "duration": 11,
    "start_time": "2023-01-18T15:06:14.252Z"
   },
   {
    "duration": 305,
    "start_time": "2023-01-18T15:06:14.264Z"
   },
   {
    "duration": 272,
    "start_time": "2023-01-18T15:06:14.571Z"
   },
   {
    "duration": 13,
    "start_time": "2023-01-18T15:06:14.844Z"
   },
   {
    "duration": 20,
    "start_time": "2023-01-18T15:06:14.859Z"
   },
   {
    "duration": 36,
    "start_time": "2023-01-18T15:06:14.881Z"
   },
   {
    "duration": 34,
    "start_time": "2023-01-18T15:06:14.919Z"
   },
   {
    "duration": 330,
    "start_time": "2023-01-18T15:06:14.955Z"
   },
   {
    "duration": 18,
    "start_time": "2023-01-18T15:06:15.287Z"
   },
   {
    "duration": 4,
    "start_time": "2023-01-18T15:06:15.307Z"
   },
   {
    "duration": 38,
    "start_time": "2023-01-18T15:06:15.313Z"
   },
   {
    "duration": 274,
    "start_time": "2023-01-18T15:06:15.353Z"
   },
   {
    "duration": 16,
    "start_time": "2023-01-18T15:06:15.628Z"
   },
   {
    "duration": 20,
    "start_time": "2023-01-18T15:06:15.645Z"
   },
   {
    "duration": 861,
    "start_time": "2023-01-18T15:06:15.667Z"
   },
   {
    "duration": 14,
    "start_time": "2023-01-18T15:06:16.530Z"
   },
   {
    "duration": 14,
    "start_time": "2023-01-18T15:06:16.546Z"
   },
   {
    "duration": 8,
    "start_time": "2023-01-18T15:06:16.563Z"
   },
   {
    "duration": 227,
    "start_time": "2023-01-18T15:06:16.573Z"
   },
   {
    "duration": 6,
    "start_time": "2023-01-18T15:06:16.802Z"
   },
   {
    "duration": 10,
    "start_time": "2023-01-18T15:06:16.810Z"
   },
   {
    "duration": 22,
    "start_time": "2023-01-18T15:06:16.822Z"
   },
   {
    "duration": 209,
    "start_time": "2023-01-18T15:06:16.845Z"
   },
   {
    "duration": 6,
    "start_time": "2023-01-18T15:06:17.057Z"
   },
   {
    "duration": 17,
    "start_time": "2023-01-18T15:06:17.065Z"
   },
   {
    "duration": 9,
    "start_time": "2023-01-18T15:06:17.084Z"
   },
   {
    "duration": 9,
    "start_time": "2023-01-18T15:06:17.095Z"
   },
   {
    "duration": 15,
    "start_time": "2023-01-18T15:06:17.105Z"
   },
   {
    "duration": 24,
    "start_time": "2023-01-18T15:06:17.122Z"
   },
   {
    "duration": 8,
    "start_time": "2023-01-18T15:06:17.148Z"
   },
   {
    "duration": 16,
    "start_time": "2023-01-18T15:06:17.163Z"
   },
   {
    "duration": 68,
    "start_time": "2023-01-19T12:09:28.095Z"
   },
   {
    "duration": 1591,
    "start_time": "2023-01-19T12:09:49.261Z"
   },
   {
    "duration": 217,
    "start_time": "2023-01-19T12:09:50.855Z"
   },
   {
    "duration": 4,
    "start_time": "2023-01-19T12:09:51.075Z"
   },
   {
    "duration": 28,
    "start_time": "2023-01-19T12:09:51.082Z"
   },
   {
    "duration": 18,
    "start_time": "2023-01-19T12:09:51.113Z"
   },
   {
    "duration": 19,
    "start_time": "2023-01-19T12:09:51.134Z"
   },
   {
    "duration": 33,
    "start_time": "2023-01-19T12:09:51.156Z"
   },
   {
    "duration": 30,
    "start_time": "2023-01-19T12:09:51.191Z"
   },
   {
    "duration": 21,
    "start_time": "2023-01-19T12:09:51.223Z"
   },
   {
    "duration": 34,
    "start_time": "2023-01-19T12:09:51.247Z"
   },
   {
    "duration": 11,
    "start_time": "2023-01-19T12:09:51.283Z"
   },
   {
    "duration": 22,
    "start_time": "2023-01-19T12:09:51.297Z"
   },
   {
    "duration": 3,
    "start_time": "2023-01-19T12:09:51.321Z"
   },
   {
    "duration": 28,
    "start_time": "2023-01-19T12:09:51.326Z"
   },
   {
    "duration": 418,
    "start_time": "2023-01-19T12:09:51.356Z"
   },
   {
    "duration": 4,
    "start_time": "2023-01-19T12:09:51.776Z"
   },
   {
    "duration": 121,
    "start_time": "2023-01-19T12:09:51.782Z"
   },
   {
    "duration": 151,
    "start_time": "2023-01-19T12:09:51.906Z"
   },
   {
    "duration": 5,
    "start_time": "2023-01-19T12:09:52.059Z"
   },
   {
    "duration": 17,
    "start_time": "2023-01-19T12:09:52.066Z"
   },
   {
    "duration": 16,
    "start_time": "2023-01-19T12:09:52.085Z"
   },
   {
    "duration": 14,
    "start_time": "2023-01-19T12:09:52.121Z"
   },
   {
    "duration": 26,
    "start_time": "2023-01-19T12:09:52.137Z"
   },
   {
    "duration": 4,
    "start_time": "2023-01-19T12:09:52.165Z"
   },
   {
    "duration": 7,
    "start_time": "2023-01-19T12:09:52.171Z"
   },
   {
    "duration": 51,
    "start_time": "2023-01-19T12:09:52.180Z"
   },
   {
    "duration": 22,
    "start_time": "2023-01-19T12:09:52.233Z"
   },
   {
    "duration": 5,
    "start_time": "2023-01-19T12:09:52.263Z"
   },
   {
    "duration": 16,
    "start_time": "2023-01-19T12:09:52.270Z"
   },
   {
    "duration": 27,
    "start_time": "2023-01-19T12:09:52.288Z"
   },
   {
    "duration": 26,
    "start_time": "2023-01-19T12:09:52.317Z"
   },
   {
    "duration": 35,
    "start_time": "2023-01-19T12:09:52.345Z"
   },
   {
    "duration": 17,
    "start_time": "2023-01-19T12:09:52.383Z"
   },
   {
    "duration": 14,
    "start_time": "2023-01-19T12:09:52.403Z"
   },
   {
    "duration": 16,
    "start_time": "2023-01-19T12:09:52.419Z"
   },
   {
    "duration": 47,
    "start_time": "2023-01-19T12:09:52.438Z"
   },
   {
    "duration": 23,
    "start_time": "2023-01-19T12:09:52.488Z"
   },
   {
    "duration": 73,
    "start_time": "2023-01-19T12:09:52.514Z"
   },
   {
    "duration": 30,
    "start_time": "2023-01-19T12:09:52.589Z"
   },
   {
    "duration": 36,
    "start_time": "2023-01-19T12:09:52.621Z"
   },
   {
    "duration": 10,
    "start_time": "2023-01-19T12:09:52.659Z"
   },
   {
    "duration": 10,
    "start_time": "2023-01-19T12:09:52.671Z"
   },
   {
    "duration": 10,
    "start_time": "2023-01-19T12:09:52.683Z"
   },
   {
    "duration": 30,
    "start_time": "2023-01-19T12:09:52.695Z"
   },
   {
    "duration": 18,
    "start_time": "2023-01-19T12:09:52.727Z"
   },
   {
    "duration": 22,
    "start_time": "2023-01-19T12:09:52.747Z"
   },
   {
    "duration": 8,
    "start_time": "2023-01-19T12:09:52.771Z"
   },
   {
    "duration": 17,
    "start_time": "2023-01-19T12:09:52.781Z"
   },
   {
    "duration": 304,
    "start_time": "2023-01-19T12:09:52.800Z"
   },
   {
    "duration": 26,
    "start_time": "2023-01-19T12:09:53.107Z"
   },
   {
    "duration": 4,
    "start_time": "2023-01-19T12:09:53.135Z"
   },
   {
    "duration": 356,
    "start_time": "2023-01-19T12:09:53.141Z"
   },
   {
    "duration": 327,
    "start_time": "2023-01-19T12:09:53.499Z"
   },
   {
    "duration": 22,
    "start_time": "2023-01-19T12:09:53.828Z"
   },
   {
    "duration": 18,
    "start_time": "2023-01-19T12:09:53.852Z"
   },
   {
    "duration": 36,
    "start_time": "2023-01-19T12:09:53.872Z"
   },
   {
    "duration": 21,
    "start_time": "2023-01-19T12:09:53.911Z"
   },
   {
    "duration": 328,
    "start_time": "2023-01-19T12:09:53.934Z"
   },
   {
    "duration": 15,
    "start_time": "2023-01-19T12:09:54.264Z"
   },
   {
    "duration": 20,
    "start_time": "2023-01-19T12:09:54.281Z"
   },
   {
    "duration": 26,
    "start_time": "2023-01-19T12:09:54.304Z"
   },
   {
    "duration": 268,
    "start_time": "2023-01-19T12:09:54.333Z"
   },
   {
    "duration": 6,
    "start_time": "2023-01-19T12:09:54.603Z"
   },
   {
    "duration": 29,
    "start_time": "2023-01-19T12:09:54.611Z"
   },
   {
    "duration": 1107,
    "start_time": "2023-01-19T12:09:54.642Z"
   },
   {
    "duration": 6,
    "start_time": "2023-01-19T12:09:55.751Z"
   },
   {
    "duration": 26,
    "start_time": "2023-01-19T12:09:55.759Z"
   },
   {
    "duration": 12,
    "start_time": "2023-01-19T12:09:55.787Z"
   },
   {
    "duration": 13,
    "start_time": "2023-01-19T12:09:55.801Z"
   },
   {
    "duration": 15,
    "start_time": "2023-01-19T12:09:55.816Z"
   },
   {
    "duration": 6,
    "start_time": "2023-01-19T12:09:55.833Z"
   },
   {
    "duration": 12,
    "start_time": "2023-01-19T12:09:55.841Z"
   },
   {
    "duration": 23,
    "start_time": "2023-01-19T12:09:55.856Z"
   },
   {
    "duration": 11,
    "start_time": "2023-01-19T12:09:55.881Z"
   },
   {
    "duration": 33,
    "start_time": "2023-01-19T12:09:55.894Z"
   },
   {
    "duration": 261,
    "start_time": "2023-01-19T12:09:55.929Z"
   },
   {
    "duration": 6,
    "start_time": "2023-01-19T12:09:56.193Z"
   },
   {
    "duration": 24,
    "start_time": "2023-01-19T12:09:56.200Z"
   },
   {
    "duration": 16,
    "start_time": "2023-01-19T12:09:56.226Z"
   },
   {
    "duration": 170,
    "start_time": "2023-01-19T12:09:56.245Z"
   },
   {
    "duration": 7,
    "start_time": "2023-01-19T12:09:56.417Z"
   },
   {
    "duration": 90,
    "start_time": "2023-01-19T16:02:25.589Z"
   },
   {
    "duration": 70,
    "start_time": "2023-01-19T16:03:34.935Z"
   },
   {
    "duration": 73,
    "start_time": "2023-01-19T16:03:37.238Z"
   },
   {
    "duration": 74,
    "start_time": "2023-01-19T16:07:24.918Z"
   },
   {
    "duration": 82,
    "start_time": "2023-01-19T16:09:43.903Z"
   }
  ],
  "kernelspec": {
   "display_name": "Python 3 (ipykernel)",
   "language": "python",
   "name": "python3"
  },
  "language_info": {
   "codemirror_mode": {
    "name": "ipython",
    "version": 3
   },
   "file_extension": ".py",
   "mimetype": "text/x-python",
   "name": "python",
   "nbconvert_exporter": "python",
   "pygments_lexer": "ipython3",
   "version": "3.10.5"
  },
  "toc": {
   "base_numbering": 1,
   "nav_menu": {},
   "number_sections": true,
   "sideBar": true,
   "skip_h1_title": true,
   "title_cell": "Table of Contents",
   "title_sidebar": "Contents",
   "toc_cell": false,
   "toc_position": {},
   "toc_section_display": true,
   "toc_window_display": false
  }
 },
 "nbformat": 4,
 "nbformat_minor": 5
}
